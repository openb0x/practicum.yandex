{
 "cells": [
  {
   "cell_type": "markdown",
   "metadata": {},
   "source": [
    "<div class=\"alert alert-success\">\n",
    "<h3>✔ Комментарий реьюера V.2</h3>\n",
    "    \n",
    "Спасибо, что прокомментировал. Я оставил комментарий и пример про случайность пропусков, можешь ознакомиться :) Удачи в следующих спринтах\n",
    "</div>  "
   ]
  },
  {
   "cell_type": "markdown",
   "metadata": {},
   "source": [
    "# <div class=\"alert alert-success\">\n",
    "<h2> Комментарий ревьюера</h2>\n",
    "    \n",
    "Привет! Меня зовут Алексей Тюрин, я буду делать ревью твоей работы. Давай будем общаться на «ты».\n",
    "\n",
    "У тебя хорошая, аккуратная работа 👍. Перед заменой пропусков нужно показать их случайность и заменить на медиану в зависимости от группы по доходу, в остальном всё здорово, можешь посмотреть комментарии и задать вопросы, если есть :)\n",
    "    \n",
    "    \n",
    "---\n",
    "Комментарии делятся на 3 группы:\n",
    "    \n",
    "Зелёным цветом отмечены комментарии, либо подчёркиваюищие удачные решения, либо содержащие какую-то дополнительную информацию или советы, они формально не требуют правки, но правки приветствуются. Выделены они так:\n",
    "\n",
    "<div class=\"alert alert-success\">\n",
    "<h3>✔ Комментарий ревьюера</h3>\n",
    "    \n",
    "Тут текст    \n",
    "</div>    \n",
    "\n",
    "Жёлтым цветом выделены правки, которые желательны:\n",
    "\n",
    "<div class=\"alert alert-warning\">\n",
    "<h3>❗ Комментарий ревьюера</h3>\n",
    "    \n",
    "Тут текст    \n",
    "</div>    \n",
    "\n",
    "Красным выделены правки, которые обязательны\n",
    "    \n",
    "<div class=\"alert alert-danger\">\n",
    "<h3>❌Комментарий ревьюера</h3>\n",
    "    \n",
    "Тут текст    \n",
    "</div>    \n",
    "    \n",
    "Давай работать над проектом в диалоге: если ты **что-то меняешь** в проекте по моим рекомендациям — **пиши об этом**. Выбери для своих комментариев какой-то заметный цвет, так мне будет легче отследить изменения. Пожалуйста, **не перемещай, не изменяй и не удаляй мои комментарии**. Всё это поможет выполнить повторную проверку твоего проекта оперативнее». Если оставляешь комментарии на какой-то итерации ревью, пиши что-то вроде `комментарий студента V.номер итерации`\n",
    "</div>\n",
    "\n",
    "Цвет можно сделать, например, так\n",
    "\n",
    "<div class = \"alert alert-info\" >\n",
    "<h3>Комментарий студента</h3>\n",
    "Ревьюер душнила :)\n",
    "</div>\n",
    "\n",
    "Или так:\n",
    "    \n",
    "<div class=\"alert alert-info\" style=\"background:#ffdbf1;color:#2e00ab\">\n",
    "<h3>Комментарий студента </h3>\n",
    "    ...\n",
    "</div>"
   ]
  },
  {
   "cell_type": "markdown",
   "metadata": {},
   "source": [
    "# Исследование надёжности заёмщиков\n",
    "\n",
    "Заказчик — кредитный отдел банка. Нужно разобраться, влияет ли семейное положение и количество детей клиента на факт погашения кредита в срок. Входные данные от банка — статистика о платёжеспособности клиентов.\n",
    "\n",
    "Результаты исследования будут учтены при построении модели **кредитного скоринга** — специальной системы, которая оценивает способность потенциального заёмщика вернуть кредит банку."
   ]
  },
  {
   "cell_type": "markdown",
   "metadata": {},
   "source": [
    "## Шаг 1. Откройте файл с данными и изучите общую информацию"
   ]
  },
  {
   "cell_type": "markdown",
   "metadata": {},
   "source": [
    "Импортируем pandas и посмотрим на первые и последние 10 строк датафрейма."
   ]
  },
  {
   "cell_type": "code",
   "execution_count": 181,
   "metadata": {
    "scrolled": true
   },
   "outputs": [
    {
     "data": {
      "text/html": [
       "<div>\n",
       "<style scoped>\n",
       "    .dataframe tbody tr th:only-of-type {\n",
       "        vertical-align: middle;\n",
       "    }\n",
       "\n",
       "    .dataframe tbody tr th {\n",
       "        vertical-align: top;\n",
       "    }\n",
       "\n",
       "    .dataframe thead th {\n",
       "        text-align: right;\n",
       "    }\n",
       "</style>\n",
       "<table border=\"1\" class=\"dataframe\">\n",
       "  <thead>\n",
       "    <tr style=\"text-align: right;\">\n",
       "      <th></th>\n",
       "      <th>children</th>\n",
       "      <th>days_employed</th>\n",
       "      <th>dob_years</th>\n",
       "      <th>education</th>\n",
       "      <th>education_id</th>\n",
       "      <th>family_status</th>\n",
       "      <th>family_status_id</th>\n",
       "      <th>gender</th>\n",
       "      <th>income_type</th>\n",
       "      <th>debt</th>\n",
       "      <th>total_income</th>\n",
       "      <th>purpose</th>\n",
       "    </tr>\n",
       "  </thead>\n",
       "  <tbody>\n",
       "    <tr>\n",
       "      <td>0</td>\n",
       "      <td>1</td>\n",
       "      <td>-8437.673028</td>\n",
       "      <td>42</td>\n",
       "      <td>высшее</td>\n",
       "      <td>0</td>\n",
       "      <td>женат / замужем</td>\n",
       "      <td>0</td>\n",
       "      <td>F</td>\n",
       "      <td>сотрудник</td>\n",
       "      <td>0</td>\n",
       "      <td>253875.639453</td>\n",
       "      <td>покупка жилья</td>\n",
       "    </tr>\n",
       "    <tr>\n",
       "      <td>1</td>\n",
       "      <td>1</td>\n",
       "      <td>-4024.803754</td>\n",
       "      <td>36</td>\n",
       "      <td>среднее</td>\n",
       "      <td>1</td>\n",
       "      <td>женат / замужем</td>\n",
       "      <td>0</td>\n",
       "      <td>F</td>\n",
       "      <td>сотрудник</td>\n",
       "      <td>0</td>\n",
       "      <td>112080.014102</td>\n",
       "      <td>приобретение автомобиля</td>\n",
       "    </tr>\n",
       "    <tr>\n",
       "      <td>2</td>\n",
       "      <td>0</td>\n",
       "      <td>-5623.422610</td>\n",
       "      <td>33</td>\n",
       "      <td>Среднее</td>\n",
       "      <td>1</td>\n",
       "      <td>женат / замужем</td>\n",
       "      <td>0</td>\n",
       "      <td>M</td>\n",
       "      <td>сотрудник</td>\n",
       "      <td>0</td>\n",
       "      <td>145885.952297</td>\n",
       "      <td>покупка жилья</td>\n",
       "    </tr>\n",
       "    <tr>\n",
       "      <td>3</td>\n",
       "      <td>3</td>\n",
       "      <td>-4124.747207</td>\n",
       "      <td>32</td>\n",
       "      <td>среднее</td>\n",
       "      <td>1</td>\n",
       "      <td>женат / замужем</td>\n",
       "      <td>0</td>\n",
       "      <td>M</td>\n",
       "      <td>сотрудник</td>\n",
       "      <td>0</td>\n",
       "      <td>267628.550329</td>\n",
       "      <td>дополнительное образование</td>\n",
       "    </tr>\n",
       "    <tr>\n",
       "      <td>4</td>\n",
       "      <td>0</td>\n",
       "      <td>340266.072047</td>\n",
       "      <td>53</td>\n",
       "      <td>среднее</td>\n",
       "      <td>1</td>\n",
       "      <td>гражданский брак</td>\n",
       "      <td>1</td>\n",
       "      <td>F</td>\n",
       "      <td>пенсионер</td>\n",
       "      <td>0</td>\n",
       "      <td>158616.077870</td>\n",
       "      <td>сыграть свадьбу</td>\n",
       "    </tr>\n",
       "    <tr>\n",
       "      <td>5</td>\n",
       "      <td>0</td>\n",
       "      <td>-926.185831</td>\n",
       "      <td>27</td>\n",
       "      <td>высшее</td>\n",
       "      <td>0</td>\n",
       "      <td>гражданский брак</td>\n",
       "      <td>1</td>\n",
       "      <td>M</td>\n",
       "      <td>компаньон</td>\n",
       "      <td>0</td>\n",
       "      <td>255763.565419</td>\n",
       "      <td>покупка жилья</td>\n",
       "    </tr>\n",
       "    <tr>\n",
       "      <td>6</td>\n",
       "      <td>0</td>\n",
       "      <td>-2879.202052</td>\n",
       "      <td>43</td>\n",
       "      <td>высшее</td>\n",
       "      <td>0</td>\n",
       "      <td>женат / замужем</td>\n",
       "      <td>0</td>\n",
       "      <td>F</td>\n",
       "      <td>компаньон</td>\n",
       "      <td>0</td>\n",
       "      <td>240525.971920</td>\n",
       "      <td>операции с жильем</td>\n",
       "    </tr>\n",
       "    <tr>\n",
       "      <td>7</td>\n",
       "      <td>0</td>\n",
       "      <td>-152.779569</td>\n",
       "      <td>50</td>\n",
       "      <td>СРЕДНЕЕ</td>\n",
       "      <td>1</td>\n",
       "      <td>женат / замужем</td>\n",
       "      <td>0</td>\n",
       "      <td>M</td>\n",
       "      <td>сотрудник</td>\n",
       "      <td>0</td>\n",
       "      <td>135823.934197</td>\n",
       "      <td>образование</td>\n",
       "    </tr>\n",
       "    <tr>\n",
       "      <td>8</td>\n",
       "      <td>2</td>\n",
       "      <td>-6929.865299</td>\n",
       "      <td>35</td>\n",
       "      <td>ВЫСШЕЕ</td>\n",
       "      <td>0</td>\n",
       "      <td>гражданский брак</td>\n",
       "      <td>1</td>\n",
       "      <td>F</td>\n",
       "      <td>сотрудник</td>\n",
       "      <td>0</td>\n",
       "      <td>95856.832424</td>\n",
       "      <td>на проведение свадьбы</td>\n",
       "    </tr>\n",
       "    <tr>\n",
       "      <td>9</td>\n",
       "      <td>0</td>\n",
       "      <td>-2188.756445</td>\n",
       "      <td>41</td>\n",
       "      <td>среднее</td>\n",
       "      <td>1</td>\n",
       "      <td>женат / замужем</td>\n",
       "      <td>0</td>\n",
       "      <td>M</td>\n",
       "      <td>сотрудник</td>\n",
       "      <td>0</td>\n",
       "      <td>144425.938277</td>\n",
       "      <td>покупка жилья для семьи</td>\n",
       "    </tr>\n",
       "  </tbody>\n",
       "</table>\n",
       "</div>"
      ],
      "text/plain": [
       "   children  days_employed  dob_years education  education_id  \\\n",
       "0         1   -8437.673028         42    высшее             0   \n",
       "1         1   -4024.803754         36   среднее             1   \n",
       "2         0   -5623.422610         33   Среднее             1   \n",
       "3         3   -4124.747207         32   среднее             1   \n",
       "4         0  340266.072047         53   среднее             1   \n",
       "5         0    -926.185831         27    высшее             0   \n",
       "6         0   -2879.202052         43    высшее             0   \n",
       "7         0    -152.779569         50   СРЕДНЕЕ             1   \n",
       "8         2   -6929.865299         35    ВЫСШЕЕ             0   \n",
       "9         0   -2188.756445         41   среднее             1   \n",
       "\n",
       "      family_status  family_status_id gender income_type  debt   total_income  \\\n",
       "0   женат / замужем                 0      F   сотрудник     0  253875.639453   \n",
       "1   женат / замужем                 0      F   сотрудник     0  112080.014102   \n",
       "2   женат / замужем                 0      M   сотрудник     0  145885.952297   \n",
       "3   женат / замужем                 0      M   сотрудник     0  267628.550329   \n",
       "4  гражданский брак                 1      F   пенсионер     0  158616.077870   \n",
       "5  гражданский брак                 1      M   компаньон     0  255763.565419   \n",
       "6   женат / замужем                 0      F   компаньон     0  240525.971920   \n",
       "7   женат / замужем                 0      M   сотрудник     0  135823.934197   \n",
       "8  гражданский брак                 1      F   сотрудник     0   95856.832424   \n",
       "9   женат / замужем                 0      M   сотрудник     0  144425.938277   \n",
       "\n",
       "                      purpose  \n",
       "0               покупка жилья  \n",
       "1     приобретение автомобиля  \n",
       "2               покупка жилья  \n",
       "3  дополнительное образование  \n",
       "4             сыграть свадьбу  \n",
       "5               покупка жилья  \n",
       "6           операции с жильем  \n",
       "7                 образование  \n",
       "8       на проведение свадьбы  \n",
       "9     покупка жилья для семьи  "
      ]
     },
     "execution_count": 181,
     "metadata": {},
     "output_type": "execute_result"
    }
   ],
   "source": [
    "import pandas as pd\n",
    "df = pd.read_csv('/datasets/data.csv')\n",
    "df.head(10)"
   ]
  },
  {
   "cell_type": "code",
   "execution_count": 182,
   "metadata": {},
   "outputs": [
    {
     "data": {
      "text/html": [
       "<div>\n",
       "<style scoped>\n",
       "    .dataframe tbody tr th:only-of-type {\n",
       "        vertical-align: middle;\n",
       "    }\n",
       "\n",
       "    .dataframe tbody tr th {\n",
       "        vertical-align: top;\n",
       "    }\n",
       "\n",
       "    .dataframe thead th {\n",
       "        text-align: right;\n",
       "    }\n",
       "</style>\n",
       "<table border=\"1\" class=\"dataframe\">\n",
       "  <thead>\n",
       "    <tr style=\"text-align: right;\">\n",
       "      <th></th>\n",
       "      <th>children</th>\n",
       "      <th>days_employed</th>\n",
       "      <th>dob_years</th>\n",
       "      <th>education</th>\n",
       "      <th>education_id</th>\n",
       "      <th>family_status</th>\n",
       "      <th>family_status_id</th>\n",
       "      <th>gender</th>\n",
       "      <th>income_type</th>\n",
       "      <th>debt</th>\n",
       "      <th>total_income</th>\n",
       "      <th>purpose</th>\n",
       "    </tr>\n",
       "  </thead>\n",
       "  <tbody>\n",
       "    <tr>\n",
       "      <td>21515</td>\n",
       "      <td>1</td>\n",
       "      <td>-467.685130</td>\n",
       "      <td>28</td>\n",
       "      <td>среднее</td>\n",
       "      <td>1</td>\n",
       "      <td>женат / замужем</td>\n",
       "      <td>0</td>\n",
       "      <td>F</td>\n",
       "      <td>сотрудник</td>\n",
       "      <td>1</td>\n",
       "      <td>109486.327999</td>\n",
       "      <td>заняться образованием</td>\n",
       "    </tr>\n",
       "    <tr>\n",
       "      <td>21516</td>\n",
       "      <td>0</td>\n",
       "      <td>-914.391429</td>\n",
       "      <td>42</td>\n",
       "      <td>высшее</td>\n",
       "      <td>0</td>\n",
       "      <td>женат / замужем</td>\n",
       "      <td>0</td>\n",
       "      <td>F</td>\n",
       "      <td>компаньон</td>\n",
       "      <td>0</td>\n",
       "      <td>322807.776603</td>\n",
       "      <td>покупка своего жилья</td>\n",
       "    </tr>\n",
       "    <tr>\n",
       "      <td>21517</td>\n",
       "      <td>0</td>\n",
       "      <td>-404.679034</td>\n",
       "      <td>42</td>\n",
       "      <td>высшее</td>\n",
       "      <td>0</td>\n",
       "      <td>гражданский брак</td>\n",
       "      <td>1</td>\n",
       "      <td>F</td>\n",
       "      <td>компаньон</td>\n",
       "      <td>0</td>\n",
       "      <td>178059.553491</td>\n",
       "      <td>на покупку своего автомобиля</td>\n",
       "    </tr>\n",
       "    <tr>\n",
       "      <td>21518</td>\n",
       "      <td>0</td>\n",
       "      <td>373995.710838</td>\n",
       "      <td>59</td>\n",
       "      <td>СРЕДНЕЕ</td>\n",
       "      <td>1</td>\n",
       "      <td>женат / замужем</td>\n",
       "      <td>0</td>\n",
       "      <td>F</td>\n",
       "      <td>пенсионер</td>\n",
       "      <td>0</td>\n",
       "      <td>153864.650328</td>\n",
       "      <td>сделка с автомобилем</td>\n",
       "    </tr>\n",
       "    <tr>\n",
       "      <td>21519</td>\n",
       "      <td>1</td>\n",
       "      <td>-2351.431934</td>\n",
       "      <td>37</td>\n",
       "      <td>ученая степень</td>\n",
       "      <td>4</td>\n",
       "      <td>в разводе</td>\n",
       "      <td>3</td>\n",
       "      <td>M</td>\n",
       "      <td>сотрудник</td>\n",
       "      <td>0</td>\n",
       "      <td>115949.039788</td>\n",
       "      <td>покупка коммерческой недвижимости</td>\n",
       "    </tr>\n",
       "    <tr>\n",
       "      <td>21520</td>\n",
       "      <td>1</td>\n",
       "      <td>-4529.316663</td>\n",
       "      <td>43</td>\n",
       "      <td>среднее</td>\n",
       "      <td>1</td>\n",
       "      <td>гражданский брак</td>\n",
       "      <td>1</td>\n",
       "      <td>F</td>\n",
       "      <td>компаньон</td>\n",
       "      <td>0</td>\n",
       "      <td>224791.862382</td>\n",
       "      <td>операции с жильем</td>\n",
       "    </tr>\n",
       "    <tr>\n",
       "      <td>21521</td>\n",
       "      <td>0</td>\n",
       "      <td>343937.404131</td>\n",
       "      <td>67</td>\n",
       "      <td>среднее</td>\n",
       "      <td>1</td>\n",
       "      <td>женат / замужем</td>\n",
       "      <td>0</td>\n",
       "      <td>F</td>\n",
       "      <td>пенсионер</td>\n",
       "      <td>0</td>\n",
       "      <td>155999.806512</td>\n",
       "      <td>сделка с автомобилем</td>\n",
       "    </tr>\n",
       "    <tr>\n",
       "      <td>21522</td>\n",
       "      <td>1</td>\n",
       "      <td>-2113.346888</td>\n",
       "      <td>38</td>\n",
       "      <td>среднее</td>\n",
       "      <td>1</td>\n",
       "      <td>гражданский брак</td>\n",
       "      <td>1</td>\n",
       "      <td>M</td>\n",
       "      <td>сотрудник</td>\n",
       "      <td>1</td>\n",
       "      <td>89672.561153</td>\n",
       "      <td>недвижимость</td>\n",
       "    </tr>\n",
       "    <tr>\n",
       "      <td>21523</td>\n",
       "      <td>3</td>\n",
       "      <td>-3112.481705</td>\n",
       "      <td>38</td>\n",
       "      <td>среднее</td>\n",
       "      <td>1</td>\n",
       "      <td>женат / замужем</td>\n",
       "      <td>0</td>\n",
       "      <td>M</td>\n",
       "      <td>сотрудник</td>\n",
       "      <td>1</td>\n",
       "      <td>244093.050500</td>\n",
       "      <td>на покупку своего автомобиля</td>\n",
       "    </tr>\n",
       "    <tr>\n",
       "      <td>21524</td>\n",
       "      <td>2</td>\n",
       "      <td>-1984.507589</td>\n",
       "      <td>40</td>\n",
       "      <td>среднее</td>\n",
       "      <td>1</td>\n",
       "      <td>женат / замужем</td>\n",
       "      <td>0</td>\n",
       "      <td>F</td>\n",
       "      <td>сотрудник</td>\n",
       "      <td>0</td>\n",
       "      <td>82047.418899</td>\n",
       "      <td>на покупку автомобиля</td>\n",
       "    </tr>\n",
       "  </tbody>\n",
       "</table>\n",
       "</div>"
      ],
      "text/plain": [
       "       children  days_employed  dob_years       education  education_id  \\\n",
       "21515         1    -467.685130         28         среднее             1   \n",
       "21516         0    -914.391429         42          высшее             0   \n",
       "21517         0    -404.679034         42          высшее             0   \n",
       "21518         0  373995.710838         59         СРЕДНЕЕ             1   \n",
       "21519         1   -2351.431934         37  ученая степень             4   \n",
       "21520         1   -4529.316663         43         среднее             1   \n",
       "21521         0  343937.404131         67         среднее             1   \n",
       "21522         1   -2113.346888         38         среднее             1   \n",
       "21523         3   -3112.481705         38         среднее             1   \n",
       "21524         2   -1984.507589         40         среднее             1   \n",
       "\n",
       "          family_status  family_status_id gender income_type  debt  \\\n",
       "21515   женат / замужем                 0      F   сотрудник     1   \n",
       "21516   женат / замужем                 0      F   компаньон     0   \n",
       "21517  гражданский брак                 1      F   компаньон     0   \n",
       "21518   женат / замужем                 0      F   пенсионер     0   \n",
       "21519         в разводе                 3      M   сотрудник     0   \n",
       "21520  гражданский брак                 1      F   компаньон     0   \n",
       "21521   женат / замужем                 0      F   пенсионер     0   \n",
       "21522  гражданский брак                 1      M   сотрудник     1   \n",
       "21523   женат / замужем                 0      M   сотрудник     1   \n",
       "21524   женат / замужем                 0      F   сотрудник     0   \n",
       "\n",
       "        total_income                            purpose  \n",
       "21515  109486.327999              заняться образованием  \n",
       "21516  322807.776603               покупка своего жилья  \n",
       "21517  178059.553491       на покупку своего автомобиля  \n",
       "21518  153864.650328               сделка с автомобилем  \n",
       "21519  115949.039788  покупка коммерческой недвижимости  \n",
       "21520  224791.862382                  операции с жильем  \n",
       "21521  155999.806512               сделка с автомобилем  \n",
       "21522   89672.561153                       недвижимость  \n",
       "21523  244093.050500       на покупку своего автомобиля  \n",
       "21524   82047.418899              на покупку автомобиля  "
      ]
     },
     "execution_count": 182,
     "metadata": {},
     "output_type": "execute_result"
    }
   ],
   "source": [
    "df.tail(10)"
   ]
  },
  {
   "cell_type": "code",
   "execution_count": 183,
   "metadata": {},
   "outputs": [
    {
     "name": "stdout",
     "output_type": "stream",
     "text": [
      "<class 'pandas.core.frame.DataFrame'>\n",
      "RangeIndex: 21525 entries, 0 to 21524\n",
      "Data columns (total 12 columns):\n",
      "children            21525 non-null int64\n",
      "days_employed       19351 non-null float64\n",
      "dob_years           21525 non-null int64\n",
      "education           21525 non-null object\n",
      "education_id        21525 non-null int64\n",
      "family_status       21525 non-null object\n",
      "family_status_id    21525 non-null int64\n",
      "gender              21525 non-null object\n",
      "income_type         21525 non-null object\n",
      "debt                21525 non-null int64\n",
      "total_income        19351 non-null float64\n",
      "purpose             21525 non-null object\n",
      "dtypes: float64(2), int64(5), object(5)\n",
      "memory usage: 2.0+ MB\n"
     ]
    }
   ],
   "source": [
    "#запросим все атрибуты датафрейма\n",
    "df.info()"
   ]
  },
  {
   "cell_type": "code",
   "execution_count": 184,
   "metadata": {},
   "outputs": [
    {
     "data": {
      "text/html": [
       "<div>\n",
       "<style scoped>\n",
       "    .dataframe tbody tr th:only-of-type {\n",
       "        vertical-align: middle;\n",
       "    }\n",
       "\n",
       "    .dataframe tbody tr th {\n",
       "        vertical-align: top;\n",
       "    }\n",
       "\n",
       "    .dataframe thead th {\n",
       "        text-align: right;\n",
       "    }\n",
       "</style>\n",
       "<table border=\"1\" class=\"dataframe\">\n",
       "  <thead>\n",
       "    <tr style=\"text-align: right;\">\n",
       "      <th></th>\n",
       "      <th>children</th>\n",
       "      <th>days_employed</th>\n",
       "      <th>dob_years</th>\n",
       "      <th>education_id</th>\n",
       "      <th>family_status_id</th>\n",
       "      <th>debt</th>\n",
       "      <th>total_income</th>\n",
       "    </tr>\n",
       "  </thead>\n",
       "  <tbody>\n",
       "    <tr>\n",
       "      <td>count</td>\n",
       "      <td>21525.000000</td>\n",
       "      <td>19351.000000</td>\n",
       "      <td>21525.000000</td>\n",
       "      <td>21525.000000</td>\n",
       "      <td>21525.000000</td>\n",
       "      <td>21525.000000</td>\n",
       "      <td>1.935100e+04</td>\n",
       "    </tr>\n",
       "    <tr>\n",
       "      <td>mean</td>\n",
       "      <td>0.538908</td>\n",
       "      <td>63046.497661</td>\n",
       "      <td>43.293380</td>\n",
       "      <td>0.817236</td>\n",
       "      <td>0.972544</td>\n",
       "      <td>0.080883</td>\n",
       "      <td>1.674223e+05</td>\n",
       "    </tr>\n",
       "    <tr>\n",
       "      <td>std</td>\n",
       "      <td>1.381587</td>\n",
       "      <td>140827.311974</td>\n",
       "      <td>12.574584</td>\n",
       "      <td>0.548138</td>\n",
       "      <td>1.420324</td>\n",
       "      <td>0.272661</td>\n",
       "      <td>1.029716e+05</td>\n",
       "    </tr>\n",
       "    <tr>\n",
       "      <td>min</td>\n",
       "      <td>-1.000000</td>\n",
       "      <td>-18388.949901</td>\n",
       "      <td>0.000000</td>\n",
       "      <td>0.000000</td>\n",
       "      <td>0.000000</td>\n",
       "      <td>0.000000</td>\n",
       "      <td>2.066726e+04</td>\n",
       "    </tr>\n",
       "    <tr>\n",
       "      <td>25%</td>\n",
       "      <td>0.000000</td>\n",
       "      <td>-2747.423625</td>\n",
       "      <td>33.000000</td>\n",
       "      <td>1.000000</td>\n",
       "      <td>0.000000</td>\n",
       "      <td>0.000000</td>\n",
       "      <td>1.030532e+05</td>\n",
       "    </tr>\n",
       "    <tr>\n",
       "      <td>50%</td>\n",
       "      <td>0.000000</td>\n",
       "      <td>-1203.369529</td>\n",
       "      <td>42.000000</td>\n",
       "      <td>1.000000</td>\n",
       "      <td>0.000000</td>\n",
       "      <td>0.000000</td>\n",
       "      <td>1.450179e+05</td>\n",
       "    </tr>\n",
       "    <tr>\n",
       "      <td>75%</td>\n",
       "      <td>1.000000</td>\n",
       "      <td>-291.095954</td>\n",
       "      <td>53.000000</td>\n",
       "      <td>1.000000</td>\n",
       "      <td>1.000000</td>\n",
       "      <td>0.000000</td>\n",
       "      <td>2.034351e+05</td>\n",
       "    </tr>\n",
       "    <tr>\n",
       "      <td>max</td>\n",
       "      <td>20.000000</td>\n",
       "      <td>401755.400475</td>\n",
       "      <td>75.000000</td>\n",
       "      <td>4.000000</td>\n",
       "      <td>4.000000</td>\n",
       "      <td>1.000000</td>\n",
       "      <td>2.265604e+06</td>\n",
       "    </tr>\n",
       "  </tbody>\n",
       "</table>\n",
       "</div>"
      ],
      "text/plain": [
       "           children  days_employed     dob_years  education_id  \\\n",
       "count  21525.000000   19351.000000  21525.000000  21525.000000   \n",
       "mean       0.538908   63046.497661     43.293380      0.817236   \n",
       "std        1.381587  140827.311974     12.574584      0.548138   \n",
       "min       -1.000000  -18388.949901      0.000000      0.000000   \n",
       "25%        0.000000   -2747.423625     33.000000      1.000000   \n",
       "50%        0.000000   -1203.369529     42.000000      1.000000   \n",
       "75%        1.000000    -291.095954     53.000000      1.000000   \n",
       "max       20.000000  401755.400475     75.000000      4.000000   \n",
       "\n",
       "       family_status_id          debt  total_income  \n",
       "count      21525.000000  21525.000000  1.935100e+04  \n",
       "mean           0.972544      0.080883  1.674223e+05  \n",
       "std            1.420324      0.272661  1.029716e+05  \n",
       "min            0.000000      0.000000  2.066726e+04  \n",
       "25%            0.000000      0.000000  1.030532e+05  \n",
       "50%            0.000000      0.000000  1.450179e+05  \n",
       "75%            1.000000      0.000000  2.034351e+05  \n",
       "max            4.000000      1.000000  2.265604e+06  "
      ]
     },
     "execution_count": 184,
     "metadata": {},
     "output_type": "execute_result"
    }
   ],
   "source": [
    "#используем метод .describe() чтобы проверить весь спектр значений в таблице\n",
    "df.describe()"
   ]
  },
  {
   "cell_type": "markdown",
   "metadata": {},
   "source": [
    "\n",
    "<div class=\"alert alert-success\">\n",
    "<h3>✔ Комментарий ревьюера</h3>\n",
    "    \n",
    "`describe` как раз пропуски не показывает, их можно увидеть в `info`. Но в `describe` можно увидеть весь спектр значений, например видно, что у кого-то -1 ребёнок или 20, также видно, что максимальный стаж для числа дней слишком большой\n",
    "</div>   "
   ]
  },
  {
   "cell_type": "markdown",
   "metadata": {},
   "source": [
    "***Вывод***\n",
    "В текущем датафрейме есть ряд проблем с данными:\n",
    "1)отрицательные значения в колонках days_employed и children\n",
    "2)в колонках days_employed и total_income присутствуют вещественные числа вместо целых\n",
    "3)в колонке dob_years минимальное значение 0, возраст заёмщика не может быть представлен в виде 0\n",
    "4)нечитаемые данные в колонке total_income, необходимо корректное отображение ежемесячного дохода\n",
    "5)в колонках dob_years, education_id, family_status_id и debt наблюдаются признаки присутсвия дубликатов в данных\n",
    "6)неоднородный регистр букв в колонке education\n",
    "7)в колонке gender значения с латинских букв лучше перевести в кириллицу, например М - мужской пол и Ж - женский. \n",
    "\n"
   ]
  },
  {
   "cell_type": "markdown",
   "metadata": {},
   "source": [
    "\n",
    "<div class=\"alert alert-success\">\n",
    "<h3>✔ Комментарий ревьюера</h3>\n",
    "    \n",
    "Данные в `total_income` вполне читаемые, просто надо научиться :) Но их можно поправить, установив нужный `float format`, но так запись намного компактнее\n",
    "</div>   "
   ]
  },
  {
   "cell_type": "markdown",
   "metadata": {},
   "source": [
    "## Шаг 2. Предобработка данных"
   ]
  },
  {
   "cell_type": "markdown",
   "metadata": {},
   "source": [
    "### Обработка пропусков"
   ]
  },
  {
   "cell_type": "markdown",
   "metadata": {},
   "source": [
    "Для удобства чтения таблицы приведём названия столбцов к змеиному регистру.\n"
   ]
  },
  {
   "cell_type": "code",
   "execution_count": 185,
   "metadata": {},
   "outputs": [
    {
     "data": {
      "text/plain": [
       "Index(['children', 'days_employed', 'dob_years', 'education', 'education_id',\n",
       "       'family_status', 'family_status_id', 'gender', 'income_type', 'debt',\n",
       "       'total_income', 'purpose'],\n",
       "      dtype='object')"
      ]
     },
     "execution_count": 185,
     "metadata": {},
     "output_type": "execute_result"
    }
   ],
   "source": [
    "#выведем на экран все столбцы из нашего датафрейма\n",
    "df.columns"
   ]
  },
  {
   "cell_type": "code",
   "execution_count": 186,
   "metadata": {},
   "outputs": [],
   "source": [
    "#заменим названия столбцов с помощью метода rename()\n",
    "df = df.rename(columns={'children': 'number_of_children', 'dob_years': 'client_age_in_years', 'education': 'education_level', 'education_id': 'education_level_id', 'gender': 'gender_attribute', 'debt': 'the_presence_of_debt', 'total_income': 'monthly_earnings', 'purpose': 'credit_purpose'}) "
   ]
  },
  {
   "cell_type": "code",
   "execution_count": 187,
   "metadata": {},
   "outputs": [
    {
     "data": {
      "text/plain": [
       "Index(['number_of_children', 'days_employed', 'client_age_in_years',\n",
       "       'education_level', 'education_level_id', 'family_status',\n",
       "       'family_status_id', 'gender_attribute', 'income_type',\n",
       "       'the_presence_of_debt', 'monthly_earnings', 'credit_purpose'],\n",
       "      dtype='object')"
      ]
     },
     "execution_count": 187,
     "metadata": {},
     "output_type": "execute_result"
    }
   ],
   "source": [
    "#проверим результат преименования столбцов\n",
    "df.columns "
   ]
  },
  {
   "cell_type": "code",
   "execution_count": 188,
   "metadata": {
    "scrolled": true
   },
   "outputs": [
    {
     "data": {
      "text/plain": [
       "number_of_children         0\n",
       "days_employed           2174\n",
       "client_age_in_years        0\n",
       "education_level            0\n",
       "education_level_id         0\n",
       "family_status              0\n",
       "family_status_id           0\n",
       "gender_attribute           0\n",
       "income_type                0\n",
       "the_presence_of_debt       0\n",
       "monthly_earnings        2174\n",
       "credit_purpose             0\n",
       "dtype: int64"
      ]
     },
     "execution_count": 188,
     "metadata": {},
     "output_type": "execute_result"
    }
   ],
   "source": [
    "#используем метод .isna() который найдёт все пропуски в таблице, посчитаем их с помощью метода .sum() и выведем на экран.\n",
    "df.isna().sum()"
   ]
  },
  {
   "cell_type": "markdown",
   "metadata": {},
   "source": [
    "***Вывод*** в колонках days_employed(стаж работы в днях) и monthly_earnings (ежемесячный доход) присутсвуют пропуски, скорее всего это связано с тем, что большинство людей, которые заполняли анкету работали неофициально или не подходят по возрастной категории."
   ]
  },
  {
   "cell_type": "markdown",
   "metadata": {},
   "source": [
    "<div class=\"alert alert-danger\">\n",
    "<h3>❌Комментарий ревьюера</h3>\n",
    "    \n",
    "Тут не очень понятно, почему медиана исказит картину, а нули не исказят. Я отмечу в этом комментарии один важный момент, на который надо обращать внимание. Перед заменой пропусков, нужно проверять, случайны пропуски или нет, т.е. не зависят от наблюдаемых значений в других столбцах, что если бы все прпоуски в столбце `total_income` были только у людей без образования, а у тех людей без образования, где пропусков нет, доход указан 0? Тогда как раз надо было бы заменять на 0. А если бы пропуски были распределены равномерно, то корректнее было бы заменить на медиану в завсимости от типа занятости.\n",
    "\n",
    "Чтобы проверить, что пропуски случайны, нужно показать, как я уже выше сказал, что они не зависят от наблюдаемых значений в других столбцах, для этого для каждого столбца надо посмотреть на распределение значений для среза с прпоускамми и сравнить его для такого же распределения для среза без пропусков. Если они совпадают, то пропуски от этого столбца не зависят. Если пропуски не зависят ни от одного столбца, то они случайны. Проще всего тут это увидеть, если сделать `value_counts(normalize=True)` для столбца `incomer_type` для строк с пропусками в `total_income` и без пропусков и сравнить полученные распределения. Это я и предлагаю сделать. Подробнее о типах пропусков можно почитать тут: https://loginom.ru/blog/missing \n",
    "    \n",
    "    \n",
    "Я предлагаю тут показать случайность прпоусков и заменять пропуски в доходе на медиану в зависимости от группы по доходу\n",
    "    \n",
    "    \n",
    "В столбце с `days_employed` слишком большие значения для числа дней в стаже, и определить причину такого тяжело, поэтому проще всего столбец удалть\n",
    "</div>  "
   ]
  },
  {
   "cell_type": "markdown",
   "metadata": {},
   "source": [
    "<div class = \"alert alert-info\" >\n",
    "<h3>Комментарий студента</h3>\n",
    "Проверил гипотезу с пропусками.\n",
    "</div>"
   ]
  },
  {
   "cell_type": "markdown",
   "metadata": {},
   "source": [
    "<div class=\"alert alert-success\">\n",
    "<h3>✔ Комментарий реьюера V.2</h3>\n",
    "    \n",
    "Надо было такой `value_counts` посмотреть для двух срезов -- для среза с прпоусками и для среза без прпоусков:</div>  "
   ]
  },
  {
   "cell_type": "code",
   "execution_count": null,
   "metadata": {},
   "outputs": [],
   "source": [
    "display(df[df['monthly_earnings'].isna()]['income_type'].value_counts(normalize=True))\n",
    "display(df[df['monthly_earnings'].notna()]['income_type'].value_counts(normalize=True))"
   ]
  },
  {
   "cell_type": "markdown",
   "metadata": {},
   "source": [
    "<div class=\"alert alert-success\">\n",
    "<h3>✔ Комментарий реьюера V.2</h3>\n",
    "    \n",
    "Видно, что пропуски распределены одинаково в зависимости от `income_type`, аналогично можно и для других столбцов показать. Раз пропуски случайны и т.к. уровень заработка зависит от типа дохода, то стоило заменить на медианный доход в зависимости от группы по `income_type`. Это можно сделать так:\n",
    "    \n",
    "```python\n",
    "\n",
    "df['monthly_earnings'] = df.groupby('income_type')['monthly_earnings'].transform(lambda group : group.fillna(group.median())) \n",
    "\n",
    "```\n",
    "</div>  "
   ]
  },
  {
   "cell_type": "code",
   "execution_count": 189,
   "metadata": {},
   "outputs": [
    {
     "data": {
      "text/plain": [
       "сотрудник          0.516562\n",
       "компаньон          0.236237\n",
       "пенсионер          0.179141\n",
       "госслужащий        0.067782\n",
       "предприниматель    0.000093\n",
       "безработный        0.000093\n",
       "студент            0.000046\n",
       "в декрете          0.000046\n",
       "Name: income_type, dtype: float64"
      ]
     },
     "execution_count": 189,
     "metadata": {},
     "output_type": "execute_result"
    }
   ],
   "source": [
    "#найдём частоту уникальных значений в колонке income_type\n",
    "df['income_type'].value_counts(normalize=True)"
   ]
  },
  {
   "cell_type": "code",
   "execution_count": 190,
   "metadata": {},
   "outputs": [
    {
     "data": {
      "text/plain": [
       "income_type\n",
       "безработный        131339.751676\n",
       "в декрете           53829.130729\n",
       "госслужащий        150447.935283\n",
       "компаньон          172357.950966\n",
       "пенсионер          118514.486412\n",
       "предприниматель    499163.144947\n",
       "сотрудник          142594.396847\n",
       "студент             98201.625314\n",
       "Name: monthly_earnings, dtype: float64"
      ]
     },
     "metadata": {},
     "output_type": "display_data"
    }
   ],
   "source": [
    "#сгруппируем данные по количесву доходов и типу занятости \n",
    "df_med_table = df.groupby('income_type')['monthly_earnings'].median()\n",
    "display(df_med_table)\n",
    "#как мы видим нет закономерности в количестве отработанных дней и ежемесячном доходе, значит пропуски можно считать случайными"
   ]
  },
  {
   "cell_type": "code",
   "execution_count": 191,
   "metadata": {},
   "outputs": [],
   "source": [
    "#заменим все пропуски на нули с помощью метода .fillna()\n",
    "df['days_employed'] = df['days_employed'].fillna(0)\n",
    "df['monthly_earnings'] = df['monthly_earnings'].fillna(0)"
   ]
  },
  {
   "cell_type": "code",
   "execution_count": 192,
   "metadata": {},
   "outputs": [
    {
     "data": {
      "text/plain": [
       "number_of_children      0\n",
       "days_employed           0\n",
       "client_age_in_years     0\n",
       "education_level         0\n",
       "education_level_id      0\n",
       "family_status           0\n",
       "family_status_id        0\n",
       "gender_attribute        0\n",
       "income_type             0\n",
       "the_presence_of_debt    0\n",
       "monthly_earnings        0\n",
       "credit_purpose          0\n",
       "dtype: int64"
      ]
     },
     "execution_count": 192,
     "metadata": {},
     "output_type": "execute_result"
    }
   ],
   "source": [
    "#проверим результат замены\n",
    "df.isna().sum()"
   ]
  },
  {
   "cell_type": "markdown",
   "metadata": {},
   "source": [
    "### Замена типа данных"
   ]
  },
  {
   "cell_type": "code",
   "execution_count": 193,
   "metadata": {},
   "outputs": [
    {
     "name": "stdout",
     "output_type": "stream",
     "text": [
      "<class 'pandas.core.frame.DataFrame'>\n",
      "RangeIndex: 21525 entries, 0 to 21524\n",
      "Data columns (total 12 columns):\n",
      "number_of_children      21525 non-null int64\n",
      "days_employed           21525 non-null float64\n",
      "client_age_in_years     21525 non-null int64\n",
      "education_level         21525 non-null object\n",
      "education_level_id      21525 non-null int64\n",
      "family_status           21525 non-null object\n",
      "family_status_id        21525 non-null int64\n",
      "gender_attribute        21525 non-null object\n",
      "income_type             21525 non-null object\n",
      "the_presence_of_debt    21525 non-null int64\n",
      "monthly_earnings        21525 non-null float64\n",
      "credit_purpose          21525 non-null object\n",
      "dtypes: float64(2), int64(5), object(5)\n",
      "memory usage: 2.0+ MB\n"
     ]
    }
   ],
   "source": [
    "#ещё раз взглянем на атрибуты нашего датафрейма после переименования столбцов\n",
    "df.info()"
   ]
  },
  {
   "cell_type": "code",
   "execution_count": 194,
   "metadata": {},
   "outputs": [],
   "source": [
    "#столбец days_employed и monthly_earnings содержит тип данных float64, то есть вещественный, нам необходимо перевести его в целый int64\n",
    "df['days_employed'] = df['days_employed'].astype(int)\n",
    "df['monthly_earnings'] = df['monthly_earnings'].astype(int)\n",
    "\n"
   ]
  },
  {
   "cell_type": "code",
   "execution_count": 195,
   "metadata": {},
   "outputs": [
    {
     "name": "stdout",
     "output_type": "stream",
     "text": [
      "<class 'pandas.core.frame.DataFrame'>\n",
      "RangeIndex: 21525 entries, 0 to 21524\n",
      "Data columns (total 12 columns):\n",
      "number_of_children      21525 non-null int64\n",
      "days_employed           21525 non-null int64\n",
      "client_age_in_years     21525 non-null int64\n",
      "education_level         21525 non-null object\n",
      "education_level_id      21525 non-null int64\n",
      "family_status           21525 non-null object\n",
      "family_status_id        21525 non-null int64\n",
      "gender_attribute        21525 non-null object\n",
      "income_type             21525 non-null object\n",
      "the_presence_of_debt    21525 non-null int64\n",
      "monthly_earnings        21525 non-null int64\n",
      "credit_purpose          21525 non-null object\n",
      "dtypes: int64(7), object(5)\n",
      "memory usage: 2.0+ MB\n"
     ]
    }
   ],
   "source": [
    "#проверим изменения\n",
    "df.info()"
   ]
  },
  {
   "cell_type": "code",
   "execution_count": 196,
   "metadata": {},
   "outputs": [
    {
     "data": {
      "text/html": [
       "<div>\n",
       "<style scoped>\n",
       "    .dataframe tbody tr th:only-of-type {\n",
       "        vertical-align: middle;\n",
       "    }\n",
       "\n",
       "    .dataframe tbody tr th {\n",
       "        vertical-align: top;\n",
       "    }\n",
       "\n",
       "    .dataframe thead th {\n",
       "        text-align: right;\n",
       "    }\n",
       "</style>\n",
       "<table border=\"1\" class=\"dataframe\">\n",
       "  <thead>\n",
       "    <tr style=\"text-align: right;\">\n",
       "      <th></th>\n",
       "      <th>number_of_children</th>\n",
       "      <th>client_age_in_years</th>\n",
       "      <th>education_level</th>\n",
       "      <th>education_level_id</th>\n",
       "      <th>family_status</th>\n",
       "      <th>family_status_id</th>\n",
       "      <th>gender_attribute</th>\n",
       "      <th>income_type</th>\n",
       "      <th>the_presence_of_debt</th>\n",
       "      <th>monthly_earnings</th>\n",
       "      <th>credit_purpose</th>\n",
       "      <th>years_employed</th>\n",
       "    </tr>\n",
       "  </thead>\n",
       "  <tbody>\n",
       "    <tr>\n",
       "      <td>0</td>\n",
       "      <td>1</td>\n",
       "      <td>42</td>\n",
       "      <td>высшее</td>\n",
       "      <td>0</td>\n",
       "      <td>женат / замужем</td>\n",
       "      <td>0</td>\n",
       "      <td>F</td>\n",
       "      <td>сотрудник</td>\n",
       "      <td>0</td>\n",
       "      <td>253875</td>\n",
       "      <td>покупка жилья</td>\n",
       "      <td>23.115068</td>\n",
       "    </tr>\n",
       "    <tr>\n",
       "      <td>1</td>\n",
       "      <td>1</td>\n",
       "      <td>36</td>\n",
       "      <td>среднее</td>\n",
       "      <td>1</td>\n",
       "      <td>женат / замужем</td>\n",
       "      <td>0</td>\n",
       "      <td>F</td>\n",
       "      <td>сотрудник</td>\n",
       "      <td>0</td>\n",
       "      <td>112080</td>\n",
       "      <td>приобретение автомобиля</td>\n",
       "      <td>11.024658</td>\n",
       "    </tr>\n",
       "    <tr>\n",
       "      <td>2</td>\n",
       "      <td>0</td>\n",
       "      <td>33</td>\n",
       "      <td>Среднее</td>\n",
       "      <td>1</td>\n",
       "      <td>женат / замужем</td>\n",
       "      <td>0</td>\n",
       "      <td>M</td>\n",
       "      <td>сотрудник</td>\n",
       "      <td>0</td>\n",
       "      <td>145885</td>\n",
       "      <td>покупка жилья</td>\n",
       "      <td>15.405479</td>\n",
       "    </tr>\n",
       "    <tr>\n",
       "      <td>3</td>\n",
       "      <td>3</td>\n",
       "      <td>32</td>\n",
       "      <td>среднее</td>\n",
       "      <td>1</td>\n",
       "      <td>женат / замужем</td>\n",
       "      <td>0</td>\n",
       "      <td>M</td>\n",
       "      <td>сотрудник</td>\n",
       "      <td>0</td>\n",
       "      <td>267628</td>\n",
       "      <td>дополнительное образование</td>\n",
       "      <td>11.298630</td>\n",
       "    </tr>\n",
       "    <tr>\n",
       "      <td>4</td>\n",
       "      <td>0</td>\n",
       "      <td>53</td>\n",
       "      <td>среднее</td>\n",
       "      <td>1</td>\n",
       "      <td>гражданский брак</td>\n",
       "      <td>1</td>\n",
       "      <td>F</td>\n",
       "      <td>пенсионер</td>\n",
       "      <td>0</td>\n",
       "      <td>158616</td>\n",
       "      <td>сыграть свадьбу</td>\n",
       "      <td>932.235616</td>\n",
       "    </tr>\n",
       "    <tr>\n",
       "      <td>5</td>\n",
       "      <td>0</td>\n",
       "      <td>27</td>\n",
       "      <td>высшее</td>\n",
       "      <td>0</td>\n",
       "      <td>гражданский брак</td>\n",
       "      <td>1</td>\n",
       "      <td>M</td>\n",
       "      <td>компаньон</td>\n",
       "      <td>0</td>\n",
       "      <td>255763</td>\n",
       "      <td>покупка жилья</td>\n",
       "      <td>2.536986</td>\n",
       "    </tr>\n",
       "    <tr>\n",
       "      <td>6</td>\n",
       "      <td>0</td>\n",
       "      <td>43</td>\n",
       "      <td>высшее</td>\n",
       "      <td>0</td>\n",
       "      <td>женат / замужем</td>\n",
       "      <td>0</td>\n",
       "      <td>F</td>\n",
       "      <td>компаньон</td>\n",
       "      <td>0</td>\n",
       "      <td>240525</td>\n",
       "      <td>операции с жильем</td>\n",
       "      <td>7.887671</td>\n",
       "    </tr>\n",
       "    <tr>\n",
       "      <td>7</td>\n",
       "      <td>0</td>\n",
       "      <td>50</td>\n",
       "      <td>СРЕДНЕЕ</td>\n",
       "      <td>1</td>\n",
       "      <td>женат / замужем</td>\n",
       "      <td>0</td>\n",
       "      <td>M</td>\n",
       "      <td>сотрудник</td>\n",
       "      <td>0</td>\n",
       "      <td>135823</td>\n",
       "      <td>образование</td>\n",
       "      <td>0.416438</td>\n",
       "    </tr>\n",
       "    <tr>\n",
       "      <td>8</td>\n",
       "      <td>2</td>\n",
       "      <td>35</td>\n",
       "      <td>ВЫСШЕЕ</td>\n",
       "      <td>0</td>\n",
       "      <td>гражданский брак</td>\n",
       "      <td>1</td>\n",
       "      <td>F</td>\n",
       "      <td>сотрудник</td>\n",
       "      <td>0</td>\n",
       "      <td>95856</td>\n",
       "      <td>на проведение свадьбы</td>\n",
       "      <td>18.983562</td>\n",
       "    </tr>\n",
       "    <tr>\n",
       "      <td>9</td>\n",
       "      <td>0</td>\n",
       "      <td>41</td>\n",
       "      <td>среднее</td>\n",
       "      <td>1</td>\n",
       "      <td>женат / замужем</td>\n",
       "      <td>0</td>\n",
       "      <td>M</td>\n",
       "      <td>сотрудник</td>\n",
       "      <td>0</td>\n",
       "      <td>144425</td>\n",
       "      <td>покупка жилья для семьи</td>\n",
       "      <td>5.994521</td>\n",
       "    </tr>\n",
       "  </tbody>\n",
       "</table>\n",
       "</div>"
      ],
      "text/plain": [
       "   number_of_children  client_age_in_years education_level  \\\n",
       "0                   1                   42          высшее   \n",
       "1                   1                   36         среднее   \n",
       "2                   0                   33         Среднее   \n",
       "3                   3                   32         среднее   \n",
       "4                   0                   53         среднее   \n",
       "5                   0                   27          высшее   \n",
       "6                   0                   43          высшее   \n",
       "7                   0                   50         СРЕДНЕЕ   \n",
       "8                   2                   35          ВЫСШЕЕ   \n",
       "9                   0                   41         среднее   \n",
       "\n",
       "   education_level_id     family_status  family_status_id gender_attribute  \\\n",
       "0                   0   женат / замужем                 0                F   \n",
       "1                   1   женат / замужем                 0                F   \n",
       "2                   1   женат / замужем                 0                M   \n",
       "3                   1   женат / замужем                 0                M   \n",
       "4                   1  гражданский брак                 1                F   \n",
       "5                   0  гражданский брак                 1                M   \n",
       "6                   0   женат / замужем                 0                F   \n",
       "7                   1   женат / замужем                 0                M   \n",
       "8                   0  гражданский брак                 1                F   \n",
       "9                   1   женат / замужем                 0                M   \n",
       "\n",
       "  income_type  the_presence_of_debt  monthly_earnings  \\\n",
       "0   сотрудник                     0            253875   \n",
       "1   сотрудник                     0            112080   \n",
       "2   сотрудник                     0            145885   \n",
       "3   сотрудник                     0            267628   \n",
       "4   пенсионер                     0            158616   \n",
       "5   компаньон                     0            255763   \n",
       "6   компаньон                     0            240525   \n",
       "7   сотрудник                     0            135823   \n",
       "8   сотрудник                     0             95856   \n",
       "9   сотрудник                     0            144425   \n",
       "\n",
       "               credit_purpose  years_employed  \n",
       "0               покупка жилья       23.115068  \n",
       "1     приобретение автомобиля       11.024658  \n",
       "2               покупка жилья       15.405479  \n",
       "3  дополнительное образование       11.298630  \n",
       "4             сыграть свадьбу      932.235616  \n",
       "5               покупка жилья        2.536986  \n",
       "6           операции с жильем        7.887671  \n",
       "7                 образование        0.416438  \n",
       "8       на проведение свадьбы       18.983562  \n",
       "9     покупка жилья для семьи        5.994521  "
      ]
     },
     "execution_count": 196,
     "metadata": {},
     "output_type": "execute_result"
    }
   ],
   "source": [
    "#отлично, данные изменились, теперь необходимо перевести данные в колонке days_employed из формата дней в года, для удобства чтения\n",
    "df['years_employed'] = df['days_employed'] / 365\n",
    "# а теперь уберём отрицательные значения методом .abs() для новой колонки\n",
    "df['years_employed'] = df['years_employed'].abs()\n",
    "#избавимся от старой колонки days_employed\n",
    "del df['days_employed']\n",
    "#проверим результат\n",
    "df.head(10)"
   ]
  },
  {
   "cell_type": "code",
   "execution_count": 197,
   "metadata": {},
   "outputs": [
    {
     "data": {
      "text/plain": [
       "array(['F', 'M', 'XNA'], dtype=object)"
      ]
     },
     "execution_count": 197,
     "metadata": {},
     "output_type": "execute_result"
    }
   ],
   "source": [
    "#теперь необходимо навести порядок в колонке education_level, привести данные к нижнему регистру\n",
    "df['education_level'] = df['education_level'].str.lower()\n",
    "#проверим какие данные в колонке gender_attribute\n",
    "df['gender_attribute'].unique()\n"
   ]
  },
  {
   "cell_type": "code",
   "execution_count": 198,
   "metadata": {},
   "outputs": [
    {
     "data": {
      "text/plain": [
       "number_of_children      1\n",
       "client_age_in_years     1\n",
       "education_level         1\n",
       "education_level_id      1\n",
       "family_status           1\n",
       "family_status_id        1\n",
       "gender_attribute        1\n",
       "income_type             1\n",
       "the_presence_of_debt    1\n",
       "monthly_earnings        1\n",
       "credit_purpose          1\n",
       "years_employed          1\n",
       "dtype: int64"
      ]
     },
     "execution_count": 198,
     "metadata": {},
     "output_type": "execute_result"
    }
   ],
   "source": [
    "#посмотрим где ещё встречается этот артефакт\n",
    "df[df['gender_attribute'] == 'XNA'].count()"
   ]
  },
  {
   "cell_type": "markdown",
   "metadata": {},
   "source": [
    "Пока непонятно что делать с данным артефактом, скорее всего он встречается в каждой колонке из-за некорректной выгрузки или человеческой ошибки, заострять внимание на нём не станем, так как его влияние на таблицу минимально. Продолжим наводить порядок в таблице.\n"
   ]
  },
  {
   "cell_type": "code",
   "execution_count": 199,
   "metadata": {},
   "outputs": [
    {
     "data": {
      "text/html": [
       "<div>\n",
       "<style scoped>\n",
       "    .dataframe tbody tr th:only-of-type {\n",
       "        vertical-align: middle;\n",
       "    }\n",
       "\n",
       "    .dataframe tbody tr th {\n",
       "        vertical-align: top;\n",
       "    }\n",
       "\n",
       "    .dataframe thead th {\n",
       "        text-align: right;\n",
       "    }\n",
       "</style>\n",
       "<table border=\"1\" class=\"dataframe\">\n",
       "  <thead>\n",
       "    <tr style=\"text-align: right;\">\n",
       "      <th></th>\n",
       "      <th>number_of_children</th>\n",
       "      <th>client_age_in_years</th>\n",
       "      <th>education_level</th>\n",
       "      <th>education_level_id</th>\n",
       "      <th>family_status</th>\n",
       "      <th>family_status_id</th>\n",
       "      <th>gender_attribute</th>\n",
       "      <th>income_type</th>\n",
       "      <th>the_presence_of_debt</th>\n",
       "      <th>monthly_earnings</th>\n",
       "      <th>credit_purpose</th>\n",
       "      <th>years_employed</th>\n",
       "    </tr>\n",
       "  </thead>\n",
       "  <tbody>\n",
       "    <tr>\n",
       "      <td>0</td>\n",
       "      <td>1</td>\n",
       "      <td>42</td>\n",
       "      <td>высшее</td>\n",
       "      <td>0</td>\n",
       "      <td>женат / замужем</td>\n",
       "      <td>0</td>\n",
       "      <td>Ж</td>\n",
       "      <td>сотрудник</td>\n",
       "      <td>0</td>\n",
       "      <td>253875</td>\n",
       "      <td>покупка жилья</td>\n",
       "      <td>23.115068</td>\n",
       "    </tr>\n",
       "    <tr>\n",
       "      <td>1</td>\n",
       "      <td>1</td>\n",
       "      <td>36</td>\n",
       "      <td>среднее</td>\n",
       "      <td>1</td>\n",
       "      <td>женат / замужем</td>\n",
       "      <td>0</td>\n",
       "      <td>Ж</td>\n",
       "      <td>сотрудник</td>\n",
       "      <td>0</td>\n",
       "      <td>112080</td>\n",
       "      <td>приобретение автомобиля</td>\n",
       "      <td>11.024658</td>\n",
       "    </tr>\n",
       "    <tr>\n",
       "      <td>2</td>\n",
       "      <td>0</td>\n",
       "      <td>33</td>\n",
       "      <td>среднее</td>\n",
       "      <td>1</td>\n",
       "      <td>женат / замужем</td>\n",
       "      <td>0</td>\n",
       "      <td>М</td>\n",
       "      <td>сотрудник</td>\n",
       "      <td>0</td>\n",
       "      <td>145885</td>\n",
       "      <td>покупка жилья</td>\n",
       "      <td>15.405479</td>\n",
       "    </tr>\n",
       "    <tr>\n",
       "      <td>3</td>\n",
       "      <td>3</td>\n",
       "      <td>32</td>\n",
       "      <td>среднее</td>\n",
       "      <td>1</td>\n",
       "      <td>женат / замужем</td>\n",
       "      <td>0</td>\n",
       "      <td>М</td>\n",
       "      <td>сотрудник</td>\n",
       "      <td>0</td>\n",
       "      <td>267628</td>\n",
       "      <td>дополнительное образование</td>\n",
       "      <td>11.298630</td>\n",
       "    </tr>\n",
       "    <tr>\n",
       "      <td>4</td>\n",
       "      <td>0</td>\n",
       "      <td>53</td>\n",
       "      <td>среднее</td>\n",
       "      <td>1</td>\n",
       "      <td>гражданский брак</td>\n",
       "      <td>1</td>\n",
       "      <td>Ж</td>\n",
       "      <td>пенсионер</td>\n",
       "      <td>0</td>\n",
       "      <td>158616</td>\n",
       "      <td>сыграть свадьбу</td>\n",
       "      <td>932.235616</td>\n",
       "    </tr>\n",
       "  </tbody>\n",
       "</table>\n",
       "</div>"
      ],
      "text/plain": [
       "   number_of_children  client_age_in_years education_level  \\\n",
       "0                   1                   42          высшее   \n",
       "1                   1                   36         среднее   \n",
       "2                   0                   33         среднее   \n",
       "3                   3                   32         среднее   \n",
       "4                   0                   53         среднее   \n",
       "\n",
       "   education_level_id     family_status  family_status_id gender_attribute  \\\n",
       "0                   0   женат / замужем                 0                Ж   \n",
       "1                   1   женат / замужем                 0                Ж   \n",
       "2                   1   женат / замужем                 0                М   \n",
       "3                   1   женат / замужем                 0                М   \n",
       "4                   1  гражданский брак                 1                Ж   \n",
       "\n",
       "  income_type  the_presence_of_debt  monthly_earnings  \\\n",
       "0   сотрудник                     0            253875   \n",
       "1   сотрудник                     0            112080   \n",
       "2   сотрудник                     0            145885   \n",
       "3   сотрудник                     0            267628   \n",
       "4   пенсионер                     0            158616   \n",
       "\n",
       "               credit_purpose  years_employed  \n",
       "0               покупка жилья       23.115068  \n",
       "1     приобретение автомобиля       11.024658  \n",
       "2               покупка жилья       15.405479  \n",
       "3  дополнительное образование       11.298630  \n",
       "4             сыграть свадьбу      932.235616  "
      ]
     },
     "execution_count": 199,
     "metadata": {},
     "output_type": "execute_result"
    }
   ],
   "source": [
    "#в колонке gender_attribute значение Male(M) и Female(F) обозначим на русском языке для удобства чтения таблицы из расчёта что Male(M) - мужской \"М\", а Female(F) - женский \"Ж\"\n",
    "df['gender_attribute'] = df['gender_attribute'].replace('F', 'Ж')\n",
    "df['gender_attribute'] = df['gender_attribute'].replace('M', 'М')\n",
    "#проверим результат\n",
    "df.head()"
   ]
  },
  {
   "cell_type": "code",
   "execution_count": 200,
   "metadata": {},
   "outputs": [
    {
     "data": {
      "text/plain": [
       "array([ 1,  0,  3,  2, -1,  4, 20,  5])"
      ]
     },
     "execution_count": 200,
     "metadata": {},
     "output_type": "execute_result"
    }
   ],
   "source": [
    "#теперь проверим колонку с количеством детей - number_of_children, методом .unique() проверим уникальные значения\n",
    "df['number_of_children'].unique()"
   ]
  },
  {
   "cell_type": "code",
   "execution_count": 201,
   "metadata": {},
   "outputs": [
    {
     "data": {
      "text/plain": [
       "47"
      ]
     },
     "execution_count": 201,
     "metadata": {},
     "output_type": "execute_result"
    }
   ],
   "source": [
    "#значения -1 и 20 выглядят подозрительно, особенно 20 детей в семье, поэтому мы посчитаем сколько таких строк в нашей таблице\n",
    "#для начала первое значение \"-1\"\n",
    "df[df['number_of_children'] == -1]['number_of_children'].count()\n"
   ]
  },
  {
   "cell_type": "code",
   "execution_count": 202,
   "metadata": {},
   "outputs": [],
   "source": [
    "#можно сделать вывод что это скорее всего опечатка, так как отрицательного количества детей по смыслу быть не может, спишем данную ошибку на человеческий фактор\n",
    "#заменим отрицательное значение на положительное\n",
    "df['number_of_children'] = df['number_of_children'].replace(-1, 1)"
   ]
  },
  {
   "cell_type": "code",
   "execution_count": 203,
   "metadata": {},
   "outputs": [
    {
     "data": {
      "text/plain": [
       "0"
      ]
     },
     "execution_count": 203,
     "metadata": {},
     "output_type": "execute_result"
    }
   ],
   "source": [
    "#проверим результат \n",
    "df[df['number_of_children'] == -1]['number_of_children'].count()"
   ]
  },
  {
   "cell_type": "code",
   "execution_count": 204,
   "metadata": {},
   "outputs": [
    {
     "data": {
      "text/plain": [
       "76"
      ]
     },
     "execution_count": 204,
     "metadata": {},
     "output_type": "execute_result"
    }
   ],
   "source": [
    "#сработало, теперь посчитаем количество строк с 20 детьми\n",
    "df[df['number_of_children'] == 20]['number_of_children'].count()"
   ]
  },
  {
   "cell_type": "code",
   "execution_count": 205,
   "metadata": {},
   "outputs": [
    {
     "data": {
      "text/plain": [
       "0     0.657329\n",
       "1     0.226016\n",
       "2     0.095470\n",
       "3     0.015331\n",
       "20    0.003531\n",
       "4     0.001905\n",
       "5     0.000418\n",
       "Name: number_of_children, dtype: float64"
      ]
     },
     "execution_count": 205,
     "metadata": {},
     "output_type": "execute_result"
    }
   ],
   "source": [
    "#результат практически в два раза больше, чтобы наша гипотеза подтвердилась необходимо проверить сколько таких значений встречается в разных возрастных группах\n",
    "df['number_of_children'].value_counts(normalize=True)"
   ]
  },
  {
   "cell_type": "code",
   "execution_count": 206,
   "metadata": {},
   "outputs": [],
   "source": [
    "#частота уникальных значений показывает закономерность, что с увеличений количества детей падает количество таких случаев в кредитных заявках.\n",
    "#можно сделать вывод что это действительно опечатка\n",
    "#исправим это недоразумение\n",
    "df['number_of_children'] = df['number_of_children'].replace(20, 2)\n"
   ]
  },
  {
   "cell_type": "code",
   "execution_count": 207,
   "metadata": {},
   "outputs": [
    {
     "data": {
      "text/plain": [
       "0"
      ]
     },
     "execution_count": 207,
     "metadata": {},
     "output_type": "execute_result"
    }
   ],
   "source": [
    "#проверим результат замены\n",
    "df[df['number_of_children'] == 20]['number_of_children'].count()\n"
   ]
  },
  {
   "cell_type": "code",
   "execution_count": 208,
   "metadata": {},
   "outputs": [
    {
     "data": {
      "text/plain": [
       "array([1, 0, 3, 2, 4, 5])"
      ]
     },
     "execution_count": 208,
     "metadata": {},
     "output_type": "execute_result"
    }
   ],
   "source": [
    "#теперь проверим итог нашей работы над колонкой number_of_children\n",
    "df['number_of_children'].unique()"
   ]
  },
  {
   "cell_type": "code",
   "execution_count": 209,
   "metadata": {},
   "outputs": [
    {
     "data": {
      "text/plain": [
       "count    21525.000000\n",
       "mean       164.810877\n",
       "std        365.358647\n",
       "min          0.000000\n",
       "25%          1.671233\n",
       "50%          4.953425\n",
       "75%         13.093151\n",
       "max       1100.698630\n",
       "Name: years_employed, dtype: float64"
      ]
     },
     "execution_count": 209,
     "metadata": {},
     "output_type": "execute_result"
    }
   ],
   "source": [
    "#теперь проверим трудовой стаж, ранее мы перевели его из количества дней в года, для удобства чтения\n",
    "df['years_employed'].describe()"
   ]
  },
  {
   "cell_type": "code",
   "execution_count": 210,
   "metadata": {},
   "outputs": [
    {
     "data": {
      "text/plain": [
       "count    21525.000000\n",
       "mean        43.293380\n",
       "std         12.574584\n",
       "min          0.000000\n",
       "25%         33.000000\n",
       "50%         42.000000\n",
       "75%         53.000000\n",
       "max         75.000000\n",
       "Name: client_age_in_years, dtype: float64"
      ]
     },
     "execution_count": 210,
     "metadata": {},
     "output_type": "execute_result"
    }
   ],
   "source": [
    "#1100 лет люди на сегодняшний день не живут, не говоря о уже о работе, оставим эти данные для лемматизации\n",
    "#рассмотрим колонку client_age_in_years\n",
    "df['client_age_in_years'].describe()"
   ]
  },
  {
   "cell_type": "code",
   "execution_count": 211,
   "metadata": {},
   "outputs": [
    {
     "data": {
      "text/plain": [
       "101"
      ]
     },
     "execution_count": 211,
     "metadata": {},
     "output_type": "execute_result"
    }
   ],
   "source": [
    "#мы видим что фигурирует возраст 0 (min) и 75 (max), проверим сколько встречается таких результатов в нашей таблице\n",
    "df[df['client_age_in_years'] == 0]['client_age_in_years'].count() # для первого случая"
   ]
  },
  {
   "cell_type": "code",
   "execution_count": 212,
   "metadata": {},
   "outputs": [
    {
     "data": {
      "text/plain": [
       "client_age_in_years\n",
       "0      17\n",
       "22      1\n",
       "26      2\n",
       "27      3\n",
       "28      1\n",
       "31      1\n",
       "32      3\n",
       "33      2\n",
       "34      3\n",
       "35      1\n",
       "36      3\n",
       "37      5\n",
       "38      8\n",
       "39      4\n",
       "40      7\n",
       "41      6\n",
       "42      9\n",
       "43      9\n",
       "44     10\n",
       "45     11\n",
       "46     13\n",
       "47     13\n",
       "48     20\n",
       "49     30\n",
       "50     61\n",
       "51     73\n",
       "52     95\n",
       "53    105\n",
       "54    145\n",
       "55    162\n",
       "56    184\n",
       "57    212\n",
       "58    208\n",
       "59    254\n",
       "60    243\n",
       "61    214\n",
       "62    235\n",
       "63    192\n",
       "64    179\n",
       "65    136\n",
       "66    139\n",
       "67    132\n",
       "68     80\n",
       "69     74\n",
       "70     54\n",
       "71     48\n",
       "72     28\n",
       "73      6\n",
       "74      4\n",
       "Name: client_age_in_years, dtype: int64"
      ]
     },
     "execution_count": 212,
     "metadata": {},
     "output_type": "execute_result"
    }
   ],
   "source": [
    "#для второго случая \n",
    "df[df['years_employed'] > 70].groupby(['client_age_in_years'])['client_age_in_years'].count()"
   ]
  },
  {
   "cell_type": "markdown",
   "metadata": {},
   "source": [
    "***Вывод*** Результатов с возрастом 0 относительно небольшое количество, можно предположить что это опечатка, что касается возрастной группы начиная с 67 лет, возможно это работающие пенсионеры, заявки которых переодически могут рассматриваться, так как их пенсию банк легко может удержать в качестве ежемесячного платежа. "
   ]
  },
  {
   "cell_type": "code",
   "execution_count": 213,
   "metadata": {},
   "outputs": [
    {
     "data": {
      "text/plain": [
       "array(['высшее', 'среднее', 'неоконченное высшее', 'начальное',\n",
       "       'ученая степень'], dtype=object)"
      ]
     },
     "execution_count": 213,
     "metadata": {},
     "output_type": "execute_result"
    }
   ],
   "source": [
    "#рассмотрим колонку education_level на количество уникальных значений\n",
    "df['education_level'].unique()"
   ]
  },
  {
   "cell_type": "code",
   "execution_count": 214,
   "metadata": {},
   "outputs": [
    {
     "data": {
      "text/plain": [
       "array([0, 1, 2, 3, 4])"
      ]
     },
     "execution_count": 214,
     "metadata": {},
     "output_type": "execute_result"
    }
   ],
   "source": [
    "#теперь проверим колонку education_level_id на количество уникальных значений \n",
    "df['education_level_id'].unique()"
   ]
  },
  {
   "cell_type": "code",
   "execution_count": 215,
   "metadata": {},
   "outputs": [
    {
     "data": {
      "text/plain": [
       "array(['женат / замужем', 'гражданский брак', 'вдовец / вдова',\n",
       "       'в разводе', 'Не женат / не замужем'], dtype=object)"
      ]
     },
     "execution_count": 215,
     "metadata": {},
     "output_type": "execute_result"
    }
   ],
   "source": [
    "#проверим колонку family_status и family_status_id на количество уникальных значений \n",
    "df['family_status'].unique()\n"
   ]
  },
  {
   "cell_type": "code",
   "execution_count": 216,
   "metadata": {},
   "outputs": [
    {
     "data": {
      "text/plain": [
       "array([0, 1, 2, 3, 4])"
      ]
     },
     "execution_count": 216,
     "metadata": {},
     "output_type": "execute_result"
    }
   ],
   "source": [
    "#аналогичные действия для колонки family_status_id\n",
    "df['family_status_id'].unique()"
   ]
  },
  {
   "cell_type": "code",
   "execution_count": 217,
   "metadata": {},
   "outputs": [
    {
     "data": {
      "text/plain": [
       "array(['сотрудник', 'пенсионер', 'компаньон', 'госслужащий',\n",
       "       'безработный', 'предприниматель', 'студент', 'в декрете'],\n",
       "      dtype=object)"
      ]
     },
     "execution_count": 217,
     "metadata": {},
     "output_type": "execute_result"
    }
   ],
   "source": [
    "#проверим тип занятости income_type\n",
    "df['income_type'].unique()"
   ]
  },
  {
   "cell_type": "code",
   "execution_count": 218,
   "metadata": {},
   "outputs": [
    {
     "data": {
      "text/plain": [
       "свадьба                                   797\n",
       "на проведение свадьбы                     777\n",
       "сыграть свадьбу                           774\n",
       "операции с недвижимостью                  676\n",
       "покупка коммерческой недвижимости         664\n",
       "покупка жилья для сдачи                   653\n",
       "операции с жильем                         653\n",
       "операции с коммерческой недвижимостью     651\n",
       "жилье                                     647\n",
       "покупка жилья                             647\n",
       "покупка жилья для семьи                   641\n",
       "строительство собственной недвижимости    635\n",
       "недвижимость                              634\n",
       "операции со своей недвижимостью           630\n",
       "строительство жилой недвижимости          626\n",
       "покупка недвижимости                      624\n",
       "покупка своего жилья                      620\n",
       "строительство недвижимости                620\n",
       "ремонт жилью                              612\n",
       "покупка жилой недвижимости                607\n",
       "на покупку своего автомобиля              505\n",
       "заняться высшим образованием              496\n",
       "автомобиль                                495\n",
       "сделка с подержанным автомобилем          489\n",
       "свой автомобиль                           480\n",
       "на покупку подержанного автомобиля        479\n",
       "автомобили                                478\n",
       "на покупку автомобиля                     472\n",
       "приобретение автомобиля                   462\n",
       "дополнительное образование                462\n",
       "сделка с автомобилем                      455\n",
       "высшее образование                        453\n",
       "образование                               447\n",
       "получение дополнительного образования     447\n",
       "получение образования                     443\n",
       "профильное образование                    436\n",
       "получение высшего образования             426\n",
       "заняться образованием                     412\n",
       "Name: credit_purpose, dtype: int64"
      ]
     },
     "execution_count": 218,
     "metadata": {},
     "output_type": "execute_result"
    }
   ],
   "source": [
    "#построим хит-парад наших целей \n",
    "df['credit_purpose'].value_counts()"
   ]
  },
  {
   "cell_type": "markdown",
   "metadata": {},
   "source": [
    "***Вывод*** проверили все колонки, привели данные в читабельный вид, нам попались некоторые артефакты, выяснили что тратить деньги на свадьбы гораздо популярнее(практически в 2 раза), чем на образование, но ничего, не все ещё знакомы с Яндекс.Практикум =)"
   ]
  },
  {
   "cell_type": "markdown",
   "metadata": {},
   "source": [
    "<div class=\"alert alert-success\">\n",
    "<h3>✔ Комментарий ревьюера</h3>\n",
    "\n",
    "Кажется, что если сложить все упоминания образования, то получится больше, чем со свадьбой. Можно лемматизировать и сравнить\n",
    "</div>"
   ]
  },
  {
   "cell_type": "markdown",
   "metadata": {},
   "source": [
    "### Обработка дубликатов"
   ]
  },
  {
   "cell_type": "code",
   "execution_count": 219,
   "metadata": {},
   "outputs": [
    {
     "data": {
      "text/plain": [
       "71"
      ]
     },
     "execution_count": 219,
     "metadata": {},
     "output_type": "execute_result"
    }
   ],
   "source": [
    "#проверим наличие дубликатов\n",
    "df.duplicated().sum()"
   ]
  },
  {
   "cell_type": "markdown",
   "metadata": {},
   "source": [
    "Относительно небольшое количество дублей, скорее всего причина в том, что некоторые потенциальные заёмщики часто отправляют повторные заявки в один и тот же банк и ещё чаще в несколько банков сразу, из-за чего получают отказ. "
   ]
  },
  {
   "cell_type": "code",
   "execution_count": 220,
   "metadata": {},
   "outputs": [],
   "source": [
    "#удалим дубликаты и сбросим индекс\n",
    "df = df.drop_duplicates().reset_index(drop=True)"
   ]
  },
  {
   "cell_type": "code",
   "execution_count": 221,
   "metadata": {},
   "outputs": [
    {
     "data": {
      "text/plain": [
       "0"
      ]
     },
     "execution_count": 221,
     "metadata": {},
     "output_type": "execute_result"
    }
   ],
   "source": [
    "#проверим наличие дубликатов\n",
    "df.duplicated().sum()"
   ]
  },
  {
   "cell_type": "code",
   "execution_count": 222,
   "metadata": {},
   "outputs": [
    {
     "data": {
      "text/plain": [
       "number_of_children      0\n",
       "client_age_in_years     0\n",
       "education_level         0\n",
       "education_level_id      0\n",
       "family_status           0\n",
       "family_status_id        0\n",
       "gender_attribute        0\n",
       "income_type             0\n",
       "the_presence_of_debt    0\n",
       "monthly_earnings        0\n",
       "credit_purpose          0\n",
       "years_employed          0\n",
       "dtype: int64"
      ]
     },
     "execution_count": 222,
     "metadata": {},
     "output_type": "execute_result"
    }
   ],
   "source": [
    "#после всех манипуляций проверим таблицу на наличие пропусков\n",
    "df.isna().sum()"
   ]
  },
  {
   "cell_type": "markdown",
   "metadata": {},
   "source": [
    "**Вывод** с дублями и пропусками справились, их оказалось небольшое количество, но сколько бы их не было - им не место в нашей таблице."
   ]
  },
  {
   "cell_type": "markdown",
   "metadata": {},
   "source": [
    "### Лемматизация"
   ]
  },
  {
   "cell_type": "code",
   "execution_count": 223,
   "metadata": {},
   "outputs": [],
   "source": [
    "#импортируем необходимую библиотеку для лемматизации\n",
    "from pymystem3 import Mystem\n",
    "m = Mystem() \n",
    "from collections import Counter"
   ]
  },
  {
   "cell_type": "code",
   "execution_count": 224,
   "metadata": {},
   "outputs": [],
   "source": [
    "#собираем все слова в одну строку из колонки credit_purpose\n",
    "credit_purpose_str = ' '.join(df['credit_purpose'])"
   ]
  },
  {
   "cell_type": "code",
   "execution_count": 225,
   "metadata": {
    "scrolled": true
   },
   "outputs": [
    {
     "data": {
      "text/plain": [
       "['покупка',\n",
       " ' ',\n",
       " 'жилье',\n",
       " ' ',\n",
       " 'приобретение',\n",
       " ' ',\n",
       " 'автомобиль',\n",
       " ' ',\n",
       " 'покупка',\n",
       " ' ',\n",
       " 'жилье',\n",
       " ' ',\n",
       " 'дополнительный',\n",
       " ' ',\n",
       " 'образование',\n",
       " ' ',\n",
       " 'сыграть',\n",
       " ' ',\n",
       " 'свадьба',\n",
       " ' ',\n",
       " 'покупка',\n",
       " ' ',\n",
       " 'жилье',\n",
       " ' ',\n",
       " 'операция',\n",
       " ' ',\n",
       " 'с',\n",
       " ' ',\n",
       " 'жилье',\n",
       " ' ',\n",
       " 'образование',\n",
       " ' ',\n",
       " 'на',\n",
       " ' ',\n",
       " 'проведение',\n",
       " ' ',\n",
       " 'свадьба',\n",
       " ' ',\n",
       " 'покупка',\n",
       " ' ',\n",
       " 'жилье',\n",
       " ' ',\n",
       " 'для',\n",
       " ' ',\n",
       " 'семья',\n",
       " ' ',\n",
       " 'покупка',\n",
       " ' ',\n",
       " 'недвижимость',\n",
       " ' ',\n",
       " 'покупка',\n",
       " ' ',\n",
       " 'коммерческий',\n",
       " ' ',\n",
       " 'недвижимость',\n",
       " ' ',\n",
       " 'сыграть',\n",
       " ' ',\n",
       " 'свадьба',\n",
       " ' ',\n",
       " 'приобретение',\n",
       " ' ',\n",
       " 'автомобиль',\n",
       " ' ',\n",
       " 'покупка',\n",
       " ' ',\n",
       " 'жилой',\n",
       " ' ',\n",
       " 'недвижимость',\n",
       " ' ',\n",
       " 'строительство',\n",
       " ' ',\n",
       " 'собственный',\n",
       " ' ',\n",
       " 'недвижимость',\n",
       " ' ',\n",
       " 'недвижимость',\n",
       " ' ',\n",
       " 'строительство',\n",
       " ' ',\n",
       " 'недвижимость',\n",
       " ' ',\n",
       " 'на',\n",
       " ' ',\n",
       " 'покупка',\n",
       " ' ',\n",
       " 'подержать',\n",
       " ' ',\n",
       " 'автомобиль',\n",
       " ' ',\n",
       " 'на',\n",
       " ' ',\n",
       " 'покупка',\n",
       " ' ',\n",
       " 'свой',\n",
       " ' ',\n",
       " 'автомобиль',\n",
       " ' ',\n",
       " 'недвижимость',\n",
       " ' ',\n",
       " 'приобретение',\n",
       " ' ',\n",
       " 'автомобиль',\n",
       " ' ',\n",
       " 'на',\n",
       " ' ',\n",
       " 'покупка',\n",
       " ' ',\n",
       " 'подержать',\n",
       " ' ',\n",
       " 'автомобиль',\n",
       " ' ',\n",
       " 'сыграть',\n",
       " ' ',\n",
       " 'свадьба',\n",
       " ' ',\n",
       " 'операция',\n",
       " ' ',\n",
       " 'с',\n",
       " ' ',\n",
       " 'коммерческий',\n",
       " ' ',\n",
       " 'недвижимость',\n",
       " ' ',\n",
       " 'покупка',\n",
       " ' ',\n",
       " 'недвижимость',\n",
       " ' ',\n",
       " 'образование',\n",
       " ' ',\n",
       " 'строительство',\n",
       " ' ',\n",
       " 'собственный',\n",
       " ' ',\n",
       " 'недвижимость',\n",
       " ' ',\n",
       " 'строительство',\n",
       " ' ',\n",
       " 'собственный',\n",
       " ' ',\n",
       " 'недвижимость',\n",
       " ' ',\n",
       " 'строительство',\n",
       " ' ',\n",
       " 'жилой',\n",
       " ' ',\n",
       " 'недвижимость',\n",
       " ' ',\n",
       " 'операция',\n",
       " ' ',\n",
       " 'с',\n",
       " ' ',\n",
       " 'коммерческий',\n",
       " ' ',\n",
       " 'недвижимость',\n",
       " ' ',\n",
       " 'жилье',\n",
       " ' ',\n",
       " 'на',\n",
       " ' ',\n",
       " 'проведение',\n",
       " ' ',\n",
       " 'свадьба',\n",
       " ' ',\n",
       " 'покупка',\n",
       " ' ',\n",
       " 'жилье',\n",
       " ' ',\n",
       " 'операция',\n",
       " ' ',\n",
       " 'со',\n",
       " ' ',\n",
       " 'свой',\n",
       " ' ',\n",
       " 'недвижимость',\n",
       " ' ',\n",
       " 'на',\n",
       " ' ',\n",
       " 'проведение',\n",
       " ' ',\n",
       " 'свадьба',\n",
       " ' ',\n",
       " 'автомобиль',\n",
       " ' ',\n",
       " 'приобретение',\n",
       " ' ',\n",
       " 'автомобиль',\n",
       " ' ',\n",
       " 'образование',\n",
       " ' ',\n",
       " 'заниматься',\n",
       " ' ',\n",
       " 'образование',\n",
       " ' ',\n",
       " 'покупка',\n",
       " ' ',\n",
       " 'недвижимость',\n",
       " ' ',\n",
       " 'сделка',\n",
       " ' ',\n",
       " 'с',\n",
       " ' ',\n",
       " 'подержать',\n",
       " ' ',\n",
       " 'автомобиль',\n",
       " ' ',\n",
       " 'получение',\n",
       " ' ',\n",
       " 'образование',\n",
       " ' ',\n",
       " 'приобретение',\n",
       " ' ',\n",
       " 'автомобиль',\n",
       " ' ',\n",
       " 'на',\n",
       " ' ',\n",
       " 'покупка',\n",
       " ' ',\n",
       " 'свой',\n",
       " ' ',\n",
       " 'автомобиль',\n",
       " ' ',\n",
       " 'заниматься',\n",
       " ' ',\n",
       " 'образование',\n",
       " ' ',\n",
       " 'сделка',\n",
       " ' ',\n",
       " 'с',\n",
       " ' ',\n",
       " 'подержать',\n",
       " ' ',\n",
       " 'автомобиль',\n",
       " ' ',\n",
       " 'на',\n",
       " ' ',\n",
       " 'проведение',\n",
       " ' ',\n",
       " 'свадьба',\n",
       " ' ',\n",
       " 'строительство',\n",
       " ' ',\n",
       " 'собственный',\n",
       " ' ',\n",
       " 'недвижимость',\n",
       " ' ',\n",
       " 'автомобиль',\n",
       " ' ',\n",
       " 'автомобиль',\n",
       " ' ',\n",
       " 'свадьба',\n",
       " ' ',\n",
       " 'получение',\n",
       " ' ',\n",
       " 'дополнительный',\n",
       " ' ',\n",
       " 'образование',\n",
       " ' ',\n",
       " 'покупка',\n",
       " ' ',\n",
       " 'свой',\n",
       " ' ',\n",
       " 'жилье',\n",
       " ' ',\n",
       " 'автомобиль',\n",
       " ' ',\n",
       " 'сыграть',\n",
       " ' ',\n",
       " 'свадьба',\n",
       " ' ',\n",
       " 'образование',\n",
       " ' ',\n",
       " 'образование',\n",
       " ' ',\n",
       " 'недвижимость',\n",
       " ' ',\n",
       " 'операция',\n",
       " ' ',\n",
       " 'с',\n",
       " ' ',\n",
       " 'недвижимость',\n",
       " ' ',\n",
       " 'заниматься',\n",
       " ' ',\n",
       " 'образование',\n",
       " ' ',\n",
       " 'покупка',\n",
       " ' ',\n",
       " 'недвижимость',\n",
       " ' ',\n",
       " 'получение',\n",
       " ' ',\n",
       " 'высокий',\n",
       " ' ',\n",
       " 'образование',\n",
       " ' ',\n",
       " 'операция',\n",
       " ' ',\n",
       " 'с',\n",
       " ' ',\n",
       " 'жилье',\n",
       " ' ',\n",
       " 'сделка',\n",
       " ' ',\n",
       " 'с',\n",
       " ' ',\n",
       " 'подержанный',\n",
       " ' ',\n",
       " 'автомобиль',\n",
       " ' ',\n",
       " 'операция',\n",
       " ' ',\n",
       " 'с',\n",
       " ' ',\n",
       " 'коммерческий',\n",
       " ' ',\n",
       " 'недвижимость',\n",
       " ' ',\n",
       " 'заниматься',\n",
       " ' ',\n",
       " 'образование',\n",
       " ' ',\n",
       " 'покупка',\n",
       " ' ',\n",
       " 'жилье',\n",
       " ' ',\n",
       " 'для',\n",
       " ' ',\n",
       " 'семья',\n",
       " ' ',\n",
       " 'операция',\n",
       " ' ',\n",
       " 'с',\n",
       " ' ',\n",
       " 'коммерческий',\n",
       " ' ',\n",
       " 'недвижимость',\n",
       " ' ',\n",
       " 'покупка',\n",
       " ' ',\n",
       " 'свой',\n",
       " ' ',\n",
       " 'жилье',\n",
       " ' ',\n",
       " 'покупка',\n",
       " ' ',\n",
       " 'коммерческий',\n",
       " ' ',\n",
       " 'недвижимость',\n",
       " ' ',\n",
       " 'автомобиль',\n",
       " ' ',\n",
       " 'операция',\n",
       " ' ',\n",
       " 'с',\n",
       " ' ',\n",
       " 'коммерческий',\n",
       " ' ',\n",
       " 'недвижимость',\n",
       " ' ',\n",
       " 'заниматься',\n",
       " ' ',\n",
       " 'образование',\n",
       " ' ',\n",
       " 'покупка',\n",
       " ' ',\n",
       " 'жилье',\n",
       " ' ',\n",
       " 'для',\n",
       " ' ',\n",
       " 'семья',\n",
       " ' ',\n",
       " 'операция',\n",
       " ' ',\n",
       " 'с',\n",
       " ' ',\n",
       " 'недвижимость',\n",
       " ' ',\n",
       " 'на',\n",
       " ' ',\n",
       " 'покупка',\n",
       " ' ',\n",
       " 'подержать',\n",
       " ' ',\n",
       " 'автомобиль',\n",
       " ' ',\n",
       " 'свой',\n",
       " ' ',\n",
       " 'автомобиль',\n",
       " ' ',\n",
       " 'сделка',\n",
       " ' ',\n",
       " 'с',\n",
       " ' ',\n",
       " 'автомобиль',\n",
       " ' ',\n",
       " 'автомобиль',\n",
       " ' ',\n",
       " 'сделка',\n",
       " ' ',\n",
       " 'с',\n",
       " ' ',\n",
       " 'автомобиль',\n",
       " ' ',\n",
       " 'профильный',\n",
       " ' ',\n",
       " 'образование',\n",
       " ' ',\n",
       " 'жилье',\n",
       " ' ',\n",
       " 'жилье',\n",
       " ' ',\n",
       " 'операция',\n",
       " ' ',\n",
       " 'со',\n",
       " ' ',\n",
       " 'свой',\n",
       " ' ',\n",
       " 'недвижимость',\n",
       " ' ',\n",
       " 'высокий',\n",
       " ' ',\n",
       " 'образование',\n",
       " ' ',\n",
       " 'свадьба',\n",
       " ' ',\n",
       " 'покупка',\n",
       " ' ',\n",
       " 'жилье',\n",
       " ' ',\n",
       " 'для',\n",
       " ' ',\n",
       " 'сдача',\n",
       " ' ',\n",
       " 'на',\n",
       " ' ',\n",
       " 'проведение',\n",
       " ' ',\n",
       " 'свадьба',\n",
       " ' ',\n",
       " 'сделка',\n",
       " ' ',\n",
       " 'с',\n",
       " ' ',\n",
       " 'подержанный',\n",
       " ' ',\n",
       " 'автомобиль',\n",
       " ' ',\n",
       " 'операция',\n",
       " ' ',\n",
       " 'с',\n",
       " ' ',\n",
       " 'жилье',\n",
       " ' ',\n",
       " 'покупка',\n",
       " ' ',\n",
       " 'недвижимость',\n",
       " ' ',\n",
       " 'сыграть',\n",
       " ' ',\n",
       " 'свадьба',\n",
       " ' ',\n",
       " 'сделка',\n",
       " ' ',\n",
       " 'с',\n",
       " ' ',\n",
       " 'автомобиль',\n",
       " ' ',\n",
       " 'на',\n",
       " ' ',\n",
       " 'проведение',\n",
       " ' ',\n",
       " 'свадьба',\n",
       " ' ',\n",
       " 'автомобиль',\n",
       " ' ',\n",
       " 'покупка',\n",
       " ' ',\n",
       " 'жилой',\n",
       " ' ',\n",
       " 'недвижимость',\n",
       " ' ',\n",
       " 'профильный',\n",
       " ' ',\n",
       " 'образование',\n",
       " ' ',\n",
       " 'покупка',\n",
       " ' ',\n",
       " 'жилье',\n",
       " ' ',\n",
       " 'для',\n",
       " ' ',\n",
       " 'сдача',\n",
       " ' ',\n",
       " 'автомобиль',\n",
       " ' ',\n",
       " 'операция',\n",
       " ' ',\n",
       " 'с',\n",
       " ' ',\n",
       " 'недвижимость',\n",
       " ' ',\n",
       " 'на',\n",
       " ' ',\n",
       " 'покупка',\n",
       " ' ',\n",
       " 'свой',\n",
       " ' ',\n",
       " 'автомобиль',\n",
       " ' ',\n",
       " 'на',\n",
       " ' ',\n",
       " 'покупка',\n",
       " ' ',\n",
       " 'подержать',\n",
       " ' ',\n",
       " 'автомобиль',\n",
       " ' ',\n",
       " 'строительство',\n",
       " ' ',\n",
       " 'недвижимость',\n",
       " ' ',\n",
       " 'покупка',\n",
       " ' ',\n",
       " 'жилье',\n",
       " ' ',\n",
       " 'для',\n",
       " ' ',\n",
       " 'сдача',\n",
       " ' ',\n",
       " 'строительство',\n",
       " ' ',\n",
       " 'собственный',\n",
       " ' ',\n",
       " 'недвижимость',\n",
       " ' ',\n",
       " 'образование',\n",
       " ' ',\n",
       " 'строительство',\n",
       " ' ',\n",
       " 'собственный',\n",
       " ' ',\n",
       " 'недвижимость',\n",
       " ' ',\n",
       " 'сделка',\n",
       " ' ',\n",
       " 'с',\n",
       " ' ',\n",
       " 'подержать',\n",
       " ' ',\n",
       " 'автомобиль',\n",
       " ' ',\n",
       " 'образование',\n",
       " ' ',\n",
       " 'покупка',\n",
       " ' ',\n",
       " 'жилье',\n",
       " ' ',\n",
       " 'недвижимость',\n",
       " ' ',\n",
       " 'недвижимость',\n",
       " ' ',\n",
       " 'образование',\n",
       " ' ',\n",
       " 'операция',\n",
       " ' ',\n",
       " 'со',\n",
       " ' ',\n",
       " 'свой',\n",
       " ' ',\n",
       " 'недвижимость',\n",
       " ' ',\n",
       " 'операция',\n",
       " ' ',\n",
       " 'с',\n",
       " ' ',\n",
       " 'коммерческий',\n",
       " ' ',\n",
       " 'недвижимость',\n",
       " ' ',\n",
       " 'покупка',\n",
       " ' ',\n",
       " 'жилой',\n",
       " ' ',\n",
       " 'недвижимость',\n",
       " ' ',\n",
       " 'на',\n",
       " ' ',\n",
       " 'покупка',\n",
       " ' ',\n",
       " 'автомобиль',\n",
       " ' ',\n",
       " 'на',\n",
       " ' ',\n",
       " 'проведение',\n",
       " ' ',\n",
       " 'свадьба',\n",
       " ' ',\n",
       " 'покупка',\n",
       " ' ',\n",
       " 'коммерческий',\n",
       " ' ',\n",
       " 'недвижимость',\n",
       " ' ',\n",
       " 'высокий',\n",
       " ' ',\n",
       " 'образование',\n",
       " ' ',\n",
       " 'автомобиль',\n",
       " ' ',\n",
       " 'автомобиль',\n",
       " ' ',\n",
       " 'покупка',\n",
       " ' ',\n",
       " 'жилье',\n",
       " ' ',\n",
       " 'для',\n",
       " ' ',\n",
       " 'сдача',\n",
       " ' ',\n",
       " 'операция',\n",
       " ' ',\n",
       " 'с',\n",
       " ' ',\n",
       " 'коммерческий',\n",
       " ' ',\n",
       " 'недвижимость',\n",
       " ' ',\n",
       " 'свадьба',\n",
       " ' ',\n",
       " 'строительство',\n",
       " ' ',\n",
       " 'собственный',\n",
       " ' ',\n",
       " 'недвижимость',\n",
       " ' ',\n",
       " 'строительство',\n",
       " ' ',\n",
       " 'жилой',\n",
       " ' ',\n",
       " 'недвижимость',\n",
       " ' ',\n",
       " 'сделка',\n",
       " ' ',\n",
       " 'с',\n",
       " ' ',\n",
       " 'автомобиль',\n",
       " ' ',\n",
       " 'автомобиль',\n",
       " ' ',\n",
       " 'операция',\n",
       " ' ',\n",
       " 'со',\n",
       " ' ',\n",
       " 'свой',\n",
       " ' ',\n",
       " 'недвижимость',\n",
       " ' ',\n",
       " 'получение',\n",
       " ' ',\n",
       " 'дополнительный',\n",
       " ' ',\n",
       " 'образование',\n",
       " ' ',\n",
       " 'автомобиль',\n",
       " ' ',\n",
       " 'образование',\n",
       " ' ',\n",
       " 'покупка',\n",
       " ' ',\n",
       " 'жилой',\n",
       " ' ',\n",
       " 'недвижимость',\n",
       " ' ',\n",
       " 'жилье',\n",
       " ' ',\n",
       " 'операция',\n",
       " ' ',\n",
       " 'со',\n",
       " ' ',\n",
       " 'свой',\n",
       " ' ',\n",
       " 'недвижимость',\n",
       " ' ',\n",
       " 'сыграть',\n",
       " ' ',\n",
       " 'свадьба',\n",
       " ' ',\n",
       " 'покупка',\n",
       " ' ',\n",
       " 'свой',\n",
       " ' ',\n",
       " 'жилье',\n",
       " ' ',\n",
       " 'ремонт',\n",
       " ' ',\n",
       " 'жилье',\n",
       " ' ',\n",
       " 'покупка',\n",
       " ' ',\n",
       " 'коммерческий',\n",
       " ' ',\n",
       " 'недвижимость',\n",
       " ' ',\n",
       " 'свадьба',\n",
       " ' ',\n",
       " 'сделка',\n",
       " ' ',\n",
       " 'с',\n",
       " ' ',\n",
       " 'подержать',\n",
       " ' ',\n",
       " 'автомобиль',\n",
       " ' ',\n",
       " 'строительство',\n",
       " ' ',\n",
       " 'собственный',\n",
       " ' ',\n",
       " 'недвижимость',\n",
       " ' ',\n",
       " 'свой',\n",
       " ' ',\n",
       " 'автомобиль',\n",
       " ' ',\n",
       " 'строительство',\n",
       " ' ',\n",
       " 'недвижимость',\n",
       " ' ',\n",
       " 'покупка',\n",
       " ' ',\n",
       " 'жилье',\n",
       " ' ',\n",
       " 'операция',\n",
       " ' ',\n",
       " 'с',\n",
       " ' ',\n",
       " 'недвижимость',\n",
       " ' ',\n",
       " 'на',\n",
       " ' ',\n",
       " 'покупка',\n",
       " ' ',\n",
       " 'свой',\n",
       " ' ',\n",
       " 'автомобиль',\n",
       " ' ',\n",
       " 'операция',\n",
       " ' ',\n",
       " 'с',\n",
       " ' ',\n",
       " 'жилье',\n",
       " ' ',\n",
       " 'сыграть',\n",
       " ' ',\n",
       " 'свадьба',\n",
       " ' ',\n",
       " 'сыграть',\n",
       " ' ',\n",
       " 'свадьба',\n",
       " ' ',\n",
       " 'покупка',\n",
       " ' ',\n",
       " 'свой',\n",
       " ' ',\n",
       " 'жилье',\n",
       " ' ',\n",
       " 'жилье',\n",
       " ' ',\n",
       " 'операция',\n",
       " ' ',\n",
       " 'с',\n",
       " ' ',\n",
       " 'коммерческий',\n",
       " ' ',\n",
       " 'недвижимость',\n",
       " ' ',\n",
       " 'дополнительный',\n",
       " ' ',\n",
       " 'образование',\n",
       " ' ',\n",
       " 'получение',\n",
       " ' ',\n",
       " 'дополнительный',\n",
       " ' ',\n",
       " 'образование',\n",
       " ' ',\n",
       " 'сделка',\n",
       " ' ',\n",
       " 'с',\n",
       " ' ',\n",
       " 'автомобиль',\n",
       " ' ',\n",
       " 'образование',\n",
       " ' ',\n",
       " 'на',\n",
       " ' ',\n",
       " 'покупка',\n",
       " ' ',\n",
       " 'свой',\n",
       " ' ',\n",
       " 'автомобиль',\n",
       " ' ',\n",
       " 'покупка',\n",
       " ' ',\n",
       " 'жилье',\n",
       " ' ',\n",
       " 'для',\n",
       " ' ',\n",
       " 'сдача',\n",
       " ' ',\n",
       " 'приобретение',\n",
       " ' ',\n",
       " 'автомобиль',\n",
       " ' ',\n",
       " 'получение',\n",
       " ' ',\n",
       " 'дополнительный',\n",
       " ' ',\n",
       " 'образование',\n",
       " ' ',\n",
       " 'ремонт',\n",
       " ' ',\n",
       " 'жилье',\n",
       " ' ',\n",
       " 'на',\n",
       " ' ',\n",
       " 'покупка',\n",
       " ' ',\n",
       " 'свой',\n",
       " ' ',\n",
       " 'автомобиль',\n",
       " ' ',\n",
       " 'покупка',\n",
       " ' ',\n",
       " 'жилье',\n",
       " ' ',\n",
       " 'операция',\n",
       " ' ',\n",
       " 'с',\n",
       " ' ',\n",
       " 'жилье',\n",
       " ' ',\n",
       " 'на',\n",
       " ' ',\n",
       " 'проведение',\n",
       " ' ',\n",
       " 'свадьба',\n",
       " ' ',\n",
       " 'покупка',\n",
       " ' ',\n",
       " 'свой',\n",
       " ' ',\n",
       " 'жилье',\n",
       " ' ',\n",
       " 'приобретение',\n",
       " ' ',\n",
       " 'автомобиль',\n",
       " ' ',\n",
       " 'жилье',\n",
       " ' ',\n",
       " 'на',\n",
       " ' ',\n",
       " 'проведение',\n",
       " ' ',\n",
       " 'свадьба',\n",
       " ' ',\n",
       " 'строительство',\n",
       " ' ',\n",
       " 'недвижимость',\n",
       " ' ',\n",
       " 'покупка',\n",
       " ' ',\n",
       " 'коммерческий',\n",
       " ' ',\n",
       " 'недвижимость',\n",
       " ' ',\n",
       " 'свой',\n",
       " ' ',\n",
       " 'автомобиль',\n",
       " ' ',\n",
       " 'строительство',\n",
       " ' ',\n",
       " 'недвижимость',\n",
       " ' ',\n",
       " 'заниматься',\n",
       " ' ',\n",
       " 'высокий',\n",
       " ' ',\n",
       " 'образование',\n",
       " ' ',\n",
       " 'сделка',\n",
       " ' ',\n",
       " 'с',\n",
       " ' ',\n",
       " 'подержать',\n",
       " ' ',\n",
       " 'автомобиль',\n",
       " ' ',\n",
       " 'приобретение',\n",
       " ' ',\n",
       " 'автомобиль',\n",
       " ' ',\n",
       " 'покупка',\n",
       " ' ',\n",
       " 'свой',\n",
       " ' ',\n",
       " 'жилье',\n",
       " ' ',\n",
       " 'сыграть',\n",
       " ' ',\n",
       " 'свадьба',\n",
       " ' ',\n",
       " 'покупка',\n",
       " ' ',\n",
       " 'жилье',\n",
       " ' ',\n",
       " 'для',\n",
       " ' ',\n",
       " 'семья',\n",
       " ' ',\n",
       " 'свадьба',\n",
       " ' ',\n",
       " 'получение',\n",
       " ' ',\n",
       " 'дополнительный',\n",
       " ' ',\n",
       " 'образование',\n",
       " ' ',\n",
       " 'покупка',\n",
       " ' ',\n",
       " 'жилье',\n",
       " ' ',\n",
       " 'для',\n",
       " ' ',\n",
       " 'сдача',\n",
       " ' ',\n",
       " 'получение',\n",
       " ' ',\n",
       " 'дополнительный',\n",
       " ' ',\n",
       " 'образование',\n",
       " ' ',\n",
       " 'операция',\n",
       " ' ',\n",
       " 'с',\n",
       " ' ',\n",
       " 'коммерческий',\n",
       " ' ',\n",
       " 'недвижимость',\n",
       " ' ',\n",
       " 'высокий',\n",
       " ' ',\n",
       " 'образование',\n",
       " ' ',\n",
       " 'покупка',\n",
       " ' ',\n",
       " 'свой',\n",
       " ' ',\n",
       " 'жилье',\n",
       " ' ',\n",
       " 'свой',\n",
       " ' ',\n",
       " 'автомобиль',\n",
       " ' ',\n",
       " 'на',\n",
       " ' ',\n",
       " 'проведение',\n",
       " ' ',\n",
       " 'свадьба',\n",
       " ' ',\n",
       " 'высокий',\n",
       " ' ',\n",
       " 'образование',\n",
       " ' ',\n",
       " 'свой',\n",
       " ' ',\n",
       " 'автомобиль',\n",
       " ' ',\n",
       " 'на',\n",
       " ' ',\n",
       " 'покупка',\n",
       " ' ',\n",
       " 'подержать',\n",
       " ' ',\n",
       " 'автомобиль',\n",
       " ' ',\n",
       " 'получение',\n",
       " ' ',\n",
       " 'образование',\n",
       " ' ',\n",
       " 'дополнительный',\n",
       " ' ',\n",
       " 'образование',\n",
       " ' ',\n",
       " 'покупка',\n",
       " ' ',\n",
       " 'свой',\n",
       " ' ',\n",
       " 'жилье',\n",
       " ' ',\n",
       " ...]"
      ]
     },
     "execution_count": 225,
     "metadata": {},
     "output_type": "execute_result"
    }
   ],
   "source": [
    "#используем credit_purpose_str как аргумент для лемматизации\n",
    "lemmas = m.lemmatize(credit_purpose_str)\n",
    "lemmas"
   ]
  },
  {
   "cell_type": "markdown",
   "metadata": {},
   "source": [
    "<div class=\"alert alert-success\">\n",
    "<h3>✔ Комментарий ревьюера</h3>\n",
    "\n",
    "Такие длинные выводы лучше не делать, выше стоит взять сначала `unique`\n",
    "</div>"
   ]
  },
  {
   "cell_type": "code",
   "execution_count": 226,
   "metadata": {},
   "outputs": [
    {
     "data": {
      "text/plain": [
       "Counter({'покупка': 5897,\n",
       "         ' ': 55023,\n",
       "         'жилье': 4460,\n",
       "         'приобретение': 461,\n",
       "         'автомобиль': 4306,\n",
       "         'дополнительный': 906,\n",
       "         'образование': 4013,\n",
       "         'сыграть': 765,\n",
       "         'свадьба': 2324,\n",
       "         'операция': 2604,\n",
       "         'с': 2918,\n",
       "         'на': 2222,\n",
       "         'проведение': 768,\n",
       "         'для': 1289,\n",
       "         'семья': 638,\n",
       "         'недвижимость': 6351,\n",
       "         'коммерческий': 1311,\n",
       "         'жилой': 1230,\n",
       "         'строительство': 1878,\n",
       "         'собственный': 635,\n",
       "         'подержать': 853,\n",
       "         'свой': 2230,\n",
       "         'со': 627,\n",
       "         'заниматься': 904,\n",
       "         'сделка': 941,\n",
       "         'получение': 1314,\n",
       "         'высокий': 1374,\n",
       "         'подержанный': 111,\n",
       "         'профильный': 436,\n",
       "         'сдача': 651,\n",
       "         'ремонт': 607,\n",
       "         '\\n': 1})"
      ]
     },
     "metadata": {},
     "output_type": "display_data"
    }
   ],
   "source": [
    "#для подсчёта числа упоминаний в тексте лемматизированных слов, вызовем контейнер 'Counter' из модуля 'collections'\n",
    "display(Counter(lemmas))"
   ]
  },
  {
   "cell_type": "code",
   "execution_count": 227,
   "metadata": {},
   "outputs": [
    {
     "data": {
      "text/html": [
       "<div>\n",
       "<style scoped>\n",
       "    .dataframe tbody tr th:only-of-type {\n",
       "        vertical-align: middle;\n",
       "    }\n",
       "\n",
       "    .dataframe tbody tr th {\n",
       "        vertical-align: top;\n",
       "    }\n",
       "\n",
       "    .dataframe thead th {\n",
       "        text-align: right;\n",
       "    }\n",
       "</style>\n",
       "<table border=\"1\" class=\"dataframe\">\n",
       "  <thead>\n",
       "    <tr style=\"text-align: right;\">\n",
       "      <th></th>\n",
       "      <th>number_of_children</th>\n",
       "      <th>client_age_in_years</th>\n",
       "      <th>education_level</th>\n",
       "      <th>education_level_id</th>\n",
       "      <th>family_status</th>\n",
       "      <th>family_status_id</th>\n",
       "      <th>gender_attribute</th>\n",
       "      <th>income_type</th>\n",
       "      <th>the_presence_of_debt</th>\n",
       "      <th>monthly_earnings</th>\n",
       "      <th>credit_purpose</th>\n",
       "      <th>years_employed</th>\n",
       "      <th>purpose_category</th>\n",
       "    </tr>\n",
       "  </thead>\n",
       "  <tbody>\n",
       "    <tr>\n",
       "      <td>0</td>\n",
       "      <td>1</td>\n",
       "      <td>42</td>\n",
       "      <td>высшее</td>\n",
       "      <td>0</td>\n",
       "      <td>женат / замужем</td>\n",
       "      <td>0</td>\n",
       "      <td>Ж</td>\n",
       "      <td>сотрудник</td>\n",
       "      <td>0</td>\n",
       "      <td>253875</td>\n",
       "      <td>покупка жилья</td>\n",
       "      <td>23.115068</td>\n",
       "      <td>жилье</td>\n",
       "    </tr>\n",
       "    <tr>\n",
       "      <td>1</td>\n",
       "      <td>1</td>\n",
       "      <td>36</td>\n",
       "      <td>среднее</td>\n",
       "      <td>1</td>\n",
       "      <td>женат / замужем</td>\n",
       "      <td>0</td>\n",
       "      <td>Ж</td>\n",
       "      <td>сотрудник</td>\n",
       "      <td>0</td>\n",
       "      <td>112080</td>\n",
       "      <td>приобретение автомобиля</td>\n",
       "      <td>11.024658</td>\n",
       "      <td>автомобиль</td>\n",
       "    </tr>\n",
       "    <tr>\n",
       "      <td>2</td>\n",
       "      <td>0</td>\n",
       "      <td>33</td>\n",
       "      <td>среднее</td>\n",
       "      <td>1</td>\n",
       "      <td>женат / замужем</td>\n",
       "      <td>0</td>\n",
       "      <td>М</td>\n",
       "      <td>сотрудник</td>\n",
       "      <td>0</td>\n",
       "      <td>145885</td>\n",
       "      <td>покупка жилья</td>\n",
       "      <td>15.405479</td>\n",
       "      <td>жилье</td>\n",
       "    </tr>\n",
       "    <tr>\n",
       "      <td>3</td>\n",
       "      <td>3</td>\n",
       "      <td>32</td>\n",
       "      <td>среднее</td>\n",
       "      <td>1</td>\n",
       "      <td>женат / замужем</td>\n",
       "      <td>0</td>\n",
       "      <td>М</td>\n",
       "      <td>сотрудник</td>\n",
       "      <td>0</td>\n",
       "      <td>267628</td>\n",
       "      <td>дополнительное образование</td>\n",
       "      <td>11.298630</td>\n",
       "      <td>образование</td>\n",
       "    </tr>\n",
       "    <tr>\n",
       "      <td>4</td>\n",
       "      <td>0</td>\n",
       "      <td>53</td>\n",
       "      <td>среднее</td>\n",
       "      <td>1</td>\n",
       "      <td>гражданский брак</td>\n",
       "      <td>1</td>\n",
       "      <td>Ж</td>\n",
       "      <td>пенсионер</td>\n",
       "      <td>0</td>\n",
       "      <td>158616</td>\n",
       "      <td>сыграть свадьбу</td>\n",
       "      <td>932.235616</td>\n",
       "      <td>свадьба</td>\n",
       "    </tr>\n",
       "    <tr>\n",
       "      <td>5</td>\n",
       "      <td>0</td>\n",
       "      <td>27</td>\n",
       "      <td>высшее</td>\n",
       "      <td>0</td>\n",
       "      <td>гражданский брак</td>\n",
       "      <td>1</td>\n",
       "      <td>М</td>\n",
       "      <td>компаньон</td>\n",
       "      <td>0</td>\n",
       "      <td>255763</td>\n",
       "      <td>покупка жилья</td>\n",
       "      <td>2.536986</td>\n",
       "      <td>жилье</td>\n",
       "    </tr>\n",
       "    <tr>\n",
       "      <td>6</td>\n",
       "      <td>0</td>\n",
       "      <td>43</td>\n",
       "      <td>высшее</td>\n",
       "      <td>0</td>\n",
       "      <td>женат / замужем</td>\n",
       "      <td>0</td>\n",
       "      <td>Ж</td>\n",
       "      <td>компаньон</td>\n",
       "      <td>0</td>\n",
       "      <td>240525</td>\n",
       "      <td>операции с жильем</td>\n",
       "      <td>7.887671</td>\n",
       "      <td>жилье</td>\n",
       "    </tr>\n",
       "    <tr>\n",
       "      <td>7</td>\n",
       "      <td>0</td>\n",
       "      <td>50</td>\n",
       "      <td>среднее</td>\n",
       "      <td>1</td>\n",
       "      <td>женат / замужем</td>\n",
       "      <td>0</td>\n",
       "      <td>М</td>\n",
       "      <td>сотрудник</td>\n",
       "      <td>0</td>\n",
       "      <td>135823</td>\n",
       "      <td>образование</td>\n",
       "      <td>0.416438</td>\n",
       "      <td>образование</td>\n",
       "    </tr>\n",
       "    <tr>\n",
       "      <td>8</td>\n",
       "      <td>2</td>\n",
       "      <td>35</td>\n",
       "      <td>высшее</td>\n",
       "      <td>0</td>\n",
       "      <td>гражданский брак</td>\n",
       "      <td>1</td>\n",
       "      <td>Ж</td>\n",
       "      <td>сотрудник</td>\n",
       "      <td>0</td>\n",
       "      <td>95856</td>\n",
       "      <td>на проведение свадьбы</td>\n",
       "      <td>18.983562</td>\n",
       "      <td>свадьба</td>\n",
       "    </tr>\n",
       "    <tr>\n",
       "      <td>9</td>\n",
       "      <td>0</td>\n",
       "      <td>41</td>\n",
       "      <td>среднее</td>\n",
       "      <td>1</td>\n",
       "      <td>женат / замужем</td>\n",
       "      <td>0</td>\n",
       "      <td>М</td>\n",
       "      <td>сотрудник</td>\n",
       "      <td>0</td>\n",
       "      <td>144425</td>\n",
       "      <td>покупка жилья для семьи</td>\n",
       "      <td>5.994521</td>\n",
       "      <td>жилье</td>\n",
       "    </tr>\n",
       "  </tbody>\n",
       "</table>\n",
       "</div>"
      ],
      "text/plain": [
       "   number_of_children  client_age_in_years education_level  \\\n",
       "0                   1                   42          высшее   \n",
       "1                   1                   36         среднее   \n",
       "2                   0                   33         среднее   \n",
       "3                   3                   32         среднее   \n",
       "4                   0                   53         среднее   \n",
       "5                   0                   27          высшее   \n",
       "6                   0                   43          высшее   \n",
       "7                   0                   50         среднее   \n",
       "8                   2                   35          высшее   \n",
       "9                   0                   41         среднее   \n",
       "\n",
       "   education_level_id     family_status  family_status_id gender_attribute  \\\n",
       "0                   0   женат / замужем                 0                Ж   \n",
       "1                   1   женат / замужем                 0                Ж   \n",
       "2                   1   женат / замужем                 0                М   \n",
       "3                   1   женат / замужем                 0                М   \n",
       "4                   1  гражданский брак                 1                Ж   \n",
       "5                   0  гражданский брак                 1                М   \n",
       "6                   0   женат / замужем                 0                Ж   \n",
       "7                   1   женат / замужем                 0                М   \n",
       "8                   0  гражданский брак                 1                Ж   \n",
       "9                   1   женат / замужем                 0                М   \n",
       "\n",
       "  income_type  the_presence_of_debt  monthly_earnings  \\\n",
       "0   сотрудник                     0            253875   \n",
       "1   сотрудник                     0            112080   \n",
       "2   сотрудник                     0            145885   \n",
       "3   сотрудник                     0            267628   \n",
       "4   пенсионер                     0            158616   \n",
       "5   компаньон                     0            255763   \n",
       "6   компаньон                     0            240525   \n",
       "7   сотрудник                     0            135823   \n",
       "8   сотрудник                     0             95856   \n",
       "9   сотрудник                     0            144425   \n",
       "\n",
       "               credit_purpose  years_employed purpose_category  \n",
       "0               покупка жилья       23.115068            жилье  \n",
       "1     приобретение автомобиля       11.024658       автомобиль  \n",
       "2               покупка жилья       15.405479            жилье  \n",
       "3  дополнительное образование       11.298630      образование  \n",
       "4             сыграть свадьбу      932.235616          свадьба  \n",
       "5               покупка жилья        2.536986            жилье  \n",
       "6           операции с жильем        7.887671            жилье  \n",
       "7                 образование        0.416438      образование  \n",
       "8       на проведение свадьбы       18.983562          свадьба  \n",
       "9     покупка жилья для семьи        5.994521            жилье  "
      ]
     },
     "metadata": {},
     "output_type": "display_data"
    }
   ],
   "source": [
    "# на основе полученных лемм создадим категории в новом столбце. \n",
    "#Для этого напишем функцию, а затем применим ее с помощью метода .apply()\n",
    "def purpose_category(row):\n",
    "    categories = ['автомобиль', 'недвижимость', 'образование', 'свадьба', 'жилье']\n",
    "    lemmas = m.lemmatize(row) # тут нужно лемматизировать row т.е. это значение текущей ячейки\n",
    "    for word in categories:\n",
    "        if word in lemmas:\n",
    "           return word\n",
    " \n",
    "df['purpose_category'] = df['credit_purpose'].apply(purpose_category)\n",
    "display(df.head(10))"
   ]
  },
  {
   "cell_type": "markdown",
   "metadata": {},
   "source": [
    "<div class=\"alert alert-success\">\n",
    "<h3>✔ Комментарий ревьюера</h3>\n",
    "\n",
    "Верно, очень аккуратно получилось, а почему жильё и недвижимость это разные категории?\n",
    "</div>"
   ]
  },
  {
   "cell_type": "markdown",
   "metadata": {},
   "source": [
    "<div class = \"alert alert-info\" >\n",
    "<h3>Комментарий студента</h3>\n",
    "Я предполагаю что жильё может здесь упоминаться как жилая недвижимость, предназначенная для проживания заёмщика, а недвижимость - коммерческий объект, то есть помещение под сдачу, склад и т.д.\n",
    "</div>"
   ]
  },
  {
   "cell_type": "markdown",
   "metadata": {},
   "source": [
    "<div class=\"alert alert-success\">\n",
    "<h3>✔ Комментарий реьюера V.2</h3>\n",
    "    \n",
    "Может быть, но там также встречаются цели вроде `жилая недвижимость` :) Чтобы такие цели выделять, можно из списка лемматизированных целей поудалять лишине слова, типа предлогов, глаголов, пробелов, местоимений и т.п. -- всего того, что смысла для цели не несёт дополнительного\n",
    "</div>  "
   ]
  },
  {
   "cell_type": "code",
   "execution_count": 228,
   "metadata": {},
   "outputs": [
    {
     "data": {
      "text/plain": [
       "0"
      ]
     },
     "metadata": {},
     "output_type": "display_data"
    }
   ],
   "source": [
    "#в колонке purpose_category проверим количество строк с пропусками\n",
    "display(len(df[df['purpose_category'].isna()])) "
   ]
  },
  {
   "cell_type": "code",
   "execution_count": 229,
   "metadata": {},
   "outputs": [
    {
     "data": {
      "text/html": [
       "<div>\n",
       "<style scoped>\n",
       "    .dataframe tbody tr th:only-of-type {\n",
       "        vertical-align: middle;\n",
       "    }\n",
       "\n",
       "    .dataframe tbody tr th {\n",
       "        vertical-align: top;\n",
       "    }\n",
       "\n",
       "    .dataframe thead th {\n",
       "        text-align: right;\n",
       "    }\n",
       "</style>\n",
       "<table border=\"1\" class=\"dataframe\">\n",
       "  <thead>\n",
       "    <tr style=\"text-align: right;\">\n",
       "      <th></th>\n",
       "      <th>number_of_children</th>\n",
       "      <th>client_age_in_years</th>\n",
       "      <th>education_level</th>\n",
       "      <th>education_level_id</th>\n",
       "      <th>family_status</th>\n",
       "      <th>family_status_id</th>\n",
       "      <th>gender_attribute</th>\n",
       "      <th>income_type</th>\n",
       "      <th>the_presence_of_debt</th>\n",
       "      <th>monthly_earnings</th>\n",
       "      <th>years_employed</th>\n",
       "      <th>purpose_category</th>\n",
       "    </tr>\n",
       "  </thead>\n",
       "  <tbody>\n",
       "    <tr>\n",
       "      <td>0</td>\n",
       "      <td>1</td>\n",
       "      <td>42</td>\n",
       "      <td>высшее</td>\n",
       "      <td>0</td>\n",
       "      <td>женат / замужем</td>\n",
       "      <td>0</td>\n",
       "      <td>Ж</td>\n",
       "      <td>сотрудник</td>\n",
       "      <td>0</td>\n",
       "      <td>253875</td>\n",
       "      <td>23.115068</td>\n",
       "      <td>жилье</td>\n",
       "    </tr>\n",
       "    <tr>\n",
       "      <td>1</td>\n",
       "      <td>1</td>\n",
       "      <td>36</td>\n",
       "      <td>среднее</td>\n",
       "      <td>1</td>\n",
       "      <td>женат / замужем</td>\n",
       "      <td>0</td>\n",
       "      <td>Ж</td>\n",
       "      <td>сотрудник</td>\n",
       "      <td>0</td>\n",
       "      <td>112080</td>\n",
       "      <td>11.024658</td>\n",
       "      <td>автомобиль</td>\n",
       "    </tr>\n",
       "    <tr>\n",
       "      <td>2</td>\n",
       "      <td>0</td>\n",
       "      <td>33</td>\n",
       "      <td>среднее</td>\n",
       "      <td>1</td>\n",
       "      <td>женат / замужем</td>\n",
       "      <td>0</td>\n",
       "      <td>М</td>\n",
       "      <td>сотрудник</td>\n",
       "      <td>0</td>\n",
       "      <td>145885</td>\n",
       "      <td>15.405479</td>\n",
       "      <td>жилье</td>\n",
       "    </tr>\n",
       "    <tr>\n",
       "      <td>3</td>\n",
       "      <td>3</td>\n",
       "      <td>32</td>\n",
       "      <td>среднее</td>\n",
       "      <td>1</td>\n",
       "      <td>женат / замужем</td>\n",
       "      <td>0</td>\n",
       "      <td>М</td>\n",
       "      <td>сотрудник</td>\n",
       "      <td>0</td>\n",
       "      <td>267628</td>\n",
       "      <td>11.298630</td>\n",
       "      <td>образование</td>\n",
       "    </tr>\n",
       "    <tr>\n",
       "      <td>4</td>\n",
       "      <td>0</td>\n",
       "      <td>53</td>\n",
       "      <td>среднее</td>\n",
       "      <td>1</td>\n",
       "      <td>гражданский брак</td>\n",
       "      <td>1</td>\n",
       "      <td>Ж</td>\n",
       "      <td>пенсионер</td>\n",
       "      <td>0</td>\n",
       "      <td>158616</td>\n",
       "      <td>932.235616</td>\n",
       "      <td>свадьба</td>\n",
       "    </tr>\n",
       "    <tr>\n",
       "      <td>5</td>\n",
       "      <td>0</td>\n",
       "      <td>27</td>\n",
       "      <td>высшее</td>\n",
       "      <td>0</td>\n",
       "      <td>гражданский брак</td>\n",
       "      <td>1</td>\n",
       "      <td>М</td>\n",
       "      <td>компаньон</td>\n",
       "      <td>0</td>\n",
       "      <td>255763</td>\n",
       "      <td>2.536986</td>\n",
       "      <td>жилье</td>\n",
       "    </tr>\n",
       "    <tr>\n",
       "      <td>6</td>\n",
       "      <td>0</td>\n",
       "      <td>43</td>\n",
       "      <td>высшее</td>\n",
       "      <td>0</td>\n",
       "      <td>женат / замужем</td>\n",
       "      <td>0</td>\n",
       "      <td>Ж</td>\n",
       "      <td>компаньон</td>\n",
       "      <td>0</td>\n",
       "      <td>240525</td>\n",
       "      <td>7.887671</td>\n",
       "      <td>жилье</td>\n",
       "    </tr>\n",
       "    <tr>\n",
       "      <td>7</td>\n",
       "      <td>0</td>\n",
       "      <td>50</td>\n",
       "      <td>среднее</td>\n",
       "      <td>1</td>\n",
       "      <td>женат / замужем</td>\n",
       "      <td>0</td>\n",
       "      <td>М</td>\n",
       "      <td>сотрудник</td>\n",
       "      <td>0</td>\n",
       "      <td>135823</td>\n",
       "      <td>0.416438</td>\n",
       "      <td>образование</td>\n",
       "    </tr>\n",
       "    <tr>\n",
       "      <td>8</td>\n",
       "      <td>2</td>\n",
       "      <td>35</td>\n",
       "      <td>высшее</td>\n",
       "      <td>0</td>\n",
       "      <td>гражданский брак</td>\n",
       "      <td>1</td>\n",
       "      <td>Ж</td>\n",
       "      <td>сотрудник</td>\n",
       "      <td>0</td>\n",
       "      <td>95856</td>\n",
       "      <td>18.983562</td>\n",
       "      <td>свадьба</td>\n",
       "    </tr>\n",
       "    <tr>\n",
       "      <td>9</td>\n",
       "      <td>0</td>\n",
       "      <td>41</td>\n",
       "      <td>среднее</td>\n",
       "      <td>1</td>\n",
       "      <td>женат / замужем</td>\n",
       "      <td>0</td>\n",
       "      <td>М</td>\n",
       "      <td>сотрудник</td>\n",
       "      <td>0</td>\n",
       "      <td>144425</td>\n",
       "      <td>5.994521</td>\n",
       "      <td>жилье</td>\n",
       "    </tr>\n",
       "  </tbody>\n",
       "</table>\n",
       "</div>"
      ],
      "text/plain": [
       "   number_of_children  client_age_in_years education_level  \\\n",
       "0                   1                   42          высшее   \n",
       "1                   1                   36         среднее   \n",
       "2                   0                   33         среднее   \n",
       "3                   3                   32         среднее   \n",
       "4                   0                   53         среднее   \n",
       "5                   0                   27          высшее   \n",
       "6                   0                   43          высшее   \n",
       "7                   0                   50         среднее   \n",
       "8                   2                   35          высшее   \n",
       "9                   0                   41         среднее   \n",
       "\n",
       "   education_level_id     family_status  family_status_id gender_attribute  \\\n",
       "0                   0   женат / замужем                 0                Ж   \n",
       "1                   1   женат / замужем                 0                Ж   \n",
       "2                   1   женат / замужем                 0                М   \n",
       "3                   1   женат / замужем                 0                М   \n",
       "4                   1  гражданский брак                 1                Ж   \n",
       "5                   0  гражданский брак                 1                М   \n",
       "6                   0   женат / замужем                 0                Ж   \n",
       "7                   1   женат / замужем                 0                М   \n",
       "8                   0  гражданский брак                 1                Ж   \n",
       "9                   1   женат / замужем                 0                М   \n",
       "\n",
       "  income_type  the_presence_of_debt  monthly_earnings  years_employed  \\\n",
       "0   сотрудник                     0            253875       23.115068   \n",
       "1   сотрудник                     0            112080       11.024658   \n",
       "2   сотрудник                     0            145885       15.405479   \n",
       "3   сотрудник                     0            267628       11.298630   \n",
       "4   пенсионер                     0            158616      932.235616   \n",
       "5   компаньон                     0            255763        2.536986   \n",
       "6   компаньон                     0            240525        7.887671   \n",
       "7   сотрудник                     0            135823        0.416438   \n",
       "8   сотрудник                     0             95856       18.983562   \n",
       "9   сотрудник                     0            144425        5.994521   \n",
       "\n",
       "  purpose_category  \n",
       "0            жилье  \n",
       "1       автомобиль  \n",
       "2            жилье  \n",
       "3      образование  \n",
       "4          свадьба  \n",
       "5            жилье  \n",
       "6            жилье  \n",
       "7      образование  \n",
       "8          свадьба  \n",
       "9            жилье  "
      ]
     },
     "execution_count": 229,
     "metadata": {},
     "output_type": "execute_result"
    }
   ],
   "source": [
    "#удалим колонку credit_purpose, так как мы создали новую с самыми популярными категориями\n",
    "del df['credit_purpose']\n",
    "#проверим результат\n",
    "df.head(10)"
   ]
  },
  {
   "cell_type": "markdown",
   "metadata": {},
   "source": [
    "**Вывод** Заполнили пропуски, удалили дубли, выделили леммы. Добавили новую колонку с категориями целей кредитования. "
   ]
  },
  {
   "cell_type": "markdown",
   "metadata": {},
   "source": [
    "### Категоризация данных"
   ]
  },
  {
   "cell_type": "code",
   "execution_count": 230,
   "metadata": {},
   "outputs": [],
   "source": [
    "#Объединим данные в категории для колонки client_age_in_years\n",
    "#напишем функцию, которая на вход берёт данные возраста клиента а возвращает категорию\n",
    "def client_age_group(client_age_in_years):\n",
    "    \"\"\"\n",
    "    Возвращает возврастную группу по значению возраста client_age_in_years, используя правила:\n",
    "    - 'дети', если client_age_in_years <= 18 лет;\n",
    "    - 'взрослые', если client_age_in_years более 18 и менее 64, включая 18 и 64;\n",
    "    - 'пенсионеры' — во всех остальных случаях.\n",
    "    \"\"\"\n",
    "    \n",
    "    if client_age_in_years <= 18:\n",
    "        return 'дети'\n",
    "    if client_age_in_years <= 64:\n",
    "        return 'взрослые'\n",
    "    return 'пенсионеры'\n"
   ]
  },
  {
   "cell_type": "code",
   "execution_count": 231,
   "metadata": {},
   "outputs": [
    {
     "data": {
      "text/plain": [
       "'взрослые'"
      ]
     },
     "metadata": {},
     "output_type": "display_data"
    }
   ],
   "source": [
    "#проверим работу нашей функции для клиентов в возрасте 50 лет\n",
    "display(client_age_group(50))"
   ]
  },
  {
   "cell_type": "code",
   "execution_count": 232,
   "metadata": {},
   "outputs": [
    {
     "data": {
      "text/plain": [
       "'дети'"
      ]
     },
     "metadata": {},
     "output_type": "display_data"
    }
   ],
   "source": [
    "#клиенты в возрасте 17 лет\n",
    "display(client_age_group(17))"
   ]
  },
  {
   "cell_type": "code",
   "execution_count": 233,
   "metadata": {},
   "outputs": [
    {
     "data": {
      "text/plain": [
       "'пенсионеры'"
      ]
     },
     "metadata": {},
     "output_type": "display_data"
    }
   ],
   "source": [
    "#клиенты в возрасте 69 лет \n",
    "display(client_age_group(69))"
   ]
  },
  {
   "cell_type": "markdown",
   "metadata": {},
   "source": [
    "<div class=\"alert alert-success\">\n",
    "<h3>✔ Комментарий ревьюера</h3>\n",
    "\n",
    "Здорово, что проверил работоспособность функции\n",
    "</div>"
   ]
  },
  {
   "cell_type": "code",
   "execution_count": 234,
   "metadata": {},
   "outputs": [
    {
     "data": {
      "text/html": [
       "<div>\n",
       "<style scoped>\n",
       "    .dataframe tbody tr th:only-of-type {\n",
       "        vertical-align: middle;\n",
       "    }\n",
       "\n",
       "    .dataframe tbody tr th {\n",
       "        vertical-align: top;\n",
       "    }\n",
       "\n",
       "    .dataframe thead th {\n",
       "        text-align: right;\n",
       "    }\n",
       "</style>\n",
       "<table border=\"1\" class=\"dataframe\">\n",
       "  <thead>\n",
       "    <tr style=\"text-align: right;\">\n",
       "      <th></th>\n",
       "      <th>number_of_children</th>\n",
       "      <th>client_age_in_years</th>\n",
       "      <th>education_level</th>\n",
       "      <th>education_level_id</th>\n",
       "      <th>family_status</th>\n",
       "      <th>family_status_id</th>\n",
       "      <th>gender_attribute</th>\n",
       "      <th>income_type</th>\n",
       "      <th>the_presence_of_debt</th>\n",
       "      <th>monthly_earnings</th>\n",
       "      <th>years_employed</th>\n",
       "      <th>purpose_category</th>\n",
       "      <th>client_age_group</th>\n",
       "    </tr>\n",
       "  </thead>\n",
       "  <tbody>\n",
       "    <tr>\n",
       "      <td>0</td>\n",
       "      <td>1</td>\n",
       "      <td>42</td>\n",
       "      <td>высшее</td>\n",
       "      <td>0</td>\n",
       "      <td>женат / замужем</td>\n",
       "      <td>0</td>\n",
       "      <td>Ж</td>\n",
       "      <td>сотрудник</td>\n",
       "      <td>0</td>\n",
       "      <td>253875</td>\n",
       "      <td>23.115068</td>\n",
       "      <td>жилье</td>\n",
       "      <td>взрослые</td>\n",
       "    </tr>\n",
       "    <tr>\n",
       "      <td>1</td>\n",
       "      <td>1</td>\n",
       "      <td>36</td>\n",
       "      <td>среднее</td>\n",
       "      <td>1</td>\n",
       "      <td>женат / замужем</td>\n",
       "      <td>0</td>\n",
       "      <td>Ж</td>\n",
       "      <td>сотрудник</td>\n",
       "      <td>0</td>\n",
       "      <td>112080</td>\n",
       "      <td>11.024658</td>\n",
       "      <td>автомобиль</td>\n",
       "      <td>взрослые</td>\n",
       "    </tr>\n",
       "    <tr>\n",
       "      <td>2</td>\n",
       "      <td>0</td>\n",
       "      <td>33</td>\n",
       "      <td>среднее</td>\n",
       "      <td>1</td>\n",
       "      <td>женат / замужем</td>\n",
       "      <td>0</td>\n",
       "      <td>М</td>\n",
       "      <td>сотрудник</td>\n",
       "      <td>0</td>\n",
       "      <td>145885</td>\n",
       "      <td>15.405479</td>\n",
       "      <td>жилье</td>\n",
       "      <td>взрослые</td>\n",
       "    </tr>\n",
       "    <tr>\n",
       "      <td>3</td>\n",
       "      <td>3</td>\n",
       "      <td>32</td>\n",
       "      <td>среднее</td>\n",
       "      <td>1</td>\n",
       "      <td>женат / замужем</td>\n",
       "      <td>0</td>\n",
       "      <td>М</td>\n",
       "      <td>сотрудник</td>\n",
       "      <td>0</td>\n",
       "      <td>267628</td>\n",
       "      <td>11.298630</td>\n",
       "      <td>образование</td>\n",
       "      <td>взрослые</td>\n",
       "    </tr>\n",
       "    <tr>\n",
       "      <td>4</td>\n",
       "      <td>0</td>\n",
       "      <td>53</td>\n",
       "      <td>среднее</td>\n",
       "      <td>1</td>\n",
       "      <td>гражданский брак</td>\n",
       "      <td>1</td>\n",
       "      <td>Ж</td>\n",
       "      <td>пенсионер</td>\n",
       "      <td>0</td>\n",
       "      <td>158616</td>\n",
       "      <td>932.235616</td>\n",
       "      <td>свадьба</td>\n",
       "      <td>взрослые</td>\n",
       "    </tr>\n",
       "    <tr>\n",
       "      <td>5</td>\n",
       "      <td>0</td>\n",
       "      <td>27</td>\n",
       "      <td>высшее</td>\n",
       "      <td>0</td>\n",
       "      <td>гражданский брак</td>\n",
       "      <td>1</td>\n",
       "      <td>М</td>\n",
       "      <td>компаньон</td>\n",
       "      <td>0</td>\n",
       "      <td>255763</td>\n",
       "      <td>2.536986</td>\n",
       "      <td>жилье</td>\n",
       "      <td>взрослые</td>\n",
       "    </tr>\n",
       "    <tr>\n",
       "      <td>6</td>\n",
       "      <td>0</td>\n",
       "      <td>43</td>\n",
       "      <td>высшее</td>\n",
       "      <td>0</td>\n",
       "      <td>женат / замужем</td>\n",
       "      <td>0</td>\n",
       "      <td>Ж</td>\n",
       "      <td>компаньон</td>\n",
       "      <td>0</td>\n",
       "      <td>240525</td>\n",
       "      <td>7.887671</td>\n",
       "      <td>жилье</td>\n",
       "      <td>взрослые</td>\n",
       "    </tr>\n",
       "    <tr>\n",
       "      <td>7</td>\n",
       "      <td>0</td>\n",
       "      <td>50</td>\n",
       "      <td>среднее</td>\n",
       "      <td>1</td>\n",
       "      <td>женат / замужем</td>\n",
       "      <td>0</td>\n",
       "      <td>М</td>\n",
       "      <td>сотрудник</td>\n",
       "      <td>0</td>\n",
       "      <td>135823</td>\n",
       "      <td>0.416438</td>\n",
       "      <td>образование</td>\n",
       "      <td>взрослые</td>\n",
       "    </tr>\n",
       "    <tr>\n",
       "      <td>8</td>\n",
       "      <td>2</td>\n",
       "      <td>35</td>\n",
       "      <td>высшее</td>\n",
       "      <td>0</td>\n",
       "      <td>гражданский брак</td>\n",
       "      <td>1</td>\n",
       "      <td>Ж</td>\n",
       "      <td>сотрудник</td>\n",
       "      <td>0</td>\n",
       "      <td>95856</td>\n",
       "      <td>18.983562</td>\n",
       "      <td>свадьба</td>\n",
       "      <td>взрослые</td>\n",
       "    </tr>\n",
       "    <tr>\n",
       "      <td>9</td>\n",
       "      <td>0</td>\n",
       "      <td>41</td>\n",
       "      <td>среднее</td>\n",
       "      <td>1</td>\n",
       "      <td>женат / замужем</td>\n",
       "      <td>0</td>\n",
       "      <td>М</td>\n",
       "      <td>сотрудник</td>\n",
       "      <td>0</td>\n",
       "      <td>144425</td>\n",
       "      <td>5.994521</td>\n",
       "      <td>жилье</td>\n",
       "      <td>взрослые</td>\n",
       "    </tr>\n",
       "  </tbody>\n",
       "</table>\n",
       "</div>"
      ],
      "text/plain": [
       "   number_of_children  client_age_in_years education_level  \\\n",
       "0                   1                   42          высшее   \n",
       "1                   1                   36         среднее   \n",
       "2                   0                   33         среднее   \n",
       "3                   3                   32         среднее   \n",
       "4                   0                   53         среднее   \n",
       "5                   0                   27          высшее   \n",
       "6                   0                   43          высшее   \n",
       "7                   0                   50         среднее   \n",
       "8                   2                   35          высшее   \n",
       "9                   0                   41         среднее   \n",
       "\n",
       "   education_level_id     family_status  family_status_id gender_attribute  \\\n",
       "0                   0   женат / замужем                 0                Ж   \n",
       "1                   1   женат / замужем                 0                Ж   \n",
       "2                   1   женат / замужем                 0                М   \n",
       "3                   1   женат / замужем                 0                М   \n",
       "4                   1  гражданский брак                 1                Ж   \n",
       "5                   0  гражданский брак                 1                М   \n",
       "6                   0   женат / замужем                 0                Ж   \n",
       "7                   1   женат / замужем                 0                М   \n",
       "8                   0  гражданский брак                 1                Ж   \n",
       "9                   1   женат / замужем                 0                М   \n",
       "\n",
       "  income_type  the_presence_of_debt  monthly_earnings  years_employed  \\\n",
       "0   сотрудник                     0            253875       23.115068   \n",
       "1   сотрудник                     0            112080       11.024658   \n",
       "2   сотрудник                     0            145885       15.405479   \n",
       "3   сотрудник                     0            267628       11.298630   \n",
       "4   пенсионер                     0            158616      932.235616   \n",
       "5   компаньон                     0            255763        2.536986   \n",
       "6   компаньон                     0            240525        7.887671   \n",
       "7   сотрудник                     0            135823        0.416438   \n",
       "8   сотрудник                     0             95856       18.983562   \n",
       "9   сотрудник                     0            144425        5.994521   \n",
       "\n",
       "  purpose_category client_age_group  \n",
       "0            жилье         взрослые  \n",
       "1       автомобиль         взрослые  \n",
       "2            жилье         взрослые  \n",
       "3      образование         взрослые  \n",
       "4          свадьба         взрослые  \n",
       "5            жилье         взрослые  \n",
       "6            жилье         взрослые  \n",
       "7      образование         взрослые  \n",
       "8          свадьба         взрослые  \n",
       "9            жилье         взрослые  "
      ]
     },
     "metadata": {},
     "output_type": "display_data"
    }
   ],
   "source": [
    "#функция работает корректно, теперь создадим отдельную колонку с возрастной категорией client_age_group с помощью метода .apply()\n",
    "df['client_age_group'] = df['client_age_in_years'].apply(client_age_group)\n",
    "display(df.head(10)) "
   ]
  },
  {
   "cell_type": "code",
   "execution_count": 235,
   "metadata": {},
   "outputs": [
    {
     "data": {
      "text/html": [
       "<div>\n",
       "<style scoped>\n",
       "    .dataframe tbody tr th:only-of-type {\n",
       "        vertical-align: middle;\n",
       "    }\n",
       "\n",
       "    .dataframe tbody tr th {\n",
       "        vertical-align: top;\n",
       "    }\n",
       "\n",
       "    .dataframe thead th {\n",
       "        text-align: right;\n",
       "    }\n",
       "</style>\n",
       "<table border=\"1\" class=\"dataframe\">\n",
       "  <thead>\n",
       "    <tr style=\"text-align: right;\">\n",
       "      <th></th>\n",
       "      <th>number_of_children</th>\n",
       "      <th>client_age_in_years</th>\n",
       "      <th>education_level</th>\n",
       "      <th>education_level_id</th>\n",
       "      <th>family_status</th>\n",
       "      <th>family_status_id</th>\n",
       "      <th>gender_attribute</th>\n",
       "      <th>income_type</th>\n",
       "      <th>the_presence_of_debt</th>\n",
       "      <th>monthly_earnings</th>\n",
       "      <th>years_employed</th>\n",
       "      <th>purpose_category</th>\n",
       "      <th>client_age_group</th>\n",
       "    </tr>\n",
       "  </thead>\n",
       "  <tbody>\n",
       "    <tr>\n",
       "      <td>21444</td>\n",
       "      <td>1</td>\n",
       "      <td>28</td>\n",
       "      <td>среднее</td>\n",
       "      <td>1</td>\n",
       "      <td>женат / замужем</td>\n",
       "      <td>0</td>\n",
       "      <td>Ж</td>\n",
       "      <td>сотрудник</td>\n",
       "      <td>1</td>\n",
       "      <td>109486</td>\n",
       "      <td>1.279452</td>\n",
       "      <td>образование</td>\n",
       "      <td>взрослые</td>\n",
       "    </tr>\n",
       "    <tr>\n",
       "      <td>21445</td>\n",
       "      <td>0</td>\n",
       "      <td>42</td>\n",
       "      <td>высшее</td>\n",
       "      <td>0</td>\n",
       "      <td>женат / замужем</td>\n",
       "      <td>0</td>\n",
       "      <td>Ж</td>\n",
       "      <td>компаньон</td>\n",
       "      <td>0</td>\n",
       "      <td>322807</td>\n",
       "      <td>2.504110</td>\n",
       "      <td>жилье</td>\n",
       "      <td>взрослые</td>\n",
       "    </tr>\n",
       "    <tr>\n",
       "      <td>21446</td>\n",
       "      <td>0</td>\n",
       "      <td>42</td>\n",
       "      <td>высшее</td>\n",
       "      <td>0</td>\n",
       "      <td>гражданский брак</td>\n",
       "      <td>1</td>\n",
       "      <td>Ж</td>\n",
       "      <td>компаньон</td>\n",
       "      <td>0</td>\n",
       "      <td>178059</td>\n",
       "      <td>1.106849</td>\n",
       "      <td>автомобиль</td>\n",
       "      <td>взрослые</td>\n",
       "    </tr>\n",
       "    <tr>\n",
       "      <td>21447</td>\n",
       "      <td>0</td>\n",
       "      <td>59</td>\n",
       "      <td>среднее</td>\n",
       "      <td>1</td>\n",
       "      <td>женат / замужем</td>\n",
       "      <td>0</td>\n",
       "      <td>Ж</td>\n",
       "      <td>пенсионер</td>\n",
       "      <td>0</td>\n",
       "      <td>153864</td>\n",
       "      <td>1024.643836</td>\n",
       "      <td>автомобиль</td>\n",
       "      <td>взрослые</td>\n",
       "    </tr>\n",
       "    <tr>\n",
       "      <td>21448</td>\n",
       "      <td>1</td>\n",
       "      <td>37</td>\n",
       "      <td>ученая степень</td>\n",
       "      <td>4</td>\n",
       "      <td>в разводе</td>\n",
       "      <td>3</td>\n",
       "      <td>М</td>\n",
       "      <td>сотрудник</td>\n",
       "      <td>0</td>\n",
       "      <td>115949</td>\n",
       "      <td>6.441096</td>\n",
       "      <td>недвижимость</td>\n",
       "      <td>взрослые</td>\n",
       "    </tr>\n",
       "    <tr>\n",
       "      <td>21449</td>\n",
       "      <td>1</td>\n",
       "      <td>43</td>\n",
       "      <td>среднее</td>\n",
       "      <td>1</td>\n",
       "      <td>гражданский брак</td>\n",
       "      <td>1</td>\n",
       "      <td>Ж</td>\n",
       "      <td>компаньон</td>\n",
       "      <td>0</td>\n",
       "      <td>224791</td>\n",
       "      <td>12.408219</td>\n",
       "      <td>жилье</td>\n",
       "      <td>взрослые</td>\n",
       "    </tr>\n",
       "    <tr>\n",
       "      <td>21450</td>\n",
       "      <td>0</td>\n",
       "      <td>67</td>\n",
       "      <td>среднее</td>\n",
       "      <td>1</td>\n",
       "      <td>женат / замужем</td>\n",
       "      <td>0</td>\n",
       "      <td>Ж</td>\n",
       "      <td>пенсионер</td>\n",
       "      <td>0</td>\n",
       "      <td>155999</td>\n",
       "      <td>942.293151</td>\n",
       "      <td>автомобиль</td>\n",
       "      <td>пенсионеры</td>\n",
       "    </tr>\n",
       "    <tr>\n",
       "      <td>21451</td>\n",
       "      <td>1</td>\n",
       "      <td>38</td>\n",
       "      <td>среднее</td>\n",
       "      <td>1</td>\n",
       "      <td>гражданский брак</td>\n",
       "      <td>1</td>\n",
       "      <td>М</td>\n",
       "      <td>сотрудник</td>\n",
       "      <td>1</td>\n",
       "      <td>89672</td>\n",
       "      <td>5.789041</td>\n",
       "      <td>недвижимость</td>\n",
       "      <td>взрослые</td>\n",
       "    </tr>\n",
       "    <tr>\n",
       "      <td>21452</td>\n",
       "      <td>3</td>\n",
       "      <td>38</td>\n",
       "      <td>среднее</td>\n",
       "      <td>1</td>\n",
       "      <td>женат / замужем</td>\n",
       "      <td>0</td>\n",
       "      <td>М</td>\n",
       "      <td>сотрудник</td>\n",
       "      <td>1</td>\n",
       "      <td>244093</td>\n",
       "      <td>8.526027</td>\n",
       "      <td>автомобиль</td>\n",
       "      <td>взрослые</td>\n",
       "    </tr>\n",
       "    <tr>\n",
       "      <td>21453</td>\n",
       "      <td>2</td>\n",
       "      <td>40</td>\n",
       "      <td>среднее</td>\n",
       "      <td>1</td>\n",
       "      <td>женат / замужем</td>\n",
       "      <td>0</td>\n",
       "      <td>Ж</td>\n",
       "      <td>сотрудник</td>\n",
       "      <td>0</td>\n",
       "      <td>82047</td>\n",
       "      <td>5.435616</td>\n",
       "      <td>автомобиль</td>\n",
       "      <td>взрослые</td>\n",
       "    </tr>\n",
       "  </tbody>\n",
       "</table>\n",
       "</div>"
      ],
      "text/plain": [
       "       number_of_children  client_age_in_years education_level  \\\n",
       "21444                   1                   28         среднее   \n",
       "21445                   0                   42          высшее   \n",
       "21446                   0                   42          высшее   \n",
       "21447                   0                   59         среднее   \n",
       "21448                   1                   37  ученая степень   \n",
       "21449                   1                   43         среднее   \n",
       "21450                   0                   67         среднее   \n",
       "21451                   1                   38         среднее   \n",
       "21452                   3                   38         среднее   \n",
       "21453                   2                   40         среднее   \n",
       "\n",
       "       education_level_id     family_status  family_status_id  \\\n",
       "21444                   1   женат / замужем                 0   \n",
       "21445                   0   женат / замужем                 0   \n",
       "21446                   0  гражданский брак                 1   \n",
       "21447                   1   женат / замужем                 0   \n",
       "21448                   4         в разводе                 3   \n",
       "21449                   1  гражданский брак                 1   \n",
       "21450                   1   женат / замужем                 0   \n",
       "21451                   1  гражданский брак                 1   \n",
       "21452                   1   женат / замужем                 0   \n",
       "21453                   1   женат / замужем                 0   \n",
       "\n",
       "      gender_attribute income_type  the_presence_of_debt  monthly_earnings  \\\n",
       "21444                Ж   сотрудник                     1            109486   \n",
       "21445                Ж   компаньон                     0            322807   \n",
       "21446                Ж   компаньон                     0            178059   \n",
       "21447                Ж   пенсионер                     0            153864   \n",
       "21448                М   сотрудник                     0            115949   \n",
       "21449                Ж   компаньон                     0            224791   \n",
       "21450                Ж   пенсионер                     0            155999   \n",
       "21451                М   сотрудник                     1             89672   \n",
       "21452                М   сотрудник                     1            244093   \n",
       "21453                Ж   сотрудник                     0             82047   \n",
       "\n",
       "       years_employed purpose_category client_age_group  \n",
       "21444        1.279452      образование         взрослые  \n",
       "21445        2.504110            жилье         взрослые  \n",
       "21446        1.106849       автомобиль         взрослые  \n",
       "21447     1024.643836       автомобиль         взрослые  \n",
       "21448        6.441096     недвижимость         взрослые  \n",
       "21449       12.408219            жилье         взрослые  \n",
       "21450      942.293151       автомобиль       пенсионеры  \n",
       "21451        5.789041     недвижимость         взрослые  \n",
       "21452        8.526027       автомобиль         взрослые  \n",
       "21453        5.435616       автомобиль         взрослые  "
      ]
     },
     "metadata": {},
     "output_type": "display_data"
    }
   ],
   "source": [
    "#посмотрим последние 10 строк\n",
    "display(df.tail(10)) "
   ]
  },
  {
   "cell_type": "code",
   "execution_count": 236,
   "metadata": {},
   "outputs": [
    {
     "data": {
      "text/plain": [
       "взрослые      20458\n",
       "пенсионеры      895\n",
       "дети            101\n",
       "Name: client_age_group, dtype: int64"
      ]
     },
     "metadata": {},
     "output_type": "display_data"
    }
   ],
   "source": [
    "#выведем статистику по возрастной группе методом .value_counts()\n",
    "display(df['client_age_group'].value_counts()) "
   ]
  },
  {
   "cell_type": "code",
   "execution_count": 237,
   "metadata": {},
   "outputs": [
    {
     "data": {
      "text/plain": [
       "0.25     89088.50\n",
       "0.50    135781.00\n",
       "0.75    195813.25\n",
       "Name: monthly_earnings, dtype: float64"
      ]
     },
     "execution_count": 237,
     "metadata": {},
     "output_type": "execute_result"
    }
   ],
   "source": [
    "#найдём минимальный, средний и максимальный уровень дохода\n",
    "df['monthly_earnings'].quantile([0.25,0.5,0.75])\n"
   ]
  },
  {
   "cell_type": "code",
   "execution_count": 238,
   "metadata": {},
   "outputs": [],
   "source": [
    "#распределим уровень дохода на 4 группы, присвоим статусы каждой группе\n",
    "def income_status(monthly_earnings):\n",
    "    if monthly_earnings <= 89088.50:\n",
    "            return 'Низкий уровень дохода'\n",
    "    if monthly_earnings <= 135781.00:\n",
    "            return 'Средний уровень дохода'\n",
    "    if monthly_earnings < 195813.25:\n",
    "            return 'Высокий уровень дохода'\n",
    "    return 'Сверхвысокий уровень дохода'"
   ]
  },
  {
   "cell_type": "markdown",
   "metadata": {},
   "source": [
    "<div class=\"alert alert-success\">\n",
    "<h3>✔ Комментарий ревьюера</h3>\n",
    "\n",
    "\n",
    "Отличная идея с разбиением по квантилям, для этого есть встроенный в `pandas` метод: https://pandas.pydata.org/docs/reference/api/pandas.qcut.html. Числа лучше не хардкодить, потому что если данные изменяться, то придётся переписывать код, лучше переписать через `qcut` или обращаться к результатам `quantile`\n",
    "</div>"
   ]
  },
  {
   "cell_type": "markdown",
   "metadata": {},
   "source": [
    "<div class = \"alert alert-info\" >\n",
    "<h3>Комментарий студента</h3>\n",
    "Спасибо, я только начал изучать этот метод, в модуле предобработки данных мы его не проходили.\n",
    "</div>"
   ]
  },
  {
   "cell_type": "code",
   "execution_count": 239,
   "metadata": {},
   "outputs": [
    {
     "data": {
      "text/plain": [
       "'Низкий уровень дохода'"
      ]
     },
     "metadata": {},
     "output_type": "display_data"
    }
   ],
   "source": [
    "#проверим нашу функцию для клиентов с доходом в 50 000 рублей\n",
    "display(income_status(50000))"
   ]
  },
  {
   "cell_type": "code",
   "execution_count": 240,
   "metadata": {},
   "outputs": [
    {
     "data": {
      "text/plain": [
       "'Средний уровень дохода'"
      ]
     },
     "metadata": {},
     "output_type": "display_data"
    }
   ],
   "source": [
    "#теперь для клиента с доходом в 100 000 рублей\n",
    "display(income_status(100000))"
   ]
  },
  {
   "cell_type": "code",
   "execution_count": 241,
   "metadata": {},
   "outputs": [
    {
     "data": {
      "text/plain": [
       "'Сверхвысокий уровень дохода'"
      ]
     },
     "metadata": {},
     "output_type": "display_data"
    }
   ],
   "source": [
    "#и для клиентов с доходом в 250 000 рублей\n",
    "display(income_status(250000))"
   ]
  },
  {
   "cell_type": "code",
   "execution_count": 242,
   "metadata": {},
   "outputs": [
    {
     "data": {
      "text/html": [
       "<div>\n",
       "<style scoped>\n",
       "    .dataframe tbody tr th:only-of-type {\n",
       "        vertical-align: middle;\n",
       "    }\n",
       "\n",
       "    .dataframe tbody tr th {\n",
       "        vertical-align: top;\n",
       "    }\n",
       "\n",
       "    .dataframe thead th {\n",
       "        text-align: right;\n",
       "    }\n",
       "</style>\n",
       "<table border=\"1\" class=\"dataframe\">\n",
       "  <thead>\n",
       "    <tr style=\"text-align: right;\">\n",
       "      <th></th>\n",
       "      <th>number_of_children</th>\n",
       "      <th>client_age_in_years</th>\n",
       "      <th>education_level</th>\n",
       "      <th>education_level_id</th>\n",
       "      <th>family_status</th>\n",
       "      <th>family_status_id</th>\n",
       "      <th>gender_attribute</th>\n",
       "      <th>income_type</th>\n",
       "      <th>the_presence_of_debt</th>\n",
       "      <th>monthly_earnings</th>\n",
       "      <th>years_employed</th>\n",
       "      <th>purpose_category</th>\n",
       "      <th>client_age_group</th>\n",
       "      <th>income_status</th>\n",
       "    </tr>\n",
       "  </thead>\n",
       "  <tbody>\n",
       "    <tr>\n",
       "      <td>0</td>\n",
       "      <td>1</td>\n",
       "      <td>42</td>\n",
       "      <td>высшее</td>\n",
       "      <td>0</td>\n",
       "      <td>женат / замужем</td>\n",
       "      <td>0</td>\n",
       "      <td>Ж</td>\n",
       "      <td>сотрудник</td>\n",
       "      <td>0</td>\n",
       "      <td>253875</td>\n",
       "      <td>23.115068</td>\n",
       "      <td>жилье</td>\n",
       "      <td>взрослые</td>\n",
       "      <td>Сверхвысокий уровень дохода</td>\n",
       "    </tr>\n",
       "    <tr>\n",
       "      <td>1</td>\n",
       "      <td>1</td>\n",
       "      <td>36</td>\n",
       "      <td>среднее</td>\n",
       "      <td>1</td>\n",
       "      <td>женат / замужем</td>\n",
       "      <td>0</td>\n",
       "      <td>Ж</td>\n",
       "      <td>сотрудник</td>\n",
       "      <td>0</td>\n",
       "      <td>112080</td>\n",
       "      <td>11.024658</td>\n",
       "      <td>автомобиль</td>\n",
       "      <td>взрослые</td>\n",
       "      <td>Средний уровень дохода</td>\n",
       "    </tr>\n",
       "    <tr>\n",
       "      <td>2</td>\n",
       "      <td>0</td>\n",
       "      <td>33</td>\n",
       "      <td>среднее</td>\n",
       "      <td>1</td>\n",
       "      <td>женат / замужем</td>\n",
       "      <td>0</td>\n",
       "      <td>М</td>\n",
       "      <td>сотрудник</td>\n",
       "      <td>0</td>\n",
       "      <td>145885</td>\n",
       "      <td>15.405479</td>\n",
       "      <td>жилье</td>\n",
       "      <td>взрослые</td>\n",
       "      <td>Высокий уровень дохода</td>\n",
       "    </tr>\n",
       "    <tr>\n",
       "      <td>3</td>\n",
       "      <td>3</td>\n",
       "      <td>32</td>\n",
       "      <td>среднее</td>\n",
       "      <td>1</td>\n",
       "      <td>женат / замужем</td>\n",
       "      <td>0</td>\n",
       "      <td>М</td>\n",
       "      <td>сотрудник</td>\n",
       "      <td>0</td>\n",
       "      <td>267628</td>\n",
       "      <td>11.298630</td>\n",
       "      <td>образование</td>\n",
       "      <td>взрослые</td>\n",
       "      <td>Сверхвысокий уровень дохода</td>\n",
       "    </tr>\n",
       "    <tr>\n",
       "      <td>4</td>\n",
       "      <td>0</td>\n",
       "      <td>53</td>\n",
       "      <td>среднее</td>\n",
       "      <td>1</td>\n",
       "      <td>гражданский брак</td>\n",
       "      <td>1</td>\n",
       "      <td>Ж</td>\n",
       "      <td>пенсионер</td>\n",
       "      <td>0</td>\n",
       "      <td>158616</td>\n",
       "      <td>932.235616</td>\n",
       "      <td>свадьба</td>\n",
       "      <td>взрослые</td>\n",
       "      <td>Высокий уровень дохода</td>\n",
       "    </tr>\n",
       "    <tr>\n",
       "      <td>5</td>\n",
       "      <td>0</td>\n",
       "      <td>27</td>\n",
       "      <td>высшее</td>\n",
       "      <td>0</td>\n",
       "      <td>гражданский брак</td>\n",
       "      <td>1</td>\n",
       "      <td>М</td>\n",
       "      <td>компаньон</td>\n",
       "      <td>0</td>\n",
       "      <td>255763</td>\n",
       "      <td>2.536986</td>\n",
       "      <td>жилье</td>\n",
       "      <td>взрослые</td>\n",
       "      <td>Сверхвысокий уровень дохода</td>\n",
       "    </tr>\n",
       "    <tr>\n",
       "      <td>6</td>\n",
       "      <td>0</td>\n",
       "      <td>43</td>\n",
       "      <td>высшее</td>\n",
       "      <td>0</td>\n",
       "      <td>женат / замужем</td>\n",
       "      <td>0</td>\n",
       "      <td>Ж</td>\n",
       "      <td>компаньон</td>\n",
       "      <td>0</td>\n",
       "      <td>240525</td>\n",
       "      <td>7.887671</td>\n",
       "      <td>жилье</td>\n",
       "      <td>взрослые</td>\n",
       "      <td>Сверхвысокий уровень дохода</td>\n",
       "    </tr>\n",
       "    <tr>\n",
       "      <td>7</td>\n",
       "      <td>0</td>\n",
       "      <td>50</td>\n",
       "      <td>среднее</td>\n",
       "      <td>1</td>\n",
       "      <td>женат / замужем</td>\n",
       "      <td>0</td>\n",
       "      <td>М</td>\n",
       "      <td>сотрудник</td>\n",
       "      <td>0</td>\n",
       "      <td>135823</td>\n",
       "      <td>0.416438</td>\n",
       "      <td>образование</td>\n",
       "      <td>взрослые</td>\n",
       "      <td>Высокий уровень дохода</td>\n",
       "    </tr>\n",
       "    <tr>\n",
       "      <td>8</td>\n",
       "      <td>2</td>\n",
       "      <td>35</td>\n",
       "      <td>высшее</td>\n",
       "      <td>0</td>\n",
       "      <td>гражданский брак</td>\n",
       "      <td>1</td>\n",
       "      <td>Ж</td>\n",
       "      <td>сотрудник</td>\n",
       "      <td>0</td>\n",
       "      <td>95856</td>\n",
       "      <td>18.983562</td>\n",
       "      <td>свадьба</td>\n",
       "      <td>взрослые</td>\n",
       "      <td>Средний уровень дохода</td>\n",
       "    </tr>\n",
       "    <tr>\n",
       "      <td>9</td>\n",
       "      <td>0</td>\n",
       "      <td>41</td>\n",
       "      <td>среднее</td>\n",
       "      <td>1</td>\n",
       "      <td>женат / замужем</td>\n",
       "      <td>0</td>\n",
       "      <td>М</td>\n",
       "      <td>сотрудник</td>\n",
       "      <td>0</td>\n",
       "      <td>144425</td>\n",
       "      <td>5.994521</td>\n",
       "      <td>жилье</td>\n",
       "      <td>взрослые</td>\n",
       "      <td>Высокий уровень дохода</td>\n",
       "    </tr>\n",
       "  </tbody>\n",
       "</table>\n",
       "</div>"
      ],
      "text/plain": [
       "   number_of_children  client_age_in_years education_level  \\\n",
       "0                   1                   42          высшее   \n",
       "1                   1                   36         среднее   \n",
       "2                   0                   33         среднее   \n",
       "3                   3                   32         среднее   \n",
       "4                   0                   53         среднее   \n",
       "5                   0                   27          высшее   \n",
       "6                   0                   43          высшее   \n",
       "7                   0                   50         среднее   \n",
       "8                   2                   35          высшее   \n",
       "9                   0                   41         среднее   \n",
       "\n",
       "   education_level_id     family_status  family_status_id gender_attribute  \\\n",
       "0                   0   женат / замужем                 0                Ж   \n",
       "1                   1   женат / замужем                 0                Ж   \n",
       "2                   1   женат / замужем                 0                М   \n",
       "3                   1   женат / замужем                 0                М   \n",
       "4                   1  гражданский брак                 1                Ж   \n",
       "5                   0  гражданский брак                 1                М   \n",
       "6                   0   женат / замужем                 0                Ж   \n",
       "7                   1   женат / замужем                 0                М   \n",
       "8                   0  гражданский брак                 1                Ж   \n",
       "9                   1   женат / замужем                 0                М   \n",
       "\n",
       "  income_type  the_presence_of_debt  monthly_earnings  years_employed  \\\n",
       "0   сотрудник                     0            253875       23.115068   \n",
       "1   сотрудник                     0            112080       11.024658   \n",
       "2   сотрудник                     0            145885       15.405479   \n",
       "3   сотрудник                     0            267628       11.298630   \n",
       "4   пенсионер                     0            158616      932.235616   \n",
       "5   компаньон                     0            255763        2.536986   \n",
       "6   компаньон                     0            240525        7.887671   \n",
       "7   сотрудник                     0            135823        0.416438   \n",
       "8   сотрудник                     0             95856       18.983562   \n",
       "9   сотрудник                     0            144425        5.994521   \n",
       "\n",
       "  purpose_category client_age_group                income_status  \n",
       "0            жилье         взрослые  Сверхвысокий уровень дохода  \n",
       "1       автомобиль         взрослые       Средний уровень дохода  \n",
       "2            жилье         взрослые       Высокий уровень дохода  \n",
       "3      образование         взрослые  Сверхвысокий уровень дохода  \n",
       "4          свадьба         взрослые       Высокий уровень дохода  \n",
       "5            жилье         взрослые  Сверхвысокий уровень дохода  \n",
       "6            жилье         взрослые  Сверхвысокий уровень дохода  \n",
       "7      образование         взрослые       Высокий уровень дохода  \n",
       "8          свадьба         взрослые       Средний уровень дохода  \n",
       "9            жилье         взрослые       Высокий уровень дохода  "
      ]
     },
     "metadata": {},
     "output_type": "display_data"
    }
   ],
   "source": [
    "#функция работает, теперь добавим новую колонку income status с помощью метода .apply()\n",
    "df['income_status'] = df['monthly_earnings'].apply(income_status)\n",
    "display(df.head(10)) "
   ]
  },
  {
   "cell_type": "code",
   "execution_count": 243,
   "metadata": {},
   "outputs": [
    {
     "data": {
      "text/html": [
       "<div>\n",
       "<style scoped>\n",
       "    .dataframe tbody tr th:only-of-type {\n",
       "        vertical-align: middle;\n",
       "    }\n",
       "\n",
       "    .dataframe tbody tr th {\n",
       "        vertical-align: top;\n",
       "    }\n",
       "\n",
       "    .dataframe thead th {\n",
       "        text-align: right;\n",
       "    }\n",
       "</style>\n",
       "<table border=\"1\" class=\"dataframe\">\n",
       "  <thead>\n",
       "    <tr style=\"text-align: right;\">\n",
       "      <th></th>\n",
       "      <th>income_status</th>\n",
       "      <th>income_type</th>\n",
       "    </tr>\n",
       "  </thead>\n",
       "  <tbody>\n",
       "    <tr>\n",
       "      <td>0</td>\n",
       "      <td>Сверхвысокий уровень дохода</td>\n",
       "      <td>сотрудник</td>\n",
       "    </tr>\n",
       "    <tr>\n",
       "      <td>1</td>\n",
       "      <td>Средний уровень дохода</td>\n",
       "      <td>сотрудник</td>\n",
       "    </tr>\n",
       "    <tr>\n",
       "      <td>2</td>\n",
       "      <td>Высокий уровень дохода</td>\n",
       "      <td>сотрудник</td>\n",
       "    </tr>\n",
       "    <tr>\n",
       "      <td>3</td>\n",
       "      <td>Сверхвысокий уровень дохода</td>\n",
       "      <td>сотрудник</td>\n",
       "    </tr>\n",
       "    <tr>\n",
       "      <td>4</td>\n",
       "      <td>Высокий уровень дохода</td>\n",
       "      <td>пенсионер</td>\n",
       "    </tr>\n",
       "    <tr>\n",
       "      <td>5</td>\n",
       "      <td>Сверхвысокий уровень дохода</td>\n",
       "      <td>компаньон</td>\n",
       "    </tr>\n",
       "    <tr>\n",
       "      <td>6</td>\n",
       "      <td>Сверхвысокий уровень дохода</td>\n",
       "      <td>компаньон</td>\n",
       "    </tr>\n",
       "    <tr>\n",
       "      <td>7</td>\n",
       "      <td>Высокий уровень дохода</td>\n",
       "      <td>сотрудник</td>\n",
       "    </tr>\n",
       "    <tr>\n",
       "      <td>8</td>\n",
       "      <td>Средний уровень дохода</td>\n",
       "      <td>сотрудник</td>\n",
       "    </tr>\n",
       "    <tr>\n",
       "      <td>9</td>\n",
       "      <td>Высокий уровень дохода</td>\n",
       "      <td>сотрудник</td>\n",
       "    </tr>\n",
       "  </tbody>\n",
       "</table>\n",
       "</div>"
      ],
      "text/plain": [
       "                 income_status income_type\n",
       "0  Сверхвысокий уровень дохода   сотрудник\n",
       "1       Средний уровень дохода   сотрудник\n",
       "2       Высокий уровень дохода   сотрудник\n",
       "3  Сверхвысокий уровень дохода   сотрудник\n",
       "4       Высокий уровень дохода   пенсионер\n",
       "5  Сверхвысокий уровень дохода   компаньон\n",
       "6  Сверхвысокий уровень дохода   компаньон\n",
       "7       Высокий уровень дохода   сотрудник\n",
       "8       Средний уровень дохода   сотрудник\n",
       "9       Высокий уровень дохода   сотрудник"
      ]
     },
     "metadata": {},
     "output_type": "display_data"
    }
   ],
   "source": [
    "#теперь создадим словарь financial_health, где отразим категориальные переменные (уровень дохода и тип занятости)\n",
    "financial_health = df[['income_status', 'income_type' ]]\n",
    "display(financial_health.head(10))"
   ]
  },
  {
   "cell_type": "markdown",
   "metadata": {},
   "source": [
    "На мой взгляд, словарь financial_health поможет лучше понимать кредитные возможности определённой категории заёмщиков, ведь здесь собраны основные метрики, влияющие на финансовое здоровье. "
   ]
  },
  {
   "cell_type": "code",
   "execution_count": 244,
   "metadata": {},
   "outputs": [
    {
     "data": {
      "text/html": [
       "<div>\n",
       "<style scoped>\n",
       "    .dataframe tbody tr th:only-of-type {\n",
       "        vertical-align: middle;\n",
       "    }\n",
       "\n",
       "    .dataframe tbody tr th {\n",
       "        vertical-align: top;\n",
       "    }\n",
       "\n",
       "    .dataframe thead th {\n",
       "        text-align: right;\n",
       "    }\n",
       "</style>\n",
       "<table border=\"1\" class=\"dataframe\">\n",
       "  <thead>\n",
       "    <tr style=\"text-align: right;\">\n",
       "      <th></th>\n",
       "      <th>education_level</th>\n",
       "      <th>education_level_id</th>\n",
       "    </tr>\n",
       "  </thead>\n",
       "  <tbody>\n",
       "    <tr>\n",
       "      <td>0</td>\n",
       "      <td>высшее</td>\n",
       "      <td>0</td>\n",
       "    </tr>\n",
       "    <tr>\n",
       "      <td>1</td>\n",
       "      <td>среднее</td>\n",
       "      <td>1</td>\n",
       "    </tr>\n",
       "    <tr>\n",
       "      <td>2</td>\n",
       "      <td>среднее</td>\n",
       "      <td>1</td>\n",
       "    </tr>\n",
       "    <tr>\n",
       "      <td>3</td>\n",
       "      <td>среднее</td>\n",
       "      <td>1</td>\n",
       "    </tr>\n",
       "    <tr>\n",
       "      <td>4</td>\n",
       "      <td>среднее</td>\n",
       "      <td>1</td>\n",
       "    </tr>\n",
       "    <tr>\n",
       "      <td>5</td>\n",
       "      <td>высшее</td>\n",
       "      <td>0</td>\n",
       "    </tr>\n",
       "    <tr>\n",
       "      <td>6</td>\n",
       "      <td>высшее</td>\n",
       "      <td>0</td>\n",
       "    </tr>\n",
       "    <tr>\n",
       "      <td>7</td>\n",
       "      <td>среднее</td>\n",
       "      <td>1</td>\n",
       "    </tr>\n",
       "    <tr>\n",
       "      <td>8</td>\n",
       "      <td>высшее</td>\n",
       "      <td>0</td>\n",
       "    </tr>\n",
       "    <tr>\n",
       "      <td>9</td>\n",
       "      <td>среднее</td>\n",
       "      <td>1</td>\n",
       "    </tr>\n",
       "  </tbody>\n",
       "</table>\n",
       "</div>"
      ],
      "text/plain": [
       "  education_level  education_level_id\n",
       "0          высшее                   0\n",
       "1         среднее                   1\n",
       "2         среднее                   1\n",
       "3         среднее                   1\n",
       "4         среднее                   1\n",
       "5          высшее                   0\n",
       "6          высшее                   0\n",
       "7         среднее                   1\n",
       "8          высшее                   0\n",
       "9         среднее                   1"
      ]
     },
     "metadata": {},
     "output_type": "display_data"
    }
   ],
   "source": [
    "#создадим словарь borrower_sustainability, где отразим количественные переменные (уровень образования и его индефикатор)\n",
    "borrower_sustainability = df[['education_level', 'education_level_id' ]]\n",
    "display(borrower_sustainability.head(10))"
   ]
  },
  {
   "cell_type": "markdown",
   "metadata": {},
   "source": [
    "Словарь borrower_sustainability поможет понять риски, связанные с заёмщиками по представленным метриками, ведь количество детей, стаж работы и возраст могут помочь узнать потенциал заёмщика. Чем выше возраст и больше стаж, тем менее привлекателен заёмщик, наличие детей может считаться обременением, ведь для взрослых это основная статья расходов.  "
   ]
  },
  {
   "cell_type": "markdown",
   "metadata": {},
   "source": [
    "<div class=\"alert alert-success\">\n",
    "<h3>✔ Комментарий ревьюера</h3>\n",
    "\n",
    "А в чём словарь заключается? Словарь -- это обычно справочник, т.е. по ключу показывает какое-то значение, у тебя тут ключи не уникальны. Т.е. словарём был бы например соотношение между `id` и строковым представлением каждого `id`\n",
    "</div>"
   ]
  },
  {
   "cell_type": "markdown",
   "metadata": {},
   "source": [
    "<div class = \"alert alert-info\" >\n",
    "<h3>Комментарий студента</h3>\n",
    "Переделал в обеих случах.\n",
    "</div>"
   ]
  },
  {
   "cell_type": "markdown",
   "metadata": {},
   "source": [
    "<div class=\"alert alert-success\">\n",
    "<h3>✔ Комментарий реьюера V.2</h3>\n",
    "    \n",
    "Дубликаты оставлось удалить, чтобы строки не дублировались :)\n",
    "</div>  "
   ]
  },
  {
   "cell_type": "markdown",
   "metadata": {},
   "source": [
    "**Вывод** категоризировали данные из нашей таблицы, она стала более читабельной, выделили два словаря, анализ которых может помочь с опредлением рисков и потенциала заёмщика. \n"
   ]
  },
  {
   "cell_type": "markdown",
   "metadata": {},
   "source": [
    "## Шаг 3. Ответьте на вопросы"
   ]
  },
  {
   "cell_type": "markdown",
   "metadata": {},
   "source": [
    "- Есть ли зависимость между наличием детей и возвратом кредита в срок?"
   ]
  },
  {
   "cell_type": "markdown",
   "metadata": {},
   "source": [
    "<div class=\"alert alert-success\">\n",
    "<h3>✔ Комментарий ревьюера</h3>\n",
    "\n",
    "Можно указывать названия столбцов прямо в `groupby`: `.groupby().agg(доля_невозврата=('mean','amount_of_debt'),...)`. Не очень понятно, кстати, почму ты решил столбец назвать `amount_of_debt`, столбец же бинарный\n",
    "</div>"
   ]
  },
  {
   "cell_type": "markdown",
   "metadata": {},
   "source": [
    "<div class = \"alert alert-info\" >\n",
    "<h3>Комментарий студента</h3>\n",
    "Май инглиш из вэри бэд, поменял название.\n",
    "</div>"
   ]
  },
  {
   "cell_type": "code",
   "execution_count": 245,
   "metadata": {},
   "outputs": [
    {
     "data": {
      "text/html": [
       "<style  type=\"text/css\" >\n",
       "</style><table id=\"T_cb443218_50ee_11ec_8369_02420a39ae4d\" ><thead>    <tr>        <th class=\"blank level0\" ></th>        <th class=\"col_heading level0 col0\" colspan=2>Верхний уровень</th>    </tr>    <tr>        <th class=\"blank level1\" ></th>        <th class=\"col_heading level1 col0\" >% невозврата</th>        <th class=\"col_heading level1 col1\" >Кол-во заёмщиков</th>    </tr>    <tr>        <th class=\"index_name level0\" >Кол-во детей</th>        <th class=\"blank\" ></th>        <th class=\"blank\" ></th>    </tr></thead><tbody>\n",
       "                <tr>\n",
       "                        <th id=\"T_cb443218_50ee_11ec_8369_02420a39ae4dlevel0_row0\" class=\"row_heading level0 row0\" >0</th>\n",
       "                        <td id=\"T_cb443218_50ee_11ec_8369_02420a39ae4drow0_col0\" class=\"data row0 col0\" >7.54%</td>\n",
       "                        <td id=\"T_cb443218_50ee_11ec_8369_02420a39ae4drow0_col1\" class=\"data row0 col1\" >14091.00</td>\n",
       "            </tr>\n",
       "            <tr>\n",
       "                        <th id=\"T_cb443218_50ee_11ec_8369_02420a39ae4dlevel0_row1\" class=\"row_heading level0 row1\" >1</th>\n",
       "                        <td id=\"T_cb443218_50ee_11ec_8369_02420a39ae4drow1_col0\" class=\"data row1 col0\" >9.17%</td>\n",
       "                        <td id=\"T_cb443218_50ee_11ec_8369_02420a39ae4drow1_col1\" class=\"data row1 col1\" >4855.00</td>\n",
       "            </tr>\n",
       "            <tr>\n",
       "                        <th id=\"T_cb443218_50ee_11ec_8369_02420a39ae4dlevel0_row2\" class=\"row_heading level0 row2\" >2</th>\n",
       "                        <td id=\"T_cb443218_50ee_11ec_8369_02420a39ae4drow2_col0\" class=\"data row2 col0\" >9.49%</td>\n",
       "                        <td id=\"T_cb443218_50ee_11ec_8369_02420a39ae4drow2_col1\" class=\"data row2 col1\" >2128.00</td>\n",
       "            </tr>\n",
       "            <tr>\n",
       "                        <th id=\"T_cb443218_50ee_11ec_8369_02420a39ae4dlevel0_row3\" class=\"row_heading level0 row3\" >3</th>\n",
       "                        <td id=\"T_cb443218_50ee_11ec_8369_02420a39ae4drow3_col0\" class=\"data row3 col0\" >8.18%</td>\n",
       "                        <td id=\"T_cb443218_50ee_11ec_8369_02420a39ae4drow3_col1\" class=\"data row3 col1\" >330.00</td>\n",
       "            </tr>\n",
       "            <tr>\n",
       "                        <th id=\"T_cb443218_50ee_11ec_8369_02420a39ae4dlevel0_row4\" class=\"row_heading level0 row4\" >4</th>\n",
       "                        <td id=\"T_cb443218_50ee_11ec_8369_02420a39ae4drow4_col0\" class=\"data row4 col0\" >9.76%</td>\n",
       "                        <td id=\"T_cb443218_50ee_11ec_8369_02420a39ae4drow4_col1\" class=\"data row4 col1\" >41.00</td>\n",
       "            </tr>\n",
       "            <tr>\n",
       "                        <th id=\"T_cb443218_50ee_11ec_8369_02420a39ae4dlevel0_row5\" class=\"row_heading level0 row5\" >5</th>\n",
       "                        <td id=\"T_cb443218_50ee_11ec_8369_02420a39ae4drow5_col0\" class=\"data row5 col0\" >0.00%</td>\n",
       "                        <td id=\"T_cb443218_50ee_11ec_8369_02420a39ae4drow5_col1\" class=\"data row5 col1\" >9.00</td>\n",
       "            </tr>\n",
       "    </tbody></table>"
      ],
      "text/plain": [
       "<pandas.io.formats.style.Styler at 0x7fda20f8c350>"
      ]
     },
     "metadata": {},
     "output_type": "display_data"
    }
   ],
   "source": [
    "research_count_children = df.groupby('number_of_children').agg({'the_presence_of_debt': ['mean', 'count']})\n",
    "#мультииндекс в колонках можно переименовать вот так\n",
    "research_count_children = research_count_children.rename(columns = {'the_presence_of_debt': 'Верхний уровень'}, level = 0)\n",
    "research_count_children = research_count_children.rename(columns = {'count': 'Кол-во заёмщиков', 'mean': '% невозврата'}, level = 1)\n",
    "#индекс переименуем так:\n",
    "research_count_children.index = research_count_children.index.rename('Кол-во детей')\n",
    "#сменим формат числа при отображении с помощью style.format\n",
    "display(research_count_children.style.format({('Верхний уровень', '% невозврата'):'{:.2%}', ('Верхний уровень', 'Кол-во заёмщиков'):'{:.2f}'}))\n"
   ]
  },
  {
   "cell_type": "markdown",
   "metadata": {},
   "source": [
    "<div class=\"alert alert-success\">\n",
    "<h3>✔ Комментарий ревьюера</h3>\n",
    "\n",
    "Круто, что используешь `style`, такие проценты это как раз то, что надо. Можно посмотреть общий процент должников в выборке и для каждой группы сравнивать процент должников в группе со средним, чтобы понимать, насколько каждая группа рисковая. Разница в 2% может быть на самом деле довольно значимой и при большой сумме кредита приводить к достаточным убыткам. На практике разницу проверяют на статистическую значимость -- этому научат дальше в курсе\n",
    "</div>"
   ]
  },
  {
   "cell_type": "markdown",
   "metadata": {},
   "source": [
    "**Вывод** Люди с детьми или без отдают кредиты примерно на одном и том же уровне\n",
    "Можно отметить, что люди с 5 детьми показывают 0, но выборка по ним не репрезентативна. Бездетные отдают кредиты лучше чем заёмщики с 1 и более детьми. "
   ]
  },
  {
   "cell_type": "markdown",
   "metadata": {},
   "source": [
    "- Есть ли зависимость между семейным положением и возвратом кредита в срок?"
   ]
  },
  {
   "cell_type": "code",
   "execution_count": 246,
   "metadata": {},
   "outputs": [
    {
     "data": {
      "text/html": [
       "<style  type=\"text/css\" >\n",
       "</style><table id=\"T_cb49743a_50ee_11ec_8369_02420a39ae4d\" ><thead>    <tr>        <th class=\"blank level0\" ></th>        <th class=\"col_heading level0 col0\" colspan=2>Верхний уровень</th>    </tr>    <tr>        <th class=\"blank level1\" ></th>        <th class=\"col_heading level1 col0\" >% невозврата</th>        <th class=\"col_heading level1 col1\" >Кол-во заёмщиков</th>    </tr>    <tr>        <th class=\"index_name level0\" >Семейное положение</th>        <th class=\"blank\" ></th>        <th class=\"blank\" ></th>    </tr></thead><tbody>\n",
       "                <tr>\n",
       "                        <th id=\"T_cb49743a_50ee_11ec_8369_02420a39ae4dlevel0_row0\" class=\"row_heading level0 row0\" >Не женат / не замужем</th>\n",
       "                        <td id=\"T_cb49743a_50ee_11ec_8369_02420a39ae4drow0_col0\" class=\"data row0 col0\" >9.75%</td>\n",
       "                        <td id=\"T_cb49743a_50ee_11ec_8369_02420a39ae4drow0_col1\" class=\"data row0 col1\" >2810.00</td>\n",
       "            </tr>\n",
       "            <tr>\n",
       "                        <th id=\"T_cb49743a_50ee_11ec_8369_02420a39ae4dlevel0_row1\" class=\"row_heading level0 row1\" >в разводе</th>\n",
       "                        <td id=\"T_cb49743a_50ee_11ec_8369_02420a39ae4drow1_col0\" class=\"data row1 col0\" >7.11%</td>\n",
       "                        <td id=\"T_cb49743a_50ee_11ec_8369_02420a39ae4drow1_col1\" class=\"data row1 col1\" >1195.00</td>\n",
       "            </tr>\n",
       "            <tr>\n",
       "                        <th id=\"T_cb49743a_50ee_11ec_8369_02420a39ae4dlevel0_row2\" class=\"row_heading level0 row2\" >вдовец / вдова</th>\n",
       "                        <td id=\"T_cb49743a_50ee_11ec_8369_02420a39ae4drow2_col0\" class=\"data row2 col0\" >6.57%</td>\n",
       "                        <td id=\"T_cb49743a_50ee_11ec_8369_02420a39ae4drow2_col1\" class=\"data row2 col1\" >959.00</td>\n",
       "            </tr>\n",
       "            <tr>\n",
       "                        <th id=\"T_cb49743a_50ee_11ec_8369_02420a39ae4dlevel0_row3\" class=\"row_heading level0 row3\" >гражданский брак</th>\n",
       "                        <td id=\"T_cb49743a_50ee_11ec_8369_02420a39ae4drow3_col0\" class=\"data row3 col0\" >9.35%</td>\n",
       "                        <td id=\"T_cb49743a_50ee_11ec_8369_02420a39ae4drow3_col1\" class=\"data row3 col1\" >4151.00</td>\n",
       "            </tr>\n",
       "            <tr>\n",
       "                        <th id=\"T_cb49743a_50ee_11ec_8369_02420a39ae4dlevel0_row4\" class=\"row_heading level0 row4\" >женат / замужем</th>\n",
       "                        <td id=\"T_cb49743a_50ee_11ec_8369_02420a39ae4drow4_col0\" class=\"data row4 col0\" >7.55%</td>\n",
       "                        <td id=\"T_cb49743a_50ee_11ec_8369_02420a39ae4drow4_col1\" class=\"data row4 col1\" >12339.00</td>\n",
       "            </tr>\n",
       "    </tbody></table>"
      ],
      "text/plain": [
       "<pandas.io.formats.style.Styler at 0x7fda1f068550>"
      ]
     },
     "metadata": {},
     "output_type": "display_data"
    }
   ],
   "source": [
    "research_family_status = df.groupby('family_status').agg({'the_presence_of_debt': ['mean', 'count']})\n",
    "#мультииндекс в колонках можно переименовать вот так\n",
    "research_family_status = research_family_status.rename(columns = {'the_presence_of_debt': 'Верхний уровень'}, level = 0)\n",
    "research_family_status = research_family_status.rename(columns = {'count': 'Кол-во заёмщиков', 'mean': '% невозврата'}, level = 1)\n",
    "#индекс переименуем так:\n",
    "research_family_status.index = research_family_status.index.rename('Семейное положение')\n",
    "#сменим формат числа при отображении с помощью style.format\n",
    "display(research_family_status.style.format({('Верхний уровень', '% невозврата'):'{:.2%}', ('Верхний уровень', 'Кол-во заёмщиков'):'{:.2f}'}))\n",
    "\n"
   ]
  },
  {
   "cell_type": "markdown",
   "metadata": {},
   "source": [
    "***Вывод***: семейное положение влияет, хуже всего отдают кредиты категория вдовец/вдова, так как их количество в общей массе небольшое. Возможно это связано с потерей основго кормильца, чаще мужчины,, так как в среднем по статистике они живут меньше чем женщины. Лучше всего отдают кредиты разведённые пары, возможно из-за того что в таких случаях они часто получают поддержку от своих родителей. "
   ]
  },
  {
   "cell_type": "markdown",
   "metadata": {},
   "source": [
    "- Есть ли зависимость между уровнем дохода и возвратом кредита в срок?"
   ]
  },
  {
   "cell_type": "code",
   "execution_count": 247,
   "metadata": {},
   "outputs": [
    {
     "data": {
      "text/html": [
       "<style  type=\"text/css\" >\n",
       "</style><table id=\"T_cb4ea874_50ee_11ec_8369_02420a39ae4d\" ><thead>    <tr>        <th class=\"blank level0\" ></th>        <th class=\"col_heading level0 col0\" colspan=2>Верхний уровень</th>    </tr>    <tr>        <th class=\"blank level1\" ></th>        <th class=\"col_heading level1 col0\" >% невозврата</th>        <th class=\"col_heading level1 col1\" >Кол-во заёмщиков</th>    </tr>    <tr>        <th class=\"index_name level0\" >Категория дохода</th>        <th class=\"blank\" ></th>        <th class=\"blank\" ></th>    </tr></thead><tbody>\n",
       "                <tr>\n",
       "                        <th id=\"T_cb4ea874_50ee_11ec_8369_02420a39ae4dlevel0_row0\" class=\"row_heading level0 row0\" >Высокий уровень дохода</th>\n",
       "                        <td id=\"T_cb4ea874_50ee_11ec_8369_02420a39ae4drow0_col0\" class=\"data row0 col0\" >8.97%</td>\n",
       "                        <td id=\"T_cb4ea874_50ee_11ec_8369_02420a39ae4drow0_col1\" class=\"data row0 col1\" >5363.00</td>\n",
       "            </tr>\n",
       "            <tr>\n",
       "                        <th id=\"T_cb4ea874_50ee_11ec_8369_02420a39ae4dlevel0_row1\" class=\"row_heading level0 row1\" >Низкий уровень дохода</th>\n",
       "                        <td id=\"T_cb4ea874_50ee_11ec_8369_02420a39ae4drow1_col0\" class=\"data row1 col0\" >7.81%</td>\n",
       "                        <td id=\"T_cb4ea874_50ee_11ec_8369_02420a39ae4drow1_col1\" class=\"data row1 col1\" >5364.00</td>\n",
       "            </tr>\n",
       "            <tr>\n",
       "                        <th id=\"T_cb4ea874_50ee_11ec_8369_02420a39ae4dlevel0_row2\" class=\"row_heading level0 row2\" >Сверхвысокий уровень дохода</th>\n",
       "                        <td id=\"T_cb4ea874_50ee_11ec_8369_02420a39ae4drow2_col0\" class=\"data row2 col0\" >7.14%</td>\n",
       "                        <td id=\"T_cb4ea874_50ee_11ec_8369_02420a39ae4drow2_col1\" class=\"data row2 col1\" >5364.00</td>\n",
       "            </tr>\n",
       "            <tr>\n",
       "                        <th id=\"T_cb4ea874_50ee_11ec_8369_02420a39ae4dlevel0_row3\" class=\"row_heading level0 row3\" >Средний уровень дохода</th>\n",
       "                        <td id=\"T_cb4ea874_50ee_11ec_8369_02420a39ae4drow3_col0\" class=\"data row3 col0\" >8.54%</td>\n",
       "                        <td id=\"T_cb4ea874_50ee_11ec_8369_02420a39ae4drow3_col1\" class=\"data row3 col1\" >5363.00</td>\n",
       "            </tr>\n",
       "    </tbody></table>"
      ],
      "text/plain": [
       "<pandas.io.formats.style.Styler at 0x7fda1d584650>"
      ]
     },
     "metadata": {},
     "output_type": "display_data"
    }
   ],
   "source": [
    "research_income_status = df.groupby('income_status').agg({'the_presence_of_debt': ['mean', 'count']})\n",
    "#мультииндекс в колонках можно переименовать вот так\n",
    "research_income_status = research_income_status.rename(columns = {'the_presence_of_debt': 'Верхний уровень'}, level = 0)\n",
    "research_income_status = research_income_status.rename(columns = {'count': 'Кол-во заёмщиков', 'mean': '% невозврата'}, level = 1)\n",
    "#индекс переименуем так:\n",
    "research_income_status.index = research_income_status.index.rename('Категория дохода')\n",
    "#сменим формат числа при отображении с помощью style.format\n",
    "display(research_income_status.style.format({('Верхний уровень', '% невозврата'):'{:.2%}', ('Верхний уровень', 'Кол-во заёмщиков'):'{:.2f}'}))\n",
    "\n"
   ]
  },
  {
   "cell_type": "code",
   "execution_count": 248,
   "metadata": {},
   "outputs": [
    {
     "data": {
      "text/plain": [
       "Сверхвысокий уровень дохода    0.250023\n",
       "Низкий уровень дохода          0.250023\n",
       "Средний уровень дохода         0.249977\n",
       "Высокий уровень дохода         0.249977\n",
       "Name: income_status, dtype: float64"
      ]
     },
     "execution_count": 248,
     "metadata": {},
     "output_type": "execute_result"
    }
   ],
   "source": [
    "#проверим количество людей в каждой из групп\n",
    "df['income_status'].value_counts(normalize = True)"
   ]
  },
  {
   "cell_type": "markdown",
   "metadata": {},
   "source": [
    "<div class=\"alert alert-success\">\n",
    "<h3>✔ Комментарий ревьюера</h3>\n",
    "\n",
    "Странно проверять количество, ты же по квантилям разбивал :)\n",
    "</div>\n"
   ]
  },
  {
   "cell_type": "markdown",
   "metadata": {},
   "source": [
    "<div class = \"alert alert-info\" >\n",
    "<h3>Комментарий студента</h3>\n",
    "Я решил себя лишний раз проверить, так как тему с квантилями ещё не достаточно хорошо знаю. А ещё мне показалось странным практически одинаковые данные в колонке \"кол-во заёмщиков\".\n",
    "</div>"
   ]
  },
  {
   "cell_type": "markdown",
   "metadata": {},
   "source": [
    "**Вывод** Есть незначительная разница в возвращаемости кредитов от уровня доходов\n",
    "Хуже всего покатель у людей со сверхвысокими и низкими доходами. Если зависимость возвращаемости кредитов у людей с низкими доходами очевидна, то сверхвысокие объяснить не могу."
   ]
  },
  {
   "cell_type": "markdown",
   "metadata": {},
   "source": [
    "- Как разные цели кредита влияют на его возврат в срок?"
   ]
  },
  {
   "cell_type": "code",
   "execution_count": 249,
   "metadata": {},
   "outputs": [
    {
     "data": {
      "text/html": [
       "<style  type=\"text/css\" >\n",
       "</style><table id=\"T_cb5a89dc_50ee_11ec_8369_02420a39ae4d\" ><thead>    <tr>        <th class=\"blank level0\" ></th>        <th class=\"col_heading level0 col0\" colspan=2>Верхний уровень</th>    </tr>    <tr>        <th class=\"blank level1\" ></th>        <th class=\"col_heading level1 col0\" >% невозврата</th>        <th class=\"col_heading level1 col1\" >Кол-во заёмщиков</th>    </tr>    <tr>        <th class=\"index_name level0\" >Цели кредитования</th>        <th class=\"blank\" ></th>        <th class=\"blank\" ></th>    </tr></thead><tbody>\n",
       "                <tr>\n",
       "                        <th id=\"T_cb5a89dc_50ee_11ec_8369_02420a39ae4dlevel0_row0\" class=\"row_heading level0 row0\" >автомобиль</th>\n",
       "                        <td id=\"T_cb5a89dc_50ee_11ec_8369_02420a39ae4drow0_col0\" class=\"data row0 col0\" >9.36%</td>\n",
       "                        <td id=\"T_cb5a89dc_50ee_11ec_8369_02420a39ae4drow0_col1\" class=\"data row0 col1\" >4306.00</td>\n",
       "            </tr>\n",
       "            <tr>\n",
       "                        <th id=\"T_cb5a89dc_50ee_11ec_8369_02420a39ae4dlevel0_row1\" class=\"row_heading level0 row1\" >жилье</th>\n",
       "                        <td id=\"T_cb5a89dc_50ee_11ec_8369_02420a39ae4drow1_col0\" class=\"data row1 col0\" >6.91%</td>\n",
       "                        <td id=\"T_cb5a89dc_50ee_11ec_8369_02420a39ae4drow1_col1\" class=\"data row1 col1\" >4460.00</td>\n",
       "            </tr>\n",
       "            <tr>\n",
       "                        <th id=\"T_cb5a89dc_50ee_11ec_8369_02420a39ae4dlevel0_row2\" class=\"row_heading level0 row2\" >недвижимость</th>\n",
       "                        <td id=\"T_cb5a89dc_50ee_11ec_8369_02420a39ae4drow2_col0\" class=\"data row2 col0\" >7.46%</td>\n",
       "                        <td id=\"T_cb5a89dc_50ee_11ec_8369_02420a39ae4drow2_col1\" class=\"data row2 col1\" >6351.00</td>\n",
       "            </tr>\n",
       "            <tr>\n",
       "                        <th id=\"T_cb5a89dc_50ee_11ec_8369_02420a39ae4dlevel0_row3\" class=\"row_heading level0 row3\" >образование</th>\n",
       "                        <td id=\"T_cb5a89dc_50ee_11ec_8369_02420a39ae4drow3_col0\" class=\"data row3 col0\" >9.22%</td>\n",
       "                        <td id=\"T_cb5a89dc_50ee_11ec_8369_02420a39ae4drow3_col1\" class=\"data row3 col1\" >4013.00</td>\n",
       "            </tr>\n",
       "            <tr>\n",
       "                        <th id=\"T_cb5a89dc_50ee_11ec_8369_02420a39ae4dlevel0_row4\" class=\"row_heading level0 row4\" >свадьба</th>\n",
       "                        <td id=\"T_cb5a89dc_50ee_11ec_8369_02420a39ae4drow4_col0\" class=\"data row4 col0\" >8.00%</td>\n",
       "                        <td id=\"T_cb5a89dc_50ee_11ec_8369_02420a39ae4drow4_col1\" class=\"data row4 col1\" >2324.00</td>\n",
       "            </tr>\n",
       "    </tbody></table>"
      ],
      "text/plain": [
       "<pandas.io.formats.style.Styler at 0x7fda1ec28790>"
      ]
     },
     "metadata": {},
     "output_type": "display_data"
    }
   ],
   "source": [
    "research_purpose_category = df.groupby('purpose_category').agg({'the_presence_of_debt': ['mean', 'count']})\n",
    "#мультииндекс в колонках можно переименовать вот так\n",
    "research_purpose_category = research_purpose_category.rename(columns = {'the_presence_of_debt': 'Верхний уровень'}, level = 0)\n",
    "research_purpose_category = research_purpose_category.rename(columns = {'count': 'Кол-во заёмщиков', 'mean': '% невозврата'}, level = 1)\n",
    "#индекс переименуем так:\n",
    "research_purpose_category.index = research_purpose_category.index.rename('Цели кредитования')\n",
    "#сменим формат числа при отображении с помощью style.format\n",
    "display(research_purpose_category.style.format({('Верхний уровень', '% невозврата'):'{:.2%}', ('Верхний уровень', 'Кол-во заёмщиков'):'{:.2f}'}))\n",
    "\n"
   ]
  },
  {
   "cell_type": "markdown",
   "metadata": {},
   "source": [
    "<div class=\"alert alert-success\">\n",
    "<h3>✔ Комментарий ревьюера</h3>\n",
    "\n",
    "Здесь видно, что образование всё таки популярнее, чем свадьба\n",
    "</div>"
   ]
  },
  {
   "cell_type": "markdown",
   "metadata": {},
   "source": [
    "***Вывод*** цели кредитования действительно влияют, хуже всего дела обстоят с автомобильными кредитами, это может быть связано с тем, что машины часто попадают в ДТП, их необходимо обслуживать, платить налоги + амортизационные издержки, риски угона и всё это ложится на плечи автовладельца. Лучше всего дела обстоят с жилищными кредитами, так как это фундаментальные инвестиции, они меньше подвержены риску и в целом рынок жилья достаточно стабилен и растёт от года к году. Самыми рискованными целями являются образование и свадьбы, у первых риск связан с конкуренцией на рынке труда, даже получив образование у вас нет 100% шансов найти работу, а тем более своевременно погасить кредит. Со свадьбами риск ещё выше чем с образованием, так как по сути это увеселительное меропритяие, цель которого - развлечение, данную статью расходов никак нельзя сравнивать с инвестициями. "
   ]
  },
  {
   "cell_type": "markdown",
   "metadata": {},
   "source": [
    "## Шаг 4. Общий вывод"
   ]
  },
  {
   "cell_type": "markdown",
   "metadata": {},
   "source": [
    "Есть зависимости между целями кредита, семейным положением, уровнем дохода и количеством детей в семье. Нельзя сказать, что они кардинально отличаются, но 2% на больших числах могут оказать существенное влияние на кредитный портфель банка. Особое внимание следует уделить вдовам/вдовцам или молодоженам — с ними могут риски по невозврату кредитов выше, тоже самое касается целей кредитования - автомобильные кредиты и кредиты на свадьбу имеют наибольший риск, здесь требования к заёмщикам должны быть высокими. Для автомобильных кредитов обязательно стаж вождения и страхование авто (КАСКО/ОСАГО), для свадеб - высокая заработная плата заёмщиков, отсутствие обременений и ипотечных кредитов. Что касается образования  - наличие хполучения грантов на обучение, присутствие гос поддержки так же будут являться позитивным сигналом для выдачи такого кредита. "
   ]
  },
  {
   "cell_type": "markdown",
   "metadata": {},
   "source": [
    "Рекомендации для банка:\n",
    "- спроектировать более совершенную систему валидации заявок в программе, чтобы не сталкиваться с проблемой дублей;\n",
    "- считать стаж работы в годах, заёмщики не знают свой стаж в днях, а общепринятые нормы расчёта в годах;\n",
    "- показывать операторам в банке или пользователям на сайте подсказки заранее, когда вводят сверхвысокие/сверхнизкие;\n",
    "  значения в полях: возраст, стаж, количество детей;\n",
    "- блокировать отправку заявок с заведомо некорректными значениями, которые могут быть важны для анализа, например,\n",
    "  с отрицательным количеством детей."
   ]
  },
  {
   "cell_type": "markdown",
   "metadata": {},
   "source": [
    "<div class=\"alert alert-success\">\n",
    "<h3>✔ Комментарий ревьюера</h3>\n",
    "\n",
    "> спроектировать более совершенную систему валидации заявок в программе, чтобы не сталкиваться с проблемой дублей;\n",
    "\n",
    "Да, уникальый `id` бы тут помог\n",
    "\n",
    "Ошибки вполне могут быть связаны не с вводом, а с последующим сбором для анализа (т.е. ошибки в запросах к БД)\n",
    "</div>"
   ]
  },
  {
   "cell_type": "markdown",
   "metadata": {},
   "source": [
    "## Чек-лист готовности проекта\n",
    "\n",
    "Поставьте 'x' в выполненных пунктах. Далее нажмите Shift+Enter."
   ]
  },
  {
   "cell_type": "markdown",
   "metadata": {},
   "source": [
    "- [x]  открыт файл;\n",
    "- [x]  файл изучен;\n",
    "- [x]  определены пропущенные значения;\n",
    "- [x]  заполнены пропущенные значения;\n",
    "- [x]  есть пояснение, какие пропущенные значения обнаружены;\n",
    "- [x]  описаны возможные причины появления пропусков в данных;\n",
    "- [x]  объяснено, по какому принципу заполнены пропуски;\n",
    "- [x]  заменен вещественный тип данных на целочисленный;\n",
    "- [x]  есть пояснение, какой метод используется для изменения типа данных и почему;\n",
    "- [x]  удалены дубликаты;\n",
    "- [x]  есть пояснение, какой метод используется для поиска и удаления дубликатов;\n",
    "- [x]  описаны возможные причины появления дубликатов в данных;\n",
    "- [x]  выделены леммы в значениях столбца с целями получения кредита;\n",
    "- [x]  описан процесс лемматизации;\n",
    "- [x]  данные категоризированы;\n",
    "- [x]  есть объяснение принципа категоризации данных;\n",
    "- [x]  есть ответ на вопрос: \"Есть ли зависимость между наличием детей и возвратом кредита в срок?\";\n",
    "- [x]  есть ответ на вопрос: \"Есть ли зависимость между семейным положением и возвратом кредита в срок?\";\n",
    "- [x]  есть ответ на вопрос: \"Есть ли зависимость между уровнем дохода и возвратом кредита в срок?\";\n",
    "- [x]  есть ответ на вопрос: \"Как разные цели кредита влияют на его возврат в срок?\";\n",
    "- [x]  в каждом этапе есть выводы;\n",
    "- [x]  есть общий вывод."
   ]
  },
  {
   "cell_type": "code",
   "execution_count": null,
   "metadata": {},
   "outputs": [],
   "source": []
  }
 ],
 "metadata": {
  "ExecuteTimeLog": [
   {
    "duration": 3224,
    "start_time": "2021-11-23T19:45:59.715Z"
   },
   {
    "duration": 2169,
    "start_time": "2021-11-23T19:46:46.079Z"
   },
   {
    "duration": 1648,
    "start_time": "2021-11-23T19:47:52.744Z"
   },
   {
    "duration": 1725,
    "start_time": "2021-11-23T19:54:55.973Z"
   },
   {
    "duration": 1604,
    "start_time": "2021-11-23T19:55:42.010Z"
   },
   {
    "duration": 2262,
    "start_time": "2021-11-23T19:55:46.283Z"
   },
   {
    "duration": 1785,
    "start_time": "2021-11-23T19:56:40.277Z"
   },
   {
    "duration": 1760,
    "start_time": "2021-11-23T20:03:07.920Z"
   },
   {
    "duration": 2753,
    "start_time": "2021-11-23T20:03:13.083Z"
   },
   {
    "duration": 2091,
    "start_time": "2021-11-23T20:03:32.992Z"
   },
   {
    "duration": 2116,
    "start_time": "2021-11-23T20:04:39.402Z"
   },
   {
    "duration": 2006,
    "start_time": "2021-11-23T20:05:51.082Z"
   },
   {
    "duration": 1875,
    "start_time": "2021-11-23T20:06:41.656Z"
   },
   {
    "duration": 61,
    "start_time": "2021-11-23T20:10:56.924Z"
   },
   {
    "duration": 55,
    "start_time": "2021-11-23T20:13:56.988Z"
   },
   {
    "duration": 12,
    "start_time": "2021-11-23T20:14:20.768Z"
   },
   {
    "duration": 9,
    "start_time": "2021-11-23T20:19:10.688Z"
   },
   {
    "duration": 28,
    "start_time": "2021-11-23T20:29:11.902Z"
   },
   {
    "duration": 8,
    "start_time": "2021-11-23T21:05:35.725Z"
   },
   {
    "duration": 8,
    "start_time": "2021-11-23T21:06:33.658Z"
   },
   {
    "duration": 7,
    "start_time": "2021-11-23T21:06:44.075Z"
   },
   {
    "duration": 3,
    "start_time": "2021-11-23T21:28:46.840Z"
   },
   {
    "duration": 3,
    "start_time": "2021-11-23T21:48:15.506Z"
   },
   {
    "duration": 3,
    "start_time": "2021-11-23T21:49:01.553Z"
   },
   {
    "duration": 78,
    "start_time": "2021-11-23T21:49:05.259Z"
   },
   {
    "duration": 3,
    "start_time": "2021-11-23T21:49:33.386Z"
   },
   {
    "duration": 102,
    "start_time": "2021-11-23T21:49:37.104Z"
   },
   {
    "duration": 7,
    "start_time": "2021-11-23T21:51:43.090Z"
   },
   {
    "duration": 7,
    "start_time": "2021-11-23T21:51:51.047Z"
   },
   {
    "duration": 3,
    "start_time": "2021-11-23T21:51:54.295Z"
   },
   {
    "duration": 8,
    "start_time": "2021-11-23T21:52:42.853Z"
   },
   {
    "duration": 9,
    "start_time": "2021-11-23T22:03:52.697Z"
   },
   {
    "duration": 8,
    "start_time": "2021-11-23T22:04:05.226Z"
   },
   {
    "duration": 4,
    "start_time": "2021-11-23T22:04:16.325Z"
   },
   {
    "duration": 8,
    "start_time": "2021-11-23T22:04:18.701Z"
   },
   {
    "duration": 4,
    "start_time": "2021-11-23T22:04:43.672Z"
   },
   {
    "duration": 9,
    "start_time": "2021-11-23T22:04:43.755Z"
   },
   {
    "duration": 4,
    "start_time": "2021-11-23T22:04:56.036Z"
   },
   {
    "duration": 4,
    "start_time": "2021-11-23T22:05:19.987Z"
   },
   {
    "duration": 9,
    "start_time": "2021-11-23T22:05:22.361Z"
   },
   {
    "duration": 4,
    "start_time": "2021-11-23T22:05:28.059Z"
   },
   {
    "duration": 9,
    "start_time": "2021-11-23T22:05:30.529Z"
   },
   {
    "duration": 55,
    "start_time": "2021-11-23T22:05:52.493Z"
   },
   {
    "duration": 13,
    "start_time": "2021-11-23T22:05:56.465Z"
   },
   {
    "duration": 11,
    "start_time": "2021-11-23T22:06:33.659Z"
   },
   {
    "duration": 28,
    "start_time": "2021-11-23T22:07:00.977Z"
   },
   {
    "duration": 29,
    "start_time": "2021-11-23T22:07:07.571Z"
   },
   {
    "duration": 4,
    "start_time": "2021-11-23T22:07:52.168Z"
   },
   {
    "duration": 5,
    "start_time": "2021-11-23T22:07:58.465Z"
   },
   {
    "duration": 4,
    "start_time": "2021-11-23T22:08:00.640Z"
   },
   {
    "duration": 9,
    "start_time": "2021-11-23T22:08:04.428Z"
   },
   {
    "duration": 4,
    "start_time": "2021-11-23T22:08:26.432Z"
   },
   {
    "duration": 9,
    "start_time": "2021-11-23T22:08:29.054Z"
   },
   {
    "duration": 10,
    "start_time": "2021-11-23T22:23:06.214Z"
   },
   {
    "duration": 248,
    "start_time": "2021-11-23T22:26:34.932Z"
   },
   {
    "duration": 433,
    "start_time": "2021-11-24T07:12:34.791Z"
   },
   {
    "duration": 446,
    "start_time": "2021-11-24T07:12:59.716Z"
   },
   {
    "duration": 369,
    "start_time": "2021-11-24T07:13:10.139Z"
   },
   {
    "duration": 851,
    "start_time": "2021-11-24T07:13:27.505Z"
   },
   {
    "duration": 21,
    "start_time": "2021-11-24T07:13:28.359Z"
   },
   {
    "duration": 22,
    "start_time": "2021-11-24T07:13:28.384Z"
   },
   {
    "duration": 70,
    "start_time": "2021-11-24T07:13:28.409Z"
   },
   {
    "duration": 120,
    "start_time": "2021-11-24T07:13:28.481Z"
   },
   {
    "duration": -227,
    "start_time": "2021-11-24T07:13:28.831Z"
   },
   {
    "duration": -234,
    "start_time": "2021-11-24T07:13:28.839Z"
   },
   {
    "duration": -241,
    "start_time": "2021-11-24T07:13:28.847Z"
   },
   {
    "duration": -245,
    "start_time": "2021-11-24T07:13:28.853Z"
   },
   {
    "duration": -253,
    "start_time": "2021-11-24T07:13:28.862Z"
   },
   {
    "duration": -257,
    "start_time": "2021-11-24T07:13:28.868Z"
   },
   {
    "duration": -266,
    "start_time": "2021-11-24T07:13:28.878Z"
   },
   {
    "duration": -271,
    "start_time": "2021-11-24T07:13:28.885Z"
   },
   {
    "duration": 428,
    "start_time": "2021-11-24T07:13:44.828Z"
   },
   {
    "duration": 87,
    "start_time": "2021-11-24T07:13:51.047Z"
   },
   {
    "duration": 19,
    "start_time": "2021-11-24T07:13:55.818Z"
   },
   {
    "duration": 15,
    "start_time": "2021-11-24T07:13:59.341Z"
   },
   {
    "duration": 53,
    "start_time": "2021-11-24T07:14:03.740Z"
   },
   {
    "duration": 6,
    "start_time": "2021-11-24T07:14:25.340Z"
   },
   {
    "duration": 10,
    "start_time": "2021-11-24T07:14:27.390Z"
   },
   {
    "duration": 6,
    "start_time": "2021-11-24T07:14:29.254Z"
   },
   {
    "duration": 14,
    "start_time": "2021-11-24T07:14:33.218Z"
   },
   {
    "duration": 7,
    "start_time": "2021-11-24T07:14:37.704Z"
   },
   {
    "duration": 16,
    "start_time": "2021-11-24T07:14:40.556Z"
   },
   {
    "duration": 15,
    "start_time": "2021-11-24T07:14:44.403Z"
   },
   {
    "duration": 13,
    "start_time": "2021-11-24T07:16:12.319Z"
   },
   {
    "duration": 7,
    "start_time": "2021-11-24T07:16:16.573Z"
   },
   {
    "duration": 15,
    "start_time": "2021-11-24T07:16:27.873Z"
   },
   {
    "duration": 8,
    "start_time": "2021-11-24T08:00:12.449Z"
   },
   {
    "duration": 6,
    "start_time": "2021-11-24T08:01:10.524Z"
   },
   {
    "duration": 22,
    "start_time": "2021-11-24T08:02:26.179Z"
   },
   {
    "duration": 23,
    "start_time": "2021-11-24T08:05:18.544Z"
   },
   {
    "duration": -35,
    "start_time": "2021-11-24T08:05:39.975Z"
   },
   {
    "duration": 16,
    "start_time": "2021-11-24T08:05:42.313Z"
   },
   {
    "duration": 10955,
    "start_time": "2021-11-24T08:05:46.166Z"
   },
   {
    "duration": -28,
    "start_time": "2021-11-24T08:07:04.532Z"
   },
   {
    "duration": -30,
    "start_time": "2021-11-24T08:07:15.859Z"
   },
   {
    "duration": -55,
    "start_time": "2021-11-24T08:07:15.885Z"
   },
   {
    "duration": 14,
    "start_time": "2021-11-24T08:07:18.557Z"
   },
   {
    "duration": 11176,
    "start_time": "2021-11-24T08:07:20.756Z"
   },
   {
    "duration": 9215,
    "start_time": "2021-11-24T08:08:33.701Z"
   },
   {
    "duration": 78,
    "start_time": "2021-11-24T08:09:00.352Z"
   },
   {
    "duration": 27,
    "start_time": "2021-11-24T08:09:00.432Z"
   },
   {
    "duration": 15,
    "start_time": "2021-11-24T08:09:00.463Z"
   },
   {
    "duration": 53,
    "start_time": "2021-11-24T08:09:00.481Z"
   },
   {
    "duration": 5,
    "start_time": "2021-11-24T08:09:00.559Z"
   },
   {
    "duration": 13,
    "start_time": "2021-11-24T08:09:00.567Z"
   },
   {
    "duration": 19,
    "start_time": "2021-11-24T08:09:00.583Z"
   },
   {
    "duration": 34,
    "start_time": "2021-11-24T08:09:00.605Z"
   },
   {
    "duration": 12,
    "start_time": "2021-11-24T08:09:00.642Z"
   },
   {
    "duration": 34,
    "start_time": "2021-11-24T08:09:00.657Z"
   },
   {
    "duration": 27,
    "start_time": "2021-11-24T08:09:00.694Z"
   },
   {
    "duration": 16,
    "start_time": "2021-11-24T08:09:00.724Z"
   },
   {
    "duration": 24,
    "start_time": "2021-11-24T08:09:00.743Z"
   },
   {
    "duration": 26,
    "start_time": "2021-11-24T08:09:00.769Z"
   },
   {
    "duration": 22,
    "start_time": "2021-11-24T08:11:38.641Z"
   },
   {
    "duration": -33,
    "start_time": "2021-11-24T08:20:24.927Z"
   },
   {
    "duration": 82,
    "start_time": "2021-11-24T08:20:26.484Z"
   },
   {
    "duration": 19,
    "start_time": "2021-11-24T08:20:26.568Z"
   },
   {
    "duration": 22,
    "start_time": "2021-11-24T08:20:26.591Z"
   },
   {
    "duration": 77,
    "start_time": "2021-11-24T08:20:26.617Z"
   },
   {
    "duration": 7,
    "start_time": "2021-11-24T08:20:26.697Z"
   },
   {
    "duration": 12,
    "start_time": "2021-11-24T08:20:26.707Z"
   },
   {
    "duration": 42,
    "start_time": "2021-11-24T08:20:26.721Z"
   },
   {
    "duration": 24,
    "start_time": "2021-11-24T08:20:26.768Z"
   },
   {
    "duration": 16,
    "start_time": "2021-11-24T08:20:26.796Z"
   },
   {
    "duration": 14,
    "start_time": "2021-11-24T08:20:26.814Z"
   },
   {
    "duration": 37,
    "start_time": "2021-11-24T08:20:26.832Z"
   },
   {
    "duration": 8,
    "start_time": "2021-11-24T08:20:26.872Z"
   },
   {
    "duration": 18,
    "start_time": "2021-11-24T08:20:26.882Z"
   },
   {
    "duration": 65,
    "start_time": "2021-11-24T08:20:26.903Z"
   },
   {
    "duration": -29,
    "start_time": "2021-11-24T08:20:36.584Z"
   },
   {
    "duration": -32,
    "start_time": "2021-11-24T08:26:23.279Z"
   },
   {
    "duration": -43,
    "start_time": "2021-11-24T08:26:23.292Z"
   },
   {
    "duration": 9839,
    "start_time": "2021-11-24T08:26:28.930Z"
   },
   {
    "duration": -29,
    "start_time": "2021-11-24T08:26:38.801Z"
   },
   {
    "duration": -37,
    "start_time": "2021-11-24T08:26:38.811Z"
   },
   {
    "duration": 9802,
    "start_time": "2021-11-24T08:26:40.230Z"
   },
   {
    "duration": -74,
    "start_time": "2021-11-24T08:26:50.108Z"
   },
   {
    "duration": 79,
    "start_time": "2021-11-24T08:26:52.871Z"
   },
   {
    "duration": 19,
    "start_time": "2021-11-24T08:26:52.952Z"
   },
   {
    "duration": 23,
    "start_time": "2021-11-24T08:26:52.975Z"
   },
   {
    "duration": 74,
    "start_time": "2021-11-24T08:26:53.002Z"
   },
   {
    "duration": 6,
    "start_time": "2021-11-24T08:26:53.078Z"
   },
   {
    "duration": 10,
    "start_time": "2021-11-24T08:26:53.086Z"
   },
   {
    "duration": 6,
    "start_time": "2021-11-24T08:26:53.098Z"
   },
   {
    "duration": 13,
    "start_time": "2021-11-24T08:26:53.107Z"
   },
   {
    "duration": 6,
    "start_time": "2021-11-24T08:26:53.159Z"
   },
   {
    "duration": 15,
    "start_time": "2021-11-24T08:26:53.167Z"
   },
   {
    "duration": 14,
    "start_time": "2021-11-24T08:26:53.184Z"
   },
   {
    "duration": 8,
    "start_time": "2021-11-24T08:26:53.201Z"
   },
   {
    "duration": 54,
    "start_time": "2021-11-24T08:26:53.211Z"
   },
   {
    "duration": 27,
    "start_time": "2021-11-24T08:26:53.268Z"
   },
   {
    "duration": 9793,
    "start_time": "2021-11-24T08:26:53.298Z"
   },
   {
    "duration": 398,
    "start_time": "2021-11-24T08:27:35.929Z"
   },
   {
    "duration": 20,
    "start_time": "2021-11-24T08:27:56.085Z"
   },
   {
    "duration": 12,
    "start_time": "2021-11-24T08:29:13.435Z"
   },
   {
    "duration": 23,
    "start_time": "2021-11-24T08:52:40.728Z"
   },
   {
    "duration": 6,
    "start_time": "2021-11-24T09:03:06.427Z"
   },
   {
    "duration": 10,
    "start_time": "2021-11-24T09:06:10.191Z"
   },
   {
    "duration": 9,
    "start_time": "2021-11-24T09:06:21.058Z"
   },
   {
    "duration": 8,
    "start_time": "2021-11-24T09:10:24.864Z"
   },
   {
    "duration": 5,
    "start_time": "2021-11-24T09:10:33.816Z"
   },
   {
    "duration": 80,
    "start_time": "2021-11-24T09:10:41.036Z"
   },
   {
    "duration": 41,
    "start_time": "2021-11-24T09:10:41.119Z"
   },
   {
    "duration": 27,
    "start_time": "2021-11-24T09:10:41.163Z"
   },
   {
    "duration": 70,
    "start_time": "2021-11-24T09:10:41.193Z"
   },
   {
    "duration": 6,
    "start_time": "2021-11-24T09:10:41.266Z"
   },
   {
    "duration": 19,
    "start_time": "2021-11-24T09:10:41.274Z"
   },
   {
    "duration": 9,
    "start_time": "2021-11-24T09:10:41.296Z"
   },
   {
    "duration": 21,
    "start_time": "2021-11-24T09:10:41.309Z"
   },
   {
    "duration": 14,
    "start_time": "2021-11-24T09:10:41.333Z"
   },
   {
    "duration": 15,
    "start_time": "2021-11-24T09:10:41.359Z"
   },
   {
    "duration": 31,
    "start_time": "2021-11-24T09:10:41.376Z"
   },
   {
    "duration": 15,
    "start_time": "2021-11-24T09:10:41.409Z"
   },
   {
    "duration": 23,
    "start_time": "2021-11-24T09:10:41.427Z"
   },
   {
    "duration": 34,
    "start_time": "2021-11-24T09:10:41.453Z"
   },
   {
    "duration": 21,
    "start_time": "2021-11-24T09:10:41.490Z"
   },
   {
    "duration": 17,
    "start_time": "2021-11-24T09:10:41.514Z"
   },
   {
    "duration": 35,
    "start_time": "2021-11-24T09:10:41.534Z"
   },
   {
    "duration": 5,
    "start_time": "2021-11-24T09:10:41.572Z"
   },
   {
    "duration": 16,
    "start_time": "2021-11-24T09:10:41.579Z"
   },
   {
    "duration": 26,
    "start_time": "2021-11-24T09:10:41.597Z"
   },
   {
    "duration": 7,
    "start_time": "2021-11-24T09:10:41.626Z"
   },
   {
    "duration": 8,
    "start_time": "2021-11-24T09:14:22.340Z"
   },
   {
    "duration": 5,
    "start_time": "2021-11-24T09:15:02.150Z"
   },
   {
    "duration": 7,
    "start_time": "2021-11-24T09:15:49.822Z"
   },
   {
    "duration": 11,
    "start_time": "2021-11-24T09:21:54.025Z"
   },
   {
    "duration": 9,
    "start_time": "2021-11-24T09:33:34.019Z"
   },
   {
    "duration": 5,
    "start_time": "2021-11-24T09:37:29.845Z"
   },
   {
    "duration": 8,
    "start_time": "2021-11-24T09:38:12.197Z"
   },
   {
    "duration": 8,
    "start_time": "2021-11-24T09:39:14.169Z"
   },
   {
    "duration": 8,
    "start_time": "2021-11-24T09:39:25.076Z"
   },
   {
    "duration": 6,
    "start_time": "2021-11-24T09:40:23.727Z"
   },
   {
    "duration": 3,
    "start_time": "2021-11-24T09:44:28.117Z"
   },
   {
    "duration": 12,
    "start_time": "2021-11-24T09:44:55.667Z"
   },
   {
    "duration": 3,
    "start_time": "2021-11-24T09:52:07.358Z"
   },
   {
    "duration": 11,
    "start_time": "2021-11-24T09:53:01.065Z"
   },
   {
    "duration": 993,
    "start_time": "2021-11-25T18:34:35.384Z"
   },
   {
    "duration": 342,
    "start_time": "2021-11-25T18:34:42.251Z"
   },
   {
    "duration": 901,
    "start_time": "2021-11-25T18:34:48.484Z"
   },
   {
    "duration": 19,
    "start_time": "2021-11-25T18:34:49.388Z"
   },
   {
    "duration": 15,
    "start_time": "2021-11-25T18:34:49.410Z"
   },
   {
    "duration": 76,
    "start_time": "2021-11-25T18:34:49.428Z"
   },
   {
    "duration": 6,
    "start_time": "2021-11-25T18:34:49.507Z"
   },
   {
    "duration": 11,
    "start_time": "2021-11-25T18:34:49.515Z"
   },
   {
    "duration": 5,
    "start_time": "2021-11-25T18:34:49.528Z"
   },
   {
    "duration": 12,
    "start_time": "2021-11-25T18:34:49.537Z"
   },
   {
    "duration": 49,
    "start_time": "2021-11-25T18:34:49.551Z"
   },
   {
    "duration": 12,
    "start_time": "2021-11-25T18:34:49.603Z"
   },
   {
    "duration": 16,
    "start_time": "2021-11-25T18:34:49.617Z"
   },
   {
    "duration": 7,
    "start_time": "2021-11-25T18:34:49.635Z"
   },
   {
    "duration": 20,
    "start_time": "2021-11-25T18:34:49.644Z"
   },
   {
    "duration": 39,
    "start_time": "2021-11-25T18:34:49.701Z"
   },
   {
    "duration": 21,
    "start_time": "2021-11-25T18:34:49.742Z"
   },
   {
    "duration": 12,
    "start_time": "2021-11-25T18:34:49.766Z"
   },
   {
    "duration": 36,
    "start_time": "2021-11-25T18:34:49.781Z"
   },
   {
    "duration": 6,
    "start_time": "2021-11-25T18:34:49.820Z"
   },
   {
    "duration": 11,
    "start_time": "2021-11-25T18:34:49.828Z"
   },
   {
    "duration": 8,
    "start_time": "2021-11-25T18:34:49.842Z"
   },
   {
    "duration": 14,
    "start_time": "2021-11-25T18:34:49.853Z"
   },
   {
    "duration": 8,
    "start_time": "2021-11-25T18:34:49.900Z"
   },
   {
    "duration": 10,
    "start_time": "2021-11-25T18:34:49.912Z"
   },
   {
    "duration": 5,
    "start_time": "2021-11-25T18:34:49.924Z"
   },
   {
    "duration": 13,
    "start_time": "2021-11-25T18:34:49.932Z"
   },
   {
    "duration": 9,
    "start_time": "2021-11-25T18:34:49.948Z"
   },
   {
    "duration": 13,
    "start_time": "2021-11-25T18:34:50.000Z"
   },
   {
    "duration": 13,
    "start_time": "2021-11-25T18:34:50.017Z"
   },
   {
    "duration": 10,
    "start_time": "2021-11-25T18:34:50.032Z"
   },
   {
    "duration": 57,
    "start_time": "2021-11-25T18:34:50.045Z"
   },
   {
    "duration": 9,
    "start_time": "2021-11-25T18:56:13.052Z"
   },
   {
    "duration": 6,
    "start_time": "2021-11-25T19:00:00.972Z"
   },
   {
    "duration": 9,
    "start_time": "2021-11-25T19:08:28.153Z"
   },
   {
    "duration": 9,
    "start_time": "2021-11-25T19:08:45.478Z"
   },
   {
    "duration": 7,
    "start_time": "2021-11-25T19:09:43.421Z"
   },
   {
    "duration": 8,
    "start_time": "2021-11-25T19:15:23.776Z"
   },
   {
    "duration": 9,
    "start_time": "2021-11-25T19:18:31.228Z"
   },
   {
    "duration": 447,
    "start_time": "2021-11-25T19:18:57.365Z"
   },
   {
    "duration": 9,
    "start_time": "2021-11-25T19:19:08.758Z"
   },
   {
    "duration": 6,
    "start_time": "2021-11-25T19:25:05.465Z"
   },
   {
    "duration": 366,
    "start_time": "2021-11-25T19:25:40.849Z"
   },
   {
    "duration": 5,
    "start_time": "2021-11-25T19:25:54.111Z"
   },
   {
    "duration": 441,
    "start_time": "2021-11-25T19:28:15.626Z"
   },
   {
    "duration": 347,
    "start_time": "2021-11-25T19:28:40.609Z"
   },
   {
    "duration": 369,
    "start_time": "2021-11-25T19:29:10.338Z"
   },
   {
    "duration": 343,
    "start_time": "2021-11-25T19:29:16.269Z"
   },
   {
    "duration": 8,
    "start_time": "2021-11-25T19:29:25.744Z"
   },
   {
    "duration": 8,
    "start_time": "2021-11-25T19:29:39.352Z"
   },
   {
    "duration": 360,
    "start_time": "2021-11-25T19:30:40.063Z"
   },
   {
    "duration": 6,
    "start_time": "2021-11-25T19:30:54.737Z"
   },
   {
    "duration": 2210,
    "start_time": "2021-11-25T19:31:27.021Z"
   },
   {
    "duration": 347,
    "start_time": "2021-11-25T19:42:40.905Z"
   },
   {
    "duration": 9,
    "start_time": "2021-11-25T19:42:52.861Z"
   },
   {
    "duration": 379,
    "start_time": "2021-11-25T19:43:54.753Z"
   },
   {
    "duration": 355,
    "start_time": "2021-11-25T19:44:01.989Z"
   },
   {
    "duration": 396,
    "start_time": "2021-11-25T19:45:01.907Z"
   },
   {
    "duration": 24,
    "start_time": "2021-11-25T19:49:47.938Z"
   },
   {
    "duration": 10,
    "start_time": "2021-11-25T19:51:10.245Z"
   },
   {
    "duration": 23,
    "start_time": "2021-11-25T19:54:53.827Z"
   },
   {
    "duration": 116,
    "start_time": "2021-11-25T20:00:29.590Z"
   },
   {
    "duration": 27,
    "start_time": "2021-11-25T20:01:52.389Z"
   },
   {
    "duration": 24,
    "start_time": "2021-11-25T20:02:34.481Z"
   },
   {
    "duration": 8,
    "start_time": "2021-11-25T20:15:51.821Z"
   },
   {
    "duration": 354,
    "start_time": "2021-11-25T20:22:39.897Z"
   },
   {
    "duration": 8,
    "start_time": "2021-11-25T20:22:51.133Z"
   },
   {
    "duration": 960,
    "start_time": "2021-11-25T20:23:09.656Z"
   },
   {
    "duration": 978,
    "start_time": "2021-11-25T20:23:13.645Z"
   },
   {
    "duration": 7,
    "start_time": "2021-11-25T20:23:28.463Z"
   },
   {
    "duration": 6,
    "start_time": "2021-11-25T20:24:20.453Z"
   },
   {
    "duration": 5,
    "start_time": "2021-11-25T20:24:26.989Z"
   },
   {
    "duration": 9,
    "start_time": "2021-11-25T20:24:39.231Z"
   },
   {
    "duration": 381,
    "start_time": "2021-11-25T20:37:50.649Z"
   },
   {
    "duration": 4,
    "start_time": "2021-11-25T20:39:04.260Z"
   },
   {
    "duration": 3,
    "start_time": "2021-11-25T20:39:07.341Z"
   },
   {
    "duration": 529,
    "start_time": "2021-11-25T20:39:09.682Z"
   },
   {
    "duration": 354,
    "start_time": "2021-11-25T20:39:45.071Z"
   },
   {
    "duration": 441,
    "start_time": "2021-11-25T20:48:06.879Z"
   },
   {
    "duration": 8,
    "start_time": "2021-11-25T20:51:41.257Z"
   },
   {
    "duration": 4,
    "start_time": "2021-11-25T20:54:09.178Z"
   },
   {
    "duration": 945,
    "start_time": "2021-11-25T20:54:24.777Z"
   },
   {
    "duration": 5,
    "start_time": "2021-11-25T20:54:44.349Z"
   },
   {
    "duration": 6,
    "start_time": "2021-11-25T20:55:45.965Z"
   },
   {
    "duration": 132,
    "start_time": "2021-11-25T20:58:04.946Z"
   },
   {
    "duration": 119,
    "start_time": "2021-11-25T20:58:19.108Z"
   },
   {
    "duration": 4,
    "start_time": "2021-11-25T20:58:29.287Z"
   },
   {
    "duration": 395,
    "start_time": "2021-11-25T21:02:10.656Z"
   },
   {
    "duration": 363,
    "start_time": "2021-11-25T21:04:04.173Z"
   },
   {
    "duration": 62,
    "start_time": "2021-11-25T21:04:22.991Z"
   },
   {
    "duration": 8,
    "start_time": "2021-11-25T21:05:23.977Z"
   },
   {
    "duration": 7,
    "start_time": "2021-11-25T21:06:06.689Z"
   },
   {
    "duration": 4,
    "start_time": "2021-11-25T21:06:12.060Z"
   },
   {
    "duration": 7,
    "start_time": "2021-11-25T21:06:14.378Z"
   },
   {
    "duration": 2411,
    "start_time": "2021-11-25T21:06:30.792Z"
   },
   {
    "duration": 2220,
    "start_time": "2021-11-25T21:07:12.663Z"
   },
   {
    "duration": 2215,
    "start_time": "2021-11-25T21:07:15.409Z"
   },
   {
    "duration": 24,
    "start_time": "2021-11-25T21:08:48.593Z"
   },
   {
    "duration": 308,
    "start_time": "2021-11-26T07:55:51.732Z"
   },
   {
    "duration": 238,
    "start_time": "2021-11-26T07:56:04.092Z"
   },
   {
    "duration": 7,
    "start_time": "2021-11-26T07:56:14.300Z"
   },
   {
    "duration": 273,
    "start_time": "2021-11-26T07:56:17.069Z"
   },
   {
    "duration": 259,
    "start_time": "2021-11-26T07:56:18.930Z"
   },
   {
    "duration": 870,
    "start_time": "2021-11-26T07:56:22.362Z"
   },
   {
    "duration": 19,
    "start_time": "2021-11-26T07:56:23.236Z"
   },
   {
    "duration": 16,
    "start_time": "2021-11-26T07:56:23.258Z"
   },
   {
    "duration": 76,
    "start_time": "2021-11-26T07:56:23.276Z"
   },
   {
    "duration": 5,
    "start_time": "2021-11-26T07:56:23.354Z"
   },
   {
    "duration": 17,
    "start_time": "2021-11-26T07:56:23.361Z"
   },
   {
    "duration": 6,
    "start_time": "2021-11-26T07:56:23.381Z"
   },
   {
    "duration": 51,
    "start_time": "2021-11-26T07:56:23.393Z"
   },
   {
    "duration": 7,
    "start_time": "2021-11-26T07:56:23.448Z"
   },
   {
    "duration": 18,
    "start_time": "2021-11-26T07:56:23.458Z"
   },
   {
    "duration": 15,
    "start_time": "2021-11-26T07:56:23.478Z"
   },
   {
    "duration": 7,
    "start_time": "2021-11-26T07:56:23.530Z"
   },
   {
    "duration": 17,
    "start_time": "2021-11-26T07:56:23.539Z"
   },
   {
    "duration": 35,
    "start_time": "2021-11-26T07:56:23.559Z"
   },
   {
    "duration": 49,
    "start_time": "2021-11-26T07:56:23.596Z"
   },
   {
    "duration": 10,
    "start_time": "2021-11-26T07:56:23.648Z"
   },
   {
    "duration": 23,
    "start_time": "2021-11-26T07:56:23.661Z"
   },
   {
    "duration": 44,
    "start_time": "2021-11-26T07:56:23.686Z"
   },
   {
    "duration": 7,
    "start_time": "2021-11-26T07:56:23.733Z"
   },
   {
    "duration": 6,
    "start_time": "2021-11-26T07:56:23.742Z"
   },
   {
    "duration": 7,
    "start_time": "2021-11-26T07:56:23.750Z"
   },
   {
    "duration": 11,
    "start_time": "2021-11-26T07:56:23.759Z"
   },
   {
    "duration": 54,
    "start_time": "2021-11-26T07:56:23.775Z"
   },
   {
    "duration": 5,
    "start_time": "2021-11-26T07:56:23.832Z"
   },
   {
    "duration": 8,
    "start_time": "2021-11-26T07:56:23.839Z"
   },
   {
    "duration": 6,
    "start_time": "2021-11-26T07:56:23.849Z"
   },
   {
    "duration": 11,
    "start_time": "2021-11-26T07:56:23.858Z"
   },
   {
    "duration": 59,
    "start_time": "2021-11-26T07:56:23.871Z"
   },
   {
    "duration": 8,
    "start_time": "2021-11-26T07:56:23.932Z"
   },
   {
    "duration": 14,
    "start_time": "2021-11-26T07:56:23.942Z"
   },
   {
    "duration": 8,
    "start_time": "2021-11-26T07:56:23.959Z"
   },
   {
    "duration": 6,
    "start_time": "2021-11-26T07:56:23.969Z"
   },
   {
    "duration": 54,
    "start_time": "2021-11-26T07:56:23.977Z"
   },
   {
    "duration": 7,
    "start_time": "2021-11-26T07:56:24.033Z"
   },
   {
    "duration": 9,
    "start_time": "2021-11-26T07:56:24.042Z"
   },
   {
    "duration": 11,
    "start_time": "2021-11-26T07:56:24.053Z"
   },
   {
    "duration": 28,
    "start_time": "2021-11-26T07:56:24.066Z"
   },
   {
    "duration": 25,
    "start_time": "2021-11-26T07:56:24.128Z"
   },
   {
    "duration": 22,
    "start_time": "2021-11-26T07:56:24.156Z"
   },
   {
    "duration": 5,
    "start_time": "2021-11-26T07:56:24.180Z"
   },
   {
    "duration": 14,
    "start_time": "2021-11-26T07:56:24.187Z"
   },
   {
    "duration": 3207,
    "start_time": "2021-11-26T07:56:24.204Z"
   },
   {
    "duration": 28,
    "start_time": "2021-11-26T07:56:27.413Z"
   },
   {
    "duration": 307,
    "start_time": "2021-11-26T08:04:35.810Z"
   },
   {
    "duration": 5108,
    "start_time": "2021-11-26T08:13:27.475Z"
   },
   {
    "duration": 535,
    "start_time": "2021-11-26T08:13:36.255Z"
   },
   {
    "duration": 707,
    "start_time": "2021-11-26T08:14:38.812Z"
   },
   {
    "duration": 474,
    "start_time": "2021-11-26T08:15:21.975Z"
   },
   {
    "duration": 1864,
    "start_time": "2021-11-26T08:18:39.970Z"
   },
   {
    "duration": 1212,
    "start_time": "2021-11-26T08:18:44.983Z"
   },
   {
    "duration": 1145,
    "start_time": "2021-11-26T08:19:19.433Z"
   },
   {
    "duration": 19,
    "start_time": "2021-11-26T11:49:42.034Z"
   },
   {
    "duration": 80,
    "start_time": "2021-11-26T11:51:40.051Z"
   },
   {
    "duration": 18,
    "start_time": "2021-11-26T11:51:40.133Z"
   },
   {
    "duration": 20,
    "start_time": "2021-11-26T11:51:40.154Z"
   },
   {
    "duration": 80,
    "start_time": "2021-11-26T11:51:40.176Z"
   },
   {
    "duration": 5,
    "start_time": "2021-11-26T11:51:40.258Z"
   },
   {
    "duration": 14,
    "start_time": "2021-11-26T11:51:40.265Z"
   },
   {
    "duration": 7,
    "start_time": "2021-11-26T11:51:40.281Z"
   },
   {
    "duration": 46,
    "start_time": "2021-11-26T11:51:40.291Z"
   },
   {
    "duration": 5,
    "start_time": "2021-11-26T11:51:40.340Z"
   },
   {
    "duration": 14,
    "start_time": "2021-11-26T11:51:40.347Z"
   },
   {
    "duration": 18,
    "start_time": "2021-11-26T11:51:40.363Z"
   },
   {
    "duration": 11,
    "start_time": "2021-11-26T11:51:40.383Z"
   },
   {
    "duration": 16,
    "start_time": "2021-11-26T11:51:40.430Z"
   },
   {
    "duration": 25,
    "start_time": "2021-11-26T11:51:40.448Z"
   },
   {
    "duration": 55,
    "start_time": "2021-11-26T11:51:40.475Z"
   },
   {
    "duration": 11,
    "start_time": "2021-11-26T11:51:40.533Z"
   },
   {
    "duration": 24,
    "start_time": "2021-11-26T11:51:40.547Z"
   },
   {
    "duration": 6,
    "start_time": "2021-11-26T11:51:40.574Z"
   },
   {
    "duration": 52,
    "start_time": "2021-11-26T11:51:40.583Z"
   },
   {
    "duration": 11,
    "start_time": "2021-11-26T11:51:40.637Z"
   },
   {
    "duration": 11,
    "start_time": "2021-11-26T11:51:40.650Z"
   },
   {
    "duration": 10,
    "start_time": "2021-11-26T11:51:40.664Z"
   },
   {
    "duration": 49,
    "start_time": "2021-11-26T11:51:40.681Z"
   },
   {
    "duration": 6,
    "start_time": "2021-11-26T11:51:40.734Z"
   },
   {
    "duration": 13,
    "start_time": "2021-11-26T11:51:40.743Z"
   },
   {
    "duration": 12,
    "start_time": "2021-11-26T11:51:40.758Z"
   },
   {
    "duration": 11,
    "start_time": "2021-11-26T11:51:40.773Z"
   },
   {
    "duration": 47,
    "start_time": "2021-11-26T11:51:40.786Z"
   },
   {
    "duration": 7,
    "start_time": "2021-11-26T11:51:40.835Z"
   },
   {
    "duration": 11,
    "start_time": "2021-11-26T11:51:40.844Z"
   },
   {
    "duration": 8,
    "start_time": "2021-11-26T11:51:40.858Z"
   },
   {
    "duration": 9,
    "start_time": "2021-11-26T11:51:40.868Z"
   },
   {
    "duration": 51,
    "start_time": "2021-11-26T11:51:40.879Z"
   },
   {
    "duration": 8,
    "start_time": "2021-11-26T11:51:40.933Z"
   },
   {
    "duration": 11,
    "start_time": "2021-11-26T11:51:40.943Z"
   },
   {
    "duration": 13,
    "start_time": "2021-11-26T11:51:40.956Z"
   },
   {
    "duration": 26,
    "start_time": "2021-11-26T11:51:40.972Z"
   },
   {
    "duration": 51,
    "start_time": "2021-11-26T11:51:41.000Z"
   },
   {
    "duration": 23,
    "start_time": "2021-11-26T11:51:41.054Z"
   },
   {
    "duration": 51,
    "start_time": "2021-11-26T11:51:41.079Z"
   },
   {
    "duration": 5,
    "start_time": "2021-11-26T11:51:41.133Z"
   },
   {
    "duration": 12,
    "start_time": "2021-11-26T11:51:41.142Z"
   },
   {
    "duration": 4826,
    "start_time": "2021-11-26T11:51:41.156Z"
   },
   {
    "duration": 23,
    "start_time": "2021-11-26T11:51:45.985Z"
   },
   {
    "duration": 4996,
    "start_time": "2021-11-26T11:51:46.031Z"
   },
   {
    "duration": 3998,
    "start_time": "2021-11-26T11:54:52.437Z"
   },
   {
    "duration": 233,
    "start_time": "2021-11-26T17:30:22.393Z"
   },
   {
    "duration": 670,
    "start_time": "2021-11-26T17:30:30.098Z"
   },
   {
    "duration": 14,
    "start_time": "2021-11-26T17:30:30.771Z"
   },
   {
    "duration": 14,
    "start_time": "2021-11-26T17:30:30.787Z"
   },
   {
    "duration": 32,
    "start_time": "2021-11-26T17:30:30.803Z"
   },
   {
    "duration": 3,
    "start_time": "2021-11-26T17:30:30.837Z"
   },
   {
    "duration": 16,
    "start_time": "2021-11-26T17:30:30.842Z"
   },
   {
    "duration": 4,
    "start_time": "2021-11-26T17:30:30.859Z"
   },
   {
    "duration": 32,
    "start_time": "2021-11-26T17:30:30.865Z"
   },
   {
    "duration": 5,
    "start_time": "2021-11-26T17:30:30.899Z"
   },
   {
    "duration": 13,
    "start_time": "2021-11-26T17:30:30.906Z"
   },
   {
    "duration": 19,
    "start_time": "2021-11-26T17:30:30.921Z"
   },
   {
    "duration": 4,
    "start_time": "2021-11-26T17:30:30.941Z"
   },
   {
    "duration": 15,
    "start_time": "2021-11-26T17:30:30.947Z"
   },
   {
    "duration": 32,
    "start_time": "2021-11-26T17:30:30.964Z"
   },
   {
    "duration": 14,
    "start_time": "2021-11-26T17:30:30.997Z"
   },
   {
    "duration": 31,
    "start_time": "2021-11-26T17:30:31.012Z"
   },
   {
    "duration": 34,
    "start_time": "2021-11-26T17:30:31.045Z"
   },
   {
    "duration": 4,
    "start_time": "2021-11-26T17:30:31.080Z"
   },
   {
    "duration": 14,
    "start_time": "2021-11-26T17:30:31.085Z"
   },
   {
    "duration": 4,
    "start_time": "2021-11-26T17:30:31.101Z"
   },
   {
    "duration": 10,
    "start_time": "2021-11-26T17:30:31.107Z"
   },
   {
    "duration": 15,
    "start_time": "2021-11-26T17:30:31.118Z"
   },
   {
    "duration": 11,
    "start_time": "2021-11-26T17:30:31.136Z"
   },
   {
    "duration": 10,
    "start_time": "2021-11-26T17:30:31.149Z"
   },
   {
    "duration": 8,
    "start_time": "2021-11-26T17:30:31.161Z"
   },
   {
    "duration": 11,
    "start_time": "2021-11-26T17:30:31.170Z"
   },
   {
    "duration": 8,
    "start_time": "2021-11-26T17:30:31.183Z"
   },
   {
    "duration": 12,
    "start_time": "2021-11-26T17:30:31.193Z"
   },
   {
    "duration": 7,
    "start_time": "2021-11-26T17:30:31.206Z"
   },
   {
    "duration": 8,
    "start_time": "2021-11-26T17:30:31.215Z"
   },
   {
    "duration": 9,
    "start_time": "2021-11-26T17:30:31.224Z"
   },
   {
    "duration": 10,
    "start_time": "2021-11-26T17:30:31.234Z"
   },
   {
    "duration": 6,
    "start_time": "2021-11-26T17:30:31.245Z"
   },
   {
    "duration": 13,
    "start_time": "2021-11-26T17:30:31.253Z"
   },
   {
    "duration": 12,
    "start_time": "2021-11-26T17:30:31.267Z"
   },
   {
    "duration": 8,
    "start_time": "2021-11-26T17:30:31.291Z"
   },
   {
    "duration": 19,
    "start_time": "2021-11-26T17:30:31.300Z"
   },
   {
    "duration": 19,
    "start_time": "2021-11-26T17:30:31.321Z"
   },
   {
    "duration": 15,
    "start_time": "2021-11-26T17:30:31.342Z"
   },
   {
    "duration": 9,
    "start_time": "2021-11-26T17:30:31.359Z"
   },
   {
    "duration": 4,
    "start_time": "2021-11-26T17:30:31.392Z"
   },
   {
    "duration": 12,
    "start_time": "2021-11-26T17:30:31.398Z"
   },
   {
    "duration": 2329,
    "start_time": "2021-11-26T17:30:31.412Z"
   },
   {
    "duration": 14,
    "start_time": "2021-11-26T17:30:33.743Z"
   },
   {
    "duration": 2701,
    "start_time": "2021-11-26T17:30:33.758Z"
   },
   {
    "duration": 6,
    "start_time": "2021-11-26T17:30:36.461Z"
   },
   {
    "duration": 10,
    "start_time": "2021-11-26T17:33:57.514Z"
   },
   {
    "duration": 2689,
    "start_time": "2021-11-26T18:03:06.952Z"
   },
   {
    "duration": 2908,
    "start_time": "2021-11-26T18:03:11.029Z"
   },
   {
    "duration": 2774,
    "start_time": "2021-11-26T18:03:14.480Z"
   },
   {
    "duration": 6,
    "start_time": "2021-11-26T18:03:27.032Z"
   },
   {
    "duration": 13,
    "start_time": "2021-11-26T18:12:50.201Z"
   },
   {
    "duration": 61,
    "start_time": "2021-11-26T18:54:29.375Z"
   },
   {
    "duration": 57,
    "start_time": "2021-11-26T18:55:01.788Z"
   },
   {
    "duration": 60,
    "start_time": "2021-11-26T18:55:05.851Z"
   },
   {
    "duration": 60,
    "start_time": "2021-11-26T18:55:20.984Z"
   },
   {
    "duration": 58,
    "start_time": "2021-11-26T18:56:39.100Z"
   },
   {
    "duration": 59,
    "start_time": "2021-11-26T18:57:10.132Z"
   },
   {
    "duration": 56,
    "start_time": "2021-11-26T18:58:49.201Z"
   },
   {
    "duration": 3,
    "start_time": "2021-11-26T19:00:43.465Z"
   },
   {
    "duration": 4,
    "start_time": "2021-11-26T19:02:39.632Z"
   },
   {
    "duration": 3,
    "start_time": "2021-11-26T19:03:32.425Z"
   },
   {
    "duration": 4,
    "start_time": "2021-11-26T19:04:08.206Z"
   },
   {
    "duration": 23,
    "start_time": "2021-11-26T19:10:13.400Z"
   },
   {
    "duration": 14,
    "start_time": "2021-11-26T19:12:01.506Z"
   },
   {
    "duration": 7,
    "start_time": "2021-11-26T19:13:53.817Z"
   },
   {
    "duration": 8,
    "start_time": "2021-11-26T19:29:03.347Z"
   },
   {
    "duration": 9,
    "start_time": "2021-11-26T19:35:52.877Z"
   },
   {
    "duration": 13,
    "start_time": "2021-11-26T19:41:26.597Z"
   },
   {
    "duration": 10,
    "start_time": "2021-11-26T19:58:40.099Z"
   },
   {
    "duration": 3,
    "start_time": "2021-11-26T20:04:05.791Z"
   },
   {
    "duration": 369,
    "start_time": "2021-11-26T20:06:13.629Z"
   },
   {
    "duration": 3,
    "start_time": "2021-11-26T20:07:04.175Z"
   },
   {
    "duration": 4,
    "start_time": "2021-11-26T20:07:07.384Z"
   },
   {
    "duration": 3,
    "start_time": "2021-11-26T20:07:51.608Z"
   },
   {
    "duration": 3,
    "start_time": "2021-11-26T20:08:39.307Z"
   },
   {
    "duration": 32,
    "start_time": "2021-11-26T20:11:36.776Z"
   },
   {
    "duration": 181,
    "start_time": "2021-11-26T20:29:15.117Z"
   },
   {
    "duration": 177,
    "start_time": "2021-11-26T20:29:53.608Z"
   },
   {
    "duration": 177,
    "start_time": "2021-11-26T20:35:45.418Z"
   },
   {
    "duration": 173,
    "start_time": "2021-11-26T20:35:58.665Z"
   },
   {
    "duration": 4,
    "start_time": "2021-11-26T20:36:11.147Z"
   },
   {
    "duration": 16,
    "start_time": "2021-11-26T20:36:35.139Z"
   },
   {
    "duration": 10,
    "start_time": "2021-11-26T20:36:49.239Z"
   },
   {
    "duration": 173,
    "start_time": "2021-11-26T20:39:25.019Z"
   },
   {
    "duration": 196,
    "start_time": "2021-11-26T20:40:13.685Z"
   },
   {
    "duration": 13,
    "start_time": "2021-11-26T20:40:26.702Z"
   },
   {
    "duration": 63,
    "start_time": "2021-11-26T20:41:53.622Z"
   },
   {
    "duration": 11,
    "start_time": "2021-11-26T20:59:48.197Z"
   },
   {
    "duration": 9,
    "start_time": "2021-11-26T21:00:17.994Z"
   },
   {
    "duration": 7,
    "start_time": "2021-11-26T21:14:32.417Z"
   },
   {
    "duration": 5,
    "start_time": "2021-11-26T21:15:14.491Z"
   },
   {
    "duration": 198,
    "start_time": "2021-11-26T21:20:03.727Z"
   },
   {
    "duration": 6,
    "start_time": "2021-11-26T21:20:24.934Z"
   },
   {
    "duration": 173,
    "start_time": "2021-11-26T21:21:55.680Z"
   },
   {
    "duration": 21,
    "start_time": "2021-11-26T21:22:52.317Z"
   },
   {
    "duration": 8,
    "start_time": "2021-11-26T21:26:17.626Z"
   },
   {
    "duration": 4,
    "start_time": "2021-11-26T21:26:49.298Z"
   },
   {
    "duration": 179,
    "start_time": "2021-11-26T21:27:18.700Z"
   },
   {
    "duration": 18,
    "start_time": "2021-11-26T21:28:10.155Z"
   },
   {
    "duration": 9,
    "start_time": "2021-11-26T21:30:48.810Z"
   },
   {
    "duration": 5,
    "start_time": "2021-11-26T21:31:14.671Z"
   },
   {
    "duration": 185,
    "start_time": "2021-11-26T21:31:44.525Z"
   },
   {
    "duration": 21,
    "start_time": "2021-11-26T21:32:24.600Z"
   },
   {
    "duration": 8,
    "start_time": "2021-11-26T21:33:00.819Z"
   },
   {
    "duration": 102,
    "start_time": "2021-11-27T08:52:41.496Z"
   },
   {
    "duration": 352,
    "start_time": "2021-11-27T08:53:29.513Z"
   },
   {
    "duration": 874,
    "start_time": "2021-11-27T08:53:38.617Z"
   },
   {
    "duration": 19,
    "start_time": "2021-11-27T08:53:39.494Z"
   },
   {
    "duration": 17,
    "start_time": "2021-11-27T08:53:39.516Z"
   },
   {
    "duration": 73,
    "start_time": "2021-11-27T08:53:39.536Z"
   },
   {
    "duration": 7,
    "start_time": "2021-11-27T08:53:39.611Z"
   },
   {
    "duration": 15,
    "start_time": "2021-11-27T08:53:39.620Z"
   },
   {
    "duration": 32,
    "start_time": "2021-11-27T08:53:39.637Z"
   },
   {
    "duration": 19,
    "start_time": "2021-11-27T08:53:39.674Z"
   },
   {
    "duration": 5,
    "start_time": "2021-11-27T08:53:39.697Z"
   },
   {
    "duration": 17,
    "start_time": "2021-11-27T08:53:39.705Z"
   },
   {
    "duration": 51,
    "start_time": "2021-11-27T08:53:39.724Z"
   },
   {
    "duration": 7,
    "start_time": "2021-11-27T08:53:39.778Z"
   },
   {
    "duration": 22,
    "start_time": "2021-11-27T08:53:39.787Z"
   },
   {
    "duration": 27,
    "start_time": "2021-11-27T08:53:39.811Z"
   },
   {
    "duration": 41,
    "start_time": "2021-11-27T08:53:39.841Z"
   },
   {
    "duration": 11,
    "start_time": "2021-11-27T08:53:39.885Z"
   },
   {
    "duration": 33,
    "start_time": "2021-11-27T08:53:39.899Z"
   },
   {
    "duration": 33,
    "start_time": "2021-11-27T08:53:39.935Z"
   },
   {
    "duration": 7,
    "start_time": "2021-11-27T08:53:39.971Z"
   },
   {
    "duration": 10,
    "start_time": "2021-11-27T08:53:39.980Z"
   },
   {
    "duration": 9,
    "start_time": "2021-11-27T08:53:39.993Z"
   },
   {
    "duration": 10,
    "start_time": "2021-11-27T08:53:40.005Z"
   },
   {
    "duration": 45,
    "start_time": "2021-11-27T08:53:40.021Z"
   },
   {
    "duration": 5,
    "start_time": "2021-11-27T08:53:40.070Z"
   },
   {
    "duration": 18,
    "start_time": "2021-11-27T08:53:40.077Z"
   },
   {
    "duration": 17,
    "start_time": "2021-11-27T08:53:40.098Z"
   },
   {
    "duration": 14,
    "start_time": "2021-11-27T08:53:40.117Z"
   },
   {
    "duration": 40,
    "start_time": "2021-11-27T08:53:40.133Z"
   },
   {
    "duration": 9,
    "start_time": "2021-11-27T08:53:40.176Z"
   },
   {
    "duration": 17,
    "start_time": "2021-11-27T08:53:40.188Z"
   },
   {
    "duration": 9,
    "start_time": "2021-11-27T08:53:40.207Z"
   },
   {
    "duration": 13,
    "start_time": "2021-11-27T08:53:40.218Z"
   },
   {
    "duration": 40,
    "start_time": "2021-11-27T08:53:40.233Z"
   },
   {
    "duration": 10,
    "start_time": "2021-11-27T08:53:40.275Z"
   },
   {
    "duration": 18,
    "start_time": "2021-11-27T08:53:40.287Z"
   },
   {
    "duration": 11,
    "start_time": "2021-11-27T08:53:40.308Z"
   },
   {
    "duration": 59,
    "start_time": "2021-11-27T08:53:40.321Z"
   },
   {
    "duration": 26,
    "start_time": "2021-11-27T08:53:40.382Z"
   },
   {
    "duration": 24,
    "start_time": "2021-11-27T08:53:40.410Z"
   },
   {
    "duration": 36,
    "start_time": "2021-11-27T08:53:40.436Z"
   },
   {
    "duration": 6,
    "start_time": "2021-11-27T08:53:40.474Z"
   },
   {
    "duration": 11,
    "start_time": "2021-11-27T08:53:40.482Z"
   },
   {
    "duration": 3266,
    "start_time": "2021-11-27T08:53:40.495Z"
   },
   {
    "duration": 21,
    "start_time": "2021-11-27T08:53:43.767Z"
   },
   {
    "duration": 3755,
    "start_time": "2021-11-27T08:53:43.790Z"
   },
   {
    "duration": 27,
    "start_time": "2021-11-27T08:53:47.547Z"
   },
   {
    "duration": 23,
    "start_time": "2021-11-27T08:53:47.577Z"
   },
   {
    "duration": 5,
    "start_time": "2021-11-27T08:53:47.602Z"
   },
   {
    "duration": 10,
    "start_time": "2021-11-27T08:53:47.610Z"
   },
   {
    "duration": 5,
    "start_time": "2021-11-27T08:53:47.623Z"
   },
   {
    "duration": 5,
    "start_time": "2021-11-27T08:53:47.667Z"
   },
   {
    "duration": 29,
    "start_time": "2021-11-27T08:53:47.674Z"
   },
   {
    "duration": 21,
    "start_time": "2021-11-27T08:53:47.706Z"
   },
   {
    "duration": 44,
    "start_time": "2021-11-27T08:53:47.730Z"
   },
   {
    "duration": 19,
    "start_time": "2021-11-27T08:53:47.776Z"
   },
   {
    "duration": 7,
    "start_time": "2021-11-27T08:53:47.797Z"
   },
   {
    "duration": 12,
    "start_time": "2021-11-27T08:53:47.807Z"
   },
   {
    "duration": 7,
    "start_time": "2021-11-27T08:53:47.821Z"
   },
   {
    "duration": 7,
    "start_time": "2021-11-27T08:53:47.830Z"
   },
   {
    "duration": 58,
    "start_time": "2021-11-27T08:53:47.839Z"
   },
   {
    "duration": 21,
    "start_time": "2021-11-27T08:53:47.899Z"
   },
   {
    "duration": 12,
    "start_time": "2021-11-27T08:53:47.922Z"
   },
   {
    "duration": 819,
    "start_time": "2021-11-27T08:53:47.967Z"
   },
   {
    "duration": 318,
    "start_time": "2021-11-27T08:53:48.789Z"
   },
   {
    "duration": -686,
    "start_time": "2021-11-27T08:53:49.795Z"
   },
   {
    "duration": -698,
    "start_time": "2021-11-27T08:53:49.809Z"
   },
   {
    "duration": -728,
    "start_time": "2021-11-27T08:53:49.841Z"
   },
   {
    "duration": -739,
    "start_time": "2021-11-27T08:53:49.853Z"
   },
   {
    "duration": -747,
    "start_time": "2021-11-27T08:53:49.863Z"
   },
   {
    "duration": -780,
    "start_time": "2021-11-27T08:53:49.897Z"
   },
   {
    "duration": -790,
    "start_time": "2021-11-27T08:53:49.908Z"
   },
   {
    "duration": -800,
    "start_time": "2021-11-27T08:53:49.919Z"
   },
   {
    "duration": -808,
    "start_time": "2021-11-27T08:53:49.929Z"
   },
   {
    "duration": 44,
    "start_time": "2021-11-27T08:55:15.142Z"
   },
   {
    "duration": 31,
    "start_time": "2021-11-27T09:13:40.306Z"
   },
   {
    "duration": 29,
    "start_time": "2021-11-27T09:20:08.430Z"
   },
   {
    "duration": 31,
    "start_time": "2021-11-27T09:23:33.034Z"
   },
   {
    "duration": 31,
    "start_time": "2021-11-27T09:34:07.064Z"
   },
   {
    "duration": 4,
    "start_time": "2021-11-27T09:44:58.994Z"
   },
   {
    "duration": 12,
    "start_time": "2021-11-27T09:45:23.618Z"
   },
   {
    "duration": 31,
    "start_time": "2021-11-27T09:50:31.916Z"
   },
   {
    "duration": 165,
    "start_time": "2021-11-27T10:13:23.425Z"
   },
   {
    "duration": 141,
    "start_time": "2021-11-27T10:13:30.484Z"
   },
   {
    "duration": 126,
    "start_time": "2021-11-27T10:13:44.598Z"
   },
   {
    "duration": 79,
    "start_time": "2021-11-27T21:39:14.757Z"
   },
   {
    "duration": 77,
    "start_time": "2021-11-27T21:40:54.851Z"
   },
   {
    "duration": 83,
    "start_time": "2021-11-27T21:44:09.825Z"
   },
   {
    "duration": 99,
    "start_time": "2021-11-27T21:45:52.421Z"
   },
   {
    "duration": 120,
    "start_time": "2021-11-29T06:32:18.622Z"
   },
   {
    "duration": 145,
    "start_time": "2021-11-29T06:34:05.344Z"
   },
   {
    "duration": 869,
    "start_time": "2021-11-29T06:47:45.949Z"
   },
   {
    "duration": 19,
    "start_time": "2021-11-29T06:47:46.821Z"
   },
   {
    "duration": 19,
    "start_time": "2021-11-29T06:47:46.843Z"
   },
   {
    "duration": 66,
    "start_time": "2021-11-29T06:47:46.865Z"
   },
   {
    "duration": 6,
    "start_time": "2021-11-29T06:47:46.933Z"
   },
   {
    "duration": 10,
    "start_time": "2021-11-29T06:47:46.941Z"
   },
   {
    "duration": 5,
    "start_time": "2021-11-29T06:47:46.954Z"
   },
   {
    "duration": 15,
    "start_time": "2021-11-29T06:47:46.962Z"
   },
   {
    "duration": 6,
    "start_time": "2021-11-29T06:47:46.980Z"
   },
   {
    "duration": 14,
    "start_time": "2021-11-29T06:47:47.029Z"
   },
   {
    "duration": 17,
    "start_time": "2021-11-29T06:47:47.046Z"
   },
   {
    "duration": 5,
    "start_time": "2021-11-29T06:47:47.066Z"
   },
   {
    "duration": 16,
    "start_time": "2021-11-29T06:47:47.074Z"
   },
   {
    "duration": 60,
    "start_time": "2021-11-29T06:47:47.093Z"
   },
   {
    "duration": 19,
    "start_time": "2021-11-29T06:47:47.155Z"
   },
   {
    "duration": 12,
    "start_time": "2021-11-29T06:47:47.176Z"
   },
   {
    "duration": 57,
    "start_time": "2021-11-29T06:47:47.190Z"
   },
   {
    "duration": 5,
    "start_time": "2021-11-29T06:47:47.249Z"
   },
   {
    "duration": 9,
    "start_time": "2021-11-29T06:47:47.257Z"
   },
   {
    "duration": 5,
    "start_time": "2021-11-29T06:47:47.269Z"
   },
   {
    "duration": 9,
    "start_time": "2021-11-29T06:47:47.276Z"
   },
   {
    "duration": 45,
    "start_time": "2021-11-29T06:47:47.287Z"
   },
   {
    "duration": 8,
    "start_time": "2021-11-29T06:47:47.338Z"
   },
   {
    "duration": 9,
    "start_time": "2021-11-29T06:47:47.350Z"
   },
   {
    "duration": 15,
    "start_time": "2021-11-29T06:47:47.361Z"
   },
   {
    "duration": 7,
    "start_time": "2021-11-29T06:47:47.379Z"
   },
   {
    "duration": 41,
    "start_time": "2021-11-29T06:47:47.389Z"
   },
   {
    "duration": 11,
    "start_time": "2021-11-29T06:47:47.433Z"
   },
   {
    "duration": 8,
    "start_time": "2021-11-29T06:47:47.446Z"
   },
   {
    "duration": 10,
    "start_time": "2021-11-29T06:47:47.456Z"
   },
   {
    "duration": 10,
    "start_time": "2021-11-29T06:47:47.469Z"
   },
   {
    "duration": 6,
    "start_time": "2021-11-29T06:47:47.529Z"
   },
   {
    "duration": 8,
    "start_time": "2021-11-29T06:47:47.538Z"
   },
   {
    "duration": 6,
    "start_time": "2021-11-29T06:47:47.548Z"
   },
   {
    "duration": 7,
    "start_time": "2021-11-29T06:47:47.556Z"
   },
   {
    "duration": 11,
    "start_time": "2021-11-29T06:47:47.565Z"
   },
   {
    "duration": 72,
    "start_time": "2021-11-29T06:47:47.578Z"
   },
   {
    "duration": 26,
    "start_time": "2021-11-29T06:47:47.652Z"
   },
   {
    "duration": 50,
    "start_time": "2021-11-29T06:47:47.680Z"
   },
   {
    "duration": 15,
    "start_time": "2021-11-29T06:47:47.733Z"
   },
   {
    "duration": 8,
    "start_time": "2021-11-29T06:47:47.751Z"
   },
   {
    "duration": 12,
    "start_time": "2021-11-29T06:47:47.761Z"
   },
   {
    "duration": 3234,
    "start_time": "2021-11-29T06:47:47.776Z"
   },
   {
    "duration": 26,
    "start_time": "2021-11-29T06:47:51.013Z"
   },
   {
    "duration": 3631,
    "start_time": "2021-11-29T06:47:51.042Z"
   },
   {
    "duration": 13,
    "start_time": "2021-11-29T06:47:54.676Z"
   },
   {
    "duration": 48,
    "start_time": "2021-11-29T06:47:54.692Z"
   },
   {
    "duration": 5,
    "start_time": "2021-11-29T06:47:54.743Z"
   },
   {
    "duration": 9,
    "start_time": "2021-11-29T06:47:54.751Z"
   },
   {
    "duration": 6,
    "start_time": "2021-11-29T06:47:54.762Z"
   },
   {
    "duration": 6,
    "start_time": "2021-11-29T06:47:54.771Z"
   },
   {
    "duration": 75,
    "start_time": "2021-11-29T06:47:54.779Z"
   },
   {
    "duration": 24,
    "start_time": "2021-11-29T06:47:54.856Z"
   },
   {
    "duration": 14,
    "start_time": "2021-11-29T06:47:54.883Z"
   },
   {
    "duration": 36,
    "start_time": "2021-11-29T06:47:54.900Z"
   },
   {
    "duration": 5,
    "start_time": "2021-11-29T06:47:54.938Z"
   },
   {
    "duration": 10,
    "start_time": "2021-11-29T06:47:54.945Z"
   },
   {
    "duration": 6,
    "start_time": "2021-11-29T06:47:54.957Z"
   },
   {
    "duration": 6,
    "start_time": "2021-11-29T06:47:54.966Z"
   },
   {
    "duration": 72,
    "start_time": "2021-11-29T06:47:54.974Z"
   },
   {
    "duration": 379,
    "start_time": "2021-11-29T06:47:55.049Z"
   },
   {
    "duration": -299,
    "start_time": "2021-11-29T06:47:55.729Z"
   },
   {
    "duration": -311,
    "start_time": "2021-11-29T06:47:55.743Z"
   },
   {
    "duration": -326,
    "start_time": "2021-11-29T06:47:55.759Z"
   },
   {
    "duration": -336,
    "start_time": "2021-11-29T06:47:55.770Z"
   },
   {
    "duration": -346,
    "start_time": "2021-11-29T06:47:55.782Z"
   },
   {
    "duration": -365,
    "start_time": "2021-11-29T06:47:55.803Z"
   },
   {
    "duration": 17,
    "start_time": "2021-11-29T06:51:10.008Z"
   },
   {
    "duration": 12,
    "start_time": "2021-11-29T06:53:27.933Z"
   },
   {
    "duration": 12,
    "start_time": "2021-11-29T06:53:38.987Z"
   },
   {
    "duration": 13,
    "start_time": "2021-11-29T06:55:27.127Z"
   },
   {
    "duration": 807,
    "start_time": "2021-11-29T06:57:24.115Z"
   },
   {
    "duration": 33,
    "start_time": "2021-11-29T06:57:31.749Z"
   },
   {
    "duration": 30,
    "start_time": "2021-11-29T06:57:37.515Z"
   },
   {
    "duration": 39,
    "start_time": "2021-11-29T06:57:48.805Z"
   },
   {
    "duration": 282,
    "start_time": "2021-11-29T07:00:37.737Z"
   },
   {
    "duration": 12,
    "start_time": "2021-11-29T07:01:15.691Z"
   },
   {
    "duration": 277,
    "start_time": "2021-11-29T07:02:20.350Z"
   },
   {
    "duration": 323,
    "start_time": "2021-11-29T07:02:24.639Z"
   },
   {
    "duration": 10,
    "start_time": "2021-11-29T07:08:27.991Z"
   },
   {
    "duration": -95,
    "start_time": "2021-11-29T07:10:27.595Z"
   },
   {
    "duration": -48,
    "start_time": "2021-11-29T07:11:18.087Z"
   },
   {
    "duration": 83,
    "start_time": "2021-11-29T07:11:20.004Z"
   },
   {
    "duration": 21,
    "start_time": "2021-11-29T07:11:20.089Z"
   },
   {
    "duration": 29,
    "start_time": "2021-11-29T07:11:20.113Z"
   },
   {
    "duration": 48,
    "start_time": "2021-11-29T07:11:20.145Z"
   },
   {
    "duration": 35,
    "start_time": "2021-11-29T07:11:20.196Z"
   },
   {
    "duration": 10,
    "start_time": "2021-11-29T07:11:20.234Z"
   },
   {
    "duration": 6,
    "start_time": "2021-11-29T07:11:20.246Z"
   },
   {
    "duration": 13,
    "start_time": "2021-11-29T07:11:20.256Z"
   },
   {
    "duration": 59,
    "start_time": "2021-11-29T07:11:20.272Z"
   },
   {
    "duration": 6691,
    "start_time": "2021-11-29T07:11:20.334Z"
   },
   {
    "duration": -131,
    "start_time": "2021-11-29T07:11:27.161Z"
   },
   {
    "duration": -149,
    "start_time": "2021-11-29T07:11:27.180Z"
   },
   {
    "duration": -157,
    "start_time": "2021-11-29T07:11:27.190Z"
   },
   {
    "duration": -167,
    "start_time": "2021-11-29T07:11:27.201Z"
   },
   {
    "duration": -176,
    "start_time": "2021-11-29T07:11:27.211Z"
   },
   {
    "duration": -202,
    "start_time": "2021-11-29T07:11:27.239Z"
   },
   {
    "duration": -214,
    "start_time": "2021-11-29T07:11:27.252Z"
   },
   {
    "duration": -230,
    "start_time": "2021-11-29T07:11:27.269Z"
   },
   {
    "duration": -243,
    "start_time": "2021-11-29T07:11:27.283Z"
   },
   {
    "duration": -255,
    "start_time": "2021-11-29T07:11:27.297Z"
   },
   {
    "duration": -266,
    "start_time": "2021-11-29T07:11:27.309Z"
   },
   {
    "duration": -281,
    "start_time": "2021-11-29T07:11:27.326Z"
   },
   {
    "duration": -311,
    "start_time": "2021-11-29T07:11:27.357Z"
   },
   {
    "duration": -324,
    "start_time": "2021-11-29T07:11:27.371Z"
   },
   {
    "duration": -334,
    "start_time": "2021-11-29T07:11:27.383Z"
   },
   {
    "duration": -345,
    "start_time": "2021-11-29T07:11:27.395Z"
   },
   {
    "duration": -354,
    "start_time": "2021-11-29T07:11:27.405Z"
   },
   {
    "duration": -364,
    "start_time": "2021-11-29T07:11:27.417Z"
   },
   {
    "duration": -375,
    "start_time": "2021-11-29T07:11:27.429Z"
   },
   {
    "duration": -385,
    "start_time": "2021-11-29T07:11:27.440Z"
   },
   {
    "duration": -411,
    "start_time": "2021-11-29T07:11:27.467Z"
   },
   {
    "duration": -420,
    "start_time": "2021-11-29T07:11:27.478Z"
   },
   {
    "duration": -430,
    "start_time": "2021-11-29T07:11:27.489Z"
   },
   {
    "duration": -441,
    "start_time": "2021-11-29T07:11:27.501Z"
   },
   {
    "duration": -450,
    "start_time": "2021-11-29T07:11:27.511Z"
   },
   {
    "duration": -461,
    "start_time": "2021-11-29T07:11:27.524Z"
   },
   {
    "duration": -470,
    "start_time": "2021-11-29T07:11:27.534Z"
   },
   {
    "duration": -481,
    "start_time": "2021-11-29T07:11:27.546Z"
   },
   {
    "duration": -492,
    "start_time": "2021-11-29T07:11:27.558Z"
   },
   {
    "duration": -520,
    "start_time": "2021-11-29T07:11:27.587Z"
   },
   {
    "duration": -528,
    "start_time": "2021-11-29T07:11:27.597Z"
   },
   {
    "duration": -539,
    "start_time": "2021-11-29T07:11:27.609Z"
   },
   {
    "duration": -488,
    "start_time": "2021-11-29T07:11:27.619Z"
   },
   {
    "duration": -625,
    "start_time": "2021-11-29T07:11:27.758Z"
   },
   {
    "duration": -634,
    "start_time": "2021-11-29T07:11:27.768Z"
   },
   {
    "duration": -645,
    "start_time": "2021-11-29T07:11:27.780Z"
   },
   {
    "duration": -654,
    "start_time": "2021-11-29T07:11:27.790Z"
   },
   {
    "duration": -679,
    "start_time": "2021-11-29T07:11:27.817Z"
   },
   {
    "duration": -689,
    "start_time": "2021-11-29T07:11:27.828Z"
   },
   {
    "duration": -699,
    "start_time": "2021-11-29T07:11:27.839Z"
   },
   {
    "duration": -709,
    "start_time": "2021-11-29T07:11:27.850Z"
   },
   {
    "duration": -718,
    "start_time": "2021-11-29T07:11:27.861Z"
   },
   {
    "duration": -727,
    "start_time": "2021-11-29T07:11:27.871Z"
   },
   {
    "duration": -737,
    "start_time": "2021-11-29T07:11:27.882Z"
   },
   {
    "duration": -747,
    "start_time": "2021-11-29T07:11:27.893Z"
   },
   {
    "duration": -757,
    "start_time": "2021-11-29T07:11:27.904Z"
   },
   {
    "duration": -782,
    "start_time": "2021-11-29T07:11:27.931Z"
   },
   {
    "duration": -820,
    "start_time": "2021-11-29T07:11:27.970Z"
   },
   {
    "duration": -830,
    "start_time": "2021-11-29T07:11:27.981Z"
   },
   {
    "duration": -840,
    "start_time": "2021-11-29T07:11:27.992Z"
   },
   {
    "duration": -848,
    "start_time": "2021-11-29T07:11:28.001Z"
   },
   {
    "duration": -858,
    "start_time": "2021-11-29T07:11:28.013Z"
   },
   {
    "duration": -867,
    "start_time": "2021-11-29T07:11:28.023Z"
   },
   {
    "duration": -911,
    "start_time": "2021-11-29T07:11:28.068Z"
   },
   {
    "duration": -919,
    "start_time": "2021-11-29T07:11:28.077Z"
   },
   {
    "duration": -932,
    "start_time": "2021-11-29T07:11:28.091Z"
   },
   {
    "duration": -940,
    "start_time": "2021-11-29T07:11:28.101Z"
   },
   {
    "duration": -950,
    "start_time": "2021-11-29T07:11:28.112Z"
   },
   {
    "duration": -960,
    "start_time": "2021-11-29T07:11:28.123Z"
   },
   {
    "duration": 9,
    "start_time": "2021-11-29T07:26:26.756Z"
   },
   {
    "duration": 17,
    "start_time": "2021-11-29T07:26:29.003Z"
   },
   {
    "duration": 78,
    "start_time": "2021-11-29T07:26:38.886Z"
   },
   {
    "duration": 19,
    "start_time": "2021-11-29T07:26:38.966Z"
   },
   {
    "duration": 41,
    "start_time": "2021-11-29T07:26:38.988Z"
   },
   {
    "duration": 46,
    "start_time": "2021-11-29T07:26:39.032Z"
   },
   {
    "duration": 6,
    "start_time": "2021-11-29T07:26:39.080Z"
   },
   {
    "duration": 45,
    "start_time": "2021-11-29T07:26:39.089Z"
   },
   {
    "duration": 7,
    "start_time": "2021-11-29T07:26:39.136Z"
   },
   {
    "duration": 14,
    "start_time": "2021-11-29T07:26:39.149Z"
   },
   {
    "duration": 11,
    "start_time": "2021-11-29T07:26:39.167Z"
   },
   {
    "duration": 13,
    "start_time": "2021-11-29T07:26:39.228Z"
   },
   {
    "duration": 17,
    "start_time": "2021-11-29T07:26:39.244Z"
   },
   {
    "duration": 15,
    "start_time": "2021-11-29T07:26:39.264Z"
   },
   {
    "duration": 1255,
    "start_time": "2021-11-29T07:26:39.282Z"
   },
   {
    "duration": -1010,
    "start_time": "2021-11-29T07:26:41.552Z"
   },
   {
    "duration": -1020,
    "start_time": "2021-11-29T07:26:41.563Z"
   },
   {
    "duration": -1028,
    "start_time": "2021-11-29T07:26:41.573Z"
   },
   {
    "duration": -1039,
    "start_time": "2021-11-29T07:26:41.585Z"
   },
   {
    "duration": -1047,
    "start_time": "2021-11-29T07:26:41.595Z"
   },
   {
    "duration": -1058,
    "start_time": "2021-11-29T07:26:41.607Z"
   },
   {
    "duration": -1067,
    "start_time": "2021-11-29T07:26:41.617Z"
   },
   {
    "duration": -1077,
    "start_time": "2021-11-29T07:26:41.629Z"
   },
   {
    "duration": -1136,
    "start_time": "2021-11-29T07:26:41.689Z"
   },
   {
    "duration": -1148,
    "start_time": "2021-11-29T07:26:41.703Z"
   },
   {
    "duration": -1158,
    "start_time": "2021-11-29T07:26:41.714Z"
   },
   {
    "duration": -1168,
    "start_time": "2021-11-29T07:26:41.726Z"
   },
   {
    "duration": -1177,
    "start_time": "2021-11-29T07:26:41.736Z"
   },
   {
    "duration": -1188,
    "start_time": "2021-11-29T07:26:41.748Z"
   },
   {
    "duration": -1196,
    "start_time": "2021-11-29T07:26:41.758Z"
   },
   {
    "duration": -1207,
    "start_time": "2021-11-29T07:26:41.770Z"
   },
   {
    "duration": -1236,
    "start_time": "2021-11-29T07:26:41.801Z"
   },
   {
    "duration": -1246,
    "start_time": "2021-11-29T07:26:41.812Z"
   },
   {
    "duration": -1256,
    "start_time": "2021-11-29T07:26:41.823Z"
   },
   {
    "duration": -1266,
    "start_time": "2021-11-29T07:26:41.834Z"
   },
   {
    "duration": -1275,
    "start_time": "2021-11-29T07:26:41.845Z"
   },
   {
    "duration": -1285,
    "start_time": "2021-11-29T07:26:41.856Z"
   },
   {
    "duration": -1296,
    "start_time": "2021-11-29T07:26:41.869Z"
   },
   {
    "duration": -1307,
    "start_time": "2021-11-29T07:26:41.881Z"
   },
   {
    "duration": -1316,
    "start_time": "2021-11-29T07:26:41.891Z"
   },
   {
    "duration": -1344,
    "start_time": "2021-11-29T07:26:41.920Z"
   },
   {
    "duration": -1352,
    "start_time": "2021-11-29T07:26:41.930Z"
   },
   {
    "duration": -1363,
    "start_time": "2021-11-29T07:26:41.942Z"
   },
   {
    "duration": -1372,
    "start_time": "2021-11-29T07:26:41.952Z"
   },
   {
    "duration": -1383,
    "start_time": "2021-11-29T07:26:41.964Z"
   },
   {
    "duration": -1392,
    "start_time": "2021-11-29T07:26:41.974Z"
   },
   {
    "duration": -1403,
    "start_time": "2021-11-29T07:26:41.986Z"
   },
   {
    "duration": -1368,
    "start_time": "2021-11-29T07:26:41.998Z"
   },
   {
    "duration": -1379,
    "start_time": "2021-11-29T07:26:42.010Z"
   },
   {
    "duration": -1404,
    "start_time": "2021-11-29T07:26:42.036Z"
   },
   {
    "duration": -1414,
    "start_time": "2021-11-29T07:26:42.048Z"
   },
   {
    "duration": -1423,
    "start_time": "2021-11-29T07:26:42.058Z"
   },
   {
    "duration": -1433,
    "start_time": "2021-11-29T07:26:42.070Z"
   },
   {
    "duration": -1441,
    "start_time": "2021-11-29T07:26:42.080Z"
   },
   {
    "duration": -1451,
    "start_time": "2021-11-29T07:26:42.092Z"
   },
   {
    "duration": -1460,
    "start_time": "2021-11-29T07:26:42.103Z"
   },
   {
    "duration": -1470,
    "start_time": "2021-11-29T07:26:42.115Z"
   },
   {
    "duration": -1478,
    "start_time": "2021-11-29T07:26:42.125Z"
   },
   {
    "duration": -1505,
    "start_time": "2021-11-29T07:26:42.154Z"
   },
   {
    "duration": -1514,
    "start_time": "2021-11-29T07:26:42.165Z"
   },
   {
    "duration": -1523,
    "start_time": "2021-11-29T07:26:42.176Z"
   },
   {
    "duration": -1531,
    "start_time": "2021-11-29T07:26:42.186Z"
   },
   {
    "duration": -1542,
    "start_time": "2021-11-29T07:26:42.199Z"
   },
   {
    "duration": -1550,
    "start_time": "2021-11-29T07:26:42.209Z"
   },
   {
    "duration": -1559,
    "start_time": "2021-11-29T07:26:42.220Z"
   },
   {
    "duration": -1568,
    "start_time": "2021-11-29T07:26:42.231Z"
   },
   {
    "duration": -1514,
    "start_time": "2021-11-29T07:26:42.243Z"
   },
   {
    "duration": -1537,
    "start_time": "2021-11-29T07:26:42.270Z"
   },
   {
    "duration": -1547,
    "start_time": "2021-11-29T07:26:42.282Z"
   },
   {
    "duration": -1555,
    "start_time": "2021-11-29T07:26:42.292Z"
   },
   {
    "duration": 1055,
    "start_time": "2021-11-29T07:27:25.007Z"
   },
   {
    "duration": 1058,
    "start_time": "2021-11-29T07:27:28.496Z"
   },
   {
    "duration": 9,
    "start_time": "2021-11-29T07:27:38.919Z"
   },
   {
    "duration": 1119,
    "start_time": "2021-11-29T07:27:46.672Z"
   },
   {
    "duration": 81,
    "start_time": "2021-11-29T07:27:58.877Z"
   },
   {
    "duration": 19,
    "start_time": "2021-11-29T07:27:58.961Z"
   },
   {
    "duration": 13,
    "start_time": "2021-11-29T07:27:58.983Z"
   },
   {
    "duration": 74,
    "start_time": "2021-11-29T07:27:58.999Z"
   },
   {
    "duration": 6,
    "start_time": "2021-11-29T07:27:59.075Z"
   },
   {
    "duration": 8,
    "start_time": "2021-11-29T07:27:59.083Z"
   },
   {
    "duration": 38,
    "start_time": "2021-11-29T07:27:59.094Z"
   },
   {
    "duration": 14,
    "start_time": "2021-11-29T07:27:59.135Z"
   },
   {
    "duration": 10,
    "start_time": "2021-11-29T07:27:59.153Z"
   },
   {
    "duration": 9,
    "start_time": "2021-11-29T07:27:59.165Z"
   },
   {
    "duration": 54,
    "start_time": "2021-11-29T07:27:59.176Z"
   },
   {
    "duration": 14,
    "start_time": "2021-11-29T07:27:59.233Z"
   },
   {
    "duration": 6,
    "start_time": "2021-11-29T07:27:59.250Z"
   },
   {
    "duration": 17,
    "start_time": "2021-11-29T07:27:59.258Z"
   },
   {
    "duration": 67,
    "start_time": "2021-11-29T07:27:59.278Z"
   },
   {
    "duration": 20,
    "start_time": "2021-11-29T07:27:59.348Z"
   },
   {
    "duration": 11,
    "start_time": "2021-11-29T07:27:59.371Z"
   },
   {
    "duration": 60,
    "start_time": "2021-11-29T07:27:59.384Z"
   },
   {
    "duration": 18,
    "start_time": "2021-11-29T07:27:59.446Z"
   },
   {
    "duration": 17,
    "start_time": "2021-11-29T07:27:59.466Z"
   },
   {
    "duration": 24,
    "start_time": "2021-11-29T07:27:59.487Z"
   },
   {
    "duration": 24,
    "start_time": "2021-11-29T07:27:59.515Z"
   },
   {
    "duration": 32,
    "start_time": "2021-11-29T07:27:59.541Z"
   },
   {
    "duration": 24,
    "start_time": "2021-11-29T07:27:59.575Z"
   },
   {
    "duration": 24,
    "start_time": "2021-11-29T07:27:59.601Z"
   },
   {
    "duration": 22,
    "start_time": "2021-11-29T07:27:59.628Z"
   },
   {
    "duration": 16,
    "start_time": "2021-11-29T07:27:59.652Z"
   },
   {
    "duration": 17,
    "start_time": "2021-11-29T07:27:59.670Z"
   },
   {
    "duration": 24,
    "start_time": "2021-11-29T07:27:59.690Z"
   },
   {
    "duration": 14,
    "start_time": "2021-11-29T07:27:59.716Z"
   },
   {
    "duration": 26,
    "start_time": "2021-11-29T07:27:59.733Z"
   },
   {
    "duration": 26,
    "start_time": "2021-11-29T07:27:59.761Z"
   },
   {
    "duration": 18,
    "start_time": "2021-11-29T07:27:59.789Z"
   },
   {
    "duration": 21,
    "start_time": "2021-11-29T07:27:59.809Z"
   },
   {
    "duration": 15,
    "start_time": "2021-11-29T07:27:59.833Z"
   },
   {
    "duration": 8,
    "start_time": "2021-11-29T07:27:59.850Z"
   },
   {
    "duration": 11,
    "start_time": "2021-11-29T07:27:59.861Z"
   },
   {
    "duration": 40,
    "start_time": "2021-11-29T07:27:59.875Z"
   },
   {
    "duration": 28,
    "start_time": "2021-11-29T07:27:59.929Z"
   },
   {
    "duration": 25,
    "start_time": "2021-11-29T07:27:59.959Z"
   },
   {
    "duration": 46,
    "start_time": "2021-11-29T07:27:59.986Z"
   },
   {
    "duration": 46,
    "start_time": "2021-11-29T07:28:00.035Z"
   },
   {
    "duration": 7,
    "start_time": "2021-11-29T07:28:00.083Z"
   },
   {
    "duration": 3405,
    "start_time": "2021-11-29T07:28:00.092Z"
   },
   {
    "duration": 33,
    "start_time": "2021-11-29T07:28:03.499Z"
   },
   {
    "duration": 3903,
    "start_time": "2021-11-29T07:28:03.534Z"
   },
   {
    "duration": 11,
    "start_time": "2021-11-29T07:28:07.439Z"
   },
   {
    "duration": 32,
    "start_time": "2021-11-29T07:28:07.453Z"
   },
   {
    "duration": 8,
    "start_time": "2021-11-29T07:28:07.487Z"
   },
   {
    "duration": 22,
    "start_time": "2021-11-29T07:28:07.497Z"
   },
   {
    "duration": 34,
    "start_time": "2021-11-29T07:28:07.521Z"
   },
   {
    "duration": 5,
    "start_time": "2021-11-29T07:28:07.561Z"
   },
   {
    "duration": 51,
    "start_time": "2021-11-29T07:28:07.568Z"
   },
   {
    "duration": 20,
    "start_time": "2021-11-29T07:28:07.621Z"
   },
   {
    "duration": 12,
    "start_time": "2021-11-29T07:28:07.643Z"
   },
   {
    "duration": 17,
    "start_time": "2021-11-29T07:28:07.658Z"
   },
   {
    "duration": 4,
    "start_time": "2021-11-29T07:28:07.678Z"
   },
   {
    "duration": 27,
    "start_time": "2021-11-29T07:28:07.684Z"
   },
   {
    "duration": 16,
    "start_time": "2021-11-29T07:28:07.713Z"
   },
   {
    "duration": 24,
    "start_time": "2021-11-29T07:28:07.731Z"
   },
   {
    "duration": 70,
    "start_time": "2021-11-29T07:28:07.758Z"
   },
   {
    "duration": 16,
    "start_time": "2021-11-29T07:28:07.830Z"
   },
   {
    "duration": 12,
    "start_time": "2021-11-29T07:28:07.848Z"
   },
   {
    "duration": 39,
    "start_time": "2021-11-29T07:28:07.862Z"
   },
   {
    "duration": 54,
    "start_time": "2021-11-29T07:28:07.903Z"
   },
   {
    "duration": 28,
    "start_time": "2021-11-29T07:28:07.959Z"
   },
   {
    "duration": 26,
    "start_time": "2021-11-29T07:28:07.989Z"
   },
   {
    "duration": 39,
    "start_time": "2021-11-29T07:28:08.030Z"
   },
   {
    "duration": 10,
    "start_time": "2021-11-29T07:33:59.405Z"
   },
   {
    "duration": 294,
    "start_time": "2021-11-29T08:19:23.101Z"
   },
   {
    "duration": 8,
    "start_time": "2021-11-29T08:20:07.375Z"
   },
   {
    "duration": 11,
    "start_time": "2021-11-29T08:20:12.761Z"
   },
   {
    "duration": 11,
    "start_time": "2021-11-29T08:20:35.091Z"
   },
   {
    "duration": 78,
    "start_time": "2021-11-29T08:31:39.020Z"
   },
   {
    "duration": 41,
    "start_time": "2021-11-29T08:31:39.100Z"
   },
   {
    "duration": 34,
    "start_time": "2021-11-29T08:31:39.143Z"
   },
   {
    "duration": 68,
    "start_time": "2021-11-29T08:31:39.179Z"
   },
   {
    "duration": 5,
    "start_time": "2021-11-29T08:31:39.250Z"
   },
   {
    "duration": 22,
    "start_time": "2021-11-29T08:31:39.258Z"
   },
   {
    "duration": 14,
    "start_time": "2021-11-29T08:31:39.283Z"
   },
   {
    "duration": 33,
    "start_time": "2021-11-29T08:31:39.301Z"
   },
   {
    "duration": 12,
    "start_time": "2021-11-29T08:31:39.337Z"
   },
   {
    "duration": 15,
    "start_time": "2021-11-29T08:31:39.352Z"
   },
   {
    "duration": 8,
    "start_time": "2021-11-29T08:31:39.370Z"
   },
   {
    "duration": 58,
    "start_time": "2021-11-29T08:31:39.380Z"
   },
   {
    "duration": 19,
    "start_time": "2021-11-29T08:31:39.441Z"
   },
   {
    "duration": 6,
    "start_time": "2021-11-29T08:31:39.463Z"
   },
   {
    "duration": 25,
    "start_time": "2021-11-29T08:31:39.472Z"
   },
   {
    "duration": 46,
    "start_time": "2021-11-29T08:31:39.500Z"
   },
   {
    "duration": 34,
    "start_time": "2021-11-29T08:31:39.549Z"
   },
   {
    "duration": 42,
    "start_time": "2021-11-29T08:31:39.586Z"
   },
   {
    "duration": 46,
    "start_time": "2021-11-29T08:31:39.630Z"
   },
   {
    "duration": 18,
    "start_time": "2021-11-29T08:31:39.678Z"
   },
   {
    "duration": 33,
    "start_time": "2021-11-29T08:31:39.699Z"
   },
   {
    "duration": 31,
    "start_time": "2021-11-29T08:31:39.734Z"
   },
   {
    "duration": 25,
    "start_time": "2021-11-29T08:31:39.771Z"
   },
   {
    "duration": 16,
    "start_time": "2021-11-29T08:31:39.800Z"
   },
   {
    "duration": 36,
    "start_time": "2021-11-29T08:31:39.819Z"
   },
   {
    "duration": 12,
    "start_time": "2021-11-29T08:31:39.858Z"
   },
   {
    "duration": 16,
    "start_time": "2021-11-29T08:31:39.873Z"
   },
   {
    "duration": 22,
    "start_time": "2021-11-29T08:31:39.892Z"
   },
   {
    "duration": 16,
    "start_time": "2021-11-29T08:31:39.916Z"
   },
   {
    "duration": 24,
    "start_time": "2021-11-29T08:31:39.934Z"
   },
   {
    "duration": 22,
    "start_time": "2021-11-29T08:31:39.961Z"
   },
   {
    "duration": 73,
    "start_time": "2021-11-29T08:31:39.985Z"
   },
   {
    "duration": 55,
    "start_time": "2021-11-29T08:31:40.061Z"
   },
   {
    "duration": 47,
    "start_time": "2021-11-29T08:31:40.118Z"
   },
   {
    "duration": 28,
    "start_time": "2021-11-29T08:31:40.168Z"
   },
   {
    "duration": 22,
    "start_time": "2021-11-29T08:31:40.199Z"
   },
   {
    "duration": 30,
    "start_time": "2021-11-29T08:31:40.224Z"
   },
   {
    "duration": 34,
    "start_time": "2021-11-29T08:31:40.257Z"
   },
   {
    "duration": 75,
    "start_time": "2021-11-29T08:31:40.293Z"
   },
   {
    "duration": 53,
    "start_time": "2021-11-29T08:31:40.370Z"
   },
   {
    "duration": 27,
    "start_time": "2021-11-29T08:31:40.426Z"
   },
   {
    "duration": 57,
    "start_time": "2021-11-29T08:31:40.455Z"
   },
   {
    "duration": 71,
    "start_time": "2021-11-29T08:31:40.514Z"
   },
   {
    "duration": 6,
    "start_time": "2021-11-29T08:31:40.588Z"
   },
   {
    "duration": 3374,
    "start_time": "2021-11-29T08:31:40.597Z"
   },
   {
    "duration": 22,
    "start_time": "2021-11-29T08:31:43.973Z"
   },
   {
    "duration": 3986,
    "start_time": "2021-11-29T08:31:43.998Z"
   },
   {
    "duration": 12,
    "start_time": "2021-11-29T08:31:47.987Z"
   },
   {
    "duration": 43,
    "start_time": "2021-11-29T08:31:48.001Z"
   },
   {
    "duration": 4,
    "start_time": "2021-11-29T08:31:48.046Z"
   },
   {
    "duration": 15,
    "start_time": "2021-11-29T08:31:48.052Z"
   },
   {
    "duration": 9,
    "start_time": "2021-11-29T08:31:48.070Z"
   },
   {
    "duration": 10,
    "start_time": "2021-11-29T08:31:48.082Z"
   },
   {
    "duration": 54,
    "start_time": "2021-11-29T08:31:48.098Z"
   },
   {
    "duration": 20,
    "start_time": "2021-11-29T08:31:48.155Z"
   },
   {
    "duration": 18,
    "start_time": "2021-11-29T08:31:48.178Z"
   },
   {
    "duration": 37,
    "start_time": "2021-11-29T08:31:48.198Z"
   },
   {
    "duration": 5,
    "start_time": "2021-11-29T08:31:48.238Z"
   },
   {
    "duration": 13,
    "start_time": "2021-11-29T08:31:48.245Z"
   },
   {
    "duration": 7,
    "start_time": "2021-11-29T08:31:48.260Z"
   },
   {
    "duration": 6,
    "start_time": "2021-11-29T08:31:48.270Z"
   },
   {
    "duration": 67,
    "start_time": "2021-11-29T08:31:48.278Z"
   },
   {
    "duration": 14,
    "start_time": "2021-11-29T08:31:48.348Z"
   },
   {
    "duration": 18,
    "start_time": "2021-11-29T08:31:48.364Z"
   },
   {
    "duration": 54,
    "start_time": "2021-11-29T08:31:48.385Z"
   },
   {
    "duration": 32,
    "start_time": "2021-11-29T08:31:48.441Z"
   },
   {
    "duration": 54,
    "start_time": "2021-11-29T08:31:48.477Z"
   },
   {
    "duration": 10,
    "start_time": "2021-11-29T08:31:48.538Z"
   },
   {
    "duration": 34,
    "start_time": "2021-11-29T08:31:48.550Z"
   }
  ],
  "kernelspec": {
   "display_name": "Python 3",
   "language": "python",
   "name": "python3"
  },
  "language_info": {
   "codemirror_mode": {
    "name": "ipython",
    "version": 3
   },
   "file_extension": ".py",
   "mimetype": "text/x-python",
   "name": "python",
   "nbconvert_exporter": "python",
   "pygments_lexer": "ipython3",
   "version": "3.7.8"
  },
  "toc": {
   "base_numbering": 1,
   "nav_menu": {},
   "number_sections": true,
   "sideBar": true,
   "skip_h1_title": true,
   "title_cell": "Table of Contents",
   "title_sidebar": "Contents",
   "toc_cell": false,
   "toc_position": {
    "height": "calc(100% - 180px)",
    "left": "10px",
    "top": "150px",
    "width": "311.973px"
   },
   "toc_section_display": true,
   "toc_window_display": false
  }
 },
 "nbformat": 4,
 "nbformat_minor": 2
}
