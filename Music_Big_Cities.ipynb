{
 "cells": [
  {
   "cell_type": "markdown",
   "metadata": {},
   "source": [
    "<div style=\"border:solid green 3px; padding: 20px\">\n",
    "\n",
    "<b>Привет, Владимир! :)</b>\n",
    "\n",
    "Меня зовут Сороколетов Илья и я буду проверять твой проект. \n",
    "\n",
    "Предлагаю общаться на «**ты**», но если тебе будет комфортнее общаться на «**вы**», то сообщи об этом в комментариях)\n",
    "\n",
    "\n",
    "Для твоего удобства, я буду выделять свои комментарии следующим образом:\n",
    "\n",
    "<div class=\"alert alert-danger\">\n",
    "<b>Ошибка:</b> Самые важные замечания. Они указывают на ключевые моменты, которые влияют на конечный результат проекта. </div>\n",
    "\n",
    "<div class=\"alert alert-warning\">\n",
    "<b>Совет:</b> Советы или замечания, которые помогут сделать твою работу лучше, но необязательны к выполнению.\n",
    "\n",
    "</div>\n",
    "\n",
    "<div class=\"alert alert-success\">\n",
    "<b>Успех:</b> Так я выделяю все остальные комментарии.</div>\n",
    "\n",
    "Давай работать над проектом в диалоге: если ты что-то меняешь в проекте по моим рекомендациям — пиши об этом. Выбери для своих комментариев какой-то заметный цвет, так мне будет легче отследить изменения, например вот так:\n",
    "<div class=\"alert alert-info\">\n",
    "<b>Комментарий студента:</b>\n",
    "<br>\n",
    "</div>\n",
    "\n",
    "Пожалуйста, не перемещай, не изменяй и не удаляй мои комментарии. Всё это поможет выполнить повторную проверку твоего проекта оперативнее. \n",
    "\n",
    "Обязательно задавай вопросы если они возникнут, а я перехожу к проверке)"
   ]
  },
  {
   "cell_type": "markdown",
   "metadata": {
    "id": "E0vqbgi9ay0H"
   },
   "source": [
    "# Яндекс.Музыка"
   ]
  },
  {
   "cell_type": "markdown",
   "metadata": {
    "id": "VUC88oWjTJw2"
   },
   "source": [
    "Сравнение Москвы и Петербурга окружено мифами. Например:\n",
    " * Москва — мегаполис, подчинённый жёсткому ритму рабочей недели;\n",
    " * Петербург — культурная столица, со своими вкусами.\n",
    "\n",
    "На данных Яндекс.Музыки вы сравните поведение пользователей двух столиц.\n",
    "\n",
    "**Цель исследования** — проверьте три гипотезы:\n",
    "1. Активность пользователей зависит от дня недели. Причём в Москве и Петербурге это проявляется по-разному.\n",
    "2. В понедельник утром в Москве преобладают одни жанры, а в Петербурге — другие. Так же и вечером пятницы преобладают разные жанры — в зависимости от города. \n",
    "3. Москва и Петербург предпочитают разные жанры музыки. В Москве чаще слушают поп-музыку, в Петербурге — русский рэп.\n",
    "\n",
    "**Ход исследования**\n",
    "\n",
    "Данные о поведении пользователей вы получите из файла `yandex_music_project.csv`. О качестве данных ничего не известно. Поэтому перед проверкой гипотез понадобится обзор данных. \n",
    "\n",
    "Вы проверите данные на ошибки и оцените их влияние на исследование. Затем, на этапе предобработки вы поищете возможность исправить самые критичные ошибки данных.\n",
    " \n",
    "Таким образом, исследование пройдёт в три этапа:\n",
    " 1. Обзор данных.\n",
    " 2. Предобработка данных.\n",
    " 3. Проверка гипотез.\n",
    "\n"
   ]
  },
  {
   "cell_type": "markdown",
   "metadata": {
    "id": "Ml1hmfXC_Zcs"
   },
   "source": [
    "## Обзор данных\n",
    "\n",
    "Составьте первое представление о данных Яндекс.Музыки.\n",
    "\n",
    "\n"
   ]
  },
  {
   "cell_type": "markdown",
   "metadata": {
    "id": "57eAOGIz_Zcs"
   },
   "source": [
    "Основной инструмент аналитика — `pandas`. Импортируйте эту библиотеку."
   ]
  },
  {
   "cell_type": "code",
   "execution_count": 1,
   "metadata": {
    "id": "AXN7PHPN_Zcs"
   },
   "outputs": [],
   "source": [
    "import pandas as pd\n",
    "# импорт библиотеки pandas"
   ]
  },
  {
   "cell_type": "markdown",
   "metadata": {},
   "source": [
    "<div class=\"alert alert-success\">\n",
    "<b>Успех:</b> \n",
    "<br>Очень здорово, что ты используешь сокращение pd для Pandas, это общепринятое сокращение для этой библиотеки для удобной дальнейшей работы.\n",
    "</div>"
   ]
  },
  {
   "cell_type": "markdown",
   "metadata": {
    "id": "SG23P8tt_Zcs"
   },
   "source": [
    "Прочитайте файл `yandex_music_project.csv` из папки `/datasets` и сохраните его в переменной `df`:"
   ]
  },
  {
   "cell_type": "code",
   "execution_count": 2,
   "metadata": {
    "id": "fFVu7vqh_Zct"
   },
   "outputs": [],
   "source": [
    "df = pd.read_csv('/datasets/yandex_music_project.csv')\n",
    "# чтение файла с данными и сохранение в df"
   ]
  },
  {
   "cell_type": "markdown",
   "metadata": {
    "id": "rDoOMd3uTqnZ"
   },
   "source": [
    "Выведите на экран первые десять строк таблицы:"
   ]
  },
  {
   "cell_type": "code",
   "execution_count": 3,
   "metadata": {
    "id": "oWTVX3gW_Zct",
    "scrolled": false
   },
   "outputs": [
    {
     "data": {
      "text/html": [
       "<div>\n",
       "<style scoped>\n",
       "    .dataframe tbody tr th:only-of-type {\n",
       "        vertical-align: middle;\n",
       "    }\n",
       "\n",
       "    .dataframe tbody tr th {\n",
       "        vertical-align: top;\n",
       "    }\n",
       "\n",
       "    .dataframe thead th {\n",
       "        text-align: right;\n",
       "    }\n",
       "</style>\n",
       "<table border=\"1\" class=\"dataframe\">\n",
       "  <thead>\n",
       "    <tr style=\"text-align: right;\">\n",
       "      <th></th>\n",
       "      <th>userID</th>\n",
       "      <th>Track</th>\n",
       "      <th>artist</th>\n",
       "      <th>genre</th>\n",
       "      <th>City</th>\n",
       "      <th>time</th>\n",
       "      <th>Day</th>\n",
       "    </tr>\n",
       "  </thead>\n",
       "  <tbody>\n",
       "    <tr>\n",
       "      <td>0</td>\n",
       "      <td>FFB692EC</td>\n",
       "      <td>Kamigata To Boots</td>\n",
       "      <td>The Mass Missile</td>\n",
       "      <td>rock</td>\n",
       "      <td>Saint-Petersburg</td>\n",
       "      <td>20:28:33</td>\n",
       "      <td>Wednesday</td>\n",
       "    </tr>\n",
       "    <tr>\n",
       "      <td>1</td>\n",
       "      <td>55204538</td>\n",
       "      <td>Delayed Because of Accident</td>\n",
       "      <td>Andreas Rönnberg</td>\n",
       "      <td>rock</td>\n",
       "      <td>Moscow</td>\n",
       "      <td>14:07:09</td>\n",
       "      <td>Friday</td>\n",
       "    </tr>\n",
       "    <tr>\n",
       "      <td>2</td>\n",
       "      <td>20EC38</td>\n",
       "      <td>Funiculì funiculà</td>\n",
       "      <td>Mario Lanza</td>\n",
       "      <td>pop</td>\n",
       "      <td>Saint-Petersburg</td>\n",
       "      <td>20:58:07</td>\n",
       "      <td>Wednesday</td>\n",
       "    </tr>\n",
       "    <tr>\n",
       "      <td>3</td>\n",
       "      <td>A3DD03C9</td>\n",
       "      <td>Dragons in the Sunset</td>\n",
       "      <td>Fire + Ice</td>\n",
       "      <td>folk</td>\n",
       "      <td>Saint-Petersburg</td>\n",
       "      <td>08:37:09</td>\n",
       "      <td>Monday</td>\n",
       "    </tr>\n",
       "    <tr>\n",
       "      <td>4</td>\n",
       "      <td>E2DC1FAE</td>\n",
       "      <td>Soul People</td>\n",
       "      <td>Space Echo</td>\n",
       "      <td>dance</td>\n",
       "      <td>Moscow</td>\n",
       "      <td>08:34:34</td>\n",
       "      <td>Monday</td>\n",
       "    </tr>\n",
       "    <tr>\n",
       "      <td>5</td>\n",
       "      <td>842029A1</td>\n",
       "      <td>Преданная</td>\n",
       "      <td>IMPERVTOR</td>\n",
       "      <td>rusrap</td>\n",
       "      <td>Saint-Petersburg</td>\n",
       "      <td>13:09:41</td>\n",
       "      <td>Friday</td>\n",
       "    </tr>\n",
       "    <tr>\n",
       "      <td>6</td>\n",
       "      <td>4CB90AA5</td>\n",
       "      <td>True</td>\n",
       "      <td>Roman Messer</td>\n",
       "      <td>dance</td>\n",
       "      <td>Moscow</td>\n",
       "      <td>13:00:07</td>\n",
       "      <td>Wednesday</td>\n",
       "    </tr>\n",
       "    <tr>\n",
       "      <td>7</td>\n",
       "      <td>F03E1C1F</td>\n",
       "      <td>Feeling This Way</td>\n",
       "      <td>Polina Griffith</td>\n",
       "      <td>dance</td>\n",
       "      <td>Moscow</td>\n",
       "      <td>20:47:49</td>\n",
       "      <td>Wednesday</td>\n",
       "    </tr>\n",
       "    <tr>\n",
       "      <td>8</td>\n",
       "      <td>8FA1D3BE</td>\n",
       "      <td>И вновь продолжается бой</td>\n",
       "      <td>NaN</td>\n",
       "      <td>ruspop</td>\n",
       "      <td>Moscow</td>\n",
       "      <td>09:17:40</td>\n",
       "      <td>Friday</td>\n",
       "    </tr>\n",
       "    <tr>\n",
       "      <td>9</td>\n",
       "      <td>E772D5C0</td>\n",
       "      <td>Pessimist</td>\n",
       "      <td>NaN</td>\n",
       "      <td>dance</td>\n",
       "      <td>Saint-Petersburg</td>\n",
       "      <td>21:20:49</td>\n",
       "      <td>Wednesday</td>\n",
       "    </tr>\n",
       "  </tbody>\n",
       "</table>\n",
       "</div>"
      ],
      "text/plain": [
       "     userID                        Track            artist   genre  \\\n",
       "0  FFB692EC            Kamigata To Boots  The Mass Missile    rock   \n",
       "1  55204538  Delayed Because of Accident  Andreas Rönnberg    rock   \n",
       "2    20EC38            Funiculì funiculà       Mario Lanza     pop   \n",
       "3  A3DD03C9        Dragons in the Sunset        Fire + Ice    folk   \n",
       "4  E2DC1FAE                  Soul People        Space Echo   dance   \n",
       "5  842029A1                    Преданная         IMPERVTOR  rusrap   \n",
       "6  4CB90AA5                         True      Roman Messer   dance   \n",
       "7  F03E1C1F             Feeling This Way   Polina Griffith   dance   \n",
       "8  8FA1D3BE     И вновь продолжается бой               NaN  ruspop   \n",
       "9  E772D5C0                    Pessimist               NaN   dance   \n",
       "\n",
       "             City        time        Day  \n",
       "0  Saint-Petersburg  20:28:33  Wednesday  \n",
       "1            Moscow  14:07:09     Friday  \n",
       "2  Saint-Petersburg  20:58:07  Wednesday  \n",
       "3  Saint-Petersburg  08:37:09     Monday  \n",
       "4            Moscow  08:34:34     Monday  \n",
       "5  Saint-Petersburg  13:09:41     Friday  \n",
       "6            Moscow  13:00:07  Wednesday  \n",
       "7            Moscow  20:47:49  Wednesday  \n",
       "8            Moscow  09:17:40     Friday  \n",
       "9  Saint-Petersburg  21:20:49  Wednesday  "
      ]
     },
     "execution_count": 3,
     "metadata": {},
     "output_type": "execute_result"
    }
   ],
   "source": [
    "df.head(10)\n",
    "# получение первых 10 строк таблицы df"
   ]
  },
  {
   "cell_type": "markdown",
   "metadata": {
    "id": "EO73Kwic_Zct"
   },
   "source": [
    "Одной командой получить общую информацию о таблице:"
   ]
  },
  {
   "cell_type": "code",
   "execution_count": 4,
   "metadata": {
    "id": "DSf2kIb-_Zct"
   },
   "outputs": [
    {
     "name": "stdout",
     "output_type": "stream",
     "text": [
      "<class 'pandas.core.frame.DataFrame'>\n",
      "RangeIndex: 65079 entries, 0 to 65078\n",
      "Data columns (total 7 columns):\n",
      "  userID    65079 non-null object\n",
      "Track       63848 non-null object\n",
      "artist      57876 non-null object\n",
      "genre       63881 non-null object\n",
      "  City      65079 non-null object\n",
      "time        65079 non-null object\n",
      "Day         65079 non-null object\n",
      "dtypes: object(7)\n",
      "memory usage: 3.5+ MB\n"
     ]
    }
   ],
   "source": [
    "df.info()\n",
    "# получение общей информации о данных в таблице df"
   ]
  },
  {
   "cell_type": "markdown",
   "metadata": {
    "id": "TaQ2Iwbr_Zct"
   },
   "source": [
    "Итак, в таблице семь столбцов. Тип данных во всех столбцах — `object`.\n",
    "\n",
    "Согласно документации к данным:\n",
    "* `userID` — идентификатор пользователя;\n",
    "* `Track` — название трека;  \n",
    "* `artist` — имя исполнителя;\n",
    "* `genre` — название жанра;\n",
    "* `City` — город пользователя;\n",
    "* `time` — время начала прослушивания;\n",
    "* `Day` — день недели.\n",
    "\n",
    "В названиях колонок видны три нарушения стиля:\n",
    "1. Строчные буквы сочетаются с прописными.\n",
    "2. Встречаются пробелы.\n",
    "3. Отсутствует змеиный регистр.\n",
    "\n",
    "\n",
    "\n",
    "\n",
    "Количество значений в столбцах различается. Значит, в данных есть пропущенные значения.\n"
   ]
  },
  {
   "cell_type": "markdown",
   "metadata": {},
   "source": [
    "<div class=\"alert alert-danger\">\n",
    "<b>Ошибка:</b> \n",
    "<br>Ты забыл написать ответ в пункте 3)\n",
    "</div>"
   ]
  },
  {
   "cell_type": "markdown",
   "metadata": {},
   "source": [
    "<div class=\"alert alert-success\">\n",
    "<b>Успех v2:</b> \n",
    "<br>Ты абсолютно правильно ответил на вопрос в этом задании! Отличная работа!\n",
    "</div>"
   ]
  },
  {
   "cell_type": "markdown",
   "metadata": {
    "id": "MCB6-dXG_Zct"
   },
   "source": [
    "**Выводы**\n",
    "\n",
    "В каждой строке таблицы — данные о прослушанном треке. Часть колонок описывает саму композицию: название, исполнителя и жанр. Остальные данные рассказывают о пользователе: из какого он города, когда он слушал музыку. \n",
    "\n",
    "Предварительно можно утверждать, что, данных достаточно для проверки гипотез. Но встречаются пропуски в данных, а в названиях колонок — расхождения с хорошим стилем.\n",
    "\n",
    "Чтобы двигаться дальше, нужно устранить проблемы в данных."
   ]
  },
  {
   "cell_type": "markdown",
   "metadata": {
    "id": "SjYF6Ub9_Zct"
   },
   "source": [
    "## Предобработка данных\n",
    "Исправьте стиль в заголовках столбцов, исключите пропуски. Затем проверьте данные на дубликаты."
   ]
  },
  {
   "cell_type": "markdown",
   "metadata": {
    "id": "dIaKXr29_Zct"
   },
   "source": [
    "### Стиль заголовков\n",
    "Выведите на экран названия столбцов:"
   ]
  },
  {
   "cell_type": "code",
   "execution_count": 5,
   "metadata": {
    "id": "oKOTdF_Q_Zct"
   },
   "outputs": [
    {
     "data": {
      "text/plain": [
       "Index(['  userID', 'Track', 'artist', 'genre', '  City  ', 'time', 'Day'], dtype='object')"
      ]
     },
     "execution_count": 5,
     "metadata": {},
     "output_type": "execute_result"
    }
   ],
   "source": [
    "df.columns\n",
    "# перечень названий столбцов таблицы df"
   ]
  },
  {
   "cell_type": "markdown",
   "metadata": {
    "id": "FPZA3ki8xe7T"
   },
   "source": []
  },
  {
   "cell_type": "markdown",
   "metadata": {
    "id": "zj5534cv_Zct"
   },
   "source": [
    "Приведите названия в соответствие с хорошим стилем:\n",
    "* несколько слов в названии запишите в «змеином_регистре»,\n",
    "* все символы сделайте строчными,\n",
    "* устраните пробелы.\n",
    "\n",
    "Для этого переименуйте колонки так:\n",
    "* `'  userID'` → `'user_id'`;\n",
    "* `'Track'` → `'track'`;\n",
    "* `'  City  '` → `'city'`;\n",
    "* `'Day'` → `'day'`."
   ]
  },
  {
   "cell_type": "code",
   "execution_count": 6,
   "metadata": {
    "id": "ISlFqs5y_Zct"
   },
   "outputs": [],
   "source": [
    "df = df.rename(columns={'  userID': 'user_id', 'Track': 'track', '  City  ': 'city', 'Day': 'day'})\n",
    "# переименование столбцов"
   ]
  },
  {
   "cell_type": "markdown",
   "metadata": {
    "id": "1dqbh00J_Zct"
   },
   "source": [
    "Проверьте результат. Для этого ещё раз выведите на экран названия столбцов:"
   ]
  },
  {
   "cell_type": "code",
   "execution_count": 7,
   "metadata": {
    "id": "d4NOAmTW_Zct"
   },
   "outputs": [
    {
     "data": {
      "text/plain": [
       "Index(['user_id', 'track', 'artist', 'genre', 'city', 'time', 'day'], dtype='object')"
      ]
     },
     "execution_count": 7,
     "metadata": {},
     "output_type": "execute_result"
    }
   ],
   "source": [
    "df.columns\n",
    "# проверка результатов - перечень названий столбцов"
   ]
  },
  {
   "cell_type": "markdown",
   "metadata": {
    "id": "5ISfbcfY_Zct"
   },
   "source": [
    "### Пропуски значений\n",
    "Сначала посчитайте, сколько в таблице пропущенных значений. Для этого достаточно двух методов `pandas`:"
   ]
  },
  {
   "cell_type": "code",
   "execution_count": 8,
   "metadata": {
    "id": "RskX29qr_Zct"
   },
   "outputs": [
    {
     "data": {
      "text/plain": [
       "user_id       0\n",
       "track      1231\n",
       "artist     7203\n",
       "genre      1198\n",
       "city          0\n",
       "time          0\n",
       "day           0\n",
       "dtype: int64"
      ]
     },
     "execution_count": 8,
     "metadata": {},
     "output_type": "execute_result"
    }
   ],
   "source": [
    "df.isnull().sum()\n",
    "# подсчёт пропусков"
   ]
  },
  {
   "cell_type": "markdown",
   "metadata": {
    "id": "qubhgnlO_Zct"
   },
   "source": [
    "Не все пропущенные значения влияют на исследование. Так в `track` и `artist` пропуски не важны для вашей работы. Достаточно заменить их явными обозначениями.\n",
    "\n",
    "Но пропуски в `genre` могут помешать сравнению музыкальных вкусов в Москве и Санкт-Петербурге. На практике было бы правильно установить причину пропусков и восстановить данные. Такой возможности нет в учебном проекте. Придётся:\n",
    "* заполнить и эти пропуски явными обозначениями,\n",
    "* оценить, насколько они повредят расчётам. "
   ]
  },
  {
   "cell_type": "markdown",
   "metadata": {
    "id": "fSv2laPA_Zct"
   },
   "source": [
    "Замените пропущенные значения в столбцах `track`, `artist` и `genre` на строку `'unknown'`. Для этого создайте список `columns_to_replace`, переберите его элементы циклом `for` и для каждого столбца выполните замену пропущенных значений:"
   ]
  },
  {
   "cell_type": "code",
   "execution_count": 9,
   "metadata": {
    "id": "KplB5qWs_Zct"
   },
   "outputs": [],
   "source": [
    "columns_to_replace = ['track', 'artist', 'genre']\n",
    "for col in columns_to_replace:\n",
    "    df[col] = df[col].fillna('unknown')\n",
    "\n",
    "# перебор названий столбцов в цикле и замена пропущенных значений на 'unknown'"
   ]
  },
  {
   "cell_type": "markdown",
   "metadata": {
    "id": "Ilsm-MZo_Zct"
   },
   "source": [
    "Убедитесь, что в таблице не осталось пропусков. Для этого ещё раз посчитайте пропущенные значения."
   ]
  },
  {
   "cell_type": "code",
   "execution_count": 10,
   "metadata": {
    "id": "Tq4nYRX4_Zct"
   },
   "outputs": [
    {
     "data": {
      "text/plain": [
       "user_id    0\n",
       "track      0\n",
       "artist     0\n",
       "genre      0\n",
       "city       0\n",
       "time       0\n",
       "day        0\n",
       "dtype: int64"
      ]
     },
     "execution_count": 10,
     "metadata": {},
     "output_type": "execute_result"
    }
   ],
   "source": [
    "df.isnull().sum()\n",
    "# подсчёт пропусков"
   ]
  },
  {
   "cell_type": "markdown",
   "metadata": {},
   "source": [
    "<div class=\"alert alert-danger\">\n",
    "<b>Ошибка:</b> \n",
    "<br>Код падает с ошибкой из-за этого пропуски остались. Поправь, пожалуйста\n",
    "</div>"
   ]
  },
  {
   "cell_type": "markdown",
   "metadata": {},
   "source": [
    "<div class=\"alert alert-success\">\n",
    "<b>Комментарий ревьюера v2:</b>\n",
    "<br>✅\n",
    "</div>"
   ]
  },
  {
   "cell_type": "markdown",
   "metadata": {
    "id": "BWKRtBJ3_Zct"
   },
   "source": [
    "### Дубликаты\n",
    "Посчитайте явные дубликаты в таблице одной командой:"
   ]
  },
  {
   "cell_type": "code",
   "execution_count": 11,
   "metadata": {
    "id": "36eES_S0_Zct"
   },
   "outputs": [
    {
     "data": {
      "text/plain": [
       "3826"
      ]
     },
     "execution_count": 11,
     "metadata": {},
     "output_type": "execute_result"
    }
   ],
   "source": [
    "df.duplicated().sum()\n",
    "# подсчёт явных дубликатов"
   ]
  },
  {
   "cell_type": "markdown",
   "metadata": {
    "id": "Ot25h6XR_Zct"
   },
   "source": [
    "Вызовите специальный метод `pandas`, чтобы удалить явные дубликаты:"
   ]
  },
  {
   "cell_type": "code",
   "execution_count": 12,
   "metadata": {
    "id": "exFHq6tt_Zct"
   },
   "outputs": [],
   "source": [
    "df = df.drop_duplicates().reset_index(drop=True)\n",
    "# удаление явных дубликатов (с удалением старых индексов и формированием новых)"
   ]
  },
  {
   "cell_type": "markdown",
   "metadata": {
    "id": "Im2YwBEG_Zct"
   },
   "source": [
    "Ещё раз посчитайте явные дубликаты в таблице — убедитесь, что полностью от них избавились:"
   ]
  },
  {
   "cell_type": "code",
   "execution_count": 13,
   "metadata": {
    "id": "-8PuNWQ0_Zct"
   },
   "outputs": [
    {
     "data": {
      "text/plain": [
       "0"
      ]
     },
     "execution_count": 13,
     "metadata": {},
     "output_type": "execute_result"
    }
   ],
   "source": [
    "df.duplicated().sum()\n",
    "# проверка на отсутствие дубликатов"
   ]
  },
  {
   "cell_type": "markdown",
   "metadata": {
    "id": "QlFBsxAr_Zct"
   },
   "source": [
    "Теперь избавьтесь от неявных дубликатов в колонке `genre`. Например, название одного и того же жанра может быть записано немного по-разному. Такие ошибки тоже повлияют на результат исследования."
   ]
  },
  {
   "cell_type": "markdown",
   "metadata": {
    "id": "eSjWwsOh_Zct"
   },
   "source": [
    "Выведите на экран список уникальных названий жанров, отсортированный в алфавитном порядке. Для этого:\n",
    "* извлеките нужный столбец датафрейма, \n",
    "* примените к нему метод сортировки,\n",
    "* для отсортированного столбца вызовите метод, который вернёт уникальные значения из столбца."
   ]
  },
  {
   "cell_type": "code",
   "execution_count": 14,
   "metadata": {
    "id": "JIUcqzZN_Zct"
   },
   "outputs": [
    {
     "data": {
      "text/html": [
       "<div>\n",
       "<style scoped>\n",
       "    .dataframe tbody tr th:only-of-type {\n",
       "        vertical-align: middle;\n",
       "    }\n",
       "\n",
       "    .dataframe tbody tr th {\n",
       "        vertical-align: top;\n",
       "    }\n",
       "\n",
       "    .dataframe thead th {\n",
       "        text-align: right;\n",
       "    }\n",
       "</style>\n",
       "<table border=\"1\" class=\"dataframe\">\n",
       "  <thead>\n",
       "    <tr style=\"text-align: right;\">\n",
       "      <th></th>\n",
       "      <th>user_id</th>\n",
       "      <th>track</th>\n",
       "      <th>artist</th>\n",
       "      <th>genre</th>\n",
       "      <th>city</th>\n",
       "      <th>time</th>\n",
       "      <th>day</th>\n",
       "    </tr>\n",
       "  </thead>\n",
       "  <tbody>\n",
       "    <tr>\n",
       "      <td>6465</td>\n",
       "      <td>1D4661</td>\n",
       "      <td>Раз два три</td>\n",
       "      <td>Какао</td>\n",
       "      <td>электроника</td>\n",
       "      <td>Saint-Petersburg</td>\n",
       "      <td>08:54:15</td>\n",
       "      <td>Wednesday</td>\n",
       "    </tr>\n",
       "    <tr>\n",
       "      <td>8448</td>\n",
       "      <td>A439123F</td>\n",
       "      <td>Flip It</td>\n",
       "      <td>unknown</td>\n",
       "      <td>ïîï</td>\n",
       "      <td>Moscow</td>\n",
       "      <td>09:08:51</td>\n",
       "      <td>Friday</td>\n",
       "    </tr>\n",
       "    <tr>\n",
       "      <td>27939</td>\n",
       "      <td>D7FB50DA</td>\n",
       "      <td>Drumming Circle</td>\n",
       "      <td>Professor Trance</td>\n",
       "      <td>worldbeat</td>\n",
       "      <td>Moscow</td>\n",
       "      <td>09:30:47</td>\n",
       "      <td>Monday</td>\n",
       "    </tr>\n",
       "    <tr>\n",
       "      <td>39063</td>\n",
       "      <td>AA1730E8</td>\n",
       "      <td>Anu</td>\n",
       "      <td>Kailash Kokopelli</td>\n",
       "      <td>worldbeat</td>\n",
       "      <td>Saint-Petersburg</td>\n",
       "      <td>20:16:34</td>\n",
       "      <td>Wednesday</td>\n",
       "    </tr>\n",
       "    <tr>\n",
       "      <td>38311</td>\n",
       "      <td>8DE5DE27</td>\n",
       "      <td>Warda</td>\n",
       "      <td>Asena</td>\n",
       "      <td>world</td>\n",
       "      <td>Saint-Petersburg</td>\n",
       "      <td>20:45:46</td>\n",
       "      <td>Friday</td>\n",
       "    </tr>\n",
       "    <tr>\n",
       "      <td>...</td>\n",
       "      <td>...</td>\n",
       "      <td>...</td>\n",
       "      <td>...</td>\n",
       "      <td>...</td>\n",
       "      <td>...</td>\n",
       "      <td>...</td>\n",
       "      <td>...</td>\n",
       "    </tr>\n",
       "    <tr>\n",
       "      <td>37784</td>\n",
       "      <td>77D3A7D9</td>\n",
       "      <td>Ой да</td>\n",
       "      <td>unknown</td>\n",
       "      <td>acoustic</td>\n",
       "      <td>Moscow</td>\n",
       "      <td>14:27:34</td>\n",
       "      <td>Monday</td>\n",
       "    </tr>\n",
       "    <tr>\n",
       "      <td>57580</td>\n",
       "      <td>23C64044</td>\n",
       "      <td>Don't Stop Me Now</td>\n",
       "      <td>Acoustic Heartstrings</td>\n",
       "      <td>acoustic</td>\n",
       "      <td>Moscow</td>\n",
       "      <td>13:30:01</td>\n",
       "      <td>Wednesday</td>\n",
       "    </tr>\n",
       "    <tr>\n",
       "      <td>3636</td>\n",
       "      <td>F10919ED</td>\n",
       "      <td>Ready For The Fire</td>\n",
       "      <td>Valley Of Wolves</td>\n",
       "      <td>acoustic</td>\n",
       "      <td>Saint-Petersburg</td>\n",
       "      <td>21:33:18</td>\n",
       "      <td>Monday</td>\n",
       "    </tr>\n",
       "    <tr>\n",
       "      <td>14611</td>\n",
       "      <td>1C7D9E90</td>\n",
       "      <td>Prelude – Ne Me Qui Te Pas</td>\n",
       "      <td>unknown</td>\n",
       "      <td>acoustic</td>\n",
       "      <td>Saint-Petersburg</td>\n",
       "      <td>21:47:42</td>\n",
       "      <td>Friday</td>\n",
       "    </tr>\n",
       "    <tr>\n",
       "      <td>31916</td>\n",
       "      <td>C40BC5DF</td>\n",
       "      <td>Shot in the Dark</td>\n",
       "      <td>Four80East</td>\n",
       "      <td>acid</td>\n",
       "      <td>Moscow</td>\n",
       "      <td>09:44:12</td>\n",
       "      <td>Friday</td>\n",
       "    </tr>\n",
       "  </tbody>\n",
       "</table>\n",
       "<p>61253 rows × 7 columns</p>\n",
       "</div>"
      ],
      "text/plain": [
       "        user_id                       track                 artist  \\\n",
       "6465     1D4661                 Раз два три                  Какао   \n",
       "8448   A439123F                     Flip It                unknown   \n",
       "27939  D7FB50DA             Drumming Circle       Professor Trance   \n",
       "39063  AA1730E8                         Anu      Kailash Kokopelli   \n",
       "38311  8DE5DE27                       Warda                  Asena   \n",
       "...         ...                         ...                    ...   \n",
       "37784  77D3A7D9                       Ой да                unknown   \n",
       "57580  23C64044           Don't Stop Me Now  Acoustic Heartstrings   \n",
       "3636   F10919ED          Ready For The Fire       Valley Of Wolves   \n",
       "14611  1C7D9E90  Prelude – Ne Me Qui Te Pas                unknown   \n",
       "31916  C40BC5DF            Shot in the Dark             Four80East   \n",
       "\n",
       "             genre              city      time        day  \n",
       "6465   электроника  Saint-Petersburg  08:54:15  Wednesday  \n",
       "8448           ïîï            Moscow  09:08:51     Friday  \n",
       "27939    worldbeat            Moscow  09:30:47     Monday  \n",
       "39063    worldbeat  Saint-Petersburg  20:16:34  Wednesday  \n",
       "38311        world  Saint-Petersburg  20:45:46     Friday  \n",
       "...            ...               ...       ...        ...  \n",
       "37784     acoustic            Moscow  14:27:34     Monday  \n",
       "57580     acoustic            Moscow  13:30:01  Wednesday  \n",
       "3636      acoustic  Saint-Petersburg  21:33:18     Monday  \n",
       "14611     acoustic  Saint-Petersburg  21:47:42     Friday  \n",
       "31916         acid            Moscow  09:44:12     Friday  \n",
       "\n",
       "[61253 rows x 7 columns]"
      ]
     },
     "execution_count": 14,
     "metadata": {},
     "output_type": "execute_result"
    }
   ],
   "source": [
    "genres_list = df.sort_values(by = 'genre', ascending = False)\n",
    "genres_list\n",
    "# Просмотр уникальных названий жанров"
   ]
  },
  {
   "cell_type": "markdown",
   "metadata": {},
   "source": [
    "<div class=\"alert alert-danger\">\n",
    "<b>Ошибка:</b> \n",
    "<br>Нужно применить метод .sort_values() для сортировки значений, чтобы было удобнее искать\n",
    "</div>"
   ]
  },
  {
   "cell_type": "markdown",
   "metadata": {},
   "source": [
    "<div class=\"alert alert-success\">\n",
    "<b>Комментарий ревьюера v2:</b>\n",
    "<br>Всё верно, но ты забыл применить метод unique(). Он был в твоём первом варианте проекта, поэтому правку засчитаем)\n",
    "</div>"
   ]
  },
  {
   "cell_type": "markdown",
   "metadata": {
    "id": "qej-Qmuo_Zct"
   },
   "source": [
    "Просмотрите список и найдите неявные дубликаты названия `hiphop`. Это могут быть названия с ошибками или альтернативные названия того же жанра.\n",
    "\n",
    "Вы увидите следующие неявные дубликаты:\n",
    "* *hip*,\n",
    "* *hop*,\n",
    "* *hip-hop*.\n",
    "\n",
    "Чтобы очистить от них таблицу, напишите функцию `replace_wrong_genres()` с двумя параметрами: \n",
    "* `wrong_genres` — список дубликатов,\n",
    "* `correct_genre` — строка с правильным значением.\n",
    "\n",
    "Функция должна исправить колонку `genre` в таблице `df`: заменить каждое значение из списка `wrong_genres` на значение из `correct_genre`."
   ]
  },
  {
   "cell_type": "code",
   "execution_count": 15,
   "metadata": {
    "id": "ErNDkmns_Zct"
   },
   "outputs": [],
   "source": [
    "def replace_wrong_genres(wrong_genres, correct_genre):\n",
    "    for wrong_genre in wrong_genres:\n",
    "        df['genre'] = df['genre'].replace(wrong_genre, correct_genre)\n",
    "# Функция для замены неявных дубликатов"
   ]
  },
  {
   "cell_type": "markdown",
   "metadata": {
    "id": "aDoBJxbA_Zct"
   },
   "source": [
    "Вызовите `replace_wrong_genres()` и передайте ей такие аргументы, чтобы она устранила неявные дубликаты: вместо `hip`, `hop` и `hip-hop` в таблице должно быть значение `hiphop`:"
   ]
  },
  {
   "cell_type": "code",
   "execution_count": 16,
   "metadata": {
    "id": "YN5i2hpmSo09"
   },
   "outputs": [],
   "source": [
    "duplicates = ['hip', 'hop', 'hip-hop']\n",
    "right_name = 'hiphop'\n",
    "replace_wrong_genres(duplicates, right_name)\n",
    "# Устранение неявных дубликатов"
   ]
  },
  {
   "cell_type": "markdown",
   "metadata": {
    "id": "zQKF16_RG15m"
   },
   "source": [
    "Проверьте, что заменили неправильные названия:\n",
    "\n",
    "*   hip\n",
    "*   hop\n",
    "*   hip-hop\n",
    "\n",
    "Выведите отсортированный список уникальных значений столбца `genre`:"
   ]
  },
  {
   "cell_type": "code",
   "execution_count": 17,
   "metadata": {
    "id": "wvixALnFG15m"
   },
   "outputs": [
    {
     "data": {
      "text/html": [
       "<div>\n",
       "<style scoped>\n",
       "    .dataframe tbody tr th:only-of-type {\n",
       "        vertical-align: middle;\n",
       "    }\n",
       "\n",
       "    .dataframe tbody tr th {\n",
       "        vertical-align: top;\n",
       "    }\n",
       "\n",
       "    .dataframe thead th {\n",
       "        text-align: right;\n",
       "    }\n",
       "</style>\n",
       "<table border=\"1\" class=\"dataframe\">\n",
       "  <thead>\n",
       "    <tr style=\"text-align: right;\">\n",
       "      <th></th>\n",
       "      <th>user_id</th>\n",
       "      <th>track</th>\n",
       "      <th>artist</th>\n",
       "      <th>genre</th>\n",
       "      <th>city</th>\n",
       "      <th>time</th>\n",
       "      <th>day</th>\n",
       "    </tr>\n",
       "  </thead>\n",
       "  <tbody>\n",
       "    <tr>\n",
       "      <td>6465</td>\n",
       "      <td>1D4661</td>\n",
       "      <td>Раз два три</td>\n",
       "      <td>Какао</td>\n",
       "      <td>электроника</td>\n",
       "      <td>Saint-Petersburg</td>\n",
       "      <td>08:54:15</td>\n",
       "      <td>Wednesday</td>\n",
       "    </tr>\n",
       "    <tr>\n",
       "      <td>8448</td>\n",
       "      <td>A439123F</td>\n",
       "      <td>Flip It</td>\n",
       "      <td>unknown</td>\n",
       "      <td>ïîï</td>\n",
       "      <td>Moscow</td>\n",
       "      <td>09:08:51</td>\n",
       "      <td>Friday</td>\n",
       "    </tr>\n",
       "    <tr>\n",
       "      <td>27939</td>\n",
       "      <td>D7FB50DA</td>\n",
       "      <td>Drumming Circle</td>\n",
       "      <td>Professor Trance</td>\n",
       "      <td>worldbeat</td>\n",
       "      <td>Moscow</td>\n",
       "      <td>09:30:47</td>\n",
       "      <td>Monday</td>\n",
       "    </tr>\n",
       "    <tr>\n",
       "      <td>39063</td>\n",
       "      <td>AA1730E8</td>\n",
       "      <td>Anu</td>\n",
       "      <td>Kailash Kokopelli</td>\n",
       "      <td>worldbeat</td>\n",
       "      <td>Saint-Petersburg</td>\n",
       "      <td>20:16:34</td>\n",
       "      <td>Wednesday</td>\n",
       "    </tr>\n",
       "    <tr>\n",
       "      <td>38311</td>\n",
       "      <td>8DE5DE27</td>\n",
       "      <td>Warda</td>\n",
       "      <td>Asena</td>\n",
       "      <td>world</td>\n",
       "      <td>Saint-Petersburg</td>\n",
       "      <td>20:45:46</td>\n",
       "      <td>Friday</td>\n",
       "    </tr>\n",
       "    <tr>\n",
       "      <td>...</td>\n",
       "      <td>...</td>\n",
       "      <td>...</td>\n",
       "      <td>...</td>\n",
       "      <td>...</td>\n",
       "      <td>...</td>\n",
       "      <td>...</td>\n",
       "      <td>...</td>\n",
       "    </tr>\n",
       "    <tr>\n",
       "      <td>37784</td>\n",
       "      <td>77D3A7D9</td>\n",
       "      <td>Ой да</td>\n",
       "      <td>unknown</td>\n",
       "      <td>acoustic</td>\n",
       "      <td>Moscow</td>\n",
       "      <td>14:27:34</td>\n",
       "      <td>Monday</td>\n",
       "    </tr>\n",
       "    <tr>\n",
       "      <td>57580</td>\n",
       "      <td>23C64044</td>\n",
       "      <td>Don't Stop Me Now</td>\n",
       "      <td>Acoustic Heartstrings</td>\n",
       "      <td>acoustic</td>\n",
       "      <td>Moscow</td>\n",
       "      <td>13:30:01</td>\n",
       "      <td>Wednesday</td>\n",
       "    </tr>\n",
       "    <tr>\n",
       "      <td>3636</td>\n",
       "      <td>F10919ED</td>\n",
       "      <td>Ready For The Fire</td>\n",
       "      <td>Valley Of Wolves</td>\n",
       "      <td>acoustic</td>\n",
       "      <td>Saint-Petersburg</td>\n",
       "      <td>21:33:18</td>\n",
       "      <td>Monday</td>\n",
       "    </tr>\n",
       "    <tr>\n",
       "      <td>14611</td>\n",
       "      <td>1C7D9E90</td>\n",
       "      <td>Prelude – Ne Me Qui Te Pas</td>\n",
       "      <td>unknown</td>\n",
       "      <td>acoustic</td>\n",
       "      <td>Saint-Petersburg</td>\n",
       "      <td>21:47:42</td>\n",
       "      <td>Friday</td>\n",
       "    </tr>\n",
       "    <tr>\n",
       "      <td>31916</td>\n",
       "      <td>C40BC5DF</td>\n",
       "      <td>Shot in the Dark</td>\n",
       "      <td>Four80East</td>\n",
       "      <td>acid</td>\n",
       "      <td>Moscow</td>\n",
       "      <td>09:44:12</td>\n",
       "      <td>Friday</td>\n",
       "    </tr>\n",
       "  </tbody>\n",
       "</table>\n",
       "<p>61253 rows × 7 columns</p>\n",
       "</div>"
      ],
      "text/plain": [
       "        user_id                       track                 artist  \\\n",
       "6465     1D4661                 Раз два три                  Какао   \n",
       "8448   A439123F                     Flip It                unknown   \n",
       "27939  D7FB50DA             Drumming Circle       Professor Trance   \n",
       "39063  AA1730E8                         Anu      Kailash Kokopelli   \n",
       "38311  8DE5DE27                       Warda                  Asena   \n",
       "...         ...                         ...                    ...   \n",
       "37784  77D3A7D9                       Ой да                unknown   \n",
       "57580  23C64044           Don't Stop Me Now  Acoustic Heartstrings   \n",
       "3636   F10919ED          Ready For The Fire       Valley Of Wolves   \n",
       "14611  1C7D9E90  Prelude – Ne Me Qui Te Pas                unknown   \n",
       "31916  C40BC5DF            Shot in the Dark             Four80East   \n",
       "\n",
       "             genre              city      time        day  \n",
       "6465   электроника  Saint-Petersburg  08:54:15  Wednesday  \n",
       "8448           ïîï            Moscow  09:08:51     Friday  \n",
       "27939    worldbeat            Moscow  09:30:47     Monday  \n",
       "39063    worldbeat  Saint-Petersburg  20:16:34  Wednesday  \n",
       "38311        world  Saint-Petersburg  20:45:46     Friday  \n",
       "...            ...               ...       ...        ...  \n",
       "37784     acoustic            Moscow  14:27:34     Monday  \n",
       "57580     acoustic            Moscow  13:30:01  Wednesday  \n",
       "3636      acoustic  Saint-Petersburg  21:33:18     Monday  \n",
       "14611     acoustic  Saint-Petersburg  21:47:42     Friday  \n",
       "31916         acid            Moscow  09:44:12     Friday  \n",
       "\n",
       "[61253 rows x 7 columns]"
      ]
     },
     "execution_count": 17,
     "metadata": {},
     "output_type": "execute_result"
    }
   ],
   "source": [
    "df.sort_values(by = 'genre', ascending = False)\n",
    "# Проверка на неявные дубликаты"
   ]
  },
  {
   "cell_type": "markdown",
   "metadata": {},
   "source": [
    "<div class=\"alert alert-danger\">\n",
    "<b>Ошибка:</b> \n",
    "<br>Нужно применить метод .sort_values() для сортировки значений, чтобы было удобнее искать\n",
    "</div>"
   ]
  },
  {
   "cell_type": "markdown",
   "metadata": {
    "id": "jz6a9-7HQUDd"
   },
   "source": [
    "**Выводы**\n",
    "\n",
    "Предобработка обнаружила три проблемы в данных:\n",
    "\n",
    "- нарушения в стиле заголовков,\n",
    "- пропущенные значения,\n",
    "- дубликаты — явные и неявные.\n",
    "\n",
    "Вы исправили заголовки, чтобы упростить работу с таблицей. Без дубликатов исследование станет более точным.\n",
    "\n",
    "Пропущенные значения вы заменили на `'unknown'`. Ещё предстоит увидеть, не повредят ли исследованию пропуски в колонке `genre`.\n",
    "\n",
    "Теперь можно перейти к проверке гипотез. "
   ]
  },
  {
   "cell_type": "markdown",
   "metadata": {},
   "source": [
    "<div class=\"alert alert-success\">\n",
    "<b>Успех:</b> \n",
    "<br>Супер! Дубликаты победили)\n",
    "</div>"
   ]
  },
  {
   "cell_type": "markdown",
   "metadata": {
    "id": "WttZHXH0SqKk"
   },
   "source": [
    "## Проверка гипотез"
   ]
  },
  {
   "cell_type": "markdown",
   "metadata": {
    "id": "Im936VVi_Zcu"
   },
   "source": [
    "### Сравнение поведения пользователей двух столиц"
   ]
  },
  {
   "cell_type": "markdown",
   "metadata": {
    "id": "nwt_MuaL_Zcu"
   },
   "source": [
    "Первая гипотеза утверждает, что пользователи по-разному слушают музыку в Москве и Санкт-Петербурге. Проверьте это предположение по данным о трёх днях недели — понедельнике, среде и пятнице. Для этого:\n",
    "\n",
    "* Разделите пользователей Москвы и Санкт-Петербурга\n",
    "* Сравните, сколько треков послушала каждая группа пользователей в понедельник, среду и пятницу.\n"
   ]
  },
  {
   "cell_type": "markdown",
   "metadata": {
    "id": "8Dw_YMmT_Zcu"
   },
   "source": [
    "Для тренировки сначала выполните каждый из расчётов по отдельности. \n",
    "\n",
    "Оцените активность пользователей в каждом городе. Сгруппируйте данные по городу и посчитайте прослушивания в каждой группе.\n",
    "\n"
   ]
  },
  {
   "cell_type": "code",
   "execution_count": 18,
   "metadata": {
    "id": "0_Qs96oh_Zcu"
   },
   "outputs": [
    {
     "data": {
      "text/plain": [
       "city\n",
       "Moscow              42741\n",
       "Saint-Petersburg    18512\n",
       "Name: genre, dtype: int64"
      ]
     },
     "execution_count": 18,
     "metadata": {},
     "output_type": "execute_result"
    }
   ],
   "source": [
    "df.groupby('city')['genre'].count()\n",
    "# Подсчёт прослушиваний в каждом городе"
   ]
  },
  {
   "cell_type": "markdown",
   "metadata": {
    "id": "dzli3w8o_Zcu"
   },
   "source": [
    "В Москве прослушиваний больше, чем в Петербурге. Из этого не следует, что московские пользователи чаще слушают музыку. Просто самих пользователей в Москве больше.\n",
    "\n",
    "Теперь сгруппируйте данные по дню недели и подсчитайте прослушивания в понедельник, среду и пятницу. Учтите, что в данных есть информация только о прослушиваниях только за эти дни.\n"
   ]
  },
  {
   "cell_type": "code",
   "execution_count": 19,
   "metadata": {
    "id": "uZMKjiJz_Zcu"
   },
   "outputs": [
    {
     "data": {
      "text/plain": [
       "day\n",
       "Friday       21840\n",
       "Monday       21354\n",
       "Wednesday    18059\n",
       "Name: genre, dtype: int64"
      ]
     },
     "execution_count": 19,
     "metadata": {},
     "output_type": "execute_result"
    }
   ],
   "source": [
    "df.groupby('day')['genre'].count()\n",
    "# Подсчёт прослушиваний в каждый из трёх дней"
   ]
  },
  {
   "cell_type": "markdown",
   "metadata": {
    "id": "cC2tNrlL_Zcu"
   },
   "source": [
    "В среднем пользователи из двух городов менее активны по средам. Но картина может измениться, если рассмотреть каждый город в отдельности."
   ]
  },
  {
   "cell_type": "markdown",
   "metadata": {
    "id": "POzs8bGa_Zcu"
   },
   "source": [
    "Вы видели, как работает группировка по городу и по дням недели. Теперь напишите функцию, которая объединит два эти расчёта.\n",
    "\n",
    "Создайте функцию `number_tracks()`, которая посчитает прослушивания для заданного дня и города. Ей понадобятся два параметра:\n",
    "* день недели,\n",
    "* название города.\n",
    "\n",
    "В функции сохраните в переменную строки исходной таблицы, у которых значение:\n",
    "  * в колонке `day` равно параметру `day`,\n",
    "  * в колонке `city` равно параметру `city`.\n",
    "\n",
    "Для этого примените последовательную фильтрацию с логической индексацией.\n",
    "\n",
    "Затем посчитайте значения в столбце `user_id` получившейся таблицы. Результат сохраните в новую переменную. Верните эту переменную из функции."
   ]
  },
  {
   "cell_type": "code",
   "execution_count": 20,
   "metadata": {
    "id": "Nz3GdQB1_Zcu"
   },
   "outputs": [],
   "source": [
    "# <создание функции number_tracks()>\n",
    "# Объявляется функция с двумя параметрами: day, city.\n",
    "# В переменной track_list сохраняются те строки таблицы df, для которых \n",
    "# значение в столбце 'day' равно параметру day и одновременно значение\n",
    "# в столбце 'city' равно параметру city (используйте последовательную фильтрацию\n",
    "# с помощью логической индексации).\n",
    "# В переменной track_list_count сохраняется число значений столбца 'user_id',\n",
    "# рассчитанное методом count() для таблицы track_list.\n",
    "# Функция возвращает число - значение track_list_count.\n",
    "\n",
    "# Функция для подсчёта прослушиваний для конкретного города и дня.\n",
    "# С помощью последовательной фильтрации с логической индексацией она \n",
    "# сначала получит из исходной таблицы строки с нужным днём,\n",
    "# затем из результата отфильтрует строки с нужным городом,\n",
    "# методом count() посчитает количество значений в колонке user_id. \n",
    "# Это количество функция вернёт в качестве результата\n",
    "def number_tracks(df, day, city):\n",
    "    track_list = df[ (df['day'] == day) & (df['city'] == city) ]\n",
    "    track_list_count = track_list['genre'].count()\n",
    "    return track_list_count"
   ]
  },
  {
   "cell_type": "markdown",
   "metadata": {
    "id": "ytf7xFrFJQ2r"
   },
   "source": [
    "Вызовите `number_tracks()` шесть раз, меняя значение параметров — так, чтобы получить данные для каждого города в каждый из трёх дней."
   ]
  },
  {
   "cell_type": "code",
   "execution_count": 21,
   "metadata": {
    "id": "rJcRATNQ_Zcu"
   },
   "outputs": [
    {
     "data": {
      "text/plain": [
       "15740"
      ]
     },
     "execution_count": 21,
     "metadata": {},
     "output_type": "execute_result"
    }
   ],
   "source": [
    "number_tracks(df, 'Monday', 'Moscow')\n",
    "# количество прослушиваний в Москве по понедельникам"
   ]
  },
  {
   "cell_type": "code",
   "execution_count": 22,
   "metadata": {
    "id": "hq_ncZ5T_Zcu"
   },
   "outputs": [
    {
     "data": {
      "text/plain": [
       "5614"
      ]
     },
     "execution_count": 22,
     "metadata": {},
     "output_type": "execute_result"
    }
   ],
   "source": [
    "number_tracks(df, 'Monday', 'Saint-Petersburg')\n",
    "# количество прослушиваний в Санкт-Петербурге по понедельникам"
   ]
  },
  {
   "cell_type": "code",
   "execution_count": 23,
   "metadata": {
    "id": "_NTy2VPU_Zcu"
   },
   "outputs": [
    {
     "data": {
      "text/plain": [
       "11056"
      ]
     },
     "execution_count": 23,
     "metadata": {},
     "output_type": "execute_result"
    }
   ],
   "source": [
    "number_tracks(df, 'Wednesday', 'Moscow')\n",
    "# количество прослушиваний в Москве по средам"
   ]
  },
  {
   "cell_type": "code",
   "execution_count": 24,
   "metadata": {
    "id": "j2y3TAwo_Zcu"
   },
   "outputs": [
    {
     "data": {
      "text/plain": [
       "7003"
      ]
     },
     "execution_count": 24,
     "metadata": {},
     "output_type": "execute_result"
    }
   ],
   "source": [
    "number_tracks(df, 'Wednesday', 'Saint-Petersburg')\n",
    "# количество прослушиваний в Санкт-Петербурге по средам"
   ]
  },
  {
   "cell_type": "code",
   "execution_count": 25,
   "metadata": {
    "id": "vYDw5u_K_Zcu"
   },
   "outputs": [
    {
     "data": {
      "text/plain": [
       "15945"
      ]
     },
     "execution_count": 25,
     "metadata": {},
     "output_type": "execute_result"
    }
   ],
   "source": [
    "number_tracks(df, 'Friday', 'Moscow')\n",
    "# количество прослушиваний в Москве по пятницам"
   ]
  },
  {
   "cell_type": "code",
   "execution_count": 26,
   "metadata": {
    "id": "8_yzFtW3_Zcu"
   },
   "outputs": [
    {
     "data": {
      "text/plain": [
       "5895"
      ]
     },
     "execution_count": 26,
     "metadata": {},
     "output_type": "execute_result"
    }
   ],
   "source": [
    "number_tracks(df, 'Friday', 'Saint-Petersburg')\n",
    "# количество прослушиваний в Санкт-Петербурге по пятницам"
   ]
  },
  {
   "cell_type": "markdown",
   "metadata": {
    "id": "7QXffbO-_Zcu"
   },
   "source": [
    "Создайте c помощью конструктора `pd.DataFrame` таблицу, где\n",
    "* названия колонок — `['city', 'monday', 'wednesday', 'friday']`;\n",
    "* данные — результаты, которые вы получили с помощью `number_tracks`."
   ]
  },
  {
   "cell_type": "code",
   "execution_count": 27,
   "metadata": {
    "id": "APAcLpOr_Zcu"
   },
   "outputs": [
    {
     "data": {
      "text/html": [
       "<div>\n",
       "<style scoped>\n",
       "    .dataframe tbody tr th:only-of-type {\n",
       "        vertical-align: middle;\n",
       "    }\n",
       "\n",
       "    .dataframe tbody tr th {\n",
       "        vertical-align: top;\n",
       "    }\n",
       "\n",
       "    .dataframe thead th {\n",
       "        text-align: right;\n",
       "    }\n",
       "</style>\n",
       "<table border=\"1\" class=\"dataframe\">\n",
       "  <thead>\n",
       "    <tr style=\"text-align: right;\">\n",
       "      <th></th>\n",
       "      <th>city</th>\n",
       "      <th>monday</th>\n",
       "      <th>wednesday</th>\n",
       "      <th>friday</th>\n",
       "    </tr>\n",
       "  </thead>\n",
       "  <tbody>\n",
       "    <tr>\n",
       "      <td>0</td>\n",
       "      <td>Moscow</td>\n",
       "      <td>15347</td>\n",
       "      <td>10865</td>\n",
       "      <td>15680</td>\n",
       "    </tr>\n",
       "    <tr>\n",
       "      <td>1</td>\n",
       "      <td>Saint-Petersburg</td>\n",
       "      <td>5519</td>\n",
       "      <td>6913</td>\n",
       "      <td>5802</td>\n",
       "    </tr>\n",
       "  </tbody>\n",
       "</table>\n",
       "</div>"
      ],
      "text/plain": [
       "               city  monday  wednesday  friday\n",
       "0            Moscow   15347      10865   15680\n",
       "1  Saint-Petersburg    5519       6913    5802"
      ]
     },
     "execution_count": 27,
     "metadata": {},
     "output_type": "execute_result"
    }
   ],
   "source": [
    "data = [['Moscow', 15347, 10865, 15680],\n",
    "       ['Saint-Petersburg', 5519, 6913, 5802]]\n",
    "\n",
    "columns = ['city','monday','wednesday','friday']\n",
    "\n",
    "table = pd.DataFrame(data = data, columns = columns)\n",
    "\n",
    "table\n",
    "# Таблица с результатами"
   ]
  },
  {
   "cell_type": "markdown",
   "metadata": {},
   "source": [
    "<div class=\"alert alert-success\">\n",
    "<b>Успех:</b> \n",
    "<br>Датафрейм построен верно. Молодец!\n",
    "</div>"
   ]
  },
  {
   "cell_type": "markdown",
   "metadata": {
    "id": "-EgPIHYu_Zcu"
   },
   "source": [
    "**Выводы**\n",
    "\n",
    "Данные показывают разницу поведения пользователей:\n",
    "\n",
    "- В Москве пик прослушиваний приходится на понедельник и пятницу, а в среду заметен спад.\n",
    "- В Петербурге, наоборот, больше слушают музыку по средам. Активность в понедельник и пятницу здесь почти в равной мере уступает среде.\n",
    "\n",
    "Значит, данные говорят в пользу первой гипотезы."
   ]
  },
  {
   "cell_type": "markdown",
   "metadata": {
    "id": "atZAxtq4_Zcu"
   },
   "source": [
    "### Музыка в начале и в конце недели"
   ]
  },
  {
   "cell_type": "markdown",
   "metadata": {
    "id": "eXrQqXFH_Zcu"
   },
   "source": [
    "Согласно второй гипотезе, утром в понедельник в Москве преобладают одни жанры, а в Петербурге — другие. Так же и вечером пятницы преобладают разные жанры — в зависимости от города."
   ]
  },
  {
   "cell_type": "markdown",
   "metadata": {
    "id": "S8UcW6Hw_Zcu"
   },
   "source": [
    "Сохраните таблицы с данными в две переменные:\n",
    "* по Москве — в `moscow_general`;\n",
    "* по Санкт-Петербургу — в `spb_general`."
   ]
  },
  {
   "cell_type": "code",
   "execution_count": 28,
   "metadata": {
    "id": "qeaFfM_P_Zcu"
   },
   "outputs": [],
   "source": [
    "moscow_general = df[df['city'] == 'Moscow']\n",
    "# получение таблицы moscow_general из тех строк таблицы df, \n",
    "# для которых значение в столбце 'city' равно 'Moscow'\n"
   ]
  },
  {
   "cell_type": "code",
   "execution_count": 29,
   "metadata": {
    "id": "ORaVRKto_Zcu"
   },
   "outputs": [],
   "source": [
    "spb_general = df[df['city'] == 'Saint-Petersburg']\n",
    "# получение таблицы spb_general из тех строк таблицы df,\n",
    "# для которых значение в столбце 'city' равно 'Saint-Petersburg'\n"
   ]
  },
  {
   "cell_type": "markdown",
   "metadata": {
    "id": "MEJV-CX2_Zcu"
   },
   "source": [
    "Создайте функцию `genre_weekday()` с четырьмя параметрами:\n",
    "* таблица (датафрейм) с данными,\n",
    "* день недели,\n",
    "* начальная временная метка в формате 'hh:mm', \n",
    "* последняя временная метка в формате 'hh:mm'.\n",
    "\n",
    "Функция должна вернуть информацию о топ-10 жанров тех треков, которые прослушивали в указанный день, в промежутке между двумя отметками времени."
   ]
  },
  {
   "cell_type": "code",
   "execution_count": 30,
   "metadata": {
    "id": "laJT9BYl_Zcu"
   },
   "outputs": [],
   "source": [
    "# Объявление функции genre_weekday() с параметрами table, day, time1, time2,\n",
    "# которая возвращает информацию о самых популярных жанрах в указанный день в\n",
    "# заданное время:\n",
    "# 1) в переменную genre_df сохраняются те строки переданного датафрейма table, для\n",
    "#    которых одновременно:\n",
    "#    - значение в столбце day равно значению аргумента day\n",
    "#    - значение в столбце time больше значения аргумента time1\n",
    "#    - значение в столбце time меньше значения аргумента time2\n",
    "#    Используйте последовательную фильтрацию с помощью логической индексации.\n",
    "# 2) сгруппировать датафрейм genre_df по столбцу genre, взять один из его\n",
    "#    столбцов и посчитать методом count() количество записей для каждого из\n",
    "#    присутствующих жанров, получившийся Series записать в переменную\n",
    "#    genre_df_count\n",
    "# 3) отсортировать genre_df_count по убыванию встречаемости и сохранить\n",
    "#    в переменную genre_df_sorted\n",
    "# 4) вернуть Series из 10 первых значений genre_df_sorted, это будут топ-10\n",
    "#    популярных жанров (в указанный день, в заданное время)\n",
    "def genre_weekday(df,day,time1,time2):\n",
    "    genre_list = df[(df['day'] == day) & (df['time'] > time1) & (df['time'] < time2)]\n",
    "    genre_df_count = genre_list.groupby('genre')['genre'].count()\n",
    "    genre_list_sorted = genre_df_count.sort_values(ascending = False).head(10)\n",
    "    return genre_list_sorted\n"
   ]
  },
  {
   "cell_type": "markdown",
   "metadata": {},
   "source": [
    "<div class=\"alert alert-danger\">\n",
    "<b>Ошибка:</b> \n",
    "<br>Ты пропустил второй пункт в создании функции\n",
    "</div>"
   ]
  },
  {
   "cell_type": "markdown",
   "metadata": {},
   "source": [
    "<div class=\"alert alert-success\">\n",
    "<b>Комментарий ревьюера v2:</b>\n",
    "<br>Теперь всё работает как надо\n",
    "</div>"
   ]
  },
  {
   "cell_type": "markdown",
   "metadata": {
    "id": "la2s2_PF_Zcu"
   },
   "source": [
    "Cравните результаты функции `genre_weekday()` для Москвы и Санкт-Петербурга в понедельник утром (с 7:00 до 11:00) и в пятницу вечером (с 17:00 до 23:00):"
   ]
  },
  {
   "cell_type": "code",
   "execution_count": 31,
   "metadata": {
    "id": "yz7itPUQ_Zcu"
   },
   "outputs": [
    {
     "data": {
      "text/plain": [
       "genre\n",
       "pop            781\n",
       "dance          549\n",
       "electronic     480\n",
       "rock           474\n",
       "hiphop         286\n",
       "ruspop         186\n",
       "world          181\n",
       "rusrap         175\n",
       "alternative    164\n",
       "unknown        161\n",
       "Name: genre, dtype: int64"
      ]
     },
     "execution_count": 31,
     "metadata": {},
     "output_type": "execute_result"
    }
   ],
   "source": [
    "genre_weekday(moscow_general, 'Monday', '07:00:00', '11:00:00')\n",
    "# вызов функции для утра понедельника в Москве (вместо df — таблица moscow_general)\n",
    "# объекты, хранящие время, являются строками и сравниваются как строки\n",
    "# пример вызова: genre_weekday(moscow_general, 'Monday', '07:00', '11:00')"
   ]
  },
  {
   "cell_type": "code",
   "execution_count": 32,
   "metadata": {
    "id": "kwUcHPdy_Zcu"
   },
   "outputs": [
    {
     "data": {
      "text/plain": [
       "genre\n",
       "pop            218\n",
       "dance          182\n",
       "rock           162\n",
       "electronic     147\n",
       "hiphop          80\n",
       "ruspop          64\n",
       "alternative     58\n",
       "rusrap          55\n",
       "jazz            44\n",
       "classical       40\n",
       "Name: genre, dtype: int64"
      ]
     },
     "execution_count": 32,
     "metadata": {},
     "output_type": "execute_result"
    }
   ],
   "source": [
    "genre_weekday(spb_general, 'Monday','07:00:00', '11:00:00')\n",
    "# вызов функции для утра понедельника в Петербурге (вместо df — таблица spb_general)"
   ]
  },
  {
   "cell_type": "code",
   "execution_count": 33,
   "metadata": {
    "id": "EzXVRE1o_Zcu"
   },
   "outputs": [
    {
     "data": {
      "text/plain": [
       "genre\n",
       "pop            713\n",
       "rock           517\n",
       "dance          495\n",
       "electronic     482\n",
       "hiphop         273\n",
       "world          208\n",
       "ruspop         170\n",
       "alternative    163\n",
       "classical      163\n",
       "rusrap         142\n",
       "Name: genre, dtype: int64"
      ]
     },
     "execution_count": 33,
     "metadata": {},
     "output_type": "execute_result"
    }
   ],
   "source": [
    "genre_weekday(moscow_general, 'Friday','17:00:00', '23:00:00')\n",
    "# вызов функции для вечера пятницы в Москве"
   ]
  },
  {
   "cell_type": "code",
   "execution_count": 34,
   "metadata": {
    "id": "JZaEKu5v_Zcu"
   },
   "outputs": [
    {
     "data": {
      "text/plain": [
       "genre\n",
       "pop            256\n",
       "rock           216\n",
       "electronic     216\n",
       "dance          210\n",
       "hiphop          97\n",
       "alternative     63\n",
       "jazz            61\n",
       "classical       60\n",
       "rusrap          59\n",
       "world           54\n",
       "Name: genre, dtype: int64"
      ]
     },
     "execution_count": 34,
     "metadata": {},
     "output_type": "execute_result"
    }
   ],
   "source": [
    "genre_weekday(spb_general, 'Friday','17:00:00', '23:00:00')\n",
    "# вызов функции для вечера пятницы в Петербурге"
   ]
  },
  {
   "cell_type": "markdown",
   "metadata": {
    "id": "wrCe4MNX_Zcu"
   },
   "source": [
    "**Выводы**\n",
    "\n",
    "Если сравнить топ-10 жанров в понедельник утром, можно сделать такие выводы:\n",
    "\n",
    "1. В Москве и Петербурге слушают похожую музыку. Единственное отличие — в московский рейтинг вошёл жанр “world”, а в петербургский — джаз и классика.\n",
    "\n",
    "2. В Москве пропущенных значений оказалось так много, что значение `'unknown'` заняло десятое место среди самых популярных жанров. Значит, пропущенные значения занимают существенную долю в данных и угрожают достоверности исследования.\n",
    "\n",
    "Вечер пятницы не меняет эту картину. Некоторые жанры поднимаются немного выше, другие спускаются, но в целом топ-10 остаётся тем же самым.\n",
    "\n",
    "Таким образом, вторая гипотеза подтвердилась лишь частично:\n",
    "* Пользователи слушают похожую музыку в начале недели и в конце.\n",
    "* Разница между Москвой и Петербургом не слишком выражена. В Москве чаще слушают русскую популярную музыку, в Петербурге — джаз.\n",
    "\n",
    "Однако пропуски в данных ставят под сомнение этот результат. В Москве их так много, что рейтинг топ-10 мог бы выглядеть иначе, если бы не утерянные  данные о жанрах."
   ]
  },
  {
   "cell_type": "markdown",
   "metadata": {
    "id": "JolODAqr_Zcu"
   },
   "source": [
    "### Жанровые предпочтения в Москве и Петербурге\n",
    "\n",
    "Гипотеза: Петербург — столица рэпа, музыку этого жанра там слушают чаще, чем в Москве.  А Москва — город контрастов, в котором, тем не менее, преобладает поп-музыка."
   ]
  },
  {
   "cell_type": "markdown",
   "metadata": {
    "id": "DlegSvaT_Zcu"
   },
   "source": [
    "Сгруппируйте таблицу `moscow_general` по жанру и посчитайте прослушивания треков каждого жанра методом `count()`. Затем отсортируйте результат в порядке убывания и сохраните его в таблице `moscow_genres`."
   ]
  },
  {
   "cell_type": "code",
   "execution_count": 35,
   "metadata": {
    "id": "r19lIPke_Zcu"
   },
   "outputs": [],
   "source": [
    "moscow_genres = moscow_general.groupby('genre')['genre'].count().sort_values(ascending = False)\n",
    "# одной строкой: группировка таблицы moscow_general по столбцу 'genre', \n",
    "# подсчёт числа значений 'genre' в этой группировке методом count(), \n",
    "# сортировка получившегося Series в порядке убывания и сохранение в moscow_genres"
   ]
  },
  {
   "cell_type": "markdown",
   "metadata": {
    "id": "6kMuomxTiIr8"
   },
   "source": [
    "Выведите на экран первые десять строк `moscow_genres`:"
   ]
  },
  {
   "cell_type": "code",
   "execution_count": 36,
   "metadata": {
    "id": "WhCSooF8_Zcv"
   },
   "outputs": [
    {
     "data": {
      "text/plain": [
       "genre\n",
       "pop            5892\n",
       "dance          4435\n",
       "rock           3965\n",
       "electronic     3786\n",
       "hiphop         2096\n",
       "classical      1616\n",
       "world          1432\n",
       "alternative    1379\n",
       "ruspop         1372\n",
       "rusrap         1161\n",
       "Name: genre, dtype: int64"
      ]
     },
     "execution_count": 36,
     "metadata": {},
     "output_type": "execute_result"
    }
   ],
   "source": [
    "moscow_genres.head(10)\n",
    "# просмотр первых 10 строк moscow_genres"
   ]
  },
  {
   "cell_type": "markdown",
   "metadata": {
    "id": "cnPG2vnN_Zcv"
   },
   "source": [
    "Теперь повторите то же и для Петербурга.\n",
    "\n",
    "Сгруппируйте таблицу `spb_general` по жанру. Посчитайте прослушивания треков каждого жанра. Результат отсортируйте в порядке убывания и сохраните в таблице `spb_genres`:\n"
   ]
  },
  {
   "cell_type": "code",
   "execution_count": 37,
   "metadata": {
    "id": "gluLIpE7_Zcv"
   },
   "outputs": [],
   "source": [
    "spb_genres = spb_general.groupby('genre')['genre'].count().sort_values(ascending = False)\n",
    "# одной строкой: группировка таблицы spb_general по столбцу 'genre', \n",
    "# подсчёт числа значений 'genre' в этой группировке методом count(), \n",
    "# сортировка получившегося Series в порядке убывания и сохранение в spb_genres"
   ]
  },
  {
   "cell_type": "markdown",
   "metadata": {
    "id": "5Doha_ODgyQ8"
   },
   "source": [
    "Выведите на экран первые десять строк `spb_genres`:"
   ]
  },
  {
   "cell_type": "code",
   "execution_count": 38,
   "metadata": {
    "id": "uaGJHjVU_Zcv"
   },
   "outputs": [
    {
     "data": {
      "text/plain": [
       "genre\n",
       "pop            2431\n",
       "dance          1932\n",
       "rock           1879\n",
       "electronic     1736\n",
       "hiphop          960\n",
       "alternative     649\n",
       "classical       646\n",
       "rusrap          564\n",
       "ruspop          538\n",
       "world           515\n",
       "Name: genre, dtype: int64"
      ]
     },
     "execution_count": 38,
     "metadata": {},
     "output_type": "execute_result"
    }
   ],
   "source": [
    "spb_genres.head(10)"
   ]
  },
  {
   "cell_type": "markdown",
   "metadata": {
    "id": "RY51YJYu_Zcv"
   },
   "source": [
    "**Выводы**"
   ]
  },
  {
   "cell_type": "markdown",
   "metadata": {
    "id": "nVhnJEm__Zcv"
   },
   "source": [
    "Гипотеза частично подтвердилась:\n",
    "* Поп-музыка — самый популярный жанр в Москве, как и предполагала гипотеза. Более того, в топ-10 жанров встречается близкий жанр — русская популярная музыка.\n",
    "* Вопреки ожиданиям, рэп одинаково популярен в Москве и Петербурге. \n"
   ]
  },
  {
   "cell_type": "markdown",
   "metadata": {
    "id": "ykKQ0N65_Zcv"
   },
   "source": [
    "## Итоги исследования"
   ]
  },
  {
   "cell_type": "markdown",
   "metadata": {
    "id": "tjUwbHb3_Zcv"
   },
   "source": [
    "Вы проверили три гипотезы и установили:\n",
    "\n",
    "1. День недели по-разному влияет на активность пользователей в Москве и Петербурге. \n",
    "\n",
    "Первая гипотеза полностью подтвердилась.\n",
    "\n",
    "2. Музыкальные предпочтения не сильно меняются в течение недели — будь то Москва или Петербург. Небольшие различия заметны в начале недели, по понедельникам:\n",
    "* в Москве слушают музыку жанра “world”,\n",
    "* в Петербурге — джаз и классику.\n",
    "\n",
    "Таким образом, вторая гипотеза подтвердилась лишь отчасти. Этот результат мог оказаться иным, если бы не пропуски в данных.\n",
    "\n",
    "3. Во вкусах пользователей Москвы и Петербурга больше общего чем различий. Вопреки ожиданиям, предпочтения жанров в Петербурге напоминают московские.\n",
    "\n",
    "Третья гипотеза не подтвердилась. Если различия в предпочтениях и существуют, на основной массе пользователей они незаметны.\n",
    "\n",
    "**На практике исследования содержат проверки статистических гипотез.**\n",
    "Из данных одного сервиса не всегда можно сделать вывод о всех жителях города.\n",
    "Проверки статистических гипотез покажут, насколько они достоверны, исходя из имеющихся данных. \n",
    "С методами проверок гипотез вы ещё познакомитесь в следующих темах."
   ]
  },
  {
   "cell_type": "markdown",
   "metadata": {},
   "source": [
    "<div class=\"alert alert-danger\">\n",
    "<b>Итоговый комментарий ревьюера:</b> \n",
    "<br>Ты хорошо потрудился, большая часть работы сделана, но остаётся внести следующие правки:\n",
    "<br>- ответить на вопрос\n",
    "<br>- применить метод .sort_values()\n",
    "<br>- поправить цикл\n",
    "<br>- исправить функцию genre_weekday\n",
    "</div>"
   ]
  },
  {
   "cell_type": "markdown",
   "metadata": {},
   "source": [
    "<div class=\"alert alert-success\">\n",
    "<b>Итоговый комментарий ревьюера v2:</b>\n",
    "<br>Отличная работа! Все правки выполнены ✅\n",
    "<br>Ты продемонстрировал владение базовыми методами pandas, которые очень пригодятся тебе в будущих проектах. Желаю удачи в дальнейшем обучении! 😉\n",
    "</div>"
   ]
  }
 ],
 "metadata": {
  "ExecuteTimeLog": [
   {
    "duration": 4,
    "start_time": "2021-11-09T06:52:40.208Z"
   },
   {
    "duration": 719,
    "start_time": "2021-11-09T06:55:13.168Z"
   },
   {
    "duration": 193,
    "start_time": "2021-11-09T06:55:17.357Z"
   },
   {
    "duration": 28,
    "start_time": "2021-11-09T06:55:25.814Z"
   },
   {
    "duration": 3,
    "start_time": "2021-11-09T06:55:37.673Z"
   },
   {
    "duration": 33,
    "start_time": "2021-11-09T06:56:06.992Z"
   },
   {
    "duration": 6,
    "start_time": "2021-11-09T06:56:37.372Z"
   },
   {
    "duration": 4,
    "start_time": "2021-11-09T07:07:55.927Z"
   },
   {
    "duration": 5,
    "start_time": "2021-11-09T07:08:12.990Z"
   },
   {
    "duration": 30,
    "start_time": "2021-11-09T07:08:38.755Z"
   },
   {
    "duration": 1224,
    "start_time": "2021-11-09T07:15:46.000Z"
   },
   {
    "duration": 1088,
    "start_time": "2021-11-09T07:16:49.755Z"
   },
   {
    "duration": 6,
    "start_time": "2021-11-09T07:16:57.522Z"
   },
   {
    "duration": 31,
    "start_time": "2021-11-09T07:17:05.121Z"
   },
   {
    "duration": 30,
    "start_time": "2021-11-09T07:17:10.498Z"
   },
   {
    "duration": 348,
    "start_time": "2021-11-09T07:18:58.282Z"
   },
   {
    "duration": 292,
    "start_time": "2021-11-09T07:19:05.468Z"
   },
   {
    "duration": 268,
    "start_time": "2021-11-09T07:19:08.618Z"
   },
   {
    "duration": 260,
    "start_time": "2021-11-09T07:19:17.404Z"
   },
   {
    "duration": 269,
    "start_time": "2021-11-09T07:19:19.714Z"
   },
   {
    "duration": 751,
    "start_time": "2021-11-09T07:19:30.762Z"
   },
   {
    "duration": 196,
    "start_time": "2021-11-09T07:19:31.516Z"
   },
   {
    "duration": 32,
    "start_time": "2021-11-09T07:19:31.714Z"
   },
   {
    "duration": 33,
    "start_time": "2021-11-09T07:19:31.749Z"
   },
   {
    "duration": 7,
    "start_time": "2021-11-09T07:19:31.785Z"
   },
   {
    "duration": 1220,
    "start_time": "2021-11-09T07:19:31.794Z"
   },
   {
    "duration": -1537,
    "start_time": "2021-11-09T07:19:34.558Z"
   },
   {
    "duration": -1554,
    "start_time": "2021-11-09T07:19:34.576Z"
   },
   {
    "duration": -1566,
    "start_time": "2021-11-09T07:19:34.590Z"
   },
   {
    "duration": -1572,
    "start_time": "2021-11-09T07:19:34.599Z"
   },
   {
    "duration": -1582,
    "start_time": "2021-11-09T07:19:34.611Z"
   },
   {
    "duration": -1682,
    "start_time": "2021-11-09T07:19:34.713Z"
   },
   {
    "duration": -1692,
    "start_time": "2021-11-09T07:19:34.725Z"
   },
   {
    "duration": -1699,
    "start_time": "2021-11-09T07:19:34.735Z"
   },
   {
    "duration": -1709,
    "start_time": "2021-11-09T07:19:34.747Z"
   },
   {
    "duration": -1718,
    "start_time": "2021-11-09T07:19:34.758Z"
   },
   {
    "duration": -1731,
    "start_time": "2021-11-09T07:19:34.773Z"
   },
   {
    "duration": -1739,
    "start_time": "2021-11-09T07:19:34.784Z"
   },
   {
    "duration": -1779,
    "start_time": "2021-11-09T07:19:34.826Z"
   },
   {
    "duration": -1802,
    "start_time": "2021-11-09T07:19:34.851Z"
   },
   {
    "duration": -1829,
    "start_time": "2021-11-09T07:19:34.880Z"
   },
   {
    "duration": -1983,
    "start_time": "2021-11-09T07:19:35.036Z"
   },
   {
    "duration": -1991,
    "start_time": "2021-11-09T07:19:35.046Z"
   },
   {
    "duration": -1997,
    "start_time": "2021-11-09T07:19:35.054Z"
   },
   {
    "duration": -2003,
    "start_time": "2021-11-09T07:19:35.063Z"
   },
   {
    "duration": -2008,
    "start_time": "2021-11-09T07:19:35.070Z"
   },
   {
    "duration": -2016,
    "start_time": "2021-11-09T07:19:35.080Z"
   },
   {
    "duration": -2022,
    "start_time": "2021-11-09T07:19:35.088Z"
   },
   {
    "duration": -2028,
    "start_time": "2021-11-09T07:19:35.096Z"
   },
   {
    "duration": -2034,
    "start_time": "2021-11-09T07:19:35.104Z"
   },
   {
    "duration": -2041,
    "start_time": "2021-11-09T07:19:35.113Z"
   },
   {
    "duration": -1992,
    "start_time": "2021-11-09T07:19:35.121Z"
   },
   {
    "duration": -1999,
    "start_time": "2021-11-09T07:19:35.131Z"
   },
   {
    "duration": -2022,
    "start_time": "2021-11-09T07:19:35.156Z"
   },
   {
    "duration": -2029,
    "start_time": "2021-11-09T07:19:35.165Z"
   },
   {
    "duration": -2035,
    "start_time": "2021-11-09T07:19:35.173Z"
   },
   {
    "duration": -2041,
    "start_time": "2021-11-09T07:19:35.181Z"
   },
   {
    "duration": -2048,
    "start_time": "2021-11-09T07:19:35.190Z"
   },
   {
    "duration": 326,
    "start_time": "2021-11-09T07:30:17.498Z"
   },
   {
    "duration": 719,
    "start_time": "2021-11-09T07:30:30.369Z"
   },
   {
    "duration": 178,
    "start_time": "2021-11-09T07:30:33.338Z"
   },
   {
    "duration": 27,
    "start_time": "2021-11-09T07:30:37.121Z"
   },
   {
    "duration": 33,
    "start_time": "2021-11-09T07:30:41.081Z"
   },
   {
    "duration": 6,
    "start_time": "2021-11-09T07:30:53.866Z"
   },
   {
    "duration": 2088,
    "start_time": "2021-11-09T07:30:59.947Z"
   },
   {
    "duration": 6,
    "start_time": "2021-11-09T07:31:13.874Z"
   },
   {
    "duration": 37,
    "start_time": "2021-11-09T07:31:23.366Z"
   },
   {
    "duration": 102,
    "start_time": "2021-11-09T07:31:32.238Z"
   },
   {
    "duration": 1161,
    "start_time": "2021-11-09T07:32:06.744Z"
   },
   {
    "duration": 194,
    "start_time": "2021-11-09T07:37:00.427Z"
   },
   {
    "duration": 125,
    "start_time": "2021-11-09T07:37:21.172Z"
   },
   {
    "duration": 97,
    "start_time": "2021-11-09T07:38:36.184Z"
   },
   {
    "duration": 101,
    "start_time": "2021-11-09T07:42:23.478Z"
   },
   {
    "duration": 27,
    "start_time": "2021-11-09T07:42:58.057Z"
   },
   {
    "duration": 6,
    "start_time": "2021-11-09T07:43:03.401Z"
   },
   {
    "duration": 30,
    "start_time": "2021-11-09T07:43:16.172Z"
   },
   {
    "duration": 130,
    "start_time": "2021-11-09T07:47:41.402Z"
   },
   {
    "duration": 123,
    "start_time": "2021-11-09T07:48:50.179Z"
   },
   {
    "duration": 97,
    "start_time": "2021-11-09T07:51:42.188Z"
   },
   {
    "duration": 86,
    "start_time": "2021-11-09T07:51:46.204Z"
   },
   {
    "duration": 118,
    "start_time": "2021-11-09T08:06:53.724Z"
   },
   {
    "duration": 99,
    "start_time": "2021-11-09T08:19:03.553Z"
   },
   {
    "duration": 270,
    "start_time": "2021-11-09T08:21:03.113Z"
   },
   {
    "duration": -1484,
    "start_time": "2021-11-09T08:22:03.345Z"
   },
   {
    "duration": 30,
    "start_time": "2021-11-09T08:24:56.635Z"
   },
   {
    "duration": 90,
    "start_time": "2021-11-09T08:31:40.435Z"
   },
   {
    "duration": 5,
    "start_time": "2021-11-09T08:31:51.736Z"
   },
   {
    "duration": 106,
    "start_time": "2021-11-09T08:32:13.612Z"
   },
   {
    "duration": 76,
    "start_time": "2021-11-09T08:32:35.081Z"
   },
   {
    "duration": 7476,
    "start_time": "2021-11-09T08:33:27.409Z"
   },
   {
    "duration": 6,
    "start_time": "2021-11-09T08:33:51.167Z"
   },
   {
    "duration": 6,
    "start_time": "2021-11-09T08:33:54.424Z"
   },
   {
    "duration": 6,
    "start_time": "2021-11-09T08:39:44.984Z"
   },
   {
    "duration": 10,
    "start_time": "2021-11-09T08:40:22.023Z"
   },
   {
    "duration": 3,
    "start_time": "2021-11-09T08:43:49.995Z"
   },
   {
    "duration": 4,
    "start_time": "2021-11-09T08:48:50.950Z"
   },
   {
    "duration": 356,
    "start_time": "2021-11-09T08:49:31.259Z"
   },
   {
    "duration": 580,
    "start_time": "2021-11-09T08:52:35.351Z"
   },
   {
    "duration": 571,
    "start_time": "2021-11-09T08:56:31.610Z"
   },
   {
    "duration": 21,
    "start_time": "2021-11-09T08:56:44.356Z"
   },
   {
    "duration": 21,
    "start_time": "2021-11-09T08:56:48.018Z"
   },
   {
    "duration": 22,
    "start_time": "2021-11-09T08:57:39.606Z"
   },
   {
    "duration": 11,
    "start_time": "2021-11-09T08:58:37.795Z"
   },
   {
    "duration": 281,
    "start_time": "2021-11-09T09:02:14.724Z"
   },
   {
    "duration": 14,
    "start_time": "2021-11-09T09:02:24.289Z"
   },
   {
    "duration": 281,
    "start_time": "2021-11-09T09:02:54.401Z"
   },
   {
    "duration": 14,
    "start_time": "2021-11-09T09:03:30.512Z"
   },
   {
    "duration": 5,
    "start_time": "2021-11-09T09:04:20.522Z"
   },
   {
    "duration": 22,
    "start_time": "2021-11-09T09:04:49.495Z"
   },
   {
    "duration": 18,
    "start_time": "2021-11-09T09:05:09.912Z"
   },
   {
    "duration": 18,
    "start_time": "2021-11-09T09:05:42.628Z"
   },
   {
    "duration": 18,
    "start_time": "2021-11-09T09:06:04.767Z"
   },
   {
    "duration": 20,
    "start_time": "2021-11-09T09:06:26.751Z"
   },
   {
    "duration": 19,
    "start_time": "2021-11-09T09:06:45.260Z"
   },
   {
    "duration": 12,
    "start_time": "2021-11-09T09:07:13.611Z"
   },
   {
    "duration": 14,
    "start_time": "2021-11-09T09:10:14.157Z"
   },
   {
    "duration": 12,
    "start_time": "2021-11-09T09:11:36.113Z"
   },
   {
    "duration": 5,
    "start_time": "2021-11-09T09:14:49.950Z"
   },
   {
    "duration": 281,
    "start_time": "2021-11-09T09:15:11.238Z"
   },
   {
    "duration": 5,
    "start_time": "2021-11-09T09:16:55.079Z"
   },
   {
    "duration": -1451,
    "start_time": "2021-11-09T09:17:07.630Z"
   },
   {
    "duration": -1459,
    "start_time": "2021-11-09T09:17:07.640Z"
   },
   {
    "duration": 7731,
    "start_time": "2021-11-09T09:17:47.121Z"
   },
   {
    "duration": -1499,
    "start_time": "2021-11-09T09:17:56.354Z"
   },
   {
    "duration": -1503,
    "start_time": "2021-11-09T09:17:56.359Z"
   },
   {
    "duration": 5,
    "start_time": "2021-11-09T09:18:23.910Z"
   },
   {
    "duration": 586,
    "start_time": "2021-11-09T09:18:27.293Z"
   },
   {
    "duration": 6,
    "start_time": "2021-11-09T09:18:42.162Z"
   },
   {
    "duration": 40,
    "start_time": "2021-11-09T09:18:44.593Z"
   },
   {
    "duration": 30,
    "start_time": "2021-11-09T09:18:51.318Z"
   },
   {
    "duration": 35,
    "start_time": "2021-11-09T09:18:55.198Z"
   },
   {
    "duration": 27,
    "start_time": "2021-11-09T09:19:48.815Z"
   },
   {
    "duration": 12,
    "start_time": "2021-11-09T09:23:03.770Z"
   },
   {
    "duration": 7,
    "start_time": "2021-11-09T09:23:07.206Z"
   },
   {
    "duration": 9,
    "start_time": "2021-11-09T09:24:14.027Z"
   },
   {
    "duration": 7,
    "start_time": "2021-11-09T09:24:19.260Z"
   },
   {
    "duration": 624,
    "start_time": "2021-11-09T15:05:25.932Z"
   },
   {
    "duration": 133,
    "start_time": "2021-11-09T15:05:26.558Z"
   },
   {
    "duration": 16,
    "start_time": "2021-11-09T15:05:26.693Z"
   },
   {
    "duration": 44,
    "start_time": "2021-11-09T15:05:26.711Z"
   },
   {
    "duration": 24,
    "start_time": "2021-11-09T15:05:26.757Z"
   },
   {
    "duration": 46,
    "start_time": "2021-11-09T15:05:26.783Z"
   },
   {
    "duration": 20,
    "start_time": "2021-11-09T15:05:26.831Z"
   },
   {
    "duration": 31,
    "start_time": "2021-11-09T15:05:26.854Z"
   },
   {
    "duration": 9587,
    "start_time": "2021-11-09T15:05:26.887Z"
   },
   {
    "duration": -176,
    "start_time": "2021-11-09T15:05:36.653Z"
   },
   {
    "duration": -176,
    "start_time": "2021-11-09T15:05:36.654Z"
   },
   {
    "duration": -177,
    "start_time": "2021-11-09T15:05:36.656Z"
   },
   {
    "duration": -181,
    "start_time": "2021-11-09T15:05:36.661Z"
   },
   {
    "duration": -183,
    "start_time": "2021-11-09T15:05:36.663Z"
   },
   {
    "duration": -183,
    "start_time": "2021-11-09T15:05:36.664Z"
   },
   {
    "duration": -184,
    "start_time": "2021-11-09T15:05:36.666Z"
   },
   {
    "duration": -185,
    "start_time": "2021-11-09T15:05:36.668Z"
   },
   {
    "duration": -186,
    "start_time": "2021-11-09T15:05:36.670Z"
   },
   {
    "duration": -186,
    "start_time": "2021-11-09T15:05:36.671Z"
   },
   {
    "duration": -187,
    "start_time": "2021-11-09T15:05:36.673Z"
   },
   {
    "duration": -187,
    "start_time": "2021-11-09T15:05:36.674Z"
   },
   {
    "duration": -188,
    "start_time": "2021-11-09T15:05:36.676Z"
   },
   {
    "duration": -188,
    "start_time": "2021-11-09T15:05:36.677Z"
   },
   {
    "duration": -189,
    "start_time": "2021-11-09T15:05:36.679Z"
   },
   {
    "duration": -189,
    "start_time": "2021-11-09T15:05:36.680Z"
   },
   {
    "duration": -189,
    "start_time": "2021-11-09T15:05:36.681Z"
   },
   {
    "duration": -190,
    "start_time": "2021-11-09T15:05:36.683Z"
   },
   {
    "duration": -191,
    "start_time": "2021-11-09T15:05:36.684Z"
   },
   {
    "duration": -192,
    "start_time": "2021-11-09T15:05:36.686Z"
   },
   {
    "duration": -192,
    "start_time": "2021-11-09T15:05:36.687Z"
   },
   {
    "duration": -192,
    "start_time": "2021-11-09T15:05:36.688Z"
   },
   {
    "duration": -194,
    "start_time": "2021-11-09T15:05:36.690Z"
   },
   {
    "duration": -194,
    "start_time": "2021-11-09T15:05:36.691Z"
   },
   {
    "duration": -195,
    "start_time": "2021-11-09T15:05:36.693Z"
   },
   {
    "duration": -195,
    "start_time": "2021-11-09T15:05:36.694Z"
   },
   {
    "duration": -197,
    "start_time": "2021-11-09T15:05:36.696Z"
   },
   {
    "duration": -198,
    "start_time": "2021-11-09T15:05:36.698Z"
   },
   {
    "duration": -198,
    "start_time": "2021-11-09T15:05:36.699Z"
   },
   {
    "duration": 22,
    "start_time": "2021-11-09T15:12:16.942Z"
   },
   {
    "duration": 72,
    "start_time": "2021-11-09T15:12:20.332Z"
   },
   {
    "duration": 79,
    "start_time": "2021-11-09T15:12:21.512Z"
   },
   {
    "duration": 58,
    "start_time": "2021-11-09T15:12:22.527Z"
   },
   {
    "duration": 8,
    "start_time": "2021-11-09T15:13:24.486Z"
   },
   {
    "duration": 6,
    "start_time": "2021-11-09T15:13:34.661Z"
   },
   {
    "duration": 4,
    "start_time": "2021-11-09T15:13:34.981Z"
   },
   {
    "duration": 10,
    "start_time": "2021-11-09T15:13:35.727Z"
   },
   {
    "duration": 6,
    "start_time": "2021-11-09T15:13:36.070Z"
   },
   {
    "duration": 10,
    "start_time": "2021-11-09T15:13:37.081Z"
   },
   {
    "duration": 11,
    "start_time": "2021-11-09T15:13:37.415Z"
   },
   {
    "duration": 3,
    "start_time": "2021-11-09T15:13:37.963Z"
   },
   {
    "duration": 15,
    "start_time": "2021-11-09T15:13:38.325Z"
   },
   {
    "duration": 13,
    "start_time": "2021-11-09T15:13:38.509Z"
   },
   {
    "duration": 14,
    "start_time": "2021-11-09T15:13:38.681Z"
   },
   {
    "duration": 13,
    "start_time": "2021-11-09T15:13:38.859Z"
   },
   {
    "duration": 16,
    "start_time": "2021-11-09T15:13:39.038Z"
   },
   {
    "duration": 13,
    "start_time": "2021-11-09T15:13:39.214Z"
   },
   {
    "duration": 8,
    "start_time": "2021-11-09T15:13:39.578Z"
   },
   {
    "duration": 10,
    "start_time": "2021-11-09T15:13:40.731Z"
   },
   {
    "duration": 9,
    "start_time": "2021-11-09T15:13:41.114Z"
   },
   {
    "duration": 3,
    "start_time": "2021-11-09T15:13:41.649Z"
   },
   {
    "duration": 24,
    "start_time": "2021-11-09T15:13:42.256Z"
   },
   {
    "duration": 17,
    "start_time": "2021-11-09T15:13:42.441Z"
   },
   {
    "duration": 24,
    "start_time": "2021-11-09T15:13:42.622Z"
   },
   {
    "duration": 18,
    "start_time": "2021-11-09T15:13:42.774Z"
   },
   {
    "duration": 8,
    "start_time": "2021-11-09T15:13:49.145Z"
   },
   {
    "duration": 5,
    "start_time": "2021-11-09T15:13:50.079Z"
   },
   {
    "duration": 7,
    "start_time": "2021-11-09T15:13:50.899Z"
   },
   {
    "duration": 5,
    "start_time": "2021-11-09T15:13:53.538Z"
   },
   {
    "duration": 422,
    "start_time": "2021-11-09T18:26:31.980Z"
   },
   {
    "duration": 450,
    "start_time": "2021-11-09T19:50:01.258Z"
   },
   {
    "duration": 371,
    "start_time": "2021-11-09T19:50:11.651Z"
   },
   {
    "duration": 478,
    "start_time": "2021-11-09T19:50:18.845Z"
   },
   {
    "duration": 491,
    "start_time": "2021-11-09T19:57:35.664Z"
   },
   {
    "duration": 379,
    "start_time": "2021-11-09T19:57:41.458Z"
   },
   {
    "duration": 376,
    "start_time": "2021-11-09T19:58:00.660Z"
   },
   {
    "duration": 436,
    "start_time": "2021-11-09T20:08:11.914Z"
   },
   {
    "duration": 379,
    "start_time": "2021-11-09T20:08:33.906Z"
   },
   {
    "duration": 406,
    "start_time": "2021-11-10T06:20:35.606Z"
   },
   {
    "duration": 293,
    "start_time": "2021-11-10T06:20:42.700Z"
   },
   {
    "duration": 764,
    "start_time": "2021-11-10T06:20:53.504Z"
   },
   {
    "duration": 193,
    "start_time": "2021-11-10T06:20:57.324Z"
   },
   {
    "duration": 26,
    "start_time": "2021-11-10T06:21:00.805Z"
   },
   {
    "duration": 32,
    "start_time": "2021-11-10T06:21:04.423Z"
   },
   {
    "duration": 6,
    "start_time": "2021-11-10T06:21:14.988Z"
   },
   {
    "duration": 27,
    "start_time": "2021-11-10T06:21:36.652Z"
   },
   {
    "duration": 5,
    "start_time": "2021-11-10T06:21:40.147Z"
   },
   {
    "duration": 8245,
    "start_time": "2021-11-10T06:21:48.789Z"
   },
   {
    "duration": -1214,
    "start_time": "2021-11-10T06:21:58.252Z"
   },
   {
    "duration": 31,
    "start_time": "2021-11-10T06:22:05.775Z"
   },
   {
    "duration": 7811,
    "start_time": "2021-11-10T06:22:41.317Z"
   },
   {
    "duration": -1316,
    "start_time": "2021-11-10T06:22:50.447Z"
   },
   {
    "duration": 37,
    "start_time": "2021-11-10T06:22:49.497Z"
   },
   {
    "duration": 7261,
    "start_time": "2021-11-10T06:22:56.787Z"
   },
   {
    "duration": 34,
    "start_time": "2021-11-10T07:20:02.956Z"
   },
   {
    "duration": 33,
    "start_time": "2021-11-10T07:20:06.787Z"
   },
   {
    "duration": 88,
    "start_time": "2021-11-10T07:24:01.359Z"
   },
   {
    "duration": 82,
    "start_time": "2021-11-10T07:26:23.430Z"
   },
   {
    "duration": 83,
    "start_time": "2021-11-10T07:26:32.480Z"
   },
   {
    "duration": 83,
    "start_time": "2021-11-10T07:26:50.088Z"
   },
   {
    "duration": 84,
    "start_time": "2021-11-10T07:27:50.833Z"
   },
   {
    "duration": 5,
    "start_time": "2021-11-10T07:41:46.543Z"
   },
   {
    "duration": 6,
    "start_time": "2021-11-10T07:41:53.232Z"
   },
   {
    "duration": 329,
    "start_time": "2021-11-10T07:41:57.785Z"
   },
   {
    "duration": 267,
    "start_time": "2021-11-10T07:42:20.835Z"
   },
   {
    "duration": 5,
    "start_time": "2021-11-10T07:43:20.390Z"
   },
   {
    "duration": 287,
    "start_time": "2021-11-10T07:43:25.283Z"
   },
   {
    "duration": 269,
    "start_time": "2021-11-10T07:43:28.686Z"
   },
   {
    "duration": 6,
    "start_time": "2021-11-10T12:18:18.743Z"
   },
   {
    "duration": 5,
    "start_time": "2021-11-10T12:18:21.770Z"
   },
   {
    "duration": 334,
    "start_time": "2021-11-10T12:18:27.425Z"
   },
   {
    "duration": 276,
    "start_time": "2021-11-10T12:18:32.486Z"
   },
   {
    "duration": 270,
    "start_time": "2021-11-10T12:18:36.226Z"
   },
   {
    "duration": 582,
    "start_time": "2021-11-10T12:18:39.855Z"
   },
   {
    "duration": 306,
    "start_time": "2021-11-10T12:18:44.149Z"
   },
   {
    "duration": 274,
    "start_time": "2021-11-10T12:18:47.336Z"
   },
   {
    "duration": 8,
    "start_time": "2021-11-10T12:19:01.574Z"
   },
   {
    "duration": 355,
    "start_time": "2021-11-10T12:19:06.151Z"
   },
   {
    "duration": 6,
    "start_time": "2021-11-10T12:23:10.005Z"
   },
   {
    "duration": 330,
    "start_time": "2021-11-10T12:23:13.549Z"
   },
   {
    "duration": 303,
    "start_time": "2021-11-10T12:25:36.813Z"
   },
   {
    "duration": 336,
    "start_time": "2021-11-10T12:26:02.195Z"
   },
   {
    "duration": 6,
    "start_time": "2021-11-10T12:30:12.503Z"
   },
   {
    "duration": 298,
    "start_time": "2021-11-10T12:30:15.554Z"
   },
   {
    "duration": 269,
    "start_time": "2021-11-10T12:30:21.035Z"
   },
   {
    "duration": 271,
    "start_time": "2021-11-10T12:33:44.567Z"
   },
   {
    "duration": 329,
    "start_time": "2021-11-10T12:33:49.007Z"
   },
   {
    "duration": 6,
    "start_time": "2021-11-10T12:34:41.789Z"
   },
   {
    "duration": 6,
    "start_time": "2021-11-10T12:34:44.403Z"
   },
   {
    "duration": 275,
    "start_time": "2021-11-10T12:34:48.626Z"
   },
   {
    "duration": 5,
    "start_time": "2021-11-10T12:35:13.260Z"
   },
   {
    "duration": 786,
    "start_time": "2021-11-10T12:35:15.476Z"
   },
   {
    "duration": 319,
    "start_time": "2021-11-10T12:35:18.909Z"
   },
   {
    "duration": 1464,
    "start_time": "2021-11-10T12:35:21.980Z"
   },
   {
    "duration": 327,
    "start_time": "2021-11-10T12:35:34.128Z"
   },
   {
    "duration": 5,
    "start_time": "2021-11-10T12:35:53.229Z"
   },
   {
    "duration": 6,
    "start_time": "2021-11-10T12:35:57.382Z"
   },
   {
    "duration": 346,
    "start_time": "2021-11-10T12:36:00.902Z"
   },
   {
    "duration": 418,
    "start_time": "2021-11-11T06:27:42.267Z"
   },
   {
    "duration": 889,
    "start_time": "2021-11-11T06:27:58.869Z"
   },
   {
    "duration": 187,
    "start_time": "2021-11-11T06:27:59.761Z"
   },
   {
    "duration": 34,
    "start_time": "2021-11-11T06:28:03.010Z"
   },
   {
    "duration": 33,
    "start_time": "2021-11-11T06:28:10.840Z"
   },
   {
    "duration": 6,
    "start_time": "2021-11-11T06:28:17.169Z"
   },
   {
    "duration": 27,
    "start_time": "2021-11-11T06:28:23.298Z"
   },
   {
    "duration": 6,
    "start_time": "2021-11-11T06:28:28.523Z"
   },
   {
    "duration": 35,
    "start_time": "2021-11-11T06:28:31.934Z"
   },
   {
    "duration": 26,
    "start_time": "2021-11-11T06:28:36.065Z"
   },
   {
    "duration": 33,
    "start_time": "2021-11-11T06:28:40.173Z"
   },
   {
    "duration": 86,
    "start_time": "2021-11-11T06:28:49.225Z"
   },
   {
    "duration": 114,
    "start_time": "2021-11-11T06:30:58.968Z"
   },
   {
    "duration": 86,
    "start_time": "2021-11-11T06:31:02.585Z"
   },
   {
    "duration": 79,
    "start_time": "2021-11-11T06:31:10.895Z"
   },
   {
    "duration": 5,
    "start_time": "2021-11-11T06:34:50.090Z"
   },
   {
    "duration": 15,
    "start_time": "2021-11-11T06:34:53.405Z"
   },
   {
    "duration": 80,
    "start_time": "2021-11-11T06:34:57.195Z"
   },
   {
    "duration": 16,
    "start_time": "2021-11-11T06:35:12.745Z"
   },
   {
    "duration": 14,
    "start_time": "2021-11-11T06:35:16.355Z"
   },
   {
    "duration": 6,
    "start_time": "2021-11-11T06:35:29.636Z"
   },
   {
    "duration": 21,
    "start_time": "2021-11-11T06:35:29.745Z"
   },
   {
    "duration": 20,
    "start_time": "2021-11-11T06:35:32.837Z"
   },
   {
    "duration": 19,
    "start_time": "2021-11-11T06:35:34.285Z"
   },
   {
    "duration": 18,
    "start_time": "2021-11-11T06:35:35.806Z"
   },
   {
    "duration": 22,
    "start_time": "2021-11-11T06:35:41.125Z"
   },
   {
    "duration": 19,
    "start_time": "2021-11-11T06:35:45.588Z"
   },
   {
    "duration": 13,
    "start_time": "2021-11-11T06:35:55.788Z"
   },
   {
    "duration": 15,
    "start_time": "2021-11-11T06:36:04.706Z"
   },
   {
    "duration": 14,
    "start_time": "2021-11-11T06:36:07.306Z"
   },
   {
    "duration": 5,
    "start_time": "2021-11-11T06:37:05.276Z"
   },
   {
    "duration": 43,
    "start_time": "2021-11-11T06:37:09.334Z"
   },
   {
    "duration": 30,
    "start_time": "2021-11-11T06:37:13.656Z"
   },
   {
    "duration": 42,
    "start_time": "2021-11-11T06:37:18.855Z"
   },
   {
    "duration": 32,
    "start_time": "2021-11-11T06:37:22.645Z"
   },
   {
    "duration": 12,
    "start_time": "2021-11-11T06:37:28.990Z"
   },
   {
    "duration": 7,
    "start_time": "2021-11-11T06:37:33.483Z"
   },
   {
    "duration": 8,
    "start_time": "2021-11-11T06:37:37.926Z"
   },
   {
    "duration": 7,
    "start_time": "2021-11-11T06:37:40.936Z"
   },
   {
    "duration": 578,
    "start_time": "2021-11-11T19:25:29.098Z"
   },
   {
    "duration": 142,
    "start_time": "2021-11-11T19:25:29.677Z"
   },
   {
    "duration": 16,
    "start_time": "2021-11-11T19:25:29.821Z"
   },
   {
    "duration": 31,
    "start_time": "2021-11-11T19:25:29.839Z"
   },
   {
    "duration": 4,
    "start_time": "2021-11-11T19:25:29.872Z"
   },
   {
    "duration": 22,
    "start_time": "2021-11-11T19:25:29.878Z"
   },
   {
    "duration": 3,
    "start_time": "2021-11-11T19:25:29.902Z"
   },
   {
    "duration": 24,
    "start_time": "2021-11-11T19:25:29.908Z"
   },
   {
    "duration": 43,
    "start_time": "2021-11-11T19:25:29.934Z"
   },
   {
    "duration": 22,
    "start_time": "2021-11-11T19:25:29.979Z"
   },
   {
    "duration": 87,
    "start_time": "2021-11-11T19:25:30.003Z"
   },
   {
    "duration": 85,
    "start_time": "2021-11-11T19:25:30.091Z"
   },
   {
    "duration": 57,
    "start_time": "2021-11-11T19:25:30.178Z"
   },
   {
    "duration": 69,
    "start_time": "2021-11-11T19:25:30.236Z"
   },
   {
    "duration": 3,
    "start_time": "2021-11-11T19:25:30.307Z"
   },
   {
    "duration": 15,
    "start_time": "2021-11-11T19:25:30.311Z"
   },
   {
    "duration": 65,
    "start_time": "2021-11-11T19:25:30.328Z"
   },
   {
    "duration": 11,
    "start_time": "2021-11-11T19:25:30.394Z"
   },
   {
    "duration": 10,
    "start_time": "2021-11-11T19:25:30.406Z"
   },
   {
    "duration": 6,
    "start_time": "2021-11-11T19:25:30.418Z"
   },
   {
    "duration": 41,
    "start_time": "2021-11-11T19:25:30.426Z"
   },
   {
    "duration": 14,
    "start_time": "2021-11-11T19:25:30.469Z"
   },
   {
    "duration": 18,
    "start_time": "2021-11-11T19:25:30.486Z"
   },
   {
    "duration": 15,
    "start_time": "2021-11-11T19:25:30.506Z"
   },
   {
    "duration": 41,
    "start_time": "2021-11-11T19:25:30.523Z"
   },
   {
    "duration": 15,
    "start_time": "2021-11-11T19:25:30.566Z"
   },
   {
    "duration": 12,
    "start_time": "2021-11-11T19:25:30.583Z"
   },
   {
    "duration": 28,
    "start_time": "2021-11-11T19:25:30.596Z"
   },
   {
    "duration": 10,
    "start_time": "2021-11-11T19:25:30.626Z"
   },
   {
    "duration": 16,
    "start_time": "2021-11-11T19:25:30.638Z"
   },
   {
    "duration": 56,
    "start_time": "2021-11-11T19:25:30.655Z"
   },
   {
    "duration": 21,
    "start_time": "2021-11-11T19:25:30.712Z"
   },
   {
    "duration": 31,
    "start_time": "2021-11-11T19:25:30.735Z"
   },
   {
    "duration": 20,
    "start_time": "2021-11-11T19:25:30.767Z"
   },
   {
    "duration": 14,
    "start_time": "2021-11-11T19:25:30.789Z"
   },
   {
    "duration": 6,
    "start_time": "2021-11-11T19:25:30.805Z"
   },
   {
    "duration": 17,
    "start_time": "2021-11-11T19:25:30.813Z"
   },
   {
    "duration": 19,
    "start_time": "2021-11-11T19:25:30.832Z"
   },
   {
    "duration": 574,
    "start_time": "2021-11-11T19:29:47.685Z"
   },
   {
    "duration": 147,
    "start_time": "2021-11-11T19:29:48.261Z"
   },
   {
    "duration": 17,
    "start_time": "2021-11-11T19:29:48.410Z"
   },
   {
    "duration": 29,
    "start_time": "2021-11-11T19:29:48.429Z"
   },
   {
    "duration": 4,
    "start_time": "2021-11-11T19:29:48.463Z"
   },
   {
    "duration": 24,
    "start_time": "2021-11-11T19:29:48.469Z"
   },
   {
    "duration": 4,
    "start_time": "2021-11-11T19:29:48.495Z"
   },
   {
    "duration": 27,
    "start_time": "2021-11-11T19:29:48.502Z"
   },
   {
    "duration": 45,
    "start_time": "2021-11-11T19:29:48.531Z"
   },
   {
    "duration": 39,
    "start_time": "2021-11-11T19:29:48.578Z"
   },
   {
    "duration": 64,
    "start_time": "2021-11-11T19:29:48.619Z"
   },
   {
    "duration": 85,
    "start_time": "2021-11-11T19:29:48.685Z"
   },
   {
    "duration": 59,
    "start_time": "2021-11-11T19:29:48.772Z"
   },
   {
    "duration": 71,
    "start_time": "2021-11-11T19:29:48.833Z"
   },
   {
    "duration": 4,
    "start_time": "2021-11-11T19:29:48.907Z"
   },
   {
    "duration": 19,
    "start_time": "2021-11-11T19:29:48.913Z"
   },
   {
    "duration": 73,
    "start_time": "2021-11-11T19:29:48.935Z"
   },
   {
    "duration": 11,
    "start_time": "2021-11-11T19:29:49.009Z"
   },
   {
    "duration": 19,
    "start_time": "2021-11-11T19:29:49.021Z"
   },
   {
    "duration": 18,
    "start_time": "2021-11-11T19:29:49.042Z"
   },
   {
    "duration": 31,
    "start_time": "2021-11-11T19:29:49.062Z"
   },
   {
    "duration": 31,
    "start_time": "2021-11-11T19:29:49.095Z"
   },
   {
    "duration": 32,
    "start_time": "2021-11-11T19:29:49.129Z"
   },
   {
    "duration": 18,
    "start_time": "2021-11-11T19:29:49.163Z"
   },
   {
    "duration": 31,
    "start_time": "2021-11-11T19:29:49.183Z"
   },
   {
    "duration": 14,
    "start_time": "2021-11-11T19:29:49.217Z"
   },
   {
    "duration": 16,
    "start_time": "2021-11-11T19:29:49.233Z"
   },
   {
    "duration": 32,
    "start_time": "2021-11-11T19:29:49.250Z"
   },
   {
    "duration": 26,
    "start_time": "2021-11-11T19:29:49.284Z"
   },
   {
    "duration": 15,
    "start_time": "2021-11-11T19:29:49.312Z"
   },
   {
    "duration": 47,
    "start_time": "2021-11-11T19:29:49.329Z"
   },
   {
    "duration": 25,
    "start_time": "2021-11-11T19:29:49.378Z"
   },
   {
    "duration": 42,
    "start_time": "2021-11-11T19:29:49.405Z"
   },
   {
    "duration": 31,
    "start_time": "2021-11-11T19:29:49.449Z"
   },
   {
    "duration": 8,
    "start_time": "2021-11-11T19:29:49.482Z"
   },
   {
    "duration": 11,
    "start_time": "2021-11-11T19:29:49.492Z"
   },
   {
    "duration": 14,
    "start_time": "2021-11-11T19:29:49.505Z"
   },
   {
    "duration": 13,
    "start_time": "2021-11-11T19:29:49.521Z"
   },
   {
    "duration": 709,
    "start_time": "2021-11-11T19:38:48.328Z"
   },
   {
    "duration": 142,
    "start_time": "2021-11-11T19:38:49.040Z"
   },
   {
    "duration": 16,
    "start_time": "2021-11-11T19:38:49.186Z"
   },
   {
    "duration": 26,
    "start_time": "2021-11-11T19:38:49.204Z"
   },
   {
    "duration": 4,
    "start_time": "2021-11-11T19:38:49.232Z"
   },
   {
    "duration": 40,
    "start_time": "2021-11-11T19:38:49.238Z"
   },
   {
    "duration": 4,
    "start_time": "2021-11-11T19:38:49.280Z"
   },
   {
    "duration": 24,
    "start_time": "2021-11-11T19:38:49.286Z"
   },
   {
    "duration": 20,
    "start_time": "2021-11-11T19:38:49.311Z"
   },
   {
    "duration": 37,
    "start_time": "2021-11-11T19:38:49.333Z"
   },
   {
    "duration": 59,
    "start_time": "2021-11-11T19:38:49.372Z"
   },
   {
    "duration": 90,
    "start_time": "2021-11-11T19:38:49.433Z"
   },
   {
    "duration": 59,
    "start_time": "2021-11-11T19:38:49.524Z"
   },
   {
    "duration": 52,
    "start_time": "2021-11-11T19:38:49.585Z"
   },
   {
    "duration": 3,
    "start_time": "2021-11-11T19:38:49.638Z"
   },
   {
    "duration": 26,
    "start_time": "2021-11-11T19:38:49.643Z"
   },
   {
    "duration": 66,
    "start_time": "2021-11-11T19:38:49.671Z"
   },
   {
    "duration": 10,
    "start_time": "2021-11-11T19:38:49.739Z"
   },
   {
    "duration": 18,
    "start_time": "2021-11-11T19:38:49.751Z"
   },
   {
    "duration": 3,
    "start_time": "2021-11-11T19:38:49.771Z"
   },
   {
    "duration": 21,
    "start_time": "2021-11-11T19:38:49.776Z"
   },
   {
    "duration": 15,
    "start_time": "2021-11-11T19:38:49.800Z"
   },
   {
    "duration": 20,
    "start_time": "2021-11-11T19:38:49.816Z"
   },
   {
    "duration": 36,
    "start_time": "2021-11-11T19:38:49.838Z"
   },
   {
    "duration": 17,
    "start_time": "2021-11-11T19:38:49.875Z"
   },
   {
    "duration": 15,
    "start_time": "2021-11-11T19:38:49.894Z"
   },
   {
    "duration": 8,
    "start_time": "2021-11-11T19:38:49.911Z"
   },
   {
    "duration": 46,
    "start_time": "2021-11-11T19:38:49.921Z"
   },
   {
    "duration": 9,
    "start_time": "2021-11-11T19:38:49.968Z"
   },
   {
    "duration": 3,
    "start_time": "2021-11-11T19:38:49.979Z"
   },
   {
    "duration": 37,
    "start_time": "2021-11-11T19:38:49.984Z"
   },
   {
    "duration": 20,
    "start_time": "2021-11-11T19:38:50.022Z"
   },
   {
    "duration": 31,
    "start_time": "2021-11-11T19:38:50.064Z"
   },
   {
    "duration": 22,
    "start_time": "2021-11-11T19:38:50.097Z"
   },
   {
    "duration": 9,
    "start_time": "2021-11-11T19:38:50.121Z"
   },
   {
    "duration": 32,
    "start_time": "2021-11-11T19:38:50.132Z"
   },
   {
    "duration": 8,
    "start_time": "2021-11-11T19:38:50.166Z"
   },
   {
    "duration": 6,
    "start_time": "2021-11-11T19:38:50.176Z"
   },
   {
    "duration": 594,
    "start_time": "2021-11-11T19:41:22.322Z"
   },
   {
    "duration": 151,
    "start_time": "2021-11-11T19:41:22.918Z"
   },
   {
    "duration": 19,
    "start_time": "2021-11-11T19:41:23.074Z"
   },
   {
    "duration": 28,
    "start_time": "2021-11-11T19:41:23.095Z"
   },
   {
    "duration": 4,
    "start_time": "2021-11-11T19:41:23.125Z"
   },
   {
    "duration": 49,
    "start_time": "2021-11-11T19:41:23.131Z"
   },
   {
    "duration": 6,
    "start_time": "2021-11-11T19:41:23.183Z"
   },
   {
    "duration": 27,
    "start_time": "2021-11-11T19:41:23.192Z"
   },
   {
    "duration": 45,
    "start_time": "2021-11-11T19:41:23.221Z"
   },
   {
    "duration": 25,
    "start_time": "2021-11-11T19:41:23.268Z"
   },
   {
    "duration": 80,
    "start_time": "2021-11-11T19:41:23.295Z"
   },
   {
    "duration": 94,
    "start_time": "2021-11-11T19:41:23.377Z"
   },
   {
    "duration": 55,
    "start_time": "2021-11-11T19:41:23.473Z"
   },
   {
    "duration": 66,
    "start_time": "2021-11-11T19:41:23.530Z"
   },
   {
    "duration": 3,
    "start_time": "2021-11-11T19:41:23.598Z"
   },
   {
    "duration": 12,
    "start_time": "2021-11-11T19:41:23.603Z"
   },
   {
    "duration": 78,
    "start_time": "2021-11-11T19:41:23.617Z"
   },
   {
    "duration": 12,
    "start_time": "2021-11-11T19:41:23.697Z"
   },
   {
    "duration": 11,
    "start_time": "2021-11-11T19:41:23.710Z"
   },
   {
    "duration": 3,
    "start_time": "2021-11-11T19:41:23.723Z"
   },
   {
    "duration": 47,
    "start_time": "2021-11-11T19:41:23.728Z"
   },
   {
    "duration": 15,
    "start_time": "2021-11-11T19:41:23.779Z"
   },
   {
    "duration": 17,
    "start_time": "2021-11-11T19:41:23.797Z"
   },
   {
    "duration": 17,
    "start_time": "2021-11-11T19:41:23.816Z"
   },
   {
    "duration": 38,
    "start_time": "2021-11-11T19:41:23.835Z"
   },
   {
    "duration": 16,
    "start_time": "2021-11-11T19:41:23.875Z"
   },
   {
    "duration": 9,
    "start_time": "2021-11-11T19:41:23.893Z"
   },
   {
    "duration": 23,
    "start_time": "2021-11-11T19:41:23.904Z"
   },
   {
    "duration": 12,
    "start_time": "2021-11-11T19:41:23.929Z"
   },
   {
    "duration": 22,
    "start_time": "2021-11-11T19:41:23.943Z"
   },
   {
    "duration": 42,
    "start_time": "2021-11-11T19:41:23.966Z"
   },
   {
    "duration": 20,
    "start_time": "2021-11-11T19:41:24.010Z"
   },
   {
    "duration": 43,
    "start_time": "2021-11-11T19:41:24.032Z"
   },
   {
    "duration": 21,
    "start_time": "2021-11-11T19:41:24.076Z"
   },
   {
    "duration": 11,
    "start_time": "2021-11-11T19:41:24.099Z"
   },
   {
    "duration": 10,
    "start_time": "2021-11-11T19:41:24.112Z"
   },
   {
    "duration": 19,
    "start_time": "2021-11-11T19:41:24.124Z"
   },
   {
    "duration": 24,
    "start_time": "2021-11-11T19:41:24.145Z"
   },
   {
    "duration": 703,
    "start_time": "2021-11-11T19:42:21.057Z"
   },
   {
    "duration": 159,
    "start_time": "2021-11-11T19:42:21.762Z"
   },
   {
    "duration": 17,
    "start_time": "2021-11-11T19:42:21.923Z"
   },
   {
    "duration": 35,
    "start_time": "2021-11-11T19:42:21.943Z"
   },
   {
    "duration": 5,
    "start_time": "2021-11-11T19:42:21.980Z"
   },
   {
    "duration": 24,
    "start_time": "2021-11-11T19:42:21.987Z"
   },
   {
    "duration": 9,
    "start_time": "2021-11-11T19:42:22.013Z"
   },
   {
    "duration": 40,
    "start_time": "2021-11-11T19:42:22.024Z"
   },
   {
    "duration": 35,
    "start_time": "2021-11-11T19:42:22.067Z"
   },
   {
    "duration": 36,
    "start_time": "2021-11-11T19:42:22.105Z"
   },
   {
    "duration": 71,
    "start_time": "2021-11-11T19:42:22.143Z"
   },
   {
    "duration": 92,
    "start_time": "2021-11-11T19:42:22.216Z"
   },
   {
    "duration": 66,
    "start_time": "2021-11-11T19:42:22.311Z"
   },
   {
    "duration": 54,
    "start_time": "2021-11-11T19:42:22.378Z"
   },
   {
    "duration": 3,
    "start_time": "2021-11-11T19:42:22.434Z"
   },
   {
    "duration": 30,
    "start_time": "2021-11-11T19:42:22.439Z"
   },
   {
    "duration": 55,
    "start_time": "2021-11-11T19:42:22.471Z"
   },
   {
    "duration": 12,
    "start_time": "2021-11-11T19:42:22.527Z"
   },
   {
    "duration": 29,
    "start_time": "2021-11-11T19:42:22.541Z"
   },
   {
    "duration": 3,
    "start_time": "2021-11-11T19:42:22.572Z"
   },
   {
    "duration": 33,
    "start_time": "2021-11-11T19:42:22.577Z"
   },
   {
    "duration": 20,
    "start_time": "2021-11-11T19:42:22.612Z"
   },
   {
    "duration": 18,
    "start_time": "2021-11-11T19:42:22.636Z"
   },
   {
    "duration": 16,
    "start_time": "2021-11-11T19:42:22.664Z"
   },
   {
    "duration": 18,
    "start_time": "2021-11-11T19:42:22.682Z"
   },
   {
    "duration": 15,
    "start_time": "2021-11-11T19:42:22.701Z"
   },
   {
    "duration": 12,
    "start_time": "2021-11-11T19:42:22.717Z"
   },
   {
    "duration": 37,
    "start_time": "2021-11-11T19:42:22.731Z"
   },
   {
    "duration": 11,
    "start_time": "2021-11-11T19:42:22.770Z"
   },
   {
    "duration": 4,
    "start_time": "2021-11-11T19:42:22.783Z"
   },
   {
    "duration": 566,
    "start_time": "2021-11-11T19:42:22.788Z"
   },
   {
    "duration": -491,
    "start_time": "2021-11-11T19:42:23.848Z"
   },
   {
    "duration": -492,
    "start_time": "2021-11-11T19:42:23.850Z"
   },
   {
    "duration": -492,
    "start_time": "2021-11-11T19:42:23.851Z"
   },
   {
    "duration": -492,
    "start_time": "2021-11-11T19:42:23.852Z"
   },
   {
    "duration": -493,
    "start_time": "2021-11-11T19:42:23.854Z"
   },
   {
    "duration": -493,
    "start_time": "2021-11-11T19:42:23.855Z"
   },
   {
    "duration": -493,
    "start_time": "2021-11-11T19:42:23.857Z"
   },
   {
    "duration": 587,
    "start_time": "2021-11-11T19:42:54.908Z"
   },
   {
    "duration": 155,
    "start_time": "2021-11-11T19:42:55.497Z"
   },
   {
    "duration": 28,
    "start_time": "2021-11-11T19:42:55.654Z"
   },
   {
    "duration": 26,
    "start_time": "2021-11-11T19:42:55.685Z"
   },
   {
    "duration": 5,
    "start_time": "2021-11-11T19:42:55.713Z"
   },
   {
    "duration": 49,
    "start_time": "2021-11-11T19:42:55.719Z"
   },
   {
    "duration": 4,
    "start_time": "2021-11-11T19:42:55.770Z"
   },
   {
    "duration": 27,
    "start_time": "2021-11-11T19:42:55.777Z"
   },
   {
    "duration": 19,
    "start_time": "2021-11-11T19:42:55.806Z"
   },
   {
    "duration": 47,
    "start_time": "2021-11-11T19:42:55.827Z"
   },
   {
    "duration": 87,
    "start_time": "2021-11-11T19:42:55.876Z"
   },
   {
    "duration": 89,
    "start_time": "2021-11-11T19:42:55.966Z"
   },
   {
    "duration": 65,
    "start_time": "2021-11-11T19:42:56.063Z"
   },
   {
    "duration": 68,
    "start_time": "2021-11-11T19:42:56.130Z"
   },
   {
    "duration": 3,
    "start_time": "2021-11-11T19:42:56.200Z"
   },
   {
    "duration": 14,
    "start_time": "2021-11-11T19:42:56.205Z"
   },
   {
    "duration": 76,
    "start_time": "2021-11-11T19:42:56.220Z"
   },
   {
    "duration": 12,
    "start_time": "2021-11-11T19:42:56.298Z"
   },
   {
    "duration": 13,
    "start_time": "2021-11-11T19:42:56.312Z"
   },
   {
    "duration": 3,
    "start_time": "2021-11-11T19:42:56.328Z"
   },
   {
    "duration": 50,
    "start_time": "2021-11-11T19:42:56.333Z"
   },
   {
    "duration": 16,
    "start_time": "2021-11-11T19:42:56.385Z"
   },
   {
    "duration": 17,
    "start_time": "2021-11-11T19:42:56.405Z"
   },
   {
    "duration": 44,
    "start_time": "2021-11-11T19:42:56.424Z"
   },
   {
    "duration": 19,
    "start_time": "2021-11-11T19:42:56.470Z"
   },
   {
    "duration": 15,
    "start_time": "2021-11-11T19:42:56.491Z"
   },
   {
    "duration": 10,
    "start_time": "2021-11-11T19:42:56.508Z"
   },
   {
    "duration": 44,
    "start_time": "2021-11-11T19:42:56.519Z"
   },
   {
    "duration": 11,
    "start_time": "2021-11-11T19:42:56.565Z"
   },
   {
    "duration": 3,
    "start_time": "2021-11-11T19:42:56.578Z"
   },
   {
    "duration": 29,
    "start_time": "2021-11-11T19:42:56.583Z"
   },
   {
    "duration": 14,
    "start_time": "2021-11-11T19:42:56.614Z"
   },
   {
    "duration": 47,
    "start_time": "2021-11-11T19:42:56.630Z"
   },
   {
    "duration": 16,
    "start_time": "2021-11-11T19:42:56.679Z"
   },
   {
    "duration": 12,
    "start_time": "2021-11-11T19:42:56.697Z"
   },
   {
    "duration": 6,
    "start_time": "2021-11-11T19:42:56.711Z"
   },
   {
    "duration": 11,
    "start_time": "2021-11-11T19:42:56.718Z"
   },
   {
    "duration": 36,
    "start_time": "2021-11-11T19:42:56.731Z"
   },
   {
    "duration": 620,
    "start_time": "2021-11-11T19:43:23.677Z"
   },
   {
    "duration": 157,
    "start_time": "2021-11-11T19:43:24.300Z"
   },
   {
    "duration": 19,
    "start_time": "2021-11-11T19:43:24.459Z"
   },
   {
    "duration": 23,
    "start_time": "2021-11-11T19:43:24.480Z"
   },
   {
    "duration": 5,
    "start_time": "2021-11-11T19:43:24.505Z"
   },
   {
    "duration": 25,
    "start_time": "2021-11-11T19:43:24.511Z"
   },
   {
    "duration": 25,
    "start_time": "2021-11-11T19:43:24.539Z"
   },
   {
    "duration": 25,
    "start_time": "2021-11-11T19:43:24.566Z"
   },
   {
    "duration": 21,
    "start_time": "2021-11-11T19:43:24.592Z"
   },
   {
    "duration": 25,
    "start_time": "2021-11-11T19:43:24.614Z"
   },
   {
    "duration": 83,
    "start_time": "2021-11-11T19:43:24.641Z"
   },
   {
    "duration": 88,
    "start_time": "2021-11-11T19:43:24.726Z"
   },
   {
    "duration": 67,
    "start_time": "2021-11-11T19:43:24.816Z"
   },
   {
    "duration": 54,
    "start_time": "2021-11-11T19:43:24.885Z"
   },
   {
    "duration": 3,
    "start_time": "2021-11-11T19:43:24.941Z"
   },
   {
    "duration": 25,
    "start_time": "2021-11-11T19:43:24.946Z"
   },
   {
    "duration": 57,
    "start_time": "2021-11-11T19:43:24.972Z"
   },
   {
    "duration": 10,
    "start_time": "2021-11-11T19:43:25.031Z"
   },
   {
    "duration": 30,
    "start_time": "2021-11-11T19:43:25.043Z"
   },
   {
    "duration": 4,
    "start_time": "2021-11-11T19:43:25.075Z"
   },
   {
    "duration": 21,
    "start_time": "2021-11-11T19:43:25.081Z"
   },
   {
    "duration": 15,
    "start_time": "2021-11-11T19:43:25.105Z"
   },
   {
    "duration": 42,
    "start_time": "2021-11-11T19:43:25.122Z"
   },
   {
    "duration": 16,
    "start_time": "2021-11-11T19:43:25.166Z"
   },
   {
    "duration": 16,
    "start_time": "2021-11-11T19:43:25.184Z"
   },
   {
    "duration": 14,
    "start_time": "2021-11-11T19:43:25.201Z"
   },
   {
    "duration": 9,
    "start_time": "2021-11-11T19:43:25.217Z"
   },
   {
    "duration": 43,
    "start_time": "2021-11-11T19:43:25.227Z"
   },
   {
    "duration": 10,
    "start_time": "2021-11-11T19:43:25.272Z"
   },
   {
    "duration": 4,
    "start_time": "2021-11-11T19:43:25.284Z"
   },
   {
    "duration": 23,
    "start_time": "2021-11-11T19:43:25.290Z"
   },
   {
    "duration": 13,
    "start_time": "2021-11-11T19:43:25.314Z"
   },
   {
    "duration": 45,
    "start_time": "2021-11-11T19:43:25.328Z"
   },
   {
    "duration": 13,
    "start_time": "2021-11-11T19:43:25.374Z"
   },
   {
    "duration": 9,
    "start_time": "2021-11-11T19:43:25.389Z"
   },
   {
    "duration": 5,
    "start_time": "2021-11-11T19:43:25.399Z"
   },
   {
    "duration": 14,
    "start_time": "2021-11-11T19:43:25.405Z"
   },
   {
    "duration": 8,
    "start_time": "2021-11-11T19:43:25.420Z"
   }
  ],
  "colab": {
   "collapsed_sections": [
    "E0vqbgi9ay0H",
    "VUC88oWjTJw2"
   ],
   "name": "yandex_music_project_2021.2.ipynb",
   "provenance": []
  },
  "kernelspec": {
   "display_name": "Python 3",
   "language": "python",
   "name": "python3"
  },
  "language_info": {
   "codemirror_mode": {
    "name": "ipython",
    "version": 3
   },
   "file_extension": ".py",
   "mimetype": "text/x-python",
   "name": "python",
   "nbconvert_exporter": "python",
   "pygments_lexer": "ipython3",
   "version": "3.7.8"
  },
  "toc": {
   "base_numbering": 1,
   "nav_menu": {},
   "number_sections": true,
   "sideBar": true,
   "skip_h1_title": true,
   "title_cell": "Table of Contents",
   "title_sidebar": "Contents",
   "toc_cell": false,
   "toc_position": {},
   "toc_section_display": true,
   "toc_window_display": true
  }
 },
 "nbformat": 4,
 "nbformat_minor": 1
}
