{
 "cells": [
  {
   "cell_type": "markdown",
   "metadata": {},
   "source": [
    "<div style=\"border:solid green 2px; padding: 20px\">\n",
    "<b>Владимир, привет!</b>\n",
    "\n",
    "Меня зовут Евгений Дащенко, и я буду проверять твой проект. Предлагаю общаться на «ты» 😊 Но если это не удобно - дай знать, и мы перейдем на \"вы\". \n",
    "\n",
    "Моя основная цель — не указать на совершенные тобою ошибки, а поделиться своим опытом и помочь тебе стать аналитиком данных. Ты уже проделал большую работу над проектом, но давай сделаем его еще лучше. Ниже ты найдешь мои комментарии - пожалуйста, не перемещай, не изменяй и не удаляй их. Я буду использовать цветовую разметку:\n",
    "\n",
    "<div class=\"alert alert-danger\">\n",
    "<b>Критическая ошибка:</b> Так выделены самые важные замечания. Без их отработки проект не будет принят. </div>\n",
    "\n",
    "<div class=\"alert alert-warning\">\n",
    "<b>Хорошо, но можно и лучше:</b> Так выделены небольшие замечания. Одна-два таких замечания в проекте допустимы, но если их будет больше - тебе будет необходимо внести исправления. Это как тестовое задание при приеме на работу: очень много мелких ошибок могут стать причиной отказа кандидату. \n",
    "\n",
    "</div>\n",
    "\n",
    "<div class=\"alert alert-success\">\n",
    "<b>Все отлично:</b> Так я выделяю все остальные комментарии.</div>\n",
    "\n",
    "Давай работать над проектом в диалоге: если ты что-то меняешь в проекте или отвечаешь на мои комменатри — пиши об этом. Мне будет легче отследить изменения, если ты выделишь свои комментарии:\n",
    "<div class=\"alert alert-info\"> <b>Комментарий студента:</b> Например, вот так.</div>\n",
    "\n",
    "Всё это поможет выполнить повторную проверку твоего проекта оперативнее. "
   ]
  },
  {
   "cell_type": "markdown",
   "metadata": {
    "toc": true
   },
   "source": [
    "<h1>Содержание<span class=\"tocSkip\"></span></h1>\n",
    "<div class=\"toc\"><ul class=\"toc-item\"><li><span><a href=\"#Изучение-данных-из-файла\" data-toc-modified-id=\"Изучение-данных-из-файла-1\"><span class=\"toc-item-num\">1&nbsp;&nbsp;</span>Изучение данных из файла</a></span><ul class=\"toc-item\"><li><span><a href=\"#Вывод\" data-toc-modified-id=\"Вывод-1.1\"><span class=\"toc-item-num\">1.1&nbsp;&nbsp;</span>Вывод</a></span></li></ul></li><li><span><a href=\"#Предобработка-данных\" data-toc-modified-id=\"Предобработка-данных-2\"><span class=\"toc-item-num\">2&nbsp;&nbsp;</span>Предобработка данных</a></span></li><li><span><a href=\"#Расчёты-и-добавление-результатов-в-таблицу\" data-toc-modified-id=\"Расчёты-и-добавление-результатов-в-таблицу-3\"><span class=\"toc-item-num\">3&nbsp;&nbsp;</span>Расчёты и добавление результатов в таблицу</a></span></li><li><span><a href=\"#Исследовательский-анализ-данных\" data-toc-modified-id=\"Исследовательский-анализ-данных-4\"><span class=\"toc-item-num\">4&nbsp;&nbsp;</span>Исследовательский анализ данных</a></span></li><li><span><a href=\"#Общий-вывод\" data-toc-modified-id=\"Общий-вывод-5\"><span class=\"toc-item-num\">5&nbsp;&nbsp;</span>Общий вывод</a></span></li><li><span><a href=\"#Чек-лист-готовности-проекта\" data-toc-modified-id=\"Чек-лист-готовности-проекта-6\"><span class=\"toc-item-num\">6&nbsp;&nbsp;</span>Чек-лист готовности проекта</a></span></li></ul></div>"
   ]
  },
  {
   "cell_type": "markdown",
   "metadata": {},
   "source": [
    "# Исследование объявлений о продаже квартир\n",
    "\n",
    "В вашем распоряжении данные сервиса Яндекс.Недвижимость — архив объявлений о продаже квартир в Санкт-Петербурге и соседних населённых пунктах за несколько лет. Нужно научиться определять рыночную стоимость объектов недвижимости. Ваша задача — установить параметры. Это позволит построить автоматизированную систему: она отследит аномалии и мошенническую деятельность. \n",
    "\n",
    "По каждой квартире на продажу доступны два вида данных. Первые вписаны пользователем, вторые получены автоматически на основе картографических данных. Например, расстояние до центра, аэропорта, ближайшего парка и водоёма. "
   ]
  },
  {
   "cell_type": "markdown",
   "metadata": {},
   "source": [
    "# **Описание данных**:\n",
    "airports_nearest — расстояние до ближайшего аэропорта в метрах (м)\n",
    "\n",
    "balcony — число балконов\n",
    "\n",
    "ceiling_height — высота потолков (м)\n",
    "\n",
    "cityCenters_nearest — расстояние до центра города (м)\n",
    "\n",
    "days_exposition — сколько дней было размещено объявление (от публикации до снятия)\n",
    "\n",
    "first_day_exposition — дата публикации\n",
    "\n",
    "floor — этаж\n",
    "\n",
    "floors_total — всего этажей в доме\n",
    "\n",
    "is_apartment — апартаменты (булев тип)\n",
    "\n",
    "kitchen_area — площадь кухни в квадратных метрах (м²)\n",
    "\n",
    "living_area — жилая площадь в квадратных метрах (м²)\n",
    "\n",
    "locality_name — название населённого пункта\n",
    "\n",
    "open_plan — свободная планировка (булев тип)\n",
    "\n",
    "parks_around3000 — число парков в радиусе 3 км\n",
    "\n",
    "parks_nearest — расстояние до ближайшего парка (м)\n",
    "\n",
    "ponds_around3000 — число водоёмов в радиусе 3 км\n",
    "\n",
    "ponds_nearest — расстояние до ближайшего водоёма (м)\n",
    "\n",
    "rooms — число комнат\n",
    "\n",
    "studio — квартира-студия (булев тип)\n",
    "\n",
    "total_area — площадь квартиры в квадратных метрах (м²)\n",
    "\n",
    "total_images — число фотографий квартиры в объявлении"
   ]
  },
  {
   "cell_type": "markdown",
   "metadata": {},
   "source": [
    "<div class=\"alert alert-success\">\n",
    "<b>Комментарий ревьюера:</b>\n",
    "\n",
    "Здорово, когда есть вступление в сам проект, каждый сможет быстрее разобраться в концепции / деталях работы. \n",
    "\n",
    "</div>"
   ]
  },
  {
   "cell_type": "markdown",
   "metadata": {},
   "source": [
    "## Изучение данных из файла"
   ]
  },
  {
   "cell_type": "code",
   "execution_count": 1,
   "metadata": {},
   "outputs": [],
   "source": [
    "import pandas as pd\n",
    "import numpy as np\n",
    "import matplotlib.pyplot as plt\n",
    "from datetime import datetime\n",
    "import pprint\n",
    "\n",
    "from pymystem3 import Mystem\n",
    "from collections import Counter\n",
    "import warnings\n",
    "warnings.filterwarnings('ignore')"
   ]
  },
  {
   "cell_type": "code",
   "execution_count": 2,
   "metadata": {
    "scrolled": true
   },
   "outputs": [
    {
     "data": {
      "text/html": [
       "<div>\n",
       "<style scoped>\n",
       "    .dataframe tbody tr th:only-of-type {\n",
       "        vertical-align: middle;\n",
       "    }\n",
       "\n",
       "    .dataframe tbody tr th {\n",
       "        vertical-align: top;\n",
       "    }\n",
       "\n",
       "    .dataframe thead th {\n",
       "        text-align: right;\n",
       "    }\n",
       "</style>\n",
       "<table border=\"1\" class=\"dataframe\">\n",
       "  <thead>\n",
       "    <tr style=\"text-align: right;\">\n",
       "      <th></th>\n",
       "      <th>total_images</th>\n",
       "      <th>last_price</th>\n",
       "      <th>total_area</th>\n",
       "      <th>first_day_exposition</th>\n",
       "      <th>rooms</th>\n",
       "      <th>ceiling_height</th>\n",
       "      <th>floors_total</th>\n",
       "      <th>living_area</th>\n",
       "      <th>floor</th>\n",
       "      <th>is_apartment</th>\n",
       "      <th>...</th>\n",
       "      <th>kitchen_area</th>\n",
       "      <th>balcony</th>\n",
       "      <th>locality_name</th>\n",
       "      <th>airports_nearest</th>\n",
       "      <th>cityCenters_nearest</th>\n",
       "      <th>parks_around3000</th>\n",
       "      <th>parks_nearest</th>\n",
       "      <th>ponds_around3000</th>\n",
       "      <th>ponds_nearest</th>\n",
       "      <th>days_exposition</th>\n",
       "    </tr>\n",
       "  </thead>\n",
       "  <tbody>\n",
       "    <tr>\n",
       "      <td>0</td>\n",
       "      <td>20</td>\n",
       "      <td>13000000.0</td>\n",
       "      <td>108.00</td>\n",
       "      <td>2019-03-07T00:00:00</td>\n",
       "      <td>3</td>\n",
       "      <td>2.70</td>\n",
       "      <td>16.0</td>\n",
       "      <td>51.00</td>\n",
       "      <td>8</td>\n",
       "      <td>NaN</td>\n",
       "      <td>...</td>\n",
       "      <td>25.00</td>\n",
       "      <td>NaN</td>\n",
       "      <td>Санкт-Петербург</td>\n",
       "      <td>18863.0</td>\n",
       "      <td>16028.0</td>\n",
       "      <td>1.0</td>\n",
       "      <td>482.0</td>\n",
       "      <td>2.0</td>\n",
       "      <td>755.0</td>\n",
       "      <td>NaN</td>\n",
       "    </tr>\n",
       "    <tr>\n",
       "      <td>1</td>\n",
       "      <td>7</td>\n",
       "      <td>3350000.0</td>\n",
       "      <td>40.40</td>\n",
       "      <td>2018-12-04T00:00:00</td>\n",
       "      <td>1</td>\n",
       "      <td>NaN</td>\n",
       "      <td>11.0</td>\n",
       "      <td>18.60</td>\n",
       "      <td>1</td>\n",
       "      <td>NaN</td>\n",
       "      <td>...</td>\n",
       "      <td>11.00</td>\n",
       "      <td>2.0</td>\n",
       "      <td>посёлок Шушары</td>\n",
       "      <td>12817.0</td>\n",
       "      <td>18603.0</td>\n",
       "      <td>0.0</td>\n",
       "      <td>NaN</td>\n",
       "      <td>0.0</td>\n",
       "      <td>NaN</td>\n",
       "      <td>81.0</td>\n",
       "    </tr>\n",
       "    <tr>\n",
       "      <td>2</td>\n",
       "      <td>10</td>\n",
       "      <td>5196000.0</td>\n",
       "      <td>56.00</td>\n",
       "      <td>2015-08-20T00:00:00</td>\n",
       "      <td>2</td>\n",
       "      <td>NaN</td>\n",
       "      <td>5.0</td>\n",
       "      <td>34.30</td>\n",
       "      <td>4</td>\n",
       "      <td>NaN</td>\n",
       "      <td>...</td>\n",
       "      <td>8.30</td>\n",
       "      <td>0.0</td>\n",
       "      <td>Санкт-Петербург</td>\n",
       "      <td>21741.0</td>\n",
       "      <td>13933.0</td>\n",
       "      <td>1.0</td>\n",
       "      <td>90.0</td>\n",
       "      <td>2.0</td>\n",
       "      <td>574.0</td>\n",
       "      <td>558.0</td>\n",
       "    </tr>\n",
       "    <tr>\n",
       "      <td>3</td>\n",
       "      <td>0</td>\n",
       "      <td>64900000.0</td>\n",
       "      <td>159.00</td>\n",
       "      <td>2015-07-24T00:00:00</td>\n",
       "      <td>3</td>\n",
       "      <td>NaN</td>\n",
       "      <td>14.0</td>\n",
       "      <td>NaN</td>\n",
       "      <td>9</td>\n",
       "      <td>NaN</td>\n",
       "      <td>...</td>\n",
       "      <td>NaN</td>\n",
       "      <td>0.0</td>\n",
       "      <td>Санкт-Петербург</td>\n",
       "      <td>28098.0</td>\n",
       "      <td>6800.0</td>\n",
       "      <td>2.0</td>\n",
       "      <td>84.0</td>\n",
       "      <td>3.0</td>\n",
       "      <td>234.0</td>\n",
       "      <td>424.0</td>\n",
       "    </tr>\n",
       "    <tr>\n",
       "      <td>4</td>\n",
       "      <td>2</td>\n",
       "      <td>10000000.0</td>\n",
       "      <td>100.00</td>\n",
       "      <td>2018-06-19T00:00:00</td>\n",
       "      <td>2</td>\n",
       "      <td>3.03</td>\n",
       "      <td>14.0</td>\n",
       "      <td>32.00</td>\n",
       "      <td>13</td>\n",
       "      <td>NaN</td>\n",
       "      <td>...</td>\n",
       "      <td>41.00</td>\n",
       "      <td>NaN</td>\n",
       "      <td>Санкт-Петербург</td>\n",
       "      <td>31856.0</td>\n",
       "      <td>8098.0</td>\n",
       "      <td>2.0</td>\n",
       "      <td>112.0</td>\n",
       "      <td>1.0</td>\n",
       "      <td>48.0</td>\n",
       "      <td>121.0</td>\n",
       "    </tr>\n",
       "    <tr>\n",
       "      <td>5</td>\n",
       "      <td>10</td>\n",
       "      <td>2890000.0</td>\n",
       "      <td>30.40</td>\n",
       "      <td>2018-09-10T00:00:00</td>\n",
       "      <td>1</td>\n",
       "      <td>NaN</td>\n",
       "      <td>12.0</td>\n",
       "      <td>14.40</td>\n",
       "      <td>5</td>\n",
       "      <td>NaN</td>\n",
       "      <td>...</td>\n",
       "      <td>9.10</td>\n",
       "      <td>NaN</td>\n",
       "      <td>городской посёлок Янино-1</td>\n",
       "      <td>NaN</td>\n",
       "      <td>NaN</td>\n",
       "      <td>NaN</td>\n",
       "      <td>NaN</td>\n",
       "      <td>NaN</td>\n",
       "      <td>NaN</td>\n",
       "      <td>55.0</td>\n",
       "    </tr>\n",
       "    <tr>\n",
       "      <td>6</td>\n",
       "      <td>6</td>\n",
       "      <td>3700000.0</td>\n",
       "      <td>37.30</td>\n",
       "      <td>2017-11-02T00:00:00</td>\n",
       "      <td>1</td>\n",
       "      <td>NaN</td>\n",
       "      <td>26.0</td>\n",
       "      <td>10.60</td>\n",
       "      <td>6</td>\n",
       "      <td>NaN</td>\n",
       "      <td>...</td>\n",
       "      <td>14.40</td>\n",
       "      <td>1.0</td>\n",
       "      <td>посёлок Парголово</td>\n",
       "      <td>52996.0</td>\n",
       "      <td>19143.0</td>\n",
       "      <td>0.0</td>\n",
       "      <td>NaN</td>\n",
       "      <td>0.0</td>\n",
       "      <td>NaN</td>\n",
       "      <td>155.0</td>\n",
       "    </tr>\n",
       "    <tr>\n",
       "      <td>7</td>\n",
       "      <td>5</td>\n",
       "      <td>7915000.0</td>\n",
       "      <td>71.60</td>\n",
       "      <td>2019-04-18T00:00:00</td>\n",
       "      <td>2</td>\n",
       "      <td>NaN</td>\n",
       "      <td>24.0</td>\n",
       "      <td>NaN</td>\n",
       "      <td>22</td>\n",
       "      <td>NaN</td>\n",
       "      <td>...</td>\n",
       "      <td>18.90</td>\n",
       "      <td>2.0</td>\n",
       "      <td>Санкт-Петербург</td>\n",
       "      <td>23982.0</td>\n",
       "      <td>11634.0</td>\n",
       "      <td>0.0</td>\n",
       "      <td>NaN</td>\n",
       "      <td>0.0</td>\n",
       "      <td>NaN</td>\n",
       "      <td>NaN</td>\n",
       "    </tr>\n",
       "    <tr>\n",
       "      <td>8</td>\n",
       "      <td>20</td>\n",
       "      <td>2900000.0</td>\n",
       "      <td>33.16</td>\n",
       "      <td>2018-05-23T00:00:00</td>\n",
       "      <td>1</td>\n",
       "      <td>NaN</td>\n",
       "      <td>27.0</td>\n",
       "      <td>15.43</td>\n",
       "      <td>26</td>\n",
       "      <td>NaN</td>\n",
       "      <td>...</td>\n",
       "      <td>8.81</td>\n",
       "      <td>NaN</td>\n",
       "      <td>посёлок Мурино</td>\n",
       "      <td>NaN</td>\n",
       "      <td>NaN</td>\n",
       "      <td>NaN</td>\n",
       "      <td>NaN</td>\n",
       "      <td>NaN</td>\n",
       "      <td>NaN</td>\n",
       "      <td>189.0</td>\n",
       "    </tr>\n",
       "    <tr>\n",
       "      <td>9</td>\n",
       "      <td>18</td>\n",
       "      <td>5400000.0</td>\n",
       "      <td>61.00</td>\n",
       "      <td>2017-02-26T00:00:00</td>\n",
       "      <td>3</td>\n",
       "      <td>2.50</td>\n",
       "      <td>9.0</td>\n",
       "      <td>43.60</td>\n",
       "      <td>7</td>\n",
       "      <td>NaN</td>\n",
       "      <td>...</td>\n",
       "      <td>6.50</td>\n",
       "      <td>2.0</td>\n",
       "      <td>Санкт-Петербург</td>\n",
       "      <td>50898.0</td>\n",
       "      <td>15008.0</td>\n",
       "      <td>0.0</td>\n",
       "      <td>NaN</td>\n",
       "      <td>0.0</td>\n",
       "      <td>NaN</td>\n",
       "      <td>289.0</td>\n",
       "    </tr>\n",
       "  </tbody>\n",
       "</table>\n",
       "<p>10 rows × 22 columns</p>\n",
       "</div>"
      ],
      "text/plain": [
       "   total_images  last_price  total_area first_day_exposition  rooms  \\\n",
       "0            20  13000000.0      108.00  2019-03-07T00:00:00      3   \n",
       "1             7   3350000.0       40.40  2018-12-04T00:00:00      1   \n",
       "2            10   5196000.0       56.00  2015-08-20T00:00:00      2   \n",
       "3             0  64900000.0      159.00  2015-07-24T00:00:00      3   \n",
       "4             2  10000000.0      100.00  2018-06-19T00:00:00      2   \n",
       "5            10   2890000.0       30.40  2018-09-10T00:00:00      1   \n",
       "6             6   3700000.0       37.30  2017-11-02T00:00:00      1   \n",
       "7             5   7915000.0       71.60  2019-04-18T00:00:00      2   \n",
       "8            20   2900000.0       33.16  2018-05-23T00:00:00      1   \n",
       "9            18   5400000.0       61.00  2017-02-26T00:00:00      3   \n",
       "\n",
       "   ceiling_height  floors_total  living_area  floor is_apartment  ...  \\\n",
       "0            2.70          16.0        51.00      8          NaN  ...   \n",
       "1             NaN          11.0        18.60      1          NaN  ...   \n",
       "2             NaN           5.0        34.30      4          NaN  ...   \n",
       "3             NaN          14.0          NaN      9          NaN  ...   \n",
       "4            3.03          14.0        32.00     13          NaN  ...   \n",
       "5             NaN          12.0        14.40      5          NaN  ...   \n",
       "6             NaN          26.0        10.60      6          NaN  ...   \n",
       "7             NaN          24.0          NaN     22          NaN  ...   \n",
       "8             NaN          27.0        15.43     26          NaN  ...   \n",
       "9            2.50           9.0        43.60      7          NaN  ...   \n",
       "\n",
       "   kitchen_area  balcony              locality_name  airports_nearest  \\\n",
       "0         25.00      NaN            Санкт-Петербург           18863.0   \n",
       "1         11.00      2.0             посёлок Шушары           12817.0   \n",
       "2          8.30      0.0            Санкт-Петербург           21741.0   \n",
       "3           NaN      0.0            Санкт-Петербург           28098.0   \n",
       "4         41.00      NaN            Санкт-Петербург           31856.0   \n",
       "5          9.10      NaN  городской посёлок Янино-1               NaN   \n",
       "6         14.40      1.0          посёлок Парголово           52996.0   \n",
       "7         18.90      2.0            Санкт-Петербург           23982.0   \n",
       "8          8.81      NaN             посёлок Мурино               NaN   \n",
       "9          6.50      2.0            Санкт-Петербург           50898.0   \n",
       "\n",
       "  cityCenters_nearest  parks_around3000  parks_nearest  ponds_around3000  \\\n",
       "0             16028.0               1.0          482.0               2.0   \n",
       "1             18603.0               0.0            NaN               0.0   \n",
       "2             13933.0               1.0           90.0               2.0   \n",
       "3              6800.0               2.0           84.0               3.0   \n",
       "4              8098.0               2.0          112.0               1.0   \n",
       "5                 NaN               NaN            NaN               NaN   \n",
       "6             19143.0               0.0            NaN               0.0   \n",
       "7             11634.0               0.0            NaN               0.0   \n",
       "8                 NaN               NaN            NaN               NaN   \n",
       "9             15008.0               0.0            NaN               0.0   \n",
       "\n",
       "   ponds_nearest  days_exposition  \n",
       "0          755.0              NaN  \n",
       "1            NaN             81.0  \n",
       "2          574.0            558.0  \n",
       "3          234.0            424.0  \n",
       "4           48.0            121.0  \n",
       "5            NaN             55.0  \n",
       "6            NaN            155.0  \n",
       "7            NaN              NaN  \n",
       "8            NaN            189.0  \n",
       "9            NaN            289.0  \n",
       "\n",
       "[10 rows x 22 columns]"
      ]
     },
     "execution_count": 2,
     "metadata": {},
     "output_type": "execute_result"
    }
   ],
   "source": [
    "#прочтём данные и посмотрим на них, вывдем первые и последние 10 строк датасета\n",
    "df = pd.read_csv('/datasets/real_estate_data.csv', sep='\\t') \n",
    "df.head(10)"
   ]
  },
  {
   "cell_type": "code",
   "execution_count": 3,
   "metadata": {},
   "outputs": [
    {
     "data": {
      "text/html": [
       "<div>\n",
       "<style scoped>\n",
       "    .dataframe tbody tr th:only-of-type {\n",
       "        vertical-align: middle;\n",
       "    }\n",
       "\n",
       "    .dataframe tbody tr th {\n",
       "        vertical-align: top;\n",
       "    }\n",
       "\n",
       "    .dataframe thead th {\n",
       "        text-align: right;\n",
       "    }\n",
       "</style>\n",
       "<table border=\"1\" class=\"dataframe\">\n",
       "  <thead>\n",
       "    <tr style=\"text-align: right;\">\n",
       "      <th></th>\n",
       "      <th>total_images</th>\n",
       "      <th>last_price</th>\n",
       "      <th>total_area</th>\n",
       "      <th>first_day_exposition</th>\n",
       "      <th>rooms</th>\n",
       "      <th>ceiling_height</th>\n",
       "      <th>floors_total</th>\n",
       "      <th>living_area</th>\n",
       "      <th>floor</th>\n",
       "      <th>is_apartment</th>\n",
       "      <th>...</th>\n",
       "      <th>kitchen_area</th>\n",
       "      <th>balcony</th>\n",
       "      <th>locality_name</th>\n",
       "      <th>airports_nearest</th>\n",
       "      <th>cityCenters_nearest</th>\n",
       "      <th>parks_around3000</th>\n",
       "      <th>parks_nearest</th>\n",
       "      <th>ponds_around3000</th>\n",
       "      <th>ponds_nearest</th>\n",
       "      <th>days_exposition</th>\n",
       "    </tr>\n",
       "  </thead>\n",
       "  <tbody>\n",
       "    <tr>\n",
       "      <td>23689</td>\n",
       "      <td>13</td>\n",
       "      <td>3550000.0</td>\n",
       "      <td>35.30</td>\n",
       "      <td>2018-02-28T00:00:00</td>\n",
       "      <td>1</td>\n",
       "      <td>2.86</td>\n",
       "      <td>15.0</td>\n",
       "      <td>16.3</td>\n",
       "      <td>4</td>\n",
       "      <td>NaN</td>\n",
       "      <td>...</td>\n",
       "      <td>9.10</td>\n",
       "      <td>2.0</td>\n",
       "      <td>Санкт-Петербург</td>\n",
       "      <td>17284.0</td>\n",
       "      <td>16081.0</td>\n",
       "      <td>1.0</td>\n",
       "      <td>353.0</td>\n",
       "      <td>2.0</td>\n",
       "      <td>652.0</td>\n",
       "      <td>29.0</td>\n",
       "    </tr>\n",
       "    <tr>\n",
       "      <td>23690</td>\n",
       "      <td>3</td>\n",
       "      <td>5500000.0</td>\n",
       "      <td>52.00</td>\n",
       "      <td>2018-07-19T00:00:00</td>\n",
       "      <td>2</td>\n",
       "      <td>NaN</td>\n",
       "      <td>5.0</td>\n",
       "      <td>31.0</td>\n",
       "      <td>2</td>\n",
       "      <td>NaN</td>\n",
       "      <td>...</td>\n",
       "      <td>6.00</td>\n",
       "      <td>NaN</td>\n",
       "      <td>Санкт-Петербург</td>\n",
       "      <td>20151.0</td>\n",
       "      <td>6263.0</td>\n",
       "      <td>1.0</td>\n",
       "      <td>300.0</td>\n",
       "      <td>0.0</td>\n",
       "      <td>NaN</td>\n",
       "      <td>15.0</td>\n",
       "    </tr>\n",
       "    <tr>\n",
       "      <td>23691</td>\n",
       "      <td>11</td>\n",
       "      <td>9470000.0</td>\n",
       "      <td>72.90</td>\n",
       "      <td>2016-10-13T00:00:00</td>\n",
       "      <td>2</td>\n",
       "      <td>2.75</td>\n",
       "      <td>25.0</td>\n",
       "      <td>40.3</td>\n",
       "      <td>7</td>\n",
       "      <td>NaN</td>\n",
       "      <td>...</td>\n",
       "      <td>10.60</td>\n",
       "      <td>1.0</td>\n",
       "      <td>Санкт-Петербург</td>\n",
       "      <td>19424.0</td>\n",
       "      <td>4489.0</td>\n",
       "      <td>0.0</td>\n",
       "      <td>NaN</td>\n",
       "      <td>1.0</td>\n",
       "      <td>806.0</td>\n",
       "      <td>519.0</td>\n",
       "    </tr>\n",
       "    <tr>\n",
       "      <td>23692</td>\n",
       "      <td>2</td>\n",
       "      <td>1350000.0</td>\n",
       "      <td>30.00</td>\n",
       "      <td>2017-07-07T00:00:00</td>\n",
       "      <td>1</td>\n",
       "      <td>NaN</td>\n",
       "      <td>5.0</td>\n",
       "      <td>17.5</td>\n",
       "      <td>4</td>\n",
       "      <td>NaN</td>\n",
       "      <td>...</td>\n",
       "      <td>6.00</td>\n",
       "      <td>NaN</td>\n",
       "      <td>Тихвин</td>\n",
       "      <td>NaN</td>\n",
       "      <td>NaN</td>\n",
       "      <td>NaN</td>\n",
       "      <td>NaN</td>\n",
       "      <td>NaN</td>\n",
       "      <td>NaN</td>\n",
       "      <td>413.0</td>\n",
       "    </tr>\n",
       "    <tr>\n",
       "      <td>23693</td>\n",
       "      <td>9</td>\n",
       "      <td>4600000.0</td>\n",
       "      <td>62.40</td>\n",
       "      <td>2016-08-05T00:00:00</td>\n",
       "      <td>3</td>\n",
       "      <td>2.60</td>\n",
       "      <td>9.0</td>\n",
       "      <td>40.0</td>\n",
       "      <td>8</td>\n",
       "      <td>NaN</td>\n",
       "      <td>...</td>\n",
       "      <td>8.00</td>\n",
       "      <td>0.0</td>\n",
       "      <td>Петергоф</td>\n",
       "      <td>45602.0</td>\n",
       "      <td>34104.0</td>\n",
       "      <td>1.0</td>\n",
       "      <td>352.0</td>\n",
       "      <td>1.0</td>\n",
       "      <td>675.0</td>\n",
       "      <td>239.0</td>\n",
       "    </tr>\n",
       "    <tr>\n",
       "      <td>23694</td>\n",
       "      <td>9</td>\n",
       "      <td>9700000.0</td>\n",
       "      <td>133.81</td>\n",
       "      <td>2017-03-21T00:00:00</td>\n",
       "      <td>3</td>\n",
       "      <td>3.70</td>\n",
       "      <td>5.0</td>\n",
       "      <td>73.3</td>\n",
       "      <td>3</td>\n",
       "      <td>NaN</td>\n",
       "      <td>...</td>\n",
       "      <td>13.83</td>\n",
       "      <td>NaN</td>\n",
       "      <td>Санкт-Петербург</td>\n",
       "      <td>24665.0</td>\n",
       "      <td>4232.0</td>\n",
       "      <td>1.0</td>\n",
       "      <td>796.0</td>\n",
       "      <td>3.0</td>\n",
       "      <td>381.0</td>\n",
       "      <td>NaN</td>\n",
       "    </tr>\n",
       "    <tr>\n",
       "      <td>23695</td>\n",
       "      <td>14</td>\n",
       "      <td>3100000.0</td>\n",
       "      <td>59.00</td>\n",
       "      <td>2018-01-15T00:00:00</td>\n",
       "      <td>3</td>\n",
       "      <td>NaN</td>\n",
       "      <td>5.0</td>\n",
       "      <td>38.0</td>\n",
       "      <td>4</td>\n",
       "      <td>NaN</td>\n",
       "      <td>...</td>\n",
       "      <td>8.50</td>\n",
       "      <td>NaN</td>\n",
       "      <td>Тосно</td>\n",
       "      <td>NaN</td>\n",
       "      <td>NaN</td>\n",
       "      <td>NaN</td>\n",
       "      <td>NaN</td>\n",
       "      <td>NaN</td>\n",
       "      <td>NaN</td>\n",
       "      <td>45.0</td>\n",
       "    </tr>\n",
       "    <tr>\n",
       "      <td>23696</td>\n",
       "      <td>18</td>\n",
       "      <td>2500000.0</td>\n",
       "      <td>56.70</td>\n",
       "      <td>2018-02-11T00:00:00</td>\n",
       "      <td>2</td>\n",
       "      <td>NaN</td>\n",
       "      <td>3.0</td>\n",
       "      <td>29.7</td>\n",
       "      <td>1</td>\n",
       "      <td>NaN</td>\n",
       "      <td>...</td>\n",
       "      <td>NaN</td>\n",
       "      <td>NaN</td>\n",
       "      <td>село Рождествено</td>\n",
       "      <td>NaN</td>\n",
       "      <td>NaN</td>\n",
       "      <td>NaN</td>\n",
       "      <td>NaN</td>\n",
       "      <td>NaN</td>\n",
       "      <td>NaN</td>\n",
       "      <td>NaN</td>\n",
       "    </tr>\n",
       "    <tr>\n",
       "      <td>23697</td>\n",
       "      <td>13</td>\n",
       "      <td>11475000.0</td>\n",
       "      <td>76.75</td>\n",
       "      <td>2017-03-28T00:00:00</td>\n",
       "      <td>2</td>\n",
       "      <td>3.00</td>\n",
       "      <td>17.0</td>\n",
       "      <td>NaN</td>\n",
       "      <td>12</td>\n",
       "      <td>NaN</td>\n",
       "      <td>...</td>\n",
       "      <td>23.30</td>\n",
       "      <td>2.0</td>\n",
       "      <td>Санкт-Петербург</td>\n",
       "      <td>39140.0</td>\n",
       "      <td>10364.0</td>\n",
       "      <td>2.0</td>\n",
       "      <td>173.0</td>\n",
       "      <td>3.0</td>\n",
       "      <td>196.0</td>\n",
       "      <td>602.0</td>\n",
       "    </tr>\n",
       "    <tr>\n",
       "      <td>23698</td>\n",
       "      <td>4</td>\n",
       "      <td>1350000.0</td>\n",
       "      <td>32.30</td>\n",
       "      <td>2017-07-21T00:00:00</td>\n",
       "      <td>1</td>\n",
       "      <td>2.50</td>\n",
       "      <td>5.0</td>\n",
       "      <td>12.3</td>\n",
       "      <td>1</td>\n",
       "      <td>NaN</td>\n",
       "      <td>...</td>\n",
       "      <td>9.00</td>\n",
       "      <td>NaN</td>\n",
       "      <td>поселок Новый Учхоз</td>\n",
       "      <td>NaN</td>\n",
       "      <td>NaN</td>\n",
       "      <td>NaN</td>\n",
       "      <td>NaN</td>\n",
       "      <td>NaN</td>\n",
       "      <td>NaN</td>\n",
       "      <td>NaN</td>\n",
       "    </tr>\n",
       "  </tbody>\n",
       "</table>\n",
       "<p>10 rows × 22 columns</p>\n",
       "</div>"
      ],
      "text/plain": [
       "       total_images  last_price  total_area first_day_exposition  rooms  \\\n",
       "23689            13   3550000.0       35.30  2018-02-28T00:00:00      1   \n",
       "23690             3   5500000.0       52.00  2018-07-19T00:00:00      2   \n",
       "23691            11   9470000.0       72.90  2016-10-13T00:00:00      2   \n",
       "23692             2   1350000.0       30.00  2017-07-07T00:00:00      1   \n",
       "23693             9   4600000.0       62.40  2016-08-05T00:00:00      3   \n",
       "23694             9   9700000.0      133.81  2017-03-21T00:00:00      3   \n",
       "23695            14   3100000.0       59.00  2018-01-15T00:00:00      3   \n",
       "23696            18   2500000.0       56.70  2018-02-11T00:00:00      2   \n",
       "23697            13  11475000.0       76.75  2017-03-28T00:00:00      2   \n",
       "23698             4   1350000.0       32.30  2017-07-21T00:00:00      1   \n",
       "\n",
       "       ceiling_height  floors_total  living_area  floor is_apartment  ...  \\\n",
       "23689            2.86          15.0         16.3      4          NaN  ...   \n",
       "23690             NaN           5.0         31.0      2          NaN  ...   \n",
       "23691            2.75          25.0         40.3      7          NaN  ...   \n",
       "23692             NaN           5.0         17.5      4          NaN  ...   \n",
       "23693            2.60           9.0         40.0      8          NaN  ...   \n",
       "23694            3.70           5.0         73.3      3          NaN  ...   \n",
       "23695             NaN           5.0         38.0      4          NaN  ...   \n",
       "23696             NaN           3.0         29.7      1          NaN  ...   \n",
       "23697            3.00          17.0          NaN     12          NaN  ...   \n",
       "23698            2.50           5.0         12.3      1          NaN  ...   \n",
       "\n",
       "       kitchen_area  balcony        locality_name  airports_nearest  \\\n",
       "23689          9.10      2.0      Санкт-Петербург           17284.0   \n",
       "23690          6.00      NaN      Санкт-Петербург           20151.0   \n",
       "23691         10.60      1.0      Санкт-Петербург           19424.0   \n",
       "23692          6.00      NaN               Тихвин               NaN   \n",
       "23693          8.00      0.0             Петергоф           45602.0   \n",
       "23694         13.83      NaN      Санкт-Петербург           24665.0   \n",
       "23695          8.50      NaN                Тосно               NaN   \n",
       "23696           NaN      NaN     село Рождествено               NaN   \n",
       "23697         23.30      2.0      Санкт-Петербург           39140.0   \n",
       "23698          9.00      NaN  поселок Новый Учхоз               NaN   \n",
       "\n",
       "      cityCenters_nearest  parks_around3000  parks_nearest  ponds_around3000  \\\n",
       "23689             16081.0               1.0          353.0               2.0   \n",
       "23690              6263.0               1.0          300.0               0.0   \n",
       "23691              4489.0               0.0            NaN               1.0   \n",
       "23692                 NaN               NaN            NaN               NaN   \n",
       "23693             34104.0               1.0          352.0               1.0   \n",
       "23694              4232.0               1.0          796.0               3.0   \n",
       "23695                 NaN               NaN            NaN               NaN   \n",
       "23696                 NaN               NaN            NaN               NaN   \n",
       "23697             10364.0               2.0          173.0               3.0   \n",
       "23698                 NaN               NaN            NaN               NaN   \n",
       "\n",
       "       ponds_nearest  days_exposition  \n",
       "23689          652.0             29.0  \n",
       "23690            NaN             15.0  \n",
       "23691          806.0            519.0  \n",
       "23692            NaN            413.0  \n",
       "23693          675.0            239.0  \n",
       "23694          381.0              NaN  \n",
       "23695            NaN             45.0  \n",
       "23696            NaN              NaN  \n",
       "23697          196.0            602.0  \n",
       "23698            NaN              NaN  \n",
       "\n",
       "[10 rows x 22 columns]"
      ]
     },
     "execution_count": 3,
     "metadata": {},
     "output_type": "execute_result"
    }
   ],
   "source": [
    "df.tail(10)"
   ]
  },
  {
   "cell_type": "code",
   "execution_count": 4,
   "metadata": {},
   "outputs": [
    {
     "data": {
      "text/html": [
       "<div>\n",
       "<style scoped>\n",
       "    .dataframe tbody tr th:only-of-type {\n",
       "        vertical-align: middle;\n",
       "    }\n",
       "\n",
       "    .dataframe tbody tr th {\n",
       "        vertical-align: top;\n",
       "    }\n",
       "\n",
       "    .dataframe thead th {\n",
       "        text-align: right;\n",
       "    }\n",
       "</style>\n",
       "<table border=\"1\" class=\"dataframe\">\n",
       "  <thead>\n",
       "    <tr style=\"text-align: right;\">\n",
       "      <th></th>\n",
       "      <th>total_images</th>\n",
       "      <th>last_price</th>\n",
       "      <th>total_area</th>\n",
       "      <th>rooms</th>\n",
       "      <th>ceiling_height</th>\n",
       "      <th>floors_total</th>\n",
       "      <th>living_area</th>\n",
       "      <th>floor</th>\n",
       "      <th>kitchen_area</th>\n",
       "      <th>balcony</th>\n",
       "      <th>airports_nearest</th>\n",
       "      <th>cityCenters_nearest</th>\n",
       "      <th>parks_around3000</th>\n",
       "      <th>parks_nearest</th>\n",
       "      <th>ponds_around3000</th>\n",
       "      <th>ponds_nearest</th>\n",
       "      <th>days_exposition</th>\n",
       "    </tr>\n",
       "  </thead>\n",
       "  <tbody>\n",
       "    <tr>\n",
       "      <td>count</td>\n",
       "      <td>23699.000000</td>\n",
       "      <td>2.369900e+04</td>\n",
       "      <td>23699.000000</td>\n",
       "      <td>23699.000000</td>\n",
       "      <td>14504.000000</td>\n",
       "      <td>23613.000000</td>\n",
       "      <td>21796.000000</td>\n",
       "      <td>23699.000000</td>\n",
       "      <td>21421.000000</td>\n",
       "      <td>12180.000000</td>\n",
       "      <td>18157.000000</td>\n",
       "      <td>18180.000000</td>\n",
       "      <td>18181.000000</td>\n",
       "      <td>8079.000000</td>\n",
       "      <td>18181.000000</td>\n",
       "      <td>9110.000000</td>\n",
       "      <td>20518.000000</td>\n",
       "    </tr>\n",
       "    <tr>\n",
       "      <td>mean</td>\n",
       "      <td>9.858475</td>\n",
       "      <td>6.541549e+06</td>\n",
       "      <td>60.348651</td>\n",
       "      <td>2.070636</td>\n",
       "      <td>2.771499</td>\n",
       "      <td>10.673824</td>\n",
       "      <td>34.457852</td>\n",
       "      <td>5.892358</td>\n",
       "      <td>10.569807</td>\n",
       "      <td>1.150082</td>\n",
       "      <td>28793.672193</td>\n",
       "      <td>14191.277833</td>\n",
       "      <td>0.611408</td>\n",
       "      <td>490.804555</td>\n",
       "      <td>0.770255</td>\n",
       "      <td>517.980900</td>\n",
       "      <td>180.888634</td>\n",
       "    </tr>\n",
       "    <tr>\n",
       "      <td>std</td>\n",
       "      <td>5.682529</td>\n",
       "      <td>1.088701e+07</td>\n",
       "      <td>35.654083</td>\n",
       "      <td>1.078405</td>\n",
       "      <td>1.261056</td>\n",
       "      <td>6.597173</td>\n",
       "      <td>22.030445</td>\n",
       "      <td>4.885249</td>\n",
       "      <td>5.905438</td>\n",
       "      <td>1.071300</td>\n",
       "      <td>12630.880622</td>\n",
       "      <td>8608.386210</td>\n",
       "      <td>0.802074</td>\n",
       "      <td>342.317995</td>\n",
       "      <td>0.938346</td>\n",
       "      <td>277.720643</td>\n",
       "      <td>219.727988</td>\n",
       "    </tr>\n",
       "    <tr>\n",
       "      <td>min</td>\n",
       "      <td>0.000000</td>\n",
       "      <td>1.219000e+04</td>\n",
       "      <td>12.000000</td>\n",
       "      <td>0.000000</td>\n",
       "      <td>1.000000</td>\n",
       "      <td>1.000000</td>\n",
       "      <td>2.000000</td>\n",
       "      <td>1.000000</td>\n",
       "      <td>1.300000</td>\n",
       "      <td>0.000000</td>\n",
       "      <td>0.000000</td>\n",
       "      <td>181.000000</td>\n",
       "      <td>0.000000</td>\n",
       "      <td>1.000000</td>\n",
       "      <td>0.000000</td>\n",
       "      <td>13.000000</td>\n",
       "      <td>1.000000</td>\n",
       "    </tr>\n",
       "    <tr>\n",
       "      <td>25%</td>\n",
       "      <td>6.000000</td>\n",
       "      <td>3.400000e+06</td>\n",
       "      <td>40.000000</td>\n",
       "      <td>1.000000</td>\n",
       "      <td>2.520000</td>\n",
       "      <td>5.000000</td>\n",
       "      <td>18.600000</td>\n",
       "      <td>2.000000</td>\n",
       "      <td>7.000000</td>\n",
       "      <td>0.000000</td>\n",
       "      <td>18585.000000</td>\n",
       "      <td>9238.000000</td>\n",
       "      <td>0.000000</td>\n",
       "      <td>288.000000</td>\n",
       "      <td>0.000000</td>\n",
       "      <td>294.000000</td>\n",
       "      <td>45.000000</td>\n",
       "    </tr>\n",
       "    <tr>\n",
       "      <td>50%</td>\n",
       "      <td>9.000000</td>\n",
       "      <td>4.650000e+06</td>\n",
       "      <td>52.000000</td>\n",
       "      <td>2.000000</td>\n",
       "      <td>2.650000</td>\n",
       "      <td>9.000000</td>\n",
       "      <td>30.000000</td>\n",
       "      <td>4.000000</td>\n",
       "      <td>9.100000</td>\n",
       "      <td>1.000000</td>\n",
       "      <td>26726.000000</td>\n",
       "      <td>13098.500000</td>\n",
       "      <td>0.000000</td>\n",
       "      <td>455.000000</td>\n",
       "      <td>1.000000</td>\n",
       "      <td>502.000000</td>\n",
       "      <td>95.000000</td>\n",
       "    </tr>\n",
       "    <tr>\n",
       "      <td>75%</td>\n",
       "      <td>14.000000</td>\n",
       "      <td>6.800000e+06</td>\n",
       "      <td>69.900000</td>\n",
       "      <td>3.000000</td>\n",
       "      <td>2.800000</td>\n",
       "      <td>16.000000</td>\n",
       "      <td>42.300000</td>\n",
       "      <td>8.000000</td>\n",
       "      <td>12.000000</td>\n",
       "      <td>2.000000</td>\n",
       "      <td>37273.000000</td>\n",
       "      <td>16293.000000</td>\n",
       "      <td>1.000000</td>\n",
       "      <td>612.000000</td>\n",
       "      <td>1.000000</td>\n",
       "      <td>729.000000</td>\n",
       "      <td>232.000000</td>\n",
       "    </tr>\n",
       "    <tr>\n",
       "      <td>max</td>\n",
       "      <td>50.000000</td>\n",
       "      <td>7.630000e+08</td>\n",
       "      <td>900.000000</td>\n",
       "      <td>19.000000</td>\n",
       "      <td>100.000000</td>\n",
       "      <td>60.000000</td>\n",
       "      <td>409.700000</td>\n",
       "      <td>33.000000</td>\n",
       "      <td>112.000000</td>\n",
       "      <td>5.000000</td>\n",
       "      <td>84869.000000</td>\n",
       "      <td>65968.000000</td>\n",
       "      <td>3.000000</td>\n",
       "      <td>3190.000000</td>\n",
       "      <td>3.000000</td>\n",
       "      <td>1344.000000</td>\n",
       "      <td>1580.000000</td>\n",
       "    </tr>\n",
       "  </tbody>\n",
       "</table>\n",
       "</div>"
      ],
      "text/plain": [
       "       total_images    last_price    total_area         rooms  ceiling_height  \\\n",
       "count  23699.000000  2.369900e+04  23699.000000  23699.000000    14504.000000   \n",
       "mean       9.858475  6.541549e+06     60.348651      2.070636        2.771499   \n",
       "std        5.682529  1.088701e+07     35.654083      1.078405        1.261056   \n",
       "min        0.000000  1.219000e+04     12.000000      0.000000        1.000000   \n",
       "25%        6.000000  3.400000e+06     40.000000      1.000000        2.520000   \n",
       "50%        9.000000  4.650000e+06     52.000000      2.000000        2.650000   \n",
       "75%       14.000000  6.800000e+06     69.900000      3.000000        2.800000   \n",
       "max       50.000000  7.630000e+08    900.000000     19.000000      100.000000   \n",
       "\n",
       "       floors_total   living_area         floor  kitchen_area       balcony  \\\n",
       "count  23613.000000  21796.000000  23699.000000  21421.000000  12180.000000   \n",
       "mean      10.673824     34.457852      5.892358     10.569807      1.150082   \n",
       "std        6.597173     22.030445      4.885249      5.905438      1.071300   \n",
       "min        1.000000      2.000000      1.000000      1.300000      0.000000   \n",
       "25%        5.000000     18.600000      2.000000      7.000000      0.000000   \n",
       "50%        9.000000     30.000000      4.000000      9.100000      1.000000   \n",
       "75%       16.000000     42.300000      8.000000     12.000000      2.000000   \n",
       "max       60.000000    409.700000     33.000000    112.000000      5.000000   \n",
       "\n",
       "       airports_nearest  cityCenters_nearest  parks_around3000  parks_nearest  \\\n",
       "count      18157.000000         18180.000000      18181.000000    8079.000000   \n",
       "mean       28793.672193         14191.277833          0.611408     490.804555   \n",
       "std        12630.880622          8608.386210          0.802074     342.317995   \n",
       "min            0.000000           181.000000          0.000000       1.000000   \n",
       "25%        18585.000000          9238.000000          0.000000     288.000000   \n",
       "50%        26726.000000         13098.500000          0.000000     455.000000   \n",
       "75%        37273.000000         16293.000000          1.000000     612.000000   \n",
       "max        84869.000000         65968.000000          3.000000    3190.000000   \n",
       "\n",
       "       ponds_around3000  ponds_nearest  days_exposition  \n",
       "count      18181.000000    9110.000000     20518.000000  \n",
       "mean           0.770255     517.980900       180.888634  \n",
       "std            0.938346     277.720643       219.727988  \n",
       "min            0.000000      13.000000         1.000000  \n",
       "25%            0.000000     294.000000        45.000000  \n",
       "50%            1.000000     502.000000        95.000000  \n",
       "75%            1.000000     729.000000       232.000000  \n",
       "max            3.000000    1344.000000      1580.000000  "
      ]
     },
     "execution_count": 4,
     "metadata": {},
     "output_type": "execute_result"
    }
   ],
   "source": [
    "#получим сводку числовых значений в вашем наборе данных\n",
    "df.describe()"
   ]
  },
  {
   "cell_type": "code",
   "execution_count": 5,
   "metadata": {},
   "outputs": [
    {
     "name": "stdout",
     "output_type": "stream",
     "text": [
      "<class 'pandas.core.frame.DataFrame'>\n",
      "RangeIndex: 23699 entries, 0 to 23698\n",
      "Data columns (total 22 columns):\n",
      "total_images            23699 non-null int64\n",
      "last_price              23699 non-null float64\n",
      "total_area              23699 non-null float64\n",
      "first_day_exposition    23699 non-null object\n",
      "rooms                   23699 non-null int64\n",
      "ceiling_height          14504 non-null float64\n",
      "floors_total            23613 non-null float64\n",
      "living_area             21796 non-null float64\n",
      "floor                   23699 non-null int64\n",
      "is_apartment            2775 non-null object\n",
      "studio                  23699 non-null bool\n",
      "open_plan               23699 non-null bool\n",
      "kitchen_area            21421 non-null float64\n",
      "balcony                 12180 non-null float64\n",
      "locality_name           23650 non-null object\n",
      "airports_nearest        18157 non-null float64\n",
      "cityCenters_nearest     18180 non-null float64\n",
      "parks_around3000        18181 non-null float64\n",
      "parks_nearest           8079 non-null float64\n",
      "ponds_around3000        18181 non-null float64\n",
      "ponds_nearest           9110 non-null float64\n",
      "days_exposition         20518 non-null float64\n",
      "dtypes: bool(2), float64(14), int64(3), object(3)\n",
      "memory usage: 3.7+ MB\n"
     ]
    }
   ],
   "source": [
    "#получим информацию о наборе данных\n",
    "df.info()"
   ]
  },
  {
   "cell_type": "code",
   "execution_count": 6,
   "metadata": {},
   "outputs": [
    {
     "data": {
      "text/plain": [
       "0"
      ]
     },
     "execution_count": 6,
     "metadata": {},
     "output_type": "execute_result"
    }
   ],
   "source": [
    "#проверим наличие дубликатов\n",
    "df.duplicated().sum()"
   ]
  },
  {
   "cell_type": "markdown",
   "metadata": {},
   "source": [
    "### Вывод"
   ]
  },
  {
   "cell_type": "markdown",
   "metadata": {},
   "source": [
    "- прыгающий регистр в названии столбцов\n",
    "- отсутствует много значений\n",
    "- имеются некорректные типы данных\n",
    "- неудобная группировка столбцов\n",
    "- названия некоторых столбцов необходимо выполнить в змеином регистре\n",
    "- апартаменты, с ними определённо что-то не так"
   ]
  },
  {
   "cell_type": "markdown",
   "metadata": {},
   "source": [
    "<div class=\"alert alert-success\">\n",
    "<b>Комментарий ревьюера:</b>\n",
    "\n",
    "Первичные данные посмотрели, давай теперь их обработаем, ведь у нас есть план 😊. \n",
    "</div>"
   ]
  },
  {
   "cell_type": "markdown",
   "metadata": {},
   "source": [
    "## Предобработка данных"
   ]
  },
  {
   "cell_type": "code",
   "execution_count": 7,
   "metadata": {},
   "outputs": [
    {
     "data": {
      "text/plain": [
       "['total_images',\n",
       " 'last_price',\n",
       " 'total_area',\n",
       " 'first_day_exposition',\n",
       " 'rooms',\n",
       " 'ceiling_height',\n",
       " 'floors_total',\n",
       " 'living_area',\n",
       " 'floor',\n",
       " 'is_apartment',\n",
       " 'studio',\n",
       " 'open_plan',\n",
       " 'kitchen_area',\n",
       " 'balcony',\n",
       " 'locality_name',\n",
       " 'airports_nearest',\n",
       " 'cityCenters_nearest',\n",
       " 'parks_around3000',\n",
       " 'parks_nearest',\n",
       " 'ponds_around3000',\n",
       " 'ponds_nearest',\n",
       " 'days_exposition']"
      ]
     },
     "execution_count": 7,
     "metadata": {},
     "output_type": "execute_result"
    }
   ],
   "source": [
    "#приведём названия столбцов в порядок\n",
    "df.columns.tolist()"
   ]
  },
  {
   "cell_type": "code",
   "execution_count": 8,
   "metadata": {},
   "outputs": [],
   "source": [
    "#переименуем \n",
    "cols = ['total_images',\n",
    "        'last_price',\n",
    "        'total_area_m2',\n",
    "        'first_day_exposition',\n",
    "        'number_of_rooms',\n",
    "        'ceiling_height_m',\n",
    "        'total_floors_in_house',\n",
    "        'living_area_m2',\n",
    "        'floor',\n",
    "        'is_apartment',\n",
    "        'is_studio',\n",
    "        'is_open_plan',\n",
    "        'kitchen_area_m2',\n",
    "        'number_of_balconies',\n",
    "        'town_name',\n",
    "        'nearest_airport_distance_m',\n",
    "        'city_center_distance_m',\n",
    "        'parks_numbers_within_3km',\n",
    "        'nearest_park_distance_m',\n",
    "        'ponds_number_within_3km',\n",
    "        'nearest_pond_distance_m',\n",
    "        'days_exposition']\n",
    "df.set_axis(cols, axis='columns')"
   ]
  },
  {
   "cell_type": "markdown",
   "metadata": {},
   "source": [
    "<div class=\"alert alert-warning\">\n",
    "<b>Комментарий ревьюера:</b>\n",
    "\n",
    "Я бы рекомендовал не использовать атрибут `inplace`, так как в последующих обновлениях библотеки `pandas` он будет удален.\n",
    "    \n",
    "Лучше всего переопределять переменные. \n",
    "    \n",
    "</div>"
   ]
  },
  {
   "cell_type": "code",
   "execution_count": 9,
   "metadata": {},
   "outputs": [
    {
     "data": {
      "text/plain": [
       "['total_images',\n",
       " 'last_price',\n",
       " 'total_area_m2',\n",
       " 'first_day_exposition',\n",
       " 'number_of_rooms',\n",
       " 'ceiling_height_m',\n",
       " 'total_floors_in_house',\n",
       " 'living_area_m2',\n",
       " 'floor',\n",
       " 'is_apartment',\n",
       " 'is_studio',\n",
       " 'is_open_plan',\n",
       " 'kitchen_area_m2',\n",
       " 'number_of_balconies',\n",
       " 'town_name',\n",
       " 'nearest_airport_distance_m',\n",
       " 'city_center_distance_m',\n",
       " 'parks_numbers_within_3km',\n",
       " 'nearest_park_distance_m',\n",
       " 'ponds_number_within_3km',\n",
       " 'nearest_pond_distance_m',\n",
       " 'days_exposition']"
      ]
     },
     "execution_count": 9,
     "metadata": {},
     "output_type": "execute_result"
    }
   ],
   "source": [
    "#проверим изменения\n",
    "df.columns.tolist()"
   ]
  },
  {
   "cell_type": "code",
   "execution_count": 10,
   "metadata": {},
   "outputs": [
    {
     "data": {
      "text/plain": [
       "total_images                      0\n",
       "is_open_plan                      0\n",
       "floor                             0\n",
       "number_of_rooms                   0\n",
       "is_studio                         0\n",
       "total_area_m2                     0\n",
       "last_price                        0\n",
       "first_day_exposition              0\n",
       "town_name                        49\n",
       "total_floors_in_house            86\n",
       "living_area_m2                 1903\n",
       "kitchen_area_m2                2278\n",
       "days_exposition                3181\n",
       "ponds_number_within_3km        5518\n",
       "parks_numbers_within_3km       5518\n",
       "city_center_distance_m         5519\n",
       "nearest_airport_distance_m     5542\n",
       "ceiling_height_m               9195\n",
       "number_of_balconies           11519\n",
       "nearest_pond_distance_m       14589\n",
       "nearest_park_distance_m       15620\n",
       "is_apartment                  20924\n",
       "dtype: int64"
      ]
     },
     "execution_count": 10,
     "metadata": {},
     "output_type": "execute_result"
    }
   ],
   "source": [
    "#теперь посмотрим количество пропущенных значений, отсортируем их в порядке возрастания и получим общее кол-во\n",
    "df.isna().sum().sort_values()\n"
   ]
  },
  {
   "cell_type": "code",
   "execution_count": 11,
   "metadata": {},
   "outputs": [
    {
     "data": {
      "text/plain": [
       "total_images                   0.000000\n",
       "is_open_plan                   0.000000\n",
       "floor                          0.000000\n",
       "number_of_rooms                0.000000\n",
       "is_studio                      0.000000\n",
       "total_area_m2                  0.000000\n",
       "last_price                     0.000000\n",
       "first_day_exposition           0.000000\n",
       "town_name                      0.206760\n",
       "total_floors_in_house          0.362885\n",
       "living_area_m2                 8.029875\n",
       "kitchen_area_m2                9.612220\n",
       "days_exposition               13.422507\n",
       "ponds_number_within_3km       23.283683\n",
       "parks_numbers_within_3km      23.283683\n",
       "city_center_distance_m        23.287902\n",
       "nearest_airport_distance_m    23.384953\n",
       "ceiling_height_m              38.799105\n",
       "number_of_balconies           48.605426\n",
       "nearest_pond_distance_m       61.559559\n",
       "nearest_park_distance_m       65.909954\n",
       "is_apartment                  88.290645\n",
       "dtype: float64"
      ]
     },
     "execution_count": 11,
     "metadata": {},
     "output_type": "execute_result"
    }
   ],
   "source": [
    "#оценим пропуски в % соотношении \n",
    "#пропуски выглядят некритично, пользователи могут не знать точное расстояние до объектов,а так же высоту потолков\n",
    "df.isna().sum().sort_values()/df.shape[0]*100"
   ]
  },
  {
   "cell_type": "markdown",
   "metadata": {},
   "source": [
    "<div class=\"alert alert-success\">\n",
    "<b>Комментарий ревьюера:</b>\n",
    "\n",
    "Классный способ посчитать доли пропущенных значений 👍\n",
    "    \n",
    "Оставил пример ниже как это можно сделать еще.\n",
    "    \n",
    "</div>"
   ]
  },
  {
   "cell_type": "code",
   "execution_count": 12,
   "metadata": {
    "scrolled": true
   },
   "outputs": [
    {
     "data": {
      "text/plain": [
       "total_images                   0.000000\n",
       "last_price                     0.000000\n",
       "total_area_m2                  0.000000\n",
       "first_day_exposition           0.000000\n",
       "number_of_rooms                0.000000\n",
       "ceiling_height_m              38.799105\n",
       "total_floors_in_house          0.362885\n",
       "living_area_m2                 8.029875\n",
       "floor                          0.000000\n",
       "is_apartment                  88.290645\n",
       "is_studio                      0.000000\n",
       "is_open_plan                   0.000000\n",
       "kitchen_area_m2                9.612220\n",
       "number_of_balconies           48.605426\n",
       "town_name                      0.206760\n",
       "nearest_airport_distance_m    23.384953\n",
       "city_center_distance_m        23.287902\n",
       "parks_numbers_within_3km      23.283683\n",
       "nearest_park_distance_m       65.909954\n",
       "ponds_number_within_3km       23.283683\n",
       "nearest_pond_distance_m       61.559559\n",
       "days_exposition               13.422507\n",
       "dtype: float64"
      ]
     },
     "execution_count": 12,
     "metadata": {},
     "output_type": "execute_result"
    }
   ],
   "source": [
    "df.isna().mean() * 100"
   ]
  },
  {
   "cell_type": "code",
   "execution_count": 13,
   "metadata": {},
   "outputs": [],
   "source": [
    "#поменяем расположение столбцов для более наглядного чтения данных в таблице\n",
    "df = df[[\n",
    " 'town_name',  \n",
    " 'total_area_m2',\n",
    " 'living_area_m2',\n",
    " 'kitchen_area_m2',\n",
    " 'ceiling_height_m',\n",
    " 'number_of_rooms',\n",
    " 'number_of_balconies',\n",
    " 'floor',\n",
    " 'total_floors_in_house',\n",
    " 'is_apartment',\n",
    " 'is_studio',\n",
    " 'is_open_plan',  \n",
    " 'total_images',\n",
    " 'last_price',\n",
    " 'first_day_exposition',\n",
    " 'days_exposition',\n",
    " 'city_center_distance_m',\n",
    " 'nearest_airport_distance_m',\n",
    " 'parks_numbers_within_3km',\n",
    " 'nearest_park_distance_m',\n",
    " 'ponds_number_within_3km',\n",
    " 'nearest_pond_distance_m'\n",
    "]]"
   ]
  },
  {
   "cell_type": "code",
   "execution_count": 14,
   "metadata": {},
   "outputs": [
    {
     "data": {
      "text/html": [
       "<div>\n",
       "<style scoped>\n",
       "    .dataframe tbody tr th:only-of-type {\n",
       "        vertical-align: middle;\n",
       "    }\n",
       "\n",
       "    .dataframe tbody tr th {\n",
       "        vertical-align: top;\n",
       "    }\n",
       "\n",
       "    .dataframe thead th {\n",
       "        text-align: right;\n",
       "    }\n",
       "</style>\n",
       "<table border=\"1\" class=\"dataframe\">\n",
       "  <thead>\n",
       "    <tr style=\"text-align: right;\">\n",
       "      <th></th>\n",
       "      <th>town_name</th>\n",
       "      <th>total_area_m2</th>\n",
       "      <th>living_area_m2</th>\n",
       "      <th>kitchen_area_m2</th>\n",
       "      <th>ceiling_height_m</th>\n",
       "      <th>number_of_rooms</th>\n",
       "      <th>number_of_balconies</th>\n",
       "      <th>floor</th>\n",
       "      <th>total_floors_in_house</th>\n",
       "      <th>is_apartment</th>\n",
       "      <th>...</th>\n",
       "      <th>total_images</th>\n",
       "      <th>last_price</th>\n",
       "      <th>first_day_exposition</th>\n",
       "      <th>days_exposition</th>\n",
       "      <th>city_center_distance_m</th>\n",
       "      <th>nearest_airport_distance_m</th>\n",
       "      <th>parks_numbers_within_3km</th>\n",
       "      <th>nearest_park_distance_m</th>\n",
       "      <th>ponds_number_within_3km</th>\n",
       "      <th>nearest_pond_distance_m</th>\n",
       "    </tr>\n",
       "  </thead>\n",
       "  <tbody>\n",
       "    <tr>\n",
       "      <td>0</td>\n",
       "      <td>Санкт-Петербург</td>\n",
       "      <td>108.0</td>\n",
       "      <td>51.0</td>\n",
       "      <td>25.0</td>\n",
       "      <td>2.70</td>\n",
       "      <td>3</td>\n",
       "      <td>NaN</td>\n",
       "      <td>8</td>\n",
       "      <td>16.0</td>\n",
       "      <td>NaN</td>\n",
       "      <td>...</td>\n",
       "      <td>20</td>\n",
       "      <td>13000000.0</td>\n",
       "      <td>2019-03-07T00:00:00</td>\n",
       "      <td>NaN</td>\n",
       "      <td>16028.0</td>\n",
       "      <td>18863.0</td>\n",
       "      <td>1.0</td>\n",
       "      <td>482.0</td>\n",
       "      <td>2.0</td>\n",
       "      <td>755.0</td>\n",
       "    </tr>\n",
       "    <tr>\n",
       "      <td>1</td>\n",
       "      <td>посёлок Шушары</td>\n",
       "      <td>40.4</td>\n",
       "      <td>18.6</td>\n",
       "      <td>11.0</td>\n",
       "      <td>NaN</td>\n",
       "      <td>1</td>\n",
       "      <td>2.0</td>\n",
       "      <td>1</td>\n",
       "      <td>11.0</td>\n",
       "      <td>NaN</td>\n",
       "      <td>...</td>\n",
       "      <td>7</td>\n",
       "      <td>3350000.0</td>\n",
       "      <td>2018-12-04T00:00:00</td>\n",
       "      <td>81.0</td>\n",
       "      <td>18603.0</td>\n",
       "      <td>12817.0</td>\n",
       "      <td>0.0</td>\n",
       "      <td>NaN</td>\n",
       "      <td>0.0</td>\n",
       "      <td>NaN</td>\n",
       "    </tr>\n",
       "    <tr>\n",
       "      <td>2</td>\n",
       "      <td>Санкт-Петербург</td>\n",
       "      <td>56.0</td>\n",
       "      <td>34.3</td>\n",
       "      <td>8.3</td>\n",
       "      <td>NaN</td>\n",
       "      <td>2</td>\n",
       "      <td>0.0</td>\n",
       "      <td>4</td>\n",
       "      <td>5.0</td>\n",
       "      <td>NaN</td>\n",
       "      <td>...</td>\n",
       "      <td>10</td>\n",
       "      <td>5196000.0</td>\n",
       "      <td>2015-08-20T00:00:00</td>\n",
       "      <td>558.0</td>\n",
       "      <td>13933.0</td>\n",
       "      <td>21741.0</td>\n",
       "      <td>1.0</td>\n",
       "      <td>90.0</td>\n",
       "      <td>2.0</td>\n",
       "      <td>574.0</td>\n",
       "    </tr>\n",
       "    <tr>\n",
       "      <td>3</td>\n",
       "      <td>Санкт-Петербург</td>\n",
       "      <td>159.0</td>\n",
       "      <td>NaN</td>\n",
       "      <td>NaN</td>\n",
       "      <td>NaN</td>\n",
       "      <td>3</td>\n",
       "      <td>0.0</td>\n",
       "      <td>9</td>\n",
       "      <td>14.0</td>\n",
       "      <td>NaN</td>\n",
       "      <td>...</td>\n",
       "      <td>0</td>\n",
       "      <td>64900000.0</td>\n",
       "      <td>2015-07-24T00:00:00</td>\n",
       "      <td>424.0</td>\n",
       "      <td>6800.0</td>\n",
       "      <td>28098.0</td>\n",
       "      <td>2.0</td>\n",
       "      <td>84.0</td>\n",
       "      <td>3.0</td>\n",
       "      <td>234.0</td>\n",
       "    </tr>\n",
       "    <tr>\n",
       "      <td>4</td>\n",
       "      <td>Санкт-Петербург</td>\n",
       "      <td>100.0</td>\n",
       "      <td>32.0</td>\n",
       "      <td>41.0</td>\n",
       "      <td>3.03</td>\n",
       "      <td>2</td>\n",
       "      <td>NaN</td>\n",
       "      <td>13</td>\n",
       "      <td>14.0</td>\n",
       "      <td>NaN</td>\n",
       "      <td>...</td>\n",
       "      <td>2</td>\n",
       "      <td>10000000.0</td>\n",
       "      <td>2018-06-19T00:00:00</td>\n",
       "      <td>121.0</td>\n",
       "      <td>8098.0</td>\n",
       "      <td>31856.0</td>\n",
       "      <td>2.0</td>\n",
       "      <td>112.0</td>\n",
       "      <td>1.0</td>\n",
       "      <td>48.0</td>\n",
       "    </tr>\n",
       "  </tbody>\n",
       "</table>\n",
       "<p>5 rows × 22 columns</p>\n",
       "</div>"
      ],
      "text/plain": [
       "         town_name  total_area_m2  living_area_m2  kitchen_area_m2  \\\n",
       "0  Санкт-Петербург          108.0            51.0             25.0   \n",
       "1   посёлок Шушары           40.4            18.6             11.0   \n",
       "2  Санкт-Петербург           56.0            34.3              8.3   \n",
       "3  Санкт-Петербург          159.0             NaN              NaN   \n",
       "4  Санкт-Петербург          100.0            32.0             41.0   \n",
       "\n",
       "   ceiling_height_m  number_of_rooms  number_of_balconies  floor  \\\n",
       "0              2.70                3                  NaN      8   \n",
       "1               NaN                1                  2.0      1   \n",
       "2               NaN                2                  0.0      4   \n",
       "3               NaN                3                  0.0      9   \n",
       "4              3.03                2                  NaN     13   \n",
       "\n",
       "   total_floors_in_house is_apartment  ...  total_images  last_price  \\\n",
       "0                   16.0          NaN  ...            20  13000000.0   \n",
       "1                   11.0          NaN  ...             7   3350000.0   \n",
       "2                    5.0          NaN  ...            10   5196000.0   \n",
       "3                   14.0          NaN  ...             0  64900000.0   \n",
       "4                   14.0          NaN  ...             2  10000000.0   \n",
       "\n",
       "   first_day_exposition  days_exposition city_center_distance_m  \\\n",
       "0   2019-03-07T00:00:00              NaN                16028.0   \n",
       "1   2018-12-04T00:00:00             81.0                18603.0   \n",
       "2   2015-08-20T00:00:00            558.0                13933.0   \n",
       "3   2015-07-24T00:00:00            424.0                 6800.0   \n",
       "4   2018-06-19T00:00:00            121.0                 8098.0   \n",
       "\n",
       "   nearest_airport_distance_m  parks_numbers_within_3km  \\\n",
       "0                     18863.0                       1.0   \n",
       "1                     12817.0                       0.0   \n",
       "2                     21741.0                       1.0   \n",
       "3                     28098.0                       2.0   \n",
       "4                     31856.0                       2.0   \n",
       "\n",
       "   nearest_park_distance_m  ponds_number_within_3km  nearest_pond_distance_m  \n",
       "0                    482.0                      2.0                    755.0  \n",
       "1                      NaN                      0.0                      NaN  \n",
       "2                     90.0                      2.0                    574.0  \n",
       "3                     84.0                      3.0                    234.0  \n",
       "4                    112.0                      1.0                     48.0  \n",
       "\n",
       "[5 rows x 22 columns]"
      ]
     },
     "execution_count": 14,
     "metadata": {},
     "output_type": "execute_result"
    }
   ],
   "source": [
    "#проверим результат\n",
    "df.head()"
   ]
  },
  {
   "cell_type": "code",
   "execution_count": 15,
   "metadata": {},
   "outputs": [],
   "source": [
    "#уберём метры из столбцов с прудами, аэропортами и центрами городам, приведем все к километрам, так гораздо удобнее считать\n",
    "df['city_center_distance_km'] = df['city_center_distance_m'] / 1000\n",
    "df['nearest_airport_distance_km'] = df['nearest_airport_distance_m'] / 1000\n",
    "df['nearest_park_distance_km'] = df['nearest_park_distance_m'] / 1000\n",
    "df['nearest_pond_distance_km'] = df['nearest_pond_distance_m'] / 1000"
   ]
  },
  {
   "cell_type": "code",
   "execution_count": 16,
   "metadata": {},
   "outputs": [],
   "source": [
    "#удалим старые\n",
    "del df['city_center_distance_m']\n",
    "del df['nearest_airport_distance_m']\n",
    "del df['nearest_park_distance_m']\n",
    "del df['nearest_pond_distance_m']"
   ]
  },
  {
   "cell_type": "code",
   "execution_count": 17,
   "metadata": {},
   "outputs": [
    {
     "data": {
      "text/html": [
       "<div>\n",
       "<style scoped>\n",
       "    .dataframe tbody tr th:only-of-type {\n",
       "        vertical-align: middle;\n",
       "    }\n",
       "\n",
       "    .dataframe tbody tr th {\n",
       "        vertical-align: top;\n",
       "    }\n",
       "\n",
       "    .dataframe thead th {\n",
       "        text-align: right;\n",
       "    }\n",
       "</style>\n",
       "<table border=\"1\" class=\"dataframe\">\n",
       "  <thead>\n",
       "    <tr style=\"text-align: right;\">\n",
       "      <th></th>\n",
       "      <th>town_name</th>\n",
       "      <th>total_area_m2</th>\n",
       "      <th>living_area_m2</th>\n",
       "      <th>kitchen_area_m2</th>\n",
       "      <th>ceiling_height_m</th>\n",
       "      <th>number_of_rooms</th>\n",
       "      <th>number_of_balconies</th>\n",
       "      <th>floor</th>\n",
       "      <th>total_floors_in_house</th>\n",
       "      <th>is_apartment</th>\n",
       "      <th>...</th>\n",
       "      <th>total_images</th>\n",
       "      <th>last_price</th>\n",
       "      <th>first_day_exposition</th>\n",
       "      <th>days_exposition</th>\n",
       "      <th>parks_numbers_within_3km</th>\n",
       "      <th>ponds_number_within_3km</th>\n",
       "      <th>city_center_distance_km</th>\n",
       "      <th>nearest_airport_distance_km</th>\n",
       "      <th>nearest_park_distance_km</th>\n",
       "      <th>nearest_pond_distance_km</th>\n",
       "    </tr>\n",
       "  </thead>\n",
       "  <tbody>\n",
       "    <tr>\n",
       "      <td>0</td>\n",
       "      <td>Санкт-Петербург</td>\n",
       "      <td>108.0</td>\n",
       "      <td>51.0</td>\n",
       "      <td>25.0</td>\n",
       "      <td>2.70</td>\n",
       "      <td>3</td>\n",
       "      <td>NaN</td>\n",
       "      <td>8</td>\n",
       "      <td>16.0</td>\n",
       "      <td>NaN</td>\n",
       "      <td>...</td>\n",
       "      <td>20</td>\n",
       "      <td>13000000.0</td>\n",
       "      <td>2019-03-07T00:00:00</td>\n",
       "      <td>NaN</td>\n",
       "      <td>1.0</td>\n",
       "      <td>2.0</td>\n",
       "      <td>16.028</td>\n",
       "      <td>18.863</td>\n",
       "      <td>0.482</td>\n",
       "      <td>0.755</td>\n",
       "    </tr>\n",
       "    <tr>\n",
       "      <td>1</td>\n",
       "      <td>посёлок Шушары</td>\n",
       "      <td>40.4</td>\n",
       "      <td>18.6</td>\n",
       "      <td>11.0</td>\n",
       "      <td>NaN</td>\n",
       "      <td>1</td>\n",
       "      <td>2.0</td>\n",
       "      <td>1</td>\n",
       "      <td>11.0</td>\n",
       "      <td>NaN</td>\n",
       "      <td>...</td>\n",
       "      <td>7</td>\n",
       "      <td>3350000.0</td>\n",
       "      <td>2018-12-04T00:00:00</td>\n",
       "      <td>81.0</td>\n",
       "      <td>0.0</td>\n",
       "      <td>0.0</td>\n",
       "      <td>18.603</td>\n",
       "      <td>12.817</td>\n",
       "      <td>NaN</td>\n",
       "      <td>NaN</td>\n",
       "    </tr>\n",
       "    <tr>\n",
       "      <td>2</td>\n",
       "      <td>Санкт-Петербург</td>\n",
       "      <td>56.0</td>\n",
       "      <td>34.3</td>\n",
       "      <td>8.3</td>\n",
       "      <td>NaN</td>\n",
       "      <td>2</td>\n",
       "      <td>0.0</td>\n",
       "      <td>4</td>\n",
       "      <td>5.0</td>\n",
       "      <td>NaN</td>\n",
       "      <td>...</td>\n",
       "      <td>10</td>\n",
       "      <td>5196000.0</td>\n",
       "      <td>2015-08-20T00:00:00</td>\n",
       "      <td>558.0</td>\n",
       "      <td>1.0</td>\n",
       "      <td>2.0</td>\n",
       "      <td>13.933</td>\n",
       "      <td>21.741</td>\n",
       "      <td>0.090</td>\n",
       "      <td>0.574</td>\n",
       "    </tr>\n",
       "    <tr>\n",
       "      <td>3</td>\n",
       "      <td>Санкт-Петербург</td>\n",
       "      <td>159.0</td>\n",
       "      <td>NaN</td>\n",
       "      <td>NaN</td>\n",
       "      <td>NaN</td>\n",
       "      <td>3</td>\n",
       "      <td>0.0</td>\n",
       "      <td>9</td>\n",
       "      <td>14.0</td>\n",
       "      <td>NaN</td>\n",
       "      <td>...</td>\n",
       "      <td>0</td>\n",
       "      <td>64900000.0</td>\n",
       "      <td>2015-07-24T00:00:00</td>\n",
       "      <td>424.0</td>\n",
       "      <td>2.0</td>\n",
       "      <td>3.0</td>\n",
       "      <td>6.800</td>\n",
       "      <td>28.098</td>\n",
       "      <td>0.084</td>\n",
       "      <td>0.234</td>\n",
       "    </tr>\n",
       "    <tr>\n",
       "      <td>4</td>\n",
       "      <td>Санкт-Петербург</td>\n",
       "      <td>100.0</td>\n",
       "      <td>32.0</td>\n",
       "      <td>41.0</td>\n",
       "      <td>3.03</td>\n",
       "      <td>2</td>\n",
       "      <td>NaN</td>\n",
       "      <td>13</td>\n",
       "      <td>14.0</td>\n",
       "      <td>NaN</td>\n",
       "      <td>...</td>\n",
       "      <td>2</td>\n",
       "      <td>10000000.0</td>\n",
       "      <td>2018-06-19T00:00:00</td>\n",
       "      <td>121.0</td>\n",
       "      <td>2.0</td>\n",
       "      <td>1.0</td>\n",
       "      <td>8.098</td>\n",
       "      <td>31.856</td>\n",
       "      <td>0.112</td>\n",
       "      <td>0.048</td>\n",
       "    </tr>\n",
       "  </tbody>\n",
       "</table>\n",
       "<p>5 rows × 22 columns</p>\n",
       "</div>"
      ],
      "text/plain": [
       "         town_name  total_area_m2  living_area_m2  kitchen_area_m2  \\\n",
       "0  Санкт-Петербург          108.0            51.0             25.0   \n",
       "1   посёлок Шушары           40.4            18.6             11.0   \n",
       "2  Санкт-Петербург           56.0            34.3              8.3   \n",
       "3  Санкт-Петербург          159.0             NaN              NaN   \n",
       "4  Санкт-Петербург          100.0            32.0             41.0   \n",
       "\n",
       "   ceiling_height_m  number_of_rooms  number_of_balconies  floor  \\\n",
       "0              2.70                3                  NaN      8   \n",
       "1               NaN                1                  2.0      1   \n",
       "2               NaN                2                  0.0      4   \n",
       "3               NaN                3                  0.0      9   \n",
       "4              3.03                2                  NaN     13   \n",
       "\n",
       "   total_floors_in_house is_apartment  ...  total_images  last_price  \\\n",
       "0                   16.0          NaN  ...            20  13000000.0   \n",
       "1                   11.0          NaN  ...             7   3350000.0   \n",
       "2                    5.0          NaN  ...            10   5196000.0   \n",
       "3                   14.0          NaN  ...             0  64900000.0   \n",
       "4                   14.0          NaN  ...             2  10000000.0   \n",
       "\n",
       "   first_day_exposition  days_exposition parks_numbers_within_3km  \\\n",
       "0   2019-03-07T00:00:00              NaN                      1.0   \n",
       "1   2018-12-04T00:00:00             81.0                      0.0   \n",
       "2   2015-08-20T00:00:00            558.0                      1.0   \n",
       "3   2015-07-24T00:00:00            424.0                      2.0   \n",
       "4   2018-06-19T00:00:00            121.0                      2.0   \n",
       "\n",
       "   ponds_number_within_3km  city_center_distance_km  \\\n",
       "0                      2.0                   16.028   \n",
       "1                      0.0                   18.603   \n",
       "2                      2.0                   13.933   \n",
       "3                      3.0                    6.800   \n",
       "4                      1.0                    8.098   \n",
       "\n",
       "   nearest_airport_distance_km  nearest_park_distance_km  \\\n",
       "0                       18.863                     0.482   \n",
       "1                       12.817                       NaN   \n",
       "2                       21.741                     0.090   \n",
       "3                       28.098                     0.084   \n",
       "4                       31.856                     0.112   \n",
       "\n",
       "   nearest_pond_distance_km  \n",
       "0                     0.755  \n",
       "1                       NaN  \n",
       "2                     0.574  \n",
       "3                     0.234  \n",
       "4                     0.048  \n",
       "\n",
       "[5 rows x 22 columns]"
      ]
     },
     "execution_count": 17,
     "metadata": {},
     "output_type": "execute_result"
    }
   ],
   "source": [
    "#проверим результат\n",
    "df.head()"
   ]
  },
  {
   "cell_type": "code",
   "execution_count": 18,
   "metadata": {},
   "outputs": [],
   "source": [
    "#поменяем расположение столбцов\n",
    "df = df[[\n",
    " 'town_name',  \n",
    " 'total_area_m2',\n",
    " 'living_area_m2',\n",
    " 'kitchen_area_m2',\n",
    " 'ceiling_height_m',\n",
    " 'number_of_rooms',\n",
    " 'number_of_balconies',\n",
    " 'floor',\n",
    " 'total_floors_in_house',\n",
    " 'is_apartment',\n",
    " 'is_studio',\n",
    " 'is_open_plan',  \n",
    " 'total_images',\n",
    " 'last_price',\n",
    " 'first_day_exposition',\n",
    " 'days_exposition',\n",
    " 'city_center_distance_km',\n",
    " 'nearest_airport_distance_km',\n",
    " 'parks_numbers_within_3km',\n",
    " 'nearest_park_distance_km',\n",
    " 'ponds_number_within_3km',\n",
    " 'nearest_pond_distance_km'\n",
    "]]"
   ]
  },
  {
   "cell_type": "code",
   "execution_count": 19,
   "metadata": {},
   "outputs": [
    {
     "data": {
      "text/html": [
       "<div>\n",
       "<style scoped>\n",
       "    .dataframe tbody tr th:only-of-type {\n",
       "        vertical-align: middle;\n",
       "    }\n",
       "\n",
       "    .dataframe tbody tr th {\n",
       "        vertical-align: top;\n",
       "    }\n",
       "\n",
       "    .dataframe thead th {\n",
       "        text-align: right;\n",
       "    }\n",
       "</style>\n",
       "<table border=\"1\" class=\"dataframe\">\n",
       "  <thead>\n",
       "    <tr style=\"text-align: right;\">\n",
       "      <th></th>\n",
       "      <th>town_name</th>\n",
       "      <th>total_area_m2</th>\n",
       "      <th>living_area_m2</th>\n",
       "      <th>kitchen_area_m2</th>\n",
       "      <th>ceiling_height_m</th>\n",
       "      <th>number_of_rooms</th>\n",
       "      <th>number_of_balconies</th>\n",
       "      <th>floor</th>\n",
       "      <th>total_floors_in_house</th>\n",
       "      <th>is_apartment</th>\n",
       "      <th>...</th>\n",
       "      <th>total_images</th>\n",
       "      <th>last_price</th>\n",
       "      <th>first_day_exposition</th>\n",
       "      <th>days_exposition</th>\n",
       "      <th>city_center_distance_km</th>\n",
       "      <th>nearest_airport_distance_km</th>\n",
       "      <th>parks_numbers_within_3km</th>\n",
       "      <th>nearest_park_distance_km</th>\n",
       "      <th>ponds_number_within_3km</th>\n",
       "      <th>nearest_pond_distance_km</th>\n",
       "    </tr>\n",
       "  </thead>\n",
       "  <tbody>\n",
       "    <tr>\n",
       "      <td>0</td>\n",
       "      <td>Санкт-Петербург</td>\n",
       "      <td>108.0</td>\n",
       "      <td>51.0</td>\n",
       "      <td>25.0</td>\n",
       "      <td>2.70</td>\n",
       "      <td>3</td>\n",
       "      <td>NaN</td>\n",
       "      <td>8</td>\n",
       "      <td>16.0</td>\n",
       "      <td>NaN</td>\n",
       "      <td>...</td>\n",
       "      <td>20</td>\n",
       "      <td>13000000.0</td>\n",
       "      <td>2019-03-07T00:00:00</td>\n",
       "      <td>NaN</td>\n",
       "      <td>16.028</td>\n",
       "      <td>18.863</td>\n",
       "      <td>1.0</td>\n",
       "      <td>0.482</td>\n",
       "      <td>2.0</td>\n",
       "      <td>0.755</td>\n",
       "    </tr>\n",
       "    <tr>\n",
       "      <td>1</td>\n",
       "      <td>посёлок Шушары</td>\n",
       "      <td>40.4</td>\n",
       "      <td>18.6</td>\n",
       "      <td>11.0</td>\n",
       "      <td>NaN</td>\n",
       "      <td>1</td>\n",
       "      <td>2.0</td>\n",
       "      <td>1</td>\n",
       "      <td>11.0</td>\n",
       "      <td>NaN</td>\n",
       "      <td>...</td>\n",
       "      <td>7</td>\n",
       "      <td>3350000.0</td>\n",
       "      <td>2018-12-04T00:00:00</td>\n",
       "      <td>81.0</td>\n",
       "      <td>18.603</td>\n",
       "      <td>12.817</td>\n",
       "      <td>0.0</td>\n",
       "      <td>NaN</td>\n",
       "      <td>0.0</td>\n",
       "      <td>NaN</td>\n",
       "    </tr>\n",
       "    <tr>\n",
       "      <td>2</td>\n",
       "      <td>Санкт-Петербург</td>\n",
       "      <td>56.0</td>\n",
       "      <td>34.3</td>\n",
       "      <td>8.3</td>\n",
       "      <td>NaN</td>\n",
       "      <td>2</td>\n",
       "      <td>0.0</td>\n",
       "      <td>4</td>\n",
       "      <td>5.0</td>\n",
       "      <td>NaN</td>\n",
       "      <td>...</td>\n",
       "      <td>10</td>\n",
       "      <td>5196000.0</td>\n",
       "      <td>2015-08-20T00:00:00</td>\n",
       "      <td>558.0</td>\n",
       "      <td>13.933</td>\n",
       "      <td>21.741</td>\n",
       "      <td>1.0</td>\n",
       "      <td>0.090</td>\n",
       "      <td>2.0</td>\n",
       "      <td>0.574</td>\n",
       "    </tr>\n",
       "    <tr>\n",
       "      <td>3</td>\n",
       "      <td>Санкт-Петербург</td>\n",
       "      <td>159.0</td>\n",
       "      <td>NaN</td>\n",
       "      <td>NaN</td>\n",
       "      <td>NaN</td>\n",
       "      <td>3</td>\n",
       "      <td>0.0</td>\n",
       "      <td>9</td>\n",
       "      <td>14.0</td>\n",
       "      <td>NaN</td>\n",
       "      <td>...</td>\n",
       "      <td>0</td>\n",
       "      <td>64900000.0</td>\n",
       "      <td>2015-07-24T00:00:00</td>\n",
       "      <td>424.0</td>\n",
       "      <td>6.800</td>\n",
       "      <td>28.098</td>\n",
       "      <td>2.0</td>\n",
       "      <td>0.084</td>\n",
       "      <td>3.0</td>\n",
       "      <td>0.234</td>\n",
       "    </tr>\n",
       "    <tr>\n",
       "      <td>4</td>\n",
       "      <td>Санкт-Петербург</td>\n",
       "      <td>100.0</td>\n",
       "      <td>32.0</td>\n",
       "      <td>41.0</td>\n",
       "      <td>3.03</td>\n",
       "      <td>2</td>\n",
       "      <td>NaN</td>\n",
       "      <td>13</td>\n",
       "      <td>14.0</td>\n",
       "      <td>NaN</td>\n",
       "      <td>...</td>\n",
       "      <td>2</td>\n",
       "      <td>10000000.0</td>\n",
       "      <td>2018-06-19T00:00:00</td>\n",
       "      <td>121.0</td>\n",
       "      <td>8.098</td>\n",
       "      <td>31.856</td>\n",
       "      <td>2.0</td>\n",
       "      <td>0.112</td>\n",
       "      <td>1.0</td>\n",
       "      <td>0.048</td>\n",
       "    </tr>\n",
       "  </tbody>\n",
       "</table>\n",
       "<p>5 rows × 22 columns</p>\n",
       "</div>"
      ],
      "text/plain": [
       "         town_name  total_area_m2  living_area_m2  kitchen_area_m2  \\\n",
       "0  Санкт-Петербург          108.0            51.0             25.0   \n",
       "1   посёлок Шушары           40.4            18.6             11.0   \n",
       "2  Санкт-Петербург           56.0            34.3              8.3   \n",
       "3  Санкт-Петербург          159.0             NaN              NaN   \n",
       "4  Санкт-Петербург          100.0            32.0             41.0   \n",
       "\n",
       "   ceiling_height_m  number_of_rooms  number_of_balconies  floor  \\\n",
       "0              2.70                3                  NaN      8   \n",
       "1               NaN                1                  2.0      1   \n",
       "2               NaN                2                  0.0      4   \n",
       "3               NaN                3                  0.0      9   \n",
       "4              3.03                2                  NaN     13   \n",
       "\n",
       "   total_floors_in_house is_apartment  ...  total_images  last_price  \\\n",
       "0                   16.0          NaN  ...            20  13000000.0   \n",
       "1                   11.0          NaN  ...             7   3350000.0   \n",
       "2                    5.0          NaN  ...            10   5196000.0   \n",
       "3                   14.0          NaN  ...             0  64900000.0   \n",
       "4                   14.0          NaN  ...             2  10000000.0   \n",
       "\n",
       "   first_day_exposition  days_exposition city_center_distance_km  \\\n",
       "0   2019-03-07T00:00:00              NaN                  16.028   \n",
       "1   2018-12-04T00:00:00             81.0                  18.603   \n",
       "2   2015-08-20T00:00:00            558.0                  13.933   \n",
       "3   2015-07-24T00:00:00            424.0                   6.800   \n",
       "4   2018-06-19T00:00:00            121.0                   8.098   \n",
       "\n",
       "   nearest_airport_distance_km  parks_numbers_within_3km  \\\n",
       "0                       18.863                       1.0   \n",
       "1                       12.817                       0.0   \n",
       "2                       21.741                       1.0   \n",
       "3                       28.098                       2.0   \n",
       "4                       31.856                       2.0   \n",
       "\n",
       "   nearest_park_distance_km  ponds_number_within_3km  nearest_pond_distance_km  \n",
       "0                     0.482                      2.0                     0.755  \n",
       "1                       NaN                      0.0                       NaN  \n",
       "2                     0.090                      2.0                     0.574  \n",
       "3                     0.084                      3.0                     0.234  \n",
       "4                     0.112                      1.0                     0.048  \n",
       "\n",
       "[5 rows x 22 columns]"
      ]
     },
     "execution_count": 19,
     "metadata": {},
     "output_type": "execute_result"
    }
   ],
   "source": [
    "#проверим\n",
    "df.head()\n",
    "#идеально"
   ]
  },
  {
   "cell_type": "code",
   "execution_count": 20,
   "metadata": {},
   "outputs": [
    {
     "data": {
      "text/plain": [
       "365"
      ]
     },
     "execution_count": 20,
     "metadata": {},
     "output_type": "execute_result"
    }
   ],
   "source": [
    "#пройдемся по столбцам, которые нужны, чтобы решить задачу. \n",
    "#начнем с города.\n",
    "#множество населённых пунктов, посмотрим что будет, если изменить регистр букв\n",
    "len(df['town_name'].unique())"
   ]
  },
  {
   "cell_type": "code",
   "execution_count": 21,
   "metadata": {},
   "outputs": [
    {
     "data": {
      "text/plain": [
       "array(['Санкт-Петербург', 'посёлок Шушары', 'городской посёлок Янино-1',\n",
       "       'посёлок Парголово', 'посёлок Мурино', 'Ломоносов', 'Сертолово',\n",
       "       'Петергоф', 'Пушкин', 'деревня Кудрово', 'Коммунар', 'Колпино',\n",
       "       'поселок городского типа Красный Бор', 'Гатчина', 'поселок Мурино',\n",
       "       'деревня Фёдоровское', 'Выборг', 'Кронштадт', 'Кировск',\n",
       "       'деревня Новое Девяткино', 'посёлок Металлострой',\n",
       "       'посёлок городского типа Лебяжье',\n",
       "       'посёлок городского типа Сиверский', 'поселок Молодцово',\n",
       "       'поселок городского типа Кузьмоловский',\n",
       "       'садовое товарищество Новая Ропша', 'Павловск',\n",
       "       'деревня Пикколово', 'Всеволожск', 'Волхов', 'Кингисепп',\n",
       "       'Приозерск', 'Сестрорецк', 'деревня Куттузи', 'посёлок Аннино',\n",
       "       'поселок городского типа Ефимовский', 'посёлок Плодовое',\n",
       "       'деревня Заклинье', 'поселок Торковичи', 'поселок Первомайское',\n",
       "       'Красное Село', 'посёлок Понтонный', 'Сясьстрой', 'деревня Старая',\n",
       "       'деревня Лесколово', 'посёлок Новый Свет', 'Сланцы',\n",
       "       'село Путилово', 'Ивангород', 'Мурино', 'Шлиссельбург',\n",
       "       'Никольское', 'Зеленогорск', 'Сосновый Бор', 'поселок Новый Свет',\n",
       "       'деревня Оржицы', 'деревня Кальтино', 'Кудрово',\n",
       "       'поселок Романовка', 'посёлок Бугры', 'поселок Бугры',\n",
       "       'поселок городского типа Рощино', 'Кириши', 'Луга', 'Волосово',\n",
       "       'Отрадное', 'село Павлово', 'поселок Оредеж', 'село Копорье',\n",
       "       'посёлок городского типа Красный Бор', 'посёлок Молодёжное',\n",
       "       'Тихвин', 'посёлок Победа', 'деревня Нурма',\n",
       "       'поселок городского типа Синявино', 'Тосно',\n",
       "       'посёлок городского типа Кузьмоловский', 'посёлок Стрельна',\n",
       "       'Бокситогорск', 'посёлок Александровская', 'деревня Лопухинка',\n",
       "       'Пикалёво', 'поселок Терволово',\n",
       "       'поселок городского типа Советский', 'Подпорожье',\n",
       "       'посёлок Петровское', 'посёлок городского типа Токсово',\n",
       "       'поселок Сельцо', 'посёлок городского типа Вырица',\n",
       "       'деревня Кипень', 'деревня Келози', 'деревня Вартемяги',\n",
       "       'посёлок Тельмана', 'поселок Севастьяново',\n",
       "       'городской поселок Большая Ижора', nan,\n",
       "       'городской посёлок Павлово', 'деревня Агалатово',\n",
       "       'посёлок Новогорелово', 'городской посёлок Лесогорский',\n",
       "       'деревня Лаголово', 'поселок Цвелодубово',\n",
       "       'поселок городского типа Рахья', 'поселок городского типа Вырица',\n",
       "       'деревня Белогорка', 'поселок Заводской',\n",
       "       'городской посёлок Новоселье', 'деревня Большие Колпаны',\n",
       "       'деревня Горбунки', 'деревня Батово', 'деревня Заневка',\n",
       "       'деревня Иссад', 'Приморск', 'городской посёлок Фёдоровское',\n",
       "       'деревня Мистолово', 'Новая Ладога', 'поселок Зимитицы',\n",
       "       'поселок Барышево', 'деревня Разметелево',\n",
       "       'поселок городского типа имени Свердлова', 'деревня Пеники',\n",
       "       'поселок Рябово', 'деревня Пудомяги', 'поселок станции Корнево',\n",
       "       'деревня Низино', 'деревня Бегуницы', 'посёлок Поляны',\n",
       "       'городской посёлок Мга', 'поселок Елизаветино',\n",
       "       'посёлок городского типа Кузнечное', 'деревня Колтуши',\n",
       "       'поселок Запорожское', 'посёлок городского типа Рощино',\n",
       "       'деревня Гостилицы', 'деревня Малое Карлино',\n",
       "       'посёлок Мичуринское', 'посёлок городского типа имени Морозова',\n",
       "       'посёлок Песочный', 'посёлок Сосново', 'деревня Аро',\n",
       "       'поселок Ильичёво', 'посёлок городского типа Тайцы',\n",
       "       'деревня Малое Верево', 'деревня Извара', 'поселок станции Вещево',\n",
       "       'село Паша', 'деревня Калитино',\n",
       "       'посёлок городского типа Ульяновка', 'деревня Чудской Бор',\n",
       "       'поселок городского типа Дубровка', 'деревня Мины',\n",
       "       'поселок Войсковицы', 'посёлок городского типа имени Свердлова',\n",
       "       'деревня Коркино', 'посёлок Ропша',\n",
       "       'поселок городского типа Приладожский', 'посёлок Щеглово',\n",
       "       'посёлок Гаврилово', 'Лодейное Поле', 'деревня Рабитицы',\n",
       "       'поселок городского типа Никольский', 'деревня Кузьмолово',\n",
       "       'деревня Малые Колпаны', 'поселок Тельмана',\n",
       "       'посёлок Петро-Славянка', 'городской посёлок Назия',\n",
       "       'посёлок Репино', 'посёлок Ильичёво', 'поселок Углово',\n",
       "       'поселок Старая Малукса', 'садовое товарищество Рахья',\n",
       "       'поселок Аннино', 'поселок Победа', 'деревня Меньково',\n",
       "       'деревня Старые Бегуницы', 'посёлок Сапёрный', 'поселок Семрино',\n",
       "       'поселок Гаврилово', 'поселок Глажево', 'поселок Кобринское',\n",
       "       'деревня Гарболово', 'деревня Юкки',\n",
       "       'поселок станции Приветнинское', 'деревня Мануйлово',\n",
       "       'деревня Пчева', 'поселок Поляны', 'поселок Цвылёво',\n",
       "       'поселок Мельниково', 'посёлок Пудость', 'посёлок Усть-Луга',\n",
       "       'Светогорск', 'Любань', 'поселок Селезнёво',\n",
       "       'поселок городского типа Рябово', 'Каменногорск', 'деревня Кривко',\n",
       "       'поселок Глебычево', 'деревня Парицы', 'поселок Жилпосёлок',\n",
       "       'посёлок городского типа Мга', 'городской поселок Янино-1',\n",
       "       'посёлок Войскорово', 'село Никольское', 'посёлок Терволово',\n",
       "       'поселок Стеклянный', 'посёлок городского типа Важины',\n",
       "       'посёлок Мыза-Ивановка', 'село Русско-Высоцкое',\n",
       "       'поселок городского типа Лебяжье',\n",
       "       'поселок городского типа Форносово', 'село Старая Ладога',\n",
       "       'поселок Житково', 'городской посёлок Виллози', 'деревня Лампово',\n",
       "       'деревня Шпаньково', 'деревня Лаврики', 'посёлок Сумино',\n",
       "       'посёлок Возрождение', 'деревня Старосиверская',\n",
       "       'посёлок Кикерино', 'поселок Возрождение',\n",
       "       'деревня Старое Хинколово', 'посёлок Пригородный',\n",
       "       'посёлок Торфяное', 'городской посёлок Будогощь',\n",
       "       'поселок Суходолье', 'поселок Красная Долина', 'деревня Хапо-Ое',\n",
       "       'поселок городского типа Дружная Горка', 'поселок Лисий Нос',\n",
       "       'деревня Яльгелево', 'посёлок Стеклянный', 'село Рождествено',\n",
       "       'деревня Старополье', 'посёлок Левашово', 'деревня Сяськелево',\n",
       "       'деревня Камышовка',\n",
       "       'садоводческое некоммерческое товарищество Лесная Поляна',\n",
       "       'деревня Хязельки', 'поселок Жилгородок',\n",
       "       'посёлок городского типа Павлово', 'деревня Ялгино',\n",
       "       'поселок Новый Учхоз', 'городской посёлок Рощино',\n",
       "       'поселок Гончарово', 'поселок Почап', 'посёлок Сапёрное',\n",
       "       'посёлок Платформа 69-й километр', 'поселок Каложицы',\n",
       "       'деревня Фалилеево', 'деревня Пельгора',\n",
       "       'поселок городского типа Лесогорский', 'деревня Торошковичи',\n",
       "       'посёлок Белоостров', 'посёлок Алексеевка', 'поселок Серебрянский',\n",
       "       'поселок Лукаши', 'поселок Петровское', 'деревня Щеглово',\n",
       "       'поселок Мичуринское', 'деревня Тарасово', 'поселок Кингисеппский',\n",
       "       'посёлок при железнодорожной станции Вещево', 'поселок Ушаки',\n",
       "       'деревня Котлы', 'деревня Сижно', 'деревня Торосово',\n",
       "       'посёлок Форт Красная Горка', 'поселок городского типа Токсово',\n",
       "       'деревня Новолисино', 'посёлок станции Громово', 'деревня Глинка',\n",
       "       'посёлок Мельниково', 'поселок городского типа Назия',\n",
       "       'деревня Старая Пустошь', 'поселок Коммунары', 'поселок Починок',\n",
       "       'посёлок городского типа Вознесенье', 'деревня Разбегаево',\n",
       "       'посёлок городского типа Рябово', 'поселок Гладкое',\n",
       "       'посёлок при железнодорожной станции Приветнинское',\n",
       "       'поселок Тёсово-4', 'посёлок Жилгородок', 'деревня Бор',\n",
       "       'посёлок Коробицыно', 'деревня Большая Вруда', 'деревня Курковицы',\n",
       "       'посёлок Лисий Нос', 'городской посёлок Советский',\n",
       "       'посёлок Кобралово', 'деревня Суоранда', 'поселок Кобралово',\n",
       "       'поселок городского типа Кондратьево',\n",
       "       'коттеджный поселок Счастье', 'поселок Любань', 'деревня Реброво',\n",
       "       'деревня Зимитицы', 'деревня Тойворово', 'поселок Семиозерье',\n",
       "       'поселок Лесное', 'поселок Совхозный', 'поселок Усть-Луга',\n",
       "       'посёлок Ленинское', 'посёлок Суйда',\n",
       "       'посёлок городского типа Форносово', 'деревня Нижние Осельки',\n",
       "       'посёлок станции Свирь', 'поселок Перово', 'Высоцк',\n",
       "       'поселок Гарболово', 'село Шум', 'поселок Котельский',\n",
       "       'поселок станции Лужайка', 'деревня Большая Пустомержа',\n",
       "       'поселок Красносельское', 'деревня Вахнова Кара', 'деревня Пижма',\n",
       "       'коттеджный поселок Кивеннапа Север', 'поселок Коробицыно',\n",
       "       'поселок Ромашки', 'посёлок Перово', 'деревня Каськово',\n",
       "       'деревня Куровицы', 'посёлок Плоское', 'поселок Сумино',\n",
       "       'поселок городского типа Большая Ижора', 'поселок Кирпичное',\n",
       "       'деревня Ям-Тесово', 'деревня Раздолье', 'деревня Терпилицы',\n",
       "       'посёлок Шугозеро', 'деревня Ваганово', 'поселок Пушное',\n",
       "       'садовое товарищество Садко', 'посёлок Усть-Ижора',\n",
       "       'деревня Выскатка', 'городской посёлок Свирьстрой',\n",
       "       'поселок Громово', 'деревня Кисельня', 'посёлок Старая Малукса',\n",
       "       'деревня Трубников Бор', 'поселок Калитино',\n",
       "       'посёлок Высокоключевой', 'садовое товарищество Приладожский',\n",
       "       'посёлок Пансионат Зелёный Бор', 'деревня Ненимяки',\n",
       "       'поселок Пансионат Зелёный Бор', 'деревня Снегирёвка',\n",
       "       'деревня Рапполово', 'деревня Пустынка', 'поселок Рабитицы',\n",
       "       'деревня Большой Сабск', 'деревня Русско', 'деревня Лупполово',\n",
       "       'деревня Большое Рейзино', 'деревня Малая Романовка',\n",
       "       'поселок Дружноселье', 'поселок Пчевжа', 'поселок Володарское',\n",
       "       'деревня Нижняя', 'коттеджный посёлок Лесное', 'деревня Тихковицы',\n",
       "       'деревня Борисова Грива', 'посёлок Дзержинского'], dtype=object)"
      ]
     },
     "execution_count": 21,
     "metadata": {},
     "output_type": "execute_result"
    }
   ],
   "source": [
    "df['town_name'].unique()"
   ]
  },
  {
   "cell_type": "markdown",
   "metadata": {},
   "source": [
    "есть населённые пункты с \"е\" и \"ё\", а так же странные названия населённых пунктов напоминающие остановки поезда ил электрички, пока не будем ничего трогать, нет возможности уточнить данные"
   ]
  },
  {
   "cell_type": "code",
   "execution_count": 22,
   "metadata": {},
   "outputs": [],
   "source": [
    "#заменим ё на е\n",
    "df['town_name'] = df['town_name'].str.replace('ё', 'е', regex=True)"
   ]
  },
  {
   "cell_type": "code",
   "execution_count": 23,
   "metadata": {},
   "outputs": [
    {
     "data": {
      "text/plain": [
       "331"
      ]
     },
     "execution_count": 23,
     "metadata": {},
     "output_type": "execute_result"
    }
   ],
   "source": [
    "#посчитаем кол-во уникальных значений \n",
    "#избавились от 34 дублей\n",
    "len(df['town_name'].unique())"
   ]
  },
  {
   "cell_type": "code",
   "execution_count": 24,
   "metadata": {},
   "outputs": [
    {
     "data": {
      "text/plain": [
       "49"
      ]
     },
     "execution_count": 24,
     "metadata": {},
     "output_type": "execute_result"
    }
   ],
   "source": [
    "#удалим пропущенные значения \n",
    "df['town_name'].isna().sum()"
   ]
  },
  {
   "cell_type": "code",
   "execution_count": 25,
   "metadata": {},
   "outputs": [],
   "source": [
    "#удалим строки без города, они будут мешать в анализе и даже пользователям такие объявления не нужны,\n",
    "#такие данные не дают должного представления о нахождении жилья\n",
    "df = df.dropna(subset=['town_name'])"
   ]
  },
  {
   "cell_type": "code",
   "execution_count": 26,
   "metadata": {},
   "outputs": [
    {
     "data": {
      "text/plain": [
       "0"
      ]
     },
     "execution_count": 26,
     "metadata": {},
     "output_type": "execute_result"
    }
   ],
   "source": [
    "#итак, кол-во пропусков?\n",
    "df['town_name'].isna().sum()"
   ]
  },
  {
   "cell_type": "code",
   "execution_count": 27,
   "metadata": {},
   "outputs": [],
   "source": [
    "#теперь день публикации приведём в человеческий вид\n",
    "df['first_day_exposition'] = pd.to_datetime(df['first_day_exposition'], format=\"%Y-%m-%dT%H:%M:%S\")"
   ]
  },
  {
   "cell_type": "code",
   "execution_count": 28,
   "metadata": {},
   "outputs": [
    {
     "data": {
      "text/html": [
       "<div>\n",
       "<style scoped>\n",
       "    .dataframe tbody tr th:only-of-type {\n",
       "        vertical-align: middle;\n",
       "    }\n",
       "\n",
       "    .dataframe tbody tr th {\n",
       "        vertical-align: top;\n",
       "    }\n",
       "\n",
       "    .dataframe thead th {\n",
       "        text-align: right;\n",
       "    }\n",
       "</style>\n",
       "<table border=\"1\" class=\"dataframe\">\n",
       "  <thead>\n",
       "    <tr style=\"text-align: right;\">\n",
       "      <th></th>\n",
       "      <th>town_name</th>\n",
       "      <th>total_area_m2</th>\n",
       "      <th>living_area_m2</th>\n",
       "      <th>kitchen_area_m2</th>\n",
       "      <th>ceiling_height_m</th>\n",
       "      <th>number_of_rooms</th>\n",
       "      <th>number_of_balconies</th>\n",
       "      <th>floor</th>\n",
       "      <th>total_floors_in_house</th>\n",
       "      <th>is_apartment</th>\n",
       "      <th>...</th>\n",
       "      <th>total_images</th>\n",
       "      <th>last_price</th>\n",
       "      <th>first_day_exposition</th>\n",
       "      <th>days_exposition</th>\n",
       "      <th>city_center_distance_km</th>\n",
       "      <th>nearest_airport_distance_km</th>\n",
       "      <th>parks_numbers_within_3km</th>\n",
       "      <th>nearest_park_distance_km</th>\n",
       "      <th>ponds_number_within_3km</th>\n",
       "      <th>nearest_pond_distance_km</th>\n",
       "    </tr>\n",
       "  </thead>\n",
       "  <tbody>\n",
       "    <tr>\n",
       "      <td>0</td>\n",
       "      <td>Санкт-Петербург</td>\n",
       "      <td>108.0</td>\n",
       "      <td>51.0</td>\n",
       "      <td>25.0</td>\n",
       "      <td>2.70</td>\n",
       "      <td>3</td>\n",
       "      <td>NaN</td>\n",
       "      <td>8</td>\n",
       "      <td>16.0</td>\n",
       "      <td>NaN</td>\n",
       "      <td>...</td>\n",
       "      <td>20</td>\n",
       "      <td>13000000.0</td>\n",
       "      <td>2019-03-07</td>\n",
       "      <td>NaN</td>\n",
       "      <td>16.028</td>\n",
       "      <td>18.863</td>\n",
       "      <td>1.0</td>\n",
       "      <td>0.482</td>\n",
       "      <td>2.0</td>\n",
       "      <td>0.755</td>\n",
       "    </tr>\n",
       "    <tr>\n",
       "      <td>1</td>\n",
       "      <td>поселок Шушары</td>\n",
       "      <td>40.4</td>\n",
       "      <td>18.6</td>\n",
       "      <td>11.0</td>\n",
       "      <td>NaN</td>\n",
       "      <td>1</td>\n",
       "      <td>2.0</td>\n",
       "      <td>1</td>\n",
       "      <td>11.0</td>\n",
       "      <td>NaN</td>\n",
       "      <td>...</td>\n",
       "      <td>7</td>\n",
       "      <td>3350000.0</td>\n",
       "      <td>2018-12-04</td>\n",
       "      <td>81.0</td>\n",
       "      <td>18.603</td>\n",
       "      <td>12.817</td>\n",
       "      <td>0.0</td>\n",
       "      <td>NaN</td>\n",
       "      <td>0.0</td>\n",
       "      <td>NaN</td>\n",
       "    </tr>\n",
       "    <tr>\n",
       "      <td>2</td>\n",
       "      <td>Санкт-Петербург</td>\n",
       "      <td>56.0</td>\n",
       "      <td>34.3</td>\n",
       "      <td>8.3</td>\n",
       "      <td>NaN</td>\n",
       "      <td>2</td>\n",
       "      <td>0.0</td>\n",
       "      <td>4</td>\n",
       "      <td>5.0</td>\n",
       "      <td>NaN</td>\n",
       "      <td>...</td>\n",
       "      <td>10</td>\n",
       "      <td>5196000.0</td>\n",
       "      <td>2015-08-20</td>\n",
       "      <td>558.0</td>\n",
       "      <td>13.933</td>\n",
       "      <td>21.741</td>\n",
       "      <td>1.0</td>\n",
       "      <td>0.090</td>\n",
       "      <td>2.0</td>\n",
       "      <td>0.574</td>\n",
       "    </tr>\n",
       "    <tr>\n",
       "      <td>3</td>\n",
       "      <td>Санкт-Петербург</td>\n",
       "      <td>159.0</td>\n",
       "      <td>NaN</td>\n",
       "      <td>NaN</td>\n",
       "      <td>NaN</td>\n",
       "      <td>3</td>\n",
       "      <td>0.0</td>\n",
       "      <td>9</td>\n",
       "      <td>14.0</td>\n",
       "      <td>NaN</td>\n",
       "      <td>...</td>\n",
       "      <td>0</td>\n",
       "      <td>64900000.0</td>\n",
       "      <td>2015-07-24</td>\n",
       "      <td>424.0</td>\n",
       "      <td>6.800</td>\n",
       "      <td>28.098</td>\n",
       "      <td>2.0</td>\n",
       "      <td>0.084</td>\n",
       "      <td>3.0</td>\n",
       "      <td>0.234</td>\n",
       "    </tr>\n",
       "    <tr>\n",
       "      <td>4</td>\n",
       "      <td>Санкт-Петербург</td>\n",
       "      <td>100.0</td>\n",
       "      <td>32.0</td>\n",
       "      <td>41.0</td>\n",
       "      <td>3.03</td>\n",
       "      <td>2</td>\n",
       "      <td>NaN</td>\n",
       "      <td>13</td>\n",
       "      <td>14.0</td>\n",
       "      <td>NaN</td>\n",
       "      <td>...</td>\n",
       "      <td>2</td>\n",
       "      <td>10000000.0</td>\n",
       "      <td>2018-06-19</td>\n",
       "      <td>121.0</td>\n",
       "      <td>8.098</td>\n",
       "      <td>31.856</td>\n",
       "      <td>2.0</td>\n",
       "      <td>0.112</td>\n",
       "      <td>1.0</td>\n",
       "      <td>0.048</td>\n",
       "    </tr>\n",
       "  </tbody>\n",
       "</table>\n",
       "<p>5 rows × 22 columns</p>\n",
       "</div>"
      ],
      "text/plain": [
       "         town_name  total_area_m2  living_area_m2  kitchen_area_m2  \\\n",
       "0  Санкт-Петербург          108.0            51.0             25.0   \n",
       "1   поселок Шушары           40.4            18.6             11.0   \n",
       "2  Санкт-Петербург           56.0            34.3              8.3   \n",
       "3  Санкт-Петербург          159.0             NaN              NaN   \n",
       "4  Санкт-Петербург          100.0            32.0             41.0   \n",
       "\n",
       "   ceiling_height_m  number_of_rooms  number_of_balconies  floor  \\\n",
       "0              2.70                3                  NaN      8   \n",
       "1               NaN                1                  2.0      1   \n",
       "2               NaN                2                  0.0      4   \n",
       "3               NaN                3                  0.0      9   \n",
       "4              3.03                2                  NaN     13   \n",
       "\n",
       "   total_floors_in_house is_apartment  ...  total_images  last_price  \\\n",
       "0                   16.0          NaN  ...            20  13000000.0   \n",
       "1                   11.0          NaN  ...             7   3350000.0   \n",
       "2                    5.0          NaN  ...            10   5196000.0   \n",
       "3                   14.0          NaN  ...             0  64900000.0   \n",
       "4                   14.0          NaN  ...             2  10000000.0   \n",
       "\n",
       "   first_day_exposition  days_exposition city_center_distance_km  \\\n",
       "0            2019-03-07              NaN                  16.028   \n",
       "1            2018-12-04             81.0                  18.603   \n",
       "2            2015-08-20            558.0                  13.933   \n",
       "3            2015-07-24            424.0                   6.800   \n",
       "4            2018-06-19            121.0                   8.098   \n",
       "\n",
       "   nearest_airport_distance_km  parks_numbers_within_3km  \\\n",
       "0                       18.863                       1.0   \n",
       "1                       12.817                       0.0   \n",
       "2                       21.741                       1.0   \n",
       "3                       28.098                       2.0   \n",
       "4                       31.856                       2.0   \n",
       "\n",
       "   nearest_park_distance_km  ponds_number_within_3km  nearest_pond_distance_km  \n",
       "0                     0.482                      2.0                     0.755  \n",
       "1                       NaN                      0.0                       NaN  \n",
       "2                     0.090                      2.0                     0.574  \n",
       "3                     0.084                      3.0                     0.234  \n",
       "4                     0.112                      1.0                     0.048  \n",
       "\n",
       "[5 rows x 22 columns]"
      ]
     },
     "execution_count": 28,
     "metadata": {},
     "output_type": "execute_result"
    }
   ],
   "source": [
    "#проверим результат\n",
    "df.head()"
   ]
  },
  {
   "cell_type": "code",
   "execution_count": 29,
   "metadata": {},
   "outputs": [
    {
     "data": {
      "text/plain": [
       "20890"
      ]
     },
     "execution_count": 29,
     "metadata": {},
     "output_type": "execute_result"
    }
   ],
   "source": [
    "#разберёмся с апартаментами\n",
    "df['is_apartment'].isna().sum()"
   ]
  },
  {
   "cell_type": "code",
   "execution_count": 30,
   "metadata": {},
   "outputs": [],
   "source": [
    "#заполним булевым значением\n",
    "df['is_apartment'] = df['is_apartment'].fillna(False)"
   ]
  },
  {
   "cell_type": "code",
   "execution_count": 31,
   "metadata": {},
   "outputs": [
    {
     "data": {
      "text/plain": [
       "0"
      ]
     },
     "execution_count": 31,
     "metadata": {},
     "output_type": "execute_result"
    }
   ],
   "source": [
    "#проверим\n",
    "df['is_apartment'].isna().sum()"
   ]
  },
  {
   "cell_type": "code",
   "execution_count": 32,
   "metadata": {},
   "outputs": [],
   "source": [
    "#разберёмся с расстоянием до аэропорта\n",
    "for town_name in df['town_name'].unique():\n",
    "      median = df.loc[df['town_name'] == town_name,'nearest_airport_distance_km'].median()\n",
    "      df.loc[(df['nearest_airport_distance_km'].isna()) & (df['town_name'] == town_name), 'nearest_airport_distance_km'] = median\n",
    "\n",
    "# все что не заполнилось заполняем общей медианой по Лен. области\n",
    "df.loc[df['nearest_airport_distance_km'].isna(), 'nearest_airport_distance_km'] = df['nearest_airport_distance_km'].median()"
   ]
  },
  {
   "cell_type": "code",
   "execution_count": 33,
   "metadata": {},
   "outputs": [
    {
     "data": {
      "text/plain": [
       "0"
      ]
     },
     "execution_count": 33,
     "metadata": {},
     "output_type": "execute_result"
    }
   ],
   "source": [
    "df['nearest_airport_distance_km'].isna().sum()"
   ]
  },
  {
   "cell_type": "code",
   "execution_count": 34,
   "metadata": {},
   "outputs": [],
   "source": [
    "#разберёмся с расстоянием до центра, заполним пропуски средним\n",
    "df['city_center_distance_km'] = df['city_center_distance_km'].fillna(df['city_center_distance_km'].mean())"
   ]
  },
  {
   "cell_type": "code",
   "execution_count": 35,
   "metadata": {},
   "outputs": [
    {
     "data": {
      "text/plain": [
       "0"
      ]
     },
     "execution_count": 35,
     "metadata": {},
     "output_type": "execute_result"
    }
   ],
   "source": [
    "#проверим \n",
    "df['city_center_distance_km'].isna().sum()"
   ]
  },
  {
   "cell_type": "code",
   "execution_count": 36,
   "metadata": {},
   "outputs": [
    {
     "data": {
      "text/plain": [
       "2.65"
      ]
     },
     "execution_count": 36,
     "metadata": {},
     "output_type": "execute_result"
    }
   ],
   "source": [
    "#теперь разберёмся с высотой потолков\n",
    "#посчитаем медиану высоты потолков \n",
    "df['ceiling_height_m'].median()"
   ]
  },
  {
   "cell_type": "code",
   "execution_count": 37,
   "metadata": {},
   "outputs": [],
   "source": [
    "#теперь заменим пропуски на медиану\n",
    "df['ceiling_height_m'] = df['ceiling_height_m'].fillna(df['ceiling_height_m'].median())"
   ]
  },
  {
   "cell_type": "code",
   "execution_count": 38,
   "metadata": {},
   "outputs": [
    {
     "data": {
      "text/html": [
       "<div>\n",
       "<style scoped>\n",
       "    .dataframe tbody tr th:only-of-type {\n",
       "        vertical-align: middle;\n",
       "    }\n",
       "\n",
       "    .dataframe tbody tr th {\n",
       "        vertical-align: top;\n",
       "    }\n",
       "\n",
       "    .dataframe thead th {\n",
       "        text-align: right;\n",
       "    }\n",
       "</style>\n",
       "<table border=\"1\" class=\"dataframe\">\n",
       "  <thead>\n",
       "    <tr style=\"text-align: right;\">\n",
       "      <th></th>\n",
       "      <th>town_name</th>\n",
       "      <th>total_area_m2</th>\n",
       "      <th>living_area_m2</th>\n",
       "      <th>kitchen_area_m2</th>\n",
       "      <th>ceiling_height_m</th>\n",
       "      <th>number_of_rooms</th>\n",
       "      <th>number_of_balconies</th>\n",
       "      <th>floor</th>\n",
       "      <th>total_floors_in_house</th>\n",
       "      <th>is_apartment</th>\n",
       "      <th>...</th>\n",
       "      <th>total_images</th>\n",
       "      <th>last_price</th>\n",
       "      <th>first_day_exposition</th>\n",
       "      <th>days_exposition</th>\n",
       "      <th>city_center_distance_km</th>\n",
       "      <th>nearest_airport_distance_km</th>\n",
       "      <th>parks_numbers_within_3km</th>\n",
       "      <th>nearest_park_distance_km</th>\n",
       "      <th>ponds_number_within_3km</th>\n",
       "      <th>nearest_pond_distance_km</th>\n",
       "    </tr>\n",
       "  </thead>\n",
       "  <tbody>\n",
       "    <tr>\n",
       "      <td>0</td>\n",
       "      <td>Санкт-Петербург</td>\n",
       "      <td>108.0</td>\n",
       "      <td>51.0</td>\n",
       "      <td>25.0</td>\n",
       "      <td>2.70</td>\n",
       "      <td>3</td>\n",
       "      <td>NaN</td>\n",
       "      <td>8</td>\n",
       "      <td>16.0</td>\n",
       "      <td>False</td>\n",
       "      <td>...</td>\n",
       "      <td>20</td>\n",
       "      <td>13000000.0</td>\n",
       "      <td>2019-03-07</td>\n",
       "      <td>NaN</td>\n",
       "      <td>16.028</td>\n",
       "      <td>18.863</td>\n",
       "      <td>1.0</td>\n",
       "      <td>0.482</td>\n",
       "      <td>2.0</td>\n",
       "      <td>0.755</td>\n",
       "    </tr>\n",
       "    <tr>\n",
       "      <td>1</td>\n",
       "      <td>поселок Шушары</td>\n",
       "      <td>40.4</td>\n",
       "      <td>18.6</td>\n",
       "      <td>11.0</td>\n",
       "      <td>2.65</td>\n",
       "      <td>1</td>\n",
       "      <td>2.0</td>\n",
       "      <td>1</td>\n",
       "      <td>11.0</td>\n",
       "      <td>False</td>\n",
       "      <td>...</td>\n",
       "      <td>7</td>\n",
       "      <td>3350000.0</td>\n",
       "      <td>2018-12-04</td>\n",
       "      <td>81.0</td>\n",
       "      <td>18.603</td>\n",
       "      <td>12.817</td>\n",
       "      <td>0.0</td>\n",
       "      <td>NaN</td>\n",
       "      <td>0.0</td>\n",
       "      <td>NaN</td>\n",
       "    </tr>\n",
       "    <tr>\n",
       "      <td>2</td>\n",
       "      <td>Санкт-Петербург</td>\n",
       "      <td>56.0</td>\n",
       "      <td>34.3</td>\n",
       "      <td>8.3</td>\n",
       "      <td>2.65</td>\n",
       "      <td>2</td>\n",
       "      <td>0.0</td>\n",
       "      <td>4</td>\n",
       "      <td>5.0</td>\n",
       "      <td>False</td>\n",
       "      <td>...</td>\n",
       "      <td>10</td>\n",
       "      <td>5196000.0</td>\n",
       "      <td>2015-08-20</td>\n",
       "      <td>558.0</td>\n",
       "      <td>13.933</td>\n",
       "      <td>21.741</td>\n",
       "      <td>1.0</td>\n",
       "      <td>0.090</td>\n",
       "      <td>2.0</td>\n",
       "      <td>0.574</td>\n",
       "    </tr>\n",
       "    <tr>\n",
       "      <td>3</td>\n",
       "      <td>Санкт-Петербург</td>\n",
       "      <td>159.0</td>\n",
       "      <td>NaN</td>\n",
       "      <td>NaN</td>\n",
       "      <td>2.65</td>\n",
       "      <td>3</td>\n",
       "      <td>0.0</td>\n",
       "      <td>9</td>\n",
       "      <td>14.0</td>\n",
       "      <td>False</td>\n",
       "      <td>...</td>\n",
       "      <td>0</td>\n",
       "      <td>64900000.0</td>\n",
       "      <td>2015-07-24</td>\n",
       "      <td>424.0</td>\n",
       "      <td>6.800</td>\n",
       "      <td>28.098</td>\n",
       "      <td>2.0</td>\n",
       "      <td>0.084</td>\n",
       "      <td>3.0</td>\n",
       "      <td>0.234</td>\n",
       "    </tr>\n",
       "    <tr>\n",
       "      <td>4</td>\n",
       "      <td>Санкт-Петербург</td>\n",
       "      <td>100.0</td>\n",
       "      <td>32.0</td>\n",
       "      <td>41.0</td>\n",
       "      <td>3.03</td>\n",
       "      <td>2</td>\n",
       "      <td>NaN</td>\n",
       "      <td>13</td>\n",
       "      <td>14.0</td>\n",
       "      <td>False</td>\n",
       "      <td>...</td>\n",
       "      <td>2</td>\n",
       "      <td>10000000.0</td>\n",
       "      <td>2018-06-19</td>\n",
       "      <td>121.0</td>\n",
       "      <td>8.098</td>\n",
       "      <td>31.856</td>\n",
       "      <td>2.0</td>\n",
       "      <td>0.112</td>\n",
       "      <td>1.0</td>\n",
       "      <td>0.048</td>\n",
       "    </tr>\n",
       "  </tbody>\n",
       "</table>\n",
       "<p>5 rows × 22 columns</p>\n",
       "</div>"
      ],
      "text/plain": [
       "         town_name  total_area_m2  living_area_m2  kitchen_area_m2  \\\n",
       "0  Санкт-Петербург          108.0            51.0             25.0   \n",
       "1   поселок Шушары           40.4            18.6             11.0   \n",
       "2  Санкт-Петербург           56.0            34.3              8.3   \n",
       "3  Санкт-Петербург          159.0             NaN              NaN   \n",
       "4  Санкт-Петербург          100.0            32.0             41.0   \n",
       "\n",
       "   ceiling_height_m  number_of_rooms  number_of_balconies  floor  \\\n",
       "0              2.70                3                  NaN      8   \n",
       "1              2.65                1                  2.0      1   \n",
       "2              2.65                2                  0.0      4   \n",
       "3              2.65                3                  0.0      9   \n",
       "4              3.03                2                  NaN     13   \n",
       "\n",
       "   total_floors_in_house  is_apartment  ...  total_images  last_price  \\\n",
       "0                   16.0         False  ...            20  13000000.0   \n",
       "1                   11.0         False  ...             7   3350000.0   \n",
       "2                    5.0         False  ...            10   5196000.0   \n",
       "3                   14.0         False  ...             0  64900000.0   \n",
       "4                   14.0         False  ...             2  10000000.0   \n",
       "\n",
       "   first_day_exposition  days_exposition city_center_distance_km  \\\n",
       "0            2019-03-07              NaN                  16.028   \n",
       "1            2018-12-04             81.0                  18.603   \n",
       "2            2015-08-20            558.0                  13.933   \n",
       "3            2015-07-24            424.0                   6.800   \n",
       "4            2018-06-19            121.0                   8.098   \n",
       "\n",
       "   nearest_airport_distance_km  parks_numbers_within_3km  \\\n",
       "0                       18.863                       1.0   \n",
       "1                       12.817                       0.0   \n",
       "2                       21.741                       1.0   \n",
       "3                       28.098                       2.0   \n",
       "4                       31.856                       2.0   \n",
       "\n",
       "   nearest_park_distance_km  ponds_number_within_3km  nearest_pond_distance_km  \n",
       "0                     0.482                      2.0                     0.755  \n",
       "1                       NaN                      0.0                       NaN  \n",
       "2                     0.090                      2.0                     0.574  \n",
       "3                     0.084                      3.0                     0.234  \n",
       "4                     0.112                      1.0                     0.048  \n",
       "\n",
       "[5 rows x 22 columns]"
      ]
     },
     "metadata": {},
     "output_type": "display_data"
    }
   ],
   "source": [
    "display(df.head())\n",
    "#починили"
   ]
  },
  {
   "cell_type": "code",
   "execution_count": 39,
   "metadata": {},
   "outputs": [
    {
     "data": {
      "text/plain": [
       "array([False,  True])"
      ]
     },
     "execution_count": 39,
     "metadata": {},
     "output_type": "execute_result"
    }
   ],
   "source": [
    "#разберёмся со студиями\n",
    "df['is_studio'].unique()"
   ]
  },
  {
   "cell_type": "code",
   "execution_count": 40,
   "metadata": {},
   "outputs": [
    {
     "data": {
      "text/plain": [
       "False    23501\n",
       "True       149\n",
       "Name: is_studio, dtype: int64"
      ]
     },
     "execution_count": 40,
     "metadata": {},
     "output_type": "execute_result"
    }
   ],
   "source": [
    "#посчитаем кол-во \n",
    "df['is_studio'].value_counts()"
   ]
  },
  {
   "cell_type": "code",
   "execution_count": 41,
   "metadata": {},
   "outputs": [
    {
     "data": {
      "text/plain": [
       "array([False,  True])"
      ]
     },
     "execution_count": 41,
     "metadata": {},
     "output_type": "execute_result"
    }
   ],
   "source": [
    "#проверим планировку\n",
    "df['is_open_plan'].unique()"
   ]
  },
  {
   "cell_type": "code",
   "execution_count": 42,
   "metadata": {},
   "outputs": [
    {
     "data": {
      "text/plain": [
       "False    23583\n",
       "True        67\n",
       "Name: is_open_plan, dtype: int64"
      ]
     },
     "execution_count": 42,
     "metadata": {},
     "output_type": "execute_result"
    }
   ],
   "source": [
    "#а также кол-во\n",
    "df['is_open_plan'].value_counts()"
   ]
  },
  {
   "cell_type": "code",
   "execution_count": 43,
   "metadata": {},
   "outputs": [
    {
     "data": {
      "text/plain": [
       "array([nan,  2.,  0.,  1.,  5.,  4.,  3.])"
      ]
     },
     "execution_count": 43,
     "metadata": {},
     "output_type": "execute_result"
    }
   ],
   "source": [
    "#проверим балконы\n",
    "df['number_of_balconies'].unique()"
   ]
  },
  {
   "cell_type": "code",
   "execution_count": 44,
   "metadata": {},
   "outputs": [
    {
     "data": {
      "text/plain": [
       "3.0      81\n",
       "4.0     182\n",
       "5.0     304\n",
       "2.0    3658\n",
       "0.0    3725\n",
       "1.0    4187\n",
       "Name: number_of_balconies, dtype: int64"
      ]
     },
     "execution_count": 44,
     "metadata": {},
     "output_type": "execute_result"
    }
   ],
   "source": [
    "#насколько часто встречаются балконы\n",
    "df['number_of_balconies'].value_counts().sort_values()"
   ]
  },
  {
   "cell_type": "markdown",
   "metadata": {},
   "source": [
    "Не встречал квартиры с 5 балконами, но можно предположить что это дорогие квартиры с большой квадратурой, в любом случае нам не на что заменить это значение. "
   ]
  },
  {
   "cell_type": "code",
   "execution_count": 45,
   "metadata": {},
   "outputs": [],
   "source": [
    "#заменим NAN на 0, так как скорее всего балконов у некоторых квартир не было, поэтому значение было пропущено\n",
    "df['number_of_balconies'] = df['number_of_balconies'].fillna(0)"
   ]
  },
  {
   "cell_type": "code",
   "execution_count": 46,
   "metadata": {},
   "outputs": [
    {
     "data": {
      "text/plain": [
       "array([0., 2., 1., 5., 4., 3.])"
      ]
     },
     "execution_count": 46,
     "metadata": {},
     "output_type": "execute_result"
    }
   ],
   "source": [
    "#порядок\n",
    "df['number_of_balconies'].unique()"
   ]
  },
  {
   "cell_type": "code",
   "execution_count": 47,
   "metadata": {},
   "outputs": [
    {
     "data": {
      "text/plain": [
       "1898"
      ]
     },
     "execution_count": 47,
     "metadata": {},
     "output_type": "execute_result"
    }
   ],
   "source": [
    "#проверим жилую площадь \n",
    "df['living_area_m2'].isna().sum()"
   ]
  },
  {
   "cell_type": "code",
   "execution_count": 48,
   "metadata": {},
   "outputs": [],
   "source": [
    "#заменим пропуски медианным значением \n",
    "df['living_area_m2'] = df['living_area_m2'].fillna(df['living_area_m2'].median())"
   ]
  },
  {
   "cell_type": "code",
   "execution_count": 49,
   "metadata": {},
   "outputs": [
    {
     "data": {
      "text/plain": [
       "0"
      ]
     },
     "execution_count": 49,
     "metadata": {},
     "output_type": "execute_result"
    }
   ],
   "source": [
    "#проверим\n",
    "df['living_area_m2'].isna().sum()"
   ]
  },
  {
   "cell_type": "code",
   "execution_count": 50,
   "metadata": {},
   "outputs": [
    {
     "data": {
      "text/plain": [
       "2269"
      ]
     },
     "execution_count": 50,
     "metadata": {},
     "output_type": "execute_result"
    }
   ],
   "source": [
    "#проверим кухни\n",
    "df['kitchen_area_m2'].isna().sum()"
   ]
  },
  {
   "cell_type": "code",
   "execution_count": 51,
   "metadata": {},
   "outputs": [],
   "source": [
    "#заменим пропуски медианным значением \n",
    "df['kitchen_area_m2'] = df['kitchen_area_m2'].fillna(df['kitchen_area_m2'].median())"
   ]
  },
  {
   "cell_type": "code",
   "execution_count": 52,
   "metadata": {},
   "outputs": [
    {
     "data": {
      "text/plain": [
       "0"
      ]
     },
     "execution_count": 52,
     "metadata": {},
     "output_type": "execute_result"
    }
   ],
   "source": [
    "#проверим результат\n",
    "df['kitchen_area_m2'].isna().sum()"
   ]
  },
  {
   "cell_type": "code",
   "execution_count": 53,
   "metadata": {},
   "outputs": [
    {
     "data": {
      "text/plain": [
       "0"
      ]
     },
     "execution_count": 53,
     "metadata": {},
     "output_type": "execute_result"
    }
   ],
   "source": [
    "#проверим этажи\n",
    "df['floor'].isna().sum()"
   ]
  },
  {
   "cell_type": "code",
   "execution_count": 54,
   "metadata": {},
   "outputs": [
    {
     "data": {
      "text/plain": [
       "3180"
      ]
     },
     "execution_count": 54,
     "metadata": {},
     "output_type": "execute_result"
    }
   ],
   "source": [
    "#проверим колонку days_exposition\n",
    "df['days_exposition'].isna().sum()"
   ]
  },
  {
   "cell_type": "code",
   "execution_count": 55,
   "metadata": {},
   "outputs": [],
   "source": [
    "#примем даты выгрузки за максимальное значение first_day_exposition  и вычтем из него first_day_exposition\n",
    "#пропуски в days_exposition заполним разницей между макс значением first_day_exposition и значением first_day_exposition в строке\n",
    "df['days_exposition'] = (\n",
    "    df['days_exposition']\n",
    "    .fillna((df['first_day_exposition'].max()-df['first_day_exposition']).dt.days)\n",
    "    .astype('int')\n",
    ")"
   ]
  },
  {
   "cell_type": "code",
   "execution_count": 56,
   "metadata": {},
   "outputs": [
    {
     "data": {
      "text/plain": [
       "0"
      ]
     },
     "execution_count": 56,
     "metadata": {},
     "output_type": "execute_result"
    }
   ],
   "source": [
    "#проверяем\n",
    "df['days_exposition'].isna().sum()"
   ]
  },
  {
   "cell_type": "markdown",
   "metadata": {},
   "source": [
    "**Вывод**: основные данные готовы к работе, исключение составили колонки с расстоянием до парков и прудов, тут можно оставить всё как есть, ведь большинство людей эти расстояния не змеряют."
   ]
  },
  {
   "cell_type": "markdown",
   "metadata": {},
   "source": [
    "<div class=\"alert alert-success\">\n",
    "<b>Комментарий ревьюера:</b>\n",
    "\n",
    "В том числе метод `fillna` и `astype` можно применять к нескольким столбцам одновременно.\n",
    "    \n",
    "Если столбцов более 2–ух, то рекомендую применять цикл `for`.\n",
    "    \n",
    "Пример: \n",
    "    \n",
    "`df.astype({ \"col1\": \"float64\", \"col2\": \"int64\"})`\n",
    "    \n",
    "</div>"
   ]
  },
  {
   "cell_type": "markdown",
   "metadata": {},
   "source": [
    "```python\n",
    "\n",
    "columns = [col1, col2, col3]\n",
    "\n",
    "for i in columns:\n",
    "    df[i] = df[i].fillna(0)\n",
    "\n",
    "```"
   ]
  },
  {
   "cell_type": "markdown",
   "metadata": {},
   "source": [
    "## Расчёты и добавление результатов в таблицу"
   ]
  },
  {
   "cell_type": "code",
   "execution_count": 57,
   "metadata": {},
   "outputs": [],
   "source": [
    "#добавим столбцы c днем, месяцем и годом\n",
    "df['day_of_week_exposition'] = df['first_day_exposition'].dt.day_name()\n",
    "df['month_exposition'] = df['first_day_exposition'].dt.month_name()\n",
    "df['year_exposition'] = df['first_day_exposition'].dt.year"
   ]
  },
  {
   "cell_type": "code",
   "execution_count": 58,
   "metadata": {},
   "outputs": [
    {
     "data": {
      "text/html": [
       "<div>\n",
       "<style scoped>\n",
       "    .dataframe tbody tr th:only-of-type {\n",
       "        vertical-align: middle;\n",
       "    }\n",
       "\n",
       "    .dataframe tbody tr th {\n",
       "        vertical-align: top;\n",
       "    }\n",
       "\n",
       "    .dataframe thead th {\n",
       "        text-align: right;\n",
       "    }\n",
       "</style>\n",
       "<table border=\"1\" class=\"dataframe\">\n",
       "  <thead>\n",
       "    <tr style=\"text-align: right;\">\n",
       "      <th></th>\n",
       "      <th>town_name</th>\n",
       "      <th>total_area_m2</th>\n",
       "      <th>living_area_m2</th>\n",
       "      <th>kitchen_area_m2</th>\n",
       "      <th>ceiling_height_m</th>\n",
       "      <th>number_of_rooms</th>\n",
       "      <th>number_of_balconies</th>\n",
       "      <th>floor</th>\n",
       "      <th>total_floors_in_house</th>\n",
       "      <th>is_apartment</th>\n",
       "      <th>...</th>\n",
       "      <th>days_exposition</th>\n",
       "      <th>city_center_distance_km</th>\n",
       "      <th>nearest_airport_distance_km</th>\n",
       "      <th>parks_numbers_within_3km</th>\n",
       "      <th>nearest_park_distance_km</th>\n",
       "      <th>ponds_number_within_3km</th>\n",
       "      <th>nearest_pond_distance_km</th>\n",
       "      <th>day_of_week_exposition</th>\n",
       "      <th>month_exposition</th>\n",
       "      <th>year_exposition</th>\n",
       "    </tr>\n",
       "  </thead>\n",
       "  <tbody>\n",
       "    <tr>\n",
       "      <td>0</td>\n",
       "      <td>Санкт-Петербург</td>\n",
       "      <td>108.0</td>\n",
       "      <td>51.0</td>\n",
       "      <td>25.0</td>\n",
       "      <td>2.70</td>\n",
       "      <td>3</td>\n",
       "      <td>0.0</td>\n",
       "      <td>8</td>\n",
       "      <td>16.0</td>\n",
       "      <td>False</td>\n",
       "      <td>...</td>\n",
       "      <td>57</td>\n",
       "      <td>16.028</td>\n",
       "      <td>18.863</td>\n",
       "      <td>1.0</td>\n",
       "      <td>0.482</td>\n",
       "      <td>2.0</td>\n",
       "      <td>0.755</td>\n",
       "      <td>Thursday</td>\n",
       "      <td>March</td>\n",
       "      <td>2019</td>\n",
       "    </tr>\n",
       "    <tr>\n",
       "      <td>1</td>\n",
       "      <td>поселок Шушары</td>\n",
       "      <td>40.4</td>\n",
       "      <td>18.6</td>\n",
       "      <td>11.0</td>\n",
       "      <td>2.65</td>\n",
       "      <td>1</td>\n",
       "      <td>2.0</td>\n",
       "      <td>1</td>\n",
       "      <td>11.0</td>\n",
       "      <td>False</td>\n",
       "      <td>...</td>\n",
       "      <td>81</td>\n",
       "      <td>18.603</td>\n",
       "      <td>12.817</td>\n",
       "      <td>0.0</td>\n",
       "      <td>NaN</td>\n",
       "      <td>0.0</td>\n",
       "      <td>NaN</td>\n",
       "      <td>Tuesday</td>\n",
       "      <td>December</td>\n",
       "      <td>2018</td>\n",
       "    </tr>\n",
       "    <tr>\n",
       "      <td>2</td>\n",
       "      <td>Санкт-Петербург</td>\n",
       "      <td>56.0</td>\n",
       "      <td>34.3</td>\n",
       "      <td>8.3</td>\n",
       "      <td>2.65</td>\n",
       "      <td>2</td>\n",
       "      <td>0.0</td>\n",
       "      <td>4</td>\n",
       "      <td>5.0</td>\n",
       "      <td>False</td>\n",
       "      <td>...</td>\n",
       "      <td>558</td>\n",
       "      <td>13.933</td>\n",
       "      <td>21.741</td>\n",
       "      <td>1.0</td>\n",
       "      <td>0.090</td>\n",
       "      <td>2.0</td>\n",
       "      <td>0.574</td>\n",
       "      <td>Thursday</td>\n",
       "      <td>August</td>\n",
       "      <td>2015</td>\n",
       "    </tr>\n",
       "    <tr>\n",
       "      <td>3</td>\n",
       "      <td>Санкт-Петербург</td>\n",
       "      <td>159.0</td>\n",
       "      <td>30.0</td>\n",
       "      <td>9.1</td>\n",
       "      <td>2.65</td>\n",
       "      <td>3</td>\n",
       "      <td>0.0</td>\n",
       "      <td>9</td>\n",
       "      <td>14.0</td>\n",
       "      <td>False</td>\n",
       "      <td>...</td>\n",
       "      <td>424</td>\n",
       "      <td>6.800</td>\n",
       "      <td>28.098</td>\n",
       "      <td>2.0</td>\n",
       "      <td>0.084</td>\n",
       "      <td>3.0</td>\n",
       "      <td>0.234</td>\n",
       "      <td>Friday</td>\n",
       "      <td>July</td>\n",
       "      <td>2015</td>\n",
       "    </tr>\n",
       "    <tr>\n",
       "      <td>4</td>\n",
       "      <td>Санкт-Петербург</td>\n",
       "      <td>100.0</td>\n",
       "      <td>32.0</td>\n",
       "      <td>41.0</td>\n",
       "      <td>3.03</td>\n",
       "      <td>2</td>\n",
       "      <td>0.0</td>\n",
       "      <td>13</td>\n",
       "      <td>14.0</td>\n",
       "      <td>False</td>\n",
       "      <td>...</td>\n",
       "      <td>121</td>\n",
       "      <td>8.098</td>\n",
       "      <td>31.856</td>\n",
       "      <td>2.0</td>\n",
       "      <td>0.112</td>\n",
       "      <td>1.0</td>\n",
       "      <td>0.048</td>\n",
       "      <td>Tuesday</td>\n",
       "      <td>June</td>\n",
       "      <td>2018</td>\n",
       "    </tr>\n",
       "  </tbody>\n",
       "</table>\n",
       "<p>5 rows × 25 columns</p>\n",
       "</div>"
      ],
      "text/plain": [
       "         town_name  total_area_m2  living_area_m2  kitchen_area_m2  \\\n",
       "0  Санкт-Петербург          108.0            51.0             25.0   \n",
       "1   поселок Шушары           40.4            18.6             11.0   \n",
       "2  Санкт-Петербург           56.0            34.3              8.3   \n",
       "3  Санкт-Петербург          159.0            30.0              9.1   \n",
       "4  Санкт-Петербург          100.0            32.0             41.0   \n",
       "\n",
       "   ceiling_height_m  number_of_rooms  number_of_balconies  floor  \\\n",
       "0              2.70                3                  0.0      8   \n",
       "1              2.65                1                  2.0      1   \n",
       "2              2.65                2                  0.0      4   \n",
       "3              2.65                3                  0.0      9   \n",
       "4              3.03                2                  0.0     13   \n",
       "\n",
       "   total_floors_in_house  is_apartment  ...  days_exposition  \\\n",
       "0                   16.0         False  ...               57   \n",
       "1                   11.0         False  ...               81   \n",
       "2                    5.0         False  ...              558   \n",
       "3                   14.0         False  ...              424   \n",
       "4                   14.0         False  ...              121   \n",
       "\n",
       "   city_center_distance_km  nearest_airport_distance_km  \\\n",
       "0                   16.028                       18.863   \n",
       "1                   18.603                       12.817   \n",
       "2                   13.933                       21.741   \n",
       "3                    6.800                       28.098   \n",
       "4                    8.098                       31.856   \n",
       "\n",
       "   parks_numbers_within_3km nearest_park_distance_km  ponds_number_within_3km  \\\n",
       "0                       1.0                    0.482                      2.0   \n",
       "1                       0.0                      NaN                      0.0   \n",
       "2                       1.0                    0.090                      2.0   \n",
       "3                       2.0                    0.084                      3.0   \n",
       "4                       2.0                    0.112                      1.0   \n",
       "\n",
       "   nearest_pond_distance_km  day_of_week_exposition  month_exposition  \\\n",
       "0                     0.755                Thursday             March   \n",
       "1                       NaN                 Tuesday          December   \n",
       "2                     0.574                Thursday            August   \n",
       "3                     0.234                  Friday              July   \n",
       "4                     0.048                 Tuesday              June   \n",
       "\n",
       "   year_exposition  \n",
       "0             2019  \n",
       "1             2018  \n",
       "2             2015  \n",
       "3             2015  \n",
       "4             2018  \n",
       "\n",
       "[5 rows x 25 columns]"
      ]
     },
     "execution_count": 58,
     "metadata": {},
     "output_type": "execute_result"
    }
   ],
   "source": [
    "df.head()"
   ]
  },
  {
   "cell_type": "code",
   "execution_count": 59,
   "metadata": {},
   "outputs": [],
   "source": [
    "#добавим этажи\n",
    "def floor_status(row):\n",
    "    if row['floor'] == 1:\n",
    "        return 'первый'\n",
    "    elif row['floor'] == row['total_floors_in_house']:\n",
    "        return 'последний'\n",
    "    else:\n",
    "        return 'другой'"
   ]
  },
  {
   "cell_type": "code",
   "execution_count": 60,
   "metadata": {},
   "outputs": [],
   "source": [
    "df['floor_status'] = df.apply(floor_status, axis=1)"
   ]
  },
  {
   "cell_type": "code",
   "execution_count": 61,
   "metadata": {},
   "outputs": [
    {
     "data": {
      "text/html": [
       "<div>\n",
       "<style scoped>\n",
       "    .dataframe tbody tr th:only-of-type {\n",
       "        vertical-align: middle;\n",
       "    }\n",
       "\n",
       "    .dataframe tbody tr th {\n",
       "        vertical-align: top;\n",
       "    }\n",
       "\n",
       "    .dataframe thead th {\n",
       "        text-align: right;\n",
       "    }\n",
       "</style>\n",
       "<table border=\"1\" class=\"dataframe\">\n",
       "  <thead>\n",
       "    <tr style=\"text-align: right;\">\n",
       "      <th></th>\n",
       "      <th>town_name</th>\n",
       "      <th>total_area_m2</th>\n",
       "      <th>living_area_m2</th>\n",
       "      <th>kitchen_area_m2</th>\n",
       "      <th>ceiling_height_m</th>\n",
       "      <th>number_of_rooms</th>\n",
       "      <th>number_of_balconies</th>\n",
       "      <th>floor</th>\n",
       "      <th>total_floors_in_house</th>\n",
       "      <th>is_apartment</th>\n",
       "      <th>...</th>\n",
       "      <th>city_center_distance_km</th>\n",
       "      <th>nearest_airport_distance_km</th>\n",
       "      <th>parks_numbers_within_3km</th>\n",
       "      <th>nearest_park_distance_km</th>\n",
       "      <th>ponds_number_within_3km</th>\n",
       "      <th>nearest_pond_distance_km</th>\n",
       "      <th>day_of_week_exposition</th>\n",
       "      <th>month_exposition</th>\n",
       "      <th>year_exposition</th>\n",
       "      <th>floor_status</th>\n",
       "    </tr>\n",
       "  </thead>\n",
       "  <tbody>\n",
       "    <tr>\n",
       "      <td>0</td>\n",
       "      <td>Санкт-Петербург</td>\n",
       "      <td>108.0</td>\n",
       "      <td>51.0</td>\n",
       "      <td>25.0</td>\n",
       "      <td>2.70</td>\n",
       "      <td>3</td>\n",
       "      <td>0.0</td>\n",
       "      <td>8</td>\n",
       "      <td>16.0</td>\n",
       "      <td>False</td>\n",
       "      <td>...</td>\n",
       "      <td>16.028</td>\n",
       "      <td>18.863</td>\n",
       "      <td>1.0</td>\n",
       "      <td>0.482</td>\n",
       "      <td>2.0</td>\n",
       "      <td>0.755</td>\n",
       "      <td>Thursday</td>\n",
       "      <td>March</td>\n",
       "      <td>2019</td>\n",
       "      <td>другой</td>\n",
       "    </tr>\n",
       "    <tr>\n",
       "      <td>1</td>\n",
       "      <td>поселок Шушары</td>\n",
       "      <td>40.4</td>\n",
       "      <td>18.6</td>\n",
       "      <td>11.0</td>\n",
       "      <td>2.65</td>\n",
       "      <td>1</td>\n",
       "      <td>2.0</td>\n",
       "      <td>1</td>\n",
       "      <td>11.0</td>\n",
       "      <td>False</td>\n",
       "      <td>...</td>\n",
       "      <td>18.603</td>\n",
       "      <td>12.817</td>\n",
       "      <td>0.0</td>\n",
       "      <td>NaN</td>\n",
       "      <td>0.0</td>\n",
       "      <td>NaN</td>\n",
       "      <td>Tuesday</td>\n",
       "      <td>December</td>\n",
       "      <td>2018</td>\n",
       "      <td>первый</td>\n",
       "    </tr>\n",
       "    <tr>\n",
       "      <td>2</td>\n",
       "      <td>Санкт-Петербург</td>\n",
       "      <td>56.0</td>\n",
       "      <td>34.3</td>\n",
       "      <td>8.3</td>\n",
       "      <td>2.65</td>\n",
       "      <td>2</td>\n",
       "      <td>0.0</td>\n",
       "      <td>4</td>\n",
       "      <td>5.0</td>\n",
       "      <td>False</td>\n",
       "      <td>...</td>\n",
       "      <td>13.933</td>\n",
       "      <td>21.741</td>\n",
       "      <td>1.0</td>\n",
       "      <td>0.090</td>\n",
       "      <td>2.0</td>\n",
       "      <td>0.574</td>\n",
       "      <td>Thursday</td>\n",
       "      <td>August</td>\n",
       "      <td>2015</td>\n",
       "      <td>другой</td>\n",
       "    </tr>\n",
       "    <tr>\n",
       "      <td>3</td>\n",
       "      <td>Санкт-Петербург</td>\n",
       "      <td>159.0</td>\n",
       "      <td>30.0</td>\n",
       "      <td>9.1</td>\n",
       "      <td>2.65</td>\n",
       "      <td>3</td>\n",
       "      <td>0.0</td>\n",
       "      <td>9</td>\n",
       "      <td>14.0</td>\n",
       "      <td>False</td>\n",
       "      <td>...</td>\n",
       "      <td>6.800</td>\n",
       "      <td>28.098</td>\n",
       "      <td>2.0</td>\n",
       "      <td>0.084</td>\n",
       "      <td>3.0</td>\n",
       "      <td>0.234</td>\n",
       "      <td>Friday</td>\n",
       "      <td>July</td>\n",
       "      <td>2015</td>\n",
       "      <td>другой</td>\n",
       "    </tr>\n",
       "    <tr>\n",
       "      <td>4</td>\n",
       "      <td>Санкт-Петербург</td>\n",
       "      <td>100.0</td>\n",
       "      <td>32.0</td>\n",
       "      <td>41.0</td>\n",
       "      <td>3.03</td>\n",
       "      <td>2</td>\n",
       "      <td>0.0</td>\n",
       "      <td>13</td>\n",
       "      <td>14.0</td>\n",
       "      <td>False</td>\n",
       "      <td>...</td>\n",
       "      <td>8.098</td>\n",
       "      <td>31.856</td>\n",
       "      <td>2.0</td>\n",
       "      <td>0.112</td>\n",
       "      <td>1.0</td>\n",
       "      <td>0.048</td>\n",
       "      <td>Tuesday</td>\n",
       "      <td>June</td>\n",
       "      <td>2018</td>\n",
       "      <td>другой</td>\n",
       "    </tr>\n",
       "  </tbody>\n",
       "</table>\n",
       "<p>5 rows × 26 columns</p>\n",
       "</div>"
      ],
      "text/plain": [
       "         town_name  total_area_m2  living_area_m2  kitchen_area_m2  \\\n",
       "0  Санкт-Петербург          108.0            51.0             25.0   \n",
       "1   поселок Шушары           40.4            18.6             11.0   \n",
       "2  Санкт-Петербург           56.0            34.3              8.3   \n",
       "3  Санкт-Петербург          159.0            30.0              9.1   \n",
       "4  Санкт-Петербург          100.0            32.0             41.0   \n",
       "\n",
       "   ceiling_height_m  number_of_rooms  number_of_balconies  floor  \\\n",
       "0              2.70                3                  0.0      8   \n",
       "1              2.65                1                  2.0      1   \n",
       "2              2.65                2                  0.0      4   \n",
       "3              2.65                3                  0.0      9   \n",
       "4              3.03                2                  0.0     13   \n",
       "\n",
       "   total_floors_in_house  is_apartment  ...  city_center_distance_km  \\\n",
       "0                   16.0         False  ...                   16.028   \n",
       "1                   11.0         False  ...                   18.603   \n",
       "2                    5.0         False  ...                   13.933   \n",
       "3                   14.0         False  ...                    6.800   \n",
       "4                   14.0         False  ...                    8.098   \n",
       "\n",
       "   nearest_airport_distance_km  parks_numbers_within_3km  \\\n",
       "0                       18.863                       1.0   \n",
       "1                       12.817                       0.0   \n",
       "2                       21.741                       1.0   \n",
       "3                       28.098                       2.0   \n",
       "4                       31.856                       2.0   \n",
       "\n",
       "   nearest_park_distance_km ponds_number_within_3km  nearest_pond_distance_km  \\\n",
       "0                     0.482                     2.0                     0.755   \n",
       "1                       NaN                     0.0                       NaN   \n",
       "2                     0.090                     2.0                     0.574   \n",
       "3                     0.084                     3.0                     0.234   \n",
       "4                     0.112                     1.0                     0.048   \n",
       "\n",
       "   day_of_week_exposition  month_exposition  year_exposition  floor_status  \n",
       "0                Thursday             March             2019        другой  \n",
       "1                 Tuesday          December             2018        первый  \n",
       "2                Thursday            August             2015        другой  \n",
       "3                  Friday              July             2015        другой  \n",
       "4                 Tuesday              June             2018        другой  \n",
       "\n",
       "[5 rows x 26 columns]"
      ]
     },
     "execution_count": 61,
     "metadata": {},
     "output_type": "execute_result"
    }
   ],
   "source": [
    "df.head()"
   ]
  },
  {
   "cell_type": "code",
   "execution_count": 62,
   "metadata": {},
   "outputs": [],
   "source": [
    "#добавим цену квадратного метра\n",
    "df['price_per_meter'] = df['last_price'] / df['total_area_m2']\n",
    "df['price_per_meter'] = df['price_per_meter'].round(decimals=2)"
   ]
  },
  {
   "cell_type": "code",
   "execution_count": 63,
   "metadata": {},
   "outputs": [
    {
     "data": {
      "text/plain": [
       "0        120370.37\n",
       "1         82920.79\n",
       "2         92785.71\n",
       "3        408176.10\n",
       "4        100000.00\n",
       "           ...    \n",
       "23694     72490.85\n",
       "23695     52542.37\n",
       "23696     44091.71\n",
       "23697    149511.40\n",
       "23698     41795.67\n",
       "Name: price_per_meter, Length: 23650, dtype: float64"
      ]
     },
     "metadata": {},
     "output_type": "display_data"
    }
   ],
   "source": [
    "display(df['price_per_meter'])"
   ]
  },
  {
   "cell_type": "code",
   "execution_count": 64,
   "metadata": {},
   "outputs": [],
   "source": [
    "#считаем соотношение жилой и общей площади, а также отношение площади кухни к общей\n",
    "df['total_living_area_ratio'] = df['living_area_m2'] / df['total_area_m2']\n",
    "df['total_kitchen_area_ratio'] = df['kitchen_area_m2'] / df['total_area_m2']"
   ]
  },
  {
   "cell_type": "code",
   "execution_count": 65,
   "metadata": {},
   "outputs": [
    {
     "data": {
      "text/html": [
       "<div>\n",
       "<style scoped>\n",
       "    .dataframe tbody tr th:only-of-type {\n",
       "        vertical-align: middle;\n",
       "    }\n",
       "\n",
       "    .dataframe tbody tr th {\n",
       "        vertical-align: top;\n",
       "    }\n",
       "\n",
       "    .dataframe thead th {\n",
       "        text-align: right;\n",
       "    }\n",
       "</style>\n",
       "<table border=\"1\" class=\"dataframe\">\n",
       "  <thead>\n",
       "    <tr style=\"text-align: right;\">\n",
       "      <th></th>\n",
       "      <th>town_name</th>\n",
       "      <th>total_area_m2</th>\n",
       "      <th>living_area_m2</th>\n",
       "      <th>kitchen_area_m2</th>\n",
       "      <th>ceiling_height_m</th>\n",
       "      <th>number_of_rooms</th>\n",
       "      <th>number_of_balconies</th>\n",
       "      <th>floor</th>\n",
       "      <th>total_floors_in_house</th>\n",
       "      <th>is_apartment</th>\n",
       "      <th>...</th>\n",
       "      <th>nearest_park_distance_km</th>\n",
       "      <th>ponds_number_within_3km</th>\n",
       "      <th>nearest_pond_distance_km</th>\n",
       "      <th>day_of_week_exposition</th>\n",
       "      <th>month_exposition</th>\n",
       "      <th>year_exposition</th>\n",
       "      <th>floor_status</th>\n",
       "      <th>price_per_meter</th>\n",
       "      <th>total_living_area_ratio</th>\n",
       "      <th>total_kitchen_area_ratio</th>\n",
       "    </tr>\n",
       "  </thead>\n",
       "  <tbody>\n",
       "    <tr>\n",
       "      <td>0</td>\n",
       "      <td>Санкт-Петербург</td>\n",
       "      <td>108.0</td>\n",
       "      <td>51.0</td>\n",
       "      <td>25.0</td>\n",
       "      <td>2.70</td>\n",
       "      <td>3</td>\n",
       "      <td>0.0</td>\n",
       "      <td>8</td>\n",
       "      <td>16.0</td>\n",
       "      <td>False</td>\n",
       "      <td>...</td>\n",
       "      <td>0.482</td>\n",
       "      <td>2.0</td>\n",
       "      <td>0.755</td>\n",
       "      <td>Thursday</td>\n",
       "      <td>March</td>\n",
       "      <td>2019</td>\n",
       "      <td>другой</td>\n",
       "      <td>120370.37</td>\n",
       "      <td>0.472222</td>\n",
       "      <td>0.231481</td>\n",
       "    </tr>\n",
       "    <tr>\n",
       "      <td>1</td>\n",
       "      <td>поселок Шушары</td>\n",
       "      <td>40.4</td>\n",
       "      <td>18.6</td>\n",
       "      <td>11.0</td>\n",
       "      <td>2.65</td>\n",
       "      <td>1</td>\n",
       "      <td>2.0</td>\n",
       "      <td>1</td>\n",
       "      <td>11.0</td>\n",
       "      <td>False</td>\n",
       "      <td>...</td>\n",
       "      <td>NaN</td>\n",
       "      <td>0.0</td>\n",
       "      <td>NaN</td>\n",
       "      <td>Tuesday</td>\n",
       "      <td>December</td>\n",
       "      <td>2018</td>\n",
       "      <td>первый</td>\n",
       "      <td>82920.79</td>\n",
       "      <td>0.460396</td>\n",
       "      <td>0.272277</td>\n",
       "    </tr>\n",
       "    <tr>\n",
       "      <td>2</td>\n",
       "      <td>Санкт-Петербург</td>\n",
       "      <td>56.0</td>\n",
       "      <td>34.3</td>\n",
       "      <td>8.3</td>\n",
       "      <td>2.65</td>\n",
       "      <td>2</td>\n",
       "      <td>0.0</td>\n",
       "      <td>4</td>\n",
       "      <td>5.0</td>\n",
       "      <td>False</td>\n",
       "      <td>...</td>\n",
       "      <td>0.090</td>\n",
       "      <td>2.0</td>\n",
       "      <td>0.574</td>\n",
       "      <td>Thursday</td>\n",
       "      <td>August</td>\n",
       "      <td>2015</td>\n",
       "      <td>другой</td>\n",
       "      <td>92785.71</td>\n",
       "      <td>0.612500</td>\n",
       "      <td>0.148214</td>\n",
       "    </tr>\n",
       "    <tr>\n",
       "      <td>3</td>\n",
       "      <td>Санкт-Петербург</td>\n",
       "      <td>159.0</td>\n",
       "      <td>30.0</td>\n",
       "      <td>9.1</td>\n",
       "      <td>2.65</td>\n",
       "      <td>3</td>\n",
       "      <td>0.0</td>\n",
       "      <td>9</td>\n",
       "      <td>14.0</td>\n",
       "      <td>False</td>\n",
       "      <td>...</td>\n",
       "      <td>0.084</td>\n",
       "      <td>3.0</td>\n",
       "      <td>0.234</td>\n",
       "      <td>Friday</td>\n",
       "      <td>July</td>\n",
       "      <td>2015</td>\n",
       "      <td>другой</td>\n",
       "      <td>408176.10</td>\n",
       "      <td>0.188679</td>\n",
       "      <td>0.057233</td>\n",
       "    </tr>\n",
       "    <tr>\n",
       "      <td>4</td>\n",
       "      <td>Санкт-Петербург</td>\n",
       "      <td>100.0</td>\n",
       "      <td>32.0</td>\n",
       "      <td>41.0</td>\n",
       "      <td>3.03</td>\n",
       "      <td>2</td>\n",
       "      <td>0.0</td>\n",
       "      <td>13</td>\n",
       "      <td>14.0</td>\n",
       "      <td>False</td>\n",
       "      <td>...</td>\n",
       "      <td>0.112</td>\n",
       "      <td>1.0</td>\n",
       "      <td>0.048</td>\n",
       "      <td>Tuesday</td>\n",
       "      <td>June</td>\n",
       "      <td>2018</td>\n",
       "      <td>другой</td>\n",
       "      <td>100000.00</td>\n",
       "      <td>0.320000</td>\n",
       "      <td>0.410000</td>\n",
       "    </tr>\n",
       "  </tbody>\n",
       "</table>\n",
       "<p>5 rows × 29 columns</p>\n",
       "</div>"
      ],
      "text/plain": [
       "         town_name  total_area_m2  living_area_m2  kitchen_area_m2  \\\n",
       "0  Санкт-Петербург          108.0            51.0             25.0   \n",
       "1   поселок Шушары           40.4            18.6             11.0   \n",
       "2  Санкт-Петербург           56.0            34.3              8.3   \n",
       "3  Санкт-Петербург          159.0            30.0              9.1   \n",
       "4  Санкт-Петербург          100.0            32.0             41.0   \n",
       "\n",
       "   ceiling_height_m  number_of_rooms  number_of_balconies  floor  \\\n",
       "0              2.70                3                  0.0      8   \n",
       "1              2.65                1                  2.0      1   \n",
       "2              2.65                2                  0.0      4   \n",
       "3              2.65                3                  0.0      9   \n",
       "4              3.03                2                  0.0     13   \n",
       "\n",
       "   total_floors_in_house  is_apartment  ...  nearest_park_distance_km  \\\n",
       "0                   16.0         False  ...                     0.482   \n",
       "1                   11.0         False  ...                       NaN   \n",
       "2                    5.0         False  ...                     0.090   \n",
       "3                   14.0         False  ...                     0.084   \n",
       "4                   14.0         False  ...                     0.112   \n",
       "\n",
       "   ponds_number_within_3km  nearest_pond_distance_km  day_of_week_exposition  \\\n",
       "0                      2.0                     0.755                Thursday   \n",
       "1                      0.0                       NaN                 Tuesday   \n",
       "2                      2.0                     0.574                Thursday   \n",
       "3                      3.0                     0.234                  Friday   \n",
       "4                      1.0                     0.048                 Tuesday   \n",
       "\n",
       "  month_exposition  year_exposition  floor_status  price_per_meter  \\\n",
       "0            March             2019        другой        120370.37   \n",
       "1         December             2018        первый         82920.79   \n",
       "2           August             2015        другой         92785.71   \n",
       "3             July             2015        другой        408176.10   \n",
       "4             June             2018        другой        100000.00   \n",
       "\n",
       "   total_living_area_ratio  total_kitchen_area_ratio  \n",
       "0                 0.472222                  0.231481  \n",
       "1                 0.460396                  0.272277  \n",
       "2                 0.612500                  0.148214  \n",
       "3                 0.188679                  0.057233  \n",
       "4                 0.320000                  0.410000  \n",
       "\n",
       "[5 rows x 29 columns]"
      ]
     },
     "execution_count": 65,
     "metadata": {},
     "output_type": "execute_result"
    }
   ],
   "source": [
    "df.head()"
   ]
  },
  {
   "cell_type": "markdown",
   "metadata": {},
   "source": [
    "**Требуемые данные согласно заданию добавили в таблицу**"
   ]
  },
  {
   "cell_type": "markdown",
   "metadata": {},
   "source": [
    "<div class=\"alert alert-success\">\n",
    "<b>Комментарий ревьюера:</b>\n",
    "\n",
    "Мы достаточно детально обработали наши данные и добавили все необходимые значения в нашу выборку. Давай теперь проведём анализ.\n",
    "    \n",
    "</div>"
   ]
  },
  {
   "cell_type": "markdown",
   "metadata": {},
   "source": [
    "## Исследовательский анализ данных"
   ]
  },
  {
   "cell_type": "markdown",
   "metadata": {},
   "source": [
    "**Изучите следующие параметры: площадь, цена, число комнат, высота потолков. Постройте гистограммы для каждого параметра.**"
   ]
  },
  {
   "cell_type": "code",
   "execution_count": 66,
   "metadata": {},
   "outputs": [
    {
     "data": {
      "text/html": [
       "<div>\n",
       "<style scoped>\n",
       "    .dataframe tbody tr th:only-of-type {\n",
       "        vertical-align: middle;\n",
       "    }\n",
       "\n",
       "    .dataframe tbody tr th {\n",
       "        vertical-align: top;\n",
       "    }\n",
       "\n",
       "    .dataframe thead th {\n",
       "        text-align: right;\n",
       "    }\n",
       "</style>\n",
       "<table border=\"1\" class=\"dataframe\">\n",
       "  <thead>\n",
       "    <tr style=\"text-align: right;\">\n",
       "      <th></th>\n",
       "      <th>total_area_m2</th>\n",
       "      <th>last_price</th>\n",
       "      <th>number_of_rooms</th>\n",
       "      <th>ceiling_height_m</th>\n",
       "    </tr>\n",
       "  </thead>\n",
       "  <tbody>\n",
       "    <tr>\n",
       "      <td>count</td>\n",
       "      <td>23650.000000</td>\n",
       "      <td>2.365000e+04</td>\n",
       "      <td>23650.000000</td>\n",
       "      <td>23650.000000</td>\n",
       "    </tr>\n",
       "    <tr>\n",
       "      <td>mean</td>\n",
       "      <td>60.329069</td>\n",
       "      <td>6.541127e+06</td>\n",
       "      <td>2.070106</td>\n",
       "      <td>2.724311</td>\n",
       "    </tr>\n",
       "    <tr>\n",
       "      <td>std</td>\n",
       "      <td>35.661808</td>\n",
       "      <td>1.089640e+07</td>\n",
       "      <td>1.078620</td>\n",
       "      <td>0.989255</td>\n",
       "    </tr>\n",
       "    <tr>\n",
       "      <td>min</td>\n",
       "      <td>12.000000</td>\n",
       "      <td>1.219000e+04</td>\n",
       "      <td>0.000000</td>\n",
       "      <td>1.000000</td>\n",
       "    </tr>\n",
       "    <tr>\n",
       "      <td>25%</td>\n",
       "      <td>40.000000</td>\n",
       "      <td>3.400000e+06</td>\n",
       "      <td>1.000000</td>\n",
       "      <td>2.600000</td>\n",
       "    </tr>\n",
       "    <tr>\n",
       "      <td>50%</td>\n",
       "      <td>52.000000</td>\n",
       "      <td>4.650000e+06</td>\n",
       "      <td>2.000000</td>\n",
       "      <td>2.650000</td>\n",
       "    </tr>\n",
       "    <tr>\n",
       "      <td>75%</td>\n",
       "      <td>69.700000</td>\n",
       "      <td>6.799000e+06</td>\n",
       "      <td>3.000000</td>\n",
       "      <td>2.700000</td>\n",
       "    </tr>\n",
       "    <tr>\n",
       "      <td>max</td>\n",
       "      <td>900.000000</td>\n",
       "      <td>7.630000e+08</td>\n",
       "      <td>19.000000</td>\n",
       "      <td>100.000000</td>\n",
       "    </tr>\n",
       "  </tbody>\n",
       "</table>\n",
       "</div>"
      ],
      "text/plain": [
       "       total_area_m2    last_price  number_of_rooms  ceiling_height_m\n",
       "count   23650.000000  2.365000e+04     23650.000000      23650.000000\n",
       "mean       60.329069  6.541127e+06         2.070106          2.724311\n",
       "std        35.661808  1.089640e+07         1.078620          0.989255\n",
       "min        12.000000  1.219000e+04         0.000000          1.000000\n",
       "25%        40.000000  3.400000e+06         1.000000          2.600000\n",
       "50%        52.000000  4.650000e+06         2.000000          2.650000\n",
       "75%        69.700000  6.799000e+06         3.000000          2.700000\n",
       "max       900.000000  7.630000e+08        19.000000        100.000000"
      ]
     },
     "execution_count": 66,
     "metadata": {},
     "output_type": "execute_result"
    }
   ],
   "source": [
    "#взглянем на данные \n",
    "df[['total_area_m2', 'last_price', 'number_of_rooms', 'ceiling_height_m']].describe()"
   ]
  },
  {
   "cell_type": "markdown",
   "metadata": {},
   "source": [
    "Из необычных данных довольно странными выглядят:\n",
    "максимальная площадь в 900 метров в квадрате\n",
    "высота потолка в 100 метров\n",
    "квартира в 19 комнат"
   ]
  },
  {
   "cell_type": "code",
   "execution_count": 67,
   "metadata": {},
   "outputs": [],
   "source": [
    "#напишем функцию для удаления выбросов\n",
    "def delete_outliers(df, column,graphic=0,x=10,y=10):\n",
    "    q1 = df[column].quantile(0.25)                 \n",
    "    q3 = df[column].quantile(0.75)\n",
    "    iqr = q3 - q1\n",
    "    strainer = (df[column] >= (q1 - 1.5*iqr)) & (df[column] <= (q3 + 1.5*iqr))\n",
    "    if graphic == 1:\n",
    "        return df.loc[strainer].boxplot([column], figsize=(x,y))\n",
    "    else:\n",
    "        return df.loc[strainer]\n",
    "#посторим ниже диаграммы размаха"
   ]
  },
  {
   "cell_type": "markdown",
   "metadata": {},
   "source": [
    "<div class=\"alert alert-success\">\n",
    "<b>Комментарий ревьюера:</b>\n",
    "\n",
    "Классная функция для визуализации наших графиков без выбросов 👍\n",
    "    \n",
    "Таким образом мы хорошо оптимизируем свой код.\n",
    "    \n",
    "</div>"
   ]
  },
  {
   "cell_type": "code",
   "execution_count": 68,
   "metadata": {},
   "outputs": [
    {
     "data": {
      "image/png": "[encoded data removed]",
      "text/plain": [
       "<Figure size 720x720 with 1 Axes>"
      ]
     },
     "metadata": {
      "needs_background": "light"
     },
     "output_type": "display_data"
    }
   ],
   "source": [
    "delete_outliers(df,'total_area_m2',1,10,10).set_ylim(0,150)\n",
    "plt.title('Диаграмма размаха для общей площади')\n",
    "plt.show()"
   ]
  },
  {
   "cell_type": "code",
   "execution_count": 69,
   "metadata": {},
   "outputs": [
    {
     "data": {
      "text/plain": [
       "54.32568508435241"
      ]
     },
     "execution_count": 69,
     "metadata": {},
     "output_type": "execute_result"
    }
   ],
   "source": [
    "delete_outliers(df,'total_area_m2',0)['total_area_m2'].mean()"
   ]
  },
  {
   "cell_type": "code",
   "execution_count": 70,
   "metadata": {},
   "outputs": [
    {
     "data": {
      "image/png": "[encoded data removed]",
      "text/plain": [
       "<Figure size 720x720 with 1 Axes>"
      ]
     },
     "metadata": {
      "needs_background": "light"
     },
     "output_type": "display_data"
    }
   ],
   "source": [
    "delete_outliers(df,'last_price',1,10,10).set_ylim(0, 10000000)\n",
    "plt.title('Диаграмма размаха для стоимости жилья')\n",
    "plt.show()"
   ]
  },
  {
   "cell_type": "markdown",
   "metadata": {},
   "source": [
    "<div class=\"alert alert-warning\">\n",
    "<b>Комментарий ревьюера:</b>\n",
    "\n",
    "<s>Не забывай пожалуйста подписавать каждый график. Это важный момент всего проект, потому что так быстрее понять о чем идёт речь на графике.\n",
    "\n",
    "</div>"
   ]
  },
  {
   "cell_type": "markdown",
   "metadata": {},
   "source": [
    "<div class=\"alert alert-info\"> <b>Комментарий студента:</b> Пофиксил названия графиков.</div>"
   ]
  },
  {
   "cell_type": "code",
   "execution_count": 71,
   "metadata": {},
   "outputs": [
    {
     "data": {
      "text/plain": [
       "4838942.090946979"
      ]
     },
     "execution_count": 71,
     "metadata": {},
     "output_type": "execute_result"
    }
   ],
   "source": [
    "delete_outliers(df,'last_price',0)['last_price'].mean()"
   ]
  },
  {
   "cell_type": "code",
   "execution_count": 72,
   "metadata": {},
   "outputs": [
    {
     "data": {
      "image/png": "[encoded data removed]",
      "text/plain": [
       "<Figure size 720x720 with 1 Axes>"
      ]
     },
     "metadata": {
      "needs_background": "light"
     },
     "output_type": "display_data"
    }
   ],
   "source": [
    "delete_outliers(df,'number_of_rooms',1,10,10).set_ylim(0, 19)\n",
    "plt.title('Диаграмма размаха для количества комнат')\n",
    "plt.show()"
   ]
  },
  {
   "cell_type": "markdown",
   "metadata": {},
   "source": [
    "<div class=\"alert alert-success\">\n",
    "<b>Комментарий ревьюера:</b>\n",
    "\n",
    "Кстати для того чтобы подписать график мы можем использовать метод `plt.title()` и в конце кода применить `plt.show()`\n",
    "</div>"
   ]
  },
  {
   "cell_type": "markdown",
   "metadata": {},
   "source": [
    "<div class=\"alert alert-info\"> <b>Комментарий студента:</b> Готово сенсей.</div>"
   ]
  },
  {
   "cell_type": "markdown",
   "metadata": {},
   "source": [
    "<div class=\"alert alert-success\">\n",
    "<b>Комментарий ревьюера (2):</b>\n",
    "\n",
    "😁\n",
    "   \n",
    "    \n",
    "    \n",
    "</div>"
   ]
  },
  {
   "cell_type": "markdown",
   "metadata": {},
   "source": [
    "![](https://media.giphy.com/media/QTT5zjhOTO73xahIbk/giphy.gif)"
   ]
  },
  {
   "cell_type": "code",
   "execution_count": 73,
   "metadata": {},
   "outputs": [
    {
     "data": {
      "text/plain": [
       "2.0473259762309"
      ]
     },
     "execution_count": 73,
     "metadata": {},
     "output_type": "execute_result"
    }
   ],
   "source": [
    "delete_outliers(df,'number_of_rooms',0)['number_of_rooms'].mean()"
   ]
  },
  {
   "cell_type": "code",
   "execution_count": 74,
   "metadata": {},
   "outputs": [
    {
     "data": {
      "image/png": "[encoded data removed]",
      "text/plain": [
       "<Figure size 720x720 with 1 Axes>"
      ]
     },
     "metadata": {
      "needs_background": "light"
     },
     "output_type": "display_data"
    }
   ],
   "source": [
    "delete_outliers(df,'ceiling_height_m',1,10,10).set_ylim(1, 3)\n",
    "plt.title('Диаграмма размаха для высоты потолков')\n",
    "plt.show()"
   ]
  },
  {
   "cell_type": "code",
   "execution_count": 75,
   "metadata": {},
   "outputs": [
    {
     "data": {
      "text/plain": [
       "2.6310729468599034"
      ]
     },
     "execution_count": 75,
     "metadata": {},
     "output_type": "execute_result"
    }
   ],
   "source": [
    "delete_outliers(df,'ceiling_height_m',0)['ceiling_height_m'].mean()"
   ]
  },
  {
   "cell_type": "markdown",
   "metadata": {},
   "source": [
    "**Вывод:Как мы видим, есть разница между резальтатами без выбросов и с их отсуствием. Общая площадь с выбросами среднее значение 60, после избавления 54, цена с выбросами 6,5 млн средняя, после избавления 4,8 млн, кол-во комнат среднее 2.07, после избавления 2.04, высота потолков средняя 2.73 , после избавления от выбросов 2.63 м.\n",
    "Мы избавились от выбросов и аномальных значений.**\n",
    "**Во всех данных есть неадекватные значения, наподобе 0 комнат, высоты потолков в 1 или 100 метров, а также цена квартиры в 12190 рублей. О данных неадекватных значениях мы спросим у сотрудников, предоставивших нам выборку данных, для общего изучения данных, мы не станем убирать эти выбивающиеся значения.**"
   ]
  },
  {
   "cell_type": "markdown",
   "metadata": {},
   "source": [
    "**Изучите время продажи квартиры. Постройте гистограмму. Посчитайте среднее и медиану. Опишите, сколько обычно занимает продажа. Когда можно считать, что продажи прошли очень быстро, а когда необычно долго?**"
   ]
  },
  {
   "cell_type": "code",
   "execution_count": 76,
   "metadata": {},
   "outputs": [
    {
     "data": {
      "text/plain": [
       "(1, 1000)"
      ]
     },
     "execution_count": 76,
     "metadata": {},
     "output_type": "execute_result"
    },
    {
     "data": {
      "image/png": "[encoded data removed]",
      "text/plain": [
       "<Figure size 432x288 with 1 Axes>"
      ]
     },
     "metadata": {
      "needs_background": "light"
     },
     "output_type": "display_data"
    }
   ],
   "source": [
    "#построим диаграмму размаха\n",
    "plt.boxplot(df[df['days_exposition']!=0]['days_exposition'])\n",
    "plt.ylim(1,1000)"
   ]
  },
  {
   "cell_type": "code",
   "execution_count": 77,
   "metadata": {
    "scrolled": true
   },
   "outputs": [
    {
     "data": {
      "text/plain": [
       "<matplotlib.axes._subplots.AxesSubplot at 0x7f62107d7f90>"
      ]
     },
     "execution_count": 77,
     "metadata": {},
     "output_type": "execute_result"
    },
    {
     "data": {
      "image/png": "[encoded data removed]",
      "text/plain": [
       "<Figure size 1440x1008 with 1 Axes>"
      ]
     },
     "metadata": {
      "needs_background": "light"
     },
     "output_type": "display_data"
    },
    {
     "data": {
      "image/png": "[encoded data removed]",
      "text/plain": [
       "<Figure size 1440x1008 with 1 Axes>"
      ]
     },
     "metadata": {
      "needs_background": "light"
     },
     "output_type": "display_data"
    }
   ],
   "source": [
    "df.plot(y = 'days_exposition', kind = 'hist', bins = 30, grid = True, figsize = (20,14), range = (1,1600))\n",
    "df.plot(y = 'days_exposition', kind = 'hist', bins = 100, grid = True, figsize = (20,14), range = (1,200))\n"
   ]
  },
  {
   "cell_type": "markdown",
   "metadata": {},
   "source": [
    "<div class=\"alert alert-success\">\n",
    "<b>Комментарий ревьюера:</b>\n",
    "\n",
    "Также мы можем увеличить сам график, чтобы его было удобнее изучать с помощью метода `plt.figure(figsize=(10,7))` или если используешь методы библиотеки `pandas`, в основном всегда есть атрибут `figsize=(10,7)`, который также поможет настроить ширину и высоту графика.\n",
    "    \n",
    "</div>"
   ]
  },
  {
   "cell_type": "markdown",
   "metadata": {},
   "source": [
    "<div class=\"alert alert-info\"> <b>Комментарий студента:</b> Увеличил размер графиков для наглядности.</div>"
   ]
  },
  {
   "cell_type": "markdown",
   "metadata": {},
   "source": [
    "<div class=\"alert alert-success\">\n",
    "<b>Комментарий ревьюера (2):</b>\n",
    "\n",
    "👍    \n",
    "</div>"
   ]
  },
  {
   "cell_type": "code",
   "execution_count": 78,
   "metadata": {
    "scrolled": true
   },
   "outputs": [
    {
     "data": {
      "text/plain": [
       "count    23630.000000\n",
       "mean       185.871604\n",
       "std        233.491993\n",
       "min          1.000000\n",
       "25%         43.000000\n",
       "50%         94.000000\n",
       "75%        237.000000\n",
       "max       1618.000000\n",
       "Name: days_exposition, dtype: float64"
      ]
     },
     "execution_count": 78,
     "metadata": {},
     "output_type": "execute_result"
    }
   ],
   "source": [
    "#среднее значение, медиана и межквартильный размах\n",
    "df[df['days_exposition']!=0]['days_exposition'].describe()\n",
    "#df[df['days_exposition']!=0]['days_exposition'].value_counts()"
   ]
  },
  {
   "cell_type": "markdown",
   "metadata": {},
   "source": [
    "Вывод: гистограмма показывает распределение Пуассона. Среднее значение - 185 дней, медиана - 94 дня. Сделав гистограмму со значениями от 0 до 200 с кол-вом корзин 100, обнаружились выбивающиеся значения и методом value_counts убедились в этом - у нас аномалии на 45, 60, 7, 30, 90 днях - это наиболее популярное количество дней до снятия объявления.\n",
    "\n",
    "В правилах Яндекс Недвижимость указано, что после этих сроков объявление считается неактуальным и снимается автоматически. https://yandex.ru/support/realty/owner/home/add-ads-housing.html \n",
    "Считаю что  нам нужно убрать эти значения, вместе с этим есть вероятность что часть таких квартир могли продать в этот временной промежуток."
   ]
  },
  {
   "cell_type": "code",
   "execution_count": 79,
   "metadata": {},
   "outputs": [
    {
     "data": {
      "text/html": [
       "<div>\n",
       "<style scoped>\n",
       "    .dataframe tbody tr th:only-of-type {\n",
       "        vertical-align: middle;\n",
       "    }\n",
       "\n",
       "    .dataframe tbody tr th {\n",
       "        vertical-align: top;\n",
       "    }\n",
       "\n",
       "    .dataframe thead th {\n",
       "        text-align: right;\n",
       "    }\n",
       "</style>\n",
       "<table border=\"1\" class=\"dataframe\">\n",
       "  <thead>\n",
       "    <tr style=\"text-align: right;\">\n",
       "      <th></th>\n",
       "      <th>town_name</th>\n",
       "      <th>total_area_m2</th>\n",
       "      <th>living_area_m2</th>\n",
       "      <th>kitchen_area_m2</th>\n",
       "      <th>ceiling_height_m</th>\n",
       "      <th>number_of_rooms</th>\n",
       "      <th>number_of_balconies</th>\n",
       "      <th>floor</th>\n",
       "      <th>total_floors_in_house</th>\n",
       "      <th>is_apartment</th>\n",
       "      <th>...</th>\n",
       "      <th>nearest_park_distance_km</th>\n",
       "      <th>ponds_number_within_3km</th>\n",
       "      <th>nearest_pond_distance_km</th>\n",
       "      <th>day_of_week_exposition</th>\n",
       "      <th>month_exposition</th>\n",
       "      <th>year_exposition</th>\n",
       "      <th>floor_status</th>\n",
       "      <th>price_per_meter</th>\n",
       "      <th>total_living_area_ratio</th>\n",
       "      <th>total_kitchen_area_ratio</th>\n",
       "    </tr>\n",
       "  </thead>\n",
       "  <tbody>\n",
       "    <tr>\n",
       "      <td>78</td>\n",
       "      <td>Санкт-Петербург</td>\n",
       "      <td>37.0</td>\n",
       "      <td>18.0</td>\n",
       "      <td>10.7</td>\n",
       "      <td>2.65</td>\n",
       "      <td>1</td>\n",
       "      <td>0.0</td>\n",
       "      <td>6</td>\n",
       "      <td>19.0</td>\n",
       "      <td>False</td>\n",
       "      <td>...</td>\n",
       "      <td>NaN</td>\n",
       "      <td>0.0</td>\n",
       "      <td>NaN</td>\n",
       "      <td>Thursday</td>\n",
       "      <td>February</td>\n",
       "      <td>2018</td>\n",
       "      <td>другой</td>\n",
       "      <td>117567.57</td>\n",
       "      <td>0.486486</td>\n",
       "      <td>0.289189</td>\n",
       "    </tr>\n",
       "    <tr>\n",
       "      <td>89</td>\n",
       "      <td>поселок городского типа Сиверский</td>\n",
       "      <td>63.0</td>\n",
       "      <td>43.0</td>\n",
       "      <td>9.0</td>\n",
       "      <td>2.50</td>\n",
       "      <td>3</td>\n",
       "      <td>0.0</td>\n",
       "      <td>4</td>\n",
       "      <td>5.0</td>\n",
       "      <td>False</td>\n",
       "      <td>...</td>\n",
       "      <td>NaN</td>\n",
       "      <td>NaN</td>\n",
       "      <td>NaN</td>\n",
       "      <td>Thursday</td>\n",
       "      <td>October</td>\n",
       "      <td>2018</td>\n",
       "      <td>другой</td>\n",
       "      <td>39682.54</td>\n",
       "      <td>0.682540</td>\n",
       "      <td>0.142857</td>\n",
       "    </tr>\n",
       "    <tr>\n",
       "      <td>110</td>\n",
       "      <td>деревня Пикколово</td>\n",
       "      <td>72.3</td>\n",
       "      <td>27.4</td>\n",
       "      <td>23.6</td>\n",
       "      <td>2.65</td>\n",
       "      <td>2</td>\n",
       "      <td>0.0</td>\n",
       "      <td>2</td>\n",
       "      <td>3.0</td>\n",
       "      <td>False</td>\n",
       "      <td>...</td>\n",
       "      <td>NaN</td>\n",
       "      <td>NaN</td>\n",
       "      <td>NaN</td>\n",
       "      <td>Friday</td>\n",
       "      <td>September</td>\n",
       "      <td>2017</td>\n",
       "      <td>другой</td>\n",
       "      <td>53250.35</td>\n",
       "      <td>0.378976</td>\n",
       "      <td>0.326418</td>\n",
       "    </tr>\n",
       "    <tr>\n",
       "      <td>153</td>\n",
       "      <td>Петергоф</td>\n",
       "      <td>55.0</td>\n",
       "      <td>31.2</td>\n",
       "      <td>8.3</td>\n",
       "      <td>2.57</td>\n",
       "      <td>2</td>\n",
       "      <td>0.0</td>\n",
       "      <td>2</td>\n",
       "      <td>9.0</td>\n",
       "      <td>False</td>\n",
       "      <td>...</td>\n",
       "      <td>0.589</td>\n",
       "      <td>0.0</td>\n",
       "      <td>NaN</td>\n",
       "      <td>Sunday</td>\n",
       "      <td>May</td>\n",
       "      <td>2017</td>\n",
       "      <td>другой</td>\n",
       "      <td>79090.91</td>\n",
       "      <td>0.567273</td>\n",
       "      <td>0.150909</td>\n",
       "    </tr>\n",
       "    <tr>\n",
       "      <td>158</td>\n",
       "      <td>городской поселок Янино-1</td>\n",
       "      <td>47.3</td>\n",
       "      <td>27.5</td>\n",
       "      <td>8.5</td>\n",
       "      <td>2.65</td>\n",
       "      <td>2</td>\n",
       "      <td>0.0</td>\n",
       "      <td>2</td>\n",
       "      <td>5.0</td>\n",
       "      <td>False</td>\n",
       "      <td>...</td>\n",
       "      <td>NaN</td>\n",
       "      <td>NaN</td>\n",
       "      <td>NaN</td>\n",
       "      <td>Tuesday</td>\n",
       "      <td>November</td>\n",
       "      <td>2017</td>\n",
       "      <td>другой</td>\n",
       "      <td>65539.11</td>\n",
       "      <td>0.581395</td>\n",
       "      <td>0.179704</td>\n",
       "    </tr>\n",
       "    <tr>\n",
       "      <td>...</td>\n",
       "      <td>...</td>\n",
       "      <td>...</td>\n",
       "      <td>...</td>\n",
       "      <td>...</td>\n",
       "      <td>...</td>\n",
       "      <td>...</td>\n",
       "      <td>...</td>\n",
       "      <td>...</td>\n",
       "      <td>...</td>\n",
       "      <td>...</td>\n",
       "      <td>...</td>\n",
       "      <td>...</td>\n",
       "      <td>...</td>\n",
       "      <td>...</td>\n",
       "      <td>...</td>\n",
       "      <td>...</td>\n",
       "      <td>...</td>\n",
       "      <td>...</td>\n",
       "      <td>...</td>\n",
       "      <td>...</td>\n",
       "      <td>...</td>\n",
       "    </tr>\n",
       "    <tr>\n",
       "      <td>23601</td>\n",
       "      <td>Санкт-Петербург</td>\n",
       "      <td>43.4</td>\n",
       "      <td>30.0</td>\n",
       "      <td>9.1</td>\n",
       "      <td>2.65</td>\n",
       "      <td>2</td>\n",
       "      <td>0.0</td>\n",
       "      <td>1</td>\n",
       "      <td>5.0</td>\n",
       "      <td>False</td>\n",
       "      <td>...</td>\n",
       "      <td>0.202</td>\n",
       "      <td>2.0</td>\n",
       "      <td>0.397</td>\n",
       "      <td>Thursday</td>\n",
       "      <td>January</td>\n",
       "      <td>2018</td>\n",
       "      <td>первый</td>\n",
       "      <td>66820.28</td>\n",
       "      <td>0.691244</td>\n",
       "      <td>0.209677</td>\n",
       "    </tr>\n",
       "    <tr>\n",
       "      <td>23613</td>\n",
       "      <td>поселок Парголово</td>\n",
       "      <td>52.0</td>\n",
       "      <td>30.0</td>\n",
       "      <td>9.1</td>\n",
       "      <td>2.65</td>\n",
       "      <td>3</td>\n",
       "      <td>0.0</td>\n",
       "      <td>2</td>\n",
       "      <td>5.0</td>\n",
       "      <td>False</td>\n",
       "      <td>...</td>\n",
       "      <td>NaN</td>\n",
       "      <td>0.0</td>\n",
       "      <td>NaN</td>\n",
       "      <td>Sunday</td>\n",
       "      <td>March</td>\n",
       "      <td>2018</td>\n",
       "      <td>другой</td>\n",
       "      <td>75961.54</td>\n",
       "      <td>0.576923</td>\n",
       "      <td>0.175000</td>\n",
       "    </tr>\n",
       "    <tr>\n",
       "      <td>23670</td>\n",
       "      <td>поселок городского типа Синявино</td>\n",
       "      <td>45.6</td>\n",
       "      <td>30.0</td>\n",
       "      <td>9.1</td>\n",
       "      <td>2.80</td>\n",
       "      <td>1</td>\n",
       "      <td>0.0</td>\n",
       "      <td>2</td>\n",
       "      <td>9.0</td>\n",
       "      <td>False</td>\n",
       "      <td>...</td>\n",
       "      <td>NaN</td>\n",
       "      <td>NaN</td>\n",
       "      <td>NaN</td>\n",
       "      <td>Thursday</td>\n",
       "      <td>February</td>\n",
       "      <td>2018</td>\n",
       "      <td>другой</td>\n",
       "      <td>53728.07</td>\n",
       "      <td>0.657895</td>\n",
       "      <td>0.199561</td>\n",
       "    </tr>\n",
       "    <tr>\n",
       "      <td>23679</td>\n",
       "      <td>Сосновый Бор</td>\n",
       "      <td>35.0</td>\n",
       "      <td>30.0</td>\n",
       "      <td>9.1</td>\n",
       "      <td>2.65</td>\n",
       "      <td>1</td>\n",
       "      <td>0.0</td>\n",
       "      <td>4</td>\n",
       "      <td>9.0</td>\n",
       "      <td>False</td>\n",
       "      <td>...</td>\n",
       "      <td>NaN</td>\n",
       "      <td>NaN</td>\n",
       "      <td>NaN</td>\n",
       "      <td>Friday</td>\n",
       "      <td>December</td>\n",
       "      <td>2017</td>\n",
       "      <td>другой</td>\n",
       "      <td>71428.57</td>\n",
       "      <td>0.857143</td>\n",
       "      <td>0.260000</td>\n",
       "    </tr>\n",
       "    <tr>\n",
       "      <td>23695</td>\n",
       "      <td>Тосно</td>\n",
       "      <td>59.0</td>\n",
       "      <td>38.0</td>\n",
       "      <td>8.5</td>\n",
       "      <td>2.65</td>\n",
       "      <td>3</td>\n",
       "      <td>0.0</td>\n",
       "      <td>4</td>\n",
       "      <td>5.0</td>\n",
       "      <td>False</td>\n",
       "      <td>...</td>\n",
       "      <td>NaN</td>\n",
       "      <td>NaN</td>\n",
       "      <td>NaN</td>\n",
       "      <td>Monday</td>\n",
       "      <td>January</td>\n",
       "      <td>2018</td>\n",
       "      <td>другой</td>\n",
       "      <td>52542.37</td>\n",
       "      <td>0.644068</td>\n",
       "      <td>0.144068</td>\n",
       "    </tr>\n",
       "  </tbody>\n",
       "</table>\n",
       "<p>907 rows × 29 columns</p>\n",
       "</div>"
      ],
      "text/plain": [
       "                               town_name  total_area_m2  living_area_m2  \\\n",
       "78                       Санкт-Петербург           37.0            18.0   \n",
       "89     поселок городского типа Сиверский           63.0            43.0   \n",
       "110                    деревня Пикколово           72.3            27.4   \n",
       "153                             Петергоф           55.0            31.2   \n",
       "158            городской поселок Янино-1           47.3            27.5   \n",
       "...                                  ...            ...             ...   \n",
       "23601                    Санкт-Петербург           43.4            30.0   \n",
       "23613                  поселок Парголово           52.0            30.0   \n",
       "23670   поселок городского типа Синявино           45.6            30.0   \n",
       "23679                       Сосновый Бор           35.0            30.0   \n",
       "23695                              Тосно           59.0            38.0   \n",
       "\n",
       "       kitchen_area_m2  ceiling_height_m  number_of_rooms  \\\n",
       "78                10.7              2.65                1   \n",
       "89                 9.0              2.50                3   \n",
       "110               23.6              2.65                2   \n",
       "153                8.3              2.57                2   \n",
       "158                8.5              2.65                2   \n",
       "...                ...               ...              ...   \n",
       "23601              9.1              2.65                2   \n",
       "23613              9.1              2.65                3   \n",
       "23670              9.1              2.80                1   \n",
       "23679              9.1              2.65                1   \n",
       "23695              8.5              2.65                3   \n",
       "\n",
       "       number_of_balconies  floor  total_floors_in_house  is_apartment  ...  \\\n",
       "78                     0.0      6                   19.0         False  ...   \n",
       "89                     0.0      4                    5.0         False  ...   \n",
       "110                    0.0      2                    3.0         False  ...   \n",
       "153                    0.0      2                    9.0         False  ...   \n",
       "158                    0.0      2                    5.0         False  ...   \n",
       "...                    ...    ...                    ...           ...  ...   \n",
       "23601                  0.0      1                    5.0         False  ...   \n",
       "23613                  0.0      2                    5.0         False  ...   \n",
       "23670                  0.0      2                    9.0         False  ...   \n",
       "23679                  0.0      4                    9.0         False  ...   \n",
       "23695                  0.0      4                    5.0         False  ...   \n",
       "\n",
       "       nearest_park_distance_km  ponds_number_within_3km  \\\n",
       "78                          NaN                      0.0   \n",
       "89                          NaN                      NaN   \n",
       "110                         NaN                      NaN   \n",
       "153                       0.589                      0.0   \n",
       "158                         NaN                      NaN   \n",
       "...                         ...                      ...   \n",
       "23601                     0.202                      2.0   \n",
       "23613                       NaN                      0.0   \n",
       "23670                       NaN                      NaN   \n",
       "23679                       NaN                      NaN   \n",
       "23695                       NaN                      NaN   \n",
       "\n",
       "       nearest_pond_distance_km  day_of_week_exposition month_exposition  \\\n",
       "78                          NaN                Thursday         February   \n",
       "89                          NaN                Thursday          October   \n",
       "110                         NaN                  Friday        September   \n",
       "153                         NaN                  Sunday              May   \n",
       "158                         NaN                 Tuesday         November   \n",
       "...                         ...                     ...              ...   \n",
       "23601                     0.397                Thursday          January   \n",
       "23613                       NaN                  Sunday            March   \n",
       "23670                       NaN                Thursday         February   \n",
       "23679                       NaN                  Friday         December   \n",
       "23695                       NaN                  Monday          January   \n",
       "\n",
       "       year_exposition  floor_status  price_per_meter  \\\n",
       "78                2018        другой        117567.57   \n",
       "89                2018        другой         39682.54   \n",
       "110               2017        другой         53250.35   \n",
       "153               2017        другой         79090.91   \n",
       "158               2017        другой         65539.11   \n",
       "...                ...           ...              ...   \n",
       "23601             2018        первый         66820.28   \n",
       "23613             2018        другой         75961.54   \n",
       "23670             2018        другой         53728.07   \n",
       "23679             2017        другой         71428.57   \n",
       "23695             2018        другой         52542.37   \n",
       "\n",
       "       total_living_area_ratio  total_kitchen_area_ratio  \n",
       "78                    0.486486                  0.289189  \n",
       "89                    0.682540                  0.142857  \n",
       "110                   0.378976                  0.326418  \n",
       "153                   0.567273                  0.150909  \n",
       "158                   0.581395                  0.179704  \n",
       "...                        ...                       ...  \n",
       "23601                 0.691244                  0.209677  \n",
       "23613                 0.576923                  0.175000  \n",
       "23670                 0.657895                  0.199561  \n",
       "23679                 0.857143                  0.260000  \n",
       "23695                 0.644068                  0.144068  \n",
       "\n",
       "[907 rows x 29 columns]"
      ]
     },
     "execution_count": 79,
     "metadata": {},
     "output_type": "execute_result"
    }
   ],
   "source": [
    "df[df['days_exposition']==45]"
   ]
  },
  {
   "cell_type": "markdown",
   "metadata": {},
   "source": [
    "**Вывод: не обнаружил общих признаков в обьявлениях, которые были деактивированы через 45 дней, потому есть смысл убрать эти данные из расчетов, ровно как и 60, 90, 30 и 7 дней, так как это аномалии.**\n",
    "\n",
    "**До того, как мы очистим наши данные от аномалий, нам нужно дать ответ на вопрос, какое количество дней считать нормальным, а какое выбросом на текущий момент до очистки данных. Исходя из метода describe, межквартильный размах - от 45 до 232 дней, исходя же из метода boxplot - диаграмма размаха у нас от минимального значения до примерно 500 дней. Значит необоснованно быстрых значений у нас нет, а необоснованно долгие - от 500 дней и выше. Значит нормальные значения у нас лежат от 1 до 500.**\n",
    "\n",
    "**На текущий момент мы уже проверили и знаем, что эти данные неправильные, но они нам необходимы, чтобы сравнить с данными, очищенными от аномалий далее.**\n",
    "\n",
    "**Важно уточнить у сотрудников насчет выбивающихся значений по датам снятия объявлений, чтобы убедиться в том, какие данные необходимо исключить из выборки.**"
   ]
  },
  {
   "cell_type": "markdown",
   "metadata": {},
   "source": [
    "**Уберите редкие и выбивающиеся значения. Опишите, какие особенности обнаружили.**\n"
   ]
  },
  {
   "cell_type": "code",
   "execution_count": 80,
   "metadata": {},
   "outputs": [],
   "source": [
    "#отфильтруем данные от аномалий и запишем их в новый датафрейм\n",
    "good_data = df.query('days_exposition != 45 and days_exposition != 30 and days_exposition != 60 and days_exposition != 90 and days_exposition != 7 and days_exposition != 0')"
   ]
  },
  {
   "cell_type": "markdown",
   "metadata": {},
   "source": [
    "<div class=\"alert alert-success\">\n",
    "<b>Комментарий ревьюера:</b>\n",
    "\n",
    "Когда используешь множественную фильтрацию, рекомендую применять метод `loc`. Он читается проще и работает быстрее.\n",
    "    \n",
    "</div>"
   ]
  },
  {
   "cell_type": "markdown",
   "metadata": {},
   "source": [
    "<div class=\"alert alert-info\"> <b>Комментарий студента:</b> Здесь по совету преподавателя тренировался с query.</div>"
   ]
  },
  {
   "cell_type": "code",
   "execution_count": 81,
   "metadata": {},
   "outputs": [
    {
     "data": {
      "image/png": "[encoded data removed]",
      "text/plain": [
       "<Figure size 432x288 with 1 Axes>"
      ]
     },
     "metadata": {
      "needs_background": "light"
     },
     "output_type": "display_data"
    }
   ],
   "source": [
    "#построим диаграмму размаха\n",
    "plt.boxplot(good_data['days_exposition'])\n",
    "plt.ylim(1,1000)\n",
    "plt.title('Диаграмма размаха для количества дней размещения объявления')\n",
    "plt.show()"
   ]
  },
  {
   "cell_type": "code",
   "execution_count": 82,
   "metadata": {},
   "outputs": [
    {
     "data": {
      "text/plain": [
       "<matplotlib.axes._subplots.AxesSubplot at 0x7f6210510050>"
      ]
     },
     "execution_count": 82,
     "metadata": {},
     "output_type": "execute_result"
    },
    {
     "data": {
      "image/png": "[encoded data removed]",
      "text/plain": [
       "<Figure size 432x288 with 1 Axes>"
      ]
     },
     "metadata": {
      "needs_background": "light"
     },
     "output_type": "display_data"
    },
    {
     "data": {
      "image/png": "[encoded data removed]",
      "text/plain": [
       "<Figure size 432x288 with 1 Axes>"
      ]
     },
     "metadata": {
      "needs_background": "light"
     },
     "output_type": "display_data"
    }
   ],
   "source": [
    "#две гистограммы с разными значениями для days_exposition\n",
    "good_data.plot(y = 'days_exposition', kind = 'hist', bins = 30, grid = True, range = (1,1600))\n",
    "good_data.plot(y = 'days_exposition', kind = 'hist', bins = 100, grid = True, range = (1,200))"
   ]
  },
  {
   "cell_type": "markdown",
   "metadata": {},
   "source": [
    "<div class=\"alert alert-success\">\n",
    "<b>Комментарий ревьюера:</b>\n",
    "\n",
    "Для этих же графиков можно было также сделать расчет интерквартильного размаха, чтобы не указывать в ручную значения для параметра `range` \n",
    "    \n",
    "</div>"
   ]
  },
  {
   "cell_type": "code",
   "execution_count": 83,
   "metadata": {
    "scrolled": false
   },
   "outputs": [
    {
     "data": {
      "text/plain": [
       "count    21462.000000\n",
       "mean       199.922561\n",
       "std        240.476228\n",
       "min          1.000000\n",
       "25%         43.000000\n",
       "50%        112.000000\n",
       "75%        262.000000\n",
       "max       1618.000000\n",
       "Name: days_exposition, dtype: float64"
      ]
     },
     "execution_count": 83,
     "metadata": {},
     "output_type": "execute_result"
    }
   ],
   "source": [
    "#среднее значение, медиана и межквартильный размах с помощью метода describe\n",
    "#good_data['days_exposition'].value_counts()\n",
    "good_data['days_exposition'].describe()"
   ]
  },
  {
   "cell_type": "markdown",
   "metadata": {},
   "source": [
    "**Вывод: в очищенных данных с аномалиями в значениях меньших медианы получаем бОльшие значения медианы и среднего значения - 112 и 199 соответственно, вместо 94 и 185. Аналогично, теперь нормальные значения располагаются от 1 до 600 дней вместо от 1 до 500 дней.**"
   ]
  },
  {
   "cell_type": "markdown",
   "metadata": {},
   "source": [
    "**Какие факторы больше всего влияют на стоимость квартиры? Изучите, зависит ли цена от площади, числа комнат, удалённости от центра. Изучите зависимость цены от того, на каком этаже расположена квартира: первом, последнем или другом. Также изучите зависимость от даты размещения: дня недели, месяца и года.**"
   ]
  },
  {
   "cell_type": "code",
   "execution_count": 84,
   "metadata": {},
   "outputs": [
    {
     "data": {
      "text/plain": [
       "0.3022017014153164"
      ]
     },
     "execution_count": 84,
     "metadata": {},
     "output_type": "execute_result"
    },
    {
     "data": {
      "image/png": "[encoded data removed]",
      "text/plain": [
       "<Figure size 432x288 with 1 Axes>"
      ]
     },
     "metadata": {
      "needs_background": "light"
     },
     "output_type": "display_data"
    }
   ],
   "source": [
    "#зависимость цены квадратного метра от общей площади квартиры\n",
    "pivot_table_total_area_m2 = df.pivot_table(index = 'total_area_m2', values = 'price_per_meter', aggfunc = ['mean', 'count', 'median'])\n",
    "pivot_table_total_area_m2.columns = ['mean', 'count', 'median']\n",
    "pivot_table_total_area_m2.plot(y = 'median', style = 'o')\n",
    "\n",
    "pivot_table_total_area_m2.sort_values('median', ascending = False)\n",
    "\n",
    "df['total_area_m2'].corr(df['price_per_meter'])"
   ]
  },
  {
   "cell_type": "markdown",
   "metadata": {},
   "source": [
    "**Зависимость мала, согласно корреляции Пирсона - 0.3, то есть, чем больше площадь тем незначительно повышение цены.**"
   ]
  },
  {
   "cell_type": "markdown",
   "metadata": {},
   "source": [
    "<div class=\"alert alert-success\">\n",
    "<b>Комментарий ревьюера:</b>\n",
    "    \n",
    "Хорошие и логичные комментарии. Очень важно строить график корреляции между переменными, ведь может произойти такая ситуация, что расчет у нас очень сильный а на графике абсолютно другая картина.\n",
    "    \n",
    "---\n",
    "\n",
    "В том числе можно было построить матрицу корреляции между нужными нам переменными.\n",
    "    \n",
    "И визуализировать её с помощью метода `heatmap` из библиотеки `seaborn`.\n",
    "    \n",
    "</div>"
   ]
  },
  {
   "cell_type": "code",
   "execution_count": 85,
   "metadata": {},
   "outputs": [
    {
     "data": {
      "text/plain": [
       "0.05547053012745786"
      ]
     },
     "execution_count": 85,
     "metadata": {},
     "output_type": "execute_result"
    },
    {
     "data": {
      "image/png": "[encoded data removed]",
      "text/plain": [
       "<Figure size 432x288 with 1 Axes>"
      ]
     },
     "metadata": {
      "needs_background": "light"
     },
     "output_type": "display_data"
    }
   ],
   "source": [
    "#проверим есть ли зависимость цены квадратного метра от числа комнат\n",
    "pivot_table_number_of_rooms = df.pivot_table(index = 'number_of_rooms', values = 'price_per_meter', aggfunc = ['mean', 'count', 'median'])\n",
    "pivot_table_number_of_rooms.columns = ['mean', 'count', 'median']\n",
    "pivot_table_number_of_rooms.query('count > 50').plot(y = 'median')\n",
    "\n",
    "pivot_table_number_of_rooms.query('count > 50').sort_values('median', ascending = False)\n",
    "\n",
    "df['number_of_rooms'].corr(df['price_per_meter'])"
   ]
  },
  {
   "cell_type": "markdown",
   "metadata": {},
   "source": [
    "**Вывод: чем ближе количество комнат к 3 тем ниже стоимость квадратного метра.**"
   ]
  },
  {
   "cell_type": "code",
   "execution_count": 86,
   "metadata": {},
   "outputs": [
    {
     "data": {
      "text/html": [
       "<div>\n",
       "<style scoped>\n",
       "    .dataframe tbody tr th:only-of-type {\n",
       "        vertical-align: middle;\n",
       "    }\n",
       "\n",
       "    .dataframe tbody tr th {\n",
       "        vertical-align: top;\n",
       "    }\n",
       "\n",
       "    .dataframe thead th {\n",
       "        text-align: right;\n",
       "    }\n",
       "</style>\n",
       "<table border=\"1\" class=\"dataframe\">\n",
       "  <thead>\n",
       "    <tr style=\"text-align: right;\">\n",
       "      <th></th>\n",
       "      <th>mean</th>\n",
       "      <th>count</th>\n",
       "      <th>median</th>\n",
       "    </tr>\n",
       "    <tr>\n",
       "      <th>floor</th>\n",
       "      <th></th>\n",
       "      <th></th>\n",
       "      <th></th>\n",
       "    </tr>\n",
       "  </thead>\n",
       "  <tbody>\n",
       "    <tr>\n",
       "      <td>1</td>\n",
       "      <td>81989.310038</td>\n",
       "      <td>2912</td>\n",
       "      <td>81236.815</td>\n",
       "    </tr>\n",
       "    <tr>\n",
       "      <td>2</td>\n",
       "      <td>94427.214301</td>\n",
       "      <td>3353</td>\n",
       "      <td>90769.230</td>\n",
       "    </tr>\n",
       "    <tr>\n",
       "      <td>3</td>\n",
       "      <td>97716.241191</td>\n",
       "      <td>3065</td>\n",
       "      <td>93457.940</td>\n",
       "    </tr>\n",
       "    <tr>\n",
       "      <td>4</td>\n",
       "      <td>99673.380257</td>\n",
       "      <td>2802</td>\n",
       "      <td>93141.140</td>\n",
       "    </tr>\n",
       "    <tr>\n",
       "      <td>5</td>\n",
       "      <td>96087.700860</td>\n",
       "      <td>2616</td>\n",
       "      <td>90689.745</td>\n",
       "    </tr>\n",
       "    <tr>\n",
       "      <td>6</td>\n",
       "      <td>109474.530123</td>\n",
       "      <td>1302</td>\n",
       "      <td>99380.255</td>\n",
       "    </tr>\n",
       "    <tr>\n",
       "      <td>7</td>\n",
       "      <td>109345.104041</td>\n",
       "      <td>1215</td>\n",
       "      <td>100000.000</td>\n",
       "    </tr>\n",
       "    <tr>\n",
       "      <td>8</td>\n",
       "      <td>107250.134284</td>\n",
       "      <td>1083</td>\n",
       "      <td>100084.580</td>\n",
       "    </tr>\n",
       "    <tr>\n",
       "      <td>9</td>\n",
       "      <td>103936.578124</td>\n",
       "      <td>1050</td>\n",
       "      <td>98017.950</td>\n",
       "    </tr>\n",
       "    <tr>\n",
       "      <td>10</td>\n",
       "      <td>110484.565022</td>\n",
       "      <td>687</td>\n",
       "      <td>104545.450</td>\n",
       "    </tr>\n",
       "    <tr>\n",
       "      <td>11</td>\n",
       "      <td>108715.581912</td>\n",
       "      <td>523</td>\n",
       "      <td>104838.710</td>\n",
       "    </tr>\n",
       "    <tr>\n",
       "      <td>12</td>\n",
       "      <td>108850.115333</td>\n",
       "      <td>525</td>\n",
       "      <td>102570.690</td>\n",
       "    </tr>\n",
       "    <tr>\n",
       "      <td>13</td>\n",
       "      <td>110546.962269</td>\n",
       "      <td>379</td>\n",
       "      <td>106333.330</td>\n",
       "    </tr>\n",
       "    <tr>\n",
       "      <td>14</td>\n",
       "      <td>108943.323224</td>\n",
       "      <td>335</td>\n",
       "      <td>103835.620</td>\n",
       "    </tr>\n",
       "    <tr>\n",
       "      <td>15</td>\n",
       "      <td>109520.662857</td>\n",
       "      <td>343</td>\n",
       "      <td>105208.330</td>\n",
       "    </tr>\n",
       "    <tr>\n",
       "      <td>16</td>\n",
       "      <td>108951.305968</td>\n",
       "      <td>315</td>\n",
       "      <td>105994.550</td>\n",
       "    </tr>\n",
       "    <tr>\n",
       "      <td>17</td>\n",
       "      <td>107572.311101</td>\n",
       "      <td>227</td>\n",
       "      <td>105078.810</td>\n",
       "    </tr>\n",
       "    <tr>\n",
       "      <td>18</td>\n",
       "      <td>105226.623876</td>\n",
       "      <td>178</td>\n",
       "      <td>104107.285</td>\n",
       "    </tr>\n",
       "    <tr>\n",
       "      <td>19</td>\n",
       "      <td>112075.210952</td>\n",
       "      <td>147</td>\n",
       "      <td>105994.150</td>\n",
       "    </tr>\n",
       "    <tr>\n",
       "      <td>20</td>\n",
       "      <td>109137.053545</td>\n",
       "      <td>110</td>\n",
       "      <td>104483.125</td>\n",
       "    </tr>\n",
       "    <tr>\n",
       "      <td>21</td>\n",
       "      <td>114382.238943</td>\n",
       "      <td>123</td>\n",
       "      <td>108439.900</td>\n",
       "    </tr>\n",
       "    <tr>\n",
       "      <td>22</td>\n",
       "      <td>110570.212946</td>\n",
       "      <td>112</td>\n",
       "      <td>105252.050</td>\n",
       "    </tr>\n",
       "    <tr>\n",
       "      <td>23</td>\n",
       "      <td>112150.401010</td>\n",
       "      <td>99</td>\n",
       "      <td>107538.460</td>\n",
       "    </tr>\n",
       "    <tr>\n",
       "      <td>24</td>\n",
       "      <td>109505.863810</td>\n",
       "      <td>63</td>\n",
       "      <td>105102.040</td>\n",
       "    </tr>\n",
       "    <tr>\n",
       "      <td>25</td>\n",
       "      <td>113322.880435</td>\n",
       "      <td>46</td>\n",
       "      <td>101436.780</td>\n",
       "    </tr>\n",
       "    <tr>\n",
       "      <td>26</td>\n",
       "      <td>95806.505000</td>\n",
       "      <td>24</td>\n",
       "      <td>91176.920</td>\n",
       "    </tr>\n",
       "    <tr>\n",
       "      <td>27</td>\n",
       "      <td>92476.745000</td>\n",
       "      <td>10</td>\n",
       "      <td>87916.215</td>\n",
       "    </tr>\n",
       "    <tr>\n",
       "      <td>28</td>\n",
       "      <td>110925.930000</td>\n",
       "      <td>1</td>\n",
       "      <td>110925.930</td>\n",
       "    </tr>\n",
       "    <tr>\n",
       "      <td>29</td>\n",
       "      <td>122666.670000</td>\n",
       "      <td>1</td>\n",
       "      <td>122666.670</td>\n",
       "    </tr>\n",
       "    <tr>\n",
       "      <td>30</td>\n",
       "      <td>137162.160000</td>\n",
       "      <td>1</td>\n",
       "      <td>137162.160</td>\n",
       "    </tr>\n",
       "    <tr>\n",
       "      <td>31</td>\n",
       "      <td>105555.560000</td>\n",
       "      <td>1</td>\n",
       "      <td>105555.560</td>\n",
       "    </tr>\n",
       "    <tr>\n",
       "      <td>32</td>\n",
       "      <td>98019.800000</td>\n",
       "      <td>1</td>\n",
       "      <td>98019.800</td>\n",
       "    </tr>\n",
       "    <tr>\n",
       "      <td>33</td>\n",
       "      <td>98019.800000</td>\n",
       "      <td>1</td>\n",
       "      <td>98019.800</td>\n",
       "    </tr>\n",
       "  </tbody>\n",
       "</table>\n",
       "</div>"
      ],
      "text/plain": [
       "                mean  count      median\n",
       "floor                                  \n",
       "1       81989.310038   2912   81236.815\n",
       "2       94427.214301   3353   90769.230\n",
       "3       97716.241191   3065   93457.940\n",
       "4       99673.380257   2802   93141.140\n",
       "5       96087.700860   2616   90689.745\n",
       "6      109474.530123   1302   99380.255\n",
       "7      109345.104041   1215  100000.000\n",
       "8      107250.134284   1083  100084.580\n",
       "9      103936.578124   1050   98017.950\n",
       "10     110484.565022    687  104545.450\n",
       "11     108715.581912    523  104838.710\n",
       "12     108850.115333    525  102570.690\n",
       "13     110546.962269    379  106333.330\n",
       "14     108943.323224    335  103835.620\n",
       "15     109520.662857    343  105208.330\n",
       "16     108951.305968    315  105994.550\n",
       "17     107572.311101    227  105078.810\n",
       "18     105226.623876    178  104107.285\n",
       "19     112075.210952    147  105994.150\n",
       "20     109137.053545    110  104483.125\n",
       "21     114382.238943    123  108439.900\n",
       "22     110570.212946    112  105252.050\n",
       "23     112150.401010     99  107538.460\n",
       "24     109505.863810     63  105102.040\n",
       "25     113322.880435     46  101436.780\n",
       "26      95806.505000     24   91176.920\n",
       "27      92476.745000     10   87916.215\n",
       "28     110925.930000      1  110925.930\n",
       "29     122666.670000      1  122666.670\n",
       "30     137162.160000      1  137162.160\n",
       "31     105555.560000      1  105555.560\n",
       "32      98019.800000      1   98019.800\n",
       "33      98019.800000      1   98019.800"
      ]
     },
     "metadata": {},
     "output_type": "display_data"
    },
    {
     "data": {
      "image/png": "[encoded data removed]",
      "text/plain": [
       "<Figure size 432x288 with 1 Axes>"
      ]
     },
     "metadata": {
      "needs_background": "light"
     },
     "output_type": "display_data"
    }
   ],
   "source": [
    "#изучим зависимость цены квадратного метра от расположения этажа\n",
    "pivot_table_floor = df.query('floor != \"другой\"').pivot_table(index = 'floor', values = 'price_per_meter', aggfunc = ['mean', 'count', 'median'])\n",
    "pivot_table_floor.columns = ['mean', 'count', 'median']\n",
    "pivot_table_floor.plot(y = 'median')\n",
    "display(pivot_table_floor)"
   ]
  },
  {
   "cell_type": "markdown",
   "metadata": {},
   "source": [
    "**Вывод: самые дешёвые квартиры на первых этажах, самые дорогие выше 25 этажа, это похоже на истину, так как квартиры на верхних этажах видовые и стоят значительно дороже, потому что с их окон открывается красивый вид.**"
   ]
  },
  {
   "cell_type": "code",
   "execution_count": 87,
   "metadata": {},
   "outputs": [
    {
     "data": {
      "text/plain": [
       "-0.2782925966537628"
      ]
     },
     "execution_count": 87,
     "metadata": {},
     "output_type": "execute_result"
    },
    {
     "data": {
      "image/png": "[encoded data removed]",
      "text/plain": [
       "<Figure size 432x288 with 1 Axes>"
      ]
     },
     "metadata": {
      "needs_background": "light"
     },
     "output_type": "display_data"
    }
   ],
   "source": [
    "#изучим зависимость цены квадратного метра и удалённости от центра \n",
    "df.plot(kind = 'scatter', y = 'price_per_meter', x = 'city_center_distance_km', alpha = 0.3)\n",
    "df['city_center_distance_km'].corr(df['price_per_meter'])"
   ]
  },
  {
   "cell_type": "markdown",
   "metadata": {},
   "source": [
    "**Вывод: видим явную зависимость стоимости квадратного метра от близости к центру, чем ближе к центру, тем выше стоимость**"
   ]
  },
  {
   "cell_type": "code",
   "execution_count": 88,
   "metadata": {},
   "outputs": [
    {
     "data": {
      "text/html": [
       "<div>\n",
       "<style scoped>\n",
       "    .dataframe tbody tr th:only-of-type {\n",
       "        vertical-align: middle;\n",
       "    }\n",
       "\n",
       "    .dataframe tbody tr th {\n",
       "        vertical-align: top;\n",
       "    }\n",
       "\n",
       "    .dataframe thead th {\n",
       "        text-align: right;\n",
       "    }\n",
       "</style>\n",
       "<table border=\"1\" class=\"dataframe\">\n",
       "  <thead>\n",
       "    <tr style=\"text-align: right;\">\n",
       "      <th></th>\n",
       "      <th>mean</th>\n",
       "      <th>count</th>\n",
       "      <th>median</th>\n",
       "    </tr>\n",
       "    <tr>\n",
       "      <th>day_of_week_exposition</th>\n",
       "      <th></th>\n",
       "      <th></th>\n",
       "      <th></th>\n",
       "    </tr>\n",
       "  </thead>\n",
       "  <tbody>\n",
       "    <tr>\n",
       "      <td>Tuesday</td>\n",
       "      <td>99724.551947</td>\n",
       "      <td>4175</td>\n",
       "      <td>95634.100</td>\n",
       "    </tr>\n",
       "    <tr>\n",
       "      <td>Wednesday</td>\n",
       "      <td>99605.973825</td>\n",
       "      <td>3966</td>\n",
       "      <td>95473.810</td>\n",
       "    </tr>\n",
       "    <tr>\n",
       "      <td>Thursday</td>\n",
       "      <td>100193.163915</td>\n",
       "      <td>4286</td>\n",
       "      <td>95152.585</td>\n",
       "    </tr>\n",
       "    <tr>\n",
       "      <td>Monday</td>\n",
       "      <td>99470.371204</td>\n",
       "      <td>3606</td>\n",
       "      <td>94703.960</td>\n",
       "    </tr>\n",
       "    <tr>\n",
       "      <td>Friday</td>\n",
       "      <td>98987.215358</td>\n",
       "      <td>3992</td>\n",
       "      <td>94608.145</td>\n",
       "    </tr>\n",
       "    <tr>\n",
       "      <td>Sunday</td>\n",
       "      <td>97763.149486</td>\n",
       "      <td>1692</td>\n",
       "      <td>94594.590</td>\n",
       "    </tr>\n",
       "    <tr>\n",
       "      <td>Saturday</td>\n",
       "      <td>99066.258169</td>\n",
       "      <td>1933</td>\n",
       "      <td>93548.390</td>\n",
       "    </tr>\n",
       "  </tbody>\n",
       "</table>\n",
       "</div>"
      ],
      "text/plain": [
       "                                 mean  count     median\n",
       "day_of_week_exposition                                 \n",
       "Tuesday                  99724.551947   4175  95634.100\n",
       "Wednesday                99605.973825   3966  95473.810\n",
       "Thursday                100193.163915   4286  95152.585\n",
       "Monday                   99470.371204   3606  94703.960\n",
       "Friday                   98987.215358   3992  94608.145\n",
       "Sunday                   97763.149486   1692  94594.590\n",
       "Saturday                 99066.258169   1933  93548.390"
      ]
     },
     "execution_count": 88,
     "metadata": {},
     "output_type": "execute_result"
    },
    {
     "data": {
      "image/png": "[encoded data removed]",
      "text/plain": [
       "<Figure size 432x288 with 1 Axes>"
      ]
     },
     "metadata": {
      "needs_background": "light"
     },
     "output_type": "display_data"
    }
   ],
   "source": [
    "#изучим зависимость цены квадратного метра от даты размещения: дня недели.\n",
    "pivot_table_weekday_exposition = df.pivot_table(index = 'day_of_week_exposition', values = 'price_per_meter', aggfunc = ['mean', 'count', 'median'])\n",
    "pivot_table_weekday_exposition.columns = ['mean', 'count', 'median']\n",
    "pivot_table_weekday_exposition.plot(y = 'median')\n",
    "\n",
    "pivot_table_weekday_exposition.sort_values('median', ascending = False)"
   ]
  },
  {
   "cell_type": "markdown",
   "metadata": {},
   "source": [
    "**Вывод: видим, что чем ближе ко вторнику выставлены объявления тем в среднем выше стоимость, но незначительно. По субботам стоимость самая низкая.**\n",
    "\n",
    "**Полагаю, что стоимость выставленной на продажу недвижимости зависит от общей активности людей, так как именно в рабочие дни мы видим более высокие цены.**"
   ]
  },
  {
   "cell_type": "code",
   "execution_count": 89,
   "metadata": {},
   "outputs": [
    {
     "data": {
      "text/html": [
       "<div>\n",
       "<style scoped>\n",
       "    .dataframe tbody tr th:only-of-type {\n",
       "        vertical-align: middle;\n",
       "    }\n",
       "\n",
       "    .dataframe tbody tr th {\n",
       "        vertical-align: top;\n",
       "    }\n",
       "\n",
       "    .dataframe thead th {\n",
       "        text-align: right;\n",
       "    }\n",
       "</style>\n",
       "<table border=\"1\" class=\"dataframe\">\n",
       "  <thead>\n",
       "    <tr style=\"text-align: right;\">\n",
       "      <th></th>\n",
       "      <th>mean</th>\n",
       "      <th>count</th>\n",
       "      <th>median</th>\n",
       "    </tr>\n",
       "    <tr>\n",
       "      <th>year_exposition</th>\n",
       "      <th></th>\n",
       "      <th></th>\n",
       "      <th></th>\n",
       "    </tr>\n",
       "  </thead>\n",
       "  <tbody>\n",
       "    <tr>\n",
       "      <td>2014</td>\n",
       "      <td>124302.355882</td>\n",
       "      <td>136</td>\n",
       "      <td>106901.90</td>\n",
       "    </tr>\n",
       "    <tr>\n",
       "      <td>2019</td>\n",
       "      <td>107123.780215</td>\n",
       "      <td>2879</td>\n",
       "      <td>103305.79</td>\n",
       "    </tr>\n",
       "    <tr>\n",
       "      <td>2018</td>\n",
       "      <td>97800.065875</td>\n",
       "      <td>8512</td>\n",
       "      <td>95704.32</td>\n",
       "    </tr>\n",
       "    <tr>\n",
       "      <td>2015</td>\n",
       "      <td>104719.098517</td>\n",
       "      <td>1173</td>\n",
       "      <td>93396.23</td>\n",
       "    </tr>\n",
       "    <tr>\n",
       "      <td>2017</td>\n",
       "      <td>97637.360194</td>\n",
       "      <td>8185</td>\n",
       "      <td>92569.66</td>\n",
       "    </tr>\n",
       "    <tr>\n",
       "      <td>2016</td>\n",
       "      <td>98295.372597</td>\n",
       "      <td>2765</td>\n",
       "      <td>91666.67</td>\n",
       "    </tr>\n",
       "  </tbody>\n",
       "</table>\n",
       "</div>"
      ],
      "text/plain": [
       "                          mean  count     median\n",
       "year_exposition                                 \n",
       "2014             124302.355882    136  106901.90\n",
       "2019             107123.780215   2879  103305.79\n",
       "2018              97800.065875   8512   95704.32\n",
       "2015             104719.098517   1173   93396.23\n",
       "2017              97637.360194   8185   92569.66\n",
       "2016              98295.372597   2765   91666.67"
      ]
     },
     "execution_count": 89,
     "metadata": {},
     "output_type": "execute_result"
    },
    {
     "data": {
      "image/png": "[encoded data removed]",
      "text/plain": [
       "<Figure size 432x288 with 1 Axes>"
      ]
     },
     "metadata": {
      "needs_background": "light"
     },
     "output_type": "display_data"
    }
   ],
   "source": [
    "#изучим зависимость цены квадратного метра от даты размещения: года.\n",
    "pivot_table_year_exposition = df.pivot_table(index = 'year_exposition', values = 'price_per_meter', aggfunc = ['mean', 'count', 'median'])\n",
    "pivot_table_year_exposition.columns = ['mean', 'count', 'median']\n",
    "pivot_table_year_exposition.plot(y = 'median')\n",
    "\n",
    "pivot_table_year_exposition.sort_values('median', ascending = False)"
   ]
  },
  {
   "cell_type": "markdown",
   "metadata": {},
   "source": [
    "**Вывод: видим, что с 2014 до 2016 года цена падала, но далее начала увеличиваться.Мы не рассматриваем сегментацию рынка и по факту стоимость аналогичных квартир могла себя вести абсолютно иначе от года к году.**"
   ]
  },
  {
   "cell_type": "markdown",
   "metadata": {},
   "source": [
    "**Выберите 10 населённых пунктов с наибольшим числом объявлений. Посчитайте среднюю цену квадратного метра в этих населённых пунктах. Выделите населённые пункты с самой высокой и низкой стоимостью жилья. Эти данные можно найти по имени в столбце locality_name.**"
   ]
  },
  {
   "cell_type": "code",
   "execution_count": 90,
   "metadata": {},
   "outputs": [
    {
     "data": {
      "text/html": [
       "<div>\n",
       "<style scoped>\n",
       "    .dataframe tbody tr th:only-of-type {\n",
       "        vertical-align: middle;\n",
       "    }\n",
       "\n",
       "    .dataframe tbody tr th {\n",
       "        vertical-align: top;\n",
       "    }\n",
       "\n",
       "    .dataframe thead th {\n",
       "        text-align: right;\n",
       "    }\n",
       "</style>\n",
       "<table border=\"1\" class=\"dataframe\">\n",
       "  <thead>\n",
       "    <tr style=\"text-align: right;\">\n",
       "      <th></th>\n",
       "      <th>count</th>\n",
       "      <th>mean</th>\n",
       "    </tr>\n",
       "    <tr>\n",
       "      <th>town_name</th>\n",
       "      <th></th>\n",
       "      <th></th>\n",
       "    </tr>\n",
       "  </thead>\n",
       "  <tbody>\n",
       "    <tr>\n",
       "      <td>Санкт-Петербург</td>\n",
       "      <td>15721</td>\n",
       "      <td>114849.008793</td>\n",
       "    </tr>\n",
       "    <tr>\n",
       "      <td>поселок Мурино</td>\n",
       "      <td>556</td>\n",
       "      <td>85681.762572</td>\n",
       "    </tr>\n",
       "    <tr>\n",
       "      <td>поселок Шушары</td>\n",
       "      <td>440</td>\n",
       "      <td>78677.364318</td>\n",
       "    </tr>\n",
       "    <tr>\n",
       "      <td>Всеволожск</td>\n",
       "      <td>398</td>\n",
       "      <td>68654.473970</td>\n",
       "    </tr>\n",
       "    <tr>\n",
       "      <td>Пушкин</td>\n",
       "      <td>369</td>\n",
       "      <td>103125.819377</td>\n",
       "    </tr>\n",
       "    <tr>\n",
       "      <td>Колпино</td>\n",
       "      <td>338</td>\n",
       "      <td>75424.579112</td>\n",
       "    </tr>\n",
       "    <tr>\n",
       "      <td>поселок Парголово</td>\n",
       "      <td>327</td>\n",
       "      <td>90175.913089</td>\n",
       "    </tr>\n",
       "    <tr>\n",
       "      <td>Гатчина</td>\n",
       "      <td>307</td>\n",
       "      <td>68746.146515</td>\n",
       "    </tr>\n",
       "    <tr>\n",
       "      <td>деревня Кудрово</td>\n",
       "      <td>299</td>\n",
       "      <td>92473.547559</td>\n",
       "    </tr>\n",
       "    <tr>\n",
       "      <td>Выборг</td>\n",
       "      <td>237</td>\n",
       "      <td>58141.909325</td>\n",
       "    </tr>\n",
       "  </tbody>\n",
       "</table>\n",
       "</div>"
      ],
      "text/plain": [
       "                   count           mean\n",
       "town_name                              \n",
       "Санкт-Петербург    15721  114849.008793\n",
       "поселок Мурино       556   85681.762572\n",
       "поселок Шушары       440   78677.364318\n",
       "Всеволожск           398   68654.473970\n",
       "Пушкин               369  103125.819377\n",
       "Колпино              338   75424.579112\n",
       "поселок Парголово    327   90175.913089\n",
       "Гатчина              307   68746.146515\n",
       "деревня Кудрово      299   92473.547559\n",
       "Выборг               237   58141.909325"
      ]
     },
     "metadata": {},
     "output_type": "display_data"
    }
   ],
   "source": [
    "locality_pivot_table = df.pivot_table(index = 'town_name', values = 'price_per_meter', aggfunc=['count', 'mean'])\n",
    "locality_pivot_table.columns = ['count', 'mean']\n",
    "locality_pivot_table = locality_pivot_table.sort_values('count', ascending = False).head(10)\n",
    "display(locality_pivot_table)"
   ]
  },
  {
   "cell_type": "code",
   "execution_count": 91,
   "metadata": {},
   "outputs": [
    {
     "data": {
      "text/html": [
       "<div>\n",
       "<style scoped>\n",
       "    .dataframe tbody tr th:only-of-type {\n",
       "        vertical-align: middle;\n",
       "    }\n",
       "\n",
       "    .dataframe tbody tr th {\n",
       "        vertical-align: top;\n",
       "    }\n",
       "\n",
       "    .dataframe thead th {\n",
       "        text-align: right;\n",
       "    }\n",
       "</style>\n",
       "<table border=\"1\" class=\"dataframe\">\n",
       "  <thead>\n",
       "    <tr style=\"text-align: right;\">\n",
       "      <th></th>\n",
       "      <th>count</th>\n",
       "      <th>mean</th>\n",
       "    </tr>\n",
       "    <tr>\n",
       "      <th>town_name</th>\n",
       "      <th></th>\n",
       "      <th></th>\n",
       "    </tr>\n",
       "  </thead>\n",
       "  <tbody>\n",
       "    <tr>\n",
       "      <td>Санкт-Петербург</td>\n",
       "      <td>15721</td>\n",
       "      <td>114849.008793</td>\n",
       "    </tr>\n",
       "  </tbody>\n",
       "</table>\n",
       "</div>"
      ],
      "text/plain": [
       "                 count           mean\n",
       "town_name                            \n",
       "Санкт-Петербург  15721  114849.008793"
      ]
     },
     "execution_count": 91,
     "metadata": {},
     "output_type": "execute_result"
    }
   ],
   "source": [
    "#самая высокая стоимость\n",
    "locality_pivot_table[locality_pivot_table['mean']==locality_pivot_table['mean'].max()]"
   ]
  },
  {
   "cell_type": "code",
   "execution_count": 92,
   "metadata": {},
   "outputs": [
    {
     "data": {
      "text/html": [
       "<div>\n",
       "<style scoped>\n",
       "    .dataframe tbody tr th:only-of-type {\n",
       "        vertical-align: middle;\n",
       "    }\n",
       "\n",
       "    .dataframe tbody tr th {\n",
       "        vertical-align: top;\n",
       "    }\n",
       "\n",
       "    .dataframe thead th {\n",
       "        text-align: right;\n",
       "    }\n",
       "</style>\n",
       "<table border=\"1\" class=\"dataframe\">\n",
       "  <thead>\n",
       "    <tr style=\"text-align: right;\">\n",
       "      <th></th>\n",
       "      <th>count</th>\n",
       "      <th>mean</th>\n",
       "    </tr>\n",
       "    <tr>\n",
       "      <th>town_name</th>\n",
       "      <th></th>\n",
       "      <th></th>\n",
       "    </tr>\n",
       "  </thead>\n",
       "  <tbody>\n",
       "    <tr>\n",
       "      <td>Выборг</td>\n",
       "      <td>237</td>\n",
       "      <td>58141.909325</td>\n",
       "    </tr>\n",
       "  </tbody>\n",
       "</table>\n",
       "</div>"
      ],
      "text/plain": [
       "           count          mean\n",
       "town_name                     \n",
       "Выборг       237  58141.909325"
      ]
     },
     "execution_count": 92,
     "metadata": {},
     "output_type": "execute_result"
    }
   ],
   "source": [
    "#самая низкая стоимость\n",
    "locality_pivot_table[locality_pivot_table['mean']==locality_pivot_table['mean'].min()]"
   ]
  },
  {
   "cell_type": "markdown",
   "metadata": {},
   "source": [
    "**Вывод: самая высокая стоимость жилья из 10 населённых пунктов с самым большим количеством объявлений в Санкт-Петербурге, а самая низкая стоимость в городе Выборг.**"
   ]
  },
  {
   "cell_type": "markdown",
   "metadata": {},
   "source": [
    "**Изучите предложения квартир: для каждой квартиры есть информация о расстоянии до центра. Выделите квартиры в Санкт-Петербурге (locality_name). Ваша задача — выяснить, какая область входит в центр. Создайте столбец с расстоянием до центра в километрах: округлите до целых значений. После этого посчитайте среднюю цену для каждого километра. Постройте график: он должен показывать, как цена зависит от удалённости от центра. Определите границу, где график сильно меняется, — это и будет центральная зона.**"
   ]
  },
  {
   "cell_type": "code",
   "execution_count": 93,
   "metadata": {
    "scrolled": true
   },
   "outputs": [
    {
     "data": {
      "text/html": [
       "<div>\n",
       "<style scoped>\n",
       "    .dataframe tbody tr th:only-of-type {\n",
       "        vertical-align: middle;\n",
       "    }\n",
       "\n",
       "    .dataframe tbody tr th {\n",
       "        vertical-align: top;\n",
       "    }\n",
       "\n",
       "    .dataframe thead th {\n",
       "        text-align: right;\n",
       "    }\n",
       "</style>\n",
       "<table border=\"1\" class=\"dataframe\">\n",
       "  <thead>\n",
       "    <tr style=\"text-align: right;\">\n",
       "      <th></th>\n",
       "      <th>price_per_meter</th>\n",
       "    </tr>\n",
       "    <tr>\n",
       "      <th>city_center_distance_km</th>\n",
       "      <th></th>\n",
       "    </tr>\n",
       "  </thead>\n",
       "  <tbody>\n",
       "    <tr>\n",
       "      <td>0</td>\n",
       "      <td>187324.130233</td>\n",
       "    </tr>\n",
       "    <tr>\n",
       "      <td>1</td>\n",
       "      <td>166603.755542</td>\n",
       "    </tr>\n",
       "    <tr>\n",
       "      <td>2</td>\n",
       "      <td>146662.860033</td>\n",
       "    </tr>\n",
       "    <tr>\n",
       "      <td>3</td>\n",
       "      <td>129416.344525</td>\n",
       "    </tr>\n",
       "    <tr>\n",
       "      <td>4</td>\n",
       "      <td>137475.497056</td>\n",
       "    </tr>\n",
       "    <tr>\n",
       "      <td>5</td>\n",
       "      <td>146979.232640</td>\n",
       "    </tr>\n",
       "    <tr>\n",
       "      <td>6</td>\n",
       "      <td>152277.893383</td>\n",
       "    </tr>\n",
       "    <tr>\n",
       "      <td>7</td>\n",
       "      <td>141399.731351</td>\n",
       "    </tr>\n",
       "    <tr>\n",
       "      <td>8</td>\n",
       "      <td>120581.349925</td>\n",
       "    </tr>\n",
       "    <tr>\n",
       "      <td>9</td>\n",
       "      <td>110012.549681</td>\n",
       "    </tr>\n",
       "    <tr>\n",
       "      <td>10</td>\n",
       "      <td>111641.287193</td>\n",
       "    </tr>\n",
       "    <tr>\n",
       "      <td>11</td>\n",
       "      <td>106790.883972</td>\n",
       "    </tr>\n",
       "    <tr>\n",
       "      <td>12</td>\n",
       "      <td>108295.769267</td>\n",
       "    </tr>\n",
       "    <tr>\n",
       "      <td>13</td>\n",
       "      <td>107209.144037</td>\n",
       "    </tr>\n",
       "    <tr>\n",
       "      <td>14</td>\n",
       "      <td>106971.893268</td>\n",
       "    </tr>\n",
       "    <tr>\n",
       "      <td>15</td>\n",
       "      <td>101883.116038</td>\n",
       "    </tr>\n",
       "    <tr>\n",
       "      <td>16</td>\n",
       "      <td>100085.601655</td>\n",
       "    </tr>\n",
       "    <tr>\n",
       "      <td>17</td>\n",
       "      <td>94095.872210</td>\n",
       "    </tr>\n",
       "    <tr>\n",
       "      <td>18</td>\n",
       "      <td>94831.952931</td>\n",
       "    </tr>\n",
       "    <tr>\n",
       "      <td>19</td>\n",
       "      <td>95434.377195</td>\n",
       "    </tr>\n",
       "    <tr>\n",
       "      <td>20</td>\n",
       "      <td>107046.165714</td>\n",
       "    </tr>\n",
       "    <tr>\n",
       "      <td>21</td>\n",
       "      <td>91492.688256</td>\n",
       "    </tr>\n",
       "    <tr>\n",
       "      <td>22</td>\n",
       "      <td>88714.696835</td>\n",
       "    </tr>\n",
       "    <tr>\n",
       "      <td>23</td>\n",
       "      <td>92720.642000</td>\n",
       "    </tr>\n",
       "    <tr>\n",
       "      <td>24</td>\n",
       "      <td>82440.344091</td>\n",
       "    </tr>\n",
       "    <tr>\n",
       "      <td>25</td>\n",
       "      <td>91136.018667</td>\n",
       "    </tr>\n",
       "    <tr>\n",
       "      <td>26</td>\n",
       "      <td>75171.913333</td>\n",
       "    </tr>\n",
       "    <tr>\n",
       "      <td>27</td>\n",
       "      <td>132115.710000</td>\n",
       "    </tr>\n",
       "    <tr>\n",
       "      <td>28</td>\n",
       "      <td>81840.638000</td>\n",
       "    </tr>\n",
       "    <tr>\n",
       "      <td>29</td>\n",
       "      <td>62482.403333</td>\n",
       "    </tr>\n",
       "  </tbody>\n",
       "</table>\n",
       "</div>"
      ],
      "text/plain": [
       "                         price_per_meter\n",
       "city_center_distance_km                 \n",
       "0                          187324.130233\n",
       "1                          166603.755542\n",
       "2                          146662.860033\n",
       "3                          129416.344525\n",
       "4                          137475.497056\n",
       "5                          146979.232640\n",
       "6                          152277.893383\n",
       "7                          141399.731351\n",
       "8                          120581.349925\n",
       "9                          110012.549681\n",
       "10                         111641.287193\n",
       "11                         106790.883972\n",
       "12                         108295.769267\n",
       "13                         107209.144037\n",
       "14                         106971.893268\n",
       "15                         101883.116038\n",
       "16                         100085.601655\n",
       "17                          94095.872210\n",
       "18                          94831.952931\n",
       "19                          95434.377195\n",
       "20                         107046.165714\n",
       "21                          91492.688256\n",
       "22                          88714.696835\n",
       "23                          92720.642000\n",
       "24                          82440.344091\n",
       "25                          91136.018667\n",
       "26                          75171.913333\n",
       "27                         132115.710000\n",
       "28                          81840.638000\n",
       "29                          62482.403333"
      ]
     },
     "execution_count": 93,
     "metadata": {},
     "output_type": "execute_result"
    },
    {
     "data": {
      "image/png": "[encoded data removed]",
      "text/plain": [
       "<Figure size 432x288 with 1 Axes>"
      ]
     },
     "metadata": {
      "needs_background": "light"
     },
     "output_type": "display_data"
    }
   ],
   "source": [
    "df['city_center_distance_km'] = df['city_center_distance_km'].astype('int64')\n",
    "pivot_table_km = df.query('town_name == \"Санкт-Петербург\"').pivot_table(index = 'city_center_distance_km', values = 'price_per_meter', aggfunc = 'mean')\n",
    "pivot_table_km.plot()\n",
    "plt.title('Зависимость цены от расстояния до центра города Санкт-Петербург')\n",
    "pivot_table_km\n"
   ]
  },
  {
   "cell_type": "markdown",
   "metadata": {},
   "source": [
    "**Вывод: судя по графику центром считать будем радиус в 3 километра**"
   ]
  },
  {
   "cell_type": "markdown",
   "metadata": {},
   "source": [
    "**Выделите сегмент квартир в центре. Проанализируйте эту территорию и изучите следующие параметры: площадь, цена, число комнат, высота потолков. Также выделите факторы, которые влияют на стоимость квартиры (число комнат, этаж, удалённость от центра, дата размещения объявления). Сделайте выводы. Отличаются ли они от общих выводов по всему городу?**"
   ]
  },
  {
   "cell_type": "markdown",
   "metadata": {},
   "source": [
    "<div class=\"alert alert-success\">\n",
    "<b>Комментарий ревьюера:</b>\n",
    "\n",
    "Ориентировочно это 8–10 км, потому что дальше идёт в том числе спад и длительная стагнация стоимости.\n",
    "    \n",
    "</div>"
   ]
  },
  {
   "cell_type": "code",
   "execution_count": 94,
   "metadata": {},
   "outputs": [],
   "source": [
    "#выделим квартиры в центре, беря за радиус 3 км\n",
    "center_spb_df = df.query('city_center_distance_km <= 3 and town_name == \"Санкт-Петербург\"')"
   ]
  },
  {
   "cell_type": "code",
   "execution_count": 95,
   "metadata": {},
   "outputs": [
    {
     "data": {
      "text/plain": [
       "0.0017674542335402944"
      ]
     },
     "execution_count": 95,
     "metadata": {},
     "output_type": "execute_result"
    },
    {
     "data": {
      "image/png": "[encoded data removed]",
      "text/plain": [
       "<Figure size 432x288 with 1 Axes>"
      ]
     },
     "metadata": {
      "needs_background": "light"
     },
     "output_type": "display_data"
    }
   ],
   "source": [
    "#зависимость стоимости квадратного метра от количества комнат\n",
    "center_spb_rooms = center_spb_df.pivot_table(index = 'number_of_rooms', values = 'price_per_meter', aggfunc = ['mean', 'count', 'median'])\n",
    "center_spb_rooms.columns = ['mean', 'count', 'median']\n",
    "center_spb_rooms.query('count > 50').plot(y = 'median')\n",
    "\n",
    "center_spb_rooms.query('count > 50').sort_values('median', ascending = False)\n",
    "\n",
    "center_spb_df['number_of_rooms'].corr(center_spb_df['price_per_meter'])"
   ]
  },
  {
   "cell_type": "markdown",
   "metadata": {},
   "source": [
    "**Вывод: в центре Питера чем меньше комнат, тем дороже стоимость квадратного метра, коэффициент корреляции 0.0017, настолько мал, что нет смысла судить о какой то связи**"
   ]
  },
  {
   "cell_type": "code",
   "execution_count": 96,
   "metadata": {},
   "outputs": [
    {
     "data": {
      "text/html": [
       "<div>\n",
       "<style scoped>\n",
       "    .dataframe tbody tr th:only-of-type {\n",
       "        vertical-align: middle;\n",
       "    }\n",
       "\n",
       "    .dataframe tbody tr th {\n",
       "        vertical-align: top;\n",
       "    }\n",
       "\n",
       "    .dataframe thead th {\n",
       "        text-align: right;\n",
       "    }\n",
       "</style>\n",
       "<table border=\"1\" class=\"dataframe\">\n",
       "  <thead>\n",
       "    <tr style=\"text-align: right;\">\n",
       "      <th></th>\n",
       "      <th>mean</th>\n",
       "      <th>count</th>\n",
       "      <th>median</th>\n",
       "    </tr>\n",
       "    <tr>\n",
       "      <th>floor</th>\n",
       "      <th></th>\n",
       "      <th></th>\n",
       "      <th></th>\n",
       "    </tr>\n",
       "  </thead>\n",
       "  <tbody>\n",
       "    <tr>\n",
       "      <td>1</td>\n",
       "      <td>123509.583049</td>\n",
       "      <td>164</td>\n",
       "      <td>107508.770</td>\n",
       "    </tr>\n",
       "    <tr>\n",
       "      <td>2</td>\n",
       "      <td>141070.024152</td>\n",
       "      <td>277</td>\n",
       "      <td>116406.250</td>\n",
       "    </tr>\n",
       "    <tr>\n",
       "      <td>3</td>\n",
       "      <td>135629.844599</td>\n",
       "      <td>237</td>\n",
       "      <td>113333.330</td>\n",
       "    </tr>\n",
       "    <tr>\n",
       "      <td>4</td>\n",
       "      <td>149300.636444</td>\n",
       "      <td>239</td>\n",
       "      <td>116883.120</td>\n",
       "    </tr>\n",
       "    <tr>\n",
       "      <td>5</td>\n",
       "      <td>150374.214848</td>\n",
       "      <td>165</td>\n",
       "      <td>119531.250</td>\n",
       "    </tr>\n",
       "    <tr>\n",
       "      <td>6</td>\n",
       "      <td>188504.996458</td>\n",
       "      <td>48</td>\n",
       "      <td>128735.905</td>\n",
       "    </tr>\n",
       "    <tr>\n",
       "      <td>7</td>\n",
       "      <td>194016.462857</td>\n",
       "      <td>14</td>\n",
       "      <td>133717.450</td>\n",
       "    </tr>\n",
       "    <tr>\n",
       "      <td>8</td>\n",
       "      <td>246071.540000</td>\n",
       "      <td>5</td>\n",
       "      <td>180241.460</td>\n",
       "    </tr>\n",
       "    <tr>\n",
       "      <td>9</td>\n",
       "      <td>345015.948000</td>\n",
       "      <td>5</td>\n",
       "      <td>163846.150</td>\n",
       "    </tr>\n",
       "    <tr>\n",
       "      <td>10</td>\n",
       "      <td>591339.362500</td>\n",
       "      <td>4</td>\n",
       "      <td>165524.585</td>\n",
       "    </tr>\n",
       "    <tr>\n",
       "      <td>13</td>\n",
       "      <td>137167.540000</td>\n",
       "      <td>1</td>\n",
       "      <td>137167.540</td>\n",
       "    </tr>\n",
       "  </tbody>\n",
       "</table>\n",
       "</div>"
      ],
      "text/plain": [
       "                mean  count      median\n",
       "floor                                  \n",
       "1      123509.583049    164  107508.770\n",
       "2      141070.024152    277  116406.250\n",
       "3      135629.844599    237  113333.330\n",
       "4      149300.636444    239  116883.120\n",
       "5      150374.214848    165  119531.250\n",
       "6      188504.996458     48  128735.905\n",
       "7      194016.462857     14  133717.450\n",
       "8      246071.540000      5  180241.460\n",
       "9      345015.948000      5  163846.150\n",
       "10     591339.362500      4  165524.585\n",
       "13     137167.540000      1  137167.540"
      ]
     },
     "execution_count": 96,
     "metadata": {},
     "output_type": "execute_result"
    },
    {
     "data": {
      "image/png": "[encoded data removed]",
      "text/plain": [
       "<Figure size 432x288 with 1 Axes>"
      ]
     },
     "metadata": {
      "needs_background": "light"
     },
     "output_type": "display_data"
    }
   ],
   "source": [
    "#зависимость стоимости квадратного метра от этажа\n",
    "center_spb_floor_category = center_spb_df.query('floor != \"другой\"').pivot_table(index = 'floor', values = 'price_per_meter', aggfunc = ['mean', 'count', 'median'])\n",
    "center_spb_floor_category.columns = ['mean', 'count', 'median']\n",
    "center_spb_floor_category.plot(y = 'median')\n",
    "center_spb_floor_category"
   ]
  },
  {
   "cell_type": "markdown",
   "metadata": {},
   "source": [
    "**Вывод: квартиры на верхних этажах дороже, чем на нижних, на первом этаже самые дешёвые, так как внизу подвал, а значит сырость и холод, самые дорогие на 8, далее идёт ценовая коррекция, я думаю это может быть связано с неликивидностью квартир на последних этажах. На верхних этажах квартиры меньше пользуются спросом из-за шума(тех этаж или лифтовая, крыша) и холода. В середине как правило квартиры пользуются большим спросом, так как там и тепло и шума меньше, опять же квартиры на верхних этажах (с 6 по 10) показывают рост стоимости квадратного метра, я думаю это может быть связано с тем, что это видовые квартиры на фоне окружающей застройки.**"
   ]
  },
  {
   "cell_type": "code",
   "execution_count": 97,
   "metadata": {},
   "outputs": [
    {
     "data": {
      "text/plain": [
       "-0.14742490037185574"
      ]
     },
     "execution_count": 97,
     "metadata": {},
     "output_type": "execute_result"
    },
    {
     "data": {
      "image/png": "[encoded data removed]",
      "text/plain": [
       "<Figure size 432x288 with 1 Axes>"
      ]
     },
     "metadata": {
      "needs_background": "light"
     },
     "output_type": "display_data"
    }
   ],
   "source": [
    "#зависимость стоимости квадратного метра от удаленности от центра\n",
    "center_spb_df.plot(kind = 'scatter', y = 'price_per_meter', x = 'city_center_distance_km', alpha = 0.3)\n",
    "\n",
    "center_spb_df['city_center_distance_km'].corr(center_spb_df['price_per_meter'])"
   ]
  },
  {
   "cell_type": "markdown",
   "metadata": {},
   "source": [
    "**Вывод: ближе к центру (1 км) цена дороже и с увеличением расстояния дешевле. В самом центре цены на квадратный метр дешевле, чем в удалении на 1 км, я думаю это связано с тем, что у таких квартир могут быть недостатки - старое здание, объект культурного наследия, а значит старые коммуникации, замена или ремонт которых чаще стоит дороже самой квартиры, ограничение на перепланировку, большой шум и грязь, отсутсвие придомовой территории, из-за большого количества муниципальных зданий поблизости. Чаще такие квартиры здают посуточно, либо коммандировочным, для них это временное решение, поэтому все эти факторы не имеют для них значение.**"
   ]
  },
  {
   "cell_type": "code",
   "execution_count": 98,
   "metadata": {},
   "outputs": [
    {
     "data": {
      "text/html": [
       "<div>\n",
       "<style scoped>\n",
       "    .dataframe tbody tr th:only-of-type {\n",
       "        vertical-align: middle;\n",
       "    }\n",
       "\n",
       "    .dataframe tbody tr th {\n",
       "        vertical-align: top;\n",
       "    }\n",
       "\n",
       "    .dataframe thead th {\n",
       "        text-align: right;\n",
       "    }\n",
       "</style>\n",
       "<table border=\"1\" class=\"dataframe\">\n",
       "  <thead>\n",
       "    <tr style=\"text-align: right;\">\n",
       "      <th></th>\n",
       "      <th>mean</th>\n",
       "      <th>count</th>\n",
       "      <th>median</th>\n",
       "    </tr>\n",
       "    <tr>\n",
       "      <th>day_of_week_exposition</th>\n",
       "      <th></th>\n",
       "      <th></th>\n",
       "      <th></th>\n",
       "    </tr>\n",
       "  </thead>\n",
       "  <tbody>\n",
       "    <tr>\n",
       "      <td>Monday</td>\n",
       "      <td>145551.499235</td>\n",
       "      <td>170</td>\n",
       "      <td>121354.325</td>\n",
       "    </tr>\n",
       "    <tr>\n",
       "      <td>Saturday</td>\n",
       "      <td>161508.488289</td>\n",
       "      <td>76</td>\n",
       "      <td>120568.085</td>\n",
       "    </tr>\n",
       "    <tr>\n",
       "      <td>Friday</td>\n",
       "      <td>139253.095094</td>\n",
       "      <td>212</td>\n",
       "      <td>117984.375</td>\n",
       "    </tr>\n",
       "    <tr>\n",
       "      <td>Wednesday</td>\n",
       "      <td>144333.466495</td>\n",
       "      <td>194</td>\n",
       "      <td>114903.120</td>\n",
       "    </tr>\n",
       "    <tr>\n",
       "      <td>Tuesday</td>\n",
       "      <td>148325.539788</td>\n",
       "      <td>189</td>\n",
       "      <td>114209.830</td>\n",
       "    </tr>\n",
       "    <tr>\n",
       "      <td>Sunday</td>\n",
       "      <td>143555.436716</td>\n",
       "      <td>67</td>\n",
       "      <td>110843.370</td>\n",
       "    </tr>\n",
       "    <tr>\n",
       "      <td>Thursday</td>\n",
       "      <td>147413.473546</td>\n",
       "      <td>251</td>\n",
       "      <td>110132.160</td>\n",
       "    </tr>\n",
       "  </tbody>\n",
       "</table>\n",
       "</div>"
      ],
      "text/plain": [
       "                                 mean  count      median\n",
       "day_of_week_exposition                                  \n",
       "Monday                  145551.499235    170  121354.325\n",
       "Saturday                161508.488289     76  120568.085\n",
       "Friday                  139253.095094    212  117984.375\n",
       "Wednesday               144333.466495    194  114903.120\n",
       "Tuesday                 148325.539788    189  114209.830\n",
       "Sunday                  143555.436716     67  110843.370\n",
       "Thursday                147413.473546    251  110132.160"
      ]
     },
     "execution_count": 98,
     "metadata": {},
     "output_type": "execute_result"
    },
    {
     "data": {
      "image/png": "[encoded data removed]",
      "text/plain": [
       "<Figure size 432x288 with 1 Axes>"
      ]
     },
     "metadata": {
      "needs_background": "light"
     },
     "output_type": "display_data"
    }
   ],
   "source": [
    "#зависимость стоимости квадратного метра от дня недели размещения объявления\n",
    "center_spb_weekday_exposition = center_spb_df.pivot_table(index = 'day_of_week_exposition', values = 'price_per_meter', aggfunc = ['mean', 'count', 'median'])\n",
    "center_spb_weekday_exposition.columns = ['mean', 'count', 'median']\n",
    "center_spb_weekday_exposition.plot(y = 'median')\n",
    "\n",
    "center_spb_weekday_exposition.sort_values('median', ascending = False)"
   ]
  },
  {
   "cell_type": "markdown",
   "metadata": {},
   "source": [
    "**Вывод: ситуация отличается от всей выборки, здесь в четверг самые низкие цены и в понедельник самые высокие.**"
   ]
  },
  {
   "cell_type": "code",
   "execution_count": 99,
   "metadata": {},
   "outputs": [
    {
     "data": {
      "text/html": [
       "<div>\n",
       "<style scoped>\n",
       "    .dataframe tbody tr th:only-of-type {\n",
       "        vertical-align: middle;\n",
       "    }\n",
       "\n",
       "    .dataframe tbody tr th {\n",
       "        vertical-align: top;\n",
       "    }\n",
       "\n",
       "    .dataframe thead th {\n",
       "        text-align: right;\n",
       "    }\n",
       "</style>\n",
       "<table border=\"1\" class=\"dataframe\">\n",
       "  <thead>\n",
       "    <tr style=\"text-align: right;\">\n",
       "      <th></th>\n",
       "      <th>mean</th>\n",
       "      <th>count</th>\n",
       "      <th>median</th>\n",
       "    </tr>\n",
       "    <tr>\n",
       "      <th>month_exposition</th>\n",
       "      <th></th>\n",
       "      <th></th>\n",
       "      <th></th>\n",
       "    </tr>\n",
       "  </thead>\n",
       "  <tbody>\n",
       "    <tr>\n",
       "      <td>April</td>\n",
       "      <td>168983.339224</td>\n",
       "      <td>116</td>\n",
       "      <td>123095.125</td>\n",
       "    </tr>\n",
       "    <tr>\n",
       "      <td>October</td>\n",
       "      <td>143129.501702</td>\n",
       "      <td>94</td>\n",
       "      <td>121978.410</td>\n",
       "    </tr>\n",
       "    <tr>\n",
       "      <td>December</td>\n",
       "      <td>162850.307831</td>\n",
       "      <td>83</td>\n",
       "      <td>121568.630</td>\n",
       "    </tr>\n",
       "    <tr>\n",
       "      <td>March</td>\n",
       "      <td>149574.931102</td>\n",
       "      <td>118</td>\n",
       "      <td>117409.565</td>\n",
       "    </tr>\n",
       "    <tr>\n",
       "      <td>January</td>\n",
       "      <td>147760.544286</td>\n",
       "      <td>77</td>\n",
       "      <td>117244.900</td>\n",
       "    </tr>\n",
       "    <tr>\n",
       "      <td>February</td>\n",
       "      <td>141961.199612</td>\n",
       "      <td>129</td>\n",
       "      <td>116406.250</td>\n",
       "    </tr>\n",
       "    <tr>\n",
       "      <td>September</td>\n",
       "      <td>155582.053168</td>\n",
       "      <td>101</td>\n",
       "      <td>116054.160</td>\n",
       "    </tr>\n",
       "    <tr>\n",
       "      <td>November</td>\n",
       "      <td>136308.801545</td>\n",
       "      <td>123</td>\n",
       "      <td>112639.590</td>\n",
       "    </tr>\n",
       "    <tr>\n",
       "      <td>July</td>\n",
       "      <td>137695.003535</td>\n",
       "      <td>99</td>\n",
       "      <td>112195.120</td>\n",
       "    </tr>\n",
       "    <tr>\n",
       "      <td>August</td>\n",
       "      <td>142370.587297</td>\n",
       "      <td>74</td>\n",
       "      <td>110491.565</td>\n",
       "    </tr>\n",
       "    <tr>\n",
       "      <td>June</td>\n",
       "      <td>131927.794471</td>\n",
       "      <td>85</td>\n",
       "      <td>110081.110</td>\n",
       "    </tr>\n",
       "    <tr>\n",
       "      <td>May</td>\n",
       "      <td>123653.264833</td>\n",
       "      <td>60</td>\n",
       "      <td>107799.220</td>\n",
       "    </tr>\n",
       "  </tbody>\n",
       "</table>\n",
       "</div>"
      ],
      "text/plain": [
       "                           mean  count      median\n",
       "month_exposition                                  \n",
       "April             168983.339224    116  123095.125\n",
       "October           143129.501702     94  121978.410\n",
       "December          162850.307831     83  121568.630\n",
       "March             149574.931102    118  117409.565\n",
       "January           147760.544286     77  117244.900\n",
       "February          141961.199612    129  116406.250\n",
       "September         155582.053168    101  116054.160\n",
       "November          136308.801545    123  112639.590\n",
       "July              137695.003535     99  112195.120\n",
       "August            142370.587297     74  110491.565\n",
       "June              131927.794471     85  110081.110\n",
       "May               123653.264833     60  107799.220"
      ]
     },
     "execution_count": 99,
     "metadata": {},
     "output_type": "execute_result"
    },
    {
     "data": {
      "image/png": "[encoded data removed]",
      "text/plain": [
       "<Figure size 432x288 with 1 Axes>"
      ]
     },
     "metadata": {
      "needs_background": "light"
     },
     "output_type": "display_data"
    }
   ],
   "source": [
    "#зависимость стоимости квадратного метра от месяца размещения объявления\n",
    "center_spb_month_exposition = center_spb_df.pivot_table(index = 'month_exposition', values = 'price_per_meter', aggfunc = ['mean', 'count', 'median'])\n",
    "center_spb_month_exposition.columns = ['mean', 'count', 'median']\n",
    "center_spb_month_exposition.plot(y = 'median')\n",
    "\n",
    "center_spb_month_exposition.sort_values('median', ascending = False)"
   ]
  },
  {
   "cell_type": "markdown",
   "metadata": {},
   "source": [
    "**Вывод: пиковые значения отмечены в апреле, декабре и октябре, самые низкие значения в мае и июне месяце, полагаю что это связано с майскими праздниками и снижением деловой активности в первом месяце лета из-за старта сезона отпусков.**"
   ]
  },
  {
   "cell_type": "code",
   "execution_count": 100,
   "metadata": {},
   "outputs": [
    {
     "data": {
      "text/html": [
       "<div>\n",
       "<style scoped>\n",
       "    .dataframe tbody tr th:only-of-type {\n",
       "        vertical-align: middle;\n",
       "    }\n",
       "\n",
       "    .dataframe tbody tr th {\n",
       "        vertical-align: top;\n",
       "    }\n",
       "\n",
       "    .dataframe thead th {\n",
       "        text-align: right;\n",
       "    }\n",
       "</style>\n",
       "<table border=\"1\" class=\"dataframe\">\n",
       "  <thead>\n",
       "    <tr style=\"text-align: right;\">\n",
       "      <th></th>\n",
       "      <th>mean</th>\n",
       "      <th>count</th>\n",
       "      <th>median</th>\n",
       "    </tr>\n",
       "    <tr>\n",
       "      <th>year_exposition</th>\n",
       "      <th></th>\n",
       "      <th></th>\n",
       "      <th></th>\n",
       "    </tr>\n",
       "  </thead>\n",
       "  <tbody>\n",
       "    <tr>\n",
       "      <td>2019</td>\n",
       "      <td>173593.527874</td>\n",
       "      <td>127</td>\n",
       "      <td>131432.750</td>\n",
       "    </tr>\n",
       "    <tr>\n",
       "      <td>2018</td>\n",
       "      <td>140129.848647</td>\n",
       "      <td>340</td>\n",
       "      <td>117898.845</td>\n",
       "    </tr>\n",
       "    <tr>\n",
       "      <td>2017</td>\n",
       "      <td>141410.707823</td>\n",
       "      <td>418</td>\n",
       "      <td>114579.495</td>\n",
       "    </tr>\n",
       "    <tr>\n",
       "      <td>2016</td>\n",
       "      <td>135593.316735</td>\n",
       "      <td>147</td>\n",
       "      <td>109090.910</td>\n",
       "    </tr>\n",
       "    <tr>\n",
       "      <td>2015</td>\n",
       "      <td>154054.776186</td>\n",
       "      <td>118</td>\n",
       "      <td>107055.590</td>\n",
       "    </tr>\n",
       "  </tbody>\n",
       "</table>\n",
       "</div>"
      ],
      "text/plain": [
       "                          mean  count      median\n",
       "year_exposition                                  \n",
       "2019             173593.527874    127  131432.750\n",
       "2018             140129.848647    340  117898.845\n",
       "2017             141410.707823    418  114579.495\n",
       "2016             135593.316735    147  109090.910\n",
       "2015             154054.776186    118  107055.590"
      ]
     },
     "execution_count": 100,
     "metadata": {},
     "output_type": "execute_result"
    },
    {
     "data": {
      "image/png": "[encoded data removed]",
      "text/plain": [
       "<Figure size 432x288 with 1 Axes>"
      ]
     },
     "metadata": {
      "needs_background": "light"
     },
     "output_type": "display_data"
    }
   ],
   "source": [
    "#зависимость стоимости квадратного метра от года размещения объявления\n",
    "center_spb_year_exposition = center_spb_df.pivot_table(index = 'year_exposition', values = 'price_per_meter', aggfunc = ['mean', 'count', 'median'])\n",
    "center_spb_year_exposition.columns = ['mean', 'count', 'median']\n",
    "center_spb_year_exposition.query('count > 50').plot(y = 'median')\n",
    "\n",
    "center_spb_year_exposition.query('count > 50').sort_values('median', ascending = False)"
   ]
  },
  {
   "cell_type": "markdown",
   "metadata": {},
   "source": [
    "**Вывод: в отличие от общей выборки цены планомерно растут, полагаю что это может быть связано с мягкой денежно кредитной политикой, стоимость привлечения средств дешевле, поэтому защитные активы дорожают по отношению к инфляционному активу.**"
   ]
  },
  {
   "cell_type": "markdown",
   "metadata": {},
   "source": [
    "<div class=\"alert alert-danger\">\n",
    "<b>Комментарий ревьюера:</b>\n",
    "\n",
    "<s>Давай постараемся автоматизировать построение графиков через цикл `for`. \n",
    "    \n",
    "Почему это важно? \n",
    "    \n",
    "- экономим своё время\n",
    "- оптимизируем код\n",
    "- делаем работу презентабельнее\n",
    "    \n",
    "Выбери любой участок кода где это сделать целесообразнее всего.\n",
    "\n",
    "</div>"
   ]
  },
  {
   "cell_type": "markdown",
   "metadata": {},
   "source": [
    "<div class=\"alert alert-info\"> <b>Комментарий студента:</b> Логически понимаю через цикл будет проще, а вот механику, как всё это написать с таким количеством графиков не могу понять, всю голову сломал, ничего не работает(.</div>"
   ]
  },
  {
   "cell_type": "markdown",
   "metadata": {},
   "source": [
    "<div class=\"alert alert-success\">\n",
    "<b>Комментарий ревьюера:</b>\n",
    "\n",
    "Кстати можно было бы сравнить центр и весь город в целом, для наглядности наших расчетов.\n",
    "    \n",
    "</div>"
   ]
  },
  {
   "cell_type": "markdown",
   "metadata": {},
   "source": [
    "<div class=\"alert alert-success\">\n",
    "<b>Комментарий ревьюера (2):</b>\n",
    "\n",
    "Понял, тогда оставлю пример  ниже и попытаюсь описать, что здесь происходит.\n",
    "    \n",
    "</div>"
   ]
  },
  {
   "cell_type": "code",
   "execution_count": 103,
   "metadata": {},
   "outputs": [],
   "source": [
    "cols = [\"living_area_m2\", \"total_floors_in_house\", \"total_living_area_ratio\", \"total_area_m2\", \"nearest_park_distance_km\"]"
   ]
  },
  {
   "cell_type": "code",
   "execution_count": 104,
   "metadata": {
    "scrolled": true
   },
   "outputs": [
    {
     "data": {
      "image/png": "[encoded data removed]",
      "text/plain": [
       "<Figure size 432x288 with 1 Axes>"
      ]
     },
     "metadata": {
      "needs_background": "light"
     },
     "output_type": "display_data"
    },
    {
     "data": {
      "image/png": "[encoded data removed]",
      "text/plain": [
       "<Figure size 432x288 with 1 Axes>"
      ]
     },
     "metadata": {
      "needs_background": "light"
     },
     "output_type": "display_data"
    },
    {
     "data": {
      "image/png": "[encoded data removed]",
      "text/plain": [
       "<Figure size 432x288 with 1 Axes>"
      ]
     },
     "metadata": {
      "needs_background": "light"
     },
     "output_type": "display_data"
    },
    {
     "data": {
      "image/png": "[encoded data removed]",
      "text/plain": [
       "<Figure size 432x288 with 1 Axes>"
      ]
     },
     "metadata": {
      "needs_background": "light"
     },
     "output_type": "display_data"
    },
    {
     "data": {
      "image/png": "[encoded data removed]",
      "text/plain": [
       "<Figure size 432x288 with 1 Axes>"
      ]
     },
     "metadata": {
      "needs_background": "light"
     },
     "output_type": "display_data"
    }
   ],
   "source": [
    "for col in cols:\n",
    "    df[col].hist()\n",
    "    plt.title(col)\n",
    "    plt.show()"
   ]
  },
  {
   "cell_type": "markdown",
   "metadata": {},
   "source": [
    "<div class=\"alert alert-success\">\n",
    "<b>Комментарий ревьюера (2):</b>\n",
    "\n",
    "И так, что мы делаем: \n",
    "\n",
    "- создаем список столбцов\n",
    "- проходимся циклом `for` по каждому\n",
    "- выбираем столбец в датафрейме\n",
    "- визуализируем этот столбец\n",
    "- добавляем тайтл\n",
    "- визуализируем \n",
    "    \n",
    "Можно также добавить нормальные названия графиков, например используя не список, а словарь. Где в ключах будет название столбца, а в значениях будет нормальное наименование графика.\n",
    "    \n",
    "</div>"
   ]
  },
  {
   "cell_type": "markdown",
   "metadata": {},
   "source": [
    "## Общий вывод"
   ]
  },
  {
   "cell_type": "markdown",
   "metadata": {},
   "source": [
    "**Мы обработали полученный архив - обработали пропущенные значения там, где это необходимо, заменили типы данных на необходимые для удобной работы. Посчитали и добавили в таблицу цену квадратного метра жилья, вывели из даты дни недели, месяцы и года размещения объявлений, добавили категории по этажам квартир. Изучили следующие параметры на наличие выбивающихся значений - площадь, цена, число комнат, высота потолков. Были определены аномалии в данных параметрах. Изучая время продажи квартир мы выявили, что большое количество объявлений было автоматически снято с Яндекс Недвижимость и дату из снятия нельзя считать датой продажи квартиры, поэтому, изучая средние сроки продажи квартир - данные значения не учитывались. Мы выявили при помощи диаграммы размаха, что нормальные значения продажи квартир варьируются от 1 до 500 дней. Мы выявили, что на стоимость квадратного метра квартиры больше всего влияют количество комнат, этаж квартиры, близость к центру. Незначительно на стоимость квадратного метра влияют день, месяц, год размещения и общая площадь. Нужно учитывать, что в 2016-2017 годах стоимость квартир в среднем по рынку была ниже на 10-20 %, тогда как в центре Санкт-Петербурга данной зависимости от года не обнаружено. В данном случае имело место постоянное удорожание стоимости, начиная с 2015 года по текущий момент. Судя, по резкости изменения цен в зависимости от удаления от центра СПБ, мы выявили центр города в радиусе 3 километров.**\n",
    "\n",
    "**Также важно учитывать, что, рассматривая среднюю стоимость квартир в 2014-2019 годах, мы не делали сегментацию рынка, а лишь смотрели средние показатели по рынку в целом. Т.е. возможно, что цены на аналогичные квартиры в разных годах вели себя абсолютно по-разному. Т.е. например в то время, когда средняя стоимость метра по рынку в 2016-2017 годах была наиболее низкой, какие-то аналогичные прошлым годам квартиры могли и не падать в цене, а наоборот дорожать. Именно об этом нам и говорят данные, полученные при изучении единственного сегмента квартир - находящихся в радиусе 3 км в центре Питера.**"
   ]
  },
  {
   "cell_type": "markdown",
   "metadata": {},
   "source": [
    "<div class=\"alert alert-success\">\n",
    "<b>Комментарий ревьюера:</b>\n",
    "\n",
    "Выводы понятны и логичны, а самое главное подкреплены выявленными фактами.\n",
    "    \n",
    "Достаточно детально проделанная работа и это не может не радовать 😊\n",
    "    \n",
    "Давай поправим мои комментарии и будем двигаться дальше.\n",
    "    \n",
    "Если у тебя вдруг есчть какие–либо вопросы, то я с радостью отвечу на них 😊\n",
    "       \n",
    "\n",
    "</div>"
   ]
  },
  {
   "cell_type": "markdown",
   "metadata": {},
   "source": [
    "<div class=\"alert alert-success\">\n",
    "<b>Комментарий ревьюера (2):</b>\n",
    "\n",
    "Здорово, что достаточно оперативно поправили мои комментарии и сделали наш проект еще лучше.\n",
    "       \n",
    "В целом сам проект выполнен на хорошем уровне! На протяжении всей работы чувствуется глубина проработки задачи и это безусловный плюс для нас. Было использовано большое количество методов, которые будут помогать тебе в дальнейших проектах.\n",
    "    \n",
    "    \n",
    "Поздравляю с успешным завершением проекта 😊👍\n",
    "    \n",
    "И желаю успехов в новых работах 😊\n",
    "    \n",
    "**[общий комментарий]** Ячейки **markdown** в том числе мы можем использовать как дополнительный способ стилизации нашего проекта. Оставил ниже ссылку, с примерами стилизации.\n",
    "\n",
    "https://sqlbak.com/blog/jupyter-notebook-markdown-cheatsheet\n",
    "    \n",
    "</div>"
   ]
  },
  {
   "cell_type": "markdown",
   "metadata": {},
   "source": [
    "## Чек-лист готовности проекта\n",
    "\n",
    "Поставьте 'x' в выполненных пунктах. Далее нажмите Shift+Enter."
   ]
  },
  {
   "cell_type": "markdown",
   "metadata": {},
   "source": [
    "- [x]  открыт файл\n",
    "- [x]  файлы изучены (выведены первые строки, метод info())\n",
    "- [X]  определены пропущенные значения\n",
    "- [X]  заполнены пропущенные значения\n",
    "- [X]  есть пояснение, какие пропущенные значения обнаружены\n",
    "- [X]  изменены типы данных\n",
    "- [X]  есть пояснение, в каких столбцах изменены типы и почему\n",
    "- [X]  посчитано и добавлено в таблицу: цена квадратного метра\n",
    "- [X]  посчитано и добавлено в таблицу: день недели, месяц и год публикации объявления\n",
    "- [X]  посчитано и добавлено в таблицу: этаж квартиры; варианты — первый, последний, другой\n",
    "- [X]  посчитано и добавлено в таблицу: соотношение жилой и общей площади, а также отношение площади кухни к общей\n",
    "- [X]  изучены следующие параметры: площадь, цена, число комнат, высота потолков\n",
    "- [X]  построены гистограммы для каждого параметра\n",
    "- [X]  выполнено задание: \"Изучите время продажи квартиры. Постройте гистограмму. Посчитайте среднее и медиану. Опишите, сколько обычно занимает продажа. Когда можно считать, что продажи прошли очень быстро, а когда необычно долго?\"\n",
    "- [X]  выполнено задание: \"Уберите редкие и выбивающиеся значения. Опишите, какие особенности обнаружили.\"\n",
    "- [X]  выполнено задание: \"Какие факторы больше всего влияют на стоимость квартиры? Изучите, зависит ли цена от квадратного метра, числа комнат, этажа (первого или последнего), удалённости от центра. Также изучите зависимость от даты размещения: дня недели, месяца и года. \"Выберите 10 населённых пунктов с наибольшим числом объявлений. Посчитайте среднюю цену квадратного метра в этих населённых пунктах. Выделите населённые пункты с самой высокой и низкой стоимостью жилья. Эти данные можно найти по имени в столбце '*locality_name'*. \"\n",
    "- [X]  выполнено задание: \"Изучите предложения квартир: для каждой квартиры есть информация о расстоянии до центра. Выделите квартиры в Санкт-Петербурге (*'locality_name'*). Ваша задача — выяснить, какая область входит в центр. Создайте столбец с расстоянием до центра в километрах: округлите до целых значений. После этого посчитайте среднюю цену для каждого километра. Постройте график: он должен показывать, как цена зависит от удалённости от центра. Определите границу, где график сильно меняется — это и будет центральная зона. \"\n",
    "- [X]  выполнено задание: \"Выделите сегмент квартир в центре. Проанализируйте эту территорию и изучите следующие параметры: площадь, цена, число комнат, высота потолков. Также выделите факторы, которые влияют на стоимость квартиры (число комнат, этаж, удалённость от центра, дата размещения объявления). Сделайте выводы. Отличаются ли они от общих выводов по всему городу?\"\n",
    "- [X]  в каждом этапе есть выводы\n",
    "- [X]  есть общий вывод"
   ]
  }
 ],
 "metadata": {
  "ExecuteTimeLog": [
   {
    "duration": 289,
    "start_time": "2021-12-08T08:36:01.125Z"
   },
   {
    "duration": 647,
    "start_time": "2021-12-08T08:36:08.207Z"
   },
   {
    "duration": 96,
    "start_time": "2021-12-08T08:36:11.779Z"
   },
   {
    "duration": 26,
    "start_time": "2021-12-08T08:36:34.043Z"
   },
   {
    "duration": 78,
    "start_time": "2021-12-08T08:40:04.115Z"
   },
   {
    "duration": 12,
    "start_time": "2021-12-08T08:42:22.965Z"
   },
   {
    "duration": 29,
    "start_time": "2021-12-08T08:43:31.617Z"
   },
   {
    "duration": 4,
    "start_time": "2021-12-08T08:54:24.975Z"
   },
   {
    "duration": 4,
    "start_time": "2021-12-08T08:59:46.079Z"
   },
   {
    "duration": 4,
    "start_time": "2021-12-08T09:00:48.209Z"
   },
   {
    "duration": 10,
    "start_time": "2021-12-08T09:05:40.739Z"
   },
   {
    "duration": 15,
    "start_time": "2021-12-08T09:08:18.636Z"
   },
   {
    "duration": 7,
    "start_time": "2021-12-08T09:13:40.321Z"
   },
   {
    "duration": 24,
    "start_time": "2021-12-08T09:14:18.895Z"
   },
   {
    "duration": 8,
    "start_time": "2021-12-08T11:42:36.396Z"
   },
   {
    "duration": 12,
    "start_time": "2021-12-08T11:43:20.189Z"
   },
   {
    "duration": 26,
    "start_time": "2021-12-08T11:43:50.391Z"
   },
   {
    "duration": 23,
    "start_time": "2021-12-08T11:45:58.163Z"
   },
   {
    "duration": 23,
    "start_time": "2021-12-08T11:46:05.647Z"
   },
   {
    "duration": 338,
    "start_time": "2021-12-08T11:48:05.676Z"
   },
   {
    "duration": 298,
    "start_time": "2021-12-08T11:49:43.136Z"
   },
   {
    "duration": 11,
    "start_time": "2021-12-08T11:50:25.949Z"
   },
   {
    "duration": 8,
    "start_time": "2021-12-08T11:50:28.785Z"
   },
   {
    "duration": 34,
    "start_time": "2021-12-08T11:51:17.986Z"
   },
   {
    "duration": 251,
    "start_time": "2021-12-08T11:54:36.992Z"
   },
   {
    "duration": 3,
    "start_time": "2021-12-08T12:01:20.240Z"
   },
   {
    "duration": 119,
    "start_time": "2021-12-08T12:01:20.249Z"
   },
   {
    "duration": 29,
    "start_time": "2021-12-08T12:01:20.370Z"
   },
   {
    "duration": 100,
    "start_time": "2021-12-08T12:01:20.402Z"
   },
   {
    "duration": 14,
    "start_time": "2021-12-08T12:01:20.505Z"
   },
   {
    "duration": 52,
    "start_time": "2021-12-08T12:01:20.522Z"
   },
   {
    "duration": 5,
    "start_time": "2021-12-08T12:01:20.577Z"
   },
   {
    "duration": 34,
    "start_time": "2021-12-08T12:01:20.584Z"
   },
   {
    "duration": 50,
    "start_time": "2021-12-08T12:01:20.621Z"
   },
   {
    "duration": 38,
    "start_time": "2021-12-08T12:01:20.674Z"
   },
   {
    "duration": 28,
    "start_time": "2021-12-08T12:01:20.714Z"
   },
   {
    "duration": 28,
    "start_time": "2021-12-08T12:01:20.744Z"
   },
   {
    "duration": 51,
    "start_time": "2021-12-08T12:01:20.773Z"
   },
   {
    "duration": 23,
    "start_time": "2021-12-08T12:01:20.826Z"
   },
   {
    "duration": 50,
    "start_time": "2021-12-08T12:01:20.851Z"
   },
   {
    "duration": 50,
    "start_time": "2021-12-08T12:01:20.903Z"
   },
   {
    "duration": 100,
    "start_time": "2021-12-08T12:01:20.954Z"
   },
   {
    "duration": 37,
    "start_time": "2021-12-08T12:01:21.019Z"
   },
   {
    "duration": 30,
    "start_time": "2021-12-08T12:01:21.027Z"
   },
   {
    "duration": 12,
    "start_time": "2021-12-08T12:04:45.176Z"
   },
   {
    "duration": 22,
    "start_time": "2021-12-08T12:04:50.741Z"
   },
   {
    "duration": 349,
    "start_time": "2021-12-08T12:05:01.374Z"
   },
   {
    "duration": 269,
    "start_time": "2021-12-08T12:14:09.242Z"
   },
   {
    "duration": 6,
    "start_time": "2021-12-08T12:15:46.307Z"
   },
   {
    "duration": 15,
    "start_time": "2021-12-08T12:16:22.075Z"
   },
   {
    "duration": 10,
    "start_time": "2021-12-08T12:16:49.480Z"
   },
   {
    "duration": 14,
    "start_time": "2021-12-08T12:21:39.368Z"
   },
   {
    "duration": 7,
    "start_time": "2021-12-08T12:22:04.278Z"
   },
   {
    "duration": 6,
    "start_time": "2021-12-08T12:22:37.920Z"
   },
   {
    "duration": 12,
    "start_time": "2021-12-08T12:23:34.519Z"
   },
   {
    "duration": 6,
    "start_time": "2021-12-08T12:25:49.259Z"
   },
   {
    "duration": 11,
    "start_time": "2021-12-08T12:29:55.051Z"
   },
   {
    "duration": 25,
    "start_time": "2021-12-08T12:30:09.269Z"
   },
   {
    "duration": 24,
    "start_time": "2021-12-08T12:31:20.088Z"
   },
   {
    "duration": 25,
    "start_time": "2021-12-08T12:37:55.051Z"
   },
   {
    "duration": 25,
    "start_time": "2021-12-08T12:38:08.411Z"
   },
   {
    "duration": 623,
    "start_time": "2021-12-09T06:29:58.074Z"
   },
   {
    "duration": 936,
    "start_time": "2021-12-09T06:30:08.175Z"
   },
   {
    "duration": 135,
    "start_time": "2021-12-09T06:30:09.113Z"
   },
   {
    "duration": 45,
    "start_time": "2021-12-09T06:30:09.251Z"
   },
   {
    "duration": 175,
    "start_time": "2021-12-09T06:30:09.301Z"
   },
   {
    "duration": 22,
    "start_time": "2021-12-09T06:30:09.480Z"
   },
   {
    "duration": 77,
    "start_time": "2021-12-09T06:30:09.506Z"
   },
   {
    "duration": 9,
    "start_time": "2021-12-09T06:30:09.587Z"
   },
   {
    "duration": 9,
    "start_time": "2021-12-09T06:30:09.624Z"
   },
   {
    "duration": 12,
    "start_time": "2021-12-09T06:30:09.637Z"
   },
   {
    "duration": 20,
    "start_time": "2021-12-09T06:30:09.652Z"
   },
   {
    "duration": 50,
    "start_time": "2021-12-09T06:30:09.675Z"
   },
   {
    "duration": 8,
    "start_time": "2021-12-09T06:30:09.727Z"
   },
   {
    "duration": 50,
    "start_time": "2021-12-09T06:30:09.738Z"
   },
   {
    "duration": 9,
    "start_time": "2021-12-09T06:30:09.791Z"
   },
   {
    "duration": 13,
    "start_time": "2021-12-09T06:30:09.825Z"
   },
   {
    "duration": 40,
    "start_time": "2021-12-09T06:30:09.841Z"
   },
   {
    "duration": 41,
    "start_time": "2021-12-09T06:30:09.884Z"
   },
   {
    "duration": 54,
    "start_time": "2021-12-09T06:30:09.928Z"
   },
   {
    "duration": 9,
    "start_time": "2021-12-09T06:30:09.985Z"
   },
   {
    "duration": 47,
    "start_time": "2021-12-09T06:30:09.996Z"
   },
   {
    "duration": 21,
    "start_time": "2021-12-09T06:30:10.045Z"
   },
   {
    "duration": 36,
    "start_time": "2021-12-09T06:30:10.068Z"
   },
   {
    "duration": 20,
    "start_time": "2021-12-09T06:30:10.110Z"
   },
   {
    "duration": 16,
    "start_time": "2021-12-09T06:30:10.133Z"
   },
   {
    "duration": 22,
    "start_time": "2021-12-09T06:30:10.152Z"
   },
   {
    "duration": 15,
    "start_time": "2021-12-09T06:30:10.177Z"
   },
   {
    "duration": 40,
    "start_time": "2021-12-09T06:30:10.195Z"
   },
   {
    "duration": 47,
    "start_time": "2021-12-09T06:30:10.237Z"
   },
   {
    "duration": 48,
    "start_time": "2021-12-09T06:30:10.287Z"
   },
   {
    "duration": 36,
    "start_time": "2021-12-09T06:30:10.338Z"
   },
   {
    "duration": 15,
    "start_time": "2021-12-09T06:30:10.376Z"
   },
   {
    "duration": 62,
    "start_time": "2021-12-09T06:30:10.394Z"
   },
   {
    "duration": 332,
    "start_time": "2021-12-09T06:38:42.967Z"
   },
   {
    "duration": 35,
    "start_time": "2021-12-09T06:38:58.781Z"
   },
   {
    "duration": 307,
    "start_time": "2021-12-09T06:47:42.739Z"
   },
   {
    "duration": 38,
    "start_time": "2021-12-09T06:47:52.643Z"
   },
   {
    "duration": 444,
    "start_time": "2021-12-09T06:48:21.513Z"
   },
   {
    "duration": 12,
    "start_time": "2021-12-09T06:48:57.583Z"
   },
   {
    "duration": 5,
    "start_time": "2021-12-09T06:49:16.302Z"
   },
   {
    "duration": 278,
    "start_time": "2021-12-09T06:49:34.324Z"
   },
   {
    "duration": 6,
    "start_time": "2021-12-09T06:53:38.544Z"
   },
   {
    "duration": 7433,
    "start_time": "2021-12-09T06:54:17.552Z"
   },
   {
    "duration": -1223,
    "start_time": "2021-12-09T06:54:26.211Z"
   },
   {
    "duration": -1559,
    "start_time": "2021-12-09T06:56:00.536Z"
   },
   {
    "duration": -1566,
    "start_time": "2021-12-09T06:56:00.545Z"
   },
   {
    "duration": 40,
    "start_time": "2021-12-09T06:55:58.988Z"
   },
   {
    "duration": 122,
    "start_time": "2021-12-09T06:55:59.031Z"
   },
   {
    "duration": 15,
    "start_time": "2021-12-09T06:55:59.157Z"
   },
   {
    "duration": 84,
    "start_time": "2021-12-09T06:55:59.175Z"
   },
   {
    "duration": 5,
    "start_time": "2021-12-09T06:55:59.261Z"
   },
   {
    "duration": 20,
    "start_time": "2021-12-09T06:55:59.269Z"
   },
   {
    "duration": 43,
    "start_time": "2021-12-09T06:55:59.291Z"
   },
   {
    "duration": 32,
    "start_time": "2021-12-09T06:55:59.338Z"
   },
   {
    "duration": 21,
    "start_time": "2021-12-09T06:55:59.373Z"
   },
   {
    "duration": 23,
    "start_time": "2021-12-09T06:55:59.397Z"
   },
   {
    "duration": 69,
    "start_time": "2021-12-09T06:55:59.423Z"
   },
   {
    "duration": 12,
    "start_time": "2021-12-09T06:55:59.495Z"
   },
   {
    "duration": 24,
    "start_time": "2021-12-09T06:55:59.509Z"
   },
   {
    "duration": 34,
    "start_time": "2021-12-09T06:55:59.535Z"
   },
   {
    "duration": 15,
    "start_time": "2021-12-09T06:55:59.572Z"
   },
   {
    "duration": 62,
    "start_time": "2021-12-09T06:55:59.589Z"
   },
   {
    "duration": 8,
    "start_time": "2021-12-09T06:55:59.654Z"
   },
   {
    "duration": 23,
    "start_time": "2021-12-09T06:55:59.665Z"
   },
   {
    "duration": 9,
    "start_time": "2021-12-09T06:55:59.690Z"
   },
   {
    "duration": 20,
    "start_time": "2021-12-09T06:55:59.725Z"
   },
   {
    "duration": 8,
    "start_time": "2021-12-09T06:55:59.748Z"
   },
   {
    "duration": 9,
    "start_time": "2021-12-09T06:55:59.759Z"
   },
   {
    "duration": 61,
    "start_time": "2021-12-09T06:55:59.773Z"
   },
   {
    "duration": 6,
    "start_time": "2021-12-09T06:55:59.837Z"
   },
   {
    "duration": 13,
    "start_time": "2021-12-09T06:55:59.846Z"
   },
   {
    "duration": 34,
    "start_time": "2021-12-09T06:55:59.861Z"
   },
   {
    "duration": 28,
    "start_time": "2021-12-09T06:55:59.924Z"
   },
   {
    "duration": 35,
    "start_time": "2021-12-09T06:55:59.955Z"
   },
   {
    "duration": 33,
    "start_time": "2021-12-09T06:55:59.992Z"
   },
   {
    "duration": 19,
    "start_time": "2021-12-09T06:58:00.906Z"
   },
   {
    "duration": 32,
    "start_time": "2021-12-09T06:58:23.032Z"
   },
   {
    "duration": 7129,
    "start_time": "2021-12-09T07:04:38.728Z"
   },
   {
    "duration": -1199,
    "start_time": "2021-12-09T07:04:47.059Z"
   },
   {
    "duration": 7,
    "start_time": "2021-12-09T07:05:22.446Z"
   },
   {
    "duration": 5,
    "start_time": "2021-12-09T07:05:45.094Z"
   },
   {
    "duration": 149,
    "start_time": "2021-12-09T07:05:45.102Z"
   },
   {
    "duration": 72,
    "start_time": "2021-12-09T07:05:45.255Z"
   },
   {
    "duration": 118,
    "start_time": "2021-12-09T07:05:45.329Z"
   },
   {
    "duration": 15,
    "start_time": "2021-12-09T07:05:45.449Z"
   },
   {
    "duration": 59,
    "start_time": "2021-12-09T07:05:45.466Z"
   },
   {
    "duration": 6,
    "start_time": "2021-12-09T07:05:45.528Z"
   },
   {
    "duration": 11,
    "start_time": "2021-12-09T07:05:45.537Z"
   },
   {
    "duration": 12,
    "start_time": "2021-12-09T07:05:45.551Z"
   },
   {
    "duration": 14,
    "start_time": "2021-12-09T07:05:45.566Z"
   },
   {
    "duration": 42,
    "start_time": "2021-12-09T07:05:45.583Z"
   },
   {
    "duration": 8,
    "start_time": "2021-12-09T07:05:45.628Z"
   },
   {
    "duration": 38,
    "start_time": "2021-12-09T07:05:45.639Z"
   },
   {
    "duration": 12,
    "start_time": "2021-12-09T07:05:45.680Z"
   },
   {
    "duration": 36,
    "start_time": "2021-12-09T07:05:45.695Z"
   },
   {
    "duration": 38,
    "start_time": "2021-12-09T07:05:45.733Z"
   },
   {
    "duration": 11,
    "start_time": "2021-12-09T07:05:45.773Z"
   },
   {
    "duration": 69,
    "start_time": "2021-12-09T07:05:45.787Z"
   },
   {
    "duration": 27,
    "start_time": "2021-12-09T07:05:45.860Z"
   },
   {
    "duration": 50,
    "start_time": "2021-12-09T07:05:45.890Z"
   },
   {
    "duration": 32,
    "start_time": "2021-12-09T07:05:45.943Z"
   },
   {
    "duration": 36,
    "start_time": "2021-12-09T07:05:45.978Z"
   },
   {
    "duration": 29,
    "start_time": "2021-12-09T07:05:46.016Z"
   },
   {
    "duration": 13,
    "start_time": "2021-12-09T07:05:46.048Z"
   },
   {
    "duration": 20,
    "start_time": "2021-12-09T07:05:46.064Z"
   },
   {
    "duration": 19,
    "start_time": "2021-12-09T07:05:46.087Z"
   },
   {
    "duration": 28,
    "start_time": "2021-12-09T07:05:46.109Z"
   },
   {
    "duration": 56,
    "start_time": "2021-12-09T07:05:46.140Z"
   },
   {
    "duration": 42,
    "start_time": "2021-12-09T07:05:46.199Z"
   },
   {
    "duration": 38,
    "start_time": "2021-12-09T07:05:46.244Z"
   },
   {
    "duration": 40,
    "start_time": "2021-12-09T07:05:46.285Z"
   },
   {
    "duration": 303,
    "start_time": "2021-12-09T07:07:29.095Z"
   },
   {
    "duration": 273,
    "start_time": "2021-12-09T07:07:46.762Z"
   },
   {
    "duration": 7,
    "start_time": "2021-12-09T07:07:57.733Z"
   },
   {
    "duration": 7,
    "start_time": "2021-12-09T07:08:39.572Z"
   },
   {
    "duration": 50,
    "start_time": "2021-12-09T07:08:55.165Z"
   },
   {
    "duration": 50,
    "start_time": "2021-12-09T07:09:13.059Z"
   },
   {
    "duration": 6,
    "start_time": "2021-12-09T07:21:17.964Z"
   },
   {
    "duration": 37,
    "start_time": "2021-12-09T07:23:05.537Z"
   },
   {
    "duration": 39,
    "start_time": "2021-12-09T07:23:11.591Z"
   },
   {
    "duration": 310,
    "start_time": "2021-12-09T07:25:14.812Z"
   },
   {
    "duration": 297,
    "start_time": "2021-12-09T07:25:40.895Z"
   },
   {
    "duration": 11,
    "start_time": "2021-12-09T07:31:12.123Z"
   },
   {
    "duration": 35,
    "start_time": "2021-12-09T07:31:25.077Z"
   },
   {
    "duration": 3,
    "start_time": "2021-12-09T07:51:44.542Z"
   },
   {
    "duration": 8351,
    "start_time": "2021-12-09T07:52:21.268Z"
   },
   {
    "duration": 8662,
    "start_time": "2021-12-09T07:53:37.150Z"
   },
   {
    "duration": 2227,
    "start_time": "2021-12-09T07:55:19.611Z"
   },
   {
    "duration": 2164,
    "start_time": "2021-12-09T07:55:53.270Z"
   },
   {
    "duration": 68,
    "start_time": "2021-12-09T07:55:57.898Z"
   },
   {
    "duration": 8,
    "start_time": "2021-12-09T07:57:28.895Z"
   },
   {
    "duration": 26,
    "start_time": "2021-12-09T08:22:53.921Z"
   },
   {
    "duration": 8,
    "start_time": "2021-12-09T08:28:36.764Z"
   },
   {
    "duration": 6,
    "start_time": "2021-12-09T08:30:23.695Z"
   },
   {
    "duration": 36,
    "start_time": "2021-12-09T08:30:36.911Z"
   },
   {
    "duration": 4,
    "start_time": "2021-12-09T08:37:42.612Z"
   },
   {
    "duration": 147,
    "start_time": "2021-12-09T08:37:42.625Z"
   },
   {
    "duration": 64,
    "start_time": "2021-12-09T08:37:42.776Z"
   },
   {
    "duration": 137,
    "start_time": "2021-12-09T08:37:42.843Z"
   },
   {
    "duration": 17,
    "start_time": "2021-12-09T08:37:42.983Z"
   },
   {
    "duration": 58,
    "start_time": "2021-12-09T08:37:43.003Z"
   },
   {
    "duration": 6,
    "start_time": "2021-12-09T08:37:43.063Z"
   },
   {
    "duration": 28,
    "start_time": "2021-12-09T08:37:43.072Z"
   },
   {
    "duration": 24,
    "start_time": "2021-12-09T08:37:43.122Z"
   },
   {
    "duration": 31,
    "start_time": "2021-12-09T08:37:43.149Z"
   },
   {
    "duration": 32,
    "start_time": "2021-12-09T08:37:43.183Z"
   },
   {
    "duration": 25,
    "start_time": "2021-12-09T08:37:43.218Z"
   },
   {
    "duration": 47,
    "start_time": "2021-12-09T08:37:43.247Z"
   },
   {
    "duration": 35,
    "start_time": "2021-12-09T08:37:43.297Z"
   },
   {
    "duration": 27,
    "start_time": "2021-12-09T08:37:43.335Z"
   },
   {
    "duration": 66,
    "start_time": "2021-12-09T08:37:43.365Z"
   },
   {
    "duration": 15,
    "start_time": "2021-12-09T08:37:43.435Z"
   },
   {
    "duration": 46,
    "start_time": "2021-12-09T08:37:43.452Z"
   },
   {
    "duration": 7,
    "start_time": "2021-12-09T08:37:43.523Z"
   },
   {
    "duration": 22,
    "start_time": "2021-12-09T08:37:43.533Z"
   },
   {
    "duration": 15,
    "start_time": "2021-12-09T08:37:43.558Z"
   },
   {
    "duration": 70,
    "start_time": "2021-12-09T08:37:43.576Z"
   },
   {
    "duration": 11,
    "start_time": "2021-12-09T08:37:43.649Z"
   },
   {
    "duration": 10,
    "start_time": "2021-12-09T08:37:43.665Z"
   },
   {
    "duration": 15,
    "start_time": "2021-12-09T08:37:43.723Z"
   },
   {
    "duration": 11,
    "start_time": "2021-12-09T08:37:43.741Z"
   },
   {
    "duration": 21,
    "start_time": "2021-12-09T08:37:43.755Z"
   },
   {
    "duration": 70,
    "start_time": "2021-12-09T08:37:43.779Z"
   },
   {
    "duration": 35,
    "start_time": "2021-12-09T08:37:43.852Z"
   },
   {
    "duration": 76,
    "start_time": "2021-12-09T08:37:43.891Z"
   },
   {
    "duration": 9,
    "start_time": "2021-12-09T08:37:43.970Z"
   },
   {
    "duration": 44,
    "start_time": "2021-12-09T08:37:43.983Z"
   },
   {
    "duration": 12,
    "start_time": "2021-12-09T08:37:44.030Z"
   },
   {
    "duration": 2359,
    "start_time": "2021-12-09T08:37:44.044Z"
   },
   {
    "duration": 6,
    "start_time": "2021-12-09T08:37:46.405Z"
   },
   {
    "duration": 6,
    "start_time": "2021-12-09T08:37:46.424Z"
   },
   {
    "duration": 6,
    "start_time": "2021-12-09T08:37:46.433Z"
   },
   {
    "duration": 89,
    "start_time": "2021-12-09T08:37:46.441Z"
   },
   {
    "duration": 3,
    "start_time": "2021-12-09T08:37:46.533Z"
   },
   {
    "duration": 23,
    "start_time": "2021-12-09T08:38:53.746Z"
   },
   {
    "duration": 6,
    "start_time": "2021-12-09T08:41:28.570Z"
   },
   {
    "duration": 11,
    "start_time": "2021-12-09T08:42:12.315Z"
   },
   {
    "duration": 6,
    "start_time": "2021-12-09T08:46:37.773Z"
   },
   {
    "duration": 11,
    "start_time": "2021-12-09T08:47:19.748Z"
   },
   {
    "duration": 8,
    "start_time": "2021-12-09T08:48:52.516Z"
   },
   {
    "duration": 12,
    "start_time": "2021-12-09T08:49:30.199Z"
   },
   {
    "duration": 9,
    "start_time": "2021-12-09T08:54:03.593Z"
   },
   {
    "duration": 7,
    "start_time": "2021-12-09T08:56:04.797Z"
   },
   {
    "duration": 15,
    "start_time": "2021-12-09T09:05:50.481Z"
   },
   {
    "duration": 8,
    "start_time": "2021-12-09T09:05:53.827Z"
   },
   {
    "duration": 6,
    "start_time": "2021-12-09T09:15:10.632Z"
   },
   {
    "duration": 7,
    "start_time": "2021-12-09T09:15:14.143Z"
   },
   {
    "duration": 8,
    "start_time": "2021-12-09T09:25:20.075Z"
   },
   {
    "duration": 6,
    "start_time": "2021-12-09T09:26:08.720Z"
   },
   {
    "duration": 7,
    "start_time": "2021-12-09T09:27:30.843Z"
   },
   {
    "duration": 7,
    "start_time": "2021-12-09T09:29:42.549Z"
   },
   {
    "duration": 6,
    "start_time": "2021-12-09T09:30:33.813Z"
   },
   {
    "duration": 6,
    "start_time": "2021-12-09T09:31:14.876Z"
   },
   {
    "duration": 7,
    "start_time": "2021-12-09T09:31:50.259Z"
   },
   {
    "duration": 665,
    "start_time": "2021-12-09T09:33:43.925Z"
   },
   {
    "duration": 7,
    "start_time": "2021-12-09T09:34:12.249Z"
   },
   {
    "duration": 37,
    "start_time": "2021-12-09T09:34:34.043Z"
   },
   {
    "duration": 6,
    "start_time": "2021-12-09T09:35:03.078Z"
   },
   {
    "duration": 5,
    "start_time": "2021-12-09T09:36:04.224Z"
   },
   {
    "duration": 8,
    "start_time": "2021-12-09T09:36:24.801Z"
   },
   {
    "duration": 39,
    "start_time": "2021-12-09T09:37:12.306Z"
   },
   {
    "duration": 34,
    "start_time": "2021-12-09T09:37:29.940Z"
   },
   {
    "duration": 84,
    "start_time": "2021-12-09T09:37:42.837Z"
   },
   {
    "duration": 34,
    "start_time": "2021-12-09T09:37:51.987Z"
   },
   {
    "duration": 7,
    "start_time": "2021-12-09T09:39:40.075Z"
   },
   {
    "duration": 8,
    "start_time": "2021-12-09T09:39:48.628Z"
   },
   {
    "duration": 6,
    "start_time": "2021-12-09T09:42:15.437Z"
   },
   {
    "duration": 7,
    "start_time": "2021-12-09T09:45:01.227Z"
   },
   {
    "duration": 14,
    "start_time": "2021-12-09T09:47:52.576Z"
   },
   {
    "duration": 8,
    "start_time": "2021-12-09T09:48:08.520Z"
   },
   {
    "duration": 7,
    "start_time": "2021-12-09T09:51:56.042Z"
   },
   {
    "duration": 8,
    "start_time": "2021-12-09T09:52:17.627Z"
   },
   {
    "duration": 7024,
    "start_time": "2021-12-09T09:55:23.539Z"
   },
   {
    "duration": 7,
    "start_time": "2021-12-09T09:55:51.775Z"
   },
   {
    "duration": 30,
    "start_time": "2021-12-09T10:11:53.055Z"
   },
   {
    "duration": 54,
    "start_time": "2021-12-09T10:11:55.364Z"
   },
   {
    "duration": 5,
    "start_time": "2021-12-09T10:12:28.640Z"
   },
   {
    "duration": 118,
    "start_time": "2021-12-09T10:12:28.655Z"
   },
   {
    "duration": 56,
    "start_time": "2021-12-09T10:12:28.776Z"
   },
   {
    "duration": 136,
    "start_time": "2021-12-09T10:12:28.835Z"
   },
   {
    "duration": 14,
    "start_time": "2021-12-09T10:12:28.974Z"
   },
   {
    "duration": 63,
    "start_time": "2021-12-09T10:12:28.991Z"
   },
   {
    "duration": 6,
    "start_time": "2021-12-09T10:12:29.056Z"
   },
   {
    "duration": 28,
    "start_time": "2021-12-09T10:12:29.064Z"
   },
   {
    "duration": 32,
    "start_time": "2021-12-09T10:12:29.095Z"
   },
   {
    "duration": 22,
    "start_time": "2021-12-09T10:12:29.130Z"
   },
   {
    "duration": 25,
    "start_time": "2021-12-09T10:12:29.155Z"
   },
   {
    "duration": 16,
    "start_time": "2021-12-09T10:12:29.182Z"
   },
   {
    "duration": 53,
    "start_time": "2021-12-09T10:12:29.201Z"
   },
   {
    "duration": 10,
    "start_time": "2021-12-09T10:12:29.257Z"
   },
   {
    "duration": 24,
    "start_time": "2021-12-09T10:12:29.269Z"
   },
   {
    "duration": 52,
    "start_time": "2021-12-09T10:12:29.295Z"
   },
   {
    "duration": 12,
    "start_time": "2021-12-09T10:12:29.350Z"
   },
   {
    "duration": 54,
    "start_time": "2021-12-09T10:12:29.364Z"
   },
   {
    "duration": 22,
    "start_time": "2021-12-09T10:12:29.423Z"
   },
   {
    "duration": 33,
    "start_time": "2021-12-09T10:12:29.447Z"
   },
   {
    "duration": 14,
    "start_time": "2021-12-09T10:12:29.482Z"
   },
   {
    "duration": 39,
    "start_time": "2021-12-09T10:12:29.498Z"
   },
   {
    "duration": 19,
    "start_time": "2021-12-09T10:12:29.539Z"
   },
   {
    "duration": 22,
    "start_time": "2021-12-09T10:12:29.564Z"
   },
   {
    "duration": 28,
    "start_time": "2021-12-09T10:12:29.589Z"
   },
   {
    "duration": 13,
    "start_time": "2021-12-09T10:12:29.620Z"
   },
   {
    "duration": 23,
    "start_time": "2021-12-09T10:12:29.635Z"
   },
   {
    "duration": 47,
    "start_time": "2021-12-09T10:12:29.661Z"
   },
   {
    "duration": 16,
    "start_time": "2021-12-09T10:12:29.710Z"
   },
   {
    "duration": 15,
    "start_time": "2021-12-09T10:12:29.728Z"
   },
   {
    "duration": 22,
    "start_time": "2021-12-09T10:12:29.745Z"
   },
   {
    "duration": 2169,
    "start_time": "2021-12-09T10:12:29.770Z"
   },
   {
    "duration": 7,
    "start_time": "2021-12-09T10:12:31.941Z"
   },
   {
    "duration": 11,
    "start_time": "2021-12-09T10:12:31.951Z"
   },
   {
    "duration": 5,
    "start_time": "2021-12-09T10:12:31.964Z"
   },
   {
    "duration": 63,
    "start_time": "2021-12-09T10:12:31.971Z"
   },
   {
    "duration": 5,
    "start_time": "2021-12-09T10:12:32.036Z"
   },
   {
    "duration": 7,
    "start_time": "2021-12-09T10:12:32.044Z"
   },
   {
    "duration": 6,
    "start_time": "2021-12-09T10:12:32.053Z"
   },
   {
    "duration": 8,
    "start_time": "2021-12-09T10:12:32.061Z"
   },
   {
    "duration": 6,
    "start_time": "2021-12-09T10:12:32.071Z"
   },
   {
    "duration": 9,
    "start_time": "2021-12-09T10:12:32.125Z"
   },
   {
    "duration": 6,
    "start_time": "2021-12-09T10:12:32.136Z"
   },
   {
    "duration": 8,
    "start_time": "2021-12-09T10:12:32.144Z"
   },
   {
    "duration": 7,
    "start_time": "2021-12-09T10:12:32.155Z"
   },
   {
    "duration": 7,
    "start_time": "2021-12-09T10:12:32.164Z"
   },
   {
    "duration": 52,
    "start_time": "2021-12-09T10:12:32.173Z"
   },
   {
    "duration": 10,
    "start_time": "2021-12-09T10:12:32.227Z"
   },
   {
    "duration": 9,
    "start_time": "2021-12-09T10:12:32.240Z"
   },
   {
    "duration": 8,
    "start_time": "2021-12-09T10:12:32.251Z"
   },
   {
    "duration": 15,
    "start_time": "2021-12-09T10:12:32.262Z"
   },
   {
    "duration": 14,
    "start_time": "2021-12-09T10:12:32.279Z"
   },
   {
    "duration": 4429,
    "start_time": "2021-12-09T10:12:32.295Z"
   },
   {
    "duration": 6,
    "start_time": "2021-12-09T10:12:36.727Z"
   },
   {
    "duration": 65,
    "start_time": "2021-12-09T10:12:36.735Z"
   },
   {
    "duration": 35,
    "start_time": "2021-12-09T10:12:36.802Z"
   },
   {
    "duration": 338,
    "start_time": "2021-12-09T10:17:25.791Z"
   },
   {
    "duration": 5,
    "start_time": "2021-12-09T10:20:20.769Z"
   },
   {
    "duration": 941,
    "start_time": "2021-12-09T10:20:42.284Z"
   },
   {
    "duration": 39,
    "start_time": "2021-12-09T10:21:07.028Z"
   },
   {
    "duration": 7,
    "start_time": "2021-12-09T10:21:40.121Z"
   },
   {
    "duration": 8,
    "start_time": "2021-12-09T10:22:06.611Z"
   },
   {
    "duration": 8,
    "start_time": "2021-12-09T10:23:12.036Z"
   },
   {
    "duration": 7,
    "start_time": "2021-12-09T10:26:39.086Z"
   },
   {
    "duration": 7,
    "start_time": "2021-12-09T10:26:58.609Z"
   },
   {
    "duration": 7,
    "start_time": "2021-12-09T10:27:44.677Z"
   },
   {
    "duration": 8,
    "start_time": "2021-12-09T10:27:47.077Z"
   },
   {
    "duration": 16,
    "start_time": "2021-12-09T10:32:59.435Z"
   },
   {
    "duration": 9,
    "start_time": "2021-12-09T10:33:39.810Z"
   },
   {
    "duration": 9,
    "start_time": "2021-12-09T10:34:37.808Z"
   },
   {
    "duration": 9,
    "start_time": "2021-12-09T10:34:50.535Z"
   },
   {
    "duration": 37,
    "start_time": "2021-12-09T10:37:25.105Z"
   },
   {
    "duration": 15,
    "start_time": "2021-12-09T11:51:56.521Z"
   },
   {
    "duration": 8,
    "start_time": "2021-12-09T11:52:03.582Z"
   },
   {
    "duration": 6,
    "start_time": "2021-12-09T11:52:13.591Z"
   },
   {
    "duration": 147,
    "start_time": "2021-12-09T11:52:13.604Z"
   },
   {
    "duration": 40,
    "start_time": "2021-12-09T11:52:13.754Z"
   },
   {
    "duration": 153,
    "start_time": "2021-12-09T11:52:13.796Z"
   },
   {
    "duration": 15,
    "start_time": "2021-12-09T11:52:13.952Z"
   },
   {
    "duration": 68,
    "start_time": "2021-12-09T11:52:13.970Z"
   },
   {
    "duration": 7,
    "start_time": "2021-12-09T11:52:14.041Z"
   },
   {
    "duration": 5,
    "start_time": "2021-12-09T11:52:14.050Z"
   },
   {
    "duration": 8,
    "start_time": "2021-12-09T11:52:14.059Z"
   },
   {
    "duration": 15,
    "start_time": "2021-12-09T11:52:14.070Z"
   },
   {
    "duration": 13,
    "start_time": "2021-12-09T11:52:14.123Z"
   },
   {
    "duration": 8,
    "start_time": "2021-12-09T11:52:14.138Z"
   },
   {
    "duration": 38,
    "start_time": "2021-12-09T11:52:14.148Z"
   },
   {
    "duration": 42,
    "start_time": "2021-12-09T11:52:14.188Z"
   },
   {
    "duration": 13,
    "start_time": "2021-12-09T11:52:14.232Z"
   },
   {
    "duration": 35,
    "start_time": "2021-12-09T11:52:14.248Z"
   },
   {
    "duration": 12,
    "start_time": "2021-12-09T11:52:14.285Z"
   },
   {
    "duration": 35,
    "start_time": "2021-12-09T11:52:14.323Z"
   },
   {
    "duration": 6,
    "start_time": "2021-12-09T11:52:14.360Z"
   },
   {
    "duration": 18,
    "start_time": "2021-12-09T11:52:14.368Z"
   },
   {
    "duration": 40,
    "start_time": "2021-12-09T11:52:14.388Z"
   },
   {
    "duration": 21,
    "start_time": "2021-12-09T11:52:14.430Z"
   },
   {
    "duration": 7,
    "start_time": "2021-12-09T11:52:14.454Z"
   },
   {
    "duration": 6,
    "start_time": "2021-12-09T11:52:14.468Z"
   },
   {
    "duration": 49,
    "start_time": "2021-12-09T11:52:14.477Z"
   },
   {
    "duration": 7,
    "start_time": "2021-12-09T11:52:14.528Z"
   },
   {
    "duration": 14,
    "start_time": "2021-12-09T11:52:14.538Z"
   },
   {
    "duration": 68,
    "start_time": "2021-12-09T11:52:14.555Z"
   },
   {
    "duration": 8,
    "start_time": "2021-12-09T11:52:14.625Z"
   },
   {
    "duration": 9,
    "start_time": "2021-12-09T11:52:14.636Z"
   },
   {
    "duration": 7,
    "start_time": "2021-12-09T11:52:14.648Z"
   },
   {
    "duration": 2249,
    "start_time": "2021-12-09T11:52:14.658Z"
   },
   {
    "duration": 15,
    "start_time": "2021-12-09T11:52:16.910Z"
   },
   {
    "duration": 8,
    "start_time": "2021-12-09T11:52:16.928Z"
   },
   {
    "duration": 6,
    "start_time": "2021-12-09T11:52:16.939Z"
   },
   {
    "duration": 36,
    "start_time": "2021-12-09T11:52:16.948Z"
   },
   {
    "duration": 8,
    "start_time": "2021-12-09T11:52:17.023Z"
   },
   {
    "duration": 17,
    "start_time": "2021-12-09T11:52:17.033Z"
   },
   {
    "duration": 6,
    "start_time": "2021-12-09T11:52:17.052Z"
   },
   {
    "duration": 8,
    "start_time": "2021-12-09T11:52:17.061Z"
   },
   {
    "duration": 6,
    "start_time": "2021-12-09T11:52:17.071Z"
   },
   {
    "duration": 50,
    "start_time": "2021-12-09T11:52:17.080Z"
   },
   {
    "duration": 8,
    "start_time": "2021-12-09T11:52:17.133Z"
   },
   {
    "duration": 13,
    "start_time": "2021-12-09T11:52:17.143Z"
   },
   {
    "duration": 6,
    "start_time": "2021-12-09T11:52:17.159Z"
   },
   {
    "duration": 7,
    "start_time": "2021-12-09T11:52:17.168Z"
   },
   {
    "duration": 49,
    "start_time": "2021-12-09T11:52:17.177Z"
   },
   {
    "duration": 8,
    "start_time": "2021-12-09T11:52:17.228Z"
   },
   {
    "duration": 8,
    "start_time": "2021-12-09T11:52:17.238Z"
   },
   {
    "duration": 10,
    "start_time": "2021-12-09T11:52:17.248Z"
   },
   {
    "duration": 9,
    "start_time": "2021-12-09T11:52:17.260Z"
   },
   {
    "duration": 7,
    "start_time": "2021-12-09T11:52:17.272Z"
   },
   {
    "duration": 14,
    "start_time": "2021-12-09T11:52:17.325Z"
   },
   {
    "duration": 10,
    "start_time": "2021-12-09T11:52:17.342Z"
   },
   {
    "duration": 32,
    "start_time": "2021-12-09T11:52:17.354Z"
   },
   {
    "duration": 63,
    "start_time": "2021-12-09T11:52:17.389Z"
   },
   {
    "duration": 4,
    "start_time": "2021-12-09T11:52:17.455Z"
   },
   {
    "duration": 1112,
    "start_time": "2021-12-09T11:52:17.462Z"
   },
   {
    "duration": 47,
    "start_time": "2021-12-09T11:52:18.576Z"
   },
   {
    "duration": 18,
    "start_time": "2021-12-09T11:52:18.626Z"
   },
   {
    "duration": 29,
    "start_time": "2021-12-09T11:52:18.647Z"
   },
   {
    "duration": 22,
    "start_time": "2021-12-09T11:52:18.678Z"
   },
   {
    "duration": 63,
    "start_time": "2021-12-09T11:52:18.703Z"
   },
   {
    "duration": 43,
    "start_time": "2021-12-09T12:00:58.301Z"
   },
   {
    "duration": 207,
    "start_time": "2021-12-09T12:04:16.668Z"
   },
   {
    "duration": 5022,
    "start_time": "2021-12-09T12:05:08.896Z"
   },
   {
    "duration": 266,
    "start_time": "2021-12-09T12:08:30.395Z"
   },
   {
    "duration": 243,
    "start_time": "2021-12-09T12:08:39.967Z"
   },
   {
    "duration": 299,
    "start_time": "2021-12-09T12:08:51.254Z"
   },
   {
    "duration": 988,
    "start_time": "2021-12-09T12:13:36.861Z"
   },
   {
    "duration": 301,
    "start_time": "2021-12-09T12:14:04.735Z"
   },
   {
    "duration": 1068,
    "start_time": "2021-12-09T12:14:14.281Z"
   },
   {
    "duration": 6,
    "start_time": "2021-12-09T12:25:52.201Z"
   },
   {
    "duration": 7,
    "start_time": "2021-12-09T12:26:35.329Z"
   },
   {
    "duration": 6,
    "start_time": "2021-12-09T12:27:24.253Z"
   },
   {
    "duration": 2125,
    "start_time": "2021-12-09T12:28:09.060Z"
   },
   {
    "duration": 91,
    "start_time": "2021-12-09T12:28:26.066Z"
   },
   {
    "duration": 567,
    "start_time": "2021-12-09T12:28:32.602Z"
   },
   {
    "duration": 6,
    "start_time": "2021-12-09T12:29:45.433Z"
   },
   {
    "duration": 427,
    "start_time": "2021-12-09T12:29:49.475Z"
   },
   {
    "duration": 16,
    "start_time": "2021-12-09T12:30:23.572Z"
   },
   {
    "duration": 330,
    "start_time": "2021-12-09T12:31:00.546Z"
   },
   {
    "duration": 19,
    "start_time": "2021-12-09T12:31:22.709Z"
   },
   {
    "duration": 17,
    "start_time": "2021-12-09T12:31:42.117Z"
   },
   {
    "duration": 18,
    "start_time": "2021-12-09T12:31:52.538Z"
   },
   {
    "duration": 16,
    "start_time": "2021-12-09T12:31:59.248Z"
   },
   {
    "duration": 340,
    "start_time": "2021-12-09T12:32:07.249Z"
   },
   {
    "duration": 358,
    "start_time": "2021-12-09T12:32:47.773Z"
   },
   {
    "duration": 371,
    "start_time": "2021-12-09T12:33:02.434Z"
   },
   {
    "duration": 349,
    "start_time": "2021-12-09T12:33:31.910Z"
   },
   {
    "duration": 19,
    "start_time": "2021-12-09T12:34:44.442Z"
   },
   {
    "duration": 345,
    "start_time": "2021-12-09T12:35:43.082Z"
   },
   {
    "duration": 371,
    "start_time": "2021-12-09T12:36:14.027Z"
   },
   {
    "duration": 383,
    "start_time": "2021-12-09T12:36:33.997Z"
   },
   {
    "duration": 18,
    "start_time": "2021-12-09T12:38:18.474Z"
   },
   {
    "duration": 17,
    "start_time": "2021-12-09T12:41:17.495Z"
   },
   {
    "duration": 17,
    "start_time": "2021-12-09T12:41:52.522Z"
   },
   {
    "duration": 351,
    "start_time": "2021-12-09T12:41:54.835Z"
   },
   {
    "duration": 19,
    "start_time": "2021-12-09T12:42:02.753Z"
   },
   {
    "duration": 362,
    "start_time": "2021-12-09T12:42:04.178Z"
   },
   {
    "duration": 18,
    "start_time": "2021-12-09T12:42:12.327Z"
   },
   {
    "duration": 94,
    "start_time": "2021-12-09T12:57:22.883Z"
   },
   {
    "duration": 347,
    "start_time": "2021-12-09T12:57:41.137Z"
   },
   {
    "duration": 122,
    "start_time": "2021-12-09T13:04:17.193Z"
   },
   {
    "duration": 102,
    "start_time": "2021-12-09T13:04:25.327Z"
   },
   {
    "duration": 96,
    "start_time": "2021-12-09T13:04:42.639Z"
   },
   {
    "duration": 311,
    "start_time": "2021-12-10T07:04:20.705Z"
   },
   {
    "duration": 660,
    "start_time": "2021-12-10T07:04:34.791Z"
   },
   {
    "duration": 91,
    "start_time": "2021-12-10T07:04:35.453Z"
   },
   {
    "duration": 24,
    "start_time": "2021-12-10T07:04:35.546Z"
   },
   {
    "duration": 78,
    "start_time": "2021-12-10T07:04:35.572Z"
   },
   {
    "duration": 9,
    "start_time": "2021-12-10T07:04:35.651Z"
   },
   {
    "duration": 37,
    "start_time": "2021-12-10T07:04:35.662Z"
   },
   {
    "duration": 3,
    "start_time": "2021-12-10T07:04:35.701Z"
   },
   {
    "duration": 5,
    "start_time": "2021-12-10T07:04:35.706Z"
   },
   {
    "duration": 5,
    "start_time": "2021-12-10T07:04:35.713Z"
   },
   {
    "duration": 11,
    "start_time": "2021-12-10T07:04:35.719Z"
   },
   {
    "duration": 10,
    "start_time": "2021-12-10T07:04:35.732Z"
   },
   {
    "duration": 5,
    "start_time": "2021-12-10T07:04:35.744Z"
   },
   {
    "duration": 52,
    "start_time": "2021-12-10T07:04:35.750Z"
   },
   {
    "duration": 6,
    "start_time": "2021-12-10T07:04:35.804Z"
   },
   {
    "duration": 13,
    "start_time": "2021-12-10T07:04:35.812Z"
   },
   {
    "duration": 23,
    "start_time": "2021-12-10T07:04:35.826Z"
   },
   {
    "duration": 11,
    "start_time": "2021-12-10T07:04:35.851Z"
   },
   {
    "duration": 45,
    "start_time": "2021-12-10T07:04:35.863Z"
   },
   {
    "duration": 4,
    "start_time": "2021-12-10T07:04:35.910Z"
   },
   {
    "duration": 17,
    "start_time": "2021-12-10T07:04:35.916Z"
   },
   {
    "duration": 9,
    "start_time": "2021-12-10T07:04:35.935Z"
   },
   {
    "duration": 12,
    "start_time": "2021-12-10T07:04:35.946Z"
   },
   {
    "duration": 5,
    "start_time": "2021-12-10T07:04:35.962Z"
   },
   {
    "duration": 5,
    "start_time": "2021-12-10T07:04:35.992Z"
   },
   {
    "duration": 13,
    "start_time": "2021-12-10T07:04:35.999Z"
   },
   {
    "duration": 5,
    "start_time": "2021-12-10T07:04:36.013Z"
   },
   {
    "duration": 10,
    "start_time": "2021-12-10T07:04:36.019Z"
   },
   {
    "duration": 23,
    "start_time": "2021-12-10T07:04:36.031Z"
   },
   {
    "duration": 4,
    "start_time": "2021-12-10T07:04:36.055Z"
   },
   {
    "duration": 32,
    "start_time": "2021-12-10T07:04:36.061Z"
   },
   {
    "duration": 4,
    "start_time": "2021-12-10T07:04:36.094Z"
   },
   {
    "duration": 1407,
    "start_time": "2021-12-10T07:04:36.100Z"
   },
   {
    "duration": 4,
    "start_time": "2021-12-10T07:04:37.509Z"
   },
   {
    "duration": 6,
    "start_time": "2021-12-10T07:04:37.515Z"
   },
   {
    "duration": 6,
    "start_time": "2021-12-10T07:04:37.522Z"
   },
   {
    "duration": 22,
    "start_time": "2021-12-10T07:04:37.529Z"
   },
   {
    "duration": 4,
    "start_time": "2021-12-10T07:04:37.552Z"
   },
   {
    "duration": 35,
    "start_time": "2021-12-10T07:04:37.558Z"
   },
   {
    "duration": 4,
    "start_time": "2021-12-10T07:04:37.594Z"
   },
   {
    "duration": 7,
    "start_time": "2021-12-10T07:04:37.599Z"
   },
   {
    "duration": 7,
    "start_time": "2021-12-10T07:04:37.608Z"
   },
   {
    "duration": 9,
    "start_time": "2021-12-10T07:04:37.617Z"
   },
   {
    "duration": 4,
    "start_time": "2021-12-10T07:04:37.628Z"
   },
   {
    "duration": 6,
    "start_time": "2021-12-10T07:04:37.633Z"
   },
   {
    "duration": 6,
    "start_time": "2021-12-10T07:04:37.640Z"
   },
   {
    "duration": 5,
    "start_time": "2021-12-10T07:04:37.648Z"
   },
   {
    "duration": 5,
    "start_time": "2021-12-10T07:04:37.654Z"
   },
   {
    "duration": 5,
    "start_time": "2021-12-10T07:04:37.691Z"
   },
   {
    "duration": 5,
    "start_time": "2021-12-10T07:04:37.697Z"
   },
   {
    "duration": 4,
    "start_time": "2021-12-10T07:04:37.704Z"
   },
   {
    "duration": 6,
    "start_time": "2021-12-10T07:04:37.710Z"
   },
   {
    "duration": 8,
    "start_time": "2021-12-10T07:04:37.717Z"
   },
   {
    "duration": 9,
    "start_time": "2021-12-10T07:04:37.726Z"
   },
   {
    "duration": 4,
    "start_time": "2021-12-10T07:04:37.736Z"
   },
   {
    "duration": 52,
    "start_time": "2021-12-10T07:04:37.741Z"
   },
   {
    "duration": 22,
    "start_time": "2021-12-10T07:04:37.794Z"
   },
   {
    "duration": 2,
    "start_time": "2021-12-10T07:04:37.818Z"
   },
   {
    "duration": 570,
    "start_time": "2021-12-10T07:04:37.822Z"
   },
   {
    "duration": 21,
    "start_time": "2021-12-10T07:04:38.394Z"
   },
   {
    "duration": 5,
    "start_time": "2021-12-10T07:04:38.417Z"
   },
   {
    "duration": 7,
    "start_time": "2021-12-10T07:04:38.424Z"
   },
   {
    "duration": 6,
    "start_time": "2021-12-10T07:04:38.432Z"
   },
   {
    "duration": 21,
    "start_time": "2021-12-10T07:04:38.439Z"
   },
   {
    "duration": 51,
    "start_time": "2021-12-10T07:04:38.461Z"
   },
   {
    "duration": 4,
    "start_time": "2021-12-10T07:04:38.514Z"
   },
   {
    "duration": 264,
    "start_time": "2021-12-10T07:04:38.520Z"
   },
   {
    "duration": 15,
    "start_time": "2021-12-10T07:04:38.786Z"
   },
   {
    "duration": 212,
    "start_time": "2021-12-10T07:04:38.805Z"
   },
   {
    "duration": 12,
    "start_time": "2021-12-10T07:04:39.018Z"
   },
   {
    "duration": 227,
    "start_time": "2021-12-10T07:04:39.032Z"
   },
   {
    "duration": 13,
    "start_time": "2021-12-10T07:04:39.261Z"
   },
   {
    "duration": 245,
    "start_time": "2021-12-10T07:04:39.275Z"
   },
   {
    "duration": 14,
    "start_time": "2021-12-10T07:04:39.521Z"
   },
   {
    "duration": 263,
    "start_time": "2021-12-10T07:04:39.536Z"
   },
   {
    "duration": 29,
    "start_time": "2021-12-10T07:47:53.772Z"
   },
   {
    "duration": 28,
    "start_time": "2021-12-10T07:48:10.090Z"
   },
   {
    "duration": 40,
    "start_time": "2021-12-10T07:49:38.460Z"
   },
   {
    "duration": 3,
    "start_time": "2021-12-10T07:55:05.093Z"
   },
   {
    "duration": 128,
    "start_time": "2021-12-10T07:55:05.103Z"
   },
   {
    "duration": 26,
    "start_time": "2021-12-10T07:55:05.233Z"
   },
   {
    "duration": 97,
    "start_time": "2021-12-10T07:55:05.261Z"
   },
   {
    "duration": 31,
    "start_time": "2021-12-10T07:55:05.360Z"
   },
   {
    "duration": 23,
    "start_time": "2021-12-10T07:55:05.393Z"
   },
   {
    "duration": 4,
    "start_time": "2021-12-10T07:55:05.418Z"
   },
   {
    "duration": 5,
    "start_time": "2021-12-10T07:55:05.423Z"
   },
   {
    "duration": 6,
    "start_time": "2021-12-10T07:55:05.430Z"
   },
   {
    "duration": 10,
    "start_time": "2021-12-10T07:55:05.438Z"
   },
   {
    "duration": 43,
    "start_time": "2021-12-10T07:55:05.449Z"
   },
   {
    "duration": 6,
    "start_time": "2021-12-10T07:55:05.493Z"
   },
   {
    "duration": 29,
    "start_time": "2021-12-10T07:55:05.501Z"
   },
   {
    "duration": 8,
    "start_time": "2021-12-10T07:55:05.532Z"
   },
   {
    "duration": 8,
    "start_time": "2021-12-10T07:55:05.541Z"
   },
   {
    "duration": 49,
    "start_time": "2021-12-10T07:55:05.550Z"
   },
   {
    "duration": 9,
    "start_time": "2021-12-10T07:55:05.600Z"
   },
   {
    "duration": 22,
    "start_time": "2021-12-10T07:55:05.610Z"
   },
   {
    "duration": 5,
    "start_time": "2021-12-10T07:55:05.634Z"
   },
   {
    "duration": 15,
    "start_time": "2021-12-10T07:55:05.640Z"
   },
   {
    "duration": 37,
    "start_time": "2021-12-10T07:55:05.656Z"
   },
   {
    "duration": 16,
    "start_time": "2021-12-10T07:55:05.695Z"
   },
   {
    "duration": 9,
    "start_time": "2021-12-10T07:55:05.712Z"
   },
   {
    "duration": 14,
    "start_time": "2021-12-10T07:55:05.725Z"
   },
   {
    "duration": 22,
    "start_time": "2021-12-10T07:55:05.742Z"
   },
   {
    "duration": 31,
    "start_time": "2021-12-10T07:55:05.766Z"
   },
   {
    "duration": 49,
    "start_time": "2021-12-10T07:55:05.799Z"
   },
   {
    "duration": 57,
    "start_time": "2021-12-10T07:55:05.850Z"
   },
   {
    "duration": 25,
    "start_time": "2021-12-10T07:55:05.909Z"
   },
   {
    "duration": 41,
    "start_time": "2021-12-10T07:55:05.935Z"
   },
   {
    "duration": 22,
    "start_time": "2021-12-10T07:55:05.978Z"
   },
   {
    "duration": 1435,
    "start_time": "2021-12-10T07:55:06.001Z"
   },
   {
    "duration": 4,
    "start_time": "2021-12-10T07:55:07.437Z"
   },
   {
    "duration": 25,
    "start_time": "2021-12-10T07:55:07.442Z"
   },
   {
    "duration": 32,
    "start_time": "2021-12-10T07:55:07.468Z"
   },
   {
    "duration": 40,
    "start_time": "2021-12-10T07:55:07.502Z"
   },
   {
    "duration": 23,
    "start_time": "2021-12-10T07:55:07.543Z"
   },
   {
    "duration": 38,
    "start_time": "2021-12-10T07:55:07.567Z"
   },
   {
    "duration": 29,
    "start_time": "2021-12-10T07:55:07.607Z"
   },
   {
    "duration": 20,
    "start_time": "2021-12-10T07:55:07.637Z"
   },
   {
    "duration": 11,
    "start_time": "2021-12-10T07:55:07.658Z"
   },
   {
    "duration": 22,
    "start_time": "2021-12-10T07:55:07.671Z"
   },
   {
    "duration": 13,
    "start_time": "2021-12-10T07:55:07.695Z"
   },
   {
    "duration": 24,
    "start_time": "2021-12-10T07:55:07.710Z"
   },
   {
    "duration": 37,
    "start_time": "2021-12-10T07:55:07.736Z"
   },
   {
    "duration": 21,
    "start_time": "2021-12-10T07:55:07.775Z"
   },
   {
    "duration": 28,
    "start_time": "2021-12-10T07:55:07.798Z"
   },
   {
    "duration": 34,
    "start_time": "2021-12-10T07:55:07.827Z"
   },
   {
    "duration": 21,
    "start_time": "2021-12-10T07:55:07.863Z"
   },
   {
    "duration": 27,
    "start_time": "2021-12-10T07:55:07.885Z"
   },
   {
    "duration": 33,
    "start_time": "2021-12-10T07:55:07.913Z"
   },
   {
    "duration": 31,
    "start_time": "2021-12-10T07:55:07.948Z"
   },
   {
    "duration": 28,
    "start_time": "2021-12-10T07:55:07.980Z"
   },
   {
    "duration": 38,
    "start_time": "2021-12-10T07:55:08.010Z"
   },
   {
    "duration": 52,
    "start_time": "2021-12-10T07:55:08.049Z"
   },
   {
    "duration": 47,
    "start_time": "2021-12-10T07:55:08.102Z"
   },
   {
    "duration": 26,
    "start_time": "2021-12-10T07:55:08.150Z"
   },
   {
    "duration": 563,
    "start_time": "2021-12-10T07:55:08.177Z"
   },
   {
    "duration": 22,
    "start_time": "2021-12-10T07:55:08.742Z"
   },
   {
    "duration": 21,
    "start_time": "2021-12-10T07:55:08.766Z"
   },
   {
    "duration": 37,
    "start_time": "2021-12-10T07:55:08.789Z"
   },
   {
    "duration": 31,
    "start_time": "2021-12-10T07:55:08.828Z"
   },
   {
    "duration": 45,
    "start_time": "2021-12-10T07:55:08.860Z"
   },
   {
    "duration": 40,
    "start_time": "2021-12-10T07:55:08.907Z"
   },
   {
    "duration": 4,
    "start_time": "2021-12-10T07:55:08.949Z"
   },
   {
    "duration": 238,
    "start_time": "2021-12-10T07:55:08.954Z"
   },
   {
    "duration": 12,
    "start_time": "2021-12-10T07:55:09.194Z"
   },
   {
    "duration": 231,
    "start_time": "2021-12-10T07:55:09.207Z"
   },
   {
    "duration": 12,
    "start_time": "2021-12-10T07:55:09.443Z"
   },
   {
    "duration": 236,
    "start_time": "2021-12-10T07:55:09.457Z"
   },
   {
    "duration": 13,
    "start_time": "2021-12-10T07:55:09.694Z"
   },
   {
    "duration": 294,
    "start_time": "2021-12-10T07:55:09.708Z"
   },
   {
    "duration": 13,
    "start_time": "2021-12-10T07:55:10.004Z"
   },
   {
    "duration": 44,
    "start_time": "2021-12-10T07:55:10.018Z"
   },
   {
    "duration": 1414,
    "start_time": "2021-12-10T07:58:07.684Z"
   },
   {
    "duration": 3,
    "start_time": "2021-12-10T07:58:17.343Z"
   },
   {
    "duration": 108,
    "start_time": "2021-12-10T07:58:17.352Z"
   },
   {
    "duration": 49,
    "start_time": "2021-12-10T07:58:17.463Z"
   },
   {
    "duration": 94,
    "start_time": "2021-12-10T07:58:17.514Z"
   },
   {
    "duration": 10,
    "start_time": "2021-12-10T07:58:17.610Z"
   },
   {
    "duration": 23,
    "start_time": "2021-12-10T07:58:17.621Z"
   },
   {
    "duration": 4,
    "start_time": "2021-12-10T07:58:17.646Z"
   },
   {
    "duration": 5,
    "start_time": "2021-12-10T07:58:17.651Z"
   },
   {
    "duration": 34,
    "start_time": "2021-12-10T07:58:17.659Z"
   },
   {
    "duration": 10,
    "start_time": "2021-12-10T07:58:17.695Z"
   },
   {
    "duration": 9,
    "start_time": "2021-12-10T07:58:17.707Z"
   },
   {
    "duration": 6,
    "start_time": "2021-12-10T07:58:17.718Z"
   },
   {
    "duration": 26,
    "start_time": "2021-12-10T07:58:17.725Z"
   },
   {
    "duration": 42,
    "start_time": "2021-12-10T07:58:17.752Z"
   },
   {
    "duration": 6,
    "start_time": "2021-12-10T07:58:17.796Z"
   },
   {
    "duration": 29,
    "start_time": "2021-12-10T07:58:17.804Z"
   },
   {
    "duration": 7,
    "start_time": "2021-12-10T07:58:17.835Z"
   },
   {
    "duration": 51,
    "start_time": "2021-12-10T07:58:17.843Z"
   },
   {
    "duration": 6,
    "start_time": "2021-12-10T07:58:17.896Z"
   },
   {
    "duration": 13,
    "start_time": "2021-12-10T07:58:17.904Z"
   },
   {
    "duration": 7,
    "start_time": "2021-12-10T07:58:17.919Z"
   },
   {
    "duration": 13,
    "start_time": "2021-12-10T07:58:17.927Z"
   },
   {
    "duration": 5,
    "start_time": "2021-12-10T07:58:17.942Z"
   },
   {
    "duration": 5,
    "start_time": "2021-12-10T07:58:17.950Z"
   },
   {
    "duration": 46,
    "start_time": "2021-12-10T07:58:17.957Z"
   },
   {
    "duration": 5,
    "start_time": "2021-12-10T07:58:18.005Z"
   },
   {
    "duration": 10,
    "start_time": "2021-12-10T07:58:18.011Z"
   },
   {
    "duration": 24,
    "start_time": "2021-12-10T07:58:18.023Z"
   },
   {
    "duration": 5,
    "start_time": "2021-12-10T07:58:18.048Z"
   },
   {
    "duration": 37,
    "start_time": "2021-12-10T07:58:18.054Z"
   },
   {
    "duration": 5,
    "start_time": "2021-12-10T07:58:18.093Z"
   },
   {
    "duration": 1437,
    "start_time": "2021-12-10T07:58:18.100Z"
   },
   {
    "duration": 4,
    "start_time": "2021-12-10T07:58:19.538Z"
   },
   {
    "duration": 6,
    "start_time": "2021-12-10T07:58:19.544Z"
   },
   {
    "duration": 6,
    "start_time": "2021-12-10T07:58:19.552Z"
   },
   {
    "duration": 38,
    "start_time": "2021-12-10T07:58:19.560Z"
   },
   {
    "duration": 4,
    "start_time": "2021-12-10T07:58:19.600Z"
   },
   {
    "duration": 6,
    "start_time": "2021-12-10T07:58:19.605Z"
   },
   {
    "duration": 4,
    "start_time": "2021-12-10T07:58:19.613Z"
   },
   {
    "duration": 7,
    "start_time": "2021-12-10T07:58:19.618Z"
   },
   {
    "duration": 4,
    "start_time": "2021-12-10T07:58:19.627Z"
   },
   {
    "duration": 6,
    "start_time": "2021-12-10T07:58:19.632Z"
   },
   {
    "duration": 3,
    "start_time": "2021-12-10T07:58:19.639Z"
   },
   {
    "duration": 5,
    "start_time": "2021-12-10T07:58:19.644Z"
   },
   {
    "duration": 42,
    "start_time": "2021-12-10T07:58:19.650Z"
   },
   {
    "duration": 6,
    "start_time": "2021-12-10T07:58:19.694Z"
   },
   {
    "duration": 5,
    "start_time": "2021-12-10T07:58:19.701Z"
   },
   {
    "duration": 5,
    "start_time": "2021-12-10T07:58:19.707Z"
   },
   {
    "duration": 5,
    "start_time": "2021-12-10T07:58:19.713Z"
   },
   {
    "duration": 5,
    "start_time": "2021-12-10T07:58:19.719Z"
   },
   {
    "duration": 6,
    "start_time": "2021-12-10T07:58:19.725Z"
   },
   {
    "duration": 6,
    "start_time": "2021-12-10T07:58:19.732Z"
   },
   {
    "duration": 7,
    "start_time": "2021-12-10T07:58:19.740Z"
   },
   {
    "duration": 43,
    "start_time": "2021-12-10T07:58:19.748Z"
   },
   {
    "duration": 21,
    "start_time": "2021-12-10T07:58:19.793Z"
   },
   {
    "duration": 21,
    "start_time": "2021-12-10T07:58:19.816Z"
   },
   {
    "duration": 3,
    "start_time": "2021-12-10T07:58:19.839Z"
   },
   {
    "duration": 566,
    "start_time": "2021-12-10T07:58:19.843Z"
   },
   {
    "duration": 24,
    "start_time": "2021-12-10T07:58:20.411Z"
   },
   {
    "duration": 5,
    "start_time": "2021-12-10T07:58:20.437Z"
   },
   {
    "duration": 12,
    "start_time": "2021-12-10T07:58:20.443Z"
   },
   {
    "duration": 8,
    "start_time": "2021-12-10T07:58:20.456Z"
   },
   {
    "duration": 46,
    "start_time": "2021-12-10T07:58:20.465Z"
   },
   {
    "duration": 34,
    "start_time": "2021-12-10T07:58:20.512Z"
   },
   {
    "duration": 3,
    "start_time": "2021-12-10T07:58:20.548Z"
   },
   {
    "duration": 249,
    "start_time": "2021-12-10T07:58:20.553Z"
   },
   {
    "duration": 12,
    "start_time": "2021-12-10T07:58:20.804Z"
   },
   {
    "duration": 232,
    "start_time": "2021-12-10T07:58:20.817Z"
   },
   {
    "duration": 12,
    "start_time": "2021-12-10T07:58:21.054Z"
   },
   {
    "duration": 243,
    "start_time": "2021-12-10T07:58:21.068Z"
   },
   {
    "duration": 13,
    "start_time": "2021-12-10T07:58:21.312Z"
   },
   {
    "duration": 251,
    "start_time": "2021-12-10T07:58:21.327Z"
   },
   {
    "duration": 16,
    "start_time": "2021-12-10T07:58:21.579Z"
   },
   {
    "duration": 4,
    "start_time": "2021-12-10T08:02:34.088Z"
   },
   {
    "duration": 9,
    "start_time": "2021-12-10T08:07:04.939Z"
   },
   {
    "duration": 4585,
    "start_time": "2021-12-10T08:09:37.219Z"
   },
   {
    "duration": 4610,
    "start_time": "2021-12-10T08:09:48.470Z"
   },
   {
    "duration": 8,
    "start_time": "2021-12-10T08:10:08.837Z"
   },
   {
    "duration": 6,
    "start_time": "2021-12-10T08:15:42.500Z"
   },
   {
    "duration": 4,
    "start_time": "2021-12-10T08:16:19.156Z"
   },
   {
    "duration": 8,
    "start_time": "2021-12-10T08:16:39.043Z"
   },
   {
    "duration": 8,
    "start_time": "2021-12-10T08:16:44.618Z"
   },
   {
    "duration": 123,
    "start_time": "2021-12-10T08:41:09.335Z"
   },
   {
    "duration": 125,
    "start_time": "2021-12-10T08:41:14.015Z"
   },
   {
    "duration": 174,
    "start_time": "2021-12-10T08:41:35.618Z"
   },
   {
    "duration": 717,
    "start_time": "2021-12-10T08:41:48.161Z"
   },
   {
    "duration": 14,
    "start_time": "2021-12-10T08:42:44.401Z"
   },
   {
    "duration": 13,
    "start_time": "2021-12-10T08:43:09.283Z"
   },
   {
    "duration": 13,
    "start_time": "2021-12-10T08:45:42.928Z"
   },
   {
    "duration": 37,
    "start_time": "2021-12-10T08:48:46.698Z"
   },
   {
    "duration": 3,
    "start_time": "2021-12-10T08:56:54.355Z"
   },
   {
    "duration": 3,
    "start_time": "2021-12-10T08:57:04.783Z"
   },
   {
    "duration": 85,
    "start_time": "2021-12-10T08:57:04.793Z"
   },
   {
    "duration": 24,
    "start_time": "2021-12-10T08:57:04.880Z"
   },
   {
    "duration": 89,
    "start_time": "2021-12-10T08:57:04.906Z"
   },
   {
    "duration": 10,
    "start_time": "2021-12-10T08:57:04.997Z"
   },
   {
    "duration": 24,
    "start_time": "2021-12-10T08:57:05.009Z"
   },
   {
    "duration": 4,
    "start_time": "2021-12-10T08:57:05.035Z"
   },
   {
    "duration": 6,
    "start_time": "2021-12-10T08:57:05.040Z"
   },
   {
    "duration": 43,
    "start_time": "2021-12-10T08:57:05.049Z"
   },
   {
    "duration": 12,
    "start_time": "2021-12-10T08:57:05.095Z"
   },
   {
    "duration": 12,
    "start_time": "2021-12-10T08:57:05.108Z"
   },
   {
    "duration": 7,
    "start_time": "2021-12-10T08:57:05.121Z"
   },
   {
    "duration": 63,
    "start_time": "2021-12-10T08:57:05.129Z"
   },
   {
    "duration": 9,
    "start_time": "2021-12-10T08:57:05.194Z"
   },
   {
    "duration": 14,
    "start_time": "2021-12-10T08:57:05.205Z"
   },
   {
    "duration": 26,
    "start_time": "2021-12-10T08:57:05.221Z"
   },
   {
    "duration": 44,
    "start_time": "2021-12-10T08:57:05.249Z"
   },
   {
    "duration": 25,
    "start_time": "2021-12-10T08:57:05.294Z"
   },
   {
    "duration": 9,
    "start_time": "2021-12-10T08:57:05.321Z"
   },
   {
    "duration": 24,
    "start_time": "2021-12-10T08:57:05.332Z"
   },
   {
    "duration": 9,
    "start_time": "2021-12-10T08:57:05.358Z"
   },
   {
    "duration": 33,
    "start_time": "2021-12-10T08:57:05.369Z"
   },
   {
    "duration": 28,
    "start_time": "2021-12-10T08:57:05.403Z"
   },
   {
    "duration": 12,
    "start_time": "2021-12-10T08:57:05.435Z"
   },
   {
    "duration": 20,
    "start_time": "2021-12-10T08:57:05.450Z"
   },
   {
    "duration": 12,
    "start_time": "2021-12-10T08:57:05.472Z"
   },
   {
    "duration": 33,
    "start_time": "2021-12-10T08:57:05.486Z"
   },
   {
    "duration": 55,
    "start_time": "2021-12-10T08:57:05.521Z"
   },
   {
    "duration": 5,
    "start_time": "2021-12-10T08:57:05.578Z"
   },
   {
    "duration": 25,
    "start_time": "2021-12-10T08:57:05.585Z"
   },
   {
    "duration": 23,
    "start_time": "2021-12-10T08:57:05.612Z"
   },
   {
    "duration": 1449,
    "start_time": "2021-12-10T08:57:05.636Z"
   },
   {
    "duration": 6,
    "start_time": "2021-12-10T08:57:07.087Z"
   },
   {
    "duration": 34,
    "start_time": "2021-12-10T08:57:07.095Z"
   },
   {
    "duration": 19,
    "start_time": "2021-12-10T08:57:07.131Z"
   },
   {
    "duration": 56,
    "start_time": "2021-12-10T08:57:07.152Z"
   },
   {
    "duration": 9,
    "start_time": "2021-12-10T08:57:07.209Z"
   },
   {
    "duration": 30,
    "start_time": "2021-12-10T08:57:07.220Z"
   },
   {
    "duration": 20,
    "start_time": "2021-12-10T08:57:07.251Z"
   },
   {
    "duration": 25,
    "start_time": "2021-12-10T08:57:07.272Z"
   },
   {
    "duration": 19,
    "start_time": "2021-12-10T08:57:07.299Z"
   },
   {
    "duration": 15,
    "start_time": "2021-12-10T08:57:07.320Z"
   },
   {
    "duration": 9,
    "start_time": "2021-12-10T08:57:07.337Z"
   },
   {
    "duration": 28,
    "start_time": "2021-12-10T08:57:07.347Z"
   },
   {
    "duration": 17,
    "start_time": "2021-12-10T08:57:07.377Z"
   },
   {
    "duration": 15,
    "start_time": "2021-12-10T08:57:07.396Z"
   },
   {
    "duration": 24,
    "start_time": "2021-12-10T08:57:07.413Z"
   },
   {
    "duration": 12,
    "start_time": "2021-12-10T08:57:07.439Z"
   },
   {
    "duration": 26,
    "start_time": "2021-12-10T08:57:07.453Z"
   },
   {
    "duration": 26,
    "start_time": "2021-12-10T08:57:07.480Z"
   },
   {
    "duration": 17,
    "start_time": "2021-12-10T08:57:07.508Z"
   },
   {
    "duration": 33,
    "start_time": "2021-12-10T08:57:07.527Z"
   },
   {
    "duration": 27,
    "start_time": "2021-12-10T08:57:07.562Z"
   },
   {
    "duration": 17,
    "start_time": "2021-12-10T08:57:07.591Z"
   },
   {
    "duration": 54,
    "start_time": "2021-12-10T08:57:07.610Z"
   },
   {
    "duration": 33,
    "start_time": "2021-12-10T08:57:07.666Z"
   },
   {
    "duration": 22,
    "start_time": "2021-12-10T08:57:07.700Z"
   },
   {
    "duration": 579,
    "start_time": "2021-12-10T08:57:07.723Z"
   },
   {
    "duration": 22,
    "start_time": "2021-12-10T08:57:08.304Z"
   },
   {
    "duration": 18,
    "start_time": "2021-12-10T08:57:08.327Z"
   },
   {
    "duration": 26,
    "start_time": "2021-12-10T08:57:08.346Z"
   },
   {
    "duration": 25,
    "start_time": "2021-12-10T08:57:08.373Z"
   },
   {
    "duration": 42,
    "start_time": "2021-12-10T08:57:08.400Z"
   },
   {
    "duration": 30,
    "start_time": "2021-12-10T08:57:08.443Z"
   },
   {
    "duration": 4,
    "start_time": "2021-12-10T08:57:08.474Z"
   },
   {
    "duration": 240,
    "start_time": "2021-12-10T08:57:08.479Z"
   },
   {
    "duration": 12,
    "start_time": "2021-12-10T08:57:08.721Z"
   },
   {
    "duration": 225,
    "start_time": "2021-12-10T08:57:08.735Z"
   },
   {
    "duration": 12,
    "start_time": "2021-12-10T08:57:08.965Z"
   },
   {
    "duration": 234,
    "start_time": "2021-12-10T08:57:08.978Z"
   },
   {
    "duration": 12,
    "start_time": "2021-12-10T08:57:09.214Z"
   },
   {
    "duration": 246,
    "start_time": "2021-12-10T08:57:09.227Z"
   },
   {
    "duration": 20,
    "start_time": "2021-12-10T08:57:09.475Z"
   },
   {
    "duration": 131,
    "start_time": "2021-12-10T08:57:09.497Z"
   },
   {
    "duration": 748,
    "start_time": "2021-12-10T08:57:09.630Z"
   },
   {
    "duration": 20,
    "start_time": "2021-12-10T08:57:10.380Z"
   },
   {
    "duration": 34,
    "start_time": "2021-12-10T08:57:10.401Z"
   },
   {
    "duration": 179,
    "start_time": "2021-12-10T09:05:06.683Z"
   },
   {
    "duration": 13,
    "start_time": "2021-12-10T09:05:17.859Z"
   },
   {
    "duration": 147,
    "start_time": "2021-12-10T09:05:56.994Z"
   },
   {
    "duration": 4,
    "start_time": "2021-12-10T09:06:37.533Z"
   },
   {
    "duration": 678,
    "start_time": "2021-12-10T09:07:44.029Z"
   },
   {
    "duration": 8,
    "start_time": "2021-12-10T09:08:09.649Z"
   },
   {
    "duration": 8,
    "start_time": "2021-12-10T09:08:26.633Z"
   },
   {
    "duration": 187,
    "start_time": "2021-12-10T09:13:56.562Z"
   },
   {
    "duration": 185,
    "start_time": "2021-12-10T09:15:25.873Z"
   },
   {
    "duration": 176,
    "start_time": "2021-12-10T09:17:49.053Z"
   },
   {
    "duration": 214,
    "start_time": "2021-12-10T09:18:04.142Z"
   },
   {
    "duration": 215,
    "start_time": "2021-12-10T09:19:19.359Z"
   },
   {
    "duration": 62,
    "start_time": "2021-12-10T09:21:11.539Z"
   },
   {
    "duration": -49,
    "start_time": "2021-12-10T09:35:25.590Z"
   },
   {
    "duration": -81,
    "start_time": "2021-12-10T09:35:35.557Z"
   },
   {
    "duration": -98,
    "start_time": "2021-12-10T09:35:35.575Z"
   },
   {
    "duration": -108,
    "start_time": "2021-12-10T09:35:35.586Z"
   },
   {
    "duration": -164,
    "start_time": "2021-12-10T09:35:35.643Z"
   },
   {
    "duration": -166,
    "start_time": "2021-12-10T09:35:35.657Z"
   },
   {
    "duration": -177,
    "start_time": "2021-12-10T09:35:35.669Z"
   },
   {
    "duration": -185,
    "start_time": "2021-12-10T09:35:35.678Z"
   },
   {
    "duration": -194,
    "start_time": "2021-12-10T09:35:35.687Z"
   },
   {
    "duration": -203,
    "start_time": "2021-12-10T09:35:35.697Z"
   },
   {
    "duration": -213,
    "start_time": "2021-12-10T09:35:35.708Z"
   },
   {
    "duration": -224,
    "start_time": "2021-12-10T09:35:35.720Z"
   },
   {
    "duration": -238,
    "start_time": "2021-12-10T09:35:35.735Z"
   },
   {
    "duration": -281,
    "start_time": "2021-12-10T09:35:35.779Z"
   },
   {
    "duration": -291,
    "start_time": "2021-12-10T09:35:35.789Z"
   },
   {
    "duration": -299,
    "start_time": "2021-12-10T09:35:35.799Z"
   },
   {
    "duration": -310,
    "start_time": "2021-12-10T09:35:35.810Z"
   },
   {
    "duration": -317,
    "start_time": "2021-12-10T09:35:35.818Z"
   },
   {
    "duration": -329,
    "start_time": "2021-12-10T09:35:35.831Z"
   },
   {
    "duration": -337,
    "start_time": "2021-12-10T09:35:35.840Z"
   },
   {
    "duration": -346,
    "start_time": "2021-12-10T09:35:35.850Z"
   },
   {
    "duration": -354,
    "start_time": "2021-12-10T09:35:35.859Z"
   },
   {
    "duration": -363,
    "start_time": "2021-12-10T09:35:35.869Z"
   },
   {
    "duration": -390,
    "start_time": "2021-12-10T09:35:35.897Z"
   },
   {
    "duration": -400,
    "start_time": "2021-12-10T09:35:35.908Z"
   },
   {
    "duration": -409,
    "start_time": "2021-12-10T09:35:35.917Z"
   },
   {
    "duration": -419,
    "start_time": "2021-12-10T09:35:35.928Z"
   },
   {
    "duration": -426,
    "start_time": "2021-12-10T09:35:35.936Z"
   },
   {
    "duration": -435,
    "start_time": "2021-12-10T09:35:35.946Z"
   },
   {
    "duration": -444,
    "start_time": "2021-12-10T09:35:35.956Z"
   },
   {
    "duration": -455,
    "start_time": "2021-12-10T09:35:35.968Z"
   },
   {
    "duration": -462,
    "start_time": "2021-12-10T09:35:35.976Z"
   },
   {
    "duration": -483,
    "start_time": "2021-12-10T09:35:35.997Z"
   },
   {
    "duration": -514,
    "start_time": "2021-12-10T09:35:36.029Z"
   },
   {
    "duration": -523,
    "start_time": "2021-12-10T09:35:36.039Z"
   },
   {
    "duration": -531,
    "start_time": "2021-12-10T09:35:36.048Z"
   },
   {
    "duration": -542,
    "start_time": "2021-12-10T09:35:36.060Z"
   },
   {
    "duration": -550,
    "start_time": "2021-12-10T09:35:36.069Z"
   },
   {
    "duration": -560,
    "start_time": "2021-12-10T09:35:36.080Z"
   },
   {
    "duration": -567,
    "start_time": "2021-12-10T09:35:36.088Z"
   },
   {
    "duration": -584,
    "start_time": "2021-12-10T09:35:36.106Z"
   },
   {
    "duration": -593,
    "start_time": "2021-12-10T09:35:36.116Z"
   },
   {
    "duration": -625,
    "start_time": "2021-12-10T09:35:36.149Z"
   },
   {
    "duration": -635,
    "start_time": "2021-12-10T09:35:36.160Z"
   },
   {
    "duration": -644,
    "start_time": "2021-12-10T09:35:36.169Z"
   },
   {
    "duration": -652,
    "start_time": "2021-12-10T09:35:36.178Z"
   },
   {
    "duration": -661,
    "start_time": "2021-12-10T09:35:36.188Z"
   },
   {
    "duration": -670,
    "start_time": "2021-12-10T09:35:36.198Z"
   },
   {
    "duration": -755,
    "start_time": "2021-12-10T09:35:36.284Z"
   },
   {
    "duration": -764,
    "start_time": "2021-12-10T09:35:36.294Z"
   },
   {
    "duration": -773,
    "start_time": "2021-12-10T09:35:36.304Z"
   },
   {
    "duration": -784,
    "start_time": "2021-12-10T09:35:36.315Z"
   },
   {
    "duration": -735,
    "start_time": "2021-12-10T09:35:36.326Z"
   },
   {
    "duration": -742,
    "start_time": "2021-12-10T09:35:36.335Z"
   },
   {
    "duration": -750,
    "start_time": "2021-12-10T09:35:36.344Z"
   },
   {
    "duration": -758,
    "start_time": "2021-12-10T09:35:36.353Z"
   },
   {
    "duration": -769,
    "start_time": "2021-12-10T09:35:36.365Z"
   },
   {
    "duration": -777,
    "start_time": "2021-12-10T09:35:36.374Z"
   },
   {
    "duration": -808,
    "start_time": "2021-12-10T09:35:36.406Z"
   },
   {
    "duration": -817,
    "start_time": "2021-12-10T09:35:36.416Z"
   },
   {
    "duration": -826,
    "start_time": "2021-12-10T09:35:36.426Z"
   },
   {
    "duration": -834,
    "start_time": "2021-12-10T09:35:36.435Z"
   },
   {
    "duration": -842,
    "start_time": "2021-12-10T09:35:36.444Z"
   },
   {
    "duration": -850,
    "start_time": "2021-12-10T09:35:36.453Z"
   },
   {
    "duration": -860,
    "start_time": "2021-12-10T09:35:36.464Z"
   },
   {
    "duration": -868,
    "start_time": "2021-12-10T09:35:36.473Z"
   },
   {
    "duration": -877,
    "start_time": "2021-12-10T09:35:36.483Z"
   },
   {
    "duration": -886,
    "start_time": "2021-12-10T09:35:36.493Z"
   },
   {
    "duration": -912,
    "start_time": "2021-12-10T09:35:36.520Z"
   },
   {
    "duration": -921,
    "start_time": "2021-12-10T09:35:36.530Z"
   },
   {
    "duration": -931,
    "start_time": "2021-12-10T09:35:36.541Z"
   },
   {
    "duration": -939,
    "start_time": "2021-12-10T09:35:36.550Z"
   },
   {
    "duration": -992,
    "start_time": "2021-12-10T09:35:36.604Z"
   },
   {
    "duration": -1009,
    "start_time": "2021-12-10T09:35:36.622Z"
   },
   {
    "duration": -1042,
    "start_time": "2021-12-10T09:35:36.656Z"
   },
   {
    "duration": -1052,
    "start_time": "2021-12-10T09:35:36.667Z"
   },
   {
    "duration": -1062,
    "start_time": "2021-12-10T09:35:36.678Z"
   },
   {
    "duration": -1069,
    "start_time": "2021-12-10T09:35:36.686Z"
   },
   {
    "duration": -1079,
    "start_time": "2021-12-10T09:35:36.697Z"
   },
   {
    "duration": -1086,
    "start_time": "2021-12-10T09:35:36.705Z"
   },
   {
    "duration": -1098,
    "start_time": "2021-12-10T09:35:36.718Z"
   },
   {
    "duration": -1106,
    "start_time": "2021-12-10T09:35:36.727Z"
   },
   {
    "duration": -1115,
    "start_time": "2021-12-10T09:35:36.737Z"
   },
   {
    "duration": -1123,
    "start_time": "2021-12-10T09:35:36.746Z"
   },
   {
    "duration": 3,
    "start_time": "2021-12-10T09:35:58.676Z"
   },
   {
    "duration": 106,
    "start_time": "2021-12-10T09:35:58.683Z"
   },
   {
    "duration": 26,
    "start_time": "2021-12-10T09:35:58.791Z"
   },
   {
    "duration": 91,
    "start_time": "2021-12-10T09:35:58.819Z"
   },
   {
    "duration": 10,
    "start_time": "2021-12-10T09:35:58.912Z"
   },
   {
    "duration": 23,
    "start_time": "2021-12-10T09:35:58.924Z"
   },
   {
    "duration": 4,
    "start_time": "2021-12-10T09:35:58.949Z"
   },
   {
    "duration": 36,
    "start_time": "2021-12-10T09:35:58.955Z"
   },
   {
    "duration": 11,
    "start_time": "2021-12-10T09:35:58.994Z"
   },
   {
    "duration": 11,
    "start_time": "2021-12-10T09:35:59.007Z"
   },
   {
    "duration": 10,
    "start_time": "2021-12-10T09:35:59.020Z"
   },
   {
    "duration": 6,
    "start_time": "2021-12-10T09:35:59.031Z"
   },
   {
    "duration": 54,
    "start_time": "2021-12-10T09:35:59.039Z"
   },
   {
    "duration": 8,
    "start_time": "2021-12-10T09:35:59.094Z"
   },
   {
    "duration": 11,
    "start_time": "2021-12-10T09:35:59.103Z"
   },
   {
    "duration": 23,
    "start_time": "2021-12-10T09:35:59.116Z"
   },
   {
    "duration": 9,
    "start_time": "2021-12-10T09:35:59.141Z"
   },
   {
    "duration": 57,
    "start_time": "2021-12-10T09:35:59.152Z"
   },
   {
    "duration": 5,
    "start_time": "2021-12-10T09:35:59.211Z"
   },
   {
    "duration": 17,
    "start_time": "2021-12-10T09:35:59.217Z"
   },
   {
    "duration": 10,
    "start_time": "2021-12-10T09:35:59.235Z"
   },
   {
    "duration": 14,
    "start_time": "2021-12-10T09:35:59.247Z"
   },
   {
    "duration": 33,
    "start_time": "2021-12-10T09:35:59.263Z"
   },
   {
    "duration": 8,
    "start_time": "2021-12-10T09:35:59.300Z"
   },
   {
    "duration": 20,
    "start_time": "2021-12-10T09:35:59.310Z"
   },
   {
    "duration": 5,
    "start_time": "2021-12-10T09:35:59.332Z"
   },
   {
    "duration": 10,
    "start_time": "2021-12-10T09:35:59.338Z"
   },
   {
    "duration": 48,
    "start_time": "2021-12-10T09:35:59.349Z"
   },
   {
    "duration": 5,
    "start_time": "2021-12-10T09:35:59.398Z"
   },
   {
    "duration": 7,
    "start_time": "2021-12-10T09:35:59.405Z"
   },
   {
    "duration": 8,
    "start_time": "2021-12-10T09:35:59.413Z"
   },
   {
    "duration": 1489,
    "start_time": "2021-12-10T09:35:59.422Z"
   },
   {
    "duration": 4,
    "start_time": "2021-12-10T09:36:00.913Z"
   },
   {
    "duration": 10,
    "start_time": "2021-12-10T09:36:00.918Z"
   },
   {
    "duration": 9,
    "start_time": "2021-12-10T09:36:00.930Z"
   },
   {
    "duration": 28,
    "start_time": "2021-12-10T09:36:00.940Z"
   },
   {
    "duration": 19,
    "start_time": "2021-12-10T09:36:00.970Z"
   },
   {
    "duration": 13,
    "start_time": "2021-12-10T09:36:00.991Z"
   },
   {
    "duration": 10,
    "start_time": "2021-12-10T09:36:01.006Z"
   },
   {
    "duration": 19,
    "start_time": "2021-12-10T09:36:01.018Z"
   },
   {
    "duration": 23,
    "start_time": "2021-12-10T09:36:01.038Z"
   },
   {
    "duration": 25,
    "start_time": "2021-12-10T09:36:01.062Z"
   },
   {
    "duration": 17,
    "start_time": "2021-12-10T09:36:01.089Z"
   },
   {
    "duration": 16,
    "start_time": "2021-12-10T09:36:01.108Z"
   },
   {
    "duration": 22,
    "start_time": "2021-12-10T09:36:01.126Z"
   },
   {
    "duration": 20,
    "start_time": "2021-12-10T09:36:01.150Z"
   },
   {
    "duration": 10,
    "start_time": "2021-12-10T09:36:01.171Z"
   },
   {
    "duration": 16,
    "start_time": "2021-12-10T09:36:01.183Z"
   },
   {
    "duration": 27,
    "start_time": "2021-12-10T09:36:01.201Z"
   },
   {
    "duration": 9,
    "start_time": "2021-12-10T09:36:01.229Z"
   },
   {
    "duration": 15,
    "start_time": "2021-12-10T09:36:01.239Z"
   },
   {
    "duration": 18,
    "start_time": "2021-12-10T09:36:01.256Z"
   },
   {
    "duration": 24,
    "start_time": "2021-12-10T09:36:01.275Z"
   },
   {
    "duration": 40,
    "start_time": "2021-12-10T09:36:01.300Z"
   },
   {
    "duration": 26,
    "start_time": "2021-12-10T09:36:01.341Z"
   },
   {
    "duration": 28,
    "start_time": "2021-12-10T09:36:01.368Z"
   },
   {
    "duration": 3,
    "start_time": "2021-12-10T09:36:01.397Z"
   },
   {
    "duration": 661,
    "start_time": "2021-12-10T09:36:01.402Z"
   },
   {
    "duration": 31,
    "start_time": "2021-12-10T09:36:02.065Z"
   },
   {
    "duration": 4,
    "start_time": "2021-12-10T09:36:02.098Z"
   },
   {
    "duration": 10,
    "start_time": "2021-12-10T09:36:02.104Z"
   },
   {
    "duration": 33,
    "start_time": "2021-12-10T09:36:02.116Z"
   },
   {
    "duration": 30,
    "start_time": "2021-12-10T09:36:02.151Z"
   },
   {
    "duration": 31,
    "start_time": "2021-12-10T09:36:02.185Z"
   },
   {
    "duration": 4,
    "start_time": "2021-12-10T09:36:02.218Z"
   },
   {
    "duration": 244,
    "start_time": "2021-12-10T09:36:02.224Z"
   },
   {
    "duration": 22,
    "start_time": "2021-12-10T09:36:02.470Z"
   },
   {
    "duration": 228,
    "start_time": "2021-12-10T09:36:02.494Z"
   },
   {
    "duration": 13,
    "start_time": "2021-12-10T09:36:02.724Z"
   },
   {
    "duration": 230,
    "start_time": "2021-12-10T09:36:02.739Z"
   },
   {
    "duration": 27,
    "start_time": "2021-12-10T09:36:02.970Z"
   },
   {
    "duration": 250,
    "start_time": "2021-12-10T09:36:02.999Z"
   },
   {
    "duration": 14,
    "start_time": "2021-12-10T09:36:03.251Z"
   },
   {
    "duration": 149,
    "start_time": "2021-12-10T09:36:03.266Z"
   },
   {
    "duration": 652,
    "start_time": "2021-12-10T09:36:03.417Z"
   },
   {
    "duration": 24,
    "start_time": "2021-12-10T09:36:04.071Z"
   },
   {
    "duration": 34,
    "start_time": "2021-12-10T09:36:04.097Z"
   },
   {
    "duration": 11,
    "start_time": "2021-12-10T09:36:04.133Z"
   },
   {
    "duration": 148,
    "start_time": "2021-12-10T09:36:04.145Z"
   },
   {
    "duration": 740,
    "start_time": "2021-12-10T09:36:04.295Z"
   },
   {
    "duration": 8,
    "start_time": "2021-12-10T09:36:05.037Z"
   },
   {
    "duration": 231,
    "start_time": "2021-12-10T09:36:05.046Z"
   },
   {
    "duration": 4734,
    "start_time": "2021-12-10T09:36:05.278Z"
   },
   {
    "duration": 211,
    "start_time": "2021-12-10T09:36:32.365Z"
   },
   {
    "duration": 66,
    "start_time": "2021-12-10T09:41:43.242Z"
   },
   {
    "duration": 217,
    "start_time": "2021-12-10T09:43:20.017Z"
   },
   {
    "duration": 218,
    "start_time": "2021-12-10T09:45:35.435Z"
   },
   {
    "duration": 201,
    "start_time": "2021-12-10T09:45:43.349Z"
   },
   {
    "duration": 215,
    "start_time": "2021-12-10T09:50:01.258Z"
   },
   {
    "duration": 203,
    "start_time": "2021-12-10T09:51:28.726Z"
   },
   {
    "duration": 73,
    "start_time": "2021-12-10T09:52:47.039Z"
   },
   {
    "duration": 207,
    "start_time": "2021-12-10T09:57:19.443Z"
   },
   {
    "duration": 217,
    "start_time": "2021-12-10T09:57:51.856Z"
   },
   {
    "duration": 283,
    "start_time": "2021-12-10T09:58:13.874Z"
   },
   {
    "duration": 208,
    "start_time": "2021-12-10T09:58:22.678Z"
   },
   {
    "duration": 195,
    "start_time": "2021-12-10T09:58:33.237Z"
   },
   {
    "duration": 666,
    "start_time": "2021-12-10T10:04:46.184Z"
   },
   {
    "duration": 625,
    "start_time": "2021-12-10T10:05:00.180Z"
   },
   {
    "duration": 588,
    "start_time": "2021-12-10T10:05:07.512Z"
   },
   {
    "duration": 488,
    "start_time": "2021-12-10T10:06:13.199Z"
   },
   {
    "duration": 823,
    "start_time": "2021-12-10T10:12:38.868Z"
   },
   {
    "duration": 204,
    "start_time": "2021-12-10T10:12:47.921Z"
   },
   {
    "duration": 206,
    "start_time": "2021-12-10T10:13:28.310Z"
   },
   {
    "duration": 190,
    "start_time": "2021-12-10T10:13:54.199Z"
   },
   {
    "duration": 3,
    "start_time": "2021-12-10T10:16:42.939Z"
   },
   {
    "duration": 204,
    "start_time": "2021-12-10T10:18:21.300Z"
   },
   {
    "duration": 27,
    "start_time": "2021-12-10T11:38:15.877Z"
   },
   {
    "duration": 24,
    "start_time": "2021-12-10T11:38:49.013Z"
   },
   {
    "duration": 8,
    "start_time": "2021-12-10T11:39:05.340Z"
   },
   {
    "duration": 8,
    "start_time": "2021-12-10T11:39:23.173Z"
   },
   {
    "duration": 188,
    "start_time": "2021-12-10T11:47:05.205Z"
   },
   {
    "duration": 197,
    "start_time": "2021-12-10T11:47:13.736Z"
   },
   {
    "duration": 13,
    "start_time": "2021-12-10T11:58:07.835Z"
   },
   {
    "duration": 202,
    "start_time": "2021-12-10T11:59:02.883Z"
   },
   {
    "duration": 33,
    "start_time": "2021-12-10T12:06:34.050Z"
   },
   {
    "duration": 5169,
    "start_time": "2021-12-10T12:06:38.623Z"
   },
   {
    "duration": 5147,
    "start_time": "2021-12-10T12:07:25.219Z"
   },
   {
    "duration": 4763,
    "start_time": "2021-12-10T12:15:33.783Z"
   },
   {
    "duration": 3,
    "start_time": "2021-12-10T12:15:46.554Z"
   },
   {
    "duration": 93,
    "start_time": "2021-12-10T12:15:46.561Z"
   },
   {
    "duration": 43,
    "start_time": "2021-12-10T12:15:46.656Z"
   },
   {
    "duration": 94,
    "start_time": "2021-12-10T12:15:46.702Z"
   },
   {
    "duration": 10,
    "start_time": "2021-12-10T12:15:46.798Z"
   },
   {
    "duration": 23,
    "start_time": "2021-12-10T12:15:46.809Z"
   },
   {
    "duration": 4,
    "start_time": "2021-12-10T12:15:46.833Z"
   },
   {
    "duration": 6,
    "start_time": "2021-12-10T12:15:46.838Z"
   },
   {
    "duration": 5,
    "start_time": "2021-12-10T12:15:46.846Z"
   },
   {
    "duration": 46,
    "start_time": "2021-12-10T12:15:46.853Z"
   },
   {
    "duration": 9,
    "start_time": "2021-12-10T12:15:46.901Z"
   },
   {
    "duration": 5,
    "start_time": "2021-12-10T12:15:46.912Z"
   },
   {
    "duration": 27,
    "start_time": "2021-12-10T12:15:46.919Z"
   },
   {
    "duration": 6,
    "start_time": "2021-12-10T12:15:46.948Z"
   },
   {
    "duration": 36,
    "start_time": "2021-12-10T12:15:46.955Z"
   },
   {
    "duration": 24,
    "start_time": "2021-12-10T12:15:46.993Z"
   },
   {
    "duration": 8,
    "start_time": "2021-12-10T12:15:47.018Z"
   },
   {
    "duration": 23,
    "start_time": "2021-12-10T12:15:47.028Z"
   },
   {
    "duration": 39,
    "start_time": "2021-12-10T12:15:47.052Z"
   },
   {
    "duration": 15,
    "start_time": "2021-12-10T12:15:47.093Z"
   },
   {
    "duration": 11,
    "start_time": "2021-12-10T12:15:47.109Z"
   },
   {
    "duration": 12,
    "start_time": "2021-12-10T12:15:47.122Z"
   },
   {
    "duration": 8,
    "start_time": "2021-12-10T12:15:47.135Z"
   },
   {
    "duration": 5,
    "start_time": "2021-12-10T12:15:47.146Z"
   },
   {
    "duration": 46,
    "start_time": "2021-12-10T12:15:47.154Z"
   },
   {
    "duration": 5,
    "start_time": "2021-12-10T12:15:47.202Z"
   },
   {
    "duration": 10,
    "start_time": "2021-12-10T12:15:47.209Z"
   },
   {
    "duration": 26,
    "start_time": "2021-12-10T12:15:47.221Z"
   },
   {
    "duration": 6,
    "start_time": "2021-12-10T12:15:47.249Z"
   },
   {
    "duration": 40,
    "start_time": "2021-12-10T12:15:47.256Z"
   },
   {
    "duration": 6,
    "start_time": "2021-12-10T12:15:47.298Z"
   },
   {
    "duration": 1467,
    "start_time": "2021-12-10T12:15:47.306Z"
   },
   {
    "duration": 4,
    "start_time": "2021-12-10T12:15:48.774Z"
   },
   {
    "duration": 19,
    "start_time": "2021-12-10T12:15:48.780Z"
   },
   {
    "duration": 4,
    "start_time": "2021-12-10T12:15:48.800Z"
   },
   {
    "duration": 22,
    "start_time": "2021-12-10T12:15:48.806Z"
   },
   {
    "duration": 3,
    "start_time": "2021-12-10T12:15:48.830Z"
   },
   {
    "duration": 7,
    "start_time": "2021-12-10T12:15:48.834Z"
   },
   {
    "duration": 3,
    "start_time": "2021-12-10T12:15:48.843Z"
   },
   {
    "duration": 6,
    "start_time": "2021-12-10T12:15:48.848Z"
   },
   {
    "duration": 6,
    "start_time": "2021-12-10T12:15:48.855Z"
   },
   {
    "duration": 35,
    "start_time": "2021-12-10T12:15:48.862Z"
   },
   {
    "duration": 3,
    "start_time": "2021-12-10T12:15:48.899Z"
   },
   {
    "duration": 6,
    "start_time": "2021-12-10T12:15:48.904Z"
   },
   {
    "duration": 4,
    "start_time": "2021-12-10T12:15:48.912Z"
   },
   {
    "duration": 5,
    "start_time": "2021-12-10T12:15:48.918Z"
   },
   {
    "duration": 9,
    "start_time": "2021-12-10T12:15:48.924Z"
   },
   {
    "duration": 6,
    "start_time": "2021-12-10T12:15:48.934Z"
   },
   {
    "duration": 5,
    "start_time": "2021-12-10T12:15:48.941Z"
   },
   {
    "duration": 4,
    "start_time": "2021-12-10T12:15:48.947Z"
   },
   {
    "duration": 42,
    "start_time": "2021-12-10T12:15:48.953Z"
   },
   {
    "duration": 7,
    "start_time": "2021-12-10T12:15:48.996Z"
   },
   {
    "duration": 8,
    "start_time": "2021-12-10T12:15:49.004Z"
   },
   {
    "duration": 4,
    "start_time": "2021-12-10T12:15:49.013Z"
   },
   {
    "duration": 22,
    "start_time": "2021-12-10T12:15:49.019Z"
   },
   {
    "duration": 51,
    "start_time": "2021-12-10T12:15:49.042Z"
   },
   {
    "duration": 3,
    "start_time": "2021-12-10T12:15:49.094Z"
   },
   {
    "duration": 639,
    "start_time": "2021-12-10T12:15:49.098Z"
   },
   {
    "duration": 22,
    "start_time": "2021-12-10T12:15:49.739Z"
   },
   {
    "duration": 4,
    "start_time": "2021-12-10T12:15:49.762Z"
   },
   {
    "duration": 8,
    "start_time": "2021-12-10T12:15:49.767Z"
   },
   {
    "duration": 5,
    "start_time": "2021-12-10T12:15:49.791Z"
   },
   {
    "duration": 24,
    "start_time": "2021-12-10T12:15:49.797Z"
   },
   {
    "duration": 30,
    "start_time": "2021-12-10T12:15:49.823Z"
   },
   {
    "duration": 5,
    "start_time": "2021-12-10T12:15:49.854Z"
   },
   {
    "duration": 249,
    "start_time": "2021-12-10T12:15:49.860Z"
   },
   {
    "duration": 11,
    "start_time": "2021-12-10T12:15:50.110Z"
   },
   {
    "duration": 226,
    "start_time": "2021-12-10T12:15:50.123Z"
   },
   {
    "duration": 13,
    "start_time": "2021-12-10T12:15:50.354Z"
   },
   {
    "duration": 242,
    "start_time": "2021-12-10T12:15:50.369Z"
   },
   {
    "duration": 14,
    "start_time": "2021-12-10T12:15:50.613Z"
   },
   {
    "duration": 262,
    "start_time": "2021-12-10T12:15:50.629Z"
   },
   {
    "duration": 13,
    "start_time": "2021-12-10T12:15:50.893Z"
   },
   {
    "duration": 148,
    "start_time": "2021-12-10T12:15:50.908Z"
   },
   {
    "duration": 685,
    "start_time": "2021-12-10T12:15:51.058Z"
   },
   {
    "duration": 13,
    "start_time": "2021-12-10T12:15:51.745Z"
   },
   {
    "duration": 47,
    "start_time": "2021-12-10T12:15:51.759Z"
   },
   {
    "duration": 12,
    "start_time": "2021-12-10T12:15:51.808Z"
   },
   {
    "duration": 143,
    "start_time": "2021-12-10T12:15:51.821Z"
   },
   {
    "duration": 751,
    "start_time": "2021-12-10T12:15:51.966Z"
   },
   {
    "duration": 8,
    "start_time": "2021-12-10T12:15:52.719Z"
   },
   {
    "duration": 238,
    "start_time": "2021-12-10T12:15:52.729Z"
   },
   {
    "duration": 222,
    "start_time": "2021-12-10T12:15:52.969Z"
   },
   {
    "duration": 213,
    "start_time": "2021-12-10T12:15:53.193Z"
   },
   {
    "duration": 480,
    "start_time": "2021-12-10T12:15:53.407Z"
   },
   {
    "duration": 191,
    "start_time": "2021-12-10T12:15:53.889Z"
   },
   {
    "duration": 219,
    "start_time": "2021-12-10T12:15:54.082Z"
   },
   {
    "duration": 25,
    "start_time": "2021-12-10T12:15:54.303Z"
   },
   {
    "duration": 7,
    "start_time": "2021-12-10T12:15:54.329Z"
   },
   {
    "duration": 9,
    "start_time": "2021-12-10T12:15:54.337Z"
   },
   {
    "duration": 5163,
    "start_time": "2021-12-10T12:15:54.348Z"
   },
   {
    "duration": 187,
    "start_time": "2021-12-10T12:19:13.928Z"
   },
   {
    "duration": 4614,
    "start_time": "2021-12-10T12:19:23.195Z"
   },
   {
    "duration": 221,
    "start_time": "2021-12-10T12:19:55.833Z"
   },
   {
    "duration": 4717,
    "start_time": "2021-12-10T12:20:05.229Z"
   },
   {
    "duration": 193,
    "start_time": "2021-12-10T12:29:13.369Z"
   },
   {
    "duration": 8,
    "start_time": "2021-12-10T12:36:52.103Z"
   },
   {
    "duration": 1316,
    "start_time": "2021-12-10T12:40:28.177Z"
   },
   {
    "duration": 295,
    "start_time": "2021-12-11T09:03:56.340Z"
   },
   {
    "duration": 761,
    "start_time": "2021-12-11T09:04:01.627Z"
   },
   {
    "duration": 92,
    "start_time": "2021-12-11T09:04:02.389Z"
   },
   {
    "duration": 24,
    "start_time": "2021-12-11T09:04:02.484Z"
   },
   {
    "duration": 85,
    "start_time": "2021-12-11T09:04:02.510Z"
   },
   {
    "duration": 11,
    "start_time": "2021-12-11T09:04:02.597Z"
   },
   {
    "duration": 43,
    "start_time": "2021-12-11T09:04:02.609Z"
   },
   {
    "duration": 4,
    "start_time": "2021-12-11T09:04:02.653Z"
   },
   {
    "duration": 5,
    "start_time": "2021-12-11T09:04:02.660Z"
   },
   {
    "duration": 5,
    "start_time": "2021-12-11T09:04:02.667Z"
   },
   {
    "duration": 13,
    "start_time": "2021-12-11T09:04:02.674Z"
   },
   {
    "duration": 15,
    "start_time": "2021-12-11T09:04:02.689Z"
   },
   {
    "duration": 5,
    "start_time": "2021-12-11T09:04:02.706Z"
   },
   {
    "duration": 49,
    "start_time": "2021-12-11T09:04:02.713Z"
   },
   {
    "duration": 13,
    "start_time": "2021-12-11T09:04:02.764Z"
   },
   {
    "duration": 7,
    "start_time": "2021-12-11T09:04:02.779Z"
   },
   {
    "duration": 23,
    "start_time": "2021-12-11T09:04:02.788Z"
   },
   {
    "duration": 35,
    "start_time": "2021-12-11T09:04:02.813Z"
   },
   {
    "duration": 21,
    "start_time": "2021-12-11T09:04:02.850Z"
   },
   {
    "duration": 7,
    "start_time": "2021-12-11T09:04:02.873Z"
   },
   {
    "duration": 14,
    "start_time": "2021-12-11T09:04:02.882Z"
   },
   {
    "duration": 10,
    "start_time": "2021-12-11T09:04:02.898Z"
   },
   {
    "duration": 39,
    "start_time": "2021-12-11T09:04:02.909Z"
   },
   {
    "duration": 9,
    "start_time": "2021-12-11T09:04:02.953Z"
   },
   {
    "duration": 8,
    "start_time": "2021-12-11T09:04:02.966Z"
   },
   {
    "duration": 19,
    "start_time": "2021-12-11T09:04:02.976Z"
   },
   {
    "duration": 8,
    "start_time": "2021-12-11T09:04:02.997Z"
   },
   {
    "duration": 42,
    "start_time": "2021-12-11T09:04:03.007Z"
   },
   {
    "duration": 37,
    "start_time": "2021-12-11T09:04:03.052Z"
   },
   {
    "duration": 7,
    "start_time": "2021-12-11T09:04:03.091Z"
   },
   {
    "duration": 9,
    "start_time": "2021-12-11T09:04:03.100Z"
   },
   {
    "duration": 6,
    "start_time": "2021-12-11T09:04:03.111Z"
   },
   {
    "duration": 1665,
    "start_time": "2021-12-11T09:04:03.119Z"
   },
   {
    "duration": 6,
    "start_time": "2021-12-11T09:04:04.786Z"
   },
   {
    "duration": 11,
    "start_time": "2021-12-11T09:04:04.794Z"
   },
   {
    "duration": 5,
    "start_time": "2021-12-11T09:04:04.808Z"
   },
   {
    "duration": 50,
    "start_time": "2021-12-11T09:04:04.815Z"
   },
   {
    "duration": 4,
    "start_time": "2021-12-11T09:04:04.867Z"
   },
   {
    "duration": 9,
    "start_time": "2021-12-11T09:04:04.874Z"
   },
   {
    "duration": 4,
    "start_time": "2021-12-11T09:04:04.885Z"
   },
   {
    "duration": 9,
    "start_time": "2021-12-11T09:04:04.891Z"
   },
   {
    "duration": 4,
    "start_time": "2021-12-11T09:04:04.903Z"
   },
   {
    "duration": 8,
    "start_time": "2021-12-11T09:04:04.945Z"
   },
   {
    "duration": 3,
    "start_time": "2021-12-11T09:04:04.955Z"
   },
   {
    "duration": 6,
    "start_time": "2021-12-11T09:04:04.960Z"
   },
   {
    "duration": 7,
    "start_time": "2021-12-11T09:04:04.968Z"
   },
   {
    "duration": 8,
    "start_time": "2021-12-11T09:04:04.977Z"
   },
   {
    "duration": 5,
    "start_time": "2021-12-11T09:04:04.987Z"
   },
   {
    "duration": 6,
    "start_time": "2021-12-11T09:04:04.993Z"
   },
   {
    "duration": 43,
    "start_time": "2021-12-11T09:04:05.001Z"
   },
   {
    "duration": 4,
    "start_time": "2021-12-11T09:04:05.046Z"
   },
   {
    "duration": 7,
    "start_time": "2021-12-11T09:04:05.052Z"
   },
   {
    "duration": 7,
    "start_time": "2021-12-11T09:04:05.061Z"
   },
   {
    "duration": 35,
    "start_time": "2021-12-11T09:04:05.070Z"
   },
   {
    "duration": 4,
    "start_time": "2021-12-11T09:04:05.107Z"
   },
   {
    "duration": 41,
    "start_time": "2021-12-11T09:04:05.112Z"
   },
   {
    "duration": 22,
    "start_time": "2021-12-11T09:04:05.154Z"
   },
   {
    "duration": 3,
    "start_time": "2021-12-11T09:04:05.178Z"
   },
   {
    "duration": 587,
    "start_time": "2021-12-11T09:04:05.182Z"
   },
   {
    "duration": 25,
    "start_time": "2021-12-11T09:04:05.770Z"
   },
   {
    "duration": 5,
    "start_time": "2021-12-11T09:04:05.797Z"
   },
   {
    "duration": 9,
    "start_time": "2021-12-11T09:04:05.803Z"
   },
   {
    "duration": 14,
    "start_time": "2021-12-11T09:04:05.814Z"
   },
   {
    "duration": 24,
    "start_time": "2021-12-11T09:04:05.845Z"
   },
   {
    "duration": 30,
    "start_time": "2021-12-11T09:04:05.870Z"
   },
   {
    "duration": 4,
    "start_time": "2021-12-11T09:04:05.902Z"
   },
   {
    "duration": 289,
    "start_time": "2021-12-11T09:04:05.908Z"
   },
   {
    "duration": 14,
    "start_time": "2021-12-11T09:04:06.199Z"
   },
   {
    "duration": 229,
    "start_time": "2021-12-11T09:04:06.219Z"
   },
   {
    "duration": 15,
    "start_time": "2021-12-11T09:04:06.451Z"
   },
   {
    "duration": 221,
    "start_time": "2021-12-11T09:04:06.467Z"
   },
   {
    "duration": 14,
    "start_time": "2021-12-11T09:04:06.690Z"
   },
   {
    "duration": 237,
    "start_time": "2021-12-11T09:04:06.705Z"
   },
   {
    "duration": 13,
    "start_time": "2021-12-11T09:04:06.944Z"
   },
   {
    "duration": 147,
    "start_time": "2021-12-11T09:04:06.959Z"
   },
   {
    "duration": 623,
    "start_time": "2021-12-11T09:04:07.107Z"
   },
   {
    "duration": 24,
    "start_time": "2021-12-11T09:04:07.732Z"
   },
   {
    "duration": 35,
    "start_time": "2021-12-11T09:04:07.758Z"
   },
   {
    "duration": 20,
    "start_time": "2021-12-11T09:04:07.795Z"
   },
   {
    "duration": 231,
    "start_time": "2021-12-11T09:04:07.817Z"
   },
   {
    "duration": 688,
    "start_time": "2021-12-11T09:04:08.050Z"
   },
   {
    "duration": 10,
    "start_time": "2021-12-11T09:04:08.740Z"
   },
   {
    "duration": 215,
    "start_time": "2021-12-11T09:04:08.751Z"
   },
   {
    "duration": 208,
    "start_time": "2021-12-11T09:04:08.968Z"
   },
   {
    "duration": 202,
    "start_time": "2021-12-11T09:04:09.178Z"
   },
   {
    "duration": 520,
    "start_time": "2021-12-11T09:04:09.382Z"
   },
   {
    "duration": 189,
    "start_time": "2021-12-11T09:04:09.904Z"
   },
   {
    "duration": 208,
    "start_time": "2021-12-11T09:04:10.094Z"
   },
   {
    "duration": 24,
    "start_time": "2021-12-11T09:04:10.304Z"
   },
   {
    "duration": 17,
    "start_time": "2021-12-11T09:04:10.330Z"
   },
   {
    "duration": 9,
    "start_time": "2021-12-11T09:04:10.349Z"
   },
   {
    "duration": 307,
    "start_time": "2021-12-11T09:04:10.360Z"
   },
   {
    "duration": -721,
    "start_time": "2021-12-11T09:04:11.390Z"
   },
   {
    "duration": -731,
    "start_time": "2021-12-11T09:04:11.401Z"
   },
   {
    "duration": 7,
    "start_time": "2021-12-11T09:04:35.705Z"
   },
   {
    "duration": 1161,
    "start_time": "2021-12-11T09:04:38.266Z"
   },
   {
    "duration": 368,
    "start_time": "2021-12-11T09:14:52.353Z"
   },
   {
    "duration": 427,
    "start_time": "2021-12-11T09:15:17.267Z"
   },
   {
    "duration": 6800,
    "start_time": "2021-12-11T09:16:26.854Z"
   },
   {
    "duration": 728,
    "start_time": "2021-12-11T09:22:45.304Z"
   },
   {
    "duration": 685,
    "start_time": "2021-12-11T09:25:21.059Z"
   },
   {
    "duration": 21,
    "start_time": "2021-12-11T09:27:52.347Z"
   },
   {
    "duration": 304,
    "start_time": "2021-12-11T09:28:00.657Z"
   },
   {
    "duration": 347,
    "start_time": "2021-12-11T09:28:53.859Z"
   },
   {
    "duration": 6,
    "start_time": "2021-12-11T09:30:19.749Z"
   },
   {
    "duration": 24,
    "start_time": "2021-12-11T09:33:15.577Z"
   },
   {
    "duration": 285,
    "start_time": "2021-12-11T09:34:15.980Z"
   },
   {
    "duration": 4,
    "start_time": "2021-12-11T09:35:25.382Z"
   },
   {
    "duration": 100,
    "start_time": "2021-12-11T09:35:25.391Z"
   },
   {
    "duration": 24,
    "start_time": "2021-12-11T09:35:25.493Z"
   },
   {
    "duration": 94,
    "start_time": "2021-12-11T09:35:25.520Z"
   },
   {
    "duration": 33,
    "start_time": "2021-12-11T09:35:25.617Z"
   },
   {
    "duration": 53,
    "start_time": "2021-12-11T09:35:25.652Z"
   },
   {
    "duration": 5,
    "start_time": "2021-12-11T09:35:25.707Z"
   },
   {
    "duration": 18,
    "start_time": "2021-12-11T09:35:25.714Z"
   },
   {
    "duration": 18,
    "start_time": "2021-12-11T09:35:25.735Z"
   },
   {
    "duration": 20,
    "start_time": "2021-12-11T09:35:25.756Z"
   },
   {
    "duration": 40,
    "start_time": "2021-12-11T09:35:25.779Z"
   },
   {
    "duration": 22,
    "start_time": "2021-12-11T09:35:25.822Z"
   },
   {
    "duration": 44,
    "start_time": "2021-12-11T09:35:25.846Z"
   },
   {
    "duration": 33,
    "start_time": "2021-12-11T09:35:25.892Z"
   },
   {
    "duration": 29,
    "start_time": "2021-12-11T09:35:25.927Z"
   },
   {
    "duration": 63,
    "start_time": "2021-12-11T09:35:25.958Z"
   },
   {
    "duration": 43,
    "start_time": "2021-12-11T09:35:26.023Z"
   },
   {
    "duration": 92,
    "start_time": "2021-12-11T09:35:26.068Z"
   },
   {
    "duration": 42,
    "start_time": "2021-12-11T09:35:26.162Z"
   },
   {
    "duration": 58,
    "start_time": "2021-12-11T09:35:26.206Z"
   },
   {
    "duration": 49,
    "start_time": "2021-12-11T09:35:26.266Z"
   },
   {
    "duration": 51,
    "start_time": "2021-12-11T09:35:26.317Z"
   },
   {
    "duration": 39,
    "start_time": "2021-12-11T09:35:26.370Z"
   },
   {
    "duration": 26,
    "start_time": "2021-12-11T09:35:26.413Z"
   },
   {
    "duration": 44,
    "start_time": "2021-12-11T09:35:26.442Z"
   },
   {
    "duration": 16,
    "start_time": "2021-12-11T09:35:26.488Z"
   },
   {
    "duration": 30,
    "start_time": "2021-12-11T09:35:26.506Z"
   },
   {
    "duration": 60,
    "start_time": "2021-12-11T09:35:26.538Z"
   },
   {
    "duration": 7,
    "start_time": "2021-12-11T09:35:26.600Z"
   },
   {
    "duration": 49,
    "start_time": "2021-12-11T09:35:26.609Z"
   },
   {
    "duration": 35,
    "start_time": "2021-12-11T09:35:26.660Z"
   },
   {
    "duration": 1605,
    "start_time": "2021-12-11T09:35:26.697Z"
   },
   {
    "duration": 5,
    "start_time": "2021-12-11T09:35:28.304Z"
   },
   {
    "duration": 25,
    "start_time": "2021-12-11T09:35:28.311Z"
   },
   {
    "duration": 39,
    "start_time": "2021-12-11T09:35:28.338Z"
   },
   {
    "duration": 55,
    "start_time": "2021-12-11T09:35:28.379Z"
   },
   {
    "duration": 31,
    "start_time": "2021-12-11T09:35:28.436Z"
   },
   {
    "duration": 34,
    "start_time": "2021-12-11T09:35:28.469Z"
   },
   {
    "duration": 43,
    "start_time": "2021-12-11T09:35:28.505Z"
   },
   {
    "duration": 51,
    "start_time": "2021-12-11T09:35:28.550Z"
   },
   {
    "duration": 37,
    "start_time": "2021-12-11T09:35:28.603Z"
   },
   {
    "duration": 32,
    "start_time": "2021-12-11T09:35:28.642Z"
   },
   {
    "duration": 37,
    "start_time": "2021-12-11T09:35:28.676Z"
   },
   {
    "duration": 38,
    "start_time": "2021-12-11T09:35:28.715Z"
   },
   {
    "duration": 72,
    "start_time": "2021-12-11T09:35:28.755Z"
   },
   {
    "duration": 31,
    "start_time": "2021-12-11T09:35:28.829Z"
   },
   {
    "duration": 55,
    "start_time": "2021-12-11T09:35:28.862Z"
   },
   {
    "duration": 45,
    "start_time": "2021-12-11T09:35:28.919Z"
   },
   {
    "duration": 41,
    "start_time": "2021-12-11T09:35:28.966Z"
   },
   {
    "duration": 16,
    "start_time": "2021-12-11T09:35:29.009Z"
   },
   {
    "duration": 35,
    "start_time": "2021-12-11T09:35:29.028Z"
   },
   {
    "duration": 32,
    "start_time": "2021-12-11T09:35:29.065Z"
   },
   {
    "duration": 28,
    "start_time": "2021-12-11T09:35:29.099Z"
   },
   {
    "duration": 37,
    "start_time": "2021-12-11T09:35:29.129Z"
   },
   {
    "duration": 40,
    "start_time": "2021-12-11T09:35:29.167Z"
   },
   {
    "duration": 57,
    "start_time": "2021-12-11T09:35:29.209Z"
   },
   {
    "duration": 10,
    "start_time": "2021-12-11T09:35:29.268Z"
   },
   {
    "duration": 696,
    "start_time": "2021-12-11T09:35:29.280Z"
   },
   {
    "duration": 25,
    "start_time": "2021-12-11T09:35:29.978Z"
   },
   {
    "duration": 6,
    "start_time": "2021-12-11T09:35:30.006Z"
   },
   {
    "duration": 39,
    "start_time": "2021-12-11T09:35:30.014Z"
   },
   {
    "duration": 34,
    "start_time": "2021-12-11T09:35:30.055Z"
   },
   {
    "duration": 43,
    "start_time": "2021-12-11T09:35:30.091Z"
   },
   {
    "duration": 41,
    "start_time": "2021-12-11T09:35:30.136Z"
   },
   {
    "duration": 11,
    "start_time": "2021-12-11T09:35:30.179Z"
   },
   {
    "duration": 255,
    "start_time": "2021-12-11T09:35:30.191Z"
   },
   {
    "duration": 11,
    "start_time": "2021-12-11T09:35:30.448Z"
   },
   {
    "duration": 233,
    "start_time": "2021-12-11T09:35:30.461Z"
   },
   {
    "duration": 11,
    "start_time": "2021-12-11T09:35:30.699Z"
   },
   {
    "duration": 241,
    "start_time": "2021-12-11T09:35:30.713Z"
   },
   {
    "duration": 13,
    "start_time": "2021-12-11T09:35:30.955Z"
   },
   {
    "duration": 253,
    "start_time": "2021-12-11T09:35:30.970Z"
   },
   {
    "duration": 20,
    "start_time": "2021-12-11T09:35:31.225Z"
   },
   {
    "duration": 211,
    "start_time": "2021-12-11T09:35:31.248Z"
   },
   {
    "duration": 631,
    "start_time": "2021-12-11T09:35:31.461Z"
   },
   {
    "duration": 13,
    "start_time": "2021-12-11T09:35:32.094Z"
   },
   {
    "duration": 57,
    "start_time": "2021-12-11T09:35:32.109Z"
   },
   {
    "duration": 13,
    "start_time": "2021-12-11T09:35:32.168Z"
   },
   {
    "duration": 144,
    "start_time": "2021-12-11T09:35:32.183Z"
   },
   {
    "duration": 748,
    "start_time": "2021-12-11T09:35:32.329Z"
   },
   {
    "duration": 8,
    "start_time": "2021-12-11T09:35:33.079Z"
   },
   {
    "duration": 240,
    "start_time": "2021-12-11T09:35:33.089Z"
   },
   {
    "duration": 226,
    "start_time": "2021-12-11T09:35:33.331Z"
   },
   {
    "duration": 214,
    "start_time": "2021-12-11T09:35:33.559Z"
   },
   {
    "duration": 522,
    "start_time": "2021-12-11T09:35:33.775Z"
   },
   {
    "duration": 192,
    "start_time": "2021-12-11T09:35:34.299Z"
   },
   {
    "duration": 210,
    "start_time": "2021-12-11T09:35:34.493Z"
   },
   {
    "duration": 26,
    "start_time": "2021-12-11T09:35:34.705Z"
   },
   {
    "duration": 47,
    "start_time": "2021-12-11T09:35:34.732Z"
   },
   {
    "duration": 20,
    "start_time": "2021-12-11T09:35:34.781Z"
   },
   {
    "duration": 559,
    "start_time": "2021-12-11T09:35:34.803Z"
   },
   {
    "duration": -650,
    "start_time": "2021-12-11T09:35:36.014Z"
   },
   {
    "duration": -659,
    "start_time": "2021-12-11T09:35:36.024Z"
   },
   {
    "duration": 321,
    "start_time": "2021-12-11T09:37:56.662Z"
   },
   {
    "duration": 20,
    "start_time": "2021-12-11T09:44:02.419Z"
   },
   {
    "duration": 177,
    "start_time": "2021-12-11T09:44:38.620Z"
   },
   {
    "duration": 175,
    "start_time": "2021-12-11T09:46:28.024Z"
   },
   {
    "duration": 301,
    "start_time": "2021-12-11T09:47:03.816Z"
   },
   {
    "duration": 340,
    "start_time": "2021-12-11T09:47:54.339Z"
   },
   {
    "duration": 316,
    "start_time": "2021-12-11T09:50:54.321Z"
   },
   {
    "duration": 18,
    "start_time": "2021-12-11T09:51:17.684Z"
   },
   {
    "duration": -641,
    "start_time": "2021-12-11T09:54:20.143Z"
   },
   {
    "duration": 305,
    "start_time": "2021-12-11T10:02:52.120Z"
   },
   {
    "duration": 308,
    "start_time": "2021-12-11T10:03:10.571Z"
   },
   {
    "duration": 6,
    "start_time": "2021-12-11T10:08:06.668Z"
   },
   {
    "duration": 5,
    "start_time": "2021-12-11T10:08:19.503Z"
   },
   {
    "duration": 5,
    "start_time": "2021-12-11T10:52:43.172Z"
   },
   {
    "duration": 5,
    "start_time": "2021-12-11T10:52:45.744Z"
   },
   {
    "duration": 3,
    "start_time": "2021-12-11T10:52:50.242Z"
   },
   {
    "duration": 95,
    "start_time": "2021-12-11T10:52:50.251Z"
   },
   {
    "duration": 32,
    "start_time": "2021-12-11T10:52:50.348Z"
   },
   {
    "duration": 102,
    "start_time": "2021-12-11T10:52:50.383Z"
   },
   {
    "duration": 12,
    "start_time": "2021-12-11T10:52:50.488Z"
   },
   {
    "duration": 56,
    "start_time": "2021-12-11T10:52:50.502Z"
   },
   {
    "duration": 4,
    "start_time": "2021-12-11T10:52:50.560Z"
   },
   {
    "duration": 15,
    "start_time": "2021-12-11T10:52:50.566Z"
   },
   {
    "duration": 16,
    "start_time": "2021-12-11T10:52:50.584Z"
   },
   {
    "duration": 15,
    "start_time": "2021-12-11T10:52:50.602Z"
   },
   {
    "duration": 28,
    "start_time": "2021-12-11T10:52:50.619Z"
   },
   {
    "duration": 6,
    "start_time": "2021-12-11T10:52:50.649Z"
   },
   {
    "duration": 26,
    "start_time": "2021-12-11T10:52:50.657Z"
   },
   {
    "duration": 9,
    "start_time": "2021-12-11T10:52:50.684Z"
   },
   {
    "duration": 9,
    "start_time": "2021-12-11T10:52:50.695Z"
   },
   {
    "duration": 46,
    "start_time": "2021-12-11T10:52:50.705Z"
   },
   {
    "duration": 8,
    "start_time": "2021-12-11T10:52:50.752Z"
   },
   {
    "duration": 23,
    "start_time": "2021-12-11T10:52:50.762Z"
   },
   {
    "duration": 5,
    "start_time": "2021-12-11T10:52:50.787Z"
   },
   {
    "duration": 15,
    "start_time": "2021-12-11T10:52:50.794Z"
   },
   {
    "duration": 40,
    "start_time": "2021-12-11T10:52:50.811Z"
   },
   {
    "duration": 13,
    "start_time": "2021-12-11T10:52:50.853Z"
   },
   {
    "duration": 7,
    "start_time": "2021-12-11T10:52:50.868Z"
   },
   {
    "duration": 5,
    "start_time": "2021-12-11T10:52:50.879Z"
   },
   {
    "duration": 14,
    "start_time": "2021-12-11T10:52:50.887Z"
   },
   {
    "duration": 44,
    "start_time": "2021-12-11T10:52:50.902Z"
   },
   {
    "duration": 10,
    "start_time": "2021-12-11T10:52:50.948Z"
   },
   {
    "duration": 27,
    "start_time": "2021-12-11T10:52:50.960Z"
   },
   {
    "duration": 5,
    "start_time": "2021-12-11T10:52:50.989Z"
   },
   {
    "duration": 7,
    "start_time": "2021-12-11T10:52:50.996Z"
   },
   {
    "duration": 41,
    "start_time": "2021-12-11T10:52:51.005Z"
   },
   {
    "duration": 1721,
    "start_time": "2021-12-11T10:52:51.048Z"
   },
   {
    "duration": 4,
    "start_time": "2021-12-11T10:52:52.771Z"
   },
   {
    "duration": 11,
    "start_time": "2021-12-11T10:52:52.777Z"
   },
   {
    "duration": 5,
    "start_time": "2021-12-11T10:52:52.790Z"
   },
   {
    "duration": 6,
    "start_time": "2021-12-11T10:52:52.796Z"
   },
   {
    "duration": 6,
    "start_time": "2021-12-11T10:52:52.804Z"
   },
   {
    "duration": 44,
    "start_time": "2021-12-11T10:52:52.812Z"
   },
   {
    "duration": 4,
    "start_time": "2021-12-11T10:52:52.858Z"
   },
   {
    "duration": 7,
    "start_time": "2021-12-11T10:52:52.864Z"
   },
   {
    "duration": 5,
    "start_time": "2021-12-11T10:52:52.872Z"
   },
   {
    "duration": 8,
    "start_time": "2021-12-11T10:52:52.879Z"
   },
   {
    "duration": 4,
    "start_time": "2021-12-11T10:52:52.889Z"
   },
   {
    "duration": 6,
    "start_time": "2021-12-11T10:52:52.895Z"
   },
   {
    "duration": 42,
    "start_time": "2021-12-11T10:52:52.903Z"
   },
   {
    "duration": 5,
    "start_time": "2021-12-11T10:52:52.947Z"
   },
   {
    "duration": 7,
    "start_time": "2021-12-11T10:52:52.954Z"
   },
   {
    "duration": 5,
    "start_time": "2021-12-11T10:52:52.963Z"
   },
   {
    "duration": 6,
    "start_time": "2021-12-11T10:52:52.969Z"
   },
   {
    "duration": 10,
    "start_time": "2021-12-11T10:52:52.976Z"
   },
   {
    "duration": 9,
    "start_time": "2021-12-11T10:52:52.988Z"
   },
   {
    "duration": 6,
    "start_time": "2021-12-11T10:52:52.999Z"
   },
   {
    "duration": 40,
    "start_time": "2021-12-11T10:52:53.007Z"
   },
   {
    "duration": 5,
    "start_time": "2021-12-11T10:52:53.048Z"
   },
   {
    "duration": 9,
    "start_time": "2021-12-11T10:52:53.057Z"
   },
   {
    "duration": 4,
    "start_time": "2021-12-11T10:52:53.068Z"
   },
   {
    "duration": 24,
    "start_time": "2021-12-11T10:52:53.074Z"
   },
   {
    "duration": 56,
    "start_time": "2021-12-11T10:52:53.099Z"
   },
   {
    "duration": 3,
    "start_time": "2021-12-11T10:52:53.156Z"
   },
   {
    "duration": 648,
    "start_time": "2021-12-11T10:52:53.161Z"
   },
   {
    "duration": 44,
    "start_time": "2021-12-11T10:52:53.811Z"
   },
   {
    "duration": 4,
    "start_time": "2021-12-11T10:52:53.857Z"
   },
   {
    "duration": 7,
    "start_time": "2021-12-11T10:52:53.863Z"
   },
   {
    "duration": 5,
    "start_time": "2021-12-11T10:52:53.871Z"
   },
   {
    "duration": 24,
    "start_time": "2021-12-11T10:52:53.878Z"
   },
   {
    "duration": 59,
    "start_time": "2021-12-11T10:52:53.904Z"
   },
   {
    "duration": 5,
    "start_time": "2021-12-11T10:52:53.965Z"
   },
   {
    "duration": 237,
    "start_time": "2021-12-11T10:52:53.972Z"
   },
   {
    "duration": 13,
    "start_time": "2021-12-11T10:52:54.211Z"
   },
   {
    "duration": 227,
    "start_time": "2021-12-11T10:52:54.225Z"
   },
   {
    "duration": 14,
    "start_time": "2021-12-11T10:52:54.454Z"
   },
   {
    "duration": 238,
    "start_time": "2021-12-11T10:52:54.470Z"
   },
   {
    "duration": 12,
    "start_time": "2021-12-11T10:52:54.710Z"
   },
   {
    "duration": 265,
    "start_time": "2021-12-11T10:52:54.724Z"
   },
   {
    "duration": 14,
    "start_time": "2021-12-11T10:52:54.991Z"
   },
   {
    "duration": 149,
    "start_time": "2021-12-11T10:52:55.006Z"
   },
   {
    "duration": 663,
    "start_time": "2021-12-11T10:52:55.157Z"
   },
   {
    "duration": 22,
    "start_time": "2021-12-11T10:52:55.822Z"
   },
   {
    "duration": 39,
    "start_time": "2021-12-11T10:52:55.846Z"
   },
   {
    "duration": 11,
    "start_time": "2021-12-11T10:52:55.887Z"
   },
   {
    "duration": 160,
    "start_time": "2021-12-11T10:52:55.900Z"
   },
   {
    "duration": 750,
    "start_time": "2021-12-11T10:52:56.061Z"
   },
   {
    "duration": 8,
    "start_time": "2021-12-11T10:52:56.813Z"
   },
   {
    "duration": 237,
    "start_time": "2021-12-11T10:52:56.822Z"
   },
   {
    "duration": 237,
    "start_time": "2021-12-11T10:52:57.060Z"
   },
   {
    "duration": 226,
    "start_time": "2021-12-11T10:52:57.299Z"
   },
   {
    "duration": 506,
    "start_time": "2021-12-11T10:52:57.528Z"
   },
   {
    "duration": 194,
    "start_time": "2021-12-11T10:52:58.036Z"
   },
   {
    "duration": 217,
    "start_time": "2021-12-11T10:52:58.231Z"
   },
   {
    "duration": 26,
    "start_time": "2021-12-11T10:52:58.449Z"
   },
   {
    "duration": 18,
    "start_time": "2021-12-11T10:52:58.477Z"
   },
   {
    "duration": 29,
    "start_time": "2021-12-11T10:52:58.497Z"
   },
   {
    "duration": 49,
    "start_time": "2021-12-11T10:52:58.528Z"
   },
   {
    "duration": 285,
    "start_time": "2021-12-11T10:52:58.579Z"
   },
   {
    "duration": -8033,
    "start_time": "2021-12-11T10:53:06.899Z"
   },
   {
    "duration": -8051,
    "start_time": "2021-12-11T10:53:06.919Z"
   },
   {
    "duration": 313,
    "start_time": "2021-12-11T10:53:34.545Z"
   },
   {
    "duration": 815,
    "start_time": "2021-12-11T10:56:53.029Z"
   },
   {
    "duration": 101,
    "start_time": "2021-12-11T10:56:53.846Z"
   },
   {
    "duration": 25,
    "start_time": "2021-12-11T10:56:53.949Z"
   },
   {
    "duration": 92,
    "start_time": "2021-12-11T10:56:53.977Z"
   },
   {
    "duration": 10,
    "start_time": "2021-12-11T10:56:54.071Z"
   },
   {
    "duration": 45,
    "start_time": "2021-12-11T10:56:54.083Z"
   },
   {
    "duration": 4,
    "start_time": "2021-12-11T10:56:54.130Z"
   },
   {
    "duration": 20,
    "start_time": "2021-12-11T10:56:54.137Z"
   },
   {
    "duration": 32,
    "start_time": "2021-12-11T10:56:54.160Z"
   },
   {
    "duration": 30,
    "start_time": "2021-12-11T10:56:54.194Z"
   },
   {
    "duration": 23,
    "start_time": "2021-12-11T10:56:54.226Z"
   },
   {
    "duration": 18,
    "start_time": "2021-12-11T10:56:54.251Z"
   },
   {
    "duration": 37,
    "start_time": "2021-12-11T10:56:54.271Z"
   },
   {
    "duration": 21,
    "start_time": "2021-12-11T10:56:54.310Z"
   },
   {
    "duration": 37,
    "start_time": "2021-12-11T10:56:54.333Z"
   },
   {
    "duration": 35,
    "start_time": "2021-12-11T10:56:54.371Z"
   },
   {
    "duration": 13,
    "start_time": "2021-12-11T10:56:54.408Z"
   },
   {
    "duration": 36,
    "start_time": "2021-12-11T10:56:54.423Z"
   },
   {
    "duration": 23,
    "start_time": "2021-12-11T10:56:54.461Z"
   },
   {
    "duration": 27,
    "start_time": "2021-12-11T10:56:54.486Z"
   },
   {
    "duration": 29,
    "start_time": "2021-12-11T10:56:54.514Z"
   },
   {
    "duration": 39,
    "start_time": "2021-12-11T10:56:54.544Z"
   },
   {
    "duration": 12,
    "start_time": "2021-12-11T10:56:54.588Z"
   },
   {
    "duration": 24,
    "start_time": "2021-12-11T10:56:54.603Z"
   },
   {
    "duration": 41,
    "start_time": "2021-12-11T10:56:54.629Z"
   },
   {
    "duration": 21,
    "start_time": "2021-12-11T10:56:54.672Z"
   },
   {
    "duration": 31,
    "start_time": "2021-12-11T10:56:54.695Z"
   },
   {
    "duration": 58,
    "start_time": "2021-12-11T10:56:54.729Z"
   },
   {
    "duration": 19,
    "start_time": "2021-12-11T10:56:54.789Z"
   },
   {
    "duration": 28,
    "start_time": "2021-12-11T10:56:54.810Z"
   },
   {
    "duration": 32,
    "start_time": "2021-12-11T10:56:54.840Z"
   },
   {
    "duration": 1503,
    "start_time": "2021-12-11T10:56:54.874Z"
   },
   {
    "duration": 5,
    "start_time": "2021-12-11T10:56:56.380Z"
   },
   {
    "duration": 30,
    "start_time": "2021-12-11T10:56:56.387Z"
   },
   {
    "duration": 19,
    "start_time": "2021-12-11T10:56:56.418Z"
   },
   {
    "duration": 33,
    "start_time": "2021-12-11T10:56:56.438Z"
   },
   {
    "duration": 44,
    "start_time": "2021-12-11T10:56:56.473Z"
   },
   {
    "duration": 59,
    "start_time": "2021-12-11T10:56:56.520Z"
   },
   {
    "duration": 35,
    "start_time": "2021-12-11T10:56:56.581Z"
   },
   {
    "duration": 65,
    "start_time": "2021-12-11T10:56:56.619Z"
   },
   {
    "duration": 40,
    "start_time": "2021-12-11T10:56:56.686Z"
   },
   {
    "duration": 38,
    "start_time": "2021-12-11T10:56:56.728Z"
   },
   {
    "duration": 28,
    "start_time": "2021-12-11T10:56:56.768Z"
   },
   {
    "duration": 24,
    "start_time": "2021-12-11T10:56:56.797Z"
   },
   {
    "duration": 25,
    "start_time": "2021-12-11T10:56:56.823Z"
   },
   {
    "duration": 30,
    "start_time": "2021-12-11T10:56:56.850Z"
   },
   {
    "duration": 42,
    "start_time": "2021-12-11T10:56:56.881Z"
   },
   {
    "duration": 23,
    "start_time": "2021-12-11T10:56:56.924Z"
   },
   {
    "duration": 16,
    "start_time": "2021-12-11T10:56:56.948Z"
   },
   {
    "duration": 14,
    "start_time": "2021-12-11T10:56:56.966Z"
   },
   {
    "duration": 15,
    "start_time": "2021-12-11T10:56:56.982Z"
   },
   {
    "duration": 36,
    "start_time": "2021-12-11T10:56:56.999Z"
   },
   {
    "duration": 15,
    "start_time": "2021-12-11T10:56:57.037Z"
   },
   {
    "duration": 25,
    "start_time": "2021-12-11T10:56:57.054Z"
   },
   {
    "duration": 18,
    "start_time": "2021-12-11T10:56:57.081Z"
   },
   {
    "duration": 22,
    "start_time": "2021-12-11T10:56:57.101Z"
   },
   {
    "duration": 41,
    "start_time": "2021-12-11T10:56:57.125Z"
   },
   {
    "duration": 24,
    "start_time": "2021-12-11T10:56:57.168Z"
   },
   {
    "duration": 4,
    "start_time": "2021-12-11T10:56:57.194Z"
   },
   {
    "duration": 697,
    "start_time": "2021-12-11T10:56:57.200Z"
   },
   {
    "duration": 54,
    "start_time": "2021-12-11T10:56:57.899Z"
   },
   {
    "duration": 5,
    "start_time": "2021-12-11T10:56:57.955Z"
   },
   {
    "duration": 29,
    "start_time": "2021-12-11T10:56:57.962Z"
   },
   {
    "duration": 26,
    "start_time": "2021-12-11T10:56:57.994Z"
   },
   {
    "duration": 55,
    "start_time": "2021-12-11T10:56:58.022Z"
   },
   {
    "duration": 44,
    "start_time": "2021-12-11T10:56:58.079Z"
   },
   {
    "duration": 18,
    "start_time": "2021-12-11T10:56:58.126Z"
   },
   {
    "duration": 413,
    "start_time": "2021-12-11T10:56:58.153Z"
   },
   {
    "duration": 13,
    "start_time": "2021-12-11T10:56:58.569Z"
   },
   {
    "duration": 245,
    "start_time": "2021-12-11T10:56:58.583Z"
   },
   {
    "duration": 23,
    "start_time": "2021-12-11T10:56:58.831Z"
   },
   {
    "duration": 307,
    "start_time": "2021-12-11T10:56:58.856Z"
   },
   {
    "duration": 20,
    "start_time": "2021-12-11T10:56:59.165Z"
   },
   {
    "duration": 271,
    "start_time": "2021-12-11T10:56:59.187Z"
   },
   {
    "duration": 13,
    "start_time": "2021-12-11T10:56:59.460Z"
   },
   {
    "duration": 156,
    "start_time": "2021-12-11T10:56:59.475Z"
   },
   {
    "duration": 677,
    "start_time": "2021-12-11T10:56:59.633Z"
   },
   {
    "duration": 16,
    "start_time": "2021-12-11T10:57:00.312Z"
   },
   {
    "duration": 36,
    "start_time": "2021-12-11T10:57:00.344Z"
   },
   {
    "duration": 13,
    "start_time": "2021-12-11T10:57:00.382Z"
   },
   {
    "duration": 135,
    "start_time": "2021-12-11T10:57:00.397Z"
   },
   {
    "duration": 733,
    "start_time": "2021-12-11T10:57:00.534Z"
   },
   {
    "duration": 9,
    "start_time": "2021-12-11T10:57:01.269Z"
   },
   {
    "duration": 224,
    "start_time": "2021-12-11T10:57:01.280Z"
   },
   {
    "duration": 218,
    "start_time": "2021-12-11T10:57:01.505Z"
   },
   {
    "duration": 210,
    "start_time": "2021-12-11T10:57:01.724Z"
   },
   {
    "duration": 489,
    "start_time": "2021-12-11T10:57:01.936Z"
   },
   {
    "duration": 191,
    "start_time": "2021-12-11T10:57:02.427Z"
   },
   {
    "duration": 217,
    "start_time": "2021-12-11T10:57:02.620Z"
   },
   {
    "duration": 28,
    "start_time": "2021-12-11T10:57:02.839Z"
   },
   {
    "duration": 8,
    "start_time": "2021-12-11T10:57:02.869Z"
   },
   {
    "duration": 8,
    "start_time": "2021-12-11T10:57:02.879Z"
   },
   {
    "duration": 422,
    "start_time": "2021-12-11T10:57:02.889Z"
   },
   {
    "duration": -1353,
    "start_time": "2021-12-11T10:57:04.666Z"
   },
   {
    "duration": -1365,
    "start_time": "2021-12-11T10:57:04.680Z"
   },
   {
    "duration": 343,
    "start_time": "2021-12-11T11:37:41.601Z"
   },
   {
    "duration": 7,
    "start_time": "2021-12-11T11:41:05.655Z"
   },
   {
    "duration": 1082,
    "start_time": "2021-12-11T11:41:08.418Z"
   },
   {
    "duration": 1062,
    "start_time": "2021-12-11T11:43:12.213Z"
   },
   {
    "duration": 9,
    "start_time": "2021-12-11T11:44:40.975Z"
   },
   {
    "duration": 580,
    "start_time": "2021-12-11T11:44:44.545Z"
   },
   {
    "duration": 320,
    "start_time": "2021-12-11T11:45:06.775Z"
   },
   {
    "duration": 4,
    "start_time": "2021-12-11T11:51:30.914Z"
   },
   {
    "duration": 96,
    "start_time": "2021-12-11T11:51:30.923Z"
   },
   {
    "duration": 39,
    "start_time": "2021-12-11T11:51:31.021Z"
   },
   {
    "duration": 89,
    "start_time": "2021-12-11T11:51:31.063Z"
   },
   {
    "duration": 10,
    "start_time": "2021-12-11T11:51:31.154Z"
   },
   {
    "duration": 23,
    "start_time": "2021-12-11T11:51:31.166Z"
   },
   {
    "duration": 3,
    "start_time": "2021-12-11T11:51:31.191Z"
   },
   {
    "duration": 12,
    "start_time": "2021-12-11T11:51:31.196Z"
   },
   {
    "duration": 35,
    "start_time": "2021-12-11T11:51:31.210Z"
   },
   {
    "duration": 11,
    "start_time": "2021-12-11T11:51:31.247Z"
   },
   {
    "duration": 8,
    "start_time": "2021-12-11T11:51:31.260Z"
   },
   {
    "duration": 5,
    "start_time": "2021-12-11T11:51:31.270Z"
   },
   {
    "duration": 27,
    "start_time": "2021-12-11T11:51:31.276Z"
   },
   {
    "duration": 6,
    "start_time": "2021-12-11T11:51:31.305Z"
   },
   {
    "duration": 7,
    "start_time": "2021-12-11T11:51:31.345Z"
   },
   {
    "duration": 23,
    "start_time": "2021-12-11T11:51:31.353Z"
   },
   {
    "duration": 8,
    "start_time": "2021-12-11T11:51:31.377Z"
   },
   {
    "duration": 21,
    "start_time": "2021-12-11T11:51:31.386Z"
   },
   {
    "duration": 37,
    "start_time": "2021-12-11T11:51:31.409Z"
   },
   {
    "duration": 10,
    "start_time": "2021-12-11T11:51:31.448Z"
   },
   {
    "duration": 12,
    "start_time": "2021-12-11T11:51:31.460Z"
   },
   {
    "duration": 6,
    "start_time": "2021-12-11T11:51:31.473Z"
   },
   {
    "duration": 5,
    "start_time": "2021-12-11T11:51:31.481Z"
   },
   {
    "duration": 7,
    "start_time": "2021-12-11T11:51:31.490Z"
   },
   {
    "duration": 5,
    "start_time": "2021-12-11T11:51:31.499Z"
   },
   {
    "duration": 45,
    "start_time": "2021-12-11T11:51:31.506Z"
   },
   {
    "duration": 23,
    "start_time": "2021-12-11T11:51:31.552Z"
   },
   {
    "duration": 5,
    "start_time": "2021-12-11T11:51:31.576Z"
   },
   {
    "duration": 6,
    "start_time": "2021-12-11T11:51:31.583Z"
   },
   {
    "duration": 6,
    "start_time": "2021-12-11T11:51:31.591Z"
   },
   {
    "duration": 1488,
    "start_time": "2021-12-11T11:51:31.599Z"
   },
   {
    "duration": 4,
    "start_time": "2021-12-11T11:51:33.089Z"
   },
   {
    "duration": 5,
    "start_time": "2021-12-11T11:51:33.095Z"
   },
   {
    "duration": 5,
    "start_time": "2021-12-11T11:51:33.101Z"
   },
   {
    "duration": 6,
    "start_time": "2021-12-11T11:51:33.107Z"
   },
   {
    "duration": 30,
    "start_time": "2021-12-11T11:51:33.114Z"
   },
   {
    "duration": 21,
    "start_time": "2021-12-11T11:51:33.146Z"
   },
   {
    "duration": 6,
    "start_time": "2021-12-11T11:51:33.169Z"
   },
   {
    "duration": 7,
    "start_time": "2021-12-11T11:51:33.176Z"
   },
   {
    "duration": 4,
    "start_time": "2021-12-11T11:51:33.185Z"
   },
   {
    "duration": 6,
    "start_time": "2021-12-11T11:51:33.190Z"
   },
   {
    "duration": 5,
    "start_time": "2021-12-11T11:51:33.198Z"
   },
   {
    "duration": 45,
    "start_time": "2021-12-11T11:51:33.204Z"
   },
   {
    "duration": 4,
    "start_time": "2021-12-11T11:51:33.251Z"
   },
   {
    "duration": 12,
    "start_time": "2021-12-11T11:51:33.257Z"
   },
   {
    "duration": 29,
    "start_time": "2021-12-11T11:51:33.271Z"
   },
   {
    "duration": 5,
    "start_time": "2021-12-11T11:51:33.302Z"
   },
   {
    "duration": 7,
    "start_time": "2021-12-11T11:51:33.309Z"
   },
   {
    "duration": 7,
    "start_time": "2021-12-11T11:51:33.318Z"
   },
   {
    "duration": 19,
    "start_time": "2021-12-11T11:51:33.327Z"
   },
   {
    "duration": 5,
    "start_time": "2021-12-11T11:51:33.348Z"
   },
   {
    "duration": 5,
    "start_time": "2021-12-11T11:51:33.356Z"
   },
   {
    "duration": 14,
    "start_time": "2021-12-11T11:51:33.363Z"
   },
   {
    "duration": 8,
    "start_time": "2021-12-11T11:51:33.379Z"
   },
   {
    "duration": 4,
    "start_time": "2021-12-11T11:51:33.389Z"
   },
   {
    "duration": 50,
    "start_time": "2021-12-11T11:51:33.395Z"
   },
   {
    "duration": 28,
    "start_time": "2021-12-11T11:51:33.447Z"
   },
   {
    "duration": 3,
    "start_time": "2021-12-11T11:51:33.480Z"
   },
   {
    "duration": 893,
    "start_time": "2021-12-11T11:51:33.485Z"
   },
   {
    "duration": 31,
    "start_time": "2021-12-11T11:51:34.380Z"
   },
   {
    "duration": 5,
    "start_time": "2021-12-11T11:51:34.413Z"
   },
   {
    "duration": 26,
    "start_time": "2021-12-11T11:51:34.420Z"
   },
   {
    "duration": 6,
    "start_time": "2021-12-11T11:51:34.448Z"
   },
   {
    "duration": 23,
    "start_time": "2021-12-11T11:51:34.456Z"
   },
   {
    "duration": 28,
    "start_time": "2021-12-11T11:51:34.481Z"
   },
   {
    "duration": 34,
    "start_time": "2021-12-11T11:51:34.511Z"
   },
   {
    "duration": 244,
    "start_time": "2021-12-11T11:51:34.547Z"
   },
   {
    "duration": 14,
    "start_time": "2021-12-11T11:51:34.793Z"
   },
   {
    "duration": 237,
    "start_time": "2021-12-11T11:51:34.809Z"
   },
   {
    "duration": 11,
    "start_time": "2021-12-11T11:51:35.047Z"
   },
   {
    "duration": 262,
    "start_time": "2021-12-11T11:51:35.059Z"
   },
   {
    "duration": 26,
    "start_time": "2021-12-11T11:51:35.323Z"
   },
   {
    "duration": 240,
    "start_time": "2021-12-11T11:51:35.351Z"
   },
   {
    "duration": 11,
    "start_time": "2021-12-11T11:51:35.593Z"
   },
   {
    "duration": 140,
    "start_time": "2021-12-11T11:51:35.606Z"
   },
   {
    "duration": 642,
    "start_time": "2021-12-11T11:51:35.747Z"
   },
   {
    "duration": 12,
    "start_time": "2021-12-11T11:51:36.391Z"
   },
   {
    "duration": 56,
    "start_time": "2021-12-11T11:51:36.405Z"
   },
   {
    "duration": 14,
    "start_time": "2021-12-11T11:51:36.463Z"
   },
   {
    "duration": 204,
    "start_time": "2021-12-11T11:51:36.479Z"
   },
   {
    "duration": 1182,
    "start_time": "2021-12-11T11:51:36.685Z"
   },
   {
    "duration": 11,
    "start_time": "2021-12-11T11:51:37.869Z"
   },
   {
    "duration": 349,
    "start_time": "2021-12-11T11:51:37.882Z"
   },
   {
    "duration": 349,
    "start_time": "2021-12-11T11:51:38.234Z"
   },
   {
    "duration": 326,
    "start_time": "2021-12-11T11:51:38.585Z"
   },
   {
    "duration": 793,
    "start_time": "2021-12-11T11:51:38.913Z"
   },
   {
    "duration": 188,
    "start_time": "2021-12-11T11:51:39.709Z"
   },
   {
    "duration": 226,
    "start_time": "2021-12-11T11:51:39.898Z"
   },
   {
    "duration": 37,
    "start_time": "2021-12-11T11:51:40.126Z"
   },
   {
    "duration": 7,
    "start_time": "2021-12-11T11:51:40.164Z"
   },
   {
    "duration": 16,
    "start_time": "2021-12-11T11:51:40.173Z"
   },
   {
    "duration": 300,
    "start_time": "2021-12-11T11:51:40.191Z"
   },
   {
    "duration": -3127,
    "start_time": "2021-12-11T11:51:43.620Z"
   },
   {
    "duration": -3137,
    "start_time": "2021-12-11T11:51:43.631Z"
   },
   {
    "duration": 555,
    "start_time": "2021-12-11T11:55:24.229Z"
   },
   {
    "duration": 192,
    "start_time": "2021-12-11T11:55:48.886Z"
   },
   {
    "duration": 208,
    "start_time": "2021-12-11T11:59:17.538Z"
   },
   {
    "duration": 7571,
    "start_time": "2021-12-11T12:12:02.827Z"
   },
   {
    "duration": 285,
    "start_time": "2021-12-11T12:12:23.285Z"
   },
   {
    "duration": 3,
    "start_time": "2021-12-11T12:14:23.355Z"
   },
   {
    "duration": 85,
    "start_time": "2021-12-11T12:14:23.368Z"
   },
   {
    "duration": 24,
    "start_time": "2021-12-11T12:14:23.455Z"
   },
   {
    "duration": 92,
    "start_time": "2021-12-11T12:14:23.481Z"
   },
   {
    "duration": 10,
    "start_time": "2021-12-11T12:14:23.574Z"
   },
   {
    "duration": 25,
    "start_time": "2021-12-11T12:14:23.586Z"
   },
   {
    "duration": 4,
    "start_time": "2021-12-11T12:14:23.612Z"
   },
   {
    "duration": 30,
    "start_time": "2021-12-11T12:14:23.618Z"
   },
   {
    "duration": 13,
    "start_time": "2021-12-11T12:14:23.651Z"
   },
   {
    "duration": 18,
    "start_time": "2021-12-11T12:14:23.666Z"
   },
   {
    "duration": 10,
    "start_time": "2021-12-11T12:14:23.686Z"
   },
   {
    "duration": 9,
    "start_time": "2021-12-11T12:14:23.698Z"
   },
   {
    "duration": 44,
    "start_time": "2021-12-11T12:14:23.709Z"
   },
   {
    "duration": 7,
    "start_time": "2021-12-11T12:14:23.755Z"
   },
   {
    "duration": 9,
    "start_time": "2021-12-11T12:14:23.763Z"
   },
   {
    "duration": 21,
    "start_time": "2021-12-11T12:14:23.773Z"
   },
   {
    "duration": 6,
    "start_time": "2021-12-11T12:14:23.796Z"
   },
   {
    "duration": 50,
    "start_time": "2021-12-11T12:14:23.804Z"
   },
   {
    "duration": 5,
    "start_time": "2021-12-11T12:14:23.856Z"
   },
   {
    "duration": 7,
    "start_time": "2021-12-11T12:14:23.862Z"
   },
   {
    "duration": 11,
    "start_time": "2021-12-11T12:14:23.871Z"
   },
   {
    "duration": 6,
    "start_time": "2021-12-11T12:14:23.884Z"
   },
   {
    "duration": 5,
    "start_time": "2021-12-11T12:14:23.892Z"
   },
   {
    "duration": 44,
    "start_time": "2021-12-11T12:14:23.900Z"
   },
   {
    "duration": 5,
    "start_time": "2021-12-11T12:14:23.947Z"
   },
   {
    "duration": 11,
    "start_time": "2021-12-11T12:14:23.954Z"
   },
   {
    "duration": 23,
    "start_time": "2021-12-11T12:14:23.966Z"
   },
   {
    "duration": 5,
    "start_time": "2021-12-11T12:14:23.990Z"
   },
   {
    "duration": 16,
    "start_time": "2021-12-11T12:14:23.996Z"
   },
   {
    "duration": 33,
    "start_time": "2021-12-11T12:14:24.014Z"
   },
   {
    "duration": 1487,
    "start_time": "2021-12-11T12:14:24.048Z"
   },
   {
    "duration": 8,
    "start_time": "2021-12-11T12:14:25.537Z"
   },
   {
    "duration": 4,
    "start_time": "2021-12-11T12:14:25.546Z"
   },
   {
    "duration": 6,
    "start_time": "2021-12-11T12:14:25.551Z"
   },
   {
    "duration": 6,
    "start_time": "2021-12-11T12:14:25.558Z"
   },
   {
    "duration": 5,
    "start_time": "2021-12-11T12:14:25.565Z"
   },
   {
    "duration": 23,
    "start_time": "2021-12-11T12:14:25.572Z"
   },
   {
    "duration": 4,
    "start_time": "2021-12-11T12:14:25.597Z"
   },
   {
    "duration": 44,
    "start_time": "2021-12-11T12:14:25.602Z"
   },
   {
    "duration": 4,
    "start_time": "2021-12-11T12:14:25.647Z"
   },
   {
    "duration": 10,
    "start_time": "2021-12-11T12:14:25.653Z"
   },
   {
    "duration": 9,
    "start_time": "2021-12-11T12:14:25.664Z"
   },
   {
    "duration": 6,
    "start_time": "2021-12-11T12:14:25.675Z"
   },
   {
    "duration": 3,
    "start_time": "2021-12-11T12:14:25.685Z"
   },
   {
    "duration": 6,
    "start_time": "2021-12-11T12:14:25.691Z"
   },
   {
    "duration": 7,
    "start_time": "2021-12-11T12:14:25.699Z"
   },
   {
    "duration": 5,
    "start_time": "2021-12-11T12:14:25.707Z"
   },
   {
    "duration": 33,
    "start_time": "2021-12-11T12:14:25.714Z"
   },
   {
    "duration": 4,
    "start_time": "2021-12-11T12:14:25.749Z"
   },
   {
    "duration": 5,
    "start_time": "2021-12-11T12:14:25.755Z"
   },
   {
    "duration": 4,
    "start_time": "2021-12-11T12:14:25.762Z"
   },
   {
    "duration": 5,
    "start_time": "2021-12-11T12:14:25.768Z"
   },
   {
    "duration": 5,
    "start_time": "2021-12-11T12:14:25.774Z"
   },
   {
    "duration": 8,
    "start_time": "2021-12-11T12:14:25.781Z"
   },
   {
    "duration": 4,
    "start_time": "2021-12-11T12:14:25.791Z"
   },
   {
    "duration": 63,
    "start_time": "2021-12-11T12:14:25.796Z"
   },
   {
    "duration": 23,
    "start_time": "2021-12-11T12:14:25.861Z"
   },
   {
    "duration": 3,
    "start_time": "2021-12-11T12:14:25.885Z"
   },
   {
    "duration": 581,
    "start_time": "2021-12-11T12:14:25.890Z"
   },
   {
    "duration": 21,
    "start_time": "2021-12-11T12:14:26.473Z"
   },
   {
    "duration": 5,
    "start_time": "2021-12-11T12:14:26.496Z"
   },
   {
    "duration": 14,
    "start_time": "2021-12-11T12:14:26.502Z"
   },
   {
    "duration": 8,
    "start_time": "2021-12-11T12:14:26.518Z"
   },
   {
    "duration": 37,
    "start_time": "2021-12-11T12:14:26.527Z"
   },
   {
    "duration": 28,
    "start_time": "2021-12-11T12:14:26.565Z"
   },
   {
    "duration": 4,
    "start_time": "2021-12-11T12:14:26.595Z"
   },
   {
    "duration": 236,
    "start_time": "2021-12-11T12:14:26.600Z"
   },
   {
    "duration": 17,
    "start_time": "2021-12-11T12:14:26.838Z"
   },
   {
    "duration": 224,
    "start_time": "2021-12-11T12:14:26.857Z"
   },
   {
    "duration": 13,
    "start_time": "2021-12-11T12:14:27.082Z"
   },
   {
    "duration": 235,
    "start_time": "2021-12-11T12:14:27.097Z"
   },
   {
    "duration": 20,
    "start_time": "2021-12-11T12:14:27.333Z"
   },
   {
    "duration": 240,
    "start_time": "2021-12-11T12:14:27.355Z"
   },
   {
    "duration": 12,
    "start_time": "2021-12-11T12:14:27.597Z"
   },
   {
    "duration": 136,
    "start_time": "2021-12-11T12:14:27.610Z"
   },
   {
    "duration": 710,
    "start_time": "2021-12-11T12:14:27.748Z"
   },
   {
    "duration": 12,
    "start_time": "2021-12-11T12:14:28.460Z"
   },
   {
    "duration": 37,
    "start_time": "2021-12-11T12:14:28.474Z"
   },
   {
    "duration": 37,
    "start_time": "2021-12-11T12:14:28.513Z"
   },
   {
    "duration": 129,
    "start_time": "2021-12-11T12:14:28.552Z"
   },
   {
    "duration": 633,
    "start_time": "2021-12-11T12:14:28.683Z"
   },
   {
    "duration": 8,
    "start_time": "2021-12-11T12:14:29.318Z"
   },
   {
    "duration": 305,
    "start_time": "2021-12-11T12:14:29.328Z"
   },
   {
    "duration": 221,
    "start_time": "2021-12-11T12:14:29.635Z"
   },
   {
    "duration": 220,
    "start_time": "2021-12-11T12:14:29.858Z"
   },
   {
    "duration": 560,
    "start_time": "2021-12-11T12:14:30.080Z"
   },
   {
    "duration": 192,
    "start_time": "2021-12-11T12:14:30.644Z"
   },
   {
    "duration": 300,
    "start_time": "2021-12-11T12:14:30.838Z"
   },
   {
    "duration": 25,
    "start_time": "2021-12-11T12:14:31.139Z"
   },
   {
    "duration": 9,
    "start_time": "2021-12-11T12:14:31.166Z"
   },
   {
    "duration": 19,
    "start_time": "2021-12-11T12:14:31.177Z"
   },
   {
    "duration": 218,
    "start_time": "2021-12-11T12:14:31.198Z"
   },
   {
    "duration": 9,
    "start_time": "2021-12-11T12:14:31.418Z"
   },
   {
    "duration": 217,
    "start_time": "2021-12-11T12:14:31.429Z"
   },
   {
    "duration": 225,
    "start_time": "2021-12-11T12:14:31.648Z"
   },
   {
    "duration": 295,
    "start_time": "2021-12-11T12:14:31.875Z"
   },
   {
    "duration": 159,
    "start_time": "2021-12-11T12:20:15.258Z"
   },
   {
    "duration": 266,
    "start_time": "2021-12-11T13:41:47.492Z"
   },
   {
    "duration": 560,
    "start_time": "2021-12-11T13:42:15.234Z"
   },
   {
    "duration": 88,
    "start_time": "2021-12-11T13:42:15.796Z"
   },
   {
    "duration": 20,
    "start_time": "2021-12-11T13:42:15.888Z"
   },
   {
    "duration": 62,
    "start_time": "2021-12-11T13:42:15.910Z"
   },
   {
    "duration": 24,
    "start_time": "2021-12-11T13:42:15.973Z"
   },
   {
    "duration": 24,
    "start_time": "2021-12-11T13:42:15.998Z"
   },
   {
    "duration": 3,
    "start_time": "2021-12-11T13:42:16.024Z"
   },
   {
    "duration": 5,
    "start_time": "2021-12-11T13:42:16.029Z"
   },
   {
    "duration": 9,
    "start_time": "2021-12-11T13:42:16.036Z"
   },
   {
    "duration": 15,
    "start_time": "2021-12-11T13:42:16.046Z"
   },
   {
    "duration": 10,
    "start_time": "2021-12-11T13:42:16.087Z"
   },
   {
    "duration": 5,
    "start_time": "2021-12-11T13:42:16.099Z"
   },
   {
    "duration": 22,
    "start_time": "2021-12-11T13:42:16.105Z"
   },
   {
    "duration": 5,
    "start_time": "2021-12-11T13:42:16.129Z"
   },
   {
    "duration": 9,
    "start_time": "2021-12-11T13:42:16.136Z"
   },
   {
    "duration": 44,
    "start_time": "2021-12-11T13:42:16.147Z"
   },
   {
    "duration": 10,
    "start_time": "2021-12-11T13:42:16.193Z"
   },
   {
    "duration": 20,
    "start_time": "2021-12-11T13:42:16.205Z"
   },
   {
    "duration": 4,
    "start_time": "2021-12-11T13:42:16.226Z"
   },
   {
    "duration": 7,
    "start_time": "2021-12-11T13:42:16.232Z"
   },
   {
    "duration": 10,
    "start_time": "2021-12-11T13:42:16.240Z"
   },
   {
    "duration": 39,
    "start_time": "2021-12-11T13:42:16.251Z"
   },
   {
    "duration": 5,
    "start_time": "2021-12-11T13:42:16.293Z"
   },
   {
    "duration": 9,
    "start_time": "2021-12-11T13:42:16.299Z"
   },
   {
    "duration": 4,
    "start_time": "2021-12-11T13:42:16.309Z"
   },
   {
    "duration": 8,
    "start_time": "2021-12-11T13:42:16.315Z"
   },
   {
    "duration": 20,
    "start_time": "2021-12-11T13:42:16.324Z"
   },
   {
    "duration": 4,
    "start_time": "2021-12-11T13:42:16.345Z"
   },
   {
    "duration": 9,
    "start_time": "2021-12-11T13:42:16.351Z"
   },
   {
    "duration": 3,
    "start_time": "2021-12-11T13:42:16.388Z"
   },
   {
    "duration": 1341,
    "start_time": "2021-12-11T13:42:16.393Z"
   },
   {
    "duration": 4,
    "start_time": "2021-12-11T13:42:17.735Z"
   },
   {
    "duration": 5,
    "start_time": "2021-12-11T13:42:17.741Z"
   },
   {
    "duration": 6,
    "start_time": "2021-12-11T13:42:17.747Z"
   },
   {
    "duration": 7,
    "start_time": "2021-12-11T13:42:17.754Z"
   },
   {
    "duration": 4,
    "start_time": "2021-12-11T13:42:17.762Z"
   },
   {
    "duration": 34,
    "start_time": "2021-12-11T13:42:17.768Z"
   },
   {
    "duration": 6,
    "start_time": "2021-12-11T13:42:17.803Z"
   },
   {
    "duration": 7,
    "start_time": "2021-12-11T13:42:17.810Z"
   },
   {
    "duration": 4,
    "start_time": "2021-12-11T13:42:17.818Z"
   },
   {
    "duration": 8,
    "start_time": "2021-12-11T13:42:17.823Z"
   },
   {
    "duration": 3,
    "start_time": "2021-12-11T13:42:17.833Z"
   },
   {
    "duration": 8,
    "start_time": "2021-12-11T13:42:17.838Z"
   },
   {
    "duration": 2,
    "start_time": "2021-12-11T13:42:17.848Z"
   },
   {
    "duration": 36,
    "start_time": "2021-12-11T13:42:17.852Z"
   },
   {
    "duration": 4,
    "start_time": "2021-12-11T13:42:17.889Z"
   },
   {
    "duration": 5,
    "start_time": "2021-12-11T13:42:17.894Z"
   },
   {
    "duration": 5,
    "start_time": "2021-12-11T13:42:17.900Z"
   },
   {
    "duration": 4,
    "start_time": "2021-12-11T13:42:17.906Z"
   },
   {
    "duration": 4,
    "start_time": "2021-12-11T13:42:17.912Z"
   },
   {
    "duration": 4,
    "start_time": "2021-12-11T13:42:17.917Z"
   },
   {
    "duration": 4,
    "start_time": "2021-12-11T13:42:17.922Z"
   },
   {
    "duration": 5,
    "start_time": "2021-12-11T13:42:17.927Z"
   },
   {
    "duration": 9,
    "start_time": "2021-12-11T13:42:17.933Z"
   },
   {
    "duration": 44,
    "start_time": "2021-12-11T13:42:17.944Z"
   },
   {
    "duration": 21,
    "start_time": "2021-12-11T13:42:17.989Z"
   },
   {
    "duration": 20,
    "start_time": "2021-12-11T13:42:18.011Z"
   },
   {
    "duration": 2,
    "start_time": "2021-12-11T13:42:18.033Z"
   },
   {
    "duration": 525,
    "start_time": "2021-12-11T13:42:18.037Z"
   },
   {
    "duration": 28,
    "start_time": "2021-12-11T13:42:18.564Z"
   },
   {
    "duration": 4,
    "start_time": "2021-12-11T13:42:18.594Z"
   },
   {
    "duration": 5,
    "start_time": "2021-12-11T13:42:18.600Z"
   },
   {
    "duration": 8,
    "start_time": "2021-12-11T13:42:18.606Z"
   },
   {
    "duration": 26,
    "start_time": "2021-12-11T13:42:18.615Z"
   },
   {
    "duration": 24,
    "start_time": "2021-12-11T13:42:18.643Z"
   },
   {
    "duration": 19,
    "start_time": "2021-12-11T13:42:18.669Z"
   },
   {
    "duration": 234,
    "start_time": "2021-12-11T13:42:18.690Z"
   },
   {
    "duration": 11,
    "start_time": "2021-12-11T13:42:18.928Z"
   },
   {
    "duration": 202,
    "start_time": "2021-12-11T13:42:18.941Z"
   },
   {
    "duration": 10,
    "start_time": "2021-12-11T13:42:19.145Z"
   },
   {
    "duration": 211,
    "start_time": "2021-12-11T13:42:19.157Z"
   },
   {
    "duration": 11,
    "start_time": "2021-12-11T13:42:19.369Z"
   },
   {
    "duration": 212,
    "start_time": "2021-12-11T13:42:19.387Z"
   },
   {
    "duration": 12,
    "start_time": "2021-12-11T13:42:19.600Z"
   },
   {
    "duration": 129,
    "start_time": "2021-12-11T13:42:19.614Z"
   },
   {
    "duration": 566,
    "start_time": "2021-12-11T13:42:19.745Z"
   },
   {
    "duration": 12,
    "start_time": "2021-12-11T13:42:20.313Z"
   },
   {
    "duration": 30,
    "start_time": "2021-12-11T13:42:20.327Z"
   },
   {
    "duration": 31,
    "start_time": "2021-12-11T13:42:20.359Z"
   },
   {
    "duration": 120,
    "start_time": "2021-12-11T13:42:20.391Z"
   },
   {
    "duration": 621,
    "start_time": "2021-12-11T13:42:20.513Z"
   },
   {
    "duration": 8,
    "start_time": "2021-12-11T13:42:21.135Z"
   },
   {
    "duration": 199,
    "start_time": "2021-12-11T13:42:21.145Z"
   },
   {
    "duration": 197,
    "start_time": "2021-12-11T13:42:21.346Z"
   },
   {
    "duration": 184,
    "start_time": "2021-12-11T13:42:21.544Z"
   },
   {
    "duration": 517,
    "start_time": "2021-12-11T13:42:21.730Z"
   },
   {
    "duration": 162,
    "start_time": "2021-12-11T13:42:22.249Z"
   },
   {
    "duration": 190,
    "start_time": "2021-12-11T13:42:22.413Z"
   },
   {
    "duration": 22,
    "start_time": "2021-12-11T13:42:22.605Z"
   },
   {
    "duration": 6,
    "start_time": "2021-12-11T13:42:22.629Z"
   },
   {
    "duration": 9,
    "start_time": "2021-12-11T13:42:22.637Z"
   },
   {
    "duration": 210,
    "start_time": "2021-12-11T13:42:22.647Z"
   },
   {
    "duration": 8,
    "start_time": "2021-12-11T13:42:22.858Z"
   },
   {
    "duration": 196,
    "start_time": "2021-12-11T13:42:22.867Z"
   },
   {
    "duration": 188,
    "start_time": "2021-12-11T13:42:23.065Z"
   },
   {
    "duration": 343,
    "start_time": "2021-12-11T13:42:23.255Z"
   },
   {
    "duration": 332,
    "start_time": "2021-12-11T13:42:23.599Z"
   },
   {
    "duration": 218,
    "start_time": "2021-12-11T13:43:18.514Z"
   },
   {
    "duration": 161,
    "start_time": "2021-12-11T13:59:37.666Z"
   },
   {
    "duration": 83,
    "start_time": "2021-12-11T14:01:42.975Z"
   },
   {
    "duration": 184,
    "start_time": "2021-12-11T14:04:53.904Z"
   },
   {
    "duration": 83,
    "start_time": "2021-12-11T14:06:49.207Z"
   },
   {
    "duration": 902,
    "start_time": "2021-12-12T07:37:57.374Z"
   },
   {
    "duration": 124,
    "start_time": "2021-12-12T07:37:58.279Z"
   },
   {
    "duration": 41,
    "start_time": "2021-12-12T07:37:58.406Z"
   },
   {
    "duration": 121,
    "start_time": "2021-12-12T07:37:58.461Z"
   },
   {
    "duration": 15,
    "start_time": "2021-12-12T07:37:58.585Z"
   },
   {
    "duration": 58,
    "start_time": "2021-12-12T07:37:58.603Z"
   },
   {
    "duration": 6,
    "start_time": "2021-12-12T07:37:58.663Z"
   },
   {
    "duration": 8,
    "start_time": "2021-12-12T07:37:58.671Z"
   },
   {
    "duration": 7,
    "start_time": "2021-12-12T07:37:58.686Z"
   },
   {
    "duration": 19,
    "start_time": "2021-12-12T07:37:58.697Z"
   },
   {
    "duration": 58,
    "start_time": "2021-12-12T07:37:58.720Z"
   },
   {
    "duration": 12,
    "start_time": "2021-12-12T07:37:58.781Z"
   },
   {
    "duration": 86,
    "start_time": "2021-12-12T07:37:58.796Z"
   },
   {
    "duration": 13,
    "start_time": "2021-12-12T07:37:58.885Z"
   },
   {
    "duration": 13,
    "start_time": "2021-12-12T07:37:58.902Z"
   },
   {
    "duration": 86,
    "start_time": "2021-12-12T07:37:58.918Z"
   },
   {
    "duration": 17,
    "start_time": "2021-12-12T07:37:59.007Z"
   },
   {
    "duration": 75,
    "start_time": "2021-12-12T07:37:59.028Z"
   },
   {
    "duration": 9,
    "start_time": "2021-12-12T07:37:59.107Z"
   },
   {
    "duration": 17,
    "start_time": "2021-12-12T07:37:59.118Z"
   },
   {
    "duration": 39,
    "start_time": "2021-12-12T07:37:59.137Z"
   },
   {
    "duration": 8,
    "start_time": "2021-12-12T07:37:59.179Z"
   },
   {
    "duration": 8,
    "start_time": "2021-12-12T07:37:59.190Z"
   },
   {
    "duration": 14,
    "start_time": "2021-12-12T07:37:59.200Z"
   },
   {
    "duration": 7,
    "start_time": "2021-12-12T07:37:59.216Z"
   },
   {
    "duration": 12,
    "start_time": "2021-12-12T07:37:59.260Z"
   },
   {
    "duration": 37,
    "start_time": "2021-12-12T07:37:59.278Z"
   },
   {
    "duration": 6,
    "start_time": "2021-12-12T07:37:59.319Z"
   },
   {
    "duration": 7,
    "start_time": "2021-12-12T07:37:59.360Z"
   },
   {
    "duration": 10,
    "start_time": "2021-12-12T07:37:59.370Z"
   },
   {
    "duration": 2291,
    "start_time": "2021-12-12T07:37:59.382Z"
   },
   {
    "duration": 5,
    "start_time": "2021-12-12T07:38:01.676Z"
   },
   {
    "duration": 13,
    "start_time": "2021-12-12T07:38:01.683Z"
   },
   {
    "duration": 8,
    "start_time": "2021-12-12T07:38:01.698Z"
   },
   {
    "duration": 8,
    "start_time": "2021-12-12T07:38:01.708Z"
   },
   {
    "duration": 6,
    "start_time": "2021-12-12T07:38:01.718Z"
   },
   {
    "duration": 68,
    "start_time": "2021-12-12T07:38:01.726Z"
   },
   {
    "duration": 6,
    "start_time": "2021-12-12T07:38:01.797Z"
   },
   {
    "duration": 8,
    "start_time": "2021-12-12T07:38:01.806Z"
   },
   {
    "duration": 41,
    "start_time": "2021-12-12T07:38:01.817Z"
   },
   {
    "duration": 9,
    "start_time": "2021-12-12T07:38:01.861Z"
   },
   {
    "duration": 6,
    "start_time": "2021-12-12T07:38:01.872Z"
   },
   {
    "duration": 8,
    "start_time": "2021-12-12T07:38:01.880Z"
   },
   {
    "duration": 4,
    "start_time": "2021-12-12T07:38:01.891Z"
   },
   {
    "duration": 8,
    "start_time": "2021-12-12T07:38:01.898Z"
   },
   {
    "duration": 52,
    "start_time": "2021-12-12T07:38:01.909Z"
   },
   {
    "duration": 15,
    "start_time": "2021-12-12T07:38:01.964Z"
   },
   {
    "duration": 12,
    "start_time": "2021-12-12T07:38:01.982Z"
   },
   {
    "duration": 25,
    "start_time": "2021-12-12T07:38:01.996Z"
   },
   {
    "duration": 19,
    "start_time": "2021-12-12T07:38:02.023Z"
   },
   {
    "duration": 7,
    "start_time": "2021-12-12T07:38:02.045Z"
   },
   {
    "duration": 8,
    "start_time": "2021-12-12T07:38:02.054Z"
   },
   {
    "duration": 14,
    "start_time": "2021-12-12T07:38:02.064Z"
   },
   {
    "duration": 11,
    "start_time": "2021-12-12T07:38:02.081Z"
   },
   {
    "duration": 5,
    "start_time": "2021-12-12T07:38:02.095Z"
   },
   {
    "duration": 65,
    "start_time": "2021-12-12T07:38:02.102Z"
   },
   {
    "duration": 35,
    "start_time": "2021-12-12T07:38:02.169Z"
   },
   {
    "duration": 4,
    "start_time": "2021-12-12T07:38:02.207Z"
   },
   {
    "duration": 957,
    "start_time": "2021-12-12T07:38:02.213Z"
   },
   {
    "duration": 34,
    "start_time": "2021-12-12T07:38:03.172Z"
   },
   {
    "duration": 9,
    "start_time": "2021-12-12T07:38:03.208Z"
   },
   {
    "duration": 8,
    "start_time": "2021-12-12T07:38:03.219Z"
   },
   {
    "duration": 33,
    "start_time": "2021-12-12T07:38:03.229Z"
   },
   {
    "duration": 33,
    "start_time": "2021-12-12T07:38:03.264Z"
   },
   {
    "duration": 66,
    "start_time": "2021-12-12T07:38:03.300Z"
   },
   {
    "duration": 6,
    "start_time": "2021-12-12T07:38:03.368Z"
   },
   {
    "duration": 398,
    "start_time": "2021-12-12T07:38:03.377Z"
   },
   {
    "duration": 15,
    "start_time": "2021-12-12T07:38:03.778Z"
   },
   {
    "duration": 370,
    "start_time": "2021-12-12T07:38:03.796Z"
   },
   {
    "duration": 17,
    "start_time": "2021-12-12T07:38:04.168Z"
   },
   {
    "duration": 365,
    "start_time": "2021-12-12T07:38:04.187Z"
   },
   {
    "duration": 18,
    "start_time": "2021-12-12T07:38:04.554Z"
   },
   {
    "duration": 397,
    "start_time": "2021-12-12T07:38:04.575Z"
   },
   {
    "duration": 17,
    "start_time": "2021-12-12T07:38:04.975Z"
   },
   {
    "duration": 254,
    "start_time": "2021-12-12T07:38:04.995Z"
   },
   {
    "duration": 1018,
    "start_time": "2021-12-12T07:38:05.252Z"
   },
   {
    "duration": 17,
    "start_time": "2021-12-12T07:38:06.272Z"
   },
   {
    "duration": 80,
    "start_time": "2021-12-12T07:38:06.291Z"
   },
   {
    "duration": 17,
    "start_time": "2021-12-12T07:38:06.373Z"
   },
   {
    "duration": 215,
    "start_time": "2021-12-12T07:38:06.393Z"
   },
   {
    "duration": 1113,
    "start_time": "2021-12-12T07:38:06.616Z"
   },
   {
    "duration": 10,
    "start_time": "2021-12-12T07:38:07.732Z"
   },
   {
    "duration": 345,
    "start_time": "2021-12-12T07:38:07.744Z"
   },
   {
    "duration": 332,
    "start_time": "2021-12-12T07:38:08.091Z"
   },
   {
    "duration": 317,
    "start_time": "2021-12-12T07:38:08.425Z"
   },
   {
    "duration": 756,
    "start_time": "2021-12-12T07:38:08.744Z"
   },
   {
    "duration": 292,
    "start_time": "2021-12-12T07:38:09.504Z"
   },
   {
    "duration": 324,
    "start_time": "2021-12-12T07:38:09.799Z"
   },
   {
    "duration": 46,
    "start_time": "2021-12-12T07:38:10.125Z"
   },
   {
    "duration": 10,
    "start_time": "2021-12-12T07:38:10.174Z"
   },
   {
    "duration": 13,
    "start_time": "2021-12-12T07:38:10.187Z"
   },
   {
    "duration": 338,
    "start_time": "2021-12-12T07:38:10.203Z"
   },
   {
    "duration": 17,
    "start_time": "2021-12-12T07:38:10.544Z"
   },
   {
    "duration": 330,
    "start_time": "2021-12-12T07:38:10.563Z"
   },
   {
    "duration": 334,
    "start_time": "2021-12-12T07:38:10.896Z"
   },
   {
    "duration": 455,
    "start_time": "2021-12-12T07:38:11.232Z"
   },
   {
    "duration": 363,
    "start_time": "2021-12-12T07:38:11.689Z"
   },
   {
    "duration": 283,
    "start_time": "2021-12-12T07:38:12.055Z"
   },
   {
    "duration": 344,
    "start_time": "2021-12-12T07:38:12.340Z"
   },
   {
    "duration": 15,
    "start_time": "2021-12-12T07:39:03.675Z"
   },
   {
    "duration": 14,
    "start_time": "2021-12-12T07:39:10.428Z"
   },
   {
    "duration": 393,
    "start_time": "2021-12-13T20:04:02.078Z"
   },
   {
    "duration": 710,
    "start_time": "2021-12-13T20:04:07.619Z"
   },
   {
    "duration": 97,
    "start_time": "2021-12-13T20:04:08.331Z"
   },
   {
    "duration": 25,
    "start_time": "2021-12-13T20:04:08.430Z"
   },
   {
    "duration": 94,
    "start_time": "2021-12-13T20:04:08.457Z"
   },
   {
    "duration": 9,
    "start_time": "2021-12-13T20:04:08.553Z"
   },
   {
    "duration": 25,
    "start_time": "2021-12-13T20:04:08.564Z"
   },
   {
    "duration": 18,
    "start_time": "2021-12-13T20:04:08.590Z"
   },
   {
    "duration": 3,
    "start_time": "2021-12-13T20:04:08.612Z"
   },
   {
    "duration": 6,
    "start_time": "2021-12-13T20:04:08.617Z"
   },
   {
    "duration": 10,
    "start_time": "2021-12-13T20:04:08.624Z"
   },
   {
    "duration": 15,
    "start_time": "2021-12-13T20:04:08.635Z"
   },
   {
    "duration": 8,
    "start_time": "2021-12-13T20:04:08.652Z"
   },
   {
    "duration": 6,
    "start_time": "2021-12-13T20:04:08.661Z"
   },
   {
    "duration": 58,
    "start_time": "2021-12-13T20:04:08.669Z"
   },
   {
    "duration": 7,
    "start_time": "2021-12-13T20:04:08.729Z"
   },
   {
    "duration": 15,
    "start_time": "2021-12-13T20:04:08.738Z"
   },
   {
    "duration": 23,
    "start_time": "2021-12-13T20:04:08.755Z"
   },
   {
    "duration": 34,
    "start_time": "2021-12-13T20:04:08.779Z"
   },
   {
    "duration": 25,
    "start_time": "2021-12-13T20:04:08.815Z"
   },
   {
    "duration": 4,
    "start_time": "2021-12-13T20:04:08.842Z"
   },
   {
    "duration": 7,
    "start_time": "2021-12-13T20:04:08.848Z"
   },
   {
    "duration": 12,
    "start_time": "2021-12-13T20:04:08.856Z"
   },
   {
    "duration": 4,
    "start_time": "2021-12-13T20:04:08.872Z"
   },
   {
    "duration": 30,
    "start_time": "2021-12-13T20:04:08.878Z"
   },
   {
    "duration": 10,
    "start_time": "2021-12-13T20:04:08.910Z"
   },
   {
    "duration": 5,
    "start_time": "2021-12-13T20:04:08.921Z"
   },
   {
    "duration": 9,
    "start_time": "2021-12-13T20:04:08.927Z"
   },
   {
    "duration": 22,
    "start_time": "2021-12-13T20:04:08.938Z"
   },
   {
    "duration": 4,
    "start_time": "2021-12-13T20:04:08.961Z"
   },
   {
    "duration": 8,
    "start_time": "2021-12-13T20:04:08.967Z"
   },
   {
    "duration": 4,
    "start_time": "2021-12-13T20:04:09.007Z"
   },
   {
    "duration": 1431,
    "start_time": "2021-12-13T20:04:09.013Z"
   },
   {
    "duration": 4,
    "start_time": "2021-12-13T20:04:10.446Z"
   },
   {
    "duration": 6,
    "start_time": "2021-12-13T20:04:10.451Z"
   },
   {
    "duration": 7,
    "start_time": "2021-12-13T20:04:10.458Z"
   },
   {
    "duration": 5,
    "start_time": "2021-12-13T20:04:10.467Z"
   },
   {
    "duration": 5,
    "start_time": "2021-12-13T20:04:10.474Z"
   },
   {
    "duration": 48,
    "start_time": "2021-12-13T20:04:10.480Z"
   },
   {
    "duration": 6,
    "start_time": "2021-12-13T20:04:10.530Z"
   },
   {
    "duration": 6,
    "start_time": "2021-12-13T20:04:10.538Z"
   },
   {
    "duration": 4,
    "start_time": "2021-12-13T20:04:10.546Z"
   },
   {
    "duration": 7,
    "start_time": "2021-12-13T20:04:10.552Z"
   },
   {
    "duration": 48,
    "start_time": "2021-12-13T20:04:10.560Z"
   },
   {
    "duration": 8,
    "start_time": "2021-12-13T20:04:10.610Z"
   },
   {
    "duration": 4,
    "start_time": "2021-12-13T20:04:10.620Z"
   },
   {
    "duration": 5,
    "start_time": "2021-12-13T20:04:10.625Z"
   },
   {
    "duration": 4,
    "start_time": "2021-12-13T20:04:10.632Z"
   },
   {
    "duration": 5,
    "start_time": "2021-12-13T20:04:10.637Z"
   },
   {
    "duration": 5,
    "start_time": "2021-12-13T20:04:10.643Z"
   },
   {
    "duration": 4,
    "start_time": "2021-12-13T20:04:10.649Z"
   },
   {
    "duration": 5,
    "start_time": "2021-12-13T20:04:10.655Z"
   },
   {
    "duration": 6,
    "start_time": "2021-12-13T20:04:10.706Z"
   },
   {
    "duration": 4,
    "start_time": "2021-12-13T20:04:10.714Z"
   },
   {
    "duration": 6,
    "start_time": "2021-12-13T20:04:10.720Z"
   },
   {
    "duration": 9,
    "start_time": "2021-12-13T20:04:10.728Z"
   },
   {
    "duration": 4,
    "start_time": "2021-12-13T20:04:10.739Z"
   },
   {
    "duration": 24,
    "start_time": "2021-12-13T20:04:10.745Z"
   },
   {
    "duration": 54,
    "start_time": "2021-12-13T20:04:10.771Z"
   },
   {
    "duration": 3,
    "start_time": "2021-12-13T20:04:10.827Z"
   },
   {
    "duration": 620,
    "start_time": "2021-12-13T20:04:10.831Z"
   },
   {
    "duration": 24,
    "start_time": "2021-12-13T20:04:11.452Z"
   },
   {
    "duration": 5,
    "start_time": "2021-12-13T20:04:11.478Z"
   },
   {
    "duration": 13,
    "start_time": "2021-12-13T20:04:11.506Z"
   },
   {
    "duration": 11,
    "start_time": "2021-12-13T20:04:11.521Z"
   },
   {
    "duration": 33,
    "start_time": "2021-12-13T20:04:11.533Z"
   },
   {
    "duration": 28,
    "start_time": "2021-12-13T20:04:11.568Z"
   },
   {
    "duration": 8,
    "start_time": "2021-12-13T20:04:11.598Z"
   },
   {
    "duration": 275,
    "start_time": "2021-12-13T20:04:11.612Z"
   },
   {
    "duration": 25,
    "start_time": "2021-12-13T20:04:11.890Z"
   },
   {
    "duration": 235,
    "start_time": "2021-12-13T20:04:11.917Z"
   },
   {
    "duration": 13,
    "start_time": "2021-12-13T20:04:12.153Z"
   },
   {
    "duration": 241,
    "start_time": "2021-12-13T20:04:12.167Z"
   },
   {
    "duration": 13,
    "start_time": "2021-12-13T20:04:12.409Z"
   },
   {
    "duration": 259,
    "start_time": "2021-12-13T20:04:12.424Z"
   },
   {
    "duration": 23,
    "start_time": "2021-12-13T20:04:12.686Z"
   },
   {
    "duration": 146,
    "start_time": "2021-12-13T20:04:12.711Z"
   },
   {
    "duration": 1223,
    "start_time": "2021-12-13T20:04:12.859Z"
   },
   {
    "duration": 23,
    "start_time": "2021-12-13T20:04:14.084Z"
   },
   {
    "duration": 37,
    "start_time": "2021-12-13T20:04:14.109Z"
   },
   {
    "duration": 13,
    "start_time": "2021-12-13T20:04:14.148Z"
   },
   {
    "duration": 155,
    "start_time": "2021-12-13T20:04:14.163Z"
   },
   {
    "duration": 998,
    "start_time": "2021-12-13T20:04:14.321Z"
   },
   {
    "duration": 10,
    "start_time": "2021-12-13T20:04:15.321Z"
   },
   {
    "duration": 323,
    "start_time": "2021-12-13T20:04:15.333Z"
   },
   {
    "duration": 317,
    "start_time": "2021-12-13T20:04:15.658Z"
   },
   {
    "duration": 308,
    "start_time": "2021-12-13T20:04:15.977Z"
   },
   {
    "duration": 784,
    "start_time": "2021-12-13T20:04:16.287Z"
   },
   {
    "duration": 270,
    "start_time": "2021-12-13T20:04:17.073Z"
   },
   {
    "duration": 301,
    "start_time": "2021-12-13T20:04:17.345Z"
   },
   {
    "duration": 32,
    "start_time": "2021-12-13T20:04:17.648Z"
   },
   {
    "duration": 27,
    "start_time": "2021-12-13T20:04:17.681Z"
   },
   {
    "duration": 8,
    "start_time": "2021-12-13T20:04:17.710Z"
   },
   {
    "duration": 228,
    "start_time": "2021-12-13T20:04:17.720Z"
   },
   {
    "duration": 10,
    "start_time": "2021-12-13T20:04:17.949Z"
   },
   {
    "duration": 229,
    "start_time": "2021-12-13T20:04:17.960Z"
   },
   {
    "duration": 220,
    "start_time": "2021-12-13T20:04:18.191Z"
   },
   {
    "duration": 348,
    "start_time": "2021-12-13T20:04:18.413Z"
   },
   {
    "duration": 266,
    "start_time": "2021-12-13T20:04:18.763Z"
   },
   {
    "duration": 193,
    "start_time": "2021-12-13T20:04:19.031Z"
   },
   {
    "duration": 239,
    "start_time": "2021-12-13T20:04:19.225Z"
   },
   {
    "duration": 219,
    "start_time": "2021-12-13T20:09:02.647Z"
   },
   {
    "duration": 211,
    "start_time": "2021-12-13T20:09:43.127Z"
   },
   {
    "duration": 166,
    "start_time": "2021-12-13T20:10:57.330Z"
   },
   {
    "duration": 112,
    "start_time": "2021-12-13T20:11:44.080Z"
   },
   {
    "duration": 224,
    "start_time": "2021-12-13T20:12:24.300Z"
   },
   {
    "duration": 235,
    "start_time": "2021-12-13T20:12:41.362Z"
   },
   {
    "duration": 127,
    "start_time": "2021-12-13T20:14:50.533Z"
   },
   {
    "duration": 371,
    "start_time": "2021-12-13T20:18:56.152Z"
   },
   {
    "duration": 131,
    "start_time": "2021-12-13T20:19:23.743Z"
   },
   {
    "duration": 1627,
    "start_time": "2021-12-13T20:28:06.811Z"
   },
   {
    "duration": 1485,
    "start_time": "2021-12-13T20:28:24.751Z"
   },
   {
    "duration": 3,
    "start_time": "2021-12-13T20:28:45.370Z"
   },
   {
    "duration": 120,
    "start_time": "2021-12-13T20:28:45.377Z"
   },
   {
    "duration": 28,
    "start_time": "2021-12-13T20:28:45.499Z"
   },
   {
    "duration": 85,
    "start_time": "2021-12-13T20:28:45.529Z"
   },
   {
    "duration": 11,
    "start_time": "2021-12-13T20:28:45.615Z"
   },
   {
    "duration": 24,
    "start_time": "2021-12-13T20:28:45.628Z"
   },
   {
    "duration": 4,
    "start_time": "2021-12-13T20:28:45.653Z"
   },
   {
    "duration": 5,
    "start_time": "2021-12-13T20:28:45.659Z"
   },
   {
    "duration": 41,
    "start_time": "2021-12-13T20:28:45.666Z"
   },
   {
    "duration": 10,
    "start_time": "2021-12-13T20:28:45.709Z"
   },
   {
    "duration": 10,
    "start_time": "2021-12-13T20:28:45.721Z"
   },
   {
    "duration": 11,
    "start_time": "2021-12-13T20:28:45.733Z"
   },
   {
    "duration": 8,
    "start_time": "2021-12-13T20:28:45.746Z"
   },
   {
    "duration": 65,
    "start_time": "2021-12-13T20:28:45.755Z"
   },
   {
    "duration": 9,
    "start_time": "2021-12-13T20:28:45.823Z"
   },
   {
    "duration": 8,
    "start_time": "2021-12-13T20:28:45.834Z"
   },
   {
    "duration": 64,
    "start_time": "2021-12-13T20:28:45.844Z"
   },
   {
    "duration": 10,
    "start_time": "2021-12-13T20:28:45.910Z"
   },
   {
    "duration": 22,
    "start_time": "2021-12-13T20:28:45.922Z"
   },
   {
    "duration": 6,
    "start_time": "2021-12-13T20:28:45.946Z"
   },
   {
    "duration": 7,
    "start_time": "2021-12-13T20:28:45.953Z"
   },
   {
    "duration": 49,
    "start_time": "2021-12-13T20:28:45.962Z"
   },
   {
    "duration": 8,
    "start_time": "2021-12-13T20:28:46.013Z"
   },
   {
    "duration": 6,
    "start_time": "2021-12-13T20:28:46.026Z"
   },
   {
    "duration": 9,
    "start_time": "2021-12-13T20:28:46.035Z"
   },
   {
    "duration": 9,
    "start_time": "2021-12-13T20:28:46.046Z"
   },
   {
    "duration": 49,
    "start_time": "2021-12-13T20:28:46.057Z"
   },
   {
    "duration": 25,
    "start_time": "2021-12-13T20:28:46.109Z"
   },
   {
    "duration": 5,
    "start_time": "2021-12-13T20:28:46.137Z"
   },
   {
    "duration": 7,
    "start_time": "2021-12-13T20:28:46.143Z"
   },
   {
    "duration": 7,
    "start_time": "2021-12-13T20:28:46.152Z"
   },
   {
    "duration": 1488,
    "start_time": "2021-12-13T20:28:46.161Z"
   },
   {
    "duration": 4,
    "start_time": "2021-12-13T20:28:47.651Z"
   },
   {
    "duration": 4,
    "start_time": "2021-12-13T20:28:47.657Z"
   },
   {
    "duration": 5,
    "start_time": "2021-12-13T20:28:47.662Z"
   },
   {
    "duration": 6,
    "start_time": "2021-12-13T20:28:47.668Z"
   },
   {
    "duration": 5,
    "start_time": "2021-12-13T20:28:47.676Z"
   },
   {
    "duration": 45,
    "start_time": "2021-12-13T20:28:47.682Z"
   },
   {
    "duration": 5,
    "start_time": "2021-12-13T20:28:47.728Z"
   },
   {
    "duration": 6,
    "start_time": "2021-12-13T20:28:47.735Z"
   },
   {
    "duration": 5,
    "start_time": "2021-12-13T20:28:47.743Z"
   },
   {
    "duration": 5,
    "start_time": "2021-12-13T20:28:47.750Z"
   },
   {
    "duration": 4,
    "start_time": "2021-12-13T20:28:47.757Z"
   },
   {
    "duration": 47,
    "start_time": "2021-12-13T20:28:47.763Z"
   },
   {
    "duration": 3,
    "start_time": "2021-12-13T20:28:47.812Z"
   },
   {
    "duration": 6,
    "start_time": "2021-12-13T20:28:47.817Z"
   },
   {
    "duration": 5,
    "start_time": "2021-12-13T20:28:47.825Z"
   },
   {
    "duration": 4,
    "start_time": "2021-12-13T20:28:47.832Z"
   },
   {
    "duration": 5,
    "start_time": "2021-12-13T20:28:47.837Z"
   },
   {
    "duration": 6,
    "start_time": "2021-12-13T20:28:47.843Z"
   },
   {
    "duration": 5,
    "start_time": "2021-12-13T20:28:47.850Z"
   },
   {
    "duration": 6,
    "start_time": "2021-12-13T20:28:47.857Z"
   },
   {
    "duration": 44,
    "start_time": "2021-12-13T20:28:47.864Z"
   },
   {
    "duration": 5,
    "start_time": "2021-12-13T20:28:47.910Z"
   },
   {
    "duration": 8,
    "start_time": "2021-12-13T20:28:47.917Z"
   },
   {
    "duration": 4,
    "start_time": "2021-12-13T20:28:47.927Z"
   },
   {
    "duration": 24,
    "start_time": "2021-12-13T20:28:47.933Z"
   },
   {
    "duration": 55,
    "start_time": "2021-12-13T20:28:47.958Z"
   },
   {
    "duration": 4,
    "start_time": "2021-12-13T20:28:48.014Z"
   },
   {
    "duration": 1126,
    "start_time": "2021-12-13T20:28:48.019Z"
   },
   {
    "duration": 30,
    "start_time": "2021-12-13T20:28:49.147Z"
   },
   {
    "duration": 4,
    "start_time": "2021-12-13T20:28:49.179Z"
   },
   {
    "duration": 22,
    "start_time": "2021-12-13T20:28:49.185Z"
   },
   {
    "duration": 6,
    "start_time": "2021-12-13T20:28:49.209Z"
   },
   {
    "duration": 25,
    "start_time": "2021-12-13T20:28:49.216Z"
   },
   {
    "duration": 31,
    "start_time": "2021-12-13T20:28:49.244Z"
   },
   {
    "duration": 30,
    "start_time": "2021-12-13T20:28:49.277Z"
   },
   {
    "duration": 260,
    "start_time": "2021-12-13T20:28:49.309Z"
   },
   {
    "duration": 13,
    "start_time": "2021-12-13T20:28:49.575Z"
   },
   {
    "duration": 236,
    "start_time": "2021-12-13T20:28:49.590Z"
   },
   {
    "duration": 12,
    "start_time": "2021-12-13T20:28:49.828Z"
   },
   {
    "duration": 240,
    "start_time": "2021-12-13T20:28:49.841Z"
   },
   {
    "duration": 23,
    "start_time": "2021-12-13T20:28:50.083Z"
   },
   {
    "duration": 245,
    "start_time": "2021-12-13T20:28:50.108Z"
   },
   {
    "duration": 11,
    "start_time": "2021-12-13T20:28:50.355Z"
   },
   {
    "duration": 141,
    "start_time": "2021-12-13T20:28:50.368Z"
   },
   {
    "duration": 1338,
    "start_time": "2021-12-13T20:28:50.511Z"
   },
   {
    "duration": 12,
    "start_time": "2021-12-13T20:28:51.851Z"
   },
   {
    "duration": 55,
    "start_time": "2021-12-13T20:28:51.865Z"
   },
   {
    "duration": 13,
    "start_time": "2021-12-13T20:28:51.921Z"
   },
   {
    "duration": 185,
    "start_time": "2021-12-13T20:28:51.935Z"
   },
   {
    "duration": 867,
    "start_time": "2021-12-13T20:28:52.122Z"
   },
   {
    "duration": 16,
    "start_time": "2021-12-13T20:28:52.991Z"
   },
   {
    "duration": 285,
    "start_time": "2021-12-13T20:28:53.009Z"
   },
   {
    "duration": 265,
    "start_time": "2021-12-13T20:28:53.297Z"
   },
   {
    "duration": 228,
    "start_time": "2021-12-13T20:28:53.564Z"
   },
   {
    "duration": 718,
    "start_time": "2021-12-13T20:28:53.794Z"
   },
   {
    "duration": 268,
    "start_time": "2021-12-13T20:28:54.514Z"
   },
   {
    "duration": 303,
    "start_time": "2021-12-13T20:28:54.784Z"
   },
   {
    "duration": 34,
    "start_time": "2021-12-13T20:28:55.089Z"
   },
   {
    "duration": 7,
    "start_time": "2021-12-13T20:28:55.125Z"
   },
   {
    "duration": 8,
    "start_time": "2021-12-13T20:28:55.133Z"
   },
   {
    "duration": 219,
    "start_time": "2021-12-13T20:28:55.143Z"
   },
   {
    "duration": 8,
    "start_time": "2021-12-13T20:28:55.364Z"
   },
   {
    "duration": 218,
    "start_time": "2021-12-13T20:28:55.374Z"
   },
   {
    "duration": 208,
    "start_time": "2021-12-13T20:28:55.594Z"
   },
   {
    "duration": 443,
    "start_time": "2021-12-13T20:28:55.803Z"
   },
   {
    "duration": 180,
    "start_time": "2021-12-13T20:28:56.248Z"
   },
   {
    "duration": 190,
    "start_time": "2021-12-13T20:28:56.430Z"
   },
   {
    "duration": 217,
    "start_time": "2021-12-13T20:28:56.621Z"
   },
   {
    "duration": 12,
    "start_time": "2021-12-13T20:32:17.065Z"
   },
   {
    "duration": 132,
    "start_time": "2021-12-13T20:33:13.016Z"
   },
   {
    "duration": 117,
    "start_time": "2021-12-13T20:35:00.861Z"
   },
   {
    "duration": 130,
    "start_time": "2021-12-13T20:37:10.500Z"
   },
   {
    "duration": 870,
    "start_time": "2021-12-14T08:42:36.298Z"
   },
   {
    "duration": 122,
    "start_time": "2021-12-14T08:42:37.171Z"
   },
   {
    "duration": 38,
    "start_time": "2021-12-14T08:42:37.297Z"
   },
   {
    "duration": 122,
    "start_time": "2021-12-14T08:42:37.337Z"
   },
   {
    "duration": 15,
    "start_time": "2021-12-14T08:42:37.462Z"
   },
   {
    "duration": 37,
    "start_time": "2021-12-14T08:42:37.479Z"
   },
   {
    "duration": 5,
    "start_time": "2021-12-14T08:42:37.518Z"
   },
   {
    "duration": 5,
    "start_time": "2021-12-14T08:42:37.560Z"
   },
   {
    "duration": 7,
    "start_time": "2021-12-14T08:42:37.568Z"
   },
   {
    "duration": 14,
    "start_time": "2021-12-14T08:42:37.577Z"
   },
   {
    "duration": 19,
    "start_time": "2021-12-14T08:42:37.593Z"
   },
   {
    "duration": 52,
    "start_time": "2021-12-14T08:42:37.614Z"
   },
   {
    "duration": 7,
    "start_time": "2021-12-14T08:42:37.669Z"
   },
   {
    "duration": 38,
    "start_time": "2021-12-14T08:42:37.679Z"
   },
   {
    "duration": 9,
    "start_time": "2021-12-14T08:42:37.719Z"
   },
   {
    "duration": 29,
    "start_time": "2021-12-14T08:42:37.730Z"
   },
   {
    "duration": 34,
    "start_time": "2021-12-14T08:42:37.762Z"
   },
   {
    "duration": 13,
    "start_time": "2021-12-14T08:42:37.798Z"
   },
   {
    "duration": 67,
    "start_time": "2021-12-14T08:42:37.813Z"
   },
   {
    "duration": 9,
    "start_time": "2021-12-14T08:42:37.883Z"
   },
   {
    "duration": 12,
    "start_time": "2021-12-14T08:42:37.894Z"
   },
   {
    "duration": 17,
    "start_time": "2021-12-14T08:42:37.908Z"
   },
   {
    "duration": 6,
    "start_time": "2021-12-14T08:42:37.960Z"
   },
   {
    "duration": 6,
    "start_time": "2021-12-14T08:42:37.970Z"
   },
   {
    "duration": 13,
    "start_time": "2021-12-14T08:42:37.979Z"
   },
   {
    "duration": 6,
    "start_time": "2021-12-14T08:42:37.995Z"
   },
   {
    "duration": 12,
    "start_time": "2021-12-14T08:42:38.003Z"
   },
   {
    "duration": 69,
    "start_time": "2021-12-14T08:42:38.017Z"
   },
   {
    "duration": 7,
    "start_time": "2021-12-14T08:42:38.089Z"
   },
   {
    "duration": 7,
    "start_time": "2021-12-14T08:42:38.098Z"
   },
   {
    "duration": 8,
    "start_time": "2021-12-14T08:42:38.107Z"
   },
   {
    "duration": 2125,
    "start_time": "2021-12-14T08:42:38.117Z"
   },
   {
    "duration": 6,
    "start_time": "2021-12-14T08:42:40.244Z"
   },
   {
    "duration": 4,
    "start_time": "2021-12-14T08:42:40.260Z"
   },
   {
    "duration": 6,
    "start_time": "2021-12-14T08:42:40.267Z"
   },
   {
    "duration": 8,
    "start_time": "2021-12-14T08:42:40.276Z"
   },
   {
    "duration": 5,
    "start_time": "2021-12-14T08:42:40.286Z"
   },
   {
    "duration": 80,
    "start_time": "2021-12-14T08:42:40.293Z"
   },
   {
    "duration": 6,
    "start_time": "2021-12-14T08:42:40.375Z"
   },
   {
    "duration": 8,
    "start_time": "2021-12-14T08:42:40.384Z"
   },
   {
    "duration": 6,
    "start_time": "2021-12-14T08:42:40.394Z"
   },
   {
    "duration": 8,
    "start_time": "2021-12-14T08:42:40.402Z"
   },
   {
    "duration": 51,
    "start_time": "2021-12-14T08:42:40.412Z"
   },
   {
    "duration": 11,
    "start_time": "2021-12-14T08:42:40.466Z"
   },
   {
    "duration": 4,
    "start_time": "2021-12-14T08:42:40.479Z"
   },
   {
    "duration": 10,
    "start_time": "2021-12-14T08:42:40.485Z"
   },
   {
    "duration": 6,
    "start_time": "2021-12-14T08:42:40.497Z"
   },
   {
    "duration": 5,
    "start_time": "2021-12-14T08:42:40.505Z"
   },
   {
    "duration": 6,
    "start_time": "2021-12-14T08:42:40.560Z"
   },
   {
    "duration": 7,
    "start_time": "2021-12-14T08:42:40.568Z"
   },
   {
    "duration": 6,
    "start_time": "2021-12-14T08:42:40.578Z"
   },
   {
    "duration": 5,
    "start_time": "2021-12-14T08:42:40.586Z"
   },
   {
    "duration": 7,
    "start_time": "2021-12-14T08:42:40.593Z"
   },
   {
    "duration": 7,
    "start_time": "2021-12-14T08:42:40.602Z"
   },
   {
    "duration": 57,
    "start_time": "2021-12-14T08:42:40.611Z"
   },
   {
    "duration": 6,
    "start_time": "2021-12-14T08:42:40.670Z"
   },
   {
    "duration": 32,
    "start_time": "2021-12-14T08:42:40.678Z"
   },
   {
    "duration": 65,
    "start_time": "2021-12-14T08:42:40.713Z"
   },
   {
    "duration": 4,
    "start_time": "2021-12-14T08:42:40.781Z"
   },
   {
    "duration": 917,
    "start_time": "2021-12-14T08:42:40.787Z"
   },
   {
    "duration": 35,
    "start_time": "2021-12-14T08:42:41.706Z"
   },
   {
    "duration": 19,
    "start_time": "2021-12-14T08:42:41.743Z"
   },
   {
    "duration": 6,
    "start_time": "2021-12-14T08:42:41.765Z"
   },
   {
    "duration": 7,
    "start_time": "2021-12-14T08:42:41.773Z"
   },
   {
    "duration": 35,
    "start_time": "2021-12-14T08:42:41.782Z"
   },
   {
    "duration": 74,
    "start_time": "2021-12-14T08:42:41.819Z"
   },
   {
    "duration": 6,
    "start_time": "2021-12-14T08:42:41.896Z"
   },
   {
    "duration": 410,
    "start_time": "2021-12-14T08:42:41.910Z"
   },
   {
    "duration": 16,
    "start_time": "2021-12-14T08:42:42.323Z"
   },
   {
    "duration": 360,
    "start_time": "2021-12-14T08:42:42.341Z"
   },
   {
    "duration": 15,
    "start_time": "2021-12-14T08:42:42.704Z"
   },
   {
    "duration": 371,
    "start_time": "2021-12-14T08:42:42.722Z"
   },
   {
    "duration": 17,
    "start_time": "2021-12-14T08:42:43.096Z"
   },
   {
    "duration": 385,
    "start_time": "2021-12-14T08:42:43.115Z"
   },
   {
    "duration": 17,
    "start_time": "2021-12-14T08:42:43.502Z"
   },
   {
    "duration": 215,
    "start_time": "2021-12-14T08:42:43.521Z"
   },
   {
    "duration": 1874,
    "start_time": "2021-12-14T08:42:43.739Z"
   },
   {
    "duration": 18,
    "start_time": "2021-12-14T08:42:45.615Z"
   },
   {
    "duration": 71,
    "start_time": "2021-12-14T08:42:45.636Z"
   },
   {
    "duration": 17,
    "start_time": "2021-12-14T08:42:45.710Z"
   },
   {
    "duration": 238,
    "start_time": "2021-12-14T08:42:45.729Z"
   },
   {
    "duration": 1132,
    "start_time": "2021-12-14T08:42:45.969Z"
   },
   {
    "duration": 12,
    "start_time": "2021-12-14T08:42:47.105Z"
   },
   {
    "duration": 356,
    "start_time": "2021-12-14T08:42:47.120Z"
   },
   {
    "duration": 345,
    "start_time": "2021-12-14T08:42:47.479Z"
   },
   {
    "duration": 322,
    "start_time": "2021-12-14T08:42:47.827Z"
   },
   {
    "duration": 825,
    "start_time": "2021-12-14T08:42:48.160Z"
   },
   {
    "duration": 296,
    "start_time": "2021-12-14T08:42:48.987Z"
   },
   {
    "duration": 330,
    "start_time": "2021-12-14T08:42:49.286Z"
   },
   {
    "duration": 51,
    "start_time": "2021-12-14T08:42:49.619Z"
   },
   {
    "duration": 11,
    "start_time": "2021-12-14T08:42:49.672Z"
   },
   {
    "duration": 20,
    "start_time": "2021-12-14T08:42:49.685Z"
   },
   {
    "duration": 343,
    "start_time": "2021-12-14T08:42:49.707Z"
   },
   {
    "duration": 16,
    "start_time": "2021-12-14T08:42:50.053Z"
   },
   {
    "duration": 393,
    "start_time": "2021-12-14T08:42:50.072Z"
   },
   {
    "duration": 334,
    "start_time": "2021-12-14T08:42:50.467Z"
   },
   {
    "duration": 487,
    "start_time": "2021-12-14T08:42:50.804Z"
   },
   {
    "duration": 362,
    "start_time": "2021-12-14T08:42:51.294Z"
   },
   {
    "duration": 302,
    "start_time": "2021-12-14T08:42:51.659Z"
   },
   {
    "duration": 346,
    "start_time": "2021-12-14T08:42:51.965Z"
   },
   {
    "duration": 54,
    "start_time": "2021-12-14T08:43:11.779Z"
   },
   {
    "duration": 62,
    "start_time": "2021-12-14T08:43:25.689Z"
   },
   {
    "duration": 4,
    "start_time": "2021-12-14T08:44:42.353Z"
   },
   {
    "duration": 1427,
    "start_time": "2021-12-14T08:45:02.893Z"
   }
  ],
  "kernelspec": {
   "display_name": "Python 3",
   "language": "python",
   "name": "python3"
  },
  "language_info": {
   "codemirror_mode": {
    "name": "ipython",
    "version": 3
   },
   "file_extension": ".py",
   "mimetype": "text/x-python",
   "name": "python",
   "nbconvert_exporter": "python",
   "pygments_lexer": "ipython3",
   "version": "3.7.8"
  },
  "toc": {
   "base_numbering": 1,
   "nav_menu": {},
   "number_sections": true,
   "sideBar": true,
   "skip_h1_title": true,
   "title_cell": "Содержание",
   "title_sidebar": "Contents",
   "toc_cell": true,
   "toc_position": {
    "height": "calc(100% - 180px)",
    "left": "10px",
    "top": "150px",
    "width": "201.641px"
   },
   "toc_section_display": true,
   "toc_window_display": false
  }
 },
 "nbformat": 4,
 "nbformat_minor": 2
}
