{
 "cells": [
  {
   "cell_type": "markdown",
   "metadata": {},
   "source": [
    "<font color='blue' size=5><b>Комментарий ревьюера</b></font>\n",
    "\n",
    "<font color='blue'>Привет! Меня зовут Тимофей Вилков, и я буду проверять твой проект. Спасибо за проделанную работу! Предлагаю общаться на «ты».</font>\n",
    "\n",
    "<font color='blue'>Я буду использовать различные цвета, чтобы было удобнее воспринимать мои комментарии:</font>\n",
    "\n",
    "\n",
    "\n",
    "<div class=\"alert alert-block alert-success\">\n",
    "✔️ <b>Зеленый текст</b> - все отлично\n",
    "</div>\n",
    "\n",
    "<div class=\"alert alert-block alert-warning\">\n",
    "⚠️ <b>Желтый текст</b> - сделано все правильно, однако есть рекомендации, на что стоит обратить внимание\n",
    "</div>\n",
    "\n",
    "<div class=\"alert alert-block alert-danger\">\n",
    "❌ <b>Красный текст</b> - красный текст - есть недочеты\n",
    "</div>\n",
    "\n",
    "---\n",
    "\n",
    "<font color='blue'>Пожалуйста, не удаляй мои комментарии в случае возврата работы, так будет проще разобраться, какие были недочеты, а также сразу увидеть исправленное. </font>\n",
    "\n",
    "Ответы на мои комментарии лучше тоже помечать.\n",
    "Например:\n",
    "\n",
    "<div class=\"alert alert-block alert-info\">\n",
    "<b>Комментарий студента:</b> \n",
    "Текст комментария, вопроса, объяснения\n",
    "</div>\n",
    "\n",
    "<font color='blue'><b>Давай смотреть, что получилось!</b></font>"
   ]
  },
  {
   "cell_type": "markdown",
   "metadata": {},
   "source": [
    "<div class=\"alert alert-block alert-success\">\n",
    "✔️ Привет ещё раз, новые комментарии я отметил так: Ревью №2\n",
    "</div>"
   ]
  },
  {
   "cell_type": "markdown",
   "metadata": {},
   "source": [
    "# Определение перспективного тарифа для телеком-компании"
   ]
  },
  {
   "cell_type": "markdown",
   "metadata": {},
   "source": [
    "Описание проекта\n",
    "Вы аналитик компании «Мегалайн» — федерального оператора сотовой связи. Клиентам предлагают два тарифных плана: «Смарт» и «Ультра». Чтобы скорректировать рекламный бюджет, коммерческий департамент хочет понять, какой тариф приносит больше денег.\n",
    "Вам предстоит сделать предварительный анализ тарифов на небольшой выборке клиентов. В вашем распоряжении данные 500 пользователей «Мегалайна»: кто они, откуда, каким тарифом пользуются, сколько звонков и сообщений каждый отправил за 2018 год. Нужно проанализировать поведение клиентов и сделать вывод — какой тариф лучше."
   ]
  },
  {
   "cell_type": "markdown",
   "metadata": {},
   "source": [
    "**Описание тарифов**\n",
    "\n",
    "Тариф «Смарт»\n",
    "1. Ежемесячная плата: 550 рублей\n",
    "2. Включено 500 минут разговора, 50 сообщений и 15 Гб интернет-трафика\n",
    "3. Стоимость услуг сверх тарифного пакета: 1. минута разговора: 3 рубля («Мегалайн» всегда округляет вверх значения минут и мегабайтов. Если пользователь проговорил всего 1 секунду, в тарифе засчитывается целая минута); 2. сообщение: 3 рубля; 3. 1 Гб интернет-трафика: 200 рублей.\n",
    "\n",
    "Тариф «Ультра»\n",
    "1. Ежемесячная плата: 1950 рублей\n",
    "2. Включено 3000 минут разговора, 1000 сообщений и 30 Гб интернет-трафика\n",
    "3. Стоимость услуг сверх тарифного пакета: 1. минута разговора: 1 рубль; 2. сообщение: 1 рубль; 3. 1 Гб интернет-трафика: 150 рублей."
   ]
  },
  {
   "cell_type": "markdown",
   "metadata": {},
   "source": [
    "**Примечание:**\n",
    "«Мегалайн» всегда округляет секунды до минут, а мегабайты — до гигабайт. Каждый звонок округляется отдельно: даже если он длился всего 1 секунду, будет засчитан как 1 минута.\n",
    "Для веб-трафика отдельные сессии не считаются. Вместо этого общая сумма за месяц округляется в бо́льшую сторону. Если абонент использует 1025 мегабайт в этом месяце, с него возьмут плату за 2 гигабайта."
   ]
  },
  {
   "cell_type": "markdown",
   "metadata": {},
   "source": [
    "# Инструкция по выполнению проекта"
   ]
  },
  {
   "cell_type": "markdown",
   "metadata": {},
   "source": [
    "**Шаг 1. Откройте файл с данными и изучите общую информацию**"
   ]
  },
  {
   "cell_type": "markdown",
   "metadata": {},
   "source": [
    "Путь к файлам:"
   ]
  },
  {
   "cell_type": "markdown",
   "metadata": {},
   "source": [
    "Путь к файлам:\n",
    "- /datasets/calls.csv. Скачать датасет\n",
    "- /datasets/internet.csv. Скачать датасет\n",
    "- /datasets/messages.csv. Скачать датасет\n",
    "- /datasets/tariffs.csv. Скачать датасет\n",
    "- /datasets/users.csv. Скачать датасет"
   ]
  },
  {
   "cell_type": "markdown",
   "metadata": {},
   "source": [
    "Шаг 2. Подготовьте данные\n",
    "- Приведите данные к нужным типам;\n",
    "- Найдите и исправьте ошибки в данных, если они есть.\n",
    "Поясните, какие ошибки вы нашли и как их исправили. В данных вы найдёте звонки с нулевой продолжительностью. Это не ошибка: нулями обозначены пропущенные звонки, поэтому их не нужно удалять.\n",
    "\n",
    "- Посчитайте для каждого пользователя:\n",
    "- количество сделанных звонков и израсходованных минут разговора по месяцам;\n",
    "- количество отправленных сообщений по месяцам;\n",
    "- объем израсходованного интернет-трафика по месяцам;\n",
    "- помесячную выручку с каждого пользователя (вычтите бесплатный лимит из суммарного количества звонков, сообщений и интернет-трафика; остаток умножьте на значение из тарифного плана; прибавьте абонентскую плату, соответствующую тарифному плану).\n",
    "\n",
    "Шаг 3. Проанализируйте данные\n",
    "- Опишите поведение клиентов оператора, исходя из выборки. Сколько минут разговора, сколько сообщений и какой объём интернет-трафика требуется пользователям каждого тарифа в месяц? Посчитайте среднее количество, дисперсию и стандартное отклонение. Постройте гистограммы. Опишите распределения.\n",
    "\n",
    "Шаг 4. Проверьте гипотезы\n",
    "- средняя выручка пользователей тарифов «Ультра» и «Смарт» различаются;\n",
    "- средняя выручка пользователей из Москвы отличается от выручки пользователей из других регионов.\n",
    "- Пороговое значение alpha задайте самостоятельно.\n",
    "\n",
    "Поясните:\n",
    "- как вы формулировали нулевую и альтернативную гипотезы;\n",
    "- какой критерий использовали для проверки гипотез и почему.\n",
    "\n",
    "Шаг 5. Напишите общий вывод"
   ]
  },
  {
   "cell_type": "markdown",
   "metadata": {},
   "source": [
    "**Описание данных**\n",
    "\n",
    "Таблица users (информация о пользователях):\n",
    "- user_id — уникальный идентификатор пользователя\n",
    "- first_name — имя пользователя\n",
    "- last_name — фамилия пользователя\n",
    "- age — возраст пользователя (годы)\n",
    "- reg_date — дата подключения тарифа (день, месяц, год)\n",
    "- churn_date — дата прекращения пользования тарифом (если значение пропущено, то тариф ещё действовал на момент выгрузки данных)\n",
    "- city — город проживания пользователя\n",
    "- tarif — название тарифного плана\n",
    "\n",
    "Таблица calls (информация о звонках):\n",
    "- id — уникальный номер звонка\n",
    "- call_date — дата звонка\n",
    "- duration — длительность звонка в минутах\n",
    "- user_id — идентификатор пользователя, сделавшего звонок\n",
    "\n",
    "Таблица messages (информация о сообщениях):\n",
    "- id — уникальный номер сообщения\n",
    "- message_date — дата сообщения\n",
    "- user_id — идентификатор пользователя, отправившего сообщение\n",
    "\n",
    "Таблица internet (информация об интернет-сессиях):\n",
    "- id — уникальный номер сессии\n",
    "- mb_used — объём потраченного за сессию интернет-трафика (в мегабайтах)\n",
    "- session_date — дата интернет-сессии\n",
    "- user_id — идентификатор пользователя\n",
    "\n",
    "Таблица tariffs (информация о тарифах):\n",
    "- tariff_name — название тарифа\n",
    "- rub_monthly_fee — ежемесячная абонентская плата в рублях\n",
    "- minutes_included — количество минут разговора в месяц, включённых в абонентскую плату\n",
    "- messages_included — количество сообщений в месяц, включённых в абонентскую плату\n",
    "- mb_per_month_included — объём интернет-трафика, включённого в абонентскую плату (в мегабайтах)\n",
    "- rub_per_minute — стоимость минуты разговора сверх тарифного пакета (например, если в тарифе 100 минут разговора в месяц, то со 101 минуты будет взиматься плата)\n",
    "- rub_per_message — стоимость отправки сообщения сверх тарифного пакета\n",
    "- rub_per_gb — стоимость дополнительного гигабайта интернет-трафика сверх тарифного пакета (1 гигабайт = 1024 мегабайта)"
   ]
  },
  {
   "cell_type": "markdown",
   "metadata": {},
   "source": [
    "# 1 Этап. Просмотр файлов и изучение общей информации."
   ]
  },
  {
   "cell_type": "code",
   "execution_count": 1,
   "metadata": {},
   "outputs": [],
   "source": [
    "#импортируем необходимые библиотеки\n",
    "import pandas as pd\n",
    "import numpy as np\n",
    "import matplotlib.pyplot as plt\n",
    "import math\n",
    "\n",
    "from datetime import datetime\n",
    "from scipy import stats as st"
   ]
  },
  {
   "cell_type": "code",
   "execution_count": 2,
   "metadata": {},
   "outputs": [],
   "source": [
    "#загрузим датасеты\n",
    "users = pd.read_csv('/datasets/users.csv')\n",
    "calls = pd.read_csv('/datasets/calls.csv')\n",
    "messages = pd.read_csv('/datasets/messages.csv')\n",
    "internet = pd.read_csv('/datasets/internet.csv')\n",
    "tariffs = pd.read_csv('/datasets/tariffs.csv')"
   ]
  },
  {
   "cell_type": "code",
   "execution_count": 3,
   "metadata": {},
   "outputs": [
    {
     "data": {
      "text/html": [
       "<div>\n",
       "<style scoped>\n",
       "    .dataframe tbody tr th:only-of-type {\n",
       "        vertical-align: middle;\n",
       "    }\n",
       "\n",
       "    .dataframe tbody tr th {\n",
       "        vertical-align: top;\n",
       "    }\n",
       "\n",
       "    .dataframe thead th {\n",
       "        text-align: right;\n",
       "    }\n",
       "</style>\n",
       "<table border=\"1\" class=\"dataframe\">\n",
       "  <thead>\n",
       "    <tr style=\"text-align: right;\">\n",
       "      <th></th>\n",
       "      <th>user_id</th>\n",
       "      <th>age</th>\n",
       "      <th>churn_date</th>\n",
       "      <th>city</th>\n",
       "      <th>first_name</th>\n",
       "      <th>last_name</th>\n",
       "      <th>reg_date</th>\n",
       "      <th>tariff</th>\n",
       "    </tr>\n",
       "  </thead>\n",
       "  <tbody>\n",
       "    <tr>\n",
       "      <td>0</td>\n",
       "      <td>1000</td>\n",
       "      <td>52</td>\n",
       "      <td>NaN</td>\n",
       "      <td>Краснодар</td>\n",
       "      <td>Рафаил</td>\n",
       "      <td>Верещагин</td>\n",
       "      <td>2018-05-25</td>\n",
       "      <td>ultra</td>\n",
       "    </tr>\n",
       "    <tr>\n",
       "      <td>1</td>\n",
       "      <td>1001</td>\n",
       "      <td>41</td>\n",
       "      <td>NaN</td>\n",
       "      <td>Москва</td>\n",
       "      <td>Иван</td>\n",
       "      <td>Ежов</td>\n",
       "      <td>2018-11-01</td>\n",
       "      <td>smart</td>\n",
       "    </tr>\n",
       "    <tr>\n",
       "      <td>2</td>\n",
       "      <td>1002</td>\n",
       "      <td>59</td>\n",
       "      <td>NaN</td>\n",
       "      <td>Стерлитамак</td>\n",
       "      <td>Евгений</td>\n",
       "      <td>Абрамович</td>\n",
       "      <td>2018-06-17</td>\n",
       "      <td>smart</td>\n",
       "    </tr>\n",
       "    <tr>\n",
       "      <td>3</td>\n",
       "      <td>1003</td>\n",
       "      <td>23</td>\n",
       "      <td>NaN</td>\n",
       "      <td>Москва</td>\n",
       "      <td>Белла</td>\n",
       "      <td>Белякова</td>\n",
       "      <td>2018-08-17</td>\n",
       "      <td>ultra</td>\n",
       "    </tr>\n",
       "    <tr>\n",
       "      <td>4</td>\n",
       "      <td>1004</td>\n",
       "      <td>68</td>\n",
       "      <td>NaN</td>\n",
       "      <td>Новокузнецк</td>\n",
       "      <td>Татьяна</td>\n",
       "      <td>Авдеенко</td>\n",
       "      <td>2018-05-14</td>\n",
       "      <td>ultra</td>\n",
       "    </tr>\n",
       "  </tbody>\n",
       "</table>\n",
       "</div>"
      ],
      "text/plain": [
       "   user_id  age churn_date         city first_name  last_name    reg_date  \\\n",
       "0     1000   52        NaN    Краснодар     Рафаил  Верещагин  2018-05-25   \n",
       "1     1001   41        NaN       Москва       Иван       Ежов  2018-11-01   \n",
       "2     1002   59        NaN  Стерлитамак    Евгений  Абрамович  2018-06-17   \n",
       "3     1003   23        NaN       Москва      Белла   Белякова  2018-08-17   \n",
       "4     1004   68        NaN  Новокузнецк    Татьяна   Авдеенко  2018-05-14   \n",
       "\n",
       "  tariff  \n",
       "0  ultra  \n",
       "1  smart  \n",
       "2  smart  \n",
       "3  ultra  \n",
       "4  ultra  "
      ]
     },
     "execution_count": 3,
     "metadata": {},
     "output_type": "execute_result"
    }
   ],
   "source": [
    "#изучим полученные данные, посмотрим на таблицу с пользователями \"users\"\n",
    "users.head()"
   ]
  },
  {
   "cell_type": "markdown",
   "metadata": {},
   "source": [
    "<div class=\"alert alert-block alert-warning\">\n",
    "⚠️ Здесь результат будет выведен на экран и без использования display, потому что это последняя строчка ячейки\n",
    "</div>"
   ]
  },
  {
   "cell_type": "markdown",
   "metadata": {},
   "source": [
    "<div class=\"alert alert-block alert-info\">\n",
    "<b>Комментарий студента:</b> \n",
    "Поправил во всей тетрадке\n",
    "</div>"
   ]
  },
  {
   "cell_type": "markdown",
   "metadata": {},
   "source": [
    "<div class=\"alert alert-block alert-success\">\n",
    "✔️ Ревью №2: Отлично!\n",
    "</div>"
   ]
  },
  {
   "cell_type": "code",
   "execution_count": 4,
   "metadata": {
    "scrolled": true
   },
   "outputs": [
    {
     "name": "stdout",
     "output_type": "stream",
     "text": [
      "<class 'pandas.core.frame.DataFrame'>\n",
      "RangeIndex: 500 entries, 0 to 499\n",
      "Data columns (total 8 columns):\n",
      "user_id       500 non-null int64\n",
      "age           500 non-null int64\n",
      "churn_date    38 non-null object\n",
      "city          500 non-null object\n",
      "first_name    500 non-null object\n",
      "last_name     500 non-null object\n",
      "reg_date      500 non-null object\n",
      "tariff        500 non-null object\n",
      "dtypes: int64(2), object(6)\n",
      "memory usage: 31.4+ KB\n"
     ]
    }
   ],
   "source": [
    "users.info()\n",
    "#взглянем на датасет"
   ]
  },
  {
   "cell_type": "markdown",
   "metadata": {},
   "source": [
    "Здесь мы видим что тип данных для дат (churn_date/reg_date) неподходящий, для корректной работы необходимо будет перевести его в datetime. Колонку age, tariff и city переименовать в соответствии со змеиным регистром"
   ]
  },
  {
   "cell_type": "code",
   "execution_count": 5,
   "metadata": {},
   "outputs": [
    {
     "data": {
      "text/html": [
       "<div>\n",
       "<style scoped>\n",
       "    .dataframe tbody tr th:only-of-type {\n",
       "        vertical-align: middle;\n",
       "    }\n",
       "\n",
       "    .dataframe tbody tr th {\n",
       "        vertical-align: top;\n",
       "    }\n",
       "\n",
       "    .dataframe thead th {\n",
       "        text-align: right;\n",
       "    }\n",
       "</style>\n",
       "<table border=\"1\" class=\"dataframe\">\n",
       "  <thead>\n",
       "    <tr style=\"text-align: right;\">\n",
       "      <th></th>\n",
       "      <th>user_id</th>\n",
       "      <th>age</th>\n",
       "    </tr>\n",
       "  </thead>\n",
       "  <tbody>\n",
       "    <tr>\n",
       "      <td>count</td>\n",
       "      <td>500.000000</td>\n",
       "      <td>500.00000</td>\n",
       "    </tr>\n",
       "    <tr>\n",
       "      <td>mean</td>\n",
       "      <td>1249.500000</td>\n",
       "      <td>46.58800</td>\n",
       "    </tr>\n",
       "    <tr>\n",
       "      <td>std</td>\n",
       "      <td>144.481833</td>\n",
       "      <td>16.66763</td>\n",
       "    </tr>\n",
       "    <tr>\n",
       "      <td>min</td>\n",
       "      <td>1000.000000</td>\n",
       "      <td>18.00000</td>\n",
       "    </tr>\n",
       "    <tr>\n",
       "      <td>25%</td>\n",
       "      <td>1124.750000</td>\n",
       "      <td>32.00000</td>\n",
       "    </tr>\n",
       "    <tr>\n",
       "      <td>50%</td>\n",
       "      <td>1249.500000</td>\n",
       "      <td>46.00000</td>\n",
       "    </tr>\n",
       "    <tr>\n",
       "      <td>75%</td>\n",
       "      <td>1374.250000</td>\n",
       "      <td>62.00000</td>\n",
       "    </tr>\n",
       "    <tr>\n",
       "      <td>max</td>\n",
       "      <td>1499.000000</td>\n",
       "      <td>75.00000</td>\n",
       "    </tr>\n",
       "  </tbody>\n",
       "</table>\n",
       "</div>"
      ],
      "text/plain": [
       "           user_id        age\n",
       "count   500.000000  500.00000\n",
       "mean   1249.500000   46.58800\n",
       "std     144.481833   16.66763\n",
       "min    1000.000000   18.00000\n",
       "25%    1124.750000   32.00000\n",
       "50%    1249.500000   46.00000\n",
       "75%    1374.250000   62.00000\n",
       "max    1499.000000   75.00000"
      ]
     },
     "execution_count": 5,
     "metadata": {},
     "output_type": "execute_result"
    }
   ],
   "source": [
    "users.describe()"
   ]
  },
  {
   "cell_type": "markdown",
   "metadata": {},
   "source": [
    "Метод describe позволяет нам взглянуть на все необходимые значения, медиану, среднее, стандартное отклонение, для первичного знакомства вполне достаточно. "
   ]
  },
  {
   "cell_type": "code",
   "execution_count": 6,
   "metadata": {},
   "outputs": [
    {
     "data": {
      "text/html": [
       "<div>\n",
       "<style scoped>\n",
       "    .dataframe tbody tr th:only-of-type {\n",
       "        vertical-align: middle;\n",
       "    }\n",
       "\n",
       "    .dataframe tbody tr th {\n",
       "        vertical-align: top;\n",
       "    }\n",
       "\n",
       "    .dataframe thead th {\n",
       "        text-align: right;\n",
       "    }\n",
       "</style>\n",
       "<table border=\"1\" class=\"dataframe\">\n",
       "  <thead>\n",
       "    <tr style=\"text-align: right;\">\n",
       "      <th></th>\n",
       "      <th>id</th>\n",
       "      <th>call_date</th>\n",
       "      <th>duration</th>\n",
       "      <th>user_id</th>\n",
       "    </tr>\n",
       "  </thead>\n",
       "  <tbody>\n",
       "    <tr>\n",
       "      <td>0</td>\n",
       "      <td>1000_0</td>\n",
       "      <td>2018-07-25</td>\n",
       "      <td>0.00</td>\n",
       "      <td>1000</td>\n",
       "    </tr>\n",
       "    <tr>\n",
       "      <td>1</td>\n",
       "      <td>1000_1</td>\n",
       "      <td>2018-08-17</td>\n",
       "      <td>0.00</td>\n",
       "      <td>1000</td>\n",
       "    </tr>\n",
       "    <tr>\n",
       "      <td>2</td>\n",
       "      <td>1000_2</td>\n",
       "      <td>2018-06-11</td>\n",
       "      <td>2.85</td>\n",
       "      <td>1000</td>\n",
       "    </tr>\n",
       "    <tr>\n",
       "      <td>3</td>\n",
       "      <td>1000_3</td>\n",
       "      <td>2018-09-21</td>\n",
       "      <td>13.80</td>\n",
       "      <td>1000</td>\n",
       "    </tr>\n",
       "    <tr>\n",
       "      <td>4</td>\n",
       "      <td>1000_4</td>\n",
       "      <td>2018-12-15</td>\n",
       "      <td>5.18</td>\n",
       "      <td>1000</td>\n",
       "    </tr>\n",
       "  </tbody>\n",
       "</table>\n",
       "</div>"
      ],
      "text/plain": [
       "       id   call_date  duration  user_id\n",
       "0  1000_0  2018-07-25      0.00     1000\n",
       "1  1000_1  2018-08-17      0.00     1000\n",
       "2  1000_2  2018-06-11      2.85     1000\n",
       "3  1000_3  2018-09-21     13.80     1000\n",
       "4  1000_4  2018-12-15      5.18     1000"
      ]
     },
     "execution_count": 6,
     "metadata": {},
     "output_type": "execute_result"
    }
   ],
   "source": [
    "#теперь посмотрим на таблицу с звонками\n",
    "calls.head()"
   ]
  },
  {
   "cell_type": "code",
   "execution_count": 7,
   "metadata": {},
   "outputs": [
    {
     "name": "stdout",
     "output_type": "stream",
     "text": [
      "<class 'pandas.core.frame.DataFrame'>\n",
      "RangeIndex: 202607 entries, 0 to 202606\n",
      "Data columns (total 4 columns):\n",
      "id           202607 non-null object\n",
      "call_date    202607 non-null object\n",
      "duration     202607 non-null float64\n",
      "user_id      202607 non-null int64\n",
      "dtypes: float64(1), int64(1), object(2)\n",
      "memory usage: 6.2+ MB\n"
     ]
    }
   ],
   "source": [
    "calls.info()\n"
   ]
  },
  {
   "cell_type": "markdown",
   "metadata": {},
   "source": [
    "Необходимо будет перевести колонку duration в int, так как оператор всё округляет до целых чисел, в большую сторону и поменять название колонки.\n",
    "Аналогично с колонкой id, плюс поменять название (змеиный регистр) \n",
    "Колонку call_date привести в нормальный формат (datetime)"
   ]
  },
  {
   "cell_type": "markdown",
   "metadata": {},
   "source": [
    "<div class=\"alert alert-block alert-danger\">\n",
    "❌ В виде комментариев к коду стоит писать пояснения, почему ты применил те или иные методы python, зачем сгруппировал данные, для чего нужны срезы и т.д.\n",
    "Все остальное — выводы, рекомендации, принятые решения, указание на обнаруженные аномалии, анализ графиков и т.д. нужно писать в ячейках makdown. Так твой проект будет проще читать.\n",
    "\n",
    "Пожалуйста, воспользуйся методичкой по оформлению проектов, что бы исправить эти недостатки. Для получения ссылки на методичку и доступа к ней обратись к своему куратору.\n",
    "\n",
    "</div>"
   ]
  },
  {
   "cell_type": "markdown",
   "metadata": {},
   "source": [
    "<div class=\"alert alert-block alert-info\">\n",
    "<b>Комментарий студента:</b> \n",
    "Замечания принял сенсей, всё постарался исправить для более наглядного чтения тетради.\n",
    "</div>"
   ]
  },
  {
   "cell_type": "markdown",
   "metadata": {},
   "source": [
    "<div class=\"alert alert-block alert-success\">\n",
    "✔️ Ревью №2: Огонь!)\n",
    "</div>"
   ]
  },
  {
   "cell_type": "code",
   "execution_count": 8,
   "metadata": {},
   "outputs": [
    {
     "data": {
      "text/html": [
       "<div>\n",
       "<style scoped>\n",
       "    .dataframe tbody tr th:only-of-type {\n",
       "        vertical-align: middle;\n",
       "    }\n",
       "\n",
       "    .dataframe tbody tr th {\n",
       "        vertical-align: top;\n",
       "    }\n",
       "\n",
       "    .dataframe thead th {\n",
       "        text-align: right;\n",
       "    }\n",
       "</style>\n",
       "<table border=\"1\" class=\"dataframe\">\n",
       "  <thead>\n",
       "    <tr style=\"text-align: right;\">\n",
       "      <th></th>\n",
       "      <th>duration</th>\n",
       "      <th>user_id</th>\n",
       "    </tr>\n",
       "  </thead>\n",
       "  <tbody>\n",
       "    <tr>\n",
       "      <td>count</td>\n",
       "      <td>202607.000000</td>\n",
       "      <td>202607.000000</td>\n",
       "    </tr>\n",
       "    <tr>\n",
       "      <td>mean</td>\n",
       "      <td>6.755887</td>\n",
       "      <td>1253.940619</td>\n",
       "    </tr>\n",
       "    <tr>\n",
       "      <td>std</td>\n",
       "      <td>5.843365</td>\n",
       "      <td>144.722751</td>\n",
       "    </tr>\n",
       "    <tr>\n",
       "      <td>min</td>\n",
       "      <td>0.000000</td>\n",
       "      <td>1000.000000</td>\n",
       "    </tr>\n",
       "    <tr>\n",
       "      <td>25%</td>\n",
       "      <td>1.300000</td>\n",
       "      <td>1126.000000</td>\n",
       "    </tr>\n",
       "    <tr>\n",
       "      <td>50%</td>\n",
       "      <td>6.000000</td>\n",
       "      <td>1260.000000</td>\n",
       "    </tr>\n",
       "    <tr>\n",
       "      <td>75%</td>\n",
       "      <td>10.700000</td>\n",
       "      <td>1379.000000</td>\n",
       "    </tr>\n",
       "    <tr>\n",
       "      <td>max</td>\n",
       "      <td>38.000000</td>\n",
       "      <td>1499.000000</td>\n",
       "    </tr>\n",
       "  </tbody>\n",
       "</table>\n",
       "</div>"
      ],
      "text/plain": [
       "            duration        user_id\n",
       "count  202607.000000  202607.000000\n",
       "mean        6.755887    1253.940619\n",
       "std         5.843365     144.722751\n",
       "min         0.000000    1000.000000\n",
       "25%         1.300000    1126.000000\n",
       "50%         6.000000    1260.000000\n",
       "75%        10.700000    1379.000000\n",
       "max        38.000000    1499.000000"
      ]
     },
     "execution_count": 8,
     "metadata": {},
     "output_type": "execute_result"
    }
   ],
   "source": [
    "calls.describe()\n",
    "#посмотрим на структуру данных"
   ]
  },
  {
   "cell_type": "markdown",
   "metadata": {},
   "source": [
    "Присутствуют нулевые звонки, но в задании к проекту сказано \"Это не ошибка: нулями обозначены пропущенные звонки, поэтому их не нужно удалять.\"\n",
    "Послушаем умных людей и не станем ничего трогать."
   ]
  },
  {
   "cell_type": "code",
   "execution_count": 9,
   "metadata": {},
   "outputs": [
    {
     "data": {
      "text/html": [
       "<div>\n",
       "<style scoped>\n",
       "    .dataframe tbody tr th:only-of-type {\n",
       "        vertical-align: middle;\n",
       "    }\n",
       "\n",
       "    .dataframe tbody tr th {\n",
       "        vertical-align: top;\n",
       "    }\n",
       "\n",
       "    .dataframe thead th {\n",
       "        text-align: right;\n",
       "    }\n",
       "</style>\n",
       "<table border=\"1\" class=\"dataframe\">\n",
       "  <thead>\n",
       "    <tr style=\"text-align: right;\">\n",
       "      <th></th>\n",
       "      <th>id</th>\n",
       "      <th>message_date</th>\n",
       "      <th>user_id</th>\n",
       "    </tr>\n",
       "  </thead>\n",
       "  <tbody>\n",
       "    <tr>\n",
       "      <td>0</td>\n",
       "      <td>1000_0</td>\n",
       "      <td>2018-06-27</td>\n",
       "      <td>1000</td>\n",
       "    </tr>\n",
       "    <tr>\n",
       "      <td>1</td>\n",
       "      <td>1000_1</td>\n",
       "      <td>2018-10-08</td>\n",
       "      <td>1000</td>\n",
       "    </tr>\n",
       "    <tr>\n",
       "      <td>2</td>\n",
       "      <td>1000_2</td>\n",
       "      <td>2018-08-04</td>\n",
       "      <td>1000</td>\n",
       "    </tr>\n",
       "    <tr>\n",
       "      <td>3</td>\n",
       "      <td>1000_3</td>\n",
       "      <td>2018-06-16</td>\n",
       "      <td>1000</td>\n",
       "    </tr>\n",
       "    <tr>\n",
       "      <td>4</td>\n",
       "      <td>1000_4</td>\n",
       "      <td>2018-12-05</td>\n",
       "      <td>1000</td>\n",
       "    </tr>\n",
       "  </tbody>\n",
       "</table>\n",
       "</div>"
      ],
      "text/plain": [
       "       id message_date  user_id\n",
       "0  1000_0   2018-06-27     1000\n",
       "1  1000_1   2018-10-08     1000\n",
       "2  1000_2   2018-08-04     1000\n",
       "3  1000_3   2018-06-16     1000\n",
       "4  1000_4   2018-12-05     1000"
      ]
     },
     "execution_count": 9,
     "metadata": {},
     "output_type": "execute_result"
    }
   ],
   "source": [
    "#посмотрим на таблицу с сообщениями \n",
    "messages.head()\n"
   ]
  },
  {
   "cell_type": "markdown",
   "metadata": {},
   "source": [
    "Необходимо поменять название колонки id, поменять тип данных на int, привести в порядок тип данных (datetime) в колонке message_date."
   ]
  },
  {
   "cell_type": "code",
   "execution_count": 10,
   "metadata": {},
   "outputs": [
    {
     "name": "stdout",
     "output_type": "stream",
     "text": [
      "<class 'pandas.core.frame.DataFrame'>\n",
      "RangeIndex: 123036 entries, 0 to 123035\n",
      "Data columns (total 3 columns):\n",
      "id              123036 non-null object\n",
      "message_date    123036 non-null object\n",
      "user_id         123036 non-null int64\n",
      "dtypes: int64(1), object(2)\n",
      "memory usage: 2.8+ MB\n"
     ]
    }
   ],
   "source": [
    "messages.info()"
   ]
  },
  {
   "cell_type": "code",
   "execution_count": 11,
   "metadata": {},
   "outputs": [
    {
     "data": {
      "text/html": [
       "<div>\n",
       "<style scoped>\n",
       "    .dataframe tbody tr th:only-of-type {\n",
       "        vertical-align: middle;\n",
       "    }\n",
       "\n",
       "    .dataframe tbody tr th {\n",
       "        vertical-align: top;\n",
       "    }\n",
       "\n",
       "    .dataframe thead th {\n",
       "        text-align: right;\n",
       "    }\n",
       "</style>\n",
       "<table border=\"1\" class=\"dataframe\">\n",
       "  <thead>\n",
       "    <tr style=\"text-align: right;\">\n",
       "      <th></th>\n",
       "      <th>Unnamed: 0</th>\n",
       "      <th>id</th>\n",
       "      <th>mb_used</th>\n",
       "      <th>session_date</th>\n",
       "      <th>user_id</th>\n",
       "    </tr>\n",
       "  </thead>\n",
       "  <tbody>\n",
       "    <tr>\n",
       "      <td>0</td>\n",
       "      <td>0</td>\n",
       "      <td>1000_0</td>\n",
       "      <td>112.95</td>\n",
       "      <td>2018-11-25</td>\n",
       "      <td>1000</td>\n",
       "    </tr>\n",
       "    <tr>\n",
       "      <td>1</td>\n",
       "      <td>1</td>\n",
       "      <td>1000_1</td>\n",
       "      <td>1052.81</td>\n",
       "      <td>2018-09-07</td>\n",
       "      <td>1000</td>\n",
       "    </tr>\n",
       "    <tr>\n",
       "      <td>2</td>\n",
       "      <td>2</td>\n",
       "      <td>1000_2</td>\n",
       "      <td>1197.26</td>\n",
       "      <td>2018-06-25</td>\n",
       "      <td>1000</td>\n",
       "    </tr>\n",
       "    <tr>\n",
       "      <td>3</td>\n",
       "      <td>3</td>\n",
       "      <td>1000_3</td>\n",
       "      <td>550.27</td>\n",
       "      <td>2018-08-22</td>\n",
       "      <td>1000</td>\n",
       "    </tr>\n",
       "    <tr>\n",
       "      <td>4</td>\n",
       "      <td>4</td>\n",
       "      <td>1000_4</td>\n",
       "      <td>302.56</td>\n",
       "      <td>2018-09-24</td>\n",
       "      <td>1000</td>\n",
       "    </tr>\n",
       "  </tbody>\n",
       "</table>\n",
       "</div>"
      ],
      "text/plain": [
       "   Unnamed: 0      id  mb_used session_date  user_id\n",
       "0           0  1000_0   112.95   2018-11-25     1000\n",
       "1           1  1000_1  1052.81   2018-09-07     1000\n",
       "2           2  1000_2  1197.26   2018-06-25     1000\n",
       "3           3  1000_3   550.27   2018-08-22     1000\n",
       "4           4  1000_4   302.56   2018-09-24     1000"
      ]
     },
     "execution_count": 11,
     "metadata": {},
     "output_type": "execute_result"
    }
   ],
   "source": [
    "#посмотрим на таблицу с интернет траффиком \n",
    "internet.head()"
   ]
  },
  {
   "cell_type": "code",
   "execution_count": 12,
   "metadata": {},
   "outputs": [
    {
     "name": "stdout",
     "output_type": "stream",
     "text": [
      "<class 'pandas.core.frame.DataFrame'>\n",
      "RangeIndex: 149396 entries, 0 to 149395\n",
      "Data columns (total 5 columns):\n",
      "Unnamed: 0      149396 non-null int64\n",
      "id              149396 non-null object\n",
      "mb_used         149396 non-null float64\n",
      "session_date    149396 non-null object\n",
      "user_id         149396 non-null int64\n",
      "dtypes: float64(1), int64(2), object(2)\n",
      "memory usage: 5.7+ MB\n"
     ]
    }
   ],
   "source": [
    "internet.info()"
   ]
  },
  {
   "cell_type": "markdown",
   "metadata": {},
   "source": [
    "Пменяем в колонке id тип данных на int, меняем название колонки, приводим в порядок тип данных (datetime) в колонке session_date\n",
    "Удалим колонку unnamed, по условию задачи она нам не понадобится."
   ]
  },
  {
   "cell_type": "code",
   "execution_count": 13,
   "metadata": {},
   "outputs": [
    {
     "data": {
      "text/html": [
       "<div>\n",
       "<style scoped>\n",
       "    .dataframe tbody tr th:only-of-type {\n",
       "        vertical-align: middle;\n",
       "    }\n",
       "\n",
       "    .dataframe tbody tr th {\n",
       "        vertical-align: top;\n",
       "    }\n",
       "\n",
       "    .dataframe thead th {\n",
       "        text-align: right;\n",
       "    }\n",
       "</style>\n",
       "<table border=\"1\" class=\"dataframe\">\n",
       "  <thead>\n",
       "    <tr style=\"text-align: right;\">\n",
       "      <th></th>\n",
       "      <th>messages_included</th>\n",
       "      <th>mb_per_month_included</th>\n",
       "      <th>minutes_included</th>\n",
       "      <th>rub_monthly_fee</th>\n",
       "      <th>rub_per_gb</th>\n",
       "      <th>rub_per_message</th>\n",
       "      <th>rub_per_minute</th>\n",
       "      <th>tariff_name</th>\n",
       "    </tr>\n",
       "  </thead>\n",
       "  <tbody>\n",
       "    <tr>\n",
       "      <td>0</td>\n",
       "      <td>50</td>\n",
       "      <td>15360</td>\n",
       "      <td>500</td>\n",
       "      <td>550</td>\n",
       "      <td>200</td>\n",
       "      <td>3</td>\n",
       "      <td>3</td>\n",
       "      <td>smart</td>\n",
       "    </tr>\n",
       "    <tr>\n",
       "      <td>1</td>\n",
       "      <td>1000</td>\n",
       "      <td>30720</td>\n",
       "      <td>3000</td>\n",
       "      <td>1950</td>\n",
       "      <td>150</td>\n",
       "      <td>1</td>\n",
       "      <td>1</td>\n",
       "      <td>ultra</td>\n",
       "    </tr>\n",
       "  </tbody>\n",
       "</table>\n",
       "</div>"
      ],
      "text/plain": [
       "   messages_included  mb_per_month_included  minutes_included  \\\n",
       "0                 50                  15360               500   \n",
       "1               1000                  30720              3000   \n",
       "\n",
       "   rub_monthly_fee  rub_per_gb  rub_per_message  rub_per_minute tariff_name  \n",
       "0              550         200                3               3       smart  \n",
       "1             1950         150                1               1       ultra  "
      ]
     },
     "execution_count": 13,
     "metadata": {},
     "output_type": "execute_result"
    }
   ],
   "source": [
    "#посмотрим на таблицу с тарифами \n",
    "tariffs.head()"
   ]
  },
  {
   "cell_type": "code",
   "execution_count": 14,
   "metadata": {},
   "outputs": [
    {
     "name": "stdout",
     "output_type": "stream",
     "text": [
      "<class 'pandas.core.frame.DataFrame'>\n",
      "RangeIndex: 2 entries, 0 to 1\n",
      "Data columns (total 8 columns):\n",
      "messages_included        2 non-null int64\n",
      "mb_per_month_included    2 non-null int64\n",
      "minutes_included         2 non-null int64\n",
      "rub_monthly_fee          2 non-null int64\n",
      "rub_per_gb               2 non-null int64\n",
      "rub_per_message          2 non-null int64\n",
      "rub_per_minute           2 non-null int64\n",
      "tariff_name              2 non-null object\n",
      "dtypes: int64(7), object(1)\n",
      "memory usage: 256.0+ bytes\n"
     ]
    }
   ],
   "source": [
    "tariffs.info()\n",
    "#аномалии не обнаружены"
   ]
  },
  {
   "cell_type": "markdown",
   "metadata": {},
   "source": [
    "**Вывод: выявил недочёты в типах данных в нескольких датасетах, для корректной работы необходимо будет их изменить на соответствующие, по условиям задачи мы округляем данные по использованию звонков и мегабайтов интернет трафика в большую сторону, поэтому мы не можем оставить значение float в колонке mb_used. Так же следуя правилам хорошего кода я намерен переименовать колонки в соответсвии со змеиным регистром, для меня гораздо удобнее, когда та же колонка id имеет отношение к конкретной таблице, чтобы избежать путаницы с последующими этапами работы.**"
   ]
  },
  {
   "cell_type": "markdown",
   "metadata": {},
   "source": [
    "<div class=\"alert alert-block alert-success\">\n",
    "✔️ Отличная работа с первичным выводом! В выводе полезно быть чуть быть более многословным: кратко отметить обнаруженные недочёты и способы их устранения (так, как ты их видишь).\n",
    "</div>"
   ]
  },
  {
   "cell_type": "markdown",
   "metadata": {},
   "source": [
    "<div class=\"alert alert-block alert-info\">\n",
    "<b>Комментарий студента:</b> \n",
    "Поправил данный недостаток.\n",
    "</div>"
   ]
  },
  {
   "cell_type": "markdown",
   "metadata": {},
   "source": [
    "<div class=\"alert alert-block alert-success\">\n",
    "✔️ Ревью №2: Владимир, большое спасибо, что работаешь даже с зелёными замечаниями!\n",
    "</div>"
   ]
  },
  {
   "cell_type": "markdown",
   "metadata": {},
   "source": [
    "# 2 Этап. Предобработка данных."
   ]
  },
  {
   "cell_type": "markdown",
   "metadata": {},
   "source": [
    "**Редактрируем таблицу users в соответствии с выявленными недостатками**"
   ]
  },
  {
   "cell_type": "code",
   "execution_count": 15,
   "metadata": {},
   "outputs": [
    {
     "data": {
      "text/plain": [
       "['user_id',\n",
       " 'age',\n",
       " 'churn_date',\n",
       " 'city',\n",
       " 'first_name',\n",
       " 'last_name',\n",
       " 'reg_date',\n",
       " 'tariff']"
      ]
     },
     "execution_count": 15,
     "metadata": {},
     "output_type": "execute_result"
    }
   ],
   "source": [
    "#переименуем столбцы в даьтасете users\n",
    "users.columns.tolist()"
   ]
  },
  {
   "cell_type": "code",
   "execution_count": 16,
   "metadata": {},
   "outputs": [],
   "source": [
    "users = users.rename(columns={'age': 'age_users', 'city': 'city_users', 'tariff': 'tariff_option'})"
   ]
  },
  {
   "cell_type": "code",
   "execution_count": 17,
   "metadata": {},
   "outputs": [
    {
     "data": {
      "text/html": [
       "<div>\n",
       "<style scoped>\n",
       "    .dataframe tbody tr th:only-of-type {\n",
       "        vertical-align: middle;\n",
       "    }\n",
       "\n",
       "    .dataframe tbody tr th {\n",
       "        vertical-align: top;\n",
       "    }\n",
       "\n",
       "    .dataframe thead th {\n",
       "        text-align: right;\n",
       "    }\n",
       "</style>\n",
       "<table border=\"1\" class=\"dataframe\">\n",
       "  <thead>\n",
       "    <tr style=\"text-align: right;\">\n",
       "      <th></th>\n",
       "      <th>user_id</th>\n",
       "      <th>age_users</th>\n",
       "      <th>churn_date</th>\n",
       "      <th>city_users</th>\n",
       "      <th>first_name</th>\n",
       "      <th>last_name</th>\n",
       "      <th>reg_date</th>\n",
       "      <th>tariff_option</th>\n",
       "    </tr>\n",
       "  </thead>\n",
       "  <tbody>\n",
       "    <tr>\n",
       "      <td>0</td>\n",
       "      <td>1000</td>\n",
       "      <td>52</td>\n",
       "      <td>NaN</td>\n",
       "      <td>Краснодар</td>\n",
       "      <td>Рафаил</td>\n",
       "      <td>Верещагин</td>\n",
       "      <td>2018-05-25</td>\n",
       "      <td>ultra</td>\n",
       "    </tr>\n",
       "    <tr>\n",
       "      <td>1</td>\n",
       "      <td>1001</td>\n",
       "      <td>41</td>\n",
       "      <td>NaN</td>\n",
       "      <td>Москва</td>\n",
       "      <td>Иван</td>\n",
       "      <td>Ежов</td>\n",
       "      <td>2018-11-01</td>\n",
       "      <td>smart</td>\n",
       "    </tr>\n",
       "    <tr>\n",
       "      <td>2</td>\n",
       "      <td>1002</td>\n",
       "      <td>59</td>\n",
       "      <td>NaN</td>\n",
       "      <td>Стерлитамак</td>\n",
       "      <td>Евгений</td>\n",
       "      <td>Абрамович</td>\n",
       "      <td>2018-06-17</td>\n",
       "      <td>smart</td>\n",
       "    </tr>\n",
       "    <tr>\n",
       "      <td>3</td>\n",
       "      <td>1003</td>\n",
       "      <td>23</td>\n",
       "      <td>NaN</td>\n",
       "      <td>Москва</td>\n",
       "      <td>Белла</td>\n",
       "      <td>Белякова</td>\n",
       "      <td>2018-08-17</td>\n",
       "      <td>ultra</td>\n",
       "    </tr>\n",
       "    <tr>\n",
       "      <td>4</td>\n",
       "      <td>1004</td>\n",
       "      <td>68</td>\n",
       "      <td>NaN</td>\n",
       "      <td>Новокузнецк</td>\n",
       "      <td>Татьяна</td>\n",
       "      <td>Авдеенко</td>\n",
       "      <td>2018-05-14</td>\n",
       "      <td>ultra</td>\n",
       "    </tr>\n",
       "  </tbody>\n",
       "</table>\n",
       "</div>"
      ],
      "text/plain": [
       "   user_id  age_users churn_date   city_users first_name  last_name  \\\n",
       "0     1000         52        NaN    Краснодар     Рафаил  Верещагин   \n",
       "1     1001         41        NaN       Москва       Иван       Ежов   \n",
       "2     1002         59        NaN  Стерлитамак    Евгений  Абрамович   \n",
       "3     1003         23        NaN       Москва      Белла   Белякова   \n",
       "4     1004         68        NaN  Новокузнецк    Татьяна   Авдеенко   \n",
       "\n",
       "     reg_date tariff_option  \n",
       "0  2018-05-25         ultra  \n",
       "1  2018-11-01         smart  \n",
       "2  2018-06-17         smart  \n",
       "3  2018-08-17         ultra  \n",
       "4  2018-05-14         ultra  "
      ]
     },
     "execution_count": 17,
     "metadata": {},
     "output_type": "execute_result"
    }
   ],
   "source": [
    "#проверим результат работы\n",
    "users.head()"
   ]
  },
  {
   "cell_type": "code",
   "execution_count": 18,
   "metadata": {},
   "outputs": [],
   "source": [
    "#приведём в порядок даты\n",
    "users['churn_date'] = pd.to_datetime(users['churn_date'], format=\"%Y-%m-%d\")\n",
    "users['reg_date'] = pd.to_datetime(users['reg_date'], format=\"%Y-%m-%d\")"
   ]
  },
  {
   "cell_type": "code",
   "execution_count": 19,
   "metadata": {},
   "outputs": [
    {
     "name": "stdout",
     "output_type": "stream",
     "text": [
      "<class 'pandas.core.frame.DataFrame'>\n",
      "RangeIndex: 500 entries, 0 to 499\n",
      "Data columns (total 8 columns):\n",
      "user_id          500 non-null int64\n",
      "age_users        500 non-null int64\n",
      "churn_date       38 non-null datetime64[ns]\n",
      "city_users       500 non-null object\n",
      "first_name       500 non-null object\n",
      "last_name        500 non-null object\n",
      "reg_date         500 non-null datetime64[ns]\n",
      "tariff_option    500 non-null object\n",
      "dtypes: datetime64[ns](2), int64(2), object(4)\n",
      "memory usage: 31.4+ KB\n"
     ]
    }
   ],
   "source": [
    "users.info()\n",
    "#отлично, переходим к следующей таблице"
   ]
  },
  {
   "cell_type": "markdown",
   "metadata": {},
   "source": [
    "Даты теперь имеют корректный тип данных, названия столбцов в соответствии со змеиным регистром, красота да и только."
   ]
  },
  {
   "cell_type": "markdown",
   "metadata": {},
   "source": [
    "**Редактируем таблицу calls**"
   ]
  },
  {
   "cell_type": "code",
   "execution_count": 20,
   "metadata": {},
   "outputs": [
    {
     "data": {
      "text/plain": [
       "['id', 'call_date', 'duration', 'user_id']"
      ]
     },
     "execution_count": 20,
     "metadata": {},
     "output_type": "execute_result"
    }
   ],
   "source": [
    "#переименуем столбцы\n",
    "calls.columns.tolist()"
   ]
  },
  {
   "cell_type": "code",
   "execution_count": 21,
   "metadata": {},
   "outputs": [],
   "source": [
    "calls = calls.rename(columns={'id': 'id_call', 'duration': 'duration_call'})"
   ]
  },
  {
   "cell_type": "code",
   "execution_count": 22,
   "metadata": {},
   "outputs": [],
   "source": [
    "#поменяем тип данных для колонок id_call, duration_call и call_date\n",
    "calls['id_call'] = calls['id_call'].astype('int')\n",
    "calls['duration_call'] = calls['duration_call'].apply(np.ceil).astype('int')\n",
    "calls['call_date'] = pd.to_datetime(calls['call_date'], format=\"%Y-%m-%d\")\n"
   ]
  },
  {
   "cell_type": "code",
   "execution_count": 23,
   "metadata": {},
   "outputs": [
    {
     "name": "stdout",
     "output_type": "stream",
     "text": [
      "<class 'pandas.core.frame.DataFrame'>\n",
      "RangeIndex: 202607 entries, 0 to 202606\n",
      "Data columns (total 4 columns):\n",
      "id_call          202607 non-null int64\n",
      "call_date        202607 non-null datetime64[ns]\n",
      "duration_call    202607 non-null int64\n",
      "user_id          202607 non-null int64\n",
      "dtypes: datetime64[ns](1), int64(3)\n",
      "memory usage: 6.2 MB\n"
     ]
    }
   ],
   "source": [
    "#проверим изменения\n",
    "calls.info()"
   ]
  },
  {
   "cell_type": "code",
   "execution_count": 24,
   "metadata": {},
   "outputs": [
    {
     "data": {
      "text/html": [
       "<div>\n",
       "<style scoped>\n",
       "    .dataframe tbody tr th:only-of-type {\n",
       "        vertical-align: middle;\n",
       "    }\n",
       "\n",
       "    .dataframe tbody tr th {\n",
       "        vertical-align: top;\n",
       "    }\n",
       "\n",
       "    .dataframe thead th {\n",
       "        text-align: right;\n",
       "    }\n",
       "</style>\n",
       "<table border=\"1\" class=\"dataframe\">\n",
       "  <thead>\n",
       "    <tr style=\"text-align: right;\">\n",
       "      <th></th>\n",
       "      <th>id_call</th>\n",
       "      <th>call_date</th>\n",
       "      <th>duration_call</th>\n",
       "      <th>user_id</th>\n",
       "    </tr>\n",
       "  </thead>\n",
       "  <tbody>\n",
       "    <tr>\n",
       "      <td>0</td>\n",
       "      <td>10000</td>\n",
       "      <td>2018-07-25</td>\n",
       "      <td>0</td>\n",
       "      <td>1000</td>\n",
       "    </tr>\n",
       "    <tr>\n",
       "      <td>1</td>\n",
       "      <td>10001</td>\n",
       "      <td>2018-08-17</td>\n",
       "      <td>0</td>\n",
       "      <td>1000</td>\n",
       "    </tr>\n",
       "    <tr>\n",
       "      <td>2</td>\n",
       "      <td>10002</td>\n",
       "      <td>2018-06-11</td>\n",
       "      <td>3</td>\n",
       "      <td>1000</td>\n",
       "    </tr>\n",
       "    <tr>\n",
       "      <td>3</td>\n",
       "      <td>10003</td>\n",
       "      <td>2018-09-21</td>\n",
       "      <td>14</td>\n",
       "      <td>1000</td>\n",
       "    </tr>\n",
       "    <tr>\n",
       "      <td>4</td>\n",
       "      <td>10004</td>\n",
       "      <td>2018-12-15</td>\n",
       "      <td>6</td>\n",
       "      <td>1000</td>\n",
       "    </tr>\n",
       "  </tbody>\n",
       "</table>\n",
       "</div>"
      ],
      "text/plain": [
       "   id_call  call_date  duration_call  user_id\n",
       "0    10000 2018-07-25              0     1000\n",
       "1    10001 2018-08-17              0     1000\n",
       "2    10002 2018-06-11              3     1000\n",
       "3    10003 2018-09-21             14     1000\n",
       "4    10004 2018-12-15              6     1000"
      ]
     },
     "execution_count": 24,
     "metadata": {},
     "output_type": "execute_result"
    }
   ],
   "source": [
    "#взглянем на саму таблицу\n",
    "calls.head()\n",
    "#отлично, всё сработало "
   ]
  },
  {
   "cell_type": "markdown",
   "metadata": {},
   "source": [
    "Вот и здесь навели порядок, тип данных для колонок с датами теперь корректный, колонка с id звонков теперь имеет тип int, целое число, потому что дробное здесь не имеет никакого смысла. Аналогично с продолжительностью вызова, теперь это целое число, красивые данные, к которыми приятно работать. "
   ]
  },
  {
   "cell_type": "markdown",
   "metadata": {},
   "source": [
    "**Редактируем таблицу messages**"
   ]
  },
  {
   "cell_type": "code",
   "execution_count": 25,
   "metadata": {},
   "outputs": [],
   "source": [
    "#изменим тип данных для колонок id и message_date\n",
    "messages['id'] = messages['id'].astype('int')\n",
    "messages['message_date'] = pd.to_datetime(messages['message_date'], format=\"%Y-%m-%d\")"
   ]
  },
  {
   "cell_type": "code",
   "execution_count": 26,
   "metadata": {},
   "outputs": [
    {
     "name": "stdout",
     "output_type": "stream",
     "text": [
      "<class 'pandas.core.frame.DataFrame'>\n",
      "RangeIndex: 123036 entries, 0 to 123035\n",
      "Data columns (total 3 columns):\n",
      "id              123036 non-null int64\n",
      "message_date    123036 non-null datetime64[ns]\n",
      "user_id         123036 non-null int64\n",
      "dtypes: datetime64[ns](1), int64(2)\n",
      "memory usage: 2.8 MB\n"
     ]
    }
   ],
   "source": [
    "#проверим измененения\n",
    "messages.info()"
   ]
  },
  {
   "cell_type": "code",
   "execution_count": 27,
   "metadata": {},
   "outputs": [],
   "source": [
    "#поменяем название для колонки id\n",
    "messages = messages.rename(columns={'id': 'message_id'})"
   ]
  },
  {
   "cell_type": "markdown",
   "metadata": {},
   "source": [
    "<div class=\"alert alert-block alert-success\">\n",
    "✔️ Я бы не стал переименовывать айдишники, всё-таки это id пользователя, а не конкретного звонка или сообщения. Да и при последующем объединении удобнее работать, когда id везде называется одинаково\n",
    "</div>"
   ]
  },
  {
   "cell_type": "markdown",
   "metadata": {},
   "source": [
    "<div class=\"alert alert-block alert-info\">\n",
    "<b>Комментарий студента:</b> \n",
    "Здесь мне это показалось уместным, для меня удобно, чтобы не путаться при объединении таблиц.\n",
    "</div>"
   ]
  },
  {
   "cell_type": "code",
   "execution_count": 28,
   "metadata": {},
   "outputs": [
    {
     "data": {
      "text/html": [
       "<div>\n",
       "<style scoped>\n",
       "    .dataframe tbody tr th:only-of-type {\n",
       "        vertical-align: middle;\n",
       "    }\n",
       "\n",
       "    .dataframe tbody tr th {\n",
       "        vertical-align: top;\n",
       "    }\n",
       "\n",
       "    .dataframe thead th {\n",
       "        text-align: right;\n",
       "    }\n",
       "</style>\n",
       "<table border=\"1\" class=\"dataframe\">\n",
       "  <thead>\n",
       "    <tr style=\"text-align: right;\">\n",
       "      <th></th>\n",
       "      <th>message_id</th>\n",
       "      <th>message_date</th>\n",
       "      <th>user_id</th>\n",
       "    </tr>\n",
       "  </thead>\n",
       "  <tbody>\n",
       "    <tr>\n",
       "      <td>0</td>\n",
       "      <td>10000</td>\n",
       "      <td>2018-06-27</td>\n",
       "      <td>1000</td>\n",
       "    </tr>\n",
       "    <tr>\n",
       "      <td>1</td>\n",
       "      <td>10001</td>\n",
       "      <td>2018-10-08</td>\n",
       "      <td>1000</td>\n",
       "    </tr>\n",
       "    <tr>\n",
       "      <td>2</td>\n",
       "      <td>10002</td>\n",
       "      <td>2018-08-04</td>\n",
       "      <td>1000</td>\n",
       "    </tr>\n",
       "    <tr>\n",
       "      <td>3</td>\n",
       "      <td>10003</td>\n",
       "      <td>2018-06-16</td>\n",
       "      <td>1000</td>\n",
       "    </tr>\n",
       "    <tr>\n",
       "      <td>4</td>\n",
       "      <td>10004</td>\n",
       "      <td>2018-12-05</td>\n",
       "      <td>1000</td>\n",
       "    </tr>\n",
       "  </tbody>\n",
       "</table>\n",
       "</div>"
      ],
      "text/plain": [
       "   message_id message_date  user_id\n",
       "0       10000   2018-06-27     1000\n",
       "1       10001   2018-10-08     1000\n",
       "2       10002   2018-08-04     1000\n",
       "3       10003   2018-06-16     1000\n",
       "4       10004   2018-12-05     1000"
      ]
     },
     "execution_count": 28,
     "metadata": {},
     "output_type": "execute_result"
    }
   ],
   "source": [
    "#проверим изменения\n",
    "messages.head()\n",
    "#отлично, идём дальше"
   ]
  },
  {
   "cell_type": "markdown",
   "metadata": {},
   "source": [
    "Столбец с id сообщений переименовал, тип данных поменяли, колонку с датой привели в нормальный вид, теперь это тип данных datetime."
   ]
  },
  {
   "cell_type": "markdown",
   "metadata": {},
   "source": [
    "**Редактируем таблицу internet**"
   ]
  },
  {
   "cell_type": "code",
   "execution_count": 29,
   "metadata": {},
   "outputs": [
    {
     "data": {
      "text/plain": [
       "['Unnamed: 0', 'id', 'mb_used', 'session_date', 'user_id']"
      ]
     },
     "execution_count": 29,
     "metadata": {},
     "output_type": "execute_result"
    }
   ],
   "source": [
    "#удалим колонку unnamed\n",
    "internet.columns.tolist()"
   ]
  },
  {
   "cell_type": "code",
   "execution_count": 30,
   "metadata": {},
   "outputs": [],
   "source": [
    "del internet['Unnamed: 0']"
   ]
  },
  {
   "cell_type": "markdown",
   "metadata": {},
   "source": [
    "<div class=\"alert alert-block alert-success\">\n",
    "✔️  Unnamed: 0 возникает, когда данные сохраняют с указанием индекса pd.DataFrame().to_csv(..., index=column). Если при чтении указать этот столбец pd.read_csv(..., index_col=0) - данные сразу прочитаются корректно.\n",
    "</div>"
   ]
  },
  {
   "cell_type": "markdown",
   "metadata": {},
   "source": [
    "<div class=\"alert alert-block alert-info\">\n",
    "<b>Комментарий студента:</b> \n",
    "Спасибо, буду теперь иметь в виду)\n",
    "</div>"
   ]
  },
  {
   "cell_type": "code",
   "execution_count": 31,
   "metadata": {},
   "outputs": [],
   "source": [
    "#изменим тип данных для колонок id и session_date и округлим mb_used\n",
    "internet['id'] = internet['id'].astype('int')\n",
    "internet['session_date'] = pd.to_datetime(internet['session_date'], format=\"%Y-%m-%d\")\n",
    "internet['mb_used'] = internet['mb_used'].apply(np.ceil).astype('int')"
   ]
  },
  {
   "cell_type": "markdown",
   "metadata": {},
   "source": [
    "<div class=\"alert alert-block alert-success\">\n",
    "✔️ np.ceil не нуждается в apply, т.к. может работать сразу со всем столбцом\n",
    "</div>"
   ]
  },
  {
   "cell_type": "markdown",
   "metadata": {},
   "source": [
    "<div class=\"alert alert-block alert-info\">\n",
    "<b>Комментарий студента:</b> \n",
    "Тогда ругается Юпитер TypeError: 'Series' object is not callable\n",
    "</div>"
   ]
  },
  {
   "cell_type": "markdown",
   "metadata": {},
   "source": [
    "<div class=\"alert alert-block alert-success\">\n",
    "✔️ Ревью №2: Ниже привёл пример код\n",
    "</div>"
   ]
  },
  {
   "cell_type": "code",
   "execution_count": 32,
   "metadata": {},
   "outputs": [
    {
     "data": {
      "text/plain": [
       "0          113\n",
       "1         1053\n",
       "2         1198\n",
       "3          551\n",
       "4          303\n",
       "          ... \n",
       "149391     319\n",
       "149392     491\n",
       "149393       0\n",
       "149394    1247\n",
       "149395     545\n",
       "Name: mb_used, Length: 149396, dtype: int64"
      ]
     },
     "execution_count": 32,
     "metadata": {},
     "output_type": "execute_result"
    }
   ],
   "source": [
    "#код ревьюера\n",
    "np.ceil(internet['mb_used']).astype('int')"
   ]
  },
  {
   "cell_type": "code",
   "execution_count": 33,
   "metadata": {},
   "outputs": [],
   "source": [
    "#поменяем название колонки id\n",
    "internet = internet.rename(columns={'id': 'internet_id'})"
   ]
  },
  {
   "cell_type": "code",
   "execution_count": 34,
   "metadata": {},
   "outputs": [
    {
     "name": "stdout",
     "output_type": "stream",
     "text": [
      "<class 'pandas.core.frame.DataFrame'>\n",
      "RangeIndex: 149396 entries, 0 to 149395\n",
      "Data columns (total 4 columns):\n",
      "internet_id     149396 non-null int64\n",
      "mb_used         149396 non-null int64\n",
      "session_date    149396 non-null datetime64[ns]\n",
      "user_id         149396 non-null int64\n",
      "dtypes: datetime64[ns](1), int64(3)\n",
      "memory usage: 4.6 MB\n"
     ]
    }
   ],
   "source": [
    "#проверим тип данных\n",
    "internet.info()"
   ]
  },
  {
   "cell_type": "code",
   "execution_count": 35,
   "metadata": {},
   "outputs": [
    {
     "data": {
      "text/html": [
       "<div>\n",
       "<style scoped>\n",
       "    .dataframe tbody tr th:only-of-type {\n",
       "        vertical-align: middle;\n",
       "    }\n",
       "\n",
       "    .dataframe tbody tr th {\n",
       "        vertical-align: top;\n",
       "    }\n",
       "\n",
       "    .dataframe thead th {\n",
       "        text-align: right;\n",
       "    }\n",
       "</style>\n",
       "<table border=\"1\" class=\"dataframe\">\n",
       "  <thead>\n",
       "    <tr style=\"text-align: right;\">\n",
       "      <th></th>\n",
       "      <th>internet_id</th>\n",
       "      <th>mb_used</th>\n",
       "      <th>session_date</th>\n",
       "      <th>user_id</th>\n",
       "    </tr>\n",
       "  </thead>\n",
       "  <tbody>\n",
       "    <tr>\n",
       "      <td>0</td>\n",
       "      <td>10000</td>\n",
       "      <td>113</td>\n",
       "      <td>2018-11-25</td>\n",
       "      <td>1000</td>\n",
       "    </tr>\n",
       "    <tr>\n",
       "      <td>1</td>\n",
       "      <td>10001</td>\n",
       "      <td>1053</td>\n",
       "      <td>2018-09-07</td>\n",
       "      <td>1000</td>\n",
       "    </tr>\n",
       "    <tr>\n",
       "      <td>2</td>\n",
       "      <td>10002</td>\n",
       "      <td>1198</td>\n",
       "      <td>2018-06-25</td>\n",
       "      <td>1000</td>\n",
       "    </tr>\n",
       "    <tr>\n",
       "      <td>3</td>\n",
       "      <td>10003</td>\n",
       "      <td>551</td>\n",
       "      <td>2018-08-22</td>\n",
       "      <td>1000</td>\n",
       "    </tr>\n",
       "    <tr>\n",
       "      <td>4</td>\n",
       "      <td>10004</td>\n",
       "      <td>303</td>\n",
       "      <td>2018-09-24</td>\n",
       "      <td>1000</td>\n",
       "    </tr>\n",
       "  </tbody>\n",
       "</table>\n",
       "</div>"
      ],
      "text/plain": [
       "   internet_id  mb_used session_date  user_id\n",
       "0        10000      113   2018-11-25     1000\n",
       "1        10001     1053   2018-09-07     1000\n",
       "2        10002     1198   2018-06-25     1000\n",
       "3        10003      551   2018-08-22     1000\n",
       "4        10004      303   2018-09-24     1000"
      ]
     },
     "execution_count": 35,
     "metadata": {},
     "output_type": "execute_result"
    }
   ],
   "source": [
    "#взглянем на таблицу\n",
    "internet.head()\n",
    "#отлично"
   ]
  },
  {
   "cell_type": "markdown",
   "metadata": {},
   "source": [
    "**Вывод: Предобработка данных завершена, мы поменяли тип данных на необходимый для продолжения корректной работы над всеми таблицами, переименовали нужные колонки в соответствии с правилами хорошего кода, проверили результат выполнения всех наших операций, убедились что всё сделано правильно, поэтому можем переходить к следующему этапу.**"
   ]
  },
  {
   "cell_type": "markdown",
   "metadata": {},
   "source": [
    "# 3 Этап. Подготовка данных."
   ]
  },
  {
   "cell_type": "markdown",
   "metadata": {},
   "source": [
    "**Посчитайте для каждого пользователя::**\n",
    "- количество сделанных звонков и израсходованных минут разговора по месяцам;\n",
    "- количество отправленных сообщений по месяцам;\n",
    "- объем израсходованного интернет-трафика по месяцам;\n",
    "- помесячную выручку с каждого пользователя (вычтите бесплатный лимит из суммарного количества звонков, сообщений и интернет-трафика; остаток умножьте на значение из тарифного плана; прибавьте абонентскую плату, соответствующую тарифному плану)"
   ]
  },
  {
   "cell_type": "code",
   "execution_count": 36,
   "metadata": {},
   "outputs": [],
   "source": [
    "#количество сделанных звонков и израсходованных минут разговора по месяцам\n",
    "calls['month'] = calls['call_date'].dt.month_name()"
   ]
  },
  {
   "cell_type": "code",
   "execution_count": 37,
   "metadata": {},
   "outputs": [
    {
     "data": {
      "text/html": [
       "<div>\n",
       "<style scoped>\n",
       "    .dataframe tbody tr th:only-of-type {\n",
       "        vertical-align: middle;\n",
       "    }\n",
       "\n",
       "    .dataframe tbody tr th {\n",
       "        vertical-align: top;\n",
       "    }\n",
       "\n",
       "    .dataframe thead th {\n",
       "        text-align: right;\n",
       "    }\n",
       "</style>\n",
       "<table border=\"1\" class=\"dataframe\">\n",
       "  <thead>\n",
       "    <tr style=\"text-align: right;\">\n",
       "      <th></th>\n",
       "      <th>id_call</th>\n",
       "      <th>call_date</th>\n",
       "      <th>duration_call</th>\n",
       "      <th>user_id</th>\n",
       "      <th>month</th>\n",
       "    </tr>\n",
       "  </thead>\n",
       "  <tbody>\n",
       "    <tr>\n",
       "      <td>0</td>\n",
       "      <td>10000</td>\n",
       "      <td>2018-07-25</td>\n",
       "      <td>0</td>\n",
       "      <td>1000</td>\n",
       "      <td>July</td>\n",
       "    </tr>\n",
       "    <tr>\n",
       "      <td>1</td>\n",
       "      <td>10001</td>\n",
       "      <td>2018-08-17</td>\n",
       "      <td>0</td>\n",
       "      <td>1000</td>\n",
       "      <td>August</td>\n",
       "    </tr>\n",
       "    <tr>\n",
       "      <td>2</td>\n",
       "      <td>10002</td>\n",
       "      <td>2018-06-11</td>\n",
       "      <td>3</td>\n",
       "      <td>1000</td>\n",
       "      <td>June</td>\n",
       "    </tr>\n",
       "    <tr>\n",
       "      <td>3</td>\n",
       "      <td>10003</td>\n",
       "      <td>2018-09-21</td>\n",
       "      <td>14</td>\n",
       "      <td>1000</td>\n",
       "      <td>September</td>\n",
       "    </tr>\n",
       "    <tr>\n",
       "      <td>4</td>\n",
       "      <td>10004</td>\n",
       "      <td>2018-12-15</td>\n",
       "      <td>6</td>\n",
       "      <td>1000</td>\n",
       "      <td>December</td>\n",
       "    </tr>\n",
       "  </tbody>\n",
       "</table>\n",
       "</div>"
      ],
      "text/plain": [
       "   id_call  call_date  duration_call  user_id      month\n",
       "0    10000 2018-07-25              0     1000       July\n",
       "1    10001 2018-08-17              0     1000     August\n",
       "2    10002 2018-06-11              3     1000       June\n",
       "3    10003 2018-09-21             14     1000  September\n",
       "4    10004 2018-12-15              6     1000   December"
      ]
     },
     "execution_count": 37,
     "metadata": {},
     "output_type": "execute_result"
    }
   ],
   "source": [
    "calls.head()"
   ]
  },
  {
   "cell_type": "code",
   "execution_count": 38,
   "metadata": {},
   "outputs": [],
   "source": [
    "#аггрегируем все необходимые данные \n",
    "user_calls = calls.groupby(['user_id', 'month'])\\\n",
    "                  .agg({'duration_call':'sum', 'id_call':'count'})\\\n",
    "                  .reset_index()\\\n",
    "                  .rename(columns={'duration_call':'month_calls_duration','id_call':'calls_total_in_month'})\\"
   ]
  },
  {
   "cell_type": "markdown",
   "metadata": {},
   "source": [
    "Методом groupby сгруппировали данные, чтобы получить таблицу, согласно нашему заданию, где будут отражены id абонента, месяц, продолжительность звонков и их кол-во за месяц."
   ]
  },
  {
   "cell_type": "code",
   "execution_count": 39,
   "metadata": {},
   "outputs": [
    {
     "data": {
      "text/html": [
       "<div>\n",
       "<style scoped>\n",
       "    .dataframe tbody tr th:only-of-type {\n",
       "        vertical-align: middle;\n",
       "    }\n",
       "\n",
       "    .dataframe tbody tr th {\n",
       "        vertical-align: top;\n",
       "    }\n",
       "\n",
       "    .dataframe thead th {\n",
       "        text-align: right;\n",
       "    }\n",
       "</style>\n",
       "<table border=\"1\" class=\"dataframe\">\n",
       "  <thead>\n",
       "    <tr style=\"text-align: right;\">\n",
       "      <th></th>\n",
       "      <th>user_id</th>\n",
       "      <th>month</th>\n",
       "      <th>month_calls_duration</th>\n",
       "      <th>calls_total_in_month</th>\n",
       "    </tr>\n",
       "  </thead>\n",
       "  <tbody>\n",
       "    <tr>\n",
       "      <td>0</td>\n",
       "      <td>1000</td>\n",
       "      <td>August</td>\n",
       "      <td>408</td>\n",
       "      <td>52</td>\n",
       "    </tr>\n",
       "    <tr>\n",
       "      <td>1</td>\n",
       "      <td>1000</td>\n",
       "      <td>December</td>\n",
       "      <td>333</td>\n",
       "      <td>46</td>\n",
       "    </tr>\n",
       "    <tr>\n",
       "      <td>2</td>\n",
       "      <td>1000</td>\n",
       "      <td>July</td>\n",
       "      <td>340</td>\n",
       "      <td>47</td>\n",
       "    </tr>\n",
       "    <tr>\n",
       "      <td>3</td>\n",
       "      <td>1000</td>\n",
       "      <td>June</td>\n",
       "      <td>172</td>\n",
       "      <td>43</td>\n",
       "    </tr>\n",
       "    <tr>\n",
       "      <td>4</td>\n",
       "      <td>1000</td>\n",
       "      <td>May</td>\n",
       "      <td>159</td>\n",
       "      <td>22</td>\n",
       "    </tr>\n",
       "  </tbody>\n",
       "</table>\n",
       "</div>"
      ],
      "text/plain": [
       "   user_id     month  month_calls_duration  calls_total_in_month\n",
       "0     1000    August                   408                    52\n",
       "1     1000  December                   333                    46\n",
       "2     1000      July                   340                    47\n",
       "3     1000      June                   172                    43\n",
       "4     1000       May                   159                    22"
      ]
     },
     "execution_count": 39,
     "metadata": {},
     "output_type": "execute_result"
    }
   ],
   "source": [
    "#проверим что получилось\n",
    "user_calls.head()"
   ]
  },
  {
   "cell_type": "code",
   "execution_count": 40,
   "metadata": {},
   "outputs": [],
   "source": [
    "#количество отправленных сообщений по месяцам\n",
    "messages['month'] = messages['message_date'].dt.month_name()"
   ]
  },
  {
   "cell_type": "code",
   "execution_count": 41,
   "metadata": {},
   "outputs": [
    {
     "data": {
      "text/html": [
       "<div>\n",
       "<style scoped>\n",
       "    .dataframe tbody tr th:only-of-type {\n",
       "        vertical-align: middle;\n",
       "    }\n",
       "\n",
       "    .dataframe tbody tr th {\n",
       "        vertical-align: top;\n",
       "    }\n",
       "\n",
       "    .dataframe thead th {\n",
       "        text-align: right;\n",
       "    }\n",
       "</style>\n",
       "<table border=\"1\" class=\"dataframe\">\n",
       "  <thead>\n",
       "    <tr style=\"text-align: right;\">\n",
       "      <th></th>\n",
       "      <th>message_id</th>\n",
       "      <th>message_date</th>\n",
       "      <th>user_id</th>\n",
       "      <th>month</th>\n",
       "    </tr>\n",
       "  </thead>\n",
       "  <tbody>\n",
       "    <tr>\n",
       "      <td>0</td>\n",
       "      <td>10000</td>\n",
       "      <td>2018-06-27</td>\n",
       "      <td>1000</td>\n",
       "      <td>June</td>\n",
       "    </tr>\n",
       "    <tr>\n",
       "      <td>1</td>\n",
       "      <td>10001</td>\n",
       "      <td>2018-10-08</td>\n",
       "      <td>1000</td>\n",
       "      <td>October</td>\n",
       "    </tr>\n",
       "    <tr>\n",
       "      <td>2</td>\n",
       "      <td>10002</td>\n",
       "      <td>2018-08-04</td>\n",
       "      <td>1000</td>\n",
       "      <td>August</td>\n",
       "    </tr>\n",
       "    <tr>\n",
       "      <td>3</td>\n",
       "      <td>10003</td>\n",
       "      <td>2018-06-16</td>\n",
       "      <td>1000</td>\n",
       "      <td>June</td>\n",
       "    </tr>\n",
       "    <tr>\n",
       "      <td>4</td>\n",
       "      <td>10004</td>\n",
       "      <td>2018-12-05</td>\n",
       "      <td>1000</td>\n",
       "      <td>December</td>\n",
       "    </tr>\n",
       "  </tbody>\n",
       "</table>\n",
       "</div>"
      ],
      "text/plain": [
       "   message_id message_date  user_id     month\n",
       "0       10000   2018-06-27     1000      June\n",
       "1       10001   2018-10-08     1000   October\n",
       "2       10002   2018-08-04     1000    August\n",
       "3       10003   2018-06-16     1000      June\n",
       "4       10004   2018-12-05     1000  December"
      ]
     },
     "execution_count": 41,
     "metadata": {},
     "output_type": "execute_result"
    }
   ],
   "source": [
    "messages.head()"
   ]
  },
  {
   "cell_type": "code",
   "execution_count": 42,
   "metadata": {},
   "outputs": [],
   "source": [
    "#аггрегируем данные \n",
    "user_messages = messages.groupby(['user_id', 'month'])\\\n",
    "                        .agg({'message_id':'count'})\\\n",
    "                        .reset_index()\\\n",
    "                        .rename(columns={'message_id':'sms_total_in_month'})"
   ]
  },
  {
   "cell_type": "markdown",
   "metadata": {},
   "source": [
    "Здесь мы получили таблицу с кол-вом сообщений по месяцам, чтобы понимать как часто абоненты используют sms."
   ]
  },
  {
   "cell_type": "code",
   "execution_count": 43,
   "metadata": {},
   "outputs": [
    {
     "data": {
      "text/html": [
       "<div>\n",
       "<style scoped>\n",
       "    .dataframe tbody tr th:only-of-type {\n",
       "        vertical-align: middle;\n",
       "    }\n",
       "\n",
       "    .dataframe tbody tr th {\n",
       "        vertical-align: top;\n",
       "    }\n",
       "\n",
       "    .dataframe thead th {\n",
       "        text-align: right;\n",
       "    }\n",
       "</style>\n",
       "<table border=\"1\" class=\"dataframe\">\n",
       "  <thead>\n",
       "    <tr style=\"text-align: right;\">\n",
       "      <th></th>\n",
       "      <th>user_id</th>\n",
       "      <th>month</th>\n",
       "      <th>sms_total_in_month</th>\n",
       "    </tr>\n",
       "  </thead>\n",
       "  <tbody>\n",
       "    <tr>\n",
       "      <td>0</td>\n",
       "      <td>1000</td>\n",
       "      <td>August</td>\n",
       "      <td>81</td>\n",
       "    </tr>\n",
       "    <tr>\n",
       "      <td>1</td>\n",
       "      <td>1000</td>\n",
       "      <td>December</td>\n",
       "      <td>70</td>\n",
       "    </tr>\n",
       "    <tr>\n",
       "      <td>2</td>\n",
       "      <td>1000</td>\n",
       "      <td>July</td>\n",
       "      <td>75</td>\n",
       "    </tr>\n",
       "    <tr>\n",
       "      <td>3</td>\n",
       "      <td>1000</td>\n",
       "      <td>June</td>\n",
       "      <td>60</td>\n",
       "    </tr>\n",
       "    <tr>\n",
       "      <td>4</td>\n",
       "      <td>1000</td>\n",
       "      <td>May</td>\n",
       "      <td>22</td>\n",
       "    </tr>\n",
       "  </tbody>\n",
       "</table>\n",
       "</div>"
      ],
      "text/plain": [
       "   user_id     month  sms_total_in_month\n",
       "0     1000    August                  81\n",
       "1     1000  December                  70\n",
       "2     1000      July                  75\n",
       "3     1000      June                  60\n",
       "4     1000       May                  22"
      ]
     },
     "execution_count": 43,
     "metadata": {},
     "output_type": "execute_result"
    }
   ],
   "source": [
    "#посмотрим на результат\n",
    "user_messages.head()"
   ]
  },
  {
   "cell_type": "code",
   "execution_count": 44,
   "metadata": {},
   "outputs": [],
   "source": [
    "#объем израсходованного интернет-трафика по месяцам\n",
    "internet['month'] = internet['session_date'].dt.month_name()"
   ]
  },
  {
   "cell_type": "code",
   "execution_count": 45,
   "metadata": {},
   "outputs": [
    {
     "data": {
      "text/html": [
       "<div>\n",
       "<style scoped>\n",
       "    .dataframe tbody tr th:only-of-type {\n",
       "        vertical-align: middle;\n",
       "    }\n",
       "\n",
       "    .dataframe tbody tr th {\n",
       "        vertical-align: top;\n",
       "    }\n",
       "\n",
       "    .dataframe thead th {\n",
       "        text-align: right;\n",
       "    }\n",
       "</style>\n",
       "<table border=\"1\" class=\"dataframe\">\n",
       "  <thead>\n",
       "    <tr style=\"text-align: right;\">\n",
       "      <th></th>\n",
       "      <th>internet_id</th>\n",
       "      <th>mb_used</th>\n",
       "      <th>session_date</th>\n",
       "      <th>user_id</th>\n",
       "      <th>month</th>\n",
       "    </tr>\n",
       "  </thead>\n",
       "  <tbody>\n",
       "    <tr>\n",
       "      <td>0</td>\n",
       "      <td>10000</td>\n",
       "      <td>113</td>\n",
       "      <td>2018-11-25</td>\n",
       "      <td>1000</td>\n",
       "      <td>November</td>\n",
       "    </tr>\n",
       "    <tr>\n",
       "      <td>1</td>\n",
       "      <td>10001</td>\n",
       "      <td>1053</td>\n",
       "      <td>2018-09-07</td>\n",
       "      <td>1000</td>\n",
       "      <td>September</td>\n",
       "    </tr>\n",
       "    <tr>\n",
       "      <td>2</td>\n",
       "      <td>10002</td>\n",
       "      <td>1198</td>\n",
       "      <td>2018-06-25</td>\n",
       "      <td>1000</td>\n",
       "      <td>June</td>\n",
       "    </tr>\n",
       "    <tr>\n",
       "      <td>3</td>\n",
       "      <td>10003</td>\n",
       "      <td>551</td>\n",
       "      <td>2018-08-22</td>\n",
       "      <td>1000</td>\n",
       "      <td>August</td>\n",
       "    </tr>\n",
       "    <tr>\n",
       "      <td>4</td>\n",
       "      <td>10004</td>\n",
       "      <td>303</td>\n",
       "      <td>2018-09-24</td>\n",
       "      <td>1000</td>\n",
       "      <td>September</td>\n",
       "    </tr>\n",
       "  </tbody>\n",
       "</table>\n",
       "</div>"
      ],
      "text/plain": [
       "   internet_id  mb_used session_date  user_id      month\n",
       "0        10000      113   2018-11-25     1000   November\n",
       "1        10001     1053   2018-09-07     1000  September\n",
       "2        10002     1198   2018-06-25     1000       June\n",
       "3        10003      551   2018-08-22     1000     August\n",
       "4        10004      303   2018-09-24     1000  September"
      ]
     },
     "execution_count": 45,
     "metadata": {},
     "output_type": "execute_result"
    }
   ],
   "source": [
    "#проверяем\n",
    "internet.head()"
   ]
  },
  {
   "cell_type": "code",
   "execution_count": 46,
   "metadata": {},
   "outputs": [],
   "source": [
    "#аггрегируем данные \n",
    "user_internet = internet.groupby(['user_id', 'month'])\\\n",
    "                        .agg({'mb_used':'sum'})\\\n",
    "                        .reset_index()\\\n",
    "                        .rename(columns={'mb_used':'mb_total_in_month'})"
   ]
  },
  {
   "cell_type": "markdown",
   "metadata": {},
   "source": [
    "Сгруппировали данные, получили таблицу,в которой мы имеем статистику по использованию мобильного интернерт траффика абонентов с разбивкой по месяцам."
   ]
  },
  {
   "cell_type": "code",
   "execution_count": 47,
   "metadata": {},
   "outputs": [
    {
     "data": {
      "text/html": [
       "<div>\n",
       "<style scoped>\n",
       "    .dataframe tbody tr th:only-of-type {\n",
       "        vertical-align: middle;\n",
       "    }\n",
       "\n",
       "    .dataframe tbody tr th {\n",
       "        vertical-align: top;\n",
       "    }\n",
       "\n",
       "    .dataframe thead th {\n",
       "        text-align: right;\n",
       "    }\n",
       "</style>\n",
       "<table border=\"1\" class=\"dataframe\">\n",
       "  <thead>\n",
       "    <tr style=\"text-align: right;\">\n",
       "      <th></th>\n",
       "      <th>user_id</th>\n",
       "      <th>month</th>\n",
       "      <th>mb_total_in_month</th>\n",
       "    </tr>\n",
       "  </thead>\n",
       "  <tbody>\n",
       "    <tr>\n",
       "      <td>0</td>\n",
       "      <td>1000</td>\n",
       "      <td>August</td>\n",
       "      <td>14070</td>\n",
       "    </tr>\n",
       "    <tr>\n",
       "      <td>1</td>\n",
       "      <td>1000</td>\n",
       "      <td>December</td>\n",
       "      <td>9827</td>\n",
       "    </tr>\n",
       "    <tr>\n",
       "      <td>2</td>\n",
       "      <td>1000</td>\n",
       "      <td>July</td>\n",
       "      <td>14016</td>\n",
       "    </tr>\n",
       "    <tr>\n",
       "      <td>3</td>\n",
       "      <td>1000</td>\n",
       "      <td>June</td>\n",
       "      <td>23257</td>\n",
       "    </tr>\n",
       "    <tr>\n",
       "      <td>4</td>\n",
       "      <td>1000</td>\n",
       "      <td>May</td>\n",
       "      <td>2256</td>\n",
       "    </tr>\n",
       "  </tbody>\n",
       "</table>\n",
       "</div>"
      ],
      "text/plain": [
       "   user_id     month  mb_total_in_month\n",
       "0     1000    August              14070\n",
       "1     1000  December               9827\n",
       "2     1000      July              14016\n",
       "3     1000      June              23257\n",
       "4     1000       May               2256"
      ]
     },
     "execution_count": 47,
     "metadata": {},
     "output_type": "execute_result"
    }
   ],
   "source": [
    "#посмотрим на результат\n",
    "user_internet.head()"
   ]
  },
  {
   "cell_type": "code",
   "execution_count": 48,
   "metadata": {},
   "outputs": [],
   "source": [
    "#сгрупируем нужные нам данные по месяцам:\n",
    "data_pivot_calls = calls.pivot_table(index=['user_id', 'month'], values='duration_call', aggfunc=['sum', 'count'])\n",
    "data_pivot_messages = messages.pivot_table(index=['user_id', 'month'], values='message_id', aggfunc=['count'])\n",
    "data_pivot_internet = internet.pivot_table(index=['user_id', 'month'], values='mb_used', aggfunc=['sum'])\n",
    "data_pivot_calls.columns = ['calls_sum', 'calls_count']\n",
    "data_pivot_messages.columns = ['messages_count']\n",
    "data_pivot_internet.columns = ['mb_sum']\n"
   ]
  },
  {
   "cell_type": "code",
   "execution_count": 49,
   "metadata": {},
   "outputs": [],
   "source": [
    "users_month_pivot = data_pivot_internet.join([data_pivot_messages, data_pivot_calls])"
   ]
  },
  {
   "cell_type": "code",
   "execution_count": 50,
   "metadata": {},
   "outputs": [],
   "source": [
    "#пропуски в звонках и смс заменим на 0, так как люди ими просто не пользовались\n",
    "users_month_pivot['id'] = users_month_pivot.index.get_level_values('user_id')\n",
    "users_month_pivot['month'] = users_month_pivot.index.get_level_values('month')\n",
    "users_month_pivot = users_month_pivot.reset_index(drop = True)\n",
    "users_month_pivot = users_month_pivot.fillna(0)\n"
   ]
  },
  {
   "cell_type": "code",
   "execution_count": 51,
   "metadata": {},
   "outputs": [],
   "source": [
    "users.set_axis(['id', \n",
    "                'age', \n",
    "                'churn_date', \n",
    "                'city', \n",
    "                'first_name', \n",
    "                'last_name', \n",
    "                'reg_date', \n",
    "                'tariff_name'], \n",
    "               axis = 'columns', \n",
    "               inplace = True)"
   ]
  },
  {
   "cell_type": "code",
   "execution_count": 52,
   "metadata": {},
   "outputs": [],
   "source": [
    "users_month_pivot = users_month_pivot.merge(users, on='id', how ='outer')\n",
    "users_month_pivot = users_month_pivot.merge(tariffs, on='tariff_name', how='outer')"
   ]
  },
  {
   "cell_type": "markdown",
   "metadata": {},
   "source": [
    "<div class=\"alert alert-block alert-danger\">\n",
    "❌ Ты проводишь объединение данных о звонках, СМС и интернете с параметром how='inner' (он стоит по умолчанию в merge, в join по умолчанию how='left'). Это приводит к потере количества уникальных пользователей. Используй how='outer' при объединении звонков, смс и интернета, чтобы избежать этой ошибки \n",
    "</div>"
   ]
  },
  {
   "cell_type": "markdown",
   "metadata": {},
   "source": [
    "<div class=\"alert alert-block alert-info\">\n",
    "<b>Комментарий студента:</b> \n",
    "Исправил, спасибо за обратную связь, после прочтения теории ещё раз понял что таким образом я могу терять данные, которые в небольшой выборке могут оказаться критичными.\n",
    "</div>"
   ]
  },
  {
   "cell_type": "markdown",
   "metadata": {},
   "source": [
    "<div class=\"alert alert-block alert-success\">\n",
    "✔️ Ревью №2: Супер!\n",
    "</div>"
   ]
  },
  {
   "cell_type": "markdown",
   "metadata": {},
   "source": [
    "<div class=\"alert alert-block alert-success\">\n",
    "✔️ Полезно проверять результат сравнивая информацию из исходного набора данных и полученного. Например: проверить, что суммарное количество минут разговоров в <code>users_month_pivot</code> совпадает с этим значением в <code>calls</code>. Вариантов проверки множество, не пренебрегай этим:)\n",
    "</div>"
   ]
  },
  {
   "cell_type": "code",
   "execution_count": 53,
   "metadata": {},
   "outputs": [
    {
     "data": {
      "text/html": [
       "<div>\n",
       "<style scoped>\n",
       "    .dataframe tbody tr th:only-of-type {\n",
       "        vertical-align: middle;\n",
       "    }\n",
       "\n",
       "    .dataframe tbody tr th {\n",
       "        vertical-align: top;\n",
       "    }\n",
       "\n",
       "    .dataframe thead th {\n",
       "        text-align: right;\n",
       "    }\n",
       "</style>\n",
       "<table border=\"1\" class=\"dataframe\">\n",
       "  <thead>\n",
       "    <tr style=\"text-align: right;\">\n",
       "      <th></th>\n",
       "      <th>messages_included</th>\n",
       "      <th>mb_per_month_included</th>\n",
       "      <th>minutes_included</th>\n",
       "      <th>rub_monthly_fee</th>\n",
       "      <th>rub_per_gb</th>\n",
       "      <th>rub_per_message</th>\n",
       "      <th>rub_per_minute</th>\n",
       "      <th>tariff_name</th>\n",
       "    </tr>\n",
       "  </thead>\n",
       "  <tbody>\n",
       "    <tr>\n",
       "      <td>0</td>\n",
       "      <td>50</td>\n",
       "      <td>15360</td>\n",
       "      <td>500</td>\n",
       "      <td>550</td>\n",
       "      <td>200</td>\n",
       "      <td>3</td>\n",
       "      <td>3</td>\n",
       "      <td>smart</td>\n",
       "    </tr>\n",
       "    <tr>\n",
       "      <td>1</td>\n",
       "      <td>1000</td>\n",
       "      <td>30720</td>\n",
       "      <td>3000</td>\n",
       "      <td>1950</td>\n",
       "      <td>150</td>\n",
       "      <td>1</td>\n",
       "      <td>1</td>\n",
       "      <td>ultra</td>\n",
       "    </tr>\n",
       "  </tbody>\n",
       "</table>\n",
       "</div>"
      ],
      "text/plain": [
       "   messages_included  mb_per_month_included  minutes_included  \\\n",
       "0                 50                  15360               500   \n",
       "1               1000                  30720              3000   \n",
       "\n",
       "   rub_monthly_fee  rub_per_gb  rub_per_message  rub_per_minute tariff_name  \n",
       "0              550         200                3               3       smart  \n",
       "1             1950         150                1               1       ultra  "
      ]
     },
     "execution_count": 53,
     "metadata": {},
     "output_type": "execute_result"
    }
   ],
   "source": [
    "tariffs"
   ]
  },
  {
   "cell_type": "code",
   "execution_count": 54,
   "metadata": {},
   "outputs": [],
   "source": [
    "#добавим столбец, где укажем сколько платил пользователь\n",
    "def payed(data):\n",
    "    minuts_over = 0\n",
    "    gb_over = 0\n",
    "    message_over = 0\n",
    "    \n",
    "    tar_min = data['minutes_included']\n",
    "    if data['calls_sum'] > tar_min:\n",
    "        minuts_over = math.ceil(data['calls_sum'] - tar_min)\n",
    "    \n",
    "    tar_mess = data['messages_included']\n",
    "    if data['messages_count'] > tar_mess:\n",
    "        message_over = math.ceil(data['messages_count'] - tar_mess)\n",
    "        \n",
    "    tar_mb = data['mb_per_month_included']\n",
    "    if data['mb_sum'] > tar_mb:\n",
    "        gb_over = math.ceil((data['mb_sum'] - tar_mb) / 1024)\n",
    "        \n",
    "    summa = (data['rub_monthly_fee'] + \n",
    "             minuts_over * data['rub_per_minute'] + \n",
    "             message_over * data['rub_per_message'] + \n",
    "             gb_over * data['rub_per_gb'])\n",
    "    \n",
    "    return summa"
   ]
  },
  {
   "cell_type": "markdown",
   "metadata": {},
   "source": [
    "<div class=\"alert alert-block alert-success\">\n",
    "✔️ Все импорты стоит выносить в одну ячейку в начале проекта\n",
    "</div>"
   ]
  },
  {
   "cell_type": "markdown",
   "metadata": {},
   "source": [
    "<div class=\"alert alert-block alert-info\">\n",
    "<b>Комментарий студента:</b> \n",
    "Окей, переделал\n",
    "</div>"
   ]
  },
  {
   "cell_type": "code",
   "execution_count": 55,
   "metadata": {},
   "outputs": [],
   "source": [
    "users_month_pivot['payed'] = users_month_pivot.apply(payed, axis=1)"
   ]
  },
  {
   "cell_type": "code",
   "execution_count": 56,
   "metadata": {},
   "outputs": [],
   "source": [
    "#разобьем нашу таблицу по тарифам\n",
    "users_month_pivot_ultra = users_month_pivot.query('tariff_name == \"ultra\"')\n",
    "users_month_pivot_smart = users_month_pivot.query('tariff_name == \"smart\"')\n"
   ]
  },
  {
   "cell_type": "markdown",
   "metadata": {},
   "source": [
    "Тепреь у каждого тарифа есть своя таблица с актуальным набором данных."
   ]
  },
  {
   "cell_type": "code",
   "execution_count": 57,
   "metadata": {},
   "outputs": [
    {
     "data": {
      "text/plain": [
       "6770"
      ]
     },
     "execution_count": 57,
     "metadata": {},
     "output_type": "execute_result"
    },
    {
     "data": {
      "image/png": "[encoded data removed]",
      "text/plain": [
       "<Figure size 432x288 with 1 Axes>"
      ]
     },
     "metadata": {
      "needs_background": "light"
     },
     "output_type": "display_data"
    }
   ],
   "source": [
    "#посмотрим как люди пользуются тарифом smart\n",
    "users_month_pivot_smart['payed'].hist(bins=100, range=(500, 4000))\n",
    "users_month_pivot_smart['payed'].max()\n",
    "##максимальная сумма 3985"
   ]
  },
  {
   "cell_type": "markdown",
   "metadata": {},
   "source": [
    "Здесь мы видим что большая часть людей использует тариф в рамках предоставленных условий, выбросами являются случаи где абоненты переплачивают, причём значительные суммы, я могу предположить что это связано с роумингом, либо с подгрузкой push уведомлений, либо не отключенной функции автообновления приложений из Google Store/ Apple Store."
   ]
  },
  {
   "cell_type": "code",
   "execution_count": 58,
   "metadata": {},
   "outputs": [
    {
     "data": {
      "text/plain": [
       "4800"
      ]
     },
     "execution_count": 58,
     "metadata": {},
     "output_type": "execute_result"
    },
    {
     "data": {
      "image/png": "[encoded data removed]",
      "text/plain": [
       "<Figure size 432x288 with 1 Axes>"
      ]
     },
     "metadata": {
      "needs_background": "light"
     },
     "output_type": "display_data"
    }
   ],
   "source": [
    "#посмотрим как люди пользуются тарифом ultra\n",
    "users_month_pivot_ultra['payed'].hist(bins=100, range=(1950, 4000))\n",
    "users_month_pivot_ultra['payed'].max()\n",
    "#максимальная сумма 4800"
   ]
  },
  {
   "cell_type": "markdown",
   "metadata": {},
   "source": [
    "Большая часть Абонентов тарифа \"Ультра\" не выходят за рамки тарифа, выбросами является откровенная переплата, тут как и с предыдущей таблицой можно предположить что проблема связана с роумингом, но так же есть вероятность что пользователи могут переплачивать за интернет, из-за частого использования стриминговых сервисов, типа YouTube, несмотря на то, что в пакет входит больше траффика (в 2 раза), качество видео может быстро нивелировать это. "
   ]
  },
  {
   "cell_type": "markdown",
   "metadata": {},
   "source": [
    "**Вывод: на данном этапе решили поставленные задачи, нашли с помощью гистограмм аномальные значения и выбросы, собрали и аггрегировалы необходимые данные в один датасет.**"
   ]
  },
  {
   "cell_type": "markdown",
   "metadata": {},
   "source": [
    "<div class=\"alert alert-block alert-success\">\n",
    "✔️ Не увидел твоих комментариев про выбросы. Можешь, пожалуйста, подробнее?\n",
    "</div>"
   ]
  },
  {
   "cell_type": "markdown",
   "metadata": {},
   "source": [
    "<div class=\"alert alert-block alert-info\">\n",
    "<b>Комментарий студента:</b> \n",
    "Дал комментарии, исходя из своего пользовательского опыта.\n",
    "</div>"
   ]
  },
  {
   "cell_type": "markdown",
   "metadata": {},
   "source": [
    "<div class=\"alert alert-block alert-success\">\n",
    "✔️ Ревью №2: Отлично\n",
    "</div>"
   ]
  },
  {
   "cell_type": "markdown",
   "metadata": {},
   "source": [
    "# 4 Этап. Проанализируйте данные."
   ]
  },
  {
   "cell_type": "markdown",
   "metadata": {},
   "source": [
    "- Опишите поведение клиентов оператора, исходя из выборки.\n",
    "- Сколько минут разговора, сколько сообщений и какой объём интернет-трафика требуется пользователям каждого тарифа в месяц? \n",
    "\n",
    "- Посчитайте среднее количество, дисперсию и стандартное отклонение. \n",
    "- Постройте гистограммы. \n",
    "- Опишите распределения."
   ]
  },
  {
   "cell_type": "markdown",
   "metadata": {},
   "source": [
    "**Проанализируем клиентов тарифа смарт**"
   ]
  },
  {
   "cell_type": "code",
   "execution_count": 59,
   "metadata": {},
   "outputs": [
    {
     "data": {
      "text/plain": [
       "Text(0.5, 1.0, 'Гистограмма по использованию интернет траффика')"
      ]
     },
     "execution_count": 59,
     "metadata": {},
     "output_type": "execute_result"
    },
    {
     "data": {
      "image/png": "[encoded data removed]",
      "text/plain": [
       "<Figure size 432x288 with 1 Axes>"
      ]
     },
     "metadata": {
      "needs_background": "light"
     },
     "output_type": "display_data"
    }
   ],
   "source": [
    "#построим гистограмму по использованию интернет траффика\n",
    "users_month_pivot_smart['mb_sum'].hist(bins=100)\n",
    "plt.title('Гистограмма по использованию интернет траффика')\n",
    "#распределение получился с отрицательной скошенностью"
   ]
  },
  {
   "cell_type": "markdown",
   "metadata": {},
   "source": [
    "Глядя на гистограмму становится понятно, большинство абонентов имеют рэйндж в районе ~ 13-20 гигабайт, что нам говорит о том, что не все укладываются в лимит трафика по тарифу, видимо виной всему вездесущая реклама) "
   ]
  },
  {
   "cell_type": "code",
   "execution_count": 60,
   "metadata": {},
   "outputs": [
    {
     "data": {
      "text/plain": [
       "16236.47262118492"
      ]
     },
     "execution_count": 60,
     "metadata": {},
     "output_type": "execute_result"
    }
   ],
   "source": [
    "#найдём средний расход траффика в месяц в Mb\n",
    "users_month_pivot_smart['mb_sum'].mean()"
   ]
  },
  {
   "cell_type": "code",
   "execution_count": 61,
   "metadata": {},
   "outputs": [
    {
     "data": {
      "text/plain": [
       "16532.0"
      ]
     },
     "execution_count": 61,
     "metadata": {},
     "output_type": "execute_result"
    }
   ],
   "source": [
    "#найдём медиану в Mb\n",
    "users_month_pivot_smart['mb_sum'].median()"
   ]
  },
  {
   "cell_type": "code",
   "execution_count": 62,
   "metadata": {},
   "outputs": [
    {
     "data": {
      "text/plain": [
       "34427641.479950584"
      ]
     },
     "execution_count": 62,
     "metadata": {},
     "output_type": "execute_result"
    }
   ],
   "source": [
    "#надём дисперсию в Mb\n",
    "np.var(users_month_pivot_smart['mb_sum'])"
   ]
  },
  {
   "cell_type": "code",
   "execution_count": 63,
   "metadata": {},
   "outputs": [
    {
     "data": {
      "text/plain": [
       "5867.507262880088"
      ]
     },
     "execution_count": 63,
     "metadata": {},
     "output_type": "execute_result"
    }
   ],
   "source": [
    "#стандартное отклоение в Mb\n",
    "np.sqrt(np.var(users_month_pivot_smart['mb_sum']))"
   ]
  },
  {
   "cell_type": "code",
   "execution_count": 64,
   "metadata": {},
   "outputs": [
    {
     "data": {
      "text/plain": [
       "Text(0.5, 1.0, 'Гистограмма по использованию sms сообщений')"
      ]
     },
     "execution_count": 64,
     "metadata": {},
     "output_type": "execute_result"
    },
    {
     "data": {
      "image/png": "[encoded data removed]",
      "text/plain": [
       "<Figure size 432x288 with 1 Axes>"
      ]
     },
     "metadata": {
      "needs_background": "light"
     },
     "output_type": "display_data"
    }
   ],
   "source": [
    "#построим гистограмму по использованию sms сообщений \n",
    "users_month_pivot_smart['messages_count'].hist(bins=100)\n",
    "plt.title('Гистограмма по использованию sms сообщений')\n",
    "#распределение с положительной скошенностью"
   ]
  },
  {
   "cell_type": "markdown",
   "metadata": {},
   "source": [
    "SMS сообщения утратили свою актуальность с развитием мобильного интернета и новых стандартов сетей wi-fi, остюда большинство пользователей перешло на социальные сети и мессенджеры. SMS Сообщения на сегодня скорее всего вынужденная мера, если у вас пропало интернет соединение или же закончился траффик)"
   ]
  },
  {
   "cell_type": "code",
   "execution_count": 65,
   "metadata": {},
   "outputs": [
    {
     "data": {
      "text/plain": [
       "33.398563734290846"
      ]
     },
     "execution_count": 65,
     "metadata": {},
     "output_type": "execute_result"
    }
   ],
   "source": [
    "#среднее кол-во sms в месяц\n",
    "users_month_pivot_smart['messages_count'].mean()"
   ]
  },
  {
   "cell_type": "code",
   "execution_count": 66,
   "metadata": {},
   "outputs": [
    {
     "data": {
      "text/plain": [
       "28.0"
      ]
     },
     "execution_count": 66,
     "metadata": {},
     "output_type": "execute_result"
    }
   ],
   "source": [
    "#медиана\n",
    "users_month_pivot_smart['messages_count'].median()"
   ]
  },
  {
   "cell_type": "code",
   "execution_count": 67,
   "metadata": {},
   "outputs": [
    {
     "data": {
      "text/plain": [
       "796.3420446157763"
      ]
     },
     "execution_count": 67,
     "metadata": {},
     "output_type": "execute_result"
    }
   ],
   "source": [
    "#дисперсия \n",
    "np.var(users_month_pivot_smart['messages_count'])"
   ]
  },
  {
   "cell_type": "code",
   "execution_count": 68,
   "metadata": {},
   "outputs": [
    {
     "data": {
      "text/plain": [
       "28.219533033269283"
      ]
     },
     "execution_count": 68,
     "metadata": {},
     "output_type": "execute_result"
    }
   ],
   "source": [
    "#стандартное отклонение\n",
    "np.sqrt(np.var(users_month_pivot_smart['messages_count']))"
   ]
  },
  {
   "cell_type": "code",
   "execution_count": 69,
   "metadata": {},
   "outputs": [
    {
     "data": {
      "text/plain": [
       "Text(0.5, 1.0, 'Гистограмма по продолжительности звонков в месяц')"
      ]
     },
     "execution_count": 69,
     "metadata": {},
     "output_type": "execute_result"
    },
    {
     "data": {
      "image/png": "[encoded data removed]",
      "text/plain": [
       "<Figure size 432x288 with 1 Axes>"
      ]
     },
     "metadata": {
      "needs_background": "light"
     },
     "output_type": "display_data"
    }
   ],
   "source": [
    "#построим гистограмму по звонкам в минутах\n",
    "users_month_pivot_smart['calls_sum'].hist(bins=100)\n",
    "plt.title('Гистограмма по продолжительности звонков в месяц')\n",
    "#распределение с отрицательной скошенностью"
   ]
  },
  {
   "cell_type": "markdown",
   "metadata": {},
   "source": [
    "Глядя на это распределение можно заметить рейндж в районе 200-600 минут разговора, можно сделать вывод что большинство абонентов выжимают максимум из лимита в 500 минут в тарифе. Реже встречаются случаи с более длительными разговорами, выбросы связаны скорее с теми, кто не рассчитал правильно свои потребности, возможно траффика достаточно, но не хватило минут, такое бывает, когда люди отправляются в отпуск или выезжают на природу, где нет интернета (с его помощью можно сэкономить на роуминге используя звонки через мессенджеры) и используют звонки, ведь другого способа связи нет, а  sms сообщения никогда не заменят общение."
   ]
  },
  {
   "cell_type": "code",
   "execution_count": 70,
   "metadata": {},
   "outputs": [
    {
     "data": {
      "text/plain": [
       "418.1000897666068"
      ]
     },
     "execution_count": 70,
     "metadata": {},
     "output_type": "execute_result"
    }
   ],
   "source": [
    "#посчитаем среднее в минутах\n",
    "users_month_pivot_smart['calls_sum'].mean()"
   ]
  },
  {
   "cell_type": "code",
   "execution_count": 71,
   "metadata": {},
   "outputs": [
    {
     "data": {
      "text/plain": [
       "422.0"
      ]
     },
     "execution_count": 71,
     "metadata": {},
     "output_type": "execute_result"
    }
   ],
   "source": [
    "#медиана в минутах\n",
    "users_month_pivot_smart['calls_sum'].median()"
   ]
  },
  {
   "cell_type": "code",
   "execution_count": 72,
   "metadata": {},
   "outputs": [
    {
     "data": {
      "text/plain": [
       "36158.52723518045"
      ]
     },
     "execution_count": 72,
     "metadata": {},
     "output_type": "execute_result"
    }
   ],
   "source": [
    "#дисперсия в минутах\n",
    "np.var(users_month_pivot_smart['calls_sum'])"
   ]
  },
  {
   "cell_type": "code",
   "execution_count": 73,
   "metadata": {},
   "outputs": [
    {
     "data": {
      "text/plain": [
       "190.15395666454182"
      ]
     },
     "execution_count": 73,
     "metadata": {},
     "output_type": "execute_result"
    }
   ],
   "source": [
    "#стандартное отклонение в минутах \n",
    "np.sqrt(np.var(users_month_pivot_smart['calls_sum']))"
   ]
  },
  {
   "cell_type": "code",
   "execution_count": 74,
   "metadata": {},
   "outputs": [
    {
     "data": {
      "text/plain": [
       "Text(0.5, 1.0, 'Гистограмма по количеству звонков в месяц')"
      ]
     },
     "execution_count": 74,
     "metadata": {},
     "output_type": "execute_result"
    },
    {
     "data": {
      "image/png": "[encoded data removed]",
      "text/plain": [
       "<Figure size 432x288 with 1 Axes>"
      ]
     },
     "metadata": {
      "needs_background": "light"
     },
     "output_type": "display_data"
    }
   ],
   "source": [
    "#построим гистограмму по количеству звонков в месяц\n",
    "users_month_pivot_smart['calls_count'].hist(bins=100)\n",
    "plt.title('Гистограмма по количеству звонков в месяц')\n",
    "#распределение с отрицательной скошенностью"
   ]
  },
  {
   "cell_type": "markdown",
   "metadata": {},
   "source": [
    "Большинство людей звонит от 50-70 раз в месяц, то есть от 1,6 до 2,3 звонков в день, весьма прагматичный подход, бюджетный тариф выбирают те, кто не любит тратить время на пустые разговоры)"
   ]
  },
  {
   "cell_type": "markdown",
   "metadata": {},
   "source": [
    "<div class=\"alert alert-block alert-success\">\n",
    "✔️ Скошено всё-таки распределение, а не датасет :)\n",
    "</div>"
   ]
  },
  {
   "cell_type": "markdown",
   "metadata": {},
   "source": [
    "<div class=\"alert alert-block alert-info\">\n",
    "<b>Комментарий студента:</b> \n",
    "Сказывается невнимательность, особенно когда до 2 часов ночи делаешь проект) Спасибо) я всё поправил)\n",
    "</div>"
   ]
  },
  {
   "cell_type": "code",
   "execution_count": 75,
   "metadata": {},
   "outputs": [
    {
     "data": {
      "text/plain": [
       "58.48788150807899"
      ]
     },
     "execution_count": 75,
     "metadata": {},
     "output_type": "execute_result"
    }
   ],
   "source": [
    "#среднее кол-во звонков в месяц\n",
    "users_month_pivot_smart['calls_count'].mean()"
   ]
  },
  {
   "cell_type": "code",
   "execution_count": 76,
   "metadata": {},
   "outputs": [
    {
     "data": {
      "text/plain": [
       "60.0"
      ]
     },
     "execution_count": 76,
     "metadata": {},
     "output_type": "execute_result"
    }
   ],
   "source": [
    "#медиана\n",
    "users_month_pivot_smart['calls_count'].median()"
   ]
  },
  {
   "cell_type": "code",
   "execution_count": 77,
   "metadata": {},
   "outputs": [
    {
     "data": {
      "text/plain": [
       "671.5442876125305"
      ]
     },
     "execution_count": 77,
     "metadata": {},
     "output_type": "execute_result"
    }
   ],
   "source": [
    "#дисперсия \n",
    "np.var(users_month_pivot_smart['calls_count'])"
   ]
  },
  {
   "cell_type": "code",
   "execution_count": 78,
   "metadata": {},
   "outputs": [
    {
     "data": {
      "text/plain": [
       "25.91417155944852"
      ]
     },
     "execution_count": 78,
     "metadata": {},
     "output_type": "execute_result"
    }
   ],
   "source": [
    "#стандартное отклонение звонков в месяц\n",
    "np.sqrt(np.var(users_month_pivot_smart['calls_count']))"
   ]
  },
  {
   "cell_type": "markdown",
   "metadata": {},
   "source": [
    "**Проанализируем клиентов тарифа ультра**"
   ]
  },
  {
   "cell_type": "code",
   "execution_count": 79,
   "metadata": {},
   "outputs": [
    {
     "data": {
      "text/plain": [
       "Text(0.5, 1.0, 'Гистограмма по количеству интернет траффика в месяц')"
      ]
     },
     "execution_count": 79,
     "metadata": {},
     "output_type": "execute_result"
    },
    {
     "data": {
      "image/png": "[encoded data removed]",
      "text/plain": [
       "<Figure size 432x288 with 1 Axes>"
      ]
     },
     "metadata": {
      "needs_background": "light"
     },
     "output_type": "display_data"
    }
   ],
   "source": [
    "#построим гистограмму по использованию интернет траффика\n",
    "users_month_pivot_ultra['mb_sum'].hist(bins=100)\n",
    "plt.title('Гистограмма по количеству интернет траффика в месяц')\n",
    "#распределение с положительной скошенностью"
   ]
  },
  {
   "cell_type": "markdown",
   "metadata": {},
   "source": [
    "30 гигабайт трафика в тарифе \"Ультра\" это не предел, но по распределению видно что оснвная масса абонентов старается укладываться в данную норму, небольшие скачки роста использования траффика всё же наблюдаются, опять же, стримминговые сервисы и мобильные игры никто не отменял)"
   ]
  },
  {
   "cell_type": "code",
   "execution_count": 80,
   "metadata": {},
   "outputs": [
    {
     "data": {
      "text/plain": [
       "19686.76717948718"
      ]
     },
     "execution_count": 80,
     "metadata": {},
     "output_type": "execute_result"
    }
   ],
   "source": [
    "#среднее кол-во мегабайт в месяц\n",
    "users_month_pivot_ultra['mb_sum'].mean()"
   ]
  },
  {
   "cell_type": "code",
   "execution_count": 81,
   "metadata": {},
   "outputs": [
    {
     "data": {
      "text/plain": [
       "19411.0"
      ]
     },
     "execution_count": 81,
     "metadata": {},
     "output_type": "execute_result"
    }
   ],
   "source": [
    "#медиана \n",
    "users_month_pivot_ultra['mb_sum'].median()"
   ]
  },
  {
   "cell_type": "code",
   "execution_count": 82,
   "metadata": {},
   "outputs": [
    {
     "data": {
      "text/plain": [
       "98941856.5929741"
      ]
     },
     "execution_count": 82,
     "metadata": {},
     "output_type": "execute_result"
    }
   ],
   "source": [
    "#дисперсия \n",
    "np.var(users_month_pivot_ultra['mb_sum'])"
   ]
  },
  {
   "cell_type": "code",
   "execution_count": 83,
   "metadata": {},
   "outputs": [
    {
     "data": {
      "text/plain": [
       "9946.952125800852"
      ]
     },
     "execution_count": 83,
     "metadata": {},
     "output_type": "execute_result"
    }
   ],
   "source": [
    "#стандартное отклонение\n",
    "np.sqrt(np.var(users_month_pivot_ultra['mb_sum']))"
   ]
  },
  {
   "cell_type": "code",
   "execution_count": 84,
   "metadata": {},
   "outputs": [
    {
     "data": {
      "text/plain": [
       "Text(0.5, 1.0, 'Гистограмма по количеству sms сообщений в месяц')"
      ]
     },
     "execution_count": 84,
     "metadata": {},
     "output_type": "execute_result"
    },
    {
     "data": {
      "image/png": "[encoded data removed]",
      "text/plain": [
       "<Figure size 432x288 with 1 Axes>"
      ]
     },
     "metadata": {
      "needs_background": "light"
     },
     "output_type": "display_data"
    }
   ],
   "source": [
    "#построим гистограмму по использованию sms сообщений\n",
    "users_month_pivot_ultra['messages_count'].hist(bins=100)\n",
    "plt.title('Гистограмма по количеству sms сообщений в месяц')\n",
    "#распределение с положительной скошенностью"
   ]
  },
  {
   "cell_type": "markdown",
   "metadata": {},
   "source": [
    "Видим анологичную ситуацию как и с абонентами тарифа смарт, услуга sms умирает, на месте оператора я бы сделал вывод, что влияние данного вида связи минимально на абонентов. "
   ]
  },
  {
   "cell_type": "code",
   "execution_count": 85,
   "metadata": {},
   "outputs": [
    {
     "data": {
      "text/plain": [
       "49.585641025641024"
      ]
     },
     "execution_count": 85,
     "metadata": {},
     "output_type": "execute_result"
    }
   ],
   "source": [
    "#среднее кол-во сообщений в месяц\n",
    "users_month_pivot_ultra['messages_count'].mean()"
   ]
  },
  {
   "cell_type": "code",
   "execution_count": 86,
   "metadata": {},
   "outputs": [
    {
     "data": {
      "text/plain": [
       "38.0"
      ]
     },
     "execution_count": 86,
     "metadata": {},
     "output_type": "execute_result"
    }
   ],
   "source": [
    "#медиана\n",
    "users_month_pivot_ultra['messages_count'].median()"
   ]
  },
  {
   "cell_type": "code",
   "execution_count": 87,
   "metadata": {},
   "outputs": [
    {
     "data": {
      "text/plain": [
       "2299.563691255753"
      ]
     },
     "execution_count": 87,
     "metadata": {},
     "output_type": "execute_result"
    }
   ],
   "source": [
    "#дисперсия \n",
    "np.var(users_month_pivot_ultra['messages_count'])"
   ]
  },
  {
   "cell_type": "code",
   "execution_count": 88,
   "metadata": {},
   "outputs": [
    {
     "data": {
      "text/plain": [
       "47.95376618427121"
      ]
     },
     "execution_count": 88,
     "metadata": {},
     "output_type": "execute_result"
    }
   ],
   "source": [
    "#стандартное отклонение\n",
    "np.sqrt(np.var(users_month_pivot_ultra['messages_count']))"
   ]
  },
  {
   "cell_type": "code",
   "execution_count": 89,
   "metadata": {},
   "outputs": [
    {
     "data": {
      "text/plain": [
       "Text(0.5, 1.0, 'Гистограмма по продолжительности звонков в месяц')"
      ]
     },
     "execution_count": 89,
     "metadata": {},
     "output_type": "execute_result"
    },
    {
     "data": {
      "image/png": "[encoded data removed]",
      "text/plain": [
       "<Figure size 432x288 with 1 Axes>"
      ]
     },
     "metadata": {
      "needs_background": "light"
     },
     "output_type": "display_data"
    }
   ],
   "source": [
    "#построим гистограмму по продолжительности звонков в месяц\n",
    "users_month_pivot_ultra['calls_sum'].hist(bins=100)\n",
    "plt.title('Гистограмма по продолжительности звонков в месяц')\n",
    "#распределение с положительной скошенностью"
   ]
  },
  {
   "cell_type": "markdown",
   "metadata": {},
   "source": [
    "На нашем графике распределения видно, что абоненты тарифа ультра имеют больше минут для разговора входящих в пакет, но при этом число абонентов, пользующихся данным преимущество ниже почти в два раза, в отличие от абонентов тарифа смарт. Я могу предположить что люди, приобретающие тариф ультра преимущественно интроверты, но я могу ошибаться, в целом было бы интересно провести такое исследование."
   ]
  },
  {
   "cell_type": "code",
   "execution_count": 90,
   "metadata": {},
   "outputs": [
    {
     "data": {
      "text/plain": [
       "529.7497435897436"
      ]
     },
     "execution_count": 90,
     "metadata": {},
     "output_type": "execute_result"
    }
   ],
   "source": [
    "#среднее уоличество звонков в минутах в месяц\n",
    "users_month_pivot_ultra['calls_sum'].mean()"
   ]
  },
  {
   "cell_type": "code",
   "execution_count": 91,
   "metadata": {},
   "outputs": [
    {
     "data": {
      "text/plain": [
       "520.0"
      ]
     },
     "execution_count": 91,
     "metadata": {},
     "output_type": "execute_result"
    }
   ],
   "source": [
    "#медиана\n",
    "users_month_pivot_ultra['calls_sum'].median()"
   ]
  },
  {
   "cell_type": "code",
   "execution_count": 92,
   "metadata": {},
   "outputs": [
    {
     "data": {
      "text/plain": [
       "100780.34762813938"
      ]
     },
     "execution_count": 92,
     "metadata": {},
     "output_type": "execute_result"
    }
   ],
   "source": [
    "#дисперсия \n",
    "np.var(users_month_pivot_ultra['calls_sum'])"
   ]
  },
  {
   "cell_type": "code",
   "execution_count": 93,
   "metadata": {},
   "outputs": [
    {
     "data": {
      "text/plain": [
       "317.4592062425334"
      ]
     },
     "execution_count": 93,
     "metadata": {},
     "output_type": "execute_result"
    }
   ],
   "source": [
    "#стандартное отклонение\n",
    "np.sqrt(np.var(users_month_pivot_ultra['calls_sum']))"
   ]
  },
  {
   "cell_type": "code",
   "execution_count": 94,
   "metadata": {},
   "outputs": [
    {
     "data": {
      "text/plain": [
       "Text(0.5, 1.0, 'Гистограмма по количеству звонков в месяц')"
      ]
     },
     "execution_count": 94,
     "metadata": {},
     "output_type": "execute_result"
    },
    {
     "data": {
      "image/png": "[encoded data removed]",
      "text/plain": [
       "<Figure size 432x288 with 1 Axes>"
      ]
     },
     "metadata": {
      "needs_background": "light"
     },
     "output_type": "display_data"
    }
   ],
   "source": [
    "#построим гистограмму по количеству звонков в месяц\n",
    "users_month_pivot_ultra['calls_count'].hist(bins=100)\n",
    "plt.title('Гистограмма по количеству звонков в месяц')\n",
    "#распределение с положительной скошенностью"
   ]
  },
  {
   "cell_type": "markdown",
   "metadata": {},
   "source": [
    "И в этом распределении мы видим разницу в отличие от пользователей тарифа смарт, число \"незвонящих\" выше в 2 раза,можно предположить что у абонентов больше интернет траффика в тарифе и они пользуются звонками через мессенджеры, которые не уступают функционалу обычного телефона. "
   ]
  },
  {
   "cell_type": "code",
   "execution_count": 95,
   "metadata": {},
   "outputs": [
    {
     "data": {
      "text/plain": [
       "73.79179487179488"
      ]
     },
     "execution_count": 95,
     "metadata": {},
     "output_type": "execute_result"
    }
   ],
   "source": [
    "#среднее количество звонков в месяц \n",
    "users_month_pivot_ultra['calls_count'].mean()"
   ]
  },
  {
   "cell_type": "code",
   "execution_count": 96,
   "metadata": {},
   "outputs": [
    {
     "data": {
      "text/plain": [
       "74.0"
      ]
     },
     "execution_count": 96,
     "metadata": {},
     "output_type": "execute_result"
    }
   ],
   "source": [
    "#медиана \n",
    "users_month_pivot_ultra['calls_count'].median()"
   ]
  },
  {
   "cell_type": "code",
   "execution_count": 97,
   "metadata": {},
   "outputs": [
    {
     "data": {
      "text/plain": [
       "1928.823317291256"
      ]
     },
     "execution_count": 97,
     "metadata": {},
     "output_type": "execute_result"
    }
   ],
   "source": [
    "#дисперсия \n",
    "np.var(users_month_pivot_ultra['calls_count'])"
   ]
  },
  {
   "cell_type": "code",
   "execution_count": 98,
   "metadata": {},
   "outputs": [
    {
     "data": {
      "text/plain": [
       "43.91837106828139"
      ]
     },
     "execution_count": 98,
     "metadata": {},
     "output_type": "execute_result"
    }
   ],
   "source": [
    "#стандартное отклонение\n",
    "np.sqrt(np.var(users_month_pivot_ultra['calls_count']))"
   ]
  },
  {
   "cell_type": "markdown",
   "metadata": {},
   "source": [
    "**Вывод:**\n",
    "- Для тарифа смарт кроме sms все датасеты с отрицательной скошенностью.\n",
    "- Для тарифа ультра все датасеты с положительной скошенностью.\n",
    "\n",
    "- Отсюда следует что люди которые берут смарт стараются выжать из тарифа максимум(что не касается sms сообщений, так как есть месенжеры WhatsApp, Telegram, Messenger Facebook, Discord). При этом пользователи тарифа Смарт больше разговаривают по телефону, чем пользватели Ультра. \n",
    "\n",
    "- Люди, берущие тариф ультра напротив редко используют все ресурсы своего тарифа по sms и минутам, входящим в пакет, данные показывают нагрузку на интернет траффик, поэтому можно сделать вывод что звонки и сообщения данных абонентов исходят из мессенджеров. \n",
    "\n",
    "- Люди, пользующиеся тарифом смарт, часто берут пакеты минут и гигабайты сверх тарифа, в отличае от владельцев тарифа ультра в виду разницы траффика в 2 раза и текущими реалиями, где мобильный интернет траффик соприкасается с каждой услугой, в том числе и развлечениями (онлайн кинотеатры, стримы, трансляции соревнований, обмен мультимедиа сообщениями)\n",
    "\n",
    "- Оператору следует принять во внимание что с развитием мобильного интернета, нужда в sms сообщениях у абонентов резко упала."
   ]
  },
  {
   "cell_type": "markdown",
   "metadata": {},
   "source": [
    "# 5 Этап. Проверьте гипотезы."
   ]
  },
  {
   "cell_type": "markdown",
   "metadata": {},
   "source": [
    "- средняя выручка пользователей тарифов «Ультра» и «Смарт» различаются;\n",
    "- средняя выручка пользователей из Москвы отличается от выручки пользователей из других регионов.\n",
    "- Пороговое значение alpha задайте самостоятельно.\n",
    "***Поясните:**\n",
    "- как вы формулировали нулевую и альтернативную гипотезы;\n",
    "- какой критерий использовали для проверки гипотез и почему."
   ]
  },
  {
   "cell_type": "markdown",
   "metadata": {},
   "source": [
    "**Нулевая гипотеза: средння сумма средств, которую тратят абоненты обоих тарифных планов равна.**"
   ]
  },
  {
   "cell_type": "code",
   "execution_count": 99,
   "metadata": {},
   "outputs": [
    {
     "name": "stdout",
     "output_type": "stream",
     "text": [
      "p-значение: 1.9355878353519266e-157\n",
      "Отвергаем нулевую гипотезу\n"
     ]
    }
   ],
   "source": [
    "#проверим гипотезу что средняя сумма денег которую тратят люди на смарт и на ультра равны\n",
    "alpha = 0.05 #используем 5%\n",
    "\n",
    "results = st.ttest_ind(\n",
    "    users_month_pivot_ultra['payed'], \n",
    "    users_month_pivot_smart['payed'],\n",
    "    )\n",
    "\n",
    "print('p-значение:', results.pvalue)\n",
    "\n",
    "if (results.pvalue < alpha):\n",
    "    print(\"Отвергаем нулевую гипотезу\")\n",
    "else:\n",
    "    print(\"Не получилось отвергнуть нулевую гипотезу\")"
   ]
  },
  {
   "cell_type": "markdown",
   "metadata": {},
   "source": [
    "**p-value значение слишком выскоко(больше 1), поэтому нам придётся отвергнуть нулевую гипотезу, средние расходы абонентов обоих тарифных планов не равны. Вывод:люди, которые используют тариф \"Ультра\" переплачивают за свои услуги.**"
   ]
  },
  {
   "cell_type": "markdown",
   "metadata": {},
   "source": [
    "<div class=\"alert alert-block alert-danger\">\n",
    "❌ Сформулируй, нулевую и альтернативную гипотезу\n",
    "</div>"
   ]
  },
  {
   "cell_type": "markdown",
   "metadata": {},
   "source": [
    "<div class=\"alert alert-block alert-info\">\n",
    "<b>Комментарий студента:</b> \n",
    "Исправился\n",
    "</div>"
   ]
  },
  {
   "cell_type": "markdown",
   "metadata": {},
   "source": [
    "**Альтернативная гипотеза: средняя выручка пользователей из Москвы отличается от выручки пользователей из других регионов.**"
   ]
  },
  {
   "cell_type": "markdown",
   "metadata": {},
   "source": [
    "<div class=\"alert alert-block alert-success\">\n",
    "✔️ Ревью №2: У тебя альтернативная гипотеза совпадает с нулевой, видимо опечатался:) \n",
    "</div>"
   ]
  },
  {
   "cell_type": "code",
   "execution_count": 100,
   "metadata": {},
   "outputs": [],
   "source": [
    "#введём перемнные для абонентов из столицы и за её пределами\n",
    "users_moscow = users_month_pivot.query('city == \"Москва\"')\n",
    "users_not_moscow = users_month_pivot.query('city != \"Москва\"')"
   ]
  },
  {
   "cell_type": "code",
   "execution_count": 101,
   "metadata": {},
   "outputs": [
    {
     "name": "stdout",
     "output_type": "stream",
     "text": [
      "p-значение: 0.5087216763007762\n",
      "Не получилось отвергнуть альтернативную гипотезу\n"
     ]
    }
   ],
   "source": [
    "alpha = 0.05 #используем 5%\n",
    "\n",
    "results = st.ttest_ind(\n",
    "    users_moscow['payed'], \n",
    "    users_not_moscow['payed'],\n",
    "    )\n",
    "\n",
    "print('p-значение:', results.pvalue)\n",
    "\n",
    "if (results.pvalue < alpha):\n",
    "    print(\"Отвергаем альтернативную гипотезу\")\n",
    "else:\n",
    "    print(\"Не получилось отвергнуть альтернативную гипотезу\")"
   ]
  },
  {
   "cell_type": "markdown",
   "metadata": {},
   "source": [
    "**Результат ближе к нулю, а значит мы не можем отвергнуть альтернативную гипотезу. Вероятно это связано с тем, что покрытие связью во всей стране различается, соответсвенно и стоимость услуг связи.**"
   ]
  },
  {
   "cell_type": "markdown",
   "metadata": {},
   "source": [
    "<div class=\"alert alert-block alert-success\">\n",
    "✔️ Действительно, данные гипотезе не противоречат, поэтому нулевую гипотезу не отвергаем\n",
    "</div>"
   ]
  },
  {
   "cell_type": "markdown",
   "metadata": {},
   "source": [
    "**Получается что разницы не существует,  в среднем все платят одинаково.**"
   ]
  },
  {
   "cell_type": "markdown",
   "metadata": {},
   "source": [
    "# 6 Этап. Общий вывод."
   ]
  },
  {
   "cell_type": "markdown",
   "metadata": {},
   "source": [
    "Обобщаем полученный результат:\n",
    "- Мобильный интернет траффик имеет решающее значение для абонентов, большая часть переплат связана на сегодняшний день с ним, это касается как тарифа Смарт, та и Ультра. \n",
    "\n",
    "- В исследовании мы выявили закономерность между абонентами двух тарифов, в Смарте больше звонят, чем в Ультра, но при этом использвоание и переплата за интернет траффик в ультра больше, чем в Смарт. \n",
    "\n",
    "- Абоненты обоих тарифов редко используют sms, эта технология медленно умирает, на смену ей пришёл мобильный интернет. \n",
    "\n",
    "- Люди, которые берут смарт стараются выжать из тарифа максимум(что не касается sms сообщений, так как есть месенжеры WhatsApp, Telegram, Messenger Facebook, Discord).\n",
    "\n",
    "- Люди, берущие тариф ультра напротив редко используют все ресурсы своего тарифа по sms и минутам, входящим в пакет.\n",
    "\n",
    "- По этой причине люди, пользующиеся тарифом смарт, часто берут пакеты минут и гигабайты сверх тарифа, в отличае от владельцев тарифа ультра, котрые в редких случаях прибегают к этому решению.\n",
    "\n",
    "- Так же мы выяснили что география местоположения никак не влияет на средние расходы абонента за связь, а средние расходы в разных тарифах не равны друг другу.  \n"
   ]
  },
  {
   "cell_type": "markdown",
   "metadata": {},
   "source": [
    "<font color='blue'><b>Итоговый комментарий ревьюера</b></font>\\\n",
    "<font color='green'>Владимир, сильный проект, видно, что ты можешь много показать, нужно исправить лишь пару деталей:)\n",
    "\n",
    "<font color='blue'>Что можно сделать лучше:</font>\n",
    "<ul><font color='red'>1) Подправить объединение и убедиться, что оно проведено корректно</font></ul>\n",
    "<ul><font color='red'>2) Сформулировать нулевую и альтернативную гипотезы</font></ul>\n",
    "    \n",
    "<font color='blue'><b>Спасибо, жду твоих исправлений и комментариев!</b></font>"
   ]
  },
  {
   "cell_type": "markdown",
   "metadata": {},
   "source": [
    "<div class=\"alert alert-block alert-info\">\n",
    "<b>Комментарий студента:</b> \n",
    "Старался работать со всеми замечаниями.\n",
    "</div>"
   ]
  },
  {
   "cell_type": "markdown",
   "metadata": {},
   "source": [
    "<div class=\"alert alert-block alert-success\">\n",
    "✔️ Ревью №2: Владимир, спасибо за внесённые правки, работала стала ещё лучше! С радостью перевожу её в состояние \"зачтено\" и желаю дальнейших успехов в освоении курса\n",
    "</div>"
   ]
  },
  {
   "cell_type": "code",
   "execution_count": null,
   "metadata": {},
   "outputs": [],
   "source": []
  }
 ],
 "metadata": {
  "ExecuteTimeLog": [
   {
    "duration": 1444,
    "start_time": "2021-12-17T12:35:38.170Z"
   },
   {
    "duration": 572,
    "start_time": "2021-12-17T12:36:17.594Z"
   },
   {
    "duration": 19,
    "start_time": "2021-12-17T12:38:27.846Z"
   },
   {
    "duration": 13,
    "start_time": "2021-12-17T12:41:59.185Z"
   },
   {
    "duration": 23,
    "start_time": "2021-12-17T12:50:49.522Z"
   },
   {
    "duration": 501,
    "start_time": "2021-12-17T12:54:04.711Z"
   },
   {
    "duration": 392,
    "start_time": "2021-12-17T12:54:17.267Z"
   },
   {
    "duration": 11,
    "start_time": "2021-12-17T13:58:09.404Z"
   },
   {
    "duration": 31,
    "start_time": "2021-12-17T13:58:49.026Z"
   },
   {
    "duration": 46,
    "start_time": "2021-12-17T14:04:21.314Z"
   },
   {
    "duration": 15,
    "start_time": "2021-12-17T14:07:50.301Z"
   },
   {
    "duration": 11,
    "start_time": "2021-12-17T14:11:25.706Z"
   },
   {
    "duration": 10,
    "start_time": "2021-12-17T14:11:29.762Z"
   },
   {
    "duration": 464,
    "start_time": "2021-12-17T14:11:57.648Z"
   },
   {
    "duration": 21,
    "start_time": "2021-12-17T14:12:00.895Z"
   },
   {
    "duration": 18,
    "start_time": "2021-12-17T14:12:29.126Z"
   },
   {
    "duration": 11,
    "start_time": "2021-12-17T14:13:43.797Z"
   },
   {
    "duration": 25,
    "start_time": "2021-12-17T14:14:09.024Z"
   },
   {
    "duration": 42,
    "start_time": "2021-12-17T14:19:20.157Z"
   },
   {
    "duration": 10,
    "start_time": "2021-12-17T14:19:58.928Z"
   },
   {
    "duration": 11,
    "start_time": "2021-12-17T14:20:06.382Z"
   },
   {
    "duration": 11,
    "start_time": "2021-12-17T14:21:29.594Z"
   },
   {
    "duration": 598,
    "start_time": "2021-12-18T17:19:16.924Z"
   },
   {
    "duration": 1997,
    "start_time": "2021-12-18T17:19:28.124Z"
   },
   {
    "duration": 548,
    "start_time": "2021-12-18T17:19:30.124Z"
   },
   {
    "duration": 19,
    "start_time": "2021-12-18T17:19:30.675Z"
   },
   {
    "duration": 11,
    "start_time": "2021-12-18T17:19:30.696Z"
   },
   {
    "duration": 22,
    "start_time": "2021-12-18T17:19:30.709Z"
   },
   {
    "duration": 34,
    "start_time": "2021-12-18T17:19:30.734Z"
   },
   {
    "duration": 31,
    "start_time": "2021-12-18T17:19:30.770Z"
   },
   {
    "duration": 75,
    "start_time": "2021-12-18T17:19:30.803Z"
   },
   {
    "duration": 10,
    "start_time": "2021-12-18T17:19:30.882Z"
   },
   {
    "duration": 27,
    "start_time": "2021-12-18T17:19:30.894Z"
   },
   {
    "duration": 40,
    "start_time": "2021-12-18T17:19:30.924Z"
   },
   {
    "duration": 35,
    "start_time": "2021-12-18T17:19:30.967Z"
   },
   {
    "duration": 13,
    "start_time": "2021-12-18T17:19:31.006Z"
   },
   {
    "duration": 43,
    "start_time": "2021-12-18T17:19:31.022Z"
   },
   {
    "duration": 25,
    "start_time": "2021-12-18T17:19:31.068Z"
   },
   {
    "duration": 7,
    "start_time": "2021-12-18T17:43:49.129Z"
   },
   {
    "duration": 5,
    "start_time": "2021-12-18T17:46:14.780Z"
   },
   {
    "duration": 6,
    "start_time": "2021-12-18T17:53:59.787Z"
   },
   {
    "duration": 15,
    "start_time": "2021-12-18T17:54:53.278Z"
   },
   {
    "duration": 4,
    "start_time": "2021-12-18T17:55:07.509Z"
   },
   {
    "duration": 542,
    "start_time": "2021-12-18T17:55:07.517Z"
   },
   {
    "duration": 14,
    "start_time": "2021-12-18T17:55:08.062Z"
   },
   {
    "duration": 11,
    "start_time": "2021-12-18T17:55:08.079Z"
   },
   {
    "duration": 21,
    "start_time": "2021-12-18T17:55:08.092Z"
   },
   {
    "duration": 47,
    "start_time": "2021-12-18T17:55:08.116Z"
   },
   {
    "duration": 28,
    "start_time": "2021-12-18T17:55:08.165Z"
   },
   {
    "duration": 33,
    "start_time": "2021-12-18T17:55:08.196Z"
   },
   {
    "duration": 10,
    "start_time": "2021-12-18T17:55:08.260Z"
   },
   {
    "duration": 24,
    "start_time": "2021-12-18T17:55:08.273Z"
   },
   {
    "duration": 12,
    "start_time": "2021-12-18T17:55:08.299Z"
   },
   {
    "duration": 60,
    "start_time": "2021-12-18T17:55:08.313Z"
   },
   {
    "duration": 12,
    "start_time": "2021-12-18T17:55:08.375Z"
   },
   {
    "duration": 14,
    "start_time": "2021-12-18T17:55:08.389Z"
   },
   {
    "duration": 9,
    "start_time": "2021-12-18T17:55:08.406Z"
   },
   {
    "duration": 6,
    "start_time": "2021-12-18T17:55:08.417Z"
   },
   {
    "duration": 6,
    "start_time": "2021-12-18T17:55:08.460Z"
   },
   {
    "duration": 18,
    "start_time": "2021-12-18T17:55:08.468Z"
   },
   {
    "duration": 9,
    "start_time": "2021-12-18T17:55:43.896Z"
   },
   {
    "duration": 9,
    "start_time": "2021-12-18T17:56:18.745Z"
   },
   {
    "duration": 15,
    "start_time": "2021-12-18T17:56:22.532Z"
   },
   {
    "duration": 4,
    "start_time": "2021-12-18T17:56:41.977Z"
   },
   {
    "duration": 549,
    "start_time": "2021-12-18T17:56:41.987Z"
   },
   {
    "duration": 15,
    "start_time": "2021-12-18T17:56:42.539Z"
   },
   {
    "duration": 10,
    "start_time": "2021-12-18T17:56:42.558Z"
   },
   {
    "duration": 22,
    "start_time": "2021-12-18T17:56:42.571Z"
   },
   {
    "duration": 12,
    "start_time": "2021-12-18T17:56:42.596Z"
   },
   {
    "duration": 63,
    "start_time": "2021-12-18T17:56:42.611Z"
   },
   {
    "duration": 35,
    "start_time": "2021-12-18T17:56:42.677Z"
   },
   {
    "duration": 10,
    "start_time": "2021-12-18T17:56:42.715Z"
   },
   {
    "duration": 47,
    "start_time": "2021-12-18T17:56:42.728Z"
   },
   {
    "duration": 11,
    "start_time": "2021-12-18T17:56:42.778Z"
   },
   {
    "duration": 26,
    "start_time": "2021-12-18T17:56:42.791Z"
   },
   {
    "duration": 46,
    "start_time": "2021-12-18T17:56:42.819Z"
   },
   {
    "duration": 13,
    "start_time": "2021-12-18T17:56:42.868Z"
   },
   {
    "duration": 2695,
    "start_time": "2021-12-18T17:56:42.883Z"
   },
   {
    "duration": -101,
    "start_time": "2021-12-18T17:56:45.681Z"
   },
   {
    "duration": -105,
    "start_time": "2021-12-18T17:56:45.687Z"
   },
   {
    "duration": -111,
    "start_time": "2021-12-18T17:56:45.694Z"
   },
   {
    "duration": 8,
    "start_time": "2021-12-18T17:57:09.166Z"
   },
   {
    "duration": 15,
    "start_time": "2021-12-18T17:57:13.424Z"
   },
   {
    "duration": 16,
    "start_time": "2021-12-18T17:58:52.217Z"
   },
   {
    "duration": 4,
    "start_time": "2021-12-18T17:58:56.851Z"
   },
   {
    "duration": 533,
    "start_time": "2021-12-18T17:58:56.858Z"
   },
   {
    "duration": 14,
    "start_time": "2021-12-18T17:58:57.394Z"
   },
   {
    "duration": 10,
    "start_time": "2021-12-18T17:58:57.411Z"
   },
   {
    "duration": 36,
    "start_time": "2021-12-18T17:58:57.423Z"
   },
   {
    "duration": 11,
    "start_time": "2021-12-18T17:58:57.461Z"
   },
   {
    "duration": 28,
    "start_time": "2021-12-18T17:58:57.475Z"
   },
   {
    "duration": 66,
    "start_time": "2021-12-18T17:58:57.506Z"
   },
   {
    "duration": 10,
    "start_time": "2021-12-18T17:58:57.575Z"
   },
   {
    "duration": 22,
    "start_time": "2021-12-18T17:58:57.587Z"
   },
   {
    "duration": 13,
    "start_time": "2021-12-18T17:58:57.611Z"
   },
   {
    "duration": 53,
    "start_time": "2021-12-18T17:58:57.627Z"
   },
   {
    "duration": 11,
    "start_time": "2021-12-18T17:58:57.683Z"
   },
   {
    "duration": 14,
    "start_time": "2021-12-18T17:58:57.697Z"
   },
   {
    "duration": 50,
    "start_time": "2021-12-18T17:58:57.715Z"
   },
   {
    "duration": 9,
    "start_time": "2021-12-18T17:58:57.768Z"
   },
   {
    "duration": 9,
    "start_time": "2021-12-18T17:58:57.780Z"
   },
   {
    "duration": 16,
    "start_time": "2021-12-18T17:58:57.791Z"
   },
   {
    "duration": 4,
    "start_time": "2021-12-18T18:04:48.688Z"
   },
   {
    "duration": 518,
    "start_time": "2021-12-18T18:04:48.702Z"
   },
   {
    "duration": 15,
    "start_time": "2021-12-18T18:04:49.222Z"
   },
   {
    "duration": 19,
    "start_time": "2021-12-18T18:04:49.240Z"
   },
   {
    "duration": 21,
    "start_time": "2021-12-18T18:04:49.262Z"
   },
   {
    "duration": 12,
    "start_time": "2021-12-18T18:04:49.286Z"
   },
   {
    "duration": 61,
    "start_time": "2021-12-18T18:04:49.301Z"
   },
   {
    "duration": 37,
    "start_time": "2021-12-18T18:04:49.365Z"
   },
   {
    "duration": 9,
    "start_time": "2021-12-18T18:04:49.405Z"
   },
   {
    "duration": 57,
    "start_time": "2021-12-18T18:04:49.417Z"
   },
   {
    "duration": 12,
    "start_time": "2021-12-18T18:04:49.478Z"
   },
   {
    "duration": 27,
    "start_time": "2021-12-18T18:04:49.493Z"
   },
   {
    "duration": 48,
    "start_time": "2021-12-18T18:04:49.523Z"
   },
   {
    "duration": 13,
    "start_time": "2021-12-18T18:04:49.575Z"
   },
   {
    "duration": 5,
    "start_time": "2021-12-18T18:04:49.591Z"
   },
   {
    "duration": 6,
    "start_time": "2021-12-18T18:04:49.598Z"
   },
   {
    "duration": 63,
    "start_time": "2021-12-18T18:04:49.606Z"
   },
   {
    "duration": 8,
    "start_time": "2021-12-18T18:07:01.843Z"
   },
   {
    "duration": 12,
    "start_time": "2021-12-18T18:07:21.934Z"
   },
   {
    "duration": 5,
    "start_time": "2021-12-18T18:15:16.763Z"
   },
   {
    "duration": 23,
    "start_time": "2021-12-18T18:16:53.859Z"
   },
   {
    "duration": 12,
    "start_time": "2021-12-18T18:17:38.971Z"
   },
   {
    "duration": 19,
    "start_time": "2021-12-18T18:18:34.005Z"
   },
   {
    "duration": 12,
    "start_time": "2021-12-18T18:18:36.054Z"
   },
   {
    "duration": 11,
    "start_time": "2021-12-18T18:18:40.158Z"
   },
   {
    "duration": 4,
    "start_time": "2021-12-18T18:18:45.235Z"
   },
   {
    "duration": 521,
    "start_time": "2021-12-18T18:18:45.242Z"
   },
   {
    "duration": 14,
    "start_time": "2021-12-18T18:18:45.767Z"
   },
   {
    "duration": 11,
    "start_time": "2021-12-18T18:18:45.784Z"
   },
   {
    "duration": 23,
    "start_time": "2021-12-18T18:18:45.798Z"
   },
   {
    "duration": 11,
    "start_time": "2021-12-18T18:18:45.859Z"
   },
   {
    "duration": 31,
    "start_time": "2021-12-18T18:18:45.873Z"
   },
   {
    "duration": 69,
    "start_time": "2021-12-18T18:18:45.908Z"
   },
   {
    "duration": 12,
    "start_time": "2021-12-18T18:18:45.980Z"
   },
   {
    "duration": 31,
    "start_time": "2021-12-18T18:18:45.995Z"
   },
   {
    "duration": 17,
    "start_time": "2021-12-18T18:18:46.059Z"
   },
   {
    "duration": 27,
    "start_time": "2021-12-18T18:18:46.079Z"
   },
   {
    "duration": 15,
    "start_time": "2021-12-18T18:18:46.109Z"
   },
   {
    "duration": 44,
    "start_time": "2021-12-18T18:18:46.127Z"
   },
   {
    "duration": 6,
    "start_time": "2021-12-18T18:18:46.173Z"
   },
   {
    "duration": 5,
    "start_time": "2021-12-18T18:18:46.182Z"
   },
   {
    "duration": 18,
    "start_time": "2021-12-18T18:18:46.189Z"
   },
   {
    "duration": 53,
    "start_time": "2021-12-18T18:18:46.209Z"
   },
   {
    "duration": 16,
    "start_time": "2021-12-18T18:18:46.266Z"
   },
   {
    "duration": 6,
    "start_time": "2021-12-18T18:18:46.285Z"
   },
   {
    "duration": 22,
    "start_time": "2021-12-18T18:18:46.293Z"
   },
   {
    "duration": 44,
    "start_time": "2021-12-18T18:18:46.318Z"
   },
   {
    "duration": 75,
    "start_time": "2021-12-18T18:22:35.754Z"
   },
   {
    "duration": 17,
    "start_time": "2021-12-18T18:22:55.108Z"
   },
   {
    "duration": 4,
    "start_time": "2021-12-18T18:24:56.700Z"
   },
   {
    "duration": 511,
    "start_time": "2021-12-18T18:24:56.707Z"
   },
   {
    "duration": 15,
    "start_time": "2021-12-18T18:24:57.222Z"
   },
   {
    "duration": 21,
    "start_time": "2021-12-18T18:24:57.240Z"
   },
   {
    "duration": 21,
    "start_time": "2021-12-18T18:24:57.264Z"
   },
   {
    "duration": 12,
    "start_time": "2021-12-18T18:24:57.287Z"
   },
   {
    "duration": 66,
    "start_time": "2021-12-18T18:24:57.301Z"
   },
   {
    "duration": 35,
    "start_time": "2021-12-18T18:24:57.370Z"
   },
   {
    "duration": 11,
    "start_time": "2021-12-18T18:24:57.408Z"
   },
   {
    "duration": 50,
    "start_time": "2021-12-18T18:24:57.422Z"
   },
   {
    "duration": 11,
    "start_time": "2021-12-18T18:24:57.474Z"
   },
   {
    "duration": 25,
    "start_time": "2021-12-18T18:24:57.488Z"
   },
   {
    "duration": 46,
    "start_time": "2021-12-18T18:24:57.515Z"
   },
   {
    "duration": 13,
    "start_time": "2021-12-18T18:24:57.564Z"
   },
   {
    "duration": 6,
    "start_time": "2021-12-18T18:24:57.580Z"
   },
   {
    "duration": 6,
    "start_time": "2021-12-18T18:24:57.590Z"
   },
   {
    "duration": 66,
    "start_time": "2021-12-18T18:24:57.598Z"
   },
   {
    "duration": 11,
    "start_time": "2021-12-18T18:24:57.666Z"
   },
   {
    "duration": 11,
    "start_time": "2021-12-18T18:24:57.680Z"
   },
   {
    "duration": 6,
    "start_time": "2021-12-18T18:24:57.693Z"
   },
   {
    "duration": 61,
    "start_time": "2021-12-18T18:24:57.701Z"
   },
   {
    "duration": 11,
    "start_time": "2021-12-18T18:24:57.764Z"
   },
   {
    "duration": 92,
    "start_time": "2021-12-18T18:24:57.778Z"
   },
   {
    "duration": 18,
    "start_time": "2021-12-18T18:24:57.873Z"
   },
   {
    "duration": 10,
    "start_time": "2021-12-18T18:24:57.894Z"
   },
   {
    "duration": 10,
    "start_time": "2021-12-18T18:25:39.168Z"
   },
   {
    "duration": 12,
    "start_time": "2021-12-18T18:37:17.639Z"
   },
   {
    "duration": 42,
    "start_time": "2021-12-18T18:41:27.814Z"
   },
   {
    "duration": 10,
    "start_time": "2021-12-18T18:42:15.015Z"
   },
   {
    "duration": 6,
    "start_time": "2021-12-18T18:43:22.791Z"
   },
   {
    "duration": 363,
    "start_time": "2021-12-18T18:43:39.239Z"
   },
   {
    "duration": 10,
    "start_time": "2021-12-18T18:43:51.669Z"
   },
   {
    "duration": 11,
    "start_time": "2021-12-18T18:45:50.512Z"
   },
   {
    "duration": 497,
    "start_time": "2021-12-18T18:51:05.482Z"
   },
   {
    "duration": 182,
    "start_time": "2021-12-18T18:51:37.180Z"
   },
   {
    "duration": 6,
    "start_time": "2021-12-18T18:51:43.401Z"
   },
   {
    "duration": 5,
    "start_time": "2021-12-18T18:52:14.017Z"
   },
   {
    "duration": 55,
    "start_time": "2021-12-18T18:56:42.451Z"
   },
   {
    "duration": 11,
    "start_time": "2021-12-18T18:58:15.451Z"
   },
   {
    "duration": 18,
    "start_time": "2021-12-18T18:58:33.685Z"
   },
   {
    "duration": 11,
    "start_time": "2021-12-18T18:59:12.584Z"
   },
   {
    "duration": 24,
    "start_time": "2021-12-18T19:04:29.995Z"
   },
   {
    "duration": -43,
    "start_time": "2021-12-18T19:04:30.063Z"
   },
   {
    "duration": -50,
    "start_time": "2021-12-18T19:04:30.073Z"
   },
   {
    "duration": -55,
    "start_time": "2021-12-18T19:04:30.080Z"
   },
   {
    "duration": -61,
    "start_time": "2021-12-18T19:04:30.088Z"
   },
   {
    "duration": -64,
    "start_time": "2021-12-18T19:04:30.094Z"
   },
   {
    "duration": -68,
    "start_time": "2021-12-18T19:04:30.100Z"
   },
   {
    "duration": -75,
    "start_time": "2021-12-18T19:04:30.109Z"
   },
   {
    "duration": -81,
    "start_time": "2021-12-18T19:04:30.117Z"
   },
   {
    "duration": -118,
    "start_time": "2021-12-18T19:04:30.156Z"
   },
   {
    "duration": -126,
    "start_time": "2021-12-18T19:04:30.167Z"
   },
   {
    "duration": -134,
    "start_time": "2021-12-18T19:04:30.176Z"
   },
   {
    "duration": -141,
    "start_time": "2021-12-18T19:04:30.185Z"
   },
   {
    "duration": -145,
    "start_time": "2021-12-18T19:04:30.191Z"
   },
   {
    "duration": -150,
    "start_time": "2021-12-18T19:04:30.198Z"
   },
   {
    "duration": -155,
    "start_time": "2021-12-18T19:04:30.204Z"
   },
   {
    "duration": -163,
    "start_time": "2021-12-18T19:04:30.214Z"
   },
   {
    "duration": -170,
    "start_time": "2021-12-18T19:04:30.222Z"
   },
   {
    "duration": -176,
    "start_time": "2021-12-18T19:04:30.229Z"
   },
   {
    "duration": -180,
    "start_time": "2021-12-18T19:04:30.235Z"
   },
   {
    "duration": -200,
    "start_time": "2021-12-18T19:04:30.259Z"
   },
   {
    "duration": -205,
    "start_time": "2021-12-18T19:04:30.265Z"
   },
   {
    "duration": -211,
    "start_time": "2021-12-18T19:04:30.273Z"
   },
   {
    "duration": -215,
    "start_time": "2021-12-18T19:04:30.278Z"
   },
   {
    "duration": -221,
    "start_time": "2021-12-18T19:04:30.285Z"
   },
   {
    "duration": -225,
    "start_time": "2021-12-18T19:04:30.291Z"
   },
   {
    "duration": -230,
    "start_time": "2021-12-18T19:04:30.297Z"
   },
   {
    "duration": -236,
    "start_time": "2021-12-18T19:04:30.304Z"
   },
   {
    "duration": -241,
    "start_time": "2021-12-18T19:04:30.311Z"
   },
   {
    "duration": -246,
    "start_time": "2021-12-18T19:04:30.317Z"
   },
   {
    "duration": -252,
    "start_time": "2021-12-18T19:04:30.324Z"
   },
   {
    "duration": -260,
    "start_time": "2021-12-18T19:04:30.334Z"
   },
   {
    "duration": -269,
    "start_time": "2021-12-18T19:04:30.344Z"
   },
   {
    "duration": -276,
    "start_time": "2021-12-18T19:04:30.352Z"
   },
   {
    "duration": 5,
    "start_time": "2021-12-18T19:04:52.824Z"
   },
   {
    "duration": 519,
    "start_time": "2021-12-18T19:04:52.831Z"
   },
   {
    "duration": 15,
    "start_time": "2021-12-18T19:04:53.353Z"
   },
   {
    "duration": 12,
    "start_time": "2021-12-18T19:04:53.370Z"
   },
   {
    "duration": 22,
    "start_time": "2021-12-18T19:04:53.384Z"
   },
   {
    "duration": 11,
    "start_time": "2021-12-18T19:04:53.408Z"
   },
   {
    "duration": 61,
    "start_time": "2021-12-18T19:04:53.422Z"
   },
   {
    "duration": 34,
    "start_time": "2021-12-18T19:04:53.485Z"
   },
   {
    "duration": 9,
    "start_time": "2021-12-18T19:04:53.521Z"
   },
   {
    "duration": 20,
    "start_time": "2021-12-18T19:04:53.560Z"
   },
   {
    "duration": 13,
    "start_time": "2021-12-18T19:04:53.582Z"
   },
   {
    "duration": 32,
    "start_time": "2021-12-18T19:04:53.597Z"
   },
   {
    "duration": 34,
    "start_time": "2021-12-18T19:04:53.631Z"
   },
   {
    "duration": 11,
    "start_time": "2021-12-18T19:04:53.667Z"
   },
   {
    "duration": 6,
    "start_time": "2021-12-18T19:04:53.680Z"
   },
   {
    "duration": 8,
    "start_time": "2021-12-18T19:04:53.688Z"
   },
   {
    "duration": 16,
    "start_time": "2021-12-18T19:04:53.698Z"
   },
   {
    "duration": 48,
    "start_time": "2021-12-18T19:04:53.717Z"
   },
   {
    "duration": 14,
    "start_time": "2021-12-18T19:04:53.771Z"
   },
   {
    "duration": 8,
    "start_time": "2021-12-18T19:04:53.789Z"
   },
   {
    "duration": 60,
    "start_time": "2021-12-18T19:04:53.799Z"
   },
   {
    "duration": 68,
    "start_time": "2021-12-18T19:04:53.862Z"
   },
   {
    "duration": 36,
    "start_time": "2021-12-18T19:04:53.933Z"
   },
   {
    "duration": 9,
    "start_time": "2021-12-18T19:04:53.972Z"
   },
   {
    "duration": 42,
    "start_time": "2021-12-18T19:04:53.984Z"
   },
   {
    "duration": 35,
    "start_time": "2021-12-18T19:04:54.028Z"
   },
   {
    "duration": 5,
    "start_time": "2021-12-18T19:04:54.066Z"
   },
   {
    "duration": 10,
    "start_time": "2021-12-18T19:04:54.074Z"
   },
   {
    "duration": 5,
    "start_time": "2021-12-18T19:04:54.087Z"
   },
   {
    "duration": 4,
    "start_time": "2021-12-18T19:04:54.095Z"
   },
   {
    "duration": 100,
    "start_time": "2021-12-18T19:04:54.101Z"
   },
   {
    "duration": 8,
    "start_time": "2021-12-18T19:04:54.203Z"
   },
   {
    "duration": 12,
    "start_time": "2021-12-18T19:04:54.214Z"
   },
   {
    "duration": 39,
    "start_time": "2021-12-18T19:04:54.228Z"
   },
   {
    "duration": 10,
    "start_time": "2021-12-18T19:05:32.267Z"
   },
   {
    "duration": 85,
    "start_time": "2021-12-18T19:15:15.291Z"
   },
   {
    "duration": 12,
    "start_time": "2021-12-18T19:15:37.692Z"
   },
   {
    "duration": 10919,
    "start_time": "2021-12-18T19:16:59.949Z"
   },
   {
    "duration": 10338,
    "start_time": "2021-12-18T19:18:11.613Z"
   },
   {
    "duration": 12156,
    "start_time": "2021-12-18T19:20:16.155Z"
   },
   {
    "duration": 37,
    "start_time": "2021-12-18T19:21:08.701Z"
   },
   {
    "duration": 11,
    "start_time": "2021-12-18T19:21:34.770Z"
   },
   {
    "duration": 35,
    "start_time": "2021-12-18T19:24:12.910Z"
   },
   {
    "duration": 11,
    "start_time": "2021-12-18T19:24:14.344Z"
   },
   {
    "duration": 10,
    "start_time": "2021-12-18T19:24:26.780Z"
   },
   {
    "duration": 58,
    "start_time": "2021-12-18T19:25:54.683Z"
   },
   {
    "duration": 11,
    "start_time": "2021-12-18T19:26:21.457Z"
   },
   {
    "duration": 40,
    "start_time": "2021-12-18T19:30:09.129Z"
   },
   {
    "duration": 1107,
    "start_time": "2021-12-18T19:31:30.607Z"
   },
   {
    "duration": 11,
    "start_time": "2021-12-18T19:31:38.716Z"
   },
   {
    "duration": 4,
    "start_time": "2021-12-18T19:33:06.122Z"
   },
   {
    "duration": 12,
    "start_time": "2021-12-18T19:34:55.899Z"
   },
   {
    "duration": 6,
    "start_time": "2021-12-18T19:35:22.562Z"
   },
   {
    "duration": 603,
    "start_time": "2021-12-18T19:35:22.571Z"
   },
   {
    "duration": 14,
    "start_time": "2021-12-18T19:35:23.177Z"
   },
   {
    "duration": 15,
    "start_time": "2021-12-18T19:35:23.194Z"
   },
   {
    "duration": 22,
    "start_time": "2021-12-18T19:35:23.212Z"
   },
   {
    "duration": 29,
    "start_time": "2021-12-18T19:35:23.237Z"
   },
   {
    "duration": 33,
    "start_time": "2021-12-18T19:35:23.270Z"
   },
   {
    "duration": 61,
    "start_time": "2021-12-18T19:35:23.306Z"
   },
   {
    "duration": 10,
    "start_time": "2021-12-18T19:35:23.369Z"
   },
   {
    "duration": 21,
    "start_time": "2021-12-18T19:35:23.382Z"
   },
   {
    "duration": 13,
    "start_time": "2021-12-18T19:35:23.405Z"
   },
   {
    "duration": 28,
    "start_time": "2021-12-18T19:35:23.460Z"
   },
   {
    "duration": 14,
    "start_time": "2021-12-18T19:35:23.491Z"
   },
   {
    "duration": 51,
    "start_time": "2021-12-18T19:35:23.508Z"
   },
   {
    "duration": 7,
    "start_time": "2021-12-18T19:35:23.563Z"
   },
   {
    "duration": 7,
    "start_time": "2021-12-18T19:35:23.573Z"
   },
   {
    "duration": 24,
    "start_time": "2021-12-18T19:35:23.583Z"
   },
   {
    "duration": 57,
    "start_time": "2021-12-18T19:35:23.611Z"
   },
   {
    "duration": 18,
    "start_time": "2021-12-18T19:35:23.679Z"
   },
   {
    "duration": 6,
    "start_time": "2021-12-18T19:35:23.702Z"
   },
   {
    "duration": 62,
    "start_time": "2021-12-18T19:35:23.712Z"
   },
   {
    "duration": 85,
    "start_time": "2021-12-18T19:35:23.777Z"
   },
   {
    "duration": 15,
    "start_time": "2021-12-18T19:35:23.864Z"
   },
   {
    "duration": 20,
    "start_time": "2021-12-18T19:35:23.882Z"
   },
   {
    "duration": 104,
    "start_time": "2021-12-18T19:35:23.905Z"
   },
   {
    "duration": 16,
    "start_time": "2021-12-18T19:35:24.013Z"
   },
   {
    "duration": 28,
    "start_time": "2021-12-18T19:35:24.032Z"
   },
   {
    "duration": 10,
    "start_time": "2021-12-18T19:35:24.062Z"
   },
   {
    "duration": 5,
    "start_time": "2021-12-18T19:35:24.075Z"
   },
   {
    "duration": 4,
    "start_time": "2021-12-18T19:35:24.083Z"
   },
   {
    "duration": 97,
    "start_time": "2021-12-18T19:35:24.089Z"
   },
   {
    "duration": 8,
    "start_time": "2021-12-18T19:35:24.188Z"
   },
   {
    "duration": 16,
    "start_time": "2021-12-18T19:35:24.199Z"
   },
   {
    "duration": 11,
    "start_time": "2021-12-18T19:35:24.218Z"
   },
   {
    "duration": 179,
    "start_time": "2021-12-18T19:35:24.232Z"
   },
   {
    "duration": 18,
    "start_time": "2021-12-18T19:35:24.415Z"
   },
   {
    "duration": 54,
    "start_time": "2021-12-18T19:35:24.435Z"
   },
   {
    "duration": 10,
    "start_time": "2021-12-18T19:35:24.492Z"
   },
   {
    "duration": 85,
    "start_time": "2021-12-18T19:35:24.505Z"
   },
   {
    "duration": 12,
    "start_time": "2021-12-18T19:35:24.592Z"
   },
   {
    "duration": 25,
    "start_time": "2021-12-18T19:35:24.606Z"
   },
   {
    "duration": 35,
    "start_time": "2021-12-18T19:35:24.633Z"
   },
   {
    "duration": 91,
    "start_time": "2021-12-18T19:35:24.670Z"
   },
   {
    "duration": 11,
    "start_time": "2021-12-18T19:35:24.764Z"
   },
   {
    "duration": 11,
    "start_time": "2021-12-18T19:35:38.705Z"
   },
   {
    "duration": 30,
    "start_time": "2021-12-18T19:37:12.727Z"
   },
   {
    "duration": 11,
    "start_time": "2021-12-18T19:37:49.113Z"
   },
   {
    "duration": 405,
    "start_time": "2021-12-18T19:39:19.973Z"
   },
   {
    "duration": 402,
    "start_time": "2021-12-18T19:39:27.046Z"
   },
   {
    "duration": 123,
    "start_time": "2021-12-18T19:39:34.812Z"
   },
   {
    "duration": 13,
    "start_time": "2021-12-18T19:39:38.260Z"
   },
   {
    "duration": 480,
    "start_time": "2021-12-18T19:39:54.527Z"
   },
   {
    "duration": 77,
    "start_time": "2021-12-18T19:40:03.737Z"
   },
   {
    "duration": 4,
    "start_time": "2021-12-18T19:40:07.588Z"
   },
   {
    "duration": 613,
    "start_time": "2021-12-18T19:40:07.598Z"
   },
   {
    "duration": 15,
    "start_time": "2021-12-18T19:40:08.214Z"
   },
   {
    "duration": 12,
    "start_time": "2021-12-18T19:40:08.232Z"
   },
   {
    "duration": 27,
    "start_time": "2021-12-18T19:40:08.260Z"
   },
   {
    "duration": 16,
    "start_time": "2021-12-18T19:40:08.289Z"
   },
   {
    "duration": 62,
    "start_time": "2021-12-18T19:40:08.308Z"
   },
   {
    "duration": 39,
    "start_time": "2021-12-18T19:40:08.373Z"
   },
   {
    "duration": 11,
    "start_time": "2021-12-18T19:40:08.417Z"
   },
   {
    "duration": 53,
    "start_time": "2021-12-18T19:40:08.431Z"
   },
   {
    "duration": 14,
    "start_time": "2021-12-18T19:40:08.486Z"
   },
   {
    "duration": 71,
    "start_time": "2021-12-18T19:40:08.503Z"
   },
   {
    "duration": 11,
    "start_time": "2021-12-18T19:40:08.577Z"
   },
   {
    "duration": 14,
    "start_time": "2021-12-18T19:40:08.591Z"
   },
   {
    "duration": 7,
    "start_time": "2021-12-18T19:40:08.608Z"
   },
   {
    "duration": 26,
    "start_time": "2021-12-18T19:40:08.659Z"
   },
   {
    "duration": 15,
    "start_time": "2021-12-18T19:40:08.687Z"
   },
   {
    "duration": 12,
    "start_time": "2021-12-18T19:40:08.705Z"
   },
   {
    "duration": 40,
    "start_time": "2021-12-18T19:40:08.720Z"
   },
   {
    "duration": 7,
    "start_time": "2021-12-18T19:40:08.763Z"
   },
   {
    "duration": 26,
    "start_time": "2021-12-18T19:40:08.773Z"
   },
   {
    "duration": 119,
    "start_time": "2021-12-18T19:40:08.801Z"
   },
   {
    "duration": 35,
    "start_time": "2021-12-18T19:40:08.924Z"
   },
   {
    "duration": 15,
    "start_time": "2021-12-18T19:40:08.968Z"
   },
   {
    "duration": 44,
    "start_time": "2021-12-18T19:40:08.987Z"
   },
   {
    "duration": 34,
    "start_time": "2021-12-18T19:40:09.034Z"
   },
   {
    "duration": 6,
    "start_time": "2021-12-18T19:40:09.071Z"
   },
   {
    "duration": 12,
    "start_time": "2021-12-18T19:40:09.079Z"
   },
   {
    "duration": 7,
    "start_time": "2021-12-18T19:40:09.094Z"
   },
   {
    "duration": 8,
    "start_time": "2021-12-18T19:40:09.104Z"
   },
   {
    "duration": 56,
    "start_time": "2021-12-18T19:40:09.160Z"
   },
   {
    "duration": 11,
    "start_time": "2021-12-18T19:40:09.219Z"
   },
   {
    "duration": 38,
    "start_time": "2021-12-18T19:40:09.233Z"
   },
   {
    "duration": 12,
    "start_time": "2021-12-18T19:40:09.274Z"
   },
   {
    "duration": 121,
    "start_time": "2021-12-18T19:40:09.289Z"
   },
   {
    "duration": 19,
    "start_time": "2021-12-18T19:40:09.413Z"
   },
   {
    "duration": 58,
    "start_time": "2021-12-18T19:40:09.436Z"
   },
   {
    "duration": 11,
    "start_time": "2021-12-18T19:40:09.496Z"
   },
   {
    "duration": 84,
    "start_time": "2021-12-18T19:40:09.510Z"
   },
   {
    "duration": 16,
    "start_time": "2021-12-18T19:40:09.597Z"
   },
   {
    "duration": 49,
    "start_time": "2021-12-18T19:40:09.616Z"
   },
   {
    "duration": 10,
    "start_time": "2021-12-18T19:40:09.667Z"
   },
   {
    "duration": 85,
    "start_time": "2021-12-18T19:40:09.680Z"
   },
   {
    "duration": 11,
    "start_time": "2021-12-18T19:40:09.767Z"
   },
   {
    "duration": 29,
    "start_time": "2021-12-18T19:40:09.780Z"
   },
   {
    "duration": 10,
    "start_time": "2021-12-18T19:40:09.812Z"
   },
   {
    "duration": 96,
    "start_time": "2021-12-18T19:45:47.833Z"
   },
   {
    "duration": 15,
    "start_time": "2021-12-18T20:01:23.641Z"
   },
   {
    "duration": 14,
    "start_time": "2021-12-18T20:08:58.931Z"
   },
   {
    "duration": 606,
    "start_time": "2021-12-18T20:09:36.920Z"
   },
   {
    "duration": 1741,
    "start_time": "2021-12-18T20:10:12.889Z"
   },
   {
    "duration": 397,
    "start_time": "2021-12-18T20:12:24.132Z"
   },
   {
    "duration": 12,
    "start_time": "2021-12-18T20:12:42.055Z"
   },
   {
    "duration": 11,
    "start_time": "2021-12-18T20:12:48.030Z"
   },
   {
    "duration": 16,
    "start_time": "2021-12-18T20:13:39.145Z"
   },
   {
    "duration": 12,
    "start_time": "2021-12-18T20:17:42.781Z"
   },
   {
    "duration": 29,
    "start_time": "2021-12-18T20:17:54.806Z"
   },
   {
    "duration": 33,
    "start_time": "2021-12-18T20:21:04.924Z"
   },
   {
    "duration": 389,
    "start_time": "2021-12-18T20:24:00.180Z"
   },
   {
    "duration": 385,
    "start_time": "2021-12-18T20:24:29.304Z"
   },
   {
    "duration": 599,
    "start_time": "2021-12-18T20:26:13.627Z"
   },
   {
    "duration": 28,
    "start_time": "2021-12-18T20:28:23.873Z"
   },
   {
    "duration": 13,
    "start_time": "2021-12-18T20:40:35.678Z"
   },
   {
    "duration": 31,
    "start_time": "2021-12-18T20:40:50.828Z"
   },
   {
    "duration": 373,
    "start_time": "2021-12-18T20:42:36.968Z"
   },
   {
    "duration": 371,
    "start_time": "2021-12-18T20:42:53.301Z"
   },
   {
    "duration": 374,
    "start_time": "2021-12-18T20:43:10.506Z"
   },
   {
    "duration": 449,
    "start_time": "2021-12-18T20:45:30.470Z"
   },
   {
    "duration": 68,
    "start_time": "2021-12-18T21:05:43.217Z"
   },
   {
    "duration": 12,
    "start_time": "2021-12-18T21:05:44.727Z"
   },
   {
    "duration": 150,
    "start_time": "2021-12-18T21:09:06.121Z"
   },
   {
    "duration": 497,
    "start_time": "2021-12-18T21:09:39.618Z"
   },
   {
    "duration": 37,
    "start_time": "2021-12-18T21:09:54.804Z"
   },
   {
    "duration": 9,
    "start_time": "2021-12-18T21:11:15.530Z"
   },
   {
    "duration": 4,
    "start_time": "2021-12-18T21:11:32.225Z"
   },
   {
    "duration": 5,
    "start_time": "2021-12-18T21:11:45.983Z"
   },
   {
    "duration": 18,
    "start_time": "2021-12-18T21:12:21.155Z"
   },
   {
    "duration": 10,
    "start_time": "2021-12-18T21:13:56.731Z"
   },
   {
    "duration": 102,
    "start_time": "2021-12-18T21:14:35.231Z"
   },
   {
    "duration": 885,
    "start_time": "2021-12-18T21:15:15.252Z"
   },
   {
    "duration": 485,
    "start_time": "2021-12-18T21:15:44.097Z"
   },
   {
    "duration": 5,
    "start_time": "2021-12-18T21:15:53.798Z"
   },
   {
    "duration": 568,
    "start_time": "2021-12-18T21:15:53.805Z"
   },
   {
    "duration": 14,
    "start_time": "2021-12-18T21:15:54.376Z"
   },
   {
    "duration": 11,
    "start_time": "2021-12-18T21:15:54.393Z"
   },
   {
    "duration": 21,
    "start_time": "2021-12-18T21:15:54.407Z"
   },
   {
    "duration": 34,
    "start_time": "2021-12-18T21:15:54.430Z"
   },
   {
    "duration": 28,
    "start_time": "2021-12-18T21:15:54.467Z"
   },
   {
    "duration": 63,
    "start_time": "2021-12-18T21:15:54.498Z"
   },
   {
    "duration": 11,
    "start_time": "2021-12-18T21:15:54.563Z"
   },
   {
    "duration": 24,
    "start_time": "2021-12-18T21:15:54.576Z"
   },
   {
    "duration": 12,
    "start_time": "2021-12-18T21:15:54.603Z"
   },
   {
    "duration": 61,
    "start_time": "2021-12-18T21:15:54.618Z"
   },
   {
    "duration": 11,
    "start_time": "2021-12-18T21:15:54.682Z"
   },
   {
    "duration": 12,
    "start_time": "2021-12-18T21:15:54.695Z"
   },
   {
    "duration": 7,
    "start_time": "2021-12-18T21:15:54.709Z"
   },
   {
    "duration": 5,
    "start_time": "2021-12-18T21:15:54.760Z"
   },
   {
    "duration": 18,
    "start_time": "2021-12-18T21:15:54.768Z"
   },
   {
    "duration": 9,
    "start_time": "2021-12-18T21:15:54.788Z"
   },
   {
    "duration": 11,
    "start_time": "2021-12-18T21:15:54.804Z"
   },
   {
    "duration": 44,
    "start_time": "2021-12-18T21:15:54.820Z"
   },
   {
    "duration": 20,
    "start_time": "2021-12-18T21:15:54.867Z"
   },
   {
    "duration": 104,
    "start_time": "2021-12-18T21:15:54.890Z"
   },
   {
    "duration": 16,
    "start_time": "2021-12-18T21:15:54.997Z"
   },
   {
    "duration": 12,
    "start_time": "2021-12-18T21:15:55.016Z"
   },
   {
    "duration": 47,
    "start_time": "2021-12-18T21:15:55.059Z"
   },
   {
    "duration": 14,
    "start_time": "2021-12-18T21:15:55.109Z"
   },
   {
    "duration": 37,
    "start_time": "2021-12-18T21:15:55.126Z"
   },
   {
    "duration": 11,
    "start_time": "2021-12-18T21:15:55.167Z"
   },
   {
    "duration": 6,
    "start_time": "2021-12-18T21:15:55.182Z"
   },
   {
    "duration": 6,
    "start_time": "2021-12-18T21:15:55.191Z"
   },
   {
    "duration": 103,
    "start_time": "2021-12-18T21:15:55.200Z"
   },
   {
    "duration": 8,
    "start_time": "2021-12-18T21:15:55.305Z"
   },
   {
    "duration": 12,
    "start_time": "2021-12-18T21:15:55.316Z"
   },
   {
    "duration": 10,
    "start_time": "2021-12-18T21:15:55.359Z"
   },
   {
    "duration": 93,
    "start_time": "2021-12-18T21:15:55.372Z"
   },
   {
    "duration": 11,
    "start_time": "2021-12-18T21:15:55.467Z"
   },
   {
    "duration": 37,
    "start_time": "2021-12-18T21:15:55.481Z"
   },
   {
    "duration": 10,
    "start_time": "2021-12-18T21:15:55.520Z"
   },
   {
    "duration": 53,
    "start_time": "2021-12-18T21:15:55.560Z"
   },
   {
    "duration": 18,
    "start_time": "2021-12-18T21:15:55.616Z"
   },
   {
    "duration": 43,
    "start_time": "2021-12-18T21:15:55.638Z"
   },
   {
    "duration": 9,
    "start_time": "2021-12-18T21:15:55.683Z"
   },
   {
    "duration": 91,
    "start_time": "2021-12-18T21:15:55.694Z"
   },
   {
    "duration": 12,
    "start_time": "2021-12-18T21:15:55.787Z"
   },
   {
    "duration": 28,
    "start_time": "2021-12-18T21:15:55.801Z"
   },
   {
    "duration": 34,
    "start_time": "2021-12-18T21:15:55.831Z"
   },
   {
    "duration": 164,
    "start_time": "2021-12-18T21:15:55.867Z"
   },
   {
    "duration": 44,
    "start_time": "2021-12-18T21:15:56.033Z"
   },
   {
    "duration": 9,
    "start_time": "2021-12-18T21:15:56.080Z"
   },
   {
    "duration": 12,
    "start_time": "2021-12-18T21:15:56.092Z"
   },
   {
    "duration": 19,
    "start_time": "2021-12-18T21:15:56.107Z"
   },
   {
    "duration": 30,
    "start_time": "2021-12-18T21:15:56.129Z"
   },
   {
    "duration": 12920,
    "start_time": "2021-12-18T21:15:56.162Z"
   },
   {
    "duration": -104,
    "start_time": "2021-12-18T21:16:09.189Z"
   },
   {
    "duration": 5,
    "start_time": "2021-12-18T21:16:32.807Z"
   },
   {
    "duration": 985,
    "start_time": "2021-12-18T21:16:35.827Z"
   },
   {
    "duration": 1483,
    "start_time": "2021-12-18T21:17:13.986Z"
   },
   {
    "duration": 2301,
    "start_time": "2021-12-18T21:17:15.472Z"
   },
   {
    "duration": 20,
    "start_time": "2021-12-18T21:17:17.777Z"
   },
   {
    "duration": 11,
    "start_time": "2021-12-18T21:17:17.800Z"
   },
   {
    "duration": 25,
    "start_time": "2021-12-18T21:17:17.813Z"
   },
   {
    "duration": 11,
    "start_time": "2021-12-18T21:17:17.859Z"
   },
   {
    "duration": 30,
    "start_time": "2021-12-18T21:17:17.872Z"
   },
   {
    "duration": 67,
    "start_time": "2021-12-18T21:17:17.906Z"
   },
   {
    "duration": 10,
    "start_time": "2021-12-18T21:17:17.976Z"
   },
   {
    "duration": 21,
    "start_time": "2021-12-18T21:17:17.988Z"
   },
   {
    "duration": 11,
    "start_time": "2021-12-18T21:17:18.012Z"
   },
   {
    "duration": 24,
    "start_time": "2021-12-18T21:17:18.060Z"
   },
   {
    "duration": 11,
    "start_time": "2021-12-18T21:17:18.086Z"
   },
   {
    "duration": 12,
    "start_time": "2021-12-18T21:17:18.100Z"
   },
   {
    "duration": 45,
    "start_time": "2021-12-18T21:17:18.114Z"
   },
   {
    "duration": 5,
    "start_time": "2021-12-18T21:17:18.161Z"
   },
   {
    "duration": 20,
    "start_time": "2021-12-18T21:17:18.168Z"
   },
   {
    "duration": 13,
    "start_time": "2021-12-18T21:17:18.190Z"
   },
   {
    "duration": 18,
    "start_time": "2021-12-18T21:17:18.206Z"
   },
   {
    "duration": 33,
    "start_time": "2021-12-18T21:17:18.226Z"
   },
   {
    "duration": 34,
    "start_time": "2021-12-18T21:17:18.262Z"
   },
   {
    "duration": 127,
    "start_time": "2021-12-18T21:17:18.298Z"
   },
   {
    "duration": 32,
    "start_time": "2021-12-18T21:17:18.432Z"
   },
   {
    "duration": 14,
    "start_time": "2021-12-18T21:17:18.469Z"
   },
   {
    "duration": 78,
    "start_time": "2021-12-18T21:17:18.486Z"
   },
   {
    "duration": 13,
    "start_time": "2021-12-18T21:17:18.566Z"
   },
   {
    "duration": 7,
    "start_time": "2021-12-18T21:17:18.582Z"
   },
   {
    "duration": 11,
    "start_time": "2021-12-18T21:17:18.592Z"
   },
   {
    "duration": 6,
    "start_time": "2021-12-18T21:17:18.606Z"
   },
   {
    "duration": 46,
    "start_time": "2021-12-18T21:17:18.614Z"
   },
   {
    "duration": 57,
    "start_time": "2021-12-18T21:17:18.662Z"
   },
   {
    "duration": 43,
    "start_time": "2021-12-18T21:17:18.721Z"
   },
   {
    "duration": 12,
    "start_time": "2021-12-18T21:17:18.766Z"
   },
   {
    "duration": 10,
    "start_time": "2021-12-18T21:17:18.780Z"
   },
   {
    "duration": 115,
    "start_time": "2021-12-18T21:17:18.792Z"
   },
   {
    "duration": 11,
    "start_time": "2021-12-18T21:17:18.910Z"
   },
   {
    "duration": 53,
    "start_time": "2021-12-18T21:17:18.923Z"
   },
   {
    "duration": 10,
    "start_time": "2021-12-18T21:17:18.979Z"
   },
   {
    "duration": 72,
    "start_time": "2021-12-18T21:17:18.992Z"
   },
   {
    "duration": 11,
    "start_time": "2021-12-18T21:17:19.067Z"
   },
   {
    "duration": 27,
    "start_time": "2021-12-18T21:17:19.081Z"
   },
   {
    "duration": 10,
    "start_time": "2021-12-18T21:17:19.111Z"
   },
   {
    "duration": 83,
    "start_time": "2021-12-18T21:17:19.160Z"
   },
   {
    "duration": 20,
    "start_time": "2021-12-18T21:17:19.246Z"
   },
   {
    "duration": 31,
    "start_time": "2021-12-18T21:17:19.270Z"
   },
   {
    "duration": 12,
    "start_time": "2021-12-18T21:17:19.303Z"
   },
   {
    "duration": 222,
    "start_time": "2021-12-18T21:17:19.317Z"
   },
   {
    "duration": 40,
    "start_time": "2021-12-18T21:17:19.541Z"
   },
   {
    "duration": 8,
    "start_time": "2021-12-18T21:17:19.584Z"
   },
   {
    "duration": 7,
    "start_time": "2021-12-18T21:17:19.595Z"
   },
   {
    "duration": 16,
    "start_time": "2021-12-18T21:17:19.605Z"
   },
   {
    "duration": 6,
    "start_time": "2021-12-18T21:17:19.624Z"
   },
   {
    "duration": 11614,
    "start_time": "2021-12-18T21:17:19.659Z"
   },
   {
    "duration": -53,
    "start_time": "2021-12-18T21:17:31.330Z"
   },
   {
    "duration": 7,
    "start_time": "2021-12-18T21:18:24.658Z"
   },
   {
    "duration": 403,
    "start_time": "2021-12-18T21:18:29.446Z"
   },
   {
    "duration": 451,
    "start_time": "2021-12-18T21:18:41.381Z"
   },
   {
    "duration": 19,
    "start_time": "2021-12-18T21:19:17.804Z"
   },
   {
    "duration": 558,
    "start_time": "2021-12-18T21:20:08.760Z"
   },
   {
    "duration": 11,
    "start_time": "2021-12-18T21:20:46.439Z"
   },
   {
    "duration": 547,
    "start_time": "2021-12-18T21:21:32.920Z"
   },
   {
    "duration": 8,
    "start_time": "2021-12-18T21:22:14.381Z"
   },
   {
    "duration": 1019,
    "start_time": "2021-12-18T21:23:34.004Z"
   },
   {
    "duration": 715,
    "start_time": "2021-12-18T21:24:15.838Z"
   },
   {
    "duration": 599,
    "start_time": "2021-12-18T21:37:49.146Z"
   },
   {
    "duration": 326,
    "start_time": "2021-12-19T20:08:51.168Z"
   },
   {
    "duration": 1202,
    "start_time": "2021-12-19T20:09:07.580Z"
   },
   {
    "duration": 374,
    "start_time": "2021-12-19T20:09:08.784Z"
   },
   {
    "duration": 14,
    "start_time": "2021-12-19T20:09:09.160Z"
   },
   {
    "duration": 34,
    "start_time": "2021-12-19T20:09:09.176Z"
   },
   {
    "duration": 39,
    "start_time": "2021-12-19T20:09:09.212Z"
   },
   {
    "duration": 16,
    "start_time": "2021-12-19T20:09:09.253Z"
   },
   {
    "duration": 65,
    "start_time": "2021-12-19T20:09:09.270Z"
   },
   {
    "duration": 56,
    "start_time": "2021-12-19T20:09:09.338Z"
   },
   {
    "duration": 34,
    "start_time": "2021-12-19T20:09:09.396Z"
   },
   {
    "duration": 21,
    "start_time": "2021-12-19T20:09:09.432Z"
   },
   {
    "duration": 40,
    "start_time": "2021-12-19T20:09:09.455Z"
   },
   {
    "duration": 39,
    "start_time": "2021-12-19T20:09:09.496Z"
   },
   {
    "duration": 29,
    "start_time": "2021-12-19T20:09:09.537Z"
   },
   {
    "duration": 51,
    "start_time": "2021-12-19T20:09:09.568Z"
   },
   {
    "duration": 34,
    "start_time": "2021-12-19T20:09:09.621Z"
   },
   {
    "duration": 24,
    "start_time": "2021-12-19T20:09:09.657Z"
   },
   {
    "duration": 12,
    "start_time": "2021-12-19T20:09:09.683Z"
   },
   {
    "duration": 34,
    "start_time": "2021-12-19T20:09:09.696Z"
   },
   {
    "duration": 24,
    "start_time": "2021-12-19T20:09:09.732Z"
   },
   {
    "duration": 33,
    "start_time": "2021-12-19T20:09:09.758Z"
   },
   {
    "duration": 42,
    "start_time": "2021-12-19T20:09:09.792Z"
   },
   {
    "duration": 68,
    "start_time": "2021-12-19T20:09:09.836Z"
   },
   {
    "duration": 26,
    "start_time": "2021-12-19T20:09:09.908Z"
   },
   {
    "duration": 7,
    "start_time": "2021-12-19T20:09:09.936Z"
   },
   {
    "duration": 30,
    "start_time": "2021-12-19T20:09:09.944Z"
   },
   {
    "duration": 16,
    "start_time": "2021-12-19T20:09:09.975Z"
   },
   {
    "duration": 4,
    "start_time": "2021-12-19T20:09:09.992Z"
   },
   {
    "duration": 10,
    "start_time": "2021-12-19T20:09:09.998Z"
   },
   {
    "duration": 8,
    "start_time": "2021-12-19T20:09:10.009Z"
   },
   {
    "duration": 5,
    "start_time": "2021-12-19T20:09:10.019Z"
   },
   {
    "duration": 41,
    "start_time": "2021-12-19T20:09:10.026Z"
   },
   {
    "duration": 28,
    "start_time": "2021-12-19T20:09:10.069Z"
   },
   {
    "duration": 8,
    "start_time": "2021-12-19T20:09:10.099Z"
   },
   {
    "duration": 10,
    "start_time": "2021-12-19T20:09:10.110Z"
   },
   {
    "duration": 85,
    "start_time": "2021-12-19T20:09:10.122Z"
   },
   {
    "duration": 8,
    "start_time": "2021-12-19T20:09:10.208Z"
   },
   {
    "duration": 35,
    "start_time": "2021-12-19T20:09:10.218Z"
   },
   {
    "duration": 7,
    "start_time": "2021-12-19T20:09:10.254Z"
   },
   {
    "duration": 53,
    "start_time": "2021-12-19T20:09:10.262Z"
   },
   {
    "duration": 7,
    "start_time": "2021-12-19T20:09:10.317Z"
   },
   {
    "duration": 22,
    "start_time": "2021-12-19T20:09:10.326Z"
   },
   {
    "duration": 6,
    "start_time": "2021-12-19T20:09:10.350Z"
   },
   {
    "duration": 59,
    "start_time": "2021-12-19T20:09:10.358Z"
   },
   {
    "duration": 7,
    "start_time": "2021-12-19T20:09:10.419Z"
   },
   {
    "duration": 22,
    "start_time": "2021-12-19T20:09:10.428Z"
   },
   {
    "duration": 6,
    "start_time": "2021-12-19T20:09:10.452Z"
   },
   {
    "duration": 148,
    "start_time": "2021-12-19T20:09:10.460Z"
   },
   {
    "duration": 33,
    "start_time": "2021-12-19T20:09:10.609Z"
   },
   {
    "duration": 7,
    "start_time": "2021-12-19T20:09:10.644Z"
   },
   {
    "duration": 5,
    "start_time": "2021-12-19T20:09:10.653Z"
   },
   {
    "duration": 31,
    "start_time": "2021-12-19T20:09:10.659Z"
   },
   {
    "duration": 4,
    "start_time": "2021-12-19T20:09:10.691Z"
   },
   {
    "duration": 221,
    "start_time": "2021-12-19T20:09:10.696Z"
   },
   {
    "duration": 11,
    "start_time": "2021-12-19T20:09:10.919Z"
   },
   {
    "duration": 306,
    "start_time": "2021-12-19T20:09:10.932Z"
   },
   {
    "duration": 296,
    "start_time": "2021-12-19T20:09:11.240Z"
   },
   {
    "duration": 388,
    "start_time": "2021-12-19T20:09:11.537Z"
   },
   {
    "duration": 5,
    "start_time": "2021-12-19T20:10:00.213Z"
   },
   {
    "duration": 5,
    "start_time": "2021-12-19T20:10:34.887Z"
   },
   {
    "duration": 5,
    "start_time": "2021-12-19T20:11:10.228Z"
   },
   {
    "duration": 74,
    "start_time": "2021-12-19T20:12:50.165Z"
   },
   {
    "duration": 5,
    "start_time": "2021-12-19T20:13:04.863Z"
   },
   {
    "duration": 319,
    "start_time": "2021-12-19T20:13:47.816Z"
   },
   {
    "duration": 302,
    "start_time": "2021-12-19T20:15:32.708Z"
   },
   {
    "duration": 312,
    "start_time": "2021-12-19T20:16:08.297Z"
   },
   {
    "duration": 4,
    "start_time": "2021-12-19T20:16:50.307Z"
   },
   {
    "duration": 5,
    "start_time": "2021-12-19T20:17:15.842Z"
   },
   {
    "duration": 5,
    "start_time": "2021-12-19T20:17:41.949Z"
   },
   {
    "duration": 6,
    "start_time": "2021-12-19T20:18:13.642Z"
   },
   {
    "duration": 341,
    "start_time": "2021-12-19T20:19:05.376Z"
   },
   {
    "duration": 4,
    "start_time": "2021-12-19T20:20:06.226Z"
   },
   {
    "duration": 5,
    "start_time": "2021-12-19T20:20:31.135Z"
   },
   {
    "duration": 5,
    "start_time": "2021-12-19T20:20:56.670Z"
   },
   {
    "duration": 4,
    "start_time": "2021-12-19T20:21:42.075Z"
   },
   {
    "duration": 331,
    "start_time": "2021-12-19T20:22:21.852Z"
   },
   {
    "duration": 396,
    "start_time": "2021-12-19T20:23:58.711Z"
   },
   {
    "duration": 4,
    "start_time": "2021-12-19T20:25:11.515Z"
   },
   {
    "duration": 4,
    "start_time": "2021-12-19T20:25:37.238Z"
   },
   {
    "duration": 4,
    "start_time": "2021-12-19T20:26:01.840Z"
   },
   {
    "duration": 5,
    "start_time": "2021-12-19T20:26:36.106Z"
   },
   {
    "duration": 315,
    "start_time": "2021-12-19T20:33:48.060Z"
   },
   {
    "duration": 302,
    "start_time": "2021-12-19T20:34:06.163Z"
   },
   {
    "duration": 5,
    "start_time": "2021-12-19T20:36:09.421Z"
   },
   {
    "duration": 4,
    "start_time": "2021-12-19T20:36:31.016Z"
   },
   {
    "duration": 4,
    "start_time": "2021-12-19T20:36:55.983Z"
   },
   {
    "duration": 4,
    "start_time": "2021-12-19T20:39:00.358Z"
   },
   {
    "duration": 338,
    "start_time": "2021-12-19T20:39:30.753Z"
   },
   {
    "duration": 321,
    "start_time": "2021-12-19T20:44:04.352Z"
   },
   {
    "duration": 412,
    "start_time": "2021-12-19T20:44:42.257Z"
   },
   {
    "duration": 311,
    "start_time": "2021-12-19T20:47:46.832Z"
   },
   {
    "duration": 320,
    "start_time": "2021-12-19T20:48:00.485Z"
   },
   {
    "duration": 322,
    "start_time": "2021-12-19T20:48:12.408Z"
   },
   {
    "duration": 326,
    "start_time": "2021-12-19T20:48:22.650Z"
   },
   {
    "duration": 322,
    "start_time": "2021-12-19T20:48:33.730Z"
   },
   {
    "duration": 445,
    "start_time": "2021-12-19T20:48:43.134Z"
   },
   {
    "duration": 4,
    "start_time": "2021-12-19T20:50:36.815Z"
   },
   {
    "duration": 5,
    "start_time": "2021-12-19T20:51:01.354Z"
   },
   {
    "duration": 6,
    "start_time": "2021-12-19T20:51:26.185Z"
   },
   {
    "duration": 6,
    "start_time": "2021-12-19T20:51:58.194Z"
   },
   {
    "duration": 313,
    "start_time": "2021-12-19T20:58:05.446Z"
   },
   {
    "duration": 306,
    "start_time": "2021-12-19T20:58:23.174Z"
   },
   {
    "duration": 317,
    "start_time": "2021-12-19T21:01:36.545Z"
   },
   {
    "duration": 5,
    "start_time": "2021-12-19T21:02:20.985Z"
   },
   {
    "duration": 5,
    "start_time": "2021-12-19T21:12:34.238Z"
   },
   {
    "duration": 4,
    "start_time": "2021-12-19T21:15:13.467Z"
   },
   {
    "duration": 6,
    "start_time": "2021-12-19T21:16:06.290Z"
   },
   {
    "duration": 313,
    "start_time": "2021-12-19T21:17:38.475Z"
   },
   {
    "duration": 4,
    "start_time": "2021-12-19T21:18:48.992Z"
   },
   {
    "duration": 83,
    "start_time": "2021-12-19T21:19:05.355Z"
   },
   {
    "duration": 4,
    "start_time": "2021-12-19T21:19:18.041Z"
   },
   {
    "duration": 4,
    "start_time": "2021-12-19T21:20:18.071Z"
   },
   {
    "duration": 5,
    "start_time": "2021-12-19T21:20:52.740Z"
   },
   {
    "duration": 2,
    "start_time": "2021-12-19T21:29:07.044Z"
   },
   {
    "duration": 5,
    "start_time": "2021-12-19T21:29:52.434Z"
   },
   {
    "duration": 11,
    "start_time": "2021-12-19T21:31:54.808Z"
   },
   {
    "duration": 6,
    "start_time": "2021-12-19T21:32:06.469Z"
   },
   {
    "duration": 84,
    "start_time": "2021-12-19T21:33:24.663Z"
   },
   {
    "duration": 1247,
    "start_time": "2021-12-19T21:39:37.658Z"
   },
   {
    "duration": 543,
    "start_time": "2021-12-19T21:39:38.907Z"
   },
   {
    "duration": 18,
    "start_time": "2021-12-19T21:39:39.452Z"
   },
   {
    "duration": 11,
    "start_time": "2021-12-19T21:39:39.473Z"
   },
   {
    "duration": 15,
    "start_time": "2021-12-19T21:39:39.488Z"
   },
   {
    "duration": 10,
    "start_time": "2021-12-19T21:39:39.505Z"
   },
   {
    "duration": 35,
    "start_time": "2021-12-19T21:39:39.517Z"
   },
   {
    "duration": 71,
    "start_time": "2021-12-19T21:39:39.556Z"
   },
   {
    "duration": 10,
    "start_time": "2021-12-19T21:39:39.630Z"
   },
   {
    "duration": 24,
    "start_time": "2021-12-19T21:39:39.642Z"
   },
   {
    "duration": 26,
    "start_time": "2021-12-19T21:39:39.668Z"
   },
   {
    "duration": 23,
    "start_time": "2021-12-19T21:39:39.696Z"
   },
   {
    "duration": 7,
    "start_time": "2021-12-19T21:39:39.721Z"
   },
   {
    "duration": 8,
    "start_time": "2021-12-19T21:39:39.730Z"
   },
   {
    "duration": 5,
    "start_time": "2021-12-19T21:39:39.740Z"
   },
   {
    "duration": 42,
    "start_time": "2021-12-19T21:39:39.747Z"
   },
   {
    "duration": 10,
    "start_time": "2021-12-19T21:39:39.791Z"
   },
   {
    "duration": 20,
    "start_time": "2021-12-19T21:39:39.803Z"
   },
   {
    "duration": 12,
    "start_time": "2021-12-19T21:39:39.825Z"
   },
   {
    "duration": 7,
    "start_time": "2021-12-19T21:39:39.839Z"
   },
   {
    "duration": 26,
    "start_time": "2021-12-19T21:39:39.848Z"
   },
   {
    "duration": 58,
    "start_time": "2021-12-19T21:39:39.888Z"
   },
   {
    "duration": 13,
    "start_time": "2021-12-19T21:39:39.950Z"
   },
   {
    "duration": 27,
    "start_time": "2021-12-19T21:39:39.966Z"
   },
   {
    "duration": 33,
    "start_time": "2021-12-19T21:39:39.994Z"
   },
   {
    "duration": 8,
    "start_time": "2021-12-19T21:39:40.029Z"
   },
   {
    "duration": 4,
    "start_time": "2021-12-19T21:39:40.039Z"
   },
   {
    "duration": 9,
    "start_time": "2021-12-19T21:39:40.045Z"
   },
   {
    "duration": 33,
    "start_time": "2021-12-19T21:39:40.056Z"
   },
   {
    "duration": 4,
    "start_time": "2021-12-19T21:39:40.090Z"
   },
   {
    "duration": 50,
    "start_time": "2021-12-19T21:39:40.095Z"
   },
   {
    "duration": 11,
    "start_time": "2021-12-19T21:39:40.147Z"
   },
   {
    "duration": 9,
    "start_time": "2021-12-19T21:39:40.160Z"
   },
   {
    "duration": 22,
    "start_time": "2021-12-19T21:39:40.171Z"
   },
   {
    "duration": 81,
    "start_time": "2021-12-19T21:39:40.195Z"
   },
   {
    "duration": 7,
    "start_time": "2021-12-19T21:39:40.278Z"
   },
   {
    "duration": 55,
    "start_time": "2021-12-19T21:39:40.287Z"
   },
   {
    "duration": 7,
    "start_time": "2021-12-19T21:39:40.344Z"
   },
   {
    "duration": 45,
    "start_time": "2021-12-19T21:39:40.353Z"
   },
   {
    "duration": 14,
    "start_time": "2021-12-19T21:39:40.400Z"
   },
   {
    "duration": 43,
    "start_time": "2021-12-19T21:39:40.416Z"
   },
   {
    "duration": 30,
    "start_time": "2021-12-19T21:39:40.461Z"
   },
   {
    "duration": 53,
    "start_time": "2021-12-19T21:39:40.493Z"
   },
   {
    "duration": 8,
    "start_time": "2021-12-19T21:39:40.548Z"
   },
   {
    "duration": 38,
    "start_time": "2021-12-19T21:39:40.557Z"
   },
   {
    "duration": 6,
    "start_time": "2021-12-19T21:39:40.597Z"
   },
   {
    "duration": 143,
    "start_time": "2021-12-19T21:39:40.605Z"
   },
   {
    "duration": 26,
    "start_time": "2021-12-19T21:39:40.749Z"
   },
   {
    "duration": 12,
    "start_time": "2021-12-19T21:39:40.778Z"
   },
   {
    "duration": 7,
    "start_time": "2021-12-19T21:39:40.792Z"
   },
   {
    "duration": 19,
    "start_time": "2021-12-19T21:39:40.801Z"
   },
   {
    "duration": 5,
    "start_time": "2021-12-19T21:39:40.822Z"
   },
   {
    "duration": 250,
    "start_time": "2021-12-19T21:39:40.829Z"
   },
   {
    "duration": 19,
    "start_time": "2021-12-19T21:39:41.080Z"
   },
   {
    "duration": 360,
    "start_time": "2021-12-19T21:39:41.101Z"
   },
   {
    "duration": 324,
    "start_time": "2021-12-19T21:39:41.463Z"
   },
   {
    "duration": 432,
    "start_time": "2021-12-19T21:39:41.789Z"
   },
   {
    "duration": 5,
    "start_time": "2021-12-19T21:39:42.223Z"
   },
   {
    "duration": 7,
    "start_time": "2021-12-19T21:39:42.230Z"
   },
   {
    "duration": 6,
    "start_time": "2021-12-19T21:39:42.239Z"
   },
   {
    "duration": 6,
    "start_time": "2021-12-19T21:39:42.246Z"
   },
   {
    "duration": 342,
    "start_time": "2021-12-19T21:39:42.254Z"
   },
   {
    "duration": 4,
    "start_time": "2021-12-19T21:39:42.597Z"
   },
   {
    "duration": 6,
    "start_time": "2021-12-19T21:39:42.603Z"
   },
   {
    "duration": 6,
    "start_time": "2021-12-19T21:39:42.610Z"
   },
   {
    "duration": 6,
    "start_time": "2021-12-19T21:39:42.617Z"
   },
   {
    "duration": 328,
    "start_time": "2021-12-19T21:39:42.625Z"
   },
   {
    "duration": 4,
    "start_time": "2021-12-19T21:39:42.958Z"
   },
   {
    "duration": 19,
    "start_time": "2021-12-19T21:39:42.964Z"
   },
   {
    "duration": 9,
    "start_time": "2021-12-19T21:39:42.984Z"
   },
   {
    "duration": 30,
    "start_time": "2021-12-19T21:39:42.994Z"
   },
   {
    "duration": 305,
    "start_time": "2021-12-19T21:39:43.026Z"
   },
   {
    "duration": 3,
    "start_time": "2021-12-19T21:39:43.333Z"
   },
   {
    "duration": 5,
    "start_time": "2021-12-19T21:39:43.338Z"
   },
   {
    "duration": 5,
    "start_time": "2021-12-19T21:39:43.345Z"
   },
   {
    "duration": 8,
    "start_time": "2021-12-19T21:39:43.351Z"
   },
   {
    "duration": 315,
    "start_time": "2021-12-19T21:39:43.360Z"
   },
   {
    "duration": 13,
    "start_time": "2021-12-19T21:39:43.676Z"
   },
   {
    "duration": 4,
    "start_time": "2021-12-19T21:39:43.690Z"
   },
   {
    "duration": 4,
    "start_time": "2021-12-19T21:39:43.696Z"
   },
   {
    "duration": 7,
    "start_time": "2021-12-19T21:39:43.702Z"
   },
   {
    "duration": 331,
    "start_time": "2021-12-19T21:39:43.710Z"
   },
   {
    "duration": 4,
    "start_time": "2021-12-19T21:39:44.042Z"
   },
   {
    "duration": 6,
    "start_time": "2021-12-19T21:39:44.048Z"
   },
   {
    "duration": 6,
    "start_time": "2021-12-19T21:39:44.055Z"
   },
   {
    "duration": 6,
    "start_time": "2021-12-19T21:39:44.062Z"
   },
   {
    "duration": 501,
    "start_time": "2021-12-19T21:39:44.070Z"
   },
   {
    "duration": 4,
    "start_time": "2021-12-19T21:39:44.573Z"
   },
   {
    "duration": 12,
    "start_time": "2021-12-19T21:39:44.578Z"
   },
   {
    "duration": 15,
    "start_time": "2021-12-19T21:39:44.592Z"
   },
   {
    "duration": 7,
    "start_time": "2021-12-19T21:39:44.609Z"
   },
   {
    "duration": 351,
    "start_time": "2021-12-19T21:39:44.618Z"
   },
   {
    "duration": 5,
    "start_time": "2021-12-19T21:39:44.970Z"
   },
   {
    "duration": 4,
    "start_time": "2021-12-19T21:39:44.988Z"
   },
   {
    "duration": 6,
    "start_time": "2021-12-19T21:39:44.994Z"
   },
   {
    "duration": 9,
    "start_time": "2021-12-19T21:39:45.002Z"
   },
   {
    "duration": 10,
    "start_time": "2021-12-19T21:39:45.013Z"
   },
   {
    "duration": 9,
    "start_time": "2021-12-19T21:39:45.025Z"
   },
   {
    "duration": 5,
    "start_time": "2021-12-19T21:39:45.036Z"
   },
   {
    "duration": 1483,
    "start_time": "2021-12-20T17:52:57.642Z"
   },
   {
    "duration": 580,
    "start_time": "2021-12-20T17:52:59.128Z"
   },
   {
    "duration": 19,
    "start_time": "2021-12-20T17:52:59.711Z"
   },
   {
    "duration": 251,
    "start_time": "2021-12-20T17:52:59.733Z"
   },
   {
    "duration": 327,
    "start_time": "2021-12-20T17:52:59.986Z"
   },
   {
    "duration": 270,
    "start_time": "2021-12-20T17:53:00.316Z"
   },
   {
    "duration": 286,
    "start_time": "2021-12-20T17:53:00.589Z"
   },
   {
    "duration": 297,
    "start_time": "2021-12-20T17:53:00.879Z"
   },
   {
    "duration": 256,
    "start_time": "2021-12-20T17:53:01.180Z"
   },
   {
    "duration": 377,
    "start_time": "2021-12-20T17:53:01.439Z"
   },
   {
    "duration": 217,
    "start_time": "2021-12-20T17:53:01.819Z"
   },
   {
    "duration": 208,
    "start_time": "2021-12-20T17:53:02.039Z"
   },
   {
    "duration": 214,
    "start_time": "2021-12-20T17:53:02.250Z"
   },
   {
    "duration": 289,
    "start_time": "2021-12-20T17:53:02.467Z"
   },
   {
    "duration": 289,
    "start_time": "2021-12-20T17:53:02.759Z"
   },
   {
    "duration": 250,
    "start_time": "2021-12-20T17:53:03.051Z"
   },
   {
    "duration": 289,
    "start_time": "2021-12-20T17:53:03.304Z"
   },
   {
    "duration": 271,
    "start_time": "2021-12-20T17:53:03.596Z"
   },
   {
    "duration": 211,
    "start_time": "2021-12-20T17:53:03.870Z"
   },
   {
    "duration": 158,
    "start_time": "2021-12-20T17:53:04.083Z"
   },
   {
    "duration": 217,
    "start_time": "2021-12-20T17:53:04.243Z"
   },
   {
    "duration": 355,
    "start_time": "2021-12-20T17:53:04.462Z"
   },
   {
    "duration": 223,
    "start_time": "2021-12-20T17:53:04.822Z"
   },
   {
    "duration": 264,
    "start_time": "2021-12-20T17:53:05.049Z"
   },
   {
    "duration": 329,
    "start_time": "2021-12-20T17:53:05.316Z"
   },
   {
    "duration": 152,
    "start_time": "2021-12-20T17:53:05.648Z"
   },
   {
    "duration": 191,
    "start_time": "2021-12-20T17:53:05.802Z"
   },
   {
    "duration": 185,
    "start_time": "2021-12-20T17:53:05.995Z"
   },
   {
    "duration": 188,
    "start_time": "2021-12-20T17:53:06.183Z"
   },
   {
    "duration": 235,
    "start_time": "2021-12-20T17:53:06.374Z"
   },
   {
    "duration": 306,
    "start_time": "2021-12-20T17:53:06.611Z"
   },
   {
    "duration": 255,
    "start_time": "2021-12-20T17:53:06.920Z"
   },
   {
    "duration": 202,
    "start_time": "2021-12-20T17:53:07.178Z"
   },
   {
    "duration": 206,
    "start_time": "2021-12-20T17:53:07.383Z"
   },
   {
    "duration": 239,
    "start_time": "2021-12-20T17:53:07.592Z"
   },
   {
    "duration": 145,
    "start_time": "2021-12-20T17:53:07.833Z"
   },
   {
    "duration": 223,
    "start_time": "2021-12-20T17:53:07.981Z"
   },
   {
    "duration": 94,
    "start_time": "2021-12-20T17:53:08.207Z"
   },
   {
    "duration": 256,
    "start_time": "2021-12-20T17:53:08.303Z"
   },
   {
    "duration": 268,
    "start_time": "2021-12-20T17:53:08.562Z"
   },
   {
    "duration": 329,
    "start_time": "2021-12-20T17:53:08.833Z"
   },
   {
    "duration": 144,
    "start_time": "2021-12-20T17:53:09.165Z"
   },
   {
    "duration": 262,
    "start_time": "2021-12-20T17:53:09.313Z"
   },
   {
    "duration": 175,
    "start_time": "2021-12-20T17:53:09.577Z"
   },
   {
    "duration": 211,
    "start_time": "2021-12-20T17:53:09.754Z"
   },
   {
    "duration": 142,
    "start_time": "2021-12-20T17:53:09.967Z"
   },
   {
    "duration": 438,
    "start_time": "2021-12-20T17:53:10.113Z"
   },
   {
    "duration": 63,
    "start_time": "2021-12-20T17:53:10.554Z"
   },
   {
    "duration": 175,
    "start_time": "2021-12-20T17:53:10.620Z"
   },
   {
    "duration": 291,
    "start_time": "2021-12-20T17:53:10.799Z"
   },
   {
    "duration": 299,
    "start_time": "2021-12-20T17:53:11.092Z"
   },
   {
    "duration": 299,
    "start_time": "2021-12-20T17:53:11.395Z"
   },
   {
    "duration": 711,
    "start_time": "2021-12-20T17:53:11.697Z"
   },
   {
    "duration": 17,
    "start_time": "2021-12-20T17:53:12.412Z"
   },
   {
    "duration": 829,
    "start_time": "2021-12-20T17:53:12.431Z"
   },
   {
    "duration": 585,
    "start_time": "2021-12-20T17:53:13.266Z"
   },
   {
    "duration": 716,
    "start_time": "2021-12-20T17:53:13.854Z"
   },
   {
    "duration": 7,
    "start_time": "2021-12-20T17:53:14.572Z"
   },
   {
    "duration": 191,
    "start_time": "2021-12-20T17:53:14.582Z"
   },
   {
    "duration": 229,
    "start_time": "2021-12-20T17:53:14.776Z"
   },
   {
    "duration": 261,
    "start_time": "2021-12-20T17:53:15.007Z"
   },
   {
    "duration": 852,
    "start_time": "2021-12-20T17:53:15.271Z"
   },
   {
    "duration": 6,
    "start_time": "2021-12-20T17:53:16.126Z"
   },
   {
    "duration": 183,
    "start_time": "2021-12-20T17:53:16.135Z"
   },
   {
    "duration": 176,
    "start_time": "2021-12-20T17:53:16.320Z"
   },
   {
    "duration": 339,
    "start_time": "2021-12-20T17:53:16.499Z"
   },
   {
    "duration": 1054,
    "start_time": "2021-12-20T17:53:16.842Z"
   },
   {
    "duration": 6,
    "start_time": "2021-12-20T17:53:17.904Z"
   },
   {
    "duration": 106,
    "start_time": "2021-12-20T17:53:17.913Z"
   },
   {
    "duration": 155,
    "start_time": "2021-12-20T17:53:18.023Z"
   },
   {
    "duration": 174,
    "start_time": "2021-12-20T17:53:18.180Z"
   },
   {
    "duration": 788,
    "start_time": "2021-12-20T17:53:18.356Z"
   },
   {
    "duration": 19,
    "start_time": "2021-12-20T17:53:19.147Z"
   },
   {
    "duration": 161,
    "start_time": "2021-12-20T17:53:19.169Z"
   },
   {
    "duration": 188,
    "start_time": "2021-12-20T17:53:19.333Z"
   },
   {
    "duration": 158,
    "start_time": "2021-12-20T17:53:19.525Z"
   },
   {
    "duration": 762,
    "start_time": "2021-12-20T17:53:19.686Z"
   },
   {
    "duration": 18,
    "start_time": "2021-12-20T17:53:20.451Z"
   },
   {
    "duration": 216,
    "start_time": "2021-12-20T17:53:20.472Z"
   },
   {
    "duration": 188,
    "start_time": "2021-12-20T17:53:20.691Z"
   },
   {
    "duration": 250,
    "start_time": "2021-12-20T17:53:20.882Z"
   },
   {
    "duration": 752,
    "start_time": "2021-12-20T17:53:21.135Z"
   },
   {
    "duration": 9,
    "start_time": "2021-12-20T17:53:21.889Z"
   },
   {
    "duration": 412,
    "start_time": "2021-12-20T17:53:21.901Z"
   },
   {
    "duration": 221,
    "start_time": "2021-12-20T17:53:22.317Z"
   },
   {
    "duration": 253,
    "start_time": "2021-12-20T17:53:22.541Z"
   },
   {
    "duration": 1267,
    "start_time": "2021-12-20T17:53:22.798Z"
   },
   {
    "duration": 6,
    "start_time": "2021-12-20T17:53:24.068Z"
   },
   {
    "duration": 242,
    "start_time": "2021-12-20T17:53:24.077Z"
   },
   {
    "duration": 205,
    "start_time": "2021-12-20T17:53:24.322Z"
   },
   {
    "duration": 292,
    "start_time": "2021-12-20T17:53:24.529Z"
   },
   {
    "duration": 783,
    "start_time": "2021-12-20T17:53:24.824Z"
   },
   {
    "duration": 7,
    "start_time": "2021-12-20T17:53:25.609Z"
   },
   {
    "duration": 348,
    "start_time": "2021-12-20T17:53:25.618Z"
   },
   {
    "duration": 188,
    "start_time": "2021-12-20T17:53:25.968Z"
   },
   {
    "duration": 300,
    "start_time": "2021-12-20T17:53:26.159Z"
   },
   {
    "duration": 266,
    "start_time": "2021-12-20T17:53:26.462Z"
   },
   {
    "duration": 215,
    "start_time": "2021-12-20T17:53:26.731Z"
   },
   {
    "duration": 323,
    "start_time": "2021-12-20T17:53:26.949Z"
   },
   {
    "duration": 47,
    "start_time": "2021-12-20T18:01:14.531Z"
   },
   {
    "duration": 7,
    "start_time": "2021-12-20T18:01:35.542Z"
   },
   {
    "duration": 14,
    "start_time": "2021-12-20T18:05:25.876Z"
   },
   {
    "duration": 51,
    "start_time": "2021-12-20T18:08:57.562Z"
   },
   {
    "duration": 572,
    "start_time": "2021-12-20T18:09:19.536Z"
   },
   {
    "duration": 369,
    "start_time": "2021-12-20T18:09:31.900Z"
   },
   {
    "duration": 7,
    "start_time": "2021-12-20T18:09:50.409Z"
   },
   {
    "duration": 4746,
    "start_time": "2021-12-20T18:09:58.088Z"
   },
   {
    "duration": 9,
    "start_time": "2021-12-20T18:10:10.465Z"
   },
   {
    "duration": 9,
    "start_time": "2021-12-20T18:10:31.293Z"
   },
   {
    "duration": 61,
    "start_time": "2021-12-21T06:56:30.284Z"
   },
   {
    "duration": 225,
    "start_time": "2021-12-21T06:56:40.814Z"
   },
   {
    "duration": 1148,
    "start_time": "2021-12-21T06:56:48.477Z"
   },
   {
    "duration": 452,
    "start_time": "2021-12-21T06:56:49.628Z"
   },
   {
    "duration": 15,
    "start_time": "2021-12-21T06:56:50.083Z"
   },
   {
    "duration": 12,
    "start_time": "2021-12-21T06:56:50.100Z"
   },
   {
    "duration": 18,
    "start_time": "2021-12-21T06:56:50.114Z"
   },
   {
    "duration": 8,
    "start_time": "2021-12-21T06:56:50.135Z"
   },
   {
    "duration": 64,
    "start_time": "2021-12-21T06:56:50.145Z"
   },
   {
    "duration": 28,
    "start_time": "2021-12-21T06:56:50.213Z"
   },
   {
    "duration": 7,
    "start_time": "2021-12-21T06:56:50.243Z"
   },
   {
    "duration": 43,
    "start_time": "2021-12-21T06:56:50.252Z"
   },
   {
    "duration": 8,
    "start_time": "2021-12-21T06:56:50.297Z"
   },
   {
    "duration": 20,
    "start_time": "2021-12-21T06:56:50.307Z"
   },
   {
    "duration": 7,
    "start_time": "2021-12-21T06:56:50.329Z"
   },
   {
    "duration": 12,
    "start_time": "2021-12-21T06:56:50.337Z"
   },
   {
    "duration": 9,
    "start_time": "2021-12-21T06:56:50.350Z"
   },
   {
    "duration": 31,
    "start_time": "2021-12-21T06:56:50.360Z"
   },
   {
    "duration": 12,
    "start_time": "2021-12-21T06:56:50.393Z"
   },
   {
    "duration": 9,
    "start_time": "2021-12-21T06:56:50.406Z"
   },
   {
    "duration": 19,
    "start_time": "2021-12-21T06:56:50.416Z"
   },
   {
    "duration": 6,
    "start_time": "2021-12-21T06:56:50.437Z"
   },
   {
    "duration": 23,
    "start_time": "2021-12-21T06:56:50.445Z"
   },
   {
    "duration": 64,
    "start_time": "2021-12-21T06:56:50.470Z"
   },
   {
    "duration": 11,
    "start_time": "2021-12-21T06:56:50.538Z"
   },
   {
    "duration": 8,
    "start_time": "2021-12-21T06:56:50.552Z"
   },
   {
    "duration": 55,
    "start_time": "2021-12-21T06:56:50.562Z"
   },
   {
    "duration": 10,
    "start_time": "2021-12-21T06:56:50.618Z"
   },
   {
    "duration": 5,
    "start_time": "2021-12-21T06:56:50.630Z"
   },
   {
    "duration": 9,
    "start_time": "2021-12-21T06:56:50.637Z"
   },
   {
    "duration": 5,
    "start_time": "2021-12-21T06:56:50.648Z"
   },
   {
    "duration": 38,
    "start_time": "2021-12-21T06:56:50.655Z"
   },
   {
    "duration": 42,
    "start_time": "2021-12-21T06:56:50.695Z"
   },
   {
    "duration": 9,
    "start_time": "2021-12-21T06:56:50.739Z"
   },
   {
    "duration": 9,
    "start_time": "2021-12-21T06:56:50.750Z"
   },
   {
    "duration": 33,
    "start_time": "2021-12-21T06:56:50.760Z"
   },
   {
    "duration": 59,
    "start_time": "2021-12-21T06:56:50.795Z"
   },
   {
    "duration": 9,
    "start_time": "2021-12-21T06:56:50.856Z"
   },
   {
    "duration": 30,
    "start_time": "2021-12-21T06:56:50.890Z"
   },
   {
    "duration": 8,
    "start_time": "2021-12-21T06:56:50.921Z"
   },
   {
    "duration": 60,
    "start_time": "2021-12-21T06:56:50.931Z"
   },
   {
    "duration": 10,
    "start_time": "2021-12-21T06:56:50.993Z"
   },
   {
    "duration": 21,
    "start_time": "2021-12-21T06:56:51.005Z"
   },
   {
    "duration": 7,
    "start_time": "2021-12-21T06:56:51.028Z"
   },
   {
    "duration": 67,
    "start_time": "2021-12-21T06:56:51.036Z"
   },
   {
    "duration": 8,
    "start_time": "2021-12-21T06:56:51.104Z"
   },
   {
    "duration": 21,
    "start_time": "2021-12-21T06:56:51.114Z"
   },
   {
    "duration": 6,
    "start_time": "2021-12-21T06:56:51.137Z"
   },
   {
    "duration": 138,
    "start_time": "2021-12-21T06:56:51.145Z"
   },
   {
    "duration": 22,
    "start_time": "2021-12-21T06:56:51.285Z"
   },
   {
    "duration": 6,
    "start_time": "2021-12-21T06:56:51.309Z"
   },
   {
    "duration": 5,
    "start_time": "2021-12-21T06:56:51.317Z"
   },
   {
    "duration": 13,
    "start_time": "2021-12-21T06:56:51.324Z"
   },
   {
    "duration": 6,
    "start_time": "2021-12-21T06:56:51.339Z"
   },
   {
    "duration": 5,
    "start_time": "2021-12-21T06:56:51.347Z"
   },
   {
    "duration": 263,
    "start_time": "2021-12-21T06:56:51.353Z"
   },
   {
    "duration": 9,
    "start_time": "2021-12-21T06:56:51.618Z"
   },
   {
    "duration": 349,
    "start_time": "2021-12-21T06:56:51.629Z"
   },
   {
    "duration": 414,
    "start_time": "2021-12-21T06:56:51.979Z"
   },
   {
    "duration": 397,
    "start_time": "2021-12-21T06:56:52.394Z"
   },
   {
    "duration": 4,
    "start_time": "2021-12-21T06:56:52.793Z"
   },
   {
    "duration": 8,
    "start_time": "2021-12-21T06:56:52.799Z"
   },
   {
    "duration": 7,
    "start_time": "2021-12-21T06:56:52.809Z"
   },
   {
    "duration": 5,
    "start_time": "2021-12-21T06:56:52.818Z"
   },
   {
    "duration": 380,
    "start_time": "2021-12-21T06:56:52.825Z"
   },
   {
    "duration": 5,
    "start_time": "2021-12-21T06:56:53.207Z"
   },
   {
    "duration": 6,
    "start_time": "2021-12-21T06:56:53.214Z"
   },
   {
    "duration": 7,
    "start_time": "2021-12-21T06:56:53.221Z"
   },
   {
    "duration": 7,
    "start_time": "2021-12-21T06:56:53.230Z"
   },
   {
    "duration": 373,
    "start_time": "2021-12-21T06:56:53.243Z"
   },
   {
    "duration": 4,
    "start_time": "2021-12-21T06:56:53.618Z"
   },
   {
    "duration": 7,
    "start_time": "2021-12-21T06:56:53.624Z"
   },
   {
    "duration": 5,
    "start_time": "2021-12-21T06:56:53.632Z"
   },
   {
    "duration": 6,
    "start_time": "2021-12-21T06:56:53.638Z"
   },
   {
    "duration": 370,
    "start_time": "2021-12-21T06:56:53.645Z"
   },
   {
    "duration": 3,
    "start_time": "2021-12-21T06:56:54.017Z"
   },
   {
    "duration": 7,
    "start_time": "2021-12-21T06:56:54.022Z"
   },
   {
    "duration": 6,
    "start_time": "2021-12-21T06:56:54.030Z"
   },
   {
    "duration": 6,
    "start_time": "2021-12-21T06:56:54.037Z"
   },
   {
    "duration": 368,
    "start_time": "2021-12-21T06:56:54.044Z"
   },
   {
    "duration": 4,
    "start_time": "2021-12-21T06:56:54.414Z"
   },
   {
    "duration": 6,
    "start_time": "2021-12-21T06:56:54.420Z"
   },
   {
    "duration": 7,
    "start_time": "2021-12-21T06:56:54.427Z"
   },
   {
    "duration": 6,
    "start_time": "2021-12-21T06:56:54.436Z"
   },
   {
    "duration": 457,
    "start_time": "2021-12-21T06:56:54.444Z"
   },
   {
    "duration": 4,
    "start_time": "2021-12-21T06:56:54.902Z"
   },
   {
    "duration": 6,
    "start_time": "2021-12-21T06:56:54.908Z"
   },
   {
    "duration": 5,
    "start_time": "2021-12-21T06:56:54.915Z"
   },
   {
    "duration": 7,
    "start_time": "2021-12-21T06:56:54.922Z"
   },
   {
    "duration": 366,
    "start_time": "2021-12-21T06:56:54.930Z"
   },
   {
    "duration": 4,
    "start_time": "2021-12-21T06:56:55.298Z"
   },
   {
    "duration": 6,
    "start_time": "2021-12-21T06:56:55.303Z"
   },
   {
    "duration": 10,
    "start_time": "2021-12-21T06:56:55.311Z"
   },
   {
    "duration": 6,
    "start_time": "2021-12-21T06:56:55.323Z"
   },
   {
    "duration": 355,
    "start_time": "2021-12-21T06:56:55.331Z"
   },
   {
    "duration": 4,
    "start_time": "2021-12-21T06:56:55.692Z"
   },
   {
    "duration": 6,
    "start_time": "2021-12-21T06:56:55.698Z"
   },
   {
    "duration": 5,
    "start_time": "2021-12-21T06:56:55.705Z"
   },
   {
    "duration": 9,
    "start_time": "2021-12-21T06:56:55.711Z"
   },
   {
    "duration": 5,
    "start_time": "2021-12-21T06:56:55.722Z"
   },
   {
    "duration": 10,
    "start_time": "2021-12-21T06:56:55.729Z"
   },
   {
    "duration": 5,
    "start_time": "2021-12-21T06:56:55.741Z"
   },
   {
    "duration": 63,
    "start_time": "2021-12-21T06:58:23.946Z"
   },
   {
    "duration": 5,
    "start_time": "2021-12-21T06:59:01.093Z"
   },
   {
    "duration": 7,
    "start_time": "2021-12-21T06:59:20.928Z"
   },
   {
    "duration": 6,
    "start_time": "2021-12-21T06:59:34.640Z"
   },
   {
    "duration": 15,
    "start_time": "2021-12-21T06:59:43.405Z"
   },
   {
    "duration": 8,
    "start_time": "2021-12-21T06:59:48.283Z"
   },
   {
    "duration": 15,
    "start_time": "2021-12-21T07:00:57.579Z"
   },
   {
    "duration": 30,
    "start_time": "2021-12-21T07:01:06.081Z"
   },
   {
    "duration": 8,
    "start_time": "2021-12-21T07:01:11.975Z"
   },
   {
    "duration": 11,
    "start_time": "2021-12-21T07:01:16.313Z"
   },
   {
    "duration": 9,
    "start_time": "2021-12-21T07:01:20.359Z"
   },
   {
    "duration": 12,
    "start_time": "2021-12-21T07:01:25.260Z"
   },
   {
    "duration": 8,
    "start_time": "2021-12-21T07:01:29.555Z"
   },
   {
    "duration": 66,
    "start_time": "2021-12-21T07:01:35.566Z"
   },
   {
    "duration": 8,
    "start_time": "2021-12-21T07:01:39.377Z"
   },
   {
    "duration": 215,
    "start_time": "2021-12-21T07:01:47.981Z"
   },
   {
    "duration": 6,
    "start_time": "2021-12-21T07:01:55.624Z"
   },
   {
    "duration": 10,
    "start_time": "2021-12-21T07:02:19.979Z"
   },
   {
    "duration": 6,
    "start_time": "2021-12-21T07:02:32.779Z"
   },
   {
    "duration": 16,
    "start_time": "2021-12-21T07:02:46.702Z"
   },
   {
    "duration": 8,
    "start_time": "2021-12-21T07:02:54.563Z"
   },
   {
    "duration": 10,
    "start_time": "2021-12-21T07:03:04.994Z"
   },
   {
    "duration": 8,
    "start_time": "2021-12-21T07:04:37.317Z"
   },
   {
    "duration": 4,
    "start_time": "2021-12-21T07:04:50.325Z"
   },
   {
    "duration": 56,
    "start_time": "2021-12-21T07:05:26.634Z"
   },
   {
    "duration": 64,
    "start_time": "2021-12-21T07:06:27.082Z"
   },
   {
    "duration": 12,
    "start_time": "2021-12-21T07:06:41.324Z"
   },
   {
    "duration": 11,
    "start_time": "2021-12-21T07:06:49.693Z"
   },
   {
    "duration": 9,
    "start_time": "2021-12-21T07:07:07.212Z"
   },
   {
    "duration": 7,
    "start_time": "2021-12-21T07:07:16.728Z"
   },
   {
    "duration": 7,
    "start_time": "2021-12-21T07:07:27.526Z"
   },
   {
    "duration": 7,
    "start_time": "2021-12-21T07:07:41.433Z"
   },
   {
    "duration": 8,
    "start_time": "2021-12-21T07:07:50.768Z"
   },
   {
    "duration": 7,
    "start_time": "2021-12-21T07:07:58.982Z"
   },
   {
    "duration": 331,
    "start_time": "2021-12-21T07:12:42.629Z"
   },
   {
    "duration": 341,
    "start_time": "2021-12-21T07:12:57.592Z"
   },
   {
    "duration": 1083,
    "start_time": "2021-12-21T07:13:09.187Z"
   },
   {
    "duration": 5,
    "start_time": "2021-12-21T07:13:37.091Z"
   },
   {
    "duration": 5,
    "start_time": "2021-12-21T07:13:45.643Z"
   },
   {
    "duration": 5,
    "start_time": "2021-12-21T07:13:55.792Z"
   },
   {
    "duration": 4,
    "start_time": "2021-12-21T07:14:06.798Z"
   },
   {
    "duration": 5,
    "start_time": "2021-12-21T07:14:17.414Z"
   },
   {
    "duration": 5,
    "start_time": "2021-12-21T07:14:23.958Z"
   },
   {
    "duration": 5,
    "start_time": "2021-12-21T07:14:30.553Z"
   },
   {
    "duration": 5,
    "start_time": "2021-12-21T07:14:38.358Z"
   },
   {
    "duration": 4,
    "start_time": "2021-12-21T07:14:50.245Z"
   },
   {
    "duration": 5,
    "start_time": "2021-12-21T07:14:58.388Z"
   },
   {
    "duration": 4,
    "start_time": "2021-12-21T07:15:05.235Z"
   },
   {
    "duration": 5,
    "start_time": "2021-12-21T07:15:13.532Z"
   },
   {
    "duration": 60,
    "start_time": "2021-12-21T07:16:02.799Z"
   },
   {
    "duration": 500,
    "start_time": "2021-12-21T07:16:39.864Z"
   },
   {
    "duration": 345,
    "start_time": "2021-12-21T07:16:48.166Z"
   },
   {
    "duration": 344,
    "start_time": "2021-12-21T07:16:58.629Z"
   },
   {
    "duration": 4,
    "start_time": "2021-12-21T07:17:42.244Z"
   },
   {
    "duration": 5,
    "start_time": "2021-12-21T07:17:49.728Z"
   },
   {
    "duration": 5,
    "start_time": "2021-12-21T07:17:55.770Z"
   },
   {
    "duration": 4,
    "start_time": "2021-12-21T07:18:02.873Z"
   },
   {
    "duration": 359,
    "start_time": "2021-12-21T07:18:13.475Z"
   },
   {
    "duration": 4,
    "start_time": "2021-12-21T07:18:26.086Z"
   },
   {
    "duration": 4,
    "start_time": "2021-12-21T07:18:33.486Z"
   },
   {
    "duration": 6,
    "start_time": "2021-12-21T07:18:39.091Z"
   },
   {
    "duration": 5,
    "start_time": "2021-12-21T07:18:48.170Z"
   },
   {
    "duration": 342,
    "start_time": "2021-12-21T07:19:02.725Z"
   },
   {
    "duration": 4,
    "start_time": "2021-12-21T07:19:12.293Z"
   },
   {
    "duration": 5,
    "start_time": "2021-12-21T07:19:19.551Z"
   },
   {
    "duration": 5,
    "start_time": "2021-12-21T07:19:58.315Z"
   },
   {
    "duration": 4,
    "start_time": "2021-12-21T07:20:05.158Z"
   },
   {
    "duration": 334,
    "start_time": "2021-12-21T07:20:15.581Z"
   },
   {
    "duration": 5,
    "start_time": "2021-12-21T07:20:27.633Z"
   },
   {
    "duration": 6,
    "start_time": "2021-12-21T07:20:34.202Z"
   },
   {
    "duration": 5,
    "start_time": "2021-12-21T07:20:40.501Z"
   },
   {
    "duration": 4,
    "start_time": "2021-12-21T07:20:47.878Z"
   },
   {
    "duration": 491,
    "start_time": "2021-12-21T07:20:54.809Z"
   },
   {
    "duration": 5,
    "start_time": "2021-12-21T07:21:02.301Z"
   },
   {
    "duration": 5,
    "start_time": "2021-12-21T07:25:09.540Z"
   },
   {
    "duration": 4,
    "start_time": "2021-12-21T07:25:17.124Z"
   },
   {
    "duration": 4,
    "start_time": "2021-12-21T07:25:25.472Z"
   },
   {
    "duration": 65,
    "start_time": "2021-12-21T07:25:40.192Z"
   },
   {
    "duration": 8,
    "start_time": "2021-12-21T07:26:10.272Z"
   },
   {
    "duration": 6,
    "start_time": "2021-12-21T07:26:24.392Z"
   },
   {
    "duration": 1010,
    "start_time": "2021-12-21T07:27:33.357Z"
   },
   {
    "duration": 428,
    "start_time": "2021-12-21T07:27:34.369Z"
   },
   {
    "duration": 12,
    "start_time": "2021-12-21T07:27:34.799Z"
   },
   {
    "duration": 11,
    "start_time": "2021-12-21T07:27:34.813Z"
   },
   {
    "duration": 28,
    "start_time": "2021-12-21T07:27:34.825Z"
   },
   {
    "duration": 8,
    "start_time": "2021-12-21T07:27:34.855Z"
   },
   {
    "duration": 27,
    "start_time": "2021-12-21T07:27:34.864Z"
   },
   {
    "duration": 29,
    "start_time": "2021-12-21T07:27:34.893Z"
   },
   {
    "duration": 6,
    "start_time": "2021-12-21T07:27:34.924Z"
   },
   {
    "duration": 19,
    "start_time": "2021-12-21T07:27:34.932Z"
   },
   {
    "duration": 10,
    "start_time": "2021-12-21T07:27:34.952Z"
   },
   {
    "duration": 41,
    "start_time": "2021-12-21T07:27:34.963Z"
   },
   {
    "duration": 12,
    "start_time": "2021-12-21T07:27:35.005Z"
   },
   {
    "duration": 27,
    "start_time": "2021-12-21T07:27:35.018Z"
   },
   {
    "duration": 16,
    "start_time": "2021-12-21T07:27:35.047Z"
   },
   {
    "duration": 13,
    "start_time": "2021-12-21T07:27:35.065Z"
   },
   {
    "duration": 17,
    "start_time": "2021-12-21T07:27:35.079Z"
   },
   {
    "duration": 15,
    "start_time": "2021-12-21T07:27:35.098Z"
   },
   {
    "duration": 18,
    "start_time": "2021-12-21T07:27:35.114Z"
   },
   {
    "duration": 9,
    "start_time": "2021-12-21T07:27:35.133Z"
   },
   {
    "duration": 29,
    "start_time": "2021-12-21T07:27:35.143Z"
   },
   {
    "duration": 52,
    "start_time": "2021-12-21T07:27:35.174Z"
   },
   {
    "duration": 12,
    "start_time": "2021-12-21T07:27:35.231Z"
   },
   {
    "duration": 8,
    "start_time": "2021-12-21T07:27:35.246Z"
   },
   {
    "duration": 55,
    "start_time": "2021-12-21T07:27:35.255Z"
   },
   {
    "duration": 8,
    "start_time": "2021-12-21T07:27:35.311Z"
   },
   {
    "duration": 7,
    "start_time": "2021-12-21T07:27:35.321Z"
   },
   {
    "duration": 12,
    "start_time": "2021-12-21T07:27:35.330Z"
   },
   {
    "duration": 11,
    "start_time": "2021-12-21T07:27:35.343Z"
   },
   {
    "duration": 12,
    "start_time": "2021-12-21T07:27:35.355Z"
   },
   {
    "duration": 50,
    "start_time": "2021-12-21T07:27:35.368Z"
   },
   {
    "duration": 11,
    "start_time": "2021-12-21T07:27:35.420Z"
   },
   {
    "duration": 7,
    "start_time": "2021-12-21T07:27:35.432Z"
   },
   {
    "duration": 8,
    "start_time": "2021-12-21T07:27:35.440Z"
   },
   {
    "duration": 85,
    "start_time": "2021-12-21T07:27:35.450Z"
   },
   {
    "duration": 8,
    "start_time": "2021-12-21T07:27:35.537Z"
   },
   {
    "duration": 48,
    "start_time": "2021-12-21T07:27:35.547Z"
   },
   {
    "duration": 11,
    "start_time": "2021-12-21T07:27:35.598Z"
   },
   {
    "duration": 46,
    "start_time": "2021-12-21T07:27:35.611Z"
   },
   {
    "duration": 9,
    "start_time": "2021-12-21T07:27:35.658Z"
   },
   {
    "duration": 34,
    "start_time": "2021-12-21T07:27:35.668Z"
   },
   {
    "duration": 6,
    "start_time": "2021-12-21T07:27:35.704Z"
   },
   {
    "duration": 48,
    "start_time": "2021-12-21T07:27:35.712Z"
   },
   {
    "duration": 9,
    "start_time": "2021-12-21T07:27:35.761Z"
   },
   {
    "duration": 41,
    "start_time": "2021-12-21T07:27:35.771Z"
   },
   {
    "duration": 7,
    "start_time": "2021-12-21T07:27:35.814Z"
   },
   {
    "duration": 128,
    "start_time": "2021-12-21T07:27:35.823Z"
   },
   {
    "duration": 23,
    "start_time": "2021-12-21T07:27:35.952Z"
   },
   {
    "duration": 18,
    "start_time": "2021-12-21T07:27:35.977Z"
   },
   {
    "duration": 7,
    "start_time": "2021-12-21T07:27:35.997Z"
   },
   {
    "duration": 18,
    "start_time": "2021-12-21T07:27:36.005Z"
   },
   {
    "duration": 9,
    "start_time": "2021-12-21T07:27:36.024Z"
   },
   {
    "duration": 10,
    "start_time": "2021-12-21T07:27:36.034Z"
   },
   {
    "duration": 236,
    "start_time": "2021-12-21T07:27:36.046Z"
   },
   {
    "duration": 14,
    "start_time": "2021-12-21T07:27:36.283Z"
   },
   {
    "duration": 342,
    "start_time": "2021-12-21T07:27:36.299Z"
   },
   {
    "duration": 338,
    "start_time": "2021-12-21T07:27:36.642Z"
   },
   {
    "duration": 440,
    "start_time": "2021-12-21T07:27:36.982Z"
   },
   {
    "duration": 4,
    "start_time": "2021-12-21T07:27:37.423Z"
   },
   {
    "duration": 9,
    "start_time": "2021-12-21T07:27:37.429Z"
   },
   {
    "duration": 6,
    "start_time": "2021-12-21T07:27:37.439Z"
   },
   {
    "duration": 6,
    "start_time": "2021-12-21T07:27:37.446Z"
   },
   {
    "duration": 426,
    "start_time": "2021-12-21T07:27:37.454Z"
   },
   {
    "duration": 4,
    "start_time": "2021-12-21T07:27:37.882Z"
   },
   {
    "duration": 9,
    "start_time": "2021-12-21T07:27:37.888Z"
   },
   {
    "duration": 6,
    "start_time": "2021-12-21T07:27:37.898Z"
   },
   {
    "duration": 6,
    "start_time": "2021-12-21T07:27:37.905Z"
   },
   {
    "duration": 383,
    "start_time": "2021-12-21T07:27:37.916Z"
   },
   {
    "duration": 4,
    "start_time": "2021-12-21T07:27:38.301Z"
   },
   {
    "duration": 14,
    "start_time": "2021-12-21T07:27:38.306Z"
   },
   {
    "duration": 9,
    "start_time": "2021-12-21T07:27:38.321Z"
   },
   {
    "duration": 10,
    "start_time": "2021-12-21T07:27:38.332Z"
   },
   {
    "duration": 376,
    "start_time": "2021-12-21T07:27:38.344Z"
   },
   {
    "duration": 4,
    "start_time": "2021-12-21T07:27:38.722Z"
   },
   {
    "duration": 8,
    "start_time": "2021-12-21T07:27:38.728Z"
   },
   {
    "duration": 9,
    "start_time": "2021-12-21T07:27:38.737Z"
   },
   {
    "duration": 8,
    "start_time": "2021-12-21T07:27:38.747Z"
   },
   {
    "duration": 368,
    "start_time": "2021-12-21T07:27:38.757Z"
   },
   {
    "duration": 4,
    "start_time": "2021-12-21T07:27:39.126Z"
   },
   {
    "duration": 8,
    "start_time": "2021-12-21T07:27:39.132Z"
   },
   {
    "duration": 12,
    "start_time": "2021-12-21T07:27:39.141Z"
   },
   {
    "duration": 9,
    "start_time": "2021-12-21T07:27:39.154Z"
   },
   {
    "duration": 360,
    "start_time": "2021-12-21T07:27:39.165Z"
   },
   {
    "duration": 4,
    "start_time": "2021-12-21T07:27:39.527Z"
   },
   {
    "duration": 7,
    "start_time": "2021-12-21T07:27:39.533Z"
   },
   {
    "duration": 7,
    "start_time": "2021-12-21T07:27:39.542Z"
   },
   {
    "duration": 7,
    "start_time": "2021-12-21T07:27:39.550Z"
   },
   {
    "duration": 445,
    "start_time": "2021-12-21T07:27:39.558Z"
   },
   {
    "duration": 5,
    "start_time": "2021-12-21T07:27:40.005Z"
   },
   {
    "duration": 13,
    "start_time": "2021-12-21T07:27:40.012Z"
   },
   {
    "duration": 13,
    "start_time": "2021-12-21T07:27:40.026Z"
   },
   {
    "duration": 19,
    "start_time": "2021-12-21T07:27:40.040Z"
   },
   {
    "duration": 354,
    "start_time": "2021-12-21T07:27:40.060Z"
   },
   {
    "duration": 4,
    "start_time": "2021-12-21T07:27:40.416Z"
   },
   {
    "duration": 13,
    "start_time": "2021-12-21T07:27:40.421Z"
   },
   {
    "duration": 15,
    "start_time": "2021-12-21T07:27:40.436Z"
   },
   {
    "duration": 10,
    "start_time": "2021-12-21T07:27:40.452Z"
   },
   {
    "duration": 16,
    "start_time": "2021-12-21T07:27:40.463Z"
   },
   {
    "duration": 22,
    "start_time": "2021-12-21T07:27:40.481Z"
   },
   {
    "duration": 10,
    "start_time": "2021-12-21T07:27:40.504Z"
   },
   {
    "duration": 11,
    "start_time": "2021-12-21T07:28:12.372Z"
   },
   {
    "duration": 947,
    "start_time": "2021-12-21T07:28:23.726Z"
   },
   {
    "duration": 412,
    "start_time": "2021-12-21T07:28:24.675Z"
   },
   {
    "duration": 13,
    "start_time": "2021-12-21T07:28:25.091Z"
   },
   {
    "duration": 13,
    "start_time": "2021-12-21T07:28:25.106Z"
   },
   {
    "duration": 20,
    "start_time": "2021-12-21T07:28:25.121Z"
   },
   {
    "duration": 8,
    "start_time": "2021-12-21T07:28:25.142Z"
   },
   {
    "duration": 20,
    "start_time": "2021-12-21T07:28:25.153Z"
   },
   {
    "duration": 38,
    "start_time": "2021-12-21T07:28:25.175Z"
   },
   {
    "duration": 6,
    "start_time": "2021-12-21T07:28:25.215Z"
   },
   {
    "duration": 18,
    "start_time": "2021-12-21T07:28:25.223Z"
   },
   {
    "duration": 8,
    "start_time": "2021-12-21T07:28:25.242Z"
   },
   {
    "duration": 40,
    "start_time": "2021-12-21T07:28:25.252Z"
   },
   {
    "duration": 7,
    "start_time": "2021-12-21T07:28:25.294Z"
   },
   {
    "duration": 8,
    "start_time": "2021-12-21T07:28:25.303Z"
   },
   {
    "duration": 6,
    "start_time": "2021-12-21T07:28:25.312Z"
   },
   {
    "duration": 5,
    "start_time": "2021-12-21T07:28:25.319Z"
   },
   {
    "duration": 11,
    "start_time": "2021-12-21T07:28:25.325Z"
   },
   {
    "duration": 7,
    "start_time": "2021-12-21T07:28:25.337Z"
   },
   {
    "duration": 9,
    "start_time": "2021-12-21T07:28:25.345Z"
   },
   {
    "duration": 37,
    "start_time": "2021-12-21T07:28:25.355Z"
   },
   {
    "duration": 22,
    "start_time": "2021-12-21T07:28:25.393Z"
   },
   {
    "duration": 48,
    "start_time": "2021-12-21T07:28:25.419Z"
   },
   {
    "duration": 27,
    "start_time": "2021-12-21T07:28:25.470Z"
   },
   {
    "duration": 7,
    "start_time": "2021-12-21T07:28:25.499Z"
   },
   {
    "duration": 28,
    "start_time": "2021-12-21T07:28:25.508Z"
   },
   {
    "duration": 7,
    "start_time": "2021-12-21T07:28:25.537Z"
   },
   {
    "duration": 5,
    "start_time": "2021-12-21T07:28:25.546Z"
   },
   {
    "duration": 9,
    "start_time": "2021-12-21T07:28:25.552Z"
   },
   {
    "duration": 31,
    "start_time": "2021-12-21T07:28:25.562Z"
   },
   {
    "duration": 5,
    "start_time": "2021-12-21T07:28:25.595Z"
   },
   {
    "duration": 36,
    "start_time": "2021-12-21T07:28:25.601Z"
   },
   {
    "duration": 10,
    "start_time": "2021-12-21T07:28:25.639Z"
   },
   {
    "duration": 6,
    "start_time": "2021-12-21T07:28:25.651Z"
   },
   {
    "duration": 33,
    "start_time": "2021-12-21T07:28:25.659Z"
   },
   {
    "duration": 59,
    "start_time": "2021-12-21T07:28:25.694Z"
   },
   {
    "duration": 8,
    "start_time": "2021-12-21T07:28:25.755Z"
   },
   {
    "duration": 47,
    "start_time": "2021-12-21T07:28:25.765Z"
   },
   {
    "duration": 7,
    "start_time": "2021-12-21T07:28:25.813Z"
   },
   {
    "duration": 40,
    "start_time": "2021-12-21T07:28:25.822Z"
   },
   {
    "duration": 9,
    "start_time": "2021-12-21T07:28:25.863Z"
   },
   {
    "duration": 37,
    "start_time": "2021-12-21T07:28:25.874Z"
   },
   {
    "duration": 8,
    "start_time": "2021-12-21T07:28:25.912Z"
   },
   {
    "duration": 46,
    "start_time": "2021-12-21T07:28:25.922Z"
   },
   {
    "duration": 10,
    "start_time": "2021-12-21T07:28:25.992Z"
   },
   {
    "duration": 22,
    "start_time": "2021-12-21T07:28:26.004Z"
   },
   {
    "duration": 8,
    "start_time": "2021-12-21T07:28:26.028Z"
   },
   {
    "duration": 135,
    "start_time": "2021-12-21T07:28:26.037Z"
   },
   {
    "duration": 32,
    "start_time": "2021-12-21T07:28:26.174Z"
   },
   {
    "duration": 7,
    "start_time": "2021-12-21T07:28:26.208Z"
   },
   {
    "duration": 4,
    "start_time": "2021-12-21T07:28:26.217Z"
   },
   {
    "duration": 12,
    "start_time": "2021-12-21T07:28:26.223Z"
   },
   {
    "duration": 9,
    "start_time": "2021-12-21T07:28:26.236Z"
   },
   {
    "duration": 6,
    "start_time": "2021-12-21T07:28:26.246Z"
   },
   {
    "duration": 254,
    "start_time": "2021-12-21T07:28:26.254Z"
   },
   {
    "duration": 10,
    "start_time": "2021-12-21T07:28:26.510Z"
   },
   {
    "duration": 355,
    "start_time": "2021-12-21T07:28:26.522Z"
   },
   {
    "duration": 331,
    "start_time": "2021-12-21T07:28:26.879Z"
   },
   {
    "duration": 412,
    "start_time": "2021-12-21T07:28:27.212Z"
   },
   {
    "duration": 5,
    "start_time": "2021-12-21T07:28:27.626Z"
   },
   {
    "duration": 7,
    "start_time": "2021-12-21T07:28:27.633Z"
   },
   {
    "duration": 6,
    "start_time": "2021-12-21T07:28:27.641Z"
   },
   {
    "duration": 4,
    "start_time": "2021-12-21T07:28:27.649Z"
   },
   {
    "duration": 374,
    "start_time": "2021-12-21T07:28:27.655Z"
   },
   {
    "duration": 5,
    "start_time": "2021-12-21T07:28:28.031Z"
   },
   {
    "duration": 5,
    "start_time": "2021-12-21T07:28:28.039Z"
   },
   {
    "duration": 18,
    "start_time": "2021-12-21T07:28:28.046Z"
   },
   {
    "duration": 20,
    "start_time": "2021-12-21T07:28:28.072Z"
   },
   {
    "duration": 363,
    "start_time": "2021-12-21T07:28:28.094Z"
   },
   {
    "duration": 4,
    "start_time": "2021-12-21T07:28:28.458Z"
   },
   {
    "duration": 6,
    "start_time": "2021-12-21T07:28:28.464Z"
   },
   {
    "duration": 21,
    "start_time": "2021-12-21T07:28:28.471Z"
   },
   {
    "duration": 4,
    "start_time": "2021-12-21T07:28:28.493Z"
   },
   {
    "duration": 353,
    "start_time": "2021-12-21T07:28:28.499Z"
   },
   {
    "duration": 4,
    "start_time": "2021-12-21T07:28:28.853Z"
   },
   {
    "duration": 6,
    "start_time": "2021-12-21T07:28:28.859Z"
   },
   {
    "duration": 5,
    "start_time": "2021-12-21T07:28:28.867Z"
   },
   {
    "duration": 20,
    "start_time": "2021-12-21T07:28:28.873Z"
   },
   {
    "duration": 339,
    "start_time": "2021-12-21T07:28:28.895Z"
   },
   {
    "duration": 4,
    "start_time": "2021-12-21T07:28:29.235Z"
   },
   {
    "duration": 7,
    "start_time": "2021-12-21T07:28:29.241Z"
   },
   {
    "duration": 6,
    "start_time": "2021-12-21T07:28:29.249Z"
   },
   {
    "duration": 6,
    "start_time": "2021-12-21T07:28:29.257Z"
   },
   {
    "duration": 363,
    "start_time": "2021-12-21T07:28:29.264Z"
   },
   {
    "duration": 4,
    "start_time": "2021-12-21T07:28:29.629Z"
   },
   {
    "duration": 6,
    "start_time": "2021-12-21T07:28:29.635Z"
   },
   {
    "duration": 5,
    "start_time": "2021-12-21T07:28:29.642Z"
   },
   {
    "duration": 6,
    "start_time": "2021-12-21T07:28:29.649Z"
   },
   {
    "duration": 439,
    "start_time": "2021-12-21T07:28:29.656Z"
   },
   {
    "duration": 4,
    "start_time": "2021-12-21T07:28:30.096Z"
   },
   {
    "duration": 10,
    "start_time": "2021-12-21T07:28:30.102Z"
   },
   {
    "duration": 8,
    "start_time": "2021-12-21T07:28:30.114Z"
   },
   {
    "duration": 8,
    "start_time": "2021-12-21T07:28:30.123Z"
   },
   {
    "duration": 363,
    "start_time": "2021-12-21T07:28:30.133Z"
   },
   {
    "duration": 4,
    "start_time": "2021-12-21T07:28:30.498Z"
   },
   {
    "duration": 15,
    "start_time": "2021-12-21T07:28:30.504Z"
   },
   {
    "duration": 8,
    "start_time": "2021-12-21T07:28:30.521Z"
   },
   {
    "duration": 12,
    "start_time": "2021-12-21T07:28:30.530Z"
   },
   {
    "duration": 8,
    "start_time": "2021-12-21T07:28:30.543Z"
   },
   {
    "duration": 14,
    "start_time": "2021-12-21T07:28:30.553Z"
   },
   {
    "duration": 9,
    "start_time": "2021-12-21T07:28:30.568Z"
   },
   {
    "duration": 7,
    "start_time": "2021-12-21T07:29:01.647Z"
   },
   {
    "duration": 15,
    "start_time": "2021-12-21T07:29:04.911Z"
   },
   {
    "duration": 8,
    "start_time": "2021-12-21T07:29:11.489Z"
   },
   {
    "duration": 14,
    "start_time": "2021-12-21T07:29:17.554Z"
   },
   {
    "duration": 30,
    "start_time": "2021-12-21T07:32:00.324Z"
   },
   {
    "duration": 8,
    "start_time": "2021-12-21T07:32:10.293Z"
   },
   {
    "duration": 11,
    "start_time": "2021-12-21T07:32:16.203Z"
   },
   {
    "duration": 9,
    "start_time": "2021-12-21T07:42:42.589Z"
   },
   {
    "duration": 12,
    "start_time": "2021-12-21T07:42:49.388Z"
   },
   {
    "duration": 4527,
    "start_time": "2021-12-21T07:46:32.314Z"
   },
   {
    "duration": 4289,
    "start_time": "2021-12-21T07:46:53.128Z"
   },
   {
    "duration": 1068,
    "start_time": "2021-12-21T07:47:07.396Z"
   },
   {
    "duration": 423,
    "start_time": "2021-12-21T07:47:08.466Z"
   },
   {
    "duration": 13,
    "start_time": "2021-12-21T07:47:08.892Z"
   },
   {
    "duration": 8,
    "start_time": "2021-12-21T07:47:08.907Z"
   },
   {
    "duration": 14,
    "start_time": "2021-12-21T07:47:08.917Z"
   },
   {
    "duration": 8,
    "start_time": "2021-12-21T07:47:08.933Z"
   },
   {
    "duration": 53,
    "start_time": "2021-12-21T07:47:08.943Z"
   },
   {
    "duration": 28,
    "start_time": "2021-12-21T07:47:08.999Z"
   },
   {
    "duration": 6,
    "start_time": "2021-12-21T07:47:09.030Z"
   },
   {
    "duration": 18,
    "start_time": "2021-12-21T07:47:09.038Z"
   },
   {
    "duration": 34,
    "start_time": "2021-12-21T07:47:09.058Z"
   },
   {
    "duration": 19,
    "start_time": "2021-12-21T07:47:09.094Z"
   },
   {
    "duration": 10,
    "start_time": "2021-12-21T07:47:09.114Z"
   },
   {
    "duration": 8,
    "start_time": "2021-12-21T07:47:09.125Z"
   },
   {
    "duration": 6,
    "start_time": "2021-12-21T07:47:09.134Z"
   },
   {
    "duration": 8,
    "start_time": "2021-12-21T07:47:09.141Z"
   },
   {
    "duration": 41,
    "start_time": "2021-12-21T07:47:09.151Z"
   },
   {
    "duration": 6,
    "start_time": "2021-12-21T07:47:09.194Z"
   },
   {
    "duration": 9,
    "start_time": "2021-12-21T07:47:09.201Z"
   },
   {
    "duration": 6,
    "start_time": "2021-12-21T07:47:09.212Z"
   },
   {
    "duration": 24,
    "start_time": "2021-12-21T07:47:09.220Z"
   },
   {
    "duration": 70,
    "start_time": "2021-12-21T07:47:09.245Z"
   },
   {
    "duration": 14,
    "start_time": "2021-12-21T07:47:09.319Z"
   },
   {
    "duration": 25,
    "start_time": "2021-12-21T07:47:09.336Z"
   },
   {
    "duration": 50,
    "start_time": "2021-12-21T07:47:09.363Z"
   },
   {
    "duration": 9,
    "start_time": "2021-12-21T07:47:09.415Z"
   },
   {
    "duration": 13,
    "start_time": "2021-12-21T07:47:09.425Z"
   },
   {
    "duration": 24,
    "start_time": "2021-12-21T07:47:09.440Z"
   },
   {
    "duration": 21,
    "start_time": "2021-12-21T07:47:09.466Z"
   },
   {
    "duration": 17,
    "start_time": "2021-12-21T07:47:09.489Z"
   },
   {
    "duration": 44,
    "start_time": "2021-12-21T07:47:09.508Z"
   },
   {
    "duration": 11,
    "start_time": "2021-12-21T07:47:09.554Z"
   },
   {
    "duration": 8,
    "start_time": "2021-12-21T07:47:09.567Z"
   },
   {
    "duration": 12,
    "start_time": "2021-12-21T07:47:09.577Z"
   },
   {
    "duration": 80,
    "start_time": "2021-12-21T07:47:09.591Z"
   },
   {
    "duration": 8,
    "start_time": "2021-12-21T07:47:09.673Z"
   },
   {
    "duration": 29,
    "start_time": "2021-12-21T07:47:09.683Z"
   },
   {
    "duration": 9,
    "start_time": "2021-12-21T07:47:09.713Z"
   },
   {
    "duration": 41,
    "start_time": "2021-12-21T07:47:09.723Z"
   },
   {
    "duration": 8,
    "start_time": "2021-12-21T07:47:09.765Z"
   },
   {
    "duration": 18,
    "start_time": "2021-12-21T07:47:09.791Z"
   },
   {
    "duration": 6,
    "start_time": "2021-12-21T07:47:09.811Z"
   },
   {
    "duration": 43,
    "start_time": "2021-12-21T07:47:09.819Z"
   },
   {
    "duration": 7,
    "start_time": "2021-12-21T07:47:09.864Z"
   },
   {
    "duration": 27,
    "start_time": "2021-12-21T07:47:09.892Z"
   },
   {
    "duration": 7,
    "start_time": "2021-12-21T07:47:09.920Z"
   },
   {
    "duration": 126,
    "start_time": "2021-12-21T07:47:09.928Z"
   },
   {
    "duration": 23,
    "start_time": "2021-12-21T07:47:10.056Z"
   },
   {
    "duration": 13,
    "start_time": "2021-12-21T07:47:10.081Z"
   },
   {
    "duration": 5,
    "start_time": "2021-12-21T07:47:10.096Z"
   },
   {
    "duration": 13,
    "start_time": "2021-12-21T07:47:10.103Z"
   },
   {
    "duration": 8,
    "start_time": "2021-12-21T07:47:10.117Z"
   },
   {
    "duration": 5,
    "start_time": "2021-12-21T07:47:10.126Z"
   },
   {
    "duration": 258,
    "start_time": "2021-12-21T07:47:10.133Z"
   },
   {
    "duration": 9,
    "start_time": "2021-12-21T07:47:10.393Z"
   },
   {
    "duration": 351,
    "start_time": "2021-12-21T07:47:10.403Z"
   },
   {
    "duration": 340,
    "start_time": "2021-12-21T07:47:10.756Z"
   },
   {
    "duration": 427,
    "start_time": "2021-12-21T07:47:11.098Z"
   },
   {
    "duration": 4,
    "start_time": "2021-12-21T07:47:11.527Z"
   },
   {
    "duration": 12,
    "start_time": "2021-12-21T07:47:11.533Z"
   },
   {
    "duration": 15,
    "start_time": "2021-12-21T07:47:11.546Z"
   },
   {
    "duration": 29,
    "start_time": "2021-12-21T07:47:11.562Z"
   },
   {
    "duration": 368,
    "start_time": "2021-12-21T07:47:11.593Z"
   },
   {
    "duration": 4,
    "start_time": "2021-12-21T07:47:11.963Z"
   },
   {
    "duration": 6,
    "start_time": "2021-12-21T07:47:11.969Z"
   },
   {
    "duration": 18,
    "start_time": "2021-12-21T07:47:11.976Z"
   },
   {
    "duration": 6,
    "start_time": "2021-12-21T07:47:11.996Z"
   },
   {
    "duration": 356,
    "start_time": "2021-12-21T07:47:12.007Z"
   },
   {
    "duration": 5,
    "start_time": "2021-12-21T07:47:12.365Z"
   },
   {
    "duration": 7,
    "start_time": "2021-12-21T07:47:12.371Z"
   },
   {
    "duration": 4,
    "start_time": "2021-12-21T07:47:12.391Z"
   },
   {
    "duration": 7,
    "start_time": "2021-12-21T07:47:12.397Z"
   },
   {
    "duration": 355,
    "start_time": "2021-12-21T07:47:12.406Z"
   },
   {
    "duration": 4,
    "start_time": "2021-12-21T07:47:12.762Z"
   },
   {
    "duration": 7,
    "start_time": "2021-12-21T07:47:12.767Z"
   },
   {
    "duration": 18,
    "start_time": "2021-12-21T07:47:12.776Z"
   },
   {
    "duration": 13,
    "start_time": "2021-12-21T07:47:12.795Z"
   },
   {
    "duration": 360,
    "start_time": "2021-12-21T07:47:12.809Z"
   },
   {
    "duration": 5,
    "start_time": "2021-12-21T07:47:13.170Z"
   },
   {
    "duration": 17,
    "start_time": "2021-12-21T07:47:13.177Z"
   },
   {
    "duration": 8,
    "start_time": "2021-12-21T07:47:13.196Z"
   },
   {
    "duration": 9,
    "start_time": "2021-12-21T07:47:13.205Z"
   },
   {
    "duration": 383,
    "start_time": "2021-12-21T07:47:13.216Z"
   },
   {
    "duration": 4,
    "start_time": "2021-12-21T07:47:13.601Z"
   },
   {
    "duration": 25,
    "start_time": "2021-12-21T07:47:13.606Z"
   },
   {
    "duration": 19,
    "start_time": "2021-12-21T07:47:13.633Z"
   },
   {
    "duration": 28,
    "start_time": "2021-12-21T07:47:13.653Z"
   },
   {
    "duration": 442,
    "start_time": "2021-12-21T07:47:13.683Z"
   },
   {
    "duration": 4,
    "start_time": "2021-12-21T07:47:14.127Z"
   },
   {
    "duration": 5,
    "start_time": "2021-12-21T07:47:14.133Z"
   },
   {
    "duration": 5,
    "start_time": "2021-12-21T07:47:14.140Z"
   },
   {
    "duration": 6,
    "start_time": "2021-12-21T07:47:14.147Z"
   },
   {
    "duration": 369,
    "start_time": "2021-12-21T07:47:14.155Z"
   },
   {
    "duration": 5,
    "start_time": "2021-12-21T07:47:14.526Z"
   },
   {
    "duration": 12,
    "start_time": "2021-12-21T07:47:14.533Z"
   },
   {
    "duration": 8,
    "start_time": "2021-12-21T07:47:14.546Z"
   },
   {
    "duration": 6,
    "start_time": "2021-12-21T07:47:14.555Z"
   },
   {
    "duration": 6,
    "start_time": "2021-12-21T07:47:14.562Z"
   },
   {
    "duration": 30,
    "start_time": "2021-12-21T07:47:14.570Z"
   },
   {
    "duration": 5,
    "start_time": "2021-12-21T07:47:14.602Z"
   },
   {
    "duration": 28,
    "start_time": "2021-12-21T07:56:41.761Z"
   },
   {
    "duration": 16,
    "start_time": "2021-12-21T07:57:48.251Z"
   },
   {
    "duration": 6,
    "start_time": "2021-12-21T07:59:57.363Z"
   },
   {
    "duration": 8,
    "start_time": "2021-12-21T08:00:41.551Z"
   },
   {
    "duration": 8,
    "start_time": "2021-12-21T08:01:58.141Z"
   },
   {
    "duration": 8,
    "start_time": "2021-12-21T08:02:00.887Z"
   },
   {
    "duration": 61,
    "start_time": "2021-12-21T08:03:29.585Z"
   },
   {
    "duration": 60,
    "start_time": "2021-12-21T08:10:12.694Z"
   },
   {
    "duration": 4668,
    "start_time": "2021-12-21T08:15:44.047Z"
   },
   {
    "duration": 1098,
    "start_time": "2021-12-21T08:16:05.164Z"
   },
   {
    "duration": 400,
    "start_time": "2021-12-21T08:16:06.264Z"
   },
   {
    "duration": 13,
    "start_time": "2021-12-21T08:16:06.666Z"
   },
   {
    "duration": 11,
    "start_time": "2021-12-21T08:16:06.681Z"
   },
   {
    "duration": 17,
    "start_time": "2021-12-21T08:16:06.694Z"
   },
   {
    "duration": 8,
    "start_time": "2021-12-21T08:16:06.713Z"
   },
   {
    "duration": 22,
    "start_time": "2021-12-21T08:16:06.722Z"
   },
   {
    "duration": 55,
    "start_time": "2021-12-21T08:16:06.746Z"
   },
   {
    "duration": 7,
    "start_time": "2021-12-21T08:16:06.803Z"
   },
   {
    "duration": 37,
    "start_time": "2021-12-21T08:16:06.811Z"
   },
   {
    "duration": 26,
    "start_time": "2021-12-21T08:16:06.849Z"
   },
   {
    "duration": 35,
    "start_time": "2021-12-21T08:16:06.877Z"
   },
   {
    "duration": 8,
    "start_time": "2021-12-21T08:16:06.914Z"
   },
   {
    "duration": 31,
    "start_time": "2021-12-21T08:16:06.924Z"
   },
   {
    "duration": 24,
    "start_time": "2021-12-21T08:16:06.957Z"
   },
   {
    "duration": 12,
    "start_time": "2021-12-21T08:16:06.983Z"
   },
   {
    "duration": 20,
    "start_time": "2021-12-21T08:16:06.997Z"
   },
   {
    "duration": 20,
    "start_time": "2021-12-21T08:16:07.019Z"
   },
   {
    "duration": 22,
    "start_time": "2021-12-21T08:16:07.040Z"
   },
   {
    "duration": 15,
    "start_time": "2021-12-21T08:16:07.064Z"
   },
   {
    "duration": 40,
    "start_time": "2021-12-21T08:16:07.081Z"
   },
   {
    "duration": 49,
    "start_time": "2021-12-21T08:16:07.123Z"
   },
   {
    "duration": 21,
    "start_time": "2021-12-21T08:16:07.175Z"
   },
   {
    "duration": 7,
    "start_time": "2021-12-21T08:16:07.198Z"
   },
   {
    "duration": 35,
    "start_time": "2021-12-21T08:16:07.206Z"
   },
   {
    "duration": 7,
    "start_time": "2021-12-21T08:16:07.242Z"
   },
   {
    "duration": 7,
    "start_time": "2021-12-21T08:16:07.251Z"
   },
   {
    "duration": 7,
    "start_time": "2021-12-21T08:16:07.259Z"
   },
   {
    "duration": 27,
    "start_time": "2021-12-21T08:16:07.267Z"
   },
   {
    "duration": 5,
    "start_time": "2021-12-21T08:16:07.295Z"
   },
   {
    "duration": 296,
    "start_time": "2021-12-21T08:16:07.302Z"
   },
   {
    "duration": -452,
    "start_time": "2021-12-21T08:16:08.052Z"
   },
   {
    "duration": -461,
    "start_time": "2021-12-21T08:16:08.062Z"
   },
   {
    "duration": -470,
    "start_time": "2021-12-21T08:16:08.072Z"
   },
   {
    "duration": -478,
    "start_time": "2021-12-21T08:16:08.081Z"
   },
   {
    "duration": -507,
    "start_time": "2021-12-21T08:16:08.111Z"
   },
   {
    "duration": -515,
    "start_time": "2021-12-21T08:16:08.120Z"
   },
   {
    "duration": -524,
    "start_time": "2021-12-21T08:16:08.130Z"
   },
   {
    "duration": -532,
    "start_time": "2021-12-21T08:16:08.139Z"
   },
   {
    "duration": -542,
    "start_time": "2021-12-21T08:16:08.149Z"
   },
   {
    "duration": -551,
    "start_time": "2021-12-21T08:16:08.159Z"
   },
   {
    "duration": -560,
    "start_time": "2021-12-21T08:16:08.169Z"
   },
   {
    "duration": -567,
    "start_time": "2021-12-21T08:16:08.178Z"
   },
   {
    "duration": -575,
    "start_time": "2021-12-21T08:16:08.187Z"
   },
   {
    "duration": -584,
    "start_time": "2021-12-21T08:16:08.197Z"
   },
   {
    "duration": -593,
    "start_time": "2021-12-21T08:16:08.207Z"
   },
   {
    "duration": -617,
    "start_time": "2021-12-21T08:16:08.232Z"
   },
   {
    "duration": -627,
    "start_time": "2021-12-21T08:16:08.243Z"
   },
   {
    "duration": -634,
    "start_time": "2021-12-21T08:16:08.251Z"
   },
   {
    "duration": -646,
    "start_time": "2021-12-21T08:16:08.264Z"
   },
   {
    "duration": -654,
    "start_time": "2021-12-21T08:16:08.273Z"
   },
   {
    "duration": -662,
    "start_time": "2021-12-21T08:16:08.283Z"
   },
   {
    "duration": -674,
    "start_time": "2021-12-21T08:16:08.296Z"
   },
   {
    "duration": -684,
    "start_time": "2021-12-21T08:16:08.307Z"
   },
   {
    "duration": -692,
    "start_time": "2021-12-21T08:16:08.316Z"
   },
   {
    "duration": -701,
    "start_time": "2021-12-21T08:16:08.326Z"
   },
   {
    "duration": -724,
    "start_time": "2021-12-21T08:16:08.350Z"
   },
   {
    "duration": -735,
    "start_time": "2021-12-21T08:16:08.362Z"
   },
   {
    "duration": -743,
    "start_time": "2021-12-21T08:16:08.371Z"
   },
   {
    "duration": -752,
    "start_time": "2021-12-21T08:16:08.381Z"
   },
   {
    "duration": -760,
    "start_time": "2021-12-21T08:16:08.390Z"
   },
   {
    "duration": -801,
    "start_time": "2021-12-21T08:16:08.432Z"
   },
   {
    "duration": -809,
    "start_time": "2021-12-21T08:16:08.441Z"
   },
   {
    "duration": -834,
    "start_time": "2021-12-21T08:16:08.467Z"
   },
   {
    "duration": -843,
    "start_time": "2021-12-21T08:16:08.477Z"
   },
   {
    "duration": -851,
    "start_time": "2021-12-21T08:16:08.486Z"
   },
   {
    "duration": -860,
    "start_time": "2021-12-21T08:16:08.496Z"
   },
   {
    "duration": -868,
    "start_time": "2021-12-21T08:16:08.505Z"
   },
   {
    "duration": -877,
    "start_time": "2021-12-21T08:16:08.514Z"
   },
   {
    "duration": -887,
    "start_time": "2021-12-21T08:16:08.525Z"
   },
   {
    "duration": -895,
    "start_time": "2021-12-21T08:16:08.533Z"
   },
   {
    "duration": -853,
    "start_time": "2021-12-21T08:16:08.544Z"
   },
   {
    "duration": -859,
    "start_time": "2021-12-21T08:16:08.552Z"
   },
   {
    "duration": -885,
    "start_time": "2021-12-21T08:16:08.579Z"
   },
   {
    "duration": -907,
    "start_time": "2021-12-21T08:16:08.602Z"
   },
   {
    "duration": -916,
    "start_time": "2021-12-21T08:16:08.612Z"
   },
   {
    "duration": -923,
    "start_time": "2021-12-21T08:16:08.621Z"
   },
   {
    "duration": -932,
    "start_time": "2021-12-21T08:16:08.631Z"
   },
   {
    "duration": -945,
    "start_time": "2021-12-21T08:16:08.645Z"
   },
   {
    "duration": -953,
    "start_time": "2021-12-21T08:16:08.654Z"
   },
   {
    "duration": -958,
    "start_time": "2021-12-21T08:16:08.663Z"
   },
   {
    "duration": -967,
    "start_time": "2021-12-21T08:16:08.673Z"
   },
   {
    "duration": -990,
    "start_time": "2021-12-21T08:16:08.697Z"
   },
   {
    "duration": -1000,
    "start_time": "2021-12-21T08:16:08.709Z"
   },
   {
    "duration": -1007,
    "start_time": "2021-12-21T08:16:08.717Z"
   },
   {
    "duration": -1016,
    "start_time": "2021-12-21T08:16:08.727Z"
   },
   {
    "duration": -1024,
    "start_time": "2021-12-21T08:16:08.736Z"
   },
   {
    "duration": -1032,
    "start_time": "2021-12-21T08:16:08.746Z"
   },
   {
    "duration": -1040,
    "start_time": "2021-12-21T08:16:08.755Z"
   },
   {
    "duration": -1049,
    "start_time": "2021-12-21T08:16:08.765Z"
   },
   {
    "duration": -1099,
    "start_time": "2021-12-21T08:16:08.816Z"
   },
   {
    "duration": -1109,
    "start_time": "2021-12-21T08:16:08.827Z"
   },
   {
    "duration": -1116,
    "start_time": "2021-12-21T08:16:08.835Z"
   },
   {
    "duration": -1126,
    "start_time": "2021-12-21T08:16:08.846Z"
   },
   {
    "duration": -1134,
    "start_time": "2021-12-21T08:16:08.854Z"
   },
   {
    "duration": -1143,
    "start_time": "2021-12-21T08:16:08.864Z"
   },
   {
    "duration": -1151,
    "start_time": "2021-12-21T08:16:08.873Z"
   },
   {
    "duration": -1160,
    "start_time": "2021-12-21T08:16:08.883Z"
   },
   {
    "duration": -1169,
    "start_time": "2021-12-21T08:16:08.893Z"
   },
   {
    "duration": -1177,
    "start_time": "2021-12-21T08:16:08.902Z"
   },
   {
    "duration": 190,
    "start_time": "2021-12-21T08:17:18.565Z"
   },
   {
    "duration": 233,
    "start_time": "2021-12-21T08:17:54.606Z"
   },
   {
    "duration": 9,
    "start_time": "2021-12-21T08:18:18.406Z"
   },
   {
    "duration": 212,
    "start_time": "2021-12-21T08:18:57.290Z"
   },
   {
    "duration": 64,
    "start_time": "2021-12-21T08:19:07.132Z"
   },
   {
    "duration": 10,
    "start_time": "2021-12-21T08:19:16.345Z"
   },
   {
    "duration": 11,
    "start_time": "2021-12-21T08:19:43.802Z"
   },
   {
    "duration": 7,
    "start_time": "2021-12-21T08:19:45.869Z"
   },
   {
    "duration": 8,
    "start_time": "2021-12-21T08:19:48.775Z"
   },
   {
    "duration": 472,
    "start_time": "2021-12-21T08:25:02.449Z"
   },
   {
    "duration": 1132,
    "start_time": "2021-12-21T08:25:30.642Z"
   },
   {
    "duration": 411,
    "start_time": "2021-12-21T08:25:31.776Z"
   },
   {
    "duration": 14,
    "start_time": "2021-12-21T08:25:32.189Z"
   },
   {
    "duration": 11,
    "start_time": "2021-12-21T08:25:32.205Z"
   },
   {
    "duration": 17,
    "start_time": "2021-12-21T08:25:32.218Z"
   },
   {
    "duration": 8,
    "start_time": "2021-12-21T08:25:32.236Z"
   },
   {
    "duration": 26,
    "start_time": "2021-12-21T08:25:32.246Z"
   },
   {
    "duration": 31,
    "start_time": "2021-12-21T08:25:32.293Z"
   },
   {
    "duration": 8,
    "start_time": "2021-12-21T08:25:32.327Z"
   },
   {
    "duration": 28,
    "start_time": "2021-12-21T08:25:32.337Z"
   },
   {
    "duration": 8,
    "start_time": "2021-12-21T08:25:32.367Z"
   },
   {
    "duration": 17,
    "start_time": "2021-12-21T08:25:32.391Z"
   },
   {
    "duration": 7,
    "start_time": "2021-12-21T08:25:32.410Z"
   },
   {
    "duration": 9,
    "start_time": "2021-12-21T08:25:32.419Z"
   },
   {
    "duration": 6,
    "start_time": "2021-12-21T08:25:32.429Z"
   },
   {
    "duration": 5,
    "start_time": "2021-12-21T08:25:32.437Z"
   },
   {
    "duration": 13,
    "start_time": "2021-12-21T08:25:32.444Z"
   },
   {
    "duration": 37,
    "start_time": "2021-12-21T08:25:32.459Z"
   },
   {
    "duration": 10,
    "start_time": "2021-12-21T08:25:32.497Z"
   },
   {
    "duration": 4,
    "start_time": "2021-12-21T08:25:32.509Z"
   },
   {
    "duration": 22,
    "start_time": "2021-12-21T08:25:32.515Z"
   },
   {
    "duration": 80,
    "start_time": "2021-12-21T08:25:32.539Z"
   },
   {
    "duration": 11,
    "start_time": "2021-12-21T08:25:32.622Z"
   },
   {
    "duration": 7,
    "start_time": "2021-12-21T08:25:32.636Z"
   },
   {
    "duration": 55,
    "start_time": "2021-12-21T08:25:32.644Z"
   },
   {
    "duration": 7,
    "start_time": "2021-12-21T08:25:32.701Z"
   },
   {
    "duration": 5,
    "start_time": "2021-12-21T08:25:32.709Z"
   },
   {
    "duration": 6,
    "start_time": "2021-12-21T08:25:32.716Z"
   },
   {
    "duration": 5,
    "start_time": "2021-12-21T08:25:32.724Z"
   },
   {
    "duration": 5,
    "start_time": "2021-12-21T08:25:32.731Z"
   },
   {
    "duration": 76,
    "start_time": "2021-12-21T08:25:32.737Z"
   },
   {
    "duration": 10,
    "start_time": "2021-12-21T08:25:32.815Z"
   },
   {
    "duration": 7,
    "start_time": "2021-12-21T08:25:32.826Z"
   },
   {
    "duration": 6,
    "start_time": "2021-12-21T08:25:32.835Z"
   },
   {
    "duration": 76,
    "start_time": "2021-12-21T08:25:32.843Z"
   },
   {
    "duration": 9,
    "start_time": "2021-12-21T08:25:32.922Z"
   },
   {
    "duration": 28,
    "start_time": "2021-12-21T08:25:32.932Z"
   },
   {
    "duration": 8,
    "start_time": "2021-12-21T08:25:32.961Z"
   },
   {
    "duration": 50,
    "start_time": "2021-12-21T08:25:32.970Z"
   },
   {
    "duration": 8,
    "start_time": "2021-12-21T08:25:33.022Z"
   },
   {
    "duration": 19,
    "start_time": "2021-12-21T08:25:33.031Z"
   },
   {
    "duration": 7,
    "start_time": "2021-12-21T08:25:33.051Z"
   },
   {
    "duration": 68,
    "start_time": "2021-12-21T08:25:33.059Z"
   },
   {
    "duration": 8,
    "start_time": "2021-12-21T08:25:33.128Z"
   },
   {
    "duration": 21,
    "start_time": "2021-12-21T08:25:33.137Z"
   },
   {
    "duration": 7,
    "start_time": "2021-12-21T08:25:33.159Z"
   },
   {
    "duration": 130,
    "start_time": "2021-12-21T08:25:33.167Z"
   },
   {
    "duration": 23,
    "start_time": "2021-12-21T08:25:33.299Z"
   },
   {
    "duration": 6,
    "start_time": "2021-12-21T08:25:33.323Z"
   },
   {
    "duration": 5,
    "start_time": "2021-12-21T08:25:33.331Z"
   },
   {
    "duration": 15,
    "start_time": "2021-12-21T08:25:33.337Z"
   },
   {
    "duration": 7,
    "start_time": "2021-12-21T08:25:33.353Z"
   },
   {
    "duration": 5,
    "start_time": "2021-12-21T08:25:33.362Z"
   },
   {
    "duration": 257,
    "start_time": "2021-12-21T08:25:33.368Z"
   },
   {
    "duration": 9,
    "start_time": "2021-12-21T08:25:33.627Z"
   },
   {
    "duration": 343,
    "start_time": "2021-12-21T08:25:33.637Z"
   },
   {
    "duration": 334,
    "start_time": "2021-12-21T08:25:33.982Z"
   },
   {
    "duration": 420,
    "start_time": "2021-12-21T08:25:34.317Z"
   },
   {
    "duration": 4,
    "start_time": "2021-12-21T08:25:34.739Z"
   },
   {
    "duration": 9,
    "start_time": "2021-12-21T08:25:34.744Z"
   },
   {
    "duration": 5,
    "start_time": "2021-12-21T08:25:34.754Z"
   },
   {
    "duration": 5,
    "start_time": "2021-12-21T08:25:34.760Z"
   },
   {
    "duration": 363,
    "start_time": "2021-12-21T08:25:34.766Z"
   },
   {
    "duration": 3,
    "start_time": "2021-12-21T08:25:35.131Z"
   },
   {
    "duration": 7,
    "start_time": "2021-12-21T08:25:35.136Z"
   },
   {
    "duration": 5,
    "start_time": "2021-12-21T08:25:35.144Z"
   },
   {
    "duration": 5,
    "start_time": "2021-12-21T08:25:35.150Z"
   },
   {
    "duration": 377,
    "start_time": "2021-12-21T08:25:35.160Z"
   },
   {
    "duration": 4,
    "start_time": "2021-12-21T08:25:35.539Z"
   },
   {
    "duration": 8,
    "start_time": "2021-12-21T08:25:35.544Z"
   },
   {
    "duration": 9,
    "start_time": "2021-12-21T08:25:35.554Z"
   },
   {
    "duration": 9,
    "start_time": "2021-12-21T08:25:35.564Z"
   },
   {
    "duration": 362,
    "start_time": "2021-12-21T08:25:35.575Z"
   },
   {
    "duration": 4,
    "start_time": "2021-12-21T08:25:35.939Z"
   },
   {
    "duration": 6,
    "start_time": "2021-12-21T08:25:35.945Z"
   },
   {
    "duration": 8,
    "start_time": "2021-12-21T08:25:35.953Z"
   },
   {
    "duration": 5,
    "start_time": "2021-12-21T08:25:35.962Z"
   },
   {
    "duration": 356,
    "start_time": "2021-12-21T08:25:35.968Z"
   },
   {
    "duration": 4,
    "start_time": "2021-12-21T08:25:36.326Z"
   },
   {
    "duration": 17,
    "start_time": "2021-12-21T08:25:36.332Z"
   },
   {
    "duration": 28,
    "start_time": "2021-12-21T08:25:36.350Z"
   },
   {
    "duration": 27,
    "start_time": "2021-12-21T08:25:36.380Z"
   },
   {
    "duration": 345,
    "start_time": "2021-12-21T08:25:36.409Z"
   },
   {
    "duration": 5,
    "start_time": "2021-12-21T08:25:36.756Z"
   },
   {
    "duration": 5,
    "start_time": "2021-12-21T08:25:36.763Z"
   },
   {
    "duration": 22,
    "start_time": "2021-12-21T08:25:36.770Z"
   },
   {
    "duration": 6,
    "start_time": "2021-12-21T08:25:36.794Z"
   },
   {
    "duration": 432,
    "start_time": "2021-12-21T08:25:36.801Z"
   },
   {
    "duration": 5,
    "start_time": "2021-12-21T08:25:37.235Z"
   },
   {
    "duration": 6,
    "start_time": "2021-12-21T08:25:37.241Z"
   },
   {
    "duration": 5,
    "start_time": "2021-12-21T08:25:37.248Z"
   },
   {
    "duration": 6,
    "start_time": "2021-12-21T08:25:37.254Z"
   },
   {
    "duration": 399,
    "start_time": "2021-12-21T08:25:37.262Z"
   },
   {
    "duration": 4,
    "start_time": "2021-12-21T08:25:37.663Z"
   },
   {
    "duration": 8,
    "start_time": "2021-12-21T08:25:37.668Z"
   },
   {
    "duration": 15,
    "start_time": "2021-12-21T08:25:37.677Z"
   },
   {
    "duration": 5,
    "start_time": "2021-12-21T08:25:37.693Z"
   },
   {
    "duration": 11,
    "start_time": "2021-12-21T08:25:37.699Z"
   },
   {
    "duration": 29,
    "start_time": "2021-12-21T08:25:37.711Z"
   },
   {
    "duration": 18,
    "start_time": "2021-12-21T08:25:37.741Z"
   },
   {
    "duration": 266,
    "start_time": "2021-12-21T08:35:50.687Z"
   },
   {
    "duration": 3,
    "start_time": "2021-12-21T08:36:05.734Z"
   },
   {
    "duration": 405,
    "start_time": "2021-12-21T08:36:05.741Z"
   },
   {
    "duration": 9,
    "start_time": "2021-12-21T08:36:06.148Z"
   },
   {
    "duration": 10,
    "start_time": "2021-12-21T08:36:06.159Z"
   },
   {
    "duration": 23,
    "start_time": "2021-12-21T08:36:06.171Z"
   },
   {
    "duration": 7,
    "start_time": "2021-12-21T08:36:06.195Z"
   },
   {
    "duration": 21,
    "start_time": "2021-12-21T08:36:06.204Z"
   },
   {
    "duration": 24,
    "start_time": "2021-12-21T08:36:06.226Z"
   },
   {
    "duration": 7,
    "start_time": "2021-12-21T08:36:06.252Z"
   },
   {
    "duration": 41,
    "start_time": "2021-12-21T08:36:06.261Z"
   },
   {
    "duration": 8,
    "start_time": "2021-12-21T08:36:06.304Z"
   },
   {
    "duration": 18,
    "start_time": "2021-12-21T08:36:06.313Z"
   },
   {
    "duration": 7,
    "start_time": "2021-12-21T08:36:06.332Z"
   },
   {
    "duration": 7,
    "start_time": "2021-12-21T08:36:06.341Z"
   },
   {
    "duration": 43,
    "start_time": "2021-12-21T08:36:06.349Z"
   },
   {
    "duration": 4,
    "start_time": "2021-12-21T08:36:06.394Z"
   },
   {
    "duration": 15,
    "start_time": "2021-12-21T08:36:06.399Z"
   },
   {
    "duration": 10,
    "start_time": "2021-12-21T08:36:06.416Z"
   },
   {
    "duration": 8,
    "start_time": "2021-12-21T08:36:06.428Z"
   },
   {
    "duration": 7,
    "start_time": "2021-12-21T08:36:06.438Z"
   },
   {
    "duration": 45,
    "start_time": "2021-12-21T08:36:06.446Z"
   },
   {
    "duration": 49,
    "start_time": "2021-12-21T08:36:06.493Z"
   },
   {
    "duration": 11,
    "start_time": "2021-12-21T08:36:06.543Z"
   },
   {
    "duration": 33,
    "start_time": "2021-12-21T08:36:06.559Z"
   },
   {
    "duration": 27,
    "start_time": "2021-12-21T08:36:06.595Z"
   },
   {
    "duration": 8,
    "start_time": "2021-12-21T08:36:06.624Z"
   },
   {
    "duration": 5,
    "start_time": "2021-12-21T08:36:06.634Z"
   },
   {
    "duration": 9,
    "start_time": "2021-12-21T08:36:06.640Z"
   },
   {
    "duration": 40,
    "start_time": "2021-12-21T08:36:06.651Z"
   },
   {
    "duration": 7,
    "start_time": "2021-12-21T08:36:06.693Z"
   },
   {
    "duration": 35,
    "start_time": "2021-12-21T08:36:06.701Z"
   },
   {
    "duration": 10,
    "start_time": "2021-12-21T08:36:06.738Z"
   },
   {
    "duration": 6,
    "start_time": "2021-12-21T08:36:06.749Z"
   },
   {
    "duration": 35,
    "start_time": "2021-12-21T08:36:06.757Z"
   },
   {
    "duration": 56,
    "start_time": "2021-12-21T08:36:06.794Z"
   },
   {
    "duration": 11,
    "start_time": "2021-12-21T08:36:06.852Z"
   },
   {
    "duration": 53,
    "start_time": "2021-12-21T08:36:06.864Z"
   },
   {
    "duration": 7,
    "start_time": "2021-12-21T08:36:06.919Z"
   },
   {
    "duration": 55,
    "start_time": "2021-12-21T08:36:06.928Z"
   },
   {
    "duration": 24,
    "start_time": "2021-12-21T08:36:06.985Z"
   },
   {
    "duration": 29,
    "start_time": "2021-12-21T08:36:07.010Z"
   },
   {
    "duration": 17,
    "start_time": "2021-12-21T08:36:07.040Z"
   },
   {
    "duration": 67,
    "start_time": "2021-12-21T08:36:07.059Z"
   },
   {
    "duration": 14,
    "start_time": "2021-12-21T08:36:07.128Z"
   },
   {
    "duration": 41,
    "start_time": "2021-12-21T08:36:07.144Z"
   },
   {
    "duration": 8,
    "start_time": "2021-12-21T08:36:07.187Z"
   },
   {
    "duration": 120,
    "start_time": "2021-12-21T08:36:07.196Z"
   },
   {
    "duration": 27,
    "start_time": "2021-12-21T08:36:07.317Z"
   },
   {
    "duration": 7,
    "start_time": "2021-12-21T08:36:07.346Z"
   },
   {
    "duration": 5,
    "start_time": "2021-12-21T08:36:07.355Z"
   },
   {
    "duration": 33,
    "start_time": "2021-12-21T08:36:07.362Z"
   },
   {
    "duration": 7,
    "start_time": "2021-12-21T08:36:07.397Z"
   },
   {
    "duration": 7,
    "start_time": "2021-12-21T08:36:07.405Z"
   },
   {
    "duration": 261,
    "start_time": "2021-12-21T08:36:07.413Z"
   },
   {
    "duration": 16,
    "start_time": "2021-12-21T08:36:07.675Z"
   },
   {
    "duration": 344,
    "start_time": "2021-12-21T08:36:07.693Z"
   },
   {
    "duration": 434,
    "start_time": "2021-12-21T08:36:08.039Z"
   },
   {
    "duration": 357,
    "start_time": "2021-12-21T08:36:08.476Z"
   },
   {
    "duration": 4,
    "start_time": "2021-12-21T08:36:08.836Z"
   },
   {
    "duration": 11,
    "start_time": "2021-12-21T08:36:08.842Z"
   },
   {
    "duration": 6,
    "start_time": "2021-12-21T08:36:08.854Z"
   },
   {
    "duration": 6,
    "start_time": "2021-12-21T08:36:08.862Z"
   },
   {
    "duration": 369,
    "start_time": "2021-12-21T08:36:08.870Z"
   },
   {
    "duration": 4,
    "start_time": "2021-12-21T08:36:09.241Z"
   },
   {
    "duration": 8,
    "start_time": "2021-12-21T08:36:09.246Z"
   },
   {
    "duration": 9,
    "start_time": "2021-12-21T08:36:09.256Z"
   },
   {
    "duration": 5,
    "start_time": "2021-12-21T08:36:09.267Z"
   },
   {
    "duration": 362,
    "start_time": "2021-12-21T08:36:09.274Z"
   },
   {
    "duration": 4,
    "start_time": "2021-12-21T08:36:09.641Z"
   },
   {
    "duration": 23,
    "start_time": "2021-12-21T08:36:09.647Z"
   },
   {
    "duration": 25,
    "start_time": "2021-12-21T08:36:09.672Z"
   },
   {
    "duration": 17,
    "start_time": "2021-12-21T08:36:09.699Z"
   },
   {
    "duration": 360,
    "start_time": "2021-12-21T08:36:09.717Z"
   },
   {
    "duration": 4,
    "start_time": "2021-12-21T08:36:10.078Z"
   },
   {
    "duration": 5,
    "start_time": "2021-12-21T08:36:10.092Z"
   },
   {
    "duration": 7,
    "start_time": "2021-12-21T08:36:10.099Z"
   },
   {
    "duration": 10,
    "start_time": "2021-12-21T08:36:10.107Z"
   },
   {
    "duration": 363,
    "start_time": "2021-12-21T08:36:10.118Z"
   },
   {
    "duration": 10,
    "start_time": "2021-12-21T08:36:10.483Z"
   },
   {
    "duration": 6,
    "start_time": "2021-12-21T08:36:10.495Z"
   },
   {
    "duration": 8,
    "start_time": "2021-12-21T08:36:10.503Z"
   },
   {
    "duration": 8,
    "start_time": "2021-12-21T08:36:10.512Z"
   },
   {
    "duration": 469,
    "start_time": "2021-12-21T08:36:10.521Z"
   },
   {
    "duration": 4,
    "start_time": "2021-12-21T08:36:10.992Z"
   },
   {
    "duration": 12,
    "start_time": "2021-12-21T08:36:10.997Z"
   },
   {
    "duration": 5,
    "start_time": "2021-12-21T08:36:11.010Z"
   },
   {
    "duration": 8,
    "start_time": "2021-12-21T08:36:11.017Z"
   },
   {
    "duration": 361,
    "start_time": "2021-12-21T08:36:11.026Z"
   },
   {
    "duration": 4,
    "start_time": "2021-12-21T08:36:11.391Z"
   },
   {
    "duration": 7,
    "start_time": "2021-12-21T08:36:11.396Z"
   },
   {
    "duration": 4,
    "start_time": "2021-12-21T08:36:11.405Z"
   },
   {
    "duration": 6,
    "start_time": "2021-12-21T08:36:11.411Z"
   },
   {
    "duration": 347,
    "start_time": "2021-12-21T08:36:11.418Z"
   },
   {
    "duration": 4,
    "start_time": "2021-12-21T08:36:11.767Z"
   },
   {
    "duration": 19,
    "start_time": "2021-12-21T08:36:11.772Z"
   },
   {
    "duration": 3,
    "start_time": "2021-12-21T08:36:11.793Z"
   },
   {
    "duration": 8,
    "start_time": "2021-12-21T08:36:11.798Z"
   },
   {
    "duration": 5,
    "start_time": "2021-12-21T08:36:11.807Z"
   },
   {
    "duration": 9,
    "start_time": "2021-12-21T08:36:11.814Z"
   },
   {
    "duration": 5,
    "start_time": "2021-12-21T08:36:11.824Z"
   },
   {
    "duration": 62,
    "start_time": "2021-12-21T08:38:36.293Z"
   },
   {
    "duration": 62,
    "start_time": "2021-12-21T08:54:27.582Z"
   },
   {
    "duration": 57,
    "start_time": "2021-12-21T08:59:04.811Z"
   },
   {
    "duration": 58,
    "start_time": "2021-12-21T09:02:32.247Z"
   },
   {
    "duration": 59,
    "start_time": "2021-12-21T09:10:02.654Z"
   },
   {
    "duration": 62,
    "start_time": "2021-12-21T09:13:49.182Z"
   },
   {
    "duration": 68,
    "start_time": "2021-12-21T09:16:32.643Z"
   },
   {
    "duration": 60,
    "start_time": "2021-12-21T09:19:03.177Z"
   },
   {
    "duration": 59,
    "start_time": "2021-12-21T09:25:39.706Z"
   },
   {
    "duration": 56,
    "start_time": "2021-12-21T09:31:06.899Z"
   },
   {
    "duration": 58,
    "start_time": "2021-12-21T09:39:19.826Z"
   },
   {
    "duration": 77,
    "start_time": "2021-12-21T09:48:56.607Z"
   },
   {
    "duration": 9,
    "start_time": "2021-12-21T09:49:39.093Z"
   },
   {
    "duration": 60,
    "start_time": "2021-12-21T09:53:47.737Z"
   },
   {
    "duration": 1093,
    "start_time": "2021-12-21T10:03:15.669Z"
   },
   {
    "duration": 408,
    "start_time": "2021-12-21T10:03:16.764Z"
   },
   {
    "duration": 13,
    "start_time": "2021-12-21T10:03:17.174Z"
   },
   {
    "duration": 6,
    "start_time": "2021-12-21T10:03:17.189Z"
   },
   {
    "duration": 18,
    "start_time": "2021-12-21T10:03:17.196Z"
   },
   {
    "duration": 7,
    "start_time": "2021-12-21T10:03:17.216Z"
   },
   {
    "duration": 24,
    "start_time": "2021-12-21T10:03:17.224Z"
   },
   {
    "duration": 44,
    "start_time": "2021-12-21T10:03:17.250Z"
   },
   {
    "duration": 6,
    "start_time": "2021-12-21T10:03:17.296Z"
   },
   {
    "duration": 15,
    "start_time": "2021-12-21T10:03:17.304Z"
   },
   {
    "duration": 7,
    "start_time": "2021-12-21T10:03:17.321Z"
   },
   {
    "duration": 21,
    "start_time": "2021-12-21T10:03:17.330Z"
   },
   {
    "duration": 8,
    "start_time": "2021-12-21T10:03:17.352Z"
   },
   {
    "duration": 31,
    "start_time": "2021-12-21T10:03:17.361Z"
   },
   {
    "duration": 6,
    "start_time": "2021-12-21T10:03:17.394Z"
   },
   {
    "duration": 5,
    "start_time": "2021-12-21T10:03:17.401Z"
   },
   {
    "duration": 18,
    "start_time": "2021-12-21T10:03:17.407Z"
   },
   {
    "duration": 10,
    "start_time": "2021-12-21T10:03:17.426Z"
   },
   {
    "duration": 9,
    "start_time": "2021-12-21T10:03:17.438Z"
   },
   {
    "duration": 6,
    "start_time": "2021-12-21T10:03:17.448Z"
   },
   {
    "duration": 45,
    "start_time": "2021-12-21T10:03:17.455Z"
   },
   {
    "duration": 52,
    "start_time": "2021-12-21T10:03:17.502Z"
   },
   {
    "duration": 13,
    "start_time": "2021-12-21T10:03:17.560Z"
   },
   {
    "duration": 7,
    "start_time": "2021-12-21T10:03:17.592Z"
   },
   {
    "duration": 32,
    "start_time": "2021-12-21T10:03:17.601Z"
   },
   {
    "duration": 8,
    "start_time": "2021-12-21T10:03:17.634Z"
   },
   {
    "duration": 5,
    "start_time": "2021-12-21T10:03:17.644Z"
   },
   {
    "duration": 6,
    "start_time": "2021-12-21T10:03:17.651Z"
   },
   {
    "duration": 35,
    "start_time": "2021-12-21T10:03:17.659Z"
   },
   {
    "duration": 8,
    "start_time": "2021-12-21T10:03:17.695Z"
   },
   {
    "duration": 38,
    "start_time": "2021-12-21T10:03:17.704Z"
   },
   {
    "duration": 11,
    "start_time": "2021-12-21T10:03:17.744Z"
   },
   {
    "duration": 10,
    "start_time": "2021-12-21T10:03:17.757Z"
   },
   {
    "duration": 27,
    "start_time": "2021-12-21T10:03:17.769Z"
   },
   {
    "duration": 59,
    "start_time": "2021-12-21T10:03:17.797Z"
   },
   {
    "duration": 16,
    "start_time": "2021-12-21T10:03:17.857Z"
   },
   {
    "duration": 39,
    "start_time": "2021-12-21T10:03:17.874Z"
   },
   {
    "duration": 8,
    "start_time": "2021-12-21T10:03:17.914Z"
   },
   {
    "duration": 67,
    "start_time": "2021-12-21T10:03:17.924Z"
   },
   {
    "duration": 9,
    "start_time": "2021-12-21T10:03:17.993Z"
   },
   {
    "duration": 34,
    "start_time": "2021-12-21T10:03:18.003Z"
   },
   {
    "duration": 9,
    "start_time": "2021-12-21T10:03:18.039Z"
   },
   {
    "duration": 62,
    "start_time": "2021-12-21T10:03:18.050Z"
   },
   {
    "duration": 9,
    "start_time": "2021-12-21T10:03:18.113Z"
   },
   {
    "duration": 39,
    "start_time": "2021-12-21T10:03:18.124Z"
   },
   {
    "duration": 8,
    "start_time": "2021-12-21T10:03:18.165Z"
   },
   {
    "duration": 119,
    "start_time": "2021-12-21T10:03:18.175Z"
   },
   {
    "duration": 23,
    "start_time": "2021-12-21T10:03:18.295Z"
   },
   {
    "duration": 6,
    "start_time": "2021-12-21T10:03:18.320Z"
   },
   {
    "duration": 21,
    "start_time": "2021-12-21T10:03:18.327Z"
   },
   {
    "duration": 33,
    "start_time": "2021-12-21T10:03:18.349Z"
   },
   {
    "duration": 15,
    "start_time": "2021-12-21T10:03:18.383Z"
   },
   {
    "duration": 28,
    "start_time": "2021-12-21T10:03:18.399Z"
   },
   {
    "duration": 255,
    "start_time": "2021-12-21T10:03:18.429Z"
   },
   {
    "duration": 11,
    "start_time": "2021-12-21T10:03:18.686Z"
   },
   {
    "duration": 363,
    "start_time": "2021-12-21T10:03:18.699Z"
   },
   {
    "duration": 345,
    "start_time": "2021-12-21T10:03:19.063Z"
   },
   {
    "duration": 442,
    "start_time": "2021-12-21T10:03:19.410Z"
   },
   {
    "duration": 4,
    "start_time": "2021-12-21T10:03:19.854Z"
   },
   {
    "duration": 32,
    "start_time": "2021-12-21T10:03:19.859Z"
   },
   {
    "duration": 25,
    "start_time": "2021-12-21T10:03:19.893Z"
   },
   {
    "duration": 17,
    "start_time": "2021-12-21T10:03:19.920Z"
   },
   {
    "duration": 391,
    "start_time": "2021-12-21T10:03:19.939Z"
   },
   {
    "duration": 4,
    "start_time": "2021-12-21T10:03:20.332Z"
   },
   {
    "duration": 18,
    "start_time": "2021-12-21T10:03:20.337Z"
   },
   {
    "duration": 26,
    "start_time": "2021-12-21T10:03:20.357Z"
   },
   {
    "duration": 30,
    "start_time": "2021-12-21T10:03:20.384Z"
   },
   {
    "duration": 377,
    "start_time": "2021-12-21T10:03:20.419Z"
   },
   {
    "duration": 4,
    "start_time": "2021-12-21T10:03:20.798Z"
   },
   {
    "duration": 28,
    "start_time": "2021-12-21T10:03:20.804Z"
   },
   {
    "duration": 33,
    "start_time": "2021-12-21T10:03:20.834Z"
   },
   {
    "duration": 31,
    "start_time": "2021-12-21T10:03:20.868Z"
   },
   {
    "duration": 370,
    "start_time": "2021-12-21T10:03:20.901Z"
   },
   {
    "duration": 4,
    "start_time": "2021-12-21T10:03:21.273Z"
   },
   {
    "duration": 14,
    "start_time": "2021-12-21T10:03:21.279Z"
   },
   {
    "duration": 6,
    "start_time": "2021-12-21T10:03:21.295Z"
   },
   {
    "duration": 5,
    "start_time": "2021-12-21T10:03:21.303Z"
   },
   {
    "duration": 384,
    "start_time": "2021-12-21T10:03:21.310Z"
   },
   {
    "duration": 5,
    "start_time": "2021-12-21T10:03:21.696Z"
   },
   {
    "duration": 7,
    "start_time": "2021-12-21T10:03:21.703Z"
   },
   {
    "duration": 6,
    "start_time": "2021-12-21T10:03:21.712Z"
   },
   {
    "duration": 7,
    "start_time": "2021-12-21T10:03:21.719Z"
   },
   {
    "duration": 370,
    "start_time": "2021-12-21T10:03:21.727Z"
   },
   {
    "duration": 3,
    "start_time": "2021-12-21T10:03:22.099Z"
   },
   {
    "duration": 7,
    "start_time": "2021-12-21T10:03:22.104Z"
   },
   {
    "duration": 4,
    "start_time": "2021-12-21T10:03:22.113Z"
   },
   {
    "duration": 5,
    "start_time": "2021-12-21T10:03:22.119Z"
   },
   {
    "duration": 454,
    "start_time": "2021-12-21T10:03:22.126Z"
   },
   {
    "duration": 11,
    "start_time": "2021-12-21T10:03:22.582Z"
   },
   {
    "duration": 6,
    "start_time": "2021-12-21T10:03:22.595Z"
   },
   {
    "duration": 5,
    "start_time": "2021-12-21T10:03:22.603Z"
   },
   {
    "duration": 6,
    "start_time": "2021-12-21T10:03:22.610Z"
   },
   {
    "duration": 384,
    "start_time": "2021-12-21T10:03:22.617Z"
   },
   {
    "duration": 4,
    "start_time": "2021-12-21T10:03:23.002Z"
   },
   {
    "duration": 6,
    "start_time": "2021-12-21T10:03:23.008Z"
   },
   {
    "duration": 5,
    "start_time": "2021-12-21T10:03:23.015Z"
   },
   {
    "duration": 8,
    "start_time": "2021-12-21T10:03:23.022Z"
   },
   {
    "duration": 6,
    "start_time": "2021-12-21T10:03:23.031Z"
   },
   {
    "duration": 12,
    "start_time": "2021-12-21T10:03:23.038Z"
   },
   {
    "duration": 4,
    "start_time": "2021-12-21T10:03:23.051Z"
   },
   {
    "duration": 1094,
    "start_time": "2021-12-21T13:07:23.683Z"
   },
   {
    "duration": 404,
    "start_time": "2021-12-21T13:07:24.779Z"
   },
   {
    "duration": 11,
    "start_time": "2021-12-21T13:07:25.186Z"
   },
   {
    "duration": 8,
    "start_time": "2021-12-21T13:07:25.199Z"
   },
   {
    "duration": 15,
    "start_time": "2021-12-21T13:07:25.209Z"
   },
   {
    "duration": 7,
    "start_time": "2021-12-21T13:07:25.226Z"
   },
   {
    "duration": 22,
    "start_time": "2021-12-21T13:07:25.234Z"
   },
   {
    "duration": 25,
    "start_time": "2021-12-21T13:07:25.259Z"
   },
   {
    "duration": 23,
    "start_time": "2021-12-21T13:07:25.286Z"
   },
   {
    "duration": 15,
    "start_time": "2021-12-21T13:07:25.310Z"
   },
   {
    "duration": 7,
    "start_time": "2021-12-21T13:07:25.327Z"
   },
   {
    "duration": 17,
    "start_time": "2021-12-21T13:07:25.336Z"
   },
   {
    "duration": 7,
    "start_time": "2021-12-21T13:07:25.355Z"
   },
   {
    "duration": 8,
    "start_time": "2021-12-21T13:07:25.364Z"
   },
   {
    "duration": 4,
    "start_time": "2021-12-21T13:07:25.407Z"
   },
   {
    "duration": 5,
    "start_time": "2021-12-21T13:07:25.413Z"
   },
   {
    "duration": 11,
    "start_time": "2021-12-21T13:07:25.420Z"
   },
   {
    "duration": 9,
    "start_time": "2021-12-21T13:07:25.433Z"
   },
   {
    "duration": 14,
    "start_time": "2021-12-21T13:07:25.443Z"
   },
   {
    "duration": 13,
    "start_time": "2021-12-21T13:07:25.459Z"
   },
   {
    "duration": 27,
    "start_time": "2021-12-21T13:07:25.474Z"
   },
   {
    "duration": 52,
    "start_time": "2021-12-21T13:07:25.506Z"
   },
   {
    "duration": 12,
    "start_time": "2021-12-21T13:07:25.562Z"
   },
   {
    "duration": 7,
    "start_time": "2021-12-21T13:07:25.576Z"
   },
   {
    "duration": 49,
    "start_time": "2021-12-21T13:07:25.585Z"
   },
   {
    "duration": 7,
    "start_time": "2021-12-21T13:07:25.635Z"
   },
   {
    "duration": 4,
    "start_time": "2021-12-21T13:07:25.644Z"
   },
   {
    "duration": 14,
    "start_time": "2021-12-21T13:07:25.650Z"
   },
   {
    "duration": 7,
    "start_time": "2021-12-21T13:07:25.666Z"
   },
   {
    "duration": 8,
    "start_time": "2021-12-21T13:07:25.675Z"
   },
   {
    "duration": 57,
    "start_time": "2021-12-21T13:07:25.685Z"
   },
   {
    "duration": 10,
    "start_time": "2021-12-21T13:07:25.743Z"
   },
   {
    "duration": 6,
    "start_time": "2021-12-21T13:07:25.754Z"
   },
   {
    "duration": 7,
    "start_time": "2021-12-21T13:07:25.762Z"
   },
   {
    "duration": 81,
    "start_time": "2021-12-21T13:07:25.771Z"
   },
   {
    "duration": 8,
    "start_time": "2021-12-21T13:07:25.854Z"
   },
   {
    "duration": 42,
    "start_time": "2021-12-21T13:07:25.864Z"
   },
   {
    "duration": 8,
    "start_time": "2021-12-21T13:07:25.908Z"
   },
   {
    "duration": 37,
    "start_time": "2021-12-21T13:07:25.918Z"
   },
   {
    "duration": 7,
    "start_time": "2021-12-21T13:07:25.957Z"
   },
   {
    "duration": 19,
    "start_time": "2021-12-21T13:07:25.966Z"
   },
   {
    "duration": 25,
    "start_time": "2021-12-21T13:07:25.986Z"
   },
   {
    "duration": 43,
    "start_time": "2021-12-21T13:07:26.013Z"
   },
   {
    "duration": 8,
    "start_time": "2021-12-21T13:07:26.058Z"
   },
   {
    "duration": 45,
    "start_time": "2021-12-21T13:07:26.067Z"
   },
   {
    "duration": 6,
    "start_time": "2021-12-21T13:07:26.114Z"
   },
   {
    "duration": 114,
    "start_time": "2021-12-21T13:07:26.122Z"
   },
   {
    "duration": 26,
    "start_time": "2021-12-21T13:07:26.238Z"
   },
   {
    "duration": 6,
    "start_time": "2021-12-21T13:07:26.266Z"
   },
   {
    "duration": 5,
    "start_time": "2021-12-21T13:07:26.274Z"
   },
   {
    "duration": 31,
    "start_time": "2021-12-21T13:07:26.281Z"
   },
   {
    "duration": 7,
    "start_time": "2021-12-21T13:07:26.314Z"
   },
   {
    "duration": 8,
    "start_time": "2021-12-21T13:07:26.323Z"
   },
   {
    "duration": 251,
    "start_time": "2021-12-21T13:07:26.333Z"
   },
   {
    "duration": 14,
    "start_time": "2021-12-21T13:07:26.586Z"
   },
   {
    "duration": 321,
    "start_time": "2021-12-21T13:07:26.606Z"
   },
   {
    "duration": 322,
    "start_time": "2021-12-21T13:07:26.928Z"
   },
   {
    "duration": 397,
    "start_time": "2021-12-21T13:07:27.252Z"
   },
   {
    "duration": 9,
    "start_time": "2021-12-21T13:07:27.651Z"
   },
   {
    "duration": 20,
    "start_time": "2021-12-21T13:07:27.662Z"
   },
   {
    "duration": 5,
    "start_time": "2021-12-21T13:07:27.683Z"
   },
   {
    "duration": 8,
    "start_time": "2021-12-21T13:07:27.689Z"
   },
   {
    "duration": 322,
    "start_time": "2021-12-21T13:07:27.698Z"
   },
   {
    "duration": 5,
    "start_time": "2021-12-21T13:07:28.022Z"
   },
   {
    "duration": 7,
    "start_time": "2021-12-21T13:07:28.028Z"
   },
   {
    "duration": 8,
    "start_time": "2021-12-21T13:07:28.036Z"
   },
   {
    "duration": 11,
    "start_time": "2021-12-21T13:07:28.045Z"
   },
   {
    "duration": 351,
    "start_time": "2021-12-21T13:07:28.061Z"
   },
   {
    "duration": 4,
    "start_time": "2021-12-21T13:07:28.414Z"
   },
   {
    "duration": 6,
    "start_time": "2021-12-21T13:07:28.420Z"
   },
   {
    "duration": 5,
    "start_time": "2021-12-21T13:07:28.427Z"
   },
   {
    "duration": 5,
    "start_time": "2021-12-21T13:07:28.434Z"
   },
   {
    "duration": 355,
    "start_time": "2021-12-21T13:07:28.441Z"
   },
   {
    "duration": 9,
    "start_time": "2021-12-21T13:07:28.798Z"
   },
   {
    "duration": 4,
    "start_time": "2021-12-21T13:07:28.809Z"
   },
   {
    "duration": 8,
    "start_time": "2021-12-21T13:07:28.815Z"
   },
   {
    "duration": 10,
    "start_time": "2021-12-21T13:07:28.824Z"
   },
   {
    "duration": 331,
    "start_time": "2021-12-21T13:07:28.836Z"
   },
   {
    "duration": 4,
    "start_time": "2021-12-21T13:07:29.169Z"
   },
   {
    "duration": 8,
    "start_time": "2021-12-21T13:07:29.174Z"
   },
   {
    "duration": 8,
    "start_time": "2021-12-21T13:07:29.184Z"
   },
   {
    "duration": 15,
    "start_time": "2021-12-21T13:07:29.194Z"
   },
   {
    "duration": 327,
    "start_time": "2021-12-21T13:07:29.211Z"
   },
   {
    "duration": 4,
    "start_time": "2021-12-21T13:07:29.539Z"
   },
   {
    "duration": 7,
    "start_time": "2021-12-21T13:07:29.544Z"
   },
   {
    "duration": 7,
    "start_time": "2021-12-21T13:07:29.553Z"
   },
   {
    "duration": 6,
    "start_time": "2021-12-21T13:07:29.561Z"
   },
   {
    "duration": 419,
    "start_time": "2021-12-21T13:07:29.569Z"
   },
   {
    "duration": 4,
    "start_time": "2021-12-21T13:07:29.990Z"
   },
   {
    "duration": 4,
    "start_time": "2021-12-21T13:07:30.007Z"
   },
   {
    "duration": 8,
    "start_time": "2021-12-21T13:07:30.013Z"
   },
   {
    "duration": 6,
    "start_time": "2021-12-21T13:07:30.022Z"
   },
   {
    "duration": 339,
    "start_time": "2021-12-21T13:07:30.030Z"
   },
   {
    "duration": 5,
    "start_time": "2021-12-21T13:07:30.371Z"
   },
   {
    "duration": 17,
    "start_time": "2021-12-21T13:07:30.378Z"
   },
   {
    "duration": 14,
    "start_time": "2021-12-21T13:07:30.397Z"
   },
   {
    "duration": 21,
    "start_time": "2021-12-21T13:07:30.413Z"
   },
   {
    "duration": 14,
    "start_time": "2021-12-21T13:07:30.436Z"
   },
   {
    "duration": 22,
    "start_time": "2021-12-21T13:07:30.452Z"
   },
   {
    "duration": 19,
    "start_time": "2021-12-21T13:07:30.477Z"
   },
   {
    "duration": 6,
    "start_time": "2021-12-21T13:07:45.371Z"
   },
   {
    "duration": 339,
    "start_time": "2021-12-21T16:45:37.228Z"
   },
   {
    "duration": 2427,
    "start_time": "2021-12-21T16:46:06.334Z"
   },
   {
    "duration": 463,
    "start_time": "2021-12-21T16:46:08.764Z"
   },
   {
    "duration": 13,
    "start_time": "2021-12-21T16:46:09.229Z"
   },
   {
    "duration": 25,
    "start_time": "2021-12-21T16:46:09.244Z"
   },
   {
    "duration": 45,
    "start_time": "2021-12-21T16:46:09.271Z"
   },
   {
    "duration": 18,
    "start_time": "2021-12-21T16:46:09.318Z"
   },
   {
    "duration": 54,
    "start_time": "2021-12-21T16:46:09.338Z"
   },
   {
    "duration": 28,
    "start_time": "2021-12-21T16:46:09.396Z"
   },
   {
    "duration": 17,
    "start_time": "2021-12-21T16:46:09.427Z"
   },
   {
    "duration": 36,
    "start_time": "2021-12-21T16:46:09.446Z"
   },
   {
    "duration": 34,
    "start_time": "2021-12-21T16:46:09.484Z"
   },
   {
    "duration": 45,
    "start_time": "2021-12-21T16:46:09.520Z"
   },
   {
    "duration": 9,
    "start_time": "2021-12-21T16:46:09.567Z"
   },
   {
    "duration": 9,
    "start_time": "2021-12-21T16:46:09.578Z"
   },
   {
    "duration": 8,
    "start_time": "2021-12-21T16:46:09.589Z"
   },
   {
    "duration": 8,
    "start_time": "2021-12-21T16:46:09.599Z"
   },
   {
    "duration": 18,
    "start_time": "2021-12-21T16:46:09.609Z"
   },
   {
    "duration": 37,
    "start_time": "2021-12-21T16:46:09.629Z"
   },
   {
    "duration": 13,
    "start_time": "2021-12-21T16:46:09.669Z"
   },
   {
    "duration": 9,
    "start_time": "2021-12-21T16:46:09.684Z"
   },
   {
    "duration": 24,
    "start_time": "2021-12-21T16:46:09.695Z"
   },
   {
    "duration": 73,
    "start_time": "2021-12-21T16:46:09.721Z"
   },
   {
    "duration": 14,
    "start_time": "2021-12-21T16:46:09.799Z"
   },
   {
    "duration": 8,
    "start_time": "2021-12-21T16:46:09.815Z"
   },
   {
    "duration": 57,
    "start_time": "2021-12-21T16:46:09.826Z"
   },
   {
    "duration": 9,
    "start_time": "2021-12-21T16:46:09.885Z"
   },
   {
    "duration": 7,
    "start_time": "2021-12-21T16:46:09.896Z"
   },
   {
    "duration": 9,
    "start_time": "2021-12-21T16:46:09.905Z"
   },
   {
    "duration": 5,
    "start_time": "2021-12-21T16:46:09.916Z"
   },
   {
    "duration": 39,
    "start_time": "2021-12-21T16:46:09.922Z"
   },
   {
    "duration": 52,
    "start_time": "2021-12-21T16:46:09.964Z"
   },
   {
    "duration": 8,
    "start_time": "2021-12-21T16:46:10.018Z"
   },
   {
    "duration": 36,
    "start_time": "2021-12-21T16:46:10.028Z"
   },
   {
    "duration": 9,
    "start_time": "2021-12-21T16:46:10.067Z"
   },
   {
    "duration": 20,
    "start_time": "2021-12-21T16:46:10.078Z"
   },
   {
    "duration": 99,
    "start_time": "2021-12-21T16:46:10.099Z"
   },
   {
    "duration": 9,
    "start_time": "2021-12-21T16:46:10.200Z"
   },
   {
    "duration": 58,
    "start_time": "2021-12-21T16:46:10.211Z"
   },
   {
    "duration": 7,
    "start_time": "2021-12-21T16:46:10.271Z"
   },
   {
    "duration": 44,
    "start_time": "2021-12-21T16:46:10.280Z"
   },
   {
    "duration": 8,
    "start_time": "2021-12-21T16:46:10.326Z"
   },
   {
    "duration": 46,
    "start_time": "2021-12-21T16:46:10.336Z"
   },
   {
    "duration": 8,
    "start_time": "2021-12-21T16:46:10.384Z"
   },
   {
    "duration": 85,
    "start_time": "2021-12-21T16:46:10.394Z"
   },
   {
    "duration": 9,
    "start_time": "2021-12-21T16:46:10.481Z"
   },
   {
    "duration": 29,
    "start_time": "2021-12-21T16:46:10.492Z"
   },
   {
    "duration": 8,
    "start_time": "2021-12-21T16:46:10.523Z"
   },
   {
    "duration": 172,
    "start_time": "2021-12-21T16:46:10.532Z"
   },
   {
    "duration": 34,
    "start_time": "2021-12-21T16:46:10.706Z"
   },
   {
    "duration": 21,
    "start_time": "2021-12-21T16:46:10.742Z"
   },
   {
    "duration": 5,
    "start_time": "2021-12-21T16:46:10.765Z"
   },
   {
    "duration": 20,
    "start_time": "2021-12-21T16:46:10.772Z"
   },
   {
    "duration": 7,
    "start_time": "2021-12-21T16:46:10.794Z"
   },
   {
    "duration": 8,
    "start_time": "2021-12-21T16:46:10.803Z"
   },
   {
    "duration": 249,
    "start_time": "2021-12-21T16:46:10.813Z"
   },
   {
    "duration": 15,
    "start_time": "2021-12-21T16:46:11.065Z"
   },
   {
    "duration": 422,
    "start_time": "2021-12-21T16:46:11.082Z"
   },
   {
    "duration": 356,
    "start_time": "2021-12-21T16:46:11.506Z"
   },
   {
    "duration": 529,
    "start_time": "2021-12-21T16:46:11.864Z"
   },
   {
    "duration": 5,
    "start_time": "2021-12-21T16:46:12.396Z"
   },
   {
    "duration": 9,
    "start_time": "2021-12-21T16:46:12.403Z"
   },
   {
    "duration": 7,
    "start_time": "2021-12-21T16:46:12.414Z"
   },
   {
    "duration": 6,
    "start_time": "2021-12-21T16:46:12.423Z"
   },
   {
    "duration": 445,
    "start_time": "2021-12-21T16:46:12.431Z"
   },
   {
    "duration": 5,
    "start_time": "2021-12-21T16:46:12.878Z"
   },
   {
    "duration": 8,
    "start_time": "2021-12-21T16:46:12.885Z"
   },
   {
    "duration": 6,
    "start_time": "2021-12-21T16:46:12.895Z"
   },
   {
    "duration": 6,
    "start_time": "2021-12-21T16:46:12.906Z"
   },
   {
    "duration": 500,
    "start_time": "2021-12-21T16:46:12.914Z"
   },
   {
    "duration": 4,
    "start_time": "2021-12-21T16:46:13.416Z"
   },
   {
    "duration": 7,
    "start_time": "2021-12-21T16:46:13.421Z"
   },
   {
    "duration": 6,
    "start_time": "2021-12-21T16:46:13.430Z"
   },
   {
    "duration": 25,
    "start_time": "2021-12-21T16:46:13.437Z"
   },
   {
    "duration": 400,
    "start_time": "2021-12-21T16:46:13.464Z"
   },
   {
    "duration": 5,
    "start_time": "2021-12-21T16:46:13.866Z"
   },
   {
    "duration": 7,
    "start_time": "2021-12-21T16:46:13.873Z"
   },
   {
    "duration": 7,
    "start_time": "2021-12-21T16:46:13.882Z"
   },
   {
    "duration": 6,
    "start_time": "2021-12-21T16:46:13.891Z"
   },
   {
    "duration": 437,
    "start_time": "2021-12-21T16:46:13.899Z"
   },
   {
    "duration": 6,
    "start_time": "2021-12-21T16:46:14.338Z"
   },
   {
    "duration": 6,
    "start_time": "2021-12-21T16:46:14.360Z"
   },
   {
    "duration": 6,
    "start_time": "2021-12-21T16:46:14.368Z"
   },
   {
    "duration": 6,
    "start_time": "2021-12-21T16:46:14.376Z"
   },
   {
    "duration": 361,
    "start_time": "2021-12-21T16:46:14.384Z"
   },
   {
    "duration": 4,
    "start_time": "2021-12-21T16:46:14.747Z"
   },
   {
    "duration": 11,
    "start_time": "2021-12-21T16:46:14.753Z"
   },
   {
    "duration": 6,
    "start_time": "2021-12-21T16:46:14.766Z"
   },
   {
    "duration": 7,
    "start_time": "2021-12-21T16:46:14.773Z"
   },
   {
    "duration": 505,
    "start_time": "2021-12-21T16:46:14.781Z"
   },
   {
    "duration": 5,
    "start_time": "2021-12-21T16:46:15.289Z"
   },
   {
    "duration": 7,
    "start_time": "2021-12-21T16:46:15.296Z"
   },
   {
    "duration": 7,
    "start_time": "2021-12-21T16:46:15.305Z"
   },
   {
    "duration": 5,
    "start_time": "2021-12-21T16:46:15.314Z"
   },
   {
    "duration": 386,
    "start_time": "2021-12-21T16:46:15.321Z"
   },
   {
    "duration": 5,
    "start_time": "2021-12-21T16:46:15.709Z"
   },
   {
    "duration": 27,
    "start_time": "2021-12-21T16:46:15.716Z"
   },
   {
    "duration": 9,
    "start_time": "2021-12-21T16:46:15.745Z"
   },
   {
    "duration": 31,
    "start_time": "2021-12-21T16:46:15.755Z"
   },
   {
    "duration": 23,
    "start_time": "2021-12-21T16:46:15.788Z"
   },
   {
    "duration": 20,
    "start_time": "2021-12-21T16:46:15.813Z"
   },
   {
    "duration": 20,
    "start_time": "2021-12-21T16:46:15.835Z"
   },
   {
    "duration": 6,
    "start_time": "2021-12-21T16:46:33.397Z"
   },
   {
    "duration": 1222,
    "start_time": "2021-12-21T16:46:45.042Z"
   },
   {
    "duration": 479,
    "start_time": "2021-12-21T16:46:46.266Z"
   },
   {
    "duration": 14,
    "start_time": "2021-12-21T16:46:46.748Z"
   },
   {
    "duration": 7,
    "start_time": "2021-12-21T16:46:46.764Z"
   },
   {
    "duration": 18,
    "start_time": "2021-12-21T16:46:46.773Z"
   },
   {
    "duration": 8,
    "start_time": "2021-12-21T16:46:46.793Z"
   },
   {
    "duration": 25,
    "start_time": "2021-12-21T16:46:46.803Z"
   },
   {
    "duration": 60,
    "start_time": "2021-12-21T16:46:46.830Z"
   },
   {
    "duration": 7,
    "start_time": "2021-12-21T16:46:46.892Z"
   },
   {
    "duration": 20,
    "start_time": "2021-12-21T16:46:46.901Z"
   },
   {
    "duration": 9,
    "start_time": "2021-12-21T16:46:46.923Z"
   },
   {
    "duration": 47,
    "start_time": "2021-12-21T16:46:46.933Z"
   },
   {
    "duration": 8,
    "start_time": "2021-12-21T16:46:46.982Z"
   },
   {
    "duration": 25,
    "start_time": "2021-12-21T16:46:46.992Z"
   },
   {
    "duration": 6,
    "start_time": "2021-12-21T16:46:47.020Z"
   },
   {
    "duration": 11,
    "start_time": "2021-12-21T16:46:47.028Z"
   },
   {
    "duration": 20,
    "start_time": "2021-12-21T16:46:47.040Z"
   },
   {
    "duration": 9,
    "start_time": "2021-12-21T16:46:47.062Z"
   },
   {
    "duration": 10,
    "start_time": "2021-12-21T16:46:47.073Z"
   },
   {
    "duration": 13,
    "start_time": "2021-12-21T16:46:47.085Z"
   },
   {
    "duration": 23,
    "start_time": "2021-12-21T16:46:47.100Z"
   },
   {
    "duration": 66,
    "start_time": "2021-12-21T16:46:47.125Z"
   },
   {
    "duration": 16,
    "start_time": "2021-12-21T16:46:47.196Z"
   },
   {
    "duration": 10,
    "start_time": "2021-12-21T16:46:47.216Z"
   },
   {
    "duration": 59,
    "start_time": "2021-12-21T16:46:47.228Z"
   },
   {
    "duration": 9,
    "start_time": "2021-12-21T16:46:47.290Z"
   },
   {
    "duration": 7,
    "start_time": "2021-12-21T16:46:47.301Z"
   },
   {
    "duration": 10,
    "start_time": "2021-12-21T16:46:47.311Z"
   },
   {
    "duration": 4,
    "start_time": "2021-12-21T16:46:47.323Z"
   },
   {
    "duration": 4,
    "start_time": "2021-12-21T16:46:47.361Z"
   },
   {
    "duration": 45,
    "start_time": "2021-12-21T16:46:47.366Z"
   },
   {
    "duration": 8,
    "start_time": "2021-12-21T16:46:47.412Z"
   },
   {
    "duration": 13,
    "start_time": "2021-12-21T16:46:47.422Z"
   },
   {
    "duration": 32,
    "start_time": "2021-12-21T16:46:47.436Z"
   },
   {
    "duration": 11,
    "start_time": "2021-12-21T16:46:47.470Z"
   },
   {
    "duration": 118,
    "start_time": "2021-12-21T16:46:47.484Z"
   },
   {
    "duration": 8,
    "start_time": "2021-12-21T16:46:47.604Z"
   },
   {
    "duration": 36,
    "start_time": "2021-12-21T16:46:47.614Z"
   },
   {
    "duration": 11,
    "start_time": "2021-12-21T16:46:47.652Z"
   },
   {
    "duration": 40,
    "start_time": "2021-12-21T16:46:47.665Z"
   },
   {
    "duration": 8,
    "start_time": "2021-12-21T16:46:47.707Z"
   },
   {
    "duration": 49,
    "start_time": "2021-12-21T16:46:47.717Z"
   },
   {
    "duration": 9,
    "start_time": "2021-12-21T16:46:47.768Z"
   },
   {
    "duration": 49,
    "start_time": "2021-12-21T16:46:47.779Z"
   },
   {
    "duration": 30,
    "start_time": "2021-12-21T16:46:47.830Z"
   },
   {
    "duration": 22,
    "start_time": "2021-12-21T16:46:47.863Z"
   },
   {
    "duration": 7,
    "start_time": "2021-12-21T16:46:47.886Z"
   },
   {
    "duration": 155,
    "start_time": "2021-12-21T16:46:47.894Z"
   },
   {
    "duration": 28,
    "start_time": "2021-12-21T16:46:48.051Z"
   },
   {
    "duration": 8,
    "start_time": "2021-12-21T16:46:48.081Z"
   },
   {
    "duration": 4,
    "start_time": "2021-12-21T16:46:48.091Z"
   },
   {
    "duration": 16,
    "start_time": "2021-12-21T16:46:48.097Z"
   },
   {
    "duration": 9,
    "start_time": "2021-12-21T16:46:48.115Z"
   },
   {
    "duration": 34,
    "start_time": "2021-12-21T16:46:48.126Z"
   },
   {
    "duration": 303,
    "start_time": "2021-12-21T16:46:48.163Z"
   },
   {
    "duration": 14,
    "start_time": "2021-12-21T16:46:48.468Z"
   },
   {
    "duration": 379,
    "start_time": "2021-12-21T16:46:48.484Z"
   },
   {
    "duration": 438,
    "start_time": "2021-12-21T16:46:48.865Z"
   },
   {
    "duration": 531,
    "start_time": "2021-12-21T16:46:49.305Z"
   },
   {
    "duration": 6,
    "start_time": "2021-12-21T16:46:49.838Z"
   },
   {
    "duration": 35,
    "start_time": "2021-12-21T16:46:49.846Z"
   },
   {
    "duration": 10,
    "start_time": "2021-12-21T16:46:49.883Z"
   },
   {
    "duration": 42,
    "start_time": "2021-12-21T16:46:49.895Z"
   },
   {
    "duration": 489,
    "start_time": "2021-12-21T16:46:49.940Z"
   },
   {
    "duration": 4,
    "start_time": "2021-12-21T16:46:50.431Z"
   },
   {
    "duration": 7,
    "start_time": "2021-12-21T16:46:50.437Z"
   },
   {
    "duration": 7,
    "start_time": "2021-12-21T16:46:50.446Z"
   },
   {
    "duration": 5,
    "start_time": "2021-12-21T16:46:50.460Z"
   },
   {
    "duration": 378,
    "start_time": "2021-12-21T16:46:50.468Z"
   },
   {
    "duration": 5,
    "start_time": "2021-12-21T16:46:50.848Z"
   },
   {
    "duration": 9,
    "start_time": "2021-12-21T16:46:50.854Z"
   },
   {
    "duration": 6,
    "start_time": "2021-12-21T16:46:50.864Z"
   },
   {
    "duration": 11,
    "start_time": "2021-12-21T16:46:50.872Z"
   },
   {
    "duration": 504,
    "start_time": "2021-12-21T16:46:50.886Z"
   },
   {
    "duration": 5,
    "start_time": "2021-12-21T16:46:51.392Z"
   },
   {
    "duration": 7,
    "start_time": "2021-12-21T16:46:51.399Z"
   },
   {
    "duration": 17,
    "start_time": "2021-12-21T16:46:51.408Z"
   },
   {
    "duration": 12,
    "start_time": "2021-12-21T16:46:51.427Z"
   },
   {
    "duration": 506,
    "start_time": "2021-12-21T16:46:51.441Z"
   },
   {
    "duration": 15,
    "start_time": "2021-12-21T16:46:51.949Z"
   },
   {
    "duration": 5,
    "start_time": "2021-12-21T16:46:51.966Z"
   },
   {
    "duration": 12,
    "start_time": "2021-12-21T16:46:51.973Z"
   },
   {
    "duration": 8,
    "start_time": "2021-12-21T16:46:51.987Z"
   },
   {
    "duration": 409,
    "start_time": "2021-12-21T16:46:51.997Z"
   },
   {
    "duration": 4,
    "start_time": "2021-12-21T16:46:52.408Z"
   },
   {
    "duration": 12,
    "start_time": "2021-12-21T16:46:52.414Z"
   },
   {
    "duration": 6,
    "start_time": "2021-12-21T16:46:52.428Z"
   },
   {
    "duration": 27,
    "start_time": "2021-12-21T16:46:52.436Z"
   },
   {
    "duration": 488,
    "start_time": "2021-12-21T16:46:52.464Z"
   },
   {
    "duration": 8,
    "start_time": "2021-12-21T16:46:52.954Z"
   },
   {
    "duration": 15,
    "start_time": "2021-12-21T16:46:52.964Z"
   },
   {
    "duration": 10,
    "start_time": "2021-12-21T16:46:52.981Z"
   },
   {
    "duration": 10,
    "start_time": "2021-12-21T16:46:52.993Z"
   },
   {
    "duration": 391,
    "start_time": "2021-12-21T16:46:53.005Z"
   },
   {
    "duration": 6,
    "start_time": "2021-12-21T16:46:53.398Z"
   },
   {
    "duration": 19,
    "start_time": "2021-12-21T16:46:53.405Z"
   },
   {
    "duration": 15,
    "start_time": "2021-12-21T16:46:53.426Z"
   },
   {
    "duration": 10,
    "start_time": "2021-12-21T16:46:53.443Z"
   },
   {
    "duration": 16,
    "start_time": "2021-12-21T16:46:53.454Z"
   },
   {
    "duration": 11,
    "start_time": "2021-12-21T16:46:53.472Z"
   },
   {
    "duration": 23,
    "start_time": "2021-12-21T16:46:53.485Z"
   }
  ],
  "kernelspec": {
   "display_name": "Python 3",
   "language": "python",
   "name": "python3"
  },
  "language_info": {
   "codemirror_mode": {
    "name": "ipython",
    "version": 3
   },
   "file_extension": ".py",
   "mimetype": "text/x-python",
   "name": "python",
   "nbconvert_exporter": "python",
   "pygments_lexer": "ipython3",
   "version": "3.7.8"
  },
  "toc": {
   "base_numbering": 1,
   "nav_menu": {},
   "number_sections": true,
   "sideBar": true,
   "skip_h1_title": true,
   "title_cell": "Table of Contents",
   "title_sidebar": "Contents",
   "toc_cell": false,
   "toc_position": {},
   "toc_section_display": true,
   "toc_window_display": false
  }
 },
 "nbformat": 4,
 "nbformat_minor": 2
}
