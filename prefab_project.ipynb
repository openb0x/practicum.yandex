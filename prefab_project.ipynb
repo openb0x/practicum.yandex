{
 "cells": [
  {
   "cell_type": "markdown",
   "metadata": {},
   "source": [
    "<div style=\"border-radius: 15px; border: 3px solid indigo; padding: 15px; \">\n",
    "<b> Комментарий ревьюера</b>\n",
    "    \n",
    "Привет! Меня зовут Светлана Носова, я буду проверять твой проект. Если не против, давай общаться на «ты». Если тебе такой стиль общения не нравится, напиши об этом, будем на «вы».  \n",
    "\n",
    "Сразу хочу обратить внимание на цветовую разметку:\n",
    "    \n",
    "    \n",
    "<div class=\"alert alert-success\" style=\"border-radius: 15px; box-shadow: 4px 4px 4px; border: 1px solid \">\n",
    "\n",
    "Зеленым отмечены отличные решения и идеи, которые можно и нужно использовать в будущем.\n",
    "</div>\n",
    "    \n",
    "<div class=\"alert alert-warning\" style=\"border-radius: 15px; box-shadow: 4px 4px 4px; border: 1px solid \">\n",
    "\n",
    "Желтым отмечено то, что можно или нужно оптимизировать, в зависимости от контекста.</div>    \n",
    "    \n",
    "<div class=\"alert alert-danger\" style=\"border-radius: 15px; box-shadow: 4px 4px 4px; border: 1px solid \">\n",
    "\n",
    "Красным  обозначены пропущенные пункты задания и ошибки, которые обязательно надо будет исправить, чтобы результаты были верные.</div> \n",
    "    \n",
    "**Ответы на мои комментарии или доработки по моим рекомендациям попрошу выделить каким-нибудь цветом, кроме трех перечисленных.**\n",
    "Также я попрошу тебя **не менять и не передвигать мои комментарии**, чтобы при последующей проверке мне было проще ориентироваться.\n",
    "    \n",
    "Кроме того, комментарии у меня обозначены как заголовки. Это сбивает содержание, но при последующей проверке я могу снять с них заголовок, если тебе так будет удобнее. При этом они удобны, поскольку ты сразу можешь перейти к ним.   \n",
    "        \n",
    "<hr>\n",
    "    \n",
    "<font color= 'dodgerblue'>**По проекту:**</font> работа сделана очень хорошо, все оформлено аккуратно и понятно. Структура работы у тебя грамотная, код легко читается, много анализа и выводов. Есть некоторые замечания, я все обозначила в комментариях. Там же я оставила рекомендации по улучшению проекта. Буду ждать работу на повторное ревью.\n",
    "</div>"
   ]
  },
  {
   "cell_type": "markdown",
   "metadata": {},
   "source": [
    "<div style=\"border-radius: 15px; border: 3px solid indigo; padding: 15px;\">\n",
    "<b> Комментарий ревьюера 2</b>\n",
    "    \n",
    "Большое спасибо за корректировки. Я оставила новые комментарии с цифрой 2. Проект я могу принять, поскольку вопросов больше нет. Желаю успехов в дальнейшем обучении :)\n",
    "    \n",
    "\n",
    "    \n",
    "</div>"
   ]
  },
  {
   "cell_type": "markdown",
   "metadata": {},
   "source": [
    "# Сборный проект."
   ]
  },
  {
   "cell_type": "markdown",
   "metadata": {},
   "source": [
    "Описание проекта:\n",
    "- Вы работаете в интернет-магазине «Стримчик», который продаёт по всему миру компьютерные игры. Из открытых источников доступны исторические данные о продажах игр, оценки пользователей и экспертов, жанры и платформы (например, Xbox или PlayStation). Вам нужно выявить определяющие успешность игры закономерности. Это позволит сделать ставку на потенциально популярный продукт и спланировать рекламные кампании.\n",
    "- Перед вами данные до 2016 года. Представим, что сейчас декабрь 2016 г., и вы планируете кампанию на 2017-й. Нужно отработать принцип работы с данными. Неважно, прогнозируете ли вы продажи на 2017 год по данным 2016-го или же 2027-й — по данным 2026 года.\n",
    "- В наборе данных попадается аббревиатура ESRB (Entertainment Software Rating Board) — это ассоциация, определяющая возрастной рейтинг компьютерных игр. ESRB оценивает игровой контент и присваивает ему подходящую возрастную категорию, например, «Для взрослых», «Для детей младшего возраста» или «Для подростков»."
   ]
  },
  {
   "cell_type": "markdown",
   "metadata": {},
   "source": [
    "**Описание данных:**\n",
    "- Name — название игры\n",
    "- Platform — платформа\n",
    "- Year_of_Release — год выпуска\n",
    "- Genre — жанр игры\n",
    "- NA_sales — продажи в Северной Америке (миллионы проданных копий)\n",
    "- EU_sales — продажи в Европе (миллионы проданных копий)\n",
    "- JP_sales — продажи в Японии (миллионы проданных копий)\n",
    "- Other_sales — продажи в других странах (миллионы проданных копий)\n",
    "- Critic_Score — оценка критиков (максимум 100)\n",
    "- User_Score — оценка пользователей (максимум 10)\n",
    "- Rating — рейтинг от организации ESRB (англ. Entertainment Software Rating Board). Эта ассоциация определяет рейтинг компьютерных игр и присваивает им подходящую возрастную категорию.\n",
    "- Данные за 2016 год могут быть неполными."
   ]
  },
  {
   "cell_type": "markdown",
   "metadata": {},
   "source": [
    "**Задачи исследования**\n",
    "- Шаг 1. Откройте файл с данными и изучите общую информацию\n",
    "- Шаг 2. Подготовьте данные\n",
    "Замените названия столбцов (приведите к нижнему регистру);\n",
    "Преобразуйте данные в нужные типы. Опишите, в каких столбцах заменили тип данных и почему;\n",
    "Обработайте пропуски при необходимости:\n",
    "Объясните, почему заполнили пропуски определённым образом или почему не стали это делать;\n",
    "Опишите причины, которые могли привести к пропускам;\n",
    "Обратите внимание на аббревиатуру 'tbd' в столбце с оценкой пользователей. Отдельно разберите это значение и опишите, как его обработать;\n",
    "Посчитайте суммарные продажи во всех регионах и запишите их в отдельный столбец.\n",
    "- Шаг 3. Проведите исследовательский анализ данных\n",
    "Посмотрите, сколько игр выпускалось в разные годы. Важны ли данные за все периоды?\n",
    "Посмотрите, как менялись продажи по платформам. Выберите платформы с наибольшими суммарными продажами и постройте распределение по годам. За какой характерный срок появляются новые и исчезают старые платформы?\n",
    "Возьмите данные за соответствующий актуальный период. Актуальный период определите самостоятельно в результате исследования предыдущих вопросов. Основной фактор — эти данные помогут построить прогноз на 2017 год.\n",
    "Не учитывайте в работе данные за предыдущие годы.\n",
    "Какие платформы лидируют по продажам, растут или падают? Выберите несколько потенциально прибыльных платформ.\n",
    "Постройте график «ящик с усами» по глобальным продажам игр в разбивке по платформам. Опишите результат.\n",
    "Посмотрите, как влияют на продажи внутри одной популярной платформы отзывы пользователей и критиков. Постройте диаграмму рассеяния и посчитайте корреляцию между отзывами и продажами. Сформулируйте выводы.\n",
    "Соотнесите выводы с продажами игр на других платформах.\n",
    "Посмотрите на общее распределение игр по жанрам. Что можно сказать о самых прибыльных жанрах? Выделяются ли жанры с высокими и низкими продажами?\n",
    "- Шаг 4. Составьте портрет пользователя каждого региона\n",
    "Определите для пользователя каждого региона (NA, EU, JP):\n",
    "Самые популярные платформы (топ-5). Опишите различия в долях продаж.\n",
    "Самые популярные жанры (топ-5). Поясните разницу.\n",
    "Влияет ли рейтинг ESRB на продажи в отдельном регионе?\n",
    "- Шаг 5. Проверьте гипотезы\n",
    "Средние пользовательские рейтинги платформ Xbox One и PC одинаковые;\n",
    "Средние пользовательские рейтинги жанров Action (англ. «действие», экшен-игры) и Sports (англ. «спортивные соревнования») разные.\n",
    "Задайте самостоятельно пороговое значение alpha.\n",
    "Поясните:\n",
    "Как вы сформулировали нулевую и альтернативную гипотезы;\n",
    "Какой критерий применили для проверки гипотез и почему.\n",
    "- Шаг 6. Напишите общий вывод"
   ]
  },
  {
   "cell_type": "markdown",
   "metadata": {},
   "source": [
    "<div class=\"alert alert-success\" style=\"border-radius: 15px; box-shadow: 4px 4px 4px; border: 1px solid \">\n",
    "<h2> Комментарий ревьюера</h2>\n",
    "    \n",
    "Хорошо, что добавляешь краткое описание задачи. Это не помешает, когда ты вернешься к проекту через некоторое время, чтобы что-то посмотреть (такое часто бывает). Кроме того, так работа выглядит презентабельнее.   \n",
    "</div>"
   ]
  },
  {
   "cell_type": "markdown",
   "metadata": {},
   "source": [
    "# 1 Шаг. Загрузим библиотеки, датасет и изучим информацию."
   ]
  },
  {
   "cell_type": "code",
   "execution_count": 1,
   "metadata": {},
   "outputs": [],
   "source": [
    "#импортируем библиотеки\n",
    "import pandas as pd\n",
    "import numpy as np\n",
    "import matplotlib.pyplot as plt\n",
    "import warnings\n",
    "warnings.filterwarnings('ignore')\n",
    "\n",
    "from datetime import datetime\n",
    "from scipy import stats as st"
   ]
  },
  {
   "cell_type": "code",
   "execution_count": 2,
   "metadata": {},
   "outputs": [],
   "source": [
    "#назовём датасет games\n",
    "games = pd.read_csv('/datasets/games.csv')"
   ]
  },
  {
   "cell_type": "code",
   "execution_count": 3,
   "metadata": {},
   "outputs": [
    {
     "data": {
      "text/html": [
       "<div>\n",
       "<style scoped>\n",
       "    .dataframe tbody tr th:only-of-type {\n",
       "        vertical-align: middle;\n",
       "    }\n",
       "\n",
       "    .dataframe tbody tr th {\n",
       "        vertical-align: top;\n",
       "    }\n",
       "\n",
       "    .dataframe thead th {\n",
       "        text-align: right;\n",
       "    }\n",
       "</style>\n",
       "<table border=\"1\" class=\"dataframe\">\n",
       "  <thead>\n",
       "    <tr style=\"text-align: right;\">\n",
       "      <th></th>\n",
       "      <th>Name</th>\n",
       "      <th>Platform</th>\n",
       "      <th>Year_of_Release</th>\n",
       "      <th>Genre</th>\n",
       "      <th>NA_sales</th>\n",
       "      <th>EU_sales</th>\n",
       "      <th>JP_sales</th>\n",
       "      <th>Other_sales</th>\n",
       "      <th>Critic_Score</th>\n",
       "      <th>User_Score</th>\n",
       "      <th>Rating</th>\n",
       "    </tr>\n",
       "  </thead>\n",
       "  <tbody>\n",
       "    <tr>\n",
       "      <td>0</td>\n",
       "      <td>Wii Sports</td>\n",
       "      <td>Wii</td>\n",
       "      <td>2006.0</td>\n",
       "      <td>Sports</td>\n",
       "      <td>41.36</td>\n",
       "      <td>28.96</td>\n",
       "      <td>3.77</td>\n",
       "      <td>8.45</td>\n",
       "      <td>76.0</td>\n",
       "      <td>8</td>\n",
       "      <td>E</td>\n",
       "    </tr>\n",
       "    <tr>\n",
       "      <td>1</td>\n",
       "      <td>Super Mario Bros.</td>\n",
       "      <td>NES</td>\n",
       "      <td>1985.0</td>\n",
       "      <td>Platform</td>\n",
       "      <td>29.08</td>\n",
       "      <td>3.58</td>\n",
       "      <td>6.81</td>\n",
       "      <td>0.77</td>\n",
       "      <td>NaN</td>\n",
       "      <td>NaN</td>\n",
       "      <td>NaN</td>\n",
       "    </tr>\n",
       "    <tr>\n",
       "      <td>2</td>\n",
       "      <td>Mario Kart Wii</td>\n",
       "      <td>Wii</td>\n",
       "      <td>2008.0</td>\n",
       "      <td>Racing</td>\n",
       "      <td>15.68</td>\n",
       "      <td>12.76</td>\n",
       "      <td>3.79</td>\n",
       "      <td>3.29</td>\n",
       "      <td>82.0</td>\n",
       "      <td>8.3</td>\n",
       "      <td>E</td>\n",
       "    </tr>\n",
       "    <tr>\n",
       "      <td>3</td>\n",
       "      <td>Wii Sports Resort</td>\n",
       "      <td>Wii</td>\n",
       "      <td>2009.0</td>\n",
       "      <td>Sports</td>\n",
       "      <td>15.61</td>\n",
       "      <td>10.93</td>\n",
       "      <td>3.28</td>\n",
       "      <td>2.95</td>\n",
       "      <td>80.0</td>\n",
       "      <td>8</td>\n",
       "      <td>E</td>\n",
       "    </tr>\n",
       "    <tr>\n",
       "      <td>4</td>\n",
       "      <td>Pokemon Red/Pokemon Blue</td>\n",
       "      <td>GB</td>\n",
       "      <td>1996.0</td>\n",
       "      <td>Role-Playing</td>\n",
       "      <td>11.27</td>\n",
       "      <td>8.89</td>\n",
       "      <td>10.22</td>\n",
       "      <td>1.00</td>\n",
       "      <td>NaN</td>\n",
       "      <td>NaN</td>\n",
       "      <td>NaN</td>\n",
       "    </tr>\n",
       "    <tr>\n",
       "      <td>5</td>\n",
       "      <td>Tetris</td>\n",
       "      <td>GB</td>\n",
       "      <td>1989.0</td>\n",
       "      <td>Puzzle</td>\n",
       "      <td>23.20</td>\n",
       "      <td>2.26</td>\n",
       "      <td>4.22</td>\n",
       "      <td>0.58</td>\n",
       "      <td>NaN</td>\n",
       "      <td>NaN</td>\n",
       "      <td>NaN</td>\n",
       "    </tr>\n",
       "    <tr>\n",
       "      <td>6</td>\n",
       "      <td>New Super Mario Bros.</td>\n",
       "      <td>DS</td>\n",
       "      <td>2006.0</td>\n",
       "      <td>Platform</td>\n",
       "      <td>11.28</td>\n",
       "      <td>9.14</td>\n",
       "      <td>6.50</td>\n",
       "      <td>2.88</td>\n",
       "      <td>89.0</td>\n",
       "      <td>8.5</td>\n",
       "      <td>E</td>\n",
       "    </tr>\n",
       "    <tr>\n",
       "      <td>7</td>\n",
       "      <td>Wii Play</td>\n",
       "      <td>Wii</td>\n",
       "      <td>2006.0</td>\n",
       "      <td>Misc</td>\n",
       "      <td>13.96</td>\n",
       "      <td>9.18</td>\n",
       "      <td>2.93</td>\n",
       "      <td>2.84</td>\n",
       "      <td>58.0</td>\n",
       "      <td>6.6</td>\n",
       "      <td>E</td>\n",
       "    </tr>\n",
       "    <tr>\n",
       "      <td>8</td>\n",
       "      <td>New Super Mario Bros. Wii</td>\n",
       "      <td>Wii</td>\n",
       "      <td>2009.0</td>\n",
       "      <td>Platform</td>\n",
       "      <td>14.44</td>\n",
       "      <td>6.94</td>\n",
       "      <td>4.70</td>\n",
       "      <td>2.24</td>\n",
       "      <td>87.0</td>\n",
       "      <td>8.4</td>\n",
       "      <td>E</td>\n",
       "    </tr>\n",
       "    <tr>\n",
       "      <td>9</td>\n",
       "      <td>Duck Hunt</td>\n",
       "      <td>NES</td>\n",
       "      <td>1984.0</td>\n",
       "      <td>Shooter</td>\n",
       "      <td>26.93</td>\n",
       "      <td>0.63</td>\n",
       "      <td>0.28</td>\n",
       "      <td>0.47</td>\n",
       "      <td>NaN</td>\n",
       "      <td>NaN</td>\n",
       "      <td>NaN</td>\n",
       "    </tr>\n",
       "  </tbody>\n",
       "</table>\n",
       "</div>"
      ],
      "text/plain": [
       "                        Name Platform  Year_of_Release         Genre  \\\n",
       "0                 Wii Sports      Wii           2006.0        Sports   \n",
       "1          Super Mario Bros.      NES           1985.0      Platform   \n",
       "2             Mario Kart Wii      Wii           2008.0        Racing   \n",
       "3          Wii Sports Resort      Wii           2009.0        Sports   \n",
       "4   Pokemon Red/Pokemon Blue       GB           1996.0  Role-Playing   \n",
       "5                     Tetris       GB           1989.0        Puzzle   \n",
       "6      New Super Mario Bros.       DS           2006.0      Platform   \n",
       "7                   Wii Play      Wii           2006.0          Misc   \n",
       "8  New Super Mario Bros. Wii      Wii           2009.0      Platform   \n",
       "9                  Duck Hunt      NES           1984.0       Shooter   \n",
       "\n",
       "   NA_sales  EU_sales  JP_sales  Other_sales  Critic_Score User_Score Rating  \n",
       "0     41.36     28.96      3.77         8.45          76.0          8      E  \n",
       "1     29.08      3.58      6.81         0.77           NaN        NaN    NaN  \n",
       "2     15.68     12.76      3.79         3.29          82.0        8.3      E  \n",
       "3     15.61     10.93      3.28         2.95          80.0          8      E  \n",
       "4     11.27      8.89     10.22         1.00           NaN        NaN    NaN  \n",
       "5     23.20      2.26      4.22         0.58           NaN        NaN    NaN  \n",
       "6     11.28      9.14      6.50         2.88          89.0        8.5      E  \n",
       "7     13.96      9.18      2.93         2.84          58.0        6.6      E  \n",
       "8     14.44      6.94      4.70         2.24          87.0        8.4      E  \n",
       "9     26.93      0.63      0.28         0.47           NaN        NaN    NaN  "
      ]
     },
     "execution_count": 3,
     "metadata": {},
     "output_type": "execute_result"
    }
   ],
   "source": [
    "#выведем первые 10 строк датасета\n",
    "games.head(10)"
   ]
  },
  {
   "cell_type": "code",
   "execution_count": 4,
   "metadata": {},
   "outputs": [
    {
     "data": {
      "text/html": [
       "<div>\n",
       "<style scoped>\n",
       "    .dataframe tbody tr th:only-of-type {\n",
       "        vertical-align: middle;\n",
       "    }\n",
       "\n",
       "    .dataframe tbody tr th {\n",
       "        vertical-align: top;\n",
       "    }\n",
       "\n",
       "    .dataframe thead th {\n",
       "        text-align: right;\n",
       "    }\n",
       "</style>\n",
       "<table border=\"1\" class=\"dataframe\">\n",
       "  <thead>\n",
       "    <tr style=\"text-align: right;\">\n",
       "      <th></th>\n",
       "      <th>Name</th>\n",
       "      <th>Platform</th>\n",
       "      <th>Year_of_Release</th>\n",
       "      <th>Genre</th>\n",
       "      <th>NA_sales</th>\n",
       "      <th>EU_sales</th>\n",
       "      <th>JP_sales</th>\n",
       "      <th>Other_sales</th>\n",
       "      <th>Critic_Score</th>\n",
       "      <th>User_Score</th>\n",
       "      <th>Rating</th>\n",
       "    </tr>\n",
       "  </thead>\n",
       "  <tbody>\n",
       "    <tr>\n",
       "      <td>16705</td>\n",
       "      <td>15 Days</td>\n",
       "      <td>PC</td>\n",
       "      <td>2009.0</td>\n",
       "      <td>Adventure</td>\n",
       "      <td>0.00</td>\n",
       "      <td>0.01</td>\n",
       "      <td>0.00</td>\n",
       "      <td>0.0</td>\n",
       "      <td>63.0</td>\n",
       "      <td>5.8</td>\n",
       "      <td>NaN</td>\n",
       "    </tr>\n",
       "    <tr>\n",
       "      <td>16706</td>\n",
       "      <td>Men in Black II: Alien Escape</td>\n",
       "      <td>GC</td>\n",
       "      <td>2003.0</td>\n",
       "      <td>Shooter</td>\n",
       "      <td>0.01</td>\n",
       "      <td>0.00</td>\n",
       "      <td>0.00</td>\n",
       "      <td>0.0</td>\n",
       "      <td>NaN</td>\n",
       "      <td>tbd</td>\n",
       "      <td>T</td>\n",
       "    </tr>\n",
       "    <tr>\n",
       "      <td>16707</td>\n",
       "      <td>Aiyoku no Eustia</td>\n",
       "      <td>PSV</td>\n",
       "      <td>2014.0</td>\n",
       "      <td>Misc</td>\n",
       "      <td>0.00</td>\n",
       "      <td>0.00</td>\n",
       "      <td>0.01</td>\n",
       "      <td>0.0</td>\n",
       "      <td>NaN</td>\n",
       "      <td>NaN</td>\n",
       "      <td>NaN</td>\n",
       "    </tr>\n",
       "    <tr>\n",
       "      <td>16708</td>\n",
       "      <td>Woody Woodpecker in Crazy Castle 5</td>\n",
       "      <td>GBA</td>\n",
       "      <td>2002.0</td>\n",
       "      <td>Platform</td>\n",
       "      <td>0.01</td>\n",
       "      <td>0.00</td>\n",
       "      <td>0.00</td>\n",
       "      <td>0.0</td>\n",
       "      <td>NaN</td>\n",
       "      <td>NaN</td>\n",
       "      <td>NaN</td>\n",
       "    </tr>\n",
       "    <tr>\n",
       "      <td>16709</td>\n",
       "      <td>SCORE International Baja 1000: The Official Game</td>\n",
       "      <td>PS2</td>\n",
       "      <td>2008.0</td>\n",
       "      <td>Racing</td>\n",
       "      <td>0.00</td>\n",
       "      <td>0.00</td>\n",
       "      <td>0.00</td>\n",
       "      <td>0.0</td>\n",
       "      <td>NaN</td>\n",
       "      <td>NaN</td>\n",
       "      <td>NaN</td>\n",
       "    </tr>\n",
       "    <tr>\n",
       "      <td>16710</td>\n",
       "      <td>Samurai Warriors: Sanada Maru</td>\n",
       "      <td>PS3</td>\n",
       "      <td>2016.0</td>\n",
       "      <td>Action</td>\n",
       "      <td>0.00</td>\n",
       "      <td>0.00</td>\n",
       "      <td>0.01</td>\n",
       "      <td>0.0</td>\n",
       "      <td>NaN</td>\n",
       "      <td>NaN</td>\n",
       "      <td>NaN</td>\n",
       "    </tr>\n",
       "    <tr>\n",
       "      <td>16711</td>\n",
       "      <td>LMA Manager 2007</td>\n",
       "      <td>X360</td>\n",
       "      <td>2006.0</td>\n",
       "      <td>Sports</td>\n",
       "      <td>0.00</td>\n",
       "      <td>0.01</td>\n",
       "      <td>0.00</td>\n",
       "      <td>0.0</td>\n",
       "      <td>NaN</td>\n",
       "      <td>NaN</td>\n",
       "      <td>NaN</td>\n",
       "    </tr>\n",
       "    <tr>\n",
       "      <td>16712</td>\n",
       "      <td>Haitaka no Psychedelica</td>\n",
       "      <td>PSV</td>\n",
       "      <td>2016.0</td>\n",
       "      <td>Adventure</td>\n",
       "      <td>0.00</td>\n",
       "      <td>0.00</td>\n",
       "      <td>0.01</td>\n",
       "      <td>0.0</td>\n",
       "      <td>NaN</td>\n",
       "      <td>NaN</td>\n",
       "      <td>NaN</td>\n",
       "    </tr>\n",
       "    <tr>\n",
       "      <td>16713</td>\n",
       "      <td>Spirits &amp; Spells</td>\n",
       "      <td>GBA</td>\n",
       "      <td>2003.0</td>\n",
       "      <td>Platform</td>\n",
       "      <td>0.01</td>\n",
       "      <td>0.00</td>\n",
       "      <td>0.00</td>\n",
       "      <td>0.0</td>\n",
       "      <td>NaN</td>\n",
       "      <td>NaN</td>\n",
       "      <td>NaN</td>\n",
       "    </tr>\n",
       "    <tr>\n",
       "      <td>16714</td>\n",
       "      <td>Winning Post 8 2016</td>\n",
       "      <td>PSV</td>\n",
       "      <td>2016.0</td>\n",
       "      <td>Simulation</td>\n",
       "      <td>0.00</td>\n",
       "      <td>0.00</td>\n",
       "      <td>0.01</td>\n",
       "      <td>0.0</td>\n",
       "      <td>NaN</td>\n",
       "      <td>NaN</td>\n",
       "      <td>NaN</td>\n",
       "    </tr>\n",
       "  </tbody>\n",
       "</table>\n",
       "</div>"
      ],
      "text/plain": [
       "                                                   Name Platform  \\\n",
       "16705                                           15 Days       PC   \n",
       "16706                     Men in Black II: Alien Escape       GC   \n",
       "16707                                  Aiyoku no Eustia      PSV   \n",
       "16708                Woody Woodpecker in Crazy Castle 5      GBA   \n",
       "16709  SCORE International Baja 1000: The Official Game      PS2   \n",
       "16710                     Samurai Warriors: Sanada Maru      PS3   \n",
       "16711                                  LMA Manager 2007     X360   \n",
       "16712                           Haitaka no Psychedelica      PSV   \n",
       "16713                                  Spirits & Spells      GBA   \n",
       "16714                               Winning Post 8 2016      PSV   \n",
       "\n",
       "       Year_of_Release       Genre  NA_sales  EU_sales  JP_sales  Other_sales  \\\n",
       "16705           2009.0   Adventure      0.00      0.01      0.00          0.0   \n",
       "16706           2003.0     Shooter      0.01      0.00      0.00          0.0   \n",
       "16707           2014.0        Misc      0.00      0.00      0.01          0.0   \n",
       "16708           2002.0    Platform      0.01      0.00      0.00          0.0   \n",
       "16709           2008.0      Racing      0.00      0.00      0.00          0.0   \n",
       "16710           2016.0      Action      0.00      0.00      0.01          0.0   \n",
       "16711           2006.0      Sports      0.00      0.01      0.00          0.0   \n",
       "16712           2016.0   Adventure      0.00      0.00      0.01          0.0   \n",
       "16713           2003.0    Platform      0.01      0.00      0.00          0.0   \n",
       "16714           2016.0  Simulation      0.00      0.00      0.01          0.0   \n",
       "\n",
       "       Critic_Score User_Score Rating  \n",
       "16705          63.0        5.8    NaN  \n",
       "16706           NaN        tbd      T  \n",
       "16707           NaN        NaN    NaN  \n",
       "16708           NaN        NaN    NaN  \n",
       "16709           NaN        NaN    NaN  \n",
       "16710           NaN        NaN    NaN  \n",
       "16711           NaN        NaN    NaN  \n",
       "16712           NaN        NaN    NaN  \n",
       "16713           NaN        NaN    NaN  \n",
       "16714           NaN        NaN    NaN  "
      ]
     },
     "execution_count": 4,
     "metadata": {},
     "output_type": "execute_result"
    }
   ],
   "source": [
    "#выведем последние 10 строк\n",
    "games.tail(10)"
   ]
  },
  {
   "cell_type": "markdown",
   "metadata": {},
   "source": [
    "В названиях столбцов пляшет регистр, есть пропущенные значения в колонках с оценками и рейтингом, а так же нулевые значения в регионах продаж. Непорядок с отображением даты выхода."
   ]
  },
  {
   "cell_type": "code",
   "execution_count": 5,
   "metadata": {},
   "outputs": [
    {
     "name": "stdout",
     "output_type": "stream",
     "text": [
      "<class 'pandas.core.frame.DataFrame'>\n",
      "RangeIndex: 16715 entries, 0 to 16714\n",
      "Data columns (total 11 columns):\n",
      "Name               16713 non-null object\n",
      "Platform           16715 non-null object\n",
      "Year_of_Release    16446 non-null float64\n",
      "Genre              16713 non-null object\n",
      "NA_sales           16715 non-null float64\n",
      "EU_sales           16715 non-null float64\n",
      "JP_sales           16715 non-null float64\n",
      "Other_sales        16715 non-null float64\n",
      "Critic_Score       8137 non-null float64\n",
      "User_Score         10014 non-null object\n",
      "Rating             9949 non-null object\n",
      "dtypes: float64(6), object(5)\n",
      "memory usage: 1.4+ MB\n"
     ]
    }
   ],
   "source": [
    "#проверим датасет на содержание типов данных\n",
    "games.info()"
   ]
  },
  {
   "cell_type": "markdown",
   "metadata": {},
   "source": [
    "Как ранее было замечено, год выпуска содержит тип данных float, когда должен быть int, так же проблемы с колонками: user_score, тип данных object, а должен быть int; critic_score, тип данных float, а должен быть int. "
   ]
  },
  {
   "cell_type": "code",
   "execution_count": 6,
   "metadata": {},
   "outputs": [
    {
     "data": {
      "text/html": [
       "<div>\n",
       "<style scoped>\n",
       "    .dataframe tbody tr th:only-of-type {\n",
       "        vertical-align: middle;\n",
       "    }\n",
       "\n",
       "    .dataframe tbody tr th {\n",
       "        vertical-align: top;\n",
       "    }\n",
       "\n",
       "    .dataframe thead th {\n",
       "        text-align: right;\n",
       "    }\n",
       "</style>\n",
       "<table border=\"1\" class=\"dataframe\">\n",
       "  <thead>\n",
       "    <tr style=\"text-align: right;\">\n",
       "      <th></th>\n",
       "      <th>Year_of_Release</th>\n",
       "      <th>NA_sales</th>\n",
       "      <th>EU_sales</th>\n",
       "      <th>JP_sales</th>\n",
       "      <th>Other_sales</th>\n",
       "      <th>Critic_Score</th>\n",
       "    </tr>\n",
       "  </thead>\n",
       "  <tbody>\n",
       "    <tr>\n",
       "      <td>count</td>\n",
       "      <td>16446.000000</td>\n",
       "      <td>16715.000000</td>\n",
       "      <td>16715.000000</td>\n",
       "      <td>16715.000000</td>\n",
       "      <td>16715.000000</td>\n",
       "      <td>8137.000000</td>\n",
       "    </tr>\n",
       "    <tr>\n",
       "      <td>mean</td>\n",
       "      <td>2006.484616</td>\n",
       "      <td>0.263377</td>\n",
       "      <td>0.145060</td>\n",
       "      <td>0.077617</td>\n",
       "      <td>0.047342</td>\n",
       "      <td>68.967679</td>\n",
       "    </tr>\n",
       "    <tr>\n",
       "      <td>std</td>\n",
       "      <td>5.877050</td>\n",
       "      <td>0.813604</td>\n",
       "      <td>0.503339</td>\n",
       "      <td>0.308853</td>\n",
       "      <td>0.186731</td>\n",
       "      <td>13.938165</td>\n",
       "    </tr>\n",
       "    <tr>\n",
       "      <td>min</td>\n",
       "      <td>1980.000000</td>\n",
       "      <td>0.000000</td>\n",
       "      <td>0.000000</td>\n",
       "      <td>0.000000</td>\n",
       "      <td>0.000000</td>\n",
       "      <td>13.000000</td>\n",
       "    </tr>\n",
       "    <tr>\n",
       "      <td>25%</td>\n",
       "      <td>2003.000000</td>\n",
       "      <td>0.000000</td>\n",
       "      <td>0.000000</td>\n",
       "      <td>0.000000</td>\n",
       "      <td>0.000000</td>\n",
       "      <td>60.000000</td>\n",
       "    </tr>\n",
       "    <tr>\n",
       "      <td>50%</td>\n",
       "      <td>2007.000000</td>\n",
       "      <td>0.080000</td>\n",
       "      <td>0.020000</td>\n",
       "      <td>0.000000</td>\n",
       "      <td>0.010000</td>\n",
       "      <td>71.000000</td>\n",
       "    </tr>\n",
       "    <tr>\n",
       "      <td>75%</td>\n",
       "      <td>2010.000000</td>\n",
       "      <td>0.240000</td>\n",
       "      <td>0.110000</td>\n",
       "      <td>0.040000</td>\n",
       "      <td>0.030000</td>\n",
       "      <td>79.000000</td>\n",
       "    </tr>\n",
       "    <tr>\n",
       "      <td>max</td>\n",
       "      <td>2016.000000</td>\n",
       "      <td>41.360000</td>\n",
       "      <td>28.960000</td>\n",
       "      <td>10.220000</td>\n",
       "      <td>10.570000</td>\n",
       "      <td>98.000000</td>\n",
       "    </tr>\n",
       "  </tbody>\n",
       "</table>\n",
       "</div>"
      ],
      "text/plain": [
       "       Year_of_Release      NA_sales      EU_sales      JP_sales  \\\n",
       "count     16446.000000  16715.000000  16715.000000  16715.000000   \n",
       "mean       2006.484616      0.263377      0.145060      0.077617   \n",
       "std           5.877050      0.813604      0.503339      0.308853   \n",
       "min        1980.000000      0.000000      0.000000      0.000000   \n",
       "25%        2003.000000      0.000000      0.000000      0.000000   \n",
       "50%        2007.000000      0.080000      0.020000      0.000000   \n",
       "75%        2010.000000      0.240000      0.110000      0.040000   \n",
       "max        2016.000000     41.360000     28.960000     10.220000   \n",
       "\n",
       "        Other_sales  Critic_Score  \n",
       "count  16715.000000   8137.000000  \n",
       "mean       0.047342     68.967679  \n",
       "std        0.186731     13.938165  \n",
       "min        0.000000     13.000000  \n",
       "25%        0.000000     60.000000  \n",
       "50%        0.010000     71.000000  \n",
       "75%        0.030000     79.000000  \n",
       "max       10.570000     98.000000  "
      ]
     },
     "execution_count": 6,
     "metadata": {},
     "output_type": "execute_result"
    }
   ],
   "source": [
    "#взглянем на сводку числовых значений нашего датасета\n",
    "games.describe()"
   ]
  },
  {
   "cell_type": "markdown",
   "metadata": {},
   "source": [
    "Видим что в Северной Америке продавали больше игр, чем в других регионах, не было ни одной \"идеальной игры\" по мнению критиков."
   ]
  },
  {
   "cell_type": "code",
   "execution_count": 7,
   "metadata": {},
   "outputs": [
    {
     "data": {
      "text/plain": [
       "tbd    2424\n",
       "7.8     324\n",
       "8       290\n",
       "8.2     282\n",
       "8.3     254\n",
       "       ... \n",
       "0.7       2\n",
       "0.3       2\n",
       "0.5       2\n",
       "0         1\n",
       "9.7       1\n",
       "Name: User_Score, Length: 96, dtype: int64"
      ]
     },
     "execution_count": 7,
     "metadata": {},
     "output_type": "execute_result"
    }
   ],
   "source": [
    "#взглянем какие значения входят в колонку user_score\n",
    "games['User_Score'].value_counts()"
   ]
  },
  {
   "cell_type": "markdown",
   "metadata": {},
   "source": [
    "**'tbd'** встречается **2424** раза(**24,2%**), данное сокращение в игровой индустрии обозначает дословно **'to be determined'**, что переводится на русский язык как **'пока не определён'**. \n",
    "В нашем случае это означает что игра не получила оценку геймеров, а значит либо не было релиза, либо возможности для игроков - поставить рейтинг. Такой пробел в данных нельзя, оставлять, вернёмся к этому во время преобработки данных."
   ]
  },
  {
   "cell_type": "code",
   "execution_count": 8,
   "metadata": {},
   "outputs": [
    {
     "data": {
      "text/plain": [
       "array(['8', nan, '8.3', '8.5', '6.6', '8.4', '8.6', '7.7', '6.3', '7.4',\n",
       "       '8.2', '9', '7.9', '8.1', '8.7', '7.1', '3.4', '5.3', '4.8', '3.2',\n",
       "       '8.9', '6.4', '7.8', '7.5', '2.6', '7.2', '9.2', '7', '7.3', '4.3',\n",
       "       '7.6', '5.7', '5', '9.1', '6.5', 'tbd', '8.8', '6.9', '9.4', '6.8',\n",
       "       '6.1', '6.7', '5.4', '4', '4.9', '4.5', '9.3', '6.2', '4.2', '6',\n",
       "       '3.7', '4.1', '5.8', '5.6', '5.5', '4.4', '4.6', '5.9', '3.9',\n",
       "       '3.1', '2.9', '5.2', '3.3', '4.7', '5.1', '3.5', '2.5', '1.9', '3',\n",
       "       '2.7', '2.2', '2', '9.5', '2.1', '3.6', '2.8', '1.8', '3.8', '0',\n",
       "       '1.6', '9.6', '2.4', '1.7', '1.1', '0.3', '1.5', '0.7', '1.2',\n",
       "       '2.3', '0.5', '1.3', '0.2', '0.6', '1.4', '0.9', '1', '9.7'],\n",
       "      dtype=object)"
      ]
     },
     "execution_count": 8,
     "metadata": {},
     "output_type": "execute_result"
    }
   ],
   "source": [
    "#посмотрим на кол-во уникальных значений \n",
    "games['User_Score'].unique()"
   ]
  },
  {
   "cell_type": "markdown",
   "metadata": {},
   "source": [
    "Встречается оценки 0, 0.5, NaN и наш любимый tbd. Оценки действительно разнообразные, но проще работать с рейтингами, когда они в виде целых чисел, с округлением в большую сторону."
   ]
  },
  {
   "cell_type": "code",
   "execution_count": 9,
   "metadata": {},
   "outputs": [
    {
     "data": {
      "text/plain": [
       "E       3990\n",
       "T       2961\n",
       "M       1563\n",
       "E10+    1420\n",
       "EC         8\n",
       "RP         3\n",
       "K-A        3\n",
       "AO         1\n",
       "Name: Rating, dtype: int64"
      ]
     },
     "execution_count": 9,
     "metadata": {},
     "output_type": "execute_result"
    }
   ],
   "source": [
    "#а теперь тоже самое для Rating\n",
    "games['Rating'].value_counts()"
   ]
  },
  {
   "cell_type": "markdown",
   "metadata": {},
   "source": [
    "Видим Топ 4: игры с рейтингом **E- everyone**, то есть для всех, от 6 лет и старше занимают первое место, далее рейтинг **Т - Teen**, для подростков от 13 лет и старше, 3 место **М - Mature**, от 17 лет и старше и 4 место **E10+ - Everyone 10 and older**, для всех кто старше 10 лет."
   ]
  },
  {
   "cell_type": "code",
   "execution_count": 10,
   "metadata": {},
   "outputs": [
    {
     "data": {
      "text/plain": [
       "0"
      ]
     },
     "execution_count": 10,
     "metadata": {},
     "output_type": "execute_result"
    }
   ],
   "source": [
    "#проверим датасет на наличие дубликатов\n",
    "games.duplicated(subset=None, keep=False).sum()"
   ]
  },
  {
   "cell_type": "code",
   "execution_count": 11,
   "metadata": {},
   "outputs": [
    {
     "data": {
      "text/html": [
       "<div>\n",
       "<style scoped>\n",
       "    .dataframe tbody tr th:only-of-type {\n",
       "        vertical-align: middle;\n",
       "    }\n",
       "\n",
       "    .dataframe tbody tr th {\n",
       "        vertical-align: top;\n",
       "    }\n",
       "\n",
       "    .dataframe thead th {\n",
       "        text-align: right;\n",
       "    }\n",
       "</style>\n",
       "<table border=\"1\" class=\"dataframe\">\n",
       "  <thead>\n",
       "    <tr style=\"text-align: right;\">\n",
       "      <th></th>\n",
       "      <th>Name</th>\n",
       "      <th>Platform</th>\n",
       "      <th>Year_of_Release</th>\n",
       "      <th>Genre</th>\n",
       "      <th>NA_sales</th>\n",
       "      <th>EU_sales</th>\n",
       "      <th>JP_sales</th>\n",
       "      <th>Other_sales</th>\n",
       "      <th>Critic_Score</th>\n",
       "      <th>User_Score</th>\n",
       "      <th>Rating</th>\n",
       "    </tr>\n",
       "  </thead>\n",
       "  <tbody>\n",
       "    <tr>\n",
       "      <td>0</td>\n",
       "      <td>False</td>\n",
       "      <td>False</td>\n",
       "      <td>False</td>\n",
       "      <td>False</td>\n",
       "      <td>False</td>\n",
       "      <td>False</td>\n",
       "      <td>False</td>\n",
       "      <td>False</td>\n",
       "      <td>False</td>\n",
       "      <td>False</td>\n",
       "      <td>False</td>\n",
       "    </tr>\n",
       "    <tr>\n",
       "      <td>1</td>\n",
       "      <td>False</td>\n",
       "      <td>False</td>\n",
       "      <td>False</td>\n",
       "      <td>False</td>\n",
       "      <td>False</td>\n",
       "      <td>False</td>\n",
       "      <td>False</td>\n",
       "      <td>False</td>\n",
       "      <td>True</td>\n",
       "      <td>True</td>\n",
       "      <td>True</td>\n",
       "    </tr>\n",
       "    <tr>\n",
       "      <td>2</td>\n",
       "      <td>False</td>\n",
       "      <td>False</td>\n",
       "      <td>False</td>\n",
       "      <td>False</td>\n",
       "      <td>False</td>\n",
       "      <td>False</td>\n",
       "      <td>False</td>\n",
       "      <td>False</td>\n",
       "      <td>False</td>\n",
       "      <td>False</td>\n",
       "      <td>False</td>\n",
       "    </tr>\n",
       "    <tr>\n",
       "      <td>3</td>\n",
       "      <td>False</td>\n",
       "      <td>False</td>\n",
       "      <td>False</td>\n",
       "      <td>False</td>\n",
       "      <td>False</td>\n",
       "      <td>False</td>\n",
       "      <td>False</td>\n",
       "      <td>False</td>\n",
       "      <td>False</td>\n",
       "      <td>False</td>\n",
       "      <td>False</td>\n",
       "    </tr>\n",
       "    <tr>\n",
       "      <td>4</td>\n",
       "      <td>False</td>\n",
       "      <td>False</td>\n",
       "      <td>False</td>\n",
       "      <td>False</td>\n",
       "      <td>False</td>\n",
       "      <td>False</td>\n",
       "      <td>False</td>\n",
       "      <td>False</td>\n",
       "      <td>True</td>\n",
       "      <td>True</td>\n",
       "      <td>True</td>\n",
       "    </tr>\n",
       "    <tr>\n",
       "      <td>...</td>\n",
       "      <td>...</td>\n",
       "      <td>...</td>\n",
       "      <td>...</td>\n",
       "      <td>...</td>\n",
       "      <td>...</td>\n",
       "      <td>...</td>\n",
       "      <td>...</td>\n",
       "      <td>...</td>\n",
       "      <td>...</td>\n",
       "      <td>...</td>\n",
       "      <td>...</td>\n",
       "    </tr>\n",
       "    <tr>\n",
       "      <td>16710</td>\n",
       "      <td>False</td>\n",
       "      <td>False</td>\n",
       "      <td>False</td>\n",
       "      <td>False</td>\n",
       "      <td>False</td>\n",
       "      <td>False</td>\n",
       "      <td>False</td>\n",
       "      <td>False</td>\n",
       "      <td>True</td>\n",
       "      <td>True</td>\n",
       "      <td>True</td>\n",
       "    </tr>\n",
       "    <tr>\n",
       "      <td>16711</td>\n",
       "      <td>False</td>\n",
       "      <td>False</td>\n",
       "      <td>False</td>\n",
       "      <td>False</td>\n",
       "      <td>False</td>\n",
       "      <td>False</td>\n",
       "      <td>False</td>\n",
       "      <td>False</td>\n",
       "      <td>True</td>\n",
       "      <td>True</td>\n",
       "      <td>True</td>\n",
       "    </tr>\n",
       "    <tr>\n",
       "      <td>16712</td>\n",
       "      <td>False</td>\n",
       "      <td>False</td>\n",
       "      <td>False</td>\n",
       "      <td>False</td>\n",
       "      <td>False</td>\n",
       "      <td>False</td>\n",
       "      <td>False</td>\n",
       "      <td>False</td>\n",
       "      <td>True</td>\n",
       "      <td>True</td>\n",
       "      <td>True</td>\n",
       "    </tr>\n",
       "    <tr>\n",
       "      <td>16713</td>\n",
       "      <td>False</td>\n",
       "      <td>False</td>\n",
       "      <td>False</td>\n",
       "      <td>False</td>\n",
       "      <td>False</td>\n",
       "      <td>False</td>\n",
       "      <td>False</td>\n",
       "      <td>False</td>\n",
       "      <td>True</td>\n",
       "      <td>True</td>\n",
       "      <td>True</td>\n",
       "    </tr>\n",
       "    <tr>\n",
       "      <td>16714</td>\n",
       "      <td>False</td>\n",
       "      <td>False</td>\n",
       "      <td>False</td>\n",
       "      <td>False</td>\n",
       "      <td>False</td>\n",
       "      <td>False</td>\n",
       "      <td>False</td>\n",
       "      <td>False</td>\n",
       "      <td>True</td>\n",
       "      <td>True</td>\n",
       "      <td>True</td>\n",
       "    </tr>\n",
       "  </tbody>\n",
       "</table>\n",
       "<p>16715 rows × 11 columns</p>\n",
       "</div>"
      ],
      "text/plain": [
       "        Name  Platform  Year_of_Release  Genre  NA_sales  EU_sales  JP_sales  \\\n",
       "0      False     False            False  False     False     False     False   \n",
       "1      False     False            False  False     False     False     False   \n",
       "2      False     False            False  False     False     False     False   \n",
       "3      False     False            False  False     False     False     False   \n",
       "4      False     False            False  False     False     False     False   \n",
       "...      ...       ...              ...    ...       ...       ...       ...   \n",
       "16710  False     False            False  False     False     False     False   \n",
       "16711  False     False            False  False     False     False     False   \n",
       "16712  False     False            False  False     False     False     False   \n",
       "16713  False     False            False  False     False     False     False   \n",
       "16714  False     False            False  False     False     False     False   \n",
       "\n",
       "       Other_sales  Critic_Score  User_Score  Rating  \n",
       "0            False         False       False   False  \n",
       "1            False          True        True    True  \n",
       "2            False         False       False   False  \n",
       "3            False         False       False   False  \n",
       "4            False          True        True    True  \n",
       "...            ...           ...         ...     ...  \n",
       "16710        False          True        True    True  \n",
       "16711        False          True        True    True  \n",
       "16712        False          True        True    True  \n",
       "16713        False          True        True    True  \n",
       "16714        False          True        True    True  \n",
       "\n",
       "[16715 rows x 11 columns]"
      ]
     },
     "execution_count": 11,
     "metadata": {},
     "output_type": "execute_result"
    }
   ],
   "source": [
    "#проверим пропуски\n",
    "games.isna()"
   ]
  },
  {
   "cell_type": "markdown",
   "metadata": {},
   "source": [
    "Наши самые проблемные места - оценка игр, по мнению критиков, геймеров и ESRB. "
   ]
  },
  {
   "cell_type": "markdown",
   "metadata": {},
   "source": [
    "**Вывод: полученные данные не совершенны, но благодаря тому, что мы внимательно посмотрели, есть чёткий план действий. Для начала привести к нижнему регистру названия столбцов, а некоторые столбцы к змеиному регистру, поменять типы данных на корректные, там где мы это обнаружили, поработать с пропусками и дубликатами, благо они сконцентрированы колонках, отвечающих за рейтинг.**"
   ]
  },
  {
   "cell_type": "markdown",
   "metadata": {},
   "source": [
    "<div class=\"alert alert-success\" style=\"border-radius: 15px; box-shadow: 4px 4px 4px; border: 1px solid \">\n",
    "<h2> Комментарий ревьюера</h2>\n",
    "    \n",
    "Хорошая вводная часть. </div>"
   ]
  },
  {
   "cell_type": "markdown",
   "metadata": {},
   "source": [
    "# 2 Шаг. Предобработка данных."
   ]
  },
  {
   "cell_type": "code",
   "execution_count": 12,
   "metadata": {},
   "outputs": [],
   "source": [
    "#начнём работу над колонками, приведём названия к нижнему регистру\n",
    "games.columns = games.columns.str.lower()"
   ]
  },
  {
   "cell_type": "code",
   "execution_count": 13,
   "metadata": {},
   "outputs": [
    {
     "data": {
      "text/plain": [
       "Index(['name', 'platform', 'year_of_release', 'genre', 'na_sales', 'eu_sales',\n",
       "       'jp_sales', 'other_sales', 'critic_score', 'user_score', 'rating'],\n",
       "      dtype='object')"
      ]
     },
     "execution_count": 13,
     "metadata": {},
     "output_type": "execute_result"
    }
   ],
   "source": [
    "#проверяем\n",
    "games.columns"
   ]
  },
  {
   "cell_type": "code",
   "execution_count": 14,
   "metadata": {},
   "outputs": [],
   "source": [
    "#поменяем названия столбцов\n",
    "games = games.rename(columns={'name': 'game_name', 'platform': 'platform_for_game', 'genre': 'game_genre', 'rating': 'rating_esrb'})"
   ]
  },
  {
   "cell_type": "code",
   "execution_count": 15,
   "metadata": {},
   "outputs": [
    {
     "data": {
      "text/html": [
       "<div>\n",
       "<style scoped>\n",
       "    .dataframe tbody tr th:only-of-type {\n",
       "        vertical-align: middle;\n",
       "    }\n",
       "\n",
       "    .dataframe tbody tr th {\n",
       "        vertical-align: top;\n",
       "    }\n",
       "\n",
       "    .dataframe thead th {\n",
       "        text-align: right;\n",
       "    }\n",
       "</style>\n",
       "<table border=\"1\" class=\"dataframe\">\n",
       "  <thead>\n",
       "    <tr style=\"text-align: right;\">\n",
       "      <th></th>\n",
       "      <th>game_name</th>\n",
       "      <th>platform_for_game</th>\n",
       "      <th>year_of_release</th>\n",
       "      <th>game_genre</th>\n",
       "      <th>na_sales</th>\n",
       "      <th>eu_sales</th>\n",
       "      <th>jp_sales</th>\n",
       "      <th>other_sales</th>\n",
       "      <th>critic_score</th>\n",
       "      <th>user_score</th>\n",
       "      <th>rating_esrb</th>\n",
       "    </tr>\n",
       "  </thead>\n",
       "  <tbody>\n",
       "    <tr>\n",
       "      <td>0</td>\n",
       "      <td>Wii Sports</td>\n",
       "      <td>Wii</td>\n",
       "      <td>2006.0</td>\n",
       "      <td>Sports</td>\n",
       "      <td>41.36</td>\n",
       "      <td>28.96</td>\n",
       "      <td>3.77</td>\n",
       "      <td>8.45</td>\n",
       "      <td>76.0</td>\n",
       "      <td>8</td>\n",
       "      <td>E</td>\n",
       "    </tr>\n",
       "    <tr>\n",
       "      <td>1</td>\n",
       "      <td>Super Mario Bros.</td>\n",
       "      <td>NES</td>\n",
       "      <td>1985.0</td>\n",
       "      <td>Platform</td>\n",
       "      <td>29.08</td>\n",
       "      <td>3.58</td>\n",
       "      <td>6.81</td>\n",
       "      <td>0.77</td>\n",
       "      <td>NaN</td>\n",
       "      <td>NaN</td>\n",
       "      <td>NaN</td>\n",
       "    </tr>\n",
       "    <tr>\n",
       "      <td>2</td>\n",
       "      <td>Mario Kart Wii</td>\n",
       "      <td>Wii</td>\n",
       "      <td>2008.0</td>\n",
       "      <td>Racing</td>\n",
       "      <td>15.68</td>\n",
       "      <td>12.76</td>\n",
       "      <td>3.79</td>\n",
       "      <td>3.29</td>\n",
       "      <td>82.0</td>\n",
       "      <td>8.3</td>\n",
       "      <td>E</td>\n",
       "    </tr>\n",
       "    <tr>\n",
       "      <td>3</td>\n",
       "      <td>Wii Sports Resort</td>\n",
       "      <td>Wii</td>\n",
       "      <td>2009.0</td>\n",
       "      <td>Sports</td>\n",
       "      <td>15.61</td>\n",
       "      <td>10.93</td>\n",
       "      <td>3.28</td>\n",
       "      <td>2.95</td>\n",
       "      <td>80.0</td>\n",
       "      <td>8</td>\n",
       "      <td>E</td>\n",
       "    </tr>\n",
       "    <tr>\n",
       "      <td>4</td>\n",
       "      <td>Pokemon Red/Pokemon Blue</td>\n",
       "      <td>GB</td>\n",
       "      <td>1996.0</td>\n",
       "      <td>Role-Playing</td>\n",
       "      <td>11.27</td>\n",
       "      <td>8.89</td>\n",
       "      <td>10.22</td>\n",
       "      <td>1.00</td>\n",
       "      <td>NaN</td>\n",
       "      <td>NaN</td>\n",
       "      <td>NaN</td>\n",
       "    </tr>\n",
       "  </tbody>\n",
       "</table>\n",
       "</div>"
      ],
      "text/plain": [
       "                  game_name platform_for_game  year_of_release    game_genre  \\\n",
       "0                Wii Sports               Wii           2006.0        Sports   \n",
       "1         Super Mario Bros.               NES           1985.0      Platform   \n",
       "2            Mario Kart Wii               Wii           2008.0        Racing   \n",
       "3         Wii Sports Resort               Wii           2009.0        Sports   \n",
       "4  Pokemon Red/Pokemon Blue                GB           1996.0  Role-Playing   \n",
       "\n",
       "   na_sales  eu_sales  jp_sales  other_sales  critic_score user_score  \\\n",
       "0     41.36     28.96      3.77         8.45          76.0          8   \n",
       "1     29.08      3.58      6.81         0.77           NaN        NaN   \n",
       "2     15.68     12.76      3.79         3.29          82.0        8.3   \n",
       "3     15.61     10.93      3.28         2.95          80.0          8   \n",
       "4     11.27      8.89     10.22         1.00           NaN        NaN   \n",
       "\n",
       "  rating_esrb  \n",
       "0           E  \n",
       "1         NaN  \n",
       "2           E  \n",
       "3           E  \n",
       "4         NaN  "
      ]
     },
     "execution_count": 15,
     "metadata": {},
     "output_type": "execute_result"
    }
   ],
   "source": [
    "#смотрим результат\n",
    "games.head()"
   ]
  },
  {
   "cell_type": "markdown",
   "metadata": {},
   "source": [
    "Отлично, выглядит приятно, двигаемся дальше. Пришла пора менять тип данных."
   ]
  },
  {
   "cell_type": "code",
   "execution_count": 16,
   "metadata": {},
   "outputs": [
    {
     "name": "stdout",
     "output_type": "stream",
     "text": [
      "<class 'pandas.core.frame.DataFrame'>\n",
      "RangeIndex: 16715 entries, 0 to 16714\n",
      "Data columns (total 11 columns):\n",
      "game_name            16713 non-null object\n",
      "platform_for_game    16715 non-null object\n",
      "year_of_release      16446 non-null float64\n",
      "game_genre           16713 non-null object\n",
      "na_sales             16715 non-null float64\n",
      "eu_sales             16715 non-null float64\n",
      "jp_sales             16715 non-null float64\n",
      "other_sales          16715 non-null float64\n",
      "critic_score         8137 non-null float64\n",
      "user_score           10014 non-null object\n",
      "rating_esrb          9949 non-null object\n",
      "dtypes: float64(6), object(5)\n",
      "memory usage: 1.4+ MB\n"
     ]
    }
   ],
   "source": [
    "games.info()"
   ]
  },
  {
   "cell_type": "code",
   "execution_count": 17,
   "metadata": {},
   "outputs": [],
   "source": [
    "#приведём в порядок типы данных для нашего датасета, начнём  с колонки с датой выхода, заполним пропуски\n",
    "games['year_of_release'] = games['year_of_release'].fillna(2021)"
   ]
  },
  {
   "cell_type": "markdown",
   "metadata": {},
   "source": [
    "<div class=\"alert alert-success\" style=\"border-radius: 15px; box-shadow: 4px 4px 4px; border: 1px solid \">\n",
    "<h2> Комментарий ревьюера</h2>\n",
    "    \n",
    "Год выпуска целевой игры можно посмотреть на других платформах, обычно между ними небольшая разница. Кроме того, некоторые игры имеют в названии год. Это спортивные игры с указанием года окончания сезона. Но можно их удалить или проигнорировать.\n",
    "</div>"
   ]
  },
  {
   "cell_type": "markdown",
   "metadata": {},
   "source": [
    "<div class = \"alert alert-info\" >\n",
    "<h3>Комментарий студента</h3>\n",
    "Да, я это учитывал, но в данном случае это не играет большой разницы. Я в юности как раз таки играл в FIFA и NHL)\n",
    "</div>"
   ]
  },
  {
   "cell_type": "markdown",
   "metadata": {},
   "source": [
    "Пусть игры с пропусками в дате выхода перейдут в фазу \"в разработке\", раз нет информации о выходе, значит игровая студия ещё работает над проектом. "
   ]
  },
  {
   "cell_type": "code",
   "execution_count": 18,
   "metadata": {},
   "outputs": [],
   "source": [
    "#теперь в колонке дата выхода будут красивые цифры\n",
    "games['year_of_release'] = games['year_of_release'].astype('int')"
   ]
  },
  {
   "cell_type": "code",
   "execution_count": 19,
   "metadata": {},
   "outputs": [
    {
     "data": {
      "text/plain": [
       "game_name             object\n",
       "platform_for_game     object\n",
       "year_of_release        int64\n",
       "game_genre            object\n",
       "na_sales             float64\n",
       "eu_sales             float64\n",
       "jp_sales             float64\n",
       "other_sales          float64\n",
       "critic_score         float64\n",
       "user_score            object\n",
       "rating_esrb           object\n",
       "dtype: object"
      ]
     },
     "execution_count": 19,
     "metadata": {},
     "output_type": "execute_result"
    }
   ],
   "source": [
    "#проверим\n",
    "games.dtypes\n",
    "#отлично, данные заменены"
   ]
  },
  {
   "cell_type": "code",
   "execution_count": 20,
   "metadata": {},
   "outputs": [],
   "source": [
    "#решим нашу проблему с  колонкой user_score, разберёмся с пропусками в виде 'tdb'\n",
    "games.loc[games['user_score'] == 'tbd', 'user_score'] = float('nan')"
   ]
  },
  {
   "cell_type": "markdown",
   "metadata": {},
   "source": [
    "<div class=\"alert alert-success\" style=\"border-radius: 15px; box-shadow: 4px 4px 4px; border: 1px solid \">\n",
    "<h2> Комментарий ревьюера</h2>\n",
    "    \n",
    "Верно. По сути, это и есть Nan-ы.</div>"
   ]
  },
  {
   "cell_type": "markdown",
   "metadata": {},
   "source": [
    "<div class = \"alert alert-info\" >\n",
    "<h3>Комментарий студента</h3>\n",
    "Да, но при этом они жизни не дают, особенно если хочется перевести данные в тип int)\n",
    "</div>"
   ]
  },
  {
   "cell_type": "code",
   "execution_count": 21,
   "metadata": {},
   "outputs": [
    {
     "name": "stdout",
     "output_type": "stream",
     "text": [
      "<class 'pandas.core.frame.DataFrame'>\n",
      "RangeIndex: 16715 entries, 0 to 16714\n",
      "Data columns (total 11 columns):\n",
      "game_name            16713 non-null object\n",
      "platform_for_game    16715 non-null object\n",
      "year_of_release      16715 non-null int64\n",
      "game_genre           16713 non-null object\n",
      "na_sales             16715 non-null float64\n",
      "eu_sales             16715 non-null float64\n",
      "jp_sales             16715 non-null float64\n",
      "other_sales          16715 non-null float64\n",
      "critic_score         8137 non-null float64\n",
      "user_score           7590 non-null float32\n",
      "rating_esrb          9949 non-null object\n",
      "dtypes: float32(1), float64(5), int64(1), object(4)\n",
      "memory usage: 1.3+ MB\n"
     ]
    }
   ],
   "source": [
    "#приведём данные в user_score к типу integer\n",
    "games['critic_score'] = pd.to_numeric(games['critic_score'], downcast='integer')\n",
    "games['user_score'] = pd.to_numeric(games['user_score'], downcast='float', errors ='coerce')\n",
    "games['user_score'] = games['user_score'].round(1)\n",
    "games.info()"
   ]
  },
  {
   "cell_type": "code",
   "execution_count": 22,
   "metadata": {},
   "outputs": [
    {
     "data": {
      "text/plain": [
       "user_score           54.591684\n",
       "critic_score         51.319174\n",
       "rating_esrb          40.478612\n",
       "game_genre            0.011965\n",
       "game_name             0.011965\n",
       "other_sales           0.000000\n",
       "jp_sales              0.000000\n",
       "eu_sales              0.000000\n",
       "na_sales              0.000000\n",
       "year_of_release       0.000000\n",
       "platform_for_game     0.000000\n",
       "dtype: float64"
      ]
     },
     "execution_count": 22,
     "metadata": {},
     "output_type": "execute_result"
    }
   ],
   "source": [
    "#взглянем на пропуски в %\n",
    "games.isnull().sum().sort_values(ascending = False) / games.shape[0] * 100"
   ]
  },
  {
   "cell_type": "markdown",
   "metadata": {},
   "source": [
    "В колонках game_genre и game_name одинаковое кол-во пропусков и настолько мало, что никак не повлияет на наш датасет, поэтому мы просто удалим эти строки. Сложнее ситуация обстоит с колонками user_score/critic_score/rating_esrb. \n",
    "Ранее мы видели что среди уникальных значений колонки user_score есть \"0\", значит мы уже не можем заполнить нулями пропуски, данные исказятся. "
   ]
  },
  {
   "cell_type": "code",
   "execution_count": 23,
   "metadata": {},
   "outputs": [],
   "source": [
    "#избавляемся от пропусков в колонках с названием и жанром игр\n",
    "games.dropna(subset = ['game_genre', 'game_name'], inplace = True)"
   ]
  },
  {
   "cell_type": "code",
   "execution_count": 24,
   "metadata": {},
   "outputs": [
    {
     "data": {
      "text/plain": [
       "0"
      ]
     },
     "execution_count": 24,
     "metadata": {},
     "output_type": "execute_result"
    }
   ],
   "source": [
    "#проверим game_genre\n",
    "games['game_genre'].isna().sum()"
   ]
  },
  {
   "cell_type": "code",
   "execution_count": 25,
   "metadata": {},
   "outputs": [
    {
     "data": {
      "text/plain": [
       "0"
      ]
     },
     "execution_count": 25,
     "metadata": {},
     "output_type": "execute_result"
    }
   ],
   "source": [
    "#теперь game_name\n",
    "games['game_name'].isna().sum()"
   ]
  },
  {
   "cell_type": "code",
   "execution_count": 26,
   "metadata": {},
   "outputs": [
    {
     "data": {
      "text/plain": [
       "array([76., nan, 82., 80., 89., 58., 87., 91., 61., 97., 95., 77., 88.,\n",
       "       83., 94., 93., 85., 86., 98., 96., 90., 84., 73., 74., 78., 92.,\n",
       "       71., 72., 68., 62., 49., 67., 81., 66., 56., 79., 70., 59., 64.,\n",
       "       75., 60., 63., 69., 50., 25., 42., 44., 55., 48., 57., 29., 47.,\n",
       "       65., 54., 20., 53., 37., 38., 33., 52., 30., 32., 43., 45., 51.,\n",
       "       40., 46., 39., 34., 35., 41., 36., 28., 31., 27., 26., 19., 23.,\n",
       "       24., 21., 17., 22., 13.])"
      ]
     },
     "execution_count": 26,
     "metadata": {},
     "output_type": "execute_result"
    }
   ],
   "source": [
    "#посмотрим на список уникальных значений в колонке critic_score\n",
    "games['critic_score'].unique()"
   ]
  },
  {
   "cell_type": "markdown",
   "metadata": {},
   "source": [
    "Нулей по 100 бальной шкале ни одна из игр не получила, но при этом 51% пропусков мы не можем заполнить нулевыми значениями, поэтому оставим как есть. "
   ]
  },
  {
   "cell_type": "code",
   "execution_count": 27,
   "metadata": {},
   "outputs": [
    {
     "data": {
      "text/plain": [
       "array(['E', nan, 'M', 'T', 'E10+', 'K-A', 'AO', 'EC', 'RP'], dtype=object)"
      ]
     },
     "execution_count": 27,
     "metadata": {},
     "output_type": "execute_result"
    }
   ],
   "source": [
    "#посмотрим на список уникальных значений в колонке rating_esrb\n",
    "games['rating_esrb'].unique()"
   ]
  },
  {
   "cell_type": "markdown",
   "metadata": {},
   "source": [
    "Здесь будет уместно заменить NaN на значение 'not rated', всё таки тип данных object, поэтому сильного искажения при исследовании мы не получим, но зато будем понимать что есть игры без возрастного рейтинга."
   ]
  },
  {
   "cell_type": "code",
   "execution_count": 28,
   "metadata": {},
   "outputs": [],
   "source": [
    "#меняем пропуски в колонке rating_esrb на значение 'not rated'\n",
    "games['rating_esrb'] = games['rating_esrb'].fillna('not rated')"
   ]
  },
  {
   "cell_type": "code",
   "execution_count": 29,
   "metadata": {},
   "outputs": [
    {
     "data": {
      "text/plain": [
       "0"
      ]
     },
     "execution_count": 29,
     "metadata": {},
     "output_type": "execute_result"
    }
   ],
   "source": [
    "#проверяем\n",
    "games['rating_esrb'].isna().sum()"
   ]
  },
  {
   "cell_type": "code",
   "execution_count": 30,
   "metadata": {},
   "outputs": [
    {
     "data": {
      "text/html": [
       "<div>\n",
       "<style scoped>\n",
       "    .dataframe tbody tr th:only-of-type {\n",
       "        vertical-align: middle;\n",
       "    }\n",
       "\n",
       "    .dataframe tbody tr th {\n",
       "        vertical-align: top;\n",
       "    }\n",
       "\n",
       "    .dataframe thead th {\n",
       "        text-align: right;\n",
       "    }\n",
       "</style>\n",
       "<table border=\"1\" class=\"dataframe\">\n",
       "  <thead>\n",
       "    <tr style=\"text-align: right;\">\n",
       "      <th></th>\n",
       "      <th>game_name</th>\n",
       "      <th>platform_for_game</th>\n",
       "      <th>year_of_release</th>\n",
       "      <th>game_genre</th>\n",
       "      <th>na_sales</th>\n",
       "      <th>eu_sales</th>\n",
       "      <th>jp_sales</th>\n",
       "      <th>other_sales</th>\n",
       "      <th>critic_score</th>\n",
       "      <th>user_score</th>\n",
       "      <th>rating_esrb</th>\n",
       "      <th>all_region_sales</th>\n",
       "    </tr>\n",
       "  </thead>\n",
       "  <tbody>\n",
       "    <tr>\n",
       "      <td>0</td>\n",
       "      <td>Wii Sports</td>\n",
       "      <td>Wii</td>\n",
       "      <td>2006</td>\n",
       "      <td>Sports</td>\n",
       "      <td>41.36</td>\n",
       "      <td>28.96</td>\n",
       "      <td>3.77</td>\n",
       "      <td>8.45</td>\n",
       "      <td>76.0</td>\n",
       "      <td>8.0</td>\n",
       "      <td>E</td>\n",
       "      <td>82.54</td>\n",
       "    </tr>\n",
       "    <tr>\n",
       "      <td>1</td>\n",
       "      <td>Super Mario Bros.</td>\n",
       "      <td>NES</td>\n",
       "      <td>1985</td>\n",
       "      <td>Platform</td>\n",
       "      <td>29.08</td>\n",
       "      <td>3.58</td>\n",
       "      <td>6.81</td>\n",
       "      <td>0.77</td>\n",
       "      <td>NaN</td>\n",
       "      <td>NaN</td>\n",
       "      <td>not rated</td>\n",
       "      <td>40.24</td>\n",
       "    </tr>\n",
       "    <tr>\n",
       "      <td>2</td>\n",
       "      <td>Mario Kart Wii</td>\n",
       "      <td>Wii</td>\n",
       "      <td>2008</td>\n",
       "      <td>Racing</td>\n",
       "      <td>15.68</td>\n",
       "      <td>12.76</td>\n",
       "      <td>3.79</td>\n",
       "      <td>3.29</td>\n",
       "      <td>82.0</td>\n",
       "      <td>8.3</td>\n",
       "      <td>E</td>\n",
       "      <td>35.52</td>\n",
       "    </tr>\n",
       "    <tr>\n",
       "      <td>3</td>\n",
       "      <td>Wii Sports Resort</td>\n",
       "      <td>Wii</td>\n",
       "      <td>2009</td>\n",
       "      <td>Sports</td>\n",
       "      <td>15.61</td>\n",
       "      <td>10.93</td>\n",
       "      <td>3.28</td>\n",
       "      <td>2.95</td>\n",
       "      <td>80.0</td>\n",
       "      <td>8.0</td>\n",
       "      <td>E</td>\n",
       "      <td>32.77</td>\n",
       "    </tr>\n",
       "    <tr>\n",
       "      <td>4</td>\n",
       "      <td>Pokemon Red/Pokemon Blue</td>\n",
       "      <td>GB</td>\n",
       "      <td>1996</td>\n",
       "      <td>Role-Playing</td>\n",
       "      <td>11.27</td>\n",
       "      <td>8.89</td>\n",
       "      <td>10.22</td>\n",
       "      <td>1.00</td>\n",
       "      <td>NaN</td>\n",
       "      <td>NaN</td>\n",
       "      <td>not rated</td>\n",
       "      <td>31.38</td>\n",
       "    </tr>\n",
       "  </tbody>\n",
       "</table>\n",
       "</div>"
      ],
      "text/plain": [
       "                  game_name platform_for_game  year_of_release    game_genre  \\\n",
       "0                Wii Sports               Wii             2006        Sports   \n",
       "1         Super Mario Bros.               NES             1985      Platform   \n",
       "2            Mario Kart Wii               Wii             2008        Racing   \n",
       "3         Wii Sports Resort               Wii             2009        Sports   \n",
       "4  Pokemon Red/Pokemon Blue                GB             1996  Role-Playing   \n",
       "\n",
       "   na_sales  eu_sales  jp_sales  other_sales  critic_score  user_score  \\\n",
       "0     41.36     28.96      3.77         8.45          76.0         8.0   \n",
       "1     29.08      3.58      6.81         0.77           NaN         NaN   \n",
       "2     15.68     12.76      3.79         3.29          82.0         8.3   \n",
       "3     15.61     10.93      3.28         2.95          80.0         8.0   \n",
       "4     11.27      8.89     10.22         1.00           NaN         NaN   \n",
       "\n",
       "  rating_esrb  all_region_sales  \n",
       "0           E             82.54  \n",
       "1   not rated             40.24  \n",
       "2           E             35.52  \n",
       "3           E             32.77  \n",
       "4   not rated             31.38  "
      ]
     },
     "execution_count": 30,
     "metadata": {},
     "output_type": "execute_result"
    }
   ],
   "source": [
    "#посчитаем суммарные продажи во всех регионах и запишем их в отдельный столбец all_region_sales\n",
    "def counter(data):\n",
    "    summa = data['na_sales'] + data['eu_sales'] + data['jp_sales'] + data['other_sales']\n",
    "    return summa\n",
    "\n",
    "games['all_region_sales'] = games.apply(counter, axis=1)\n",
    "games.head()"
   ]
  },
  {
   "cell_type": "markdown",
   "metadata": {},
   "source": [
    "<div class=\"alert alert-success\" style=\"border-radius: 15px; box-shadow: 4px 4px 4px; border: 1px solid \">\n",
    "<h2> Комментарий ревьюера</h2>\n",
    " \n",
    "    \n",
    "Нужна ли для этого функция? :)\n",
    "    \n",
    "    \n",
    "Можно еще взять метод **sum** с аргументом **axis=1**.\n",
    "    \n",
    "</div>\n",
    "\n",
    "```python\n",
    "\n",
    "\n",
    "df['total_sales'] = df[['na_sales','eu_sales','jp_sales','other_sales']].sum(axis=1)\n",
    "```"
   ]
  },
  {
   "cell_type": "markdown",
   "metadata": {},
   "source": [
    "<div class = \"alert alert-info\" >\n",
    "<h3>Комментарий студента</h3>\n",
    "Согласен, но я решил потренироваться, последнее время функции не так часто используются на курсе.\n",
    "</div>"
   ]
  },
  {
   "cell_type": "markdown",
   "metadata": {},
   "source": [
    "**Вывод: все необходимые процедуры предобработки мы выполнили, столбцы в нижнем регистре, год выпуска теперь отображается корректно, с tbd разобрались, сумму всех продаж посчитали и записали в отдельную колонку, пропуски в рейтингах решили с помощью заглушки, остались лишь незаполненные пропуски в колонках оценки геймеров и оценки критиков, но они нам сильно не помешают, будем рабоать с тем, что есть.**"
   ]
  },
  {
   "cell_type": "markdown",
   "metadata": {},
   "source": [
    "# 3 Шаг. Исследовательский анализ данных."
   ]
  },
  {
   "cell_type": "markdown",
   "metadata": {},
   "source": [
    "Задание:\n",
    "- Посмотрите, сколько игр выпускалось в разные годы. Важны ли данные за все периоды?\n",
    "- Посмотрите, как менялись продажи по платформам. Выберите платформы с наибольшими суммарными продажами и постройте распределение по годам. За какой характерный срок появляются новые и исчезают старые платформы?\n",
    "- Возьмите данные за соответствующий актуальный период. Актуальный период определите самостоятельно в результате исследования предыдущих вопросов. Основной фактор — эти данные помогут построить прогноз на 2017 год.\n",
    "- Не учитывайте в работе данные за предыдущие годы.\n",
    "- Какие платформы лидируют по продажам, растут или падают? Выберите несколько потенциально прибыльных платформ.\n",
    "- Постройте график «ящик с усами» по глобальным продажам игр в разбивке по платформам. Опишите результат.\n",
    "- Посмотрите, как влияют на продажи внутри одной популярной платформы отзывы пользователей и критиков. Постройте диаграмму рассеяния и посчитайте корреляцию между отзывами и продажами. Сформулируйте выводы.\n",
    "- Соотнесите выводы с продажами игр на других платформах.\n",
    "- Посмотрите на общее распределение игр по жанрам. Что можно сказать о самых прибыльных жанрах? Выделяются ли жанры с высокими и низкими продажами?"
   ]
  },
  {
   "cell_type": "code",
   "execution_count": 31,
   "metadata": {},
   "outputs": [
    {
     "data": {
      "text/html": [
       "<div>\n",
       "<style scoped>\n",
       "    .dataframe tbody tr th:only-of-type {\n",
       "        vertical-align: middle;\n",
       "    }\n",
       "\n",
       "    .dataframe tbody tr th {\n",
       "        vertical-align: top;\n",
       "    }\n",
       "\n",
       "    .dataframe thead th {\n",
       "        text-align: right;\n",
       "    }\n",
       "</style>\n",
       "<table border=\"1\" class=\"dataframe\">\n",
       "  <thead>\n",
       "    <tr style=\"text-align: right;\">\n",
       "      <th></th>\n",
       "      <th>games_count</th>\n",
       "    </tr>\n",
       "    <tr>\n",
       "      <th>year_of_release</th>\n",
       "      <th></th>\n",
       "    </tr>\n",
       "  </thead>\n",
       "  <tbody>\n",
       "    <tr>\n",
       "      <td>1980</td>\n",
       "      <td>9</td>\n",
       "    </tr>\n",
       "    <tr>\n",
       "      <td>1981</td>\n",
       "      <td>46</td>\n",
       "    </tr>\n",
       "    <tr>\n",
       "      <td>1982</td>\n",
       "      <td>36</td>\n",
       "    </tr>\n",
       "    <tr>\n",
       "      <td>1983</td>\n",
       "      <td>17</td>\n",
       "    </tr>\n",
       "    <tr>\n",
       "      <td>1984</td>\n",
       "      <td>14</td>\n",
       "    </tr>\n",
       "    <tr>\n",
       "      <td>1985</td>\n",
       "      <td>14</td>\n",
       "    </tr>\n",
       "    <tr>\n",
       "      <td>1986</td>\n",
       "      <td>21</td>\n",
       "    </tr>\n",
       "    <tr>\n",
       "      <td>1987</td>\n",
       "      <td>16</td>\n",
       "    </tr>\n",
       "    <tr>\n",
       "      <td>1988</td>\n",
       "      <td>15</td>\n",
       "    </tr>\n",
       "    <tr>\n",
       "      <td>1989</td>\n",
       "      <td>17</td>\n",
       "    </tr>\n",
       "    <tr>\n",
       "      <td>1990</td>\n",
       "      <td>16</td>\n",
       "    </tr>\n",
       "    <tr>\n",
       "      <td>1991</td>\n",
       "      <td>41</td>\n",
       "    </tr>\n",
       "    <tr>\n",
       "      <td>1992</td>\n",
       "      <td>43</td>\n",
       "    </tr>\n",
       "    <tr>\n",
       "      <td>1993</td>\n",
       "      <td>60</td>\n",
       "    </tr>\n",
       "    <tr>\n",
       "      <td>1994</td>\n",
       "      <td>121</td>\n",
       "    </tr>\n",
       "    <tr>\n",
       "      <td>1995</td>\n",
       "      <td>219</td>\n",
       "    </tr>\n",
       "    <tr>\n",
       "      <td>1996</td>\n",
       "      <td>263</td>\n",
       "    </tr>\n",
       "    <tr>\n",
       "      <td>1997</td>\n",
       "      <td>289</td>\n",
       "    </tr>\n",
       "    <tr>\n",
       "      <td>1998</td>\n",
       "      <td>379</td>\n",
       "    </tr>\n",
       "    <tr>\n",
       "      <td>1999</td>\n",
       "      <td>338</td>\n",
       "    </tr>\n",
       "    <tr>\n",
       "      <td>2000</td>\n",
       "      <td>350</td>\n",
       "    </tr>\n",
       "    <tr>\n",
       "      <td>2001</td>\n",
       "      <td>482</td>\n",
       "    </tr>\n",
       "    <tr>\n",
       "      <td>2002</td>\n",
       "      <td>829</td>\n",
       "    </tr>\n",
       "    <tr>\n",
       "      <td>2003</td>\n",
       "      <td>775</td>\n",
       "    </tr>\n",
       "    <tr>\n",
       "      <td>2004</td>\n",
       "      <td>762</td>\n",
       "    </tr>\n",
       "    <tr>\n",
       "      <td>2005</td>\n",
       "      <td>939</td>\n",
       "    </tr>\n",
       "    <tr>\n",
       "      <td>2006</td>\n",
       "      <td>1006</td>\n",
       "    </tr>\n",
       "    <tr>\n",
       "      <td>2007</td>\n",
       "      <td>1197</td>\n",
       "    </tr>\n",
       "    <tr>\n",
       "      <td>2008</td>\n",
       "      <td>1427</td>\n",
       "    </tr>\n",
       "    <tr>\n",
       "      <td>2009</td>\n",
       "      <td>1426</td>\n",
       "    </tr>\n",
       "    <tr>\n",
       "      <td>2010</td>\n",
       "      <td>1255</td>\n",
       "    </tr>\n",
       "    <tr>\n",
       "      <td>2011</td>\n",
       "      <td>1136</td>\n",
       "    </tr>\n",
       "    <tr>\n",
       "      <td>2012</td>\n",
       "      <td>653</td>\n",
       "    </tr>\n",
       "    <tr>\n",
       "      <td>2013</td>\n",
       "      <td>544</td>\n",
       "    </tr>\n",
       "    <tr>\n",
       "      <td>2014</td>\n",
       "      <td>581</td>\n",
       "    </tr>\n",
       "    <tr>\n",
       "      <td>2015</td>\n",
       "      <td>606</td>\n",
       "    </tr>\n",
       "    <tr>\n",
       "      <td>2016</td>\n",
       "      <td>502</td>\n",
       "    </tr>\n",
       "    <tr>\n",
       "      <td>2021</td>\n",
       "      <td>269</td>\n",
       "    </tr>\n",
       "  </tbody>\n",
       "</table>\n",
       "</div>"
      ],
      "text/plain": [
       "                 games_count\n",
       "year_of_release             \n",
       "1980                       9\n",
       "1981                      46\n",
       "1982                      36\n",
       "1983                      17\n",
       "1984                      14\n",
       "1985                      14\n",
       "1986                      21\n",
       "1987                      16\n",
       "1988                      15\n",
       "1989                      17\n",
       "1990                      16\n",
       "1991                      41\n",
       "1992                      43\n",
       "1993                      60\n",
       "1994                     121\n",
       "1995                     219\n",
       "1996                     263\n",
       "1997                     289\n",
       "1998                     379\n",
       "1999                     338\n",
       "2000                     350\n",
       "2001                     482\n",
       "2002                     829\n",
       "2003                     775\n",
       "2004                     762\n",
       "2005                     939\n",
       "2006                    1006\n",
       "2007                    1197\n",
       "2008                    1427\n",
       "2009                    1426\n",
       "2010                    1255\n",
       "2011                    1136\n",
       "2012                     653\n",
       "2013                     544\n",
       "2014                     581\n",
       "2015                     606\n",
       "2016                     502\n",
       "2021                     269"
      ]
     },
     "execution_count": 31,
     "metadata": {},
     "output_type": "execute_result"
    }
   ],
   "source": [
    "#посмотрим сколько игр выпускалось в разные годы\n",
    "year_of_release_pivot_table = pd.pivot_table(games, index='year_of_release', values='game_name', aggfunc='count')\n",
    "year_of_release_pivot_table.columns = ['games_count']\n",
    "year_of_release_pivot_table"
   ]
  },
  {
   "cell_type": "code",
   "execution_count": 32,
   "metadata": {},
   "outputs": [
    {
     "data": {
      "text/plain": [
       "Text(0.5, 1.0, 'Динамика выхода игр')"
      ]
     },
     "execution_count": 32,
     "metadata": {},
     "output_type": "execute_result"
    },
    {
     "data": {
      "image/png": "[encoded data removed]",
      "text/plain": [
       "<Figure size 720x360 with 1 Axes>"
      ]
     },
     "metadata": {
      "needs_background": "light"
     },
     "output_type": "display_data"
    }
   ],
   "source": [
    "#построим график \n",
    "year_of_release_pivot_table.plot(figsize = (10,5))\n",
    "plt.legend(['games'])\n",
    "plt.ylabel('games_count')\n",
    "plt.xlabel('year_of_release')\n",
    "plt.title('Динамика выхода игр')"
   ]
  },
  {
   "cell_type": "markdown",
   "metadata": {},
   "source": [
    "- Важны ли данные за все периоды?\n",
    "Данные по всем периодам не имеют сильного значения.\n",
    "\n",
    "- С 1980 годов по 1993 рынок только зарождался, незначительное число компаний и небольшое количество игроков, ровно как и не было в то время экспертов этого рынка и тем более критиков. Рост числа игр пришёл вместе с технологическим ростом: появлением персонального компьютера (PC) и новых языков программирования.\n",
    "\n",
    "- В 2002 году виден значительный рост, это означает, что в период с 1997 по 2002 были разработаны первые игровые движки для создания более продвинутых и реалистичных игр, а так же совершенствование \"железа\" для персональных компьютеров.\n",
    "\n",
    "- Пик приходится на 2009 это связано не только с популярностью компьютерных игр, но и споявлением новой концепции игр для пользователей, а именно \"Free to Play\", где пользователь получает игру бесплатно, но при этом игра стимулирует к покупке внутриигровых предметов. График как раз нам показывает что продажи падаютЮ так как данная концепция пользуется успехом, ведь разработчики зарабатывают больше и самое главное постоянно, выпуская новые внутриигровые предметы и дополнения. \n",
    "\n",
    "- Спад индустри игр с 2010 по 2015 может быть обусловлен экономическим кризисом и повышением системных требований к игре. Не все геймеры готовы обновлять свой компьютер, тем более в кризисное время. Крупные разработчики, такие как Valve, Electronics Art, Blizzard создают игры длительное время и больше всех готовы к new wave, так как обладают значительной ресурсной базой."
   ]
  },
  {
   "cell_type": "markdown",
   "metadata": {},
   "source": [
    "<div class=\"alert alert-success\" style=\"border-radius: 15px; box-shadow: 4px 4px 4px; border: 1px solid \">\n",
    "<h2> Комментарий ревьюера</h2>\n",
    "    \n",
    "Отличная визуализация. Уже по ней можно прикинуть актуальный период.    \n",
    "</div>"
   ]
  },
  {
   "cell_type": "markdown",
   "metadata": {},
   "source": [
    "<div class = \"alert alert-info\" >\n",
    "<h3>Комментарий студента</h3>\n",
    "Спасибки)\n",
    "</div>"
   ]
  },
  {
   "cell_type": "code",
   "execution_count": 33,
   "metadata": {},
   "outputs": [
    {
     "data": {
      "text/html": [
       "<div>\n",
       "<style scoped>\n",
       "    .dataframe tbody tr th:only-of-type {\n",
       "        vertical-align: middle;\n",
       "    }\n",
       "\n",
       "    .dataframe tbody tr th {\n",
       "        vertical-align: top;\n",
       "    }\n",
       "\n",
       "    .dataframe thead th {\n",
       "        text-align: right;\n",
       "    }\n",
       "</style>\n",
       "<table border=\"1\" class=\"dataframe\">\n",
       "  <thead>\n",
       "    <tr style=\"text-align: right;\">\n",
       "      <th></th>\n",
       "      <th>all_region_sales</th>\n",
       "    </tr>\n",
       "    <tr>\n",
       "      <th>platform_for_game</th>\n",
       "      <th></th>\n",
       "    </tr>\n",
       "  </thead>\n",
       "  <tbody>\n",
       "    <tr>\n",
       "      <td>PS2</td>\n",
       "      <td>1255.77</td>\n",
       "    </tr>\n",
       "    <tr>\n",
       "      <td>X360</td>\n",
       "      <td>971.42</td>\n",
       "    </tr>\n",
       "    <tr>\n",
       "      <td>PS3</td>\n",
       "      <td>939.65</td>\n",
       "    </tr>\n",
       "    <tr>\n",
       "      <td>Wii</td>\n",
       "      <td>907.51</td>\n",
       "    </tr>\n",
       "    <tr>\n",
       "      <td>DS</td>\n",
       "      <td>806.12</td>\n",
       "    </tr>\n",
       "    <tr>\n",
       "      <td>PS</td>\n",
       "      <td>730.86</td>\n",
       "    </tr>\n",
       "    <tr>\n",
       "      <td>GBA</td>\n",
       "      <td>317.85</td>\n",
       "    </tr>\n",
       "    <tr>\n",
       "      <td>PS4</td>\n",
       "      <td>314.14</td>\n",
       "    </tr>\n",
       "    <tr>\n",
       "      <td>PSP</td>\n",
       "      <td>294.05</td>\n",
       "    </tr>\n",
       "    <tr>\n",
       "      <td>PC</td>\n",
       "      <td>259.52</td>\n",
       "    </tr>\n",
       "    <tr>\n",
       "      <td>3DS</td>\n",
       "      <td>259.00</td>\n",
       "    </tr>\n",
       "    <tr>\n",
       "      <td>XB</td>\n",
       "      <td>257.74</td>\n",
       "    </tr>\n",
       "    <tr>\n",
       "      <td>GB</td>\n",
       "      <td>255.46</td>\n",
       "    </tr>\n",
       "    <tr>\n",
       "      <td>NES</td>\n",
       "      <td>251.05</td>\n",
       "    </tr>\n",
       "    <tr>\n",
       "      <td>N64</td>\n",
       "      <td>218.68</td>\n",
       "    </tr>\n",
       "    <tr>\n",
       "      <td>SNES</td>\n",
       "      <td>200.04</td>\n",
       "    </tr>\n",
       "    <tr>\n",
       "      <td>GC</td>\n",
       "      <td>198.93</td>\n",
       "    </tr>\n",
       "    <tr>\n",
       "      <td>XOne</td>\n",
       "      <td>159.32</td>\n",
       "    </tr>\n",
       "    <tr>\n",
       "      <td>2600</td>\n",
       "      <td>96.98</td>\n",
       "    </tr>\n",
       "    <tr>\n",
       "      <td>WiiU</td>\n",
       "      <td>82.19</td>\n",
       "    </tr>\n",
       "    <tr>\n",
       "      <td>PSV</td>\n",
       "      <td>54.07</td>\n",
       "    </tr>\n",
       "    <tr>\n",
       "      <td>SAT</td>\n",
       "      <td>33.59</td>\n",
       "    </tr>\n",
       "    <tr>\n",
       "      <td>GEN</td>\n",
       "      <td>28.35</td>\n",
       "    </tr>\n",
       "    <tr>\n",
       "      <td>DC</td>\n",
       "      <td>15.95</td>\n",
       "    </tr>\n",
       "    <tr>\n",
       "      <td>SCD</td>\n",
       "      <td>1.86</td>\n",
       "    </tr>\n",
       "    <tr>\n",
       "      <td>NG</td>\n",
       "      <td>1.44</td>\n",
       "    </tr>\n",
       "    <tr>\n",
       "      <td>WS</td>\n",
       "      <td>1.42</td>\n",
       "    </tr>\n",
       "    <tr>\n",
       "      <td>TG16</td>\n",
       "      <td>0.16</td>\n",
       "    </tr>\n",
       "    <tr>\n",
       "      <td>3DO</td>\n",
       "      <td>0.10</td>\n",
       "    </tr>\n",
       "    <tr>\n",
       "      <td>GG</td>\n",
       "      <td>0.04</td>\n",
       "    </tr>\n",
       "    <tr>\n",
       "      <td>PCFX</td>\n",
       "      <td>0.03</td>\n",
       "    </tr>\n",
       "  </tbody>\n",
       "</table>\n",
       "</div>"
      ],
      "text/plain": [
       "                   all_region_sales\n",
       "platform_for_game                  \n",
       "PS2                         1255.77\n",
       "X360                         971.42\n",
       "PS3                          939.65\n",
       "Wii                          907.51\n",
       "DS                           806.12\n",
       "PS                           730.86\n",
       "GBA                          317.85\n",
       "PS4                          314.14\n",
       "PSP                          294.05\n",
       "PC                           259.52\n",
       "3DS                          259.00\n",
       "XB                           257.74\n",
       "GB                           255.46\n",
       "NES                          251.05\n",
       "N64                          218.68\n",
       "SNES                         200.04\n",
       "GC                           198.93\n",
       "XOne                         159.32\n",
       "2600                          96.98\n",
       "WiiU                          82.19\n",
       "PSV                           54.07\n",
       "SAT                           33.59\n",
       "GEN                           28.35\n",
       "DC                            15.95\n",
       "SCD                            1.86\n",
       "NG                             1.44\n",
       "WS                             1.42\n",
       "TG16                           0.16\n",
       "3DO                            0.10\n",
       "GG                             0.04\n",
       "PCFX                           0.03"
      ]
     },
     "execution_count": 33,
     "metadata": {},
     "output_type": "execute_result"
    }
   ],
   "source": [
    "#посмотрим как менялись продажи по платформам\n",
    "platform_sales_pivot_table = pd.pivot_table(games, index=['platform_for_game'], values='all_region_sales', aggfunc='sum')\n",
    "platform_sales_pivot_table = platform_sales_pivot_table.sort_values('all_region_sales',ascending=False)\n",
    "platform_sales_pivot_table"
   ]
  },
  {
   "cell_type": "code",
   "execution_count": 34,
   "metadata": {},
   "outputs": [
    {
     "data": {
      "text/plain": [
       "['PS2', 'X360', 'PS3', 'Wii', 'DS']"
      ]
     },
     "execution_count": 34,
     "metadata": {},
     "output_type": "execute_result"
    }
   ],
   "source": [
    "#посмотрим на топ-5 лидеров\n",
    "best_sales_platform = list(platform_sales_pivot_table.index[:5])\n",
    "best_sales_platform"
   ]
  },
  {
   "cell_type": "code",
   "execution_count": 35,
   "metadata": {},
   "outputs": [],
   "source": [
    "games.loc[15957, 'year_of_release'] = 2007"
   ]
  },
  {
   "cell_type": "code",
   "execution_count": 36,
   "metadata": {},
   "outputs": [
    {
     "name": "stdout",
     "output_type": "stream",
     "text": [
      "Платформа  PS2\n",
      "                                   all_region_sales\n",
      "platform_for_game year_of_release                  \n",
      "PS2               2000                        39.17\n",
      "                  2001                       166.43\n",
      "                  2002                       205.38\n",
      "                  2003                       184.31\n",
      "                  2004                       211.81\n",
      "                  2005                       160.66\n",
      "                  2006                       103.42\n",
      "                  2007                        75.99\n",
      "                  2008                        53.90\n",
      "                  2009                        26.40\n",
      "                  2010                         5.64\n",
      "                  2011                         0.45\n",
      "                  2021                        22.21\n",
      "\n",
      "Платформа  X360\n",
      "                                   all_region_sales\n",
      "platform_for_game year_of_release                  \n",
      "X360              2005                         8.25\n",
      "                  2006                        51.62\n",
      "                  2007                        95.41\n",
      "                  2008                       135.26\n",
      "                  2009                       120.29\n",
      "                  2010                       170.03\n",
      "                  2011                       143.84\n",
      "                  2012                        99.74\n",
      "                  2013                        88.58\n",
      "                  2014                        34.74\n",
      "                  2015                        11.96\n",
      "                  2016                         1.52\n",
      "                  2021                        10.18\n",
      "\n",
      "Платформа  PS3\n",
      "                                   all_region_sales\n",
      "platform_for_game year_of_release                  \n",
      "PS3               2006                        20.96\n",
      "                  2007                        73.19\n",
      "                  2008                       118.52\n",
      "                  2009                       130.93\n",
      "                  2010                       142.17\n",
      "                  2011                       156.78\n",
      "                  2012                       107.36\n",
      "                  2013                       113.25\n",
      "                  2014                        47.76\n",
      "                  2015                        16.82\n",
      "                  2016                         3.60\n",
      "                  2021                         8.31\n",
      "\n",
      "Платформа  Wii\n",
      "                                   all_region_sales\n",
      "platform_for_game year_of_release                  \n",
      "Wii               2006                       137.15\n",
      "                  2007                       152.77\n",
      "                  2008                       171.32\n",
      "                  2009                       206.97\n",
      "                  2010                       127.95\n",
      "                  2011                        59.65\n",
      "                  2012                        21.71\n",
      "                  2013                         8.59\n",
      "                  2014                         3.75\n",
      "                  2015                         1.14\n",
      "                  2016                         0.18\n",
      "                  2021                        16.33\n",
      "\n",
      "Платформа  DS\n",
      "                                   all_region_sales\n",
      "platform_for_game year_of_release                  \n",
      "DS                2004                        17.27\n",
      "                  2005                       130.14\n",
      "                  2006                       119.81\n",
      "                  2007                       146.96\n",
      "                  2008                       145.31\n",
      "                  2009                       119.54\n",
      "                  2010                        85.02\n",
      "                  2011                        26.18\n",
      "                  2012                        11.01\n",
      "                  2013                         1.54\n",
      "                  2021                         3.34\n",
      "\n"
     ]
    }
   ],
   "source": [
    "#через цикл найдём продажи по платформам\n",
    "for platform_for_game in best_sales_platform:\n",
    "    print('Платформа ',platform_for_game)\n",
    "    platform_sales_pivot_table = pd.pivot_table(games.query('platform_for_game == @platform_for_game'), index=['platform_for_game','year_of_release'], values='all_region_sales', aggfunc='sum')\n",
    "    print(platform_sales_pivot_table)\n",
    "    print()"
   ]
  },
  {
   "cell_type": "code",
   "execution_count": 37,
   "metadata": {},
   "outputs": [
    {
     "name": "stdout",
     "output_type": "stream",
     "text": [
      "Платформа  PS4\n"
     ]
    }
   ],
   "source": [
    "#сделаем сводную таблицу с фильтром по PS4, последняя консоль от Sony в нашем датасете\n",
    "print('Платформа ','PS4')\n",
    "platform_sales_pivot_table = pd.pivot_table(games.query('platform_for_game == \"PS4\"'), \n",
    "                                            index=['platform_for_game','year_of_release'], \n",
    "                                            values='all_region_sales', aggfunc='sum')"
   ]
  },
  {
   "cell_type": "code",
   "execution_count": 38,
   "metadata": {},
   "outputs": [
    {
     "name": "stdout",
     "output_type": "stream",
     "text": [
      "                                   all_region_sales\n",
      "platform_for_game year_of_release                  \n",
      "PS4               2013                        25.99\n",
      "                  2014                       100.00\n",
      "                  2015                       118.90\n",
      "                  2016                        69.25\n",
      "\n"
     ]
    }
   ],
   "source": [
    "print(platform_sales_pivot_table)\n",
    "print()"
   ]
  },
  {
   "cell_type": "markdown",
   "metadata": {},
   "source": [
    "**Вывод:**\n",
    "\n",
    "Для платформ, которые пользуются популярностью, срок использования равен 8-10 лет. Можно наблюдать смену версий для консолей Sony PlayStation:\n",
    "\n",
    "- PS 1994-2003\n",
    "- PS2 2000-2011\n",
    "- PS3 2006-2016\n",
    "- PS4 2013-по сегодняшний день\n",
    "\n",
    "Каждые 5-7 лет компания Sony выпускает новую консоль с лучшей производительностью, игры на предыдущей консоли еще продолжают жить на рынке 3 года."
   ]
  },
  {
   "cell_type": "markdown",
   "metadata": {},
   "source": [
    "Актуальным периодом по продажам можно определить с 2013 по 2016 год.\n",
    "\n",
    "Появление на рынке новой консоли PS4 говорит от том, что она просуществует 2-4 года и топ продаж для этой платформы ожидается на 2017 год.\n",
    "После падения суммарных продаж с 2013 года появилась тенденция к росту продаж игр за счет их качества, более современной графики, улучшенного геймплея и дизайна.\n",
    "Большинство крупных разработчиков создают игры в среднем  за 2-4 года, так что в 2017 попадут игры, разработка которых ведется с 2013 - 2015 года.\n",
    "Хорошие игры на рынке продаются в течении нескольких лет."
   ]
  },
  {
   "cell_type": "markdown",
   "metadata": {},
   "source": [
    "<div class=\"alert alert-success\" style=\"border-radius: 15px; box-shadow: 4px 4px 4px; border: 1px solid \">\n",
    "<h2> Комментарий ревьюера</h2>\n",
    "    \n",
    "Согласна. </div>"
   ]
  },
  {
   "cell_type": "code",
   "execution_count": 39,
   "metadata": {},
   "outputs": [
    {
     "name": "stdout",
     "output_type": "stream",
     "text": [
      "<class 'pandas.core.frame.DataFrame'>\n",
      "Int64Index: 2502 entries, 16 to 16714\n",
      "Data columns (total 12 columns):\n",
      "game_name            2502 non-null object\n",
      "platform_for_game    2502 non-null object\n",
      "year_of_release      2502 non-null int64\n",
      "game_genre           2502 non-null object\n",
      "na_sales             2502 non-null float64\n",
      "eu_sales             2502 non-null float64\n",
      "jp_sales             2502 non-null float64\n",
      "other_sales          2502 non-null float64\n",
      "critic_score         1145 non-null float64\n",
      "user_score           1319 non-null float32\n",
      "rating_esrb          2502 non-null object\n",
      "all_region_sales     2502 non-null float64\n",
      "dtypes: float32(1), float64(6), int64(1), object(4)\n",
      "memory usage: 244.3+ KB\n"
     ]
    }
   ],
   "source": [
    "#отфильтруем датасет, уберём предыдущие периоды\n",
    "actual_data_games_sales = games.query('year_of_release > 2012')\n",
    "actual_data_games_sales.info()"
   ]
  },
  {
   "cell_type": "code",
   "execution_count": 40,
   "metadata": {},
   "outputs": [
    {
     "data": {
      "text/html": [
       "<div>\n",
       "<style scoped>\n",
       "    .dataframe tbody tr th:only-of-type {\n",
       "        vertical-align: middle;\n",
       "    }\n",
       "\n",
       "    .dataframe tbody tr th {\n",
       "        vertical-align: top;\n",
       "    }\n",
       "\n",
       "    .dataframe thead th {\n",
       "        text-align: right;\n",
       "    }\n",
       "</style>\n",
       "<table border=\"1\" class=\"dataframe\">\n",
       "  <thead>\n",
       "    <tr style=\"text-align: right;\">\n",
       "      <th></th>\n",
       "      <th>game_name</th>\n",
       "      <th>platform_for_game</th>\n",
       "      <th>year_of_release</th>\n",
       "      <th>game_genre</th>\n",
       "      <th>na_sales</th>\n",
       "      <th>eu_sales</th>\n",
       "      <th>jp_sales</th>\n",
       "      <th>other_sales</th>\n",
       "      <th>critic_score</th>\n",
       "      <th>user_score</th>\n",
       "      <th>rating_esrb</th>\n",
       "      <th>all_region_sales</th>\n",
       "    </tr>\n",
       "  </thead>\n",
       "  <tbody>\n",
       "    <tr>\n",
       "      <td>16</td>\n",
       "      <td>Grand Theft Auto V</td>\n",
       "      <td>PS3</td>\n",
       "      <td>2013</td>\n",
       "      <td>Action</td>\n",
       "      <td>7.02</td>\n",
       "      <td>9.09</td>\n",
       "      <td>0.98</td>\n",
       "      <td>3.96</td>\n",
       "      <td>97.0</td>\n",
       "      <td>8.2</td>\n",
       "      <td>M</td>\n",
       "      <td>21.05</td>\n",
       "    </tr>\n",
       "    <tr>\n",
       "      <td>23</td>\n",
       "      <td>Grand Theft Auto V</td>\n",
       "      <td>X360</td>\n",
       "      <td>2013</td>\n",
       "      <td>Action</td>\n",
       "      <td>9.66</td>\n",
       "      <td>5.14</td>\n",
       "      <td>0.06</td>\n",
       "      <td>1.41</td>\n",
       "      <td>97.0</td>\n",
       "      <td>8.1</td>\n",
       "      <td>M</td>\n",
       "      <td>16.27</td>\n",
       "    </tr>\n",
       "    <tr>\n",
       "      <td>31</td>\n",
       "      <td>Call of Duty: Black Ops 3</td>\n",
       "      <td>PS4</td>\n",
       "      <td>2015</td>\n",
       "      <td>Shooter</td>\n",
       "      <td>6.03</td>\n",
       "      <td>5.86</td>\n",
       "      <td>0.36</td>\n",
       "      <td>2.38</td>\n",
       "      <td>NaN</td>\n",
       "      <td>NaN</td>\n",
       "      <td>not rated</td>\n",
       "      <td>14.63</td>\n",
       "    </tr>\n",
       "    <tr>\n",
       "      <td>33</td>\n",
       "      <td>Pokemon X/Pokemon Y</td>\n",
       "      <td>3DS</td>\n",
       "      <td>2013</td>\n",
       "      <td>Role-Playing</td>\n",
       "      <td>5.28</td>\n",
       "      <td>4.19</td>\n",
       "      <td>4.35</td>\n",
       "      <td>0.78</td>\n",
       "      <td>NaN</td>\n",
       "      <td>NaN</td>\n",
       "      <td>not rated</td>\n",
       "      <td>14.60</td>\n",
       "    </tr>\n",
       "    <tr>\n",
       "      <td>42</td>\n",
       "      <td>Grand Theft Auto V</td>\n",
       "      <td>PS4</td>\n",
       "      <td>2014</td>\n",
       "      <td>Action</td>\n",
       "      <td>3.96</td>\n",
       "      <td>6.31</td>\n",
       "      <td>0.38</td>\n",
       "      <td>1.97</td>\n",
       "      <td>97.0</td>\n",
       "      <td>8.3</td>\n",
       "      <td>M</td>\n",
       "      <td>12.62</td>\n",
       "    </tr>\n",
       "    <tr>\n",
       "      <td>47</td>\n",
       "      <td>Pokemon Omega Ruby/Pokemon Alpha Sapphire</td>\n",
       "      <td>3DS</td>\n",
       "      <td>2014</td>\n",
       "      <td>Role-Playing</td>\n",
       "      <td>4.35</td>\n",
       "      <td>3.49</td>\n",
       "      <td>3.10</td>\n",
       "      <td>0.74</td>\n",
       "      <td>NaN</td>\n",
       "      <td>NaN</td>\n",
       "      <td>not rated</td>\n",
       "      <td>11.68</td>\n",
       "    </tr>\n",
       "    <tr>\n",
       "      <td>60</td>\n",
       "      <td>Call of Duty: Ghosts</td>\n",
       "      <td>X360</td>\n",
       "      <td>2013</td>\n",
       "      <td>Shooter</td>\n",
       "      <td>6.73</td>\n",
       "      <td>2.56</td>\n",
       "      <td>0.04</td>\n",
       "      <td>0.91</td>\n",
       "      <td>73.0</td>\n",
       "      <td>2.6</td>\n",
       "      <td>M</td>\n",
       "      <td>10.24</td>\n",
       "    </tr>\n",
       "    <tr>\n",
       "      <td>69</td>\n",
       "      <td>Call of Duty: Ghosts</td>\n",
       "      <td>PS3</td>\n",
       "      <td>2013</td>\n",
       "      <td>Shooter</td>\n",
       "      <td>4.10</td>\n",
       "      <td>3.63</td>\n",
       "      <td>0.38</td>\n",
       "      <td>1.25</td>\n",
       "      <td>71.0</td>\n",
       "      <td>2.6</td>\n",
       "      <td>M</td>\n",
       "      <td>9.36</td>\n",
       "    </tr>\n",
       "    <tr>\n",
       "      <td>72</td>\n",
       "      <td>Minecraft</td>\n",
       "      <td>X360</td>\n",
       "      <td>2013</td>\n",
       "      <td>Misc</td>\n",
       "      <td>5.70</td>\n",
       "      <td>2.65</td>\n",
       "      <td>0.02</td>\n",
       "      <td>0.81</td>\n",
       "      <td>NaN</td>\n",
       "      <td>NaN</td>\n",
       "      <td>not rated</td>\n",
       "      <td>9.18</td>\n",
       "    </tr>\n",
       "    <tr>\n",
       "      <td>77</td>\n",
       "      <td>FIFA 16</td>\n",
       "      <td>PS4</td>\n",
       "      <td>2015</td>\n",
       "      <td>Sports</td>\n",
       "      <td>1.12</td>\n",
       "      <td>6.12</td>\n",
       "      <td>0.06</td>\n",
       "      <td>1.28</td>\n",
       "      <td>82.0</td>\n",
       "      <td>4.3</td>\n",
       "      <td>E</td>\n",
       "      <td>8.58</td>\n",
       "    </tr>\n",
       "  </tbody>\n",
       "</table>\n",
       "</div>"
      ],
      "text/plain": [
       "                                    game_name platform_for_game  \\\n",
       "16                         Grand Theft Auto V               PS3   \n",
       "23                         Grand Theft Auto V              X360   \n",
       "31                  Call of Duty: Black Ops 3               PS4   \n",
       "33                        Pokemon X/Pokemon Y               3DS   \n",
       "42                         Grand Theft Auto V               PS4   \n",
       "47  Pokemon Omega Ruby/Pokemon Alpha Sapphire               3DS   \n",
       "60                       Call of Duty: Ghosts              X360   \n",
       "69                       Call of Duty: Ghosts               PS3   \n",
       "72                                  Minecraft              X360   \n",
       "77                                    FIFA 16               PS4   \n",
       "\n",
       "    year_of_release    game_genre  na_sales  eu_sales  jp_sales  other_sales  \\\n",
       "16             2013        Action      7.02      9.09      0.98         3.96   \n",
       "23             2013        Action      9.66      5.14      0.06         1.41   \n",
       "31             2015       Shooter      6.03      5.86      0.36         2.38   \n",
       "33             2013  Role-Playing      5.28      4.19      4.35         0.78   \n",
       "42             2014        Action      3.96      6.31      0.38         1.97   \n",
       "47             2014  Role-Playing      4.35      3.49      3.10         0.74   \n",
       "60             2013       Shooter      6.73      2.56      0.04         0.91   \n",
       "69             2013       Shooter      4.10      3.63      0.38         1.25   \n",
       "72             2013          Misc      5.70      2.65      0.02         0.81   \n",
       "77             2015        Sports      1.12      6.12      0.06         1.28   \n",
       "\n",
       "    critic_score  user_score rating_esrb  all_region_sales  \n",
       "16          97.0         8.2           M             21.05  \n",
       "23          97.0         8.1           M             16.27  \n",
       "31           NaN         NaN   not rated             14.63  \n",
       "33           NaN         NaN   not rated             14.60  \n",
       "42          97.0         8.3           M             12.62  \n",
       "47           NaN         NaN   not rated             11.68  \n",
       "60          73.0         2.6           M             10.24  \n",
       "69          71.0         2.6           M              9.36  \n",
       "72           NaN         NaN   not rated              9.18  \n",
       "77          82.0         4.3           E              8.58  "
      ]
     },
     "execution_count": 40,
     "metadata": {},
     "output_type": "execute_result"
    }
   ],
   "source": [
    "#взглянем на новый датасет с фильтрацией, на первые 10 строк\n",
    "actual_data_games_sales.head(10)"
   ]
  },
  {
   "cell_type": "code",
   "execution_count": 41,
   "metadata": {},
   "outputs": [
    {
     "data": {
      "text/html": [
       "<div>\n",
       "<style scoped>\n",
       "    .dataframe tbody tr th:only-of-type {\n",
       "        vertical-align: middle;\n",
       "    }\n",
       "\n",
       "    .dataframe tbody tr th {\n",
       "        vertical-align: top;\n",
       "    }\n",
       "\n",
       "    .dataframe thead th {\n",
       "        text-align: right;\n",
       "    }\n",
       "</style>\n",
       "<table border=\"1\" class=\"dataframe\">\n",
       "  <thead>\n",
       "    <tr style=\"text-align: right;\">\n",
       "      <th></th>\n",
       "      <th>game_name</th>\n",
       "      <th>platform_for_game</th>\n",
       "      <th>year_of_release</th>\n",
       "      <th>game_genre</th>\n",
       "      <th>na_sales</th>\n",
       "      <th>eu_sales</th>\n",
       "      <th>jp_sales</th>\n",
       "      <th>other_sales</th>\n",
       "      <th>critic_score</th>\n",
       "      <th>user_score</th>\n",
       "      <th>rating_esrb</th>\n",
       "      <th>all_region_sales</th>\n",
       "    </tr>\n",
       "  </thead>\n",
       "  <tbody>\n",
       "    <tr>\n",
       "      <td>16703</td>\n",
       "      <td>Strawberry Nauts</td>\n",
       "      <td>PSV</td>\n",
       "      <td>2016</td>\n",
       "      <td>Adventure</td>\n",
       "      <td>0.0</td>\n",
       "      <td>0.0</td>\n",
       "      <td>0.01</td>\n",
       "      <td>0.0</td>\n",
       "      <td>NaN</td>\n",
       "      <td>NaN</td>\n",
       "      <td>not rated</td>\n",
       "      <td>0.01</td>\n",
       "    </tr>\n",
       "    <tr>\n",
       "      <td>16707</td>\n",
       "      <td>Aiyoku no Eustia</td>\n",
       "      <td>PSV</td>\n",
       "      <td>2014</td>\n",
       "      <td>Misc</td>\n",
       "      <td>0.0</td>\n",
       "      <td>0.0</td>\n",
       "      <td>0.01</td>\n",
       "      <td>0.0</td>\n",
       "      <td>NaN</td>\n",
       "      <td>NaN</td>\n",
       "      <td>not rated</td>\n",
       "      <td>0.01</td>\n",
       "    </tr>\n",
       "    <tr>\n",
       "      <td>16710</td>\n",
       "      <td>Samurai Warriors: Sanada Maru</td>\n",
       "      <td>PS3</td>\n",
       "      <td>2016</td>\n",
       "      <td>Action</td>\n",
       "      <td>0.0</td>\n",
       "      <td>0.0</td>\n",
       "      <td>0.01</td>\n",
       "      <td>0.0</td>\n",
       "      <td>NaN</td>\n",
       "      <td>NaN</td>\n",
       "      <td>not rated</td>\n",
       "      <td>0.01</td>\n",
       "    </tr>\n",
       "    <tr>\n",
       "      <td>16712</td>\n",
       "      <td>Haitaka no Psychedelica</td>\n",
       "      <td>PSV</td>\n",
       "      <td>2016</td>\n",
       "      <td>Adventure</td>\n",
       "      <td>0.0</td>\n",
       "      <td>0.0</td>\n",
       "      <td>0.01</td>\n",
       "      <td>0.0</td>\n",
       "      <td>NaN</td>\n",
       "      <td>NaN</td>\n",
       "      <td>not rated</td>\n",
       "      <td>0.01</td>\n",
       "    </tr>\n",
       "    <tr>\n",
       "      <td>16714</td>\n",
       "      <td>Winning Post 8 2016</td>\n",
       "      <td>PSV</td>\n",
       "      <td>2016</td>\n",
       "      <td>Simulation</td>\n",
       "      <td>0.0</td>\n",
       "      <td>0.0</td>\n",
       "      <td>0.01</td>\n",
       "      <td>0.0</td>\n",
       "      <td>NaN</td>\n",
       "      <td>NaN</td>\n",
       "      <td>not rated</td>\n",
       "      <td>0.01</td>\n",
       "    </tr>\n",
       "  </tbody>\n",
       "</table>\n",
       "</div>"
      ],
      "text/plain": [
       "                           game_name platform_for_game  year_of_release  \\\n",
       "16703               Strawberry Nauts               PSV             2016   \n",
       "16707               Aiyoku no Eustia               PSV             2014   \n",
       "16710  Samurai Warriors: Sanada Maru               PS3             2016   \n",
       "16712        Haitaka no Psychedelica               PSV             2016   \n",
       "16714            Winning Post 8 2016               PSV             2016   \n",
       "\n",
       "       game_genre  na_sales  eu_sales  jp_sales  other_sales  critic_score  \\\n",
       "16703   Adventure       0.0       0.0      0.01          0.0           NaN   \n",
       "16707        Misc       0.0       0.0      0.01          0.0           NaN   \n",
       "16710      Action       0.0       0.0      0.01          0.0           NaN   \n",
       "16712   Adventure       0.0       0.0      0.01          0.0           NaN   \n",
       "16714  Simulation       0.0       0.0      0.01          0.0           NaN   \n",
       "\n",
       "       user_score rating_esrb  all_region_sales  \n",
       "16703         NaN   not rated              0.01  \n",
       "16707         NaN   not rated              0.01  \n",
       "16710         NaN   not rated              0.01  \n",
       "16712         NaN   not rated              0.01  \n",
       "16714         NaN   not rated              0.01  "
      ]
     },
     "execution_count": 41,
     "metadata": {},
     "output_type": "execute_result"
    }
   ],
   "source": [
    "#и на последние 10 строк\n",
    "actual_data_games_sales.tail()"
   ]
  },
  {
   "cell_type": "code",
   "execution_count": 42,
   "metadata": {},
   "outputs": [],
   "source": [
    "#посмотрим на прибыльные платформы, начиная с 2013 года\n",
    "best_sales_platform = pd.pivot_table(actual_data_games_sales, index=['platform_for_game','year_of_release'], \n",
    "                                     values='all_region_sales', aggfunc = 'sum')"
   ]
  },
  {
   "cell_type": "code",
   "execution_count": 43,
   "metadata": {},
   "outputs": [
    {
     "data": {
      "text/html": [
       "<div>\n",
       "<style scoped>\n",
       "    .dataframe tbody tr th:only-of-type {\n",
       "        vertical-align: middle;\n",
       "    }\n",
       "\n",
       "    .dataframe tbody tr th {\n",
       "        vertical-align: top;\n",
       "    }\n",
       "\n",
       "    .dataframe thead th {\n",
       "        text-align: right;\n",
       "    }\n",
       "</style>\n",
       "<table border=\"1\" class=\"dataframe\">\n",
       "  <thead>\n",
       "    <tr style=\"text-align: right;\">\n",
       "      <th></th>\n",
       "      <th></th>\n",
       "      <th>all_region_sales</th>\n",
       "    </tr>\n",
       "    <tr>\n",
       "      <th>platform_for_game</th>\n",
       "      <th>year_of_release</th>\n",
       "      <th></th>\n",
       "    </tr>\n",
       "  </thead>\n",
       "  <tbody>\n",
       "    <tr>\n",
       "      <td>PS3</td>\n",
       "      <td>2013</td>\n",
       "      <td>113.25</td>\n",
       "    </tr>\n",
       "    <tr>\n",
       "      <td>X360</td>\n",
       "      <td>2013</td>\n",
       "      <td>88.58</td>\n",
       "    </tr>\n",
       "    <tr>\n",
       "      <td>3DS</td>\n",
       "      <td>2013</td>\n",
       "      <td>56.57</td>\n",
       "    </tr>\n",
       "    <tr>\n",
       "      <td>PS4</td>\n",
       "      <td>2013</td>\n",
       "      <td>25.99</td>\n",
       "    </tr>\n",
       "    <tr>\n",
       "      <td>WiiU</td>\n",
       "      <td>2013</td>\n",
       "      <td>21.65</td>\n",
       "    </tr>\n",
       "    <tr>\n",
       "      <td>XOne</td>\n",
       "      <td>2013</td>\n",
       "      <td>18.96</td>\n",
       "    </tr>\n",
       "    <tr>\n",
       "      <td>PC</td>\n",
       "      <td>2013</td>\n",
       "      <td>12.38</td>\n",
       "    </tr>\n",
       "    <tr>\n",
       "      <td>PSV</td>\n",
       "      <td>2013</td>\n",
       "      <td>10.59</td>\n",
       "    </tr>\n",
       "    <tr>\n",
       "      <td>Wii</td>\n",
       "      <td>2013</td>\n",
       "      <td>8.59</td>\n",
       "    </tr>\n",
       "    <tr>\n",
       "      <td>PSP</td>\n",
       "      <td>2013</td>\n",
       "      <td>3.14</td>\n",
       "    </tr>\n",
       "    <tr>\n",
       "      <td>DS</td>\n",
       "      <td>2013</td>\n",
       "      <td>1.54</td>\n",
       "    </tr>\n",
       "    <tr>\n",
       "      <td>PS4</td>\n",
       "      <td>2014</td>\n",
       "      <td>100.00</td>\n",
       "    </tr>\n",
       "    <tr>\n",
       "      <td>XOne</td>\n",
       "      <td>2014</td>\n",
       "      <td>54.07</td>\n",
       "    </tr>\n",
       "    <tr>\n",
       "      <td>PS3</td>\n",
       "      <td>2014</td>\n",
       "      <td>47.76</td>\n",
       "    </tr>\n",
       "    <tr>\n",
       "      <td>3DS</td>\n",
       "      <td>2014</td>\n",
       "      <td>43.76</td>\n",
       "    </tr>\n",
       "    <tr>\n",
       "      <td>X360</td>\n",
       "      <td>2014</td>\n",
       "      <td>34.74</td>\n",
       "    </tr>\n",
       "    <tr>\n",
       "      <td>WiiU</td>\n",
       "      <td>2014</td>\n",
       "      <td>22.03</td>\n",
       "    </tr>\n",
       "    <tr>\n",
       "      <td>PC</td>\n",
       "      <td>2014</td>\n",
       "      <td>13.28</td>\n",
       "    </tr>\n",
       "    <tr>\n",
       "      <td>PSV</td>\n",
       "      <td>2014</td>\n",
       "      <td>11.90</td>\n",
       "    </tr>\n",
       "    <tr>\n",
       "      <td>Wii</td>\n",
       "      <td>2014</td>\n",
       "      <td>3.75</td>\n",
       "    </tr>\n",
       "    <tr>\n",
       "      <td>PSP</td>\n",
       "      <td>2014</td>\n",
       "      <td>0.24</td>\n",
       "    </tr>\n",
       "    <tr>\n",
       "      <td>PS4</td>\n",
       "      <td>2015</td>\n",
       "      <td>118.90</td>\n",
       "    </tr>\n",
       "    <tr>\n",
       "      <td>XOne</td>\n",
       "      <td>2015</td>\n",
       "      <td>60.14</td>\n",
       "    </tr>\n",
       "    <tr>\n",
       "      <td>3DS</td>\n",
       "      <td>2015</td>\n",
       "      <td>27.78</td>\n",
       "    </tr>\n",
       "    <tr>\n",
       "      <td>PS3</td>\n",
       "      <td>2015</td>\n",
       "      <td>16.82</td>\n",
       "    </tr>\n",
       "    <tr>\n",
       "      <td>WiiU</td>\n",
       "      <td>2015</td>\n",
       "      <td>16.35</td>\n",
       "    </tr>\n",
       "    <tr>\n",
       "      <td>X360</td>\n",
       "      <td>2015</td>\n",
       "      <td>11.96</td>\n",
       "    </tr>\n",
       "    <tr>\n",
       "      <td>PC</td>\n",
       "      <td>2015</td>\n",
       "      <td>8.52</td>\n",
       "    </tr>\n",
       "    <tr>\n",
       "      <td>PSV</td>\n",
       "      <td>2015</td>\n",
       "      <td>6.25</td>\n",
       "    </tr>\n",
       "    <tr>\n",
       "      <td>Wii</td>\n",
       "      <td>2015</td>\n",
       "      <td>1.14</td>\n",
       "    </tr>\n",
       "    <tr>\n",
       "      <td>PSP</td>\n",
       "      <td>2015</td>\n",
       "      <td>0.12</td>\n",
       "    </tr>\n",
       "    <tr>\n",
       "      <td>PS4</td>\n",
       "      <td>2016</td>\n",
       "      <td>69.25</td>\n",
       "    </tr>\n",
       "    <tr>\n",
       "      <td>XOne</td>\n",
       "      <td>2016</td>\n",
       "      <td>26.15</td>\n",
       "    </tr>\n",
       "    <tr>\n",
       "      <td>3DS</td>\n",
       "      <td>2016</td>\n",
       "      <td>15.14</td>\n",
       "    </tr>\n",
       "    <tr>\n",
       "      <td>PC</td>\n",
       "      <td>2016</td>\n",
       "      <td>5.25</td>\n",
       "    </tr>\n",
       "    <tr>\n",
       "      <td>WiiU</td>\n",
       "      <td>2016</td>\n",
       "      <td>4.60</td>\n",
       "    </tr>\n",
       "    <tr>\n",
       "      <td>PSV</td>\n",
       "      <td>2016</td>\n",
       "      <td>4.25</td>\n",
       "    </tr>\n",
       "    <tr>\n",
       "      <td>PS3</td>\n",
       "      <td>2016</td>\n",
       "      <td>3.60</td>\n",
       "    </tr>\n",
       "    <tr>\n",
       "      <td>X360</td>\n",
       "      <td>2016</td>\n",
       "      <td>1.52</td>\n",
       "    </tr>\n",
       "    <tr>\n",
       "      <td>Wii</td>\n",
       "      <td>2016</td>\n",
       "      <td>0.18</td>\n",
       "    </tr>\n",
       "    <tr>\n",
       "      <td>PS2</td>\n",
       "      <td>2021</td>\n",
       "      <td>22.21</td>\n",
       "    </tr>\n",
       "    <tr>\n",
       "      <td>Wii</td>\n",
       "      <td>2021</td>\n",
       "      <td>16.33</td>\n",
       "    </tr>\n",
       "    <tr>\n",
       "      <td>2600</td>\n",
       "      <td>2021</td>\n",
       "      <td>10.50</td>\n",
       "    </tr>\n",
       "    <tr>\n",
       "      <td>X360</td>\n",
       "      <td>2021</td>\n",
       "      <td>10.18</td>\n",
       "    </tr>\n",
       "    <tr>\n",
       "      <td>PS3</td>\n",
       "      <td>2021</td>\n",
       "      <td>8.31</td>\n",
       "    </tr>\n",
       "    <tr>\n",
       "      <td>XB</td>\n",
       "      <td>2021</td>\n",
       "      <td>6.17</td>\n",
       "    </tr>\n",
       "    <tr>\n",
       "      <td>GBA</td>\n",
       "      <td>2021</td>\n",
       "      <td>4.97</td>\n",
       "    </tr>\n",
       "    <tr>\n",
       "      <td>PSP</td>\n",
       "      <td>2021</td>\n",
       "      <td>4.52</td>\n",
       "    </tr>\n",
       "    <tr>\n",
       "      <td>PC</td>\n",
       "      <td>2021</td>\n",
       "      <td>3.76</td>\n",
       "    </tr>\n",
       "    <tr>\n",
       "      <td>DS</td>\n",
       "      <td>2021</td>\n",
       "      <td>3.34</td>\n",
       "    </tr>\n",
       "    <tr>\n",
       "      <td>PS</td>\n",
       "      <td>2021</td>\n",
       "      <td>3.28</td>\n",
       "    </tr>\n",
       "    <tr>\n",
       "      <td>GC</td>\n",
       "      <td>2021</td>\n",
       "      <td>2.20</td>\n",
       "    </tr>\n",
       "    <tr>\n",
       "      <td>3DS</td>\n",
       "      <td>2021</td>\n",
       "      <td>1.19</td>\n",
       "    </tr>\n",
       "    <tr>\n",
       "      <td>GB</td>\n",
       "      <td>2021</td>\n",
       "      <td>1.03</td>\n",
       "    </tr>\n",
       "    <tr>\n",
       "      <td>N64</td>\n",
       "      <td>2021</td>\n",
       "      <td>0.67</td>\n",
       "    </tr>\n",
       "    <tr>\n",
       "      <td>PSV</td>\n",
       "      <td>2021</td>\n",
       "      <td>0.26</td>\n",
       "    </tr>\n",
       "  </tbody>\n",
       "</table>\n",
       "</div>"
      ],
      "text/plain": [
       "                                   all_region_sales\n",
       "platform_for_game year_of_release                  \n",
       "PS3               2013                       113.25\n",
       "X360              2013                        88.58\n",
       "3DS               2013                        56.57\n",
       "PS4               2013                        25.99\n",
       "WiiU              2013                        21.65\n",
       "XOne              2013                        18.96\n",
       "PC                2013                        12.38\n",
       "PSV               2013                        10.59\n",
       "Wii               2013                         8.59\n",
       "PSP               2013                         3.14\n",
       "DS                2013                         1.54\n",
       "PS4               2014                       100.00\n",
       "XOne              2014                        54.07\n",
       "PS3               2014                        47.76\n",
       "3DS               2014                        43.76\n",
       "X360              2014                        34.74\n",
       "WiiU              2014                        22.03\n",
       "PC                2014                        13.28\n",
       "PSV               2014                        11.90\n",
       "Wii               2014                         3.75\n",
       "PSP               2014                         0.24\n",
       "PS4               2015                       118.90\n",
       "XOne              2015                        60.14\n",
       "3DS               2015                        27.78\n",
       "PS3               2015                        16.82\n",
       "WiiU              2015                        16.35\n",
       "X360              2015                        11.96\n",
       "PC                2015                         8.52\n",
       "PSV               2015                         6.25\n",
       "Wii               2015                         1.14\n",
       "PSP               2015                         0.12\n",
       "PS4               2016                        69.25\n",
       "XOne              2016                        26.15\n",
       "3DS               2016                        15.14\n",
       "PC                2016                         5.25\n",
       "WiiU              2016                         4.60\n",
       "PSV               2016                         4.25\n",
       "PS3               2016                         3.60\n",
       "X360              2016                         1.52\n",
       "Wii               2016                         0.18\n",
       "PS2               2021                        22.21\n",
       "Wii               2021                        16.33\n",
       "2600              2021                        10.50\n",
       "X360              2021                        10.18\n",
       "PS3               2021                         8.31\n",
       "XB                2021                         6.17\n",
       "GBA               2021                         4.97\n",
       "PSP               2021                         4.52\n",
       "PC                2021                         3.76\n",
       "DS                2021                         3.34\n",
       "PS                2021                         3.28\n",
       "GC                2021                         2.20\n",
       "3DS               2021                         1.19\n",
       "GB                2021                         1.03\n",
       "N64               2021                         0.67\n",
       "PSV               2021                         0.26"
      ]
     },
     "execution_count": 43,
     "metadata": {},
     "output_type": "execute_result"
    }
   ],
   "source": [
    "#взглянем что получилось\n",
    "best_sales_platform.sort_values(['year_of_release', 'all_region_sales'], ascending=[True, False])"
   ]
  },
  {
   "cell_type": "code",
   "execution_count": 44,
   "metadata": {},
   "outputs": [],
   "source": [
    "#теперь посмотрим просто на сухие цифры: платформа и количество продаж\n",
    "best_sales_platform = pd.pivot_table(actual_data_games_sales, index='platform_for_game', \n",
    "                                     values='all_region_sales', aggfunc = 'sum')"
   ]
  },
  {
   "cell_type": "code",
   "execution_count": 45,
   "metadata": {},
   "outputs": [
    {
     "data": {
      "text/html": [
       "<div>\n",
       "<style scoped>\n",
       "    .dataframe tbody tr th:only-of-type {\n",
       "        vertical-align: middle;\n",
       "    }\n",
       "\n",
       "    .dataframe tbody tr th {\n",
       "        vertical-align: top;\n",
       "    }\n",
       "\n",
       "    .dataframe thead th {\n",
       "        text-align: right;\n",
       "    }\n",
       "</style>\n",
       "<table border=\"1\" class=\"dataframe\">\n",
       "  <thead>\n",
       "    <tr style=\"text-align: right;\">\n",
       "      <th></th>\n",
       "      <th>all_region_sales</th>\n",
       "    </tr>\n",
       "    <tr>\n",
       "      <th>platform_for_game</th>\n",
       "      <th></th>\n",
       "    </tr>\n",
       "  </thead>\n",
       "  <tbody>\n",
       "    <tr>\n",
       "      <td>PS4</td>\n",
       "      <td>314.14</td>\n",
       "    </tr>\n",
       "    <tr>\n",
       "      <td>PS3</td>\n",
       "      <td>189.74</td>\n",
       "    </tr>\n",
       "    <tr>\n",
       "      <td>XOne</td>\n",
       "      <td>159.32</td>\n",
       "    </tr>\n",
       "    <tr>\n",
       "      <td>X360</td>\n",
       "      <td>146.98</td>\n",
       "    </tr>\n",
       "    <tr>\n",
       "      <td>3DS</td>\n",
       "      <td>144.44</td>\n",
       "    </tr>\n",
       "    <tr>\n",
       "      <td>WiiU</td>\n",
       "      <td>64.63</td>\n",
       "    </tr>\n",
       "    <tr>\n",
       "      <td>PC</td>\n",
       "      <td>43.19</td>\n",
       "    </tr>\n",
       "    <tr>\n",
       "      <td>PSV</td>\n",
       "      <td>33.25</td>\n",
       "    </tr>\n",
       "    <tr>\n",
       "      <td>Wii</td>\n",
       "      <td>29.99</td>\n",
       "    </tr>\n",
       "    <tr>\n",
       "      <td>PS2</td>\n",
       "      <td>22.21</td>\n",
       "    </tr>\n",
       "    <tr>\n",
       "      <td>2600</td>\n",
       "      <td>10.50</td>\n",
       "    </tr>\n",
       "    <tr>\n",
       "      <td>PSP</td>\n",
       "      <td>8.02</td>\n",
       "    </tr>\n",
       "    <tr>\n",
       "      <td>XB</td>\n",
       "      <td>6.17</td>\n",
       "    </tr>\n",
       "    <tr>\n",
       "      <td>GBA</td>\n",
       "      <td>4.97</td>\n",
       "    </tr>\n",
       "    <tr>\n",
       "      <td>DS</td>\n",
       "      <td>4.88</td>\n",
       "    </tr>\n",
       "    <tr>\n",
       "      <td>PS</td>\n",
       "      <td>3.28</td>\n",
       "    </tr>\n",
       "    <tr>\n",
       "      <td>GC</td>\n",
       "      <td>2.20</td>\n",
       "    </tr>\n",
       "    <tr>\n",
       "      <td>GB</td>\n",
       "      <td>1.03</td>\n",
       "    </tr>\n",
       "    <tr>\n",
       "      <td>N64</td>\n",
       "      <td>0.67</td>\n",
       "    </tr>\n",
       "  </tbody>\n",
       "</table>\n",
       "</div>"
      ],
      "text/plain": [
       "                   all_region_sales\n",
       "platform_for_game                  \n",
       "PS4                          314.14\n",
       "PS3                          189.74\n",
       "XOne                         159.32\n",
       "X360                         146.98\n",
       "3DS                          144.44\n",
       "WiiU                          64.63\n",
       "PC                            43.19\n",
       "PSV                           33.25\n",
       "Wii                           29.99\n",
       "PS2                           22.21\n",
       "2600                          10.50\n",
       "PSP                            8.02\n",
       "XB                             6.17\n",
       "GBA                            4.97\n",
       "DS                             4.88\n",
       "PS                             3.28\n",
       "GC                             2.20\n",
       "GB                             1.03\n",
       "N64                            0.67"
      ]
     },
     "execution_count": 45,
     "metadata": {},
     "output_type": "execute_result"
    }
   ],
   "source": [
    "#наблюдаем\n",
    "best_sales_platform.sort_values('all_region_sales', ascending=False)"
   ]
  },
  {
   "cell_type": "markdown",
   "metadata": {},
   "source": [
    "Топ 5 платформ по мировым сборам: \n",
    "- PS4\n",
    "- PS3 \n",
    "- XOne \n",
    "- X360\n",
    "- 3DS.\n",
    "\n",
    "Суммарная выручка за 3 года около 1 миллиарда долларов.\n",
    "\n",
    "Продажи растут у PS4, XOne, 3DS, WiiU и PSV, так как они заменяют предыдущее поколение игровых приставок. На убыль идут приставки предыдущего поколения PS3, X360, DS, Wii и PSP соотвественно. Так же можно заметить прирост у PC."
   ]
  },
  {
   "cell_type": "markdown",
   "metadata": {},
   "source": [
    "<div class=\"alert alert-success\" style=\"border-radius: 15px; box-shadow: 4px 4px 4px; border: 1px solid \">\n",
    "<h2> Комментарий ревьюера</h2>\n",
    "    \n",
    "Тут тоже соглашусь. Можно еще через сводную:</div>"
   ]
  },
  {
   "cell_type": "code",
   "execution_count": 46,
   "metadata": {},
   "outputs": [
    {
     "data": {
      "text/html": [
       "<div>\n",
       "<style scoped>\n",
       "    .dataframe tbody tr th:only-of-type {\n",
       "        vertical-align: middle;\n",
       "    }\n",
       "\n",
       "    .dataframe tbody tr th {\n",
       "        vertical-align: top;\n",
       "    }\n",
       "\n",
       "    .dataframe thead th {\n",
       "        text-align: right;\n",
       "    }\n",
       "</style>\n",
       "<table border=\"1\" class=\"dataframe\">\n",
       "  <thead>\n",
       "    <tr style=\"text-align: right;\">\n",
       "      <th>platform_for_game</th>\n",
       "      <th>2600</th>\n",
       "      <th>3DS</th>\n",
       "      <th>DS</th>\n",
       "      <th>GB</th>\n",
       "      <th>GBA</th>\n",
       "      <th>GC</th>\n",
       "      <th>N64</th>\n",
       "      <th>PC</th>\n",
       "      <th>PS</th>\n",
       "      <th>PS2</th>\n",
       "      <th>PS3</th>\n",
       "      <th>PS4</th>\n",
       "      <th>PSP</th>\n",
       "      <th>PSV</th>\n",
       "      <th>Wii</th>\n",
       "      <th>WiiU</th>\n",
       "      <th>X360</th>\n",
       "      <th>XB</th>\n",
       "      <th>XOne</th>\n",
       "    </tr>\n",
       "    <tr>\n",
       "      <th>year_of_release</th>\n",
       "      <th></th>\n",
       "      <th></th>\n",
       "      <th></th>\n",
       "      <th></th>\n",
       "      <th></th>\n",
       "      <th></th>\n",
       "      <th></th>\n",
       "      <th></th>\n",
       "      <th></th>\n",
       "      <th></th>\n",
       "      <th></th>\n",
       "      <th></th>\n",
       "      <th></th>\n",
       "      <th></th>\n",
       "      <th></th>\n",
       "      <th></th>\n",
       "      <th></th>\n",
       "      <th></th>\n",
       "      <th></th>\n",
       "    </tr>\n",
       "  </thead>\n",
       "  <tbody>\n",
       "    <tr>\n",
       "      <td>2015</td>\n",
       "      <td>NaN</td>\n",
       "      <td>27.78</td>\n",
       "      <td>NaN</td>\n",
       "      <td>NaN</td>\n",
       "      <td>NaN</td>\n",
       "      <td>NaN</td>\n",
       "      <td>NaN</td>\n",
       "      <td>8.52</td>\n",
       "      <td>NaN</td>\n",
       "      <td>NaN</td>\n",
       "      <td>16.82</td>\n",
       "      <td>118.90</td>\n",
       "      <td>0.12</td>\n",
       "      <td>6.25</td>\n",
       "      <td>1.14</td>\n",
       "      <td>16.35</td>\n",
       "      <td>11.96</td>\n",
       "      <td>NaN</td>\n",
       "      <td>60.14</td>\n",
       "    </tr>\n",
       "    <tr>\n",
       "      <td>2016</td>\n",
       "      <td>NaN</td>\n",
       "      <td>15.14</td>\n",
       "      <td>NaN</td>\n",
       "      <td>NaN</td>\n",
       "      <td>NaN</td>\n",
       "      <td>NaN</td>\n",
       "      <td>NaN</td>\n",
       "      <td>5.25</td>\n",
       "      <td>NaN</td>\n",
       "      <td>NaN</td>\n",
       "      <td>3.60</td>\n",
       "      <td>69.25</td>\n",
       "      <td>NaN</td>\n",
       "      <td>4.25</td>\n",
       "      <td>0.18</td>\n",
       "      <td>4.60</td>\n",
       "      <td>1.52</td>\n",
       "      <td>NaN</td>\n",
       "      <td>26.15</td>\n",
       "    </tr>\n",
       "  </tbody>\n",
       "</table>\n",
       "</div>"
      ],
      "text/plain": [
       "platform_for_game  2600    3DS  DS  GB  GBA  GC  N64    PC  PS  PS2    PS3  \\\n",
       "year_of_release                                                              \n",
       "2015                NaN  27.78 NaN NaN  NaN NaN  NaN  8.52 NaN  NaN  16.82   \n",
       "2016                NaN  15.14 NaN NaN  NaN NaN  NaN  5.25 NaN  NaN   3.60   \n",
       "\n",
       "platform_for_game     PS4   PSP   PSV   Wii   WiiU   X360  XB   XOne  \n",
       "year_of_release                                                       \n",
       "2015               118.90  0.12  6.25  1.14  16.35  11.96 NaN  60.14  \n",
       "2016                69.25   NaN  4.25  0.18   4.60   1.52 NaN  26.15  "
      ]
     },
     "execution_count": 46,
     "metadata": {},
     "output_type": "execute_result"
    }
   ],
   "source": [
    "# КОД РЕВЬЮЕРА\n",
    "\n",
    "actual_data_games_sales.pivot_table(index='year_of_release', columns='platform_for_game', values='all_region_sales', aggfunc='sum').loc[[2015, 2016]]"
   ]
  },
  {
   "cell_type": "markdown",
   "metadata": {},
   "source": [
    "<div class = \"alert alert-info\" >\n",
    "<h3>Комментарий студента</h3>\n",
    "Спасибо, этот кейс тоже пригодится, отмечу себе.\n",
    "</div>"
   ]
  },
  {
   "cell_type": "code",
   "execution_count": 47,
   "metadata": {},
   "outputs": [
    {
     "data": {
      "text/plain": [
       "Text(0.5, 1.0, 'Глобальные продажи по платформам')"
      ]
     },
     "execution_count": 47,
     "metadata": {},
     "output_type": "execute_result"
    },
    {
     "data": {
      "image/png": "[encoded data removed]",
      "text/plain": [
       "<Figure size 1080x1080 with 1 Axes>"
      ]
     },
     "metadata": {
      "needs_background": "light"
     },
     "output_type": "display_data"
    }
   ],
   "source": [
    "#построим график «ящик с усами» по глобальным продажам игр в разбивке по платформам\n",
    "actual_data_games_sales.boxplot('all_region_sales', by ='platform_for_game', figsize=(15,15)).set_ylim(0, 18)\n",
    "plt.title('Глобальные продажи по платформам')"
   ]
  },
  {
   "cell_type": "markdown",
   "metadata": {},
   "source": [
    "**Выбросы связаны с релизами AAA игр, которые в своём жанре имеют высокие продажи, но при этом такие игры имеют большой риск для разработчика, потому что вкладываются огромные суммы в разработку, далее оптимизацию игрового движка и маркетинг для прогрева аудитории накануне даты выхода/релиза. Не всегда продажи покрывают расходы, но если всё пошло по плану, выручки бьют рекорды, так как такие игры это своего рода высокобюджетный голливудский блокбастер в мире игр.**\n",
    "\n",
    "**На графике мы видим что ААА релизы были у 3DS, PS3, PS4, Xbox 360, Xbox One, реже у PC, WiiU, PS2 и остальных. \n",
    "Отдельно хочется сказать про PC, казалось бы технологии быстрее всего внедряются в PC, это касается как оперативной памяти, видеокарт, процессора, дисковых накопителей и т.д., но, есть одно большое НО. Скорость обновления \"девайсов\" настолько высокая, что не все полльзователи смогут или захотят (знак равенства) так быстро менять железо, чтобы играть в современные игры ААА. \n",
    "Ситуация с консолями обстоит иначе, вы покупаете PS3 или PS4, Xbox 360/One и получаете много игр ААА которые изначально оптимизированы под консоль, а самое главное эта стандартизация позволяет большинству геймеров быть на равных друг с другом, чего не скажешь о пользователях PC. Один из самых краеугольных камней этой очевидной разницы будет - FPS(англ. frame per second - частота кадров в секунду), у пользователей консолей +- у всех будет высокий, тогда как у пользователей PC будет сильно отличаться.**"
   ]
  },
  {
   "cell_type": "markdown",
   "metadata": {},
   "source": [
    "<div class=\"alert alert-danger\" style=\"border-radius: 15px; box-shadow: 4px 4px 4px; border: 1px solid \">\n",
    "<b> Комментарий ревьюера</b>\n",
    "    \n",
    "Нас просят построить боксплот в разбивке по платформам. То есть изобрази на одном графике несколько ящиков, по одному на платформу. Так мы сможем сравнить продажи. Добавь, пожалуйста, пару слов про выбросы. Это важно, поскольку не каждый клиент умеет правильно интерпретировать подобные диаграммы.\n",
    "</div>\n",
    "<div class=\"alert alert-success\" style=\"border-radius: 15px; box-shadow: 4px 4px 4px; border: 1px solid \">\n",
    "<h2> Комментарий ревьюера 2</h2>\n",
    "    \n",
    "Отлично.</div>"
   ]
  },
  {
   "cell_type": "markdown",
   "metadata": {},
   "source": [
    "<div class = \"alert alert-info\" >\n",
    "<h3>Комментарий студента</h3>\n",
    "Помнял в соответсвии с замечанием, описал ситуацию с выбросами, так как сам раньше часто играл и понимаю суть данной ситуации.\n",
    "</div>"
   ]
  },
  {
   "cell_type": "markdown",
   "metadata": {},
   "source": [
    "**Вывод:**\n",
    "\n",
    "Разница в продажах отличается. Имеются очень популярные игры, которые продаются годами и дают много прибыли(ААА), таковых единицы. И много игр, которые не смогли преодолеть порог в 400 тыс. долларов за выбранный период.\n",
    "\n",
    "Для PS4, PS3 и 3DS видна положительная тенденция к росту продаж. Средняя больше 3го квантиля, это значит на эти платформы делаются более популярные и продаваемые игры, чем на XOne и X360."
   ]
  },
  {
   "cell_type": "code",
   "execution_count": 48,
   "metadata": {},
   "outputs": [],
   "source": [
    "PS4_actual_data_games_sales = actual_data_games_sales.query('platform_for_game ==\"PS4\"')"
   ]
  },
  {
   "cell_type": "code",
   "execution_count": 49,
   "metadata": {},
   "outputs": [
    {
     "data": {
      "text/html": [
       "<div>\n",
       "<style scoped>\n",
       "    .dataframe tbody tr th:only-of-type {\n",
       "        vertical-align: middle;\n",
       "    }\n",
       "\n",
       "    .dataframe tbody tr th {\n",
       "        vertical-align: top;\n",
       "    }\n",
       "\n",
       "    .dataframe thead th {\n",
       "        text-align: right;\n",
       "    }\n",
       "</style>\n",
       "<table border=\"1\" class=\"dataframe\">\n",
       "  <thead>\n",
       "    <tr style=\"text-align: right;\">\n",
       "      <th></th>\n",
       "      <th>all_region_sales</th>\n",
       "      <th>critic_score</th>\n",
       "      <th>user_score</th>\n",
       "    </tr>\n",
       "  </thead>\n",
       "  <tbody>\n",
       "    <tr>\n",
       "      <td>31</td>\n",
       "      <td>14.63</td>\n",
       "      <td>NaN</td>\n",
       "      <td>NaN</td>\n",
       "    </tr>\n",
       "    <tr>\n",
       "      <td>42</td>\n",
       "      <td>12.62</td>\n",
       "      <td>97.0</td>\n",
       "      <td>8.3</td>\n",
       "    </tr>\n",
       "    <tr>\n",
       "      <td>77</td>\n",
       "      <td>8.58</td>\n",
       "      <td>82.0</td>\n",
       "      <td>4.3</td>\n",
       "    </tr>\n",
       "    <tr>\n",
       "      <td>87</td>\n",
       "      <td>7.98</td>\n",
       "      <td>NaN</td>\n",
       "      <td>NaN</td>\n",
       "    </tr>\n",
       "    <tr>\n",
       "      <td>92</td>\n",
       "      <td>7.66</td>\n",
       "      <td>83.0</td>\n",
       "      <td>5.7</td>\n",
       "    </tr>\n",
       "    <tr>\n",
       "      <td>94</td>\n",
       "      <td>7.60</td>\n",
       "      <td>85.0</td>\n",
       "      <td>5.0</td>\n",
       "    </tr>\n",
       "    <tr>\n",
       "      <td>105</td>\n",
       "      <td>7.17</td>\n",
       "      <td>87.0</td>\n",
       "      <td>6.5</td>\n",
       "    </tr>\n",
       "    <tr>\n",
       "      <td>143</td>\n",
       "      <td>6.08</td>\n",
       "      <td>82.0</td>\n",
       "      <td>5.7</td>\n",
       "    </tr>\n",
       "    <tr>\n",
       "      <td>154</td>\n",
       "      <td>5.64</td>\n",
       "      <td>76.0</td>\n",
       "      <td>6.1</td>\n",
       "    </tr>\n",
       "    <tr>\n",
       "      <td>171</td>\n",
       "      <td>5.39</td>\n",
       "      <td>93.0</td>\n",
       "      <td>7.9</td>\n",
       "    </tr>\n",
       "  </tbody>\n",
       "</table>\n",
       "</div>"
      ],
      "text/plain": [
       "     all_region_sales  critic_score  user_score\n",
       "31              14.63           NaN         NaN\n",
       "42              12.62          97.0         8.3\n",
       "77               8.58          82.0         4.3\n",
       "87               7.98           NaN         NaN\n",
       "92               7.66          83.0         5.7\n",
       "94               7.60          85.0         5.0\n",
       "105              7.17          87.0         6.5\n",
       "143              6.08          82.0         5.7\n",
       "154              5.64          76.0         6.1\n",
       "171              5.39          93.0         7.9"
      ]
     },
     "execution_count": 49,
     "metadata": {},
     "output_type": "execute_result"
    }
   ],
   "source": [
    "#посмотрим как влияют на продажи внутри одной популярной платформы отзывы пользователей и критиков\n",
    "PS4_sales_crit_and_user_ratings = PS4_actual_data_games_sales.loc[:,['all_region_sales', 'critic_score', 'user_score']]\n",
    "PS4_sales_crit_and_user_ratings.head(10)"
   ]
  },
  {
   "cell_type": "code",
   "execution_count": 50,
   "metadata": {},
   "outputs": [
    {
     "data": {
      "text/html": [
       "<div>\n",
       "<style scoped>\n",
       "    .dataframe tbody tr th:only-of-type {\n",
       "        vertical-align: middle;\n",
       "    }\n",
       "\n",
       "    .dataframe tbody tr th {\n",
       "        vertical-align: top;\n",
       "    }\n",
       "\n",
       "    .dataframe thead th {\n",
       "        text-align: right;\n",
       "    }\n",
       "</style>\n",
       "<table border=\"1\" class=\"dataframe\">\n",
       "  <thead>\n",
       "    <tr style=\"text-align: right;\">\n",
       "      <th></th>\n",
       "      <th>all_region_sales</th>\n",
       "      <th>critic_score</th>\n",
       "      <th>user_score</th>\n",
       "    </tr>\n",
       "  </thead>\n",
       "  <tbody>\n",
       "    <tr>\n",
       "      <td>all_region_sales</td>\n",
       "      <td>1.000000</td>\n",
       "      <td>0.406568</td>\n",
       "      <td>-0.031957</td>\n",
       "    </tr>\n",
       "    <tr>\n",
       "      <td>critic_score</td>\n",
       "      <td>0.406568</td>\n",
       "      <td>1.000000</td>\n",
       "      <td>0.557654</td>\n",
       "    </tr>\n",
       "    <tr>\n",
       "      <td>user_score</td>\n",
       "      <td>-0.031957</td>\n",
       "      <td>0.557654</td>\n",
       "      <td>1.000000</td>\n",
       "    </tr>\n",
       "  </tbody>\n",
       "</table>\n",
       "</div>"
      ],
      "text/plain": [
       "                  all_region_sales  critic_score  user_score\n",
       "all_region_sales          1.000000      0.406568   -0.031957\n",
       "critic_score              0.406568      1.000000    0.557654\n",
       "user_score               -0.031957      0.557654    1.000000"
      ]
     },
     "execution_count": 50,
     "metadata": {},
     "output_type": "execute_result"
    }
   ],
   "source": [
    "#проверим корреляцию между выручкой игр на консоли PS4 и оценкой критиков\n",
    "PS4_sales_crit_and_user_ratings.corr()"
   ]
  },
  {
   "cell_type": "markdown",
   "metadata": {},
   "source": [
    "Коэффициент Пирсона показывает нам что между выручками и оценкой критиков есть связь, а между оценкой геймеров нет, так как значение отрицательное и близко к нулю."
   ]
  },
  {
   "cell_type": "code",
   "execution_count": 51,
   "metadata": {},
   "outputs": [
    {
     "data": {
      "text/plain": [
       "array([[<matplotlib.axes._subplots.AxesSubplot object at 0x7f63dcb738d0>,\n",
       "        <matplotlib.axes._subplots.AxesSubplot object at 0x7f63dcb9fc10>,\n",
       "        <matplotlib.axes._subplots.AxesSubplot object at 0x7f63dd04b810>],\n",
       "       [<matplotlib.axes._subplots.AxesSubplot object at 0x7f63dcffef90>,\n",
       "        <matplotlib.axes._subplots.AxesSubplot object at 0x7f63dcfc2850>,\n",
       "        <matplotlib.axes._subplots.AxesSubplot object at 0x7f63dcf7fbd0>],\n",
       "       [<matplotlib.axes._subplots.AxesSubplot object at 0x7f63dcf35890>,\n",
       "        <matplotlib.axes._subplots.AxesSubplot object at 0x7f63dcef40d0>,\n",
       "        <matplotlib.axes._subplots.AxesSubplot object at 0x7f63dcef4c10>]],\n",
       "      dtype=object)"
      ]
     },
     "execution_count": 51,
     "metadata": {},
     "output_type": "execute_result"
    },
    {
     "data": {
      "image/png": "[encoded data removed]",
      "text/plain": [
       "<Figure size 720x720 with 9 Axes>"
      ]
     },
     "metadata": {
      "needs_background": "light"
     },
     "output_type": "display_data"
    }
   ],
   "source": [
    "#выведем на экран диаграмму рассеивания\n",
    "pd.plotting.scatter_matrix(PS4_sales_crit_and_user_ratings, figsize=(10, 10))"
   ]
  },
  {
   "cell_type": "markdown",
   "metadata": {},
   "source": [
    "**Вывод: Для игр консоли PS4 важна сюжетная линия, графика и геймплей, они в первую очередь оцениваются критиками и геймерами. Поэтому есть прямая корреляция между выручками и рейтингом критиков. Обратная корреляция по игрокам не имеет сильной связи.**\n",
    "\n",
    "**Следует обратить внимание на то, что на мнение игроков влияет рейтинг, чем выше ценит игру критик, тем выше оценит её геймеры, логично и скучно).**"
   ]
  },
  {
   "cell_type": "markdown",
   "metadata": {},
   "source": [
    "<div class=\"alert alert-success\" style=\"border-radius: 15px; box-shadow: 4px 4px 4px; border: 1px solid \">\n",
    "<h2> Комментарий ревьюера</h2>\n",
    "  \n",
    "    \n",
    "> чем выше ценит игру критик, тем выше оценит её геймеры, логично и скучно\n",
    "    \n",
    "    \n",
    "Не факт. Критикам часто выгодно завышать оценку. Потом у юзеров возникают завышенные ожидания от игры и, как следствие, разочарование в ней.     \n",
    "</div>"
   ]
  },
  {
   "cell_type": "markdown",
   "metadata": {},
   "source": [
    "<div class = \"alert alert-info\" >\n",
    "<h3>Комментарий студента</h3>\n",
    "Да, у критиков есть такой грешок, но суть опять же в том, что на разочарование юзеров влияет много факторов - локализация, цена, оптимизация игрового движка (одна из самых больших проблем, потому что критики часто спонсируются и тестят игры на мощных PC или последних версиях консоли), большое кол-во багов, о которых никто не говорил при раскрутке до старта продаж. Так же есть примеры крупных релизов, которые изначально были нацелены для консолей, пример Call of Duty: One Guard, суть разницы в том, что управление отличается (на консолях джойстик, на PC клавиатура и мышь) от версии которая портируются уже на PС. У консолей присутсвует AIM asist - помощь в автонаведении прицела на противника, чего нет в версии на PC. Теперь представльте паттерн поведения миллионов юзеров этой игры на PC, когда они играют на общем сервере с консольщиками этой же игры, потому что так и есть на сегодняшний день. Тут сложно будеть подобрать лестные отзывы и не расстроиться. \n",
    "</div>"
   ]
  },
  {
   "cell_type": "markdown",
   "metadata": {},
   "source": [
    "<div class=\"alert alert-success\" style=\"border-radius: 15px; box-shadow: 4px 4px 4px; border: 1px solid \">\n",
    "<h2> Комментарий ревьюера 2</h2>\n",
    "    \n",
    "Согласна.</div>"
   ]
  },
  {
   "cell_type": "code",
   "execution_count": 52,
   "metadata": {},
   "outputs": [],
   "source": [
    "PS3_actual_data_games_sales = actual_data_games_sales.query('platform_for_game ==\"PS3\"')"
   ]
  },
  {
   "cell_type": "code",
   "execution_count": 53,
   "metadata": {},
   "outputs": [
    {
     "data": {
      "text/html": [
       "<div>\n",
       "<style scoped>\n",
       "    .dataframe tbody tr th:only-of-type {\n",
       "        vertical-align: middle;\n",
       "    }\n",
       "\n",
       "    .dataframe tbody tr th {\n",
       "        vertical-align: top;\n",
       "    }\n",
       "\n",
       "    .dataframe thead th {\n",
       "        text-align: right;\n",
       "    }\n",
       "</style>\n",
       "<table border=\"1\" class=\"dataframe\">\n",
       "  <thead>\n",
       "    <tr style=\"text-align: right;\">\n",
       "      <th></th>\n",
       "      <th>all_region_sales</th>\n",
       "      <th>critic_score</th>\n",
       "      <th>user_score</th>\n",
       "    </tr>\n",
       "  </thead>\n",
       "  <tbody>\n",
       "    <tr>\n",
       "      <td>16</td>\n",
       "      <td>21.05</td>\n",
       "      <td>97.0</td>\n",
       "      <td>8.2</td>\n",
       "    </tr>\n",
       "    <tr>\n",
       "      <td>69</td>\n",
       "      <td>9.36</td>\n",
       "      <td>71.0</td>\n",
       "      <td>2.6</td>\n",
       "    </tr>\n",
       "    <tr>\n",
       "      <td>126</td>\n",
       "      <td>6.46</td>\n",
       "      <td>86.0</td>\n",
       "      <td>4.3</td>\n",
       "    </tr>\n",
       "    <tr>\n",
       "      <td>149</td>\n",
       "      <td>5.86</td>\n",
       "      <td>95.0</td>\n",
       "      <td>9.1</td>\n",
       "    </tr>\n",
       "    <tr>\n",
       "      <td>180</td>\n",
       "      <td>5.27</td>\n",
       "      <td>NaN</td>\n",
       "      <td>NaN</td>\n",
       "    </tr>\n",
       "    <tr>\n",
       "      <td>255</td>\n",
       "      <td>4.36</td>\n",
       "      <td>NaN</td>\n",
       "      <td>4.8</td>\n",
       "    </tr>\n",
       "    <tr>\n",
       "      <td>264</td>\n",
       "      <td>4.28</td>\n",
       "      <td>NaN</td>\n",
       "      <td>4.5</td>\n",
       "    </tr>\n",
       "    <tr>\n",
       "      <td>337</td>\n",
       "      <td>3.71</td>\n",
       "      <td>88.0</td>\n",
       "      <td>8.1</td>\n",
       "    </tr>\n",
       "    <tr>\n",
       "      <td>378</td>\n",
       "      <td>3.49</td>\n",
       "      <td>80.0</td>\n",
       "      <td>5.8</td>\n",
       "    </tr>\n",
       "    <tr>\n",
       "      <td>421</td>\n",
       "      <td>3.23</td>\n",
       "      <td>81.0</td>\n",
       "      <td>7.7</td>\n",
       "    </tr>\n",
       "  </tbody>\n",
       "</table>\n",
       "</div>"
      ],
      "text/plain": [
       "     all_region_sales  critic_score  user_score\n",
       "16              21.05          97.0         8.2\n",
       "69               9.36          71.0         2.6\n",
       "126              6.46          86.0         4.3\n",
       "149              5.86          95.0         9.1\n",
       "180              5.27           NaN         NaN\n",
       "255              4.36           NaN         4.8\n",
       "264              4.28           NaN         4.5\n",
       "337              3.71          88.0         8.1\n",
       "378              3.49          80.0         5.8\n",
       "421              3.23          81.0         7.7"
      ]
     },
     "execution_count": 53,
     "metadata": {},
     "output_type": "execute_result"
    }
   ],
   "source": [
    "#cоотнесём выводы с продажами игр на других платформах, для начала PS3\n",
    "PS3_sales_crit_and_user_ratings = PS3_actual_data_games_sales.loc[:,['all_region_sales', 'critic_score', 'user_score']]\n",
    "PS3_sales_crit_and_user_ratings.head(10)"
   ]
  },
  {
   "cell_type": "code",
   "execution_count": 54,
   "metadata": {},
   "outputs": [
    {
     "data": {
      "text/html": [
       "<div>\n",
       "<style scoped>\n",
       "    .dataframe tbody tr th:only-of-type {\n",
       "        vertical-align: middle;\n",
       "    }\n",
       "\n",
       "    .dataframe tbody tr th {\n",
       "        vertical-align: top;\n",
       "    }\n",
       "\n",
       "    .dataframe thead th {\n",
       "        text-align: right;\n",
       "    }\n",
       "</style>\n",
       "<table border=\"1\" class=\"dataframe\">\n",
       "  <thead>\n",
       "    <tr style=\"text-align: right;\">\n",
       "      <th></th>\n",
       "      <th>all_region_sales</th>\n",
       "      <th>critic_score</th>\n",
       "      <th>user_score</th>\n",
       "    </tr>\n",
       "  </thead>\n",
       "  <tbody>\n",
       "    <tr>\n",
       "      <td>all_region_sales</td>\n",
       "      <td>1.000000</td>\n",
       "      <td>0.332839</td>\n",
       "      <td>-0.000806</td>\n",
       "    </tr>\n",
       "    <tr>\n",
       "      <td>critic_score</td>\n",
       "      <td>0.332839</td>\n",
       "      <td>1.000000</td>\n",
       "      <td>0.588039</td>\n",
       "    </tr>\n",
       "    <tr>\n",
       "      <td>user_score</td>\n",
       "      <td>-0.000806</td>\n",
       "      <td>0.588039</td>\n",
       "      <td>1.000000</td>\n",
       "    </tr>\n",
       "  </tbody>\n",
       "</table>\n",
       "</div>"
      ],
      "text/plain": [
       "                  all_region_sales  critic_score  user_score\n",
       "all_region_sales          1.000000      0.332839   -0.000806\n",
       "critic_score              0.332839      1.000000    0.588039\n",
       "user_score               -0.000806      0.588039    1.000000"
      ]
     },
     "execution_count": 54,
     "metadata": {},
     "output_type": "execute_result"
    }
   ],
   "source": [
    "#посмотрим на корреляцию\n",
    "PS3_sales_crit_and_user_ratings.corr()"
   ]
  },
  {
   "cell_type": "markdown",
   "metadata": {},
   "source": [
    "Опять же наблюдаем связь между выручками и оценкой критиков и отсутсвием связи между оценками геймеров. "
   ]
  },
  {
   "cell_type": "code",
   "execution_count": 55,
   "metadata": {},
   "outputs": [
    {
     "data": {
      "text/plain": [
       "array([[<matplotlib.axes._subplots.AxesSubplot object at 0x7f63dce838d0>,\n",
       "        <matplotlib.axes._subplots.AxesSubplot object at 0x7f63dccbc690>,\n",
       "        <matplotlib.axes._subplots.AxesSubplot object at 0x7f63dcc69e50>],\n",
       "       [<matplotlib.axes._subplots.AxesSubplot object at 0x7f63dcc2c690>,\n",
       "        <matplotlib.axes._subplots.AxesSubplot object at 0x7f63d6fc7e90>,\n",
       "        <matplotlib.axes._subplots.AxesSubplot object at 0x7f63d6f886d0>],\n",
       "       [<matplotlib.axes._subplots.AxesSubplot object at 0x7f63d6fb7ed0>,\n",
       "        <matplotlib.axes._subplots.AxesSubplot object at 0x7f63d6f76710>,\n",
       "        <matplotlib.axes._subplots.AxesSubplot object at 0x7f63d6eff290>]],\n",
       "      dtype=object)"
      ]
     },
     "execution_count": 55,
     "metadata": {},
     "output_type": "execute_result"
    },
    {
     "data": {
      "image/png": "[encoded data removed]",
      "text/plain": [
       "<Figure size 720x720 with 9 Axes>"
      ]
     },
     "metadata": {
      "needs_background": "light"
     },
     "output_type": "display_data"
    }
   ],
   "source": [
    "pd.plotting.scatter_matrix(PS3_sales_crit_and_user_ratings, figsize=(10, 10))"
   ]
  },
  {
   "cell_type": "markdown",
   "metadata": {},
   "source": [
    "Вывод: на PS3 прослеживаются такие же тенденции как и на PS4, только хуже, я думаю это связано с устареванием консоли, всё меньше новых релизов, меньше обзоров, а соответсвенно внимания критиков/геймеров и продаж."
   ]
  },
  {
   "cell_type": "code",
   "execution_count": 56,
   "metadata": {},
   "outputs": [],
   "source": [
    "XOne_actual_data_games_sales = actual_data_games_sales.query('platform_for_game ==\"XOne\"')"
   ]
  },
  {
   "cell_type": "code",
   "execution_count": 57,
   "metadata": {},
   "outputs": [
    {
     "data": {
      "text/html": [
       "<div>\n",
       "<style scoped>\n",
       "    .dataframe tbody tr th:only-of-type {\n",
       "        vertical-align: middle;\n",
       "    }\n",
       "\n",
       "    .dataframe tbody tr th {\n",
       "        vertical-align: top;\n",
       "    }\n",
       "\n",
       "    .dataframe thead th {\n",
       "        text-align: right;\n",
       "    }\n",
       "</style>\n",
       "<table border=\"1\" class=\"dataframe\">\n",
       "  <thead>\n",
       "    <tr style=\"text-align: right;\">\n",
       "      <th></th>\n",
       "      <th>all_region_sales</th>\n",
       "      <th>critic_score</th>\n",
       "      <th>user_score</th>\n",
       "    </tr>\n",
       "  </thead>\n",
       "  <tbody>\n",
       "    <tr>\n",
       "      <td>99</td>\n",
       "      <td>7.39</td>\n",
       "      <td>NaN</td>\n",
       "      <td>NaN</td>\n",
       "    </tr>\n",
       "    <tr>\n",
       "      <td>165</td>\n",
       "      <td>5.47</td>\n",
       "      <td>97.0</td>\n",
       "      <td>7.9</td>\n",
       "    </tr>\n",
       "    <tr>\n",
       "      <td>179</td>\n",
       "      <td>5.26</td>\n",
       "      <td>81.0</td>\n",
       "      <td>5.4</td>\n",
       "    </tr>\n",
       "    <tr>\n",
       "      <td>242</td>\n",
       "      <td>4.49</td>\n",
       "      <td>84.0</td>\n",
       "      <td>6.4</td>\n",
       "    </tr>\n",
       "    <tr>\n",
       "      <td>270</td>\n",
       "      <td>4.22</td>\n",
       "      <td>88.0</td>\n",
       "      <td>6.2</td>\n",
       "    </tr>\n",
       "    <tr>\n",
       "      <td>342</td>\n",
       "      <td>3.66</td>\n",
       "      <td>NaN</td>\n",
       "      <td>NaN</td>\n",
       "    </tr>\n",
       "    <tr>\n",
       "      <td>373</td>\n",
       "      <td>3.50</td>\n",
       "      <td>72.0</td>\n",
       "      <td>4.1</td>\n",
       "    </tr>\n",
       "    <tr>\n",
       "      <td>398</td>\n",
       "      <td>3.37</td>\n",
       "      <td>75.0</td>\n",
       "      <td>5.5</td>\n",
       "    </tr>\n",
       "    <tr>\n",
       "      <td>413</td>\n",
       "      <td>3.28</td>\n",
       "      <td>82.0</td>\n",
       "      <td>7.5</td>\n",
       "    </tr>\n",
       "    <tr>\n",
       "      <td>417</td>\n",
       "      <td>3.25</td>\n",
       "      <td>84.0</td>\n",
       "      <td>4.4</td>\n",
       "    </tr>\n",
       "  </tbody>\n",
       "</table>\n",
       "</div>"
      ],
      "text/plain": [
       "     all_region_sales  critic_score  user_score\n",
       "99               7.39           NaN         NaN\n",
       "165              5.47          97.0         7.9\n",
       "179              5.26          81.0         5.4\n",
       "242              4.49          84.0         6.4\n",
       "270              4.22          88.0         6.2\n",
       "342              3.66           NaN         NaN\n",
       "373              3.50          72.0         4.1\n",
       "398              3.37          75.0         5.5\n",
       "413              3.28          82.0         7.5\n",
       "417              3.25          84.0         4.4"
      ]
     },
     "execution_count": 57,
     "metadata": {},
     "output_type": "execute_result"
    }
   ],
   "source": [
    "#теперь для Xboxe One\n",
    "XOne_sales_crit_and_user_ratings = XOne_actual_data_games_sales.loc[:,['all_region_sales', 'critic_score', 'user_score']]\n",
    "XOne_sales_crit_and_user_ratings.head(10)"
   ]
  },
  {
   "cell_type": "code",
   "execution_count": 58,
   "metadata": {},
   "outputs": [
    {
     "data": {
      "text/html": [
       "<div>\n",
       "<style scoped>\n",
       "    .dataframe tbody tr th:only-of-type {\n",
       "        vertical-align: middle;\n",
       "    }\n",
       "\n",
       "    .dataframe tbody tr th {\n",
       "        vertical-align: top;\n",
       "    }\n",
       "\n",
       "    .dataframe thead th {\n",
       "        text-align: right;\n",
       "    }\n",
       "</style>\n",
       "<table border=\"1\" class=\"dataframe\">\n",
       "  <thead>\n",
       "    <tr style=\"text-align: right;\">\n",
       "      <th></th>\n",
       "      <th>all_region_sales</th>\n",
       "      <th>critic_score</th>\n",
       "      <th>user_score</th>\n",
       "    </tr>\n",
       "  </thead>\n",
       "  <tbody>\n",
       "    <tr>\n",
       "      <td>all_region_sales</td>\n",
       "      <td>1.000000</td>\n",
       "      <td>0.416998</td>\n",
       "      <td>-0.068925</td>\n",
       "    </tr>\n",
       "    <tr>\n",
       "      <td>critic_score</td>\n",
       "      <td>0.416998</td>\n",
       "      <td>1.000000</td>\n",
       "      <td>0.472462</td>\n",
       "    </tr>\n",
       "    <tr>\n",
       "      <td>user_score</td>\n",
       "      <td>-0.068925</td>\n",
       "      <td>0.472462</td>\n",
       "      <td>1.000000</td>\n",
       "    </tr>\n",
       "  </tbody>\n",
       "</table>\n",
       "</div>"
      ],
      "text/plain": [
       "                  all_region_sales  critic_score  user_score\n",
       "all_region_sales          1.000000      0.416998   -0.068925\n",
       "critic_score              0.416998      1.000000    0.472462\n",
       "user_score               -0.068925      0.472462    1.000000"
      ]
     },
     "execution_count": 58,
     "metadata": {},
     "output_type": "execute_result"
    }
   ],
   "source": [
    "#проверим корреляцию\n",
    "XOne_sales_crit_and_user_ratings.corr()"
   ]
  },
  {
   "cell_type": "markdown",
   "metadata": {},
   "source": [
    "Оценки критиков оказывают значительное влияние на игры данной консоли, чего не скажешь про мнение геймеров."
   ]
  },
  {
   "cell_type": "code",
   "execution_count": 59,
   "metadata": {},
   "outputs": [
    {
     "data": {
      "text/plain": [
       "array([[<matplotlib.axes._subplots.AxesSubplot object at 0x7f63dcd03c10>,\n",
       "        <matplotlib.axes._subplots.AxesSubplot object at 0x7f63d6d27990>,\n",
       "        <matplotlib.axes._subplots.AxesSubplot object at 0x7f63d6cddc50>],\n",
       "       [<matplotlib.axes._subplots.AxesSubplot object at 0x7f63d6c95910>,\n",
       "        <matplotlib.axes._subplots.AxesSubplot object at 0x7f63d6c52c90>,\n",
       "        <matplotlib.axes._subplots.AxesSubplot object at 0x7f63d6c0a950>],\n",
       "       [<matplotlib.axes._subplots.AxesSubplot object at 0x7f63d6bc6dd0>,\n",
       "        <matplotlib.axes._subplots.AxesSubplot object at 0x7f63d6b7f990>,\n",
       "        <matplotlib.axes._subplots.AxesSubplot object at 0x7f63d6b88510>]],\n",
       "      dtype=object)"
      ]
     },
     "execution_count": 59,
     "metadata": {},
     "output_type": "execute_result"
    },
    {
     "data": {
      "image/png": "[encoded data removed]",
      "text/plain": [
       "<Figure size 720x720 with 9 Axes>"
      ]
     },
     "metadata": {
      "needs_background": "light"
     },
     "output_type": "display_data"
    }
   ],
   "source": [
    "#взглянем на диаграмму рассеивания\n",
    "pd.plotting.scatter_matrix(XOne_sales_crit_and_user_ratings, figsize=(10, 10))"
   ]
  },
  {
   "cell_type": "markdown",
   "metadata": {},
   "source": [
    "Вывод: по прежнему наблюдается доминация критиков над мнением геймеров, высокие оценки критиков делают релизы долгожданными, так как любое мнение хорошо прогревает аудиторию, продажи растут)"
   ]
  },
  {
   "cell_type": "code",
   "execution_count": 60,
   "metadata": {},
   "outputs": [],
   "source": [
    "X360_actual_data_games_sales = actual_data_games_sales.query('platform_for_game ==\"X360\"')"
   ]
  },
  {
   "cell_type": "code",
   "execution_count": 61,
   "metadata": {},
   "outputs": [
    {
     "data": {
      "text/html": [
       "<div>\n",
       "<style scoped>\n",
       "    .dataframe tbody tr th:only-of-type {\n",
       "        vertical-align: middle;\n",
       "    }\n",
       "\n",
       "    .dataframe tbody tr th {\n",
       "        vertical-align: top;\n",
       "    }\n",
       "\n",
       "    .dataframe thead th {\n",
       "        text-align: right;\n",
       "    }\n",
       "</style>\n",
       "<table border=\"1\" class=\"dataframe\">\n",
       "  <thead>\n",
       "    <tr style=\"text-align: right;\">\n",
       "      <th></th>\n",
       "      <th>all_region_sales</th>\n",
       "      <th>critic_score</th>\n",
       "      <th>user_score</th>\n",
       "    </tr>\n",
       "  </thead>\n",
       "  <tbody>\n",
       "    <tr>\n",
       "      <td>23</td>\n",
       "      <td>16.27</td>\n",
       "      <td>97.0</td>\n",
       "      <td>8.1</td>\n",
       "    </tr>\n",
       "    <tr>\n",
       "      <td>60</td>\n",
       "      <td>10.24</td>\n",
       "      <td>73.0</td>\n",
       "      <td>2.6</td>\n",
       "    </tr>\n",
       "    <tr>\n",
       "      <td>72</td>\n",
       "      <td>9.18</td>\n",
       "      <td>NaN</td>\n",
       "      <td>NaN</td>\n",
       "    </tr>\n",
       "    <tr>\n",
       "      <td>263</td>\n",
       "      <td>4.28</td>\n",
       "      <td>NaN</td>\n",
       "      <td>4.9</td>\n",
       "    </tr>\n",
       "    <tr>\n",
       "      <td>271</td>\n",
       "      <td>4.22</td>\n",
       "      <td>84.0</td>\n",
       "      <td>4.2</td>\n",
       "    </tr>\n",
       "    <tr>\n",
       "      <td>380</td>\n",
       "      <td>3.49</td>\n",
       "      <td>79.0</td>\n",
       "      <td>5.6</td>\n",
       "    </tr>\n",
       "    <tr>\n",
       "      <td>410</td>\n",
       "      <td>3.31</td>\n",
       "      <td>86.0</td>\n",
       "      <td>7.9</td>\n",
       "    </tr>\n",
       "    <tr>\n",
       "      <td>494</td>\n",
       "      <td>2.92</td>\n",
       "      <td>NaN</td>\n",
       "      <td>4.2</td>\n",
       "    </tr>\n",
       "    <tr>\n",
       "      <td>612</td>\n",
       "      <td>2.52</td>\n",
       "      <td>87.0</td>\n",
       "      <td>4.9</td>\n",
       "    </tr>\n",
       "    <tr>\n",
       "      <td>627</td>\n",
       "      <td>2.47</td>\n",
       "      <td>92.0</td>\n",
       "      <td>8.2</td>\n",
       "    </tr>\n",
       "  </tbody>\n",
       "</table>\n",
       "</div>"
      ],
      "text/plain": [
       "     all_region_sales  critic_score  user_score\n",
       "23              16.27          97.0         8.1\n",
       "60              10.24          73.0         2.6\n",
       "72               9.18           NaN         NaN\n",
       "263              4.28           NaN         4.9\n",
       "271              4.22          84.0         4.2\n",
       "380              3.49          79.0         5.6\n",
       "410              3.31          86.0         7.9\n",
       "494              2.92           NaN         4.2\n",
       "612              2.52          87.0         4.9\n",
       "627              2.47          92.0         8.2"
      ]
     },
     "execution_count": 61,
     "metadata": {},
     "output_type": "execute_result"
    }
   ],
   "source": [
    "#очередь Xbox 360\n",
    "X360_sales_crit_and_user_ratings = X360_actual_data_games_sales.loc[:,['all_region_sales', 'critic_score', 'user_score']]\n",
    "X360_sales_crit_and_user_ratings.head(10)"
   ]
  },
  {
   "cell_type": "code",
   "execution_count": 62,
   "metadata": {},
   "outputs": [
    {
     "data": {
      "text/html": [
       "<div>\n",
       "<style scoped>\n",
       "    .dataframe tbody tr th:only-of-type {\n",
       "        vertical-align: middle;\n",
       "    }\n",
       "\n",
       "    .dataframe tbody tr th {\n",
       "        vertical-align: top;\n",
       "    }\n",
       "\n",
       "    .dataframe thead th {\n",
       "        text-align: right;\n",
       "    }\n",
       "</style>\n",
       "<table border=\"1\" class=\"dataframe\">\n",
       "  <thead>\n",
       "    <tr style=\"text-align: right;\">\n",
       "      <th></th>\n",
       "      <th>all_region_sales</th>\n",
       "      <th>critic_score</th>\n",
       "      <th>user_score</th>\n",
       "    </tr>\n",
       "  </thead>\n",
       "  <tbody>\n",
       "    <tr>\n",
       "      <td>all_region_sales</td>\n",
       "      <td>1.000000</td>\n",
       "      <td>0.359916</td>\n",
       "      <td>-0.011446</td>\n",
       "    </tr>\n",
       "    <tr>\n",
       "      <td>critic_score</td>\n",
       "      <td>0.359916</td>\n",
       "      <td>1.000000</td>\n",
       "      <td>0.463590</td>\n",
       "    </tr>\n",
       "    <tr>\n",
       "      <td>user_score</td>\n",
       "      <td>-0.011446</td>\n",
       "      <td>0.463590</td>\n",
       "      <td>1.000000</td>\n",
       "    </tr>\n",
       "  </tbody>\n",
       "</table>\n",
       "</div>"
      ],
      "text/plain": [
       "                  all_region_sales  critic_score  user_score\n",
       "all_region_sales          1.000000      0.359916   -0.011446\n",
       "critic_score              0.359916      1.000000    0.463590\n",
       "user_score               -0.011446      0.463590    1.000000"
      ]
     },
     "execution_count": 62,
     "metadata": {},
     "output_type": "execute_result"
    }
   ],
   "source": [
    "#посмотрим на корреляцию\n",
    "X360_sales_crit_and_user_ratings.corr()"
   ]
  },
  {
   "cell_type": "markdown",
   "metadata": {},
   "source": [
    "Сильных отличий в коэффициентах Пирсона не наблюдается по сравнению спредыдущимм консолями, играет лишь фактор популярности."
   ]
  },
  {
   "cell_type": "code",
   "execution_count": 63,
   "metadata": {},
   "outputs": [
    {
     "data": {
      "text/plain": [
       "array([[<matplotlib.axes._subplots.AxesSubplot object at 0x7f63d6984050>,\n",
       "        <matplotlib.axes._subplots.AxesSubplot object at 0x7f63d69b98d0>,\n",
       "        <matplotlib.axes._subplots.AxesSubplot object at 0x7f63d6973c10>],\n",
       "       [<matplotlib.axes._subplots.AxesSubplot object at 0x7f63d692b8d0>,\n",
       "        <matplotlib.axes._subplots.AxesSubplot object at 0x7f63d68e8c50>,\n",
       "        <matplotlib.axes._subplots.AxesSubplot object at 0x7f63d68a0910>],\n",
       "       [<matplotlib.axes._subplots.AxesSubplot object at 0x7f63d685cd90>,\n",
       "        <matplotlib.axes._subplots.AxesSubplot object at 0x7f63d6814950>,\n",
       "        <matplotlib.axes._subplots.AxesSubplot object at 0x7f63d681d4d0>]],\n",
       "      dtype=object)"
      ]
     },
     "execution_count": 63,
     "metadata": {},
     "output_type": "execute_result"
    },
    {
     "data": {
      "image/png": "[encoded data removed]",
      "text/plain": [
       "<Figure size 720x720 with 9 Axes>"
      ]
     },
     "metadata": {
      "needs_background": "light"
     },
     "output_type": "display_data"
    }
   ],
   "source": [
    "pd.plotting.scatter_matrix(X360_sales_crit_and_user_ratings, figsize=(10, 10))"
   ]
  },
  {
   "cell_type": "code",
   "execution_count": 64,
   "metadata": {},
   "outputs": [],
   "source": [
    "_3DS_actual_data_games_sales = actual_data_games_sales.query('platform_for_game ==\"3DS\"')"
   ]
  },
  {
   "cell_type": "code",
   "execution_count": 65,
   "metadata": {},
   "outputs": [
    {
     "data": {
      "text/html": [
       "<div>\n",
       "<style scoped>\n",
       "    .dataframe tbody tr th:only-of-type {\n",
       "        vertical-align: middle;\n",
       "    }\n",
       "\n",
       "    .dataframe tbody tr th {\n",
       "        vertical-align: top;\n",
       "    }\n",
       "\n",
       "    .dataframe thead th {\n",
       "        text-align: right;\n",
       "    }\n",
       "</style>\n",
       "<table border=\"1\" class=\"dataframe\">\n",
       "  <thead>\n",
       "    <tr style=\"text-align: right;\">\n",
       "      <th></th>\n",
       "      <th>all_region_sales</th>\n",
       "      <th>critic_score</th>\n",
       "      <th>user_score</th>\n",
       "    </tr>\n",
       "  </thead>\n",
       "  <tbody>\n",
       "    <tr>\n",
       "      <td>33</td>\n",
       "      <td>14.60</td>\n",
       "      <td>NaN</td>\n",
       "      <td>NaN</td>\n",
       "    </tr>\n",
       "    <tr>\n",
       "      <td>47</td>\n",
       "      <td>11.68</td>\n",
       "      <td>NaN</td>\n",
       "      <td>NaN</td>\n",
       "    </tr>\n",
       "    <tr>\n",
       "      <td>96</td>\n",
       "      <td>7.55</td>\n",
       "      <td>NaN</td>\n",
       "      <td>NaN</td>\n",
       "    </tr>\n",
       "    <tr>\n",
       "      <td>108</td>\n",
       "      <td>7.14</td>\n",
       "      <td>NaN</td>\n",
       "      <td>NaN</td>\n",
       "    </tr>\n",
       "    <tr>\n",
       "      <td>184</td>\n",
       "      <td>5.22</td>\n",
       "      <td>NaN</td>\n",
       "      <td>NaN</td>\n",
       "    </tr>\n",
       "    <tr>\n",
       "      <td>235</td>\n",
       "      <td>4.59</td>\n",
       "      <td>86.0</td>\n",
       "      <td>8.4</td>\n",
       "    </tr>\n",
       "    <tr>\n",
       "      <td>312</td>\n",
       "      <td>3.89</td>\n",
       "      <td>86.0</td>\n",
       "      <td>8.7</td>\n",
       "    </tr>\n",
       "    <tr>\n",
       "      <td>385</td>\n",
       "      <td>3.44</td>\n",
       "      <td>NaN</td>\n",
       "      <td>NaN</td>\n",
       "    </tr>\n",
       "    <tr>\n",
       "      <td>406</td>\n",
       "      <td>3.32</td>\n",
       "      <td>NaN</td>\n",
       "      <td>NaN</td>\n",
       "    </tr>\n",
       "    <tr>\n",
       "      <td>412</td>\n",
       "      <td>3.28</td>\n",
       "      <td>NaN</td>\n",
       "      <td>NaN</td>\n",
       "    </tr>\n",
       "  </tbody>\n",
       "</table>\n",
       "</div>"
      ],
      "text/plain": [
       "     all_region_sales  critic_score  user_score\n",
       "33              14.60           NaN         NaN\n",
       "47              11.68           NaN         NaN\n",
       "96               7.55           NaN         NaN\n",
       "108              7.14           NaN         NaN\n",
       "184              5.22           NaN         NaN\n",
       "235              4.59          86.0         8.4\n",
       "312              3.89          86.0         8.7\n",
       "385              3.44           NaN         NaN\n",
       "406              3.32           NaN         NaN\n",
       "412              3.28           NaN         NaN"
      ]
     },
     "execution_count": 65,
     "metadata": {},
     "output_type": "execute_result"
    }
   ],
   "source": [
    "#тепреь для 3DS\n",
    "_3DS_sales_crit_and_user_ratings = _3DS_actual_data_games_sales.loc[:,['all_region_sales', 'critic_score', 'user_score']]\n",
    "_3DS_sales_crit_and_user_ratings.head(10)"
   ]
  },
  {
   "cell_type": "code",
   "execution_count": 66,
   "metadata": {},
   "outputs": [
    {
     "data": {
      "text/html": [
       "<div>\n",
       "<style scoped>\n",
       "    .dataframe tbody tr th:only-of-type {\n",
       "        vertical-align: middle;\n",
       "    }\n",
       "\n",
       "    .dataframe tbody tr th {\n",
       "        vertical-align: top;\n",
       "    }\n",
       "\n",
       "    .dataframe thead th {\n",
       "        text-align: right;\n",
       "    }\n",
       "</style>\n",
       "<table border=\"1\" class=\"dataframe\">\n",
       "  <thead>\n",
       "    <tr style=\"text-align: right;\">\n",
       "      <th></th>\n",
       "      <th>all_region_sales</th>\n",
       "      <th>critic_score</th>\n",
       "      <th>user_score</th>\n",
       "    </tr>\n",
       "  </thead>\n",
       "  <tbody>\n",
       "    <tr>\n",
       "      <td>all_region_sales</td>\n",
       "      <td>1.000000</td>\n",
       "      <td>0.361008</td>\n",
       "      <td>0.250366</td>\n",
       "    </tr>\n",
       "    <tr>\n",
       "      <td>critic_score</td>\n",
       "      <td>0.361008</td>\n",
       "      <td>1.000000</td>\n",
       "      <td>0.767946</td>\n",
       "    </tr>\n",
       "    <tr>\n",
       "      <td>user_score</td>\n",
       "      <td>0.250366</td>\n",
       "      <td>0.767946</td>\n",
       "      <td>1.000000</td>\n",
       "    </tr>\n",
       "  </tbody>\n",
       "</table>\n",
       "</div>"
      ],
      "text/plain": [
       "                  all_region_sales  critic_score  user_score\n",
       "all_region_sales          1.000000      0.361008    0.250366\n",
       "critic_score              0.361008      1.000000    0.767946\n",
       "user_score                0.250366      0.767946    1.000000"
      ]
     },
     "execution_count": 66,
     "metadata": {},
     "output_type": "execute_result"
    }
   ],
   "source": [
    "#корреляция Пирсона\n",
    "_3DS_sales_crit_and_user_ratings.corr()"
   ]
  },
  {
   "cell_type": "markdown",
   "metadata": {},
   "source": [
    "Вывод: на платформе 3DS мы видим что оценки критиков лишь немного обгоняют оценки геймеров, уникальный случай, учитывая опыт исследования предыдущих консолей."
   ]
  },
  {
   "cell_type": "code",
   "execution_count": 67,
   "metadata": {},
   "outputs": [
    {
     "data": {
      "text/plain": [
       "array([[<matplotlib.axes._subplots.AxesSubplot object at 0x7f63d66152d0>,\n",
       "        <matplotlib.axes._subplots.AxesSubplot object at 0x7f63d65d0c50>,\n",
       "        <matplotlib.axes._subplots.AxesSubplot object at 0x7f63d6583f90>],\n",
       "       [<matplotlib.axes._subplots.AxesSubplot object at 0x7f63d65b5c50>,\n",
       "        <matplotlib.axes._subplots.AxesSubplot object at 0x7f63d6571fd0>,\n",
       "        <matplotlib.axes._subplots.AxesSubplot object at 0x7f63d6523c90>],\n",
       "       [<matplotlib.axes._subplots.AxesSubplot object at 0x7f63d64e24d0>,\n",
       "        <matplotlib.axes._subplots.AxesSubplot object at 0x7f63d6499cd0>,\n",
       "        <matplotlib.axes._subplots.AxesSubplot object at 0x7f63d64a2850>]],\n",
       "      dtype=object)"
      ]
     },
     "execution_count": 67,
     "metadata": {},
     "output_type": "execute_result"
    },
    {
     "data": {
      "image/png": "[encoded data removed]",
      "text/plain": [
       "<Figure size 720x720 with 9 Axes>"
      ]
     },
     "metadata": {
      "needs_background": "light"
     },
     "output_type": "display_data"
    }
   ],
   "source": [
    "#построим диаграмму рассеивания\n",
    "pd.plotting.scatter_matrix(_3DS_sales_crit_and_user_ratings, figsize=(10, 10))"
   ]
  },
  {
   "cell_type": "markdown",
   "metadata": {},
   "source": [
    "Общий вывод: игровые консоли PS3, XOne и X360 имеют похожие связи, как и у PS4.\n",
    "\n",
    "Выделяется 3DS, чьи продажи зависят напрямую как от критиков, так и от рейтингов пользователей. Возможно здесь идет лучше работа с коммьюнити геймеров, хорошо налажена обратная связь и присутствует высокая активность."
   ]
  },
  {
   "cell_type": "code",
   "execution_count": 68,
   "metadata": {},
   "outputs": [
    {
     "data": {
      "text/html": [
       "<div>\n",
       "<style scoped>\n",
       "    .dataframe tbody tr th:only-of-type {\n",
       "        vertical-align: middle;\n",
       "    }\n",
       "\n",
       "    .dataframe tbody tr th {\n",
       "        vertical-align: top;\n",
       "    }\n",
       "\n",
       "    .dataframe thead th {\n",
       "        text-align: right;\n",
       "    }\n",
       "</style>\n",
       "<table border=\"1\" class=\"dataframe\">\n",
       "  <thead>\n",
       "    <tr style=\"text-align: right;\">\n",
       "      <th></th>\n",
       "      <th>all_region_sales</th>\n",
       "    </tr>\n",
       "    <tr>\n",
       "      <th>game_genre</th>\n",
       "      <th></th>\n",
       "    </tr>\n",
       "  </thead>\n",
       "  <tbody>\n",
       "    <tr>\n",
       "      <td>Action</td>\n",
       "      <td>349.52</td>\n",
       "    </tr>\n",
       "    <tr>\n",
       "      <td>Shooter</td>\n",
       "      <td>244.07</td>\n",
       "    </tr>\n",
       "    <tr>\n",
       "      <td>Sports</td>\n",
       "      <td>172.25</td>\n",
       "    </tr>\n",
       "    <tr>\n",
       "      <td>Role-Playing</td>\n",
       "      <td>149.37</td>\n",
       "    </tr>\n",
       "    <tr>\n",
       "      <td>Misc</td>\n",
       "      <td>75.04</td>\n",
       "    </tr>\n",
       "    <tr>\n",
       "      <td>Racing</td>\n",
       "      <td>45.07</td>\n",
       "    </tr>\n",
       "    <tr>\n",
       "      <td>Platform</td>\n",
       "      <td>44.85</td>\n",
       "    </tr>\n",
       "    <tr>\n",
       "      <td>Fighting</td>\n",
       "      <td>40.18</td>\n",
       "    </tr>\n",
       "    <tr>\n",
       "      <td>Adventure</td>\n",
       "      <td>27.90</td>\n",
       "    </tr>\n",
       "    <tr>\n",
       "      <td>Simulation</td>\n",
       "      <td>23.77</td>\n",
       "    </tr>\n",
       "    <tr>\n",
       "      <td>Strategy</td>\n",
       "      <td>11.74</td>\n",
       "    </tr>\n",
       "    <tr>\n",
       "      <td>Puzzle</td>\n",
       "      <td>5.85</td>\n",
       "    </tr>\n",
       "  </tbody>\n",
       "</table>\n",
       "</div>"
      ],
      "text/plain": [
       "              all_region_sales\n",
       "game_genre                    \n",
       "Action                  349.52\n",
       "Shooter                 244.07\n",
       "Sports                  172.25\n",
       "Role-Playing            149.37\n",
       "Misc                     75.04\n",
       "Racing                   45.07\n",
       "Platform                 44.85\n",
       "Fighting                 40.18\n",
       "Adventure                27.90\n",
       "Simulation               23.77\n",
       "Strategy                 11.74\n",
       "Puzzle                    5.85"
      ]
     },
     "execution_count": 68,
     "metadata": {},
     "output_type": "execute_result"
    }
   ],
   "source": [
    "#посмотрим какие жанры игр являются наиболее прибыльными\n",
    "genre_pivot_table = pd.pivot_table(actual_data_games_sales, index='game_genre', values='all_region_sales', aggfunc='sum')\n",
    "genre_pivot_table.sort_values('all_region_sales', ascending=False)"
   ]
  },
  {
   "cell_type": "code",
   "execution_count": 69,
   "metadata": {},
   "outputs": [
    {
     "data": {
      "text/html": [
       "<div>\n",
       "<style scoped>\n",
       "    .dataframe tbody tr th:only-of-type {\n",
       "        vertical-align: middle;\n",
       "    }\n",
       "\n",
       "    .dataframe tbody tr th {\n",
       "        vertical-align: top;\n",
       "    }\n",
       "\n",
       "    .dataframe thead th {\n",
       "        text-align: right;\n",
       "    }\n",
       "</style>\n",
       "<table border=\"1\" class=\"dataframe\">\n",
       "  <thead>\n",
       "    <tr style=\"text-align: right;\">\n",
       "      <th></th>\n",
       "      <th>all_region_sales</th>\n",
       "    </tr>\n",
       "    <tr>\n",
       "      <th>game_genre</th>\n",
       "      <th></th>\n",
       "    </tr>\n",
       "  </thead>\n",
       "  <tbody>\n",
       "    <tr>\n",
       "      <td>Shooter</td>\n",
       "      <td>0.380</td>\n",
       "    </tr>\n",
       "    <tr>\n",
       "      <td>Sports</td>\n",
       "      <td>0.235</td>\n",
       "    </tr>\n",
       "    <tr>\n",
       "      <td>Platform</td>\n",
       "      <td>0.185</td>\n",
       "    </tr>\n",
       "    <tr>\n",
       "      <td>Fighting</td>\n",
       "      <td>0.125</td>\n",
       "    </tr>\n",
       "    <tr>\n",
       "      <td>Role-Playing</td>\n",
       "      <td>0.120</td>\n",
       "    </tr>\n",
       "    <tr>\n",
       "      <td>Racing</td>\n",
       "      <td>0.115</td>\n",
       "    </tr>\n",
       "    <tr>\n",
       "      <td>Action</td>\n",
       "      <td>0.110</td>\n",
       "    </tr>\n",
       "    <tr>\n",
       "      <td>Misc</td>\n",
       "      <td>0.105</td>\n",
       "    </tr>\n",
       "    <tr>\n",
       "      <td>Puzzle</td>\n",
       "      <td>0.100</td>\n",
       "    </tr>\n",
       "    <tr>\n",
       "      <td>Simulation</td>\n",
       "      <td>0.100</td>\n",
       "    </tr>\n",
       "    <tr>\n",
       "      <td>Strategy</td>\n",
       "      <td>0.080</td>\n",
       "    </tr>\n",
       "    <tr>\n",
       "      <td>Adventure</td>\n",
       "      <td>0.030</td>\n",
       "    </tr>\n",
       "  </tbody>\n",
       "</table>\n",
       "</div>"
      ],
      "text/plain": [
       "              all_region_sales\n",
       "game_genre                    \n",
       "Shooter                  0.380\n",
       "Sports                   0.235\n",
       "Platform                 0.185\n",
       "Fighting                 0.125\n",
       "Role-Playing             0.120\n",
       "Racing                   0.115\n",
       "Action                   0.110\n",
       "Misc                     0.105\n",
       "Puzzle                   0.100\n",
       "Simulation               0.100\n",
       "Strategy                 0.080\n",
       "Adventure                0.030"
      ]
     },
     "execution_count": 69,
     "metadata": {},
     "output_type": "execute_result"
    }
   ],
   "source": [
    "#посмотрим как отличается медиана по продажам\n",
    "genre_pivot_table = pd.pivot_table(actual_data_games_sales, index='game_genre', values='all_region_sales', aggfunc='median')\n",
    "genre_pivot_table.sort_values('all_region_sales', ascending=False)"
   ]
  },
  {
   "cell_type": "code",
   "execution_count": 70,
   "metadata": {},
   "outputs": [
    {
     "data": {
      "text/html": [
       "<div>\n",
       "<style scoped>\n",
       "    .dataframe tbody tr th:only-of-type {\n",
       "        vertical-align: middle;\n",
       "    }\n",
       "\n",
       "    .dataframe tbody tr th {\n",
       "        vertical-align: top;\n",
       "    }\n",
       "\n",
       "    .dataframe thead th {\n",
       "        text-align: right;\n",
       "    }\n",
       "</style>\n",
       "<table border=\"1\" class=\"dataframe\">\n",
       "  <thead>\n",
       "    <tr style=\"text-align: right;\">\n",
       "      <th></th>\n",
       "      <th>all_region_sales</th>\n",
       "    </tr>\n",
       "    <tr>\n",
       "      <th>game_genre</th>\n",
       "      <th></th>\n",
       "    </tr>\n",
       "  </thead>\n",
       "  <tbody>\n",
       "    <tr>\n",
       "      <td>Shooter</td>\n",
       "      <td>1.140514</td>\n",
       "    </tr>\n",
       "    <tr>\n",
       "      <td>Sports</td>\n",
       "      <td>0.672852</td>\n",
       "    </tr>\n",
       "    <tr>\n",
       "      <td>Platform</td>\n",
       "      <td>0.533929</td>\n",
       "    </tr>\n",
       "    <tr>\n",
       "      <td>Role-Playing</td>\n",
       "      <td>0.483398</td>\n",
       "    </tr>\n",
       "    <tr>\n",
       "      <td>Fighting</td>\n",
       "      <td>0.436739</td>\n",
       "    </tr>\n",
       "    <tr>\n",
       "      <td>Action</td>\n",
       "      <td>0.422126</td>\n",
       "    </tr>\n",
       "    <tr>\n",
       "      <td>Racing</td>\n",
       "      <td>0.417315</td>\n",
       "    </tr>\n",
       "    <tr>\n",
       "      <td>Misc</td>\n",
       "      <td>0.407826</td>\n",
       "    </tr>\n",
       "    <tr>\n",
       "      <td>Simulation</td>\n",
       "      <td>0.304744</td>\n",
       "    </tr>\n",
       "    <tr>\n",
       "      <td>Puzzle</td>\n",
       "      <td>0.208929</td>\n",
       "    </tr>\n",
       "    <tr>\n",
       "      <td>Strategy</td>\n",
       "      <td>0.177879</td>\n",
       "    </tr>\n",
       "    <tr>\n",
       "      <td>Adventure</td>\n",
       "      <td>0.109412</td>\n",
       "    </tr>\n",
       "  </tbody>\n",
       "</table>\n",
       "</div>"
      ],
      "text/plain": [
       "              all_region_sales\n",
       "game_genre                    \n",
       "Shooter               1.140514\n",
       "Sports                0.672852\n",
       "Platform              0.533929\n",
       "Role-Playing          0.483398\n",
       "Fighting              0.436739\n",
       "Action                0.422126\n",
       "Racing                0.417315\n",
       "Misc                  0.407826\n",
       "Simulation            0.304744\n",
       "Puzzle                0.208929\n",
       "Strategy              0.177879\n",
       "Adventure             0.109412"
      ]
     },
     "execution_count": 70,
     "metadata": {},
     "output_type": "execute_result"
    }
   ],
   "source": [
    "#взглянем на средние продажи \n",
    "genre_pivot_table = pd.pivot_table(actual_data_games_sales, index='game_genre', values='all_region_sales', aggfunc='mean')\n",
    "genre_pivot_table.sort_values('all_region_sales', ascending=False)"
   ]
  },
  {
   "cell_type": "markdown",
   "metadata": {},
   "source": [
    "Интересная картина, шутеры, спортивные симуляторы, платформенные («прыгай и беги» поджанр экшн-игр), файтинги (яркий пример Mortal Combat 11) Два разных метода - медиана и среднее, такие разные результаты, пожалуй данные по медиане будут выгодны для разработчиков, а для издателей суммы продаж. Общие продажи показатель в данном случае интересный только для онлайн маркетплейсов, магазинов."
   ]
  },
  {
   "cell_type": "markdown",
   "metadata": {},
   "source": [
    "Самыми прибыльным жанром можно считать экшен(Action), далее шутеры(Shooter), спортивные игры (Sports) и ролевые игры (Role-Playing).\n",
    "\n",
    "Популярность экшена обусловлена историей создания игр и желания людей проверить свои навыки скорости и реакции. \n",
    "\n",
    "Популярность шутеров, спортивых игр можно объяснить мультплеером, в онлайне режиме люди могут играть друг с другом на разных серверах и с разных концов Земли, в формате 1х1, 2х2, 5х5, яркий тому пример Counter - Strike Global Offensive от компании Valve.\n",
    "\n",
    "Ролевые игры затягивают игроков своей сложностью к прохождению игры и соответсвенно в нее играют часто и даже перепроходят много раз, что увеличивает интерес к будущим дополнениям или повышают вероятность рассказа об этой игре друзьям.\n",
    "\n",
    "На период 2013-2016 год не пользуются популярностью игры жанра приключения (Adventure), симуляторы(Simulation) стратегии реального времени или пошаговые (Strategy) и головоломки (Puzzle).\n",
    "\n",
    "Головоломки были популярны с 80х годов, но сейчас становится все меньше ценителей этого жанра. Текущее поколение хочет экшена, действий и красивой сочной картинки. \n",
    "\n",
    "Симуляторы - это повторение реальной жизни или аспектов реальной жизни сейчас, в прошлом или в будущем. Этот жанр на любителя, поэтому и такие продажи.\n",
    "\n",
    "Стратегии редко когда поднимаются в рейтингах по продажам в ввиду еще большей нелийнейности сюжета, первоначальной сложности входа в игру и сам игровой процесс. \n",
    "\n",
    "Что касается прогноза на 2017 год, то можно сказать что топ-5 жанров будут продаваться ещё лучше, так как к выходу новых консолей разработчики стараются улучшить игровой процесс, графику и геймплей."
   ]
  },
  {
   "cell_type": "markdown",
   "metadata": {},
   "source": [
    "<div class=\"alert alert-success\" style=\"border-radius: 15px; box-shadow: 4px 4px 4px; border: 1px solid \">\n",
    "<h2> Комментарий ревьюера 2</h2>\n",
    "    \n",
    "Теперь экшн не такой популярный :)</div>"
   ]
  },
  {
   "cell_type": "markdown",
   "metadata": {},
   "source": [
    "<div class=\"alert alert-warning\" style=\"border-radius: 15px; box-shadow: 4px 4px 4px; border: 1px solid\">\n",
    "<h2> Комментарий ревьюера</h2>\n",
    "    \n",
    " Хорошо. А может ли быть такая ситуация, что экшн делает продажи только за счет большего количества игр и большого количества бестселлеров? Быть может, другие жанры имеют больше продаж в расчете на единицу игры. Можно сделать то же самое, но с медианными/средними  продажами.\n",
    "</div>"
   ]
  },
  {
   "cell_type": "markdown",
   "metadata": {},
   "source": [
    "<div class = \"alert alert-info\" >\n",
    "<h3>Комментарий студента</h3>\n",
    "Данные действительно отличаются, спасибо большое за замечание, в будущем такой подход позволит мне не делать однобокие выводы. \n",
    "</div>"
   ]
  },
  {
   "cell_type": "markdown",
   "metadata": {},
   "source": [
    "# 4 Шаг. Составление портрета пользователя каждого региона."
   ]
  },
  {
   "cell_type": "markdown",
   "metadata": {},
   "source": [
    "**Определите для пользователя каждого региона (NA, EU, JP):**\n",
    "- Самые популярные платформы (топ-5). Опишите различия в долях продаж. \n",
    "- Самые популярные жанры (топ-5). \n",
    "- Поясните разницу. \n",
    "- Влияет ли рейтинг ESRB на продажи в отдельном регионе?"
   ]
  },
  {
   "cell_type": "code",
   "execution_count": 71,
   "metadata": {},
   "outputs": [
    {
     "name": "stdout",
     "output_type": "stream",
     "text": [
      "<class 'pandas.core.frame.DataFrame'>\n",
      "Int64Index: 1520 entries, 16 to 16672\n",
      "Data columns (total 12 columns):\n",
      "game_name            1520 non-null object\n",
      "platform_for_game    1520 non-null object\n",
      "year_of_release      1520 non-null int64\n",
      "game_genre           1520 non-null object\n",
      "na_sales             1520 non-null float64\n",
      "eu_sales             1520 non-null float64\n",
      "jp_sales             1520 non-null float64\n",
      "other_sales          1520 non-null float64\n",
      "critic_score         949 non-null float64\n",
      "user_score           1091 non-null float32\n",
      "rating_esrb          1520 non-null object\n",
      "all_region_sales     1520 non-null float64\n",
      "dtypes: float32(1), float64(6), int64(1), object(4)\n",
      "memory usage: 148.4+ KB\n"
     ]
    }
   ],
   "source": [
    "#подготвоим данные по Северной Америке с учётом отсеивания \n",
    "na_actual_data_games_sales = actual_data_games_sales.query('na_sales > 0')\n",
    "na_actual_data_games_sales.info()"
   ]
  },
  {
   "cell_type": "code",
   "execution_count": 72,
   "metadata": {},
   "outputs": [
    {
     "name": "stdout",
     "output_type": "stream",
     "text": [
      "<class 'pandas.core.frame.DataFrame'>\n",
      "Int64Index: 1588 entries, 16 to 16692\n",
      "Data columns (total 12 columns):\n",
      "game_name            1588 non-null object\n",
      "platform_for_game    1588 non-null object\n",
      "year_of_release      1588 non-null int64\n",
      "game_genre           1588 non-null object\n",
      "na_sales             1588 non-null float64\n",
      "eu_sales             1588 non-null float64\n",
      "jp_sales             1588 non-null float64\n",
      "other_sales          1588 non-null float64\n",
      "critic_score         991 non-null float64\n",
      "user_score           1149 non-null float32\n",
      "rating_esrb          1588 non-null object\n",
      "all_region_sales     1588 non-null float64\n",
      "dtypes: float32(1), float64(6), int64(1), object(4)\n",
      "memory usage: 155.1+ KB\n"
     ]
    }
   ],
   "source": [
    "#аналогично для рынка Европы\n",
    "eu_actual_data_games_sales = actual_data_games_sales.query('eu_sales > 0')\n",
    "eu_actual_data_games_sales.info()"
   ]
  },
  {
   "cell_type": "code",
   "execution_count": 73,
   "metadata": {},
   "outputs": [
    {
     "name": "stdout",
     "output_type": "stream",
     "text": [
      "<class 'pandas.core.frame.DataFrame'>\n",
      "Int64Index: 1243 entries, 16 to 16714\n",
      "Data columns (total 12 columns):\n",
      "game_name            1243 non-null object\n",
      "platform_for_game    1243 non-null object\n",
      "year_of_release      1243 non-null int64\n",
      "game_genre           1243 non-null object\n",
      "na_sales             1243 non-null float64\n",
      "eu_sales             1243 non-null float64\n",
      "jp_sales             1243 non-null float64\n",
      "other_sales          1243 non-null float64\n",
      "critic_score         425 non-null float64\n",
      "user_score           477 non-null float32\n",
      "rating_esrb          1243 non-null object\n",
      "all_region_sales     1243 non-null float64\n",
      "dtypes: float32(1), float64(6), int64(1), object(4)\n",
      "memory usage: 121.4+ KB\n"
     ]
    }
   ],
   "source": [
    "#для рынка Японии\n",
    "jp_actual_data_games_sales = actual_data_games_sales.query('jp_sales > 0')\n",
    "jp_actual_data_games_sales.info()"
   ]
  },
  {
   "cell_type": "code",
   "execution_count": 74,
   "metadata": {},
   "outputs": [],
   "source": [
    "#выполним поиск популярной консоли по рынку Северной Америки\n",
    "na_platform_pivot_table = pd.pivot_table(na_actual_data_games_sales, index='platform_for_game', values='na_sales',\n",
    "                                        aggfunc='sum').sort_values('na_sales', ascending=False)"
   ]
  },
  {
   "cell_type": "code",
   "execution_count": 75,
   "metadata": {},
   "outputs": [
    {
     "data": {
      "text/html": [
       "<div>\n",
       "<style scoped>\n",
       "    .dataframe tbody tr th:only-of-type {\n",
       "        vertical-align: middle;\n",
       "    }\n",
       "\n",
       "    .dataframe tbody tr th {\n",
       "        vertical-align: top;\n",
       "    }\n",
       "\n",
       "    .dataframe thead th {\n",
       "        text-align: right;\n",
       "    }\n",
       "</style>\n",
       "<table border=\"1\" class=\"dataframe\">\n",
       "  <thead>\n",
       "    <tr style=\"text-align: right;\">\n",
       "      <th></th>\n",
       "      <th>na_sales</th>\n",
       "    </tr>\n",
       "    <tr>\n",
       "      <th>platform_for_game</th>\n",
       "      <th></th>\n",
       "    </tr>\n",
       "  </thead>\n",
       "  <tbody>\n",
       "    <tr>\n",
       "      <td>PS4</td>\n",
       "      <td>108.74</td>\n",
       "    </tr>\n",
       "    <tr>\n",
       "      <td>XOne</td>\n",
       "      <td>93.12</td>\n",
       "    </tr>\n",
       "    <tr>\n",
       "      <td>X360</td>\n",
       "      <td>88.39</td>\n",
       "    </tr>\n",
       "    <tr>\n",
       "      <td>PS3</td>\n",
       "      <td>66.86</td>\n",
       "    </tr>\n",
       "    <tr>\n",
       "      <td>3DS</td>\n",
       "      <td>39.04</td>\n",
       "    </tr>\n",
       "    <tr>\n",
       "      <td>WiiU</td>\n",
       "      <td>29.21</td>\n",
       "    </tr>\n",
       "    <tr>\n",
       "      <td>Wii</td>\n",
       "      <td>16.59</td>\n",
       "    </tr>\n",
       "    <tr>\n",
       "      <td>PC</td>\n",
       "      <td>12.30</td>\n",
       "    </tr>\n",
       "    <tr>\n",
       "      <td>PS2</td>\n",
       "      <td>10.92</td>\n",
       "    </tr>\n",
       "    <tr>\n",
       "      <td>2600</td>\n",
       "      <td>9.82</td>\n",
       "    </tr>\n",
       "    <tr>\n",
       "      <td>PSV</td>\n",
       "      <td>5.15</td>\n",
       "    </tr>\n",
       "    <tr>\n",
       "      <td>XB</td>\n",
       "      <td>4.63</td>\n",
       "    </tr>\n",
       "    <tr>\n",
       "      <td>GBA</td>\n",
       "      <td>3.42</td>\n",
       "    </tr>\n",
       "    <tr>\n",
       "      <td>DS</td>\n",
       "      <td>2.66</td>\n",
       "    </tr>\n",
       "    <tr>\n",
       "      <td>PSP</td>\n",
       "      <td>1.90</td>\n",
       "    </tr>\n",
       "    <tr>\n",
       "      <td>PS</td>\n",
       "      <td>1.80</td>\n",
       "    </tr>\n",
       "    <tr>\n",
       "      <td>GC</td>\n",
       "      <td>1.52</td>\n",
       "    </tr>\n",
       "    <tr>\n",
       "      <td>GB</td>\n",
       "      <td>0.68</td>\n",
       "    </tr>\n",
       "    <tr>\n",
       "      <td>N64</td>\n",
       "      <td>0.11</td>\n",
       "    </tr>\n",
       "  </tbody>\n",
       "</table>\n",
       "</div>"
      ],
      "text/plain": [
       "                   na_sales\n",
       "platform_for_game          \n",
       "PS4                  108.74\n",
       "XOne                  93.12\n",
       "X360                  88.39\n",
       "PS3                   66.86\n",
       "3DS                   39.04\n",
       "WiiU                  29.21\n",
       "Wii                   16.59\n",
       "PC                    12.30\n",
       "PS2                   10.92\n",
       "2600                   9.82\n",
       "PSV                    5.15\n",
       "XB                     4.63\n",
       "GBA                    3.42\n",
       "DS                     2.66\n",
       "PSP                    1.90\n",
       "PS                     1.80\n",
       "GC                     1.52\n",
       "GB                     0.68\n",
       "N64                    0.11"
      ]
     },
     "execution_count": 75,
     "metadata": {},
     "output_type": "execute_result"
    }
   ],
   "source": [
    "na_platform_pivot_table"
   ]
  },
  {
   "cell_type": "code",
   "execution_count": 76,
   "metadata": {},
   "outputs": [],
   "source": [
    "#аналогично сделаем для рынка Европы и Японии\n",
    "eu_platform_pivot_table = pd.pivot_table(eu_actual_data_games_sales, index='platform_for_game', values='eu_sales',\n",
    "                                        aggfunc='sum').sort_values('eu_sales', ascending=False)\n"
   ]
  },
  {
   "cell_type": "code",
   "execution_count": 77,
   "metadata": {},
   "outputs": [
    {
     "data": {
      "text/html": [
       "<div>\n",
       "<style scoped>\n",
       "    .dataframe tbody tr th:only-of-type {\n",
       "        vertical-align: middle;\n",
       "    }\n",
       "\n",
       "    .dataframe tbody tr th {\n",
       "        vertical-align: top;\n",
       "    }\n",
       "\n",
       "    .dataframe thead th {\n",
       "        text-align: right;\n",
       "    }\n",
       "</style>\n",
       "<table border=\"1\" class=\"dataframe\">\n",
       "  <thead>\n",
       "    <tr style=\"text-align: right;\">\n",
       "      <th></th>\n",
       "      <th>eu_sales</th>\n",
       "    </tr>\n",
       "    <tr>\n",
       "      <th>platform_for_game</th>\n",
       "      <th></th>\n",
       "    </tr>\n",
       "  </thead>\n",
       "  <tbody>\n",
       "    <tr>\n",
       "      <td>PS4</td>\n",
       "      <td>141.09</td>\n",
       "    </tr>\n",
       "    <tr>\n",
       "      <td>PS3</td>\n",
       "      <td>70.89</td>\n",
       "    </tr>\n",
       "    <tr>\n",
       "      <td>XOne</td>\n",
       "      <td>51.59</td>\n",
       "    </tr>\n",
       "    <tr>\n",
       "      <td>X360</td>\n",
       "      <td>44.96</td>\n",
       "    </tr>\n",
       "    <tr>\n",
       "      <td>3DS</td>\n",
       "      <td>31.17</td>\n",
       "    </tr>\n",
       "    <tr>\n",
       "      <td>PC</td>\n",
       "      <td>27.43</td>\n",
       "    </tr>\n",
       "    <tr>\n",
       "      <td>WiiU</td>\n",
       "      <td>19.85</td>\n",
       "    </tr>\n",
       "    <tr>\n",
       "      <td>Wii</td>\n",
       "      <td>9.82</td>\n",
       "    </tr>\n",
       "    <tr>\n",
       "      <td>PS2</td>\n",
       "      <td>6.66</td>\n",
       "    </tr>\n",
       "    <tr>\n",
       "      <td>PSV</td>\n",
       "      <td>6.15</td>\n",
       "    </tr>\n",
       "    <tr>\n",
       "      <td>DS</td>\n",
       "      <td>1.33</td>\n",
       "    </tr>\n",
       "    <tr>\n",
       "      <td>XB</td>\n",
       "      <td>1.30</td>\n",
       "    </tr>\n",
       "    <tr>\n",
       "      <td>PSP</td>\n",
       "      <td>1.23</td>\n",
       "    </tr>\n",
       "    <tr>\n",
       "      <td>PS</td>\n",
       "      <td>1.22</td>\n",
       "    </tr>\n",
       "    <tr>\n",
       "      <td>GBA</td>\n",
       "      <td>0.66</td>\n",
       "    </tr>\n",
       "    <tr>\n",
       "      <td>2600</td>\n",
       "      <td>0.61</td>\n",
       "    </tr>\n",
       "    <tr>\n",
       "      <td>GC</td>\n",
       "      <td>0.39</td>\n",
       "    </tr>\n",
       "    <tr>\n",
       "      <td>GB</td>\n",
       "      <td>0.31</td>\n",
       "    </tr>\n",
       "    <tr>\n",
       "      <td>N64</td>\n",
       "      <td>0.03</td>\n",
       "    </tr>\n",
       "  </tbody>\n",
       "</table>\n",
       "</div>"
      ],
      "text/plain": [
       "                   eu_sales\n",
       "platform_for_game          \n",
       "PS4                  141.09\n",
       "PS3                   70.89\n",
       "XOne                  51.59\n",
       "X360                  44.96\n",
       "3DS                   31.17\n",
       "PC                    27.43\n",
       "WiiU                  19.85\n",
       "Wii                    9.82\n",
       "PS2                    6.66\n",
       "PSV                    6.15\n",
       "DS                     1.33\n",
       "XB                     1.30\n",
       "PSP                    1.23\n",
       "PS                     1.22\n",
       "GBA                    0.66\n",
       "2600                   0.61\n",
       "GC                     0.39\n",
       "GB                     0.31\n",
       "N64                    0.03"
      ]
     },
     "execution_count": 77,
     "metadata": {},
     "output_type": "execute_result"
    }
   ],
   "source": [
    "eu_platform_pivot_table"
   ]
  },
  {
   "cell_type": "code",
   "execution_count": 78,
   "metadata": {},
   "outputs": [],
   "source": [
    "jp_platform_pivot_table = pd.pivot_table(jp_actual_data_games_sales, index='platform_for_game', values='jp_sales',\n",
    "                                        aggfunc='sum').sort_values('jp_sales', ascending=False)"
   ]
  },
  {
   "cell_type": "code",
   "execution_count": 79,
   "metadata": {},
   "outputs": [
    {
     "data": {
      "text/html": [
       "<div>\n",
       "<style scoped>\n",
       "    .dataframe tbody tr th:only-of-type {\n",
       "        vertical-align: middle;\n",
       "    }\n",
       "\n",
       "    .dataframe tbody tr th {\n",
       "        vertical-align: top;\n",
       "    }\n",
       "\n",
       "    .dataframe thead th {\n",
       "        text-align: right;\n",
       "    }\n",
       "</style>\n",
       "<table border=\"1\" class=\"dataframe\">\n",
       "  <thead>\n",
       "    <tr style=\"text-align: right;\">\n",
       "      <th></th>\n",
       "      <th>jp_sales</th>\n",
       "    </tr>\n",
       "    <tr>\n",
       "      <th>platform_for_game</th>\n",
       "      <th></th>\n",
       "    </tr>\n",
       "  </thead>\n",
       "  <tbody>\n",
       "    <tr>\n",
       "      <td>3DS</td>\n",
       "      <td>67.86</td>\n",
       "    </tr>\n",
       "    <tr>\n",
       "      <td>PS3</td>\n",
       "      <td>24.13</td>\n",
       "    </tr>\n",
       "    <tr>\n",
       "      <td>PSV</td>\n",
       "      <td>18.66</td>\n",
       "    </tr>\n",
       "    <tr>\n",
       "      <td>PS4</td>\n",
       "      <td>15.96</td>\n",
       "    </tr>\n",
       "    <tr>\n",
       "      <td>WiiU</td>\n",
       "      <td>10.88</td>\n",
       "    </tr>\n",
       "    <tr>\n",
       "      <td>PSP</td>\n",
       "      <td>4.19</td>\n",
       "    </tr>\n",
       "    <tr>\n",
       "      <td>PS2</td>\n",
       "      <td>1.66</td>\n",
       "    </tr>\n",
       "    <tr>\n",
       "      <td>Wii</td>\n",
       "      <td>1.10</td>\n",
       "    </tr>\n",
       "    <tr>\n",
       "      <td>GBA</td>\n",
       "      <td>0.77</td>\n",
       "    </tr>\n",
       "    <tr>\n",
       "      <td>X360</td>\n",
       "      <td>0.64</td>\n",
       "    </tr>\n",
       "    <tr>\n",
       "      <td>DS</td>\n",
       "      <td>0.55</td>\n",
       "    </tr>\n",
       "    <tr>\n",
       "      <td>N64</td>\n",
       "      <td>0.46</td>\n",
       "    </tr>\n",
       "    <tr>\n",
       "      <td>XOne</td>\n",
       "      <td>0.34</td>\n",
       "    </tr>\n",
       "    <tr>\n",
       "      <td>GC</td>\n",
       "      <td>0.24</td>\n",
       "    </tr>\n",
       "    <tr>\n",
       "      <td>PS</td>\n",
       "      <td>0.04</td>\n",
       "    </tr>\n",
       "  </tbody>\n",
       "</table>\n",
       "</div>"
      ],
      "text/plain": [
       "                   jp_sales\n",
       "platform_for_game          \n",
       "3DS                   67.86\n",
       "PS3                   24.13\n",
       "PSV                   18.66\n",
       "PS4                   15.96\n",
       "WiiU                  10.88\n",
       "PSP                    4.19\n",
       "PS2                    1.66\n",
       "Wii                    1.10\n",
       "GBA                    0.77\n",
       "X360                   0.64\n",
       "DS                     0.55\n",
       "N64                    0.46\n",
       "XOne                   0.34\n",
       "GC                     0.24\n",
       "PS                     0.04"
      ]
     },
     "execution_count": 79,
     "metadata": {},
     "output_type": "execute_result"
    }
   ],
   "source": [
    "jp_platform_pivot_table"
   ]
  },
  {
   "cell_type": "markdown",
   "metadata": {},
   "source": [
    "Рейтинг платформ:\n",
    "\n",
    "- Топ 5 по Северной Америке: PS4, XOne, X360, PS3 и 3DS\n",
    "- Топ 5 по Европейскому региону: PS4, PS3, XOne, X360 и 3DS\n",
    "- Топ 5 по Японии: 3DS, PS3, PSV, PS4 и WiiU\n",
    "\n",
    "Различия по популярности платформ в первую очередь зависят от влияния фирмы и локализации игр на консоль. Sony лидирует на всех рынках.\n",
    "Во-вторых - местоположение компании. Популярность XOne и X360 в Америке обусловлена крупным игроком на рынке в регионе - компания Microsoft. В Японии похожее положение занимает компания Nintendo c двумя продуктами 3DS и WiiU. Европейский рынок смотрит на общую популярность платформы, так как как нет крупных компаний по разработке платформ.\n",
    "\n",
    "На Американском рынке по продажам соревнуются PS4 и XOne. Это вечные конкуренты и компания Microsoft не хочет отставать по продажам от Sony на своём рынке. В Европе нет такой сильной конкуренции - люди выбирают лучший и популярный продукт PS4. В Японии высокая конкуренция Nintendo и Sony за пользователей. Как видно у первой компании есть успехи в родном регионе, но при этом плохие показатели за его пределами. В целом продажи меньше, так как в этом регионе меньше сам рынок."
   ]
  },
  {
   "cell_type": "markdown",
   "metadata": {},
   "source": [
    "<div class=\"alert alert-success\" style=\"border-radius: 15px; box-shadow: 4px 4px 4px; border: 1px solid \">\n",
    "<h2> Комментарий ревьюера</h2>\n",
    "    \n",
    "Действительно. Похоже, что японцы больше любят портативные консоли и родной рынок.\n",
    "</div>"
   ]
  },
  {
   "cell_type": "code",
   "execution_count": 80,
   "metadata": {},
   "outputs": [],
   "source": [
    "#cамые популярные жанры, топ-5 для рынка Северной Америки\n",
    "na_genre_pivot_table = pd.pivot_table(na_actual_data_games_sales, index='game_genre', values='na_sales',\n",
    "                                        aggfunc='sum').sort_values('na_sales', ascending=False)"
   ]
  },
  {
   "cell_type": "code",
   "execution_count": 81,
   "metadata": {},
   "outputs": [
    {
     "data": {
      "text/html": [
       "<div>\n",
       "<style scoped>\n",
       "    .dataframe tbody tr th:only-of-type {\n",
       "        vertical-align: middle;\n",
       "    }\n",
       "\n",
       "    .dataframe tbody tr th {\n",
       "        vertical-align: top;\n",
       "    }\n",
       "\n",
       "    .dataframe thead th {\n",
       "        text-align: right;\n",
       "    }\n",
       "</style>\n",
       "<table border=\"1\" class=\"dataframe\">\n",
       "  <thead>\n",
       "    <tr style=\"text-align: right;\">\n",
       "      <th></th>\n",
       "      <th>na_sales</th>\n",
       "    </tr>\n",
       "    <tr>\n",
       "      <th>game_genre</th>\n",
       "      <th></th>\n",
       "    </tr>\n",
       "  </thead>\n",
       "  <tbody>\n",
       "    <tr>\n",
       "      <td>Action</td>\n",
       "      <td>141.89</td>\n",
       "    </tr>\n",
       "    <tr>\n",
       "      <td>Shooter</td>\n",
       "      <td>117.15</td>\n",
       "    </tr>\n",
       "    <tr>\n",
       "      <td>Sports</td>\n",
       "      <td>78.50</td>\n",
       "    </tr>\n",
       "    <tr>\n",
       "      <td>Role-Playing</td>\n",
       "      <td>47.17</td>\n",
       "    </tr>\n",
       "    <tr>\n",
       "      <td>Misc</td>\n",
       "      <td>35.19</td>\n",
       "    </tr>\n",
       "  </tbody>\n",
       "</table>\n",
       "</div>"
      ],
      "text/plain": [
       "              na_sales\n",
       "game_genre            \n",
       "Action          141.89\n",
       "Shooter         117.15\n",
       "Sports           78.50\n",
       "Role-Playing     47.17\n",
       "Misc             35.19"
      ]
     },
     "execution_count": 81,
     "metadata": {},
     "output_type": "execute_result"
    }
   ],
   "source": [
    "na_genre_pivot_table.head()"
   ]
  },
  {
   "cell_type": "code",
   "execution_count": 82,
   "metadata": {},
   "outputs": [],
   "source": [
    "#cамые популярные жанры, топ-5 для рынка Европы\n",
    "eu_genre_pivot_table = pd.pivot_table(eu_actual_data_games_sales, index='game_genre', values='eu_sales',\n",
    "                                        aggfunc='sum').sort_values('eu_sales', ascending=False)"
   ]
  },
  {
   "cell_type": "code",
   "execution_count": 83,
   "metadata": {},
   "outputs": [
    {
     "data": {
      "text/html": [
       "<div>\n",
       "<style scoped>\n",
       "    .dataframe tbody tr th:only-of-type {\n",
       "        vertical-align: middle;\n",
       "    }\n",
       "\n",
       "    .dataframe tbody tr th {\n",
       "        vertical-align: top;\n",
       "    }\n",
       "\n",
       "    .dataframe thead th {\n",
       "        text-align: right;\n",
       "    }\n",
       "</style>\n",
       "<table border=\"1\" class=\"dataframe\">\n",
       "  <thead>\n",
       "    <tr style=\"text-align: right;\">\n",
       "      <th></th>\n",
       "      <th>eu_sales</th>\n",
       "    </tr>\n",
       "    <tr>\n",
       "      <th>game_genre</th>\n",
       "      <th></th>\n",
       "    </tr>\n",
       "  </thead>\n",
       "  <tbody>\n",
       "    <tr>\n",
       "      <td>Action</td>\n",
       "      <td>126.27</td>\n",
       "    </tr>\n",
       "    <tr>\n",
       "      <td>Shooter</td>\n",
       "      <td>90.68</td>\n",
       "    </tr>\n",
       "    <tr>\n",
       "      <td>Sports</td>\n",
       "      <td>65.98</td>\n",
       "    </tr>\n",
       "    <tr>\n",
       "      <td>Role-Playing</td>\n",
       "      <td>37.44</td>\n",
       "    </tr>\n",
       "    <tr>\n",
       "      <td>Racing</td>\n",
       "      <td>22.21</td>\n",
       "    </tr>\n",
       "  </tbody>\n",
       "</table>\n",
       "</div>"
      ],
      "text/plain": [
       "              eu_sales\n",
       "game_genre            \n",
       "Action          126.27\n",
       "Shooter          90.68\n",
       "Sports           65.98\n",
       "Role-Playing     37.44\n",
       "Racing           22.21"
      ]
     },
     "execution_count": 83,
     "metadata": {},
     "output_type": "execute_result"
    }
   ],
   "source": [
    "eu_genre_pivot_table.head()"
   ]
  },
  {
   "cell_type": "code",
   "execution_count": 84,
   "metadata": {},
   "outputs": [],
   "source": [
    "#cамые популярные жанры, топ-5 для рынка Японии\n",
    "jp_genre_pivot_table = pd.pivot_table(jp_actual_data_games_sales, index='game_genre', values='jp_sales',\n",
    "                                        aggfunc='sum').sort_values('jp_sales', ascending=False)"
   ]
  },
  {
   "cell_type": "code",
   "execution_count": 85,
   "metadata": {},
   "outputs": [
    {
     "data": {
      "text/html": [
       "<div>\n",
       "<style scoped>\n",
       "    .dataframe tbody tr th:only-of-type {\n",
       "        vertical-align: middle;\n",
       "    }\n",
       "\n",
       "    .dataframe tbody tr th {\n",
       "        vertical-align: top;\n",
       "    }\n",
       "\n",
       "    .dataframe thead th {\n",
       "        text-align: right;\n",
       "    }\n",
       "</style>\n",
       "<table border=\"1\" class=\"dataframe\">\n",
       "  <thead>\n",
       "    <tr style=\"text-align: right;\">\n",
       "      <th></th>\n",
       "      <th>jp_sales</th>\n",
       "    </tr>\n",
       "    <tr>\n",
       "      <th>game_genre</th>\n",
       "      <th></th>\n",
       "    </tr>\n",
       "  </thead>\n",
       "  <tbody>\n",
       "    <tr>\n",
       "      <td>Role-Playing</td>\n",
       "      <td>53.06</td>\n",
       "    </tr>\n",
       "    <tr>\n",
       "      <td>Action</td>\n",
       "      <td>41.78</td>\n",
       "    </tr>\n",
       "    <tr>\n",
       "      <td>Misc</td>\n",
       "      <td>10.29</td>\n",
       "    </tr>\n",
       "    <tr>\n",
       "      <td>Fighting</td>\n",
       "      <td>7.85</td>\n",
       "    </tr>\n",
       "    <tr>\n",
       "      <td>Shooter</td>\n",
       "      <td>6.69</td>\n",
       "    </tr>\n",
       "  </tbody>\n",
       "</table>\n",
       "</div>"
      ],
      "text/plain": [
       "              jp_sales\n",
       "game_genre            \n",
       "Role-Playing     53.06\n",
       "Action           41.78\n",
       "Misc             10.29\n",
       "Fighting          7.85\n",
       "Shooter           6.69"
      ]
     },
     "execution_count": 85,
     "metadata": {},
     "output_type": "execute_result"
    }
   ],
   "source": [
    "jp_genre_pivot_table.head()"
   ]
  },
  {
   "cell_type": "markdown",
   "metadata": {},
   "source": [
    "Вывод: топовые жанры для рынка Северной Америки и Европы оказались практически одинаковыми, единственное различие в нашлось на 5 месте. Итак в Северной Америке это жанр Misc - игры в категории skill-and-action, отличающиеся от основной массы игр, а в Европе жанр Racing, симулятор гонок, что а принципе логично, так как большинство гоночных машин Европейского производства.\n",
    "Американские и Европейские геймеры во многом схожи, когда речь идёт о выборе игр, чего не скажешь о Японских геймерах, предпочитающих больше ролевые игры(RPG), нежели экшн. Япония вообще считается передовой страной, поэтому я считаю что японские геймеры более искушённые, поэтому играют в RPG, так как там чаще всего более проработана сюжетная линиия и построен свой уникальный игровой мир, который сильно затягивает. \n",
    "\n",
    "В общем и целом мы видим доминацию игр жанра Action во всех регионах, эти игры просты и понятны для большинства людей, чаще всего обладают незаурядным геймплеем и пристуствием сюжетной линии, что позволяет большинству игроков получание удовлльствие здесь и сейчас, в отличие от тех же RPG игр, где приходится \"прокачивать\" главного героя или тратить время на решение головоломок и второстепенных миссий. "
   ]
  },
  {
   "cell_type": "code",
   "execution_count": 86,
   "metadata": {},
   "outputs": [],
   "source": [
    "#изучим влияние рейтинга на продажи в Северной Америке\n",
    "na_rating_pivot_table = pd.pivot_table(na_actual_data_games_sales, index='rating_esrb', values='na_sales',\n",
    "                                        aggfunc='sum').sort_values('na_sales', ascending=False)"
   ]
  },
  {
   "cell_type": "code",
   "execution_count": 87,
   "metadata": {},
   "outputs": [
    {
     "data": {
      "text/html": [
       "<div>\n",
       "<style scoped>\n",
       "    .dataframe tbody tr th:only-of-type {\n",
       "        vertical-align: middle;\n",
       "    }\n",
       "\n",
       "    .dataframe tbody tr th {\n",
       "        vertical-align: top;\n",
       "    }\n",
       "\n",
       "    .dataframe thead th {\n",
       "        text-align: right;\n",
       "    }\n",
       "</style>\n",
       "<table border=\"1\" class=\"dataframe\">\n",
       "  <thead>\n",
       "    <tr style=\"text-align: right;\">\n",
       "      <th></th>\n",
       "      <th>na_sales</th>\n",
       "    </tr>\n",
       "    <tr>\n",
       "      <th>rating_esrb</th>\n",
       "      <th></th>\n",
       "    </tr>\n",
       "  </thead>\n",
       "  <tbody>\n",
       "    <tr>\n",
       "      <td>M</td>\n",
       "      <td>170.80</td>\n",
       "    </tr>\n",
       "    <tr>\n",
       "      <td>not rated</td>\n",
       "      <td>104.26</td>\n",
       "    </tr>\n",
       "    <tr>\n",
       "      <td>E</td>\n",
       "      <td>97.80</td>\n",
       "    </tr>\n",
       "    <tr>\n",
       "      <td>E10+</td>\n",
       "      <td>62.06</td>\n",
       "    </tr>\n",
       "    <tr>\n",
       "      <td>T</td>\n",
       "      <td>61.94</td>\n",
       "    </tr>\n",
       "  </tbody>\n",
       "</table>\n",
       "</div>"
      ],
      "text/plain": [
       "             na_sales\n",
       "rating_esrb          \n",
       "M              170.80\n",
       "not rated      104.26\n",
       "E               97.80\n",
       "E10+            62.06\n",
       "T               61.94"
      ]
     },
     "execution_count": 87,
     "metadata": {},
     "output_type": "execute_result"
    }
   ],
   "source": [
    "na_rating_pivot_table"
   ]
  },
  {
   "cell_type": "code",
   "execution_count": 88,
   "metadata": {},
   "outputs": [],
   "source": [
    "#изучим влияние рейтинга на продажи в Европе\n",
    "eu_rating_pivot_table = pd.pivot_table(eu_actual_data_games_sales, index='rating_esrb', values='eu_sales',\n",
    "                                        aggfunc='sum').sort_values('eu_sales', ascending=False)"
   ]
  },
  {
   "cell_type": "code",
   "execution_count": 89,
   "metadata": {},
   "outputs": [
    {
     "data": {
      "text/html": [
       "<div>\n",
       "<style scoped>\n",
       "    .dataframe tbody tr th:only-of-type {\n",
       "        vertical-align: middle;\n",
       "    }\n",
       "\n",
       "    .dataframe tbody tr th {\n",
       "        vertical-align: top;\n",
       "    }\n",
       "\n",
       "    .dataframe thead th {\n",
       "        text-align: right;\n",
       "    }\n",
       "</style>\n",
       "<table border=\"1\" class=\"dataframe\">\n",
       "  <thead>\n",
       "    <tr style=\"text-align: right;\">\n",
       "      <th></th>\n",
       "      <th>eu_sales</th>\n",
       "    </tr>\n",
       "    <tr>\n",
       "      <th>rating_esrb</th>\n",
       "      <th></th>\n",
       "    </tr>\n",
       "  </thead>\n",
       "  <tbody>\n",
       "    <tr>\n",
       "      <td>M</td>\n",
       "      <td>149.29</td>\n",
       "    </tr>\n",
       "    <tr>\n",
       "      <td>E</td>\n",
       "      <td>89.74</td>\n",
       "    </tr>\n",
       "    <tr>\n",
       "      <td>not rated</td>\n",
       "      <td>82.56</td>\n",
       "    </tr>\n",
       "    <tr>\n",
       "      <td>E10+</td>\n",
       "      <td>47.86</td>\n",
       "    </tr>\n",
       "    <tr>\n",
       "      <td>T</td>\n",
       "      <td>47.19</td>\n",
       "    </tr>\n",
       "    <tr>\n",
       "      <td>RP</td>\n",
       "      <td>0.05</td>\n",
       "    </tr>\n",
       "  </tbody>\n",
       "</table>\n",
       "</div>"
      ],
      "text/plain": [
       "             eu_sales\n",
       "rating_esrb          \n",
       "M              149.29\n",
       "E               89.74\n",
       "not rated       82.56\n",
       "E10+            47.86\n",
       "T               47.19\n",
       "RP               0.05"
      ]
     },
     "execution_count": 89,
     "metadata": {},
     "output_type": "execute_result"
    }
   ],
   "source": [
    "eu_rating_pivot_table"
   ]
  },
  {
   "cell_type": "code",
   "execution_count": 90,
   "metadata": {},
   "outputs": [],
   "source": [
    "#изучим влияние рейтинга на продажи в Японии\n",
    "jp_rating_pivot_table = pd.pivot_table(jp_actual_data_games_sales, index='rating_esrb', values='jp_sales',\n",
    "                                        aggfunc='sum').sort_values('jp_sales', ascending=False)"
   ]
  },
  {
   "cell_type": "code",
   "execution_count": 91,
   "metadata": {},
   "outputs": [
    {
     "data": {
      "text/html": [
       "<div>\n",
       "<style scoped>\n",
       "    .dataframe tbody tr th:only-of-type {\n",
       "        vertical-align: middle;\n",
       "    }\n",
       "\n",
       "    .dataframe tbody tr th {\n",
       "        vertical-align: top;\n",
       "    }\n",
       "\n",
       "    .dataframe thead th {\n",
       "        text-align: right;\n",
       "    }\n",
       "</style>\n",
       "<table border=\"1\" class=\"dataframe\">\n",
       "  <thead>\n",
       "    <tr style=\"text-align: right;\">\n",
       "      <th></th>\n",
       "      <th>jp_sales</th>\n",
       "    </tr>\n",
       "    <tr>\n",
       "      <th>rating_esrb</th>\n",
       "      <th></th>\n",
       "    </tr>\n",
       "  </thead>\n",
       "  <tbody>\n",
       "    <tr>\n",
       "      <td>not rated</td>\n",
       "      <td>90.24</td>\n",
       "    </tr>\n",
       "    <tr>\n",
       "      <td>T</td>\n",
       "      <td>21.29</td>\n",
       "    </tr>\n",
       "    <tr>\n",
       "      <td>E</td>\n",
       "      <td>15.29</td>\n",
       "    </tr>\n",
       "    <tr>\n",
       "      <td>M</td>\n",
       "      <td>14.77</td>\n",
       "    </tr>\n",
       "    <tr>\n",
       "      <td>E10+</td>\n",
       "      <td>5.89</td>\n",
       "    </tr>\n",
       "  </tbody>\n",
       "</table>\n",
       "</div>"
      ],
      "text/plain": [
       "             jp_sales\n",
       "rating_esrb          \n",
       "not rated       90.24\n",
       "T               21.29\n",
       "E               15.29\n",
       "M               14.77\n",
       "E10+             5.89"
      ]
     },
     "execution_count": 91,
     "metadata": {},
     "output_type": "execute_result"
    }
   ],
   "source": [
    "jp_rating_pivot_table"
   ]
  },
  {
   "cell_type": "markdown",
   "metadata": {},
   "source": [
    "**Рейтинг возраста по каждому региону:**\n",
    "\n",
    "В Америке и Европе схожие оценки - в первую очередь популярны игры с возрастным рейтингом 17+.\n",
    "Это говорит нам о том, что эти рынки ориентированы на подростков в возрасте от 17 лет и более взрослую аудиторию.\n",
    "\n",
    "В Японии лидириуют игры с возрастным рейтингом 13+. Игровые студии выбирают в качестве своей основной аудитории подростков в возрасте от 13 лет, новое поколение."
   ]
  },
  {
   "cell_type": "markdown",
   "metadata": {},
   "source": [
    "**Общий вывод:** проведя анализ по регионам можно составить портрет игрока для каждого региона.\n",
    "\n",
    "Американские и Европейские геймеры - возраст от 17 лет,  играют в основном на PS4 или на XOne, предпочитают игры в жанре экшн и шутеры, реже спортивные симуляторы.\n",
    "\n",
    "Японские геймеры - возраст от 13 лет, играют на переносных консолях 3DS или PSV, любят тратить время на RPG и игры жанра экшен."
   ]
  },
  {
   "cell_type": "markdown",
   "metadata": {},
   "source": [
    "<div class=\"alert alert-warning\" style=\"border-radius: 15px; box-shadow: 4px 4px 4px; border: 1px solid \">\n",
    "<b> Комментарий ревьюера </b>\n",
    "\n",
    "Как думаешь, почему в Японии лидируют игры без рейтинга? \n",
    "\n",
    "</div>\n",
    "\n",
    "<div class=\"alert alert-success\" style=\"border-radius: 15px; box-shadow: 4px 4px 4px; border: 1px solid \">\n",
    "<h2> Комментарий ревьюера 2</h2>\n",
    "    \n",
    "Верно, скорее всего дело в этом. Наверняка это японские игры.</div>"
   ]
  },
  {
   "cell_type": "markdown",
   "metadata": {},
   "source": [
    "<div class = \"alert alert-info\" >\n",
    "<h3>Комментарий студента</h3>\n",
    "Потому что в Японии очень развита ситсема цензуры в играх, она сильно отличается от тв передач и прочего контента, так как в данной стране много разных консолей, порой больше чем префектур. \n",
    "У японцев есть свой метсный аналог ESRB, он называется CERO, но работает он абсолютно по другому алгоритму. \n",
    "Оценки играм ставят обычные граждане – окончательное решение CERO принимает опираясь на их отзывы. Прикоснуться к власти сравнительно легко: достаточно оставить заявку на сайте организации. Кандидаты должны быть старше 20 лет (возраст совершеннолетия в Японии); приветствуются родители, дети которых увлечены играми, домохозяйки, студенты.\n",
    "Такая рахная выборка оценивающих не совсем объектива в силу возраста, поэтому игры без рейтинга не попадают под запрет CERO, играя в них можно полноценно погрузиться в геймплей и сюжет, без вырезанных сцен и исправленных диалогов. \n",
    "</div>"
   ]
  },
  {
   "cell_type": "markdown",
   "metadata": {},
   "source": [
    "# 5 Шаг. Проверка гипотез."
   ]
  },
  {
   "cell_type": "markdown",
   "metadata": {},
   "source": [
    "- Средние пользовательские рейтинги платформ Xbox One и PC одинаковые; \n",
    "- Средние пользовательские рейтинги жанров Action (англ. «действие», экшен-игры) и Sports (англ. «спортивные соревнования») разные. \n",
    "- Задайте самостоятельно пороговое значение alpha.\n",
    "- Поясните: Как вы сформулировали нулевую и альтернативную гипотезы; Какой критерий применили для проверки гипотез и почему."
   ]
  },
  {
   "cell_type": "markdown",
   "metadata": {},
   "source": [
    "**Итак, рассмотрим нулевую гипотезу, она гласит - средние пользовательсие рейтинги для обеих платформ Xbox One и PC равны, тогда альтернативная гипотеза гласит что средние пользовательские рейтинги Xbox One и PC различаются.**\n",
    "\n",
    "Для проверки гипотезы в обеих случаях будем использовать тест Стюдента, так как мы работаем со средним значением генеральной совокупности, соответсвенно мы получим два варианта ответа \"Отвергаем нулевую гипотезу\" и \"Не получилось отвергнуть нулевую гипотезу\".\n",
    "\n",
    "При получении ответа \"Отвергаем нулевую гипотезу\" это будет говорить о том, что гипотеза противоречит эмпирическим данным и скорей всего наше предположение неверно. Значит данные различаются.\n",
    "\n",
    "При получении ответа \"Не получилось отвергнуть нулевую гипотезу\", это значит что предположение о равенстве среднего рейтинга верно."
   ]
  },
  {
   "cell_type": "markdown",
   "metadata": {},
   "source": [
    "Подготовим данные для платформ Xbox One и PC"
   ]
  },
  {
   "cell_type": "code",
   "execution_count": 92,
   "metadata": {},
   "outputs": [],
   "source": [
    "#уберём игры с пустым рейтингом для Xbox One\n",
    "gamer_rating_XOne = actual_data_games_sales.query('platform_for_game == \"XOne\"')['user_score'].dropna()"
   ]
  },
  {
   "cell_type": "code",
   "execution_count": 93,
   "metadata": {},
   "outputs": [],
   "source": [
    "#уберём игры с пустым рейтингом для PC\n",
    "gamer_rating_pc = actual_data_games_sales.query('platform_for_game == \"PC\"')['user_score'].dropna()"
   ]
  },
  {
   "cell_type": "code",
   "execution_count": 94,
   "metadata": {},
   "outputs": [
    {
     "name": "stdout",
     "output_type": "stream",
     "text": [
      "p-значение: 0.2349656456470662\n",
      "Не получилось отвергнуть нулевую гипотезу\n"
     ]
    }
   ],
   "source": [
    "#проверим нулевую гипотезу\n",
    "alpha = 0.05 #используем 5% для критического уровня стат. значимости\n",
    "\n",
    "results = st.ttest_ind(\n",
    "    gamer_rating_XOne, \n",
    "    gamer_rating_pc,\n",
    "    )\n",
    "\n",
    "print('p-значение:', results.pvalue)\n",
    "\n",
    "if (results.pvalue < alpha):\n",
    "    print(\"Отвергаем нулевую гипотезу\")\n",
    "else:\n",
    "    print(\"Не получилось отвергнуть нулевую гипотезу\")"
   ]
  },
  {
   "cell_type": "markdown",
   "metadata": {},
   "source": [
    "Наша нулевая гипотеза подтвердилась, действительно - средние пользовательские рейтинги на Xbox One и PC равны."
   ]
  },
  {
   "cell_type": "markdown",
   "metadata": {},
   "source": [
    "**Итак, рассмотрим нулевую гипотезу, она гласит - средние пользовательские рейтинги жанров Action и Sports равны, алтернативная гипотеза гласит что средние пользовательские рейтинги жанров Acrtion и Sports различаются.**"
   ]
  },
  {
   "cell_type": "markdown",
   "metadata": {},
   "source": [
    "Подготовим данные для жанров Action и Sports"
   ]
  },
  {
   "cell_type": "code",
   "execution_count": 95,
   "metadata": {},
   "outputs": [],
   "source": [
    "gamer_rating_Action = actual_data_games_sales.query('game_genre == \"Action\"')['user_score'].dropna()\n",
    "gamer_rating_Sports = actual_data_games_sales.query('game_genre == \"Sports\"')['user_score'].dropna()"
   ]
  },
  {
   "cell_type": "code",
   "execution_count": 96,
   "metadata": {},
   "outputs": [
    {
     "name": "stdout",
     "output_type": "stream",
     "text": [
      "p-значение: 1.3189114896568816e-21\n",
      "Отвергаем нулевую гипотезу\n"
     ]
    }
   ],
   "source": [
    "#проверим нулевую гипотезу\n",
    "alpha = 0.05 #используем 5% для критического уровня стат. значимости\n",
    "\n",
    "results = st.ttest_ind(\n",
    "    gamer_rating_Action, \n",
    "    gamer_rating_Sports,\n",
    "    )\n",
    "\n",
    "print('p-значение:', results.pvalue)\n",
    "\n",
    "if (results.pvalue < alpha):\n",
    "    print(\"Отвергаем нулевую гипотезу\")\n",
    "else:\n",
    "    print(\"Не получилось отвергнуть нулевую гипотезу\")"
   ]
  },
  {
   "cell_type": "markdown",
   "metadata": {},
   "source": [
    "тест Стьюдента показал что средние рейтинги жанров Action и Sports различаются."
   ]
  },
  {
   "cell_type": "markdown",
   "metadata": {},
   "source": [
    "Вывод: \n",
    "- Первая и вторая гипотезы подтвердились.\n",
    "\n",
    "- Платформа XOne набирает новых пользователей и стремится выпускать новые версии консолей, чтобы не уступать как своим платформенным конкурентам из Sony, так и догонять PC. На 2016 год по качеству игр они практически близки к компьютерным.\n",
    "\n",
    "- Различия между Action и Sports существуют из-за популярности первых и низкого порога входа. Игры с жанрами Sports имеют более высокйи порог входа, так вы вынуждены приобретать лицензии, хороший пример FIFA от Electronic Arts, а это дорого, долго, в виду юридических аспектов и требует постоянных улучшений, ведь это спортивный симулятор. "
   ]
  },
  {
   "cell_type": "markdown",
   "metadata": {},
   "source": [
    "# 6 Шаг. Общий вывод."
   ]
  },
  {
   "cell_type": "markdown",
   "metadata": {},
   "source": [
    "В ходе проделанной работы было выполнено:\n",
    "\n",
    "Просмотрена таблица, выявлены аномалии и пропущенные значения.\n",
    "Проведена предобработка таблицы: замена столбцов, заполнение пропусков, удаление дубликатов и т.д.\n",
    "Проведен анализ по данным и подготовлены актуальные данные.\n",
    "Составлены портреты пользователей для вссех регионов продаж.\n",
    "Выполнены проверки гипотез.\n",
    "Продажи компьютерных игр зависят от трех основных составляющих: издатель, платформа и жанр.\n",
    "\n",
    "Среди издателей на рынке есть долгожители и они же являются лидерами, так как имеют большую пользовательскую базу, значительные ресурсы и опыт разработки, а так же масштабные каналы продвижения и самое главное доверие к бренду, эффект Линди в действии.\n",
    "Портирование игр на определённую платформу определяет ТЗ для разработчиков. Здесь есть прямая зависимость: чем раскрученнее платформа, тем круче и уникальнее на ней выходят релизы. Жизненный цикл в 5-12 лет обусловлен скачками в технологиях процессора, оперативной памяти, дискового накопитиеля и видеокарты.\n",
    "Жанр - это то, что выбирают игроки. Каждый человек уникален, и не каждому игроку будет по душе одновременно стратегия и шутеры. Соответсвенно студии-разработчики и издатели боряться за целевую аудиторию своего продукта.\n",
    "\n",
    "Рекомендации для интернет магазина \"Стримчик\" на 2017 год:\n",
    "\n",
    "- Делать ставку на современные платформы. Покупать для всех рынков вышедшие и новые игры на PS4, XOne и 3DS.\n",
    "- Для Северной Америки и Европы делать упор на жанры экшн и шутеры, для рынка Японии RPG и экшен\n",
    "- Следить за своей аудиторией. В основом большинство игр рассчитано на игроков, которым 17 лет и старше, для рынка Японии большим спросом пользуются игры без рейтинга из-за особенностей местной регуляции.\n",
    "- Не забывать распространять компьютерные игры и портации игр с популярных платформ на PC. Компьютер еще долго не выйдет из конкуренции за игроков."
   ]
  },
  {
   "cell_type": "markdown",
   "metadata": {},
   "source": [
    "<div class=\"alert alert-warning\" style=\"border-radius: 15px; box-shadow: 4px 4px 4px; border: 1px solid\">\n",
    "<h2> Комментарий ревьюера</h2>\n",
    "    \n",
    "Вывод хороший. Будет здорово, если добавишь конкретику по регионам:  2-3 консоли, 2-3 жанра и рейтинги.  </div>"
   ]
  },
  {
   "cell_type": "markdown",
   "metadata": {},
   "source": [
    "<div class = \"alert alert-info\" >\n",
    "<h3>Комментарий студента</h3>\n",
    "Спасибо, поправил общий вывод. \n",
    "</div>"
   ]
  }
 ],
 "metadata": {
  "ExecuteTimeLog": [
   {
    "duration": 1232,
    "start_time": "2021-12-21T17:16:24.774Z"
   },
   {
    "duration": 44,
    "start_time": "2021-12-21T17:17:30.051Z"
   },
   {
    "duration": 20,
    "start_time": "2021-12-21T17:18:34.584Z"
   },
   {
    "duration": 13,
    "start_time": "2021-12-21T17:18:59.158Z"
   },
   {
    "duration": 18,
    "start_time": "2021-12-21T17:19:06.413Z"
   },
   {
    "duration": 92,
    "start_time": "2021-12-21T17:22:02.966Z"
   },
   {
    "duration": 16,
    "start_time": "2021-12-21T17:22:44.660Z"
   },
   {
    "duration": 29,
    "start_time": "2021-12-21T17:34:59.149Z"
   },
   {
    "duration": 358,
    "start_time": "2021-12-21T17:44:30.866Z"
   },
   {
    "duration": 30,
    "start_time": "2021-12-21T17:44:42.733Z"
   },
   {
    "duration": 80,
    "start_time": "2021-12-21T17:46:50.593Z"
   },
   {
    "duration": 31,
    "start_time": "2021-12-21T17:50:33.484Z"
   },
   {
    "duration": 8,
    "start_time": "2021-12-21T17:50:58.428Z"
   },
   {
    "duration": 8,
    "start_time": "2021-12-21T17:55:43.550Z"
   },
   {
    "duration": 84,
    "start_time": "2021-12-21T17:59:20.012Z"
   },
   {
    "duration": 98,
    "start_time": "2021-12-21T18:02:08.371Z"
   },
   {
    "duration": 7,
    "start_time": "2021-12-21T18:12:12.986Z"
   },
   {
    "duration": 90,
    "start_time": "2021-12-21T18:17:58.928Z"
   },
   {
    "duration": 7,
    "start_time": "2021-12-21T18:34:46.199Z"
   },
   {
    "duration": 87,
    "start_time": "2021-12-21T18:36:46.083Z"
   },
   {
    "duration": 76,
    "start_time": "2021-12-21T18:43:44.192Z"
   },
   {
    "duration": 291,
    "start_time": "2021-12-21T18:55:42.222Z"
   },
   {
    "duration": 12,
    "start_time": "2021-12-21T18:55:49.116Z"
   },
   {
    "duration": 11,
    "start_time": "2021-12-21T18:55:57.349Z"
   },
   {
    "duration": 77,
    "start_time": "2021-12-21T18:56:26.619Z"
   },
   {
    "duration": 12,
    "start_time": "2021-12-21T18:58:26.355Z"
   },
   {
    "duration": 81,
    "start_time": "2021-12-21T18:59:18.970Z"
   },
   {
    "duration": 77,
    "start_time": "2021-12-21T19:01:50.114Z"
   },
   {
    "duration": 1061,
    "start_time": "2021-12-21T19:03:32.084Z"
   },
   {
    "duration": 35,
    "start_time": "2021-12-21T19:03:33.147Z"
   },
   {
    "duration": 17,
    "start_time": "2021-12-21T19:03:33.186Z"
   },
   {
    "duration": 14,
    "start_time": "2021-12-21T19:03:33.205Z"
   },
   {
    "duration": 14,
    "start_time": "2021-12-21T19:03:33.221Z"
   },
   {
    "duration": 44,
    "start_time": "2021-12-21T19:03:33.237Z"
   },
   {
    "duration": 7,
    "start_time": "2021-12-21T19:03:33.283Z"
   },
   {
    "duration": 13,
    "start_time": "2021-12-21T19:03:33.293Z"
   },
   {
    "duration": 10,
    "start_time": "2021-12-21T19:03:33.308Z"
   },
   {
    "duration": 41,
    "start_time": "2021-12-21T19:03:33.320Z"
   },
   {
    "duration": 19,
    "start_time": "2021-12-21T19:03:33.363Z"
   },
   {
    "duration": 1259,
    "start_time": "2021-12-21T19:13:15.387Z"
   },
   {
    "duration": 3,
    "start_time": "2021-12-21T19:16:15.939Z"
   },
   {
    "duration": 4,
    "start_time": "2021-12-21T19:16:37.452Z"
   },
   {
    "duration": 7,
    "start_time": "2021-12-21T19:22:31.712Z"
   },
   {
    "duration": 18,
    "start_time": "2021-12-21T19:22:56.983Z"
   },
   {
    "duration": 279,
    "start_time": "2021-12-21T19:28:06.778Z"
   },
   {
    "duration": 261,
    "start_time": "2021-12-21T19:28:21.134Z"
   },
   {
    "duration": 275,
    "start_time": "2021-12-21T19:43:24.729Z"
   },
   {
    "duration": 11,
    "start_time": "2021-12-21T19:43:34.073Z"
   },
   {
    "duration": 8,
    "start_time": "2021-12-21T19:48:39.714Z"
   },
   {
    "duration": 3,
    "start_time": "2021-12-21T19:49:58.628Z"
   },
   {
    "duration": 1351,
    "start_time": "2021-12-21T19:50:09.454Z"
   },
   {
    "duration": 44,
    "start_time": "2021-12-21T19:50:10.811Z"
   },
   {
    "duration": 20,
    "start_time": "2021-12-21T19:50:10.858Z"
   },
   {
    "duration": 19,
    "start_time": "2021-12-21T19:50:10.881Z"
   },
   {
    "duration": 14,
    "start_time": "2021-12-21T19:50:10.902Z"
   },
   {
    "duration": 57,
    "start_time": "2021-12-21T19:50:10.917Z"
   },
   {
    "duration": 7,
    "start_time": "2021-12-21T19:50:10.977Z"
   },
   {
    "duration": 8,
    "start_time": "2021-12-21T19:50:10.987Z"
   },
   {
    "duration": 16,
    "start_time": "2021-12-21T19:50:10.997Z"
   },
   {
    "duration": 23,
    "start_time": "2021-12-21T19:50:11.014Z"
   },
   {
    "duration": 33,
    "start_time": "2021-12-21T19:50:11.039Z"
   },
   {
    "duration": 3,
    "start_time": "2021-12-21T19:50:11.074Z"
   },
   {
    "duration": 12,
    "start_time": "2021-12-21T19:50:11.079Z"
   },
   {
    "duration": 7,
    "start_time": "2021-12-21T19:50:11.093Z"
   },
   {
    "duration": 13,
    "start_time": "2021-12-21T19:50:11.101Z"
   },
   {
    "duration": 14,
    "start_time": "2021-12-21T19:50:11.115Z"
   },
   {
    "duration": 5,
    "start_time": "2021-12-21T19:50:11.131Z"
   },
   {
    "duration": 342,
    "start_time": "2021-12-21T19:51:04.856Z"
   },
   {
    "duration": 4,
    "start_time": "2021-12-21T19:52:27.185Z"
   },
   {
    "duration": 4,
    "start_time": "2021-12-21T19:52:31.967Z"
   },
   {
    "duration": 82,
    "start_time": "2021-12-21T19:53:30.057Z"
   },
   {
    "duration": 4,
    "start_time": "2021-12-21T19:54:24.333Z"
   },
   {
    "duration": 6,
    "start_time": "2021-12-21T19:56:50.184Z"
   },
   {
    "duration": 7,
    "start_time": "2021-12-21T19:57:21.094Z"
   },
   {
    "duration": 986,
    "start_time": "2021-12-21T20:00:23.326Z"
   },
   {
    "duration": 998,
    "start_time": "2021-12-21T20:07:07.452Z"
   },
   {
    "duration": 8,
    "start_time": "2021-12-21T20:07:24.182Z"
   },
   {
    "duration": 7,
    "start_time": "2021-12-21T20:08:11.153Z"
   },
   {
    "duration": 16,
    "start_time": "2021-12-21T20:22:20.886Z"
   },
   {
    "duration": 10,
    "start_time": "2021-12-21T20:28:53.669Z"
   },
   {
    "duration": 6912,
    "start_time": "2021-12-21T20:31:24.891Z"
   },
   {
    "duration": 5,
    "start_time": "2021-12-21T20:31:51.170Z"
   },
   {
    "duration": 6,
    "start_time": "2021-12-21T20:32:23.889Z"
   },
   {
    "duration": 6,
    "start_time": "2021-12-21T20:39:06.525Z"
   },
   {
    "duration": 79,
    "start_time": "2021-12-21T20:40:46.648Z"
   },
   {
    "duration": 5,
    "start_time": "2021-12-21T20:42:05.068Z"
   },
   {
    "duration": 84,
    "start_time": "2021-12-21T20:44:24.405Z"
   },
   {
    "duration": 5,
    "start_time": "2021-12-21T20:46:07.568Z"
   },
   {
    "duration": 6,
    "start_time": "2021-12-21T20:46:37.064Z"
   },
   {
    "duration": 449,
    "start_time": "2021-12-21T20:52:22.269Z"
   },
   {
    "duration": 87,
    "start_time": "2021-12-21T20:56:30.417Z"
   },
   {
    "duration": 1094,
    "start_time": "2021-12-21T20:58:06.383Z"
   },
   {
    "duration": 38,
    "start_time": "2021-12-21T20:58:07.479Z"
   },
   {
    "duration": 17,
    "start_time": "2021-12-21T20:58:07.521Z"
   },
   {
    "duration": 22,
    "start_time": "2021-12-21T20:58:07.539Z"
   },
   {
    "duration": 16,
    "start_time": "2021-12-21T20:58:07.563Z"
   },
   {
    "duration": 27,
    "start_time": "2021-12-21T20:58:07.581Z"
   },
   {
    "duration": 7,
    "start_time": "2021-12-21T20:58:07.610Z"
   },
   {
    "duration": 8,
    "start_time": "2021-12-21T20:58:07.618Z"
   },
   {
    "duration": 34,
    "start_time": "2021-12-21T20:58:07.627Z"
   },
   {
    "duration": 17,
    "start_time": "2021-12-21T20:58:07.663Z"
   },
   {
    "duration": 16,
    "start_time": "2021-12-21T20:58:07.682Z"
   },
   {
    "duration": 2,
    "start_time": "2021-12-21T20:58:07.700Z"
   },
   {
    "duration": 6,
    "start_time": "2021-12-21T20:58:07.704Z"
   },
   {
    "duration": 7,
    "start_time": "2021-12-21T20:58:07.712Z"
   },
   {
    "duration": 41,
    "start_time": "2021-12-21T20:58:07.721Z"
   },
   {
    "duration": 10,
    "start_time": "2021-12-21T20:58:07.764Z"
   },
   {
    "duration": 8,
    "start_time": "2021-12-21T20:58:07.776Z"
   },
   {
    "duration": 8,
    "start_time": "2021-12-21T20:58:07.786Z"
   },
   {
    "duration": 12,
    "start_time": "2021-12-21T20:58:07.795Z"
   },
   {
    "duration": 9,
    "start_time": "2021-12-21T20:58:07.808Z"
   },
   {
    "duration": 15,
    "start_time": "2021-12-21T20:58:07.819Z"
   },
   {
    "duration": 25,
    "start_time": "2021-12-21T20:58:07.836Z"
   },
   {
    "duration": 4,
    "start_time": "2021-12-21T20:58:07.863Z"
   },
   {
    "duration": 8,
    "start_time": "2021-12-21T20:58:07.869Z"
   },
   {
    "duration": 7,
    "start_time": "2021-12-21T20:58:07.878Z"
   },
   {
    "duration": 7,
    "start_time": "2021-12-21T20:58:07.886Z"
   },
   {
    "duration": 5,
    "start_time": "2021-12-21T20:58:07.894Z"
   },
   {
    "duration": 6,
    "start_time": "2021-12-21T20:58:07.901Z"
   },
   {
    "duration": 501,
    "start_time": "2021-12-21T20:58:07.909Z"
   },
   {
    "duration": 82,
    "start_time": "2021-12-21T20:59:09.952Z"
   },
   {
    "duration": 217,
    "start_time": "2021-12-22T07:41:53.226Z"
   },
   {
    "duration": 1039,
    "start_time": "2021-12-22T07:42:40.305Z"
   },
   {
    "duration": 38,
    "start_time": "2021-12-22T07:42:41.346Z"
   },
   {
    "duration": 17,
    "start_time": "2021-12-22T07:42:41.386Z"
   },
   {
    "duration": 13,
    "start_time": "2021-12-22T07:42:41.405Z"
   },
   {
    "duration": 10,
    "start_time": "2021-12-22T07:42:41.420Z"
   },
   {
    "duration": 29,
    "start_time": "2021-12-22T07:42:41.431Z"
   },
   {
    "duration": 33,
    "start_time": "2021-12-22T07:42:41.462Z"
   },
   {
    "duration": 5,
    "start_time": "2021-12-22T07:42:41.497Z"
   },
   {
    "duration": 7,
    "start_time": "2021-12-22T07:42:41.504Z"
   },
   {
    "duration": 17,
    "start_time": "2021-12-22T07:42:41.513Z"
   },
   {
    "duration": 16,
    "start_time": "2021-12-22T07:42:41.532Z"
   },
   {
    "duration": 5,
    "start_time": "2021-12-22T07:42:41.550Z"
   },
   {
    "duration": 37,
    "start_time": "2021-12-22T07:42:41.556Z"
   },
   {
    "duration": 6,
    "start_time": "2021-12-22T07:42:41.594Z"
   },
   {
    "duration": 12,
    "start_time": "2021-12-22T07:42:41.602Z"
   },
   {
    "duration": 11,
    "start_time": "2021-12-22T07:42:41.616Z"
   },
   {
    "duration": 3,
    "start_time": "2021-12-22T07:42:41.629Z"
   },
   {
    "duration": 7,
    "start_time": "2021-12-22T07:42:41.634Z"
   },
   {
    "duration": 5,
    "start_time": "2021-12-22T07:42:41.643Z"
   },
   {
    "duration": 42,
    "start_time": "2021-12-22T07:42:41.650Z"
   },
   {
    "duration": 13,
    "start_time": "2021-12-22T07:42:41.694Z"
   },
   {
    "duration": 8,
    "start_time": "2021-12-22T07:42:41.708Z"
   },
   {
    "duration": 6,
    "start_time": "2021-12-22T07:42:41.719Z"
   },
   {
    "duration": 5,
    "start_time": "2021-12-22T07:42:41.727Z"
   },
   {
    "duration": 6,
    "start_time": "2021-12-22T07:42:41.733Z"
   },
   {
    "duration": 4,
    "start_time": "2021-12-22T07:42:41.740Z"
   },
   {
    "duration": 5,
    "start_time": "2021-12-22T07:42:41.746Z"
   },
   {
    "duration": 41,
    "start_time": "2021-12-22T07:42:41.752Z"
   },
   {
    "duration": 470,
    "start_time": "2021-12-22T07:42:41.795Z"
   },
   {
    "duration": 26,
    "start_time": "2021-12-22T07:42:42.266Z"
   },
   {
    "duration": 306,
    "start_time": "2021-12-22T07:49:50.783Z"
   },
   {
    "duration": 307,
    "start_time": "2021-12-22T07:50:27.823Z"
   },
   {
    "duration": 292,
    "start_time": "2021-12-22T07:50:58.685Z"
   },
   {
    "duration": 240,
    "start_time": "2021-12-22T07:51:20.041Z"
   },
   {
    "duration": 346,
    "start_time": "2021-12-22T08:28:09.351Z"
   },
   {
    "duration": 15,
    "start_time": "2021-12-22T08:28:27.243Z"
   },
   {
    "duration": 4,
    "start_time": "2021-12-22T08:34:55.473Z"
   },
   {
    "duration": 186,
    "start_time": "2021-12-22T08:36:31.373Z"
   },
   {
    "duration": 5,
    "start_time": "2021-12-22T08:36:49.804Z"
   },
   {
    "duration": 268,
    "start_time": "2021-12-22T08:40:52.201Z"
   },
   {
    "duration": 180,
    "start_time": "2021-12-22T08:41:19.739Z"
   },
   {
    "duration": 510,
    "start_time": "2021-12-22T08:42:30.802Z"
   },
   {
    "duration": 194,
    "start_time": "2021-12-22T08:44:11.756Z"
   },
   {
    "duration": 56,
    "start_time": "2021-12-22T08:44:43.546Z"
   },
   {
    "duration": 184,
    "start_time": "2021-12-22T08:47:19.229Z"
   },
   {
    "duration": 6,
    "start_time": "2021-12-22T08:47:24.946Z"
   },
   {
    "duration": 15,
    "start_time": "2021-12-22T08:51:46.243Z"
   },
   {
    "duration": 6,
    "start_time": "2021-12-22T08:51:53.169Z"
   },
   {
    "duration": 10,
    "start_time": "2021-12-22T09:08:46.446Z"
   },
   {
    "duration": 22,
    "start_time": "2021-12-22T09:09:34.817Z"
   },
   {
    "duration": 14,
    "start_time": "2021-12-22T09:09:57.583Z"
   },
   {
    "duration": 190,
    "start_time": "2021-12-22T09:12:04.072Z"
   },
   {
    "duration": 11,
    "start_time": "2021-12-22T09:13:20.465Z"
   },
   {
    "duration": 4,
    "start_time": "2021-12-22T09:13:33.551Z"
   },
   {
    "duration": 13,
    "start_time": "2021-12-22T09:13:46.483Z"
   },
   {
    "duration": 1022,
    "start_time": "2021-12-22T09:15:04.957Z"
   },
   {
    "duration": 49,
    "start_time": "2021-12-22T09:15:05.981Z"
   },
   {
    "duration": 17,
    "start_time": "2021-12-22T09:15:06.032Z"
   },
   {
    "duration": 26,
    "start_time": "2021-12-22T09:15:06.051Z"
   },
   {
    "duration": 13,
    "start_time": "2021-12-22T09:15:06.079Z"
   },
   {
    "duration": 43,
    "start_time": "2021-12-22T09:15:06.093Z"
   },
   {
    "duration": 8,
    "start_time": "2021-12-22T09:15:06.138Z"
   },
   {
    "duration": 21,
    "start_time": "2021-12-22T09:15:06.148Z"
   },
   {
    "duration": 8,
    "start_time": "2021-12-22T09:15:06.172Z"
   },
   {
    "duration": 33,
    "start_time": "2021-12-22T09:15:06.183Z"
   },
   {
    "duration": 19,
    "start_time": "2021-12-22T09:15:06.218Z"
   },
   {
    "duration": 5,
    "start_time": "2021-12-22T09:15:06.239Z"
   },
   {
    "duration": 6,
    "start_time": "2021-12-22T09:15:06.246Z"
   },
   {
    "duration": 10,
    "start_time": "2021-12-22T09:15:06.254Z"
   },
   {
    "duration": 47,
    "start_time": "2021-12-22T09:15:06.266Z"
   },
   {
    "duration": 11,
    "start_time": "2021-12-22T09:15:06.315Z"
   },
   {
    "duration": 4,
    "start_time": "2021-12-22T09:15:06.328Z"
   },
   {
    "duration": 6,
    "start_time": "2021-12-22T09:15:06.334Z"
   },
   {
    "duration": 9,
    "start_time": "2021-12-22T09:15:06.341Z"
   },
   {
    "duration": 8,
    "start_time": "2021-12-22T09:15:06.352Z"
   },
   {
    "duration": 42,
    "start_time": "2021-12-22T09:15:06.362Z"
   },
   {
    "duration": 9,
    "start_time": "2021-12-22T09:15:06.406Z"
   },
   {
    "duration": 4,
    "start_time": "2021-12-22T09:15:06.419Z"
   },
   {
    "duration": 6,
    "start_time": "2021-12-22T09:15:06.425Z"
   },
   {
    "duration": 6,
    "start_time": "2021-12-22T09:15:06.433Z"
   },
   {
    "duration": 5,
    "start_time": "2021-12-22T09:15:06.441Z"
   },
   {
    "duration": 6,
    "start_time": "2021-12-22T09:15:06.447Z"
   },
   {
    "duration": 39,
    "start_time": "2021-12-22T09:15:06.454Z"
   },
   {
    "duration": 554,
    "start_time": "2021-12-22T09:15:06.495Z"
   },
   {
    "duration": 15,
    "start_time": "2021-12-22T09:15:07.050Z"
   },
   {
    "duration": 279,
    "start_time": "2021-12-22T09:15:07.067Z"
   },
   {
    "duration": 16,
    "start_time": "2021-12-22T09:15:07.348Z"
   },
   {
    "duration": 4,
    "start_time": "2021-12-22T09:15:07.365Z"
   },
   {
    "duration": 28,
    "start_time": "2021-12-22T09:15:07.371Z"
   },
   {
    "duration": 59,
    "start_time": "2021-12-22T09:15:07.402Z"
   },
   {
    "duration": 13,
    "start_time": "2021-12-22T09:15:07.463Z"
   },
   {
    "duration": 7,
    "start_time": "2021-12-22T09:15:07.492Z"
   },
   {
    "duration": 10,
    "start_time": "2021-12-22T09:15:07.503Z"
   },
   {
    "duration": 31,
    "start_time": "2021-12-22T09:15:07.515Z"
   },
   {
    "duration": 50,
    "start_time": "2021-12-22T09:15:07.549Z"
   },
   {
    "duration": 24,
    "start_time": "2021-12-22T09:15:07.601Z"
   },
   {
    "duration": 14,
    "start_time": "2021-12-22T09:15:07.627Z"
   },
   {
    "duration": 20,
    "start_time": "2021-12-22T09:17:02.418Z"
   },
   {
    "duration": 13,
    "start_time": "2021-12-22T09:17:29.404Z"
   },
   {
    "duration": 13,
    "start_time": "2021-12-22T09:20:55.686Z"
   },
   {
    "duration": 14,
    "start_time": "2021-12-22T09:26:11.181Z"
   },
   {
    "duration": 258,
    "start_time": "2021-12-22T09:28:46.275Z"
   },
   {
    "duration": 178,
    "start_time": "2021-12-22T09:29:08.314Z"
   },
   {
    "duration": 9,
    "start_time": "2021-12-22T09:29:44.272Z"
   },
   {
    "duration": 8,
    "start_time": "2021-12-22T09:30:30.105Z"
   },
   {
    "duration": 177,
    "start_time": "2021-12-22T09:30:48.688Z"
   },
   {
    "duration": 194,
    "start_time": "2021-12-22T09:31:01.377Z"
   },
   {
    "duration": 1047,
    "start_time": "2021-12-22T09:31:14.308Z"
   },
   {
    "duration": 38,
    "start_time": "2021-12-22T09:31:15.357Z"
   },
   {
    "duration": 17,
    "start_time": "2021-12-22T09:31:15.397Z"
   },
   {
    "duration": 16,
    "start_time": "2021-12-22T09:31:15.416Z"
   },
   {
    "duration": 11,
    "start_time": "2021-12-22T09:31:15.434Z"
   },
   {
    "duration": 55,
    "start_time": "2021-12-22T09:31:15.447Z"
   },
   {
    "duration": 8,
    "start_time": "2021-12-22T09:31:15.504Z"
   },
   {
    "duration": 6,
    "start_time": "2021-12-22T09:31:15.514Z"
   },
   {
    "duration": 7,
    "start_time": "2021-12-22T09:31:15.522Z"
   },
   {
    "duration": 17,
    "start_time": "2021-12-22T09:31:15.531Z"
   },
   {
    "duration": 48,
    "start_time": "2021-12-22T09:31:15.550Z"
   },
   {
    "duration": 3,
    "start_time": "2021-12-22T09:31:15.600Z"
   },
   {
    "duration": 9,
    "start_time": "2021-12-22T09:31:15.604Z"
   },
   {
    "duration": 6,
    "start_time": "2021-12-22T09:31:15.615Z"
   },
   {
    "duration": 12,
    "start_time": "2021-12-22T09:31:15.623Z"
   },
   {
    "duration": 11,
    "start_time": "2021-12-22T09:31:15.637Z"
   },
   {
    "duration": 3,
    "start_time": "2021-12-22T09:31:15.650Z"
   },
   {
    "duration": 37,
    "start_time": "2021-12-22T09:31:15.655Z"
   },
   {
    "duration": 5,
    "start_time": "2021-12-22T09:31:15.694Z"
   },
   {
    "duration": 8,
    "start_time": "2021-12-22T09:31:15.700Z"
   },
   {
    "duration": 12,
    "start_time": "2021-12-22T09:31:15.710Z"
   },
   {
    "duration": 8,
    "start_time": "2021-12-22T09:31:15.724Z"
   },
   {
    "duration": 5,
    "start_time": "2021-12-22T09:31:15.735Z"
   },
   {
    "duration": 7,
    "start_time": "2021-12-22T09:31:15.742Z"
   },
   {
    "duration": 41,
    "start_time": "2021-12-22T09:31:15.751Z"
   },
   {
    "duration": 5,
    "start_time": "2021-12-22T09:31:15.794Z"
   },
   {
    "duration": 6,
    "start_time": "2021-12-22T09:31:15.801Z"
   },
   {
    "duration": 13,
    "start_time": "2021-12-22T09:31:15.808Z"
   },
   {
    "duration": 456,
    "start_time": "2021-12-22T09:31:15.823Z"
   },
   {
    "duration": 25,
    "start_time": "2021-12-22T09:31:16.280Z"
   },
   {
    "duration": 254,
    "start_time": "2021-12-22T09:31:16.307Z"
   },
   {
    "duration": 16,
    "start_time": "2021-12-22T09:31:16.562Z"
   },
   {
    "duration": 14,
    "start_time": "2021-12-22T09:31:16.579Z"
   },
   {
    "duration": 6,
    "start_time": "2021-12-22T09:31:16.595Z"
   },
   {
    "duration": 55,
    "start_time": "2021-12-22T09:31:16.602Z"
   },
   {
    "duration": 34,
    "start_time": "2021-12-22T09:31:16.658Z"
   },
   {
    "duration": 9,
    "start_time": "2021-12-22T09:31:16.694Z"
   },
   {
    "duration": 12,
    "start_time": "2021-12-22T09:31:16.704Z"
   },
   {
    "duration": 15,
    "start_time": "2021-12-22T09:31:16.718Z"
   },
   {
    "duration": 14,
    "start_time": "2021-12-22T09:31:16.735Z"
   },
   {
    "duration": 11,
    "start_time": "2021-12-22T09:31:16.751Z"
   },
   {
    "duration": 38,
    "start_time": "2021-12-22T09:31:16.764Z"
   },
   {
    "duration": 9,
    "start_time": "2021-12-22T09:31:16.804Z"
   },
   {
    "duration": 12,
    "start_time": "2021-12-22T09:31:16.815Z"
   },
   {
    "duration": 365,
    "start_time": "2021-12-22T09:31:41.135Z"
   },
   {
    "duration": 1003,
    "start_time": "2021-12-22T09:31:49.999Z"
   },
   {
    "duration": 38,
    "start_time": "2021-12-22T09:31:51.004Z"
   },
   {
    "duration": 17,
    "start_time": "2021-12-22T09:31:51.044Z"
   },
   {
    "duration": 17,
    "start_time": "2021-12-22T09:31:51.062Z"
   },
   {
    "duration": 11,
    "start_time": "2021-12-22T09:31:51.091Z"
   },
   {
    "duration": 29,
    "start_time": "2021-12-22T09:31:51.104Z"
   },
   {
    "duration": 7,
    "start_time": "2021-12-22T09:31:51.135Z"
   },
   {
    "duration": 5,
    "start_time": "2021-12-22T09:31:51.144Z"
   },
   {
    "duration": 7,
    "start_time": "2021-12-22T09:31:51.151Z"
   },
   {
    "duration": 16,
    "start_time": "2021-12-22T09:31:51.192Z"
   },
   {
    "duration": 18,
    "start_time": "2021-12-22T09:31:51.210Z"
   },
   {
    "duration": 3,
    "start_time": "2021-12-22T09:31:51.230Z"
   },
   {
    "duration": 6,
    "start_time": "2021-12-22T09:31:51.235Z"
   },
   {
    "duration": 7,
    "start_time": "2021-12-22T09:31:51.243Z"
   },
   {
    "duration": 47,
    "start_time": "2021-12-22T09:31:51.252Z"
   },
   {
    "duration": 11,
    "start_time": "2021-12-22T09:31:51.301Z"
   },
   {
    "duration": 4,
    "start_time": "2021-12-22T09:31:51.314Z"
   },
   {
    "duration": 5,
    "start_time": "2021-12-22T09:31:51.320Z"
   },
   {
    "duration": 6,
    "start_time": "2021-12-22T09:31:51.326Z"
   },
   {
    "duration": 7,
    "start_time": "2021-12-22T09:31:51.334Z"
   },
   {
    "duration": 53,
    "start_time": "2021-12-22T09:31:51.343Z"
   },
   {
    "duration": 8,
    "start_time": "2021-12-22T09:31:51.398Z"
   },
   {
    "duration": 5,
    "start_time": "2021-12-22T09:31:51.410Z"
   },
   {
    "duration": 5,
    "start_time": "2021-12-22T09:31:51.417Z"
   },
   {
    "duration": 6,
    "start_time": "2021-12-22T09:31:51.424Z"
   },
   {
    "duration": 4,
    "start_time": "2021-12-22T09:31:51.432Z"
   },
   {
    "duration": 6,
    "start_time": "2021-12-22T09:31:51.438Z"
   },
   {
    "duration": 48,
    "start_time": "2021-12-22T09:31:51.445Z"
   },
   {
    "duration": 462,
    "start_time": "2021-12-22T09:31:51.495Z"
   },
   {
    "duration": 15,
    "start_time": "2021-12-22T09:31:51.959Z"
   },
   {
    "duration": 252,
    "start_time": "2021-12-22T09:31:51.977Z"
   },
   {
    "duration": 16,
    "start_time": "2021-12-22T09:31:52.231Z"
   },
   {
    "duration": 3,
    "start_time": "2021-12-22T09:31:52.249Z"
   },
   {
    "duration": 8,
    "start_time": "2021-12-22T09:31:52.254Z"
   },
   {
    "duration": 79,
    "start_time": "2021-12-22T09:31:52.264Z"
   },
   {
    "duration": 15,
    "start_time": "2021-12-22T09:31:52.344Z"
   },
   {
    "duration": 5,
    "start_time": "2021-12-22T09:31:52.360Z"
   },
   {
    "duration": 31,
    "start_time": "2021-12-22T09:31:52.366Z"
   },
   {
    "duration": 14,
    "start_time": "2021-12-22T09:31:52.399Z"
   },
   {
    "duration": 15,
    "start_time": "2021-12-22T09:31:52.415Z"
   },
   {
    "duration": 10,
    "start_time": "2021-12-22T09:31:52.432Z"
   },
   {
    "duration": 15,
    "start_time": "2021-12-22T09:31:52.444Z"
   },
   {
    "duration": 37,
    "start_time": "2021-12-22T09:31:52.461Z"
   },
   {
    "duration": 9,
    "start_time": "2021-12-22T09:31:52.500Z"
   },
   {
    "duration": 8,
    "start_time": "2021-12-22T09:35:12.491Z"
   },
   {
    "duration": 46,
    "start_time": "2021-12-22T09:39:29.782Z"
   },
   {
    "duration": 58,
    "start_time": "2021-12-22T09:39:57.608Z"
   },
   {
    "duration": 60,
    "start_time": "2021-12-22T09:40:40.436Z"
   },
   {
    "duration": 5,
    "start_time": "2021-12-22T09:40:44.691Z"
   },
   {
    "duration": 188,
    "start_time": "2021-12-22T09:45:44.160Z"
   },
   {
    "duration": 193,
    "start_time": "2021-12-22T09:45:52.939Z"
   },
   {
    "duration": 138,
    "start_time": "2021-12-22T10:03:16.969Z"
   },
   {
    "duration": 6457,
    "start_time": "2021-12-22T10:04:01.336Z"
   },
   {
    "duration": 9,
    "start_time": "2021-12-22T10:04:16.146Z"
   },
   {
    "duration": 148,
    "start_time": "2021-12-22T10:06:17.271Z"
   },
   {
    "duration": 8,
    "start_time": "2021-12-22T10:06:22.569Z"
   },
   {
    "duration": 151,
    "start_time": "2021-12-22T10:06:53.962Z"
   },
   {
    "duration": 131,
    "start_time": "2021-12-22T10:12:10.666Z"
   },
   {
    "duration": 134,
    "start_time": "2021-12-22T10:12:26.160Z"
   },
   {
    "duration": 8,
    "start_time": "2021-12-22T10:13:18.362Z"
   },
   {
    "duration": 149,
    "start_time": "2021-12-22T10:15:41.983Z"
   },
   {
    "duration": 9,
    "start_time": "2021-12-22T10:15:48.109Z"
   },
   {
    "duration": 139,
    "start_time": "2021-12-22T10:16:18.121Z"
   },
   {
    "duration": 153,
    "start_time": "2021-12-22T10:18:51.451Z"
   },
   {
    "duration": 8,
    "start_time": "2021-12-22T10:18:57.873Z"
   },
   {
    "duration": 206,
    "start_time": "2021-12-22T10:20:05.968Z"
   },
   {
    "duration": 145,
    "start_time": "2021-12-22T10:20:22.881Z"
   },
   {
    "duration": 8,
    "start_time": "2021-12-22T10:20:28.767Z"
   },
   {
    "duration": 399,
    "start_time": "2021-12-22T12:10:37.016Z"
   },
   {
    "duration": 1505,
    "start_time": "2021-12-22T12:10:53.230Z"
   },
   {
    "duration": 50,
    "start_time": "2021-12-22T12:10:54.737Z"
   },
   {
    "duration": 26,
    "start_time": "2021-12-22T12:10:54.789Z"
   },
   {
    "duration": 22,
    "start_time": "2021-12-22T12:10:54.818Z"
   },
   {
    "duration": 17,
    "start_time": "2021-12-22T12:10:54.866Z"
   },
   {
    "duration": 46,
    "start_time": "2021-12-22T12:10:54.886Z"
   },
   {
    "duration": 42,
    "start_time": "2021-12-22T12:10:54.935Z"
   },
   {
    "duration": 7,
    "start_time": "2021-12-22T12:10:54.983Z"
   },
   {
    "duration": 12,
    "start_time": "2021-12-22T12:10:54.994Z"
   },
   {
    "duration": 71,
    "start_time": "2021-12-22T12:10:55.009Z"
   },
   {
    "duration": 27,
    "start_time": "2021-12-22T12:10:55.083Z"
   },
   {
    "duration": 4,
    "start_time": "2021-12-22T12:10:55.112Z"
   },
   {
    "duration": 12,
    "start_time": "2021-12-22T12:10:55.119Z"
   },
   {
    "duration": 36,
    "start_time": "2021-12-22T12:10:55.134Z"
   },
   {
    "duration": 21,
    "start_time": "2021-12-22T12:10:55.172Z"
   },
   {
    "duration": 16,
    "start_time": "2021-12-22T12:10:55.196Z"
   },
   {
    "duration": 4,
    "start_time": "2021-12-22T12:10:55.215Z"
   },
   {
    "duration": 47,
    "start_time": "2021-12-22T12:10:55.221Z"
   },
   {
    "duration": 15,
    "start_time": "2021-12-22T12:10:55.271Z"
   },
   {
    "duration": 11,
    "start_time": "2021-12-22T12:10:55.289Z"
   },
   {
    "duration": 17,
    "start_time": "2021-12-22T12:10:55.303Z"
   },
   {
    "duration": 47,
    "start_time": "2021-12-22T12:10:55.323Z"
   },
   {
    "duration": 6,
    "start_time": "2021-12-22T12:10:55.378Z"
   },
   {
    "duration": 9,
    "start_time": "2021-12-22T12:10:55.388Z"
   },
   {
    "duration": 9,
    "start_time": "2021-12-22T12:10:55.400Z"
   },
   {
    "duration": 55,
    "start_time": "2021-12-22T12:10:55.412Z"
   },
   {
    "duration": 8,
    "start_time": "2021-12-22T12:10:55.470Z"
   },
   {
    "duration": 10,
    "start_time": "2021-12-22T12:10:55.480Z"
   },
   {
    "duration": 862,
    "start_time": "2021-12-22T12:10:55.492Z"
   },
   {
    "duration": 32,
    "start_time": "2021-12-22T12:10:56.356Z"
   },
   {
    "duration": 412,
    "start_time": "2021-12-22T12:10:56.391Z"
   },
   {
    "duration": 23,
    "start_time": "2021-12-22T12:10:56.806Z"
   },
   {
    "duration": 6,
    "start_time": "2021-12-22T12:10:56.831Z"
   },
   {
    "duration": 29,
    "start_time": "2021-12-22T12:10:56.840Z"
   },
   {
    "duration": 113,
    "start_time": "2021-12-22T12:10:56.872Z"
   },
   {
    "duration": 21,
    "start_time": "2021-12-22T12:10:56.987Z"
   },
   {
    "duration": 14,
    "start_time": "2021-12-22T12:10:57.011Z"
   },
   {
    "duration": 40,
    "start_time": "2021-12-22T12:10:57.027Z"
   },
   {
    "duration": 23,
    "start_time": "2021-12-22T12:10:57.069Z"
   },
   {
    "duration": 20,
    "start_time": "2021-12-22T12:10:57.095Z"
   },
   {
    "duration": 54,
    "start_time": "2021-12-22T12:10:57.117Z"
   },
   {
    "duration": 22,
    "start_time": "2021-12-22T12:10:57.173Z"
   },
   {
    "duration": 13,
    "start_time": "2021-12-22T12:10:57.197Z"
   },
   {
    "duration": 15,
    "start_time": "2021-12-22T12:10:57.213Z"
   },
   {
    "duration": 261,
    "start_time": "2021-12-22T12:10:57.231Z"
   },
   {
    "duration": 10,
    "start_time": "2021-12-22T12:10:57.495Z"
   },
   {
    "duration": 264,
    "start_time": "2021-12-22T12:10:57.508Z"
   },
   {
    "duration": 11,
    "start_time": "2021-12-22T12:10:57.775Z"
   },
   {
    "duration": 252,
    "start_time": "2021-12-22T12:10:57.788Z"
   },
   {
    "duration": 11,
    "start_time": "2021-12-22T12:10:58.042Z"
   },
   {
    "duration": 282,
    "start_time": "2021-12-22T12:10:58.055Z"
   },
   {
    "duration": 27,
    "start_time": "2021-12-22T12:10:58.340Z"
   },
   {
    "duration": 276,
    "start_time": "2021-12-22T12:10:58.370Z"
   },
   {
    "duration": 22,
    "start_time": "2021-12-22T12:10:58.648Z"
   },
   {
    "duration": 277,
    "start_time": "2021-12-22T12:10:58.673Z"
   },
   {
    "duration": 24,
    "start_time": "2021-12-22T12:10:58.952Z"
   },
   {
    "duration": 21,
    "start_time": "2021-12-22T12:10:58.978Z"
   },
   {
    "duration": 11,
    "start_time": "2021-12-22T12:15:40.973Z"
   },
   {
    "duration": 1346,
    "start_time": "2021-12-22T12:16:20.499Z"
   },
   {
    "duration": 52,
    "start_time": "2021-12-22T12:16:21.848Z"
   },
   {
    "duration": 26,
    "start_time": "2021-12-22T12:16:21.903Z"
   },
   {
    "duration": 40,
    "start_time": "2021-12-22T12:16:21.932Z"
   },
   {
    "duration": 19,
    "start_time": "2021-12-22T12:16:21.974Z"
   },
   {
    "duration": 45,
    "start_time": "2021-12-22T12:16:21.995Z"
   },
   {
    "duration": 32,
    "start_time": "2021-12-22T12:16:22.042Z"
   },
   {
    "duration": 7,
    "start_time": "2021-12-22T12:16:22.078Z"
   },
   {
    "duration": 10,
    "start_time": "2021-12-22T12:16:22.088Z"
   },
   {
    "duration": 67,
    "start_time": "2021-12-22T12:16:22.101Z"
   },
   {
    "duration": 29,
    "start_time": "2021-12-22T12:16:22.171Z"
   },
   {
    "duration": 6,
    "start_time": "2021-12-22T12:16:22.203Z"
   },
   {
    "duration": 9,
    "start_time": "2021-12-22T12:16:22.212Z"
   },
   {
    "duration": 47,
    "start_time": "2021-12-22T12:16:22.223Z"
   },
   {
    "duration": 19,
    "start_time": "2021-12-22T12:16:22.273Z"
   },
   {
    "duration": 16,
    "start_time": "2021-12-22T12:16:22.294Z"
   },
   {
    "duration": 5,
    "start_time": "2021-12-22T12:16:22.313Z"
   },
   {
    "duration": 8,
    "start_time": "2021-12-22T12:16:22.320Z"
   },
   {
    "duration": 44,
    "start_time": "2021-12-22T12:16:22.330Z"
   },
   {
    "duration": 10,
    "start_time": "2021-12-22T12:16:22.376Z"
   },
   {
    "duration": 26,
    "start_time": "2021-12-22T12:16:22.388Z"
   },
   {
    "duration": 13,
    "start_time": "2021-12-22T12:16:22.417Z"
   },
   {
    "duration": 7,
    "start_time": "2021-12-22T12:16:22.469Z"
   },
   {
    "duration": 8,
    "start_time": "2021-12-22T12:16:22.479Z"
   },
   {
    "duration": 20,
    "start_time": "2021-12-22T12:16:22.489Z"
   },
   {
    "duration": 7,
    "start_time": "2021-12-22T12:16:22.512Z"
   },
   {
    "duration": 8,
    "start_time": "2021-12-22T12:16:22.522Z"
   },
   {
    "duration": 8,
    "start_time": "2021-12-22T12:16:22.568Z"
   },
   {
    "duration": 849,
    "start_time": "2021-12-22T12:16:22.578Z"
   },
   {
    "duration": 41,
    "start_time": "2021-12-22T12:16:23.430Z"
   },
   {
    "duration": 410,
    "start_time": "2021-12-22T12:16:23.480Z"
   },
   {
    "duration": 22,
    "start_time": "2021-12-22T12:16:23.892Z"
   },
   {
    "duration": 5,
    "start_time": "2021-12-22T12:16:23.917Z"
   },
   {
    "duration": 9,
    "start_time": "2021-12-22T12:16:23.924Z"
   },
   {
    "duration": 131,
    "start_time": "2021-12-22T12:16:23.936Z"
   },
   {
    "duration": 22,
    "start_time": "2021-12-22T12:16:24.069Z"
   },
   {
    "duration": 11,
    "start_time": "2021-12-22T12:16:24.094Z"
   },
   {
    "duration": 21,
    "start_time": "2021-12-22T12:16:24.107Z"
   },
   {
    "duration": 57,
    "start_time": "2021-12-22T12:16:24.131Z"
   },
   {
    "duration": 19,
    "start_time": "2021-12-22T12:16:24.191Z"
   },
   {
    "duration": 24,
    "start_time": "2021-12-22T12:16:24.213Z"
   },
   {
    "duration": 43,
    "start_time": "2021-12-22T12:16:24.239Z"
   },
   {
    "duration": 15,
    "start_time": "2021-12-22T12:16:24.285Z"
   },
   {
    "duration": 13,
    "start_time": "2021-12-22T12:16:24.302Z"
   },
   {
    "duration": 264,
    "start_time": "2021-12-22T12:16:24.318Z"
   },
   {
    "duration": 11,
    "start_time": "2021-12-22T12:16:24.585Z"
   },
   {
    "duration": 264,
    "start_time": "2021-12-22T12:16:24.598Z"
   },
   {
    "duration": 11,
    "start_time": "2021-12-22T12:16:24.864Z"
   },
   {
    "duration": 249,
    "start_time": "2021-12-22T12:16:24.878Z"
   },
   {
    "duration": 12,
    "start_time": "2021-12-22T12:16:25.129Z"
   },
   {
    "duration": 300,
    "start_time": "2021-12-22T12:16:25.144Z"
   },
   {
    "duration": 24,
    "start_time": "2021-12-22T12:16:25.447Z"
   },
   {
    "duration": 365,
    "start_time": "2021-12-22T12:16:25.473Z"
   },
   {
    "duration": 25,
    "start_time": "2021-12-22T12:16:25.841Z"
   },
   {
    "duration": 272,
    "start_time": "2021-12-22T12:16:25.869Z"
   },
   {
    "duration": 25,
    "start_time": "2021-12-22T12:16:26.144Z"
   },
   {
    "duration": 17,
    "start_time": "2021-12-22T12:16:26.172Z"
   },
   {
    "duration": 14,
    "start_time": "2021-12-22T12:16:26.191Z"
   },
   {
    "duration": 14,
    "start_time": "2021-12-22T12:17:41.302Z"
   },
   {
    "duration": 12,
    "start_time": "2021-12-22T12:17:43.852Z"
   },
   {
    "duration": 10,
    "start_time": "2021-12-22T12:41:58.077Z"
   },
   {
    "duration": 14,
    "start_time": "2021-12-22T12:42:05.680Z"
   },
   {
    "duration": 18,
    "start_time": "2021-12-22T12:42:49.146Z"
   },
   {
    "duration": 11,
    "start_time": "2021-12-22T12:42:55.811Z"
   },
   {
    "duration": 15,
    "start_time": "2021-12-22T12:49:58.714Z"
   },
   {
    "duration": 11,
    "start_time": "2021-12-22T12:50:06.193Z"
   },
   {
    "duration": 1160,
    "start_time": "2021-12-22T12:51:03.001Z"
   },
   {
    "duration": 29,
    "start_time": "2021-12-22T12:59:08.449Z"
   },
   {
    "duration": 4,
    "start_time": "2021-12-22T13:00:54.722Z"
   },
   {
    "duration": 55,
    "start_time": "2021-12-22T13:00:54.729Z"
   },
   {
    "duration": 20,
    "start_time": "2021-12-22T13:00:54.787Z"
   },
   {
    "duration": 25,
    "start_time": "2021-12-22T13:00:54.810Z"
   },
   {
    "duration": 37,
    "start_time": "2021-12-22T13:00:54.837Z"
   },
   {
    "duration": 142,
    "start_time": "2021-12-22T13:00:54.877Z"
   },
   {
    "duration": 10,
    "start_time": "2021-12-22T13:00:55.023Z"
   },
   {
    "duration": 39,
    "start_time": "2021-12-22T13:00:55.036Z"
   },
   {
    "duration": 16,
    "start_time": "2021-12-22T13:00:55.078Z"
   },
   {
    "duration": 27,
    "start_time": "2021-12-22T13:00:55.097Z"
   },
   {
    "duration": 56,
    "start_time": "2021-12-22T13:00:55.126Z"
   },
   {
    "duration": 5,
    "start_time": "2021-12-22T13:00:55.184Z"
   },
   {
    "duration": 7,
    "start_time": "2021-12-22T13:00:55.192Z"
   },
   {
    "duration": 7,
    "start_time": "2021-12-22T13:00:55.202Z"
   },
   {
    "duration": 65,
    "start_time": "2021-12-22T13:00:55.212Z"
   },
   {
    "duration": 15,
    "start_time": "2021-12-22T13:00:55.279Z"
   },
   {
    "duration": 5,
    "start_time": "2021-12-22T13:00:55.296Z"
   },
   {
    "duration": 12,
    "start_time": "2021-12-22T13:00:55.303Z"
   },
   {
    "duration": 6,
    "start_time": "2021-12-22T13:00:55.321Z"
   },
   {
    "duration": 43,
    "start_time": "2021-12-22T13:00:55.330Z"
   },
   {
    "duration": 26,
    "start_time": "2021-12-22T13:00:55.375Z"
   },
   {
    "duration": 12,
    "start_time": "2021-12-22T13:00:55.404Z"
   },
   {
    "duration": 15,
    "start_time": "2021-12-22T13:00:55.418Z"
   },
   {
    "duration": 40,
    "start_time": "2021-12-22T13:00:55.436Z"
   },
   {
    "duration": 16,
    "start_time": "2021-12-22T13:00:55.478Z"
   },
   {
    "duration": 9,
    "start_time": "2021-12-22T13:00:55.497Z"
   },
   {
    "duration": 6,
    "start_time": "2021-12-22T13:00:55.509Z"
   },
   {
    "duration": 8,
    "start_time": "2021-12-22T13:00:55.517Z"
   },
   {
    "duration": 42,
    "start_time": "2021-12-22T13:00:55.527Z"
   },
   {
    "duration": 834,
    "start_time": "2021-12-22T13:00:55.572Z"
   },
   {
    "duration": 23,
    "start_time": "2021-12-22T13:00:56.408Z"
   },
   {
    "duration": 421,
    "start_time": "2021-12-22T13:00:56.434Z"
   },
   {
    "duration": 30,
    "start_time": "2021-12-22T13:00:56.857Z"
   },
   {
    "duration": 6,
    "start_time": "2021-12-22T13:00:56.889Z"
   },
   {
    "duration": 9,
    "start_time": "2021-12-22T13:00:56.898Z"
   },
   {
    "duration": 127,
    "start_time": "2021-12-22T13:00:56.909Z"
   },
   {
    "duration": 36,
    "start_time": "2021-12-22T13:00:57.039Z"
   },
   {
    "duration": 10,
    "start_time": "2021-12-22T13:00:57.078Z"
   },
   {
    "duration": 16,
    "start_time": "2021-12-22T13:00:57.091Z"
   },
   {
    "duration": 58,
    "start_time": "2021-12-22T13:00:57.109Z"
   },
   {
    "duration": 21,
    "start_time": "2021-12-22T13:00:57.170Z"
   },
   {
    "duration": 21,
    "start_time": "2021-12-22T13:00:57.193Z"
   },
   {
    "duration": 21,
    "start_time": "2021-12-22T13:00:57.217Z"
   },
   {
    "duration": 16,
    "start_time": "2021-12-22T13:00:57.268Z"
   },
   {
    "duration": 15,
    "start_time": "2021-12-22T13:00:57.287Z"
   },
   {
    "duration": 254,
    "start_time": "2021-12-22T13:00:57.305Z"
   },
   {
    "duration": 18,
    "start_time": "2021-12-22T13:00:57.561Z"
   },
   {
    "duration": 260,
    "start_time": "2021-12-22T13:00:57.582Z"
   },
   {
    "duration": 24,
    "start_time": "2021-12-22T13:00:57.845Z"
   },
   {
    "duration": 237,
    "start_time": "2021-12-22T13:00:57.872Z"
   },
   {
    "duration": 11,
    "start_time": "2021-12-22T13:00:58.112Z"
   },
   {
    "duration": 266,
    "start_time": "2021-12-22T13:00:58.125Z"
   },
   {
    "duration": 9,
    "start_time": "2021-12-22T13:00:58.394Z"
   },
   {
    "duration": 264,
    "start_time": "2021-12-22T13:00:58.406Z"
   },
   {
    "duration": 11,
    "start_time": "2021-12-22T13:00:58.677Z"
   },
   {
    "duration": 279,
    "start_time": "2021-12-22T13:00:58.691Z"
   },
   {
    "duration": 12,
    "start_time": "2021-12-22T13:00:58.973Z"
   },
   {
    "duration": 17,
    "start_time": "2021-12-22T13:00:58.988Z"
   },
   {
    "duration": 16,
    "start_time": "2021-12-22T13:00:59.008Z"
   },
   {
    "duration": 1964,
    "start_time": "2021-12-22T13:00:59.027Z"
   },
   {
    "duration": 18,
    "start_time": "2021-12-22T13:16:03.536Z"
   },
   {
    "duration": 15,
    "start_time": "2021-12-22T13:16:50.702Z"
   },
   {
    "duration": 98,
    "start_time": "2021-12-22T13:20:15.992Z"
   },
   {
    "duration": 105,
    "start_time": "2021-12-22T13:23:53.737Z"
   },
   {
    "duration": 1678,
    "start_time": "2021-12-22T13:24:25.922Z"
   },
   {
    "duration": 1743,
    "start_time": "2021-12-22T13:24:36.948Z"
   },
   {
    "duration": 603,
    "start_time": "2021-12-22T13:29:38.252Z"
   },
   {
    "duration": 14,
    "start_time": "2021-12-22T13:31:16.351Z"
   },
   {
    "duration": 17,
    "start_time": "2021-12-22T13:33:30.125Z"
   },
   {
    "duration": 1681,
    "start_time": "2021-12-22T13:36:27.604Z"
   },
   {
    "duration": 92,
    "start_time": "2021-12-22T13:45:57.859Z"
   },
   {
    "duration": 14,
    "start_time": "2021-12-22T13:48:54.423Z"
   },
   {
    "duration": 14,
    "start_time": "2021-12-22T13:49:01.165Z"
   },
   {
    "duration": 16,
    "start_time": "2021-12-22T13:49:09.339Z"
   },
   {
    "duration": 12,
    "start_time": "2021-12-22T13:50:14.246Z"
   },
   {
    "duration": 87,
    "start_time": "2021-12-22T13:55:36.850Z"
   },
   {
    "duration": 1579,
    "start_time": "2021-12-22T13:56:17.424Z"
   },
   {
    "duration": 13,
    "start_time": "2021-12-22T13:58:30.850Z"
   },
   {
    "duration": 20,
    "start_time": "2021-12-22T13:58:39.294Z"
   },
   {
    "duration": 14,
    "start_time": "2021-12-22T13:58:54.527Z"
   },
   {
    "duration": 13,
    "start_time": "2021-12-22T13:59:08.488Z"
   },
   {
    "duration": 99,
    "start_time": "2021-12-22T14:00:12.171Z"
   },
   {
    "duration": 1556,
    "start_time": "2021-12-22T14:00:47.654Z"
   },
   {
    "duration": 87,
    "start_time": "2021-12-22T14:06:20.558Z"
   },
   {
    "duration": 1503,
    "start_time": "2021-12-22T14:06:41.947Z"
   },
   {
    "duration": 132,
    "start_time": "2021-12-22T14:06:43.453Z"
   },
   {
    "duration": 27,
    "start_time": "2021-12-22T14:06:43.588Z"
   },
   {
    "duration": 21,
    "start_time": "2021-12-22T14:06:43.618Z"
   },
   {
    "duration": 45,
    "start_time": "2021-12-22T14:06:43.642Z"
   },
   {
    "duration": 46,
    "start_time": "2021-12-22T14:06:43.689Z"
   },
   {
    "duration": 34,
    "start_time": "2021-12-22T14:06:43.737Z"
   },
   {
    "duration": 9,
    "start_time": "2021-12-22T14:06:43.776Z"
   },
   {
    "duration": 14,
    "start_time": "2021-12-22T14:06:43.788Z"
   },
   {
    "duration": 26,
    "start_time": "2021-12-22T14:06:43.804Z"
   },
   {
    "duration": 63,
    "start_time": "2021-12-22T14:06:43.833Z"
   },
   {
    "duration": 4,
    "start_time": "2021-12-22T14:06:43.898Z"
   },
   {
    "duration": 8,
    "start_time": "2021-12-22T14:06:43.904Z"
   },
   {
    "duration": 8,
    "start_time": "2021-12-22T14:06:43.914Z"
   },
   {
    "duration": 54,
    "start_time": "2021-12-22T14:06:43.925Z"
   },
   {
    "duration": 19,
    "start_time": "2021-12-22T14:06:43.981Z"
   },
   {
    "duration": 5,
    "start_time": "2021-12-22T14:06:44.003Z"
   },
   {
    "duration": 7,
    "start_time": "2021-12-22T14:06:44.010Z"
   },
   {
    "duration": 48,
    "start_time": "2021-12-22T14:06:44.019Z"
   },
   {
    "duration": 12,
    "start_time": "2021-12-22T14:06:44.070Z"
   },
   {
    "duration": 27,
    "start_time": "2021-12-22T14:06:44.085Z"
   },
   {
    "duration": 53,
    "start_time": "2021-12-22T14:06:44.115Z"
   },
   {
    "duration": 16,
    "start_time": "2021-12-22T14:06:44.177Z"
   },
   {
    "duration": 9,
    "start_time": "2021-12-22T14:06:44.198Z"
   },
   {
    "duration": 10,
    "start_time": "2021-12-22T14:06:44.210Z"
   },
   {
    "duration": 50,
    "start_time": "2021-12-22T14:06:44.223Z"
   },
   {
    "duration": 9,
    "start_time": "2021-12-22T14:06:44.276Z"
   },
   {
    "duration": 8,
    "start_time": "2021-12-22T14:06:44.288Z"
   },
   {
    "duration": 13,
    "start_time": "2021-12-22T14:06:44.299Z"
   },
   {
    "duration": 918,
    "start_time": "2021-12-22T14:06:44.315Z"
   },
   {
    "duration": 41,
    "start_time": "2021-12-22T14:06:45.236Z"
   },
   {
    "duration": 427,
    "start_time": "2021-12-22T14:06:45.280Z"
   },
   {
    "duration": 23,
    "start_time": "2021-12-22T14:06:45.710Z"
   },
   {
    "duration": 5,
    "start_time": "2021-12-22T14:06:45.735Z"
   },
   {
    "duration": 34,
    "start_time": "2021-12-22T14:06:45.742Z"
   },
   {
    "duration": 127,
    "start_time": "2021-12-22T14:06:45.780Z"
   },
   {
    "duration": 22,
    "start_time": "2021-12-22T14:06:45.910Z"
   },
   {
    "duration": 6,
    "start_time": "2021-12-22T14:06:45.935Z"
   },
   {
    "duration": 35,
    "start_time": "2021-12-22T14:06:45.943Z"
   },
   {
    "duration": 23,
    "start_time": "2021-12-22T14:06:45.981Z"
   },
   {
    "duration": 21,
    "start_time": "2021-12-22T14:06:46.006Z"
   },
   {
    "duration": 33,
    "start_time": "2021-12-22T14:06:46.069Z"
   },
   {
    "duration": 31,
    "start_time": "2021-12-22T14:06:46.105Z"
   },
   {
    "duration": 20,
    "start_time": "2021-12-22T14:06:46.169Z"
   },
   {
    "duration": 21,
    "start_time": "2021-12-22T14:06:46.192Z"
   },
   {
    "duration": 356,
    "start_time": "2021-12-22T14:06:46.216Z"
   },
   {
    "duration": 15,
    "start_time": "2021-12-22T14:06:46.575Z"
   },
   {
    "duration": 286,
    "start_time": "2021-12-22T14:06:46.593Z"
   },
   {
    "duration": 11,
    "start_time": "2021-12-22T14:06:46.882Z"
   },
   {
    "duration": 266,
    "start_time": "2021-12-22T14:06:46.896Z"
   },
   {
    "duration": 12,
    "start_time": "2021-12-22T14:06:47.168Z"
   },
   {
    "duration": 285,
    "start_time": "2021-12-22T14:06:47.183Z"
   },
   {
    "duration": 14,
    "start_time": "2021-12-22T14:06:47.474Z"
   },
   {
    "duration": 288,
    "start_time": "2021-12-22T14:06:47.491Z"
   },
   {
    "duration": 12,
    "start_time": "2021-12-22T14:06:47.782Z"
   },
   {
    "duration": 284,
    "start_time": "2021-12-22T14:06:47.797Z"
   },
   {
    "duration": 12,
    "start_time": "2021-12-22T14:06:48.084Z"
   },
   {
    "duration": 21,
    "start_time": "2021-12-22T14:06:48.100Z"
   },
   {
    "duration": 46,
    "start_time": "2021-12-22T14:06:48.123Z"
   },
   {
    "duration": 1762,
    "start_time": "2021-12-22T14:06:48.171Z"
   },
   {
    "duration": 15,
    "start_time": "2021-12-22T14:06:49.936Z"
   },
   {
    "duration": 14,
    "start_time": "2021-12-22T14:06:49.968Z"
   },
   {
    "duration": 1610,
    "start_time": "2021-12-22T14:06:49.984Z"
   },
   {
    "duration": 18,
    "start_time": "2021-12-22T14:06:51.598Z"
   },
   {
    "duration": 21,
    "start_time": "2021-12-22T14:06:51.619Z"
   },
   {
    "duration": 1851,
    "start_time": "2021-12-22T14:06:51.643Z"
   },
   {
    "duration": 17,
    "start_time": "2021-12-22T14:06:53.497Z"
   },
   {
    "duration": 12,
    "start_time": "2021-12-22T14:06:53.522Z"
   },
   {
    "duration": 1958,
    "start_time": "2021-12-22T14:06:53.537Z"
   },
   {
    "duration": 15,
    "start_time": "2021-12-22T14:06:55.499Z"
   },
   {
    "duration": 15,
    "start_time": "2021-12-22T14:06:55.517Z"
   },
   {
    "duration": 1482,
    "start_time": "2021-12-22T14:06:55.568Z"
   },
   {
    "duration": 22,
    "start_time": "2021-12-22T14:09:20.353Z"
   },
   {
    "duration": 89,
    "start_time": "2021-12-22T14:22:57.551Z"
   },
   {
    "duration": 16,
    "start_time": "2021-12-22T14:29:15.906Z"
   },
   {
    "duration": 27,
    "start_time": "2021-12-22T14:29:44.371Z"
   },
   {
    "duration": 14,
    "start_time": "2021-12-22T14:30:07.517Z"
   },
   {
    "duration": 14,
    "start_time": "2021-12-22T14:33:14.791Z"
   },
   {
    "duration": 22,
    "start_time": "2021-12-22T14:33:27.635Z"
   },
   {
    "duration": 15,
    "start_time": "2021-12-22T14:35:34.578Z"
   },
   {
    "duration": 18,
    "start_time": "2021-12-22T14:35:47.041Z"
   },
   {
    "duration": 17,
    "start_time": "2021-12-22T14:36:34.778Z"
   },
   {
    "duration": 10,
    "start_time": "2021-12-22T14:36:43.708Z"
   },
   {
    "duration": 279,
    "start_time": "2021-12-22T18:33:57.360Z"
   },
   {
    "duration": 1202,
    "start_time": "2021-12-22T18:34:06.445Z"
   },
   {
    "duration": 38,
    "start_time": "2021-12-22T18:34:07.649Z"
   },
   {
    "duration": 16,
    "start_time": "2021-12-22T18:34:07.689Z"
   },
   {
    "duration": 14,
    "start_time": "2021-12-22T18:34:07.707Z"
   },
   {
    "duration": 11,
    "start_time": "2021-12-22T18:34:07.723Z"
   },
   {
    "duration": 47,
    "start_time": "2021-12-22T18:34:07.735Z"
   },
   {
    "duration": 6,
    "start_time": "2021-12-22T18:34:07.784Z"
   },
   {
    "duration": 5,
    "start_time": "2021-12-22T18:34:07.793Z"
   },
   {
    "duration": 7,
    "start_time": "2021-12-22T18:34:07.800Z"
   },
   {
    "duration": 19,
    "start_time": "2021-12-22T18:34:07.809Z"
   },
   {
    "duration": 47,
    "start_time": "2021-12-22T18:34:07.830Z"
   },
   {
    "duration": 3,
    "start_time": "2021-12-22T18:34:07.879Z"
   },
   {
    "duration": 6,
    "start_time": "2021-12-22T18:34:07.884Z"
   },
   {
    "duration": 7,
    "start_time": "2021-12-22T18:34:07.892Z"
   },
   {
    "duration": 13,
    "start_time": "2021-12-22T18:34:07.900Z"
   },
   {
    "duration": 10,
    "start_time": "2021-12-22T18:34:07.914Z"
   },
   {
    "duration": 37,
    "start_time": "2021-12-22T18:34:07.925Z"
   },
   {
    "duration": 4,
    "start_time": "2021-12-22T18:34:07.963Z"
   },
   {
    "duration": 8,
    "start_time": "2021-12-22T18:34:07.969Z"
   },
   {
    "duration": 8,
    "start_time": "2021-12-22T18:34:07.978Z"
   },
   {
    "duration": 14,
    "start_time": "2021-12-22T18:34:07.988Z"
   },
   {
    "duration": 9,
    "start_time": "2021-12-22T18:34:08.004Z"
   },
   {
    "duration": 9,
    "start_time": "2021-12-22T18:34:08.017Z"
   },
   {
    "duration": 36,
    "start_time": "2021-12-22T18:34:08.028Z"
   },
   {
    "duration": 16,
    "start_time": "2021-12-22T18:34:08.066Z"
   },
   {
    "duration": 11,
    "start_time": "2021-12-22T18:34:08.083Z"
   },
   {
    "duration": 6,
    "start_time": "2021-12-22T18:34:08.095Z"
   },
   {
    "duration": 7,
    "start_time": "2021-12-22T18:34:08.103Z"
   },
   {
    "duration": 11,
    "start_time": "2021-12-22T18:34:08.111Z"
   },
   {
    "duration": 476,
    "start_time": "2021-12-22T18:34:08.124Z"
   },
   {
    "duration": 15,
    "start_time": "2021-12-22T18:34:08.602Z"
   },
   {
    "duration": 242,
    "start_time": "2021-12-22T18:34:08.618Z"
   },
   {
    "duration": 17,
    "start_time": "2021-12-22T18:34:08.862Z"
   },
   {
    "duration": 7,
    "start_time": "2021-12-22T18:34:08.881Z"
   },
   {
    "duration": 6,
    "start_time": "2021-12-22T18:34:08.890Z"
   },
   {
    "duration": 80,
    "start_time": "2021-12-22T18:34:08.897Z"
   },
   {
    "duration": 13,
    "start_time": "2021-12-22T18:34:08.979Z"
   },
   {
    "duration": 7,
    "start_time": "2021-12-22T18:34:08.994Z"
   },
   {
    "duration": 12,
    "start_time": "2021-12-22T18:34:09.003Z"
   },
   {
    "duration": 14,
    "start_time": "2021-12-22T18:34:09.017Z"
   },
   {
    "duration": 39,
    "start_time": "2021-12-22T18:34:09.033Z"
   },
   {
    "duration": 12,
    "start_time": "2021-12-22T18:34:09.073Z"
   },
   {
    "duration": 12,
    "start_time": "2021-12-22T18:34:09.087Z"
   },
   {
    "duration": 15,
    "start_time": "2021-12-22T18:34:09.100Z"
   },
   {
    "duration": 7,
    "start_time": "2021-12-22T18:34:09.117Z"
   },
   {
    "duration": 160,
    "start_time": "2021-12-22T18:34:09.126Z"
   },
   {
    "duration": 7,
    "start_time": "2021-12-22T18:34:09.288Z"
   },
   {
    "duration": 150,
    "start_time": "2021-12-22T18:34:09.297Z"
   },
   {
    "duration": 18,
    "start_time": "2021-12-22T18:34:09.449Z"
   },
   {
    "duration": 139,
    "start_time": "2021-12-22T18:34:09.469Z"
   },
   {
    "duration": 8,
    "start_time": "2021-12-22T18:34:09.610Z"
   },
   {
    "duration": 151,
    "start_time": "2021-12-22T18:34:09.620Z"
   },
   {
    "duration": 8,
    "start_time": "2021-12-22T18:34:09.773Z"
   },
   {
    "duration": 157,
    "start_time": "2021-12-22T18:34:09.782Z"
   },
   {
    "duration": 19,
    "start_time": "2021-12-22T18:34:09.942Z"
   },
   {
    "duration": 152,
    "start_time": "2021-12-22T18:34:09.962Z"
   },
   {
    "duration": 8,
    "start_time": "2021-12-22T18:34:10.116Z"
   },
   {
    "duration": 11,
    "start_time": "2021-12-22T18:34:10.126Z"
   },
   {
    "duration": 35,
    "start_time": "2021-12-22T18:34:10.139Z"
   },
   {
    "duration": 1037,
    "start_time": "2021-12-22T18:34:10.176Z"
   },
   {
    "duration": 9,
    "start_time": "2021-12-22T18:34:11.215Z"
   },
   {
    "duration": 11,
    "start_time": "2021-12-22T18:34:11.225Z"
   },
   {
    "duration": 1001,
    "start_time": "2021-12-22T18:34:11.237Z"
   },
   {
    "duration": 9,
    "start_time": "2021-12-22T18:34:12.240Z"
   },
   {
    "duration": 14,
    "start_time": "2021-12-22T18:34:12.251Z"
   },
   {
    "duration": 974,
    "start_time": "2021-12-22T18:34:12.266Z"
   },
   {
    "duration": 20,
    "start_time": "2021-12-22T18:34:13.242Z"
   },
   {
    "duration": 8,
    "start_time": "2021-12-22T18:34:13.267Z"
   },
   {
    "duration": 1056,
    "start_time": "2021-12-22T18:34:13.277Z"
   },
   {
    "duration": 9,
    "start_time": "2021-12-22T18:34:14.335Z"
   },
   {
    "duration": 19,
    "start_time": "2021-12-22T18:34:14.345Z"
   },
   {
    "duration": 850,
    "start_time": "2021-12-22T18:34:14.365Z"
   },
   {
    "duration": 14,
    "start_time": "2021-12-22T18:34:15.217Z"
   },
   {
    "duration": 13,
    "start_time": "2021-12-22T18:34:15.233Z"
   },
   {
    "duration": 10,
    "start_time": "2021-12-22T18:34:15.261Z"
   },
   {
    "duration": 10,
    "start_time": "2021-12-22T18:34:15.272Z"
   },
   {
    "duration": 9,
    "start_time": "2021-12-22T18:34:15.284Z"
   },
   {
    "duration": 8,
    "start_time": "2021-12-22T18:34:15.295Z"
   },
   {
    "duration": 10,
    "start_time": "2021-12-22T18:34:15.304Z"
   },
   {
    "duration": 7,
    "start_time": "2021-12-22T18:34:15.316Z"
   },
   {
    "duration": 44,
    "start_time": "2021-12-22T18:34:15.325Z"
   },
   {
    "duration": 10,
    "start_time": "2021-12-22T18:34:15.372Z"
   },
   {
    "duration": 15,
    "start_time": "2021-12-22T18:34:15.383Z"
   },
   {
    "duration": 8,
    "start_time": "2021-12-22T18:34:28.065Z"
   },
   {
    "duration": 7,
    "start_time": "2021-12-22T18:34:44.926Z"
   },
   {
    "duration": 297,
    "start_time": "2021-12-22T18:35:54.211Z"
   },
   {
    "duration": 254,
    "start_time": "2021-12-22T18:36:30.951Z"
   },
   {
    "duration": 249,
    "start_time": "2021-12-22T18:37:10.601Z"
   },
   {
    "duration": 11,
    "start_time": "2021-12-22T18:37:54.410Z"
   },
   {
    "duration": 7,
    "start_time": "2021-12-22T18:37:59.207Z"
   },
   {
    "duration": 11,
    "start_time": "2021-12-22T18:38:08.715Z"
   },
   {
    "duration": 7,
    "start_time": "2021-12-22T18:38:27.669Z"
   },
   {
    "duration": 12,
    "start_time": "2021-12-22T18:39:27.053Z"
   },
   {
    "duration": 7,
    "start_time": "2021-12-22T18:39:38.210Z"
   },
   {
    "duration": 87,
    "start_time": "2021-12-22T19:00:19.943Z"
   },
   {
    "duration": 10,
    "start_time": "2021-12-22T19:25:12.210Z"
   },
   {
    "duration": 7,
    "start_time": "2021-12-22T19:25:32.292Z"
   },
   {
    "duration": 12,
    "start_time": "2021-12-22T19:26:23.242Z"
   },
   {
    "duration": 7,
    "start_time": "2021-12-22T19:26:33.394Z"
   },
   {
    "duration": 10,
    "start_time": "2021-12-22T19:27:35.506Z"
   },
   {
    "duration": 7,
    "start_time": "2021-12-22T19:27:44.484Z"
   },
   {
    "duration": 83,
    "start_time": "2021-12-22T19:31:50.121Z"
   },
   {
    "duration": 6,
    "start_time": "2021-12-22T19:50:31.616Z"
   },
   {
    "duration": 265,
    "start_time": "2021-12-22T19:50:57.391Z"
   },
   {
    "duration": 215,
    "start_time": "2021-12-22T19:51:36.733Z"
   },
   {
    "duration": 178,
    "start_time": "2021-12-22T19:56:33.455Z"
   },
   {
    "duration": 7,
    "start_time": "2021-12-22T19:59:13.170Z"
   },
   {
    "duration": 8,
    "start_time": "2021-12-22T20:00:35.932Z"
   },
   {
    "duration": 5,
    "start_time": "2021-12-22T20:01:57.153Z"
   },
   {
    "duration": 5,
    "start_time": "2021-12-22T20:02:50.443Z"
   },
   {
    "duration": 7,
    "start_time": "2021-12-22T20:07:13.217Z"
   },
   {
    "duration": 6,
    "start_time": "2021-12-22T20:07:15.565Z"
   },
   {
    "duration": 6,
    "start_time": "2021-12-22T20:07:17.715Z"
   },
   {
    "duration": 10,
    "start_time": "2021-12-22T20:12:58.109Z"
   },
   {
    "duration": 9,
    "start_time": "2021-12-22T20:13:01.657Z"
   },
   {
    "duration": 1400,
    "start_time": "2021-12-22T20:13:05.061Z"
   },
   {
    "duration": 3,
    "start_time": "2021-12-22T20:14:33.026Z"
   },
   {
    "duration": 95,
    "start_time": "2021-12-22T20:14:35.136Z"
   },
   {
    "duration": 5,
    "start_time": "2021-12-22T20:14:47.128Z"
   },
   {
    "duration": 5,
    "start_time": "2021-12-22T20:14:51.250Z"
   },
   {
    "duration": 97,
    "start_time": "2021-12-22T20:18:49.723Z"
   },
   {
    "duration": 259,
    "start_time": "2021-12-22T20:23:50.333Z"
   },
   {
    "duration": 8,
    "start_time": "2021-12-22T20:24:45.888Z"
   },
   {
    "duration": 251,
    "start_time": "2021-12-22T20:24:48.489Z"
   },
   {
    "duration": 6,
    "start_time": "2021-12-22T20:24:59.120Z"
   },
   {
    "duration": 5,
    "start_time": "2021-12-22T20:25:01.285Z"
   },
   {
    "duration": 80,
    "start_time": "2021-12-22T20:30:00.101Z"
   },
   {
    "duration": 11,
    "start_time": "2021-12-22T20:39:46.163Z"
   },
   {
    "duration": 10,
    "start_time": "2021-12-22T20:41:15.212Z"
   },
   {
    "duration": 6,
    "start_time": "2021-12-22T20:41:39.596Z"
   },
   {
    "duration": 95,
    "start_time": "2021-12-22T20:43:16.745Z"
   },
   {
    "duration": 88,
    "start_time": "2021-12-22T21:01:09.000Z"
   },
   {
    "duration": 1097,
    "start_time": "2021-12-22T21:01:35.454Z"
   },
   {
    "duration": 38,
    "start_time": "2021-12-22T21:01:36.553Z"
   },
   {
    "duration": 18,
    "start_time": "2021-12-22T21:01:36.593Z"
   },
   {
    "duration": 13,
    "start_time": "2021-12-22T21:01:36.613Z"
   },
   {
    "duration": 11,
    "start_time": "2021-12-22T21:01:36.628Z"
   },
   {
    "duration": 30,
    "start_time": "2021-12-22T21:01:36.660Z"
   },
   {
    "duration": 8,
    "start_time": "2021-12-22T21:01:36.692Z"
   },
   {
    "duration": 5,
    "start_time": "2021-12-22T21:01:36.704Z"
   },
   {
    "duration": 6,
    "start_time": "2021-12-22T21:01:36.712Z"
   },
   {
    "duration": 52,
    "start_time": "2021-12-22T21:01:36.720Z"
   },
   {
    "duration": 18,
    "start_time": "2021-12-22T21:01:36.774Z"
   },
   {
    "duration": 4,
    "start_time": "2021-12-22T21:01:36.794Z"
   },
   {
    "duration": 6,
    "start_time": "2021-12-22T21:01:36.800Z"
   },
   {
    "duration": 9,
    "start_time": "2021-12-22T21:01:36.808Z"
   },
   {
    "duration": 12,
    "start_time": "2021-12-22T21:01:36.819Z"
   },
   {
    "duration": 46,
    "start_time": "2021-12-22T21:01:36.832Z"
   },
   {
    "duration": 4,
    "start_time": "2021-12-22T21:01:36.880Z"
   },
   {
    "duration": 5,
    "start_time": "2021-12-22T21:01:36.886Z"
   },
   {
    "duration": 9,
    "start_time": "2021-12-22T21:01:36.893Z"
   },
   {
    "duration": 10,
    "start_time": "2021-12-22T21:01:36.903Z"
   },
   {
    "duration": 19,
    "start_time": "2021-12-22T21:01:36.915Z"
   },
   {
    "duration": 39,
    "start_time": "2021-12-22T21:01:36.936Z"
   },
   {
    "duration": 11,
    "start_time": "2021-12-22T21:01:36.981Z"
   },
   {
    "duration": 6,
    "start_time": "2021-12-22T21:01:36.996Z"
   },
   {
    "duration": 6,
    "start_time": "2021-12-22T21:01:37.003Z"
   },
   {
    "duration": 10,
    "start_time": "2021-12-22T21:01:37.011Z"
   },
   {
    "duration": 4,
    "start_time": "2021-12-22T21:01:37.023Z"
   },
   {
    "duration": 37,
    "start_time": "2021-12-22T21:01:37.029Z"
   },
   {
    "duration": 8,
    "start_time": "2021-12-22T21:01:37.068Z"
   },
   {
    "duration": 478,
    "start_time": "2021-12-22T21:01:37.078Z"
   },
   {
    "duration": 14,
    "start_time": "2021-12-22T21:01:37.560Z"
   },
   {
    "duration": 238,
    "start_time": "2021-12-22T21:01:37.576Z"
   },
   {
    "duration": 15,
    "start_time": "2021-12-22T21:01:37.816Z"
   },
   {
    "duration": 3,
    "start_time": "2021-12-22T21:01:37.833Z"
   },
   {
    "duration": 24,
    "start_time": "2021-12-22T21:01:37.837Z"
   },
   {
    "duration": 56,
    "start_time": "2021-12-22T21:01:37.862Z"
   },
   {
    "duration": 11,
    "start_time": "2021-12-22T21:01:37.920Z"
   },
   {
    "duration": 4,
    "start_time": "2021-12-22T21:01:37.933Z"
   },
   {
    "duration": 30,
    "start_time": "2021-12-22T21:01:37.939Z"
   },
   {
    "duration": 13,
    "start_time": "2021-12-22T21:01:37.971Z"
   },
   {
    "duration": 14,
    "start_time": "2021-12-22T21:01:37.985Z"
   },
   {
    "duration": 11,
    "start_time": "2021-12-22T21:01:38.000Z"
   },
   {
    "duration": 16,
    "start_time": "2021-12-22T21:01:38.012Z"
   },
   {
    "duration": 38,
    "start_time": "2021-12-22T21:01:38.029Z"
   },
   {
    "duration": 7,
    "start_time": "2021-12-22T21:01:38.069Z"
   },
   {
    "duration": 144,
    "start_time": "2021-12-22T21:01:38.078Z"
   },
   {
    "duration": 9,
    "start_time": "2021-12-22T21:01:38.224Z"
   },
   {
    "duration": 156,
    "start_time": "2021-12-22T21:01:38.234Z"
   },
   {
    "duration": 7,
    "start_time": "2021-12-22T21:01:38.392Z"
   },
   {
    "duration": 144,
    "start_time": "2021-12-22T21:01:38.401Z"
   },
   {
    "duration": 19,
    "start_time": "2021-12-22T21:01:38.546Z"
   },
   {
    "duration": 144,
    "start_time": "2021-12-22T21:01:38.567Z"
   },
   {
    "duration": 7,
    "start_time": "2021-12-22T21:01:38.712Z"
   },
   {
    "duration": 158,
    "start_time": "2021-12-22T21:01:38.721Z"
   },
   {
    "duration": 8,
    "start_time": "2021-12-22T21:01:38.881Z"
   },
   {
    "duration": 159,
    "start_time": "2021-12-22T21:01:38.890Z"
   },
   {
    "duration": 15,
    "start_time": "2021-12-22T21:01:39.051Z"
   },
   {
    "duration": 13,
    "start_time": "2021-12-22T21:01:39.068Z"
   },
   {
    "duration": 10,
    "start_time": "2021-12-22T21:01:39.082Z"
   },
   {
    "duration": 1036,
    "start_time": "2021-12-22T21:01:39.093Z"
   },
   {
    "duration": 10,
    "start_time": "2021-12-22T21:01:40.131Z"
   },
   {
    "duration": 22,
    "start_time": "2021-12-22T21:01:40.142Z"
   },
   {
    "duration": 987,
    "start_time": "2021-12-22T21:01:40.166Z"
   },
   {
    "duration": 11,
    "start_time": "2021-12-22T21:01:41.155Z"
   },
   {
    "duration": 14,
    "start_time": "2021-12-22T21:01:41.168Z"
   },
   {
    "duration": 922,
    "start_time": "2021-12-22T21:01:41.183Z"
   },
   {
    "duration": 9,
    "start_time": "2021-12-22T21:01:42.107Z"
   },
   {
    "duration": 7,
    "start_time": "2021-12-22T21:01:42.121Z"
   },
   {
    "duration": 1095,
    "start_time": "2021-12-22T21:01:42.130Z"
   },
   {
    "duration": 9,
    "start_time": "2021-12-22T21:01:43.226Z"
   },
   {
    "duration": 23,
    "start_time": "2021-12-22T21:01:43.237Z"
   },
   {
    "duration": 936,
    "start_time": "2021-12-22T21:01:43.262Z"
   },
   {
    "duration": 14,
    "start_time": "2021-12-22T21:01:44.199Z"
   },
   {
    "duration": 8,
    "start_time": "2021-12-22T21:01:44.214Z"
   },
   {
    "duration": 8,
    "start_time": "2021-12-22T21:01:44.224Z"
   },
   {
    "duration": 31,
    "start_time": "2021-12-22T21:01:44.233Z"
   },
   {
    "duration": 11,
    "start_time": "2021-12-22T21:01:44.266Z"
   },
   {
    "duration": 7,
    "start_time": "2021-12-22T21:01:44.279Z"
   },
   {
    "duration": 11,
    "start_time": "2021-12-22T21:01:44.288Z"
   },
   {
    "duration": 8,
    "start_time": "2021-12-22T21:01:44.301Z"
   },
   {
    "duration": 10,
    "start_time": "2021-12-22T21:01:44.311Z"
   },
   {
    "duration": 42,
    "start_time": "2021-12-22T21:01:44.323Z"
   },
   {
    "duration": 11,
    "start_time": "2021-12-22T21:01:44.367Z"
   },
   {
    "duration": 12,
    "start_time": "2021-12-22T21:01:44.380Z"
   },
   {
    "duration": 13,
    "start_time": "2021-12-22T21:01:44.394Z"
   },
   {
    "duration": 13,
    "start_time": "2021-12-22T21:01:44.409Z"
   },
   {
    "duration": 12,
    "start_time": "2021-12-22T21:01:44.423Z"
   },
   {
    "duration": 25,
    "start_time": "2021-12-22T21:01:44.437Z"
   },
   {
    "duration": 12,
    "start_time": "2021-12-22T21:01:44.463Z"
   },
   {
    "duration": 6,
    "start_time": "2021-12-22T21:01:44.477Z"
   },
   {
    "duration": 14,
    "start_time": "2021-12-22T21:01:44.485Z"
   },
   {
    "duration": 9,
    "start_time": "2021-12-22T21:01:44.501Z"
   },
   {
    "duration": 12,
    "start_time": "2021-12-22T21:01:44.511Z"
   },
   {
    "duration": 8,
    "start_time": "2021-12-22T21:01:44.525Z"
   },
   {
    "duration": 30,
    "start_time": "2021-12-22T21:01:44.535Z"
   },
   {
    "duration": 11,
    "start_time": "2021-12-22T21:01:44.566Z"
   },
   {
    "duration": 7,
    "start_time": "2021-12-22T21:01:44.578Z"
   },
   {
    "duration": 11,
    "start_time": "2021-12-22T21:01:44.587Z"
   },
   {
    "duration": 9,
    "start_time": "2021-12-22T21:01:44.599Z"
   },
   {
    "duration": 1104,
    "start_time": "2021-12-23T15:33:22.673Z"
   },
   {
    "duration": 37,
    "start_time": "2021-12-23T15:33:23.779Z"
   },
   {
    "duration": 16,
    "start_time": "2021-12-23T15:33:23.818Z"
   },
   {
    "duration": 15,
    "start_time": "2021-12-23T15:33:23.836Z"
   },
   {
    "duration": 12,
    "start_time": "2021-12-23T15:33:23.853Z"
   },
   {
    "duration": 48,
    "start_time": "2021-12-23T15:33:23.867Z"
   },
   {
    "duration": 8,
    "start_time": "2021-12-23T15:33:23.916Z"
   },
   {
    "duration": 7,
    "start_time": "2021-12-23T15:33:23.926Z"
   },
   {
    "duration": 9,
    "start_time": "2021-12-23T15:33:23.936Z"
   },
   {
    "duration": 21,
    "start_time": "2021-12-23T15:33:23.947Z"
   },
   {
    "duration": 39,
    "start_time": "2021-12-23T15:33:23.970Z"
   },
   {
    "duration": 3,
    "start_time": "2021-12-23T15:33:24.011Z"
   },
   {
    "duration": 7,
    "start_time": "2021-12-23T15:33:24.016Z"
   },
   {
    "duration": 12,
    "start_time": "2021-12-23T15:33:24.024Z"
   },
   {
    "duration": 15,
    "start_time": "2021-12-23T15:33:24.037Z"
   },
   {
    "duration": 37,
    "start_time": "2021-12-23T15:33:24.054Z"
   },
   {
    "duration": 4,
    "start_time": "2021-12-23T15:33:24.093Z"
   },
   {
    "duration": 9,
    "start_time": "2021-12-23T15:33:24.098Z"
   },
   {
    "duration": 10,
    "start_time": "2021-12-23T15:33:24.108Z"
   },
   {
    "duration": 8,
    "start_time": "2021-12-23T15:33:24.119Z"
   },
   {
    "duration": 15,
    "start_time": "2021-12-23T15:33:24.129Z"
   },
   {
    "duration": 11,
    "start_time": "2021-12-23T15:33:24.145Z"
   },
   {
    "duration": 39,
    "start_time": "2021-12-23T15:33:24.157Z"
   },
   {
    "duration": 5,
    "start_time": "2021-12-23T15:33:24.198Z"
   },
   {
    "duration": 8,
    "start_time": "2021-12-23T15:33:24.204Z"
   },
   {
    "duration": 7,
    "start_time": "2021-12-23T15:33:24.213Z"
   },
   {
    "duration": 4,
    "start_time": "2021-12-23T15:33:24.225Z"
   },
   {
    "duration": 5,
    "start_time": "2021-12-23T15:33:24.232Z"
   },
   {
    "duration": 12,
    "start_time": "2021-12-23T15:33:24.239Z"
   },
   {
    "duration": 510,
    "start_time": "2021-12-23T15:33:24.252Z"
   },
   {
    "duration": 15,
    "start_time": "2021-12-23T15:33:24.764Z"
   },
   {
    "duration": 268,
    "start_time": "2021-12-23T15:33:24.780Z"
   },
   {
    "duration": 16,
    "start_time": "2021-12-23T15:33:25.050Z"
   },
   {
    "duration": 6,
    "start_time": "2021-12-23T15:33:25.068Z"
   },
   {
    "duration": 16,
    "start_time": "2021-12-23T15:33:25.075Z"
   },
   {
    "duration": 57,
    "start_time": "2021-12-23T15:33:25.093Z"
   },
   {
    "duration": 14,
    "start_time": "2021-12-23T15:33:25.151Z"
   },
   {
    "duration": 6,
    "start_time": "2021-12-23T15:33:25.190Z"
   },
   {
    "duration": 13,
    "start_time": "2021-12-23T15:33:25.197Z"
   },
   {
    "duration": 14,
    "start_time": "2021-12-23T15:33:25.212Z"
   },
   {
    "duration": 16,
    "start_time": "2021-12-23T15:33:25.228Z"
   },
   {
    "duration": 12,
    "start_time": "2021-12-23T15:33:25.246Z"
   },
   {
    "duration": 44,
    "start_time": "2021-12-23T15:33:25.260Z"
   },
   {
    "duration": 9,
    "start_time": "2021-12-23T15:33:25.306Z"
   },
   {
    "duration": 15,
    "start_time": "2021-12-23T15:33:25.316Z"
   },
   {
    "duration": 168,
    "start_time": "2021-12-23T15:33:25.333Z"
   },
   {
    "duration": 8,
    "start_time": "2021-12-23T15:33:25.502Z"
   },
   {
    "duration": 163,
    "start_time": "2021-12-23T15:33:25.512Z"
   },
   {
    "duration": 19,
    "start_time": "2021-12-23T15:33:25.676Z"
   },
   {
    "duration": 159,
    "start_time": "2021-12-23T15:33:25.697Z"
   },
   {
    "duration": 8,
    "start_time": "2021-12-23T15:33:25.857Z"
   },
   {
    "duration": 166,
    "start_time": "2021-12-23T15:33:25.867Z"
   },
   {
    "duration": 8,
    "start_time": "2021-12-23T15:33:26.034Z"
   },
   {
    "duration": 170,
    "start_time": "2021-12-23T15:33:26.044Z"
   },
   {
    "duration": 8,
    "start_time": "2021-12-23T15:33:26.216Z"
   },
   {
    "duration": 168,
    "start_time": "2021-12-23T15:33:26.226Z"
   },
   {
    "duration": 8,
    "start_time": "2021-12-23T15:33:26.396Z"
   },
   {
    "duration": 11,
    "start_time": "2021-12-23T15:33:26.406Z"
   },
   {
    "duration": 10,
    "start_time": "2021-12-23T15:33:26.419Z"
   },
   {
    "duration": 1161,
    "start_time": "2021-12-23T15:33:26.431Z"
   },
   {
    "duration": 11,
    "start_time": "2021-12-23T15:33:27.594Z"
   },
   {
    "duration": 13,
    "start_time": "2021-12-23T15:33:27.606Z"
   },
   {
    "duration": 1110,
    "start_time": "2021-12-23T15:33:27.621Z"
   },
   {
    "duration": 11,
    "start_time": "2021-12-23T15:33:28.733Z"
   },
   {
    "duration": 15,
    "start_time": "2021-12-23T15:33:28.745Z"
   },
   {
    "duration": 976,
    "start_time": "2021-12-23T15:33:28.762Z"
   },
   {
    "duration": 10,
    "start_time": "2021-12-23T15:33:29.740Z"
   },
   {
    "duration": 11,
    "start_time": "2021-12-23T15:33:29.752Z"
   },
   {
    "duration": 1081,
    "start_time": "2021-12-23T15:33:29.764Z"
   },
   {
    "duration": 11,
    "start_time": "2021-12-23T15:33:30.847Z"
   },
   {
    "duration": 27,
    "start_time": "2021-12-23T15:33:30.860Z"
   },
   {
    "duration": 997,
    "start_time": "2021-12-23T15:33:30.891Z"
   },
   {
    "duration": 15,
    "start_time": "2021-12-23T15:33:31.889Z"
   },
   {
    "duration": 16,
    "start_time": "2021-12-23T15:33:31.905Z"
   },
   {
    "duration": 12,
    "start_time": "2021-12-23T15:33:31.923Z"
   },
   {
    "duration": 10,
    "start_time": "2021-12-23T15:33:31.937Z"
   },
   {
    "duration": 9,
    "start_time": "2021-12-23T15:33:31.949Z"
   },
   {
    "duration": 34,
    "start_time": "2021-12-23T15:33:31.960Z"
   },
   {
    "duration": 10,
    "start_time": "2021-12-23T15:33:31.996Z"
   },
   {
    "duration": 18,
    "start_time": "2021-12-23T15:33:32.008Z"
   },
   {
    "duration": 10,
    "start_time": "2021-12-23T15:33:32.032Z"
   },
   {
    "duration": 12,
    "start_time": "2021-12-23T15:33:32.044Z"
   },
   {
    "duration": 13,
    "start_time": "2021-12-23T15:33:32.057Z"
   },
   {
    "duration": 8,
    "start_time": "2021-12-23T15:33:32.092Z"
   },
   {
    "duration": 15,
    "start_time": "2021-12-23T15:33:32.101Z"
   },
   {
    "duration": 6,
    "start_time": "2021-12-23T15:33:32.118Z"
   },
   {
    "duration": 19,
    "start_time": "2021-12-23T15:33:32.125Z"
   },
   {
    "duration": 10,
    "start_time": "2021-12-23T15:33:32.145Z"
   },
   {
    "duration": 14,
    "start_time": "2021-12-23T15:33:32.157Z"
   },
   {
    "duration": 24,
    "start_time": "2021-12-23T15:33:32.173Z"
   },
   {
    "duration": 13,
    "start_time": "2021-12-23T15:33:32.199Z"
   },
   {
    "duration": 7,
    "start_time": "2021-12-23T15:33:32.213Z"
   },
   {
    "duration": 12,
    "start_time": "2021-12-23T15:33:32.222Z"
   },
   {
    "duration": 12,
    "start_time": "2021-12-23T15:33:32.236Z"
   },
   {
    "duration": 10,
    "start_time": "2021-12-23T15:33:32.250Z"
   },
   {
    "duration": 40,
    "start_time": "2021-12-23T15:33:32.262Z"
   },
   {
    "duration": 26,
    "start_time": "2021-12-23T15:33:32.303Z"
   },
   {
    "duration": 12,
    "start_time": "2021-12-23T15:33:32.330Z"
   },
   {
    "duration": 5,
    "start_time": "2021-12-23T15:33:32.343Z"
   },
   {
    "duration": 271,
    "start_time": "2021-12-23T15:38:29.676Z"
   },
   {
    "duration": 190,
    "start_time": "2021-12-23T15:38:39.869Z"
   },
   {
    "duration": 185,
    "start_time": "2021-12-23T15:38:50.496Z"
   },
   {
    "duration": 22,
    "start_time": "2021-12-23T15:38:54.876Z"
   },
   {
    "duration": 30,
    "start_time": "2021-12-23T15:39:13.707Z"
   },
   {
    "duration": 86,
    "start_time": "2021-12-24T06:41:34.541Z"
   },
   {
    "duration": 100,
    "start_time": "2021-12-24T06:43:00.173Z"
   },
   {
    "duration": 574,
    "start_time": "2021-12-24T07:05:00.379Z"
   },
   {
    "duration": 1526,
    "start_time": "2021-12-24T07:05:04.853Z"
   },
   {
    "duration": 50,
    "start_time": "2021-12-24T07:05:06.382Z"
   },
   {
    "duration": 40,
    "start_time": "2021-12-24T07:05:06.436Z"
   },
   {
    "duration": 24,
    "start_time": "2021-12-24T07:05:06.479Z"
   },
   {
    "duration": 18,
    "start_time": "2021-12-24T07:05:06.506Z"
   },
   {
    "duration": 75,
    "start_time": "2021-12-24T07:05:06.526Z"
   },
   {
    "duration": 11,
    "start_time": "2021-12-24T07:05:06.604Z"
   },
   {
    "duration": 7,
    "start_time": "2021-12-24T07:05:06.621Z"
   },
   {
    "duration": 43,
    "start_time": "2021-12-24T07:05:06.632Z"
   },
   {
    "duration": 26,
    "start_time": "2021-12-24T07:05:06.678Z"
   },
   {
    "duration": 59,
    "start_time": "2021-12-24T07:05:06.707Z"
   },
   {
    "duration": 5,
    "start_time": "2021-12-24T07:05:06.769Z"
   },
   {
    "duration": 7,
    "start_time": "2021-12-24T07:05:06.777Z"
   },
   {
    "duration": 10,
    "start_time": "2021-12-24T07:05:06.786Z"
   },
   {
    "duration": 19,
    "start_time": "2021-12-24T07:05:06.798Z"
   },
   {
    "duration": 54,
    "start_time": "2021-12-24T07:05:06.820Z"
   },
   {
    "duration": 4,
    "start_time": "2021-12-24T07:05:06.876Z"
   },
   {
    "duration": 7,
    "start_time": "2021-12-24T07:05:06.883Z"
   },
   {
    "duration": 9,
    "start_time": "2021-12-24T07:05:06.892Z"
   },
   {
    "duration": 11,
    "start_time": "2021-12-24T07:05:06.903Z"
   },
   {
    "duration": 59,
    "start_time": "2021-12-24T07:05:06.916Z"
   },
   {
    "duration": 14,
    "start_time": "2021-12-24T07:05:06.978Z"
   },
   {
    "duration": 13,
    "start_time": "2021-12-24T07:05:06.998Z"
   },
   {
    "duration": 7,
    "start_time": "2021-12-24T07:05:07.015Z"
   },
   {
    "duration": 44,
    "start_time": "2021-12-24T07:05:07.024Z"
   },
   {
    "duration": 7,
    "start_time": "2021-12-24T07:05:07.070Z"
   },
   {
    "duration": 10,
    "start_time": "2021-12-24T07:05:07.080Z"
   },
   {
    "duration": 9,
    "start_time": "2021-12-24T07:05:07.093Z"
   },
   {
    "duration": 15,
    "start_time": "2021-12-24T07:05:07.104Z"
   },
   {
    "duration": 854,
    "start_time": "2021-12-24T07:05:07.122Z"
   },
   {
    "duration": 22,
    "start_time": "2021-12-24T07:05:07.979Z"
   },
   {
    "duration": 422,
    "start_time": "2021-12-24T07:05:08.004Z"
   },
   {
    "duration": 45,
    "start_time": "2021-12-24T07:05:08.429Z"
   },
   {
    "duration": 7,
    "start_time": "2021-12-24T07:05:08.477Z"
   },
   {
    "duration": 14,
    "start_time": "2021-12-24T07:05:08.487Z"
   },
   {
    "duration": 120,
    "start_time": "2021-12-24T07:05:08.504Z"
   },
   {
    "duration": 20,
    "start_time": "2021-12-24T07:05:08.627Z"
   },
   {
    "duration": 8,
    "start_time": "2021-12-24T07:05:08.667Z"
   },
   {
    "duration": 17,
    "start_time": "2021-12-24T07:05:08.678Z"
   },
   {
    "duration": 22,
    "start_time": "2021-12-24T07:05:08.698Z"
   },
   {
    "duration": 63,
    "start_time": "2021-12-24T07:05:08.724Z"
   },
   {
    "duration": 20,
    "start_time": "2021-12-24T07:05:08.790Z"
   },
   {
    "duration": 20,
    "start_time": "2021-12-24T07:05:08.813Z"
   },
   {
    "duration": 43,
    "start_time": "2021-12-24T07:05:08.836Z"
   },
   {
    "duration": 19,
    "start_time": "2021-12-24T07:05:08.882Z"
   },
   {
    "duration": 74,
    "start_time": "2021-12-24T07:05:08.904Z"
   },
   {
    "duration": 234,
    "start_time": "2021-12-24T07:05:08.982Z"
   },
   {
    "duration": 13,
    "start_time": "2021-12-24T07:05:09.219Z"
   },
   {
    "duration": 278,
    "start_time": "2021-12-24T07:05:09.235Z"
   },
   {
    "duration": 12,
    "start_time": "2021-12-24T07:05:09.516Z"
   },
   {
    "duration": 249,
    "start_time": "2021-12-24T07:05:09.531Z"
   },
   {
    "duration": 11,
    "start_time": "2021-12-24T07:05:09.783Z"
   },
   {
    "duration": 263,
    "start_time": "2021-12-24T07:05:09.796Z"
   },
   {
    "duration": 11,
    "start_time": "2021-12-24T07:05:10.066Z"
   },
   {
    "duration": 254,
    "start_time": "2021-12-24T07:05:10.080Z"
   },
   {
    "duration": 11,
    "start_time": "2021-12-24T07:05:10.337Z"
   },
   {
    "duration": 262,
    "start_time": "2021-12-24T07:05:10.350Z"
   },
   {
    "duration": 11,
    "start_time": "2021-12-24T07:05:10.615Z"
   },
   {
    "duration": 998,
    "start_time": "2021-12-24T07:05:10.628Z"
   },
   {
    "duration": 14,
    "start_time": "2021-12-24T07:05:11.629Z"
   },
   {
    "duration": 30,
    "start_time": "2021-12-24T07:05:11.646Z"
   },
   {
    "duration": 1590,
    "start_time": "2021-12-24T07:05:11.678Z"
   },
   {
    "duration": 17,
    "start_time": "2021-12-24T07:05:13.271Z"
   },
   {
    "duration": 21,
    "start_time": "2021-12-24T07:05:13.290Z"
   },
   {
    "duration": 1572,
    "start_time": "2021-12-24T07:05:13.314Z"
   },
   {
    "duration": 16,
    "start_time": "2021-12-24T07:05:14.888Z"
   },
   {
    "duration": 17,
    "start_time": "2021-12-24T07:05:14.906Z"
   },
   {
    "duration": 1560,
    "start_time": "2021-12-24T07:05:14.934Z"
   },
   {
    "duration": 16,
    "start_time": "2021-12-24T07:05:16.498Z"
   },
   {
    "duration": 19,
    "start_time": "2021-12-24T07:05:16.517Z"
   },
   {
    "duration": 1527,
    "start_time": "2021-12-24T07:05:16.540Z"
   },
   {
    "duration": 14,
    "start_time": "2021-12-24T07:05:18.069Z"
   },
   {
    "duration": 26,
    "start_time": "2021-12-24T07:05:18.085Z"
   },
   {
    "duration": 1672,
    "start_time": "2021-12-24T07:05:18.113Z"
   },
   {
    "duration": 22,
    "start_time": "2021-12-24T07:05:19.787Z"
   },
   {
    "duration": 21,
    "start_time": "2021-12-24T07:05:19.811Z"
   },
   {
    "duration": 42,
    "start_time": "2021-12-24T07:05:19.834Z"
   },
   {
    "duration": 30,
    "start_time": "2021-12-24T07:05:19.879Z"
   },
   {
    "duration": 19,
    "start_time": "2021-12-24T07:05:19.912Z"
   },
   {
    "duration": 19,
    "start_time": "2021-12-24T07:05:19.934Z"
   },
   {
    "duration": 34,
    "start_time": "2021-12-24T07:05:19.955Z"
   },
   {
    "duration": 30,
    "start_time": "2021-12-24T07:05:19.991Z"
   },
   {
    "duration": 28,
    "start_time": "2021-12-24T07:05:20.024Z"
   },
   {
    "duration": 19,
    "start_time": "2021-12-24T07:05:20.055Z"
   },
   {
    "duration": 27,
    "start_time": "2021-12-24T07:05:20.078Z"
   },
   {
    "duration": 13,
    "start_time": "2021-12-24T07:05:20.108Z"
   },
   {
    "duration": 15,
    "start_time": "2021-12-24T07:05:20.124Z"
   },
   {
    "duration": 10,
    "start_time": "2021-12-24T07:05:20.166Z"
   },
   {
    "duration": 20,
    "start_time": "2021-12-24T07:05:20.179Z"
   },
   {
    "duration": 13,
    "start_time": "2021-12-24T07:05:20.202Z"
   },
   {
    "duration": 19,
    "start_time": "2021-12-24T07:05:20.218Z"
   },
   {
    "duration": 34,
    "start_time": "2021-12-24T07:05:20.240Z"
   },
   {
    "duration": 21,
    "start_time": "2021-12-24T07:05:20.276Z"
   },
   {
    "duration": 11,
    "start_time": "2021-12-24T07:05:20.300Z"
   },
   {
    "duration": 18,
    "start_time": "2021-12-24T07:05:20.314Z"
   },
   {
    "duration": 35,
    "start_time": "2021-12-24T07:05:20.334Z"
   },
   {
    "duration": 13,
    "start_time": "2021-12-24T07:05:20.372Z"
   },
   {
    "duration": 13,
    "start_time": "2021-12-24T07:05:20.387Z"
   },
   {
    "duration": 9,
    "start_time": "2021-12-24T07:05:20.402Z"
   },
   {
    "duration": 17,
    "start_time": "2021-12-24T07:05:20.413Z"
   },
   {
    "duration": 42,
    "start_time": "2021-12-24T07:05:20.432Z"
   },
   {
    "duration": 909,
    "start_time": "2021-12-24T07:10:23.040Z"
   },
   {
    "duration": 1248,
    "start_time": "2021-12-24T07:10:33.007Z"
   },
   {
    "duration": 1312,
    "start_time": "2021-12-24T07:10:52.983Z"
   },
   {
    "duration": 93,
    "start_time": "2021-12-24T07:32:29.212Z"
   },
   {
    "duration": 102,
    "start_time": "2021-12-24T07:32:36.173Z"
   },
   {
    "duration": 97,
    "start_time": "2021-12-24T07:32:42.016Z"
   },
   {
    "duration": 96,
    "start_time": "2021-12-24T07:33:39.896Z"
   },
   {
    "duration": 6,
    "start_time": "2021-12-24T07:57:28.631Z"
   },
   {
    "duration": 22,
    "start_time": "2021-12-24T07:57:54.551Z"
   },
   {
    "duration": 31,
    "start_time": "2021-12-24T08:03:36.151Z"
   },
   {
    "duration": 452,
    "start_time": "2021-12-24T08:10:06.780Z"
   },
   {
    "duration": 94,
    "start_time": "2021-12-24T08:31:38.411Z"
   },
   {
    "duration": 82,
    "start_time": "2021-12-24T08:39:42.494Z"
   },
   {
    "duration": 1425,
    "start_time": "2021-12-24T08:40:29.476Z"
   },
   {
    "duration": 48,
    "start_time": "2021-12-24T08:40:30.904Z"
   },
   {
    "duration": 37,
    "start_time": "2021-12-24T08:40:30.956Z"
   },
   {
    "duration": 37,
    "start_time": "2021-12-24T08:40:30.995Z"
   },
   {
    "duration": 31,
    "start_time": "2021-12-24T08:40:31.035Z"
   },
   {
    "duration": 47,
    "start_time": "2021-12-24T08:40:31.068Z"
   },
   {
    "duration": 11,
    "start_time": "2021-12-24T08:40:31.117Z"
   },
   {
    "duration": 35,
    "start_time": "2021-12-24T08:40:31.132Z"
   },
   {
    "duration": 11,
    "start_time": "2021-12-24T08:40:31.170Z"
   },
   {
    "duration": 32,
    "start_time": "2021-12-24T08:40:31.183Z"
   },
   {
    "duration": 51,
    "start_time": "2021-12-24T08:40:31.218Z"
   },
   {
    "duration": 4,
    "start_time": "2021-12-24T08:40:31.272Z"
   },
   {
    "duration": 16,
    "start_time": "2021-12-24T08:40:31.278Z"
   },
   {
    "duration": 20,
    "start_time": "2021-12-24T08:40:31.297Z"
   },
   {
    "duration": 22,
    "start_time": "2021-12-24T08:40:31.320Z"
   },
   {
    "duration": 35,
    "start_time": "2021-12-24T08:40:31.344Z"
   },
   {
    "duration": 6,
    "start_time": "2021-12-24T08:40:31.382Z"
   },
   {
    "duration": 9,
    "start_time": "2021-12-24T08:40:31.391Z"
   },
   {
    "duration": 23,
    "start_time": "2021-12-24T08:40:31.402Z"
   },
   {
    "duration": 45,
    "start_time": "2021-12-24T08:40:31.428Z"
   },
   {
    "duration": 36,
    "start_time": "2021-12-24T08:40:31.476Z"
   },
   {
    "duration": 22,
    "start_time": "2021-12-24T08:40:31.515Z"
   },
   {
    "duration": 34,
    "start_time": "2021-12-24T08:40:31.543Z"
   },
   {
    "duration": 7,
    "start_time": "2021-12-24T08:40:31.581Z"
   },
   {
    "duration": 28,
    "start_time": "2021-12-24T08:40:31.590Z"
   },
   {
    "duration": 27,
    "start_time": "2021-12-24T08:40:31.621Z"
   },
   {
    "duration": 9,
    "start_time": "2021-12-24T08:40:31.651Z"
   },
   {
    "duration": 24,
    "start_time": "2021-12-24T08:40:31.663Z"
   },
   {
    "duration": 27,
    "start_time": "2021-12-24T08:40:31.690Z"
   },
   {
    "duration": 816,
    "start_time": "2021-12-24T08:40:31.719Z"
   },
   {
    "duration": 34,
    "start_time": "2021-12-24T08:40:32.537Z"
   },
   {
    "duration": 406,
    "start_time": "2021-12-24T08:40:32.574Z"
   },
   {
    "duration": 25,
    "start_time": "2021-12-24T08:40:32.982Z"
   },
   {
    "duration": 7,
    "start_time": "2021-12-24T08:40:33.010Z"
   },
   {
    "duration": 48,
    "start_time": "2021-12-24T08:40:33.020Z"
   },
   {
    "duration": 105,
    "start_time": "2021-12-24T08:40:33.071Z"
   },
   {
    "duration": 21,
    "start_time": "2021-12-24T08:40:33.178Z"
   },
   {
    "duration": 8,
    "start_time": "2021-12-24T08:40:33.201Z"
   },
   {
    "duration": 14,
    "start_time": "2021-12-24T08:40:33.211Z"
   },
   {
    "duration": 59,
    "start_time": "2021-12-24T08:40:33.227Z"
   },
   {
    "duration": 20,
    "start_time": "2021-12-24T08:40:33.288Z"
   },
   {
    "duration": 24,
    "start_time": "2021-12-24T08:40:33.311Z"
   },
   {
    "duration": 46,
    "start_time": "2021-12-24T08:40:33.338Z"
   },
   {
    "duration": 13,
    "start_time": "2021-12-24T08:40:33.387Z"
   },
   {
    "duration": 16,
    "start_time": "2021-12-24T08:40:33.403Z"
   },
   {
    "duration": 76,
    "start_time": "2021-12-24T08:40:33.422Z"
   },
   {
    "duration": 1171,
    "start_time": "2021-12-24T08:40:33.501Z"
   },
   {
    "duration": 942,
    "start_time": "2021-12-24T08:40:34.674Z"
   },
   {
    "duration": -2897,
    "start_time": "2021-12-24T08:40:38.517Z"
   },
   {
    "duration": -2912,
    "start_time": "2021-12-24T08:40:38.533Z"
   },
   {
    "duration": -2925,
    "start_time": "2021-12-24T08:40:38.548Z"
   },
   {
    "duration": -2939,
    "start_time": "2021-12-24T08:40:38.563Z"
   },
   {
    "duration": -2953,
    "start_time": "2021-12-24T08:40:38.578Z"
   },
   {
    "duration": -2965,
    "start_time": "2021-12-24T08:40:38.592Z"
   },
   {
    "duration": -3037,
    "start_time": "2021-12-24T08:40:38.665Z"
   },
   {
    "duration": -3051,
    "start_time": "2021-12-24T08:40:38.680Z"
   },
   {
    "duration": -3067,
    "start_time": "2021-12-24T08:40:38.698Z"
   },
   {
    "duration": -3084,
    "start_time": "2021-12-24T08:40:38.716Z"
   },
   {
    "duration": -3098,
    "start_time": "2021-12-24T08:40:38.731Z"
   },
   {
    "duration": -3110,
    "start_time": "2021-12-24T08:40:38.745Z"
   },
   {
    "duration": -3149,
    "start_time": "2021-12-24T08:40:38.785Z"
   },
   {
    "duration": -3164,
    "start_time": "2021-12-24T08:40:38.801Z"
   },
   {
    "duration": -3178,
    "start_time": "2021-12-24T08:40:38.817Z"
   },
   {
    "duration": -3191,
    "start_time": "2021-12-24T08:40:38.832Z"
   },
   {
    "duration": -3205,
    "start_time": "2021-12-24T08:40:38.847Z"
   },
   {
    "duration": -3219,
    "start_time": "2021-12-24T08:40:38.862Z"
   },
   {
    "duration": -3232,
    "start_time": "2021-12-24T08:40:38.877Z"
   },
   {
    "duration": -3268,
    "start_time": "2021-12-24T08:40:38.914Z"
   },
   {
    "duration": -3283,
    "start_time": "2021-12-24T08:40:38.930Z"
   },
   {
    "duration": -3294,
    "start_time": "2021-12-24T08:40:38.943Z"
   },
   {
    "duration": -3309,
    "start_time": "2021-12-24T08:40:38.959Z"
   },
   {
    "duration": -3322,
    "start_time": "2021-12-24T08:40:38.973Z"
   },
   {
    "duration": -3336,
    "start_time": "2021-12-24T08:40:38.989Z"
   },
   {
    "duration": -3347,
    "start_time": "2021-12-24T08:40:39.002Z"
   },
   {
    "duration": -3384,
    "start_time": "2021-12-24T08:40:39.040Z"
   },
   {
    "duration": -3398,
    "start_time": "2021-12-24T08:40:39.055Z"
   },
   {
    "duration": -3412,
    "start_time": "2021-12-24T08:40:39.070Z"
   },
   {
    "duration": -3416,
    "start_time": "2021-12-24T08:40:39.083Z"
   },
   {
    "duration": -3431,
    "start_time": "2021-12-24T08:40:39.099Z"
   },
   {
    "duration": -3443,
    "start_time": "2021-12-24T08:40:39.112Z"
   },
   {
    "duration": -3457,
    "start_time": "2021-12-24T08:40:39.128Z"
   },
   {
    "duration": -3494,
    "start_time": "2021-12-24T08:40:39.166Z"
   },
   {
    "duration": -3509,
    "start_time": "2021-12-24T08:40:39.182Z"
   },
   {
    "duration": -3520,
    "start_time": "2021-12-24T08:40:39.195Z"
   },
   {
    "duration": -3535,
    "start_time": "2021-12-24T08:40:39.211Z"
   },
   {
    "duration": -3548,
    "start_time": "2021-12-24T08:40:39.225Z"
   },
   {
    "duration": -3563,
    "start_time": "2021-12-24T08:40:39.241Z"
   },
   {
    "duration": -3574,
    "start_time": "2021-12-24T08:40:39.254Z"
   },
   {
    "duration": -3612,
    "start_time": "2021-12-24T08:40:39.293Z"
   },
   {
    "duration": -3624,
    "start_time": "2021-12-24T08:40:39.306Z"
   },
   {
    "duration": -3649,
    "start_time": "2021-12-24T08:40:39.332Z"
   },
   {
    "duration": 267,
    "start_time": "2021-12-24T08:41:38.972Z"
   },
   {
    "duration": 289,
    "start_time": "2021-12-24T08:45:38.079Z"
   },
   {
    "duration": 14,
    "start_time": "2021-12-24T08:46:29.771Z"
   },
   {
    "duration": 14,
    "start_time": "2021-12-24T08:46:33.659Z"
   },
   {
    "duration": 15,
    "start_time": "2021-12-24T08:46:37.059Z"
   },
   {
    "duration": 15,
    "start_time": "2021-12-24T08:46:40.487Z"
   },
   {
    "duration": 11,
    "start_time": "2021-12-24T08:46:43.872Z"
   },
   {
    "duration": 5,
    "start_time": "2021-12-24T08:46:49.050Z"
   },
   {
    "duration": 47,
    "start_time": "2021-12-24T08:46:49.064Z"
   },
   {
    "duration": 21,
    "start_time": "2021-12-24T08:46:49.114Z"
   },
   {
    "duration": 38,
    "start_time": "2021-12-24T08:46:49.138Z"
   },
   {
    "duration": 17,
    "start_time": "2021-12-24T08:46:49.180Z"
   },
   {
    "duration": 73,
    "start_time": "2021-12-24T08:46:49.200Z"
   },
   {
    "duration": 11,
    "start_time": "2021-12-24T08:46:49.276Z"
   },
   {
    "duration": 7,
    "start_time": "2021-12-24T08:46:49.291Z"
   },
   {
    "duration": 10,
    "start_time": "2021-12-24T08:46:49.301Z"
   },
   {
    "duration": 68,
    "start_time": "2021-12-24T08:46:49.313Z"
   },
   {
    "duration": 27,
    "start_time": "2021-12-24T08:46:49.384Z"
   },
   {
    "duration": 4,
    "start_time": "2021-12-24T08:46:49.413Z"
   },
   {
    "duration": 49,
    "start_time": "2021-12-24T08:46:49.420Z"
   },
   {
    "duration": 11,
    "start_time": "2021-12-24T08:46:49.472Z"
   },
   {
    "duration": 20,
    "start_time": "2021-12-24T08:46:49.485Z"
   },
   {
    "duration": 18,
    "start_time": "2021-12-24T08:46:49.508Z"
   },
   {
    "duration": 44,
    "start_time": "2021-12-24T08:46:49.528Z"
   },
   {
    "duration": 7,
    "start_time": "2021-12-24T08:46:49.576Z"
   },
   {
    "duration": 7,
    "start_time": "2021-12-24T08:46:49.590Z"
   },
   {
    "duration": 14,
    "start_time": "2021-12-24T08:46:49.601Z"
   },
   {
    "duration": 70,
    "start_time": "2021-12-24T08:46:49.617Z"
   },
   {
    "duration": 19,
    "start_time": "2021-12-24T08:46:49.689Z"
   },
   {
    "duration": 24,
    "start_time": "2021-12-24T08:46:49.711Z"
   },
   {
    "duration": 7,
    "start_time": "2021-12-24T08:46:49.768Z"
   },
   {
    "duration": 10,
    "start_time": "2021-12-24T08:46:49.779Z"
   },
   {
    "duration": 11,
    "start_time": "2021-12-24T08:46:49.792Z"
   },
   {
    "duration": 6,
    "start_time": "2021-12-24T08:46:49.805Z"
   },
   {
    "duration": 54,
    "start_time": "2021-12-24T08:46:49.813Z"
   },
   {
    "duration": 10,
    "start_time": "2021-12-24T08:46:49.870Z"
   },
   {
    "duration": 914,
    "start_time": "2021-12-24T08:46:49.883Z"
   },
   {
    "duration": 23,
    "start_time": "2021-12-24T08:46:50.800Z"
   },
   {
    "duration": 430,
    "start_time": "2021-12-24T08:46:50.826Z"
   },
   {
    "duration": 29,
    "start_time": "2021-12-24T08:46:51.259Z"
   },
   {
    "duration": 6,
    "start_time": "2021-12-24T08:46:51.290Z"
   },
   {
    "duration": 10,
    "start_time": "2021-12-24T08:46:51.299Z"
   },
   {
    "duration": 130,
    "start_time": "2021-12-24T08:46:51.311Z"
   },
   {
    "duration": 33,
    "start_time": "2021-12-24T08:46:51.443Z"
   },
   {
    "duration": 6,
    "start_time": "2021-12-24T08:46:51.479Z"
   },
   {
    "duration": 21,
    "start_time": "2021-12-24T08:46:51.491Z"
   },
   {
    "duration": 23,
    "start_time": "2021-12-24T08:46:51.516Z"
   },
   {
    "duration": 21,
    "start_time": "2021-12-24T08:46:51.568Z"
   },
   {
    "duration": 30,
    "start_time": "2021-12-24T08:46:51.592Z"
   },
   {
    "duration": 45,
    "start_time": "2021-12-24T08:46:51.625Z"
   },
   {
    "duration": 16,
    "start_time": "2021-12-24T08:46:51.673Z"
   },
   {
    "duration": 15,
    "start_time": "2021-12-24T08:46:51.692Z"
   },
   {
    "duration": 73,
    "start_time": "2021-12-24T08:46:51.711Z"
   },
   {
    "duration": 1169,
    "start_time": "2021-12-24T08:46:51.787Z"
   },
   {
    "duration": 269,
    "start_time": "2021-12-24T08:46:52.959Z"
   },
   {
    "duration": -4823,
    "start_time": "2021-12-24T08:46:58.055Z"
   },
   {
    "duration": -4837,
    "start_time": "2021-12-24T08:46:58.071Z"
   },
   {
    "duration": -4851,
    "start_time": "2021-12-24T08:46:58.087Z"
   },
   {
    "duration": -4862,
    "start_time": "2021-12-24T08:46:58.100Z"
   },
   {
    "duration": -4935,
    "start_time": "2021-12-24T08:46:58.175Z"
   },
   {
    "duration": -4949,
    "start_time": "2021-12-24T08:46:58.191Z"
   },
   {
    "duration": -4964,
    "start_time": "2021-12-24T08:46:58.208Z"
   },
   {
    "duration": -4976,
    "start_time": "2021-12-24T08:46:58.222Z"
   },
   {
    "duration": -4989,
    "start_time": "2021-12-24T08:46:58.238Z"
   },
   {
    "duration": -5001,
    "start_time": "2021-12-24T08:46:58.252Z"
   },
   {
    "duration": -5014,
    "start_time": "2021-12-24T08:46:58.267Z"
   },
   {
    "duration": -5052,
    "start_time": "2021-12-24T08:46:58.307Z"
   },
   {
    "duration": -5078,
    "start_time": "2021-12-24T08:46:58.335Z"
   },
   {
    "duration": -5091,
    "start_time": "2021-12-24T08:46:58.350Z"
   },
   {
    "duration": -5105,
    "start_time": "2021-12-24T08:46:58.366Z"
   },
   {
    "duration": -5116,
    "start_time": "2021-12-24T08:46:58.379Z"
   },
   {
    "duration": -5131,
    "start_time": "2021-12-24T08:46:58.396Z"
   },
   {
    "duration": -5163,
    "start_time": "2021-12-24T08:46:58.431Z"
   },
   {
    "duration": -5178,
    "start_time": "2021-12-24T08:46:58.448Z"
   },
   {
    "duration": -5190,
    "start_time": "2021-12-24T08:46:58.462Z"
   },
   {
    "duration": -5203,
    "start_time": "2021-12-24T08:46:58.477Z"
   },
   {
    "duration": -5215,
    "start_time": "2021-12-24T08:46:58.491Z"
   },
   {
    "duration": -5229,
    "start_time": "2021-12-24T08:46:58.507Z"
   },
   {
    "duration": -5241,
    "start_time": "2021-12-24T08:46:58.521Z"
   },
   {
    "duration": -5277,
    "start_time": "2021-12-24T08:46:58.559Z"
   },
   {
    "duration": -5288,
    "start_time": "2021-12-24T08:46:58.572Z"
   },
   {
    "duration": -5303,
    "start_time": "2021-12-24T08:46:58.590Z"
   },
   {
    "duration": -5315,
    "start_time": "2021-12-24T08:46:58.604Z"
   },
   {
    "duration": -5329,
    "start_time": "2021-12-24T08:46:58.620Z"
   },
   {
    "duration": -5340,
    "start_time": "2021-12-24T08:46:58.633Z"
   },
   {
    "duration": -5353,
    "start_time": "2021-12-24T08:46:58.649Z"
   },
   {
    "duration": -5387,
    "start_time": "2021-12-24T08:46:58.685Z"
   },
   {
    "duration": -5400,
    "start_time": "2021-12-24T08:46:58.701Z"
   },
   {
    "duration": -5411,
    "start_time": "2021-12-24T08:46:58.714Z"
   },
   {
    "duration": -5425,
    "start_time": "2021-12-24T08:46:58.730Z"
   },
   {
    "duration": -5437,
    "start_time": "2021-12-24T08:46:58.744Z"
   },
   {
    "duration": -5451,
    "start_time": "2021-12-24T08:46:58.760Z"
   },
   {
    "duration": -5405,
    "start_time": "2021-12-24T08:46:58.773Z"
   },
   {
    "duration": -5441,
    "start_time": "2021-12-24T08:46:58.811Z"
   },
   {
    "duration": -5453,
    "start_time": "2021-12-24T08:46:58.825Z"
   },
   {
    "duration": -5467,
    "start_time": "2021-12-24T08:46:58.840Z"
   },
   {
    "duration": -5479,
    "start_time": "2021-12-24T08:46:58.855Z"
   },
   {
    "duration": -5492,
    "start_time": "2021-12-24T08:46:58.870Z"
   },
   {
    "duration": 290,
    "start_time": "2021-12-24T08:50:12.978Z"
   },
   {
    "duration": 7,
    "start_time": "2021-12-24T08:50:47.740Z"
   },
   {
    "duration": 13,
    "start_time": "2021-12-24T08:50:51.725Z"
   },
   {
    "duration": 12,
    "start_time": "2021-12-24T08:51:01.750Z"
   },
   {
    "duration": 1747,
    "start_time": "2021-12-24T08:51:05.743Z"
   },
   {
    "duration": 261,
    "start_time": "2021-12-24T08:51:18.122Z"
   },
   {
    "duration": 7,
    "start_time": "2021-12-24T08:52:40.437Z"
   },
   {
    "duration": 14,
    "start_time": "2021-12-24T08:52:41.968Z"
   },
   {
    "duration": 11,
    "start_time": "2021-12-24T08:52:44.544Z"
   },
   {
    "duration": 1460,
    "start_time": "2021-12-24T08:52:48.128Z"
   },
   {
    "duration": 7,
    "start_time": "2021-12-24T08:53:25.128Z"
   },
   {
    "duration": 14,
    "start_time": "2021-12-24T08:53:28.596Z"
   },
   {
    "duration": 11,
    "start_time": "2021-12-24T08:53:33.385Z"
   },
   {
    "duration": 1516,
    "start_time": "2021-12-24T08:53:39.161Z"
   },
   {
    "duration": 7,
    "start_time": "2021-12-24T08:54:01.453Z"
   },
   {
    "duration": 14,
    "start_time": "2021-12-24T08:54:03.831Z"
   },
   {
    "duration": 12,
    "start_time": "2021-12-24T08:54:06.707Z"
   },
   {
    "duration": 1603,
    "start_time": "2021-12-24T08:54:18.379Z"
   },
   {
    "duration": 272,
    "start_time": "2021-12-24T08:54:26.508Z"
   },
   {
    "duration": 7,
    "start_time": "2021-12-24T08:54:47.639Z"
   },
   {
    "duration": 11,
    "start_time": "2021-12-24T08:54:49.340Z"
   },
   {
    "duration": 10,
    "start_time": "2021-12-24T08:54:53.126Z"
   },
   {
    "duration": 7,
    "start_time": "2021-12-24T08:55:40.008Z"
   },
   {
    "duration": 14,
    "start_time": "2021-12-24T08:55:42.258Z"
   },
   {
    "duration": 12,
    "start_time": "2021-12-24T08:55:45.303Z"
   },
   {
    "duration": 1435,
    "start_time": "2021-12-24T08:55:48.097Z"
   },
   {
    "duration": 22,
    "start_time": "2021-12-24T08:55:56.553Z"
   },
   {
    "duration": 21,
    "start_time": "2021-12-24T08:55:59.760Z"
   },
   {
    "duration": 21,
    "start_time": "2021-12-24T08:56:02.117Z"
   },
   {
    "duration": 23,
    "start_time": "2021-12-24T08:56:10.463Z"
   },
   {
    "duration": 16,
    "start_time": "2021-12-24T08:56:12.343Z"
   },
   {
    "duration": 14,
    "start_time": "2021-12-24T08:56:14.943Z"
   },
   {
    "duration": 18,
    "start_time": "2021-12-24T08:56:17.653Z"
   },
   {
    "duration": 11,
    "start_time": "2021-12-24T08:56:19.437Z"
   },
   {
    "duration": 17,
    "start_time": "2021-12-24T08:56:21.985Z"
   },
   {
    "duration": 11,
    "start_time": "2021-12-24T08:56:23.898Z"
   },
   {
    "duration": 14,
    "start_time": "2021-12-24T08:56:26.286Z"
   },
   {
    "duration": 11,
    "start_time": "2021-12-24T08:56:27.935Z"
   },
   {
    "duration": 17,
    "start_time": "2021-12-24T08:56:32.976Z"
   },
   {
    "duration": 14,
    "start_time": "2021-12-24T08:56:34.669Z"
   },
   {
    "duration": 15,
    "start_time": "2021-12-24T08:56:36.185Z"
   },
   {
    "duration": 10,
    "start_time": "2021-12-24T08:56:38.307Z"
   },
   {
    "duration": 16,
    "start_time": "2021-12-24T08:56:40.353Z"
   },
   {
    "duration": 10,
    "start_time": "2021-12-24T08:56:41.481Z"
   },
   {
    "duration": 16,
    "start_time": "2021-12-24T08:56:44.975Z"
   },
   {
    "duration": 9,
    "start_time": "2021-12-24T08:56:46.412Z"
   },
   {
    "duration": 15,
    "start_time": "2021-12-24T08:56:48.638Z"
   },
   {
    "duration": 9,
    "start_time": "2021-12-24T08:56:50.127Z"
   },
   {
    "duration": 15,
    "start_time": "2021-12-24T08:56:52.738Z"
   },
   {
    "duration": 9,
    "start_time": "2021-12-24T08:56:54.011Z"
   },
   {
    "duration": 9,
    "start_time": "2021-12-24T08:57:06.361Z"
   },
   {
    "duration": 8,
    "start_time": "2021-12-24T08:57:07.726Z"
   },
   {
    "duration": 8,
    "start_time": "2021-12-24T08:57:11.620Z"
   },
   {
    "duration": 14,
    "start_time": "2021-12-24T08:57:16.252Z"
   },
   {
    "duration": 8,
    "start_time": "2021-12-24T08:57:18.524Z"
   },
   {
    "duration": 1607,
    "start_time": "2021-12-24T08:57:38.144Z"
   },
   {
    "duration": 58,
    "start_time": "2021-12-24T08:57:39.754Z"
   },
   {
    "duration": 27,
    "start_time": "2021-12-24T08:57:39.815Z"
   },
   {
    "duration": 44,
    "start_time": "2021-12-24T08:57:39.844Z"
   },
   {
    "duration": 17,
    "start_time": "2021-12-24T08:57:39.891Z"
   },
   {
    "duration": 84,
    "start_time": "2021-12-24T08:57:39.911Z"
   },
   {
    "duration": 11,
    "start_time": "2021-12-24T08:57:39.997Z"
   },
   {
    "duration": 13,
    "start_time": "2021-12-24T08:57:40.012Z"
   },
   {
    "duration": 12,
    "start_time": "2021-12-24T08:57:40.028Z"
   },
   {
    "duration": 30,
    "start_time": "2021-12-24T08:57:40.068Z"
   },
   {
    "duration": 28,
    "start_time": "2021-12-24T08:57:40.100Z"
   },
   {
    "duration": 37,
    "start_time": "2021-12-24T08:57:40.131Z"
   },
   {
    "duration": 16,
    "start_time": "2021-12-24T08:57:40.171Z"
   },
   {
    "duration": 8,
    "start_time": "2021-12-24T08:57:40.190Z"
   },
   {
    "duration": 20,
    "start_time": "2021-12-24T08:57:40.200Z"
   },
   {
    "duration": 52,
    "start_time": "2021-12-24T08:57:40.222Z"
   },
   {
    "duration": 7,
    "start_time": "2021-12-24T08:57:40.279Z"
   },
   {
    "duration": 9,
    "start_time": "2021-12-24T08:57:40.288Z"
   },
   {
    "duration": 14,
    "start_time": "2021-12-24T08:57:40.300Z"
   },
   {
    "duration": 11,
    "start_time": "2021-12-24T08:57:40.317Z"
   },
   {
    "duration": 61,
    "start_time": "2021-12-24T08:57:40.330Z"
   },
   {
    "duration": 19,
    "start_time": "2021-12-24T08:57:40.393Z"
   },
   {
    "duration": 13,
    "start_time": "2021-12-24T08:57:40.418Z"
   },
   {
    "duration": 38,
    "start_time": "2021-12-24T08:57:40.436Z"
   },
   {
    "duration": 12,
    "start_time": "2021-12-24T08:57:40.477Z"
   },
   {
    "duration": 8,
    "start_time": "2021-12-24T08:57:40.492Z"
   },
   {
    "duration": 10,
    "start_time": "2021-12-24T08:57:40.502Z"
   },
   {
    "duration": 9,
    "start_time": "2021-12-24T08:57:40.515Z"
   },
   {
    "duration": 43,
    "start_time": "2021-12-24T08:57:40.526Z"
   },
   {
    "duration": 922,
    "start_time": "2021-12-24T08:57:40.572Z"
   },
   {
    "duration": 22,
    "start_time": "2021-12-24T08:57:41.496Z"
   },
   {
    "duration": 433,
    "start_time": "2021-12-24T08:57:41.520Z"
   },
   {
    "duration": 36,
    "start_time": "2021-12-24T08:57:41.956Z"
   },
   {
    "duration": 5,
    "start_time": "2021-12-24T08:57:41.995Z"
   },
   {
    "duration": 8,
    "start_time": "2021-12-24T08:57:42.003Z"
   },
   {
    "duration": 136,
    "start_time": "2021-12-24T08:57:42.014Z"
   },
   {
    "duration": 34,
    "start_time": "2021-12-24T08:57:42.152Z"
   },
   {
    "duration": 12,
    "start_time": "2021-12-24T08:57:42.189Z"
   },
   {
    "duration": 14,
    "start_time": "2021-12-24T08:57:42.203Z"
   },
   {
    "duration": 51,
    "start_time": "2021-12-24T08:57:42.220Z"
   },
   {
    "duration": 22,
    "start_time": "2021-12-24T08:57:42.277Z"
   },
   {
    "duration": 15,
    "start_time": "2021-12-24T08:57:42.302Z"
   },
   {
    "duration": 56,
    "start_time": "2021-12-24T08:57:42.319Z"
   },
   {
    "duration": 17,
    "start_time": "2021-12-24T08:57:42.378Z"
   },
   {
    "duration": 13,
    "start_time": "2021-12-24T08:57:42.397Z"
   },
   {
    "duration": 77,
    "start_time": "2021-12-24T08:57:42.412Z"
   },
   {
    "duration": 1203,
    "start_time": "2021-12-24T08:57:42.491Z"
   },
   {
    "duration": 7,
    "start_time": "2021-12-24T08:57:43.697Z"
   },
   {
    "duration": 14,
    "start_time": "2021-12-24T08:57:43.707Z"
   },
   {
    "duration": 13,
    "start_time": "2021-12-24T08:57:43.724Z"
   },
   {
    "duration": 1573,
    "start_time": "2021-12-24T08:57:43.770Z"
   },
   {
    "duration": 8,
    "start_time": "2021-12-24T08:57:45.345Z"
   },
   {
    "duration": 30,
    "start_time": "2021-12-24T08:57:45.355Z"
   },
   {
    "duration": 13,
    "start_time": "2021-12-24T08:57:45.388Z"
   },
   {
    "duration": 1649,
    "start_time": "2021-12-24T08:57:45.403Z"
   },
   {
    "duration": 16,
    "start_time": "2021-12-24T08:57:47.055Z"
   },
   {
    "duration": 20,
    "start_time": "2021-12-24T08:57:47.074Z"
   },
   {
    "duration": 13,
    "start_time": "2021-12-24T08:57:47.096Z"
   },
   {
    "duration": 1588,
    "start_time": "2021-12-24T08:57:47.112Z"
   },
   {
    "duration": 7,
    "start_time": "2021-12-24T08:57:48.702Z"
   },
   {
    "duration": 16,
    "start_time": "2021-12-24T08:57:48.711Z"
   },
   {
    "duration": 41,
    "start_time": "2021-12-24T08:57:48.730Z"
   },
   {
    "duration": 1559,
    "start_time": "2021-12-24T08:57:48.774Z"
   },
   {
    "duration": 7,
    "start_time": "2021-12-24T08:57:50.335Z"
   },
   {
    "duration": 38,
    "start_time": "2021-12-24T08:57:50.345Z"
   },
   {
    "duration": 14,
    "start_time": "2021-12-24T08:57:50.386Z"
   },
   {
    "duration": 1608,
    "start_time": "2021-12-24T08:57:50.402Z"
   },
   {
    "duration": 22,
    "start_time": "2021-12-24T08:57:52.018Z"
   },
   {
    "duration": 48,
    "start_time": "2021-12-24T08:57:52.044Z"
   },
   {
    "duration": 25,
    "start_time": "2021-12-24T08:57:52.094Z"
   },
   {
    "duration": 50,
    "start_time": "2021-12-24T08:57:52.122Z"
   },
   {
    "duration": 15,
    "start_time": "2021-12-24T08:57:52.176Z"
   },
   {
    "duration": 14,
    "start_time": "2021-12-24T08:57:52.193Z"
   },
   {
    "duration": 16,
    "start_time": "2021-12-24T08:57:52.210Z"
   },
   {
    "duration": 47,
    "start_time": "2021-12-24T08:57:52.228Z"
   },
   {
    "duration": 18,
    "start_time": "2021-12-24T08:57:52.278Z"
   },
   {
    "duration": 16,
    "start_time": "2021-12-24T08:57:52.299Z"
   },
   {
    "duration": 17,
    "start_time": "2021-12-24T08:57:52.318Z"
   },
   {
    "duration": 39,
    "start_time": "2021-12-24T08:57:52.337Z"
   },
   {
    "duration": 20,
    "start_time": "2021-12-24T08:57:52.380Z"
   },
   {
    "duration": 12,
    "start_time": "2021-12-24T08:57:52.402Z"
   },
   {
    "duration": 23,
    "start_time": "2021-12-24T08:57:52.416Z"
   },
   {
    "duration": 36,
    "start_time": "2021-12-24T08:57:52.441Z"
   },
   {
    "duration": 16,
    "start_time": "2021-12-24T08:57:52.481Z"
   },
   {
    "duration": 13,
    "start_time": "2021-12-24T08:57:52.500Z"
   },
   {
    "duration": 52,
    "start_time": "2021-12-24T08:57:52.516Z"
   },
   {
    "duration": 13,
    "start_time": "2021-12-24T08:57:52.571Z"
   },
   {
    "duration": 15,
    "start_time": "2021-12-24T08:57:52.587Z"
   },
   {
    "duration": 12,
    "start_time": "2021-12-24T08:57:52.605Z"
   },
   {
    "duration": 52,
    "start_time": "2021-12-24T08:57:52.620Z"
   },
   {
    "duration": 14,
    "start_time": "2021-12-24T08:57:52.676Z"
   },
   {
    "duration": 9,
    "start_time": "2021-12-24T08:57:52.693Z"
   },
   {
    "duration": 12,
    "start_time": "2021-12-24T08:57:52.704Z"
   },
   {
    "duration": 8,
    "start_time": "2021-12-24T08:57:52.719Z"
   },
   {
    "duration": 53,
    "start_time": "2021-12-24T08:57:52.730Z"
   },
   {
    "duration": 9,
    "start_time": "2021-12-24T08:57:52.786Z"
   }
  ],
  "kernelspec": {
   "display_name": "Python 3",
   "language": "python",
   "name": "python3"
  },
  "language_info": {
   "codemirror_mode": {
    "name": "ipython",
    "version": 3
   },
   "file_extension": ".py",
   "mimetype": "text/x-python",
   "name": "python",
   "nbconvert_exporter": "python",
   "pygments_lexer": "ipython3",
   "version": "3.7.8"
  },
  "toc": {
   "base_numbering": 1,
   "nav_menu": {},
   "number_sections": true,
   "sideBar": true,
   "skip_h1_title": true,
   "title_cell": "Table of Contents",
   "title_sidebar": "Contents",
   "toc_cell": false,
   "toc_position": {
    "height": "calc(100% - 180px)",
    "left": "10px",
    "top": "150px",
    "width": "241.81px"
   },
   "toc_section_display": true,
   "toc_window_display": false
  }
 },
 "nbformat": 4,
 "nbformat_minor": 2
}
